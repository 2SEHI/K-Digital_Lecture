{
  "nbformat": 4,
  "nbformat_minor": 0,
  "metadata": {
    "colab": {
      "name": "keras(로이터데이터를 이용한 다중분류).ipynb",
      "provenance": [],
      "collapsed_sections": [],
      "toc_visible": true,
      "authorship_tag": "ABX9TyPLpHYUdrhwo/v0SpEj1FHA",
      "include_colab_link": true
    },
    "kernelspec": {
      "name": "python3",
      "display_name": "Python 3"
    },
    "language_info": {
      "name": "python"
    }
  },
  "cells": [
    {
      "cell_type": "markdown",
      "metadata": {
        "id": "view-in-github",
        "colab_type": "text"
      },
      "source": [
        "<a href=\"https://colab.research.google.com/github/2SEHI/K-Digital_Lecture/blob/main/0822_keras%EB%B3%B5%EC%8A%B5/keras(%EB%A1%9C%EC%9D%B4%ED%84%B0%EB%8D%B0%EC%9D%B4%ED%84%B0%EB%A5%BC_%EC%9D%B4%EC%9A%A9%ED%95%9C_%EB%8B%A4%EC%A4%91%EB%B6%84%EB%A5%98).ipynb\" target=\"_parent\"><img src=\"https://colab.research.google.com/assets/colab-badge.svg\" alt=\"Open In Colab\"/></a>"
      ]
    },
    {
      "cell_type": "markdown",
      "metadata": {
        "id": "emZxGvCCYmj5"
      },
      "source": [
        "# 로이터 데이터셋을 이용한 다중분류\n"
      ]
    },
    {
      "cell_type": "code",
      "metadata": {
        "id": "VpDIVjpJi0Y2"
      },
      "source": [
        "!sudo apt-get install -y fonts-nanum\n",
        "!sudo fc-cache -fv\n",
        "!rm ~/.cache/matplotlib -rf"
      ],
      "execution_count": null,
      "outputs": []
    },
    {
      "cell_type": "code",
      "metadata": {
        "id": "4BOWQx0EcPFM"
      },
      "source": [
        "# 공통 모듈 임포트\n",
        "import numpy as np\n",
        "import pandas as pd\n",
        "import os\n",
        "\n",
        "# 깔끔한 그래프 출력을 위해\n",
        "%matplotlib inline\n",
        "import matplotlib as mpl\n",
        "import matplotlib.pyplot as plt\n",
        "# import seaborn as sns\n",
        "# 한글 폰트 사용을 위해서 세팅\n",
        "from matplotlib import font_manager\n",
        "\n",
        "mpl.rc('axes', labelsize=14)\n",
        "mpl.rc('xtick', labelsize=12)\n",
        "mpl.rc('ytick', labelsize=12)\n",
        "mpl.rcParams['axes.unicode_minus'] = False\n",
        "\n",
        "## colab용 글씨체 설정\n",
        "plt.rc('font', family='NanumBarunGothic') \n",
        "\n",
        "import warnings\n",
        "warnings.filterwarnings(action='ignore')\n",
        "\n",
        "np.random.seed(42)"
      ],
      "execution_count": 1,
      "outputs": []
    },
    {
      "cell_type": "markdown",
      "metadata": {
        "id": "HSACtwwrY6-x"
      },
      "source": [
        "## 1.다중분류\n"
      ]
    },
    {
      "cell_type": "markdown",
      "metadata": {
        "id": "18V_4FxFZAVR"
      },
      "source": [
        "### 1) 단일 레이블 다중 분류\n",
        "- 각 데이터 포인트가 정확히 하나의 범주로 분류되는 것"
      ]
    },
    {
      "cell_type": "markdown",
      "metadata": {
        "id": "JqbtjXyIZC0T"
      },
      "source": [
        "### 2) 다중 레이블 다중 분류\n",
        "- 각 데이터 포인트가 여러 개의 범주에 속하는 것"
      ]
    },
    {
      "cell_type": "markdown",
      "metadata": {
        "id": "li43zgLGZGFg"
      },
      "source": [
        "## 2.로이터 데이터셋\n",
        "- 46개의 토픽에 대한 뉴스 기사 데이터"
      ]
    },
    {
      "cell_type": "markdown",
      "metadata": {
        "id": "vKCZVL05aPLW"
      },
      "source": [
        "### 1) 데이터 가져오기"
      ]
    },
    {
      "cell_type": "code",
      "metadata": {
        "id": "mticKZyFZJv6"
      },
      "source": [
        "from keras.datasets import reuters\n",
        "(train_data, train_labels), (test_data, test_labels) = reuters.load_data(num_words=10000)"
      ],
      "execution_count": 2,
      "outputs": []
    },
    {
      "cell_type": "markdown",
      "metadata": {
        "id": "o6giwJKBaRkP"
      },
      "source": [
        "### 2) 데이터 크기확인"
      ]
    },
    {
      "cell_type": "code",
      "metadata": {
        "colab": {
          "base_uri": "https://localhost:8080/"
        },
        "id": "9_ztUMRpZ-xA",
        "outputId": "5d487e36-962d-4d85-9e12-f1120d12c02e"
      },
      "source": [
        "train_data.shape"
      ],
      "execution_count": 3,
      "outputs": [
        {
          "output_type": "execute_result",
          "data": {
            "text/plain": [
              "(8982,)"
            ]
          },
          "metadata": {},
          "execution_count": 3
        }
      ]
    },
    {
      "cell_type": "code",
      "metadata": {
        "colab": {
          "base_uri": "https://localhost:8080/"
        },
        "id": "WDnBipEvaCJD",
        "outputId": "e9599550-adc0-405b-9010-00ffa40deb8b"
      },
      "source": [
        "train_data[:5]"
      ],
      "execution_count": 4,
      "outputs": [
        {
          "output_type": "execute_result",
          "data": {
            "text/plain": [
              "array([list([1, 2, 2, 8, 43, 10, 447, 5, 25, 207, 270, 5, 3095, 111, 16, 369, 186, 90, 67, 7, 89, 5, 19, 102, 6, 19, 124, 15, 90, 67, 84, 22, 482, 26, 7, 48, 4, 49, 8, 864, 39, 209, 154, 6, 151, 6, 83, 11, 15, 22, 155, 11, 15, 7, 48, 9, 4579, 1005, 504, 6, 258, 6, 272, 11, 15, 22, 134, 44, 11, 15, 16, 8, 197, 1245, 90, 67, 52, 29, 209, 30, 32, 132, 6, 109, 15, 17, 12]),\n",
              "       list([1, 3267, 699, 3434, 2295, 56, 2, 7511, 9, 56, 3906, 1073, 81, 5, 1198, 57, 366, 737, 132, 20, 4093, 7, 2, 49, 2295, 2, 1037, 3267, 699, 3434, 8, 7, 10, 241, 16, 855, 129, 231, 783, 5, 4, 587, 2295, 2, 2, 775, 7, 48, 34, 191, 44, 35, 1795, 505, 17, 12]),\n",
              "       list([1, 53, 12, 284, 15, 14, 272, 26, 53, 959, 32, 818, 15, 14, 272, 26, 39, 684, 70, 11, 14, 12, 3886, 18, 180, 183, 187, 70, 11, 14, 102, 32, 11, 29, 53, 44, 704, 15, 14, 19, 758, 15, 53, 959, 47, 1013, 15, 14, 19, 132, 15, 39, 965, 32, 11, 14, 147, 72, 11, 180, 183, 187, 44, 11, 14, 102, 19, 11, 123, 186, 90, 67, 960, 4, 78, 13, 68, 467, 511, 110, 59, 89, 90, 67, 1390, 55, 2678, 92, 617, 80, 1274, 46, 905, 220, 13, 4, 346, 48, 235, 629, 5, 211, 5, 1118, 7, 2, 81, 5, 187, 11, 15, 9, 1709, 201, 5, 47, 3615, 18, 478, 4514, 5, 1118, 7, 232, 2, 71, 5, 160, 63, 11, 9, 2, 81, 5, 102, 59, 11, 17, 12]),\n",
              "       list([1, 4, 686, 867, 558, 4, 37, 38, 309, 2276, 465, 893, 3541, 114, 2902, 69, 312, 35, 15, 7, 335, 1679, 21, 25, 3675, 2, 3498, 58, 69, 68, 493, 5, 25, 465, 377, 2430, 4, 293, 1172, 739, 4379, 8, 7, 1510, 1131, 13, 899, 6, 4, 990, 309, 415, 4519, 6920, 645, 3916, 791, 5, 4379, 75, 8, 24, 10, 1311, 4677, 5, 344, 756, 7, 2, 231, 9691, 2603, 1413, 43, 509, 43, 68, 327, 5, 2, 3498, 297, 638, 73, 430, 22, 4, 580, 7, 48, 41, 30, 2, 136, 4, 344, 298, 4, 580, 40, 344, 5078, 2, 291, 1488, 10, 3148, 5, 231, 6250, 1308, 5, 8250, 7043, 21, 2, 1622, 990, 309, 415, 265, 5992, 8945, 1149, 9118, 2, 4, 344, 9691, 756, 3729, 2, 4667, 2, 3249, 28, 10, 2190, 24, 77, 41, 682, 10, 4851, 2048, 7, 4, 5540, 2926, 1598, 22, 370, 5954, 7541, 5, 54, 5232, 1685, 2916, 10, 1571, 946, 60, 51, 3249, 5249, 4, 73, 2135, 669, 4, 580, 64, 10, 4280, 6, 2, 25, 482, 35, 150, 377, 2430, 7, 10, 2, 836, 2, 4730, 6920, 5, 4379, 2, 2, 3541, 8, 4, 344, 291, 2, 298, 4228, 6, 2223, 24, 2, 41, 343, 430, 210, 6, 3498, 297, 64, 10, 2281, 455, 5, 7003, 125, 222, 17, 12]),\n",
              "       list([1, 8295, 111, 8, 25, 166, 40, 638, 10, 436, 22, 265, 9, 621, 575, 1080, 4742, 1149, 2, 6, 438, 8295, 13, 102, 388, 15, 90, 67, 7, 197, 8295, 8, 4, 270, 416, 23, 527, 6, 2, 4891, 4, 1055, 742, 16, 8, 36, 1480, 6, 2124, 100, 543, 5, 645, 362, 6, 2912, 4, 49, 8, 2, 976, 124, 20, 5, 8295, 80, 9, 100, 362, 543, 395, 61, 44, 20, 8295, 8, 16, 40, 1276, 42, 1436, 166, 415, 6, 888, 4, 116, 9, 40, 3089, 4, 303, 163, 16, 64, 772, 13, 94, 156, 17, 12])],\n",
              "      dtype=object)"
            ]
          },
          "metadata": {},
          "execution_count": 4
        }
      ]
    },
    {
      "cell_type": "markdown",
      "metadata": {
        "id": "uikkqxIpaDH8"
      },
      "source": [
        "### 3) 단어 인덱스를 영어 단어로 변환하기"
      ]
    },
    {
      "cell_type": "code",
      "metadata": {
        "colab": {
          "base_uri": "https://localhost:8080/",
          "height": 71
        },
        "id": "Xbu_F86WaXGh",
        "outputId": "25013061-68f7-42f5-d726-e36e4a474a84"
      },
      "source": [
        "word_index = reuters.get_word_index()\n",
        "reverse_word_index = dict([(value, key) for (key, value) in word_index.items()])\n",
        "decoded_newswire = ' '.join([reverse_word_index.get(i-3, '?') for i in train_data[0]])\n",
        "decoded_newswire"
      ],
      "execution_count": 5,
      "outputs": [
        {
          "output_type": "execute_result",
          "data": {
            "application/vnd.google.colaboratory.intrinsic+json": {
              "type": "string"
            },
            "text/plain": [
              "'? ? ? said as a result of its december acquisition of space co it expects earnings per share in 1987 of 1 15 to 1 30 dlrs per share up from 70 cts in 1986 the company said pretax net should rise to nine to 10 mln dlrs from six mln dlrs in 1986 and rental operation revenues to 19 to 22 mln dlrs from 12 5 mln dlrs it said cash flow per share this year should be 2 50 to three dlrs reuter 3'"
            ]
          },
          "metadata": {},
          "execution_count": 5
        }
      ]
    },
    {
      "cell_type": "markdown",
      "metadata": {
        "id": "zyI70fs9bX_a"
      },
      "source": [
        "### 4) 레이블 : 토픽인덱스"
      ]
    },
    {
      "cell_type": "code",
      "metadata": {
        "colab": {
          "base_uri": "https://localhost:8080/"
        },
        "id": "es2_YiL6a9vY",
        "outputId": "39fa24d1-8ded-4376-af51-b199a789dc39"
      },
      "source": [
        "train_labels[0]"
      ],
      "execution_count": 6,
      "outputs": [
        {
          "output_type": "execute_result",
          "data": {
            "text/plain": [
              "3"
            ]
          },
          "metadata": {},
          "execution_count": 6
        }
      ]
    },
    {
      "cell_type": "markdown",
      "metadata": {
        "id": "ILgpA5pRbVqF"
      },
      "source": [
        "## 3.데이터 준비"
      ]
    },
    {
      "cell_type": "markdown",
      "metadata": {
        "id": "LlMM5uzifllT"
      },
      "source": [
        "### 1) 피처 원핫 인코딩"
      ]
    },
    {
      "cell_type": "code",
      "metadata": {
        "id": "g7kE4pzAfkuW"
      },
      "source": [
        "import numpy as np\n",
        "def vectorize_sequences(sequences, dimension=10000):\n",
        "    # print(dimension)\n",
        "    # (8982, 10000) 크기의 행렬 만들기\n",
        "    results = np.zeros((len(sequences), dimension))\n",
        "    # 각 문장마다 단어부분에 1로 변환해주기\n",
        "    for i, sequence in enumerate(sequences):\n",
        "        \n",
        "        # i는 문장\n",
        "        # sequence는 단어 인덱스\n",
        "        results[i, sequence] = 1,\n",
        "    return results\n",
        "\n",
        "X_train = vectorize_sequences(train_data)\n",
        "X_test = vectorize_sequences(test_data)"
      ],
      "execution_count": 7,
      "outputs": []
    },
    {
      "cell_type": "markdown",
      "metadata": {
        "id": "bNUjA0k6bug2"
      },
      "source": [
        "### 1) 직접 원핫인코딩"
      ]
    },
    {
      "cell_type": "code",
      "metadata": {
        "id": "X9TakRH6bw0F"
      },
      "source": [
        "def to_one_hot(labels, dimension=46):\n",
        "    results = np.zeros((len(labels), dimension))\n",
        "    for i, label in enumerate(labels):\n",
        "        results[i, label] = 1.\n",
        "    return results\n",
        "\n",
        "one_hot_train_labels = to_one_hot(train_labels)\n",
        "one_hot_test_labels = to_one_hot(test_labels)"
      ],
      "execution_count": 8,
      "outputs": []
    },
    {
      "cell_type": "markdown",
      "metadata": {
        "id": "wk8H5DG2cZ_9"
      },
      "source": [
        "### 2) keras 내장함수를 이용한 원핫인코딩\n",
        "- train_data와 test_data는 넘파이배열이라서 to_categorical을 이용하지 못합니다."
      ]
    },
    {
      "cell_type": "code",
      "metadata": {
        "id": "1KdWdL-McM_i"
      },
      "source": [
        "from keras.utils.np_utils import to_categorical\n",
        "y_train = to_categorical(train_labels)\n",
        "y_test = to_categorical(test_labels)"
      ],
      "execution_count": 9,
      "outputs": []
    },
    {
      "cell_type": "markdown",
      "metadata": {
        "id": "1hgFxcbScowL"
      },
      "source": [
        "## 4.모델 구성\n",
        "- 출력 클래스의 개수가 46개이므로 출력 공간의 차원도 46개입니다.\n",
        "- 한 층이 분류 문제에 필요한 일부 정보를 누락하면 그 다음 층에서 누락된 정보는 복원할 수 없으므로 입력층과 은닉층의 은닉 유닛을 46보다 크게 잡아야 합니다.\n",
        "- 출력층은 클래스의 개수대로 46개를 지정합니다.\n",
        "- 출력층에 softmax를 지정하였으므로 각 입력 샘플마다 46개의 출력클래스에 대한 확률 포를 출력합니다.\n"
      ]
    },
    {
      "cell_type": "code",
      "metadata": {
        "id": "nlfq12I5dyw6"
      },
      "source": [
        "from keras import models\n",
        "from keras import layers\n",
        "\n",
        "model = models.Sequential()\n",
        "model.add(layers.Dense(64, activation='relu', input_shape=(10000, )))\n",
        "model.add(layers.Dense(64, activation='relu'))\n",
        "model.add(layers.Dense(46, activation='softmax'))"
      ],
      "execution_count": 10,
      "outputs": []
    },
    {
      "cell_type": "markdown",
      "metadata": {
        "id": "iVc8m9X6eddr"
      },
      "source": [
        "## 5.모델 컴파일\n",
        "- 손실함수는 categorical_crossentropy를 지정하였으므로 두 확률 분포사이의 거리를 측정합니다."
      ]
    },
    {
      "cell_type": "code",
      "metadata": {
        "id": "f_RfPEI1efVo"
      },
      "source": [
        "model.compile(optimizer='rmsprop',\n",
        "              loss='categorical_crossentropy',\n",
        "              metrics=['accuracy'])"
      ],
      "execution_count": 11,
      "outputs": []
    },
    {
      "cell_type": "markdown",
      "metadata": {
        "id": "bi9ROKRsfFHd"
      },
      "source": [
        "## 6.훈련 검증"
      ]
    },
    {
      "cell_type": "markdown",
      "metadata": {
        "id": "QJShPHygM8WN"
      },
      "source": [
        "### 1) 검증데이터 준비"
      ]
    },
    {
      "cell_type": "code",
      "metadata": {
        "id": "B-um6u5YexZL"
      },
      "source": [
        "X_val = X_train[:1000]\n",
        "partial_X_train = X_train[1000:]\n",
        "y_val = y_train[:1000]\n",
        "partial_y_train = y_train[1000:]"
      ],
      "execution_count": 12,
      "outputs": []
    },
    {
      "cell_type": "markdown",
      "metadata": {
        "id": "vuq-ALR7gpr9"
      },
      "source": [
        "## 7.모델 훈련"
      ]
    },
    {
      "cell_type": "code",
      "metadata": {
        "id": "P87-2WAvgpoc",
        "colab": {
          "base_uri": "https://localhost:8080/"
        },
        "outputId": "c2d0700d-8d59-4820-8906-9d898ff92a57"
      },
      "source": [
        "history = model.fit(partial_X_train, partial_y_train,\n",
        "          epochs=20,\n",
        "          batch_size=512,\n",
        "          validation_data=(X_val, y_val))"
      ],
      "execution_count": 13,
      "outputs": [
        {
          "output_type": "stream",
          "text": [
            "Epoch 1/20\n",
            "16/16 [==============================] - 2s 58ms/step - loss: 2.5414 - accuracy: 0.5198 - val_loss: 1.6803 - val_accuracy: 0.6320\n",
            "Epoch 2/20\n",
            "16/16 [==============================] - 1s 45ms/step - loss: 1.3974 - accuracy: 0.7114 - val_loss: 1.2693 - val_accuracy: 0.7320\n",
            "Epoch 3/20\n",
            "16/16 [==============================] - 1s 44ms/step - loss: 1.0422 - accuracy: 0.7804 - val_loss: 1.1055 - val_accuracy: 0.7740\n",
            "Epoch 4/20\n",
            "16/16 [==============================] - 1s 45ms/step - loss: 0.8244 - accuracy: 0.8256 - val_loss: 1.0131 - val_accuracy: 0.7830\n",
            "Epoch 5/20\n",
            "16/16 [==============================] - 1s 43ms/step - loss: 0.6522 - accuracy: 0.8661 - val_loss: 0.9550 - val_accuracy: 0.7970\n",
            "Epoch 6/20\n",
            "16/16 [==============================] - 1s 43ms/step - loss: 0.5212 - accuracy: 0.8933 - val_loss: 0.9074 - val_accuracy: 0.8110\n",
            "Epoch 7/20\n",
            "16/16 [==============================] - 1s 43ms/step - loss: 0.4128 - accuracy: 0.9161 - val_loss: 0.8873 - val_accuracy: 0.8160\n",
            "Epoch 8/20\n",
            "16/16 [==============================] - 1s 43ms/step - loss: 0.3382 - accuracy: 0.9300 - val_loss: 0.9105 - val_accuracy: 0.8110\n",
            "Epoch 9/20\n",
            "16/16 [==============================] - 1s 44ms/step - loss: 0.2822 - accuracy: 0.9377 - val_loss: 0.8572 - val_accuracy: 0.8330\n",
            "Epoch 10/20\n",
            "16/16 [==============================] - 1s 43ms/step - loss: 0.2335 - accuracy: 0.9463 - val_loss: 0.9320 - val_accuracy: 0.8080\n",
            "Epoch 11/20\n",
            "16/16 [==============================] - 1s 44ms/step - loss: 0.2034 - accuracy: 0.9496 - val_loss: 0.8850 - val_accuracy: 0.8140\n",
            "Epoch 12/20\n",
            "16/16 [==============================] - 1s 43ms/step - loss: 0.1804 - accuracy: 0.9513 - val_loss: 0.9203 - val_accuracy: 0.8120\n",
            "Epoch 13/20\n",
            "16/16 [==============================] - 1s 43ms/step - loss: 0.1608 - accuracy: 0.9534 - val_loss: 0.9473 - val_accuracy: 0.8120\n",
            "Epoch 14/20\n",
            "16/16 [==============================] - 1s 43ms/step - loss: 0.1462 - accuracy: 0.9558 - val_loss: 0.9519 - val_accuracy: 0.8110\n",
            "Epoch 15/20\n",
            "16/16 [==============================] - 1s 44ms/step - loss: 0.1384 - accuracy: 0.9565 - val_loss: 0.9985 - val_accuracy: 0.8020\n",
            "Epoch 16/20\n",
            "16/16 [==============================] - 1s 43ms/step - loss: 0.1290 - accuracy: 0.9554 - val_loss: 1.0160 - val_accuracy: 0.8090\n",
            "Epoch 17/20\n",
            "16/16 [==============================] - 1s 44ms/step - loss: 0.1263 - accuracy: 0.9549 - val_loss: 1.0466 - val_accuracy: 0.8050\n",
            "Epoch 18/20\n",
            "16/16 [==============================] - 1s 44ms/step - loss: 0.1174 - accuracy: 0.9562 - val_loss: 1.0183 - val_accuracy: 0.8040\n",
            "Epoch 19/20\n",
            "16/16 [==============================] - 1s 44ms/step - loss: 0.1161 - accuracy: 0.9585 - val_loss: 1.0790 - val_accuracy: 0.8040\n",
            "Epoch 20/20\n",
            "16/16 [==============================] - 1s 43ms/step - loss: 0.1154 - accuracy: 0.9554 - val_loss: 1.0291 - val_accuracy: 0.8100\n"
          ],
          "name": "stdout"
        }
      ]
    },
    {
      "cell_type": "code",
      "metadata": {
        "colab": {
          "base_uri": "https://localhost:8080/"
        },
        "id": "XtrGVmPkhPpI",
        "outputId": "d46677b4-6a5d-4358-ba1a-4bdb5731dd8f"
      },
      "source": [
        "model.evaluate(X_val, y_val)"
      ],
      "execution_count": 14,
      "outputs": [
        {
          "output_type": "stream",
          "text": [
            "32/32 [==============================] - 0s 3ms/step - loss: 1.0291 - accuracy: 0.8100\n"
          ],
          "name": "stdout"
        },
        {
          "output_type": "execute_result",
          "data": {
            "text/plain": [
              "[1.02913236618042, 0.8100000023841858]"
            ]
          },
          "metadata": {},
          "execution_count": 14
        }
      ]
    },
    {
      "cell_type": "markdown",
      "metadata": {
        "id": "GpYMkCz2fQe5"
      },
      "source": [
        "## 8.손실과 정확도 그래프 그리기\n"
      ]
    },
    {
      "cell_type": "markdown",
      "metadata": {
        "id": "SGHS717kggNN"
      },
      "source": [
        "###  1) 훈련과 검증 손실 그리기"
      ]
    },
    {
      "cell_type": "code",
      "metadata": {
        "colab": {
          "base_uri": "https://localhost:8080/",
          "height": 300
        },
        "id": "R85r0pLbgjR8",
        "outputId": "e395a8b3-8c0e-4766-a206-80c45ca7a529"
      },
      "source": [
        "import matplotlib.pyplot as plt\n",
        "\n",
        "loss = history.history['loss']\n",
        "val_loss = history.history['val_loss']\n",
        "epochs = range(1, len(loss) + 1)\n",
        "\n",
        "plt.plot(epochs, loss, label='훈련 손실')\n",
        "plt.plot(epochs, val_loss, label='검증 손실')\n",
        "\n",
        "plt.title('훈련과 검증 정확도 그래프')\n",
        "plt.xlabel('Epochs')\n",
        "plt.ylabel('Loss')\n",
        "plt.legend()\n",
        "\n",
        "plt.show()"
      ],
      "execution_count": 22,
      "outputs": [
        {
          "output_type": "display_data",
          "data": {
            "image/png": "[encoded data removed]",
            "text/plain": [
              "<Figure size 432x288 with 1 Axes>"
            ]
          },
          "metadata": {
            "needs_background": "light"
          }
        }
      ]
    },
    {
      "cell_type": "markdown",
      "metadata": {
        "id": "tZ1pdN3Shb2q"
      },
      "source": [
        "###  2) 훈련과 검증 정확도 그리기"
      ]
    },
    {
      "cell_type": "code",
      "metadata": {
        "id": "KoVtbyvqiIsm",
        "colab": {
          "base_uri": "https://localhost:8080/",
          "height": 300
        },
        "outputId": "b197e84b-5fe0-4e23-c43b-e7d1404d5b43"
      },
      "source": [
        "import matplotlib.pyplot as plt\n",
        "\n",
        "acc = history.history['accuracy']\n",
        "val_acc = history.history['val_accuracy']\n",
        "epochs = range(1, len(acc) + 1)\n",
        "\n",
        "plt.plot(epochs, acc, label='훈련 정확도')\n",
        "plt.plot(epochs, val_acc, label='검증 정확도')\n",
        "\n",
        "plt.title('훈련과 검증 정확도 그래프')\n",
        "plt.xlabel('Epochs')\n",
        "plt.ylabel('Accuracy')\n",
        "plt.legend()\n",
        "\n",
        "plt.show()"
      ],
      "execution_count": 23,
      "outputs": [
        {
          "output_type": "display_data",
          "data": {
            "image/png": "[encoded data removed]",
            "text/plain": [
              "<Figure size 432x288 with 1 Axes>"
            ]
          },
          "metadata": {
            "needs_background": "light"
          }
        }
      ]
    },
    {
      "cell_type": "markdown",
      "metadata": {
        "id": "OyQavg0zl3Xo"
      },
      "source": [
        "## 9.예측"
      ]
    },
    {
      "cell_type": "code",
      "metadata": {
        "colab": {
          "base_uri": "https://localhost:8080/"
        },
        "id": "yvzvka45iP96",
        "outputId": "630f7e4b-33d4-42b2-c53b-abae94d0bb94"
      },
      "source": [
        "prediction = model.predict(X_test)\n",
        "prediction"
      ],
      "execution_count": 26,
      "outputs": [
        {
          "output_type": "execute_result",
          "data": {
            "text/plain": [
              "array([[4.11982273e-06, 1.36210010e-05, 1.52506736e-08, ...,\n",
              "        3.48424692e-07, 1.77831101e-08, 7.74274511e-08],\n",
              "       [8.78150240e-05, 5.99318091e-03, 1.09543053e-05, ...,\n",
              "        1.92871252e-09, 1.64996372e-09, 4.54048887e-07],\n",
              "       [5.98590821e-04, 4.56445694e-01, 5.93651959e-04, ...,\n",
              "        2.24750352e-06, 1.17942836e-05, 5.53619757e-04],\n",
              "       ...,\n",
              "       [2.81396353e-07, 1.24102908e-05, 1.48571942e-07, ...,\n",
              "        1.22060601e-06, 5.71938870e-08, 7.92708761e-08],\n",
              "       [1.61367767e-02, 1.23964235e-01, 4.65461891e-03, ...,\n",
              "        4.34201560e-04, 9.87624808e-05, 5.22047303e-05],\n",
              "       [2.52691039e-04, 9.26056504e-01, 1.89894601e-03, ...,\n",
              "        5.90617162e-07, 1.14342820e-05, 4.93576727e-06]], dtype=float32)"
            ]
          },
          "metadata": {},
          "execution_count": 26
        }
      ]
    },
    {
      "cell_type": "markdown",
      "metadata": {
        "id": "SlS5G6Ybibcj"
      },
      "source": [
        "## 레이블과 손실\n",
        "- 범주형 인코딩이 되어 있는 경우에는 손실함수를 categorical_crossentropy를 사용합니다\n",
        "- 정수 레이블을 사용할 때는 sparse_categorical_crossentory를 사용합니다."
      ]
    },
    {
      "cell_type": "code",
      "metadata": {
        "id": "st1hp6xTky4L"
      },
      "source": [
        "y_train = np.array(train_rables)\n",
        "y_test = np.array(test_rables)\n",
        "\n",
        "\n",
        "model.compile(aptimizer='rmsprop',\n",
        "             loss='sparse_categorical_crossentropy',\n",
        "             metrics=['acc'])"
      ],
      "execution_count": null,
      "outputs": []
    }
  ]
}