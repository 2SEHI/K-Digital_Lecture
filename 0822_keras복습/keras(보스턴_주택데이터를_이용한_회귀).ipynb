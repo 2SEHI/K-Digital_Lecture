{
  "nbformat": 4,
  "nbformat_minor": 0,
  "metadata": {
    "colab": {
      "name": "keras(보스턴 주택데이터를 이용한 회귀).ipynb",
      "provenance": [],
      "collapsed_sections": [],
      "toc_visible": true,
      "authorship_tag": "ABX9TyO5ZS9rq9M86AkGsViHs285",
      "include_colab_link": true
    },
    "kernelspec": {
      "name": "python3",
      "display_name": "Python 3"
    },
    "language_info": {
      "name": "python"
    }
  },
  "cells": [
    {
      "cell_type": "markdown",
      "metadata": {
        "id": "view-in-github",
        "colab_type": "text"
      },
      "source": [
        "<a href=\"https://colab.research.google.com/github/2SEHI/K-Digital_Lecture/blob/main/0822_keras%EB%B3%B5%EC%8A%B5/keras(%EB%B3%B4%EC%8A%A4%ED%84%B4_%EC%A3%BC%ED%83%9D%EB%8D%B0%EC%9D%B4%ED%84%B0%EB%A5%BC_%EC%9D%B4%EC%9A%A9%ED%95%9C_%ED%9A%8C%EA%B7%80).ipynb\" target=\"_parent\"><img src=\"https://colab.research.google.com/assets/colab-badge.svg\" alt=\"Open In Colab\"/></a>"
      ]
    },
    {
      "cell_type": "markdown",
      "metadata": {
        "id": "_fA0vyErm3mR"
      },
      "source": [
        "# 보스턴 주택데이터셋을 이용한 회귀\n",
        "- 회귀는 분류와 다르게 손실함수로 평균 제곱 오차를 자주 사용합니다\n",
        "- 회귀의 평가지표는 정확도는 적용되지 않으며, 평균 절대 오차를 자주 사용합니다\n",
        "- 입력데이터의 피처가 너무 다른 범위를 가진다면 스케일 조정을 해야합니다\n",
        "- 데이터가 적으면 K-겹 사용하는 것이 좋습니다"
      ]
    },
    {
      "cell_type": "markdown",
      "metadata": {
        "id": "KSRW-I86nSpr"
      },
      "source": [
        "## 1.데이터셋 로드\n",
        "- train_data 와 test_data : 범죄율, 지방세율 등\n",
        "- train_labels 와 test_labels : 주택가격"
      ]
    },
    {
      "cell_type": "code",
      "metadata": {
        "id": "jF0_6sionV6v"
      },
      "source": [
        "from keras.datasets import boston_housing\n",
        "(train_data, train_targets), (test_data, test_targets) = boston_housing.load_data()"
      ],
      "execution_count": 31,
      "outputs": []
    },
    {
      "cell_type": "markdown",
      "metadata": {
        "id": "gU8ZX1fsnkgE"
      },
      "source": [
        "###  1) 데이터 크기 확인\n"
      ]
    },
    {
      "cell_type": "code",
      "metadata": {
        "colab": {
          "base_uri": "https://localhost:8080/"
        },
        "id": "a5pEVI5KnoCj",
        "outputId": "772ef779-1ace-4342-96f7-42e165e5a844"
      },
      "source": [
        "print(train_data.shape)\n",
        "print(test_data.shape)"
      ],
      "execution_count": 32,
      "outputs": [
        {
          "output_type": "stream",
          "text": [
            "(404, 13)\n",
            "(102, 13)\n"
          ],
          "name": "stdout"
        }
      ]
    },
    {
      "cell_type": "code",
      "metadata": {
        "colab": {
          "base_uri": "https://localhost:8080/"
        },
        "id": "VsMdDRx6oQkt",
        "outputId": "15278308-9bd6-43c3-bded-02fd8f91def4"
      },
      "source": [
        "print(train_targets[:5])"
      ],
      "execution_count": 33,
      "outputs": [
        {
          "output_type": "stream",
          "text": [
            "[15.2 42.3 50.  21.1 17.7]\n"
          ],
          "name": "stdout"
        }
      ]
    },
    {
      "cell_type": "markdown",
      "metadata": {
        "id": "NJp9AlNeoX7j"
      },
      "source": [
        "## 2.데이터 준비"
      ]
    },
    {
      "cell_type": "markdown",
      "metadata": {
        "id": "UzPro6jIof3c"
      },
      "source": [
        "### 1) 데이터 정규화\n",
        "- 각 피처간의 데이터 스케일이 상이하므로 표준화를 통해 맞추어줍니다"
      ]
    },
    {
      "cell_type": "code",
      "metadata": {
        "id": "IGvXBYzUoj6o"
      },
      "source": [
        "# 평균 구하기\n",
        "mean = train_data.mean(axis=0)\n",
        "train_data -= mean\n",
        "\n",
        "# 표준 편차 구하기\n",
        "std = train_data.std(axis=0)\n",
        "train_data /= std\n",
        "\n",
        "test_data += mean\n",
        "test_data /= std"
      ],
      "execution_count": 34,
      "outputs": []
    },
    {
      "cell_type": "markdown",
      "metadata": {
        "id": "2q8Erqr9olwY"
      },
      "source": [
        "## 3.모델 구성\n",
        "- 회귀모델은 연속된 값을 예측하므로 회귀모델의 출력층엔 1개의 은닉유닛을 설정해야합니다.\n",
        "- mse는 회귀문제에서 자주 사용되는 손실함수입니다."
      ]
    },
    {
      "cell_type": "code",
      "metadata": {
        "id": "kRkW9X7kplIC"
      },
      "source": [
        "from keras import models \n",
        "from keras import layers\n",
        "\n",
        "def build_model():\n",
        "    model=models.Sequential()\n",
        "    model.add(layers.Dense(64, activation='relu',\n",
        "                           input_shape=(train_data.shape[1],)))\n",
        "    model.add(layers.Dense(64, activation='relu'))\n",
        "    model.add(layers.Dense(1))\n",
        "    model.compile(optimizer='rmsprop', loss='mse', metrics=['mae'])\n",
        "    return model"
      ],
      "execution_count": 35,
      "outputs": []
    },
    {
      "cell_type": "markdown",
      "metadata": {
        "id": "tABcABTFqCR9"
      },
      "source": [
        "## K-겹 검증하기\n",
        "- 검증 점수는 4개의 폴드평균이 2.4임"
      ]
    },
    {
      "cell_type": "code",
      "metadata": {
        "colab": {
          "base_uri": "https://localhost:8080/"
        },
        "id": "OXAZK_7yq_bk",
        "outputId": "a05add72-cfad-475c-ce4c-7857c5fdc31c"
      },
      "source": [
        "import numpy as np\n",
        "\n",
        "k=4\n",
        "\n",
        "# 25개 * 4등분\n",
        "num_val_samples = len(train_data) // k\n",
        "\n",
        "num_epochs = 500\n",
        "all_mae_histories = []\n",
        "\n",
        "for i in range(k):\n",
        "    print('처리중인 폴드 # ', i)\n",
        "\n",
        "    val_data = train_data[i * num_val_samples: (i + 1) * num_val_samples]\n",
        "    val_targets = train_targets[i * num_val_samples: (i + 1) * num_val_samples]\n",
        "\n",
        "    # 훈련 피처 할당\n",
        "    partial_train_data = np.concatenate(\n",
        "        [train_data[:i * num_val_samples],\n",
        "         train_data[(i + 1) * num_val_samples:]],\n",
        "         axis=0\n",
        "    )\n",
        "    # 훈련 타겟 할당\n",
        "    partial_train_targets = np.concatenate(\n",
        "        [train_targets[:i * num_val_samples],\n",
        "         train_targets[(i + 1) * num_val_samples:]],\n",
        "         axis=0\n",
        "    )\n",
        "    # 모델 구성\n",
        "    model = build_model()\n",
        "    # 모델 훈련\n",
        "    history = model.fit(partial_train_data, partial_train_targets,\n",
        "                        validation_data = (val_data, val_targets),\n",
        "                        epochs=num_epochs, batch_size=1,verbose=0)\n",
        "    mae_history = history.history['val_mae']\n",
        "    all_mae_histories.append(mae_history)"
      ],
      "execution_count": 47,
      "outputs": [
        {
          "output_type": "stream",
          "text": [
            "처리중인 폴드 #  0\n",
            "처리중인 폴드 #  1\n",
            "처리중인 폴드 #  2\n",
            "처리중인 폴드 #  3\n"
          ],
          "name": "stdout"
        }
      ]
    },
    {
      "cell_type": "code",
      "metadata": {
        "id": "SLGlCrD5tGmf"
      },
      "source": [
        "avg_mae_history = [np.mean([x[i] for x in all_mae_histories]) for i in range(num_epochs)]"
      ],
      "execution_count": 49,
      "outputs": []
    },
    {
      "cell_type": "markdown",
      "metadata": {
        "id": "ONxscjB-vovO"
      },
      "source": [
        "## epochs에 따른 MAE값 변화 그래프그리기"
      ]
    },
    {
      "cell_type": "code",
      "metadata": {
        "colab": {
          "base_uri": "https://localhost:8080/",
          "height": 279
        },
        "id": "CdhxmRN_ulF1",
        "outputId": "f3fb9201-99fb-4938-c2b0-8250ca744a94"
      },
      "source": [
        "import matplotlib.pyplot as plt\n",
        "plt.plot(range(1, len(avg_mae_history) + 1), avg_mae_history)\n",
        "plt.xlabel('Epochs')\n",
        "plt.ylabel('Validation MAE')\n",
        "plt.show()"
      ],
      "execution_count": 51,
      "outputs": [
        {
          "output_type": "display_data",
          "data": {
            "image/png": "[encoded data removed]",
            "text/plain": [
              "<Figure size 432x288 with 1 Axes>"
            ]
          },
          "metadata": {
            "needs_background": "light"
          }
        }
      ]
    },
    {
      "cell_type": "markdown",
      "metadata": {
        "id": "YV2Ag7AYvyBc"
      },
      "source": [
        "### 다시 그리기\n",
        "- 지수 이동 평균을 이용하여 부드러운 곡선 얻기\n",
        "- epochs 80이후로는 mae가 줄어들지 않음 => 과적합"
      ]
    },
    {
      "cell_type": "code",
      "metadata": {
        "id": "nnelWknZwjNk"
      },
      "source": [
        "test = np.arange(1,100)\n",
        "test[-1]"
      ],
      "execution_count": null,
      "outputs": []
    },
    {
      "cell_type": "code",
      "metadata": {
        "colab": {
          "base_uri": "https://localhost:8080/",
          "height": 283
        },
        "id": "6Xm83piev4W0",
        "outputId": "201d104f-2ebb-4a2a-b48c-804e12ded681"
      },
      "source": [
        "def smooth_curve(points, factor=0.9):\n",
        "    smoothed_points = []\n",
        "    for point in points:\n",
        "        if smoothed_points:\n",
        "            previous = smoothed_points[-1]\n",
        "            smoothed_points.append(previous * factor + point * (1-factor))\n",
        "        else : \n",
        "            smoothed_points.append(point)\n",
        "    return smoothed_points\n",
        "\n",
        "# 앞의 10이후부터 곡선을 그린다\n",
        "smooth_mae_history = smooth_curve(avg_mae_history[10:])\n",
        "\n",
        "plt.plot(range(1, len(smooth_mae_history) + 1), smooth_mae_history)\n",
        "plt.xlabel('Epochs')\n",
        "plt.ylabel('Validation MAE')\n",
        "plt.show()"
      ],
      "execution_count": 53,
      "outputs": [
        {
          "output_type": "display_data",
          "data": {
            "image/png": "[encoded data removed]",
            "text/plain": [
              "<Figure size 432x288 with 1 Axes>"
            ]
          },
          "metadata": {
            "needs_background": "light"
          }
        }
      ]
    },
    {
      "cell_type": "markdown",
      "metadata": {
        "id": "fqnD7X5GzfMa"
      },
      "source": [
        "## 최대 적합의 epochs로 다시 훈련"
      ]
    },
    {
      "cell_type": "code",
      "metadata": {
        "colab": {
          "base_uri": "https://localhost:8080/"
        },
        "id": "kLNN8L3Z0aDH",
        "outputId": "0f360d92-b778-4fef-defc-c7c68175cf8b"
      },
      "source": [
        "model = build_model()\n",
        "model.fit(train_data, train_targets, epochs=30, batch_size=1, verbose=0)\n",
        "# 손실과 검증결과 출력\n",
        "# 손실 : mse, 검증방법 : mae\n",
        "test_mse_score, test_mae_score = model.evaluate(test_data, test_targets)"
      ],
      "execution_count": 61,
      "outputs": [
        {
          "output_type": "stream",
          "text": [
            "4/4 [==============================] - 0s 3ms/step - loss: 8681.2656 - mae: 92.9136\n"
          ],
          "name": "stdout"
        }
      ]
    },
    {
      "cell_type": "code",
      "metadata": {
        "id": "8BpnysjL2oIu"
      },
      "source": [
        ""
      ],
      "execution_count": null,
      "outputs": []
    }
  ]
}