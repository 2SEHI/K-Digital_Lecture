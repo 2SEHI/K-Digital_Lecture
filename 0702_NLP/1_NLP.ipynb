{
  "nbformat": 4,
  "nbformat_minor": 0,
  "metadata": {
    "colab": {
      "name": "1_NLP.ipynb",
      "provenance": [],
      "collapsed_sections": [],
      "toc_visible": true,
      "mount_file_id": "1N63qVl47ikatoM83RZh4IYu0b1HK2VWA",
      "authorship_tag": "ABX9TyNX0FBIAy+EIbO7VQnjNM8U"
    },
    "kernelspec": {
      "name": "python3",
      "display_name": "Python 3"
    },
    "language_info": {
      "name": "python"
    }
  },
  "cells": [
    {
      "cell_type": "markdown",
      "metadata": {
        "id": "IecCambVPgXV"
      },
      "source": [
        "## colab에 한글표시\n",
        "### colab에서 실행시 matplotlib에 한글을 표시하기 위해서 본 셀을 실행후 runtime을 재시작해야 함"
      ]
    },
    {
      "cell_type": "code",
      "metadata": {
        "id": "S_YtHxutF7D9",
        "colab": {
          "base_uri": "https://localhost:8080/"
        },
        "outputId": "258404d2-8837-474f-ae2e-edbba9446cdd"
      },
      "source": [
        "!sudo apt-get install -y fonts-nanum\n",
        "!sudo fc-cache -fv\n",
        "!rm ~/.cache/matplotlib -rf"
      ],
      "execution_count": 1,
      "outputs": [
        {
          "output_type": "stream",
          "name": "stdout",
          "text": [
            "Reading package lists... Done\n",
            "Building dependency tree       \n",
            "Reading state information... Done\n",
            "fonts-nanum is already the newest version (20170925-1).\n",
            "0 upgraded, 0 newly installed, 0 to remove and 56 not upgraded.\n",
            "/usr/share/fonts: caching, new cache contents: 0 fonts, 1 dirs\n",
            "/usr/share/fonts/truetype: caching, new cache contents: 0 fonts, 4 dirs\n",
            "/usr/share/fonts/truetype/dejavu: caching, new cache contents: 22 fonts, 0 dirs\n",
            "/usr/share/fonts/truetype/humor-sans: caching, new cache contents: 1 fonts, 0 dirs\n",
            "/usr/share/fonts/truetype/liberation: caching, new cache contents: 16 fonts, 0 dirs\n",
            "/usr/share/fonts/truetype/nanum: caching, new cache contents: 10 fonts, 0 dirs\n",
            "/usr/local/share/fonts: caching, new cache contents: 0 fonts, 0 dirs\n",
            "/root/.local/share/fonts: skipping, no such directory\n",
            "/root/.fonts: skipping, no such directory\n",
            "/var/cache/fontconfig: cleaning cache directory\n",
            "/root/.cache/fontconfig: not cleaning non-existent cache directory\n",
            "/root/.fontconfig: not cleaning non-existent cache directory\n",
            "fc-cache: succeeded\n"
          ]
        }
      ]
    },
    {
      "cell_type": "code",
      "metadata": {
        "id": "w8lq9uLqE7i4"
      },
      "source": [
        "# 공통 모듈 임포트\n",
        "import numpy as np\n",
        "import pandas as pd\n",
        "import os\n",
        "from scipy import stats\n",
        "import seaborn as sns\n",
        "# 깔끔한 그래프 출력을 위해\n",
        "%matplotlib inline\n",
        "import matplotlib as mpl\n",
        "import matplotlib.pyplot as plt\n",
        "import seaborn as sns\n",
        "# 한글 폰트 사용을 위해서 세팅\n",
        "from matplotlib import font_manager\n",
        "\n",
        "mpl.rc('axes', labelsize=14)\n",
        "mpl.rc('xtick', labelsize=12)\n",
        "mpl.rc('ytick', labelsize=12)\n",
        "mpl.rcParams['axes.unicode_minus'] = False\n",
        "\n",
        "# 그림을 저장할 위치\n",
        "PROJECT_ROOT_DIR = \".\"\n",
        "CHAPTER_ID = \"Display_Sensor_Anomaly_Analysis\"\n",
        "IMAGES_PATH = os.path.join(PROJECT_ROOT_DIR, \"images\", CHAPTER_ID)\n",
        "os.makedirs(IMAGES_PATH, exist_ok=True)\n",
        "\n",
        "def save_fig(fig_id, tight_layout=True, fig_extension=\"png\", resolution=300):\n",
        "    path = os.path.join(IMAGES_PATH, fig_id + \".\" + fig_extension)\n",
        "    print(\"그림 저장:\", fig_id)\n",
        "    if tight_layout:\n",
        "        plt.tight_layout()\n",
        "    plt.savefig(path, format=fig_extension, dpi=resolution)\n",
        " \n",
        "## colab용 글씨체 설정\n",
        "plt.rc('font', family='NanumBarunGothic') \n",
        "\n",
        "## local jupyter 용 글씨체 설정\n",
        "# font_path = \"C:\\Windows\\Fonts\\malgun.TTF\"\n",
        "# font = font_manager.FontProperties(fname=font_path).get_name()\n",
        "# mpl.rc('font', family=font)\n",
        "\n",
        "import warnings\n",
        "warnings.filterwarnings(action='ignore')\n",
        "\n",
        "np.random.seed(42)"
      ],
      "execution_count": 2,
      "outputs": []
    },
    {
      "cell_type": "markdown",
      "metadata": {
        "id": "wdcZQEavgOkg"
      },
      "source": [
        "# 자연어 처리"
      ]
    },
    {
      "cell_type": "markdown",
      "metadata": {
        "id": "UXuWMFSMiKTE"
      },
      "source": [
        "# 1.nltk설치\n",
        "- 자연어 처리를 위한 파이썬 패키지를 설치합니다."
      ]
    },
    {
      "cell_type": "code",
      "metadata": {
        "colab": {
          "base_uri": "https://localhost:8080/"
        },
        "id": "OPFhsFQpiCx3",
        "outputId": "0911074a-ee71-4a0a-ff89-d17f537f947b"
      },
      "source": [
        " import nltk\n",
        " nltk.download('punkt')"
      ],
      "execution_count": 3,
      "outputs": [
        {
          "output_type": "stream",
          "name": "stdout",
          "text": [
            "[nltk_data] Downloading package punkt to /root/nltk_data...\n",
            "[nltk_data]   Package punkt is already up-to-date!\n"
          ]
        },
        {
          "output_type": "execute_result",
          "data": {
            "text/plain": [
              "True"
            ]
          },
          "metadata": {},
          "execution_count": 3
        }
      ]
    },
    {
      "cell_type": "markdown",
      "metadata": {
        "id": "O_CyKgUhgQsA"
      },
      "source": [
        "# 2.텍스트 정규화\n",
        "- 텍스트는 자체를 바로 피처로 만들 수는 없기 때문에 사전에 텍스트를 가공하는 정규화 작업이 필요합니다. \n",
        "- 작업의 종류\n",
        "    - 정제(cleaning) : 갖고 있는 코퍼스로부터 노이즈 데이터(불필요한 텍스트)를 제거하는 과정\n",
        "    - 정규화(normalization) : 표현 방법이 다른 단어들을 통합시켜서 같은 단어로 만들어준다."
      ]
    },
    {
      "cell_type": "markdown",
      "metadata": {
        "id": "9XinhpvzgZN9"
      },
      "source": [
        "## 3.토큰화(Tokenization)"
      ]
    },
    {
      "cell_type": "markdown",
      "metadata": {
        "id": "hw4igU0VgbN6"
      },
      "source": [
        "## 1) 문장 토큰화(Sentence Tokenization) \n",
        "- 텍스트에서 문장을 분리하는 작업\n",
        "- 문장중간에 마침표가 오는 경우도 있기 때문에 반드시 마침표로 문장을 구분하지는 않습니다.\n",
        "    - 예를들어, IP 192.168.56.31 서버에 들어가서 로그 파일 저장해서 ukairia777@gmail.com로 결과 좀 보내줘. 그러고나서 점심 먹으러 가자.\n",
        "- nltk 라이브러리의 punkt 패키지의 sent_tokenize를 이용해서 텍스트를 리스트로 변환가능합니다.\n",
        "\n",
        "\n"
      ]
    },
    {
      "cell_type": "code",
      "metadata": {
        "colab": {
          "base_uri": "https://localhost:8080/"
        },
        "id": "wPzmFo6ZhU3b",
        "outputId": "ee9022e3-b7b5-4bfa-bccd-bb0a596696c0"
      },
      "source": [
        "from nltk import sent_tokenize\n",
        "text_sample = 'IP 192.168.56.31 서버에 들어가서 로그 파일 저장해서 ukairia777@gmail.com로 결과 좀 보내줘. 그러고나서 점심 먹으러 가자.'\n",
        "sentences = sent_tokenize(text_sample)\n",
        "print(sentences)\n",
        "\n",
        "## 문장토큰화의 반환값은 리스트의 형태입니다.\n",
        "print(type(sentences))"
      ],
      "execution_count": 4,
      "outputs": [
        {
          "output_type": "stream",
          "name": "stdout",
          "text": [
            "['IP 192.168.56.31 서버에 들어가서 로그 파일 저장해서 ukairia777@gmail.com로 결과 좀 보내줘.', '그러고나서 점심 먹으러 가자.']\n",
            "<class 'list'>\n"
          ]
        }
      ]
    },
    {
      "cell_type": "code",
      "metadata": {
        "colab": {
          "base_uri": "https://localhost:8080/"
        },
        "id": "yuw8rBuzik9B",
        "outputId": "3ec2b457-96a8-4c81-ffa7-a7dd1a69b547"
      },
      "source": [
        "## 문장토큰화 결과는 리스트이므로 for문으로 각 문장의 결과를 출력합니다.\n",
        "for sentence in sentences:\n",
        "    print(sentence)"
      ],
      "execution_count": 5,
      "outputs": [
        {
          "output_type": "stream",
          "name": "stdout",
          "text": [
            "IP 192.168.56.31 서버에 들어가서 로그 파일 저장해서 ukairia777@gmail.com로 결과 좀 보내줘.\n",
            "그러고나서 점심 먹으러 가자.\n"
          ]
        }
      ]
    },
    {
      "cell_type": "markdown",
      "metadata": {
        "id": "oE0-rpe9gcqH"
      },
      "source": [
        "## 2) 단어 토큰화(Word Tokenization) \n",
        "- 한 문장의 단어 분할(단어 토큰화)\n",
        "- 마침표(.), 컴마(,), 물음표(?), 세미콜론(;), 느낌표(!)과 같은 구두점도 하나의 단어로 인식합니다.\n",
        "- nltk.tokenize의 word_tokenize 를 사용하여 공백을 기준으로 분할해서 단어별로  **리스트 반환**합니다.\n",
        "\n",
        "위에서 문장단위로 분할된 sentences리스트를 word_tokenize에 한 줄씩 대입하여 단어단위로 분할합니다.\n"
      ]
    },
    {
      "cell_type": "code",
      "metadata": {
        "colab": {
          "base_uri": "https://localhost:8080/"
        },
        "id": "plVHhTRnjtrE",
        "outputId": "7c87c3c9-5c99-4b99-cbdc-d0d0ced4958b"
      },
      "source": [
        "from nltk import word_tokenize\n",
        "\n",
        "# 각 문장을 단어 별로 토큰화\n",
        "for sentence in sentences:\n",
        "    print(word_tokenize(sentence))\n",
        "    print(type(word_tokenize(sentence)))"
      ],
      "execution_count": 6,
      "outputs": [
        {
          "output_type": "stream",
          "name": "stdout",
          "text": [
            "['IP', '192.168.56.31', '서버에', '들어가서', '로그', '파일', '저장해서', 'ukairia777', '@', 'gmail.com로', '결과', '좀', '보내줘', '.']\n",
            "<class 'list'>\n",
            "['그러고나서', '점심', '먹으러', '가자', '.']\n",
            "<class 'list'>\n"
          ]
        }
      ]
    },
    {
      "cell_type": "markdown",
      "metadata": {
        "id": "LagG_X2-j-Xf"
      },
      "source": [
        "# 4.불용어(Stopword)\n",
        "- 텍스트 분석에 불필요한 단어로 문장을 만들 때는 필요하여 자주 등장하지만 단어에 큰 의미가 없어서 분석을 하는데에 도움이 되지 않는 단어 토큰을 제거하는 작업을 말합니다.\n",
        "- 영어로는 I, my, is , a 등이 있고, 한글로는 -은, 내가, 그리고 등이 있습니다.\n",
        "- 영문의 경우 nltk는 stopwords라는 패키지에서 제공\n",
        "- nltk.corpus.stopwords.word('english')로 제공\n",
        "- 한글의 경우는 konlpy패키지를 이용합니다. 밑에서 자세히 다뤄보겠습니다."
      ]
    },
    {
      "cell_type": "markdown",
      "metadata": {
        "id": "KlMvTqJknDiW"
      },
      "source": [
        "## 1) stopwords패키지 다운로드\n"
      ]
    },
    {
      "cell_type": "code",
      "metadata": {
        "colab": {
          "base_uri": "https://localhost:8080/"
        },
        "id": "zllNxIRFk8W_",
        "outputId": "2c04fc9e-f459-408f-88e1-0ef52ccbca9e"
      },
      "source": [
        "import nltk\n",
        "# stopwords 다운로드\n",
        "nltk.download('stopwords')"
      ],
      "execution_count": 7,
      "outputs": [
        {
          "output_type": "stream",
          "name": "stdout",
          "text": [
            "[nltk_data] Downloading package stopwords to /root/nltk_data...\n",
            "[nltk_data]   Package stopwords is already up-to-date!\n"
          ]
        },
        {
          "output_type": "execute_result",
          "data": {
            "text/plain": [
              "True"
            ]
          },
          "metadata": {},
          "execution_count": 7
        }
      ]
    },
    {
      "cell_type": "markdown",
      "metadata": {
        "id": "l24dJ9bHnWKV"
      },
      "source": [
        "## 2) 영문 불용어사전 확인\n",
        "- `nltk.corpus.stopwords.words('english')`를 이용하여 영문에 포함된 불용어를 확인해볼 수 있습니다.\n",
        "- 소문자로 들어있습니다."
      ]
    },
    {
      "cell_type": "code",
      "metadata": {
        "colab": {
          "base_uri": "https://localhost:8080/"
        },
        "id": "9jiPshlInSqh",
        "outputId": "7a60a306-32e9-4ba0-98ed-4eeb1f549acd"
      },
      "source": [
        "# 영문 불용어 확인\n",
        "print(nltk.corpus.stopwords.words('english'))"
      ],
      "execution_count": 8,
      "outputs": [
        {
          "output_type": "stream",
          "name": "stdout",
          "text": [
            "['i', 'me', 'my', 'myself', 'we', 'our', 'ours', 'ourselves', 'you', \"you're\", \"you've\", \"you'll\", \"you'd\", 'your', 'yours', 'yourself', 'yourselves', 'he', 'him', 'his', 'himself', 'she', \"she's\", 'her', 'hers', 'herself', 'it', \"it's\", 'its', 'itself', 'they', 'them', 'their', 'theirs', 'themselves', 'what', 'which', 'who', 'whom', 'this', 'that', \"that'll\", 'these', 'those', 'am', 'is', 'are', 'was', 'were', 'be', 'been', 'being', 'have', 'has', 'had', 'having', 'do', 'does', 'did', 'doing', 'a', 'an', 'the', 'and', 'but', 'if', 'or', 'because', 'as', 'until', 'while', 'of', 'at', 'by', 'for', 'with', 'about', 'against', 'between', 'into', 'through', 'during', 'before', 'after', 'above', 'below', 'to', 'from', 'up', 'down', 'in', 'out', 'on', 'off', 'over', 'under', 'again', 'further', 'then', 'once', 'here', 'there', 'when', 'where', 'why', 'how', 'all', 'any', 'both', 'each', 'few', 'more', 'most', 'other', 'some', 'such', 'no', 'nor', 'not', 'only', 'own', 'same', 'so', 'than', 'too', 'very', 's', 't', 'can', 'will', 'just', 'don', \"don't\", 'should', \"should've\", 'now', 'd', 'll', 'm', 'o', 're', 've', 'y', 'ain', 'aren', \"aren't\", 'couldn', \"couldn't\", 'didn', \"didn't\", 'doesn', \"doesn't\", 'hadn', \"hadn't\", 'hasn', \"hasn't\", 'haven', \"haven't\", 'isn', \"isn't\", 'ma', 'mightn', \"mightn't\", 'mustn', \"mustn't\", 'needn', \"needn't\", 'shan', \"shan't\", 'shouldn', \"shouldn't\", 'wasn', \"wasn't\", 'weren', \"weren't\", 'won', \"won't\", 'wouldn', \"wouldn't\"]\n"
          ]
        }
      ]
    },
    {
      "cell_type": "markdown",
      "metadata": {
        "id": "M5BR8I_VnlWO"
      },
      "source": [
        "- 위에서 배운 문장 토큰화, 단어 토큰화, 불용어 사전을 이용하여 문장에서 유의미한 단어만 추출해보는 작업을 해보겠습니다."
      ]
    },
    {
      "cell_type": "code",
      "metadata": {
        "colab": {
          "base_uri": "https://localhost:8080/"
        },
        "id": "ELJPBdF7lLNw",
        "outputId": "77d1a98e-32d8-429a-fc72-62d8e36b68e9"
      },
      "source": [
        "# text_sample = 'I am a boy. You are a girl. He is a Teacher.'\n",
        "text_sample = \"I am actively looking for Ph.D. students. and you are a Ph.D student.\"\n",
        "# 문장 토큰화\n",
        "sentences = sent_tokenize(text_sample)\n",
        "print('문장 토큰화 결과 : ',sentences)\n",
        "# 단어 토큰화\n",
        "words = [word_tokenize(sentence) for sentence in sentences]\n",
        "print('단어 토큰화 결과 : ',words)\n",
        "\n",
        "# 정제된 단어리스트 공간확보\n",
        "filteredword = []\n",
        "\n",
        "# 영문 불용어 사전\n",
        "stopwords = nltk.corpus.stopwords.words('english')\n",
        "\n",
        "# 불용어 사전에 콤마.가 없으므로 직접추가\n",
        "stopwords.append('.')\n",
        "\n",
        "# 불용어 제거\n",
        "for temp in words:\n",
        "    # print(temp)\n",
        "    for word in temp:\n",
        "        # print(word)\n",
        "        # 불용어사전의 단어가 소문자로 들어있으므로 \n",
        "        # 단어들을 소문자로 일치시킵니다.\n",
        "        word = word.lower()\n",
        "\n",
        "        # 불용어 사전에 속하지 않은 데이터만 리스트에 추가\n",
        "        if word not in stopwords:\n",
        "            filteredword.append(word)\n",
        "\n",
        "print('유의미한 단어:',filteredword)            "
      ],
      "execution_count": 9,
      "outputs": [
        {
          "output_type": "stream",
          "name": "stdout",
          "text": [
            "문장 토큰화 결과 :  ['I am actively looking for Ph.D. students.', 'and you are a Ph.D student.']\n",
            "단어 토큰화 결과 :  [['I', 'am', 'actively', 'looking', 'for', 'Ph.D.', 'students', '.'], ['and', 'you', 'are', 'a', 'Ph.D', 'student', '.']]\n",
            "유의미한 단어: ['actively', 'looking', 'ph.d.', 'students', 'ph.d', 'student']\n"
          ]
        }
      ]
    },
    {
      "cell_type": "markdown",
      "metadata": {
        "id": "J2COTWxkl-0J"
      },
      "source": [
        "# 5.어간 추출(Stemming) 과 표제어 추출(Lemmatization)\n",
        "- 일반화시킬 수 있는 단어들 혹은 의미적으로 변화하는 단어의 원형을 찾아 하나로 해석하기 위한 작업입니다.\n",
        "- 단수나 복수 또는 과거와 현재형으로 이루어진 단어들의 어근을 찾아 하나로 해석하기 위해서 사용합니다.\n",
        "- nltk 에서는 Porter, Lancaster, Snowball 같은 Stemmer 를 제공하고 Lemmatization 으로는 WordNetLammatizer 클래스를 제공합니다.\n",
        "Stemmer 보다는 Lemmatization 이 어근 추출 기능이 뛰어납니다.\n"
      ]
    },
    {
      "cell_type": "markdown",
      "metadata": {
        "id": "de4bm2rjibaQ"
      },
      "source": [
        "## 1) 어간추출(Stemmer)\n",
        "\n",
        "어간추출 중에서 LancasterStremmer를 알아보겠습니다.\n",
        "\n",
        "### 어근추출 - LancasterStemmer\n",
        "- Stemmer의 단점은 품사인식을 잘 못합니다.\n",
        "- 예를 들어, fancy의 어근을 fant로 인식하거나 최상급 단어를 인지하지 못합니다.\n",
        "\n",
        "work의 일반 동사 와 현재진행형에 대한 어근 work는 추출해내지만, worse worst와 같은 비교급, 최상급 단어는 인지해내지 못합니다.\n",
        "\n"
      ]
    },
    {
      "cell_type": "code",
      "metadata": {
        "colab": {
          "base_uri": "https://localhost:8080/"
        },
        "id": "XPQsbM9wpWv-",
        "outputId": "248627e2-ebaa-401b-ecf0-e03cdb1ec9c0"
      },
      "source": [
        "from nltk import LancasterStemmer\n",
        "stemmer = LancasterStemmer()\n",
        "\n",
        "# working은 work의 현재진행형이므로 어근은 work입니다.\n",
        "print(stemmer.stem('work'), stemmer.stem('working'))\n",
        "\n",
        "print(stemmer.stem('do'), stemmer.stem('doing'))\n",
        "print(stemmer.stem('worse'), stemmer.stem('worst'))"
      ],
      "execution_count": 10,
      "outputs": [
        {
          "output_type": "stream",
          "name": "stdout",
          "text": [
            "work work\n",
            "do doing\n",
            "wors worst\n"
          ]
        }
      ]
    },
    {
      "cell_type": "markdown",
      "metadata": {
        "id": "iWNrqTLWq5t-"
      },
      "source": [
        "## 2) 표제어 추출(Lemmatization)\n",
        "- 표제어 추출을 위한 도구인 WordNetLemmatizer를 지원합니다\n",
        "- WordNetLemmatizer는 단어와 단어의 품사의 정보를 입력하여 정확한 Lemma를 출력하게 됩니다.\n"
      ]
    },
    {
      "cell_type": "markdown",
      "metadata": {
        "id": "7uMN2JxdjkxY"
      },
      "source": [
        "\n",
        "### <영문의 8품사>\n",
        "- 동사 v\n",
        "- 형용사 a\n",
        "- 부사 ad\n",
        "- 전치사 prep\n",
        "- 접속사 conj\n",
        "- 감탄사 exclam\n",
        "- 대명사 pron\n",
        "- 명사 n\n",
        "\n"
      ]
    },
    {
      "cell_type": "markdown",
      "metadata": {
        "id": "yUNj7xmLjm0i"
      },
      "source": [
        "### Lemmatizer 를 사용하기 위한 다운로드"
      ]
    },
    {
      "cell_type": "code",
      "metadata": {
        "colab": {
          "base_uri": "https://localhost:8080/"
        },
        "id": "T6duUrwwpwnU",
        "outputId": "9db9c54c-7225-4d54-bbce-d2a0c4ccdd02"
      },
      "source": [
        "import nltk\n",
        "nltk.download('wordnet')"
      ],
      "execution_count": null,
      "outputs": [
        {
          "output_type": "stream",
          "text": [
            "[nltk_data] Downloading package wordnet to /root/nltk_data...\n",
            "[nltk_data]   Unzipping corpora/wordnet.zip.\n"
          ],
          "name": "stdout"
        },
        {
          "output_type": "execute_result",
          "data": {
            "text/plain": [
              "True"
            ]
          },
          "metadata": {
            "tags": []
          },
          "execution_count": 10
        }
      ]
    },
    {
      "cell_type": "markdown",
      "metadata": {
        "id": "riTU9sN4tRiY"
      },
      "source": [
        "- 영어 단어와 품사를 같이 입력해주면 정확한 결과를 얻을 수 있습니다."
      ]
    },
    {
      "cell_type": "code",
      "metadata": {
        "colab": {
          "base_uri": "https://localhost:8080/"
        },
        "id": "n-g5XK6Wq4Tw",
        "outputId": "3db74e3c-87d5-4146-de3a-1b313b6f3ece"
      },
      "source": [
        "from nltk import WordNetLemmatizer\n",
        "lemma = WordNetLemmatizer()\n",
        "\n",
        "print(lemma.lemmatize('work','v'), lemma.lemmatize('working','v'))\n",
        "print(lemma.lemmatize('do','v'), lemma.lemmatize('doing','v'))\n",
        "print(lemma.lemmatize('worse','a'), lemma.lemmatize('worst','a'))\n",
        "print(lemma.lemmatize('love','a'), lemma.lemmatize('loving','v'))"
      ],
      "execution_count": null,
      "outputs": [
        {
          "output_type": "stream",
          "text": [
            "work work\n",
            "do do\n",
            "bad bad\n",
            "love love\n"
          ],
          "name": "stdout"
        }
      ]
    },
    {
      "cell_type": "markdown",
      "metadata": {
        "id": "Z9ZyLK3jrv50"
      },
      "source": [
        "# 6.BoW(Bag of Words)\n",
        "- Bag of Words란 문맥이나 단어들의 순서는 전혀 고려하지 않고, 단어들의 출현 빈도(frequency)를 부여해서 텍스트 데이터의 수치화하여 피처를 만드는 모델입니다."
      ]
    },
    {
      "cell_type": "markdown",
      "metadata": {
        "id": "pDhTbuFfj1aZ"
      },
      "source": [
        "## 1) Bow의 단점\n",
        "- 문맥이나 단어순서를 고려하지 않으므로 문맥의 의미 반영이 부족합니다.\n",
        "- 희소 행렬을 만들 가능성이 높아서 머신 러닝 알고리즘의 수행 시간과 예측 성능을 떨어뜨릴 수 있습니다.(희소행렬은 메모리 공간의 낭비가 심합니다.)\n"
      ]
    },
    {
      "cell_type": "markdown",
      "metadata": {
        "id": "dbCyZIWmj4Lm"
      },
      "source": [
        "##  2) Bow의 피처 벡터화\n",
        "- 텍스트를 머신러닝에서 사용할 수 있도록 모든 문서의 모든 단어를 칼럼 형태를 나열하고, 각 문서에서 해당 단어의 횟수 혹은 정규화된 빈도를 값으로 부여하는 데이터 세트 모델로 변경하는 것\n",
        "- BoW모델을 이용하는 경우 M개의 문장이 있고 N개의 단어가 있으면 M*N개의 단어 피처가 생성됨\n",
        "- 하나의 문서에 등장한 횟수 * log(전체문서개수/단어가 등장한 문서의 개수)\n"
      ]
    },
    {
      "cell_type": "markdown",
      "metadata": {
        "id": "4lHM57YPj6h9"
      },
      "source": [
        "## 3) 알고리즘 종류\n"
      ]
    },
    {
      "cell_type": "markdown",
      "metadata": {
        "id": "BP357ksZkqdH"
      },
      "source": [
        "### - 카운트 기반의 벡터화 (CountVectorizer)\n",
        "- 불용어를 지정하면 불용어를 제외한 단어의 빈도수를 알려줍니다.\n",
        "- CountVectorizer는 띄어쓰기만을 기준으로 단어를 자르는 낮은 수준의 토큰화를 진행하고 BoW를 만듭니다.\n",
        "- 영어의 경우 띄어쓰기만으로 토큰화가 수행되기 때문에 문제가 없지만 한국어에 CountVectorizer를 적용하면, 조사 등의 이유로 제대로 BoW가 만들어지지 않을 수도 있습니다."
      ]
    },
    {
      "cell_type": "markdown",
      "metadata": {
        "id": "2J-Z_KnekRTF"
      },
      "source": [
        "### - CountVectorizer클래스의 하이퍼 파라미터\n",
        "- max_df : 자주 등장하는 단어를 제거하기 위해서 설정. 설정치 이상의 횟수만큼 등장하는 단어는 제거합니다.\n",
        "- min_df : 너무 낮은 빈도수를 갖는 단어를 제거하기 위해서 설정\n",
        "- max_features : 추출할 단어의 개수\n",
        "- stop_words : 불용어 리스트\n",
        "- n_gram_range\n",
        "n_gram은 몇개의 단어가 연속해서 여러번 등장하는 경우 하나의 단어의 단어로 취급하기 위한 것\n",
        "- Bow모델의 단점인 문맥의 의미를 반영하지 못하는 부분을 보완하기 위해서 설정\n",
        "- analyzer : 피처를 추출하는 단위로 기본값은 word인데 character의 범위를 설정해서 단어를 끝까지 확인하지 않고 일부분만으로 수행할 수 있음.\n",
        "- token_pattern : 토큰화를 수행하기 위한 정규 표현식 패턴을 설정"
      ]
    },
    {
      "cell_type": "markdown",
      "metadata": {
        "id": "UfGiaXwykTp2"
      },
      "source": [
        "### - TF-IDF기반의 벡터화(TfidfVectorizer)\n",
        "- TF(Term Frequency)-IDF(Inverse Document Frequency) 기반의 벡터화\n",
        "- 하나의 문장에 여러 번 등장하는 단어에는 가중치를 부여하고 여러 문장에 등장하는 단어에는 패널티를 부과하는 방법\n",
        "- CountVectorizer와 비슷하지만 TF-IDF 방식으로 단어의 가중치를 조정한 BOW 인코딩 벡터를 만든다."
      ]
    },
    {
      "cell_type": "markdown",
      "metadata": {
        "id": "eZVbvKYjkWNv"
      },
      "source": [
        "#### - 피처 벡터화를 위한 희소 행렬 표현 방식\n",
        "        0 0 0 1\n",
        "        0 0 1 1\n",
        "        0 1 0 0\n",
        "        1 0 0 0\n",
        "- COO(Coordinate)\n",
        "    - 희소행렬을 표현할 때 일반적으로 사용하는 방식으로 좌표를 기재 \n",
        "    - 위의 희소행렬을 (0,3),(1,2),(1,3),(2,1),(3,1)의 형태로 표현\n",
        "- CSR(Compressed Sparse Row) \n",
        "    - 개수를 기재하는 방식\n",
        "    - (3, 2, 3, 1, 1, 5) => 맨 첫행부터 (0행3열, 1행2열, 1행3열, 2행1열, 3행0열, 0이 아닌 숫자의 개수)\n",
        "    - 메모리 절약을 위해서 사용하는 방법"
      ]
    },
    {
      "cell_type": "markdown",
      "metadata": {
        "id": "29v21u1NkYda"
      },
      "source": [
        "# 7.Word Cloud\n",
        "- 단어의 빈도수를 가지고 크기와 색상을 설정해서 중요도나 인기도 등을 고려하여 시각적으로 늘어놓는 것입니다.\n",
        "- python에서는 pytagcloud나 wordcloud패키지를 많이 사용합니다. (Colab에서는 pytagcloud안됨!) "
      ]
    },
    {
      "cell_type": "markdown",
      "metadata": {
        "id": "OKylQTmyka5Q"
      },
      "source": [
        "## 1) pytagcloud\n",
        "1. pytagcloud, pygame, simplejson 3개의 패키지를 설치\n",
        "2. pytagcloud에서는 한글을 지원하지 않기 때문에 한글 사용을 위해서는 pytagcloud 패키지 설치 위치에 있는 fonts라는 디렉토리 안의 Fonts.json 파일을 수정해야 합니다.\n",
        "3. 사용하고자 하는 폰트를 Fonts.json 파일에 추가해주어야 합니다.\n",
        "`[{'name':'폰트이름','ttf':'폰트파일명','web':'폰트패밀리'}]`\n",
        "- colab에서는 pytagcloud의 한글사용이 안되는 듯 합니다.\n",
        "\n"
      ]
    },
    {
      "cell_type": "markdown",
      "metadata": {
        "id": "NrIi-_RY4R-O"
      },
      "source": [
        "- colab용 pytagcloud모듈 다운로드"
      ]
    },
    {
      "cell_type": "code",
      "metadata": {
        "id": "7_2PBonm1QS0"
      },
      "source": [
        "!pip install pytagcloud\n",
        "!pip install pygame\n",
        "!pip install simplejson"
      ],
      "execution_count": null,
      "outputs": []
    },
    {
      "cell_type": "code",
      "metadata": {
        "id": "O6gQVv_Y1TQ-"
      },
      "source": [
        "import pytagcloud\n",
        "import collections\n",
        "nouns = list()\n",
        "nouns.extend(['불고기' for t in range(8)])\n",
        "nouns.extend(['쌀국수' for t in range(17)])\n",
        "nouns.extend(['순대국밥' for t in range(15)])\n",
        "nouns.extend(['초밥' for t in range(18)])\n",
        "nouns.extend(['김밥' for t in range(14)])\n",
        "nouns.extend(['떡볶이' for t in range(10)])\n",
        "nouns.extend(['김치찌개' for t in range(6)])\n",
        "nouns.extend(['짜장면' for t in range(8)])\n",
        "\n",
        "print(nouns)\n",
        "# 데이터 개수 세기\n",
        "count = collections.Counter(nouns)\n",
        "# 개수 출력\n",
        "print(count)\n",
        "\n",
        "# 원하는 만큼 추출\n",
        "tag2 = count.most_common(10)\n",
        "print(tag2)\n",
        "\n",
        "# 태그 목록 생성\n",
        "taglist = pytagcloud.make_tags(tag2, maxsize=50)\n",
        "print(taglist)\n",
        "\n",
        "# 태그 클라우드 생성\n",
        "# working directory에 이미지 파일 생성\n",
        "pytagcloud.create_tag_image(taglist, 'wordcloud.png', size=(900, 600), fontname='Old Standard TT', rectangular=False)\n",
        "import matplotlib.pyplot\n",
        "import matplotlib.image\n",
        "# \n",
        "img = matplotlib.image.imread('wordcloud.png')\n",
        "imgplot = matplotlib.pyplot.imshow(img)\n",
        "matplotlib.pyplot.show()"
      ],
      "execution_count": null,
      "outputs": []
    },
    {
      "cell_type": "markdown",
      "metadata": {
        "id": "zb15wUrq1V3a"
      },
      "source": [
        "## 2) Word Cloud\n",
        "- 더 쉽게 해주는 패키지가 있긴 하지면 wordcloud가 더 다양한 기능을 제공합니다.\n",
        "- 이미지 위에 워드 클라우드를 그리는 것이 가능하고 불용어 제거도 가능합니다.\n",
        "- `pip install wordcloud`로 설치"
      ]
    },
    {
      "cell_type": "markdown",
      "metadata": {
        "id": "PWG49ETz8Wa0"
      },
      "source": [
        "- 워드클라우드를 적용할 이미지를 먼저 출력해보겠습니다."
      ]
    },
    {
      "cell_type": "code",
      "metadata": {
        "colab": {
          "base_uri": "https://localhost:8080/",
          "height": 465
        },
        "id": "G3PJFv3N7TN2",
        "outputId": "f22ef609-b52a-46b9-fad8-b1d6f04f19e9"
      },
      "source": [
        "# 이미지 출력 연습\n",
        "import numpy as np\n",
        "# wordcloud와 불용어사전 import \n",
        "from wordcloud import WordCloud, STOPWORDS\n",
        "# Python Image Library\n",
        "from PIL import Image\n",
        "\n",
        "mask = np.array(Image.open('/content/drive/MyDrive/Colab Notebooks/data/appleBar.png'))\n",
        "plt.figure(figsize=(8,8))\n",
        "plt.imshow(mask, cmap=plt.cm.gray, interpolation='bilinear')\n",
        "plt.axis('off')\n",
        "plt.show()"
      ],
      "execution_count": 11,
      "outputs": [
        {
          "output_type": "display_data",
          "data": {
            "image/png": "[encoded data removed]",
            "text/plain": [
              "<Figure size 576x576 with 1 Axes>"
            ]
          },
          "metadata": {
            "needs_background": "light"
          }
        }
      ]
    },
    {
      "cell_type": "markdown",
      "metadata": {
        "id": "PUmZ8j2B8gRG"
      },
      "source": [
        "- 워드클라우드를 적용할 단어를 생성해줍니다."
      ]
    },
    {
      "cell_type": "code",
      "metadata": {
        "colab": {
          "base_uri": "https://localhost:8080/"
        },
        "id": "awyfrryI-m1-",
        "outputId": "da16a187-f5b5-4cbd-9b37-c77eddf8dfa3"
      },
      "source": [
        "text = ''\n",
        "for t in range(8):\n",
        "    text = text + 'C '\n",
        "for t in range(9):\n",
        "    text = text + 'JAVA '\n",
        "for t in range(11):\n",
        "    text = text + 'JavaScript '\n",
        "for t in range(18):\n",
        "    text = text + 'Python '\n",
        "for t in range(9):\n",
        "    text = text + 'C++ '\n",
        "for t in range(12):\n",
        "    text = text + 'Kotlin '\n",
        "for t in range(10):\n",
        "    text = text + 'PHP '\n",
        "for t in range(18):\n",
        "    text = text + 'R '\n",
        "for t in range(6):\n",
        "    text = text + 'GO '\n",
        "for t in range(14):\n",
        "    text = text + 'Scala '\n",
        "for t in range(13):\n",
        "    text = text + 'DART '\n",
        "print(type(text))"
      ],
      "execution_count": null,
      "outputs": [
        {
          "output_type": "stream",
          "text": [
            "<class 'str'>\n"
          ],
          "name": "stdout"
        }
      ]
    },
    {
      "cell_type": "markdown",
      "metadata": {
        "id": "VkN_GCDz8pOm"
      },
      "source": [
        "- wordcloud이미지 나타내기"
      ]
    },
    {
      "cell_type": "code",
      "metadata": {
        "colab": {
          "base_uri": "https://localhost:8080/",
          "height": 701
        },
        "id": "JXqNl3Zj8nFR",
        "outputId": "387a2e56-dd0c-4173-a144-c11f09a999b7"
      },
      "source": [
        "stopwords = set(STOPWORDS)\n",
        "stopwords.add('DART')\n",
        "\n",
        "# 워드 클라우드 만들기\n",
        "# background_color : 배경색\n",
        "# max_words : 최대단어수\n",
        "# mask : 이미지\n",
        "# stopwords : 불용어 지정\n",
        "wordcloud = WordCloud(background_color='white', max_words=2000, max_font_size=200, mask=mask,stopwords=stopwords)\n",
        "\n",
        "# 텍스트를 적용한 wordcloud\n",
        "wordcloud = wordcloud.generate(text)\n",
        "# wordcloud.generate_from_frequencies(dict(text))\n",
        "\n",
        "\n",
        "# 단어별 비율출력\n",
        "# 최대 빈도수를 가진 단어의 비율이 1.0이다\n",
        "print(wordcloud.words_)\n",
        "\n",
        "plt.figure(figsize=(12,12))\n",
        "plt.imshow(wordcloud, interpolation='bilinear')\n",
        "plt.axis('off')\n",
        "plt.show()"
      ],
      "execution_count": null,
      "outputs": [
        {
          "output_type": "stream",
          "text": [
            "{'Python Python': 1.0, 'Scala Scala': 0.7647058823529411, 'Kotlin Kotlin': 0.6470588235294118, 'JavaScript JavaScript': 0.5882352941176471, 'PHP PHP': 0.5294117647058824, 'JAVA JAVA': 0.47058823529411764, 'GO': 0.35294117647058826}\n"
          ],
          "name": "stdout"
        },
        {
          "output_type": "display_data",
          "data": {
            "image/png": "[encoded data removed]",
            "text/plain": [
              "<Figure size 864x864 with 1 Axes>"
            ]
          },
          "metadata": {
            "tags": [],
            "needs_background": "light"
          }
        }
      ]
    },
    {
      "cell_type": "markdown",
      "metadata": {
        "id": "DtOGgIR694i2"
      },
      "source": [
        "- 이미지가 나오긴 나왔지만 빈도율이 가장 낮은 GO를 제외한 단어들은 모두 word word의 형태로 나온다. 검색해보니 연어 (Salmon말고 Collocation)라는 효과가  기본 설정되어 있는데 연어란 동일한 맥락에서 일반적인 경우보다 높은 빈도로 나타나는 어휘의 쌍이라는 뜻으로 높은빈도의 단어들을 쌍으로 나타내는 효과를 꺼줘야 한다고 한다.[참고 사이트](https://stackoverflow.com/questions/43954114/python-wordcloud-repetitve-words)\n",
        "\n",
        "- wordcloud를 생성할 때 collocations=False을 지정해주면 된다.\n",
        "\n"
      ]
    },
    {
      "cell_type": "code",
      "metadata": {
        "colab": {
          "base_uri": "https://localhost:8080/",
          "height": 321
        },
        "id": "v77hy2ewEN-i",
        "outputId": "47207600-40f2-49ad-a236-35f3508fc815"
      },
      "source": [
        "stopwords = set(STOPWORDS)\n",
        "stopwords.add('DART')\n",
        "\n",
        "# 워드 클라우드 만들기\n",
        "# background_color : 배경색\n",
        "# max_words : 최대단어수\n",
        "# mask : 이미지\n",
        "# stopwords : 불용어 지정\n",
        "wordcloud = WordCloud(background_color='white', max_words=2000, max_font_size=200, mask=mask,stopwords=stopwords, collocations=False)\n",
        "\n",
        "# 텍스트를 적용한 wordcloud\n",
        "wordcloud = wordcloud.generate(text)\n",
        "# wordcloud.generate_from_frequencies(dict(text))\n",
        "\n",
        "\n",
        "# 단어별 비율출력\n",
        "# 최대 빈도수를 가진 단어의 비율이 1.0이다\n",
        "print(wordcloud.words_)\n",
        "\n",
        "plt.figure(figsize=(5,5))\n",
        "plt.imshow(wordcloud, interpolation='bilinear')\n",
        "plt.axis('off')\n",
        "plt.show()"
      ],
      "execution_count": null,
      "outputs": [
        {
          "output_type": "stream",
          "text": [
            "{'Python': 1.0, 'Scala': 0.7777777777777778, 'Kotlin': 0.6666666666666666, 'JavaScript': 0.6111111111111112, 'PHP': 0.5555555555555556, 'JAVA': 0.5, 'GO': 0.3333333333333333}\n"
          ],
          "name": "stdout"
        },
        {
          "output_type": "display_data",
          "data": {
            "image/png": "[encoded data removed]",
            "text/plain": [
              "<Figure size 360x360 with 1 Axes>"
            ]
          },
          "metadata": {
            "tags": [],
            "needs_background": "light"
          }
        }
      ]
    },
    {
      "cell_type": "markdown",
      "metadata": {
        "id": "UebXZ5lxbts4"
      },
      "source": [
        "# 8.형태소 분석\n",
        "- 형태소 분석을 하는 이유는 단수, 복수, 과거, 현재진행형, 최상급 등의 문자에 대해 동일한 어근을 갖는 단어 단위로 분할해야 하기 때문입니다.\n"
      ]
    },
    {
      "cell_type": "markdown",
      "metadata": {
        "id": "xtZTQWwK9mpT"
      },
      "source": [
        "## 1) WordNetLemmatizer\n",
        "- 영문 형태소 분석\n"
      ]
    },
    {
      "cell_type": "markdown",
      "metadata": {
        "id": "OfS6QPEh9rRy"
      },
      "source": [
        "## 2) konlpy : 한글 형태소 분석\n",
        "- konlpy 패키지 이용\n",
        "- Kkma모듈의 sentences(문장 분류), nouns(단어별 분류), pos(형태소 분석)\n",
        "- Hannaum모듈의 nouns(단어별 분석), morphs(형태소 분석)\n",
        "- Twitter모듈의 nouns(단어별 분석), morphs(형태소 분석), pos(형태소 분석-품사와 함께 리턴)"
      ]
    },
    {
      "cell_type": "markdown",
      "metadata": {
        "id": "FzZMa3nGpmuG"
      },
      "source": [
        "### 1) konlpy 패키지 설치"
      ]
    },
    {
      "cell_type": "code",
      "metadata": {
        "id": "8kya8lY8c2ec"
      },
      "source": [
        "# colab용 konlpy설치\n",
        "!apt-get update\n",
        "!apt-get install g++ openjdk-8-jdk \n",
        "!pip3 install konlpy\n",
        "\n",
        "from konlpy.tag import Twitter"
      ],
      "execution_count": null,
      "outputs": []
    },
    {
      "cell_type": "code",
      "metadata": {
        "colab": {
          "base_uri": "https://localhost:8080/"
        },
        "id": "46_xSdrPc5jV",
        "outputId": "7ba3d7d3-8071-4c76-c74c-3e347efef2f8"
      },
      "source": [
        "from konlpy.tag import Kkma\n",
        "kkma = Kkma()\n",
        "\n",
        "print(kkma.sentences('한국어의 문장 분석. konlpy를 이용합니다.'))\n",
        "# 한글 사전에 있는 단어만 추출\n",
        "print(kkma.nouns('한국어의 문장 분석. konlpy를 이용합니다.'))\n",
        "# 형태소 분석 - 단어별 분할 후, 품사까지 출력\n",
        "print(kkma.pos('한국어의 문장 분석. konlpy를 이용합니다.'))"
      ],
      "execution_count": 13,
      "outputs": [
        {
          "output_type": "stream",
          "name": "stdout",
          "text": [
            "['한국어의 문장 분석. konlpy를 이용합니다.']\n",
            "['한국어', '문장', '분석', '이용']\n",
            "[('한국어', 'NNG'), ('의', 'JKG'), ('문장', 'NNG'), ('분석', 'NNG'), ('.', 'SF'), ('konlpy', 'OL'), ('를', 'JKO'), ('이용', 'NNG'), ('하', 'XSV'), ('ㅂ니다', 'EFN'), ('.', 'SF')]\n"
          ]
        }
      ]
    },
    {
      "cell_type": "markdown",
      "metadata": {
        "id": "FWfW92urc-YH"
      },
      "source": [
        "# 9.동아일보에서 검색한 모든 기사내용을 가지고 워드 클라우드 만들기\n"
      ]
    },
    {
      "cell_type": "markdown",
      "metadata": {
        "id": "lpwSI2mRniuD"
      },
      "source": [
        "## 1) 기사 가져오기\n",
        "\n",
        "[https://www.donga.com/news/search?p=16&query=%EC%BD%94%EB%A1%9C%EB%82%98&check_news=1&more=1&sorting=1&search_date=1&v1=&v2=&range=1](\n",
        "https://www.donga.com/news/search?p=16&query=%EC%BD%94%EB%A1%9C%EB%82%98&check_news=1&more=1&sorting=1&search_date=1&v1=&v2=&range=1\n",
        ")\n"
      ]
    },
    {
      "cell_type": "code",
      "metadata": {
        "id": "yT7tm4DkdJiU"
      },
      "source": [
        "# 검색어를 입력받아서 기사 타이틀이 나오는 곳으로 접근해서 기사 개수를 찾아오기\n",
        "import requests\n",
        "from bs4 import BeautifulSoup\n",
        "\n",
        "# 검색어를 한글로 이용하고자 하는 경우 사용\n",
        "from urllib.parse import quote\n",
        "# 텍스트 입력받기\n",
        "keyword = input('검색어를 입력하세요 : ')\n",
        "\n",
        "# 기사 검색 결과 페이지의 URL\n",
        "target_URL = 'https://www.donga.com/news/search?p=1&query=' + quote(keyword) + '&check_news=1&more=1&sorting=1&search_date=1&v1=&v2=&range=1'\n",
        "\n",
        "# html가져오기\n",
        "source_code_from_URL = requests.get(target_URL)\n",
        "\n",
        "# 200은 정상결과\n",
        "print(source_code_from_URL)\n",
        "\n",
        "print(source_code_from_URL.text)"
      ],
      "execution_count": null,
      "outputs": []
    },
    {
      "cell_type": "markdown",
      "metadata": {
        "id": "JLMxsU-gnX9w"
      },
      "source": [
        "```html\n",
        "검색어를 입력하세요 : 추석\n",
        "<Response [200]>\n",
        "<!doctype html>\n",
        "<html lang=\"ko\">\n",
        "<head>\n",
        "<title>동아닷컴</title>\n",
        "<meta http-equiv=\"Content-Type\" content=\"text/html; charset=utf-8\" />\n",
        "<meta http-equiv=\"X-UA-Compatible\" content=\"IE=edge\" />\n",
        "<meta name=\"description\" content=\"대한민국을 대표하는 정론지 동아일보의 디지털 창(窓)으로서 사회의 변화와 다양성을 아우르는 깊이있고 정확한 뉴스를 제공하고 있습니다.\" />\n",
        "<meta name=\"writer\" content=\"동아닷컴\" />\n",
        "<meta name='referrer' content='unsafe-url'>\n",
        "<meta name='dailymotion-domain-verification' content='dm86e6xoulnfokzid' />\n",
        "<meta name=\"facebook-domain-verification\" content=\"nyedn3qpatz7zur9vbmms5epehnszw\" />\n",
        "<link rel=\"image_src\" href=\"https://image.donga.com/donga2013/images/common/donga_icon.png\" />\n",
        "<link rel=\"canonical\" href=\"https://www.donga.com/news/search\" />\n",
        "\n",
        "<link rel='stylesheet' type='text/css' href='https://image.donga.com/pc/2020/css/donga_sub.css?t=20210722'>\n",
        "\n",
        "<link rel=\"stylesheet\" type=\"text/css\" href=\"https://image.donga.com/donga/css.v.2.0/slick.css\"/>\n",
        "<!-- Google Tag Manager -->\n",
        "<script>(function(w,d,s,l,i){w[l]=w[l]||[];w[l].push({'gtm.start':\n",
        "new Date().getTime(),event:'gtm.js'});var f=d.getElementsByTagName(s)[0],\n",
        "j=d.createElement(s),dl=l!='dataLayer'?'&l='+l:'';j.async=true;j.src=\n",
        "'https://www.googletagmanager.com/gtm.js?id='+i+dl;f.parentNode.insertBefore(j,f);\n",
        "})(window,document,'script','dataLayer','GTM-PCVCHHT');</script>\n",
        "<!-- End Google Tag Manager -->\n",
        "<script async src='https://securepubads.g.doubleclick.net/tag/js/gpt.js'></script>\n",
        "<script>\n",
        "window.googletag = window.googletag || {cmd: []};\n",
        "googletag.cmd.push(function() {\n",
        "googletag.defineSlot('/106061858/donga_news_bigbanner', [[336, 280], [300, 250], [728, 90], [468, 60]], 'div-gpt-ad-1630911028363-0').addService(googletag.pubads());\n",
        "googletag.pubads().enableSingleRequest();\n",
        "googletag.pubads().collapseEmptyDivs();\n",
        "googletag.enableServices();\n",
        "});\n",
        "....\n",
        "```"
      ]
    },
    {
      "cell_type": "markdown",
      "metadata": {
        "id": "uglOqNjYdOlC"
      },
      "source": [
        "## 2) 기사 건수 가져오기\n",
        "- 기사 목록페이지로부터 기사의 총 건수를 가져옵니다."
      ]
    },
    {
      "cell_type": "code",
      "metadata": {
        "id": "5jrCPyr9dVUD",
        "colab": {
          "base_uri": "https://localhost:8080/"
        },
        "outputId": "07971717-d662-41ca-8f19-55e1500d6cb4"
      },
      "source": [
        "bs = BeautifulSoup(source_code_from_URL.text, 'html.parser')\n",
        "# 건수태그 가져오기\n",
        "cnt = bs.select('.searchCont span')\n",
        "print(cnt)\n",
        "\n",
        "# 공백으로 분할\n",
        "total = cnt[0].getText().split(' ')\n",
        "# 건수만 가져오기\n",
        "total = int(total[1])\n",
        "print('검색어 : ', keyword)\n",
        "print('기사 건수 : ',total)\n"
      ],
      "execution_count": 15,
      "outputs": [
        {
          "output_type": "stream",
          "name": "stdout",
          "text": [
            "[<span>(총 19262 건 검색)</span>, <span class=\"list_type\">\n",
            "<img onclick=\"search_more('1', '1', '1', '', '', '1', '1');\" src=\"https://image.donga.com/donga2013/images/sub/chk.png\"/> 최신순　\n",
            "            <img onclick=\"search_more('1', '2', '1', '', '', '1', '1');\" src=\"https://image.donga.com/donga2013/images/sub/chk_blank.png\"/> 오래된순　\n",
            "            <img onclick=\"search_more('1', '3', '1', '', '', '1', '1');\" src=\"https://image.donga.com/donga2013/images/sub/chk_blank.png\"/> 정확도순\n",
            "        </span>, <span class=\"highlight\">추석</span>, <span>2021-09-21 15:43</span>, <span class=\"highlight\">추석</span>, <span>2021-09-21 13:26</span>, <span class=\"highlight\">추석</span>, <span class=\"highlight\">추석</span>, <span>2021-09-21 13:13</span>, <span class=\"highlight\">추석</span>, <span>2021-09-21 11:55</span>, <span class=\"highlight\">추석</span>, <span class=\"highlight\">추석</span>, <span>2021-09-21 10:31</span>, <span class=\"highlight\">추석</span>, <span>장연제 동아닷컴  기자</span>, <span>2021-09-21 09:34</span>, <span class=\"highlight\">추석</span>, <span>장연제 동아닷컴  기자</span>, <span>2021-09-21 08:24</span>, <span class=\"highlight\">추석</span>, <span class=\"highlight\">추석</span>, <span>2021-09-21 08:07</span>, <span class=\"highlight\">추석</span>, <span class=\"highlight\">추석</span>, <span>2021-09-21 07:20</span>, <span class=\"highlight\">추석</span>, <span class=\"highlight\">추석</span>, <span>2021-09-21 07:04</span>, <span class=\"highlight\">추석</span>, <span>2021-09-21 07:00</span>, <span class=\"highlight\">추석</span>, <span>2021-09-21 06:59</span>, <span class=\"highlight\">추석</span>, <span>2021-09-21 06:58</span>, <span class=\"highlight\">추석</span>, <span>2021-09-20 23:24</span>, <span class=\"highlight\">추석</span>, <span class=\"highlight\">추석</span>, <span>2021-09-20 20:50</span>, <span class=\"highlight\">추석</span>]\n",
            "검색어 :  추석\n",
            "기사 건수 :  19262\n"
          ]
        }
      ]
    },
    {
      "cell_type": "markdown",
      "metadata": {
        "id": "q7NRpMl0dqsx"
      },
      "source": [
        "- 동아일보는 한페이지당 15개의 기사 목록을 보여주고 있습니다.\n",
        "- URL의 `p=16 `부분에 각 페이지 맨위에 표시되는 기사의 인덱스를 표시해주고 있습니다\n",
        "- 검색 결과 페이지에서 데이터 개수를 리턴하는 부분이 어디인지 확인합니다\n",
        "\n",
        "입력받은 keyword이름으로 txt 파일을 생성하고 기사를 txt파일에 저장합니다"
      ]
    },
    {
      "cell_type": "code",
      "metadata": {
        "colab": {
          "base_uri": "https://localhost:8080/"
        },
        "id": "dftK_s6qdeCn",
        "outputId": "6dc8ba4e-fee8-4701-e47b-b65cea5b08e4"
      },
      "source": [
        "num_article = int(input('읽어올 기사의 개수 : '))\n",
        "\n",
        "# 읽을 페이지 개수 생성 - 소수를 버리고 정수로 생성\n",
        "page_num = num_article/15 if num_article%15 == 0 else num_article/15 + 1\n",
        "page_num = int(page_num)\n",
        "print('읽어올 페이지수 : ' ,page_num)\n",
        "\n",
        "## 'keyword'.txt라는 파일을 생성\n",
        "output_file = open(keyword + '.txt', 'w',encoding='utf-8')\n",
        "\n",
        "# 기사 개수만큼 읽기\n",
        "for i in range(page_num):\n",
        "    p = 1 + i * 15\n",
        "    target_URL = 'https://www.donga.com/news/search?p='+str(p)+'&query=' + quote(keyword) + '&check_news=1&more=1&sorting=1&search_date=1&v1=&v2=&range=1'\n",
        "    \n",
        "    source_code_from_URL = requests.get(target_URL)\n",
        "    bs = BeautifulSoup(source_code_from_URL.text,'html.parser')\n",
        "    # print(bs)\n",
        "    \n",
        "    # 기사 타이틀가져오기\n",
        "    titles = bs.select('.searchCont .searchList .t .tit a')\n",
        "    # print(titles)\n",
        "    for title in titles:\n",
        "        \n",
        "        # 기사 링크를 읽기\n",
        "        link = title['href'] \n",
        "        # print(link)\n",
        "        \n",
        "        # 기사 페이지를 읽기\n",
        "        article = requests.get(link)\n",
        "        # print(article.text)\n",
        "        \n",
        "        # 기사만 가져오기\n",
        "        article_txt = BeautifulSoup(article.text, 'html.parser')\n",
        "        \n",
        "        content = article_txt.select('div.article_txt')\n",
        "        for c in content:\n",
        "            print(str(c.find_all(text=True)))\n",
        "            # 내용을 파일에 저장\n",
        "            output_file.write(c.text)                     \n",
        "output_file.close()            \n"
      ],
      "execution_count": 16,
      "outputs": [
        {
          "output_type": "stream",
          "name": "stdout",
          "text": [
            "읽어올 기사의 개수 : 24\n",
            "읽어올 페이지수 :  2\n",
            "['\\n', '추석 당일인 21일 오후부터 전국 주요 고속도로 귀경길 방향에서 극심한 정체가 이어지고 있다.', '이날 한국도로공사에 따르면 오전부터 서서히 시작된 귀경길 정체가 오후 들어 더욱 극심해졌다. 늦은 저녁에서 내일(22일) 새벽께 해소될 것으로 예상된다. ', '서울방향은 이날 오후 3~4시 사이 정체가 절정에 이르다가 내일 새벽 1~2시에 해소되겠다. 지방방향은 오후 3~4시에 최대 혼잡을 보이다가 오후 8~9시 사이에 해소될 것으로 보인다.', '\\n', ' ADMARU Donga_DT_NEWS_CV_Video ', '\\n', ' ', '주요 노선별로 살펴보면 이날 오후 3시10분 기준 경부고속도로 서울방향은 동대구분기점에서 북대구 부근 12㎞ 구간이 정체다. 또 한곡1교에서 영동1터널까지 8㎞ 구간에서 속도가 더디고 비룡분기점에서 옥산분기점 부근 45㎞ 지점에서 정체가 극심하다. 목천 부근에서 남사까지 46㎞ 부근 속도가 나지 않고, 신갈분기점 부근 2㎞도 정체에 있다. 달래내 부근에서 반포까지 9㎞ 구간도 정체가 이어지고 있다.', '\\n', '주요기사', '\\n', '\\n', '만화는 폰으로 봐야 제맛!…귀경길 꼭 봐야할 ‘웹툰 5選’', '전기차 충전요금은 왜 오를까', '\\n', '\\n', '부산방향은 한남에서 서초까지 5㎞ 구간이 더딘 편이다. 신갈분기점에서 수원까지 2㎞도 정체이고 오산에서 남사 부근 5㎞, 옥산분기점 부근에서 옥산 7㎞, 금호분기점 부근에서 북대구 8㎞에서 속도를 내지 못하고 있다.', '영동고속도로는 인천방향으로 평창에서 둔내터널 11㎞ 구간이 정체이고, 횡성휴게소에서 새말까지 11㎞ 부근, 여주분기점 부근에서 호법분기점으로 15㎞ 역시 속도가 더딘 편이다. 또 덕평휴게소에서 양지터널로 12㎞ 구간 정체가 나타나고 있고 동수원에서 광교터미널 부근 2㎞ 구간도 정체다. 이 외에 군포에서 반월터널까지 5㎞ 구간, 군자분기점에서 월곶분기점 부근 4㎞도 속도를 내지 못하고 있다.', '강릉방향은 서창분기점에서 월곶분기점 부근 3㎞ 정체가 나타나고 있다. ', '서해안고속도로는 서울방향 줄포 부근에서 부안 부근까지 12㎞ 구간이 속도가 더디고, 동군산 부근에서 군산 부근 14㎞ 정체다. 또 대천에서 대천 부근 7㎞ 구간이 더딘 편이다. 서산 부근에서 서해대교까지 28㎞ 구간에서 속도를 내지 못하고 서평택분기점 부근에서 화성휴게소까지 11㎞ 구간 역시 정체가 극심하다.', '오후 4시 요금소 기준으로 승용차를 이용한 주요 도시간 예상 소요시간은 하행선 ▲서울~부산 5시간 ▲서울~대전 2시간20분 ▲서울~대구 4시간 ▲서울~강릉 2시간40분 ▲서울~광주 3시간40분 ▲서울~목포 3시간40분 ▲서울~울산 6시간40분 등이다.', '상행선은 ▲부산~서울 7시간 ▲대전~서울 4시간40분 ▲대구~서울 6시간 ▲강릉~서울 3시간50분 ▲광주~서울 6시간 ▲목포~서울 7시간20분 ▲울산~서울 6시간40분 등이다.', '한편 한국도로공사는 이날 전국 고속도로 교통량은 522만대로 예상했다. 수도권에서 지방으로 빠져나가는 차량은 42만대, 지방에서 수도권으로 진입하는 차량은 48만대로 전망했다.', '\\ufeff[서울=뉴시스] ', '창닫기', '기사를 추천 하셨습니다', '추석 고속도로 ‘절정’…귀경길, 내일 새벽돼야 풀려', '베스트 추천 뉴스', '홍준표 “생각 좀 바뀌었다…대통령되면 1년간 文정권 부정부패 청소”', '국민의힘 지지율 40%, 국정농단 사태 이후 최고치…文·與 소폭 하락', '‘압구정 한양’ 살던 100억 자산가…‘40년 마약’ 끊게 한 아내의 한마디', '윤석열 28.8%, 이재명 23.6%…4주 만에 오차범위 내 앞서', '윤석열 “혼밥하거나 숨지 않겠다” 공약…“秋 스트레스 없었다”엔 ‘거짓말’', '중국인 1명, 5년간 건강보험 30억원 혜택…외국인 상위 10명중 7명 중국인', 'Copyright by dongA.com All rights reserved.', ' ', \"\\n        $( document ).ready( function() {\\n            window.bestPopupObj = Popup( $( '#bestnews_layer' ), {\\n                    vertical: 'center',  /* top, bottom, center */\\n                    horizontal: 'center',  /* left, right, center */\\n                    //effect: 'slide',  /* clip slide blind */\\n                    //direction: 'left',   /* up, down, left, right */\\n                    duration: 300,\\n                    //scroll: true\\n                } ) ;\\n          });\\n    \", '\\n']\n",
            "['\\n', '21일 오전 광주 동구 학동에서 열린 광주 학동 붕괴 참사 희생자 추모식에서 유가족들이 헌화와 분향하고 있다. 2021.9.21/뉴스1 © News1 ', '\\ufeff21일 오전 광주 동구 학동 붕괴 참사 현장 인근에서 참사 희생자 추모제가 열렸다.', '유가족들과 김종효 광주시 행정부시장, 민형배·이병훈·이형석·조오섭 국회의원, 임택 동구청장 등이 참석해 희생자들의 넋을 기렸다.', '참석자들의 묵념으로 시작된 추모제는 참사 이후 첫 명절을 맞은 이진의 유족협의회장이 추모사를 하자 참석한 유족들은 참은 눈물을 터뜨렸다.', '\\n', ' ADMARU Donga_DT_NEWS_CV_Video ', '\\n', ' ', '이 회장은 추모사를 통해 “오늘은 그들(희생자) 없이 보내는 첫 번째 추석”이라며 “여기 모인 유족들은 오늘 같은 날 할 일이 없어졌다”고 말했다.', '\\n', '주요기사', '\\n', '\\n', '만화는 폰으로 봐야 제맛!…귀경길 꼭 봐야할 ‘웹툰 5選’', '전기차 충전요금은 왜 오를까', '\\n', '\\n', '이어 “추모의 시간을 마련했으나 이게 옳은 일인지 모르겠다”며 “어쩌면 우리는 세상 사람들이 이제 떠났다고, 보내주라고, 이제 없다고 말하는 그분들을 보낼 준비가 되지 않은 것 같습니다”고 흐느끼며 말했다.', '이 회장은 “태어날 손주의 초음파 사진을 애지중지 꺼내 보는 어머니를 비통한 심정으로 처절하게 그리워하는 만삭의 딸, 목소리를 들을 수 없다는 걸 알면서도 계속해서 전화를 걸어보게 된다는 딸, 매일 밤 닳아버린 내 무릎을 주무르던 불쌍한 내 남편 등 유가족들은 아직 가족의 부재를 실감하지 못하고 있다”고 눈물을 흘렸다.', '추모사에 이어 김종효 부시장이 이용섭 광주시장의 애도사를 대독하고 이병훈 의원과 임택 구청장이 뒤이어 애도했다.', '김민석 광주대교구 신부와 참사 시민대책위 공동대표인 장헌권 서정교회 목사가 추모 기도와 예식을 통해 희생자들을 추모하고 유족들의 마음을 달랬다.', '이어 유족들은 가족 이름이 적힌 위패 앞에 헌화와 분향을 하며 유명을 달리한 가족을 그리워했다.', '한 유족은 분향을 한 뒤 위패 앞에 서서 “딸아 엄마 왔어. 보고싶다”를 하염없이 반복하며 눈물을 훔쳤다.', '추모제는 한성은 유족협의회 대변인의 발언으로 끝마쳤다.', '한 대변인은 유족 발언을 통해 “고인분들은 사회에서 순식간에 지워졌다”며 “탐욕스러운 대한민국 사회에 뼈에 사무치는 증오를 느낀다”고 분개했다.', '이어 “광주는 ‘국제안전도시’라고 하더라. 슬로건은 ‘사람이 보이면 일단 멈춤’이라고 한다”며 “시민이 죽고 나서야 시민안전보험금을 주면 ‘머물고 싶은 광주, 국제안전도시 광주’가 되는 것이냐”며 울분을 토해냈다.', '또 “사전에 재난을 예방해 시민의 안전을 지키는 것이 아닌 ‘사람이 죽으면 일단 돈을 줌’ 이것이 빛고을 광주의 슬로건이냐”며 “광주시는 지위 책임을 부정하고 모든 책임을 현대산업개발과 동구청에 떠넘기며 구경하고 있다”고 질타하며 진상 규명과 책임자 처벌, 재발방지 대책 마련 등을 촉구했다.', '지난 6월9일 오후 4시22분쯤 광주시 동구 학동4구역 재개발공사 현장에서는 철거 중인 5층 건물이 무너지면서 시내버스를 덮쳐 승객 9명이 숨지고 8명이 다쳤다.', '학동4구역 재개발사업은 2018년 2월 현대산업개발에서 공사를 수주한 뒤 철거작업에 들어간 곳이다. 공사 과정에서 무리한 철거와 감리·원청 및 하도급업체 안전관리자들의 주의 의무 위반, 각종 비리의 총체적 결합이 참사의 원인으로 지목됐다.', '(광주=뉴스1)', '창닫기', '기사를 추천 하셨습니다', '광주 붕괴 참사 희생자 추모식…첫 명절 맞은 유족 ‘눈물바다’', '베스트 추천 뉴스', '홍준표 “생각 좀 바뀌었다…대통령되면 1년간 文정권 부정부패 청소”', '국민의힘 지지율 40%, 국정농단 사태 이후 최고치…文·與 소폭 하락', '‘압구정 한양’ 살던 100억 자산가…‘40년 마약’ 끊게 한 아내의 한마디', '윤석열 28.8%, 이재명 23.6%…4주 만에 오차범위 내 앞서', '윤석열 “혼밥하거나 숨지 않겠다” 공약…“秋 스트레스 없었다”엔 ‘거짓말’', '중국인 1명, 5년간 건강보험 30억원 혜택…외국인 상위 10명중 7명 중국인', 'Copyright by dongA.com All rights reserved.', ' ', \"\\n        $( document ).ready( function() {\\n            window.bestPopupObj = Popup( $( '#bestnews_layer' ), {\\n                    vertical: 'center',  /* top, bottom, center */\\n                    horizontal: 'center',  /* left, right, center */\\n                    //effect: 'slide',  /* clip slide blind */\\n                    //direction: 'left',   /* up, down, left, right */\\n                    duration: 300,\\n                    //scroll: true\\n                } ) ;\\n          });\\n    \", '\\n']\n",
            "['\\n', '국민의힘은 21일 추석 논평에서 “많은 국민께서 올해 보름달을 보면서 ‘문(文) 정권의 실정 종식’이라는 소원을 비셨을 것”이라며 “추석 민심을 겸허히 받들겠다”고 했다. ', '허은아 국민의힘 수석대변인은 이날 “민족 최대의 명절 추석을 맞아 국민 여러분 가정에 행복과 웃음이 가득하기를 기원한다”며 군 장병과 경찰, 소방관, 코로나19와 사투를 벌이고 있는 의료진 등에 감사의 인사를 보냈다. ', '그는 코로나19로 인해 가족과 고향 친구들을 마음 놓고 만날 수 없는 상황이라며 “어렵게 모인다 한들 취업 걱정, 내 집 마련 걱정, 안보 걱정에 웃음보다 한숨이 더 많이 나온다”고 했다. ', '\\n', ' ADMARU Donga_DT_NEWS_CV_Video ', '\\n', ' ', '이어 “이런데도 지금의 집권 세력은 국민 고통보다 정권 연장이 우선”이라고 지적했다. ', '\\n', '주요기사', '\\n', '\\n', '만화는 폰으로 봐야 제맛!…귀경길 꼭 봐야할 ‘웹툰 5選’', '전기차 충전요금은 왜 오를까', '\\n', '\\n', '허 대변인은 “경기도의 어느 회사가 공공개발이라는 명목하에 11만 5000%의 기적적인 수익을 올린 것이 알려졌지만, 책임을 져야 할 사람들은 오히려 언론과 야당을 겁박하고 있다”며 더불어민주당 대권주자인 이재명 경기지사의 ‘대장동 개발 특혜’ 의혹을 거론했다. ', '그는 “오는 국감에서 문 정권의 실체를 뿌리까지 파헤치고, 내년 대선에서 국민이 안심할 수 있는 분명한 대안을 보여드리겠다”고 덧붙였다. ', '국민의당 안혜진 대변인도 “풍요와 기쁨을 나누어야 할 추석 명절이나, 민생 파탄으로 벼랑 끝에 내몰린 자영업자들의 극단적인 선택이 잇따르고 있어 몹시도 마음이 무겁고 암울하기만 하다”고 올해 추석을 진단했다. ', '안 대변인은 “삶의 터전이 소멸의 위기에 처했는데도 오로지 정권 재창출에만 혈안인 정권은 법꾸라지 경쟁에 몰두하고 있어 국민에게 시름만 안기고 있다”고 지적했다. ', '그는 “자유 민주주의를 사랑하는 우리 민족은 어려운 역경 속에서도 늘 미래 희망을 잃지 않았고 정의와 공정을 지켜내기 위한 모든 노력을 아끼지 않았다”며 “국민의당 또한 불공정한 세상을 용인하지 않을 것이고 청렴한 세상, 상식이 당연한 사회를 위해 국민의 마음을 보듬고 더욱 귀 기울이며 나아가겠다”고 했다.', '\\ufeff', '[서울=뉴시스]', '창닫기', '기사를 추천 하셨습니다', '“국민들 ‘文정권 종식’ 소원 비셨을 것”…야권 추석 메시지', '베스트 추천 뉴스', '홍준표 “생각 좀 바뀌었다…대통령되면 1년간 文정권 부정부패 청소”', '국민의힘 지지율 40%, 국정농단 사태 이후 최고치…文·與 소폭 하락', '‘압구정 한양’ 살던 100억 자산가…‘40년 마약’ 끊게 한 아내의 한마디', '윤석열 28.8%, 이재명 23.6%…4주 만에 오차범위 내 앞서', '윤석열 “혼밥하거나 숨지 않겠다” 공약…“秋 스트레스 없었다”엔 ‘거짓말’', '중국인 1명, 5년간 건강보험 30억원 혜택…외국인 상위 10명중 7명 중국인', 'Copyright by dongA.com All rights reserved.', ' ', \"\\n        $( document ).ready( function() {\\n            window.bestPopupObj = Popup( $( '#bestnews_layer' ), {\\n                    vertical: 'center',  /* top, bottom, center */\\n                    horizontal: 'center',  /* left, right, center */\\n                    //effect: 'slide',  /* clip slide blind */\\n                    //direction: 'left',   /* up, down, left, right */\\n                    duration: 300,\\n                    //scroll: true\\n                } ) ;\\n          });\\n    \", '\\n']\n",
            "['\\n', '채널A ‘레전드 음악교실-랄라랜드’ 노사연이 보청기를 끼고 노래해야 하는 애틋한 사연을 밝힌다.', '21일 오후 10시30분 방송하는 ‘랄라랜드’ 7회에서는 노사연이 레전드 가수로 출연한다. 그는 히트곡인 ‘만남’을 비롯해 대학가요제 데뷔곡 ‘돌고 돌아가는 길’, ‘바램’에 이르기까지 노사연의 가수 인생을 총집합한 무대로 따뜻한 추석 선물을 전한다.', '특히 노사연은 ‘만남’에 대해 언급하던 중 “‘배워봅시다’라는 예능 코너에 이 노래가 등장하면서 발매 3년 만에 최고 인기 가수상을 수상하게 됐다”라고 밝혔다. 이어 “‘만남’으로 활동하던 당시 별명이 ‘움직이는 부동산’이었다”며 현재도 통장 잔고를 확인하지 않고 돈을 쓸 수 있는 ‘플렉스’를 드러낸다.', '\\n', ' ADMARU Donga_DT_NEWS_CV_Video ', '\\n', ' ', '이날의 족보 플레이어 도전곡인 ‘바램’에 관한 애틋한 사연도 털어놓는다. “갱년기 우울증 탓인지 이 노래를 받고 정말 많이 울었다”는 노사연은 “2015년 찾아온 돌발성 난청으로 현재는 귀가 거의 안 들린다”고 고백했다. 그는 “보청기를 끼고 노래하는 만큼 무대 위에서의 시간이 더욱 소중하고 감사하다”고 덧붙였다.', '\\n', '주요기사', '\\n', '\\n', '만화는 폰으로 봐야 제맛!…귀경길 꼭 봐야할 ‘웹툰 5選’', '전기차 충전요금은 왜 오를까', '\\n', '\\n', '제작진은 “노사연의 진심이 담긴 ‘바램; 무대와 진솔한 고백, ’랄라송‘ 도전자의 뜨거운 열창이 이어지며 출연진들의 눈시울이 연신 붉어졌다”며 “’바램‘의 노랫말을 떠올리며 부모님을 생각하는 멤버들의 속얘기와 감정에 충실하게끔 노래를 가르치는 노사연의 밀착 티칭이 이어지며 더욱 알찬 수업을 만나볼 수 있을 것이다”고 전했다.', '\\ufeff', '[서울=뉴시스]', '창닫기', '기사를 추천 하셨습니다', '‘랄라랜드’ 노사연, 보청기 끼고 노래 “돌발성 난청으로 거의 안 들려”', '베스트 추천 뉴스', '홍준표 “생각 좀 바뀌었다…대통령되면 1년간 文정권 부정부패 청소”', '국민의힘 지지율 40%, 국정농단 사태 이후 최고치…文·與 소폭 하락', '‘압구정 한양’ 살던 100억 자산가…‘40년 마약’ 끊게 한 아내의 한마디', '윤석열 28.8%, 이재명 23.6%…4주 만에 오차범위 내 앞서', '윤석열 “혼밥하거나 숨지 않겠다” 공약…“秋 스트레스 없었다”엔 ‘거짓말’', '중국인 1명, 5년간 건강보험 30억원 혜택…외국인 상위 10명중 7명 중국인', 'Copyright by dongA.com All rights reserved.', ' ', \"\\n        $( document ).ready( function() {\\n            window.bestPopupObj = Popup( $( '#bestnews_layer' ), {\\n                    vertical: 'center',  /* top, bottom, center */\\n                    horizontal: 'center',  /* left, right, center */\\n                    //effect: 'slide',  /* clip slide blind */\\n                    //direction: 'left',   /* up, down, left, right */\\n                    duration: 300,\\n                    //scroll: true\\n                } ) ;\\n          });\\n    \", '\\n']\n",
            "['\\n', '자료사진. 뉴시스', '추석 당일인 21일 오전 전국의 주요 고속도로는 귀경객과 성묘 인파가 몰려 곳곳에서 정체가 예상된다. 오후부터는 귀경 차량 이동이 본격화할 것으로 보여 오후 3~4시경엔 정체가 극심할 전망이다.', '한국도로공사에 따르면 이날 오전 11시 기준 승용차로 서울 요금소를 출발해 전국 주요 도시까지 걸리는 시간은 △부산 7시간 △울산 6시간 40분 △대구 6시간 △광주 4시간 10분 △목포 4시간 10분 △대전 2시간 40분 △강릉 2시간 50분 △양양 2시간 등이다. 서울로 올라오는 귀경 방향은 출발지 기준으로 △부산 8시간 30분 △울산 8시간 10분 △대구 7시간 30분 △광주 7시간 50분 △목표 8시간 30분 △대전 3시간 40분 △강릉 5시간 △양양 3시간 40분이다.', '자료=한국도로교통공사 제공', '경부고속도로는 부산 방향 오산∼남사 6㎞ 구간과 서울 방향 양재∼반포 5㎞ 구간을 제외하면 전날보다 원활한 흐름을 보이고 있다. 서해안고속도로, 중부고속도로, 중앙고속도로, 영동고속도로, 남해고속도로 등도 차량이 증가하긴 했으나 아직 극심한 정체 구간은 없다. 하지만 새벽에 내린 비로 도로 곳곳에서 사고 소식이 이어지고 있어 주의가 필요하다.', '\\n', ' ADMARU Donga_DT_NEWS_CV_Video ', '\\n', ' ', '귀경 방향 정체는 오전 9∼10시경 시작돼 오후 3∼4시경 절정을 찍은 뒤 연휴 마지막 날인 22일 오전 1∼2시경에야 해소될 것으로 보인다. 하행선 방향 정체는 이날 오전 7∼8시경 시작돼 오후 3∼4시경 절정에 이르렀다가 오후 8~9시경부터 차차 풀릴 것으로 예상된다.', '\\n', '주요기사', '\\n', '\\n', '만화는 폰으로 봐야 제맛!…귀경길 꼭 봐야할 ‘웹툰 5選’', '전기차 충전요금은 왜 오를까', '\\n', '\\n', '도로공사는 “오늘 많은 차들이 고속도로를 이용하겠고 성묘, 친지 방문 등 귀성과 귀경이 혼재해 극심한 정체가 예상된다”고 밝혔다. 이날 전국 교통량은 522만대로 예측됐다. 이중 수도권에서 지방으로 이동하는 차는 42만대, 지방에서 수도권으로 움직이는 차는 48만대에 이를 전망이다.', '장연제 동아닷컴 기자 jeje@donga.com', '창닫기', '기사를 추천 하셨습니다', '추석날 전국서 차량 522만대 이동…오후 3~4시 정체 절정', '베스트 추천 뉴스', '홍준표 “생각 좀 바뀌었다…대통령되면 1년간 文정권 부정부패 청소”', '국민의힘 지지율 40%, 국정농단 사태 이후 최고치…文·與 소폭 하락', '‘압구정 한양’ 살던 100억 자산가…‘40년 마약’ 끊게 한 아내의 한마디', '윤석열 28.8%, 이재명 23.6%…4주 만에 오차범위 내 앞서', '윤석열 “혼밥하거나 숨지 않겠다” 공약…“秋 스트레스 없었다”엔 ‘거짓말’', '중국인 1명, 5년간 건강보험 30억원 혜택…외국인 상위 10명중 7명 중국인', 'Copyright by dongA.com All rights reserved.', ' ', \"\\n        $( document ).ready( function() {\\n            window.bestPopupObj = Popup( $( '#bestnews_layer' ), {\\n                    vertical: 'center',  /* top, bottom, center */\\n                    horizontal: 'center',  /* left, right, center */\\n                    //effect: 'slide',  /* clip slide blind */\\n                    //direction: 'left',   /* up, down, left, right */\\n                    duration: 300,\\n                    //scroll: true\\n                } ) ;\\n          });\\n    \", '\\n']\n",
            "['\\n', '추석 연휴 셋째 날인 20일 오전 서울 중구 서울역 선별진료소에서 의료진과 근무자들이 검사를 받기 위해 온 시민들을 안내하고 있다. 2021.9.20/뉴스1 © News1 ', '국내에서 신종 코로나바이러스 감염증(코로나19) 신규 확진자가 하루 사이 1729명 늘었다. 추석 연휴로 휴일이었음에도 불구하고 월요일 확진자(발표일 기준 화요일)로는 국내 코로나19 사태 이후 최다를 기록했다.', '질병관리청 중앙방역대책본부는 21일 0시 기준 1729명의 신규 확진자가 발생해 총 누적 확진자가 28만9263명으로 집계됐다고 밝혔다. 평일 검사 결과가 반영된 15일부터 18일까지 나흘 중 사흘이 2000명대였던 확진자 규모는 주말과 추석 연휴 들어 다소 줄었지만, 그 이전 주말에 비해선 감소 폭이 크지 않았다. 확진일을 기준으로 금요일부터 토요일, 일요일, 월요일까지 나흘 연속 요일별 역대 최다 규모로 추석에도 확산세가 계속되고 있다.', '신규 확진자의 감염 경로는 국내 지역발생이 1697명, 해외유입이 32명이다.', '\\n', ' ADMARU Donga_DT_NEWS_CV_Video ', '\\n', ' ', '지역별로는 수도권에서만 1302명(서울 673명, 경기 499명, 인천 130명)의 확진자가 나왔다. 이밖에 부산 44명, 대구 46명, 광주 39명, 대전 43명, 울산 15명, 세종 4명, 강원 39명, 충북 23명, 충남 44명, 전북 31명, 전남 7명, 경북 27명, 경남 26명, 제주 7명 등 모든 지역에서 확진자가 발생했다.', '\\n', '주요기사', '\\n', '\\n', '만화는 폰으로 봐야 제맛!…귀경길 꼭 봐야할 ‘웹툰 5選’', '전기차 충전요금은 왜 오를까', '\\n', '\\n', '해외 유입 환자 32명 가운데 14명은 검역 단계에서 확진됐고, 나머지 18명은 입국 후 지역사회 격리 중 양성 판정을 받았다.', '이날 코로나19로 인한 사망자는 4명 발생했다. 누적 사망자는 총 2413명(치명률 0.83%)이다.', '완치 후 격리 해제된 사람은 전날보다 1079명 증가해 누적 26만90명이다. 현재 위·중증 환자 328명을 포함해 총 2만6760명이 격리돼 치료를 받고 있다.', '코로나19 백신 예방접종과 관련해선, 이날 0시 기준 신규 1차 접종자는 2만1683명으로 3652만7829명이 1차 접종을 마쳤다. 2차 신규 접종자는 9572명으로 총 2218만500명이 접종을 완료했다.', '장연제 동아닷컴 기자 jeje@donga.com', '창닫기', '기사를 추천 하셨습니다', '코로나19 신규확진 1729명, 나흘째 ‘요일 최다’', '베스트 추천 뉴스', '홍준표 “생각 좀 바뀌었다…대통령되면 1년간 文정권 부정부패 청소”', '국민의힘 지지율 40%, 국정농단 사태 이후 최고치…文·與 소폭 하락', '‘압구정 한양’ 살던 100억 자산가…‘40년 마약’ 끊게 한 아내의 한마디', '윤석열 28.8%, 이재명 23.6%…4주 만에 오차범위 내 앞서', '윤석열 “혼밥하거나 숨지 않겠다” 공약…“秋 스트레스 없었다”엔 ‘거짓말’', '중국인 1명, 5년간 건강보험 30억원 혜택…외국인 상위 10명중 7명 중국인', 'Copyright by dongA.com All rights reserved.', ' ', \"\\n        $( document ).ready( function() {\\n            window.bestPopupObj = Popup( $( '#bestnews_layer' ), {\\n                    vertical: 'center',  /* top, bottom, center */\\n                    horizontal: 'center',  /* left, right, center */\\n                    //effect: 'slide',  /* clip slide blind */\\n                    //direction: 'left',   /* up, down, left, right */\\n                    duration: 300,\\n                    //scroll: true\\n                } ) ;\\n          });\\n    \", '\\n']\n",
            "['\\n', '© News1', '달콤했던 연휴가 중반을 넘어섰다. 이제 이틀 뒤면 다시 일상으로 복귀해야 한다. 긴 연휴가 끝나고 업무에 복귀하면 온종일 멍하거나 심하면 어지럼증을 호소하는 경우가 있다. 이같은 ‘명절 후유증’을 예방하기 위해선 생체 리듬을 조절해야 한다.', '선우성 서울아산병원 가정의학과 교수는 “명절을 마치고 직장에 복귀한 1주일 정도는 늦은 술자리는 피하고 생체 리듬을 되찾도록 해야 한다”고 조언했다.', '명절 후유증은 연휴기간 맞춰져 있던 수면 주기와 호르몬 분비 등이 일상생활로 바뀌면서 나타난다. 대부분의 경우 이르면 하루, 이틀 정도 길어도 1~2주면 회복되지만, 심한 경우에는 몇주 동안 후유증을 앓기도 한다. 이를 방치하면 만성피로, 우울증으로 악화될 수 있다.', '\\n', ' ADMARU Donga_DT_NEWS_CV_Video ', '\\n', ' ', '특히 추석 연휴 귀성, 귀경길에 장시간 버스나 기차, 자동차를 이용했거나 많은 양의 가사노동을 한꺼번에 했다면 피로감은 더할 수 있다. 또 오랜만에 만난 가족과 많은 양의 음주를 했을 경우도 명절 후유증의 가능성은 커진다.', '\\n', '주요기사', '\\n', '\\n', '만화는 폰으로 봐야 제맛!…귀경길 꼭 봐야할 ‘웹툰 5選’', '전기차 충전요금은 왜 오를까', '\\n', '\\n', '전문가들은 명절 후유증을 줄이기 위해 ‘완충기간’을 두라고 조언한다. 마지막날까지 무리하게 연휴를 즐기기보다는 연휴 마지막 날에는 일찍 귀가해 가족들과 대화를 나누며 휴식 시간을 갖는 것이 좋다. ', '직장으로 복귀한 뒤에도 1주일 정도는 생체리듬 회복을 위해 노력해야 한다. 이 기간에는 일과 후 늦은 술자리나 회식 등은 피하는 것이 좋다.', '생체리듬을 회복하려면 하루 7~8시간 정도 충분한 수면을 취하고, 그래도 피곤하다면 근무에 지장이 없는 범위 내에서 점심시간 10분 내외 낮잠을 자는 것도 좋다. 그러나 1시간 이상 낮잠을 취할 경우 오히려 밤 수면을 방해할 수도 있다.', '식습관을 통해 몸의 회복 능력도 올려야 한다. 물을 많이 마시고 과일·야채 등을 먹는 것이 좋다. 비타민제 복용도 도움이 될 수 있다. 늦게 자고 늦게 일어나는 연휴 수면 습관으로 일시적인 수면장애·피로감 등을 느낄 수 있는데 이때 피로하다고 과도하게 커피나 탄산음료를 섭취하면 피로감만 더해지고 수면은 제대로 취하지 못해 주의해야 한다.', '퇴근 후에는 약간 더운물로 10분 정도 가볍게 샤워하는 것도 개선에 도움이 된다. 취침 전 적당한 몸풀기 운동을 하고, 낮은 베개를 사용해 바닥과 목의 각도를 줄여 수면환경을 조성해도 도움이 된다. 무릎 밑에 가벼운 베개를 고여 낮 동안 지친 허리 근육이 이완되는 자세를 유지하면 2~3주 정도 후 몸이 가벼워지는 것을 느낄 수 있다.', '명절 후유증 극복에는 스트레칭이 가장 좋다. 평소 안 하던 장시간 운전, 하루종일 누워 지내기, 벌초 등으로 뻣뻣해진 근육을 풀어주면 빠른 시일 내 일상생활로 돌아오기 쉽다.', '선우 교수는 “연휴가 1주일이 넘었음에도 아직도 무기력증에 시달리고 있다면 명절 후유증을 의심해봐야 한다”며 “명절 후유증이 2주 이상 지속되면 다른 병일 수 있으므로 각별한 주의가 필요하다”고 당부했다.', '\\ufeff', '(서울=뉴스1) ', '창닫기', '기사를 추천 하셨습니다', '연휴 마지막날 찾아오는 명절 피로감…일상복귀 준비는 어떻게', '베스트 추천 뉴스', '홍준표 “생각 좀 바뀌었다…대통령되면 1년간 文정권 부정부패 청소”', '국민의힘 지지율 40%, 국정농단 사태 이후 최고치…文·與 소폭 하락', '‘압구정 한양’ 살던 100억 자산가…‘40년 마약’ 끊게 한 아내의 한마디', '윤석열 28.8%, 이재명 23.6%…4주 만에 오차범위 내 앞서', '윤석열 “혼밥하거나 숨지 않겠다” 공약…“秋 스트레스 없었다”엔 ‘거짓말’', '중국인 1명, 5년간 건강보험 30억원 혜택…외국인 상위 10명중 7명 중국인', 'Copyright by dongA.com All rights reserved.', ' ', \"\\n        $( document ).ready( function() {\\n            window.bestPopupObj = Popup( $( '#bestnews_layer' ), {\\n                    vertical: 'center',  /* top, bottom, center */\\n                    horizontal: 'center',  /* left, right, center */\\n                    //effect: 'slide',  /* clip slide blind */\\n                    //direction: 'left',   /* up, down, left, right */\\n                    duration: 300,\\n                    //scroll: true\\n                } ) ;\\n          });\\n    \", '\\n']\n",
            "['\\n', '4분기 전기요금이 추석 연휴 직후 결정된다. 올해 들어 석유, 석탄, 액화천연가스(LNG) 등 연료비 상승세가 이어지며 정부가 지난해 말 도입한 ‘연료비 연동제’ 적용 시 전기료 인상이 불가피할 것으로 보인다. ', '정부는 올해 2·3분기에는 물가 및 코로나19로 인한 국민 생활 안정 등을 이유로 전기료 인상을 억눌렀지만, 4분기에는 연료비 증가와 한국전력의 적자 폭 등을 감안해 상승에 무게를 둘 것이란 관측이 나온다.', '21일 정부와 한전 등에 따르면 4분기 전기요금은 오는 23일께 발표된다. 전기요금은 지난해 말 연료비 연동제가 도입되면서 국제유가 등 원가 변동분을 제때 반영하게 됐다. 구체적으로 연료비 조정 단가는 직전 1년간 평균 연료비(기준연료비)와 직전 3개월간 평균 연료비(실적연료비)를 기반으로 한다. 연료비는 관세청에서 고시하는 LNG, 석탄, 유류의 무역통관 가격이 기준이다.', '\\n', ' ADMARU Donga_DT_NEWS_CV_Video ', '\\n', ' ', '올해 들어 연료비가 뛰면서 전기요금이 오를 것이란 예상이 나왔지만 한전은 지난 2·3분기 전기료를 올리지 않기로 했다. 이는 정부의 결정이기도 하다. 현행 체계에서 전기요금을 조정하려면 정부로부터 최종 인가를 받아야 한다.', '\\n', '주요기사', '\\n', '\\n', '만화는 폰으로 봐야 제맛!…귀경길 꼭 봐야할 ‘웹툰 5選’', '전기차 충전요금은 왜 오를까', '\\n', '\\n', '앞서 정부는 코로나19 장기화로 어려움을 겪는 국민 생활 안정 도모를 위해 조정단가 상승을 유보한다고 밝힌 바 있다. 경기 위축 상황에서 물가 상승 요인을 억눌러야 하는 정부로서는 요금조정 유보 권한을 마땅히 행사해야 한다고 본 것이다. 가계와 산업 등에 미치는 영향이 큰 전기료가 오르면 물가를 자극할 수 있단 점에서다.', '결국 인상 요인은 한전이 떠안으며 제도가 무용지물이 됐다는 비판이 쏟아졌다. 연료비 연동제 도입 이유 중 하나가 한전의 부실한 재무 구조를 보완하기 위한 것인데 이런 효과를 보지 못한 것이다. 다만 올해 들어 수개월째 인상 요인이 지속되고 있는 만큼 더는 인위적인 조정이 어려울 것이란 분석이 많다.', '산업통상자원부의 원자재가격정보에 따르면 호주 뉴캐슬 전력용 연료탄의 최근 52주 중 톤(t)당 최저 가격은 지난해 9월18일 기록한 53.66달러다. 그러나 약 1년 뒤인 이달 17일에 최근 52주 최고치인 182.6달러를 찍었다. ', '두바이유 가격도 지난 17일 기준 배럴당 73.06달러로 지난해 11월 2일(36.3달러)과 비교하면 2배가량 올랐다. 연초와 비교하면 39.19% 뛰었다. LNG 가격은 올해 4월 1톤당 385.5달러로 주춤했지만 5월 407.7달러로 상승 전환해 6월 459.7달러를 찍었다.', '이런 상황에서 전기료 인상 유보 시 공기업 한전의 부채는 더 늘 수밖에 없다. 한전은 ‘2021~2025년 중장기 재무관리계획’을 통해 올해 영업손실 규모가 4조3845억원에 달할 것으로 자체 전망했다. 한전은 누적부채도 지난해 132조4753억원에서 올해 142조1354억원으로 1년 새 9조원 이상 늘 것으로 관측했다. 같은 기간 부채비율도 187.5%에서 216.7%로 증가할 것으로 예상했다.', '전력 산업계의 탄소중립 이행을 위해서는 전기요금 인상이 불가피하다는 시각도 있다. 실제로 한전의 신재생에너지공급의무(RPS) 비용과 탄소배출권거래제(ETS) 비용을 포함한 기후·환경비용 지출 규모는 매년 늘고 있다. 이 비용은 2016년 1조5159억원, 2017년 1조9713억원, 2018년 2조1529억원, 2019년 2조6028억원, 2020년 2조5071억원으로 늘어났고 올 상반기에만 1조7553억원을 기록했다.', '만약 이번에 전기요금이 오르면 2013년 11월 이후 약 8년 만의 요금 조정이다. 조정 요금은 최대 kWh당 5원 범위내에서 직전 요금 대비 3원까지만 변동된다. 상한선인 5원에 도달하면 그 이상으로 인상·인하되지 않는다. 3원 인상은 월평균 350kWh의 전기를 쓰는 4인 가구 요금이 월 1050원 오르는 것을 의미한다.', '[세종=뉴시스] ', '창닫기', '기사를 추천 하셨습니다', '추석 이후 전기요금 결정…8년 만에 인상 가능성 ‘쑥’', '베스트 추천 뉴스', '홍준표 “생각 좀 바뀌었다…대통령되면 1년간 文정권 부정부패 청소”', '국민의힘 지지율 40%, 국정농단 사태 이후 최고치…文·與 소폭 하락', '‘압구정 한양’ 살던 100억 자산가…‘40년 마약’ 끊게 한 아내의 한마디', '윤석열 28.8%, 이재명 23.6%…4주 만에 오차범위 내 앞서', '윤석열 “혼밥하거나 숨지 않겠다” 공약…“秋 스트레스 없었다”엔 ‘거짓말’', '중국인 1명, 5년간 건강보험 30억원 혜택…외국인 상위 10명중 7명 중국인', 'Copyright by dongA.com All rights reserved.', ' ', \"\\n        $( document ).ready( function() {\\n            window.bestPopupObj = Popup( $( '#bestnews_layer' ), {\\n                    vertical: 'center',  /* top, bottom, center */\\n                    horizontal: 'center',  /* left, right, center */\\n                    //effect: 'slide',  /* clip slide blind */\\n                    //direction: 'left',   /* up, down, left, right */\\n                    duration: 300,\\n                    //scroll: true\\n                } ) ;\\n          });\\n    \", '\\n']\n",
            "['\\n', '2주간의 격리에서 해제된 아프가니스탄 특별기여자 자녀들이 13일 오전 충북 진천군 국가공무원 인재개발원 운동장에서 야외 활동을 하고 있다. 2021.9.13/뉴스1 © News1 ', '한국에 온지 26일째인 아프가니스탄 특별기여자 390명이 알록달록 송편으로 첫 추석을 맞았다. ', '21일 법무부에 따르면, 충북 진천 국가공무원인재개발원에서 생활 중인 아프가니스탄 특별기여자 390명은 처음 경험하는 한국 고유 명절인 추석 연휴를 맞아 송편을 맛보고 한국 고유문화를 배우는 시간을 가졌다. ', '신종 코로나바이러스 감염증(코로나19) 확산으로 인한 방역지침에 따라 한 장소에 모여 담소를 나누며 명절 분위기를 체험해 볼 수는 없지만, 가정마다 전달된 추석 음식인 송편을 맛보며 한국 명절 문화를 소개하기 위해 제작된 동영상을 시청했다. ', '\\n', ' ADMARU Donga_DT_NEWS_CV_Video ', '\\n', ' ', '유복렬 법무부 출입국·외국인정책본부 국적·통합정책 단장은 “추석 연휴를 맞아 다각도로 검토했지만 진천은 거리두기 3단계라 50명 이상이 모일 수 없어 별도의 일정은 어렵다”며 “고민하다가 송편을 가정마다 제공해 추석의 의미를 설명하기로 했다”고 했다. 또한 “명절 풍습과 한국의 음식 등 다양한 한국문화를 소개하는 동영상을 USB에 담아 전달했다”고 덧붙였다. ', '\\n', '주요기사', '\\n', '\\n', '만화는 폰으로 봐야 제맛!…귀경길 꼭 봐야할 ‘웹툰 5選’', '전기차 충전요금은 왜 오를까', '\\n', '\\n', '아프가니스탄 특별기여자들은 입국 직후 2주간의 격리를 마치고 임시숙소인 개발원 안에서 생활하고 있다. 이곳의 아프간인은 390명, 79가구로 임신부가 7명이며, 약 60%인 238명이 미성년자다. ', '지난 9일부터 자가격리에서 해제된 이들은 갑갑한 실내생활에서 벗어나 경내 운동장 등 산책을 하며 그간의 긴장과 불안을 조금씩 털어내고 있다. 운영인력 인솔하에 아이들은 장난감차를 타거나 공을 차며 뛰어놀고, 어른들은 운동장 트랙을 따라 산책한다고 한다. 23일부터는 이들을 대상으로 한국어와 한국문화, 금융 지식 등 기초 교육도 진행된다. ', '전국에서 따뜻한 기부도 이어지고 있다. 대한불교조계종은 이들을 위해 써달라며 지난 17일 법무부에 1억원을 기부했다. 대한적십자사를 통해 과일과 차 등 식품을 비롯해 아이들을 위한 분유, 기저귀, 장난감, 학용품, 옷 등이 속속 도착하고 있다. ', '낯선 타국에서 긴장감이 더욱 컸을 아프간 특별기여자의 자녀들은 우리나라의 또래 아이들이 보낸 손편지를 받기도 했다. 아프간 아이들 앞으로 전해진 손편지는 100여통. 아이들이 고사리손으로 쓴 그림편지에는 “친구야 아프지 마”, “같이 살자” 등 환영한다는 내용이 담겼다. ', '임신부가 7명, 미성년자가 전체의 60%로 많다 보니 의료진들의 각별한 관심과 지원도 이어졌다. 고려대학교의료원이 지난 16일부터 6주간 의료지원에 나섰다. 의료진 10여명과 컴퓨터 단층촬영(CT), 초음파 검사 등이 가능한 의료버스 2대를 현장에 파견하고, 출산이 예정된 일부 임산부를 고대병원으로 이송해 출산을 도울 예정이다. 이밖에 충주의료원은 의료버스를, 인도주의실천의사협의회는 매주 2회 정기적으로 소아과 진료를 지원한다. ', '이들은 임시숙소인 인재개발원에서 10월 말까지 머무른다. 아직까지 제3국행을 원하는 이들은 없으며 이들 전원이 한국 정착을 희망하는 것으로 법무부는 파악하고 있다. 이에 법무부는 교육부 등 정부 각 부처와의 협력을 통해 5개월간의 ‘사회통합프로그램’을 실시해 이들의 완전 자립을 돕겠다는 방침이다. 법무부는 임시생활 기간 이후의 거처도 물색 중이다.', '\\ufeff', '(서울=뉴스1) ', '창닫기', '기사를 추천 하셨습니다', '‘한국서 첫 추석’ 아프간 특별기여자들도 송편 먹으며 명절 체험', '베스트 추천 뉴스', '홍준표 “생각 좀 바뀌었다…대통령되면 1년간 文정권 부정부패 청소”', '국민의힘 지지율 40%, 국정농단 사태 이후 최고치…文·與 소폭 하락', '‘압구정 한양’ 살던 100억 자산가…‘40년 마약’ 끊게 한 아내의 한마디', '윤석열 28.8%, 이재명 23.6%…4주 만에 오차범위 내 앞서', '윤석열 “혼밥하거나 숨지 않겠다” 공약…“秋 스트레스 없었다”엔 ‘거짓말’', '중국인 1명, 5년간 건강보험 30억원 혜택…외국인 상위 10명중 7명 중국인', 'Copyright by dongA.com All rights reserved.', ' ', \"\\n        $( document ).ready( function() {\\n            window.bestPopupObj = Popup( $( '#bestnews_layer' ), {\\n                    vertical: 'center',  /* top, bottom, center */\\n                    horizontal: 'center',  /* left, right, center */\\n                    //effect: 'slide',  /* clip slide blind */\\n                    //direction: 'left',   /* up, down, left, right */\\n                    duration: 300,\\n                    //scroll: true\\n                } ) ;\\n          });\\n    \", '\\n']\n",
            "['\\n', '토니 블링컨 미국 국무부 장관이 20일(현지시간) “전 세계 한국인들이 안전하고 즐거운 추석이 되길 바란다”고 말했다.', '블링컨 장관은 이날 성명을 통해 “코로나19 대유행을 통한 우리의 경험은 가족과 우정의 중요성을 강화시켰다. 추석을 맞아 우리는 우리가 가진 모든 것에 감사하며 앞으로 번창할 한 해를 기대한다”고 전했다.', '그러면서 “한미 양국의 지속적인 동맹과 우정은 우리의 민주주의적 가치 공유와 21세기의 가장 시급한 과제를 해결하기 위해 함께 노력하겠다는 약속을 바탕에 두고 있다. 확고한 한미동맹은 세계 평화, 안보, 번영을 위해 필수적”이라고 강조했다.', '\\n', ' ADMARU Donga_DT_NEWS_CV_Video ', '\\n', ' ', '아울러 “한국인들에게 이번 추석에 가장 따뜻한 안부를 전한다”고 덧붙였다.', '\\n', '주요기사', '\\n', '\\n', '만화는 폰으로 봐야 제맛!…귀경길 꼭 봐야할 ‘웹툰 5選’', '전기차 충전요금은 왜 오를까', '\\n', '\\n', '\\ufeff', '[서울=뉴시스] ', '창닫기', '기사를 추천 하셨습니다', '美국무장관 “한국인들, 안전하고 즐거운 추석되길”', '베스트 추천 뉴스', '홍준표 “생각 좀 바뀌었다…대통령되면 1년간 文정권 부정부패 청소”', '국민의힘 지지율 40%, 국정농단 사태 이후 최고치…文·與 소폭 하락', '‘압구정 한양’ 살던 100억 자산가…‘40년 마약’ 끊게 한 아내의 한마디', '윤석열 28.8%, 이재명 23.6%…4주 만에 오차범위 내 앞서', '윤석열 “혼밥하거나 숨지 않겠다” 공약…“秋 스트레스 없었다”엔 ‘거짓말’', '중국인 1명, 5년간 건강보험 30억원 혜택…외국인 상위 10명중 7명 중국인', 'Copyright by dongA.com All rights reserved.', ' ', \"\\n        $( document ).ready( function() {\\n            window.bestPopupObj = Popup( $( '#bestnews_layer' ), {\\n                    vertical: 'center',  /* top, bottom, center */\\n                    horizontal: 'center',  /* left, right, center */\\n                    //effect: 'slide',  /* clip slide blind */\\n                    //direction: 'left',   /* up, down, left, right */\\n                    duration: 300,\\n                    //scroll: true\\n                } ) ;\\n          });\\n    \", '\\n']\n",
            "['\\n', '추석 하루 전인 20일 오후 서울시내에 보름달이 떠있다. 2021.9.20/뉴스1 © News1 ', '추석 당일이자 화요일인 21일 전국에 비가 내릴 전망이다. ', '기상청은 이날 서쪽에서 다가오는 기압골의 영향으로 새벽부터 중부지방(강원영동 제외)과 전라권에서 비가 시작돼 그 밖의 지역으로 확대된다고 예보했다. ', '이 비는 이날 오후 수도권과 충남권, 전라권을 시작으로 저녁에 대부분 지역에서 그치겠으나 저녁부터 또 다른 기압골이 북서쪽에서 남하하면서 수도권과 강원영서, 충남 서해안에 다시 비가 올 것으로 보인다. ', '\\n', ' ADMARU Donga_DT_NEWS_CV_Video ', '\\n', ' ', '예상 강수량은 중부지방(강원영동 제외)·남부지방(경북 동해안 제외)·제주도·서해5도 20~70㎜(많은 곳 전남권, 경남권, 제주도 100㎜ 이상), 강원영동·경북 동해안·울릉도·독도 5~20㎜이다.', '\\n', '주요기사', '\\n', '\\n', '만화는 폰으로 봐야 제맛!…귀경길 꼭 봐야할 ‘웹툰 5選’', '전기차 충전요금은 왜 오를까', '\\n', '\\n', '특히 강한 남풍에 동반된 다량의 수증기가 유입돼 비구름대가 발달하면서 이날 아침까지 서쪽 지역, 낮 동안에는 동쪽 지역을 중심으로 시간당 30~50㎜의 매우 강한 비가 내리는 곳도 있겠다.', '비가 오는 지역에서는 돌풍과 함께 천둥·번개가 치는 곳이 있으며, 가시거리가 짧아지고 도로가 미끄러워 귀경길 교통안전에도 각별히 유의해야 한다. ', '이날 아침 최저기온은 18~23도, 낮 최고기온은 25~29도로 예상된다.', '지역별 예상 아침 최저기온은 Δ서울 19도 Δ인천 20도 Δ강릉 18도 Δ춘천 17도 Δ대전 18도 Δ대구 17도 Δ부산 20도 Δ전주 18도Δ 광주 18도 Δ제주 22도다.', '낮 최고기온은 Δ서울 28도 Δ인천 28도 Δ강릉 26도 Δ춘천 28도 Δ대전 28도 Δ대구 27도 Δ부산 27도 Δ전주 29도 Δ광주 28도 Δ제주 30도다.', '미세먼지 농도는 원활한 대기 확산으로 전 권역에서 ‘좋음’으로 예상된다.', '풍량특보가 발표된 서해 먼바다는 아침까지 바람이 시속 35~65㎞로 강하게 불고, 물결이 2.0~4.0m로 높게 있겠다.', '한편 이날 전국적으로 비 소식이 있어 하늘은 대체로 흐리겠지만 지역에 따라 오후부터 개면서 보름달을 볼 수 있는 곳도 있겠다. ', '한국천문연구원에 따르면 이날 주요도시 달 뜨는 시각은 Δ서울 오후 6시59분 Δ인천 오후 7시 Δ수원 오후 6시59분 Δ강릉 오후 6시51분 Δ춘천 오후 6시56분 Δ대전 오후 6시57분 Δ청주 오후 6시57분 Δ대구 오후 6시52분 Δ부산 오후 6시50분 Δ울산 오후6시49분 Δ광주 오후 6시59분 Δ전주 오후 6시58분 Δ제주 오후 7시다.', '(서울=뉴스1) ', '창닫기', '기사를 추천 하셨습니다', '비 내리는 한가위…보름달은 오후 7시쯤', '베스트 추천 뉴스', '홍준표 “생각 좀 바뀌었다…대통령되면 1년간 文정권 부정부패 청소”', '국민의힘 지지율 40%, 국정농단 사태 이후 최고치…文·與 소폭 하락', '‘압구정 한양’ 살던 100억 자산가…‘40년 마약’ 끊게 한 아내의 한마디', '윤석열 28.8%, 이재명 23.6%…4주 만에 오차범위 내 앞서', '윤석열 “혼밥하거나 숨지 않겠다” 공약…“秋 스트레스 없었다”엔 ‘거짓말’', '중국인 1명, 5년간 건강보험 30억원 혜택…외국인 상위 10명중 7명 중국인', 'Copyright by dongA.com All rights reserved.', ' ', \"\\n        $( document ).ready( function() {\\n            window.bestPopupObj = Popup( $( '#bestnews_layer' ), {\\n                    vertical: 'center',  /* top, bottom, center */\\n                    horizontal: 'center',  /* left, right, center */\\n                    //effect: 'slide',  /* clip slide blind */\\n                    //direction: 'left',   /* up, down, left, right */\\n                    duration: 300,\\n                    //scroll: true\\n                } ) ;\\n          });\\n    \", '\\n']\n",
            "['\\n', '명절 연휴에도 프로야구 순위 싸움은 쉬지 않는다. ‘중위권 대전’은 연휴에 더 뜨겁게 달아오를 전망이다. ', '추석 당일인 21일 NC 다이노스는 잠실 구장에서 두산 베어스와 2연전의 첫 번째 경기를 갖는다. 인천에서는 키움 히어로즈와 SSG 랜더스가 만난다. ', '결과에 따라 중위권 판도가 바뀔 수 있는 대진이다. ', '\\n', ' ADMARU Donga_DT_NEWS_CV_Video ', '\\n', ' ', 'NC는 20일까지 4위(53승4무51패)를 지키고 있다. 두산은 NC에 0.5게임차(52승5무51패) 뒤진 5위를 마크하고 있다. ', '\\n', '주요기사', '\\n', '\\n', '만화는 폰으로 봐야 제맛!…귀경길 꼭 봐야할 ‘웹툰 5選’', '전기차 충전요금은 왜 오를까', '\\n', '\\n', '키움은 두산과 승차 없는 6위(56승3무55패)다. 7위 SSG(52승7무54패)도 키움과 1.5게임차 밖에 나지 않아 이번 2연전을 통해 역전이 충분히 가능하다. ', '각 팀이 촘촘히 붙어있지만 분위기는 다르다. ', '전반기 막판 주축 선수들이 코로나19 방역 지침 위반 술자리 파문으로 이탈한 NC는 후반기에도 중위권에서 계속 경쟁하고 있다. 빠져나간 선수들의 공백에 다소 어려움을 겪기도 했지만 새롭게 기회를 얻은 선수들이 선전하고 있다. ', '두산은 중위권에 모인 팀 중 가장 흐름이 좋다. ', '지난 6월말부터 7위에서 벗어나지 못하고 있었지만 어느새 5할 승률을 넘어 ‘미러클 두산’의 존재감을 드러내는 중이다. 후반기 3위(16승5무13패)에 오를 정도로 최근 페이스가 좋다. ', '두산은 기세를 몰아 4위도 넘본다. ', '21일 NC전 선발로는 최원준을 투입한다. 전반기 막판부터 다소 주춤했던 최원준은 최근 2경기 연속 퀄리티 스타트(QS, 선발 6이닝 이상 3자책점 이하)를 달성하는 등 다시 감을 잡았다. 지난 9일 NC전에서도 7이닝 동안 7개의 삼진을 뽑아내며 1실점으로 호투했다. ', ' NC는 신민혁으로 맞불을 놓는다. 신민혁도 최근 등판인 15일 키움전에서 6이닝 1실점 비자책 쾌투를 선보였다. 신민혁은 최근 2연패에 빠진 팀을 연패에서 탈출시켜야 하는 중책도 맡았다. ', '인천에서 맞대결을 펼치는 키움과 SSG는 분위기 반전을 노린다. ', '4위까지 올라섰던 키움은 경기 후반 뒷심에서 밀리며 어느덧 5연패에 빠졌다. 그 사이 순위도 6위까지 밀려났다. 9월들어 구원진 평균자책점이 10위(5.66)에 그칠 만큼 뒷문이 헐겁다. ', '시즌 내내 투수진의 부상 이탈이 계속되고 있는 SSG는 더 이상 물러설 곳이 없다. 격차가 계속 벌어진다면 포스트시즌 진출도 어려워진다. ', 'SSG는 21일 가빌리오를 내세워 키움을 상대한다. 대체 외국인 선수로 합류한 가빌리오는 KBO리그 두 번째 경기였던 7월2일 키움전에서 4⅔이닝 8실점(7자책)으로 무너진 바 있다. 이번엔 다른 모습을 보여줘야 한다. ', '키움은 후반기 가장 강력한 카드가 된 정찬헌이 출격한다. 올림픽 휴식기 동안 트레이드를 통해 키움 유니폼을 입은 정찬헌은 이적 후 6경기에서 1승1패 평균자책점 3.00을 마크했다. 승리를 많이 쌓진 못했지만 정찬헌이 등판한 6경기 중 팀은 4승(2패)를 따냈다.', '\\ufeff[서울=뉴시스]', '창닫기', '기사를 추천 하셨습니다', '제대로 만났다…한가위 프로야구 중위권 대전', '베스트 추천 뉴스', '홍준표 “생각 좀 바뀌었다…대통령되면 1년간 文정권 부정부패 청소”', '국민의힘 지지율 40%, 국정농단 사태 이후 최고치…文·與 소폭 하락', '‘압구정 한양’ 살던 100억 자산가…‘40년 마약’ 끊게 한 아내의 한마디', '윤석열 28.8%, 이재명 23.6%…4주 만에 오차범위 내 앞서', '윤석열 “혼밥하거나 숨지 않겠다” 공약…“秋 스트레스 없었다”엔 ‘거짓말’', '중국인 1명, 5년간 건강보험 30억원 혜택…외국인 상위 10명중 7명 중국인', 'Copyright by dongA.com All rights reserved.', ' ', \"\\n        $( document ).ready( function() {\\n            window.bestPopupObj = Popup( $( '#bestnews_layer' ), {\\n                    vertical: 'center',  /* top, bottom, center */\\n                    horizontal: 'center',  /* left, right, center */\\n                    //effect: 'slide',  /* clip slide blind */\\n                    //direction: 'left',   /* up, down, left, right */\\n                    duration: 300,\\n                    //scroll: true\\n                } ) ;\\n          });\\n    \", '\\n']\n",
            "['\\n', '20일 오전 경부고속도로 잠원IC인근 하행선(부산방향, 오른쪽) 2021.9.20/뉴스1 © News1 ', '\\ufeff 추석 당일인 21일 고향에 갔다가 서울로 올라오는 귀경객들이 몰려 극심한 정체가 예상된다. ', '한국도로공사는 이날 지방에서 수도권으로 48만대, 수도권에서 지방으로 42만대의 차량이 빠져나갈 것으로 예측했다. ', '전국에서 총 522만대의 차량이 고속도로를 이용할 것이란 전망이다. 이는 연휴 첫날인 18일(477만대) 둘째 날인 19일(415만대)보다 많은 수치다. ', '\\n', ' ADMARU Donga_DT_NEWS_CV_Video ', '\\n', ' ', '이날 아침부터 양 방향 고속도로의 정체가 시작돼 밤까지 이어질 것으로 보인다. ', '\\n', '주요기사', '\\n', '\\n', '만화는 폰으로 봐야 제맛!…귀경길 꼭 봐야할 ‘웹툰 5選’', '전기차 충전요금은 왜 오를까', '\\n', '\\n', '서울로 돌아오는 귀경방향은 오전 9~10시쯤 정체가 시작해 오후 3~4시쯤 절정에 이르렀다가 연휴 마지막 날인 22일 오전 1~2시쯤 해소될 전망이다. ', '경부선 서울방향은 Δ신탄진~안성 분기점 Δ기흥~신갈 분기점 Δ금토 분기점~서초, 서해안선 서울방향은 Δ서산~송악 Δ팔탄 분기점~팔곡 분기점 Δ일직 분기점~금천, 중부선 서울방향은 Δ남이 분기점~오창 Δ일죽~호법 분기점 Δ신둔~산곡 분기점, 영동선 서울방향은 Δ여주~양지 Δ부곡~안산 분기점 Δ군자~서창 분기점 부근에서 오후 4시쯤 정체가 극심할 것으로 예상된다. 서울양양선 서울방향은 오후 3시쯤 춘천 분기점~남춘천, 덕소 삼패~강일 부근에서 가장 혼잡할 것으로 보인다. ', '귀성방향 하행 정체는 이날 오전 7~8시쯤 시작돼 오후 3~4시쯤 절정에 이르렀다가 오후 8~9시쯤 해소될 것으로 예상된다.', '경부선 부산방향은 Δ서울~수원 신갈 Δ안성~천안 분기점 Δ목천~청주 부근에서 오후 3시쯤 가장 혼잡할 전망이다. 서해안선 목포방향은 조남 분기점~비봉~발안 부근에서 오전 1시쯤 정체가 극심할 것으로 보인다.', '중부선 남이방향은 Δ하남~경기 광주 Δ마장 분기점~남이천 Δ진천~오창, 영동선 강릉방향은 Δ둔대 분기점~부곡 Δ마성~양지 Δ호법 분기점~이천, 서울양양선 양양방향은 Δ강일~남양주 Δ남춘천~춘천 분기점 부근에서 오후 2시쯤 정체가 절정에 달할 것으로 예상된다.', '한편 이날 전국적으로 비 소식이 있어 가시거리가 짧아지고 도로가 미끄러워 귀경·귀성길 교통안전에 유의해야 한다.', '\\ufeff', '(서울=뉴스1)', '창닫기', '기사를 추천 하셨습니다', '다시 집으로…귀경길 정체 오전 9시부터, 오후 3시 절정', '베스트 추천 뉴스', '홍준표 “생각 좀 바뀌었다…대통령되면 1년간 文정권 부정부패 청소”', '국민의힘 지지율 40%, 국정농단 사태 이후 최고치…文·與 소폭 하락', '‘압구정 한양’ 살던 100억 자산가…‘40년 마약’ 끊게 한 아내의 한마디', '윤석열 28.8%, 이재명 23.6%…4주 만에 오차범위 내 앞서', '윤석열 “혼밥하거나 숨지 않겠다” 공약…“秋 스트레스 없었다”엔 ‘거짓말’', '중국인 1명, 5년간 건강보험 30억원 혜택…외국인 상위 10명중 7명 중국인', 'Copyright by dongA.com All rights reserved.', ' ', \"\\n        $( document ).ready( function() {\\n            window.bestPopupObj = Popup( $( '#bestnews_layer' ), {\\n                    vertical: 'center',  /* top, bottom, center */\\n                    horizontal: 'center',  /* left, right, center */\\n                    //effect: 'slide',  /* clip slide blind */\\n                    //direction: 'left',   /* up, down, left, right */\\n                    duration: 300,\\n                    //scroll: true\\n                } ) ;\\n          });\\n    \", '\\n']\n",
            "['\\n', '고진영, 포틀랜드 클래식 우승', '\\n', '고진영이 19일(현지시간) 미 오리건주 웨스트 린의 디 오리건 골프클럽에서 막을 내린 미국여자프로골프(LPGA) 투어 캄비아 \\r\\n포틀랜드 클래식에서 우승한 후 트로피와 함께 기념촬영을 하고 있다. 고진영은 최종합계 11언더파 205타로 우승, 시즌 2승째를 \\r\\n기록했다. \\ufeff[웨스트린=AP/뉴시스]', ' 미국여자프로골프(LPGA)투어 캄비아 포틀랜드 클래식(총상금 140만달러)에서 우승한 고진영(26·솔레어)이 추석을 맞아 한국 팬들에게 좋은 선물을 선사한 것 같다며 기뻐했다.', '고진영은 20일(이하 한국시간) 미국 오리건주 웨스트 린의 디 오리건 골프클럽(파72·6478야드)에서 열린 대회 최종 3라운드에서 보기 없이 버디만 3개를 잡아내며 3언더파 69타를 적어냈다.', '대회가 54홀 경기로 축소 운영된 가운데 고진영은 최종합계 11언더파 205타로 시즌 2번째 및 통산 9번째 우승 트로피를 품에 안았다. 2021시즌 한국 선수들의 4번째 우승.', '\\n', ' ADMARU Donga_DT_NEWS_CV_Video ', '\\n', ' ', '고진영(왼쪽)이 19일(현지시간) 미 오리건주 웨스트 린의 디 오리건 골프클럽에서 열린 미국여자프로골프(LPGA) 투어 캄비아 \\r\\n포틀랜드 클래식 최종 라운드 18번 홀 경기를 마치고 우승하면서 부모로부터 축하 세례를 받고 있다. 고진영은 최종합계 11언더파 \\r\\n205타로 우승, 시즌 2승째를 기록했다. 2021.09.20. \\ufeff[웨스트린=AP/뉴시스] ', '고진영은 LPGA투어를 통해 “한가위를 앞두고 우승을 했는데 많은 분들께서 기뻐하시면 좋겠고 좋은 명절 보내셧으면 한다”며 “한가위에 좋은 선물을 드릴 수 있어 영광이다”고 소감을 밝혔다.', '\\n', '주요기사', '\\n', '\\n', '만화는 폰으로 봐야 제맛!…귀경길 꼭 봐야할 ‘웹툰 5選’', '전기차 충전요금은 왜 오를까', '\\n', '\\n', '고진영은 지난 여름 2020 도쿄 올림픽 이후 한국에서 재충전의 시간을 가졌다. 그로 인해 복귀 첫 대회부터 우승이라는 값진 결과물을 만들어낼 수 있었다.', '고진영은 “올림픽 이후 한국에서 6~7주 정도 쉰 것 같다. 코치님과 많은 연습을 소화하는 등 운동도 열심히 했다”며 “이번 주 굉장히 좋은 시간을 보냈고, 트로피에 내 이름을 새길 수 있어 기쁘다”고 말했다.', '나아가 “그동안 한 번도 부모님 앞에서 우승을 하지 못했는데 올해는 2번 모두 부모님 앞에서 우승했다”고 덧붙였다.', '(서울=뉴스1)', '창닫기', '기사를 추천 하셨습니다', '‘시즌 2승’ 고진영 “한가위 앞두고 좋은 선물 드릴 수 있어서 영광”', '베스트 추천 뉴스', '홍준표 “생각 좀 바뀌었다…대통령되면 1년간 文정권 부정부패 청소”', '국민의힘 지지율 40%, 국정농단 사태 이후 최고치…文·與 소폭 하락', '‘압구정 한양’ 살던 100억 자산가…‘40년 마약’ 끊게 한 아내의 한마디', '윤석열 28.8%, 이재명 23.6%…4주 만에 오차범위 내 앞서', '윤석열 “혼밥하거나 숨지 않겠다” 공약…“秋 스트레스 없었다”엔 ‘거짓말’', '중국인 1명, 5년간 건강보험 30억원 혜택…외국인 상위 10명중 7명 중국인', 'Copyright by dongA.com All rights reserved.', ' ', \"\\n        $( document ).ready( function() {\\n            window.bestPopupObj = Popup( $( '#bestnews_layer' ), {\\n                    vertical: 'center',  /* top, bottom, center */\\n                    horizontal: 'center',  /* left, right, center */\\n                    //effect: 'slide',  /* clip slide blind */\\n                    //direction: 'left',   /* up, down, left, right */\\n                    duration: 300,\\n                    //scroll: true\\n                } ) ;\\n          });\\n    \", '\\n']\n",
            "['\\n', '추석 당일인 21일 화요일 전국 고속도로가 다소 답답한 교통 흐름을 보일 것으로 예상된다. 서울로 돌아가는 귀경길 행렬이 시작되면서 양방향에서 교통 정체가 나타날 것으로 보인다. ', '20일 한국도로공사에 따르면 내일 전국 고속도로를 이용하는 차량은 522만대가 될 것으로 예상된다. 수도권에서 지방으로 빠져나가는 차량은 42만대, 지방에서 수도권으로 들어오는 차량은 48만대로 예측된다. ', '서울 방향 정체는 오전 9~10시께 시작 이후 오후 3~4시 사이 절정을 이룬 뒤 새벽 1시께 해소될 전망이다. 내일 오전 7~8시께 시작되는 지방 방향 정체는 오후 3~4시 사이 최대치를 기록한 뒤 오후 8~9시께 해소될 것으로 보인다. ', '\\n', ' ADMARU Donga_DT_NEWS_CV_Video ', '\\n', ' ', '귀성 행렬이 막바지에 접어들면서 이날 오후 8시 기준 전국 고속도로는 일부 구간을 제외하고 대체로 원활한 교통 흐름을 보이고 있다. ', '\\n', '주요기사', '\\n', '\\n', '만화는 폰으로 봐야 제맛!…귀경길 꼭 봐야할 ‘웹툰 5選’', '전기차 충전요금은 왜 오를까', '\\n', '\\n', '경부고속도로 부산방향 잠원나들목 1.38㎞ 구간과 서울방향 안성나들목 11.61㎞ 구간에서 일시적인 정체가 나타나고 있다. 서울 양양고속도로 서울방향 미사나들목~강일나들목 3.95㎞에서도 차량들이 느린 속도로 이동하고 있다. ', '이날 오후 9시 요금소 출발 기준 주요 도시간 예상 소요 시간은 상행선 ▲부산~서울 4시간30분 ▲대구~서울 3시간30분 ▲광주~서울 3시간20분 ▲대전~서울 1시간30분 ▲강릉~서울 2시간40분 ▲울산~서울 4시간10분 ▲목포~서울 3시간40분이다. ', '하행선은 ▲서울~부산 4시간30분 ▲서울~대구 3시간30분 ▲서울~광주 3시간20분 ▲서울~대전 1시간30분 ▲서울~강릉 2시간40분 ▲서울~울산 4시간10분 ▲서울~목포 3시간40분이다.', '\\ufeff[서울=뉴시스] ', '창닫기', '기사를 추천 하셨습니다', '‘추석 당일’ 고속도로 양방향 답답…“귀경길 정체 시작”', '베스트 추천 뉴스', '홍준표 “생각 좀 바뀌었다…대통령되면 1년간 文정권 부정부패 청소”', '국민의힘 지지율 40%, 국정농단 사태 이후 최고치…文·與 소폭 하락', '‘압구정 한양’ 살던 100억 자산가…‘40년 마약’ 끊게 한 아내의 한마디', '윤석열 28.8%, 이재명 23.6%…4주 만에 오차범위 내 앞서', '윤석열 “혼밥하거나 숨지 않겠다” 공약…“秋 스트레스 없었다”엔 ‘거짓말’', '중국인 1명, 5년간 건강보험 30억원 혜택…외국인 상위 10명중 7명 중국인', 'Copyright by dongA.com All rights reserved.', ' ', \"\\n        $( document ).ready( function() {\\n            window.bestPopupObj = Popup( $( '#bestnews_layer' ), {\\n                    vertical: 'center',  /* top, bottom, center */\\n                    horizontal: 'center',  /* left, right, center */\\n                    //effect: 'slide',  /* clip slide blind */\\n                    //direction: 'left',   /* up, down, left, right */\\n                    duration: 300,\\n                    //scroll: true\\n                } ) ;\\n          });\\n    \", '\\n']\n",
            "['\\n', '(서대문소방서 제공) © 뉴스1', '추석 전날인 20일 오전 9시30분쯤 서울 서대문구 연희동 한 아파트에서 불이나 53명이 대피하는 사고가 발생했다. ', '서대문소방서는 이 사고로 인한 인명피해는 없었다고 밝혔다. ', '이 불은 주택에 거주하던 주민이 인덕션 위에 냄비를 올려둔 채 외출했다가 발생한 것으로 추정된다. ', '\\n', ' ADMARU Donga_DT_NEWS_CV_Video ', '\\n', ' ', '소방당국은 인원 76명과 장비 20대를 투입해 1시간여 만에 불을 모두 껐다.', '\\n', '주요기사', '\\n', '\\n', '만화는 폰으로 봐야 제맛!…귀경길 꼭 봐야할 ‘웹툰 5選’', '전기차 충전요금은 왜 오를까', '\\n', '\\n', '\\ufeff', '(서울=뉴스1) ', '창닫기', '기사를 추천 하셨습니다', '연희동 아파트서 냄비 올려놓고 외출했다 화재…주민 53명 대피', '베스트 추천 뉴스', '홍준표 “생각 좀 바뀌었다…대통령되면 1년간 文정권 부정부패 청소”', '국민의힘 지지율 40%, 국정농단 사태 이후 최고치…文·與 소폭 하락', '‘압구정 한양’ 살던 100억 자산가…‘40년 마약’ 끊게 한 아내의 한마디', '윤석열 28.8%, 이재명 23.6%…4주 만에 오차범위 내 앞서', '윤석열 “혼밥하거나 숨지 않겠다” 공약…“秋 스트레스 없었다”엔 ‘거짓말’', '중국인 1명, 5년간 건강보험 30억원 혜택…외국인 상위 10명중 7명 중국인', 'Copyright by dongA.com All rights reserved.', ' ', \"\\n        $( document ).ready( function() {\\n            window.bestPopupObj = Popup( $( '#bestnews_layer' ), {\\n                    vertical: 'center',  /* top, bottom, center */\\n                    horizontal: 'center',  /* left, right, center */\\n                    //effect: 'slide',  /* clip slide blind */\\n                    //direction: 'left',   /* up, down, left, right */\\n                    duration: 300,\\n                    //scroll: true\\n                } ) ;\\n          });\\n    \", '\\n']\n",
            "['\\n', '문재인 대통령(오른쪽)과 부인 김정숙 여사가 20일 추석을 맞아 영상을 통해 국민들을 향해 인사를 전하고 있다. (청와대 페이스북 영상 갈무리) © 뉴스1', '문재인 대통령은 20일 추석 명절을 맞아 “국민들께 약속한 추석 전 백신 1차 접종률, 70%를 달성해 조금이나마 걱정을 덜 수 있게 됐다”고 말했다.', '문 대통령은 이날 오후 사회관계망서비스(SNS)를 통해 공개한 영상 메시지에서 부인 김정숙 여사와 함께 대국민 추석 인사를 전하며 이같이 밝혔다. ', '문 대통령은 “다음 달이면 접종 완료율도 세계에서 앞서가게 될 것이고, 우리는 점차 일상을 되찾게 될 것”이라며 “힘들어도 조금만 더 힘을 내기 바란다”고 말했다.', '\\n', ' ADMARU Donga_DT_NEWS_CV_Video ', '\\n', ' ', '김 여사는 “가족과 이웃을 사랑하는 마음이 우리나라 백신 접종 속도를 빠르게 올렸다고 생각한다”며 “아직은 어려운 상황이지만 가족을 믿고, 이웃과 더 많이 나누면 좋겠다. 함께하는 마음으로 차분하게 대응해온 만큼 결실도 값질 것”이라고 밝혔다.', '\\n', '주요기사', '\\n', '\\n', '만화는 폰으로 봐야 제맛!…귀경길 꼭 봐야할 ‘웹툰 5選’', '전기차 충전요금은 왜 오를까', '\\n', '\\n', '문 대통령은 또 “명절을 잘 보내자고 하기도 어려울 만큼 힘든 분이 많다”며 “올해는 서로 격려해주고 격려받는 명절이 되길 바란다”고 말했다. ', '김 여사는 “힘든 나날 속에서도 둥근 달은 변함없이 동산에 뜨고 가족을 사랑하는 마음도 그대로다”며 “따뜻한 마음과 응원의 말로 서로의 마음을 품다 보면 사랑도 더 커질 것”이라고 말했다.', '이어 “예년 같지는 않더라도 더 밝고 환한 내일을 기대하면서 모두가 즐겁고 행복한 시간을 보내길 바란다”고 덧붙였다.', '문 대통령은 뉴욕에서 열리는 제76차 유엔총회에 참석하기 위해 김 여사와 함께 현재 미국 뉴욕을 방문 중이다. 이 영상 메시지는 뉴욕으로 가는 전용기 안에서 촬영됐다.', '\\ufeff', '(서울=뉴스1) ', '창닫기', '기사를 추천 하셨습니다', '文, 미국행 비행기에서 추석 인사…“1차 접종률 70%, 점차 일상 되찾을 것”', '베스트 추천 뉴스', '홍준표 “생각 좀 바뀌었다…대통령되면 1년간 文정권 부정부패 청소”', '국민의힘 지지율 40%, 국정농단 사태 이후 최고치…文·與 소폭 하락', '‘압구정 한양’ 살던 100억 자산가…‘40년 마약’ 끊게 한 아내의 한마디', '윤석열 28.8%, 이재명 23.6%…4주 만에 오차범위 내 앞서', '윤석열 “혼밥하거나 숨지 않겠다” 공약…“秋 스트레스 없었다”엔 ‘거짓말’', '중국인 1명, 5년간 건강보험 30억원 혜택…외국인 상위 10명중 7명 중국인', 'Copyright by dongA.com All rights reserved.', ' ', \"\\n        $( document ).ready( function() {\\n            window.bestPopupObj = Popup( $( '#bestnews_layer' ), {\\n                    vertical: 'center',  /* top, bottom, center */\\n                    horizontal: 'center',  /* left, right, center */\\n                    //effect: 'slide',  /* clip slide blind */\\n                    //direction: 'left',   /* up, down, left, right */\\n                    duration: 300,\\n                    //scroll: true\\n                } ) ;\\n          });\\n    \", '\\n']\n",
            "['\\n', '홍준표 국민의힘 의원(오른쪽)과 홍 의원 캠프의 여명 대변인이 20일 오후 추석맞이 유튜브 라이브 방송 ‘무야홍과 함께’를 진행하고 있다. (유튜브 ‘홍카콜라TV’ 갈무리)© 뉴스1', ' 국민의힘 대권주자인 홍준표 의원은 20일 차기 대통령이 되면 “문재인 정권에 있었던 모든 민생 관련 부정부패는 1년만 깨끗이 청소하고 새 세상을 만드는 게 옳지 않겠나”라고 선전포고했다.', '홍 의원은 이날 오후 1시간30여분동안 진행된 추석맞이 유튜브 라이브 방송 ‘무야홍과 함께’에서, 과거에는 정치보복에 부정적이었지만 “최근에는 생각이 좀 바뀌었다”라며 이렇게 말했다.', '그는 “정치보복으로 느끼지 않도록 민생 관련 부분에 있어서는 가차없이 (수사를) 해야 한다”며 이재명 더불어민주당 대선 경선 후보가 연루됐다는 의혹을 받는 대장동 개발 특혜 의혹에 대해 “가져간 돈은 전부 환수해서 피해자에게 돌려주거나 나라가 복지기금으로 사용하게 할 것이다. 반드시 그것부터 처리할 것”이라고 말했다.', '\\n', ' ADMARU Donga_DT_NEWS_CV_Video ', '\\n', ' ', '이날 라이브방송에서는 댓글로 올라오는 각종 사회 현안 질문에 대한 홍 의원의 솔직하고 거침 없는 답변이 이어졌다.', '\\n', '주요기사', '\\n', '\\n', '만화는 폰으로 봐야 제맛!…귀경길 꼭 봐야할 ‘웹툰 5選’', '전기차 충전요금은 왜 오를까', '\\n', '\\n', '홍 의원은 ‘KBS 수신료 폐지’에 대한 질문이 올라오자 “대통령이 되면 KBS와 MBC를 민영방송으로 돌릴 것”이라며 “EBS만 국가 세금으로 운영하고 나머지는 민영방송으로 하면 수신료는 자동으로 없어질 것”이라고 짧게 답했다.', '군 복무 제도에 대해서는 “5년동안 모병제와 지원병제, 징병제를 동시 실시했다가 그 다음에 모병제·지원병제로 바꿔서 전문적인 강군을 만들어봤으면 한다”고 단계적 모병제 전환 계획을 밝혔다.', '그는 다만 “대신 모병제가 본격화하면 국방세가 엄청 늘어난다”며 “20세 이상부터는 국방세를 부과해서 젊은이들을 징병 멍에로부터 풀어주는 대신 일찍 사회 나가 돈 벌어서 (낸 세금으로) 나라를 지키는 장병을 위해 제대로 일자리를 만들어주는 것도 하나의 방법”이라고 말했다.', '그는 앞서 흉악범의 사형을 집행하겠다고 밝히자 윤석열 전 검찰총장이 ‘두테르테식’이라고 표현한 것을 언급하며 “오해가 많은데 정확히는 형사소송법상 사형 확정시 6개월내 집행하는 것이 법무부 장관의 의무”라며 “사형 집행을 안 하는 것이 법무부 장관의 직무유기다. 제가 대통령이 되면 법대로 하겠다는 것”이라고 설명했다.', '이외에도 대통령이 되면 Δ담뱃세를 인하하고 Δ종부세를 폐지하고 상속세는 완화할 것이며 Δ촉법소년 연령을 하향 조정하겠다고 약속했다. 난민 수용 문제에 대해서는 “그렇게 배척할 필요는 없다”고 말했다.', '홍 의원은 책임당원들의 지지율을 올릴 방안에 대해 “당원들께서 지난 지방선거에서 패배한 것이 머릿속에 남아서 좀 부정적인 생각을 하시는 분들이 있다”며 “사실 당시 문재인 정권 지지율이 80%였다. 누가 당 대표를 해도 이길 수 없는 게임이었다”고 털어놓았다.', '홍 의원은 이날 방송에서 “아내로부터 용돈을 받아서 쓴다”, “펩시 콜라도 먹는다. 코카콜라 떨어지면”, “탕수육은 원래 (소스) 부어서 먹는 것 아닌가”, “방송인 이경규씨와 친하기 때문에 오해를 피하기 위해서라도 ‘도시어부’에는 안 나가는 게 옳다”면서 웃는 등 온라인 참여자들과의 친밀감을 높이며 편안한 분위기를 연출했다.', '\\ufeff', '(서울=뉴스1)', '창닫기', '기사를 추천 하셨습니다', '홍준표 “생각 좀 바뀌었다…대통령되면 1년간 文정권 부정부패 청소”', '베스트 추천 뉴스', '홍준표 “생각 좀 바뀌었다…대통령되면 1년간 文정권 부정부패 청소”', '국민의힘 지지율 40%, 국정농단 사태 이후 최고치…文·與 소폭 하락', '‘압구정 한양’ 살던 100억 자산가…‘40년 마약’ 끊게 한 아내의 한마디', '윤석열 28.8%, 이재명 23.6%…4주 만에 오차범위 내 앞서', '윤석열 “혼밥하거나 숨지 않겠다” 공약…“秋 스트레스 없었다”엔 ‘거짓말’', '중국인 1명, 5년간 건강보험 30억원 혜택…외국인 상위 10명중 7명 중국인', 'Copyright by dongA.com All rights reserved.', ' ', \"\\n        $( document ).ready( function() {\\n            window.bestPopupObj = Popup( $( '#bestnews_layer' ), {\\n                    vertical: 'center',  /* top, bottom, center */\\n                    horizontal: 'center',  /* left, right, center */\\n                    //effect: 'slide',  /* clip slide blind */\\n                    //direction: 'left',   /* up, down, left, right */\\n                    duration: 300,\\n                    //scroll: true\\n                } ) ;\\n          });\\n    \", '\\n']\n",
            "['\\n', '서울 서대문구 북아현문화체육센터에 마련된 코로나19 백신 접종센터 모습./뉴스1 © News1 ', ' 방역당국은 지난 18일 오후 8시부터 시작한 신종 코로나바이러스 감염증(코로나19) 백신 미접종자 577만명을 대상으로 사전예약을 받은 결과 2만8671명이 참여했다고 20일 밝혔다. 이는 전체 미접종자 중 0.51% 수준이다.', '홍정익 코로나19 예방접종대응추진단(이하 추진단) 예방접종관리팀장은 이날 정례브리핑에서 “미접종자 577만명 중 2만8671명이 현재까지 예약을 마쳤다”며 “아직 예약률이 1%에 못 미치지만 추석 연휴 이후에 많은 참여가 있을 것으로 기대한다”고 설명했다.', '이어 “지금까지 계획으로는 9월 30일까지 사전예약을 종료하고 10월에 다시 (예약 시스템을) 열 계획은 없다”며 “10월 1일부터 (미접종자) 예방접종을 시작한 뒤 전체적인 접종 상황과 필요성을 검토해 고려하겠다”고 덧붙였다.', '\\n', ' ADMARU Donga_DT_NEWS_CV_Video ', '\\n', ' ', '사정이 이렇다 보니 당국은 만 18~49세 청장년층 중 코로나19 백신 미접종자는 오는 30일 오후 6시까지 백신 예약시스템을 통해 백신 접종에 참여해달라고 재차 당부했다.', '\\n', '주요기사', '\\n', '\\n', '만화는 폰으로 봐야 제맛!…귀경길 꼭 봐야할 ‘웹툰 5選’', '전기차 충전요금은 왜 오를까', '\\n', '\\n', '홍정익 예방접종관리팀장은 “청장년층 중 아직 백신 예약을 하지 못한 분들은 오는 9월 30일 오후 6시까지 미접종자 예약을 통해 예약해 주길 바란다”며 “예약을 이미 완료했다면 예약된 일정에 따라 10월 2일까지 접종에 동참해 달라”고 말했다.', '그는 이어 “이미 예약을 했더라도 사회관계망서비스(SNS) 당일신속 예약서비스(카카오·네이버) 등을 통해 잔여백신을 활용한 접종을 신청하면 더 빠르게 접종받을 수 있다”며 “청장년층의 경우 이미 백신을 접종받았거나 다른 대상군으로 예약한 분들을 고려하면 현재까지 인구 2241만5000명 대비 84.4%가 참여할 것”이라고 전망했다.', '질병관리청에 따르면 사전 대상자 예약률은 총 1350만명 중 975만명인 72.3%로 마감됐다.', '\\ufeff', '(서울=뉴스1) ', '창닫기', '기사를 추천 하셨습니다', '미접종자 577만명 중 2.8만명 예약…질병청 “10월엔 추가예약 없다”', '베스트 추천 뉴스', '홍준표 “생각 좀 바뀌었다…대통령되면 1년간 文정권 부정부패 청소”', '국민의힘 지지율 40%, 국정농단 사태 이후 최고치…文·與 소폭 하락', '‘압구정 한양’ 살던 100억 자산가…‘40년 마약’ 끊게 한 아내의 한마디', '윤석열 28.8%, 이재명 23.6%…4주 만에 오차범위 내 앞서', '윤석열 “혼밥하거나 숨지 않겠다” 공약…“秋 스트레스 없었다”엔 ‘거짓말’', '중국인 1명, 5년간 건강보험 30억원 혜택…외국인 상위 10명중 7명 중국인', 'Copyright by dongA.com All rights reserved.', ' ', \"\\n        $( document ).ready( function() {\\n            window.bestPopupObj = Popup( $( '#bestnews_layer' ), {\\n                    vertical: 'center',  /* top, bottom, center */\\n                    horizontal: 'center',  /* left, right, center */\\n                    //effect: 'slide',  /* clip slide blind */\\n                    //direction: 'left',   /* up, down, left, right */\\n                    duration: 300,\\n                    //scroll: true\\n                } ) ;\\n          });\\n    \", '\\n']\n",
            "['\\n', '추석을 하루 앞둔 20일 오후 전북 전주시 한옥마을에 관광객들이 인산인해를 이루고 있다.2021.9.20/© 뉴스1', ' 추석을 하루 앞둔 20일 전북 대표 관광지인 전주한옥마을은 인파가 몰려들었다.', '신종 코로나바이러스 감염증(코로나19) 사회적 거리두기에도 불구하고 시민들은 밖으로 나와 연휴를 즐기는 모습이었다.', '연휴를 맞아 ‘차 없는 거리’로 운영된 전주한옥마을은 가족·연인·친구 단위로 무리지은 관광객들이 가을 정취를 만끽했다.', '\\n', ' ADMARU Donga_DT_NEWS_CV_Video ', '\\n', ' ', '이날 오후 전주는 청명한 하늘 아래 따사로운 햇볕이 내리쬐는 날씨를 보였다. 알록달록 고운 자태의 한복을 차려입은 관광객들이 경기전 담벼락을 배경으로 사진 촬영에 몰두하는 모습도 눈에 띄었다.', '\\n', '주요기사', '\\n', '\\n', '만화는 폰으로 봐야 제맛!…귀경길 꼭 봐야할 ‘웹툰 5選’', '전기차 충전요금은 왜 오를까', '\\n', '\\n', '구름처럼 몰린 인파에 한복대여점이나 음식점 등 한옥마을 인근 상인들 얼굴에는 웃음꽃이 폈다. 전동성당 인근 태조로 위에 펼쳐진 수공예품 판매부스도 정신없이 바쁘게 손님을 응대하고 있었다.', '아이, 어른 할 것 없이 거의 대부분은 마스크를 착용했다. 다만, 닭꼬치나 튀김 등 길거리에서 파는 간식을 먹기 위해 턱 아래로 마스크를 내린 이들도 많이 있었다.', '길거리 음식을 구입하기 위해 길게 줄 지어 선 시민들은 거리두기가 지켜지지 않는 모습이었다. 기다리는 동안 다른 곳에서 산 음식을 옆 사람과 한 입씩 나눠먹기도 했다.', '이날 한옥마을을 찾은 시민들은 긴 연휴 동안 실내에만 있기가 답답해 나왔다고 입을 모았다.', '전북 정읍에 사는 이모씨(27)는 “연휴도 긴데 집에만 있기가 답답해 데이트하러 나왔다”며 “설마 사람이 많을까 했는데 눈치게임에서 진 것 같다”고 조심스레 말했다.', '가족들과 함께 충북 청주에서 전주를 찾은 박모씨(24)는 “코로나19가 무섭긴 하지만 어차피 정부에서도 곧 위드코로나를 한다고 하지 않느냐”면서 “우리 가족들은 백신도 다 맞았고 마스크 쓰고 조심히 다니면 될 것 같아서 오게됐다”고 설명했다.', '한편 이날 전북도 보건당국은 연휴 동안 새로운 만남이나 이동을 자제해 달라고 요청했다.', '전북지역에서는 최근 젊은 층의 코로나19 확진이 급증하고 있다. 지난 1일부터 이날까지 발생한 전북지역 코로나19 확진자 481명(오후 1시 기준) 중 10~20대 확진자는 250명으로 전체의 51.96%를 차지했다.', '전북도 보건당국 관계자는 “전북지역은 최근 이동성이 많은 젊은 층 확진 확산이 매우 위중한 상황”이라며 “극복을 위해서는 이동과 만남을 최대한 자제해야한다”고 당부했다.', '\\ufeff', '(전주=뉴스1) ', '창닫기', '기사를 추천 하셨습니다', '추석 앞둔 전주한옥마을, 오랜만에 구름 인파로 ‘북적’', '베스트 추천 뉴스', '홍준표 “생각 좀 바뀌었다…대통령되면 1년간 文정권 부정부패 청소”', '국민의힘 지지율 40%, 국정농단 사태 이후 최고치…文·與 소폭 하락', '‘압구정 한양’ 살던 100억 자산가…‘40년 마약’ 끊게 한 아내의 한마디', '윤석열 28.8%, 이재명 23.6%…4주 만에 오차범위 내 앞서', '윤석열 “혼밥하거나 숨지 않겠다” 공약…“秋 스트레스 없었다”엔 ‘거짓말’', '중국인 1명, 5년간 건강보험 30억원 혜택…외국인 상위 10명중 7명 중국인', 'Copyright by dongA.com All rights reserved.', ' ', \"\\n        $( document ).ready( function() {\\n            window.bestPopupObj = Popup( $( '#bestnews_layer' ), {\\n                    vertical: 'center',  /* top, bottom, center */\\n                    horizontal: 'center',  /* left, right, center */\\n                    //effect: 'slide',  /* clip slide blind */\\n                    //direction: 'left',   /* up, down, left, right */\\n                    duration: 300,\\n                    //scroll: true\\n                } ) ;\\n          });\\n    \", '\\n']\n",
            "['\\n', ' 추석 당일이자 화요일인 21일 중부지방과 전라권에서 비가 시작돼 전국적으로 확대될 것으로 보인다. ', '기상청은 이날(21일) 서쪽에서 다가오는 기압골의 영향을 받다가 차차 벗어나겠으나, 수도권과 강원 영서, 충남은 오후 다시 북서쪽에서 다가오는 기압골의 영향을 받겠다고 예보했다.', '이 비는 오후 수도권과 충남권, 전라권 등 대부분 지역에서 그쳤다가 밤부터 북서쪽에서 오는 기압골의 영향으로 수도권과 강원 영서에 다시 비가 시작돼 22일 전국 대부분 지역으로 확대될 것으로 보인다.', '\\n', ' ADMARU Donga_DT_NEWS_CV_Video ', '\\n', ' ', '예상 강수량은 중부지방·남부지방·제주도·서해5도 20~70㎜(많은 곳 전남권, 경남권, 제주도 100㎜ 이상), 강원 영동·경북 동해안·울릉도·독도 5~20㎜이다.', '\\n', '주요기사', '\\n', '\\n', '만화는 폰으로 봐야 제맛!…귀경길 꼭 봐야할 ‘웹툰 5選’', '전기차 충전요금은 왜 오를까', '\\n', '\\n', '특히 강한 남풍에 동반된 다량의 수증기가 유입돼 비구름대가 발달하면서 새벽부터 아침 사이에는 서쪽 지역, 낮 동안에는 동쪽 지역을 중심으로 시간당 30~50㎜의 매우 강한 비가 내리는 곳도 있겠다.', '비가 오는 지역에서는 돌풍과 함께 천둥·번개가 치는 곳도 있어 시설물 관리에 유의해야 한다. ', '이날 아침 최저기온은 18~23도, 낮 최고기온은 25~29도로 예상된다.', '지역별 예상 아침 최저기온은 Δ서울 19도 Δ인천 20도 Δ강릉 18도 Δ춘천 17도 Δ대전 18도 Δ대구 17도 Δ부산 20도 Δ전주 18도Δ 광주 18도 Δ제주 22도다.', '낮 최고기온은 Δ서울 28도 Δ인천 28도 Δ강릉 26도 Δ춘천 28도 Δ대전 28도 Δ대구 27도 Δ부산 27도 Δ전주 29도 Δ광주 28도 Δ제주 30도다.', '미세먼지 농도는 원활한 대기 확산으로 전 권역에서 ‘좋음’으로 예상된다.', '풍량특보가 발표된 서해 중부 바깥 먼바다와 서해 남부 북쪽 바깥 먼바다는 이날 새벽까지, 그 밖의 서해 중부 해상과 서해 남부 북쪽 안쪽 먼바다에는 아침까지 바람이 시속 35~65㎞로 매우 강하게 불고, 물결이 2.0~4.0m로 높게 일겠다.', '\\ufeff', '(서울=뉴스1) ', '창닫기', '기사를 추천 하셨습니다', '추석 당일 전국에 빗방울…보름달은 저녁 7시부터', '베스트 추천 뉴스', '홍준표 “생각 좀 바뀌었다…대통령되면 1년간 文정권 부정부패 청소”', '국민의힘 지지율 40%, 국정농단 사태 이후 최고치…文·與 소폭 하락', '‘압구정 한양’ 살던 100억 자산가…‘40년 마약’ 끊게 한 아내의 한마디', '윤석열 28.8%, 이재명 23.6%…4주 만에 오차범위 내 앞서', '윤석열 “혼밥하거나 숨지 않겠다” 공약…“秋 스트레스 없었다”엔 ‘거짓말’', '중국인 1명, 5년간 건강보험 30억원 혜택…외국인 상위 10명중 7명 중국인', 'Copyright by dongA.com All rights reserved.', ' ', \"\\n        $( document ).ready( function() {\\n            window.bestPopupObj = Popup( $( '#bestnews_layer' ), {\\n                    vertical: 'center',  /* top, bottom, center */\\n                    horizontal: 'center',  /* left, right, center */\\n                    //effect: 'slide',  /* clip slide blind */\\n                    //direction: 'left',   /* up, down, left, right */\\n                    duration: 300,\\n                    //scroll: true\\n                } ) ;\\n          });\\n    \", '\\n']\n",
            "['\\n', ' 오창록(27·영암군민속씨름단)이 올해 3관왕과 함께 통산 9번째 한라장사에 등극했다. 추석대회 타이틀은 처음이다.', '오창록은 20일 충남 태안군 태안종합실내체육관에서 열린 위더스제약 2021 추석장사씨름대회 한라장사 결정전(5전3승제)에서 신예 이국희(23·증평군청)를 3-1로 제압했다.', '2017년 실업 무대에 데뷔한 오창록이 추석대회에서 장사 타이틀을 거머쥔 건 이번이 처음이다.', '\\n', ' ADMARU Donga_DT_NEWS_CV_Video ', '\\n', ' ', '올 시즌 설날장사, 해남장사와 더불어 3관왕과 개인 통산 9번째 한라장사에 올랐다. 올해 최강자임을 다시 한 번 입증한 무대였다.', '\\n', '주요기사', '\\n', '\\n', '만화는 폰으로 봐야 제맛!…귀경길 꼭 봐야할 ‘웹툰 5選’', '전기차 충전요금은 왜 오를까', '\\n', '\\n', '16강전과 8강전에서 각각 이광재(구미시청)와 박정진(광주시청)을 2-0으로 물리친 오창록은 결승 진출전에서 남원택(영월군청)을 2-1로 꺾었다.', '이국희와 만난 결승에서 오창록은 첫 번째 판에서 주특기인 들배지기로 기선 제압에 나섰다.', '두 번째 판에서 이국희의 들배기지에 넘어가 승부는 원점으로 돌아갔지만 기세가 오른 오창록이 이어진 경기에서 안다리와 들배지기로 내리 두 판을 따내며 우승을 확정했다.', '\\ufeff[서울=뉴시스]', '창닫기', '기사를 추천 하셨습니다', '오창록, 추석장사씨름대회 한라장사 등극…올해 3관왕', '베스트 추천 뉴스', '홍준표 “생각 좀 바뀌었다…대통령되면 1년간 文정권 부정부패 청소”', '국민의힘 지지율 40%, 국정농단 사태 이후 최고치…文·與 소폭 하락', '‘압구정 한양’ 살던 100억 자산가…‘40년 마약’ 끊게 한 아내의 한마디', '윤석열 28.8%, 이재명 23.6%…4주 만에 오차범위 내 앞서', '윤석열 “혼밥하거나 숨지 않겠다” 공약…“秋 스트레스 없었다”엔 ‘거짓말’', '중국인 1명, 5년간 건강보험 30억원 혜택…외국인 상위 10명중 7명 중국인', 'Copyright by dongA.com All rights reserved.', ' ', \"\\n        $( document ).ready( function() {\\n            window.bestPopupObj = Popup( $( '#bestnews_layer' ), {\\n                    vertical: 'center',  /* top, bottom, center */\\n                    horizontal: 'center',  /* left, right, center */\\n                    //effect: 'slide',  /* clip slide blind */\\n                    //direction: 'left',   /* up, down, left, right */\\n                    duration: 300,\\n                    //scroll: true\\n                } ) ;\\n          });\\n    \", '\\n']\n",
            "['\\n', ' 더불어민주당 대선주자인 이재명 경기지사와 이낙연 전 대표는 추석 연휴인 20일 이 지사 성남시장 재직 시절 대장동 개발 특혜 의혹을 두고 ‘명낙대전’을 이어갔다. ', '이재명 캠프 측 인사가 이 전 대표가 대장동 특혜 의혹 제기로 내부 총질을 하고 있다며 ‘나쁜 후보’라 칭하자, 이낙연 캠프는 의혹을 제기하는 국민들은 모두 ‘나쁜 국민’이냐며 반박했다. ', '이재명 캠프는 이날 성명서를 내고 “이낙연 후보는 오해를 풀고 ‘국힘 토건 게이트’의 진실을 직시해달라”고 요청했다. ', '\\n', ' ADMARU Donga_DT_NEWS_CV_Video ', '\\n', ' ', '이들은 성명서를 통해 “성남시나 신설된 성남도시개발공사는 법률상 제한 등으로 사업자금을 직접 조달할 수 없어 불가피하게 민간자금을 동원해야만 했다”며 부정부패·분쟁 발생·성남시 위험 노출 없는 3대 원칙을 지키며 성남시 귀속이익을 가장 많이 제시한 민간사업자를 선정했다고 설명했다.', '\\n', '주요기사', '\\n', '\\n', '만화는 폰으로 봐야 제맛!…귀경길 꼭 봐야할 ‘웹툰 5選’', '전기차 충전요금은 왜 오를까', '\\n', '\\n', '이어 “성남시는 사업의 성패와 무관하게 그만큼의 이익을 사업자로부터 무조건 환수하기로 확약했다. 그러다 부동산 경기가 호전되자 성남시는 사업자에게 920억 원을 추가 부담시키며 ‘공산당’ 소리까지 들었다”며 “대장동 개발의 핵심은 토건비리족과 야당 국민의힘의 합작품 ‘국힘 토건 게이트’’ 숨어 있었고, 이를 막으면서 가진 권한으로 최대치의 공익을 환수한 ‘이재명 스타일 모범행정’ 이라는 것”이라고 주장했다. ', '그러면서 “토건비리와 불로소득을 막기 위한 사상초유의 개혁정책이었고 성남시는 물론 대한민국 역사에 없는 초과이익 환수의 최초 사례였다. 이낙연 후보께서 그 성과를 주목하지 않으시니 안타깝다”며 “부디 오해를 푸시고 ‘국힘 토건 게이트’의 본진인 국민의힘에 문제 제기해주시길 바란다”고 촉구했다. ', '이재명 캠프 전략본부장 민형배 의원은 성명서에 앞서 페이스북에 글을 올려 “(이 전 대표가) 내가 아니면 안 된다는 ‘뜨거운 감자 짓밟기’, ‘내부총질’을 서슴없이 자행하고 있다”며 “물리쳐야 할 ‘나쁜 후보’가 돼가고 있는 것은 아닌지 크게 염려한다”고 했다. ', '이낙연 캠프는 “이재명 후보는 사방이 ‘나쁜 총리’ ‘나쁜 언론’ ‘나쁜 국민’ 인가”라며 즉각 반박했다. ', '오영훈 수석대변인은 서면 논평을 내고 “이재명 후보 측은 야당과 보수언론의 주장에 편승했다고 나쁜 후보라고 한다”며 “그렇다면 국회 대정부질문에서 ‘비상식적’이라고 답변한 김부겸 총리는 ‘나쁜 총리’인가. 의혹을 보도한 대한민국의 모든 언론들은 ‘나쁜 언론’인가. 뭔가 이상하다고 고개를 갸웃거리는 국민들은 ‘나쁜 국민’인가”라고 꼬집었다. ', '오 수석대변인은 “대장동 의혹의 불길은 좀체 수그러들지 않고 있다. 이낙연 후보는 불 난 집에서 밤을 구워 먹을 생각이 추호도 없다”며 “딴 걱정하지 말고 불부터 잘 끄시라. 아무리 형편이 급하다고, 제집 불난 것을 놓고 옆집 탓을 해서 되겠냐”고 반문했다.', '또 그는 “화천대유가 참여한 ‘성남의뜰’ 컨소시움은 사업 계획 접수 하루 만에 민간 사업자로 선정됐다. 사업의 지분 절반을 보유한 성남도시개발공사가 1830억 원을 배당받는 동안 실질 지분이 7%에 불과한 화천대유와 6명의 개인 투자자들은 4040억 원을 배당받았다”며 “1153배, 11만% 수익률이다. 오죽하면 국민들 사이 ‘화천대유하세요’란 한가위 덕담이 오갈 정도”라고 비꼬았다. ', '이낙연 캠프 정무실장 윤영찬 의원도 페이스북을 통해 “이낙연 후보를 국민의힘과 엮으려는 프레임을 당장 멈추시길 바란다”며 “왜 한배를 타고 있는 민주당 내부에 총을 겨누는 것인가. 이는 원팀 훼손을 넘어 원팀 정신 자체를 부정하는 행위”라고 맞받았다.', '\\ufeff[서울=뉴시스]', '창닫기', '기사를 추천 하셨습니다', '추석에도 명낙 대전…“이낙연 나쁜 후보” vs “사방이 나쁜 국민?”', '베스트 추천 뉴스', '홍준표 “생각 좀 바뀌었다…대통령되면 1년간 文정권 부정부패 청소”', '국민의힘 지지율 40%, 국정농단 사태 이후 최고치…文·與 소폭 하락', '‘압구정 한양’ 살던 100억 자산가…‘40년 마약’ 끊게 한 아내의 한마디', '윤석열 28.8%, 이재명 23.6%…4주 만에 오차범위 내 앞서', '윤석열 “혼밥하거나 숨지 않겠다” 공약…“秋 스트레스 없었다”엔 ‘거짓말’', '중국인 1명, 5년간 건강보험 30억원 혜택…외국인 상위 10명중 7명 중국인', 'Copyright by dongA.com All rights reserved.', ' ', \"\\n        $( document ).ready( function() {\\n            window.bestPopupObj = Popup( $( '#bestnews_layer' ), {\\n                    vertical: 'center',  /* top, bottom, center */\\n                    horizontal: 'center',  /* left, right, center */\\n                    //effect: 'slide',  /* clip slide blind */\\n                    //direction: 'left',   /* up, down, left, right */\\n                    duration: 300,\\n                    //scroll: true\\n                } ) ;\\n          });\\n    \", '\\n']\n",
            "['\\n', '집값 문제는 이번 추석 명절에도 가족 친지들이 모여 앉았을 때 정치, 코로나19와 함께 빼놓을 수 없는 화두가 될 것으로 보인다. 최근 2~3년 동안 전국적으로 집값과 땅 값이 크게 올랐기 때문이다. 이런 상황에서 그동안 까맣게 몰랐던 조상 땅이 있다면 어떨까. ', '최근 부동산 가격 급등과 맞물려 조상의 땅을 확인하려는 수요가 늘고 있고, 실제로 수십억원을 호가하는 땅을 찾았다는 사례가 전국 각지에서 잇따르고 있다.', '20일 국토교통부 국가공간정보센터에 따르면 올해 들어 8월 까지 ‘조상 땅 찾기’ 서비스 신청자는 34만9947명이다. 신청자 증가세가 이어지면 연말에는 52만 명을 넘어설 것으로 보여 작년 신청인원 수치(50만3549명)를 가뿐히 제칠 것으로 추정된다. ', '\\n', ' ADMARU Donga_DT_NEWS_CV_Video ', '\\n', ' ', '‘조상 땅 찾기’ 서비스는 갑작스러운 사망이나 재산관리 소홀 등으로 유산 상속이 제대로 되지 않아 토지 현황을 파악할 수 없는 경우 지적전산시스템을 활용해 후손에게 땅을 찾아주는 서비스다.', '\\n', '주요기사', '\\n', '\\n', '만화는 폰으로 봐야 제맛!…귀경길 꼭 봐야할 ‘웹툰 5選’', '전기차 충전요금은 왜 오를까', '\\n', '\\n', '지난 8월 서울 아파트 평균 매매가격(KB부동산 통계)은 11억7734만원으로 1년 전 9억8503만원에 비해 1억9231만원(19.5%) 올랐다. 전국 기준 매매가격도 4억1930만원에서 5억2322만원으로 24.8% 올랐다.', '이처럼 최근 전국적으로 집값이 천정부지로 치솟자 미처 알지 못했던 조상 땅이 있는 게 아닌지 확인하려는 수요가 늘고 있는 것이다. ', '신청자 중 조상 땅을 찾아 ‘횡재’한 후손은 올해만 11만3496명이었다. 3명 중 1명 꼴(32.4%)로 조상 땅을 찾은 셈이다. 이들이 찾은 땅은 480.20㎢, 45만5295필지로 조사됐다.', '시도 별 신청자는 경기도가 8만7106명으로 가장 많았고 서울(6만3224명), 부산(2만4889명), 인천(2만2997명), 경남(2만1592명), 경북(1만8950명), 대구(1만8004명), 충남(1만3799명), 전북(1만3684명), 전남(1만1897명) 등의 순으로 나타났다.', '조상 땅을 찾은 비율은 전남이 가장 높았다. 전남에서는 1만1897명이 신청해 5335명이 조상 땅을 찾아 성공율이 45%에 육박했다. 이어 전북(42.3%), 경남(39.6%), 경북(38.6%), 충북(36.3%), 광주(36.1%) 등의 순으로 나타났다.', '후손들이 찾은 땅의 지역은 경기도(86.99㎢), 서울(84.17㎢), 경북(39.21㎢), 경남(35.65㎢), 전북(29.37㎢), 부산(28.08㎢), 전남(26.68㎢), 강원(24.93㎢), 충남(24.50㎢) 등 비교적 전국적으로 고르게 분포한 것으로 조사됐다.', '주로 선산이나 잊힌 자투리땅을 찾는 경우가 많았지만 일부 신청인은 횡재에 가까운 규모의 땅을 발견한 사례도 있는 것으로 알려졌다.', '경기도 용인에 사는 이모(50)씨는 돌아가신 조부의 명의로 된 땅이 있을 것이란 친지들의 이야기를 듣고 조상 땅 찾기 서비스를 이용했다가 자신이 모르고 있었던 6000㎡ 토지를 찾아 물려받게 됐다.', '경상남도 진해에 사는 엄모(78)씨도 30년 전 세상을 떠난 남편이 소유하고 있던 토지 1000㎡를 찾아내 뜻하지 않게 2억여원의 노후자금을 마련할 수 있게 됐다. ', '조상 땅 찾기 서비스 신청은 토지소유자 본인 또는 사망자의 적법한 재산상속인이라면 할 수 있다. 피상속인이 1959년 12월31일 이전 사망했을 경우 호주 승계자가, 1960년 1월1일 이후 사망한 경우 배우자 또는 직계비속이 신청 할 수 있다.', '신청인은 후손임을 증명할 수 있는 제적등본 등이 있어야 하며, 2008년 이후 사망자의 경우 가족관계증명서, 기본증명서 등을 준비해 가까운 시·군·구청 지적업무과에 신청하면 된다.', '대리인이 신청하는 경우에는 상속인 위임장과 위임인 신분증 사본, 대리인의 신분증 사본을 지참해야 한다. 미성년자의 경우 법정대리인이 신청할 수 있다.', '\\ufeff', '[서울=뉴시스] ', '창닫기', '기사를 추천 하셨습니다', '“이게 웬 떡”…조상 땅 찾아 횡재한 후손들 올해만 11만명', '베스트 추천 뉴스', '홍준표 “생각 좀 바뀌었다…대통령되면 1년간 文정권 부정부패 청소”', '국민의힘 지지율 40%, 국정농단 사태 이후 최고치…文·與 소폭 하락', '‘압구정 한양’ 살던 100억 자산가…‘40년 마약’ 끊게 한 아내의 한마디', '윤석열 28.8%, 이재명 23.6%…4주 만에 오차범위 내 앞서', '윤석열 “혼밥하거나 숨지 않겠다” 공약…“秋 스트레스 없었다”엔 ‘거짓말’', '중국인 1명, 5년간 건강보험 30억원 혜택…외국인 상위 10명중 7명 중국인', 'Copyright by dongA.com All rights reserved.', ' ', \"\\n        $( document ).ready( function() {\\n            window.bestPopupObj = Popup( $( '#bestnews_layer' ), {\\n                    vertical: 'center',  /* top, bottom, center */\\n                    horizontal: 'center',  /* left, right, center */\\n                    //effect: 'slide',  /* clip slide blind */\\n                    //direction: 'left',   /* up, down, left, right */\\n                    duration: 300,\\n                    //scroll: true\\n                } ) ;\\n          });\\n    \", '\\n']\n",
            "['\\n', '방역 당국은 추석 연휴 이후 코로나19 확진자가 늘어날 수 있다며 우려를 나타냈다. 단, 유행이 폭발적으로 늘어나지는 않을 것으로 내다봤다.', '이상원 중앙방역대책본부(방대본) 역학조사분석단장은 20일 정례 브리핑에서 “추석 전에 상당히 많은 접촉과 이동량 증가가 수시로 확인되면서 이로 인해 환자는 증가할 가능성이 있다”며 “특히 추석으로 인해 접촉이 증가하면서 환자 발생 증가 요인이 더 많다”고 말했다.', '지난 18일부터 22일까지 추석 연휴 닷새간 인구 이동량이 많아지면서 유행이 증가할 수 있다는 우려가 곳곳에서 제기되고 있다.', '\\n', ' ADMARU Donga_DT_NEWS_CV_Video ', '\\n', ' ', '국토교통부와 한국교통연구원이 실시한 추석 연휴 통행실태조사에 따르면 17~22일 6일간 총 3226만명, 하루 평균 538만명이 이동할 것으로 예측됐다. 이는 지난해 추석 연휴 이동 인원 3116만명보다 110만명(3.5%) 늘어난 것이다.', '\\n', '주요기사', '\\n', '\\n', '만화는 폰으로 봐야 제맛!…귀경길 꼭 봐야할 ‘웹툰 5選’', '전기차 충전요금은 왜 오를까', '\\n', '\\n', '그러나 유행 상황은 좋지 않다. 이날 0시 기준 일일 신규 확진자는 1605명으로, 코로나19 유입 이후 일요일(월요일 0시) 기준 최다 발생이다. 앞서 18일(2087명), 19일(1910명)에도 유입 이래 각각 금요일, 토요일 기준 일일 최다 확진자를 기록한 바 있다.', '방역 당국은 그러나 추석 연휴 이후 유행이 폭발적으로 증가하지는 않을 것이라 내다봤다. ', '이 단장은 “세계적으로 환자 증가세가 계속되는 가운데 우리나라는 적절한 거리두기와 예방접종으로 이를 억제하고 있다”며 “증가 패턴 자체가 폭발적이라기보다는 점진적으로 증가할 가능성이 보다 있으며, 정부는 폭발적인 유행을 통해 의료적인 부담이 되지 않도록 하는 것이 목적”이라고 말했다.', '확진자 증가 예상치에 대해 그는 “정확한 숫자로 계량하는 것은 아직 이른 시기”라며 말을 아꼈다.', '아울러 이 단장은 “아쉬워도 만남의 시간을 조금만 줄이고, 조금 과하다 싶은 생각이 들 정도로 환기를 자주 해야 한다”며 “실내에서는 마스크를 착용하고, 명절을 즐겁게 보낸 이후 조금이라도 이상이 있으면 바로 검사를 받아야 한다”고 강조했다.', '\\ufeff[서울=뉴시스]', '창닫기', '기사를 추천 하셨습니다', '당국 “추석 연휴 이후 유행 증가 가능성…점진적으로 늘어날 듯”', '베스트 추천 뉴스', '홍준표 “생각 좀 바뀌었다…대통령되면 1년간 文정권 부정부패 청소”', '국민의힘 지지율 40%, 국정농단 사태 이후 최고치…文·與 소폭 하락', '‘압구정 한양’ 살던 100억 자산가…‘40년 마약’ 끊게 한 아내의 한마디', '윤석열 28.8%, 이재명 23.6%…4주 만에 오차범위 내 앞서', '윤석열 “혼밥하거나 숨지 않겠다” 공약…“秋 스트레스 없었다”엔 ‘거짓말’', '중국인 1명, 5년간 건강보험 30억원 혜택…외국인 상위 10명중 7명 중국인', 'Copyright by dongA.com All rights reserved.', ' ', \"\\n        $( document ).ready( function() {\\n            window.bestPopupObj = Popup( $( '#bestnews_layer' ), {\\n                    vertical: 'center',  /* top, bottom, center */\\n                    horizontal: 'center',  /* left, right, center */\\n                    //effect: 'slide',  /* clip slide blind */\\n                    //direction: 'left',   /* up, down, left, right */\\n                    duration: 300,\\n                    //scroll: true\\n                } ) ;\\n          });\\n    \", '\\n']\n",
            "['\\n', '추석연휴가 끝난 오는 23일부터 제주지역 사회적 거리두기가 3단계로 완화된다.', '제주특별자치도는 오는 23일 오전 0시부터 10월3일까지 사회적 거리두기 단계를 3단계로 하향 조정한다고 20일 밝혔다.', '사적모임은 4명까지 허용되며, 예방접종 완료자가 포함되는 경우 최대 8명까지 모일 수 있다. 예방접종 완료자 인센티브는 식당, 카페, 가정과 함께 마트, 실내체육시설 등 다중이용시설까지 적용된다.', '\\n', ' ADMARU Donga_DT_NEWS_CV_Video ', '\\n', ' ', '상견례는 4명에서 8명으로, 돌잔치는 4명에서 16명까지 허용한다. 시설관리자가 있는 스포츠 영업시설을 이용하는 경우 경기구성을 위한 최소 인원의 1.5배까지 모임이 가능하지만, 음식물 섭취가 금지된다.', '\\n', '주요기사', '\\n', '\\n', '만화는 폰으로 봐야 제맛!…귀경길 꼭 봐야할 ‘웹툰 5選’', '전기차 충전요금은 왜 오를까', '\\n', '\\n', '행사와 집회 등도 49명까지 허용되지만, 식사가 금지되며 예방접종 완료자도 인원 산정에 포함한다. 지역축제와 설명회, 기념식 등 모든 행사는 1인 기준 50명 미만으로 운영해야 하며, 1인 시위만 허용했던 집회의 경우 사전에 신고할 경우 49명까지 가능하다.', '결혼식과 장례식은 시설면적 1㎡당 1명 이하를 유지해야 하며, 1일 49명(식사를 제공하지 않을 경우 99명)까지 모일 수 있다. 종교시설인 경우 정규 예배·미사·법회 등은 좌석수의 20% 범위 이내로 인원이 제한된다. 종교시설 주관 모임과 행사·식사·숙박 등은 금지된다.', '학술행사의 경우 동선이 분리된 별도 공간마다 50명 미만으로 나눠 진행할 수 있다. 모든 행사(학술행사 포함)·집회에는 예방접종 완료자 인센티브가 적용되지 않으며, 식사도 금지된다.', ' 오후 10시 이후 영업이 금지된 대부분의 다중이용시설 경우 영업시간 제한이 해제된다. 식당·카페 등은 오후 10시 이후부터 오전 5시까지 매장영업이 금지돼 포장·배달만 허용된다. 편의점을 포함해 오후 10시 이후 야외 테이블 등의 취식도 금지된다.', '유흥시설, 콜라텍, 무도장, 홀덤펍, 홀덤게임장 등은 오후 10시까지 영업할 수 있다. 유흥시설발 집단감염 방지를 위해 종사자들은 격주에 1회 유전자 증폭(PCR) 검사를 의무적으로 받아야 한다.', '노래연습장(코인연습장 등)은 시설 면적 8㎡당 1명이 적용되며, 오후 10시까지 영업할 수 있다. 실내 체육시설은 시설면적 8㎡당 1명이 적용되고, 운영시간 제한도 해제된다. 다만 수영장은 밤 10시까지만 운영되며, 공공체육시설·체육도장·GX류 시설의 경우에는 시설 간 특성을 고려해 제한 인원을 다르게 적용한다.', '학원·교습소는 좌석 두 칸 띄우기 또는 좌석이 없는 경우 시설면적 6㎡당 1명으로 제한한다. 정규공연시설의 공연은 6㎡당 1명과 관객 5000명 이내로 공연할 수 있다. 정규공연 시설 외에서 공연하는 경우 2000명까지 허용한다.', '영화관·PC방·오락실·멀티방 등은 운영시간 제한을 받지 않는다. 숙박시설은 사적모임 인원제한 방역수칙 준수 하에 객실 내 정원기준(최대 정원)을 초과하는 것을 금지한다. 또 전 객실의 4분의 3만 운영할 수 있다.', '예방접종 완료자도 마스크 착용이 의무화된 만큼 실내·외 모두 마스크를 착용해야 한다.', '제주도는 거리두기 3단계 하향 조정이 방역에 대한 긴장감 완화로 이어질 수 있어 소관 부서별 합동점검을 더욱 강화할 예정이다. 방역수칙 위반사항이 확인되면 영업정지 등 무관용 원칙을 엄격하게 적용할 방침이다.', '\\ufeff[제주=뉴시스]', '창닫기', '기사를 추천 하셨습니다', '제주, 23일부터 거리두기 3단계 완화…사적모임 4명 허용', '베스트 추천 뉴스', '홍준표 “생각 좀 바뀌었다…대통령되면 1년간 文정권 부정부패 청소”', '국민의힘 지지율 40%, 국정농단 사태 이후 최고치…文·與 소폭 하락', '‘압구정 한양’ 살던 100억 자산가…‘40년 마약’ 끊게 한 아내의 한마디', '윤석열 28.8%, 이재명 23.6%…4주 만에 오차범위 내 앞서', '윤석열 “혼밥하거나 숨지 않겠다” 공약…“秋 스트레스 없었다”엔 ‘거짓말’', '중국인 1명, 5년간 건강보험 30억원 혜택…외국인 상위 10명중 7명 중국인', 'Copyright by dongA.com All rights reserved.', ' ', \"\\n        $( document ).ready( function() {\\n            window.bestPopupObj = Popup( $( '#bestnews_layer' ), {\\n                    vertical: 'center',  /* top, bottom, center */\\n                    horizontal: 'center',  /* left, right, center */\\n                    //effect: 'slide',  /* clip slide blind */\\n                    //direction: 'left',   /* up, down, left, right */\\n                    duration: 300,\\n                    //scroll: true\\n                } ) ;\\n          });\\n    \", '\\n']\n",
            "['\\n', '추사랑 인스타그램 © 뉴스1', '이종격투기 선수 추성훈의 딸 추사랑이 추석을 맞아 명절 인사를 전했다. ', '20일 추사랑의 인스타그램에는 “여러분 행복하고 즐거운 추석 보내세요”라는 글과 영상이 게재됐다. ', '영상에서 추사랑은 “안녕하세요, 추사랑입니다”라고 소개하며 추성훈과 함께 “여러분 행복하고 즐거운 추석 보내세요”라고 인사해 눈길을 끈다. 폭풍 성장한 근황과 더불어 능숙한 한국어 실력도 감탄을 자아낸다. ', '\\n', ' ADMARU Donga_DT_NEWS_CV_Video ', '\\n', ' ', '한편 추사랑은 2011년생으로 만 10세다. 추성훈과 함께 KBS 2TV ‘슈퍼맨이 돌아왔다’에 출연하면서 많은 인기를 끌었다.', '\\n', '주요기사', '\\n', '\\n', '만화는 폰으로 봐야 제맛!…귀경길 꼭 봐야할 ‘웹툰 5選’', '전기차 충전요금은 왜 오를까', '\\n', '\\n', '\\ufeff', '(서울=뉴스1) ', '창닫기', '기사를 추천 하셨습니다', '추사랑, 폭풍 성장 근황…추성훈과 “즐거운 추석보내세요” 인사', '베스트 추천 뉴스', '홍준표 “생각 좀 바뀌었다…대통령되면 1년간 文정권 부정부패 청소”', '국민의힘 지지율 40%, 국정농단 사태 이후 최고치…文·與 소폭 하락', '‘압구정 한양’ 살던 100억 자산가…‘40년 마약’ 끊게 한 아내의 한마디', '윤석열 28.8%, 이재명 23.6%…4주 만에 오차범위 내 앞서', '윤석열 “혼밥하거나 숨지 않겠다” 공약…“秋 스트레스 없었다”엔 ‘거짓말’', '중국인 1명, 5년간 건강보험 30억원 혜택…외국인 상위 10명중 7명 중국인', 'Copyright by dongA.com All rights reserved.', ' ', \"\\n        $( document ).ready( function() {\\n            window.bestPopupObj = Popup( $( '#bestnews_layer' ), {\\n                    vertical: 'center',  /* top, bottom, center */\\n                    horizontal: 'center',  /* left, right, center */\\n                    //effect: 'slide',  /* clip slide blind */\\n                    //direction: 'left',   /* up, down, left, right */\\n                    duration: 300,\\n                    //scroll: true\\n                } ) ;\\n          });\\n    \", '\\n']\n",
            "['\\n', '서진형 대한부동산학회장 © 뉴스1', '\\ufeff “추석 이후에도 수도권 아파트 가격은 상승 기조를 이어갈 것이다. 수요자가 원하는 곳에는 여전히 공급이 부족하다.”', '서진형 대한부동산학회장(경인여대 교수)은 20일 연말까지의 부동산 시장 흐름에 대해 이같이 말했다. 하락 가능성을 묻는 질문에는 없다며 선을 그었다.', '◇“추석 이후에도 수도권 아파트 매매·전세 상승세 이어져”', '\\n', ' ADMARU Donga_DT_NEWS_CV_Video ', '\\n', ' ', '올해 추석 전까지 수도권 아파트 매매가는 상승세를 이어갔다. 한국부동산원 통계에 따르면 올해 1월부터 수도권 주간 아파트값은 주로 0.2~0.3% 대의 상승률을 보였다. 최근 5주간은 0.4%로 한 단계 높아진 상승세를 나타내기도 했다.', '\\n', '주요기사', '\\n', '\\n', '만화는 폰으로 봐야 제맛!…귀경길 꼭 봐야할 ‘웹툰 5選’', '전기차 충전요금은 왜 오를까', '\\n', '\\n', '이같은 흐름이 하반기에도 지속할 것이란 뜻인데 수급, 유동성, 저금리, 물가상승요인 등을 종합적으로 판단했을 때 하락보다는 상승 요인이 더 뚜렷하다는 것이 서 학회장의 설명이다.', '서 학회장은 그 중에서 특히 부동산 시장의 공급 부족을 주된 이유로 꼽았다. 그는 “다주택자에 대한 규제 등으로 인해 매물이 부족한 상황인 데 비해 수요는 일정하다”며 “가격이 오를 수밖에 없다”고 예측했다.', '또 그는 현재 불안정한 전세 시장 상황도 매매가를 끌어올릴 요인이라고 봤다. ', '수도권 아파트 전셋값 역시 올해 내내 0.1~0.2% 대의 비교적 높은 주간 상승률을 나타냈고 최근 4주간 0.25%의 상승률을 유지했다.', '전세수급지수 역시 기준선인 100 이상을 넘어 공급에 비해 수요가 많음을 확인해주고 있다. 서 학회장은 “전세 역시 임대차3법 등의 요인으로 수요와 비교해 공급이 부족하기 때문에 전세 시장도 우상향 기조를 이어갈 것”이라며 “전세가격도 매매가격을 밀어 올릴 요인”이라고 했다.', '다만 지방의 경우에는 일부 지역에서 하락이 이어질 수 있다고 내다봤다. 서 학회장은 “대구나 울산 등 일부 지역은 공급 물량이 초과하고 있고 지역 경제도 침체하는 모습을 보여 부동산 시장이 안정 기조를 보일 수 있다”고 전망했다.', '서 학회장은 수도권 부동산 시장 안정화를 위해서는 정부가 양도소득세나 종합부동산세 같은 부동산 세제를 완화하고 다주택자에 대한 규제를 풀어 시장에 물량이 공급되도록 유도해야 한다고 조언했다.', '◇“주택 구매, 투자보다 이용 목적으로 접근해야”', '아파트값 상승세가 이어지면서 구매 여부를 두고 무주택 실수요자들의 고민도 깊어지는 상황이다. 앞으로도 더 오를 것으로 보여 지금이라도 구매해야 한다는 심리와 수 년간 집값이 뛰었기 때문에 장기적으로는 하락할 수 있다는 생각이 엇갈린다.', '주택 구매 시기를 묻는 질문에 서진형 학회장은 “빠르면 빠를수록 좋다”면서도 “투자 목적으로 접근해서는 곤란하다”고 답했다. 부동산 시장 가격을 예측하려면 수급이나 금리, 유동성 등을 종합적으로 판단해야 하는 만큼 장기 전망은 누구도 예측하기 어렵다는 뜻으로 풀이된다.', '그는 “주택은 투자보다는 이용의 개념으로 봐야 한다”며 “주택 유무는 삶의 질을 결정하는데 중요한 요소인 만큼 구매 여부는 직주 근접이나 주거입지, 자금여력 등 개인 사정을 종합해서 판단해야 한다”고 조언했다.', '추석 이후 다시 시작하는 사전청약도 비슷하다고 설명했다. 10월 2차 1만여 가구를 비롯 올해에만 28000여 가구의 공공분양 사전청약 물량 공급이 예정돼 있으며 11월부터는 민간으로까지 사전청약이 확대될 예정이다.', '서 학회장은 “사전청약에 당첨돼도 입주 예정 시기는 2025년~2028년 정도인데 그 때 부동산 시장이 어떨지 예측하기는 쉽지 않다”며 “현재 시점에서 인근 지역의 아파트 가격을 비교해보고 사전청약 분양가가 저렴하다면 청약을 고려해볼 수 있을 것”이라고 했다.', '(서울=뉴스1) ', '창닫기', '기사를 추천 하셨습니다', '“추석 끝나도 집값 상승 계속…전셋값이 매매가 끌어올려”', '베스트 추천 뉴스', '홍준표 “생각 좀 바뀌었다…대통령되면 1년간 文정권 부정부패 청소”', '국민의힘 지지율 40%, 국정농단 사태 이후 최고치…文·與 소폭 하락', '‘압구정 한양’ 살던 100억 자산가…‘40년 마약’ 끊게 한 아내의 한마디', '윤석열 28.8%, 이재명 23.6%…4주 만에 오차범위 내 앞서', '윤석열 “혼밥하거나 숨지 않겠다” 공약…“秋 스트레스 없었다”엔 ‘거짓말’', '중국인 1명, 5년간 건강보험 30억원 혜택…외국인 상위 10명중 7명 중국인', 'Copyright by dongA.com All rights reserved.', ' ', \"\\n        $( document ).ready( function() {\\n            window.bestPopupObj = Popup( $( '#bestnews_layer' ), {\\n                    vertical: 'center',  /* top, bottom, center */\\n                    horizontal: 'center',  /* left, right, center */\\n                    //effect: 'slide',  /* clip slide blind */\\n                    //direction: 'left',   /* up, down, left, right */\\n                    duration: 300,\\n                    //scroll: true\\n                } ) ;\\n          });\\n    \", '\\n']\n",
            "['\\n', '아프리카 소말리아 인근 아덴만에 파병된 청해부대 제35진 장병들이 추석 명절을 앞두고 해군 구축함 ‘충무공이순신함’ 위에서 “풍성한 한가위 되세요”란 문구가 적힌 현수막을 들고 국민께 추석 인사를 전하고 있다. (합참 제공) © 뉴스1', '레바논에 파병된 동명부대원이 추석 연휴에도 고정감시초소에서 임무를 수행하고 있다. (합참 제공) © 뉴스1', '레바논에 파병된 동명부대원들이 도보정찰 임무를 수행하고 있다.(합참 제공) © 뉴스1', '남수단에 파병된 한빛부대 통신팀장 조용덕 대위가 가족들과 영상통화를 하고 있다. (합참 제공) © 뉴스1', '추석을 맞아 윷놀이를 하는 한빛부대 장병들. (합참 제공) © 뉴스1', '아랍에미리트(UAE)에 파병된 아크부대 특수전팀이 한·UAE 연합훈련에서 연합특수공중기동 습격작전을 수행하고 있다. (합참 제공) © 뉴스1', '추석을 맞아 합동차례를 지내는 아크부대 장병들. (합참 제공) © 뉴스1', '청해부대 장병들이 고속단정(RIB) 기동훈련을 하고 있다. (합참 제공) © 뉴스1', '청해부대 제35진 장병들이 추석을 맞아 해군 구축함 ‘충무공이순신함’ 안에서 투호놀이를 하고 있다. (합참 제공) © 뉴스1', '아랍에미리트(UAE)에 파병된 아크부대 장병들이 부대 연병장에 ‘한가위’란 글자 모양을 만들어 국민들에 추석 인사를 전하고 있다. (합참 제공) © 뉴스1', ' “국민 여러분, 즐거운 한가위 보내십시오!”', '세계 각국에서 임무를 수행 중인 해외파병 장병들이 추석(21일) 명절을 맞아 고국의 가족과 국민들에게 인사를 전해왔다.', '20일 합동참모본부에 따르면 해외파병 장병들은 추석 연휴기간에도 대부분 전과 다름없이 임무를 수행한다. ', '\\n', ' ADMARU Donga_DT_NEWS_CV_Video ', '\\n', ' ', '과거엔 해외파병 장병들도 명절 때면 외부활동이나 초청행사를 진행하기도 했지만, 요즘엔 신종 코로나바이러스 감염증(코로나19) 유행상황 등을 감안해 부대 내에서 전우들과 함께 명절을 보내도록 하고 있다는 게 합참의 설명이다.', '\\n', '주요기사', '\\n', '\\n', '만화는 폰으로 봐야 제맛!…귀경길 꼭 봐야할 ‘웹툰 5選’', '전기차 충전요금은 왜 오를까', '\\n', '\\n', '레바논에서 유엔평화유지(PKO) 활동을 하고 있는 동명부대(레바논 평화 유지단)는 이번 연휴에도 평소와 다름없이 정찰·감시 등 임무를 계속 수행한다. ', '대신 부대원들은 틈틈이 가족과의 영상통화, 팀별 체육활동 등을 통해 명절에도 고향에 못 가는 아쉬움을 달랠 계획이다.', '동명부대 안상연 대위는 “올 추석 연휴에 둘째 딸이 첫 생일이 있어 더 아쉽다”며 “내년엔 건강하게 (가족들과) 만나 함께 여행도 가고 추억을 더 많이 만들고 싶다”고 밝혔다.', '같은 부대 박윤주 중사는 “동명부대는 악화된 레바논 정세와 코로나19 확산에도 국민 여러분의 응원에 힘입어 평화유지 임무를 이상 없이 수행 중”이라며 “대한민국 국가대표로서 마지막까지 최선을 다해 임무 완수하겠다”고 다짐했다.', '아프리카 남수단 보르 지역에서 재건 및 인도적 지원활동을 펼치고 있는 한빛부대(남수단 재건지원단)는 추석을 맞아 부대원 합동차례를 지낸다. 또 부대원들이 윷놀이·제기차기 등 전통놀이 함께 즐기는 시간도 갖기로 했다.', '한빛부대 김민서 일병은 고국에 있는 부모님께 보낸 영상편지에서 “(수단) 현지에 도착해 적응 잘하고 있다”며 “돌아가면 좀 더 효도하는 아들이 되도록 하겠다”고 인사했다', '부대장 노산 대령도 부대원들과 함께 국민들에게 “즐거운 한가위 보내십시오”라며 추석 인사를 전했다.', '아랍에미리트(UAE)군과의 군사협력 활동을 위해 현지에 파병된 아크부대(UAE 군사훈련 협력단)는 내달 한·UAE 연합훈련 준비에 여념이 없다. 다만 아크부대도 추석 당일만큼은 다른 해외파병부대들처럼 합동차례와 우리 전통놀이 등을 통해 명절의 의미를 되새길 계획이다.', '아크부대 이지선 상사는 부모님께 보낸 영상 메시지에서 “파병생활 동안 건강히 잘 지내고 있다”며 “이제 복귀가 얼마 남지 않았는데 건강한 모습으로 한국에서 인사드리겠다”고 말했다.', '또 부대장 김명응 중령은 “아크부대는 UAE군 교육훈련 지원과 연합훈련을 통해 한·UAE 특별전략적 동반자 관계의 핵심 역할을 수행하고 있다”며 “복귀하는 마지막 날까지 하나가 돼 임무를 완수하겠다”고 밝혔다.', '우리 선박·국민 등을 보호하기 위해 아프리카 소말리아 인근 아덴만 해역에 파병된 청해부대(소말리아 해역 호송전대)도 추석 연휴기간에도 주어진 임무 수행을 계속 이어간다.', '청해부대 한성훈 중사는 부모님께 보낸 영상 편지에서 “아들은 아덴만에서 완벽히 임무를 수행 중”이라며 “코로나19 조심하시고, 안전히 (한국에) 복귀해 뵙겠다. 사랑합니다”고 인사했다.', '같은 부대 이가빈 소령은 “청해부대 35진은 많은 응원과 격려 속에 아덴만에서 안전한 선박 호송과 우리 국민 보호를 위해 최선을 다하고 있다”면서 “코로나19 속에서도 풍성하고 즐거운 한가위 되십시오”란 인사를 전해왔다.', '합참 관계자는 “자랑스러운 해외파병부대 장병 1000여명은 추석 중추절에도 세계평화와 재건지원을 위해 구슬땀 흘리면서 세계 속에 대한민국의 이름을 새기고 있다”고 말했다.', '\\ufeff', '(서울=뉴스1)', '창닫기', '기사를 추천 하셨습니다', '“즐거운 한가위 보내십시오! 충성!” 해외파병 장병들 추석 인사', '베스트 추천 뉴스', '홍준표 “생각 좀 바뀌었다…대통령되면 1년간 文정권 부정부패 청소”', '국민의힘 지지율 40%, 국정농단 사태 이후 최고치…文·與 소폭 하락', '‘압구정 한양’ 살던 100억 자산가…‘40년 마약’ 끊게 한 아내의 한마디', '윤석열 28.8%, 이재명 23.6%…4주 만에 오차범위 내 앞서', '윤석열 “혼밥하거나 숨지 않겠다” 공약…“秋 스트레스 없었다”엔 ‘거짓말’', '중국인 1명, 5년간 건강보험 30억원 혜택…외국인 상위 10명중 7명 중국인', 'Copyright by dongA.com All rights reserved.', ' ', \"\\n        $( document ).ready( function() {\\n            window.bestPopupObj = Popup( $( '#bestnews_layer' ), {\\n                    vertical: 'center',  /* top, bottom, center */\\n                    horizontal: 'center',  /* left, right, center */\\n                    //effect: 'slide',  /* clip slide blind */\\n                    //direction: 'left',   /* up, down, left, right */\\n                    duration: 300,\\n                    //scroll: true\\n                } ) ;\\n          });\\n    \", '\\n']\n",
            "['\\n', '코로나19 중환자 치료에 필요한 전담병상이 전국에 절반가량 남았다. 유행이 집중된 수도권에는 304개 병상이 비어 있다.', '20일 보건복지부 중앙사고수습본부(중수본)에 따르면 19일 오후 5시 기준 전국 중증환자 전담병상 969개 가운데 사용 중인 병상은 49.8%인 483개다. 나머지 486개(50.2%)는 입원 가능한 병상이다. ', '중증환자 전담병상은 코로나19 중증환자 치료에 필요한 장비와 인력 등을 갖추고, 중수본 지정을 받은 병상이다.', '\\n', ' ADMARU Donga_DT_NEWS_CV_Video ', '\\n', ' ', '지역별로 서울 153개, 경기 106개, 인천 45개 등 수도권에 304개 병상이 남았다.', '\\n', '주요기사', '\\n', '\\n', '만화는 폰으로 봐야 제맛!…귀경길 꼭 봐야할 ‘웹툰 5選’', '전기차 충전요금은 왜 오를까', '\\n', '\\n', '비수도권에는 부산·대구 각 26개, 충북 22개, 강원·경남 각 21개, 광주 19개, 전북 18개, 전남 7개, 충남·제주 각 6개, 울산 5개, 세종 3개, 경북 2개가 남았다. 대전 지역에는 남은 병상이 없다.', '대전 외에도 울산(31.2%), 충남(33.3%), 대구(41.3%), 경기(45.1%), 서울(45.9%) 지역의 빈 병상 비율은 전국 평균(50.2%)보다 낮다.', '중증에서 호전되거나 악화할 수 있는 환자를 위한 준-중환자 병상은 450개 가운데 58.9%인 265개가 가동 중으로, 185개 병상이 남았다. 수도권 지역 가동률은 68.5%(276개 중 189개)다. ', '중등증 환자가 치료받는 감염병 전담병원 병상은 전국 9760개 중 3850개(39.4%)가 비어 있다.', '무증상 또는 경증 환자를 위한 전국 생활치료센터 87곳에는 전체 정원 1만9517명 중 1만574명이 입소해 54.2%의 가동률을 보인다. 8943명이 추가로 입소할 수 있다.', '중수본은 앞서 지난 10일 비수도권 소재 의료기관을 대상으로 코로나19 위·중증 치료병상 146개, 중등증 병상 1017개 확보 행정명령을 내렸다. 의료기관들은 3주 이내에 시설 공사를 마치고 배정된 병상을 확보해야 한다.', '이번 행정명령은 현재 수도권에 집중된 유행이 추석 이후 다른 지역으로 확산하면서 확진자가 증가할 수 있다는 판단에서 나왔다. 중수본은 앞서 지난달 13일 수도권 소재 의료기관을 대상으로 병상 확보 행정명령을 내린 바 있다.', '\\ufeff[서울=뉴시스]', '창닫기', '기사를 추천 하셨습니다', '코로나 중환자 병상 50.2% 여유…수도권에 304개 남아', '베스트 추천 뉴스', '홍준표 “생각 좀 바뀌었다…대통령되면 1년간 文정권 부정부패 청소”', '국민의힘 지지율 40%, 국정농단 사태 이후 최고치…文·與 소폭 하락', '‘압구정 한양’ 살던 100억 자산가…‘40년 마약’ 끊게 한 아내의 한마디', '윤석열 28.8%, 이재명 23.6%…4주 만에 오차범위 내 앞서', '윤석열 “혼밥하거나 숨지 않겠다” 공약…“秋 스트레스 없었다”엔 ‘거짓말’', '중국인 1명, 5년간 건강보험 30억원 혜택…외국인 상위 10명중 7명 중국인', 'Copyright by dongA.com All rights reserved.', ' ', \"\\n        $( document ).ready( function() {\\n            window.bestPopupObj = Popup( $( '#bestnews_layer' ), {\\n                    vertical: 'center',  /* top, bottom, center */\\n                    horizontal: 'center',  /* left, right, center */\\n                    //effect: 'slide',  /* clip slide blind */\\n                    //direction: 'left',   /* up, down, left, right */\\n                    duration: 300,\\n                    //scroll: true\\n                } ) ;\\n          });\\n    \", '\\n']\n"
          ]
        }
      ]
    },
    {
      "cell_type": "code",
      "metadata": {
        "id": "jmEqQc08diJM"
      },
      "source": [
        "from konlpy.tag import Twitter\n",
        "\n",
        "# 파일을 열기\n",
        "open_text_file = open(keyword+'.txt', 'r',encoding='utf8')\n",
        "\n",
        "# 파일의 내용읽기\n",
        "open_text_file = open(keyword+'.txt','r',encoding='utf8')\n",
        "\n",
        "text = open_text_file.read()\n",
        "print(text)"
      ],
      "execution_count": null,
      "outputs": []
    },
    {
      "cell_type": "markdown",
      "metadata": {
        "id": "JfJXn-cpqPRB"
      },
      "source": [
        "```\n",
        "추석 당일인 21일 오후부터 전국 주요 고속도로 귀경길 방향에서 극심한 정체가 이어지고 있다.이날 한국도로공사에 따르면 오전부터 서서히 시작된 귀경길 정체가 오후 들어 더욱 극심해졌다. 늦은 저녁에서 내일(22일) 새벽께 해소될 것으로 예상된다. 서울방향은 이날 오후 3~4시 사이 정체가 절정에 이르다가 내일 새벽 1~2시에 해소되겠다. 지방방향은 오후 3~4시에 최대 혼잡을 보이다가 오후 8~9시 사이에 해소될 것으로 보인다.\n",
        "\n",
        " 주요 노선별로 살펴보면 이날 오후 3시10분 기준 경부고속도로 서울방향은 동대구분기점에서 북대구 부근 12㎞ 구간이 정체다. 또 한곡1교에서 영동1터널까지 8㎞ 구간에서 속도가 더디고 비룡분기점에서 옥산분기점 부근 45㎞ 지점에서 정체가 극심하다. 목천 부근에서 남사까지 46㎞ 부근 속도가 나지 않고, 신갈분기점 부근 2㎞도 정체에 있다. 달래내 부근에서 반포까지 9㎞ 구간도 정체가 이어지고 있다.\n",
        "주요기사\n",
        "\n",
        "만화는 폰으로 봐야 제맛!…귀경길 꼭 봐야할 ‘웹툰 5選’전기차 충전요금은 왜 오를까\n",
        "\n",
        "부산방향은 한남에서 서초까지 5㎞ 구간이 더딘 편이다. 신갈분기점에서 수원까지 2㎞도 정체이고 오산에서 남사 부근 5㎞, 옥산분기점 부근에서 옥산 7㎞, 금호분기점 부근에서 북대구 8㎞에서 속도를 내지 못하고 있다.영동고속도로는 인천방향으로 평창에서 둔내터널 11㎞ 구간이 정체이고, 횡성휴게소에서 새말까지 11㎞ 부근, 여주분기점 부근에서 호법분기점으로 15㎞ 역시 속도가 더딘 편이다. 또 덕평휴게소에서 양지터널로 12㎞ 구간 정체가 나타나고 있고 동수원에서 광교터미널 부근 2㎞ 구간도 정체다. 이 외에 군포에서 반월터널까지 5㎞ 구간, 군자분기점에서 월곶분기점 부근 4㎞도 속도를 내지 못하고 있다.강릉방향은 서창분기점에서 월곶분기점 부근 3㎞ 정체가 나타나고 있다. 서해안고속도로는 서울방향 줄포 부근에서 부안 부근까지 12㎞ 구간이 속도가 더디고, 동군산 부근에서 군산 부근 14㎞ 정체다. 또 대천에서 대천 부근 7㎞ 구간이 더딘 편이다. 서산 부근에서 서해대교까지 28㎞ 구간에서 속도를 내지 못하고 서평택분기점 부근에서 화성휴게소까지 11㎞ 구간 역시 정체가 극심하다.오후 4시 요금소 기준으로 승용차를 이용한 주요 도시간 예상 소요시간은 하행선 ▲서울~부산 5시간 ▲서울~대전 2시간20분 ▲서울~대구 4시간 ▲서울~강릉 2시간40분 ▲서울~광주 3시간40분 ▲서울~목포 3시간40분 ▲서울~울산 6시간40분 등이다.상행선은 ▲부산~서울 7시간 ▲대전~서울 4시간40분 ▲대구~서울 6시간 ▲강릉~서울 3시간50분 ▲광주~서울 6시간 ▲목포~서울 7시간20분 ▲울산~서울 6시간40분 등이다.한편 한국도로공사는 이날 전국 고속도로 교통량은 522만대로 예상했다. 수도권에서 지방으로 빠져나가는 차량은 42만대, 지방에서 수도권으로 진입하는 차량은 48만대로 전망했다.﻿[서울=뉴시스] 창닫기기사를 추천 하셨습니다추석 고속도로 ‘절정’…귀경길, 내일 새벽돼야 풀려베스트 추천 뉴스홍준표 “생각 좀 바뀌었다…대통령되면 1년간 文정권 부정부패 청소”국민의힘 지지율 40%, 국정농단 사태 이후 최고치…文·與 소폭 하락‘압구정 한양’ 살던 100억 자산가…‘40년 마약’ 끊게 한 아내의 한마디윤석열 28.8%, 이재명 23.6%…4주 만에 오차범위 내 앞서윤석열 “혼밥하거나 숨지 않겠다” 공약…“秋 스트레스 없었다”엔 ‘거짓말’중국인 1명, 5년간 건강보험 30억원 혜택…외국인 상위 10명중 7명 중국인Copyright by dongA.com All rights reserved. \n",
        "        $( document ).ready( function() {\n",
        "            window.bestPopupObj = Popup( $( '#bestnews_layer' ), {\n",
        "                    vertical: 'center',  /* top, bottom, center */\n",
        "                    horizontal: 'center',  /* left, right, center */\n",
        "                    //effect: 'slide',  /* clip slide blind */\n",
        "                    //direction: 'left',   /* up, down, left, right */\n",
        "                    duration: 300,\n",
        "                    //scroll: true\n",
        "                } ) ;\n",
        "          });\n",
        "    \n",
        "\n",
        "21일 오전 광주 동구 학동에서 열린 광주 학동 붕괴 참사 희생자 추모식에서 유가족들이 헌화와 분향하고 있다. 2021.9.21/뉴스1 © News1 ﻿21일 오전 광주 동구 학동 붕괴 참사 현장 인근에서 참사 희생자 추모제가 열렸다.유가족들과 김종효 광주시 행정부시장, 민형배·이병훈·이형석·조오섭 국회의원, 임택 동구청장 등이 참석해 희생자들의 넋을 기렸다.참석자들의 묵념으로 시작된 추모제는 참사 이후 첫 명절을 맞은 이진의 유족협의회장이 추모사를 하자 참석한 유족들은 참은 눈물을 터뜨렸다.\n",
        "\n",
        "...\n",
        "```"
      ]
    },
    {
      "cell_type": "markdown",
      "metadata": {
        "id": "6xU_Sy8prcpF"
      },
      "source": [
        "## 3) 말뭉치(corpus) \n",
        "- Hannanum - KAIST 말뭉치를 이용해 생성된 사전\n",
        "- Kkma - 세종 말뭉치를 이용해 생성된 사전 (꼬꼬마)\n",
        "- Mecab - 세종 말뭉치로 만들어진 CSV형태의 사전\n",
        "- Komoran- Java로 쓰여진 오픈소스 한글 형태소 분석기\n",
        "- Twitter(Okt) - 오픈소스 한글 형태소 분석기\n",
        "\n",
        "Twitter를 이용하여 말뭉치를 출력해봅니다"
      ]
    },
    {
      "cell_type": "code",
      "metadata": {
        "colab": {
          "base_uri": "https://localhost:8080/"
        },
        "id": "7HvQ_VoOhzGO",
        "outputId": "e974beba-7710-4716-b38b-04f2bc04d911"
      },
      "source": [
        "twitter = Twitter()\n",
        "nouns = twitter.nouns(text)\n",
        "open_text_file.close()\n",
        "print(nouns)"
      ],
      "execution_count": 18,
      "outputs": [
        {
          "output_type": "stream",
          "name": "stdout",
          "text": [
            "['추석', '당일', '오후', '전국', '주요', '고속도로', '길', '방향', '정체', '날', '한국', '도로공사', '오전', '서서히', '시작', '길', '정체', '오후', '더욱', '저녁', '내일', '새벽', '해소', '것', '예상', '방향', '날', '오후', '사이', '정체', '절정', '내일', '새벽', '해소', '지방', '방향', '오후', '최대', '혼잡', '오후', '사이', '해소', '것', '주요', '노선', '별로', '날', '오후', '기준', '경부', '고속도로', '방향', '분기점', '북', '대구', '부근', '구간', '정체', '또', '곡', '교', '영동', '터널', '구간', '속도', '비룡', '분기점', '옥산', '분기점', '부근', '지점', '정체', '목', '부근', '남사', '부근', '속도', '신갈분기점', '부근', '도', '정체', '부근', '반포', '구간', '정체', '기사', '만화', '폰', '맛', '길', '꼭', '웹툰', '전기차', '충전', '요금', '왜', '부산', '방향', '한남', '서초', '구간', '편이', '신갈분기점', '수원', '도', '정체', '오산', '남사', '부근', '옥산', '분기점', '부근', '옥산', '금호', '분기점', '부근', '북', '대구', '속도', '내지', '못', '고속도로', '인천', '방향', '평창', '둔내터널', '구간', '정체', '횡성휴게소', '말', '부근', '여주', '분기점', '부근', '호법', '분기점', '역시', '속도', '편이', '또', '덕평', '휴게소', '터널', '구간', '정체', '수원', '광교', '터미널', '부근', '구간', '정체', '이', '외', '군포', '반월', '터널', '구간', '군자', '분기점', '월곶', '분기점', '부근', '도', '속도', '내지', '못', '강릉', '방향', '서창', '분기점', '월곶', '분기점', '부근', '정체', '서해안', '고속도로', '서울', '방향', '줄포', '부근', '부안', '부근', '구간', '속도', '군산', '부근', '군산', '부근', '정체', '또', '대천', '대천', '부근', '구간', '편이', '서산', '부근', '서해', '대교', '구간', '속도', '내지', '못', '평택', '분기점', '부근', '화성', '휴게소', '구간', '역시', '정체', '오후', '요금소', '기준', '승용차', '이용', '주요', '도시', '예상', '시간', '행선', '서울', '부산', '서울', '대전', '서울', '대구', '서울', '강릉', '서울', '광주', '서울', '목포', '서울', '울산', '등', '상', '행선', '부산', '서울', '대전', '서울', '대구', '서울', '강릉', '서울', '광주', '서울', '목포', '서울', '울산', '서울', '등', '한편', '한국', '도로공사', '날', '전국', '고속도로', '교통량', '예상', '수도권', '지방', '차량', '지방', '수도권', '진입', '차량', '전망', '서울', '뉴시스', '창', '기사', '추천', '추석', '고속도로', '절정', '길', '내일', '새벽', '베스트', '추천', '뉴스', '홍준표', '생각', '좀', '대통령', '정권', '부정부패', '청소', '국민', '힘', '지지율', '국정', '농단', '사태', '이후', '최고', '치', '폭', '하락', '압구정', '한양', '자산', '마약', '아내', '한마디', '윤석열', '이재명', '주', '오차', '범위', '내', '앞서', '윤석열', '혼밥', '거나', '공약', '스트레스', '거짓말', '중국인', '명', '건강', '보험', '혜택', '외국인', '상위', '명중', '명', '중국인', '오전', '광주', '동구', '학동', '광주', '학동', '붕괴', '참사', '희생', '추모식', '유가족', '헌화', '분향', '뉴스', '오전', '광주', '동구', '학동', '붕괴', '참사', '현장', '인근', '참사', '희생', '추모', '제', '유가족', '김종', '효', '광주시', '행정부', '시장', '민형배', '이병훈', '이형석', '섭', '국회의원', '임택', '동구청', '등', '참석', '희생', '자', '넋', '기렸다', '참석자', '묵념', '시작', '추모', '제', '참사', '이후', '첫', '명절', '이진', '유족', '협의', '회장', '추모', '하자', '참석', '유족', '눈물', '이', '회장', '추모', '통해', '오늘', '그', '희생', '첫', '추석', '라며', '여기', '유족', '오늘', '날', '고', '말', '기사', '만화', '폰', '맛', '길', '꼭', '웹툰', '전기차', '충전', '요금', '왜', '추모', '시간', '마련', '이', '일인', '며', '어쩌면', '우리', '세상', '사람', '이제', '이제', '말', '그', '준비', '것', '고', '흐느끼', '말', '이', '회장', '손', '주의', '초음파', '사진', '어머니', '심정', '만삭', '딸', '목소리', '수', '걸', '계속', '전화', '딸', '매일', '밤', '내', '무릎', '내', '남편', '등', '유가족', '가족', '부재', '실감', '못', '고', '눈물', '추모', '사', '김종', '효', '부시장', '이용섭', '광주시', '애도', '대독', '이병훈', '의원', '임택', '구청', '뒤', '애도', '김민석', '광주', '대교구', '신부', '참사', '시민', '대책위', '대표', '장', '권', '정교회', '목사', '추모', '기도', '예식', '통해', '희생', '자', '추모', '유족', '마음', '유족', '가족', '이름', '위패', '앞', '헌화', '분향', '유명', '달리', '가족', '유족', '분향', '뒤', '위패', '앞', '서서', '딸아', '엄마', '를', '반복', '눈물', '추모', '제', '한성은', '유족', '협의', '회', '대변인', '발언', '끝', '대변인', '유족', '발언', '통해', '고인', '사회', '순식간', '며', '탐욕', '대한민국', '사회', '뼈', '증오', '고', '광주', '국제', '안전', '도시', '슬로건', '사람', '보이', '일단', '며', '시민', '시민', '안전', '보험금', '광주', '국제', '안전', '도시', '광주', '것', '며', '울분', '토', '또', '사전', '재난', '방해', '시민', '안전', '것', '사람', '일단', '돈', '줌', '것', '빛고을', '광주', '슬로건', '며', '광주시', '지위', '책임', '부정', '모든', '책임', '산업', '개발', '동구청', '구경', '고', '질', '진상', '규명', '책임자', '처벌', '재발', '방지', '대책', '마련', '등', '촉구', '지난', '오후', '광주시', '동구', '학동', '구역', '재개발', '공사', '현장', '철거', '중인', '층', '건물', '시내버스', '승객', '명', '명', '학동', '구역', '재개발', '사업', '산업', '개발', '공사', '수주', '뒤', '철거', '작업', '곳', '공사', '과정', '철거', '감리', '청', '및', '하도급', '업체', '안전', '관리자', '주의', '의무', '위반', '각종', '비리', '체적', '결합', '참사', '원인', '지목', '광주', '뉴스', '창', '기사', '추천', '광주', '붕괴', '참사', '희생', '추모식', '첫', '명절', '유족', '눈물', '바다', '베스트', '추천', '뉴스', '홍준표', '생각', '좀', '대통령', '정권', '부정부패', '청소', '국민', '힘', '지지율', '국정', '농단', '사태', '이후', '최고', '치', '폭', '하락', '압구정', '한양', '자산', '마약', '아내', '한마디', '윤석열', '이재명', '주', '오차', '범위', '내', '앞서', '윤석열', '혼밥', '거나', '공약', '스트레스', '거짓말', '중국인', '명', '건강', '보험', '혜택', '외국인', '상위', '명중', '명', '중국인', '국민', '힘', '추석', '논평', '국민', '올해', '보름달', '문', '정권', '실정', '종식', '소원', '것', '라며', '추석', '민심', '겸허', '고', '은', '국민', '힘', '대변인', '날', '민족', '최대', '명절', '추석', '국민', '여러분', '가정', '행복', '웃음', '기원', '며', '군', '장병', '경찰', '소방관', '코로나', '사투', '벌이', '의료', '진', '등', '감사', '인사', '그', '코로나', '로', '가족', '고향', '친구', '마음', '만날', '수', '상황', '라며', '취업', '걱정', '내', '집', '마련', '걱정', '안보', '걱정', '웃음', '한숨', '더', '고', '지금', '집권', '세력', '국민', '고통', '정권', '연장', '우선', '지적', '기사', '만화', '폰', '맛', '길', '꼭', '웹툰', '전기차', '충전', '요금', '왜', '대변인', '경기도', '회사', '개발', '명목', '의', '기적', '수익', '것', '책임', '사람', '오히려', '언론', '야당', '겁', '며', '민주당', '대권', '주자', '이재명', '지사', '대장동', '개발', '특혜', '의혹', '거론', '그', '국감', '문', '정권', '실체', '뿌리', '내년', '대선', '국민', '수', '대안', '고', '국민의당', '안혜진', '대변인', '풍요', '기쁨', '추석', '명절', '민생', '파탄', '벼랑', '끝', '내', '자영', '업자', '극단', '선택', '몹시', '마음', '고', '올해', '추석', '진단', '안', '대변인', '삶', '터전', '소멸', '위기', '처', '정권', '재창', '혈안', '정권', '법', '경쟁', '국민', '시름', '고', '지적', '그', '자유', '민주주의', '사랑', '우리', '민족', '역경', '속', '늘', '미래', '희망', '정의', '공정', '위', '모든', '노력', '며', '국민의당', '또한', '불공정', '세상', '용인', '것', '청렴', '세상', '상식', '사회', '위해', '국민', '마음', '더욱', '귀', '고', '서울', '뉴시스', '창', '기사', '추천', '국민', '정권', '종식', '소원', '것', '야권', '추석', '메시지', '베스트', '추천', '뉴스', '홍준표', '생각', '좀', '대통령', '정권', '부정부패', '청소', '국민', '힘', '지지율', '국정', '농단', '사태', '이후', '최고', '치', '폭', '하락', '압구정', '한양', '자산', '마약', '아내', '한마디', '윤석열', '이재명', '주', '오차', '범위', '내', '앞서', '윤석열', '혼밥', '거나', '공약', '스트레스', '거짓말', '중국인', '명', '건강', '보험', '혜택', '외국인', '상위', '명중', '명', '중국인', '채널', '레전드', '음악', '교실', '랜드', '노사연', '보청기', '끼', '노래', '사연', '오후', '방송', '랜드', '노사연', '레전드', '가수', '출연', '그', '히트', '곡', '만남', '비롯', '대학가요제', '데뷔', '곡', '길', '바램', '노사연', '가수', '인생', '집합', '무대', '추석', '선물', '전', '노사연', '만남', '대해', '언급', '중', '예능', '코너', '이', '노래', '등장', '발매', '최고', '인기', '가수', '만남', '활동', '당시', '별명', '부동산', '며', '현재', '통장', '잔고', '확인', '돈', '수', '플렉스', '를', '날', '족보', '플레이어', '도전', '곡', '바램', '관', '사연', '갱년기', '우울증', '탓', '이', '노래', '정말', '노사연', '돌발', '난청', '현재', '귀가', '거의', '안', '고', '고백', '그', '보청기', '끼', '노래', '만큼', '무대', '위', '시간', '더욱', '고', '기사', '만화', '폰', '맛', '길', '꼭', '웹툰', '전기차', '충전', '요금', '왜', '진', '노사연', '진심', '바램', '무대', '고백', '랄', '라송', '도전', '자의', '창', '출연', '진', '눈시울', '며', '바램', '의', '노랫말', '부모님', '생각', '멤버', '얘기', '감정', '노래', '노사연', '밀착', '티칭', '더욱', '수업', '나볼', '수', '것', '고', '전', '서울', '뉴시스', '창', '기사', '추천', '랜드', '노사연', '보청기', '끼', '노래', '돌발', '난청', '거의', '안', '베스트', '추천', '뉴스', '홍준표', '생각', '좀', '대통령', '정권', '부정부패', '청소', '국민', '힘', '지지율', '국정', '농단', '사태', '이후', '최고', '치', '폭', '하락', '압구정', '한양', '자산', '마약', '아내', '한마디', '윤석열', '이재명', '주', '오차', '범위', '내', '앞서', '윤석열', '혼밥', '거나', '공약', '스트레스', '거짓말', '중국인', '명', '건강', '보험', '혜택', '외국인', '상위', '명중', '명', '중국인', '자료', '사진', '뉴시스', '추석', '당일', '오전', '전국', '주요', '고속도로', '객', '성묘', '인파', '곳곳', '정체', '예상', '오후', '경', '차량', '이동', '본격', '것', '오후', '정체', '전망', '한국', '도로공사', '날', '오전', '기준', '승용차', '서울', '요금소', '출발', '전국', '주요', '도시', '시간', '부산', '울산', '대구', '광주', '목포', '대전', '강릉', '양양', '등', '서울', '경', '방향', '출발', '기준', '부산', '울산', '대구', '광주', '목표', '대전', '강릉', '양양', '자료', '한국', '도로', '교통', '공사', '경부', '고속도로', '부산', '방향', '오산', '남사', '구간', '서울', '방향', '양재', '반포', '구간', '제외', '전날', '흐름', '보이', '서해안', '고속도로', '중부', '고속도로', '중앙', '고속도로', '영동', '고속도로', '남해', '고속도로', '등', '차량', '증가', '정체', '구간', '새벽', '비', '도로', '곳곳', '사고', '소식', '주의', '경', '방향', '정체', '오전', '시작', '오후', '절정', '뒤', '연휴', '마지막', '날인', '오전', '해소', '것', '행선', '방향', '정체', '날', '오전', '시작', '오후', '절정', '렀', '다가', '오후', '차차', '것', '예상', '기사', '만화', '폰', '맛', '길', '꼭', '웹툰', '전기차', '충전', '요금', '왜', '도로공사', '오늘', '차', '고속도로', '이용', '성묘', '친지', '방문', '등', '귀성', '경이', '혼', '재해', '정체', '예상', '고', '날', '전국', '교통량', '예측', '이중', '수도권', '지방', '이동', '지방', '수도권', '전망', '장연', '제', '동아닷컴', '기자', '창', '기사', '추천', '추석', '날', '전국', '차량', '이동', '오후', '정체', '절정', '베스트', '추천', '뉴스', '홍준표', '생각', '좀', '대통령', '정권', '부정부패', '청소', '국민', '힘', '지지율', '국정', '농단', '사태', '이후', '최고', '치', '폭', '하락', '압구정', '한양', '자산', '마약', '아내', '한마디', '윤석열', '이재명', '주', '오차', '범위', '내', '앞서', '윤석열', '혼밥', '거나', '공약', '스트레스', '거짓말', '중국인', '명', '건강', '보험', '혜택', '외국인', '상위', '명중', '명', '중국인', '추석', '연휴', '날인', '오전', '서울', '중구', '서울역', '선', '진료', '소', '의료', '진과', '무자', '검사', '위해', '온', '시민', '안내', '뉴스', '국내', '신종', '코로나바이러스', '감염증', '코로나', '신규', '확', '진자', '하루', '사이', '명', '추석', '연휴', '휴일', '불구', '월요일', '확', '진자', '발표', '일', '기준', '화요일', '국내', '코로나', '사태', '이후', '최', '기록', '질병', '관리', '청', '중앙', '방역', '대책', '본부', '기준', '명의', '신규', '확', '진자', '발생', '총', '누적', '확', '진자', '명', '집계', '평일', '검사', '결과', '반영', '나흘', '중', '사흘', '명대', '확', '진자', '규모', '주말', '추석', '연휴', '다소', '그', '이전', '주말', '비', '선', '감소', '폭', '확', '진일', '기준', '금요일', '토요일', '일요일', '월요일', '나흘', '연속', '일별', '역대', '최', '규모', '추석', '확산', '세', '계속', '신규', '확', '진자', '감염', '경로', '국내', '지역', '발생', '명', '해외', '유입', '명', '지역별', '수도권', '명', '서울', '명', '경기', '명', '인천', '명', '의', '확', '진자', '이', '부산', '명', '대구', '명', '광주', '명', '대전', '명', '울산', '명', '세종', '명', '강원', '명', '충북', '명', '충남', '명', '전북', '명', '전남', '명', '경북', '명', '경남', '명', '제주', '명', '등', '모든', '지역', '확', '진자', '발생', '기사', '만화', '폰', '맛', '길', '꼭', '웹툰', '전기차', '충전', '요금', '왜', '해외', '유입', '환자', '명', '가운데', '명', '검역', '단계', '확진', '나머지', '명', '입국', '후', '지역', '사회', '격리', '중', '양성', '판정', '날', '코로나', '로', '사망자', '명', '발생', '누적', '사망자', '총', '명', '치명', '률', '완치', '후', '격리', '해제', '사람', '전날', '명', '증가', '누적', '명', '현재', '위', '중증', '환자', '명', '포함', '총', '명', '격리', '치료', '코로나', '백신', '예방접종', '관련', '선', '날', '기준', '신규', '차', '접종', '명', '명', '차', '접종', '차', '신규', '접종', '명', '총', '명', '접종', '완료', '장연', '제', '동아닷컴', '기자', '창', '기사', '추천', '코로나', '신규', '확진', '명', '나흘', '요일', '최', '베스트', '추천', '뉴스', '홍준표', '생각', '좀', '대통령', '정권', '부정부패', '청소', '국민', '힘', '지지율', '국정', '농단', '사태', '이후', '최고', '치', '폭', '하락', '압구정', '한양', '자산', '마약', '아내', '한마디', '윤석열', '이재명', '주', '오차', '범위', '내', '앞서', '윤석열', '혼밥', '거나', '공약', '스트레스', '거짓말', '중국인', '명', '건강', '보험', '혜택', '외국인', '상위', '명중', '명', '중국인', '연휴', '중반', '이제', '이틀', '뒤', '다시', '일상', '복귀', '연휴', '업무', '복귀', '온종일', '어지럼증', '호소', '경우', '이', '명절', '후유증', '예방', '위해', '선', '생체', '리듬', '조절', '선우', '서울', '아산병원', '가정의학', '교수', '명절', '마치', '직장', '복귀', '주일', '정도', '술자리', '피하', '생체', '리듬', '고', '조언', '명절', '후유증', '연휴', '기간', '수면', '주기', '호르몬', '분비', '등', '일상생활', '대부분', '경우', '하루', '이틀', '정도', '회복', '경우', '주', '동안', '후유증', '방치', '만성', '피로', '우울증', '악화', '수', '추석', '연휴', '귀성', '길', '장시간', '버스', '기차', '자동차', '이용', '양', '가사노동', '번', '피로', '수', '또', '만', '만난', '가족', '양', '음주', '경우', '명절', '후유증', '가능성', '기사', '만화', '폰', '맛', '길', '꼭', '웹툰', '전기차', '충전', '요금', '왜', '전문가', '명절', '후유증', '위해', '완충기', '두', '조언', '마지막', '날', '연휴', '즐', '기기', '연휴', '마지막', '날', '일찍', '귀가', '가족', '대화', '휴식', '시간', '것', '직장', '복귀', '뒤', '주일', '정도', '생체리듬', '회복', '위해', '노력', '이', '기간', '일과', '후', '술자리', '회식', '등', '피하', '것', '생체리듬', '하루', '정도', '수면', '취하', '근무', '지장', '범위', '내', '점심시간', '내외', '낮잠', '것', '이상', '낮잠', '취할', '경우', '오히려', '밤', '수면', '방해', '수도', '식', '습관', '통해', '몸', '회복', '능력', '물', '과일', '야채', '등', '것', '비타민', '제', '복용', '도움', '수', '자고', '연휴', '수면', '습관', '일시', '수면장애', '피로', '감', '등', '수', '때', '과도', '커피', '탄산음료', '섭취', '피로', '감', '수면', '제대로', '취하', '주의', '퇴근', '후', '약간', '물', '정도', '샤워', '것', '개선', '도움', '취침', '전', '몸', '풀기', '운동', '베개', '사용', '바닥', '목', '각도', '수면', '환경', '조성', '도움', '무릎', '밑', '베개', '고여', '낮', '동안', '허리', '근육', '이완', '자세', '유지', '주', '정도', '후', '몸', '것', '수', '명절', '후유증', '극복', '스트레칭', '가장', '평소', '안', '장시간', '운전', '하루', '종일', '벌초', '등', '근육', '시일', '내', '일상생활', '선우', '교수', '연휴', '주일', '무기력증', '명절', '후유증', '의심', '며', '명절', '후유증', '주', '이상', '지속', '다른', '병일', '수', '각별', '주의', '고', '당부', '서울', '뉴스', '창', '기사', '추천', '연휴', '마지막', '날', '명절', '피로', '감', '일상', '복귀', '준비', '베스트', '추천', '뉴스', '홍준표', '생각', '좀', '대통령', '정권', '부정부패', '청소', '국민', '힘', '지지율', '국정', '농단', '사태', '이후', '최고', '치', '폭', '하락', '압구정', '한양', '자산', '마약', '아내', '한마디', '윤석열', '이재명', '주', '오차', '범위', '내', '앞서', '윤석열', '혼밥', '거나', '공약', '스트레스', '거짓말', '중국인', '명', '건강', '보험', '혜택', '외국인', '상위', '명중', '명', '중국인', '전기요금', '추석', '연휴', '직후', '결정', '올해', '석유', '석탄', '액화천연가스', '등', '연료비', '상승세', '정부', '지난해', '말', '도입', '연료비', '연동제', '적용', '시', '전기', '료', '인상', '것', '정부', '올해', '물가', '및', '코로나', '로', '국민', '생활', '안정', '등', '이유', '전기', '료', '인상', '억', '연료비', '증가', '한국전력', '적자', '폭', '등', '감안', '상승', '무게', '둘', '것', '관측', '정부', '한전', '등', '전기요금', '발표', '전기요금', '지난해', '말', '연료비', '연동제', '도입', '국제', '유가', '등', '원가', '변동', '제때', '반영', '구체', '연료비', '조정', '단가', '직전', '평균', '연료비', '기준', '연료비', '직전', '개', '월간', '평균', '연료비', '실적', '연료비', '를', '기반', '연료비', '관세청', '고시', '석탄', '유류', '무역', '통관', '가격', '기준', '올해', '연료비', '전기요금', '것', '예상', '한전', '지난', '료', '리지', '정부', '결정', '현행', '체계', '전기요금', '조정', '정부', '로부터', '최종', '기사', '만화', '폰', '맛', '길', '꼭', '웹툰', '전기차', '충전', '요금', '왜', '앞서', '정부', '코로나', '장기', '화로', '어려움', '국민', '생활', '안정', '도모', '위해', '조정', '단가', '상승', '유보', '바', '경기', '위축', '상황', '물가', '상승', '요인', '억', '정부', '로서', '요금', '조정', '유보', '권한', '행사', '것', '가계', '산업', '등', '영향', '료', '물가', '자극', '수', '점', '인상', '요인', '한전', '제도', '무용지물', '비판', '연료비', '연동제', '도입', '이유', '중', '하나', '한전', '재무', '구조', '보완', '위', '것', '효과', '보지', '못', '것', '다만', '올해', '개월', '인상', '요인', '지속', '만큼', '더', '인위', '조정', '것', '분석', '산업', '통상', '자원부', '원자재', '가격', '정보', '호주', '뉴캐슬', '전력', '용', '연료', '최근', '주', '중', '톤', '당', '최저', '가격', '지난해', '기록', '약', '뒤', '달', '최근', '주', '최고', '치인', '두바이', '유', '가격', '지난', '기준', '배럴', '지난해', '과', '비교', '배', '가량', '연초', '비교', '가격', '올해', '톤', '주춤', '상승', '전환', '상황', '전기', '료', '인상', '유보', '시', '공기업', '한전', '부채', '더', '늘', '수', '한전', '중', '장기', '재무관리', '계획', '통해', '올해', '영업', '손실', '규모', '달', '것', '자체', '전망', '한전', '누적', '부채', '지난해', '올해', '새', '이상', '늘', '것', '관측', '기간', '부채', '비율', '로', '증가', '것', '예상', '전력', '산업', '탄소', '중립', '이행', '위', '전기요금', '인상', '시각', '실제', '한전', '신재생에너지', '공급', '의무', '비용', '탄소', '배출권거래제', '비용', '포함', '기후', '환경', '비용', '지출', '규모', '매년', '늘', '이', '비용', '상반기', '기록', '만약', '이번', '전기요금', '이후', '약', '요금', '조정', '조정', '요금', '최대', '당', '범위', '내', '직전', '요금', '대비', '변동', '상한선', '도달', '그', '이상', '인상', '인하', '인상', '월', '평균', '의', '전기', '인', '가구', '요금', '월', '것', '의미', '세종', '뉴시스', '창', '기사', '추천', '추석', '이후', '전기요금', '결정', '인상', '가능성', '쑥', '베스트', '추천', '뉴스', '홍준표', '생각', '좀', '대통령', '정권', '부정부패', '청소', '국민', '힘', '지지율', '국정', '농단', '사태', '이후', '최고', '치', '폭', '하락', '압구정', '한양', '자산', '마약', '아내', '한마디', '윤석열', '이재명', '주', '오차', '범위', '내', '앞서', '윤석열', '혼밥', '거나', '공약', '스트레스', '거짓말', '중국인', '명', '건강', '보험', '혜택', '외국인', '상위', '명중', '명', '중국인', '주간', '격리', '해제', '아프가니스탄', '특별', '여자', '자녀', '오전', '충북', '진천군', '국가공무원', '인재', '개발', '운동장', '야외', '활동', '뉴스', '한국', '온', '아프가니스탄', '특별', '여자', '명', '알록달록', '송편', '첫', '추석', '법무부', '충북', '진천', '국가공무원', '재개발', '생활', '중인', '아프가니스탄', '특별', '여자', '명', '처음', '경험', '한국', '고유', '명절', '추석', '연휴', '송편', '한국', '고유문', '시간', '신종', '코로나바이러스', '감염증', '코로나', '확산', '방역', '지침', '장소', '담소', '명절', '분위기', '체험', '볼', '수', '가정', '전달', '추석', '음식', '송편', '한국', '명절', '문화', '소개', '위해', '제작', '동영상', '시청', '유복', '렬', '법무부', '출입국', '외국인', '정책', '본부', '국적', '통합', '정책', '단장', '추석', '연휴', '검토', '진천', '거리', '두기', '단계', '명', '이상', '수', '별도', '일정', '며', '고민', '송편', '가정', '제공', '추석', '의미', '설명', '고', '또한', '명절', '풍습', '한국', '음식', '등', '국문', '소개', '동영상', '전달', '고', '기사', '만화', '폰', '맛', '길', '꼭', '웹툰', '전기차', '충전', '요금', '왜', '아프가니스탄', '특별', '여자', '입국', '직후', '주간', '격리', '마치', '임시', '숙소', '개발', '안', '생활', '곳', '아프간', '명', '가구', '임신부', '명', '약', '인', '명', '미성년', '지난', '자가', '격리', '해제', '이', '실내', '생활', '경내', '운동장', '등', '산책', '그간', '긴장', '불안', '운영', '인력', '인솔', '아이', '장난감차', '공', '어른', '운동장', '트랙', '산책', '이', '대상', '한국어', '한국', '문화', '금융', '지식', '등', '기초', '교육', '진행', '전국', '기부', '불교', '조계종', '이', '위해', '달라', '지난', '법무부', '기부', '적십자사', '통해', '과일', '차', '등', '식품', '비롯', '아이', '위', '분유', '기저귀', '장난감', '학용품', '옷', '등', '도착', '낯선', '타국', '긴장감', '더욱', '아프간', '특별', '여자', '자녀', '우리나라', '또래', '아이', '손편지', '아프간', '아이', '앞', '손편지', '여통', '아이', '고사리', '손', '그림', '편지', '친구', '마', '등', '환영', '내용', '임신부', '명', '미성년', '전체', '로', '의료', '진', '각별', '관심', '지원', '고려대학교의료원', '지난', '주간', '의료', '지원', '의료', '진', '여명', '컴퓨터', '단층', '촬영', '초음파', '검사', '등', '의료', '버스', '현장', '파견', '출산', '예정', '일부', '임산부', '병원', '송해', '출산', '도울', '예정', '이', '충주의료원', '의료', '버스', '인도주의', '실천', '의사', '협의', '회', '정기', '소아과', '진료', '지원', '이', '임시', '숙소', '인재', '개발', '말', '제', '국행', '이', '이', '전원', '한국', '정착', '희망', '것', '법무부', '파악', '이', '법무부', '교육부', '등', '정부', '각', '부처', '협력', '통해', '개', '월간', '사회', '통합', '프로그램', '실시', '이', '완전', '자립', '방침', '법무부', '임시', '생활', '기간', '이후', '거처', '물색', '중이', '서울', '뉴스', '창', '기사', '추천', '한국', '첫', '추석', '아프간', '특별', '여자', '송편', '명절', '체험', '베스트', '추천', '뉴스', '홍준표', '생각', '좀', '대통령', '정권', '부정부패', '청소', '국민', '힘', '지지율', '국정', '농단', '사태', '이후', '최고', '치', '폭', '하락', '압구정', '한양', '자산', '마약', '아내', '한마디', '윤석열', '이재명', '주', '오차', '범위', '내', '앞서', '윤석열', '혼밥', '거나', '공약', '스트레스', '거짓말', '중국인', '명', '건강', '보험', '혜택', '외국인', '상위', '명중', '명', '중국인', '토니', '블', '링컨', '미국', '국무부', '장관', '현지', '시간', '전', '세계', '한국인', '추석', '고', '말', '블', '링컨', '장관', '날', '성명', '통해', '코로나', '대유행', '통한', '우리', '경험', '가족', '우정', '중요성', '강화', '추석', '우리', '우리', '모든', '것', '앞', '번창', '해', '고', '전', '한미', '양국', '지속', '동맹', '우정은', '우리', '민주주의', '가치', '공유', '세기', '가장', '과제', '해결', '위해', '노력', '약속', '바탕', '한미', '동맹', '세계', '평화', '안보', '번영', '위해', '필수', '강조', '한국인', '이번', '추석', '가장', '안부', '전', '고', '기사', '만화', '폰', '맛', '길', '꼭', '웹툰', '전기차', '충전', '요금', '왜', '서울', '뉴시스', '창', '기사', '추천', '국무장관', '한국', '추석', '베스트', '추천', '뉴스', '홍준표', '생각', '좀', '대통령', '정권', '부정부패', '청소', '국민', '힘', '지지율', '국정', '농단', '사태', '이후', '최고', '치', '폭', '하락', '압구정', '한양', '자산', '마약', '아내', '한마디', '윤석열', '이재명', '주', '오차', '범위', '내', '앞서', '윤석열', '혼밥', '거나', '공약', '스트레스', '거짓말', '중국인', '명', '건강', '보험', '혜택', '외국인', '상위', '명중', '명', '중국인', '추석', '하루', '전인', '오후', '시내', '보름달', '뉴스', '추석', '당일', '이자', '화요일', '전국', '비', '전망', '기상청', '날', '서쪽', '기압골', '영향', '새벽', '중부지방', '강원영동', '제외', '과', '전라', '비', '시작', '그', '밖', '지역', '확대', '예보', '이', '날', '오후', '수도권', '충남', '전라', '시작', '저녁', '대부분', '지역', '저녁', '또', '다른', '기압골', '북서쪽', '남하', '수도권', '강원', '영서', '충남', '서해안', '다시', '비', '것', '예상', '강수량', '중부지방', '강원영동', '제외', '남부', '지방', '경북', '동해안', '제외', '제주도', '서해', '도', '곳', '전남', '경남', '제주도', '이상', '강원영동', '경북', '동해안', '울릉도', '독도', '기사', '만화', '폰', '맛', '길', '꼭', '웹툰', '전기차', '충전', '요금', '왜', '남풍', '동반', '다량', '수증기', '유입', '비구름', '대가', '발달', '날', '아침', '서쪽', '지역', '낮', '동안', '동쪽', '지역', '중심', '시간', '의', '매우', '비', '곳도', '비', '지역', '돌풍', '천둥', '번개', '곳', '가시거리', '도로', '길', '교통', '안전', '유의', '날', '아침', '최저', '기온', '도', '낮', '최고', '기온', '도로', '예상', '지역별', '예상', '아침', '최저', '기온', '서울', '도', '인천', '도', '강릉', '도', '춘천', '도', '대전', '도', '대구', '도', '부산', '도', '전주', '도', '광주', '도', '제주', '도', '낮', '최고', '기온', '서울', '도', '인천', '도', '강릉', '도', '춘천', '도', '대전', '도', '대구', '도', '부산', '도', '전주', '도', '광주', '도', '제주', '도', '미세먼지', '농도', '대기', '확산', '전', '권역', '예상', '풍량특보', '발표', '서해', '바다', '아침', '바람', '시속', '로', '불', '물결', '로', '한편', '날', '전국', '비', '소식', '하늘', '대체로', '지역', '오후', '보름달', '볼', '수', '곳도', '한국', '연구원', '날', '도시', '달', '시각', '서울', '오후', '인천', '오후', '수원', '오후', '강릉', '오후', '춘천', '오후', '대전', '오후', '청주', '오후', '대구', '오후', '부산', '오후', '울산', '오후', '광주', '오후', '전주', '오후', '제주', '오후', '서울', '뉴스', '창', '기사', '추천', '비', '한가위', '보름달', '오후', '추천', '뉴스', '홍준표', '생각', '좀', '대통령', '정권', '부정부패', '청소', '국민', '힘', '지지율', '국정', '농단', '사태', '이후', '최고', '치', '폭', '하락', '압구정', '한양', '자산', '마약', '아내', '한마디', '윤석열', '이재명', '주', '오차', '범위', '내', '앞서', '윤석열', '혼밥', '거나', '공약', '스트레스', '거짓말', '중국인', '명', '건강', '보험', '혜택', '외국인', '상위', '명중', '명', '중국인', '명절', '연휴', '프로야구', '순위', '싸움', '쉬', '중위', '대전', '은', '연휴', '더', '전망', '추석', '당일', '다이노스', '잠실', '구장', '두산', '베어스', '연전', '첫', '경기', '인천', '히어로즈', '랜더스', '결과', '중위', '판도', '수', '대진', '위', '승', '무', '패', '를', '두산', '게임', '차', '승', '무', '패', '위', '마크', '기사', '만화', '폰', '맛', '길', '꼭', '웹툰', '전기차', '충전', '요금', '왜', '두산', '승차', '위', '승', '무', '패', '위', '승', '무', '패', '도', '게임', '차', '이번', '연전', '통해', '역전', '각', '팀', '분위기', '반기', '막판', '주축', '선수', '코로나', '방역', '지침', '위반', '술자리', '파문', '이탈', '후반기', '중위', '계속', '경쟁', '선수', '공백', '다소', '어려움', '기회', '선수', '선전', '두산', '중위', '팀', '중', '가장', '흐름', '지난', '위', '못', '승률', '미러클', '두산', '의', '존재', '감', '중이', '후반기', '위', '승', '무', '패', '정도', '최근', '페이스', '두산', '기세', '위도', '전', '선발', '최원준', '투입', '반기', '막판', '다소', '주춤', '최원준', '최근', '경기', '연속', '퀄리티', '스타트', '선발', '이닝', '이상', '자책점', '이하', '를', '달성', '등', '다시', '감', '지난', '전', '이닝', '동안', '개', '삼진', '실점', '호투', '민혁', '불', '민혁', '최근', '등판', '이닝', '실점', '비자', '책', '쾌투', '민혁', '최근', '연패', '팀', '연패', '탈출', '중책', '인천', '대결', '분위기', '반전', '위', '경기', '후반', '심', '밀리', '연패', '그', '사이', '순위도', '위', '구원진', '평균자책점', '위', '만큼', '뒷문', '시즌', '내내', '투수', '진의', '부상', '이탈', '계속', '더', '이상', '곳', '격차', '계속', '포스트시즌', '진출', '상대', '대체', '외국인', '선수', '합류', '리그', '두', '경기', '이닝', '실점', '자책', '바', '이번', '다른', '모습', '후반기', '가장', '카드', '정찬헌', '출격', '올림픽', '휴식', '기', '동안', '트레이드', '통해', '유니폼', '정찬헌', '이적', '후', '경기', '승', '패', '평균자책점', '마크', '승리', '정찬헌', '등판', '경기', '중', '팀', '승', '패', '를', '서울', '뉴시스', '창', '기사', '추천', '제대로', '한가위', '프로야구', '중위', '대전', '베스트', '추천', '뉴스', '홍준표', '생각', '좀', '대통령', '정권', '부정부패', '청소', '국민', '힘', '지지율', '국정', '농단', '사태', '이후', '최고', '치', '폭', '하락', '압구정', '한양', '자산', '마약', '아내', '한마디', '윤석열', '이재명', '주', '오차', '범위', '내', '앞서', '윤석열', '혼밥', '거나', '공약', '스트레스', '거짓말', '중국인', '명', '건강', '보험', '혜택', '외국인', '상위', '명중', '명', '중국인', '오전', '경부', '고속도로', '잠', '인근', '행선', '부산', '방향', '오른쪽', '뉴스', '추석', '당일', '고향', '서울', '객', '정체', '예상', '한국', '도로공사', '날', '지방', '수도권', '수도권', '지방', '차량', '것', '예측', '전국', '총', '차량', '고속도로', '이용', '것', '전망', '연휴', '첫날', '둘째', '날인', '수치', '날', '아침', '양', '방향', '고속도로', '정체', '시작', '밤', '것', '기사', '만화', '폰', '맛', '길', '꼭', '웹툰', '전기차', '충전', '요금', '왜', '서울', '방향', '오전', '정체', '시작', '오후', '절정', '렀', '다가', '연휴', '마지막', '날인', '오전', '해소', '전망', '부선', '방향', '신탄진', '안성', '분기점', '기흥', '신', '분기점', '금토', '분기점', '서초', '해안선', '방향', '서산', '송악', '팔', '분기점', '곡', '분기점', '일직', '분기점', '금천', '중부선', '방향', '남', '분기점', '창', '죽', '호법', '분기점', '신', '산곡', '분기점', '영동선', '방향', '여주', '양지', '부곡', '안산', '분기점', '군자', '서창', '분기점', '부근', '오후', '정체', '것', '예상', '선', '방향', '오후', '춘천', '분기점', '남', '춘천', '덕소', '삼패', '강일', '부근', '가장', '것', '귀성', '방향', '행', '정체', '날', '오전', '시작', '오후', '절정', '렀', '다가', '오후', '해소', '것', '예상', '부선', '부산', '방향', '서울', '수원', '신', '안성', '천안', '분기점', '목', '청주', '부근', '오후', '가장', '전망', '해안선', '목포', '방향', '남', '분기점', '비봉', '발안', '부근', '오전', '정체', '것', '중부선', '남', '방향', '하남', '경기', '광주', '마장', '분기점', '남', '이천', '진천', '창', '영동선', '강릉', '방향', '분기점', '부곡', '마', '양지', '호법', '분기점', '이천', '선', '방향', '강일', '남양주', '남', '춘천', '춘천', '분기점', '부근', '오후', '정체', '절정', '달', '것', '예상', '한편', '날', '전국', '비', '소식', '가시거리', '도로', '경', '길', '교통', '안전', '유의', '서울', '뉴스', '창', '기사', '추천', '다시', '집', '길', '정체', '오전', '오후', '절정', '베스트', '추천', '뉴스', '홍준표', '생각', '좀', '대통령', '정권', '부정부패', '청소', '국민', '힘', '지지율', '국정', '농단', '사태', '이후', '최고', '치', '폭', '하락', '압구정', '한양', '자산', '마약', '아내', '한마디', '윤석열', '이재명', '주', '오차', '범위', '내', '앞서', '윤석열', '혼밥', '거나', '공약', '스트레스', '거짓말', '중국인', '명', '건강', '보험', '혜택', '외국인', '상위', '명중', '명', '중국인', '진영', '포틀랜드', '클래식', '우승', '진영', '현지', '시간', '오리건주', '웨스트', '린', '디', '오리건', '골프클럽', '막', '미국', '여자', '프로', '골프', '투어', '캄비', '포틀랜드', '클래식', '후', '트로피', '기념', '촬영', '진영', '최종', '합계', '더파', '타로', '우승', '시즌', '승', '기록', '웨스트', '린', '뉴시스', '미국', '여자', '프로', '골프', '투어', '캄비', '포틀랜드', '클래식', '상금', '진영', '솔레어', '이', '추석', '한국', '팬', '선물', '선사', '것', '진영', '이하', '한국', '시간', '미국', '오리건주', '웨스트', '린', '디', '오리건', '골프클럽', '파', '야드', '대회', '최종', '라운드', '보기', '버디', '개', '더파', '타', '대회', '홀', '경기', '축소', '운영', '가운데', '진영', '최종', '합계', '더파', '타로', '시즌', '및', '통산', '우승', '트로피', '품', '한국', '선수', '우승', '진영', '왼쪽', '이', '현지', '시간', '오리건주', '웨스트', '린', '디', '오리건', '골프클럽', '미국', '여자', '프로', '골프', '투어', '캄비', '포틀랜드', '클래식', '최종', '라운드', '번', '홀', '경기', '마치', '부모', '로부터', '축하', '세례', '진영', '최종', '합계', '더파', '타로', '우승', '시즌', '승', '기록', '웨스트', '린', '뉴시스', '진영', '투어', '통해', '한가위', '우승', '분', '명절', '보내셧으', '며', '한가위', '선물', '드릴', '수', '영광', '고', '소감', '기사', '만화', '폰', '맛', '길', '꼭', '웹툰', '전기차', '충전', '요금', '왜', '진영', '지난', '여름', '도쿄', '올림픽', '이후', '한국', '재', '충전', '시간', '그로', '복귀', '첫', '대회', '우승', '결과물', '낼', '수', '진영', '올림픽', '이후', '한국', '주', '정도', '쉰', '것', '코치', '연습', '소화', '등', '운동', '며', '이번', '주', '시간', '트로피', '내', '이름', '수', '고', '말', '그동안', '번', '부모님', '앞', '우승', '올해', '번', '모두', '부모님', '앞', '고', '서울', '뉴스', '창', '기사', '추천', '시즌', '승', '진영', '한가위', '선물', '드릴', '수', '영광', '베스트', '추천', '뉴스', '홍준표', '생각', '좀', '대통령', '정권', '부정부패', '청소', '국민', '힘', '지지율', '국정', '농단', '사태', '이후', '최고', '치', '폭', '하락', '압구정', '한양', '자산', '마약', '아내', '한마디', '윤석열', '이재명', '주', '오차', '범위', '내', '앞서', '윤석열', '혼밥', '거나', '공약', '스트레스', '거짓말', '중국인', '명', '건강', '보험', '혜택', '외국인', '상위', '명중', '명', '중국인', '추석', '당일', '화요일', '전국', '고속도로', '다소', '교통', '흐름', '것', '예상', '서울', '길', '행렬', '시작', '방향', '교통', '정체', '것', '한국', '도로공사', '내일', '전국', '고속도로', '이용', '차량', '것', '예상', '수도권', '지방', '차량', '지방', '수도권', '차량', '예측', '서울', '방향', '정체', '오전', '시작', '이후', '오후', '사이', '절정', '뒤', '새벽', '해소', '전망', '내일', '오전', '시작', '지방', '방향', '정체', '오후', '사이', '최대', '기록', '뒤', '오후', '해소', '것', '귀성', '행렬', '막바지', '날', '오후', '기준', '전국', '고속도로', '일부', '구간', '제외', '대체로', '교통', '흐름', '보이', '기사', '만화', '폰', '맛', '길', '꼭', '웹툰', '전기차', '충전', '요금', '왜', '경부', '고속도로', '부산', '방향', '잠', '나들목', '구간', '서울', '방향', '안성', '나들목', '구간', '일시', '정체', '서울', '양양', '고속도로', '서울', '방향', '미사', '나들목', '강일', '나들목', '차량', '속도', '이동', '날', '오후', '요금소', '출발', '기준', '주요', '도시', '예상', '소요', '시간', '상', '행선', '부산', '서울', '대구', '서울', '광주', '서울', '대전', '서울', '강릉', '서울', '울산', '서울', '목포', '서울', '행선', '서울', '부산', '서울', '대구', '서울', '광주', '서울', '대전', '서울', '강릉', '서울', '울산', '서울', '목포', '서울', '뉴시스', '창', '기사', '추천', '추석', '당일', '고속도로', '방향', '답답', '길', '정체', '시작', '베스트', '추천', '뉴스', '홍준표', '생각', '좀', '대통령', '정권', '부정부패', '청소', '국민', '힘', '지지율', '국정', '농단', '사태', '이후', '최고', '치', '폭', '하락', '압구정', '한양', '자산', '마약', '아내', '한마디', '윤석열', '이재명', '주', '오차', '범위', '내', '앞서', '윤석열', '혼밥', '거나', '공약', '스트레스', '거짓말', '중국인', '명', '건강', '보험', '혜택', '외국인', '상위', '명중', '명', '중국인', '서대문', '소방', '제공', '뉴스', '추석', '전날', '오전', '서울', '서대문구', '연희동', '아파트', '불', '명', '대피', '사고', '발생', '서대문', '방서', '이', '사고', '인명', '피해', '이', '불', '주택', '거주', '주민', '인덕션', '위', '냄비', '채', '외출', '발생', '것', '추정', '소방', '당국', '인원', '명과', '장비', '투입', '불', '모두', '기사', '만화', '폰', '맛', '길', '꼭', '웹툰', '전기차', '충전', '요금', '왜', '서울', '뉴스', '창', '기사', '추천', '연희동', '아파트', '냄비', '외출', '화재', '주민', '명', '대피', '베스트', '추천', '뉴스', '홍준표', '생각', '좀', '대통령', '정권', '부정부패', '청소', '국민', '힘', '지지율', '국정', '농단', '사태', '이후', '최고', '치', '폭', '하락', '압구정', '한양', '자산', '마약', '아내', '한마디', '윤석열', '이재명', '주', '오차', '범위', '내', '앞서', '윤석열', '혼밥', '거나', '공약', '스트레스', '거짓말', '중국인', '명', '건강', '보험', '혜택', '외국인', '상위', '명중', '명', '중국인', '문재인', '대통령', '오른쪽', '과', '부인', '김정숙', '여사', '추석', '영상', '통해', '국민', '향', '인사', '전하', '청와대', '페이스북', '영상', '갈무리', '뉴스', '문재인', '대통령', '추석', '명절', '국민', '약속', '추석', '전', '백신', '차', '접종', '률', '를', '달성', '조금', '걱정', '덜', '수', '고', '말', '문', '대통령', '날', '오후', '사회', '관계', '망', '서비스', '를', '통해', '공개', '영상', '메시지', '부인', '김정숙', '여사', '대국민', '추석', '인사', '전하', '문', '대통령', '다음', '달이', '접종', '완료', '율도', '세계', '앞서', '가게', '것', '우리', '점차', '일상', '것', '라며', '조금', '더', '힘', '내기', '고', '말', '김', '여사', '가족', '이웃', '사랑', '마음', '우리나라', '백신', '접종', '속도', '생각', '며', '은', '상황', '가족', '이웃', '더', '마음', '대응', '만큼', '결실', '것', '기사', '만화', '폰', '맛', '길', '꼭', '웹툰', '전기차', '충전', '요금', '왜', '문', '대통령', '또', '명절', '만큼', '분', '며', '올해', '서로', '격려', '격려', '명절', '고', '말', '김', '여사', '나날', '속', '달', '동산', '가족', '사랑', '마음', '그대', '며', '마음', '응원', '말로', '서로', '마음', '사랑', '더', '것', '말', '예년', '더', '내일', '모두', '시간', '고', '문', '대통령', '뉴욕', '제', '차', '유엔', '총회', '참석', '위해', '김', '여사', '현재', '미국', '뉴욕', '방문', '중이', '이', '영상', '메시지', '뉴욕', '전용기', '안', '촬영', '서울', '뉴스', '창', '기사', '추천', '미국', '행', '비행기', '추석', '인사', '차', '접종', '률', '점차', '일상', '것', '베스트', '추천', '뉴스', '홍준표', '생각', '좀', '대통령', '정권', '부정부패', '청소', '국민', '힘', '지지율', '국정', '농단', '사태', '이후', '최고', '치', '폭', '하락', '압구정', '한양', '자산', '마약', '아내', '한마디', '윤석열', '이재명', '주', '오차', '범위', '내', '앞서', '윤석열', '혼밥', '거나', '공약', '스트레스', '거짓말', '중국인', '명', '건강', '보험', '혜택', '외국인', '상위', '명중', '명', '중국인', '홍준표', '국민', '힘', '의원', '오른쪽', '과', '홍', '의원', '캠프', '여명', '대변인', '오후', '추석', '맞이', '유튜브', '라이브', '방송', '무', '야홍', '를', '진행', '유튜브', '홍카', '콜라', '갈무리', '뉴스', '국민', '힘', '대권', '주자', '홍준표', '의원', '차기', '대통령', '문재인', '정권', '모든', '민생', '관련', '부정부패', '청소', '새', '세상', '게', '선전포고', '홍', '의원', '날', '오후', '여분', '동안', '진행', '추석', '맞이', '유튜브', '라이브', '방송', '무', '야홍', '과거', '정치', '보복', '부정', '최근', '생각', '좀', '라며', '말', '그', '정치', '보복', '민생', '관련', '부분', '가차', '수사', '며', '이재명', '민주당', '대선', '경선', '후보', '연루', '의혹', '대장동', '개발', '특혜', '의혹', '대해', '돈', '전부', '환수', '피해자', '나라', '복지', '기금', '사용', '것', '반드시', '그것', '처리', '것', '말', '날', '라이브', '방송', '댓글', '각종', '사회', '현안', '질문', '대한', '홍', '의원', '답변', '기사', '만화', '폰', '맛', '길', '꼭', '웹툰', '전기차', '충전', '요금', '왜', '홍', '의원', '수신료', '폐지', '대한', '질문', '대통령', '를', '민영', '방송', '것', '라며', '만', '국가', '세금', '운영', '나머지', '민영', '방송', '수신료', '자동', '것', '답', '군', '복무', '제도', '대해', '모병제', '지원', '병제', '징병제', '동시', '실시', '그', '다음', '모병제', '병제', '전문', '강', '고', '단계', '모병제', '전환', '계획', '그', '다만', '대신', '모병제', '본격', '국방', '세', '며', '세', '이상', '국방', '세', '부과', '젊은이', '징병', '멍에', '로부터', '대신', '일찍', '사회', '돈', '세금', '나라', '장병', '위해', '제대로', '일자리', '것', '하나', '방법', '말', '그', '앞서', '흉악', '범의', '사형', '집행', '윤석열', '전', '검찰총장', '테르테', '표현', '것', '언급', '오해', '형사소송법', '사형', '확정', '시', '개월내', '집행', '것', '법무부', '장관', '의무', '라며', '사형', '집행', '안', '것', '법무부', '장관', '직무', '유기', '제', '대통령', '법대', '것', '설명', '이외', '대통령', '담뱃세', '인하', '종부세', '폐지', '상속세', '완화', '것', '촉법소년', '연령', '하향', '조정', '약속', '난민', '수용', '문제', '대해', '배척', '필요', '고', '말', '홍', '의원', '책임', '당원', '지지율', '방안', '대해', '당원', '지난', '지방선거', '것', '머릿속', '남아', '좀', '부정', '생각', '분', '며', '사실', '당시', '문재인', '정권', '지지율', '누가', '당', '대표', '해도', '수', '게임', '고', '홍', '의원', '날', '방송', '아내', '로부터', '용돈', '펩시', '콜라', '코카콜라', '탕수육', '원래', '소스', '부어', '것', '방송인', '이경규', '때문', '오해', '피', '위', '도시', '어부', '안', '게', '면서', '등', '온라인', '참여자', '친밀', '감', '높이', '분위기', '연출', '서울', '뉴스', '창', '기사', '추천', '홍준표', '생각', '좀', '대통령', '정권', '부정부패', '청소', '베스트', '추천', '뉴스', '홍준표', '생각', '좀', '대통령', '정권', '부정부패', '청소', '국민', '힘', '지지율', '국정', '농단', '사태', '이후', '최고', '치', '폭', '하락', '압구정', '한양', '자산', '마약', '아내', '한마디', '윤석열', '이재명', '주', '오차', '범위', '내', '앞서', '윤석열', '혼밥', '거나', '공약', '스트레스', '거짓말', '중국인', '명', '건강', '보험', '혜택', '외국인', '상위', '명중', '명', '중국인', '서울', '서대문구', '북아현', '문화', '체육', '센터', '마련', '코로나', '백신', '접종', '센터', '모습', '뉴스', '방역', '당국', '지난', '오후', '시작', '신종', '코로나바이러스', '감염증', '코로나', '백신', '미접', '종자', '대상', '사전예약', '결과', '명', '참여', '전체', '미접', '종자', '중', '수준', '홍', '정익', '코로나', '예방접종', '대응', '추진단', '이하', '추진단', '예방접종', '관리', '팀', '날', '정례', '브리핑', '미접', '종자', '중', '명', '현재', '예약', '며', '률', '못', '추석', '연휴', '이후', '참여', '것', '고', '설명', '지금', '계획', '사전예약', '종료', '다시', '예약', '시스템', '열', '계획', '며', '미접', '종자', '예방접종', '시작', '뒤', '전체', '접종', '상황', '필요성', '검토', '고려', '고', '사정', '당국', '만', '세', '청장년', '층', '중', '코로나', '백신', '미접', '종자', '오후', '백신', '시스템', '통해', '백신', '접종', '참여', '재차', '당부', '기사', '만화', '폰', '맛', '길', '꼭', '웹툰', '전기차', '충전', '요금', '왜', '홍', '정익', '예방접종', '관리', '팀', '청장년', '층', '중', '백신', '예약', '못', '분', '오후', '미접', '종자', '예약', '통해', '예약', '며', '예약', '완료', '예약', '일정', '접종', '동참', '달라', '고', '말', '그', '예약', '사회', '관계', '망', '서비스', '당일', '신속', '예약', '서비스', '카카오', '네이버', '등', '통해', '잔', '백신', '활용', '접종', '신청', '더', '접종', '수', '며', '청장년', '층', '경우', '백신', '접종', '다른', '대상', '예약', '분', '고려', '현재', '인구', '명', '대비', '참여', '것', '전망', '질병', '관리', '청', '사전', '대상자', '률', '총', '중', '로', '마감', '서울', '뉴스', '창', '기사', '추천', '미접', '종자', '중', '예약', '질병', '청', '추가', '예약', '베스트', '추천', '뉴스', '홍준표', '생각', '좀', '대통령', '정권', '부정부패', '청소', '국민', '힘', '지지율', '국정', '농단', '사태', '이후', '최고', '치', '폭', '하락', '압구정', '한양', '자산', '마약', '아내', '한마디', '윤석열', '이재명', '주', '오차', '범위', '내', '앞서', '윤석열', '혼밥', '거나', '공약', '스트레스', '거짓말', '중국인', '명', '건강', '보험', '혜택', '외국인', '상위', '명중', '명', '중국인', '추석', '하루', '오후', '전북', '전주시', '옥', '마을', '관광객', '인산인해', '뉴스', '추석', '하루', '전북', '대표', '관광지', '옥', '마을', '인파', '신종', '코로나바이러스', '감염증', '코로나', '사회', '거리', '두기', '불구', '시민', '밖', '연휴', '모습', '연휴', '차', '거리', '로', '운영', '옥', '마을', '가족', '연인', '친구', '단위', '무리', '지은', '관광객', '가을', '정취', '만끽', '날', '오후', '전주', '청명', '하늘', '아래', '사', '햇볕', '날씨', '알록달록', '자태', '한복', '관광객', '기전', '담벼락', '배경', '사진', '촬영', '모습', '눈', '기사', '만화', '폰', '맛', '길', '꼭', '웹툰', '전기차', '충전', '요금', '왜', '구름', '인파', '복대', '점', '음식점', '등', '옥', '마을', '인근', '상', '얼굴', '웃음꽃', '전동성당', '인근', '태조', '위', '공예품', '판매', '부스', '손님', '응대', '아이', '어른', '것', '거의', '대부분', '마스크', '착용', '다만', '닭꼬치', '튀김', '등', '길거리', '간식', '먹기', '위해', '턱', '아래', '마스크', '이', '길거리', '음식', '구입', '위해', '줄', '선', '시민', '거리', '두기', '모습', '동안', '다른', '곳', '산', '음식', '옆', '사람과', '입', '먹기', '날', '옥', '마을', '시민', '연휴', '동안', '실내', '입', '전북', '정읍', '이모', '연휴', '집', '데이트', '며', '설마', '사람', '눈치', '게임', '진', '것', '고', '조심', '스레', '말', '가족', '충북', '청주', '전주', '박모', '코로나', '어차피', '정부', '곧', '위드', '코로나', '면서', '우리', '가족', '백신', '마스크', '조심', '것', '고', '설명', '한편', '날', '전북도', '보건', '당국', '연휴', '동안', '만남', '이동', '자제', '달라', '요청', '전북', '지역', '최근', '층', '코로나', '확진', '급증', '지난', '날', '발생', '전북', '지역', '코로나', '확', '진자', '명', '오후', '기준', '중', '확', '진자', '명', '전체', '를', '차지', '전북도', '보건', '당국', '관계자', '전북', '지역', '최근', '이동성', '층', '확진', '확산', '매우', '상황', '라며', '극복', '위', '이동', '만남', '최대한', '자제', '고', '당부', '전주', '뉴스', '창', '기사', '추천', '추석', '옥', '마을', '만', '구름', '인파', '북적', '베스트', '추천', '뉴스', '홍준표', '생각', '좀', '대통령', '정권', '부정부패', '청소', '국민', '힘', '지지율', '국정', '농단', '사태', '이후', '최고', '치', '폭', '하락', '압구정', '한양', '자산', '마약', '아내', '한마디', '윤석열', '이재명', '주', '오차', '범위', '내', '앞서', '윤석열', '혼밥', '거나', '공약', '스트레스', '거짓말', '중국인', '명', '건강', '보험', '혜택', '외국인', '상위', '명중', '명', '중국인', '추석', '당일', '이자', '화요일', '중부지방', '전라', '비', '시작', '전국', '확대', '것', '기상청', '날', '서쪽', '기압골', '영향', '차차', '수도권', '강원', '영서', '충남', '오후', '다시', '북서쪽', '기압골', '영향', '예보', '이', '오후', '수도권', '충남', '전라', '등', '대부분', '지역', '밤', '북서쪽', '기압골', '영향', '수도권', '강원', '영서', '다시', '비', '시작', '전국', '대부분', '지역', '확대', '것', '예상', '강수량', '중부지방', '남부', '지방', '제주도', '서해', '도', '곳', '전남', '경남', '제주도', '이상', '강원', '영동', '경북', '동해안', '울릉도', '독도', '기사', '만화', '폰', '맛', '길', '꼭', '웹툰', '전기차', '충전', '요금', '왜', '남풍', '동반', '다량', '수증기', '유입', '비구름', '대가', '발달', '새벽', '아침', '사이', '서쪽', '지역', '낮', '동안', '동쪽', '지역', '중심', '시간', '의', '매우', '비', '곳도', '비', '지역', '돌풍', '천둥', '번개', '곳도', '시설', '물', '관리', '유의', '날', '아침', '최저', '기온', '도', '낮', '최고', '기온', '도로', '예상', '지역별', '예상', '아침', '최저', '기온', '서울', '도', '인천', '도', '강릉', '도', '춘천', '도', '대전', '도', '대구', '도', '부산', '도', '전주', '도', '광주', '도', '제주', '도', '낮', '최고', '기온', '서울', '도', '인천', '도', '강릉', '도', '춘천', '도', '대전', '도', '대구', '도', '부산', '도', '전주', '도', '광주', '도', '제주', '도', '미세먼지', '농도', '대기', '확산', '전', '권역', '예상', '풍량특보', '발표', '서해', '중부', '바깥', '바다', '서해', '남부', '북쪽', '바깥', '바다', '날', '새벽', '그', '밖', '서해', '중부', '해상', '서해', '남부', '북쪽', '안쪽', '바다', '아침', '바람', '시속', '로', '매우', '불', '물결', '로', '서울', '뉴스', '창', '기사', '추천', '추석', '당일', '전국', '빗방울', '보름달', '저녁', '추천', '뉴스', '홍준표', '생각', '좀', '대통령', '정권', '부정부패', '청소', '국민', '힘', '지지율', '국정', '농단', '사태', '이후', '최고', '치', '폭', '하락', '압구정', '한양', '자산', '마약', '아내', '한마디', '윤석열', '이재명', '주', '오차', '범위', '내', '앞서', '윤석열', '혼밥', '거나', '공약', '스트레스', '거짓말', '중국인', '명', '건강', '보험', '혜택', '외국인', '상위', '명중', '명', '중국인', '창록', '영암군', '민속', '씨름', '단', '이', '올해', '관왕', '통산', '한라', '장사', '등', '추석', '대회', '타이틀', '처음', '창록', '충남', '태안군', '태안', '종합', '실내', '체육관', '위더스', '제약', '추석', '장사', '씨름', '대회', '한라', '장사', '결정전', '전', '승제', '신예', '국희', '증평군', '청', '를', '로', '제압', '실업', '무대', '데뷔', '창록', '추석', '대회', '장사', '타이틀', '거머', '건', '이번', '처음', '시즌', '설날', '장사', '해남', '장사', '관왕', '개인', '통산', '한라', '장사', '올해', '최강', '자임', '다시', '번', '입증', '무대', '기사', '만화', '폰', '맛', '길', '꼭', '웹툰', '전기차', '충전', '요금', '왜', '강전', '강전', '각각', '이광재', '구미시청', '박정진', '광주', '시청', '물리', '친', '창록', '결승', '진출', '전', '남원', '택', '영월', '군청', '로', '국희', '만난', '결승', '창록', '첫', '판', '특기', '배지기', '기선', '제압', '두', '판', '국희', '승부', '원점', '기세', '오른', '창록', '이어진', '경기', '배지기', '두', '판', '우승', '확정', '서울', '뉴시스', '창', '기사', '추천', '창록', '추석', '장사', '씨름', '대회', '한라', '장사', '등', '올해', '관왕', '베스트', '추천', '뉴스', '홍준표', '생각', '좀', '대통령', '정권', '부정부패', '청소', '국민', '힘', '지지율', '국정', '농단', '사태', '이후', '최고', '치', '폭', '하락', '압구정', '한양', '자산', '마약', '아내', '한마디', '윤석열', '이재명', '주', '오차', '범위', '내', '앞서', '윤석열', '혼밥', '거나', '공약', '스트레스', '거짓말', '중국인', '명', '건강', '보험', '혜택', '외국인', '상위', '명중', '명', '중국인', '민주당', '대선', '주자', '이재명', '지사', '이낙연', '전', '대표', '추석', '연휴', '이', '지사', '성남시장', '재직', '시절', '대장동', '개발', '특혜', '의혹', '명낙', '대전', '이재명', '캠프', '인사', '이', '전', '대표', '대장동', '특혜', '의혹', '제기로', '내부', '질', '후보', '칭', '이낙연', '캠프', '의혹', '제기', '국민', '모두', '국민', '반박', '이재명', '캠프', '날', '성명', '를', '이낙연', '후보', '오해', '풀', '국힘', '토건', '게이트', '의', '진실', '직시', '고', '요청', '이', '성명', '를', '통해', '성남시', '신설', '남도', '개발', '공사', '법률상', '제한', '등', '사업', '자금', '직접', '조달', '수', '민간', '자금', '동원', '며', '부정부패', '분쟁', '발생', '성남시', '위험', '노출', '원칙', '성남시', '이익', '가장', '제시', '민간', '사업자', '선정', '설명', '기사', '만화', '폰', '맛', '길', '꼭', '웹툰', '전기차', '충전', '요금', '왜', '성남시', '사업', '패', '무관', '그', '이익', '사업자', '로부터', '무조건', '환수', '확약', '부동산', '경기', '호전', '성남시', '사업자', '원', '추가', '부담', '공산당', '소리', '며', '대장동', '개발', '핵심', '토건', '비리', '족', '야당', '국민', '힘', '합', '작품', '국힘', '토건', '게이트', '권한', '최대', '치의', '공익', '환수', '이재명', '스타일', '모범', '행정', '것', '주장', '토건', '비리', '불로소득', '위', '사상', '초유', '개혁', '정책', '성남시', '대한민국', '역사', '초과', '이익', '환수', '최초', '사례', '이낙연', '후보', '그', '성과', '주목', '며', '부디', '오해', '푸시', '국힘', '토건', '게이트', '의', '본진', '국민', '힘', '문제', '제기', '고', '촉구', '이재명', '캠프', '전략', '본부장', '민형배', '의원', '성명', '앞서', '페이스북', '글', '이', '전', '대표', '내', '안', '감자', '내부', '질', '자행', '며', '물리', '후보', '것', '크게', '염려', '고', '이낙연', '캠프', '이재명', '후보', '사방', '총리', '언론', '국민', '라며', '즉각', '반박', '영훈', '대변인', '서면', '논평', '이재명', '후보', '측은', '야당', '보수', '언론', '주장', '편승', '후보', '며', '국회', '정부', '질문', '비상', '적', '답변', '김부겸', '총리', '총리', '의혹', '보도', '대한민국', '모든', '언론', '언론', '뭔가', '고개', '거리', '국민', '국민', '오', '대변인', '대장동', '의혹', '불길', '좀체', '수', '이낙연', '후보', '불', '난', '집', '밤', '생각', '추호', '며', '걱정', '불', '형편', '집', '불', '것', '옆집', '탓', '고', '반문', '또', '그', '화천', '대유', '참여', '성남', '뜰', '컨소시움', '사업', '계획', '접수', '하루', '민간', '사업자', '선정', '사업', '분', '절반', '보유', '남도', '개발', '공사', '원', '배당', '동안', '실질', '분', '화천', '대유', '명의', '개인', '투자자', '원', '배당', '며', '배', '수익률', '국민', '사이', '화천', '대유', '란', '한가위', '덕담', '정도', '이낙연', '캠프', '정무', '실장', '윤영', '찬', '의원', '페이스북', '통해', '이낙연', '후보', '국민', '힘', '엮으려', '프레임', '당장', '며', '왜', '배', '타고', '민주당', '내부', '총', '겨누', '것', '팀', '훼손', '팀', '정신', '자체', '부정', '행위', '서울', '뉴시스', '창', '기사', '추천', '추석', '명낙', '대전', '이낙연', '후보', '사방', '국민', '베스트', '추천', '뉴스', '홍준표', '생각', '좀', '대통령', '정권', '부정부패', '청소', '국민', '힘', '지지율', '국정', '농단', '사태', '이후', '최고', '치', '폭', '하락', '압구정', '한양', '자산', '마약', '아내', '한마디', '윤석열', '이재명', '주', '오차', '범위', '내', '앞서', '윤석열', '혼밥', '거나', '공약', '스트레스', '거짓말', '중국인', '명', '건강', '보험', '혜택', '외국인', '상위', '명중', '명', '중국인', '집값', '문제', '이번', '추석', '명절', '가족', '친지', '때', '정치', '코로나', '수', '화두', '것', '최근', '동안', '전국', '집값', '땅', '값', '크게', '때문', '상황', '그동안', '조상', '땅', '최근', '부동산', '가격', '급등', '조상', '땅', '확인', '수요', '늘', '실제', '억원', '호가', '땅', '사례', '전국', '각지', '국토교통부', '국가', '공간', '정보', '센터', '올해', '조상', '땅', '찾기', '서비스', '신청', '명', '신청', '증가', '세', '연말', '명', '것', '작년', '신청', '인원', '수치', '명', '를', '칠', '것', '추정', '조상', '땅', '찾기', '서비스', '사망', '재산관리', '소홀', '등', '유산', '상속', '제대로', '토지', '현황', '파악', '수', '경우', '지적', '전산', '시스템', '활용', '후손', '땅', '서비스', '기사', '만화', '폰', '맛', '길', '꼭', '웹툰', '전기차', '충전', '요금', '왜', '지난', '서울', '아파트', '평균', '매매', '가격', '부동산', '통계', '은', '전', '전국', '기준', '매매', '가격', '이처럼', '최근', '전국', '집값', '정부', '지로', '미처', '알', '조상', '땅', '게', '확인', '수요', '늘', '것', '신청', '중', '조상', '땅', '횡재', '후손', '올해', '명', '명', '중', '명', '꼴', '로', '조상', '땅', '셈', '이', '땅', '필지', '조사', '시도', '별', '신청', '경기도', '명', '가장', '서울', '명', '부산', '명', '인천', '명', '경남', '명', '경북', '명', '대구', '명', '충남', '명', '전북', '명', '전남', '명', '등', '순', '조상', '땅', '비율', '전남', '가장', '전남', '명', '신청', '명', '조상', '땅', '율', '육박', '전북', '경남', '경북', '충북', '광주', '등', '순', '후손', '땅', '지역', '경기도', '서울', '경북', '경남', '전북', '부산', '전남', '강원', '충남', '등', '비교', '전국', '분포', '것', '조사', '주로', '선산', '잊힌', '자투리', '땅', '경우', '일부', '신청', '횡재', '규모', '땅', '발견', '사례', '것', '경기도', '용인', '이모', '씨', '조부', '명의', '땅', '것', '친지', '이야기', '조상', '땅', '찾기', '서비스', '이용', '자신', '토지', '경상남도', '진해', '엄모', '씨', '전', '세상', '남편', '소유', '토지', '를', '뜻', '노후', '자금', '마련', '수', '조상', '땅', '찾기', '서비스', '신청', '토지', '소유자', '본인', '사망자', '재산상속', '라면', '수', '피상', '속인', '이전', '사망', '경우', '호주', '승계', '이후', '사망', '경우', '배우자', '직계', '비', '신청', '수', '신청', '후손', '임', '증명', '수', '제적', '등본', '등', '이후', '사망자', '경우', '가족', '관계', '증명서', '기본', '증명서', '등', '준비', '시', '군', '구청', '지적', '업무', '과', '신청', '대리인', '신청', '경우', '상속인', '위임장', '위임', '신분증', '사본', '대리인', '신분증', '사본', '미성년', '경우', '법정대리인', '신청', '수', '서울', '뉴시스', '창', '기사', '추천', '이', '웬', '떡', '조상', '땅', '횡재', '후손', '올해', '추천', '뉴스', '홍준표', '생각', '좀', '대통령', '정권', '부정부패', '청소', '국민', '힘', '지지율', '국정', '농단', '사태', '이후', '최고', '치', '폭', '하락', '압구정', '한양', '자산', '마약', '아내', '한마디', '윤석열', '이재명', '주', '오차', '범위', '내', '앞서', '윤석열', '혼밥', '거나', '공약', '스트레스', '거짓말', '중국인', '명', '건강', '보험', '혜택', '외국인', '상위', '명중', '명', '중국인', '방역', '당국', '추석', '연휴', '이후', '코로나', '확', '진자', '수', '우려', '단', '유행', '폭발', '것', '이상원', '중앙', '방역', '대책', '본부', '방', '대본', '역학', '조사분', '단장', '정례', '브리핑', '추석', '전', '접촉', '이동', '량', '증가', '확인', '이로', '환자', '증가', '가능성', '며', '추석', '접촉', '증가', '환자', '발생', '증가', '요인', '더', '고', '말', '지난', '추석', '연휴', '닷새', '인구', '량', '유행', '증가', '수', '우려', '곳곳', '제기', '국토교통부', '한국', '교통', '연구원', '실시', '추석', '연휴', '통행', '실태', '조사', '총', '하루', '평균', '이동', '것', '예측', '지난해', '추석', '연휴', '이동', '인원', '것', '기사', '만화', '폰', '맛', '길', '꼭', '웹툰', '전기차', '충전', '요금', '왜', '유행', '상황', '날', '기준', '일일', '신규', '확', '진자', '명', '코로나', '유입', '이후', '일요일', '월요일', '기준', '최', '발생', '앞서', '명', '명', '유입', '각각', '금요일', '토요일', '기준', '일일', '최', '확', '진자', '기록', '바', '방역', '당국', '추석', '연휴', '이후', '유행', '폭발', '증가', '것', '이', '단장', '세계', '환자', '증가', '세', '계속', '가운데', '우리나라', '거리', '기와', '예방접종', '억제', '며', '증가', '패턴', '자체', '폭발', '점진', '증가', '가능성', '정부', '폭발', '유행', '통해', '의료', '부담', '것', '목적', '말', '확', '진자', '증가', '상치', '대해', '그', '숫자', '계량', '것', '시기', '라며', '말', '이', '단장', '만남', '시간', '조금', '줄', '조금', '과', '생각', '정도', '환기', '자주', '며', '실내', '마스크', '착용', '명절', '이후', '조금', '이상', '바로', '검사', '고', '강조', '서울', '뉴시스', '창', '기사', '추천', '당국', '추석', '연휴', '이후', '유행', '증가', '가능성', '점진', '듯', '베스트', '추천', '뉴스', '홍준표', '생각', '좀', '대통령', '정권', '부정부패', '청소', '국민', '힘', '지지율', '국정', '농단', '사태', '이후', '최고', '치', '폭', '하락', '압구정', '한양', '자산', '마약', '아내', '한마디', '윤석열', '이재명', '주', '오차', '범위', '내', '앞서', '윤석열', '혼밥', '거나', '공약', '스트레스', '거짓말', '중국인', '명', '건강', '보험', '혜택', '외국인', '상위', '명중', '명', '중국인', '추석', '연휴', '제주', '지역', '사회', '거리', '두기', '단계', '완화', '특별자치도', '오전', '사회', '거리', '두기', '단계', '단계', '하향', '조정', '사적', '모임', '명', '허용', '예방접종', '완료', '포함', '경우', '최대', '명', '수', '예방접종', '완료', '인센티브', '식당', '카페', '가정', '마트', '실내', '체육', '시설', '등', '다중', '이용', '시설', '적용', '상견례', '명', '명', '돌잔치', '명', '명', '허용', '시설', '관리자', '스포츠', '영업', '시설', '이용', '경우', '구성', '위', '최소', '인원', '배', '모임', '음식물', '섭취', '금지', '기사', '만화', '폰', '맛', '길', '꼭', '웹툰', '전기차', '충전', '요금', '왜', '행사', '집회', '등', '명', '허용', '식사', '금지', '예방접종', '완료', '자도', '인원', '산정', '포함', '지역', '축제', '설명', '회', '기념', '등', '모든', '행사', '인', '기준', '명', '미만', '운영', '인', '시위', '허용', '집회', '경우', '사전', '신고', '경우', '명', '결혼식', '장례식', '시설', '면적', '당', '명', '이하', '유지', '명', '식사', '제공', '경우', '명', '수', '종교시설', '경우', '정규', '예배', '미사', '법회', '등', '좌석', '수의', '범위', '이내', '인원', '제한', '종교시설', '주관', '모임', '행사', '식사', '숙박', '등', '금지', '학술', '행사', '경우', '동선', '분리', '별도', '공간', '명', '미만', '진행', '수', '모든', '행사', '학술', '행사', '포함', '집회', '예방접종', '완료', '인센티브', '적용', '식사', '금지', '오후', '이후', '영업', '금지', '대부분', '다중', '이용', '시설', '경우', '영업', '시간', '제한', '해제', '식당', '카페', '등', '오후', '이후', '오전', '매장', '영업', '금지', '포장', '배달', '허용', '편의점', '포함', '오후', '이후', '야외', '테이블', '등', '취식', '금지', '유흥', '시설', '콜', '라텍', '무도장', '홀덤', '펍', '홀덤', '게임', '등', '오후', '영업', '수', '유흥', '시설', '발', '집단', '감염', '방지', '위해', '종', '사자', '격주', '유전자', '증폭', '검사', '의무', '노래', '연습장', '코인', '연습장', '등', '은', '시설', '면적', '당', '명', '적용', '오후', '영업', '수', '실내', '체육', '시설', '시설', '면적', '당', '명', '적용', '운영', '시간', '제한', '해제', '다만', '수영장', '밤', '운영', '체육', '시설', '체육', '도장', '류', '시설', '경우', '시설', '간', '특성', '고려', '제한', '인원', '적용', '학원', '교습', '소', '좌석', '두', '칸', '띄우기', '좌석', '경우', '시설', '면적', '당', '명', '제한', '정규', '시설', '공연', '당', '명과', '관객', '명', '이내', '공연', '수', '정규', '공연', '시설', '외', '공연', '경우', '명', '허용', '영화관', '방', '오락실', '멀티', '방', '등', '운영', '시간', '제한', '숙박시설', '사적', '모임', '인원', '제한', '방역', '칙', '준수', '하', '객실', '내', '정원', '기준', '최대', '정원', '초과', '것', '금지', '또', '전', '객실', '운영', '수', '예방접종', '완료', '자도', '마스크', '착용', '의무', '만큼', '실내', '외', '모두', '마스크', '착용', '제주도', '거리', '두기', '단계', '하향', '조정', '방역', '대한', '긴장감', '완화', '수', '소관', '부서', '별', '합동', '점검', '더욱', '예정', '방역', '칙', '위반', '사항', '확인', '영업정지', '등', '무관용', '원칙', '적용', '방침', '제주', '뉴시스', '창', '기사', '추천', '제주', '거리', '두기', '단계', '완화', '사적', '모임', '명', '허용', '베스트', '추천', '뉴스', '홍준표', '생각', '좀', '대통령', '정권', '부정부패', '청소', '국민', '힘', '지지율', '국정', '농단', '사태', '이후', '최고', '치', '폭', '하락', '압구정', '한양', '자산', '마약', '아내', '한마디', '윤석열', '이재명', '주', '오차', '범위', '내', '앞서', '윤석열', '혼밥', '거나', '공약', '스트레스', '거짓말', '중국인', '명', '건강', '보험', '혜택', '외국인', '상위', '명중', '명', '중국인', '추사', '인스타그램', '뉴스', '이종격투기', '선수', '추성훈', '딸', '추', '사랑', '추석', '명절', '인사', '전', '추', '사랑', '인스타그램', '여러분', '추석', '글', '영상', '게재', '영상', '추사', '추사', '소개', '추성훈', '여러분', '추석', '인사', '눈길', '폭풍', '근황', '한국어', '실력', '감탄', '한편', '추사', '만', '추성훈', '슈퍼맨', '출연', '인기', '기사', '만화', '폰', '맛', '길', '꼭', '웹툰', '전기차', '충전', '요금', '왜', '서울', '뉴스', '창', '기사', '추천', '추사', '폭풍', '성장', '근황', '추성훈', '추석', '인사', '베스트', '추천', '뉴스', '홍준표', '생각', '좀', '대통령', '정권', '부정부패', '청소', '국민', '힘', '지지율', '국정', '농단', '사태', '이후', '최고', '치', '폭', '하락', '압구정', '한양', '자산', '마약', '아내', '한마디', '윤석열', '이재명', '주', '오차', '범위', '내', '앞서', '윤석열', '혼밥', '거나', '공약', '스트레스', '거짓말', '중국인', '명', '건강', '보험', '혜택', '외국인', '상위', '명중', '명', '중국인', '서진', '부동산', '학회', '뉴스', '추석', '이후', '수도권', '아파트', '가격', '상승', '기조', '것', '수요', '곳', '공급', '서진', '부동산', '학회', '경인여대', '교수', '은', '연말', '부동산', '시장', '흐름', '대해', '말', '하락', '가능성', '질문', '선', '그었다', '추석', '이후', '수도권', '아파트', '매매', '전세', '상승세', '올해', '추석', '전', '수도권', '아파트', '매가', '상승세', '한국', '부동산', '통계', '올해', '수도권', '주간', '아파트', '값', '주로', '대의', '상', '승률', '최근', '주간', '로', '단계', '상승세', '기사', '만화', '폰', '맛', '길', '꼭', '웹툰', '전기차', '충전', '요금', '왜', '이', '흐름', '하반기', '지속', '것', '뜻', '수급', '유동성', '금리', '물가', '상승', '요인', '등', '종합', '판단', '때', '하락', '상승', '요인', '더', '것', '학회', '설명', '학회', '그', '중', '부동산', '시장', '공급', '부족', '이유', '꼽았다', '그', '주택', '대한', '규제', '등', '매물', '상황', '데', '수요', '며', '가격', '수', '고', '예측', '또', '그', '현재', '전세', '시장', '상황', '매가', '요인', '수도권', '아파트', '셋값', '역시', '올해', '내내', '대의', '비교', '주간', '상', '승률', '최근', '주간', '의', '상', '승률', '유지', '세수', '지수', '역시', '기준', '선인', '이상', '공급', '수요', '음', '확인', '학회', '전세', '역시', '임대차', '법', '등', '요인', '수요', '비교', '공급', '때문', '전세', '시장', '우상', '향', '기조', '것', '라며', '가격', '매매', '가격', '요인', '다만', '지방', '경우', '일부', '지역', '하락', '수', '학회', '대구', '울산', '등', '일부', '지역', '공급', '물량', '초과', '지역', '경제', '침체', '모습', '부동산', '시장', '안정', '기조', '수', '고', '전망', '학회', '수도권', '부동산', '시장', '안정화', '위', '정부', '양도소득세', '종합', '부동산', '세', '부동산', '세제', '완화', '주택', '대한', '규제', '시장', '물량', '공급', '유도', '조언', '주택', '구매', '투자', '이용', '목적', '접근', '아파트', '값', '상승세', '구매', '여부', '무', '주택', '실수', '자', '고민', '상황', '앞', '더', '것', '지금', '구매', '심리', '수', '년', '집값', '때문', '장기', '하락', '수', '생각', '주택', '구매', '시기', '질문', '서진', '학회', '투자', '목적', '접근', '고', '답', '부동산', '시장', '가격', '예측', '수급', '금리', '유동성', '등', '종합', '판단', '만큼', '장기', '전망', '누구', '예측', '뜻', '풀이', '그', '주택', '투자', '이용', '개념', '며', '주택', '유무', '삶', '질', '결정', '요소', '만큼', '구매', '여부', '직주', '근접', '주거', '입지', '자금', '여력', '등', '개인', '사정', '종합', '판단', '고', '조언', '추석', '이후', '다시', '시작', '청약', '설명', '차', '가구', '비롯', '올해', '여', '가구', '분양', '사전', '청약', '물량', '공급', '예정', '민간', '청약', '확대', '예정', '학회', '청약', '당첨', '예정', '시기', '정도', '그', '때', '부동산', '시장', '예측', '며', '현재', '시점', '인근', '지역', '아파트', '가격', '비교', '사전', '청약', '분양', '가가', '청약', '고려', '수', '것', '서울', '뉴스', '창', '기사', '추천', '추석', '집값', '상승', '계속', '셋값', '매매', '베스트', '추천', '뉴스', '홍준표', '생각', '좀', '대통령', '정권', '부정부패', '청소', '국민', '힘', '지지율', '국정', '농단', '사태', '이후', '최고', '치', '폭', '하락', '압구정', '한양', '자산', '마약', '아내', '한마디', '윤석열', '이재명', '주', '오차', '범위', '내', '앞서', '윤석열', '혼밥', '거나', '공약', '스트레스', '거짓말', '중국인', '명', '건강', '보험', '혜택', '외국인', '상위', '명중', '명', '중국인', '아프리카', '소말리아', '인근', '아덴만', '파병', '청해부대', '제', '진', '장병', '추석', '명절', '해군', '구축함', '충무공이순신함', '위', '한가위', '란', '문구', '현수막', '국민', '추석', '인사', '전하', '합참', '제공', '뉴스', '레바논', '파병', '동명부대', '추석', '연휴', '정감', '초소', '임무', '수행', '합참', '제공', '뉴스', '레바논', '파병', '동명부대', '도보', '정찰', '임무', '수행', '합참', '제공', '뉴스', '남수단', '파병', '한빛부대', '통신', '팀', '용덕', '대위', '가족', '영상통화', '합참', '제공', '뉴스', '추석', '윷놀이', '한빛부대', '장병', '합참', '제공', '뉴스', '아랍에미리트', '파병', '아크', '부대', '특수전', '팀', '연합', '훈련', '연합', '특수', '공중', '기동', '습격', '작전', '수행', '합참', '제공', '뉴스', '추석', '합동', '차례', '아크', '부대', '장병', '합참', '제공', '뉴스', '청해부대', '장병', '고속', '단정', '훈련', '합참', '제공', '뉴스', '청해부대', '제', '진', '장병', '추석', '해군', '구축함', '충무공이순신함', '안', '투호놀이', '합참', '제공', '뉴스', '아랍에미리트', '파병', '아크', '부대', '장병', '부대', '병장', '한가위', '란', '글자', '모양', '국민', '추석', '인사', '전하', '합참', '제공', '뉴스', '국민', '여러분', '한가위', '세계', '각국', '임무', '수행', '중인', '해외', '파병', '장병', '추석', '명절', '고국', '가족', '국민', '인사', '전', '합동', '참모', '본부', '해외', '파병', '장병', '추석', '연휴', '기간', '대부분', '전과', '임무', '수행', '과거', '해외', '파병', '장병', '명절', '때', '외부', '활동', '초청', '행사', '진행', '요즘', '신종', '코로나바이러스', '감염증', '코로나', '유행', '상황', '등', '감안', '부대', '내', '전우', '명절', '게', '합참', '설명', '기사', '만화', '폰', '맛', '길', '꼭', '웹툰', '전기차', '충전', '요금', '왜', '레바논', '유엔', '평화', '유지', '활동', '동명부대', '레바논', '평화', '유지', '단', '이번', '연휴', '평소', '정찰', '감시', '등', '임무', '계속', '수행', '대신', '부대', '원', '틈틈이', '가족', '영상통화', '팀별', '체육', '활동', '등', '통해', '명절', '고향', '못', '아쉬움', '계획', '동명부대', '안', '상연', '대위', '추석', '연휴', '둘째', '딸', '첫', '생일', '더', '며', '내년', '가족', '여행', '추억', '더', '고', '부대', '박', '윤주', '중사', '동명부대', '악화', '레바논', '정세', '코로나', '확산', '국민', '여러분', '응원', '힘', '평화', '유지', '임무', '이상', '수행', '중', '라며', '대한민국', '국가대표', '로서', '마지막', '최선', '다해', '임무', '완수', '고', '다짐', '아프리카', '남수단', '보르', '지역', '재건', '및', '인도', '활동', '한빛부대', '남수단', '재건', '원단', '추석', '부대', '합동', '차례', '또', '부대', '윷놀이', '제기차기', '등', '전통', '시간', '한빛부대', '김민서', '일병', '고국', '부모님', '영상편지', '수단', '현지', '도착', '적응', '며', '좀', '더', '효도', '아들', '고', '인사', '부대', '노산', '대령', '부대', '원', '국민', '한가위', '라며', '추석', '인사', '전', '아랍에미리트', '군', '군사', '협력', '활동', '위해', '현지', '파병', '아크', '부대', '군사훈련', '협력', '단', '내달', '연합', '훈련', '준비', '여념', '다만', '아크', '부대', '추석', '당일', '다른', '해외', '파병', '부대', '합동', '차례', '우리', '전통', '등', '통해', '명절', '의미', '계획', '아크', '부대', '이지선', '상사', '부모님', '영상', '메시지', '파병', '생활', '동안', '며', '이제', '복귀', '얼마', '남지', '모습', '한국', '인사', '고', '말', '또', '부대', '김명', '응', '중령', '아크', '부대', '군', '교육', '훈련', '지원', '연합', '훈련', '통해', '특별', '전략', '동반', '관계', '핵심', '역할', '수행', '며', '복귀', '마지막', '날', '하나', '임무', '완수', '고', '우리', '선박', '국민', '등', '보호', '위해', '아프리카', '소말리아', '인근', '아덴만', '해역', '파병', '청해부대', '소말리아', '해역', '호송', '전대', '도', '추석', '연휴', '기간', '임무', '수행', '계속', '간다', '청해부대', '한성훈', '중사', '부모님', '영상', '편지', '아들', '아덴만', '임무', '수행', '중', '라며', '코로나', '한국', '복귀', '사랑', '고', '인사', '부대', '이가빈', '소령', '청해부대', '진', '응원', '격려', '속', '아덴만', '선박', '호송', '우리', '국민', '보호', '위해', '최선', '다', '면서', '코로나', '속', '한가위', '란', '인사', '전', '합참', '관계자', '해외', '파병', '부대', '장병', '여명', '추석', '중추절', '세계', '평화', '재건', '지원', '위해', '구슬', '땀', '세계', '속', '대한민국', '이름', '고', '말', '서울', '뉴스', '창', '기사', '추천', '한가위', '충성', '해외', '파병', '장병', '추석', '인사', '베스트', '추천', '뉴스', '홍준표', '생각', '좀', '대통령', '정권', '부정부패', '청소', '국민', '힘', '지지율', '국정', '농단', '사태', '이후', '최고', '치', '폭', '하락', '압구정', '한양', '자산', '마약', '아내', '한마디', '윤석열', '이재명', '주', '오차', '범위', '내', '앞서', '윤석열', '혼밥', '거나', '공약', '스트레스', '거짓말', '중국인', '명', '건강', '보험', '혜택', '외국인', '상위', '명중', '명', '중국인', '코로나', '중환자', '치료', '전담', '병상', '전국', '절반', '가량', '유행', '집중', '수도권', '개', '병상', '비어', '보건복지부', '중앙', '사고', '수습', '본부', '중수', '오후', '기준', '전국', '중증', '환자', '전담', '병상', '개', '가운데', '사용', '중인', '병상', '인', '나머지', '개', '입원', '병상', '중증', '환자', '전담', '병상', '코로나', '중증', '환자', '치료', '장비', '인력', '등', '중수', '지정', '병상', '지역별', '서울', '개', '경기', '개', '인천', '개', '등', '수도권', '개', '병상', '기사', '만화', '폰', '맛', '길', '꼭', '웹툰', '전기차', '충전', '요금', '왜', '비', '수도권', '부산', '대구', '각', '개', '충북', '개', '강원', '경남', '각', '개', '광주', '개', '전북', '개', '전남', '개', '충남', '제주', '각', '개', '울산', '개', '세종', '개', '경북', '개', '대전', '지역', '병상', '대전', '외', '울산', '충남', '대구', '경기', '서울', '지역', '빈', '병상', '비율', '전국', '평균', '중증', '호전', '악화', '수', '환자', '위', '준', '중환자', '병상', '개', '가운데', '인', '개', '가동', '중', '개', '병상', '수도권', '지역', '가동', '률', '개', '중', '개', '중등', '증', '환자', '감염병', '전담', '병원', '병상', '전국', '개', '중', '개', '비어', '무증상', '증', '환자', '위', '전국', '생활', '치료', '센터', '곳', '전체', '정원', '명', '중', '명', '입소', '의', '가동', '률', '명', '추가', '입소', '수', '중수', '앞서', '지난', '비', '수도권', '소재', '의료', '기관', '대상', '코로나', '위', '중증', '치료', '병상', '개', '중등', '증', '병상', '개', '확보', '행정명령', '의료', '기관', '주', '이내', '시설', '공사', '마치', '배정', '병상', '확보', '이번', '행정명령', '현재', '수도권', '집중', '유행', '추석', '이후', '다른', '지역', '확산', '확', '진자', '증가', '수', '판단', '중수', '앞서', '지난달', '수도권', '소재', '의료', '기관', '대상', '병상', '확보', '행정명령', '바', '서울', '뉴시스', '창', '기사', '추천', '코로나', '중환자', '병상', '여유', '수도권', '개', '남아', '베스트', '추천', '뉴스', '홍준표', '생각', '좀', '대통령', '정권', '부정부패', '청소', '국민', '힘', '지지율', '국정', '농단', '사태', '이후', '최고', '치', '폭', '하락', '압구정', '한양', '자산', '마약', '아내', '한마디', '윤석열', '이재명', '주', '오차', '범위', '내', '앞서', '윤석열', '혼밥', '거나', '공약', '스트레스', '거짓말', '중국인', '명', '건강', '보험', '혜택', '외국인', '상위', '명중', '명', '중국인']\n"
          ]
        }
      ]
    },
    {
      "cell_type": "markdown",
      "metadata": {
        "id": "TpygrljDrwlL"
      },
      "source": [
        "## 4) 단어 개수 확인\n"
      ]
    },
    {
      "cell_type": "code",
      "metadata": {
        "colab": {
          "base_uri": "https://localhost:8080/"
        },
        "id": "lpqC4qRmh8kk",
        "outputId": "f963304c-69bc-4a89-aeb7-ce78f4fcf113"
      },
      "source": [
        "import collections\n",
        "# 단어 개수 확인\n",
        "count = collections.Counter(nouns)\n",
        "\n",
        "import nltk\n",
        "ko = nltk.Text(nouns, name='하이')\n",
        "print('전체 단어 개수 : ', len(ko.tokens))\n",
        "print('중복 제거 개수 : ', len(set(ko.tokens)))\n",
        "print(ko.vocab)"
      ],
      "execution_count": 20,
      "outputs": [
        {
          "output_type": "stream",
          "name": "stdout",
          "text": [
            "전체 단어 개수 :  9128\n",
            "중복 제거 개수 :  2198\n",
            "<bound method Text.vocab of <Text: 하이>>\n"
          ]
        }
      ]
    },
    {
      "cell_type": "markdown",
      "metadata": {
        "id": "GfTC1qCMry-s"
      },
      "source": [
        "## 5) 단어의 출현 빈도 확인"
      ]
    },
    {
      "cell_type": "code",
      "metadata": {
        "colab": {
          "base_uri": "https://localhost:8080/",
          "height": 427
        },
        "id": "sM5HEDq0iDyd",
        "outputId": "4e7b2f43-8bd6-481f-cae9-b03c992a41f3"
      },
      "source": [
        "plt.figure(figsize=(12,6))\n",
        "ko.plot(50) # 50개만 막대 그래프로 출력\n",
        "plt.show()"
      ],
      "execution_count": 21,
      "outputs": [
        {
          "output_type": "display_data",
          "data": {
            "image/png": "[encoded data removed]",
            "text/plain": [
              "<Figure size 864x432 with 1 Axes>"
            ]
          },
          "metadata": {
            "needs_background": "light"
          }
        }
      ]
    },
    {
      "cell_type": "markdown",
      "metadata": {
        "id": "KUnxgbSpr6vS"
      },
      "source": [
        "## 6) 불용어 제거\n",
        "직접 불용어사전 리스트를 생성하여 말뭉치에서 제외할 수 있습니다"
      ]
    },
    {
      "cell_type": "code",
      "metadata": {
        "colab": {
          "base_uri": "https://localhost:8080/"
        },
        "id": "bK_S5U2LiJ8E",
        "outputId": "cf6bdb9a-92e2-47ba-e3a9-5d7fb172aa59"
      },
      "source": [
        "stop_words=['팀','민','것','김','등','전','석','관','처','급', '해','수','트','명']\n",
        "ko = [each_word for each_word in ko if each_word not in stop_words]\n",
        "\n",
        "print(ko)"
      ],
      "execution_count": 22,
      "outputs": [
        {
          "output_type": "stream",
          "name": "stdout",
          "text": [
            "['추석', '당일', '오후', '전국', '주요', '고속도로', '길', '방향', '정체', '날', '한국', '도로공사', '오전', '서서히', '시작', '길', '정체', '오후', '더욱', '저녁', '내일', '새벽', '해소', '예상', '방향', '날', '오후', '사이', '정체', '절정', '내일', '새벽', '해소', '지방', '방향', '오후', '최대', '혼잡', '오후', '사이', '해소', '주요', '노선', '별로', '날', '오후', '기준', '경부', '고속도로', '방향', '분기점', '북', '대구', '부근', '구간', '정체', '또', '곡', '교', '영동', '터널', '구간', '속도', '비룡', '분기점', '옥산', '분기점', '부근', '지점', '정체', '목', '부근', '남사', '부근', '속도', '신갈분기점', '부근', '도', '정체', '부근', '반포', '구간', '정체', '기사', '만화', '폰', '맛', '길', '꼭', '웹툰', '전기차', '충전', '요금', '왜', '부산', '방향', '한남', '서초', '구간', '편이', '신갈분기점', '수원', '도', '정체', '오산', '남사', '부근', '옥산', '분기점', '부근', '옥산', '금호', '분기점', '부근', '북', '대구', '속도', '내지', '못', '고속도로', '인천', '방향', '평창', '둔내터널', '구간', '정체', '횡성휴게소', '말', '부근', '여주', '분기점', '부근', '호법', '분기점', '역시', '속도', '편이', '또', '덕평', '휴게소', '터널', '구간', '정체', '수원', '광교', '터미널', '부근', '구간', '정체', '이', '외', '군포', '반월', '터널', '구간', '군자', '분기점', '월곶', '분기점', '부근', '도', '속도', '내지', '못', '강릉', '방향', '서창', '분기점', '월곶', '분기점', '부근', '정체', '서해안', '고속도로', '서울', '방향', '줄포', '부근', '부안', '부근', '구간', '속도', '군산', '부근', '군산', '부근', '정체', '또', '대천', '대천', '부근', '구간', '편이', '서산', '부근', '서해', '대교', '구간', '속도', '내지', '못', '평택', '분기점', '부근', '화성', '휴게소', '구간', '역시', '정체', '오후', '요금소', '기준', '승용차', '이용', '주요', '도시', '예상', '시간', '행선', '서울', '부산', '서울', '대전', '서울', '대구', '서울', '강릉', '서울', '광주', '서울', '목포', '서울', '울산', '상', '행선', '부산', '서울', '대전', '서울', '대구', '서울', '강릉', '서울', '광주', '서울', '목포', '서울', '울산', '서울', '한편', '한국', '도로공사', '날', '전국', '고속도로', '교통량', '예상', '수도권', '지방', '차량', '지방', '수도권', '진입', '차량', '전망', '서울', '뉴시스', '창', '기사', '추천', '추석', '고속도로', '절정', '길', '내일', '새벽', '베스트', '추천', '뉴스', '홍준표', '생각', '좀', '대통령', '정권', '부정부패', '청소', '국민', '힘', '지지율', '국정', '농단', '사태', '이후', '최고', '치', '폭', '하락', '압구정', '한양', '자산', '마약', '아내', '한마디', '윤석열', '이재명', '주', '오차', '범위', '내', '앞서', '윤석열', '혼밥', '거나', '공약', '스트레스', '거짓말', '중국인', '건강', '보험', '혜택', '외국인', '상위', '명중', '중국인', '오전', '광주', '동구', '학동', '광주', '학동', '붕괴', '참사', '희생', '추모식', '유가족', '헌화', '분향', '뉴스', '오전', '광주', '동구', '학동', '붕괴', '참사', '현장', '인근', '참사', '희생', '추모', '제', '유가족', '김종', '효', '광주시', '행정부', '시장', '민형배', '이병훈', '이형석', '섭', '국회의원', '임택', '동구청', '참석', '희생', '자', '넋', '기렸다', '참석자', '묵념', '시작', '추모', '제', '참사', '이후', '첫', '명절', '이진', '유족', '협의', '회장', '추모', '하자', '참석', '유족', '눈물', '이', '회장', '추모', '통해', '오늘', '그', '희생', '첫', '추석', '라며', '여기', '유족', '오늘', '날', '고', '말', '기사', '만화', '폰', '맛', '길', '꼭', '웹툰', '전기차', '충전', '요금', '왜', '추모', '시간', '마련', '이', '일인', '며', '어쩌면', '우리', '세상', '사람', '이제', '이제', '말', '그', '준비', '고', '흐느끼', '말', '이', '회장', '손', '주의', '초음파', '사진', '어머니', '심정', '만삭', '딸', '목소리', '걸', '계속', '전화', '딸', '매일', '밤', '내', '무릎', '내', '남편', '유가족', '가족', '부재', '실감', '못', '고', '눈물', '추모', '사', '김종', '효', '부시장', '이용섭', '광주시', '애도', '대독', '이병훈', '의원', '임택', '구청', '뒤', '애도', '김민석', '광주', '대교구', '신부', '참사', '시민', '대책위', '대표', '장', '권', '정교회', '목사', '추모', '기도', '예식', '통해', '희생', '자', '추모', '유족', '마음', '유족', '가족', '이름', '위패', '앞', '헌화', '분향', '유명', '달리', '가족', '유족', '분향', '뒤', '위패', '앞', '서서', '딸아', '엄마', '를', '반복', '눈물', '추모', '제', '한성은', '유족', '협의', '회', '대변인', '발언', '끝', '대변인', '유족', '발언', '통해', '고인', '사회', '순식간', '며', '탐욕', '대한민국', '사회', '뼈', '증오', '고', '광주', '국제', '안전', '도시', '슬로건', '사람', '보이', '일단', '며', '시민', '시민', '안전', '보험금', '광주', '국제', '안전', '도시', '광주', '며', '울분', '토', '또', '사전', '재난', '방해', '시민', '안전', '사람', '일단', '돈', '줌', '빛고을', '광주', '슬로건', '며', '광주시', '지위', '책임', '부정', '모든', '책임', '산업', '개발', '동구청', '구경', '고', '질', '진상', '규명', '책임자', '처벌', '재발', '방지', '대책', '마련', '촉구', '지난', '오후', '광주시', '동구', '학동', '구역', '재개발', '공사', '현장', '철거', '중인', '층', '건물', '시내버스', '승객', '학동', '구역', '재개발', '사업', '산업', '개발', '공사', '수주', '뒤', '철거', '작업', '곳', '공사', '과정', '철거', '감리', '청', '및', '하도급', '업체', '안전', '관리자', '주의', '의무', '위반', '각종', '비리', '체적', '결합', '참사', '원인', '지목', '광주', '뉴스', '창', '기사', '추천', '광주', '붕괴', '참사', '희생', '추모식', '첫', '명절', '유족', '눈물', '바다', '베스트', '추천', '뉴스', '홍준표', '생각', '좀', '대통령', '정권', '부정부패', '청소', '국민', '힘', '지지율', '국정', '농단', '사태', '이후', '최고', '치', '폭', '하락', '압구정', '한양', '자산', '마약', '아내', '한마디', '윤석열', '이재명', '주', '오차', '범위', '내', '앞서', '윤석열', '혼밥', '거나', '공약', '스트레스', '거짓말', '중국인', '건강', '보험', '혜택', '외국인', '상위', '명중', '중국인', '국민', '힘', '추석', '논평', '국민', '올해', '보름달', '문', '정권', '실정', '종식', '소원', '라며', '추석', '민심', '겸허', '고', '은', '국민', '힘', '대변인', '날', '민족', '최대', '명절', '추석', '국민', '여러분', '가정', '행복', '웃음', '기원', '며', '군', '장병', '경찰', '소방관', '코로나', '사투', '벌이', '의료', '진', '감사', '인사', '그', '코로나', '로', '가족', '고향', '친구', '마음', '만날', '상황', '라며', '취업', '걱정', '내', '집', '마련', '걱정', '안보', '걱정', '웃음', '한숨', '더', '고', '지금', '집권', '세력', '국민', '고통', '정권', '연장', '우선', '지적', '기사', '만화', '폰', '맛', '길', '꼭', '웹툰', '전기차', '충전', '요금', '왜', '대변인', '경기도', '회사', '개발', '명목', '의', '기적', '수익', '책임', '사람', '오히려', '언론', '야당', '겁', '며', '민주당', '대권', '주자', '이재명', '지사', '대장동', '개발', '특혜', '의혹', '거론', '그', '국감', '문', '정권', '실체', '뿌리', '내년', '대선', '국민', '대안', '고', '국민의당', '안혜진', '대변인', '풍요', '기쁨', '추석', '명절', '민생', '파탄', '벼랑', '끝', '내', '자영', '업자', '극단', '선택', '몹시', '마음', '고', '올해', '추석', '진단', '안', '대변인', '삶', '터전', '소멸', '위기', '정권', '재창', '혈안', '정권', '법', '경쟁', '국민', '시름', '고', '지적', '그', '자유', '민주주의', '사랑', '우리', '민족', '역경', '속', '늘', '미래', '희망', '정의', '공정', '위', '모든', '노력', '며', '국민의당', '또한', '불공정', '세상', '용인', '청렴', '세상', '상식', '사회', '위해', '국민', '마음', '더욱', '귀', '고', '서울', '뉴시스', '창', '기사', '추천', '국민', '정권', '종식', '소원', '야권', '추석', '메시지', '베스트', '추천', '뉴스', '홍준표', '생각', '좀', '대통령', '정권', '부정부패', '청소', '국민', '힘', '지지율', '국정', '농단', '사태', '이후', '최고', '치', '폭', '하락', '압구정', '한양', '자산', '마약', '아내', '한마디', '윤석열', '이재명', '주', '오차', '범위', '내', '앞서', '윤석열', '혼밥', '거나', '공약', '스트레스', '거짓말', '중국인', '건강', '보험', '혜택', '외국인', '상위', '명중', '중국인', '채널', '레전드', '음악', '교실', '랜드', '노사연', '보청기', '끼', '노래', '사연', '오후', '방송', '랜드', '노사연', '레전드', '가수', '출연', '그', '히트', '곡', '만남', '비롯', '대학가요제', '데뷔', '곡', '길', '바램', '노사연', '가수', '인생', '집합', '무대', '추석', '선물', '노사연', '만남', '대해', '언급', '중', '예능', '코너', '이', '노래', '등장', '발매', '최고', '인기', '가수', '만남', '활동', '당시', '별명', '부동산', '며', '현재', '통장', '잔고', '확인', '돈', '플렉스', '를', '날', '족보', '플레이어', '도전', '곡', '바램', '사연', '갱년기', '우울증', '탓', '이', '노래', '정말', '노사연', '돌발', '난청', '현재', '귀가', '거의', '안', '고', '고백', '그', '보청기', '끼', '노래', '만큼', '무대', '위', '시간', '더욱', '고', '기사', '만화', '폰', '맛', '길', '꼭', '웹툰', '전기차', '충전', '요금', '왜', '진', '노사연', '진심', '바램', '무대', '고백', '랄', '라송', '도전', '자의', '창', '출연', '진', '눈시울', '며', '바램', '의', '노랫말', '부모님', '생각', '멤버', '얘기', '감정', '노래', '노사연', '밀착', '티칭', '더욱', '수업', '나볼', '고', '서울', '뉴시스', '창', '기사', '추천', '랜드', '노사연', '보청기', '끼', '노래', '돌발', '난청', '거의', '안', '베스트', '추천', '뉴스', '홍준표', '생각', '좀', '대통령', '정권', '부정부패', '청소', '국민', '힘', '지지율', '국정', '농단', '사태', '이후', '최고', '치', '폭', '하락', '압구정', '한양', '자산', '마약', '아내', '한마디', '윤석열', '이재명', '주', '오차', '범위', '내', '앞서', '윤석열', '혼밥', '거나', '공약', '스트레스', '거짓말', '중국인', '건강', '보험', '혜택', '외국인', '상위', '명중', '중국인', '자료', '사진', '뉴시스', '추석', '당일', '오전', '전국', '주요', '고속도로', '객', '성묘', '인파', '곳곳', '정체', '예상', '오후', '경', '차량', '이동', '본격', '오후', '정체', '전망', '한국', '도로공사', '날', '오전', '기준', '승용차', '서울', '요금소', '출발', '전국', '주요', '도시', '시간', '부산', '울산', '대구', '광주', '목포', '대전', '강릉', '양양', '서울', '경', '방향', '출발', '기준', '부산', '울산', '대구', '광주', '목표', '대전', '강릉', '양양', '자료', '한국', '도로', '교통', '공사', '경부', '고속도로', '부산', '방향', '오산', '남사', '구간', '서울', '방향', '양재', '반포', '구간', '제외', '전날', '흐름', '보이', '서해안', '고속도로', '중부', '고속도로', '중앙', '고속도로', '영동', '고속도로', '남해', '고속도로', '차량', '증가', '정체', '구간', '새벽', '비', '도로', '곳곳', '사고', '소식', '주의', '경', '방향', '정체', '오전', '시작', '오후', '절정', '뒤', '연휴', '마지막', '날인', '오전', '해소', '행선', '방향', '정체', '날', '오전', '시작', '오후', '절정', '렀', '다가', '오후', '차차', '예상', '기사', '만화', '폰', '맛', '길', '꼭', '웹툰', '전기차', '충전', '요금', '왜', '도로공사', '오늘', '차', '고속도로', '이용', '성묘', '친지', '방문', '귀성', '경이', '혼', '재해', '정체', '예상', '고', '날', '전국', '교통량', '예측', '이중', '수도권', '지방', '이동', '지방', '수도권', '전망', '장연', '제', '동아닷컴', '기자', '창', '기사', '추천', '추석', '날', '전국', '차량', '이동', '오후', '정체', '절정', '베스트', '추천', '뉴스', '홍준표', '생각', '좀', '대통령', '정권', '부정부패', '청소', '국민', '힘', '지지율', '국정', '농단', '사태', '이후', '최고', '치', '폭', '하락', '압구정', '한양', '자산', '마약', '아내', '한마디', '윤석열', '이재명', '주', '오차', '범위', '내', '앞서', '윤석열', '혼밥', '거나', '공약', '스트레스', '거짓말', '중국인', '건강', '보험', '혜택', '외국인', '상위', '명중', '중국인', '추석', '연휴', '날인', '오전', '서울', '중구', '서울역', '선', '진료', '소', '의료', '진과', '무자', '검사', '위해', '온', '시민', '안내', '뉴스', '국내', '신종', '코로나바이러스', '감염증', '코로나', '신규', '확', '진자', '하루', '사이', '추석', '연휴', '휴일', '불구', '월요일', '확', '진자', '발표', '일', '기준', '화요일', '국내', '코로나', '사태', '이후', '최', '기록', '질병', '관리', '청', '중앙', '방역', '대책', '본부', '기준', '명의', '신규', '확', '진자', '발생', '총', '누적', '확', '진자', '집계', '평일', '검사', '결과', '반영', '나흘', '중', '사흘', '명대', '확', '진자', '규모', '주말', '추석', '연휴', '다소', '그', '이전', '주말', '비', '선', '감소', '폭', '확', '진일', '기준', '금요일', '토요일', '일요일', '월요일', '나흘', '연속', '일별', '역대', '최', '규모', '추석', '확산', '세', '계속', '신규', '확', '진자', '감염', '경로', '국내', '지역', '발생', '해외', '유입', '지역별', '수도권', '서울', '경기', '인천', '의', '확', '진자', '이', '부산', '대구', '광주', '대전', '울산', '세종', '강원', '충북', '충남', '전북', '전남', '경북', '경남', '제주', '모든', '지역', '확', '진자', '발생', '기사', '만화', '폰', '맛', '길', '꼭', '웹툰', '전기차', '충전', '요금', '왜', '해외', '유입', '환자', '가운데', '검역', '단계', '확진', '나머지', '입국', '후', '지역', '사회', '격리', '중', '양성', '판정', '날', '코로나', '로', '사망자', '발생', '누적', '사망자', '총', '치명', '률', '완치', '후', '격리', '해제', '사람', '전날', '증가', '누적', '현재', '위', '중증', '환자', '포함', '총', '격리', '치료', '코로나', '백신', '예방접종', '관련', '선', '날', '기준', '신규', '차', '접종', '차', '접종', '차', '신규', '접종', '총', '접종', '완료', '장연', '제', '동아닷컴', '기자', '창', '기사', '추천', '코로나', '신규', '확진', '나흘', '요일', '최', '베스트', '추천', '뉴스', '홍준표', '생각', '좀', '대통령', '정권', '부정부패', '청소', '국민', '힘', '지지율', '국정', '농단', '사태', '이후', '최고', '치', '폭', '하락', '압구정', '한양', '자산', '마약', '아내', '한마디', '윤석열', '이재명', '주', '오차', '범위', '내', '앞서', '윤석열', '혼밥', '거나', '공약', '스트레스', '거짓말', '중국인', '건강', '보험', '혜택', '외국인', '상위', '명중', '중국인', '연휴', '중반', '이제', '이틀', '뒤', '다시', '일상', '복귀', '연휴', '업무', '복귀', '온종일', '어지럼증', '호소', '경우', '이', '명절', '후유증', '예방', '위해', '선', '생체', '리듬', '조절', '선우', '서울', '아산병원', '가정의학', '교수', '명절', '마치', '직장', '복귀', '주일', '정도', '술자리', '피하', '생체', '리듬', '고', '조언', '명절', '후유증', '연휴', '기간', '수면', '주기', '호르몬', '분비', '일상생활', '대부분', '경우', '하루', '이틀', '정도', '회복', '경우', '주', '동안', '후유증', '방치', '만성', '피로', '우울증', '악화', '추석', '연휴', '귀성', '길', '장시간', '버스', '기차', '자동차', '이용', '양', '가사노동', '번', '피로', '또', '만', '만난', '가족', '양', '음주', '경우', '명절', '후유증', '가능성', '기사', '만화', '폰', '맛', '길', '꼭', '웹툰', '전기차', '충전', '요금', '왜', '전문가', '명절', '후유증', '위해', '완충기', '두', '조언', '마지막', '날', '연휴', '즐', '기기', '연휴', '마지막', '날', '일찍', '귀가', '가족', '대화', '휴식', '시간', '직장', '복귀', '뒤', '주일', '정도', '생체리듬', '회복', '위해', '노력', '이', '기간', '일과', '후', '술자리', '회식', '피하', '생체리듬', '하루', '정도', '수면', '취하', '근무', '지장', '범위', '내', '점심시간', '내외', '낮잠', '이상', '낮잠', '취할', '경우', '오히려', '밤', '수면', '방해', '수도', '식', '습관', '통해', '몸', '회복', '능력', '물', '과일', '야채', '비타민', '제', '복용', '도움', '자고', '연휴', '수면', '습관', '일시', '수면장애', '피로', '감', '때', '과도', '커피', '탄산음료', '섭취', '피로', '감', '수면', '제대로', '취하', '주의', '퇴근', '후', '약간', '물', '정도', '샤워', '개선', '도움', '취침', '몸', '풀기', '운동', '베개', '사용', '바닥', '목', '각도', '수면', '환경', '조성', '도움', '무릎', '밑', '베개', '고여', '낮', '동안', '허리', '근육', '이완', '자세', '유지', '주', '정도', '후', '몸', '명절', '후유증', '극복', '스트레칭', '가장', '평소', '안', '장시간', '운전', '하루', '종일', '벌초', '근육', '시일', '내', '일상생활', '선우', '교수', '연휴', '주일', '무기력증', '명절', '후유증', '의심', '며', '명절', '후유증', '주', '이상', '지속', '다른', '병일', '각별', '주의', '고', '당부', '서울', '뉴스', '창', '기사', '추천', '연휴', '마지막', '날', '명절', '피로', '감', '일상', '복귀', '준비', '베스트', '추천', '뉴스', '홍준표', '생각', '좀', '대통령', '정권', '부정부패', '청소', '국민', '힘', '지지율', '국정', '농단', '사태', '이후', '최고', '치', '폭', '하락', '압구정', '한양', '자산', '마약', '아내', '한마디', '윤석열', '이재명', '주', '오차', '범위', '내', '앞서', '윤석열', '혼밥', '거나', '공약', '스트레스', '거짓말', '중국인', '건강', '보험', '혜택', '외국인', '상위', '명중', '중국인', '전기요금', '추석', '연휴', '직후', '결정', '올해', '석유', '석탄', '액화천연가스', '연료비', '상승세', '정부', '지난해', '말', '도입', '연료비', '연동제', '적용', '시', '전기', '료', '인상', '정부', '올해', '물가', '및', '코로나', '로', '국민', '생활', '안정', '이유', '전기', '료', '인상', '억', '연료비', '증가', '한국전력', '적자', '폭', '감안', '상승', '무게', '둘', '관측', '정부', '한전', '전기요금', '발표', '전기요금', '지난해', '말', '연료비', '연동제', '도입', '국제', '유가', '원가', '변동', '제때', '반영', '구체', '연료비', '조정', '단가', '직전', '평균', '연료비', '기준', '연료비', '직전', '개', '월간', '평균', '연료비', '실적', '연료비', '를', '기반', '연료비', '관세청', '고시', '석탄', '유류', '무역', '통관', '가격', '기준', '올해', '연료비', '전기요금', '예상', '한전', '지난', '료', '리지', '정부', '결정', '현행', '체계', '전기요금', '조정', '정부', '로부터', '최종', '기사', '만화', '폰', '맛', '길', '꼭', '웹툰', '전기차', '충전', '요금', '왜', '앞서', '정부', '코로나', '장기', '화로', '어려움', '국민', '생활', '안정', '도모', '위해', '조정', '단가', '상승', '유보', '바', '경기', '위축', '상황', '물가', '상승', '요인', '억', '정부', '로서', '요금', '조정', '유보', '권한', '행사', '가계', '산업', '영향', '료', '물가', '자극', '점', '인상', '요인', '한전', '제도', '무용지물', '비판', '연료비', '연동제', '도입', '이유', '중', '하나', '한전', '재무', '구조', '보완', '위', '효과', '보지', '못', '다만', '올해', '개월', '인상', '요인', '지속', '만큼', '더', '인위', '조정', '분석', '산업', '통상', '자원부', '원자재', '가격', '정보', '호주', '뉴캐슬', '전력', '용', '연료', '최근', '주', '중', '톤', '당', '최저', '가격', '지난해', '기록', '약', '뒤', '달', '최근', '주', '최고', '치인', '두바이', '유', '가격', '지난', '기준', '배럴', '지난해', '과', '비교', '배', '가량', '연초', '비교', '가격', '올해', '톤', '주춤', '상승', '전환', '상황', '전기', '료', '인상', '유보', '시', '공기업', '한전', '부채', '더', '늘', '한전', '중', '장기', '재무관리', '계획', '통해', '올해', '영업', '손실', '규모', '달', '자체', '전망', '한전', '누적', '부채', '지난해', '올해', '새', '이상', '늘', '관측', '기간', '부채', '비율', '로', '증가', '예상', '전력', '산업', '탄소', '중립', '이행', '위', '전기요금', '인상', '시각', '실제', '한전', '신재생에너지', '공급', '의무', '비용', '탄소', '배출권거래제', '비용', '포함', '기후', '환경', '비용', '지출', '규모', '매년', '늘', '이', '비용', '상반기', '기록', '만약', '이번', '전기요금', '이후', '약', '요금', '조정', '조정', '요금', '최대', '당', '범위', '내', '직전', '요금', '대비', '변동', '상한선', '도달', '그', '이상', '인상', '인하', '인상', '월', '평균', '의', '전기', '인', '가구', '요금', '월', '의미', '세종', '뉴시스', '창', '기사', '추천', '추석', '이후', '전기요금', '결정', '인상', '가능성', '쑥', '베스트', '추천', '뉴스', '홍준표', '생각', '좀', '대통령', '정권', '부정부패', '청소', '국민', '힘', '지지율', '국정', '농단', '사태', '이후', '최고', '치', '폭', '하락', '압구정', '한양', '자산', '마약', '아내', '한마디', '윤석열', '이재명', '주', '오차', '범위', '내', '앞서', '윤석열', '혼밥', '거나', '공약', '스트레스', '거짓말', '중국인', '건강', '보험', '혜택', '외국인', '상위', '명중', '중국인', '주간', '격리', '해제', '아프가니스탄', '특별', '여자', '자녀', '오전', '충북', '진천군', '국가공무원', '인재', '개발', '운동장', '야외', '활동', '뉴스', '한국', '온', '아프가니스탄', '특별', '여자', '알록달록', '송편', '첫', '추석', '법무부', '충북', '진천', '국가공무원', '재개발', '생활', '중인', '아프가니스탄', '특별', '여자', '처음', '경험', '한국', '고유', '명절', '추석', '연휴', '송편', '한국', '고유문', '시간', '신종', '코로나바이러스', '감염증', '코로나', '확산', '방역', '지침', '장소', '담소', '명절', '분위기', '체험', '볼', '가정', '전달', '추석', '음식', '송편', '한국', '명절', '문화', '소개', '위해', '제작', '동영상', '시청', '유복', '렬', '법무부', '출입국', '외국인', '정책', '본부', '국적', '통합', '정책', '단장', '추석', '연휴', '검토', '진천', '거리', '두기', '단계', '이상', '별도', '일정', '며', '고민', '송편', '가정', '제공', '추석', '의미', '설명', '고', '또한', '명절', '풍습', '한국', '음식', '국문', '소개', '동영상', '전달', '고', '기사', '만화', '폰', '맛', '길', '꼭', '웹툰', '전기차', '충전', '요금', '왜', '아프가니스탄', '특별', '여자', '입국', '직후', '주간', '격리', '마치', '임시', '숙소', '개발', '안', '생활', '곳', '아프간', '가구', '임신부', '약', '인', '미성년', '지난', '자가', '격리', '해제', '이', '실내', '생활', '경내', '운동장', '산책', '그간', '긴장', '불안', '운영', '인력', '인솔', '아이', '장난감차', '공', '어른', '운동장', '트랙', '산책', '이', '대상', '한국어', '한국', '문화', '금융', '지식', '기초', '교육', '진행', '전국', '기부', '불교', '조계종', '이', '위해', '달라', '지난', '법무부', '기부', '적십자사', '통해', '과일', '차', '식품', '비롯', '아이', '위', '분유', '기저귀', '장난감', '학용품', '옷', '도착', '낯선', '타국', '긴장감', '더욱', '아프간', '특별', '여자', '자녀', '우리나라', '또래', '아이', '손편지', '아프간', '아이', '앞', '손편지', '여통', '아이', '고사리', '손', '그림', '편지', '친구', '마', '환영', '내용', '임신부', '미성년', '전체', '로', '의료', '진', '각별', '관심', '지원', '고려대학교의료원', '지난', '주간', '의료', '지원', '의료', '진', '여명', '컴퓨터', '단층', '촬영', '초음파', '검사', '의료', '버스', '현장', '파견', '출산', '예정', '일부', '임산부', '병원', '송해', '출산', '도울', '예정', '이', '충주의료원', '의료', '버스', '인도주의', '실천', '의사', '협의', '회', '정기', '소아과', '진료', '지원', '이', '임시', '숙소', '인재', '개발', '말', '제', '국행', '이', '이', '전원', '한국', '정착', '희망', '법무부', '파악', '이', '법무부', '교육부', '정부', '각', '부처', '협력', '통해', '개', '월간', '사회', '통합', '프로그램', '실시', '이', '완전', '자립', '방침', '법무부', '임시', '생활', '기간', '이후', '거처', '물색', '중이', '서울', '뉴스', '창', '기사', '추천', '한국', '첫', '추석', '아프간', '특별', '여자', '송편', '명절', '체험', '베스트', '추천', '뉴스', '홍준표', '생각', '좀', '대통령', '정권', '부정부패', '청소', '국민', '힘', '지지율', '국정', '농단', '사태', '이후', '최고', '치', '폭', '하락', '압구정', '한양', '자산', '마약', '아내', '한마디', '윤석열', '이재명', '주', '오차', '범위', '내', '앞서', '윤석열', '혼밥', '거나', '공약', '스트레스', '거짓말', '중국인', '건강', '보험', '혜택', '외국인', '상위', '명중', '중국인', '토니', '블', '링컨', '미국', '국무부', '장관', '현지', '시간', '세계', '한국인', '추석', '고', '말', '블', '링컨', '장관', '날', '성명', '통해', '코로나', '대유행', '통한', '우리', '경험', '가족', '우정', '중요성', '강화', '추석', '우리', '우리', '모든', '앞', '번창', '고', '한미', '양국', '지속', '동맹', '우정은', '우리', '민주주의', '가치', '공유', '세기', '가장', '과제', '해결', '위해', '노력', '약속', '바탕', '한미', '동맹', '세계', '평화', '안보', '번영', '위해', '필수', '강조', '한국인', '이번', '추석', '가장', '안부', '고', '기사', '만화', '폰', '맛', '길', '꼭', '웹툰', '전기차', '충전', '요금', '왜', '서울', '뉴시스', '창', '기사', '추천', '국무장관', '한국', '추석', '베스트', '추천', '뉴스', '홍준표', '생각', '좀', '대통령', '정권', '부정부패', '청소', '국민', '힘', '지지율', '국정', '농단', '사태', '이후', '최고', '치', '폭', '하락', '압구정', '한양', '자산', '마약', '아내', '한마디', '윤석열', '이재명', '주', '오차', '범위', '내', '앞서', '윤석열', '혼밥', '거나', '공약', '스트레스', '거짓말', '중국인', '건강', '보험', '혜택', '외국인', '상위', '명중', '중국인', '추석', '하루', '전인', '오후', '시내', '보름달', '뉴스', '추석', '당일', '이자', '화요일', '전국', '비', '전망', '기상청', '날', '서쪽', '기압골', '영향', '새벽', '중부지방', '강원영동', '제외', '과', '전라', '비', '시작', '그', '밖', '지역', '확대', '예보', '이', '날', '오후', '수도권', '충남', '전라', '시작', '저녁', '대부분', '지역', '저녁', '또', '다른', '기압골', '북서쪽', '남하', '수도권', '강원', '영서', '충남', '서해안', '다시', '비', '예상', '강수량', '중부지방', '강원영동', '제외', '남부', '지방', '경북', '동해안', '제외', '제주도', '서해', '도', '곳', '전남', '경남', '제주도', '이상', '강원영동', '경북', '동해안', '울릉도', '독도', '기사', '만화', '폰', '맛', '길', '꼭', '웹툰', '전기차', '충전', '요금', '왜', '남풍', '동반', '다량', '수증기', '유입', '비구름', '대가', '발달', '날', '아침', '서쪽', '지역', '낮', '동안', '동쪽', '지역', '중심', '시간', '의', '매우', '비', '곳도', '비', '지역', '돌풍', '천둥', '번개', '곳', '가시거리', '도로', '길', '교통', '안전', '유의', '날', '아침', '최저', '기온', '도', '낮', '최고', '기온', '도로', '예상', '지역별', '예상', '아침', '최저', '기온', '서울', '도', '인천', '도', '강릉', '도', '춘천', '도', '대전', '도', '대구', '도', '부산', '도', '전주', '도', '광주', '도', '제주', '도', '낮', '최고', '기온', '서울', '도', '인천', '도', '강릉', '도', '춘천', '도', '대전', '도', '대구', '도', '부산', '도', '전주', '도', '광주', '도', '제주', '도', '미세먼지', '농도', '대기', '확산', '권역', '예상', '풍량특보', '발표', '서해', '바다', '아침', '바람', '시속', '로', '불', '물결', '로', '한편', '날', '전국', '비', '소식', '하늘', '대체로', '지역', '오후', '보름달', '볼', '곳도', '한국', '연구원', '날', '도시', '달', '시각', '서울', '오후', '인천', '오후', '수원', '오후', '강릉', '오후', '춘천', '오후', '대전', '오후', '청주', '오후', '대구', '오후', '부산', '오후', '울산', '오후', '광주', '오후', '전주', '오후', '제주', '오후', '서울', '뉴스', '창', '기사', '추천', '비', '한가위', '보름달', '오후', '추천', '뉴스', '홍준표', '생각', '좀', '대통령', '정권', '부정부패', '청소', '국민', '힘', '지지율', '국정', '농단', '사태', '이후', '최고', '치', '폭', '하락', '압구정', '한양', '자산', '마약', '아내', '한마디', '윤석열', '이재명', '주', '오차', '범위', '내', '앞서', '윤석열', '혼밥', '거나', '공약', '스트레스', '거짓말', '중국인', '건강', '보험', '혜택', '외국인', '상위', '명중', '중국인', '명절', '연휴', '프로야구', '순위', '싸움', '쉬', '중위', '대전', '은', '연휴', '더', '전망', '추석', '당일', '다이노스', '잠실', '구장', '두산', '베어스', '연전', '첫', '경기', '인천', '히어로즈', '랜더스', '결과', '중위', '판도', '대진', '위', '승', '무', '패', '를', '두산', '게임', '차', '승', '무', '패', '위', '마크', '기사', '만화', '폰', '맛', '길', '꼭', '웹툰', '전기차', '충전', '요금', '왜', '두산', '승차', '위', '승', '무', '패', '위', '승', '무', '패', '도', '게임', '차', '이번', '연전', '통해', '역전', '각', '분위기', '반기', '막판', '주축', '선수', '코로나', '방역', '지침', '위반', '술자리', '파문', '이탈', '후반기', '중위', '계속', '경쟁', '선수', '공백', '다소', '어려움', '기회', '선수', '선전', '두산', '중위', '중', '가장', '흐름', '지난', '위', '못', '승률', '미러클', '두산', '의', '존재', '감', '중이', '후반기', '위', '승', '무', '패', '정도', '최근', '페이스', '두산', '기세', '위도', '선발', '최원준', '투입', '반기', '막판', '다소', '주춤', '최원준', '최근', '경기', '연속', '퀄리티', '스타트', '선발', '이닝', '이상', '자책점', '이하', '를', '달성', '다시', '감', '지난', '이닝', '동안', '개', '삼진', '실점', '호투', '민혁', '불', '민혁', '최근', '등판', '이닝', '실점', '비자', '책', '쾌투', '민혁', '최근', '연패', '연패', '탈출', '중책', '인천', '대결', '분위기', '반전', '위', '경기', '후반', '심', '밀리', '연패', '그', '사이', '순위도', '위', '구원진', '평균자책점', '위', '만큼', '뒷문', '시즌', '내내', '투수', '진의', '부상', '이탈', '계속', '더', '이상', '곳', '격차', '계속', '포스트시즌', '진출', '상대', '대체', '외국인', '선수', '합류', '리그', '두', '경기', '이닝', '실점', '자책', '바', '이번', '다른', '모습', '후반기', '가장', '카드', '정찬헌', '출격', '올림픽', '휴식', '기', '동안', '트레이드', '통해', '유니폼', '정찬헌', '이적', '후', '경기', '승', '패', '평균자책점', '마크', '승리', '정찬헌', '등판', '경기', '중', '승', '패', '를', '서울', '뉴시스', '창', '기사', '추천', '제대로', '한가위', '프로야구', '중위', '대전', '베스트', '추천', '뉴스', '홍준표', '생각', '좀', '대통령', '정권', '부정부패', '청소', '국민', '힘', '지지율', '국정', '농단', '사태', '이후', '최고', '치', '폭', '하락', '압구정', '한양', '자산', '마약', '아내', '한마디', '윤석열', '이재명', '주', '오차', '범위', '내', '앞서', '윤석열', '혼밥', '거나', '공약', '스트레스', '거짓말', '중국인', '건강', '보험', '혜택', '외국인', '상위', '명중', '중국인', '오전', '경부', '고속도로', '잠', '인근', '행선', '부산', '방향', '오른쪽', '뉴스', '추석', '당일', '고향', '서울', '객', '정체', '예상', '한국', '도로공사', '날', '지방', '수도권', '수도권', '지방', '차량', '예측', '전국', '총', '차량', '고속도로', '이용', '전망', '연휴', '첫날', '둘째', '날인', '수치', '날', '아침', '양', '방향', '고속도로', '정체', '시작', '밤', '기사', '만화', '폰', '맛', '길', '꼭', '웹툰', '전기차', '충전', '요금', '왜', '서울', '방향', '오전', '정체', '시작', '오후', '절정', '렀', '다가', '연휴', '마지막', '날인', '오전', '해소', '전망', '부선', '방향', '신탄진', '안성', '분기점', '기흥', '신', '분기점', '금토', '분기점', '서초', '해안선', '방향', '서산', '송악', '팔', '분기점', '곡', '분기점', '일직', '분기점', '금천', '중부선', '방향', '남', '분기점', '창', '죽', '호법', '분기점', '신', '산곡', '분기점', '영동선', '방향', '여주', '양지', '부곡', '안산', '분기점', '군자', '서창', '분기점', '부근', '오후', '정체', '예상', '선', '방향', '오후', '춘천', '분기점', '남', '춘천', '덕소', '삼패', '강일', '부근', '가장', '귀성', '방향', '행', '정체', '날', '오전', '시작', '오후', '절정', '렀', '다가', '오후', '해소', '예상', '부선', '부산', '방향', '서울', '수원', '신', '안성', '천안', '분기점', '목', '청주', '부근', '오후', '가장', '전망', '해안선', '목포', '방향', '남', '분기점', '비봉', '발안', '부근', '오전', '정체', '중부선', '남', '방향', '하남', '경기', '광주', '마장', '분기점', '남', '이천', '진천', '창', '영동선', '강릉', '방향', '분기점', '부곡', '마', '양지', '호법', '분기점', '이천', '선', '방향', '강일', '남양주', '남', '춘천', '춘천', '분기점', '부근', '오후', '정체', '절정', '달', '예상', '한편', '날', '전국', '비', '소식', '가시거리', '도로', '경', '길', '교통', '안전', '유의', '서울', '뉴스', '창', '기사', '추천', '다시', '집', '길', '정체', '오전', '오후', '절정', '베스트', '추천', '뉴스', '홍준표', '생각', '좀', '대통령', '정권', '부정부패', '청소', '국민', '힘', '지지율', '국정', '농단', '사태', '이후', '최고', '치', '폭', '하락', '압구정', '한양', '자산', '마약', '아내', '한마디', '윤석열', '이재명', '주', '오차', '범위', '내', '앞서', '윤석열', '혼밥', '거나', '공약', '스트레스', '거짓말', '중국인', '건강', '보험', '혜택', '외국인', '상위', '명중', '중국인', '진영', '포틀랜드', '클래식', '우승', '진영', '현지', '시간', '오리건주', '웨스트', '린', '디', '오리건', '골프클럽', '막', '미국', '여자', '프로', '골프', '투어', '캄비', '포틀랜드', '클래식', '후', '트로피', '기념', '촬영', '진영', '최종', '합계', '더파', '타로', '우승', '시즌', '승', '기록', '웨스트', '린', '뉴시스', '미국', '여자', '프로', '골프', '투어', '캄비', '포틀랜드', '클래식', '상금', '진영', '솔레어', '이', '추석', '한국', '팬', '선물', '선사', '진영', '이하', '한국', '시간', '미국', '오리건주', '웨스트', '린', '디', '오리건', '골프클럽', '파', '야드', '대회', '최종', '라운드', '보기', '버디', '개', '더파', '타', '대회', '홀', '경기', '축소', '운영', '가운데', '진영', '최종', '합계', '더파', '타로', '시즌', '및', '통산', '우승', '트로피', '품', '한국', '선수', '우승', '진영', '왼쪽', '이', '현지', '시간', '오리건주', '웨스트', '린', '디', '오리건', '골프클럽', '미국', '여자', '프로', '골프', '투어', '캄비', '포틀랜드', '클래식', '최종', '라운드', '번', '홀', '경기', '마치', '부모', '로부터', '축하', '세례', '진영', '최종', '합계', '더파', '타로', '우승', '시즌', '승', '기록', '웨스트', '린', '뉴시스', '진영', '투어', '통해', '한가위', '우승', '분', '명절', '보내셧으', '며', '한가위', '선물', '드릴', '영광', '고', '소감', '기사', '만화', '폰', '맛', '길', '꼭', '웹툰', '전기차', '충전', '요금', '왜', '진영', '지난', '여름', '도쿄', '올림픽', '이후', '한국', '재', '충전', '시간', '그로', '복귀', '첫', '대회', '우승', '결과물', '낼', '진영', '올림픽', '이후', '한국', '주', '정도', '쉰', '코치', '연습', '소화', '운동', '며', '이번', '주', '시간', '트로피', '내', '이름', '고', '말', '그동안', '번', '부모님', '앞', '우승', '올해', '번', '모두', '부모님', '앞', '고', '서울', '뉴스', '창', '기사', '추천', '시즌', '승', '진영', '한가위', '선물', '드릴', '영광', '베스트', '추천', '뉴스', '홍준표', '생각', '좀', '대통령', '정권', '부정부패', '청소', '국민', '힘', '지지율', '국정', '농단', '사태', '이후', '최고', '치', '폭', '하락', '압구정', '한양', '자산', '마약', '아내', '한마디', '윤석열', '이재명', '주', '오차', '범위', '내', '앞서', '윤석열', '혼밥', '거나', '공약', '스트레스', '거짓말', '중국인', '건강', '보험', '혜택', '외국인', '상위', '명중', '중국인', '추석', '당일', '화요일', '전국', '고속도로', '다소', '교통', '흐름', '예상', '서울', '길', '행렬', '시작', '방향', '교통', '정체', '한국', '도로공사', '내일', '전국', '고속도로', '이용', '차량', '예상', '수도권', '지방', '차량', '지방', '수도권', '차량', '예측', '서울', '방향', '정체', '오전', '시작', '이후', '오후', '사이', '절정', '뒤', '새벽', '해소', '전망', '내일', '오전', '시작', '지방', '방향', '정체', '오후', '사이', '최대', '기록', '뒤', '오후', '해소', '귀성', '행렬', '막바지', '날', '오후', '기준', '전국', '고속도로', '일부', '구간', '제외', '대체로', '교통', '흐름', '보이', '기사', '만화', '폰', '맛', '길', '꼭', '웹툰', '전기차', '충전', '요금', '왜', '경부', '고속도로', '부산', '방향', '잠', '나들목', '구간', '서울', '방향', '안성', '나들목', '구간', '일시', '정체', '서울', '양양', '고속도로', '서울', '방향', '미사', '나들목', '강일', '나들목', '차량', '속도', '이동', '날', '오후', '요금소', '출발', '기준', '주요', '도시', '예상', '소요', '시간', '상', '행선', '부산', '서울', '대구', '서울', '광주', '서울', '대전', '서울', '강릉', '서울', '울산', '서울', '목포', '서울', '행선', '서울', '부산', '서울', '대구', '서울', '광주', '서울', '대전', '서울', '강릉', '서울', '울산', '서울', '목포', '서울', '뉴시스', '창', '기사', '추천', '추석', '당일', '고속도로', '방향', '답답', '길', '정체', '시작', '베스트', '추천', '뉴스', '홍준표', '생각', '좀', '대통령', '정권', '부정부패', '청소', '국민', '힘', '지지율', '국정', '농단', '사태', '이후', '최고', '치', '폭', '하락', '압구정', '한양', '자산', '마약', '아내', '한마디', '윤석열', '이재명', '주', '오차', '범위', '내', '앞서', '윤석열', '혼밥', '거나', '공약', '스트레스', '거짓말', '중국인', '건강', '보험', '혜택', '외국인', '상위', '명중', '중국인', '서대문', '소방', '제공', '뉴스', '추석', '전날', '오전', '서울', '서대문구', '연희동', '아파트', '불', '대피', '사고', '발생', '서대문', '방서', '이', '사고', '인명', '피해', '이', '불', '주택', '거주', '주민', '인덕션', '위', '냄비', '채', '외출', '발생', '추정', '소방', '당국', '인원', '명과', '장비', '투입', '불', '모두', '기사', '만화', '폰', '맛', '길', '꼭', '웹툰', '전기차', '충전', '요금', '왜', '서울', '뉴스', '창', '기사', '추천', '연희동', '아파트', '냄비', '외출', '화재', '주민', '대피', '베스트', '추천', '뉴스', '홍준표', '생각', '좀', '대통령', '정권', '부정부패', '청소', '국민', '힘', '지지율', '국정', '농단', '사태', '이후', '최고', '치', '폭', '하락', '압구정', '한양', '자산', '마약', '아내', '한마디', '윤석열', '이재명', '주', '오차', '범위', '내', '앞서', '윤석열', '혼밥', '거나', '공약', '스트레스', '거짓말', '중국인', '건강', '보험', '혜택', '외국인', '상위', '명중', '중국인', '문재인', '대통령', '오른쪽', '과', '부인', '김정숙', '여사', '추석', '영상', '통해', '국민', '향', '인사', '전하', '청와대', '페이스북', '영상', '갈무리', '뉴스', '문재인', '대통령', '추석', '명절', '국민', '약속', '추석', '백신', '차', '접종', '률', '를', '달성', '조금', '걱정', '덜', '고', '말', '문', '대통령', '날', '오후', '사회', '관계', '망', '서비스', '를', '통해', '공개', '영상', '메시지', '부인', '김정숙', '여사', '대국민', '추석', '인사', '전하', '문', '대통령', '다음', '달이', '접종', '완료', '율도', '세계', '앞서', '가게', '우리', '점차', '일상', '라며', '조금', '더', '힘', '내기', '고', '말', '여사', '가족', '이웃', '사랑', '마음', '우리나라', '백신', '접종', '속도', '생각', '며', '은', '상황', '가족', '이웃', '더', '마음', '대응', '만큼', '결실', '기사', '만화', '폰', '맛', '길', '꼭', '웹툰', '전기차', '충전', '요금', '왜', '문', '대통령', '또', '명절', '만큼', '분', '며', '올해', '서로', '격려', '격려', '명절', '고', '말', '여사', '나날', '속', '달', '동산', '가족', '사랑', '마음', '그대', '며', '마음', '응원', '말로', '서로', '마음', '사랑', '더', '말', '예년', '더', '내일', '모두', '시간', '고', '문', '대통령', '뉴욕', '제', '차', '유엔', '총회', '참석', '위해', '여사', '현재', '미국', '뉴욕', '방문', '중이', '이', '영상', '메시지', '뉴욕', '전용기', '안', '촬영', '서울', '뉴스', '창', '기사', '추천', '미국', '행', '비행기', '추석', '인사', '차', '접종', '률', '점차', '일상', '베스트', '추천', '뉴스', '홍준표', '생각', '좀', '대통령', '정권', '부정부패', '청소', '국민', '힘', '지지율', '국정', '농단', '사태', '이후', '최고', '치', '폭', '하락', '압구정', '한양', '자산', '마약', '아내', '한마디', '윤석열', '이재명', '주', '오차', '범위', '내', '앞서', '윤석열', '혼밥', '거나', '공약', '스트레스', '거짓말', '중국인', '건강', '보험', '혜택', '외국인', '상위', '명중', '중국인', '홍준표', '국민', '힘', '의원', '오른쪽', '과', '홍', '의원', '캠프', '여명', '대변인', '오후', '추석', '맞이', '유튜브', '라이브', '방송', '무', '야홍', '를', '진행', '유튜브', '홍카', '콜라', '갈무리', '뉴스', '국민', '힘', '대권', '주자', '홍준표', '의원', '차기', '대통령', '문재인', '정권', '모든', '민생', '관련', '부정부패', '청소', '새', '세상', '게', '선전포고', '홍', '의원', '날', '오후', '여분', '동안', '진행', '추석', '맞이', '유튜브', '라이브', '방송', '무', '야홍', '과거', '정치', '보복', '부정', '최근', '생각', '좀', '라며', '말', '그', '정치', '보복', '민생', '관련', '부분', '가차', '수사', '며', '이재명', '민주당', '대선', '경선', '후보', '연루', '의혹', '대장동', '개발', '특혜', '의혹', '대해', '돈', '전부', '환수', '피해자', '나라', '복지', '기금', '사용', '반드시', '그것', '처리', '말', '날', '라이브', '방송', '댓글', '각종', '사회', '현안', '질문', '대한', '홍', '의원', '답변', '기사', '만화', '폰', '맛', '길', '꼭', '웹툰', '전기차', '충전', '요금', '왜', '홍', '의원', '수신료', '폐지', '대한', '질문', '대통령', '를', '민영', '방송', '라며', '만', '국가', '세금', '운영', '나머지', '민영', '방송', '수신료', '자동', '답', '군', '복무', '제도', '대해', '모병제', '지원', '병제', '징병제', '동시', '실시', '그', '다음', '모병제', '병제', '전문', '강', '고', '단계', '모병제', '전환', '계획', '그', '다만', '대신', '모병제', '본격', '국방', '세', '며', '세', '이상', '국방', '세', '부과', '젊은이', '징병', '멍에', '로부터', '대신', '일찍', '사회', '돈', '세금', '나라', '장병', '위해', '제대로', '일자리', '하나', '방법', '말', '그', '앞서', '흉악', '범의', '사형', '집행', '윤석열', '검찰총장', '테르테', '표현', '언급', '오해', '형사소송법', '사형', '확정', '시', '개월내', '집행', '법무부', '장관', '의무', '라며', '사형', '집행', '안', '법무부', '장관', '직무', '유기', '제', '대통령', '법대', '설명', '이외', '대통령', '담뱃세', '인하', '종부세', '폐지', '상속세', '완화', '촉법소년', '연령', '하향', '조정', '약속', '난민', '수용', '문제', '대해', '배척', '필요', '고', '말', '홍', '의원', '책임', '당원', '지지율', '방안', '대해', '당원', '지난', '지방선거', '머릿속', '남아', '좀', '부정', '생각', '분', '며', '사실', '당시', '문재인', '정권', '지지율', '누가', '당', '대표', '해도', '게임', '고', '홍', '의원', '날', '방송', '아내', '로부터', '용돈', '펩시', '콜라', '코카콜라', '탕수육', '원래', '소스', '부어', '방송인', '이경규', '때문', '오해', '피', '위', '도시', '어부', '안', '게', '면서', '온라인', '참여자', '친밀', '감', '높이', '분위기', '연출', '서울', '뉴스', '창', '기사', '추천', '홍준표', '생각', '좀', '대통령', '정권', '부정부패', '청소', '베스트', '추천', '뉴스', '홍준표', '생각', '좀', '대통령', '정권', '부정부패', '청소', '국민', '힘', '지지율', '국정', '농단', '사태', '이후', '최고', '치', '폭', '하락', '압구정', '한양', '자산', '마약', '아내', '한마디', '윤석열', '이재명', '주', '오차', '범위', '내', '앞서', '윤석열', '혼밥', '거나', '공약', '스트레스', '거짓말', '중국인', '건강', '보험', '혜택', '외국인', '상위', '명중', '중국인', '서울', '서대문구', '북아현', '문화', '체육', '센터', '마련', '코로나', '백신', '접종', '센터', '모습', '뉴스', '방역', '당국', '지난', '오후', '시작', '신종', '코로나바이러스', '감염증', '코로나', '백신', '미접', '종자', '대상', '사전예약', '결과', '참여', '전체', '미접', '종자', '중', '수준', '홍', '정익', '코로나', '예방접종', '대응', '추진단', '이하', '추진단', '예방접종', '관리', '날', '정례', '브리핑', '미접', '종자', '중', '현재', '예약', '며', '률', '못', '추석', '연휴', '이후', '참여', '고', '설명', '지금', '계획', '사전예약', '종료', '다시', '예약', '시스템', '열', '계획', '며', '미접', '종자', '예방접종', '시작', '뒤', '전체', '접종', '상황', '필요성', '검토', '고려', '고', '사정', '당국', '만', '세', '청장년', '층', '중', '코로나', '백신', '미접', '종자', '오후', '백신', '시스템', '통해', '백신', '접종', '참여', '재차', '당부', '기사', '만화', '폰', '맛', '길', '꼭', '웹툰', '전기차', '충전', '요금', '왜', '홍', '정익', '예방접종', '관리', '청장년', '층', '중', '백신', '예약', '못', '분', '오후', '미접', '종자', '예약', '통해', '예약', '며', '예약', '완료', '예약', '일정', '접종', '동참', '달라', '고', '말', '그', '예약', '사회', '관계', '망', '서비스', '당일', '신속', '예약', '서비스', '카카오', '네이버', '통해', '잔', '백신', '활용', '접종', '신청', '더', '접종', '며', '청장년', '층', '경우', '백신', '접종', '다른', '대상', '예약', '분', '고려', '현재', '인구', '대비', '참여', '전망', '질병', '관리', '청', '사전', '대상자', '률', '총', '중', '로', '마감', '서울', '뉴스', '창', '기사', '추천', '미접', '종자', '중', '예약', '질병', '청', '추가', '예약', '베스트', '추천', '뉴스', '홍준표', '생각', '좀', '대통령', '정권', '부정부패', '청소', '국민', '힘', '지지율', '국정', '농단', '사태', '이후', '최고', '치', '폭', '하락', '압구정', '한양', '자산', '마약', '아내', '한마디', '윤석열', '이재명', '주', '오차', '범위', '내', '앞서', '윤석열', '혼밥', '거나', '공약', '스트레스', '거짓말', '중국인', '건강', '보험', '혜택', '외국인', '상위', '명중', '중국인', '추석', '하루', '오후', '전북', '전주시', '옥', '마을', '관광객', '인산인해', '뉴스', '추석', '하루', '전북', '대표', '관광지', '옥', '마을', '인파', '신종', '코로나바이러스', '감염증', '코로나', '사회', '거리', '두기', '불구', '시민', '밖', '연휴', '모습', '연휴', '차', '거리', '로', '운영', '옥', '마을', '가족', '연인', '친구', '단위', '무리', '지은', '관광객', '가을', '정취', '만끽', '날', '오후', '전주', '청명', '하늘', '아래', '사', '햇볕', '날씨', '알록달록', '자태', '한복', '관광객', '기전', '담벼락', '배경', '사진', '촬영', '모습', '눈', '기사', '만화', '폰', '맛', '길', '꼭', '웹툰', '전기차', '충전', '요금', '왜', '구름', '인파', '복대', '점', '음식점', '옥', '마을', '인근', '상', '얼굴', '웃음꽃', '전동성당', '인근', '태조', '위', '공예품', '판매', '부스', '손님', '응대', '아이', '어른', '거의', '대부분', '마스크', '착용', '다만', '닭꼬치', '튀김', '길거리', '간식', '먹기', '위해', '턱', '아래', '마스크', '이', '길거리', '음식', '구입', '위해', '줄', '선', '시민', '거리', '두기', '모습', '동안', '다른', '곳', '산', '음식', '옆', '사람과', '입', '먹기', '날', '옥', '마을', '시민', '연휴', '동안', '실내', '입', '전북', '정읍', '이모', '연휴', '집', '데이트', '며', '설마', '사람', '눈치', '게임', '진', '고', '조심', '스레', '말', '가족', '충북', '청주', '전주', '박모', '코로나', '어차피', '정부', '곧', '위드', '코로나', '면서', '우리', '가족', '백신', '마스크', '조심', '고', '설명', '한편', '날', '전북도', '보건', '당국', '연휴', '동안', '만남', '이동', '자제', '달라', '요청', '전북', '지역', '최근', '층', '코로나', '확진', '급증', '지난', '날', '발생', '전북', '지역', '코로나', '확', '진자', '오후', '기준', '중', '확', '진자', '전체', '를', '차지', '전북도', '보건', '당국', '관계자', '전북', '지역', '최근', '이동성', '층', '확진', '확산', '매우', '상황', '라며', '극복', '위', '이동', '만남', '최대한', '자제', '고', '당부', '전주', '뉴스', '창', '기사', '추천', '추석', '옥', '마을', '만', '구름', '인파', '북적', '베스트', '추천', '뉴스', '홍준표', '생각', '좀', '대통령', '정권', '부정부패', '청소', '국민', '힘', '지지율', '국정', '농단', '사태', '이후', '최고', '치', '폭', '하락', '압구정', '한양', '자산', '마약', '아내', '한마디', '윤석열', '이재명', '주', '오차', '범위', '내', '앞서', '윤석열', '혼밥', '거나', '공약', '스트레스', '거짓말', '중국인', '건강', '보험', '혜택', '외국인', '상위', '명중', '중국인', '추석', '당일', '이자', '화요일', '중부지방', '전라', '비', '시작', '전국', '확대', '기상청', '날', '서쪽', '기압골', '영향', '차차', '수도권', '강원', '영서', '충남', '오후', '다시', '북서쪽', '기압골', '영향', '예보', '이', '오후', '수도권', '충남', '전라', '대부분', '지역', '밤', '북서쪽', '기압골', '영향', '수도권', '강원', '영서', '다시', '비', '시작', '전국', '대부분', '지역', '확대', '예상', '강수량', '중부지방', '남부', '지방', '제주도', '서해', '도', '곳', '전남', '경남', '제주도', '이상', '강원', '영동', '경북', '동해안', '울릉도', '독도', '기사', '만화', '폰', '맛', '길', '꼭', '웹툰', '전기차', '충전', '요금', '왜', '남풍', '동반', '다량', '수증기', '유입', '비구름', '대가', '발달', '새벽', '아침', '사이', '서쪽', '지역', '낮', '동안', '동쪽', '지역', '중심', '시간', '의', '매우', '비', '곳도', '비', '지역', '돌풍', '천둥', '번개', '곳도', '시설', '물', '관리', '유의', '날', '아침', '최저', '기온', '도', '낮', '최고', '기온', '도로', '예상', '지역별', '예상', '아침', '최저', '기온', '서울', '도', '인천', '도', '강릉', '도', '춘천', '도', '대전', '도', '대구', '도', '부산', '도', '전주', '도', '광주', '도', '제주', '도', '낮', '최고', '기온', '서울', '도', '인천', '도', '강릉', '도', '춘천', '도', '대전', '도', '대구', '도', '부산', '도', '전주', '도', '광주', '도', '제주', '도', '미세먼지', '농도', '대기', '확산', '권역', '예상', '풍량특보', '발표', '서해', '중부', '바깥', '바다', '서해', '남부', '북쪽', '바깥', '바다', '날', '새벽', '그', '밖', '서해', '중부', '해상', '서해', '남부', '북쪽', '안쪽', '바다', '아침', '바람', '시속', '로', '매우', '불', '물결', '로', '서울', '뉴스', '창', '기사', '추천', '추석', '당일', '전국', '빗방울', '보름달', '저녁', '추천', '뉴스', '홍준표', '생각', '좀', '대통령', '정권', '부정부패', '청소', '국민', '힘', '지지율', '국정', '농단', '사태', '이후', '최고', '치', '폭', '하락', '압구정', '한양', '자산', '마약', '아내', '한마디', '윤석열', '이재명', '주', '오차', '범위', '내', '앞서', '윤석열', '혼밥', '거나', '공약', '스트레스', '거짓말', '중국인', '건강', '보험', '혜택', '외국인', '상위', '명중', '중국인', '창록', '영암군', '민속', '씨름', '단', '이', '올해', '관왕', '통산', '한라', '장사', '추석', '대회', '타이틀', '처음', '창록', '충남', '태안군', '태안', '종합', '실내', '체육관', '위더스', '제약', '추석', '장사', '씨름', '대회', '한라', '장사', '결정전', '승제', '신예', '국희', '증평군', '청', '를', '로', '제압', '실업', '무대', '데뷔', '창록', '추석', '대회', '장사', '타이틀', '거머', '건', '이번', '처음', '시즌', '설날', '장사', '해남', '장사', '관왕', '개인', '통산', '한라', '장사', '올해', '최강', '자임', '다시', '번', '입증', '무대', '기사', '만화', '폰', '맛', '길', '꼭', '웹툰', '전기차', '충전', '요금', '왜', '강전', '강전', '각각', '이광재', '구미시청', '박정진', '광주', '시청', '물리', '친', '창록', '결승', '진출', '남원', '택', '영월', '군청', '로', '국희', '만난', '결승', '창록', '첫', '판', '특기', '배지기', '기선', '제압', '두', '판', '국희', '승부', '원점', '기세', '오른', '창록', '이어진', '경기', '배지기', '두', '판', '우승', '확정', '서울', '뉴시스', '창', '기사', '추천', '창록', '추석', '장사', '씨름', '대회', '한라', '장사', '올해', '관왕', '베스트', '추천', '뉴스', '홍준표', '생각', '좀', '대통령', '정권', '부정부패', '청소', '국민', '힘', '지지율', '국정', '농단', '사태', '이후', '최고', '치', '폭', '하락', '압구정', '한양', '자산', '마약', '아내', '한마디', '윤석열', '이재명', '주', '오차', '범위', '내', '앞서', '윤석열', '혼밥', '거나', '공약', '스트레스', '거짓말', '중국인', '건강', '보험', '혜택', '외국인', '상위', '명중', '중국인', '민주당', '대선', '주자', '이재명', '지사', '이낙연', '대표', '추석', '연휴', '이', '지사', '성남시장', '재직', '시절', '대장동', '개발', '특혜', '의혹', '명낙', '대전', '이재명', '캠프', '인사', '이', '대표', '대장동', '특혜', '의혹', '제기로', '내부', '질', '후보', '칭', '이낙연', '캠프', '의혹', '제기', '국민', '모두', '국민', '반박', '이재명', '캠프', '날', '성명', '를', '이낙연', '후보', '오해', '풀', '국힘', '토건', '게이트', '의', '진실', '직시', '고', '요청', '이', '성명', '를', '통해', '성남시', '신설', '남도', '개발', '공사', '법률상', '제한', '사업', '자금', '직접', '조달', '민간', '자금', '동원', '며', '부정부패', '분쟁', '발생', '성남시', '위험', '노출', '원칙', '성남시', '이익', '가장', '제시', '민간', '사업자', '선정', '설명', '기사', '만화', '폰', '맛', '길', '꼭', '웹툰', '전기차', '충전', '요금', '왜', '성남시', '사업', '패', '무관', '그', '이익', '사업자', '로부터', '무조건', '환수', '확약', '부동산', '경기', '호전', '성남시', '사업자', '원', '추가', '부담', '공산당', '소리', '며', '대장동', '개발', '핵심', '토건', '비리', '족', '야당', '국민', '힘', '합', '작품', '국힘', '토건', '게이트', '권한', '최대', '치의', '공익', '환수', '이재명', '스타일', '모범', '행정', '주장', '토건', '비리', '불로소득', '위', '사상', '초유', '개혁', '정책', '성남시', '대한민국', '역사', '초과', '이익', '환수', '최초', '사례', '이낙연', '후보', '그', '성과', '주목', '며', '부디', '오해', '푸시', '국힘', '토건', '게이트', '의', '본진', '국민', '힘', '문제', '제기', '고', '촉구', '이재명', '캠프', '전략', '본부장', '민형배', '의원', '성명', '앞서', '페이스북', '글', '이', '대표', '내', '안', '감자', '내부', '질', '자행', '며', '물리', '후보', '크게', '염려', '고', '이낙연', '캠프', '이재명', '후보', '사방', '총리', '언론', '국민', '라며', '즉각', '반박', '영훈', '대변인', '서면', '논평', '이재명', '후보', '측은', '야당', '보수', '언론', '주장', '편승', '후보', '며', '국회', '정부', '질문', '비상', '적', '답변', '김부겸', '총리', '총리', '의혹', '보도', '대한민국', '모든', '언론', '언론', '뭔가', '고개', '거리', '국민', '국민', '오', '대변인', '대장동', '의혹', '불길', '좀체', '이낙연', '후보', '불', '난', '집', '밤', '생각', '추호', '며', '걱정', '불', '형편', '집', '불', '옆집', '탓', '고', '반문', '또', '그', '화천', '대유', '참여', '성남', '뜰', '컨소시움', '사업', '계획', '접수', '하루', '민간', '사업자', '선정', '사업', '분', '절반', '보유', '남도', '개발', '공사', '원', '배당', '동안', '실질', '분', '화천', '대유', '명의', '개인', '투자자', '원', '배당', '며', '배', '수익률', '국민', '사이', '화천', '대유', '란', '한가위', '덕담', '정도', '이낙연', '캠프', '정무', '실장', '윤영', '찬', '의원', '페이스북', '통해', '이낙연', '후보', '국민', '힘', '엮으려', '프레임', '당장', '며', '왜', '배', '타고', '민주당', '내부', '총', '겨누', '훼손', '정신', '자체', '부정', '행위', '서울', '뉴시스', '창', '기사', '추천', '추석', '명낙', '대전', '이낙연', '후보', '사방', '국민', '베스트', '추천', '뉴스', '홍준표', '생각', '좀', '대통령', '정권', '부정부패', '청소', '국민', '힘', '지지율', '국정', '농단', '사태', '이후', '최고', '치', '폭', '하락', '압구정', '한양', '자산', '마약', '아내', '한마디', '윤석열', '이재명', '주', '오차', '범위', '내', '앞서', '윤석열', '혼밥', '거나', '공약', '스트레스', '거짓말', '중국인', '건강', '보험', '혜택', '외국인', '상위', '명중', '중국인', '집값', '문제', '이번', '추석', '명절', '가족', '친지', '때', '정치', '코로나', '화두', '최근', '동안', '전국', '집값', '땅', '값', '크게', '때문', '상황', '그동안', '조상', '땅', '최근', '부동산', '가격', '급등', '조상', '땅', '확인', '수요', '늘', '실제', '억원', '호가', '땅', '사례', '전국', '각지', '국토교통부', '국가', '공간', '정보', '센터', '올해', '조상', '땅', '찾기', '서비스', '신청', '신청', '증가', '세', '연말', '작년', '신청', '인원', '수치', '를', '칠', '추정', '조상', '땅', '찾기', '서비스', '사망', '재산관리', '소홀', '유산', '상속', '제대로', '토지', '현황', '파악', '경우', '지적', '전산', '시스템', '활용', '후손', '땅', '서비스', '기사', '만화', '폰', '맛', '길', '꼭', '웹툰', '전기차', '충전', '요금', '왜', '지난', '서울', '아파트', '평균', '매매', '가격', '부동산', '통계', '은', '전국', '기준', '매매', '가격', '이처럼', '최근', '전국', '집값', '정부', '지로', '미처', '알', '조상', '땅', '게', '확인', '수요', '늘', '신청', '중', '조상', '땅', '횡재', '후손', '올해', '중', '꼴', '로', '조상', '땅', '셈', '이', '땅', '필지', '조사', '시도', '별', '신청', '경기도', '가장', '서울', '부산', '인천', '경남', '경북', '대구', '충남', '전북', '전남', '순', '조상', '땅', '비율', '전남', '가장', '전남', '신청', '조상', '땅', '율', '육박', '전북', '경남', '경북', '충북', '광주', '순', '후손', '땅', '지역', '경기도', '서울', '경북', '경남', '전북', '부산', '전남', '강원', '충남', '비교', '전국', '분포', '조사', '주로', '선산', '잊힌', '자투리', '땅', '경우', '일부', '신청', '횡재', '규모', '땅', '발견', '사례', '경기도', '용인', '이모', '씨', '조부', '명의', '땅', '친지', '이야기', '조상', '땅', '찾기', '서비스', '이용', '자신', '토지', '경상남도', '진해', '엄모', '씨', '세상', '남편', '소유', '토지', '를', '뜻', '노후', '자금', '마련', '조상', '땅', '찾기', '서비스', '신청', '토지', '소유자', '본인', '사망자', '재산상속', '라면', '피상', '속인', '이전', '사망', '경우', '호주', '승계', '이후', '사망', '경우', '배우자', '직계', '비', '신청', '신청', '후손', '임', '증명', '제적', '등본', '이후', '사망자', '경우', '가족', '관계', '증명서', '기본', '증명서', '준비', '시', '군', '구청', '지적', '업무', '과', '신청', '대리인', '신청', '경우', '상속인', '위임장', '위임', '신분증', '사본', '대리인', '신분증', '사본', '미성년', '경우', '법정대리인', '신청', '서울', '뉴시스', '창', '기사', '추천', '이', '웬', '떡', '조상', '땅', '횡재', '후손', '올해', '추천', '뉴스', '홍준표', '생각', '좀', '대통령', '정권', '부정부패', '청소', '국민', '힘', '지지율', '국정', '농단', '사태', '이후', '최고', '치', '폭', '하락', '압구정', '한양', '자산', '마약', '아내', '한마디', '윤석열', '이재명', '주', '오차', '범위', '내', '앞서', '윤석열', '혼밥', '거나', '공약', '스트레스', '거짓말', '중국인', '건강', '보험', '혜택', '외국인', '상위', '명중', '중국인', '방역', '당국', '추석', '연휴', '이후', '코로나', '확', '진자', '우려', '단', '유행', '폭발', '이상원', '중앙', '방역', '대책', '본부', '방', '대본', '역학', '조사분', '단장', '정례', '브리핑', '추석', '접촉', '이동', '량', '증가', '확인', '이로', '환자', '증가', '가능성', '며', '추석', '접촉', '증가', '환자', '발생', '증가', '요인', '더', '고', '말', '지난', '추석', '연휴', '닷새', '인구', '량', '유행', '증가', '우려', '곳곳', '제기', '국토교통부', '한국', '교통', '연구원', '실시', '추석', '연휴', '통행', '실태', '조사', '총', '하루', '평균', '이동', '예측', '지난해', '추석', '연휴', '이동', '인원', '기사', '만화', '폰', '맛', '길', '꼭', '웹툰', '전기차', '충전', '요금', '왜', '유행', '상황', '날', '기준', '일일', '신규', '확', '진자', '코로나', '유입', '이후', '일요일', '월요일', '기준', '최', '발생', '앞서', '유입', '각각', '금요일', '토요일', '기준', '일일', '최', '확', '진자', '기록', '바', '방역', '당국', '추석', '연휴', '이후', '유행', '폭발', '증가', '이', '단장', '세계', '환자', '증가', '세', '계속', '가운데', '우리나라', '거리', '기와', '예방접종', '억제', '며', '증가', '패턴', '자체', '폭발', '점진', '증가', '가능성', '정부', '폭발', '유행', '통해', '의료', '부담', '목적', '말', '확', '진자', '증가', '상치', '대해', '그', '숫자', '계량', '시기', '라며', '말', '이', '단장', '만남', '시간', '조금', '줄', '조금', '과', '생각', '정도', '환기', '자주', '며', '실내', '마스크', '착용', '명절', '이후', '조금', '이상', '바로', '검사', '고', '강조', '서울', '뉴시스', '창', '기사', '추천', '당국', '추석', '연휴', '이후', '유행', '증가', '가능성', '점진', '듯', '베스트', '추천', '뉴스', '홍준표', '생각', '좀', '대통령', '정권', '부정부패', '청소', '국민', '힘', '지지율', '국정', '농단', '사태', '이후', '최고', '치', '폭', '하락', '압구정', '한양', '자산', '마약', '아내', '한마디', '윤석열', '이재명', '주', '오차', '범위', '내', '앞서', '윤석열', '혼밥', '거나', '공약', '스트레스', '거짓말', '중국인', '건강', '보험', '혜택', '외국인', '상위', '명중', '중국인', '추석', '연휴', '제주', '지역', '사회', '거리', '두기', '단계', '완화', '특별자치도', '오전', '사회', '거리', '두기', '단계', '단계', '하향', '조정', '사적', '모임', '허용', '예방접종', '완료', '포함', '경우', '최대', '예방접종', '완료', '인센티브', '식당', '카페', '가정', '마트', '실내', '체육', '시설', '다중', '이용', '시설', '적용', '상견례', '돌잔치', '허용', '시설', '관리자', '스포츠', '영업', '시설', '이용', '경우', '구성', '위', '최소', '인원', '배', '모임', '음식물', '섭취', '금지', '기사', '만화', '폰', '맛', '길', '꼭', '웹툰', '전기차', '충전', '요금', '왜', '행사', '집회', '허용', '식사', '금지', '예방접종', '완료', '자도', '인원', '산정', '포함', '지역', '축제', '설명', '회', '기념', '모든', '행사', '인', '기준', '미만', '운영', '인', '시위', '허용', '집회', '경우', '사전', '신고', '경우', '결혼식', '장례식', '시설', '면적', '당', '이하', '유지', '식사', '제공', '경우', '종교시설', '경우', '정규', '예배', '미사', '법회', '좌석', '수의', '범위', '이내', '인원', '제한', '종교시설', '주관', '모임', '행사', '식사', '숙박', '금지', '학술', '행사', '경우', '동선', '분리', '별도', '공간', '미만', '진행', '모든', '행사', '학술', '행사', '포함', '집회', '예방접종', '완료', '인센티브', '적용', '식사', '금지', '오후', '이후', '영업', '금지', '대부분', '다중', '이용', '시설', '경우', '영업', '시간', '제한', '해제', '식당', '카페', '오후', '이후', '오전', '매장', '영업', '금지', '포장', '배달', '허용', '편의점', '포함', '오후', '이후', '야외', '테이블', '취식', '금지', '유흥', '시설', '콜', '라텍', '무도장', '홀덤', '펍', '홀덤', '게임', '오후', '영업', '유흥', '시설', '발', '집단', '감염', '방지', '위해', '종', '사자', '격주', '유전자', '증폭', '검사', '의무', '노래', '연습장', '코인', '연습장', '은', '시설', '면적', '당', '적용', '오후', '영업', '실내', '체육', '시설', '시설', '면적', '당', '적용', '운영', '시간', '제한', '해제', '다만', '수영장', '밤', '운영', '체육', '시설', '체육', '도장', '류', '시설', '경우', '시설', '간', '특성', '고려', '제한', '인원', '적용', '학원', '교습', '소', '좌석', '두', '칸', '띄우기', '좌석', '경우', '시설', '면적', '당', '제한', '정규', '시설', '공연', '당', '명과', '관객', '이내', '공연', '정규', '공연', '시설', '외', '공연', '경우', '허용', '영화관', '방', '오락실', '멀티', '방', '운영', '시간', '제한', '숙박시설', '사적', '모임', '인원', '제한', '방역', '칙', '준수', '하', '객실', '내', '정원', '기준', '최대', '정원', '초과', '금지', '또', '객실', '운영', '예방접종', '완료', '자도', '마스크', '착용', '의무', '만큼', '실내', '외', '모두', '마스크', '착용', '제주도', '거리', '두기', '단계', '하향', '조정', '방역', '대한', '긴장감', '완화', '소관', '부서', '별', '합동', '점검', '더욱', '예정', '방역', '칙', '위반', '사항', '확인', '영업정지', '무관용', '원칙', '적용', '방침', '제주', '뉴시스', '창', '기사', '추천', '제주', '거리', '두기', '단계', '완화', '사적', '모임', '허용', '베스트', '추천', '뉴스', '홍준표', '생각', '좀', '대통령', '정권', '부정부패', '청소', '국민', '힘', '지지율', '국정', '농단', '사태', '이후', '최고', '치', '폭', '하락', '압구정', '한양', '자산', '마약', '아내', '한마디', '윤석열', '이재명', '주', '오차', '범위', '내', '앞서', '윤석열', '혼밥', '거나', '공약', '스트레스', '거짓말', '중국인', '건강', '보험', '혜택', '외국인', '상위', '명중', '중국인', '추사', '인스타그램', '뉴스', '이종격투기', '선수', '추성훈', '딸', '추', '사랑', '추석', '명절', '인사', '추', '사랑', '인스타그램', '여러분', '추석', '글', '영상', '게재', '영상', '추사', '추사', '소개', '추성훈', '여러분', '추석', '인사', '눈길', '폭풍', '근황', '한국어', '실력', '감탄', '한편', '추사', '만', '추성훈', '슈퍼맨', '출연', '인기', '기사', '만화', '폰', '맛', '길', '꼭', '웹툰', '전기차', '충전', '요금', '왜', '서울', '뉴스', '창', '기사', '추천', '추사', '폭풍', '성장', '근황', '추성훈', '추석', '인사', '베스트', '추천', '뉴스', '홍준표', '생각', '좀', '대통령', '정권', '부정부패', '청소', '국민', '힘', '지지율', '국정', '농단', '사태', '이후', '최고', '치', '폭', '하락', '압구정', '한양', '자산', '마약', '아내', '한마디', '윤석열', '이재명', '주', '오차', '범위', '내', '앞서', '윤석열', '혼밥', '거나', '공약', '스트레스', '거짓말', '중국인', '건강', '보험', '혜택', '외국인', '상위', '명중', '중국인', '서진', '부동산', '학회', '뉴스', '추석', '이후', '수도권', '아파트', '가격', '상승', '기조', '수요', '곳', '공급', '서진', '부동산', '학회', '경인여대', '교수', '은', '연말', '부동산', '시장', '흐름', '대해', '말', '하락', '가능성', '질문', '선', '그었다', '추석', '이후', '수도권', '아파트', '매매', '전세', '상승세', '올해', '추석', '수도권', '아파트', '매가', '상승세', '한국', '부동산', '통계', '올해', '수도권', '주간', '아파트', '값', '주로', '대의', '상', '승률', '최근', '주간', '로', '단계', '상승세', '기사', '만화', '폰', '맛', '길', '꼭', '웹툰', '전기차', '충전', '요금', '왜', '이', '흐름', '하반기', '지속', '뜻', '수급', '유동성', '금리', '물가', '상승', '요인', '종합', '판단', '때', '하락', '상승', '요인', '더', '학회', '설명', '학회', '그', '중', '부동산', '시장', '공급', '부족', '이유', '꼽았다', '그', '주택', '대한', '규제', '매물', '상황', '데', '수요', '며', '가격', '고', '예측', '또', '그', '현재', '전세', '시장', '상황', '매가', '요인', '수도권', '아파트', '셋값', '역시', '올해', '내내', '대의', '비교', '주간', '상', '승률', '최근', '주간', '의', '상', '승률', '유지', '세수', '지수', '역시', '기준', '선인', '이상', '공급', '수요', '음', '확인', '학회', '전세', '역시', '임대차', '법', '요인', '수요', '비교', '공급', '때문', '전세', '시장', '우상', '향', '기조', '라며', '가격', '매매', '가격', '요인', '다만', '지방', '경우', '일부', '지역', '하락', '학회', '대구', '울산', '일부', '지역', '공급', '물량', '초과', '지역', '경제', '침체', '모습', '부동산', '시장', '안정', '기조', '고', '전망', '학회', '수도권', '부동산', '시장', '안정화', '위', '정부', '양도소득세', '종합', '부동산', '세', '부동산', '세제', '완화', '주택', '대한', '규제', '시장', '물량', '공급', '유도', '조언', '주택', '구매', '투자', '이용', '목적', '접근', '아파트', '값', '상승세', '구매', '여부', '무', '주택', '실수', '자', '고민', '상황', '앞', '더', '지금', '구매', '심리', '년', '집값', '때문', '장기', '하락', '생각', '주택', '구매', '시기', '질문', '서진', '학회', '투자', '목적', '접근', '고', '답', '부동산', '시장', '가격', '예측', '수급', '금리', '유동성', '종합', '판단', '만큼', '장기', '전망', '누구', '예측', '뜻', '풀이', '그', '주택', '투자', '이용', '개념', '며', '주택', '유무', '삶', '질', '결정', '요소', '만큼', '구매', '여부', '직주', '근접', '주거', '입지', '자금', '여력', '개인', '사정', '종합', '판단', '고', '조언', '추석', '이후', '다시', '시작', '청약', '설명', '차', '가구', '비롯', '올해', '여', '가구', '분양', '사전', '청약', '물량', '공급', '예정', '민간', '청약', '확대', '예정', '학회', '청약', '당첨', '예정', '시기', '정도', '그', '때', '부동산', '시장', '예측', '며', '현재', '시점', '인근', '지역', '아파트', '가격', '비교', '사전', '청약', '분양', '가가', '청약', '고려', '서울', '뉴스', '창', '기사', '추천', '추석', '집값', '상승', '계속', '셋값', '매매', '베스트', '추천', '뉴스', '홍준표', '생각', '좀', '대통령', '정권', '부정부패', '청소', '국민', '힘', '지지율', '국정', '농단', '사태', '이후', '최고', '치', '폭', '하락', '압구정', '한양', '자산', '마약', '아내', '한마디', '윤석열', '이재명', '주', '오차', '범위', '내', '앞서', '윤석열', '혼밥', '거나', '공약', '스트레스', '거짓말', '중국인', '건강', '보험', '혜택', '외국인', '상위', '명중', '중국인', '아프리카', '소말리아', '인근', '아덴만', '파병', '청해부대', '제', '진', '장병', '추석', '명절', '해군', '구축함', '충무공이순신함', '위', '한가위', '란', '문구', '현수막', '국민', '추석', '인사', '전하', '합참', '제공', '뉴스', '레바논', '파병', '동명부대', '추석', '연휴', '정감', '초소', '임무', '수행', '합참', '제공', '뉴스', '레바논', '파병', '동명부대', '도보', '정찰', '임무', '수행', '합참', '제공', '뉴스', '남수단', '파병', '한빛부대', '통신', '용덕', '대위', '가족', '영상통화', '합참', '제공', '뉴스', '추석', '윷놀이', '한빛부대', '장병', '합참', '제공', '뉴스', '아랍에미리트', '파병', '아크', '부대', '특수전', '연합', '훈련', '연합', '특수', '공중', '기동', '습격', '작전', '수행', '합참', '제공', '뉴스', '추석', '합동', '차례', '아크', '부대', '장병', '합참', '제공', '뉴스', '청해부대', '장병', '고속', '단정', '훈련', '합참', '제공', '뉴스', '청해부대', '제', '진', '장병', '추석', '해군', '구축함', '충무공이순신함', '안', '투호놀이', '합참', '제공', '뉴스', '아랍에미리트', '파병', '아크', '부대', '장병', '부대', '병장', '한가위', '란', '글자', '모양', '국민', '추석', '인사', '전하', '합참', '제공', '뉴스', '국민', '여러분', '한가위', '세계', '각국', '임무', '수행', '중인', '해외', '파병', '장병', '추석', '명절', '고국', '가족', '국민', '인사', '합동', '참모', '본부', '해외', '파병', '장병', '추석', '연휴', '기간', '대부분', '전과', '임무', '수행', '과거', '해외', '파병', '장병', '명절', '때', '외부', '활동', '초청', '행사', '진행', '요즘', '신종', '코로나바이러스', '감염증', '코로나', '유행', '상황', '감안', '부대', '내', '전우', '명절', '게', '합참', '설명', '기사', '만화', '폰', '맛', '길', '꼭', '웹툰', '전기차', '충전', '요금', '왜', '레바논', '유엔', '평화', '유지', '활동', '동명부대', '레바논', '평화', '유지', '단', '이번', '연휴', '평소', '정찰', '감시', '임무', '계속', '수행', '대신', '부대', '원', '틈틈이', '가족', '영상통화', '팀별', '체육', '활동', '통해', '명절', '고향', '못', '아쉬움', '계획', '동명부대', '안', '상연', '대위', '추석', '연휴', '둘째', '딸', '첫', '생일', '더', '며', '내년', '가족', '여행', '추억', '더', '고', '부대', '박', '윤주', '중사', '동명부대', '악화', '레바논', '정세', '코로나', '확산', '국민', '여러분', '응원', '힘', '평화', '유지', '임무', '이상', '수행', '중', '라며', '대한민국', '국가대표', '로서', '마지막', '최선', '다해', '임무', '완수', '고', '다짐', '아프리카', '남수단', '보르', '지역', '재건', '및', '인도', '활동', '한빛부대', '남수단', '재건', '원단', '추석', '부대', '합동', '차례', '또', '부대', '윷놀이', '제기차기', '전통', '시간', '한빛부대', '김민서', '일병', '고국', '부모님', '영상편지', '수단', '현지', '도착', '적응', '며', '좀', '더', '효도', '아들', '고', '인사', '부대', '노산', '대령', '부대', '원', '국민', '한가위', '라며', '추석', '인사', '아랍에미리트', '군', '군사', '협력', '활동', '위해', '현지', '파병', '아크', '부대', '군사훈련', '협력', '단', '내달', '연합', '훈련', '준비', '여념', '다만', '아크', '부대', '추석', '당일', '다른', '해외', '파병', '부대', '합동', '차례', '우리', '전통', '통해', '명절', '의미', '계획', '아크', '부대', '이지선', '상사', '부모님', '영상', '메시지', '파병', '생활', '동안', '며', '이제', '복귀', '얼마', '남지', '모습', '한국', '인사', '고', '말', '또', '부대', '김명', '응', '중령', '아크', '부대', '군', '교육', '훈련', '지원', '연합', '훈련', '통해', '특별', '전략', '동반', '관계', '핵심', '역할', '수행', '며', '복귀', '마지막', '날', '하나', '임무', '완수', '고', '우리', '선박', '국민', '보호', '위해', '아프리카', '소말리아', '인근', '아덴만', '해역', '파병', '청해부대', '소말리아', '해역', '호송', '전대', '도', '추석', '연휴', '기간', '임무', '수행', '계속', '간다', '청해부대', '한성훈', '중사', '부모님', '영상', '편지', '아들', '아덴만', '임무', '수행', '중', '라며', '코로나', '한국', '복귀', '사랑', '고', '인사', '부대', '이가빈', '소령', '청해부대', '진', '응원', '격려', '속', '아덴만', '선박', '호송', '우리', '국민', '보호', '위해', '최선', '다', '면서', '코로나', '속', '한가위', '란', '인사', '합참', '관계자', '해외', '파병', '부대', '장병', '여명', '추석', '중추절', '세계', '평화', '재건', '지원', '위해', '구슬', '땀', '세계', '속', '대한민국', '이름', '고', '말', '서울', '뉴스', '창', '기사', '추천', '한가위', '충성', '해외', '파병', '장병', '추석', '인사', '베스트', '추천', '뉴스', '홍준표', '생각', '좀', '대통령', '정권', '부정부패', '청소', '국민', '힘', '지지율', '국정', '농단', '사태', '이후', '최고', '치', '폭', '하락', '압구정', '한양', '자산', '마약', '아내', '한마디', '윤석열', '이재명', '주', '오차', '범위', '내', '앞서', '윤석열', '혼밥', '거나', '공약', '스트레스', '거짓말', '중국인', '건강', '보험', '혜택', '외국인', '상위', '명중', '중국인', '코로나', '중환자', '치료', '전담', '병상', '전국', '절반', '가량', '유행', '집중', '수도권', '개', '병상', '비어', '보건복지부', '중앙', '사고', '수습', '본부', '중수', '오후', '기준', '전국', '중증', '환자', '전담', '병상', '개', '가운데', '사용', '중인', '병상', '인', '나머지', '개', '입원', '병상', '중증', '환자', '전담', '병상', '코로나', '중증', '환자', '치료', '장비', '인력', '중수', '지정', '병상', '지역별', '서울', '개', '경기', '개', '인천', '개', '수도권', '개', '병상', '기사', '만화', '폰', '맛', '길', '꼭', '웹툰', '전기차', '충전', '요금', '왜', '비', '수도권', '부산', '대구', '각', '개', '충북', '개', '강원', '경남', '각', '개', '광주', '개', '전북', '개', '전남', '개', '충남', '제주', '각', '개', '울산', '개', '세종', '개', '경북', '개', '대전', '지역', '병상', '대전', '외', '울산', '충남', '대구', '경기', '서울', '지역', '빈', '병상', '비율', '전국', '평균', '중증', '호전', '악화', '환자', '위', '준', '중환자', '병상', '개', '가운데', '인', '개', '가동', '중', '개', '병상', '수도권', '지역', '가동', '률', '개', '중', '개', '중등', '증', '환자', '감염병', '전담', '병원', '병상', '전국', '개', '중', '개', '비어', '무증상', '증', '환자', '위', '전국', '생활', '치료', '센터', '곳', '전체', '정원', '중', '입소', '의', '가동', '률', '추가', '입소', '중수', '앞서', '지난', '비', '수도권', '소재', '의료', '기관', '대상', '코로나', '위', '중증', '치료', '병상', '개', '중등', '증', '병상', '개', '확보', '행정명령', '의료', '기관', '주', '이내', '시설', '공사', '마치', '배정', '병상', '확보', '이번', '행정명령', '현재', '수도권', '집중', '유행', '추석', '이후', '다른', '지역', '확산', '확', '진자', '증가', '판단', '중수', '앞서', '지난달', '수도권', '소재', '의료', '기관', '대상', '병상', '확보', '행정명령', '바', '서울', '뉴시스', '창', '기사', '추천', '코로나', '중환자', '병상', '여유', '수도권', '개', '남아', '베스트', '추천', '뉴스', '홍준표', '생각', '좀', '대통령', '정권', '부정부패', '청소', '국민', '힘', '지지율', '국정', '농단', '사태', '이후', '최고', '치', '폭', '하락', '압구정', '한양', '자산', '마약', '아내', '한마디', '윤석열', '이재명', '주', '오차', '범위', '내', '앞서', '윤석열', '혼밥', '거나', '공약', '스트레스', '거짓말', '중국인', '건강', '보험', '혜택', '외국인', '상위', '명중', '중국인']\n"
          ]
        }
      ]
    },
    {
      "cell_type": "markdown",
      "metadata": {
        "id": "ywSO2XTBnOwl"
      },
      "source": [
        "## 7) 단어 그래프출력\n",
        "- `nltk.Text(단어리스트, name='단어리스트의 이름')`"
      ]
    },
    {
      "cell_type": "code",
      "metadata": {
        "colab": {
          "base_uri": "https://localhost:8080/",
          "height": 425
        },
        "id": "QiGqHwpFjrMZ",
        "outputId": "0e523909-232f-4c6f-deae-43dfc0fc8fee"
      },
      "source": [
        "# 단어리스트의 이름 설정\n",
        "ko = nltk.Text(ko, name='추석')\n",
        "\n",
        "# 그래프 크기 지정\n",
        "plt.figure(figsize=(12,6))\n",
        "\n",
        "# 단어리스트 표시 개수\n",
        "ko.plot(50)\n",
        "plt.show()"
      ],
      "execution_count": 24,
      "outputs": [
        {
          "output_type": "display_data",
          "data": {
            "image/png": "[encoded data removed]",
            "text/plain": [
              "<Figure size 864x432 with 1 Axes>"
            ]
          },
          "metadata": {
            "needs_background": "light"
          }
        }
      ]
    },
    {
      "cell_type": "markdown",
      "metadata": {
        "id": "csOyAGsjsLe-"
      },
      "source": [
        "## 8) 워드 클라우드출력"
      ]
    },
    {
      "cell_type": "code",
      "metadata": {
        "colab": {
          "base_uri": "https://localhost:8080/",
          "height": 465
        },
        "id": "qkyRKwoEjv8E",
        "outputId": "37f993af-0d4d-4e54-c050-caf85bdc4f01"
      },
      "source": [
        "# 최빈값 200개 추출\n",
        "data = ko.vocab().most_common(200)\n",
        "\n",
        "# jupyter notebook의 경우\n",
        "# font_path='../data/NanumBarunGothic.ttf'\n",
        "\n",
        "# colab의 경우\n",
        "font_path = '/content/drive/MyDrive/Colab Notebooks/data/NanumGothic.ttf'\n",
        "\n",
        "# WordCloud생성\n",
        "wordcloud = WordCloud(font_path=font_path, relative_scaling=0.5, mask=mask,\n",
        "                     background_color='white'). generate_from_frequencies(dict(data))\n",
        "\n",
        "plt.figure(figsize=(12, 8))\n",
        "plt.imshow(wordcloud)\n",
        "plt.axis('off')\n",
        "plt.show()"
      ],
      "execution_count": 25,
      "outputs": [
        {
          "output_type": "display_data",
          "data": {
            "image/png": "[encoded data removed]",
            "text/plain": [
              "<Figure size 864x576 with 1 Axes>"
            ]
          },
          "metadata": {
            "needs_background": "light"
          }
        }
      ]
    },
    {
      "cell_type": "markdown",
      "metadata": {
        "id": "43ba6992"
      },
      "source": [
        "# 텍스트 분류\n",
        "- 텍스트 분류에는 주제를 분류하는 것 과 감성 분석이 있습니다.\n",
        "\n",
        "# 10.주제 분류\n",
        "- 문서 집합에 숨어있는 주제를 찾아내는 것\n",
        "- 머신 러닝 기반의 토픽 모델링에 자주 사용되는 기법은 LDA인데 사이킷 런에서도 제공 - 최신 버전에서만 제공\n",
        "- 텍스트기반의 머신러닝을 추가시켜주고 있습니다.\n",
        "- 주제 분류에 많이 사용되는 알고리즘은 로지스틱 회귀, SVM(Support Vector Machine), 나이브 베이즈 분류 등입니다.\n",
        "- boosting 알고리즘을 사용할 수 있지만 학습 시간이 오래 걸립니다."
      ]
    },
    {
      "cell_type": "markdown",
      "metadata": {
        "id": "UTdR1vksu9mD"
      },
      "source": [
        "## 1) 뉴스 데이터 가져오기\n",
        "- sklearn에서는 토픽 모델링을 실습할 수 있는 20newsgroups라는 데이터를 제공해주는데 2이 데이터셋에는 0개의 주제를 가진 문서들이 존재합니다.\n",
        "- 이 패키지에서는 단어의 개수를 셀 때 CounterVecorizer만 사용이 가능합니다.\n",
        "- Tfidf방식은 허용하지 않습니다. 오로지 단어의 개수만 필요합니다.\n",
        "- 특정 주제에 포함된 단어들을 확인해서 단어들이 많이 포함되어 있으면 특정한 주제라고 판단합니다.\n",
        "- 앞으로 분류를 하려면 주제를 파악해야 합니다.\n"
      ]
    },
    {
      "cell_type": "code",
      "metadata": {
        "id": "b1f748ca",
        "colab": {
          "base_uri": "https://localhost:8080/"
        },
        "outputId": "b3e24096-1f95-4a83-9487-7832747e17cd"
      },
      "source": [
        "# 데이터 확인\n",
        "from sklearn.datasets import fetch_20newsgroups\n",
        "\n",
        "news_data = fetch_20newsgroups(subset='all', random_state = 156)"
      ],
      "execution_count": 27,
      "outputs": [
        {
          "output_type": "stream",
          "name": "stderr",
          "text": [
            "Downloading 20news dataset. This may take a few minutes.\n",
            "Downloading dataset from https://ndownloader.figshare.com/files/5975967 (14 MB)\n"
          ]
        }
      ]
    },
    {
      "cell_type": "markdown",
      "metadata": {
        "id": "7Aq6OlG8vAX5"
      },
      "source": [
        "## 2) 데이터 확인"
      ]
    },
    {
      "cell_type": "code",
      "metadata": {
        "id": "53d29b05",
        "colab": {
          "base_uri": "https://localhost:8080/"
        },
        "outputId": "b3516aee-dd09-4508-94b3-45aa8c7e4ac0"
      },
      "source": [
        "print(type(news_data)) #자료형 확인\n",
        "#자료형이 내가 모르는 자료형이라면 dir(데이터)를 이용해서 사용할 수 있는 속성이나\n",
        "#메소드를 확인\n",
        "print(dir(news_data))\n",
        "print(news_data.target_names) #뉴스그룹 주제들"
      ],
      "execution_count": 28,
      "outputs": [
        {
          "output_type": "stream",
          "name": "stdout",
          "text": [
            "<class 'sklearn.utils.Bunch'>\n",
            "['DESCR', 'data', 'filenames', 'target', 'target_names']\n",
            "['alt.atheism', 'comp.graphics', 'comp.os.ms-windows.misc', 'comp.sys.ibm.pc.hardware', 'comp.sys.mac.hardware', 'comp.windows.x', 'misc.forsale', 'rec.autos', 'rec.motorcycles', 'rec.sport.baseball', 'rec.sport.hockey', 'sci.crypt', 'sci.electronics', 'sci.med', 'sci.space', 'soc.religion.christian', 'talk.politics.guns', 'talk.politics.mideast', 'talk.politics.misc', 'talk.religion.misc']\n"
          ]
        }
      ]
    },
    {
      "cell_type": "markdown",
      "metadata": {
        "id": "VafxEOHdvFCT"
      },
      "source": [
        "## 3) 클래스별 개수 확인"
      ]
    },
    {
      "cell_type": "code",
      "metadata": {
        "id": "bf2fdfdf",
        "outputId": "986664bc-c022-4f75-f367-5edcd8b868ea"
      },
      "source": [
        "#타겟을 확인\n",
        "print(pd.Series(news_data.target).value_counts().sort_index())"
      ],
      "execution_count": null,
      "outputs": [
        {
          "output_type": "stream",
          "text": [
            "0     799\n",
            "1     973\n",
            "2     985\n",
            "3     982\n",
            "4     963\n",
            "5     988\n",
            "6     975\n",
            "7     990\n",
            "8     996\n",
            "9     994\n",
            "10    999\n",
            "11    991\n",
            "12    984\n",
            "13    990\n",
            "14    987\n",
            "15    997\n",
            "16    910\n",
            "17    940\n",
            "18    775\n",
            "19    628\n",
            "dtype: int64\n"
          ],
          "name": "stdout"
        }
      ]
    },
    {
      "cell_type": "code",
      "metadata": {
        "id": "f447c180",
        "outputId": "1beadfd1-f50c-4b59-b23e-9f830dadcc70"
      },
      "source": [
        "print(news_data.data[0])"
      ],
      "execution_count": null,
      "outputs": [
        {
          "output_type": "stream",
          "text": [
            "From: egreen@east.sun.com (Ed Green - Pixel Cruncher)\n",
            "Subject: Re: Observation re: helmets\n",
            "Organization: Sun Microsystems, RTP, NC\n",
            "Lines: 21\n",
            "Distribution: world\n",
            "Reply-To: egreen@east.sun.com\n",
            "NNTP-Posting-Host: laser.east.sun.com\n",
            "\n",
            "In article 211353@mavenry.altcit.eskimo.com, maven@mavenry.altcit.eskimo.com (Norman Hamer) writes:\n",
            "> \n",
            "> The question for the day is re: passenger helmets, if you don't know for \n",
            ">certain who's gonna ride with you (like say you meet them at a .... church \n",
            ">meeting, yeah, that's the ticket)... What are some guidelines? Should I just \n",
            ">pick up another shoei in my size to have a backup helmet (XL), or should I \n",
            ">maybe get an inexpensive one of a smaller size to accomodate my likely \n",
            ">passenger? \n",
            "\n",
            "If your primary concern is protecting the passenger in the event of a\n",
            "crash, have him or her fitted for a helmet that is their size.  If your\n",
            "primary concern is complying with stupid helmet laws, carry a real big\n",
            "spare (you can put a big or small head in a big helmet, but not in a\n",
            "small one).\n",
            "\n",
            "---\n",
            "Ed Green, former Ninjaite |I was drinking last night with a biker,\n",
            "  Ed.Green@East.Sun.COM   |and I showed him a picture of you.  I said,\n",
            "DoD #0111  (919)460-8302  |\"Go on, get to know her, you'll like her!\"\n",
            " (The Grateful Dead) -->  |It seemed like the least I could do...\n",
            "\n",
            "\n"
          ],
          "name": "stdout"
        }
      ]
    },
    {
      "cell_type": "markdown",
      "metadata": {
        "id": "2P8lr5ptvLs0"
      },
      "source": [
        "## 4) 학습데이터와 테스트 데이터의 분류\n",
        "- 이 데이터는 이미 train 과 test로 분할이 되어 있고 headers 나 footers 그리고 quotes 는 예전 뉴스그룹에 사용하던 내용에 대한 정보를 가지고 있는 메타데이터이므로 제거하여 가져옵니다"
      ]
    },
    {
      "cell_type": "code",
      "metadata": {
        "id": "fea15917",
        "colab": {
          "base_uri": "https://localhost:8080/"
        },
        "outputId": "1cb8595e-6e4a-4f30-8fac-4181c835bdfb"
      },
      "source": [
        "\n",
        "train_news = fetch_20newsgroups(subset='train', \n",
        "                                remove = ('headers', 'footers', 'quotes'), \n",
        "                               random_state = 42)\n",
        "\n",
        "X_train = train_news.data\n",
        "y_train = train_news.target\n",
        "\n",
        "test_news = fetch_20newsgroups(subset='test', \n",
        "                                remove = ('headers', 'footers', 'quotes'), \n",
        "                               random_state = 42)\n",
        "\n",
        "X_test = test_news.data\n",
        "y_test = test_news.target\n",
        "\n",
        "#데이터 타입이 list\n",
        "print(type(X_train))"
      ],
      "execution_count": 29,
      "outputs": [
        {
          "output_type": "stream",
          "name": "stdout",
          "text": [
            "<class 'list'>\n"
          ]
        }
      ]
    },
    {
      "cell_type": "markdown",
      "metadata": {
        "id": "bHeNj7dYvc2M"
      },
      "source": [
        "## 5) 피처 벡터화\n",
        "- 단어들을 피처로 변환(Count 기반이 있고 TF-IDF 기반 2가지)\n",
        "- 학습 데이터 와 테스트 데이터 모두 변환해야 하는데 학습 데이터를 변환할 때사용한 객체를 이용해서 테스트 데이터도 변환해야 합니다.\n",
        "- 별도의 객체로 변환을 하게되면 단어 피처의 개수가 달라지기 때문에 모델을 평가할 수 없게 됩니다."
      ]
    },
    {
      "cell_type": "markdown",
      "metadata": {
        "id": "FhJ_IuDLxyPj"
      },
      "source": [
        "### CountVectorizer"
      ]
    },
    {
      "cell_type": "code",
      "metadata": {
        "id": "a7f3cb42",
        "outputId": "dc3cec74-65aa-4679-88f8-382c3d80c168"
      },
      "source": [
        "from sklearn.feature_extraction.text import CountVectorizer\n",
        "\n",
        "count_vectorizer = CountVectorizer()\n",
        "\n",
        "#피처 벡터화 훈련\n",
        "count_vectorizer.fit(X_train)\n",
        "#피처 벡터화 수행\n",
        "X_train_count_vector = count_vectorizer.transform(X_train)\n",
        "\n",
        "X_test_count_vector = count_vectorizer.transform(X_test)\n",
        "#구조 확인\n",
        "print(X_train_count_vector.shape)"
      ],
      "execution_count": null,
      "outputs": [
        {
          "output_type": "stream",
          "text": [
            "(11314, 101631)\n"
          ],
          "name": "stdout"
        }
      ]
    },
    {
      "cell_type": "markdown",
      "metadata": {
        "id": "t_jXqZEqxiRO"
      },
      "source": [
        "#### 로지스틱 회귀모델 적용"
      ]
    },
    {
      "cell_type": "code",
      "metadata": {
        "id": "22f7e6f7",
        "outputId": "ed454353-5822-4235-f369-703c80c6c9cf"
      },
      "source": [
        "# 분류 모델 적용\n",
        "from sklearn.linear_model import LogisticRegression\n",
        "from sklearn.metrics import accuracy_score\n",
        "\n",
        "#로지스틱 회귀 적용\n",
        "lr_clf = LogisticRegression()\n",
        "lr_clf.fit(X_train_count_vector, y_train)\n",
        "\n",
        "pred = lr_clf.predict(X_test_count_vector)\n",
        "\n",
        "print('정확도:', accuracy_score(y_test, pred))"
      ],
      "execution_count": null,
      "outputs": [
        {
          "output_type": "stream",
          "text": [
            "정확도: 0.608072225172597\n"
          ],
          "name": "stdout"
        }
      ]
    },
    {
      "cell_type": "markdown",
      "metadata": {
        "id": "ZCyHX96iyA_Z"
      },
      "source": [
        "### TfidfVectorizer"
      ]
    },
    {
      "cell_type": "code",
      "metadata": {
        "id": "0409f9a6",
        "outputId": "d88b2def-b699-4dcd-c706-a41e9c3dc4c7"
      },
      "source": [
        "# 피처 벡터화 - TF-IDF(하나의 문장에서 여러 번 등장하면 가중치를 부여하고 여러 문장에서 등장하면 페널티를 부여하는 방식)\n",
        "from sklearn.feature_extraction.text import TfidfVectorizer\n",
        "\n",
        "tf_idf_vectorizer = TfidfVectorizer()\n",
        "\n",
        "#피처 벡터화 훈련\n",
        "tf_idf_vectorizer.fit(X_train)\n",
        "#피처 벡터화 수행\n",
        "X_train_count_vector = tf_idf_vectorizer.transform(X_train)\n",
        "\n",
        "X_test_count_vector = tf_idf_vectorizer.transform(X_test)\n",
        "#구조 확인\n",
        "print(X_train_count_vector.shape)\n"
      ],
      "execution_count": null,
      "outputs": [
        {
          "output_type": "stream",
          "text": [
            "(11314, 101631)\n"
          ],
          "name": "stdout"
        }
      ]
    },
    {
      "cell_type": "markdown",
      "metadata": {
        "id": "XhnZbhnbyCyz"
      },
      "source": [
        "#### 로지스틱 회귀모델 적용"
      ]
    },
    {
      "cell_type": "code",
      "metadata": {
        "id": "2fb5338f",
        "outputId": "5496fd28-0d4a-4154-8fa7-b3fd1647d691"
      },
      "source": [
        "#로지스틱 회귀 적용\n",
        "lr_clf = LogisticRegression()\n",
        "lr_clf.fit(X_train_count_vector, y_train)\n",
        "\n",
        "pred = lr_clf.predict(X_test_count_vector)\n",
        "\n",
        "print('정확도:', accuracy_score(y_test, pred))"
      ],
      "execution_count": null,
      "outputs": [
        {
          "output_type": "stream",
          "text": [
            "정확도: 0.6736590546999469\n"
          ],
          "name": "stdout"
        }
      ]
    },
    {
      "cell_type": "markdown",
      "metadata": {
        "id": "Qp5b5ToEyIBU"
      },
      "source": [
        "### 불룡어 제거하고 tf_idf_vectorizer"
      ]
    },
    {
      "cell_type": "code",
      "metadata": {
        "id": "83e15c38",
        "outputId": "f43f8a30-0ed8-4564-95a2-140ee0ce0abe"
      },
      "source": [
        "from sklearn.feature_extraction.text import TfidfVectorizer\n",
        "\n",
        "#불용어 제거를 하고 ngram을 설정한 후 300번 이상 등장한 단어 제거\n",
        "tf_idf_vectorizer = TfidfVectorizer(stop_words='english', \n",
        "                                    ngram_range=(1,2), max_df=300)\n",
        "\n",
        "#피처 벡터화 훈련\n",
        "tf_idf_vectorizer.fit(X_train)\n",
        "#피처 벡터화 수행\n",
        "X_train_count_vector = tf_idf_vectorizer.transform(X_train)\n",
        "\n",
        "X_test_count_vector = tf_idf_vectorizer.transform(X_test)\n",
        "#구조 확인\n",
        "print(X_train_count_vector.shape)\n",
        "\n",
        "#로지스틱 회귀 적용\n",
        "lr_clf = LogisticRegression()\n",
        "lr_clf.fit(X_train_count_vector, y_train)\n",
        "\n",
        "pred = lr_clf.predict(X_test_count_vector)\n",
        "\n",
        "print('정확도:', accuracy_score(y_test, pred))\n"
      ],
      "execution_count": null,
      "outputs": [
        {
          "output_type": "stream",
          "text": [
            "(11314, 943453)\n",
            "정확도: 0.6922464152947424\n"
          ],
          "name": "stdout"
        }
      ]
    },
    {
      "cell_type": "markdown",
      "metadata": {
        "id": "PB_GX7DqyMOo"
      },
      "source": [
        "## 6) 하이퍼파라미터"
      ]
    },
    {
      "cell_type": "code",
      "metadata": {
        "id": "507478d6"
      },
      "source": [
        "# 교차검증을 이용한 최적의 하이퍼 파라미터를 찾아서 수행\n",
        "from sklearn.model_selection import GridSearchCV\n",
        "\n",
        "#하이퍼 파라미터를 변경하면서 교차 검증\n",
        "params = {'C': [0.01, 0.1, 1, 5, 10]}\n",
        "grid_cv_lr = GridSearchCV(lr_clf, param_grid = params, cv=3, scoring = 'accuracy',\n",
        "                         verbose=1)\n",
        "\n",
        "grid_cv_lr.fit(X_train_count_vector, y_train)\n",
        "\n",
        "print('최적의 파라미터:', grid_cv_lr.best_params)"
      ],
      "execution_count": null,
      "outputs": []
    },
    {
      "cell_type": "markdown",
      "metadata": {
        "id": "-cFkir7-yQB_"
      },
      "source": [
        "# 11.한글 감성 분석\n",
        "- 문장을 긍정 과 부정의 형태로 나누고 각 단어들에 문장의 긍정 과 부정여부에 따라 점수를 부여한 후 새로운 문장을 해석해야 하는 경우 각 단어의 점수를 이용해서 긍정 과 부정을 판단\n",
        "- 나이브 베이즈 분류를 이용해서 이러한 작업을 수행하는 것이 가능\n",
        "- 나이브 베이즈나 이런 분류를 이용하는 것과 유사한 형태의 지도학습 기반이 있고 비지도 학습 기반이 있습니다.\n",
        "\n",
        "    - 지도학습 기반\n",
        "        - 나는 이 식당이 친절하고 좋아요 ->  긍정\n",
        "\n",
        "    - 비지도학습 기반\n",
        "        - 나는 이 식당이 친절하고 좋아요\n",
        "\n",
        "영어는 lexicon 이라는 감성 어휘 분석 사전을 제공해서 각 어휘마다 감성 여부를 판단할 수 있는 데이터가 제공이 됩니다.\n",
        "단어별로 긍정 지수 와 부정 지수가 제공됨"
      ]
    },
    {
      "cell_type": "markdown",
      "metadata": {
        "id": "iNHh6G9py3w0"
      },
      "source": [
        "## 한글 감성 분석의 종류\n",
        "- 정규식이나 불용어 사전을 이용해서 불필요한 텍스트를 삭제\n",
        "- 단어집합을 피처벡터화하기\n",
        "- 단어의 개수세기\n"
      ]
    },
    {
      "cell_type": "markdown",
      "metadata": {
        "id": "MFLL0xMi1ejD"
      },
      "source": [
        "## 네이버 식당 리뷰 데이터를 이용한 감성 분석\n",
        "- 네이버의 리뷰를 스크래핑 해서 평점을 4이상 부여한 텍스트는 긍정으로 간주하고 4미만은 부정으로 간주해서 만든 텍스트 데이터\n",
        "- 컬럼은 score(평점), y(긍정 부정 여부로 긍정은 1 부정은 0), ko_text(리뷰 글) 3가지\n",
        "\n"
      ]
    },
    {
      "cell_type": "markdown",
      "metadata": {
        "id": "CunYL8BkyuGc"
      },
      "source": [
        "## 정규식이나 불용어 사전을 이용해서 불필요한 텍스트를 삭제"
      ]
    },
    {
      "cell_type": "markdown",
      "metadata": {
        "id": "T5_QVDxayVTk"
      },
      "source": [
        "### 1) 식당리뷰 가져오기"
      ]
    },
    {
      "cell_type": "code",
      "metadata": {
        "id": "VKC-K1IHj7rH",
        "colab": {
          "base_uri": "https://localhost:8080/"
        },
        "outputId": "a86bb757-a2d9-475c-aeec-9e477667bdd7"
      },
      "source": [
        "import pandas as pd\n",
        "# 한글 문서 감성 분석\n",
        "df = pd.read_csv('/content/drive/MyDrive/Colab Notebooks/data/review_data.csv')\n",
        "print(df)"
      ],
      "execution_count": 26,
      "outputs": [
        {
          "output_type": "stream",
          "name": "stdout",
          "text": [
            "     score                                             review  y\n",
            "0        5                                   친절하시고 깔끔하고 좋았습니다  1\n",
            "1        5                                         조용하고 고기도 굿  1\n",
            "2        4                             갈비탕과 냉면, 육회비빔밥이 맛있습니다.  1\n",
            "3        4                         대체적으로 만족하나\\n와인의 구성이 살짝 아쉬움  1\n",
            "4        5                              고기도 맛있고 서비스는 더 최고입니다~  1\n",
            "..     ...                                                ... ..\n",
            "540      3                                 추웟어요 고기 외에는 별로에요..  0\n",
            "541      1  고기질과 육전은 좋다.다만 한우손님 돼지고기 손님을 차별한다(돼지손님은 주차불가.네...  0\n",
            "542      5          직접 구워주시고 진짜맛있음. 반찬도 맛있음. 직원분이 친절하게 잘해주시네요  1\n",
            "543      4                           친절하게 서빙해주시고 음식도 챙겨주셨어요 ㅎ  1\n",
            "544      4  강남역 점례네 방문\\n육회비빔밥은 맛있었당\\n뼈삼겹도 맛있었다\\n\\n다만 부산본점이...  1\n",
            "\n",
            "[545 rows x 3 columns]\n"
          ]
        }
      ]
    },
    {
      "cell_type": "markdown",
      "metadata": {
        "id": "srw2pxsUyb8w"
      },
      "source": [
        "### 2) Regular Expression(정규 표현식)을 이용한 불필요한 텍스트 삭제\n",
        "- Perl 에서 문자열 패턴을 표현하는데 사용하기 위한 언어로 생성했는데 지금은 거의 모든 언어가 지원\n",
        "- 문자열 검색이나 편집에 이용\n",
        "- 코드는 간단하지만 가독성이 떨어져서 이해하기 어렵습니다.\n",
        "- 파이썬에서는 re 라는 모듈로 제공\n",
        "- 메타문자\n",
        "    - * : 0번 이상\n",
        "    - +: 1번 이상\n",
        "    - ?: 0번 이나 1번\n",
        "    - {m}: m번 이상\n",
        "    - {m, n}:m번에서 n 번 이상\n",
        "    - {m,}: m번 이상\n",
        "\n",
        "    - .: 줄바꿈 문자를 제외한 1개\n",
        "    - ^: '~로 시작하는' 인데 [ ] 안에서 사용이 되면 제거한다는 뜻\n",
        "    - $: '~로 끝나는' 인데 [ ]안에서는 $ \n",
        "    - [ ]: 집합인데 [abc] 는 a b c 중 에 하나 0-9 숫자, 한글 - [가-힣], 영문[a-zA-Z]\n",
        "\n",
        "    - |: 또는\n",
        "\n",
        "    - (): 그룹\n",
        "\n",
        "    - \\s: 공백문자 - \\n, \\t, \\r\n",
        "    - \\d: 숫자\n",
        "    - \\D: 숫자가 아닌\n",
        "    - \\w: 단어\n",
        "    - \\W: 단어가 아닌"
      ]
    },
    {
      "cell_type": "code",
      "metadata": {
        "colab": {
          "base_uri": "https://localhost:8080/"
        },
        "id": "0mi8DiQhA0WN",
        "outputId": "5844681e-3d95-4db2-d8c3-580c743de7d6"
      },
      "source": [
        "#앞의 데이터를 한글만 남도록 정제 - cleaning\n",
        "import re\n",
        "\n",
        "def text_cleaning(text):\n",
        "    #한글글자 정규식을 생성\n",
        "    #^는 [] 바깥에 있을 때는 시작하는 으로 사용되고 [ ] 안에 있을 때는 제외\n",
        "    hangul = re.compile('[.]+')\n",
        "    #정규식을 가지고 치환\n",
        "    #한글이 아닌 것들은 아무것도 없는 걸로 치환됩니다.\n",
        "    result = hangul.sub('', text)\n",
        "    return result\n",
        "\n",
        "df['ko_text'] = df['review'].apply(lambda x:text_cleaning(x))\n",
        "del df['review']\n",
        "print(df.head())\n"
      ],
      "execution_count": null,
      "outputs": [
        {
          "output_type": "stream",
          "text": [
            "   score  y                     ko_text\n",
            "0      5  1            친절하시고 깔끔하고 좋았습니다\n",
            "1      5  1                  조용하고 고기도 굿\n",
            "2      4  1       갈비탕과 냉면, 육회비빔밥이 맛있습니다\n",
            "3      4  1  대체적으로 만족하나\\n와인의 구성이 살짝 아쉬움\n",
            "4      5  1       고기도 맛있고 서비스는 더 최고입니다~\n"
          ],
          "name": "stdout"
        }
      ]
    },
    {
      "cell_type": "markdown",
      "metadata": {
        "id": "6WSWmffR71mm"
      },
      "source": [
        "## 💡Tips.텍스트의 구두점(부호나 기호) 제거\n",
        "\n",
        "### 방법1 maketrans사용\n",
        "- translate({A:B..}) :  A를 B로 바꾸겠다\n",
        "- string.Punctuation: 구두점(따옴표,마침표 물음표)\n",
        "- [string.maketrans(x, y, z)](https://www.w3schools.com/python/ref_string_maketrans.asp) : 문자x를 문자y 로 바꾸고 z는 제거할 준비를 해주는 함수입니다.  두 문자x와 문자y의 길이가 같아야 합니다.translate함수와 같이 쓰입니다.\n",
        "\n",
        "\n",
        "### 방법2 for문 사용\n"
      ]
    },
    {
      "cell_type": "code",
      "metadata": {
        "id": "RBTqSrNV71mn"
      },
      "source": [
        "import string\n",
        "\n",
        "s = '안녕하세요. 반갑습니다.'\n",
        "\n",
        "# 방법1\n",
        "# translate는 dict로 입력해도 됩니다.\n",
        "# maketrns(A, B) : A에 있는 문자를 B의 문자로 치환하는 함수.\n",
        "out = s.translate(str.maketrans('', '',string.punctuation))\n",
        "\n",
        "# 방법2\n",
        "out = ''.join([i for i in s if i not in string.punctuation])\n",
        "\n",
        "# 방법3\n",
        "punct = string.punctuation\n",
        "for c in punct:\n",
        "    s = s.replace(c,'')\n",
        "\n",
        "# 방법4 : 정규식표현\n",
        "#out = re.sub(r'[^\\w\\s]',s)\n",
        "#print(out)"
      ],
      "execution_count": null,
      "outputs": []
    },
    {
      "cell_type": "markdown",
      "metadata": {
        "id": "uPBphqqLAfPQ"
      },
      "source": [
        "## 단어집합을 피처벡터화하기\n",
        "- 단어의 집합을 만들고 이 집합을 피처벡터로 변환\n",
        "- `sklearn.feature_exctraction.text.CounterVectorizer`라는 클래스 이용\n",
        "- tokenzer 라는 파라미터에 전처리할 함수를 대입해주면 됩니다. \n"
      ]
    },
    {
      "cell_type": "markdown",
      "metadata": {
        "id": "Q6qpsw9uzuib"
      },
      "source": [
        "### 1) 학습용 데이터 생성"
      ]
    },
    {
      "cell_type": "code",
      "metadata": {
        "colab": {
          "base_uri": "https://localhost:8080/"
        },
        "id": "Ozg2s7Q_Bi5e",
        "outputId": "21786a9d-df03-4689-c2fd-7e55905dfbea"
      },
      "source": [
        "from sklearn.feature_extraction.text import  CountVectorizer\n",
        "\n",
        "# 한글 형태소 분석을 위한 클래스\n",
        "from konlpy.tag import Okt\n",
        "def get_pos(x):\n",
        "    # 형태소 분석기 생성\n",
        "    tagger = Okt()\n",
        "    # 문자열을 형태소 분석 - 단어와 품사의 쌍의 list로 생성\n",
        "    pos = tagger.pos(x)\n",
        "    pos = ['{}/{}'.format(word, tag) for word, tag in pos]\n",
        "\n",
        "    return pos\n",
        "\n",
        "# 한글 형태소 분석을 해서 피처화시켜주는 객체를 생성\n",
        "index_vectorizer = CountVectorizer(tokenizer= lambda x:get_pos(x))\n",
        "# 훈련 - 형태소 분석기에 있는 단어들만 추출\n",
        "X = index_vectorizer.fit_transform(df['ko_text'].tolist())\n",
        "X.shape"
      ],
      "execution_count": null,
      "outputs": [
        {
          "output_type": "execute_result",
          "data": {
            "text/plain": [
              "(545, 3123)"
            ]
          },
          "metadata": {
            "tags": []
          },
          "execution_count": 32
        }
      ]
    },
    {
      "cell_type": "markdown",
      "metadata": {
        "id": "f5VhUALVEHXp"
      },
      "source": [
        "### 2) 피처 몇개만 확인\n",
        "'단어/품사':몇번째"
      ]
    },
    {
      "cell_type": "code",
      "metadata": {
        "colab": {
          "base_uri": "https://localhost:8080/"
        },
        "id": "SooSqKKiB3UI",
        "outputId": "fdfbe6f1-4c23-49e8-f9db-e20e7193d443"
      },
      "source": [
        "print(str(index_vectorizer.vocabulary_)[:50] + '..')"
      ],
      "execution_count": null,
      "outputs": [
        {
          "output_type": "stream",
          "text": [
            "{'친절하시고/Adjective': 2731, '깔끔하고/Adjective': 526, '..\n"
          ],
          "name": "stdout"
        }
      ]
    },
    {
      "cell_type": "code",
      "metadata": {
        "colab": {
          "base_uri": "https://localhost:8080/"
        },
        "id": "d-xMTI5ZD4gc",
        "outputId": "2560ded9-b559-4d89-c768-80fa4e9b9d71"
      },
      "source": [
        "print(df['ko_text'][:5])"
      ],
      "execution_count": null,
      "outputs": [
        {
          "output_type": "stream",
          "text": [
            "0              친절하시고 깔끔하고 좋았습니다\n",
            "1                    조용하고 고기도 굿\n",
            "2         갈비탕과 냉면, 육회비빔밥이 맛있습니다\n",
            "3    대체적으로 만족하나\\n와인의 구성이 살짝 아쉬움\n",
            "4         고기도 맛있고 서비스는 더 최고입니다~\n",
            "Name: ko_text, dtype: object\n"
          ],
          "name": "stdout"
        }
      ]
    },
    {
      "cell_type": "code",
      "metadata": {
        "colab": {
          "base_uri": "https://localhost:8080/"
        },
        "id": "7dOMlcQtEULi",
        "outputId": "8d3afd5c-a3e3-474b-c775-3c8cdc2995d0"
      },
      "source": [
        "print(X[0])"
      ],
      "execution_count": null,
      "outputs": [
        {
          "output_type": "stream",
          "text": [
            "  (0, 2731)\t1\n",
            "  (0, 526)\t1\n",
            "  (0, 2492)\t1\n"
          ],
          "name": "stdout"
        }
      ]
    },
    {
      "cell_type": "markdown",
      "metadata": {
        "id": "7BslUS0kEUkw"
      },
      "source": [
        "\n",
        "## 단어의 개수세기\n",
        "- 단순하게 단어의 개수를 세는 알고리즘이 2가지 있습니다.\n",
        "    - TF-IDF : 하나의 문장에서 여러번 등장하면 가중치를 부여하고 여러 문장에서 등장하면 페널티를 제공하는 방식입니다. 은, 는, 이가 처럼 중요하지 않아 어느 문장에서든지 자주 나타는 단어들에 페널티를 제공하는 것입니다.\n",
        "- sklearn의 TfidfTransformer 사용합니다\n",
        "\n",
        "1. 피처의 중요도 설정\n",
        "2. 분류방식 선정 : 감성분석은 회귀가 아닌 분류로 합니다.\n",
        "\n"
      ]
    },
    {
      "cell_type": "markdown",
      "metadata": {
        "id": "dyLFsIh43ITd"
      },
      "source": [
        "### 1) TF-IDF를 이용해서 피처의 중요도 설정"
      ]
    },
    {
      "cell_type": "code",
      "metadata": {
        "colab": {
          "base_uri": "https://localhost:8080/"
        },
        "id": "oB0HHgiwGiL9",
        "outputId": "4c669c4a-0bae-46fb-d740-0e5224a363b0"
      },
      "source": [
        "from sklearn.feature_extraction.text import TfidfTransformer\n",
        "\n",
        "tfidf_vectorizer = TfidfTransformer()\n",
        "\n",
        "X = tfidf_vectorizer.fit_transform(X)\n",
        "print(X[0])"
      ],
      "execution_count": null,
      "outputs": [
        {
          "output_type": "stream",
          "text": [
            "  (0, 2731)\t0.551052548999187\n",
            "  (0, 2492)\t0.49104748838284784\n",
            "  (0, 526)\t0.6746950810509851\n"
          ],
          "name": "stdout"
        }
      ]
    },
    {
      "cell_type": "markdown",
      "metadata": {
        "id": "4ugx6E51IHR9"
      },
      "source": [
        "### 2) 분류를 위한 훈련데이터와 학습데이터 생성"
      ]
    },
    {
      "cell_type": "code",
      "metadata": {
        "colab": {
          "base_uri": "https://localhost:8080/"
        },
        "id": "2Ozu_fUpGuuE",
        "outputId": "e90c499e-52ef-4723-ae17-b83c21b05185"
      },
      "source": [
        "from sklearn.model_selection import train_test_split\n",
        "y=df['y']\n",
        "X_train, X_test, y_train, y_test = train_test_split(X, y, test_size=0.3)\n",
        "print(X_train.shape)\n",
        "print(X_test.shape)"
      ],
      "execution_count": null,
      "outputs": [
        {
          "output_type": "stream",
          "text": [
            "(381, 3123)\n",
            "(164, 3123)\n"
          ],
          "name": "stdout"
        }
      ]
    },
    {
      "cell_type": "markdown",
      "metadata": {
        "id": "andEExF_I0jd"
      },
      "source": [
        "### 3) 로지스틱 회귀모델를 이용한 분류"
      ]
    },
    {
      "cell_type": "code",
      "metadata": {
        "id": "rrNlBsbfHjNm"
      },
      "source": [
        "from sklearn.linear_model import LogisticRegression\n",
        "\n",
        "# 훈련\n",
        "lr = LogisticRegression(random_state = 42)\n",
        "lr.fit(X_train, y_train)\n",
        "\n",
        "# 예측\n",
        "y_pred = lr.predict(X_test)\n",
        "y_pred_probability = lr.predict_proba(X_test)[:,1]"
      ],
      "execution_count": null,
      "outputs": []
    },
    {
      "cell_type": "markdown",
      "metadata": {
        "id": "nwUsI9guIv9M"
      },
      "source": [
        "### 4) 평가 지표 확인\n"
      ]
    },
    {
      "cell_type": "code",
      "metadata": {
        "colab": {
          "base_uri": "https://localhost:8080/"
        },
        "id": "jORHLwqRL4rf",
        "outputId": "e5dccb02-bcf4-4a37-a034-9d05a1165b3c"
      },
      "source": [
        "from sklearn.metrics import accuracy_score, precision_score ,recall_score, f1_score\n",
        "\n",
        "print('정확도:', accuracy_score(y_test, y_pred))\n",
        "print('정밀도:', precision_score(y_test, y_pred))\n",
        "print('재현율:', recall_score(y_test, y_pred))\n",
        "print('f1_score:', f1_score(y_test, y_pred))\n",
        "\n",
        "from sklearn.metrics import roc_auc_score\n",
        "print('AUC', roc_auc_score(y_test, y_pred_probability))\n"
      ],
      "execution_count": null,
      "outputs": [
        {
          "output_type": "stream",
          "text": [
            "정확도: 0.926829268292683\n",
            "정밀도: 0.926829268292683\n",
            "재현율: 1.0\n",
            "f1_score: 0.9620253164556963\n",
            "AUC 0.9078947368421053\n"
          ],
          "name": "stdout"
        }
      ]
    },
    {
      "cell_type": "markdown",
      "metadata": {
        "id": "3zBb_XDMN12f"
      },
      "source": [
        "### 5) 오차 행렬(분류에서 제대로 분류했는지 확인하는 테이블)을 확인\n"
      ]
    },
    {
      "cell_type": "code",
      "metadata": {
        "colab": {
          "base_uri": "https://localhost:8080/"
        },
        "id": "yARE6XyhMVv1",
        "outputId": "47c62416-2e9d-46c4-dcf9-02d40b8b2847"
      },
      "source": [
        "from sklearn.metrics import confusion_matrix\n",
        "\n",
        "cof_matirx = confusion_matrix(y_test, y_pred)\n",
        "print(cof_matirx)"
      ],
      "execution_count": null,
      "outputs": [
        {
          "output_type": "stream",
          "text": [
            "[[  0  12]\n",
            " [  0 152]]\n"
          ],
          "name": "stdout"
        }
      ]
    },
    {
      "cell_type": "markdown",
      "metadata": {
        "id": "fvxFFObwOgcG"
      },
      "source": [
        "- 오차행렬을 출력해보니 0인 예측데이터가 없는데 **레이블의 편향 때문입니다.**\n"
      ]
    },
    {
      "cell_type": "code",
      "metadata": {
        "colab": {
          "base_uri": "https://localhost:8080/"
        },
        "id": "MP3I3ySyN9ux",
        "outputId": "8908b29b-847e-43d3-a01f-bd3e7376f68c"
      },
      "source": [
        "print(y_pred)"
      ],
      "execution_count": null,
      "outputs": [
        {
          "output_type": "stream",
          "text": [
            "[1 1 1 1 1 1 1 1 1 1 1 1 1 1 1 1 1 1 1 1 1 1 1 1 1 1 1 1 1 1 1 1 1 1 1 1 1\n",
            " 1 1 1 1 1 1 1 1 1 1 1 1 1 1 1 1 1 1 1 1 1 1 1 1 1 1 1 1 1 1 1 1 1 1 1 1 1\n",
            " 1 1 1 1 1 1 1 1 1 1 1 1 1 1 1 1 1 1 1 1 1 1 1 1 1 1 1 1 1 1 1 1 1 1 1 1 1\n",
            " 1 1 1 1 1 1 1 1 1 1 1 1 1 1 1 1 1 1 1 1 1 1 1 1 1 1 1 1 1 1 1 1 1 1 1 1 1\n",
            " 1 1 1 1 1 1 1 1 1 1 1 1 1 1 1 1]\n"
          ],
          "name": "stdout"
        }
      ]
    },
    {
      "cell_type": "markdown",
      "metadata": {
        "id": "dJ5SYwChOY8B"
      },
      "source": [
        "### 🚩감성분석할 때 주의할 점\n",
        "- 레이블의 분포 확인 : 분류를 할 때는 전처리 이전에 반드시 특정 레이블에 데이터가 집중되었는지 분포를 확인해봐야 합니다. \n",
        "- 샘플링 비율 수정 : 샘플링할 때 언더 샘플링이나 오버 샘플링을 이용해서 샘플링 비율을 수정해야 합니다.\n",
        "\n",
        "- 원본데이터를 확인해보니 역시나 데이터의 분포가 1에 집중되어 있습니다."
      ]
    },
    {
      "cell_type": "code",
      "metadata": {
        "colab": {
          "base_uri": "https://localhost:8080/"
        },
        "id": "DR1JJZNoO9Gt",
        "outputId": "f77c902d-90b0-4c46-a80c-bad5e75c1c58"
      },
      "source": [
        "print(df['y'].value_counts)"
      ],
      "execution_count": null,
      "outputs": [
        {
          "output_type": "stream",
          "text": [
            "<bound method IndexOpsMixin.value_counts of 0      1\n",
            "1      1\n",
            "2      1\n",
            "3      1\n",
            "4      1\n",
            "      ..\n",
            "540    0\n",
            "541    0\n",
            "542    1\n",
            "543    1\n",
            "544    1\n",
            "Name: y, Length: 545, dtype: int64>\n"
          ],
          "name": "stdout"
        }
      ]
    },
    {
      "cell_type": "markdown",
      "metadata": {
        "id": "zm-lXpozR4VW"
      },
      "source": [
        "### 6) 샘플링하고 재훈련"
      ]
    },
    {
      "cell_type": "code",
      "metadata": {
        "colab": {
          "base_uri": "https://localhost:8080/"
        },
        "id": "RfVT_i-BPjp7",
        "outputId": "c5507115-9c41-4dc6-90d8-a4ca2967a1aa"
      },
      "source": [
        "positive_random_idx = df[df['y'] == 1].sample(50, random_state = 42).index.tolist()\n",
        "negative_random_idx = df[df['y'] == 0].sample(50, random_state = 42).index.tolist()\n",
        "\n",
        "# 인덱스 합치기\n",
        "random_idx = positive_random_idx + negative_random_idx\n",
        "\n",
        "sample_X = X[random_idx, :]\n",
        "y = df['y'][random_idx]"
      ],
      "execution_count": null,
      "outputs": [
        {
          "output_type": "stream",
          "text": [
            "(70, 3123)\n",
            "(30, 3123)\n"
          ],
          "name": "stdout"
        }
      ]
    },
    {
      "cell_type": "code",
      "metadata": {
        "colab": {
          "base_uri": "https://localhost:8080/"
        },
        "id": "QT9be0uoQEnd",
        "outputId": "c8a61e8b-cc7a-4bfc-e600-cafa3a3d3183"
      },
      "source": [
        "X_train, X_test, y_train, y_test = train_test_split(sample_X, y, test_size=0.3)\n",
        "print(X_train.shape)\n",
        "print(X_test.shape)\n",
        "\n",
        "# 훈련\n",
        "lr = LogisticRegression(random_state = 42)\n",
        "lr.fit(X_train, y_train)\n",
        "\n",
        "# 예측\n",
        "y_pred = lr.predict(X_test)\n",
        "y_pred_probability = lr.predict_proba(X_test)[:,1]"
      ],
      "execution_count": null,
      "outputs": [
        {
          "output_type": "stream",
          "text": [
            "(70, 3123)\n",
            "(30, 3123)\n"
          ],
          "name": "stdout"
        }
      ]
    },
    {
      "cell_type": "markdown",
      "metadata": {
        "id": "LFubDyub4UJm"
      },
      "source": [
        "### 7) 성능지표 확인\n",
        "- 성능지표를 출력해보니 샘플링을 하기 전보다 성능이 떨어지게 됩니다."
      ]
    },
    {
      "cell_type": "code",
      "metadata": {
        "colab": {
          "base_uri": "https://localhost:8080/"
        },
        "id": "z1nPgNLMQiFr",
        "outputId": "b5bc5cb1-9d7a-4f19-b0d9-eab5c8adf393"
      },
      "source": [
        "print('정확도:', accuracy_score(y_test, y_pred))\n",
        "print('정밀도:', precision_score(y_test, y_pred))\n",
        "print('재현율:', recall_score(y_test, y_pred))\n",
        "print('f1_score:', f1_score(y_test, y_pred))\n",
        "\n",
        "from sklearn.metrics import roc_auc_score\n",
        "print('AUC', roc_auc_score(y_test, y_pred_probability))\n"
      ],
      "execution_count": null,
      "outputs": [
        {
          "output_type": "stream",
          "text": [
            "정확도: 0.7\n",
            "정밀도: 0.7692307692307693\n",
            "재현율: 0.625\n",
            "f1_score: 0.6896551724137931\n",
            "AUC 0.8214285714285714\n"
          ],
          "name": "stdout"
        }
      ]
    },
    {
      "cell_type": "markdown",
      "metadata": {
        "id": "NIeAbyJkRldr"
      },
      "source": [
        "- 오차행렬을 출력해보니 예측0인 경우도 잘 나오고 있습니다."
      ]
    },
    {
      "cell_type": "code",
      "metadata": {
        "colab": {
          "base_uri": "https://localhost:8080/"
        },
        "id": "qFFsQuwlQiZ0",
        "outputId": "414c8d3c-1160-44a3-d2df-f1526a67d718"
      },
      "source": [
        "cof_matirx = confusion_matrix(y_test, y_pred)\n",
        "print(cof_matirx)"
      ],
      "execution_count": null,
      "outputs": [
        {
          "output_type": "stream",
          "text": [
            "[[11  3]\n",
            " [ 6 10]]\n"
          ],
          "name": "stdout"
        }
      ]
    },
    {
      "cell_type": "markdown",
      "metadata": {
        "id": "nWN_sUR_RJuF"
      },
      "source": [
        "### 8) 회귀계수 출력\n",
        "- 회귀계수 : 독립변수(feature)가 한 단위 변화함에 따라 종속변수(label)에 미치는 영향력 크기\n",
        "- 영향력의 크기이므로 피처의 중요도라고도 할 수 있습니다.\n"
      ]
    },
    {
      "cell_type": "code",
      "metadata": {
        "colab": {
          "base_uri": "https://localhost:8080/"
        },
        "id": "-6SfmXf3SHQL",
        "outputId": "77808a69-39f5-4d91-e643-d33fd1edcd95"
      },
      "source": [
        "print('회귀계수가 높은 것 5개')\n",
        "print(sorted(((value, index) for index, value in  enumerate(lr.coef_[0])),reverse = True)[:5])\n",
        "print('# 회귀계수가 낮은 것 5개')\n",
        "print(sorted(((value, index) for index, value in  enumerate(lr.coef_[0])), reverse=False)[:5])"
      ],
      "execution_count": null,
      "outputs": [
        {
          "output_type": "stream",
          "text": [
            "회귀계수가 높은 것 5개\n",
            "[(0.5049185859497618, 1054), (0.489669127261126, 1110), (0.41332804852705146, 816), (0.38437620311673504, 2294), (0.35360894891864575, 1106)]\n",
            "# 회귀계수가 낮은 것 5개\n",
            "[(-0.7363040012616839, 2158), (-0.5100165140632658, 1073), (-0.44636961994997504, 2159), (-0.40064631687415114, 2403), (-0.39553349114386294, 497)]\n"
          ],
          "name": "stdout"
        }
      ]
    },
    {
      "cell_type": "markdown",
      "metadata": {
        "id": "X9ovKVbRWP2J"
      },
      "source": [
        "vocabulary_ : 문서-단어 행렬에서 각각의 열(column)이 의미"
      ]
    },
    {
      "cell_type": "code",
      "metadata": {
        "colab": {
          "base_uri": "https://localhost:8080/"
        },
        "id": "yC8IJLIHSPFl",
        "outputId": "f2bbedce-579d-4b5a-bd36-43c3dd55f0e9"
      },
      "source": [
        "# # 회귀계수가 높은 순서대로 단어를 출력\n",
        "# coef_pos_index = sorted(((value, index) for index, value in enumerate(lr.coef_[0])),reverse = True)\n",
        "\n",
        "# 회귀 모델의 계수를 이용해서 어떤 형태소인지 알아내기\n",
        "invert_index_vectorizer = {v:k for k,v in index_vectorizer.vocabulary_.items()}\n",
        "print(str(invert_index_vectorizer)[:100] + '..')\n",
        "\n",
        "coef_neg_index =sorted(((value, index) for index, value in  enumerate(lr.coef_[0])), reverse=True)\n",
        "\n",
        "# 회귀 모델의 계수를 이용해서 어떤 형태소인지 알아내기\n",
        "invert_index_vectorizer = {v:k for k,v in index_vectorizer.vocabulary_.items()}\n",
        "print(str(invert_index_vectorizer)[-100:] + '..')"
      ],
      "execution_count": null,
      "outputs": [
        {
          "output_type": "stream",
          "text": [
            "{2731: '친절하시고/Adjective', 526: '깔끔하고/Adjective', 2492: '좋았습니다/Adjective', 2446: '조용하고/Adjective', 33..\n",
            "점례/Noun', 642: '네/Josa', 1119: '맛있었당/Adjective', 1464: '부산/Noun', 2190: '이랑은/Josa', 2823: '틀림/Noun'}..\n"
          ],
          "name": "stdout"
        }
      ]
    },
    {
      "cell_type": "code",
      "metadata": {
        "id": "7QbQVRHKTWbU"
      },
      "source": [
        "invert_index_vectorizer"
      ],
      "execution_count": null,
      "outputs": []
    },
    {
      "cell_type": "markdown",
      "metadata": {
        "id": "Bw3fvViJ4lbb"
      },
      "source": [
        "```\n",
        "{2731: '친절하시고/Adjective',\n",
        " 526: '깔끔하고/Adjective',\n",
        " 2492: '좋았습니다/Adjective',\n",
        " 2446: '조용하고/Adjective',\n",
        " 333: '고기/Noun',\n",
        " 816: '도/Josa',\n",
        " 427: '굿/Noun',\n",
        " 221: '갈비탕/Noun',\n",
        " 357: '과/Josa',\n",
        " 626: '냉면/Noun',\n",
        " 15: ',/Punctuation',\n",
        " ...\n",
        " ```"
      ]
    },
    {
      "cell_type": "markdown",
      "metadata": {
        "id": "_doHsjT7WZRg"
      },
      "source": [
        "# HTML 데이터 스크래핑과 파싱\n",
        "1. 스크래핑\n",
        "- requests : 정적인 데이터 - 변하지 않는 데이터(ajax나 로그인을 사용하지 않는 데이터)\n",
        "- selenium : ajax나 login 이 필요한 데이터\n",
        "\n",
        "2. 파싱\n",
        "- beatifulsoup이용\n"
      ]
    },
    {
      "cell_type": "markdown",
      "metadata": {
        "id": "dZFZ1t8pdeV-"
      },
      "source": [
        "# 네이버 영화 리뷰 감성 분석\n",
        "- csv 파일에 id, document. label의 형태로 저장\n",
        "- id가 영화의 구별id이고 document가 리뷰, label이 감성 부정이 0, 긍정이 1\n",
        "- 텍스트 데이터의 구분자는 탭(옛날데이터들은 탭 구분자가 많습니다.)\n"
      ]
    },
    {
      "cell_type": "markdown",
      "metadata": {
        "id": "qG_X9N4k487K"
      },
      "source": [
        "### 1) 데이터 읽어오기"
      ]
    },
    {
      "cell_type": "code",
      "metadata": {
        "colab": {
          "base_uri": "https://localhost:8080/"
        },
        "id": "U82IoLASeWzS",
        "outputId": "36cd5293-4b97-4e0d-a887-ecdb092be805"
      },
      "source": [
        "train_df = pd.read_csv('/content/drive/MyDrive/Colab Notebooks/data/naver_movie/ratings_train.txt', sep='\\t')\n",
        "print(train_df.head())\n",
        "test_df = pd.read_csv('/content/drive/MyDrive/Colab Notebooks/data/naver_movie/ratings_test.txt', sep='\\t')\n",
        "print(test_df.head())"
      ],
      "execution_count": 35,
      "outputs": [
        {
          "output_type": "stream",
          "name": "stdout",
          "text": [
            "         id                                           document  label\n",
            "0   9976970                                아 더빙.. 진짜 짜증나네요 목소리      0\n",
            "1   3819312                  흠...포스터보고 초딩영화줄....오버연기조차 가볍지 않구나      1\n",
            "2  10265843                                  너무재밓었다그래서보는것을추천한다      0\n",
            "3   9045019                      교도소 이야기구먼 ..솔직히 재미는 없다..평점 조정      0\n",
            "4   6483659  사이몬페그의 익살스런 연기가 돋보였던 영화!스파이더맨에서 늙어보이기만 했던 커스틴 ...      1\n",
            "        id                                           document  label\n",
            "0  6270596                                                굳 ㅋ      1\n",
            "1  9274899                               GDNTOPCLASSINTHECLUB      0\n",
            "2  8544678             뭐야 이 평점들은.... 나쁘진 않지만 10점 짜리는 더더욱 아니잖아      0\n",
            "3  6825595                   지루하지는 않은데 완전 막장임... 돈주고 보기에는....      0\n",
            "4  6723715  3D만 아니었어도 별 다섯 개 줬을텐데.. 왜 3D로 나와서 제 심기를 불편하게 하죠??      0\n"
          ]
        }
      ]
    },
    {
      "cell_type": "markdown",
      "metadata": {
        "id": "NtkgL2q8fRgu"
      },
      "source": [
        "### 2) 분포 확인\n",
        " - 비율이 한쪽으로 쏠려있지 않은지 확인합니다.\n",
        " - 비율이 맞지 않으면 오버 샘플링이나 언더 샘플링을 해야 합니다."
      ]
    },
    {
      "cell_type": "code",
      "metadata": {
        "colab": {
          "base_uri": "https://localhost:8080/"
        },
        "id": "ySrBBDhcenvo",
        "outputId": "fbf7be4f-37cd-4398-f174-47327099784c"
      },
      "source": [
        "print(train_df['label'].value_counts())\n",
        "print(test_df['label'].value_counts())"
      ],
      "execution_count": 36,
      "outputs": [
        {
          "output_type": "stream",
          "name": "stdout",
          "text": [
            "0    75173\n",
            "1    74827\n",
            "Name: label, dtype: int64\n",
            "1    25173\n",
            "0    24827\n",
            "Name: label, dtype: int64\n"
          ]
        }
      ]
    },
    {
      "cell_type": "code",
      "metadata": {
        "colab": {
          "base_uri": "https://localhost:8080/"
        },
        "id": "VgcEO-R_fYI0",
        "outputId": "b7c70e2a-8995-4c57-d765-9de1d5b1ca7a"
      },
      "source": [
        "print(train_df['document'].head())\n",
        "print(test_df['document'].head())"
      ],
      "execution_count": null,
      "outputs": [
        {
          "output_type": "stream",
          "text": [
            "0                                  아 더빙.. 진짜 짜증나네요 목소리\n",
            "1                    흠...포스터보고 초딩영화줄....오버연기조차 가볍지 않구나\n",
            "2                                    너무재밓었다그래서보는것을추천한다\n",
            "3                        교도소 이야기구먼 ..솔직히 재미는 없다..평점 조정\n",
            "4    사이몬페그의 익살스런 연기가 돋보였던 영화!스파이더맨에서 늙어보이기만 했던 커스틴 ...\n",
            "Name: document, dtype: object\n"
          ],
          "name": "stdout"
        }
      ]
    },
    {
      "cell_type": "markdown",
      "metadata": {
        "id": "hfMsKSCKfssb"
      },
      "source": [
        "### 3) 한글 전처리\n",
        "\n"
      ]
    },
    {
      "cell_type": "markdown",
      "metadata": {
        "id": "cvrU5pNr5W_F"
      },
      "source": [
        "#### 결측치 처리\n",
        "- None을 공백으로 변환하기"
      ]
    },
    {
      "cell_type": "code",
      "metadata": {
        "id": "EMKsKW7Vf93J"
      },
      "source": [
        "train_df = train_df.fillna(' ')\n",
        "test_df = test_df.fillna(' ')"
      ],
      "execution_count": 37,
      "outputs": []
    },
    {
      "cell_type": "markdown",
      "metadata": {
        "id": "1fThrFxPf-Pt"
      },
      "source": [
        "#### 숫자형 데이터 처리\n",
        "- 숫자를 전부 공백으로 치환"
      ]
    },
    {
      "cell_type": "code",
      "metadata": {
        "colab": {
          "base_uri": "https://localhost:8080/"
        },
        "id": "CIH3-SvogMyo",
        "outputId": "531c7fb2-d411-4d5d-e728-6e56e0a83bc2"
      },
      "source": [
        "import re\n",
        "# 문자열을 사용할 때 r이나 b 를 앞에 붙이는 경우가 있는데 이 경우는 \n",
        "# 문자열을 있는 그대로 해석해 달라고 하는 것입니다.\n",
        "# \\d는 숫자를 공백으로 치환\n",
        "train_df['document'] = train_df['document'].apply(lambda x:re.sub(r'[\\d+\\.]',' ',x))\n",
        "train_df['document']\n",
        "\n",
        "test_df['document'] = test_df['document'].apply(lambda x:re.sub(r'[\\d+\\.]',' ',x))\n",
        "test_df['document']"
      ],
      "execution_count": 38,
      "outputs": [
        {
          "output_type": "execute_result",
          "data": {
            "text/plain": [
              "0                                                      굳 ㅋ\n",
              "1                                     GDNTOPCLASSINTHECLUB\n",
              "2                   뭐야 이 평점들은     나쁘진 않지만   점 짜리는 더더욱 아니잖아\n",
              "3                         지루하지는 않은데 완전 막장임    돈주고 보기에는    \n",
              "4         D만 아니었어도 별 다섯 개 줬을텐데   왜  D로 나와서 제 심기를 불편하게 하죠??\n",
              "                               ...                        \n",
              "49995            오랜만에 평점 로긴했네ㅋㅋ 킹왕짱 쌈뽕한 영화를 만났습니다 강렬하게 육쾌함\n",
              "49996         의지 박약들이나 하는거다 탈영은 일단 주인공 김대희 닮았고 이등병 찐따 OOOO\n",
              "49997                   그림도 좋고 완성도도 높았지만    보는 내내 불안하게 만든다\n",
              "49998       절대 봐서는 안 될 영화   재미도 없고 기분만 잡치고   한 세트장에서 다 해먹네\n",
              "49999                                           마무리는 또 왜이래\n",
              "Name: document, Length: 50000, dtype: object"
            ]
          },
          "metadata": {},
          "execution_count": 38
        }
      ]
    },
    {
      "cell_type": "markdown",
      "metadata": {
        "id": "QgBzApC5kmqN"
      },
      "source": [
        "### 4) 한글 형태소 분석을 위한 함수생성"
      ]
    },
    {
      "cell_type": "code",
      "metadata": {
        "id": "Jf2hO_vwiO6O"
      },
      "source": [
        "from konlpy.tag import Twitter\n",
        "twitter = Twitter()\n",
        "\n",
        "def tw_tokenizer(text) :\n",
        "    tokens_ko = twitter.morphs(text)\n",
        "    return tokens_ko"
      ],
      "execution_count": 39,
      "outputs": []
    },
    {
      "cell_type": "markdown",
      "metadata": {
        "id": "5THomPr4j_ac"
      },
      "source": [
        "### 5) 피처 벡터화\n",
        "- 조금 시간이 걸림.문서가 많거나 단어가 많으면 오래 걸립니다."
      ]
    },
    {
      "cell_type": "code",
      "metadata": {
        "id": "3uB26LTzjTuG"
      },
      "source": [
        "from sklearn.feature_extraction.text import TfidfVectorizer\n",
        "# ngraom_range : 최소,최대\n",
        "tfidf_vect = TfidfVectorizer(tokenizer=tw_tokenizer, ngram_range=(1,2),\n",
        "                             min_df=3, max_df=0.9)\n",
        "tfidf_vect.fit(train_df['document'])\n",
        "tfidf_matrix_train = tfidf_vect.transform(train_df['document'])"
      ],
      "execution_count": null,
      "outputs": []
    },
    {
      "cell_type": "markdown",
      "metadata": {
        "id": "porEuQ8Z5dH7"
      },
      "source": [
        "### 6) 로지스틱 회귀모델 수행"
      ]
    },
    {
      "cell_type": "code",
      "metadata": {
        "id": "02lzUFxakUGF"
      },
      "source": [
        "# 로지스틱 회귀 수행\n",
        "lr = LogisticRegression(random_state=42)\n",
        "lr.fit(tfidf_matrix_train, train_df['label'])"
      ],
      "execution_count": null,
      "outputs": []
    },
    {
      "cell_type": "markdown",
      "metadata": {
        "id": "uf_g6DMZoPZM"
      },
      "source": [
        "### 7) 평가\n"
      ]
    },
    {
      "cell_type": "code",
      "metadata": {
        "id": "M1dQSfauoZrb"
      },
      "source": [
        "tfidf_matrix_test = tfidf_vect.fit(test_df['document']) \n",
        "preds = lr.predict(tfidf_matrix_test)\n",
        "print(accuracy_score(test_df['label']))"
      ],
      "execution_count": null,
      "outputs": []
    },
    {
      "cell_type": "markdown",
      "metadata": {
        "id": "iEQ1iuiVorY1"
      },
      "source": [
        "### 8) 하이퍼파라미터 튜닝\n",
        "실제 분류 모델을 만들 때는 최적의 하이퍼 파라미터를 찾아야 합니다."
      ]
    },
    {
      "cell_type": "code",
      "metadata": {
        "id": "g-6iKHO3o36I"
      },
      "source": [
        "from sklearn.model_selection import GridSearchCV\n",
        "lr = LogisticRegression(random_state=42)\n",
        "params = {'C' : {1, 3.5, 4.5, 5.5, 10}}\n",
        "grid_cv = GridSearchCV(lr, param_grid=params, cv=3, scoring='accuracy',\n",
        "                       verbose=1)\n",
        "\n",
        "grid_cv.fit(tfidf_matrix_train, train_df['label'])\n",
        "print(grid_cv.best_params_, grid_cv.best_score)"
      ],
      "execution_count": null,
      "outputs": []
    },
    {
      "cell_type": "markdown",
      "metadata": {
        "id": "lsgWp80ypyvn"
      },
      "source": [
        "### 9) 평가 지표를 확인"
      ]
    },
    {
      "cell_type": "code",
      "metadata": {
        "id": "CswQsqcIp3XX"
      },
      "source": [
        "tfid_matrix_test = tfidf_vect.transform(test_df['document'])\n",
        "best_estimater = grid_cv.best_estimator_\n",
        "print('정확도:', accuracy_score(test_df['label'],preds))"
      ],
      "execution_count": null,
      "outputs": []
    },
    {
      "cell_type": "markdown",
      "metadata": {
        "id": "PRKNYd5m6oRl"
      },
      "source": [
        "# ==============================복습====================================="
      ]
    },
    {
      "cell_type": "markdown",
      "metadata": {
        "id": "3J7TpYB2qshn"
      },
      "source": [
        "# 토픽 모델링\n",
        "- 문서 집합에 숨어있는 주제를 찾아내는 것\n",
        "- 머신 러닝 기반의 토픽 모델링에 자주 사용되는 기법은 LDA인데 사이킷 런에서도 제공 - 최신 버전에서만 제공\n",
        "- 텍스트기반의 머신러닝을 추가시켜주고 있습니다.\n",
        "- sklearn에서는 토픽 모델링을 실습할 수 있는 20newsgroups라는 데이터를 제공해주는데 2이 데이터셋에는 0개의 주제를 가진 문서들이 존재합니다.\n",
        "- 이 패키지에서는 단어의 개수를 셀 때 CounterVecorizer만 사용이 가능합니다.\n",
        "- Tfidf방식은 허용하지 않습니다. 오로지 단어의 개수만 필요합니다.\n",
        "\n",
        "\n",
        "# 뉴스주제 이용\n",
        "- 특정 주제에 포함된 단어들을 확인해서 단어들이 많이 포함되어 있으면 특정한 주제라고 판단합니다.\n",
        "- 앞으로 분류를 하려면 주제를 파악해야 합니다."
      ]
    },
    {
      "cell_type": "code",
      "metadata": {
        "colab": {
          "base_uri": "https://localhost:8080/"
        },
        "id": "lR0T-kyAs9WY",
        "outputId": "e88b756c-32b1-4cce-f9d3-ea366a331dad"
      },
      "source": [
        "from sklearn.datasets import fetch_20newsgroups\n",
        "\n",
        "cats = ['rec.motorcycles', 'rec.sport.baseball', 'comp.graphics', 'comp.windows.x',\n",
        "         'talk.politics.mideast', 'soc.religion.christian', 'sci.electronics']\n",
        "\n",
        "news_df = fetch_20newsgroups(subset='all', remove=('headers','footers','quotes'),\n",
        "                             categories=cats,random_state=42)\n",
        "\n",
        "# 새로운 데이터를 읽어올 때는 type으로 데이터 타입을 출력해보는데 \n",
        "# 만약에 모르는 자료형이면 dir을 수행하여 어떤 메소드를 사용할 수 있는지 확인합니다.\n",
        "# Bunch는 sklearn의 데이터 타입 - data, target, target_name으로 구성\n",
        "print(type(news_df))\n",
        "print(dir(news_df))"
      ],
      "execution_count": null,
      "outputs": [
        {
          "output_type": "stream",
          "text": [
            "<class 'sklearn.utils.Bunch'>\n",
            "['DESCR', 'data', 'filenames', 'target', 'target_names']\n"
          ],
          "name": "stdout"
        }
      ]
    },
    {
      "cell_type": "markdown",
      "metadata": {
        "id": "n5xwTfMttTSY"
      },
      "source": [
        "# 피처 벡터화\n",
        "- 단어들을 피처로 만들어서 수치화합니다. \n",
        "- tfidf방식이 아니라 CountVectorizer를 사용해서 구현해보겠습니다."
      ]
    },
    {
      "cell_type": "code",
      "metadata": {
        "colab": {
          "base_uri": "https://localhost:8080/"
        },
        "id": "gvyCxEljvGFQ",
        "outputId": "23d8ee07-88bd-43ed-f77a-c281e44b2428"
      },
      "source": [
        "from sklearn.feature_extraction.text import CountVectorizer\n",
        "\n",
        "count_vect = CountVectorizer(max_df=0.95, max_features=1000, min_df=2,\n",
        "                             stop_words='english', ngram_range=(1,2))\n",
        "\n",
        "fect_vect = count_vect.fit_transform(news_df.data)\n",
        "# 단순한 출현 빈도가 출력됩니다.\n",
        "# Tfidf는 소수로 중요도를 출력합니다.\n",
        "print(fect_vect)"
      ],
      "execution_count": null,
      "outputs": [
        {
          "output_type": "stream",
          "text": [
            "  (0, 492)\t1\n",
            "  (0, 701)\t2\n",
            "  (0, 130)\t1\n",
            "  (0, 988)\t1\n",
            "  (0, 709)\t1\n",
            "  (0, 604)\t1\n",
            "  (0, 326)\t1\n",
            "  (0, 233)\t1\n",
            "  (0, 93)\t1\n",
            "  (0, 428)\t1\n",
            "  (1, 492)\t1\n",
            "  (1, 701)\t1\n",
            "  (1, 553)\t1\n",
            "  (1, 19)\t1\n",
            "  (1, 20)\t1\n",
            "  (1, 21)\t1\n",
            "  (1, 483)\t1\n",
            "  (1, 919)\t4\n",
            "  (1, 232)\t2\n",
            "  (1, 991)\t6\n",
            "  (1, 616)\t2\n",
            "  (1, 214)\t2\n",
            "  (1, 706)\t1\n",
            "  (1, 463)\t1\n",
            "  (1, 88)\t1\n",
            "  :\t:\n",
            "  (6869, 631)\t1\n",
            "  (6869, 669)\t1\n",
            "  (6869, 133)\t1\n",
            "  (6870, 551)\t1\n",
            "  (6870, 270)\t1\n",
            "  (6870, 149)\t1\n",
            "  (6870, 864)\t1\n",
            "  (6870, 994)\t1\n",
            "  (6870, 382)\t1\n",
            "  (6870, 536)\t1\n",
            "  (6870, 70)\t1\n",
            "  (6870, 722)\t1\n",
            "  (6870, 995)\t1\n",
            "  (6870, 251)\t1\n",
            "  (6870, 433)\t2\n",
            "  (6871, 428)\t1\n",
            "  (6871, 713)\t1\n",
            "  (6871, 610)\t1\n",
            "  (6871, 111)\t1\n",
            "  (6871, 876)\t1\n",
            "  (6871, 535)\t1\n",
            "  (6871, 95)\t1\n",
            "  (6871, 67)\t1\n",
            "  (6871, 455)\t1\n",
            "  (6871, 613)\t1\n"
          ],
          "name": "stdout"
        }
      ]
    },
    {
      "cell_type": "markdown",
      "metadata": {
        "id": "3EVbqtbwwfWM"
      },
      "source": [
        "## 토픽 모델링\n",
        "- 8개의 그룹으로 나누고 단어가 1000개 이므로 8*1000"
      ]
    },
    {
      "cell_type": "code",
      "metadata": {
        "colab": {
          "base_uri": "https://localhost:8080/"
        },
        "id": "oiGjM0x9viWn",
        "outputId": "387f3f48-d4bf-412b-f80e-9f09dbd25637"
      },
      "source": [
        "from sklearn.decomposition import LatentDirichletAllocation\n",
        "lda = LatentDirichletAllocation(n_components=8, random_state=0)\n",
        "lda.fit(fect_vect)"
      ],
      "execution_count": null,
      "outputs": [
        {
          "output_type": "execute_result",
          "data": {
            "text/plain": [
              "LatentDirichletAllocation(batch_size=128, doc_topic_prior=None,\n",
              "                          evaluate_every=-1, learning_decay=0.7,\n",
              "                          learning_method='batch', learning_offset=10.0,\n",
              "                          max_doc_update_iter=100, max_iter=10,\n",
              "                          mean_change_tol=0.001, n_components=8, n_jobs=None,\n",
              "                          perp_tol=0.1, random_state=0, topic_word_prior=None,\n",
              "                          total_samples=1000000.0, verbose=0)"
            ]
          },
          "metadata": {
            "tags": []
          },
          "execution_count": 132
        }
      ]
    },
    {
      "cell_type": "markdown",
      "metadata": {
        "id": "hdeC0EGqwvrt"
      },
      "source": [
        "## 구조 확인\n",
        "- 8개의 그룹으로 나누고 단어가 1000개 이므로 8*1000\n",
        "- lda.components_에는 각 단어가 어떤 토픽에 속할지에 대한 확률이 저장되어 있습니다."
      ]
    },
    {
      "cell_type": "code",
      "metadata": {
        "colab": {
          "base_uri": "https://localhost:8080/"
        },
        "id": "migg7csoxRfF",
        "outputId": "7deceb95-a585-4e01-f8b9-83f5c9fa4567"
      },
      "source": [
        "print(lda.components_.shape)"
      ],
      "execution_count": null,
      "outputs": [
        {
          "output_type": "stream",
          "text": [
            "(8, 1000)\n"
          ],
          "name": "stdout"
        }
      ]
    },
    {
      "cell_type": "code",
      "metadata": {
        "colab": {
          "base_uri": "https://localhost:8080/"
        },
        "id": "ycLuFii1xaY0",
        "outputId": "e945dbf1-5d00-4476-bcc6-bfb53dda5cf4"
      },
      "source": [
        "lda.components_"
      ],
      "execution_count": null,
      "outputs": [
        {
          "output_type": "execute_result",
          "data": {
            "text/plain": [
              "array([[2.70785093e+02, 3.58541994e+00, 1.71673122e+02, ...,\n",
              "        3.19242118e+01, 5.12795232e+00, 1.25034111e-01],\n",
              "       [6.28898164e+00, 3.22990897e+02, 1.25069011e-01, ...,\n",
              "        1.64240537e+02, 2.77145259e+01, 1.25031849e-01],\n",
              "       [5.84287265e+01, 1.25059142e-01, 1.57615064e+00, ...,\n",
              "        1.36536501e-01, 1.25012890e-01, 1.22767171e+02],\n",
              "       ...,\n",
              "       [1.25589342e-01, 1.25064786e-01, 1.25000359e-01, ...,\n",
              "        1.25136998e-01, 6.41147907e+01, 1.25005474e-01],\n",
              "       [1.25308891e-01, 4.77343130e+00, 1.25368991e-01, ...,\n",
              "        2.78628348e+01, 3.06401404e+01, 1.25103393e-01],\n",
              "       [1.26937632e-01, 4.76531259e+01, 1.25159066e-01, ...,\n",
              "        3.20700897e-01, 4.85606161e+01, 1.78284969e+00]])"
            ]
          },
          "metadata": {
            "tags": []
          },
          "execution_count": 135
        }
      ]
    },
    {
      "cell_type": "markdown",
      "metadata": {
        "id": "o3YVerk4xszv"
      },
      "source": [
        "- 특정 주제들은 어떤 단어들로 묶여 있을 것이므로 그 단어들을 추출해봅시다.\n"
      ]
    },
    {
      "cell_type": "code",
      "metadata": {
        "id": "7TNwEmBjDS16"
      },
      "source": [
        "# 토픽별 연관도가 높은 단어를 추출해서 출력해주는 함수\n",
        "def display_topics(model, feature_names, no_top_words):\n",
        "    # 토픽인덱스, 벡터화한 토픽피처\n",
        "    for topic_index, topic in enumerate(model.components_):\n",
        "\n",
        "        # 가장 큰 값의 인덱스 찾기\n",
        "        topic_word_indexes = topic.argsort()[::-1]\n",
        "        # no_top_words 만큼의 인덱스를 추출\n",
        "        top_indexes = topic_word_indexes[:no_top_words]\n",
        "\n",
        "        # 피처 이름을 이어 붙이기\n",
        "        feature_concat = ','.join([feature_names[i] for i in top_indexes])\n",
        "        print(feature_concat)\n"
      ],
      "execution_count": null,
      "outputs": []
    },
    {
      "cell_type": "markdown",
      "metadata": {
        "id": "zyS3H_z-FHBA"
      },
      "source": [
        "## 피처 이름 만들기"
      ]
    },
    {
      "cell_type": "code",
      "metadata": {
        "colab": {
          "base_uri": "https://localhost:8080/"
        },
        "id": "gOWsvF7zFIz0",
        "outputId": "ea10f716-1ce5-4b27-e004-5ca66d8e158c"
      },
      "source": [
        "feature_names = count_vect.get_feature_names()\n",
        "print(feature_names)\n"
      ],
      "execution_count": null,
      "outputs": [
        {
          "output_type": "stream",
          "text": [
            "['00', '000', '01', '02', '03', '04', '05', '10', '100', '11', '12', '128', '13', '14', '15', '16', '17', '18', '19', '1990', '1992', '1993', '20', '200', '21', '22', '23', '24', '24 bit', '25', '256', '26', '27', '28', '29', '30', '300', '31', '32', '3d', '40', '44', '50', '500', '60', '80', '800', '90', '91', '92', '93', 'ability', 'able', 'ac', 'accept', 'access', 'according', 'account', 'act', 'action', 'actions', 'acts', 'actually', 'adam', 'add', 'added', 'addition', 'address', 'adl', 'advance', 'ago', 'agree', 'al', 'allow', 'allowed', 'allows', 'american', 'amiga', 'analysis', 'anonymous', 'anonymous ftp', 'answer', 'answers', 'anti', 'anybody', 'apartment', 'app', 'apparently', 'appear', 'appears', 'application', 'applications', 'apply', 'appreciate', 'appreciated', 'appropriate', 'april', 'arab', 'arabs', 'archive', 'area', 'aren', 'argic', 'argument', 'armenia', 'armenian', 'armenians', 'army', 'art', 'article', 'articles', 'ask', 'asked', 'assume', 'attack', 'attempt', 'author', 'authority', 'available', 'average', 'avoid', 'away', 'azerbaijan', 'azerbaijani', 'azeri', 'bad', 'baku', 'ball', 'base', 'baseball', 'based', 'basic', 'basis', 'battery', 'belief', 'believe', 'best', 'better', 'bible', 'big', 'bike', 'bikes', 'bit', 'bits', 'black', 'blood', 'blue', 'board', 'body', 'book', 'books', 'born', 'box', 'braves', 'break', 'bring', 'british', 'brought', 'build', 'building', 'built', 'bus', 'button', 'buy', 'ca', 'california', 'called', 'calls', 'came', 'car', 'card', 'care', 'case', 'cases', 'catholic', 'cause', 'center', 'century', 'certain', 'certainly', 'chance', 'change', 'changed', 'changes', 'char', 'check', 'child', 'children', 'chip', 'choice', 'christ', 'christian', 'christianity', 'christians', 'church', 'circuit', 'city', 'claim', 'claims', 'class', 'clear', 'clearly', 'client', 'clients', 'close', 'code', 'color', 'colors', 'com', 'come', 'comes', 'coming', 'command', 'comments', 'commercial', 'common', 'community', 'comp', 'company', 'complete', 'completely', 'computer', 'conference', 'consider', 'considered', 'contact', 'contains', 'context', 'contrib', 'control', 'conversion', 'convert', 'copy', 'correct', 'cost', 'couldn', 'count', 'countries', 'country', 'couple', 'course', 'create', 'created', 'cs', 'current', 'currently', 'cut', 'data', 'date', 'dave', 'david', 'day', 'days', 'dead', 'deal', 'death', 'dec', 'default', 'define', 'defined', 'definition', 'deleted', 'described', 'description', 'design', 'designed', 'details', 'development', 'device', 'did', 'didn', 'die', 'died', 'difference', 'different', 'difficult', 'digital', 'directly', 'directory', 'discussion', 'disk', 'display', 'displays', 'distribution', 'dod', 'does', 'does know', 'doesn', 'dog', 'doing', 'don', 'don know', 'don think', 'door', 'dos', 'dos dos', 'double', 'doubt', 'dr', 'draw', 'drawing', 'drive', 'driver', 'early', 'earth', 'easily', 'east', 'easy', 'echo', 'ed', 'edu', 'effect', 'email', 'end', 'entire', 'entries', 'entry', 'environment', 'error', 'especially', 'eternal', 'europe', 'event', 'events', 'evidence', 'exactly', 'example', 'exist', 'existence', 'exists', 'expect', 'experience', 'export', 'export lcs', 'extra', 'eyes', 'face', 'fact', 'fairly', 'faith', 'false', 'family', 'faq', 'far', 'fast', 'faster', 'father', 'fax', 'features', 'feel', 'field', 'figure', 'file', 'files', 'final', 'finally', 'fine', 'follow', 'following', 'font', 'fonts', 'force', 'forces', 'foreign', 'forget', 'form', 'format', 'formats', 'frame', 'free', 'friend', 'ftp', 'function', 'functions', 'future', 'game', 'games', 'gave', 'general', 'generally', 'genocide', 'gets', 'getting', 'gif', 'given', 'gives', 'giving', 'god', 'goes', 'going', 'gone', 'good', 'got', 'gov', 'government', 'grace', 'graphics', 'great', 'greece', 'greek', 'greeks', 'green', 'ground', 'group', 'groups', 'guess', 'guy', 'guys', 'half', 'hand', 'handle', 'hands', 'happen', 'happened', 'happens', 'happy', 'hard', 'hardware', 'hate', 'haven', 'having', 'head', 'hear', 'heard', 'heart', 'heaven', 'held', 'hell', 'help', 'hi', 'high', 'higher', 'history', 'hit', 'hold', 'holy', 'home', 'homosexual', 'homosexuality', 'hope', 'host', 'hot', 'hours', 'house', 'hp', 'human', 'human rights', 'ibm', 'idea', 'ideas', 'ii', 'image', 'image processing', 'images', 'imagine', 'important', 'include', 'included', 'includes', 'including', 'independent', 'individual', 'info', 'information', 'input', 'inside', 'instead', 'int', 'interested', 'interesting', 'interface', 'international', 'internet', 'involved', 'isn', 'israel', 'israeli', 'issue', 'istanbul', 'jesus', 'jewish', 'jews', 'job', 'john', 'jpeg', 'just', 'key', 'kill', 'killed', 'killing', 'kind', 'knew', 'know', 'knowledge', 'known', 'knows', 'kuwait', 'land', 'language', 'large', 'later', 'latest', 'law', 'lcs', 'lcs mit', 'lead', 'league', 'learn', 'leave', 'led', 'left', 'let', 'level', 'lib', 'libraries', 'library', 'life', 'light', 'like', 'likely', 'limited', 'line', 'lines', 'list', 'little', 'live', 'lived', 'lives', 'living', 'll', 'local', 'long', 'longer', 'look', 'looked', 'looking', 'looks', 'lord', 'lost', 'lot', 'lots', 'love', 'low', 'mac', 'machine', 'machines', 'macintosh', 'mail', 'mailing', 'main', 'major', 'make', 'makes', 'making', 'man', 'manager', 'manual', 'mark', 'marriage', 'mary', 'massacre', 'matter', 'maybe', 'mean', 'meaning', 'means', 'member', 'members', 'memory', 'men', 'mentioned', 'menu', 'message', 'method', 'michael', 'microsoft', 'middle', 'mike', 'miles', 'military', 'million', 'mind', 'mit', 'mit edu', 'mode', 'model', 'modern', 'money', 'months', 'mother', 'motif', 'motorcycle', 'mouse', 'movement', 'mr', 'ms', 'multiple', 'muslim', 'muslims', 'national', 'nature', 'nazi', 'near', 'necessary', 'need', 'needed', 'needs', 'net', 'network', 'neutral', 'new', 'new york', 'news', 'newsgroup', 'nice', 'night', 'non', 'normal', 'note', 'null', 'number', 'numbers', 'object', 'objects', 'obviously', 'office', 'official', 'oh', 'ok', 'old', 'oname', 'ones', 'open', 'openwindows', 'opinion', 'order', 'organization', 'original', 'os', 'ottoman', 'output', 'outside', 'package', 'page', 'pages', 'palestinian', 'palestinians', 'paper', 'parents', 'particular', 'parts', 'party', 'pass', 'past', 'patch', 'path', 'paul', 'pc', 'peace', 'people', 'performance', 'person', 'personal', 'phone', 'picture', 'pitcher', 'pitching', 'pixel', 'place', 'places', 'play', 'player', 'players', 'plus', 'point', 'points', 'police', 'policy', 'political', 'population', 'position', 'possible', 'possibly', 'post', 'posted', 'posting', 'postscript', 'power', 'present', 'press', 'pretty', 'previous', 'price', 'printf', 'probably', 'problem', 'problems', 'process', 'processing', 'product', 'professor', 'program', 'programming', 'programs', 'project', 'provide', 'provided', 'provides', 'pub', 'public', 'published', 'purpose', 'quality', 'question', 'questions', 'quite', 'r5', 'radio', 'ran', 'range', 'ray', 'read', 'reading', 'real', 'really', 'reason', 'reasonable', 'reasons', 'receive', 'received', 'recent', 'recently', 'red', 'reference', 'related', 'release', 'religion', 'religious', 'remember', 'remote', 'reply', 'report', 'reports', 'request', 'require', 'required', 'requires', 'research', 'resolution', 'resource', 'resources', 'response', 'rest', 'result', 'results', 'return', 'ride', 'riding', 'right', 'rights', 'road', 'room', 'rule', 'rules', 'run', 'running', 'runs', 'russian', 'said', 'san', 'save', 'saved', 'saw', 'say', 'saying', 'says', 'school', 'science', 'screen', 'scripture', 'search', 'season', 'second', 'section', 'security', 'seen', 'self', 'send', 'sense', 'sent', 'serdar', 'serdar argic', 'series', 'server', 'service', 'set', 'setting', 'sex', 'sgi', 'shall', 'shareware', 'shell', 'short', 'signal', 'similar', 'simple', 'simply', 'sin', 'single', 'site', 'sites', 'situation', 'size', 'small', 'society', 'software', 'soldiers', 'solution', 'son', 'soon', 'sorry', 'sort', 'sound', 'sounds', 'source', 'sources', 'soviet', 'space', 'speak', 'special', 'specific', 'speed', 'spirit', 'st', 'standard', 'start', 'started', 'starting', 'state', 'statement', 'states', 'stay', 'steve', 'stop', 'story', 'stream', 'street', 'string', 'strong', 'stuff', 'subject', 'suggest', 'suggestions', 'sumgait', 'sun', 'supply', 'support', 'supported', 'supports', 'sure', 'systems', 'table', 'taken', 'takes', 'taking', 'talk', 'talking', 'tape', 'tar', 'team', 'technology', 'tell', 'term', 'terms', 'test', 'text', 'thank', 'thanks', 'thanks advance', 'thing', 'things', 'think', 'thinking', 'thought', 'tiff', 'time', 'times', 'title', 'today', 'told', 'took', 'tool', 'toolkit', 'tools', 'total', 'town', 'tried', 'troops', 'trouble', 'true', 'truth', 'try', 'trying', 'turkey', 'turkish', 'turks', 'turn', 'turned', 'tv', 'type', 'types', 'uk', 'understand', 'understanding', 'unfortunately', 'united', 'university', 'unix', 'unless', 'use', 'used', 'useful', 'usenet', 'user', 'users', 'uses', 'using', 'usr', 'usually', 'value', 'values', 'various', 've', 'version', 'versions', 'video', 'view', 'viewer', 'village', 'villages', 'visual', 'voltage', 'volume', 'want', 'wanted', 'wants', 'war', 'wasn', 'watch', 'water', 'way', 'ways', 'week', 'went', 'west', 'western', 'white', 'widget', 'widgets', 'wife', 'willing', 'win', 'window', 'window manager', 'windows', 'wire', 'wish', 'woman', 'women', 'won', 'wondering', 'word', 'words', 'work', 'worked', 'working', 'works', 'world', 'wouldn', 'write', 'writing', 'written', 'wrong', 'wrote', 'x11', 'x11r4', 'x11r5', 'xfree86', 'xlib', 'xt', 'xterm', 'xv', 'xview', 'year', 'years', 'years ago', 'yes', 'york', 'young', 'zip']\n"
          ],
          "name": "stdout"
        }
      ]
    },
    {
      "cell_type": "markdown",
      "metadata": {
        "id": "CjIUuBdUF3TC"
      },
      "source": [
        "# 토픽별 가장 연관도가 높은 단어 추출\n",
        "토필 모델 lda를 8개의 그룹으로 만들었으므로 8줄이 나오고 토픽에 연관된 단어를 15개씩 선정했으므로 15개 단어가 8줄 나오게 됩니다"
      ]
    },
    {
      "cell_type": "code",
      "metadata": {
        "colab": {
          "base_uri": "https://localhost:8080/"
        },
        "id": "pYA4hmXkFPrG",
        "outputId": "0e9c025b-b7fa-4af9-9a8c-7d0a2f316941"
      },
      "source": [
        "display_topics(lda,feature_names,15)"
      ],
      "execution_count": null,
      "outputs": [
        {
          "output_type": "stream",
          "text": [
            "[2.70785093e+02 3.58541994e+00 1.71673122e+02 2.45720195e+02\n",
            " 2.51593703e+02 2.41183607e+02 1.58264884e+02 1.21923862e+02\n",
            " 2.42705610e+01 3.52321336e+01 2.05412665e+01 1.59393863e+00\n",
            " 1.85422655e+01 1.34242501e+01 1.04313225e+01 9.52577259e+00\n",
            " 1.31097677e-01 1.95584265e+01 1.15820519e+01 4.83407686e-01\n",
            " 8.85349883e+00 2.84272007e+01 7.25376189e+00 4.85024287e+00\n",
            " 1.01515344e+01 7.24231604e+00 4.61254242e+00 5.83684028e+00\n",
            " 1.25102566e-01 2.24378257e+01 2.01679336e+01 6.65687044e+00\n",
            " 1.18126696e+00 6.95476449e+00 3.12311557e+00 2.83281400e+00\n",
            " 6.26922656e+00 1.25552326e-01 1.26643877e+01 1.27158782e-01\n",
            " 3.61863072e-01 4.90841124e-01 1.31943651e+01 2.98633274e+01\n",
            " 8.27378556e+00 7.67185335e+00 1.71172279e+01 2.28212688e+01\n",
            " 2.43005246e+01 2.28927494e+01 7.75857521e+00 9.38513270e-01\n",
            " 6.97277223e+01 3.66607509e+01 7.41600853e+00 3.74610056e+01\n",
            " 6.98532167e+00 1.57485606e+00 3.90908699e+00 3.88915708e+01\n",
            " 2.20485283e+01 9.45357589e-01 6.09442968e+01 1.25000004e-01\n",
            " 5.97433489e+01 2.38512847e+01 9.20949908e+00 1.26004652e-01\n",
            " 1.88124114e+02 6.76620865e+01 5.25421633e-01 1.25279179e-01\n",
            " 5.91720395e-01 4.02296511e+01 1.25056381e-01 6.53882753e+00\n",
            " 2.43936720e+01 1.25052364e-01 1.25045534e-01 4.58668719e-01\n",
            " 4.60241011e-01 5.19074350e+01 1.18269559e+01 1.28619261e-01\n",
            " 4.47598537e+01 1.25022172e-01 1.23381887e+02 4.38758343e+00\n",
            " 3.76436863e+01 4.87478744e+01 3.70542273e+02 8.84350328e+01\n",
            " 9.47736017e+00 3.19782480e+01 9.27694044e+01 2.82427188e+01\n",
            " 9.08420711e+00 1.25009114e-01 1.25002213e-01 1.24336620e+01\n",
            " 4.39449261e+01 8.45536809e+00 1.25000088e-01 2.92867103e+01\n",
            " 1.25001259e-01 1.25000875e-01 1.25000223e-01 1.25011652e-01\n",
            " 1.79118219e+01 7.30243635e+00 1.87156221e+00 1.46064814e+01\n",
            " 4.51565671e+00 1.88163895e+01 1.61830071e-01 4.00960881e+00\n",
            " 2.50806064e-01 1.25074448e-01 6.79464879e+01 1.25049258e-01\n",
            " 2.69746203e+01 9.52974856e+00 1.25001524e-01 1.25000262e-01\n",
            " 1.25000402e-01 2.40476450e+00 1.25001127e-01 1.25083600e-01\n",
            " 3.45546994e+00 1.25004378e-01 4.37660725e+01 8.69675994e+00\n",
            " 3.06596531e+00 1.25016460e-01 1.25019652e-01 8.50255480e+00\n",
            " 2.67742669e+01 2.57327968e+01 1.25112101e-01 1.02165472e+01\n",
            " 1.25005520e-01 1.25002432e-01 2.96513895e+01 5.63412801e+00\n",
            " 3.10244326e+01 1.25001162e-01 8.51431017e+01 2.79272462e+01\n",
            " 1.25167096e-01 1.18610808e+01 1.56292383e+01 1.25003894e-01\n",
            " 4.40506653e+01 1.22372812e+01 2.55343013e+01 2.05787976e-01\n",
            " 1.25066941e-01 1.26115099e-01 7.46677656e+01 1.43386190e+01\n",
            " 3.80128662e+01 6.48385865e+00 1.24693333e+02 3.58397560e+00\n",
            " 3.91141837e+00 2.60675746e+01 6.43192831e+01 6.58664542e+01\n",
            " 5.07494555e+00 2.45171008e+00 6.59615746e-01 8.19931175e+00\n",
            " 9.07575350e+01 1.48463998e+01 1.25004889e-01 2.64554657e+01\n",
            " 1.25230251e-01 1.25063598e-01 1.84552050e+01 6.43360430e+00\n",
            " 2.78179979e+00 9.96901053e+01 3.48987993e+01 4.10030651e+01\n",
            " 4.12536832e+01 5.16310800e+01 2.27067982e+01 1.73029079e+01\n",
            " 7.55646617e+01 4.18391450e+00 1.25001281e-01 1.15441825e+00\n",
            " 1.25002749e-01 1.25001341e-01 1.25004336e-01 9.18619605e-01\n",
            " 1.67164459e+01 1.25095289e-01 9.82784975e-01 6.94697369e+01\n",
            " 8.19400432e+00 1.25228028e-01 1.56649295e+02 1.17172309e+02\n",
            " 1.34690537e+01 2.17141596e+02 1.05959105e+02 4.35034769e+01\n",
            " 1.08490755e+02 1.90284283e+01 1.89823747e+01 3.37963960e+00\n",
            " 1.06101856e+02 2.19768865e+01 1.80279444e-01 2.53671655e+01\n",
            " 1.25035045e-01 1.79603045e+01 1.25786493e-01 1.44639056e+01\n",
            " 8.46299656e+00 3.21696486e+00 1.25287863e-01 9.28705421e+00\n",
            " 1.25200941e-01 2.35913811e+00 1.82180282e+01 4.52077325e+01\n",
            " 2.50713310e+01 6.86769337e+01 3.09728559e-01 2.08383127e+01\n",
            " 5.66995017e+01 4.82187692e+01 1.26292426e-01 3.23753385e-01\n",
            " 1.29959572e+01 1.25016792e-01 1.25010977e-01 2.71766386e-01\n",
            " 2.57819366e+01 1.08350286e+02 3.74490291e+01 6.52137900e+00\n",
            " 6.21780270e+01 3.03510653e+01 2.59851926e+01 1.26891556e+02\n",
            " 1.18548071e+01 4.20764362e+00 8.81267397e+00 8.80870411e-01\n",
            " 3.63629774e+00 4.54605110e+00 1.32258133e+01 1.25104413e-01\n",
            " 7.88504113e+00 1.08709797e+02 9.85027267e+01 7.46764376e+01\n",
            " 2.59458254e+01 1.11085105e+01 6.11917287e+00 1.20533325e+00\n",
            " 5.73997561e+00 1.25064481e+00 4.94452031e+00 1.35851706e-01\n",
            " 2.87249046e+01 3.77266062e+01 2.24991256e+01 7.36753123e+00\n",
            " 8.47433766e-01 1.79806068e+01 7.51914724e+01 1.03649443e+01\n",
            " 1.03822089e+01 2.28529860e+01 4.88158616e+01 3.10040238e+00\n",
            " 4.14279175e+00 3.64848326e+02 4.73192928e+01 1.71034803e+01\n",
            " 1.25008453e-01 2.43620757e+02 3.48662265e+01 1.19021755e+02\n",
            " 2.45105814e-01 5.64680327e+01 8.16240465e+01 5.97259439e+00\n",
            " 1.35325060e+00 1.25048934e-01 1.25050507e-01 1.25066553e-01\n",
            " 1.63114967e+01 1.29479860e-01 7.86698444e+00 7.75366058e+01\n",
            " 7.07299363e+01 2.80119938e-01 1.47931398e+00 5.37706597e-01\n",
            " 1.25013538e-01 6.22029079e+00 1.53464430e+01 2.85598922e+01\n",
            " 1.14196450e+02 5.58868353e+00 5.92751695e+01 3.10633782e+01\n",
            " 2.00646428e+01 6.34573646e+01 1.05539222e+01 1.25110494e-01\n",
            " 1.07237615e+01 9.57794468e+01 2.16470183e+02 9.55924704e+00\n",
            " 1.25000665e-01 1.25072023e-01 1.45773119e+02 1.01296708e+02\n",
            " 1.25145349e-01 2.09918385e+01 1.22391476e+02 8.94889071e+00\n",
            " 1.75646360e+00 1.15749859e+01 8.05869450e+00 1.35989895e+01\n",
            " 4.01201392e+01 1.44706712e+01 1.08468334e+01 1.11980941e+00\n",
            " 1.19568765e+00 1.63351022e+01 1.64845521e+00 1.25005959e-01\n",
            " 3.77113111e+01 1.53219591e+00 7.46177286e+01 1.50663387e+01\n",
            " 1.95030672e+01 2.79386610e+01 1.25015319e-01 9.53615024e-01\n",
            " 8.92656703e+00 2.75310379e+00 1.33147061e+01 2.40303792e+01\n",
            " 3.07197947e+02 1.24880262e+02 5.43101913e-01 4.30166003e+00\n",
            " 6.92828799e+01 7.51485422e+00 1.58559135e+02 1.46116472e+02\n",
            " 1.64642686e+02 8.41315126e+00 2.28976187e+00 1.22176002e+00\n",
            " 4.52046516e+00 9.05572511e+00 7.98844727e-01 1.25062859e-01\n",
            " 2.96545743e+01 7.68564286e+00 1.57335830e+00 5.16710463e-01\n",
            " 1.64911810e+02 7.51629031e+01 2.44124655e-01 1.25029867e-01\n",
            " 1.00308107e+01 1.54828721e+00 1.01944490e+01 1.64470963e+01\n",
            " 1.25000803e-01 2.74895952e+01 3.29071618e+01 1.25143058e-01\n",
            " 4.45516771e+01 3.33251184e+01 1.19879852e+01 1.25002367e-01\n",
            " 1.36995942e+01 2.18268815e+01 4.57401003e+00 2.23576629e+01\n",
            " 4.36964805e+01 1.28533197e-01 1.25015424e-01 1.25015613e-01\n",
            " 1.59546638e+00 1.42979128e+01 1.25001825e-01 1.25012449e-01\n",
            " 1.25000751e-01 8.01815654e+01 1.25051323e-01 6.09517960e+00\n",
            " 1.64297520e-01 6.75003828e+00 1.25109229e-01 2.55507438e+00\n",
            " 1.25109244e-01 4.18271554e+00 3.58414829e+01 3.58864898e+00\n",
            " 1.96294477e+01 4.90757365e+00 2.95277201e+01 2.83086960e-01\n",
            " 1.25169968e+01 1.54420776e+01 1.25536421e-01 2.16382235e+01\n",
            " 8.65834228e+01 1.28932641e-01 1.25116085e-01 1.01719675e+00\n",
            " 1.25091469e-01 1.25000316e-01 3.91506279e+00 1.25054137e-01\n",
            " 1.97330451e+02 7.95558857e+01 7.07535038e+00 2.81904546e+00\n",
            " 3.60961116e+00 2.35798863e-01 8.82402652e+00 1.25009143e-01\n",
            " 7.31123168e+01 1.25001023e-01 1.25001947e-01 1.72485585e+01\n",
            " 7.19988211e+01 1.25047134e-01 1.25031565e-01 1.25029947e-01\n",
            " 1.17511341e+02 1.25042629e-01 1.25011022e-01 4.76927364e+00\n",
            " 2.02698563e+01 4.63931804e+01 1.85516204e-01 1.41600956e-01\n",
            " 1.25026977e-01 1.25057236e-01 1.25078128e-01 1.67532408e+00\n",
            " 1.86998898e+02 3.00944036e+01 1.00740034e+01 3.52322504e+01\n",
            " 5.26284132e-01 2.02670867e+01 1.44267119e+01 8.93812316e+01\n",
            " 1.37422532e+02 1.43674229e+01 8.81687162e+01 8.24469558e+01\n",
            " 9.59207185e-01 1.69522565e-01 3.74624970e+01 1.25075213e-01\n",
            " 1.31452245e-01 3.91226306e+00 4.62437461e+01 1.25080180e-01\n",
            " 1.25006765e-01 1.53309652e+01 1.25000053e-01 1.25025674e-01\n",
            " 1.25011297e-01 1.25001749e-01 9.32205932e+00 3.48949409e+00\n",
            " 1.25002347e-01 1.26584091e+02 1.86431518e+02 1.21727591e+01\n",
            " 1.25016279e-01 2.27659958e+00 1.14492303e+01 1.25038664e-01\n",
            " 1.36789973e+02 1.32108269e-01 1.89164563e+01 4.44416078e+00\n",
            " 1.25000266e-01 1.25097245e-01 1.95800320e+01 3.76003622e+01\n",
            " 1.79129722e+01 4.50958412e+00 4.19786898e-01 2.26584972e+01\n",
            " 2.28737224e+01 4.21141520e-01 2.27892855e+01 4.72812822e+00\n",
            " 5.89359846e+00 1.55690853e+00 1.95013622e+01 4.83038783e+01\n",
            " 4.97294068e+01 2.92181273e+02 4.06817849e+01 3.26640378e+01\n",
            " 1.25099677e-01 5.42446777e+00 1.92885286e+02 1.39412736e+01\n",
            " 8.42579137e+00 1.50438643e+02 1.02008932e+02 6.24695124e+01\n",
            " 3.83477866e+01 5.97112700e-01 1.25077685e-01 2.36101702e+00\n",
            " 1.25011104e-01 3.60436273e+01 6.98470003e+01 2.22150127e+01\n",
            " 5.55041373e+00 1.19704783e+02 1.40805633e+00 1.92075691e+01\n",
            " 3.34073565e+01 1.25002089e-01 1.26254695e+02 2.38144531e+01\n",
            " 4.71697360e+00 1.25073899e-01 1.43263475e+01 1.25051042e-01\n",
            " 1.10349387e+02 3.54633281e+01 1.25105766e-01 1.18207797e+01\n",
            " 1.25051176e-01 5.72509722e+01 1.82405031e+01 1.50390418e+02\n",
            " 2.74221026e+01 7.20918840e+00 7.44545087e+01 1.89369219e+02\n",
            " 6.83316618e+01 1.64540656e+00 1.25000004e-01 1.25005067e-01\n",
            " 1.25001324e-01 1.88364754e+01 1.00839341e+00 6.24635191e+00\n",
            " 3.22250028e+00 3.53018770e+01 2.88376559e+00 4.17982040e-01\n",
            " 1.19116268e+02 1.25021644e-01 1.14227512e+01 7.64696392e+01\n",
            " 5.53553248e+01 6.33146266e+01 6.50542562e+00 2.02482208e-01\n",
            " 6.16853057e+00 3.26158104e+00 1.25008946e-01 1.25011491e-01\n",
            " 1.25053161e-01 1.30058815e-01 1.29356239e+02 2.26304014e+01\n",
            " 4.96997680e+01 1.56056138e+01 1.25021227e-01 1.25054287e-01\n",
            " 1.25114741e-01 1.25005213e-01 2.48134327e+02 1.25002780e-01\n",
            " 1.26459357e+02 1.25108614e-01 1.25025961e-01 2.17615853e+00\n",
            " 7.01781736e+01 1.25000387e-01 1.25001186e-01 2.36519414e+01\n",
            " 1.12837011e+00 1.25002878e-01 2.01805151e+00 1.92985416e+01\n",
            " 1.78405293e+02 1.16308510e+01 2.98350315e+01 1.49398392e+01\n",
            " 3.07733691e+01 1.25017636e-01 1.36531116e+02 3.19397586e+01\n",
            " 4.24084505e+01 2.38034504e+00 8.55640238e+00 1.26582971e-01\n",
            " 3.80354613e+01 5.40814083e+01 7.54363081e+01 1.10816692e+02\n",
            " 8.75120466e+01 2.27843698e-01 5.41080145e+01 2.44510230e+01\n",
            " 6.94102445e+00 3.24937060e+00 1.30078600e+00 3.86583025e+00\n",
            " 1.48841920e+01 9.69056276e+00 1.25000000e-01 1.25578060e+01\n",
            " 1.57003173e+02 2.06694603e+02 1.11016857e+00 6.29128592e+01\n",
            " 3.22616846e-01 7.46843234e+00 2.18895055e+01 1.25000202e-01\n",
            " 7.30295350e+01 2.50113864e+01 2.05136921e-01 6.28657266e+01\n",
            " 3.71798441e+01 1.25004727e-01 1.25004963e-01 1.02380908e+01\n",
            " 1.25002176e-01 3.61271585e+01 8.56075970e+00 5.02130058e-01\n",
            " 2.58964803e+01 3.75998766e+00 7.26228557e+01 5.99373976e+01\n",
            " 7.21690029e-01 2.23644941e-01 1.25003576e-01 1.14990676e+01\n",
            " 2.71028338e+01 1.25132227e-01 8.92341233e+00 1.37048401e+01\n",
            " 1.25229171e-01 1.25003856e-01 1.25002096e-01 4.39393848e+01\n",
            " 3.33965847e+01 8.98630348e+00 1.25039544e-01 1.25025849e-01\n",
            " 1.25001822e-01 3.02655566e+00 4.81161503e+01 2.19668641e+01\n",
            " 1.25069835e-01 1.25023058e-01 1.25023728e-01 1.25012935e-01\n",
            " 2.67532787e+01 6.75526253e+01 7.20565443e+00 1.00753677e+00\n",
            " 1.90288010e+01 2.32617441e+01 3.59401586e+01 1.32646634e+00\n",
            " 1.93616078e+00 3.89432139e+01 1.52430894e+01 9.31650419e+00\n",
            " 1.25632101e-01 1.25090451e-01 6.02767415e+01 3.41197571e+02\n",
            " 1.12043601e+02 5.87206787e+01 8.91404417e+00 1.92133767e+00\n",
            " 1.25000387e-01 2.23363758e+02 2.77501780e+01 1.25139595e+02\n",
            " 1.25167887e+01 2.82622215e+01 9.93736265e+00 6.10657517e+00\n",
            " 1.25124289e-01 8.74795412e+00 3.80464911e+00 2.72309495e-01\n",
            " 1.69454507e-01 7.18672132e+01 2.19044578e+01 7.80159831e+00\n",
            " 1.25295065e+02 1.25306751e-01 8.28169152e+00 1.00409615e+00\n",
            " 1.25082878e-01 7.22235892e+01 7.45909577e+00 1.78064188e+01\n",
            " 3.20343130e+01 2.08322910e+01 1.12769717e+01 4.70509527e+00\n",
            " 9.80426825e+00 1.06641579e+01 3.97062727e+00 1.45394177e+01\n",
            " 9.23998119e+01 3.88786113e+01 1.20536635e+01 6.01350749e+01\n",
            " 1.25017344e-01 1.25001474e-01 1.09398311e+01 9.86943824e+01\n",
            " 1.57222120e+01 4.17210136e+00 4.33631032e+00 4.93396978e+01\n",
            " 9.76307910e+00 2.11891197e+01 1.51315475e+01 1.61195497e+00\n",
            " 1.04813277e+01 1.41778505e+02 1.02612035e+02 2.79362648e+01\n",
            " 1.08287118e+01 2.56033320e+01 1.05993080e+01 9.81527813e+01\n",
            " 1.25004509e-01 1.25002141e-01 7.13881116e+01 1.25014701e-01\n",
            " 1.47555778e+01 1.25058125e-01 1.25021170e-01 7.79878457e+00\n",
            " 2.21951729e+02 2.48808507e+02 1.54344436e+01 1.25002807e-01\n",
            " 1.35970241e+01 8.81516394e+01 2.84465707e+01 5.16007315e+00\n",
            " 1.25031333e-01 2.82769775e+01 1.25304651e-01 1.56082139e+01\n",
            " 1.25083313e-01 1.25046513e-01 2.35954898e+02 1.25001246e-01\n",
            " 4.96960855e-01 1.25002500e-01 5.15064957e+01 1.29580124e+01\n",
            " 3.58728443e+00 2.05962775e+01 3.64283321e+00 1.05701080e+01\n",
            " 2.70964877e+00 1.87632880e+01 1.25000088e-01 1.25000094e-01\n",
            " 7.60026612e+00 4.12858448e+02 3.68711232e+00 3.71843115e+02\n",
            " 5.86435265e+01 1.25007810e-01 8.66681843e+00 1.25069095e-01\n",
            " 1.25049169e-01 1.49543973e+02 9.25930301e+00 2.48816425e+01\n",
            " 4.59185500e+01 6.89146168e+01 3.10837540e+01 2.20860211e+00\n",
            " 3.96481279e+01 1.96024988e+01 1.25185099e-01 1.12983732e+01\n",
            " 9.17137254e+01 3.74166842e+01 1.25036186e-01 1.04564388e+01\n",
            " 1.25002302e-01 5.21881341e+01 1.25016420e-01 1.02680757e+01\n",
            " 2.49434186e+00 1.36089701e+01 3.99624213e-01 1.69388433e+00\n",
            " 5.33301124e+01 2.25613186e+01 1.25006004e-01 2.84128531e+01\n",
            " 1.26491303e-01 2.00966012e+01 4.33350005e+01 6.56989278e+00\n",
            " 1.25001277e-01 1.70010692e+01 6.60256284e+01 1.21392423e+02\n",
            " 1.87335129e+01 1.92500130e+01 3.73119183e+01 1.25036575e-01\n",
            " 9.02031618e-01 3.77947372e+00 1.76911881e+00 5.37026692e+00\n",
            " 1.25032299e-01 4.33739186e+00 1.87712859e-01 1.43527425e+02\n",
            " 1.25013676e-01 4.41653624e+01 1.14198950e+02 8.72421018e+00\n",
            " 6.50526164e+01 1.25000000e-01 2.31054485e+02 1.55607295e+01\n",
            " 1.00126888e+01 5.55477962e+00 1.19064518e+01 4.52534208e+01\n",
            " 2.31362085e+01 6.15843126e+01 5.30917637e+00 2.18652950e+01\n",
            " 4.54462913e+00 1.25606834e-01 1.25267335e-01 1.38148572e+00\n",
            " 2.32325076e+00 2.21326828e+00 5.49738887e-01 3.60430478e+01\n",
            " 3.88171329e+01 6.55777863e+00 6.73948090e+01 1.05701018e+02\n",
            " 1.46003082e+01 2.03312353e+02 6.24172688e+01 2.38641803e+01\n",
            " 6.70444439e+01 1.76832993e+01 3.15057291e+00 1.29420196e+01\n",
            " 1.25092912e-01 1.52871665e+02 1.96389132e+01 3.73425811e+01\n",
            " 1.25075754e-01 1.18170564e+01 1.25557339e-01 1.06102004e+01\n",
            " 5.84570710e+01 2.35793477e+00 2.56582799e+00 1.25001317e-01\n",
            " 9.40445690e+01 1.25002680e-01 3.87517485e+01 6.42788228e+01\n",
            " 1.25108957e-01 1.21932613e+02 9.48213035e+01 1.25000135e-01\n",
            " 1.25000278e-01 1.25000239e-01 1.08441755e+01 8.13341925e+00\n",
            " 1.25039490e-01 1.77998546e+02 1.71841910e+01 1.83542054e+01\n",
            " 1.43067514e+00 4.71353034e+00 3.12032398e+01 1.25095332e-01\n",
            " 6.09107721e+00 5.28014581e+01 2.37440107e+01 6.36510291e+02\n",
            " 1.65085727e+02 1.71663015e+01 9.23132237e-01 1.63704259e+02\n",
            " 4.60162419e+01 7.25360597e+01 4.53070121e+02 2.27580967e+02\n",
            " 2.85073470e+01 1.35756280e+02 8.63102125e+01 1.48174302e+01\n",
            " 1.15193137e+02 8.92656993e+01 2.43074183e+01 3.79595036e+00\n",
            " 5.68781966e+00 1.32568847e-01 1.25002807e-01 1.25000921e-01\n",
            " 1.24417916e+02 2.97518678e+01 3.06473201e+01 1.96244716e+02\n",
            " 6.99202567e+00 4.96349452e+00 1.25005019e-01 4.35760478e+00\n",
            " 1.25098780e-01 1.25012576e-01 1.81927729e+02 9.82843284e+00\n",
            " 1.25165375e-01 1.27341610e-01 1.72910587e+01 1.25044987e-01\n",
            " 3.75518482e+01 3.94656520e+02 1.17750527e+02 1.25015369e-01\n",
            " 4.24154707e+00 2.78732687e+00 8.19760202e+02 1.55448713e+02\n",
            " 1.85538830e+02 1.25032125e-01 9.23341788e+00 1.25017306e-01\n",
            " 1.25001544e-01 1.77567521e+02 1.44217758e+01 1.76137033e+01\n",
            " 2.96383983e+00 2.14299575e+02 2.15434176e+01 6.89045943e+01\n",
            " 1.12626329e+02 2.54403061e+00 1.87360808e-01 5.13635665e+01\n",
            " 2.18816672e+01 3.73813495e+01 5.63232438e+01 2.28898595e+01\n",
            " 2.63821110e+02 5.91027519e+01 2.24640910e+02 1.25330436e-01\n",
            " 1.59055259e+02 1.97205001e+02 2.97762303e+02 3.34059636e+00\n",
            " 1.04482310e+02 4.40992798e+00 1.25153134e-01 1.25036220e-01\n",
            " 3.50336045e+01 3.19242118e+01 5.12795232e+00 1.25034111e-01]\n",
            "window,use,using,server,widget,set,application,display,problem,file,xterm,lib,00,x11,03\n",
            "[6.28898164e+00 3.22990897e+02 1.25069011e-01 1.25238179e-01\n",
            " 1.25052510e-01 1.25108382e-01 1.25069322e-01 5.60003429e+01\n",
            " 2.70998781e+01 4.05099386e+01 6.68954537e+01 1.25011938e-01\n",
            " 4.07936388e+01 2.82810036e+01 7.41930017e+01 3.43407239e+01\n",
            " 3.54202672e+01 2.31930158e+01 3.85123897e+01 3.19652249e+01\n",
            " 4.27039474e+01 1.53909818e+01 6.57399205e+01 3.92032585e+01\n",
            " 3.58088685e+01 3.65433496e+01 7.88639446e+00 1.73607385e+01\n",
            " 1.25012829e-01 3.83233225e+01 1.40655110e-01 2.84669424e+01\n",
            " 1.77947112e+01 2.95295568e+01 1.29651980e+01 5.71540516e+01\n",
            " 1.25347020e+01 2.00675240e+01 1.31674030e+01 1.25000580e-01\n",
            " 4.52867427e+01 1.16808864e+01 2.15703100e+01 2.74490764e+01\n",
            " 2.76171656e+01 1.19532147e+01 1.50435789e+01 4.47716061e-01\n",
            " 5.69338130e+00 4.31138598e+01 3.88583117e+00 9.39571487e+00\n",
            " 3.91302187e+01 1.25106854e-01 1.25557765e-01 1.25052949e-01\n",
            " 5.70772908e+01 3.31370843e+01 2.28702358e+01 7.96259154e+00\n",
            " 1.08779651e+01 9.33688143e+00 1.25102859e-01 1.25004064e-01\n",
            " 3.18893153e-01 2.67538071e+00 2.64130893e+01 2.68670156e-01\n",
            " 1.25289107e-01 6.55543634e+00 3.15050682e+01 1.25035222e-01\n",
            " 1.25141242e-01 9.09445527e+00 1.44696525e-01 1.25082841e-01\n",
            " 4.08008895e+01 1.25066868e-01 2.39072307e+00 1.25002736e-01\n",
            " 1.25002969e-01 9.32292885e-01 1.25034995e-01 6.02310393e+01\n",
            " 1.63857667e-01 3.22375312e+01 1.25001440e-01 2.28851545e+01\n",
            " 1.25167020e-01 1.25084010e-01 1.25120050e-01 1.25044316e-01\n",
            " 1.25036139e-01 1.25060846e-01 1.25284329e-01 1.06644496e+01\n",
            " 7.30580753e+01 1.25074377e-01 1.25041027e-01 1.20919239e+01\n",
            " 6.13684148e+01 1.25120727e-01 1.59124917e+02 2.52298281e+00\n",
            " 3.56124904e+02 1.00412492e+03 8.26124887e+02 1.62513175e+02\n",
            " 9.78674259e-01 2.25629189e+01 6.26126040e+00 4.41558383e+00\n",
            " 2.95498039e+01 1.25079772e-01 7.66907042e+01 2.61220799e+01\n",
            " 3.74897506e+00 1.65224023e+00 1.50952030e+00 1.25065288e-01\n",
            " 2.95368071e+00 1.08956688e+02 2.97124915e+02 1.71034372e+02\n",
            " 1.40124946e+02 1.35483168e+01 1.38124867e+02 1.25010784e-01\n",
            " 1.18597434e+00 1.25002379e-01 9.31868089e+00 2.66661637e-01\n",
            " 1.25051157e-01 1.25004958e-01 1.61809839e-01 1.85440547e+00\n",
            " 1.31819583e+00 3.28495188e+00 1.25030045e-01 6.18807633e+00\n",
            " 1.25005808e-01 1.25003442e-01 1.25039639e-01 1.25004376e-01\n",
            " 1.83407332e+01 6.77714166e+01 3.49114561e+00 7.71408643e+00\n",
            " 2.62265918e+01 2.91769969e+01 8.31737802e+00 4.54155312e+00\n",
            " 7.47629615e-01 1.25007997e-01 7.54496429e+00 7.34908542e+00\n",
            " 9.00291667e+01 6.40297928e+01 1.25112629e-01 9.89444818e+01\n",
            " 7.03116878e-01 5.28687604e+01 6.42938348e-01 1.25019631e-01\n",
            " 2.26726297e-01 6.53500740e+01 5.78171506e+01 5.48773187e+00\n",
            " 1.37539655e+02 4.51583780e+01 1.25051928e-01 2.56502701e+00\n",
            " 1.37276194e+01 1.25076996e-01 1.25080798e-01 2.72119061e+01\n",
            " 1.29268730e+01 5.55434517e+01 1.90652101e+01 5.32759038e+00\n",
            " 1.67054241e+01 1.63292154e+01 1.09171290e+01 1.25096411e-01\n",
            " 1.25000001e-01 7.56740950e+00 2.40666569e+01 2.22703035e+02\n",
            " 1.25012972e-01 1.25071619e-01 4.05541583e+00 2.73383968e+00\n",
            " 1.25106281e-01 7.37605403e+00 1.25105807e-01 1.25000005e-01\n",
            " 1.58673939e+02 1.75645485e+01 2.41956678e+01 1.25121047e-01\n",
            " 1.34770713e-01 7.48918007e+00 1.25029041e-01 2.35420606e-01\n",
            " 4.00314528e+01 1.25010008e-01 2.08469040e+00 1.41640311e+00\n",
            " 6.59895309e-01 3.98661909e+01 1.26200119e+01 2.25354940e+01\n",
            " 2.08456817e+01 1.25263482e-01 3.53217917e+00 1.85473523e+01\n",
            " 3.43200013e+01 1.25009072e-01 2.05942153e+01 1.15639224e+01\n",
            " 2.13284483e+01 3.46634567e-01 3.90297697e+01 1.25081499e-01\n",
            " 1.09689071e+01 2.66009718e+00 2.25879605e+00 1.25087249e-01\n",
            " 1.25000428e-01 1.71320968e+01 1.25074652e-01 1.25150149e-01\n",
            " 5.70604706e+00 1.25103675e-01 2.84597175e+00 3.81223610e+01\n",
            " 1.03894560e+01 2.13467935e+01 3.48105972e+01 2.95318214e+00\n",
            " 3.74573848e+01 1.56984893e+01 1.23344686e+01 1.25031647e-01\n",
            " 1.26184920e-01 1.25050264e-01 6.68319336e+01 1.25019847e-01\n",
            " 5.00021817e+00 1.25003809e-01 2.65399653e+00 6.33830146e+01\n",
            " 6.54694906e+01 1.79723946e+02 2.60091275e+00 4.82104860e+01\n",
            " 1.55140748e+01 1.25004715e-01 1.25013301e-01 1.25007819e-01\n",
            " 1.25072144e-01 1.25058876e-01 1.57390736e+01 6.24061552e-01\n",
            " 1.25008273e-01 2.18586867e+00 6.27836946e+00 4.81725681e+00\n",
            " 1.25010365e-01 1.31756806e+02 2.32569828e+01 1.49779971e+01\n",
            " 5.31374224e+01 1.25118152e-01 1.03267003e+01 4.33019281e+00\n",
            " 1.25012981e-01 2.06113297e+00 1.25008424e-01 1.77782444e+00\n",
            " 1.26754160e-01 1.32149112e+00 1.25020658e-01 1.25004116e-01\n",
            " 1.25008726e-01 1.12868167e+01 1.25012823e-01 1.25088639e-01\n",
            " 1.04989401e+00 5.43079415e+00 1.68663309e+01 2.15616990e-01\n",
            " 1.25040492e-01 3.24199225e+01 3.59598120e+01 4.01124298e+02\n",
            " 2.52708767e+00 7.89306223e+00 5.53442942e+01 1.25168933e-01\n",
            " 1.25042402e-01 1.96571156e+01 1.66614701e+01 9.19810740e+00\n",
            " 1.54639613e-01 2.71807367e-01 6.13992692e+01 4.48571430e+00\n",
            " 1.25000002e-01 7.38794401e+01 4.33404849e+00 1.25440462e-01\n",
            " 1.60083690e-01 3.62791329e+01 5.89220633e+01 1.25141588e-01\n",
            " 1.25251835e-01 1.25009757e-01 1.25110447e-01 1.73783455e+01\n",
            " 1.25008709e-01 4.81873292e+01 1.02151898e+01 4.11294144e+01\n",
            " 1.35397879e+01 1.54539759e+01 1.42685445e+01 3.79519111e+00\n",
            " 1.59670145e+01 7.09079735e+00 1.25237078e-01 5.51264079e+00\n",
            " 1.25107826e-01 1.25000774e-01 1.25134412e-01 5.61672051e+01\n",
            " 4.67369546e+01 7.64398199e+01 1.25002897e-01 5.98459391e+00\n",
            " 1.25111940e-01 3.32425099e+01 1.25009846e-01 2.65968859e+01\n",
            " 1.46946608e-01 1.25078814e-01 8.73241614e+00 5.89296428e+00\n",
            " 1.89260746e+00 5.90393958e+00 1.14985640e+01 3.11207430e+01\n",
            " 1.28680583e+01 1.13312490e+01 2.23240586e+01 3.04084633e+01\n",
            " 5.00732866e+00 1.25132747e-01 6.43990889e+01 1.25088149e-01\n",
            " 1.25049283e-01 2.97947984e+01 6.27474676e+01 8.81247180e+01\n",
            " 1.06234468e+01 1.76092128e+00 1.25005567e-01 1.25005140e-01\n",
            " 1.25024036e-01 1.59451800e+01 3.53302178e+00 1.25003776e-01\n",
            " 1.25050236e-01 6.77403152e+00 1.21630466e+01 1.25361222e-01\n",
            " 1.25051603e-01 5.51185172e+01 9.97500580e+01 6.70691577e+00\n",
            " 3.21124694e+02 1.25054566e-01 3.91801079e+00 1.25000212e-01\n",
            " 2.49081349e+01 9.92249710e+00 5.42723780e+00 1.25023914e-01\n",
            " 6.94428612e+00 4.86773364e+01 2.61180430e+01 1.26011129e-01\n",
            " 3.72232389e+01 1.25006808e-01 3.02793147e+02 1.25010111e-01\n",
            " 1.25006020e-01 4.40780144e+01 1.80440984e+02 2.68509963e+02\n",
            " 1.09565699e+02 8.56969956e+00 3.89219907e+01 6.02884596e+01\n",
            " 2.48201153e+01 1.35284359e-01 3.17686701e+00 1.49754866e+00\n",
            " 2.87667285e+01 4.26933764e+01 3.24390043e+00 3.84625265e+01\n",
            " 1.67493010e+01 6.41637426e+01 1.25116798e-01 4.10084904e+00\n",
            " 1.02644284e+01 1.25066196e-01 2.85935446e+00 8.20619852e+00\n",
            " 2.20165461e+01 7.20776835e+01 2.12989885e+00 5.42937465e+01\n",
            " 1.41252444e+01 4.27468335e+00 2.50936150e+01 1.25091807e-01\n",
            " 5.20197228e+01 1.25004289e-01 2.03719316e+01 1.54384609e+01\n",
            " 2.41045794e+02 6.33527893e+00 1.25389383e-01 1.25065437e-01\n",
            " 8.82938124e+01 1.25000477e-01 1.25004366e-01 1.41294749e+01\n",
            " 1.81812283e-01 1.31661066e+01 5.07697098e+01 7.27776406e+01\n",
            " 1.25006969e-01 5.47429252e+01 3.93442543e+01 1.25016621e-01\n",
            " 5.95694611e+00 3.36820754e+00 7.08991641e+01 4.51573043e+00\n",
            " 1.25006314e-01 1.25001666e-01 1.23022420e+01 2.16432334e+00\n",
            " 1.05590130e+01 7.51230669e+00 5.51503722e-01 5.99208551e+01\n",
            " 5.98708644e+01 1.25127971e-01 1.25052701e-01 4.41561736e+01\n",
            " 1.25000009e-01 8.26213442e+00 2.36438807e+01 1.25010189e-01\n",
            " 1.25072972e-01 9.16617131e-01 1.25000997e-01 7.23781542e+01\n",
            " 1.25006140e-01 2.92903820e+01 1.25097045e-01 1.25026244e-01\n",
            " 1.25030584e-01 1.95412852e+01 1.97124955e+02 1.25267854e-01\n",
            " 2.66282142e+01 1.39491678e+01 7.53527077e+00 3.63006245e+01\n",
            " 1.25000179e-01 6.40146685e+01 5.42825313e+00 5.13475616e+01\n",
            " 2.70416446e+02 5.16533909e+01 1.78779954e+00 1.87394782e+01\n",
            " 6.14053476e+00 6.15104996e+00 1.66015806e+01 1.01971191e+01\n",
            " 1.25111885e-01 3.54801639e+01 1.04437804e+01 3.13099537e+01\n",
            " 8.91271476e+01 8.16164280e+00 4.76677913e+00 1.25000639e-01\n",
            " 1.25000645e-01 1.25034791e-01 1.75386524e+01 1.25099945e-01\n",
            " 1.89342963e+01 2.21098651e+01 1.28368294e+02 7.61649146e+01\n",
            " 4.41566763e+00 1.25000002e-01 1.25054738e-01 2.01043867e+01\n",
            " 2.52974282e+01 1.02353614e+01 1.03388451e+02 2.39980215e+00\n",
            " 1.25051667e-01 2.57047090e+01 1.73608236e+01 2.98182084e+01\n",
            " 3.02965465e+01 3.57501307e+01 8.83605102e+01 3.13378538e+01\n",
            " 5.01165376e+01 8.17530161e+00 5.00378339e+01 4.02363944e+01\n",
            " 1.89411818e+01 2.77597659e+01 4.20176142e+01 7.35679992e+00\n",
            " 5.64970591e-01 8.20137837e+00 1.75931330e+01 5.27198466e+00\n",
            " 4.86256071e+00 1.27321330e-01 6.69212113e+00 1.25017210e-01\n",
            " 1.48513892e+01 1.25020052e-01 1.26531914e-01 1.25050526e-01\n",
            " 1.25000963e-01 1.00934886e+01 3.07715098e+01 2.70255815e+01\n",
            " 1.25072187e-01 1.28802604e+01 3.36401149e+01 6.73180131e-01\n",
            " 1.25001042e-01 1.54621466e+01 1.25068503e-01 1.25004863e-01\n",
            " 1.20481464e+02 3.69005961e+00 3.00263039e+00 9.18111883e-01\n",
            " 1.25028297e-01 9.73104920e+00 2.51401941e+01 4.01106083e+01\n",
            " 5.31338040e+00 1.41526847e+02 7.19057565e+00 1.25004351e-01\n",
            " 1.26622537e-01 1.54089525e+01 1.25041758e-01 9.18123241e+00\n",
            " 4.45652239e+01 1.25080913e-01 3.55634800e+01 6.89817027e+01\n",
            " 1.46755327e+02 2.30546104e-01 1.25005081e-01 1.25001257e-01\n",
            " 1.25019729e-01 1.25001190e-01 4.01564849e+01 9.78371522e-01\n",
            " 3.83006150e+01 1.95812141e+01 1.25003881e-01 1.25145704e-01\n",
            " 1.66852071e+00 2.45643798e+01 8.20247616e+01 1.28142283e+00\n",
            " 2.33376907e+00 2.25646411e+02 1.37181138e+02 8.11686114e+01\n",
            " 2.43859515e+00 8.93221486e+01 1.01023257e+02 2.08042992e+01\n",
            " 8.23113653e+00 4.15577773e+00 1.05272770e+00 8.50030878e+00\n",
            " 8.97527145e+00 4.10981001e+00 2.12561873e+02 1.63105879e+02\n",
            " 4.15324168e+01 1.25002069e-01 1.25880864e-01 7.04574962e+01\n",
            " 2.15424473e+01 1.25066855e-01 1.25072392e-01 1.25008115e-01\n",
            " 6.77076918e+01 3.57729932e+01 1.25063963e-01 1.25199788e-01\n",
            " 1.25043083e-01 9.13758134e+01 5.82056213e+01 3.04644214e-01\n",
            " 1.25094384e-01 1.16937644e+02 1.25000000e-01 1.17380060e+01\n",
            " 5.76007987e+01 1.25000002e-01 1.14086504e+01 2.44301583e+01\n",
            " 3.50845387e+01 4.33519012e+00 1.25453033e-01 2.08124432e+02\n",
            " 1.25008633e-01 2.78123247e+01 1.45397456e-01 5.72787978e+01\n",
            " 4.67415047e+01 1.25030467e-01 1.25017835e-01 1.67761788e+00\n",
            " 1.07427519e+01 1.25098865e-01 8.47780191e+00 8.83978634e+01\n",
            " 4.72427788e+00 1.47477391e+01 1.25000006e-01 5.03968283e+00\n",
            " 2.02466875e+01 1.25014397e-01 1.98915606e+01 5.40751271e+02\n",
            " 3.60427983e+00 3.74408101e+00 2.84513256e+01 1.09455504e+01\n",
            " 1.03611231e+01 1.25015380e-01 1.25005070e-01 1.25000003e-01\n",
            " 3.58007177e+01 3.79634717e+01 1.25234416e-01 1.25012832e-01\n",
            " 1.25004986e-01 1.25044697e-01 1.81418323e+01 3.61407617e-01\n",
            " 1.04926545e+02 4.14426395e+01 8.99979881e+01 2.18142135e+02\n",
            " 1.07906096e+01 9.99358429e+00 9.76432716e-01 1.54882400e+01\n",
            " 2.36402697e-01 4.34911603e-01 1.25000004e-01 5.05491346e+01\n",
            " 1.53340825e+01 1.44293253e+02 6.21812186e-01 9.18334587e+00\n",
            " 1.71397477e+01 1.25000001e-01 1.07300529e+01 1.14247440e+01\n",
            " 1.20612745e+01 2.60130478e+00 2.17439587e+00 1.25007314e-01\n",
            " 1.74140936e+02 7.81114153e+00 1.25000006e-01 1.25008101e-01\n",
            " 3.74386301e+00 1.08420352e+00 9.69510755e+00 1.25030071e-01\n",
            " 1.25099356e-01 2.62707407e+01 9.80692599e+01 4.50802205e+00\n",
            " 1.25085434e-01 2.13648338e+01 1.25096106e-01 4.11251609e-01\n",
            " 1.25000504e-01 4.15427232e+00 7.22724805e+01 6.92290481e+00\n",
            " 1.25000005e-01 1.24717932e+00 1.25137404e-01 2.11152322e+01\n",
            " 4.84862318e+00 3.25759173e+00 1.88437347e+00 3.38663779e+00\n",
            " 9.50953833e+00 3.63434722e+01 4.83621744e+00 1.41843949e+01\n",
            " 1.90685344e+01 1.15860582e+01 1.30640847e+01 9.03876419e+00\n",
            " 1.42161479e+01 1.56902844e+01 2.03163239e+01 3.23132541e+00\n",
            " 2.19782542e-01 4.61992222e+01 4.60414102e+01 1.98028344e+00\n",
            " 1.25009999e-01 2.44590578e+00 1.25096127e-01 1.26115648e-01\n",
            " 2.27536160e+00 1.25003594e-01 4.10964338e+00 8.65461186e+00\n",
            " 3.94799981e+01 2.65016449e+01 1.25134865e-01 4.40766321e+01\n",
            " 1.25005077e-01 1.25063886e-01 4.49218226e+01 5.71243919e+01\n",
            " 8.05939893e+01 1.72192240e+01 2.57459672e+01 1.25136820e-01\n",
            " 5.19449327e+00 2.81666893e-01 2.68904848e-01 3.03124831e+02\n",
            " 4.63814896e+02 1.53614627e+01 3.00049150e+01 1.25182515e-01\n",
            " 1.41336161e+02 2.31069076e+01 2.18335006e+01 1.32978227e+01\n",
            " 2.88932084e+01 1.40284739e+01 1.25083670e-01 1.25007919e-01\n",
            " 2.39658688e+01 1.25006952e-01 7.56086678e+01 3.70711590e+01\n",
            " 2.74917725e+01 3.88603647e+01 9.48428080e+00 2.07871032e+00\n",
            " 9.23337908e+00 6.51115456e+01 1.62124900e+02 1.49124931e+02\n",
            " 1.81668045e+00 1.25010451e-01 3.61753352e+01 3.42793410e+01\n",
            " 1.25291193e-01 1.25016973e-01 1.25000006e-01 6.03922827e+00\n",
            " 1.25000006e-01 7.21225168e+00 2.04500365e+01 2.67361350e+00\n",
            " 1.31419308e+01 1.39793022e+01 1.23257801e+01 1.25002114e-01\n",
            " 1.55776614e+01 9.99159601e+00 2.50983655e+00 2.50595100e+01\n",
            " 1.32362306e+00 7.26276397e+01 8.32326786e+00 1.25009848e-01\n",
            " 2.14127973e+02 4.53048238e+00 8.25272859e+01 2.60203947e+01\n",
            " 3.55369602e+00 1.25062894e-01 3.51908442e+00 1.25071991e-01\n",
            " 1.23992767e+02 1.94431797e+01 2.42492346e+02 1.13709202e+01\n",
            " 3.64391697e+00 1.63045625e+01 2.53581080e+00 2.80132817e-01\n",
            " 1.98841755e+00 6.29470328e+00 1.25023492e-01 2.72424652e+00\n",
            " 1.29122970e+02 6.39557705e+00 7.57192820e+01 1.75540978e+01\n",
            " 5.96825494e+01 1.53851868e+01 1.25007076e-01 2.77974850e+00\n",
            " 3.05060125e+01 6.14900673e+00 5.40666472e+01 1.12443577e+00\n",
            " 8.88461724e+00 1.25050777e-01 8.76902673e+00 1.25032582e-01\n",
            " 1.25007856e-01 8.14627110e+01 1.25032260e-01 1.30875361e+01\n",
            " 3.46496458e+01 7.69477279e+00 1.04641829e+00 8.78430936e-01\n",
            " 1.25013819e-01 8.94191768e+00 7.48440850e+01 1.25103748e-01\n",
            " 1.63745461e+01 1.06494260e+01 1.02148311e+00 1.25273437e-01\n",
            " 1.25000372e-01 1.91418956e-01 1.25078181e-01 2.23942384e+00\n",
            " 1.25063756e-01 7.44254115e-01 1.25078807e-01 1.89798245e+00\n",
            " 1.28000453e-01 8.98513861e+00 1.25000291e-01 2.24894182e+00\n",
            " 9.45761412e+00 2.21547633e+00 2.53547393e-01 3.49336596e+01\n",
            " 1.25000127e-01 9.32807590e+01 7.72258358e+01 1.17284669e+01\n",
            " 1.05627037e+02 1.20091854e+02 1.32436216e+02 1.25000007e-01\n",
            " 1.25015488e-01 3.09687912e+00 8.29589998e+00 1.57675257e+02\n",
            " 5.00637847e+01 1.07788310e+02 4.77350541e+00 1.25202222e-01\n",
            " 1.17366556e+01 4.04646157e+00 1.00676052e+01 3.90700713e+02\n",
            " 6.86124894e+02 3.19124884e+02 1.13230377e+01 2.79056756e+01\n",
            " 2.62117031e+00 1.43283303e-01 1.25006181e-01 1.25001249e-01\n",
            " 5.89171444e+00 1.41341591e+00 7.82679719e+00 6.31172870e+01\n",
            " 2.76054530e+02 1.25004282e-01 1.25038608e-01 6.00607438e+00\n",
            " 4.04277112e+00 1.25025882e-01 1.25114953e-01 1.25004281e-01\n",
            " 1.25007259e-01 1.25074577e-01 1.18535144e+01 1.25002666e-01\n",
            " 2.80242694e+00 7.39818179e-01 1.25056452e-01 2.11699115e+01\n",
            " 1.23016460e+02 1.05984404e+01 1.25006756e-01 4.98098837e+00\n",
            " 7.04172069e+00 1.25001748e-01 1.06934550e+02 1.49763903e+02\n",
            " 1.25013725e-01 1.25004122e-01 5.03257146e+01 2.63949355e+01\n",
            " 1.86798762e+01 1.25127322e-01 2.01327593e+02 4.08706825e+00\n",
            " 1.53897004e+01 3.11221479e+00 5.72832824e+01 1.49699488e+01\n",
            " 1.15011701e+01 1.66798588e+02 7.10349112e-01 8.58539898e+01\n",
            " 7.27725622e+00 1.25000002e-01 1.25000968e-01 7.25146473e+01\n",
            " 1.25039612e-01 6.46765278e-01 3.97298560e+01 1.25035934e-01\n",
            " 2.17619828e+01 1.25018679e-01 6.99768794e+00 2.57675323e+01\n",
            " 2.05587051e+02 2.44390531e+00 1.25008113e-01 1.25476359e-01\n",
            " 2.90422893e-01 4.75256169e+01 4.06073230e+01 1.37231963e+01\n",
            " 2.18636623e-01 1.32975391e+02 3.24386205e+00 9.80902154e+00\n",
            " 3.94863017e+00 4.70335926e+00 5.37376989e-01 2.55939260e+01\n",
            " 1.25006365e-01 1.25008468e-01 1.25003832e-01 1.25000003e-01\n",
            " 1.25000002e-01 1.25000002e-01 1.25000002e-01 1.25000390e-01\n",
            " 1.25006871e-01 9.73210151e+01 1.50855104e+02 1.17304151e+01\n",
            " 6.61207797e+00 1.64240537e+02 2.77145259e+01 1.25031849e-01]\n",
            "armenian,armenians,turkish,people,said,dos dos,turkey,armenia,000,genocide,turks,russian,government,azerbaijan,university\n",
            "[5.84287265e+01 1.25059142e-01 1.57615064e+00 5.27393459e+00\n",
            " 1.26559162e+01 9.41162669e+00 5.98443640e+00 6.34702848e+01\n",
            " 2.16285362e+01 2.56629250e+01 2.13875107e+01 4.48290685e+00\n",
            " 1.28341708e+01 2.28359973e+01 4.64087605e+01 8.07221110e+01\n",
            " 5.71588455e+00 1.36329298e+01 1.22323704e+01 1.29413483e-01\n",
            " 6.17568722e+00 4.97471390e+01 3.13860375e+01 4.03917243e+00\n",
            " 2.07096945e+01 5.49851512e+00 3.35198616e+00 2.24258317e+02\n",
            " 1.57338120e+02 4.50943654e+01 1.16619254e+02 1.25039499e-01\n",
            " 1.03799630e+00 1.85861972e+00 1.25040398e-01 1.69885899e+01\n",
            " 3.30005090e+00 3.01082393e+00 3.30161668e+01 1.25093208e-01\n",
            " 3.78040287e+00 5.12391545e+00 2.23460023e+01 1.25108171e-01\n",
            " 5.14110187e+00 1.15293249e+01 1.25039382e-01 1.25134516e-01\n",
            " 2.11788985e+00 2.61112238e+00 1.17845164e+01 1.25266152e-01\n",
            " 3.14904306e+01 1.25887615e+00 1.30009801e+01 9.90133945e+00\n",
            " 1.25058308e-01 1.25148336e-01 1.25048958e-01 1.25047825e-01\n",
            " 4.52667668e+00 2.05850451e+00 2.13394959e+01 1.25003251e-01\n",
            " 1.47647335e+01 1.28230218e+01 9.81959805e+00 6.87851493e+01\n",
            " 1.25002134e-01 1.25145772e-01 1.25113460e-01 5.04587503e+00\n",
            " 1.25060866e-01 2.88150549e+01 2.13762106e+01 2.69636766e+01\n",
            " 1.25032387e-01 4.62287326e+01 8.09457514e+00 3.37578268e+01\n",
            " 1.36433715e+01 2.50270279e+01 3.78303338e+01 1.32421947e+00\n",
            " 9.82843545e+00 1.25000126e-01 1.49677818e+01 1.65559637e+00\n",
            " 1.25165163e-01 4.03106288e+00 3.12132524e+00 9.63983739e+00\n",
            " 2.88863769e+01 1.25096748e-01 6.03109447e+00 2.17174890e+01\n",
            " 3.80311585e+00 1.25002193e-01 1.25000905e-01 7.66436834e+01\n",
            " 7.11963408e+00 1.38959029e+01 1.25000446e-01 6.95484847e+00\n",
            " 1.25000265e-01 1.25000144e-01 1.25000268e-01 4.77101715e+00\n",
            " 1.30738923e+01 4.67124012e+01 5.55348544e+00 3.21009819e+01\n",
            " 1.25126522e-01 7.88344764e+00 1.25041541e-01 2.85626096e+01\n",
            " 1.12756075e+02 1.25004280e-01 1.42175260e+02 3.33557454e+00\n",
            " 4.92531357e+01 1.22764001e+01 1.25000032e-01 1.25000000e-01\n",
            " 1.25000001e-01 1.61707478e+01 1.25000000e-01 1.25007175e-01\n",
            " 1.25090683e-01 1.25003895e-01 2.66230151e+01 1.90537463e+01\n",
            " 7.39604512e+00 1.25005763e-01 1.25006889e-01 4.59886755e+00\n",
            " 8.34230961e+01 1.20256858e+02 1.25006040e-01 2.20150072e+01\n",
            " 1.25002129e-01 1.25001973e-01 4.00569317e+02 1.59693777e+02\n",
            " 3.03685534e+01 1.25003877e-01 6.43052654e-01 8.21079390e+00\n",
            " 7.11974101e+00 1.25109235e-01 1.14905382e+00 1.25015110e-01\n",
            " 3.78386306e+00 1.25000400e-01 2.51668677e+01 1.25023223e-01\n",
            " 1.25091279e-01 1.25133229e-01 1.40766735e+02 1.89019918e+00\n",
            " 3.80959015e+01 1.25030609e-01 1.18510568e+00 1.25035769e-01\n",
            " 2.16685470e+00 3.73798458e+00 3.48174974e+01 1.25049163e-01\n",
            " 1.25031652e-01 1.25016749e-01 9.07299720e+00 4.77364519e+00\n",
            " 6.93841631e+01 1.81909696e+01 1.25003237e-01 7.62575536e+00\n",
            " 9.39088497e-01 1.25000652e-01 2.25079722e+01 1.25176739e-01\n",
            " 1.32680822e+01 7.99215376e+01 2.82597494e+00 4.22528239e+01\n",
            " 1.28996044e+02 8.00842858e+01 1.25024569e-01 1.25018166e-01\n",
            " 1.25096031e-01 4.03604836e+01 1.25001600e-01 1.25001878e-01\n",
            " 1.25001331e-01 1.25002139e-01 1.25017534e-01 1.25020240e-01\n",
            " 1.25040620e-01 7.29684423e+00 4.60030185e+00 1.25052167e-01\n",
            " 9.12928678e+00 5.00771864e+00 4.10190611e+00 1.25034034e-01\n",
            " 8.88788768e+00 1.18919263e+02 4.53553729e+02 1.48460511e+02\n",
            " 3.74573922e+01 1.06920137e+01 1.66549533e+01 1.25162241e-01\n",
            " 2.89459452e+01 2.80869726e+01 6.51804951e+01 1.79733642e+01\n",
            " 1.25074395e-01 4.22830502e+01 6.01703368e+00 7.29989951e+00\n",
            " 1.35130743e+01 9.69141562e+00 2.40646289e+00 8.03553170e+00\n",
            " 1.25074923e-01 1.57804264e+01 5.97054754e+00 1.25081450e-01\n",
            " 1.06035649e+01 1.39486158e-01 1.21448418e+02 1.95438685e+02\n",
            " 5.05194372e+01 2.39323440e+01 4.06569375e+00 1.48180598e-01\n",
            " 4.85747190e+01 1.25004380e-01 6.28944039e+00 1.44410432e+01\n",
            " 1.16342422e+01 3.72483476e+01 1.99244185e+01 1.03571141e+01\n",
            " 1.21447144e+02 2.22926990e+01 6.34626901e+00 8.88678830e+01\n",
            " 4.83585507e+01 1.25031302e-01 1.25046042e-01 3.11131981e+00\n",
            " 1.25070141e-01 1.25050569e-01 3.03567649e+01 1.25059213e-01\n",
            " 5.41125553e+00 4.53818963e+01 9.58487167e+01 2.46868200e+01\n",
            " 3.45187817e+00 1.25121697e-01 3.21792368e+01 2.00988893e+01\n",
            " 8.82518641e+00 1.01588245e+01 5.21983981e+01 1.25045015e-01\n",
            " 1.25084265e-01 1.57812485e+01 6.07310805e+00 1.25040655e-01\n",
            " 1.25005501e-01 4.85036633e+00 7.57912958e+01 9.02287021e+00\n",
            " 2.78807946e+01 2.36097810e+01 7.35083468e+01 2.31479274e+00\n",
            " 6.59397234e+01 2.21929883e+02 6.39307473e+01 9.14518778e+00\n",
            " 1.25016801e-01 1.76155203e+02 1.25124386e-01 3.37280482e+01\n",
            " 1.25003342e-01 1.69477328e+01 1.68775886e+02 1.83933871e+01\n",
            " 1.25045768e-01 1.25040516e-01 3.18824844e+01 1.25000000e-01\n",
            " 2.44989938e+01 1.25081340e-01 1.25068949e-01 5.57651172e+00\n",
            " 1.25142749e-01 1.73207234e+01 4.63295641e+01 1.16067947e+01\n",
            " 2.08000006e-01 1.49347317e+01 1.25042036e-01 1.25127287e-01\n",
            " 3.02137321e+01 3.24910076e-01 8.95275022e+01 1.85583386e+01\n",
            " 8.51711967e+01 6.47578217e+01 1.11468119e+00 1.58924812e+02\n",
            " 3.80263655e+02 8.21116795e+00 5.83482317e+01 1.25073143e-01\n",
            " 1.25001479e-01 1.25039815e-01 1.25024346e-01 1.25020229e-01\n",
            " 1.25042719e-01 5.28468078e+00 4.30420591e+01 2.56935981e+01\n",
            " 1.25103854e-01 1.25174602e-01 1.82142113e+01 4.76532033e+00\n",
            " 1.73943071e+01 1.17389086e+01 5.80056927e+00 1.25065145e-01\n",
            " 5.28270365e+00 1.10763726e+01 9.12010628e+00 1.25000695e-01\n",
            " 1.40150451e+01 9.86903906e+00 6.45482370e+01 2.37415751e+01\n",
            " 2.95926440e+01 3.54246526e+01 1.25016263e-01 7.30073774e+00\n",
            " 1.68104125e+01 2.35336260e+00 1.92932288e-01 1.25135999e-01\n",
            " 9.36158479e+02 4.18065246e+02 3.93050011e+01 9.68007875e+00\n",
            " 1.80168022e+01 7.03821556e+00 5.60293286e+01 1.25024071e-01\n",
            " 1.25060697e-01 1.25031517e-01 1.25007395e-01 1.27033756e-01\n",
            " 9.42673981e+00 2.06465210e+01 4.10664272e+02 1.36178321e+02\n",
            " 2.01690060e+01 1.53545658e+02 1.25132669e-01 1.05181588e+02\n",
            " 5.25411694e+01 2.21229237e+01 1.37162171e+01 7.68247670e+00\n",
            " 1.25012298e-01 1.25058201e-01 1.86872143e+01 4.58988983e+00\n",
            " 1.25000672e-01 5.80752942e+00 1.58003252e+01 4.48588822e+02\n",
            " 4.27800249e+01 3.97779856e+00 7.37340576e-01 1.25065035e-01\n",
            " 1.15396476e+01 1.08711788e+01 4.78806867e+00 8.23480569e+01\n",
            " 3.60789941e+00 1.25061999e-01 4.62217106e+00 8.60526015e-01\n",
            " 1.21405241e+02 2.15904181e+01 1.25003723e-01 5.17492265e+00\n",
            " 1.25001488e-01 6.75475527e-01 1.25060165e-01 4.40105259e+01\n",
            " 1.11171756e+01 1.25106183e-01 1.25046035e-01 1.25013683e-01\n",
            " 7.81939077e+00 3.56948602e+01 2.43592105e+01 1.25095362e-01\n",
            " 1.25041738e-01 1.25011546e-01 5.52857476e+00 9.16082653e+00\n",
            " 1.13393265e+01 8.37875080e+01 1.25016995e-01 1.25163308e-01\n",
            " 7.48241301e+00 1.25051459e-01 1.25082150e-01 1.10173354e+01\n",
            " 1.25038673e-01 1.25001821e-01 1.25187315e-01 1.25026956e-01\n",
            " 3.85679181e+01 2.37356289e+01 6.96716945e+01 1.79333963e+01\n",
            " 1.13987680e+00 5.28538454e+00 2.48109160e+00 1.25003619e-01\n",
            " 3.87433599e+00 1.25003438e-01 1.25003237e-01 9.95805688e+00\n",
            " 1.88618088e+01 1.25012882e-01 1.25037142e-01 1.25068137e-01\n",
            " 1.25153193e-01 2.06581828e+01 1.25000001e-01 3.94641644e+00\n",
            " 1.27472017e-01 1.25122605e-01 1.25236537e-01 1.07240241e+03\n",
            " 3.43429035e+01 4.42293280e+02 1.25074281e-01 8.43304301e+00\n",
            " 1.05021762e+02 2.00676105e+01 1.61804851e+01 2.59283417e+01\n",
            " 2.45086175e+01 2.98572015e+01 1.82742658e+02 1.22922721e+02\n",
            " 1.29189221e+02 1.20552863e+01 3.36290440e+01 1.14802403e+02\n",
            " 3.76774497e+00 1.12579689e+01 2.80713584e+01 2.92409056e+01\n",
            " 1.97083013e+01 4.08995324e+00 1.77692357e+01 1.25037907e-01\n",
            " 1.25001942e-01 2.70541909e+00 1.25000166e-01 1.25004796e-01\n",
            " 1.25002931e-01 1.25001425e-01 1.86514816e-01 1.58378295e+01\n",
            " 7.99124948e+02 3.44480635e+01 1.75506500e+01 1.25133001e-01\n",
            " 1.25021905e-01 1.25009415e-01 6.37362392e+00 1.25053184e-01\n",
            " 5.74852075e+01 5.90384024e+00 2.00836670e+01 1.25145034e-01\n",
            " 1.25000205e-01 1.25048372e-01 1.68181873e+01 6.07011955e+01\n",
            " 2.31747042e+01 2.03503793e+01 1.25011025e-01 1.12657751e+01\n",
            " 1.12933614e+01 8.51699614e+00 1.25004864e-01 1.02262452e+01\n",
            " 8.38267132e+00 1.25115133e-01 1.32127487e+01 4.09519778e+01\n",
            " 2.44604651e+01 1.25050591e-01 1.26195417e+01 2.09942161e+01\n",
            " 2.37477967e+00 6.67621565e+00 8.14227760e+01 3.00652112e+01\n",
            " 2.41682567e+01 1.88351683e+02 8.75094625e+01 3.32816463e+01\n",
            " 1.35660671e+01 1.25049496e-01 1.25001615e-01 1.25012320e-01\n",
            " 1.25025144e-01 4.96042792e+01 1.25072664e-01 5.73745498e+01\n",
            " 1.66977520e+01 7.28351729e+01 5.31308381e+00 2.33532179e+01\n",
            " 1.42333927e+01 1.25002269e-01 9.32560948e+00 4.10124021e+01\n",
            " 4.69723404e+00 1.25019496e-01 2.11360605e+01 9.21179182e+01\n",
            " 5.28291149e+01 1.94511260e+01 1.17494833e+01 2.10235128e+01\n",
            " 1.25020534e-01 1.73481881e+01 1.10635958e+01 1.19107842e+02\n",
            " 9.46619521e+00 1.05049724e+01 2.86651870e+00 3.59285887e+00\n",
            " 8.80350709e+00 1.25097875e-01 1.25023902e-01 1.25002867e-01\n",
            " 1.25000013e-01 1.25151171e-01 1.06732362e+01 1.58302690e+01\n",
            " 1.19124065e+01 2.21760145e+01 1.25024610e-01 1.25026456e-01\n",
            " 5.13653255e+01 1.25003837e-01 7.43990879e+00 5.11069367e+01\n",
            " 1.02698463e+01 6.89130064e+00 3.50619841e-01 4.85038307e+00\n",
            " 1.25047286e-01 1.25081480e-01 1.25008409e-01 1.25064132e-01\n",
            " 6.72783440e+00 2.13322048e+01 2.59990485e+01 2.39145884e+01\n",
            " 8.03248001e+01 3.26589908e+00 4.14966105e-01 9.40819855e+00\n",
            " 3.48916652e+00 1.25020288e-01 1.25022111e-01 1.25007204e-01\n",
            " 1.27233541e-01 5.93344682e-01 1.25044037e-01 5.91166760e+00\n",
            " 3.73622772e+01 1.25000698e-01 1.25001972e-01 1.36751868e-01\n",
            " 2.29778846e+00 1.25001292e-01 3.45156043e+00 1.48954660e+01\n",
            " 1.29290475e+02 4.43535727e+01 2.09126622e+01 3.51544742e+01\n",
            " 2.23108961e+00 1.25032315e-01 5.85493766e+01 1.35052866e-01\n",
            " 3.82214434e+01 1.12285895e+01 3.08456368e+01 1.25010697e-01\n",
            " 9.55163377e+01 1.54704859e+01 1.19388974e+02 8.74329289e+01\n",
            " 1.72684027e+02 4.18785593e+00 1.25703523e-01 1.25064453e-01\n",
            " 1.25167585e-01 1.25045427e-01 1.27059301e+01 1.25033618e-01\n",
            " 2.98445186e+01 4.24718703e+01 1.36125000e+02 1.11256936e+01\n",
            " 7.68633833e+01 1.25022808e-01 9.49030166e+00 3.10470111e+01\n",
            " 1.14482658e+01 1.08171602e+02 3.43393742e+01 1.25000338e-01\n",
            " 4.83979250e+02 1.24939172e+01 5.05725415e+01 2.93824451e+01\n",
            " 1.28375459e-01 1.25000217e-01 1.25000002e-01 9.81312826e+00\n",
            " 1.25027491e-01 6.14087093e+01 6.72169906e+00 1.25024958e-01\n",
            " 1.24144945e+01 1.25029285e-01 1.25033546e-01 5.50447144e+00\n",
            " 1.25042154e-01 6.23511707e+01 1.25000837e-01 6.70195640e+01\n",
            " 7.06125773e+00 8.23786401e+00 1.77235944e+01 1.92368655e+00\n",
            " 8.02760631e+01 1.25000626e-01 1.25000328e-01 1.43999452e+02\n",
            " 1.50606649e+01 1.47064446e+01 9.39504200e-01 1.25069362e-01\n",
            " 1.25003043e-01 1.28446524e+01 2.49771909e+01 4.08823711e+00\n",
            " 1.25002592e-01 1.25005601e-01 1.25063855e-01 1.25013050e-01\n",
            " 3.16692859e+00 2.43400435e+01 1.19767534e+01 1.52309296e+01\n",
            " 3.46369822e+01 2.20239872e+01 8.81580683e+01 4.83841741e+00\n",
            " 8.87236136e+00 1.08389680e+01 1.16010165e+01 3.83287447e+01\n",
            " 4.53961050e+00 1.49124816e+02 3.51632395e+01 3.70713696e+01\n",
            " 1.13482049e+01 6.28806284e+01 6.77664246e+01 1.61999898e+01\n",
            " 2.17110247e+00 5.91853658e+02 1.95143728e+01 2.36348212e+02\n",
            " 2.62424810e+00 2.49264612e+01 2.64543266e+01 1.68254151e+01\n",
            " 5.95351374e+01 1.59373485e+01 8.98968652e+00 1.94778244e+01\n",
            " 1.88932683e+02 1.25136749e-01 2.23766115e+01 1.67917845e+01\n",
            " 1.25021424e-01 1.25092670e-01 1.25142082e-01 3.58106093e+01\n",
            " 7.92328788e+00 2.01930166e+02 4.53229705e+01 2.80387374e+01\n",
            " 2.16245757e+01 2.28372589e+01 5.54763616e+00 7.08742596e+00\n",
            " 2.68654997e+01 1.26050864e+01 1.51416089e+01 8.98501629e+00\n",
            " 4.97239522e+00 1.25268092e-01 2.18123178e+01 1.48079075e+01\n",
            " 1.25008659e-01 1.25000906e-01 6.67128895e+00 1.25074446e-01\n",
            " 9.11129540e+00 1.75906756e+01 1.25063771e-01 1.99401915e+01\n",
            " 2.42955347e+01 2.84564866e+01 5.46439301e+01 2.06563833e+00\n",
            " 4.99079482e+01 1.25058753e-01 1.25048752e-01 1.25112974e-01\n",
            " 1.18895397e+01 2.65228969e+01 4.02596799e+01 1.01571192e+02\n",
            " 1.25004496e-01 1.25002948e-01 3.46682674e+01 1.02015783e+01\n",
            " 5.72739082e-01 4.12881274e-01 2.18087609e+01 1.54124759e+02\n",
            " 4.89567919e+01 8.28984114e+00 8.27934047e+00 1.25007732e-01\n",
            " 8.98457339e+00 7.57803226e-01 6.36089250e+01 7.78172271e+00\n",
            " 3.80916677e+00 3.27359088e+01 1.25817127e+01 1.25090432e-01\n",
            " 4.60829277e+00 1.25063294e-01 1.07320790e+02 1.25001254e-01\n",
            " 2.64974869e+00 1.25005229e-01 1.12208181e+01 2.14289359e+02\n",
            " 1.25010943e-01 9.28604405e+00 1.10359920e+01 6.86535209e+01\n",
            " 1.25062444e-01 8.92816772e+00 1.25000413e-01 1.25000448e-01\n",
            " 1.42764748e-01 6.18991085e+00 1.25058498e-01 5.90815785e+01\n",
            " 6.72950890e+01 1.25007409e-01 1.99256865e+00 2.16240683e+00\n",
            " 1.03258673e+02 2.45330344e+00 2.20458897e+01 2.18661427e+01\n",
            " 2.80484017e+01 2.76759082e+01 2.20238692e+01 2.17586433e+00\n",
            " 3.18119746e+01 2.20603208e+01 6.54097039e+01 1.94432889e+01\n",
            " 1.53782719e+02 7.32979013e+01 1.25032371e-01 1.63620299e+02\n",
            " 1.25011238e-01 1.25351999e-01 1.25032799e-01 1.25069314e-01\n",
            " 4.47627894e+00 1.90447197e+01 1.25121500e-01 1.25143562e-01\n",
            " 1.26585115e+02 4.01757074e+01 1.25001370e-01 8.48327154e+01\n",
            " 1.25101941e-01 4.39277348e+01 2.76790650e+01 1.65901451e+01\n",
            " 1.25063210e-01 1.06494699e+01 9.44348719e+01 5.86800707e+01\n",
            " 3.28429411e+00 5.58241223e+00 3.18241404e+00 1.25074440e-01\n",
            " 1.25073999e-01 4.72052604e+00 1.25079341e-01 1.25102213e-01\n",
            " 1.25081931e-01 1.32737298e+02 1.25062986e-01 2.77229571e+01\n",
            " 9.79944203e+00 5.86094090e+00 2.72018435e+01 1.81107853e+01\n",
            " 2.02866040e+01 1.25000000e-01 4.01155718e+01 3.45409615e-01\n",
            " 5.55309790e+01 1.06745394e+01 2.15595569e+01 7.64855589e+01\n",
            " 2.70102667e+01 1.86354550e+01 1.25126918e-01 1.08902503e+01\n",
            " 1.25145438e-01 3.54632041e+00 1.25137500e-01 1.25084035e-01\n",
            " 2.12483852e+01 1.25023703e-01 5.98245648e+00 2.23920340e+01\n",
            " 4.88321796e+00 1.47194273e+01 4.72920663e+01 6.96417775e+01\n",
            " 9.32794396e+00 2.41082573e+00 1.25097281e-01 3.91909060e+01\n",
            " 1.70230824e+01 5.68917184e+00 1.25090476e-01 9.02885308e+00\n",
            " 1.65706228e+02 1.03053213e+02 8.79263675e+00 7.52693350e+01\n",
            " 3.88782546e+00 1.25085062e-01 1.25088767e-01 2.07258960e+01\n",
            " 1.25191685e-01 2.70143121e+01 2.89399800e-01 1.25150095e-01\n",
            " 3.08452494e-01 1.25001050e-01 1.50969695e+01 5.48796625e+01\n",
            " 1.25016876e-01 9.00135477e+01 9.14248859e+00 1.25039369e-01\n",
            " 1.25000144e-01 1.25001166e-01 1.13656553e+01 4.86302753e+00\n",
            " 2.03289541e-01 4.76941674e+01 2.98567128e+01 3.31974701e+00\n",
            " 8.57742312e+00 1.25070319e-01 1.16753152e+01 1.25034522e-01\n",
            " 4.61826276e+00 2.03628684e+01 4.31824515e+01 3.88326964e+02\n",
            " 9.23097484e+01 5.20909998e+01 7.23516631e+01 7.16999459e+01\n",
            " 3.13060168e+01 3.49892625e+01 9.26496976e+01 1.25065076e-01\n",
            " 4.33852891e+01 5.71220735e+01 3.24039090e+01 1.45397352e+01\n",
            " 9.64072585e+00 2.33031357e+02 3.92484403e+01 6.31087896e+01\n",
            " 8.17461182e+01 1.18720546e+02 1.25004045e-01 1.25000285e-01\n",
            " 6.01889907e+00 1.29024263e-01 9.66692552e+00 1.07620357e+02\n",
            " 4.02378195e+00 1.25057472e-01 1.25012966e-01 1.25036383e-01\n",
            " 6.52635584e+00 1.25008605e-01 5.86345173e+01 2.15395153e+01\n",
            " 1.25040418e-01 1.25033318e-01 1.25026653e-01 2.37188039e+00\n",
            " 2.64864430e+01 1.25052858e-01 1.25020880e-01 1.25015152e-01\n",
            " 9.58451825e+00 2.29576855e+01 2.03962705e+01 1.25062320e-01\n",
            " 7.37224658e+01 1.25080724e-01 7.08700439e+00 1.25012245e-01\n",
            " 1.25004836e-01 1.52019326e+01 5.33982738e+00 3.65840534e+00\n",
            " 1.36379829e+01 7.38849558e+01 3.74649806e+00 8.80918300e+00\n",
            " 3.98200536e+01 1.80717705e+01 1.25026211e-01 1.62551388e+02\n",
            " 4.39926320e+01 2.67572343e+01 1.28060260e+00 1.54180356e+01\n",
            " 1.25062340e-01 1.35134225e-01 2.67421022e-01 1.25070155e-01\n",
            " 1.25095994e-01 1.25011718e-01 1.25064104e-01 2.03726117e+02\n",
            " 1.25024328e-01 7.74165545e+01 4.00179088e+00 1.25027718e-01\n",
            " 1.25125393e-01 1.36536501e-01 1.25012890e-01 1.22767171e+02]\n",
            "image,file,jpeg,program,output,color,gif,images,files,format,bit,use,entry,programs,version\n",
            "[1.13762467e+02 2.16422450e+01 1.25110322e-01 1.25054498e-01\n",
            " 1.25197043e-01 7.77933470e+00 1.25254405e-01 6.47872434e+01\n",
            " 7.03048458e+01 8.07310760e+01 8.51348155e+01 2.35086023e+02\n",
            " 3.74152801e+01 4.64960284e+01 3.90016742e+01 9.78748074e+01\n",
            " 4.70175777e+01 6.89561589e+01 3.41555418e+01 2.42446110e+01\n",
            " 5.26595678e+01 9.12173628e+01 6.15548152e+01 2.80342477e+01\n",
            " 4.87748281e+01 2.43428418e+01 3.85122931e+01 9.56517947e+01\n",
            " 6.91173305e+00 3.36015033e+01 1.75278837e+01 1.02291274e+01\n",
            " 2.78734219e+01 1.07802817e+01 1.65726354e+01 5.73905127e+01\n",
            " 3.67830208e+01 1.99698177e+01 6.41225247e+01 2.99122579e+02\n",
            " 6.56070461e+01 8.20295018e+01 6.24499578e+01 1.15002620e+01\n",
            " 1.75494233e+01 1.60869911e+01 1.16820925e+02 6.20520547e+01\n",
            " 9.20395493e+01 8.59766970e+01 1.01134647e+02 3.06828310e+01\n",
            " 5.26584002e+01 2.03338814e+02 2.76519964e+00 1.74226906e+02\n",
            " 1.28611434e-01 8.34000727e+00 5.60643330e+00 1.25116247e-01\n",
            " 1.13312224e+00 1.25262790e-01 8.61465643e+00 1.25003513e-01\n",
            " 5.23305426e+01 5.35897001e+01 5.66367620e+01 2.51771862e+02\n",
            " 1.25008314e-01 1.70147058e+02 1.09228927e+01 1.25242569e-01\n",
            " 7.05632114e+00 2.95135207e+01 1.25090398e-01 6.86586249e+01\n",
            " 8.14672803e+00 1.90021088e+02 1.46578588e+02 1.39158279e+02\n",
            " 1.20271340e+02 1.43053925e+01 6.92660845e+01 8.38226776e+00\n",
            " 5.50508451e+01 1.25000168e-01 2.02528462e+00 1.49440459e+01\n",
            " 1.82687263e+00 2.09682565e+01 1.05867081e+02 2.04279230e+02\n",
            " 1.25161436e-01 4.22427336e+01 9.16013256e+01 1.68581434e+01\n",
            " 1.65701436e+01 1.25001437e-01 1.25000726e-01 1.49330403e+02\n",
            " 6.85836615e+01 1.25152218e-01 1.25005782e-01 1.25088810e-01\n",
            " 1.25001078e-01 1.25000960e-01 1.25001683e-01 3.03766747e+01\n",
            " 6.31411804e+01 7.92486514e+01 5.99360684e+01 4.28215043e+01\n",
            " 3.06658467e+01 3.17394197e+00 1.25052474e-01 5.98484746e+00\n",
            " 6.42059785e+01 1.25019571e-01 7.73127358e+02 1.25077887e-01\n",
            " 7.82288908e+00 1.13158504e+00 1.25001637e-01 1.25000338e-01\n",
            " 1.25000671e-01 3.82383972e+00 1.25002316e-01 1.21588194e+00\n",
            " 2.27496934e+01 1.25027030e-01 3.41487470e+02 3.14370009e+01\n",
            " 7.29948891e+00 1.25010085e-01 1.25022982e-01 2.97916239e+00\n",
            " 2.64792488e+01 6.21329457e+00 1.25129720e-01 6.25810549e+00\n",
            " 1.25013321e-01 1.25056961e-01 3.95110890e+01 2.37873548e+00\n",
            " 1.28146125e+00 1.25006727e-01 1.25147062e-01 6.53522473e+01\n",
            " 4.64592528e+01 6.25867190e+01 5.22465075e+01 1.25014337e-01\n",
            " 7.41588645e+01 1.25003460e-01 1.25034870e-01 1.25188832e-01\n",
            " 2.95409197e+00 6.29051892e-01 1.55443076e+01 6.27695636e+01\n",
            " 6.48914039e+01 8.05127589e+01 5.07798988e+00 1.51223170e+01\n",
            " 2.43979116e+02 1.10564268e+01 1.00056355e+02 1.01071814e+01\n",
            " 2.95511397e+00 1.25338417e-01 1.88584848e+02 5.72882395e+00\n",
            " 6.27729459e+00 4.00144679e-01 1.25012977e-01 1.27094658e-01\n",
            " 1.06109006e+02 1.16964619e+00 1.25468032e-01 5.73729510e+00\n",
            " 1.25083657e-01 2.52812940e+01 2.03468740e+01 1.87794959e+01\n",
            " 1.25019141e-01 7.40567032e+01 1.25045875e-01 1.25102387e-01\n",
            " 4.02897810e+00 1.18637027e+01 1.25010371e-01 1.25068818e-01\n",
            " 1.25016043e-01 1.25004604e-01 1.25018768e-01 1.50147171e-01\n",
            " 1.43156200e+01 9.41067307e-01 1.13619634e+00 9.87934878e+00\n",
            " 1.25089652e-01 1.25039358e-01 5.06236875e+01 6.89668823e+01\n",
            " 6.33040271e+00 2.56875285e+02 1.10502146e+02 4.07207165e+00\n",
            " 5.43107643e+02 1.96007324e+01 1.31216678e+01 2.19361200e+00\n",
            " 3.03730812e+01 4.07812989e+01 1.04288200e+02 3.70621657e+01\n",
            " 1.56996087e+01 2.20496995e+02 5.66441499e+01 9.35310414e+01\n",
            " 1.25165344e-01 4.07676831e+02 1.39988155e+02 5.22766572e+00\n",
            " 1.01627250e+01 2.52512284e+02 1.17722510e+02 1.25241008e-01\n",
            " 1.98700076e+02 5.21189527e+01 1.71844442e+01 8.61555629e+00\n",
            " 1.31944936e+02 7.78559325e+00 4.10594957e+01 1.11821818e+01\n",
            " 1.58561296e+00 3.23634874e-01 1.28807996e-01 2.02766182e+01\n",
            " 2.52657124e+01 4.16696750e+01 9.44508734e+00 2.10354124e+02\n",
            " 6.19627856e+01 9.21476684e+01 1.87112743e+01 5.44344144e+02\n",
            " 4.09131745e+01 1.32392013e+01 9.82012094e+01 4.41848577e+01\n",
            " 2.69749053e+01 1.25068265e-01 7.26344379e+00 2.88068037e+00\n",
            " 1.71695421e+02 6.28324125e+00 3.26447165e-01 5.81371451e+00\n",
            " 1.25091155e-01 1.39522986e+00 2.19364193e+01 6.76526549e+01\n",
            " 7.34336334e+01 5.33973125e+01 5.25978156e+01 8.25602041e+01\n",
            " 5.88787480e+01 2.34892261e+00 1.25086539e-01 3.50771880e-01\n",
            " 1.25024469e-01 3.58386866e+00 6.41285292e+01 1.36648300e+01\n",
            " 1.37184625e+02 3.16835776e+01 1.73050730e+02 3.21452819e+01\n",
            " 1.16235019e+02 1.34620344e+02 3.31247604e+01 1.31130738e+02\n",
            " 1.25061722e-01 2.11206366e+02 9.32959441e+01 2.49587101e+01\n",
            " 1.25001616e-01 2.94301221e+01 4.60213887e+01 7.80031816e+00\n",
            " 1.25066505e-01 1.25015025e-01 6.03532627e+02 1.25630686e-01\n",
            " 6.47998435e+00 3.49388438e-01 4.56099009e+01 3.48472964e+01\n",
            " 4.38873415e+01 4.77142683e+01 4.37202397e+01 2.51076913e+00\n",
            " 1.62491793e+01 3.59619280e+01 1.00300476e+01 4.64554728e+01\n",
            " 8.95861330e+00 5.03133335e+01 1.30983544e+03 4.60483223e-01\n",
            " 2.88293416e+02 3.12185238e+01 2.29077947e+01 3.24527891e-01\n",
            " 7.04970545e+00 7.87046184e+01 1.27757108e-01 1.48146748e+01\n",
            " 1.25002787e-01 1.70946473e+01 1.25108231e-01 4.54589564e-01\n",
            " 1.25056402e-01 6.82167135e+00 2.80989625e+01 1.70987149e+01\n",
            " 1.25089120e-01 8.21465435e+00 3.56718980e+00 1.87615697e+01\n",
            " 1.98860148e+02 1.10165400e+02 7.36672544e+00 1.25077688e-01\n",
            " 2.93926242e-01 1.69741138e+00 1.26534431e+01 1.25013180e-01\n",
            " 1.25032549e-01 2.26548218e-01 1.65464688e+02 9.57876208e+00\n",
            " 3.93367210e+01 9.68523977e+00 1.25026101e-01 2.74352179e+02\n",
            " 1.59824146e+02 2.58797396e+01 2.22162749e+01 2.66299172e+00\n",
            " 2.30275217e+02 2.20223011e+02 8.78382709e+00 1.25141456e-01\n",
            " 6.06909982e+00 2.19101373e+00 9.19362801e+01 4.01333163e+01\n",
            " 5.26071243e+01 1.25110836e-01 1.25041831e-01 1.25592483e-01\n",
            " 4.02421355e+00 8.06588673e+01 1.59911757e+02 1.12071550e+02\n",
            " 6.03833716e+01 2.14149962e+02 1.73618329e+01 6.72676613e+02\n",
            " 1.11989417e+01 7.19483992e+01 3.22297730e+01 1.25083420e-01\n",
            " 1.25151654e-01 1.25021358e-01 1.07610012e+02 1.06449729e+00\n",
            " 1.25008868e-01 1.25076994e-01 1.13729498e+01 3.66097132e+00\n",
            " 8.06354084e+00 1.48753614e+01 2.62682694e-01 2.17936374e+00\n",
            " 1.31212529e-01 3.83452342e+00 1.88139706e+00 6.34760828e+01\n",
            " 2.14984229e+01 1.63439123e+02 1.03979536e+00 1.25318659e-01\n",
            " 9.12374102e+02 3.02894807e+01 1.25014117e-01 1.25266586e-01\n",
            " 1.25001801e-01 1.25119203e-01 1.25039807e-01 1.46224273e+02\n",
            " 2.94915889e+01 2.42994193e-01 2.67688534e+00 1.25076227e-01\n",
            " 8.39640524e+00 1.26292910e-01 3.76155775e+01 1.28924125e-01\n",
            " 1.26722588e-01 1.25036983e-01 1.25108588e-01 1.23001216e+01\n",
            " 1.93985503e+01 1.25955160e+02 1.25022962e-01 1.42453530e+01\n",
            " 1.34302488e+01 1.94908132e+01 3.40498659e+00 2.09713652e+01\n",
            " 3.12753360e+00 1.25003432e-01 9.50912638e+00 1.25019373e-01\n",
            " 2.51830015e+02 1.48582680e+02 5.04218404e+01 6.54427555e+01\n",
            " 3.68189902e-01 1.25204799e-01 2.90005878e+00 1.25018896e-01\n",
            " 1.25095943e-01 1.25001937e-01 1.25003558e-01 2.69676654e+01\n",
            " 8.20688533e+01 2.64548758e+00 2.19332333e+01 6.31279474e+00\n",
            " 1.14363144e+02 2.00237649e+01 1.25001466e-01 1.66484039e+02\n",
            " 2.35985234e-01 1.04160089e+01 5.60910456e+01 2.10514417e+02\n",
            " 9.59070177e+01 1.10956495e+02 7.19061731e+01 7.91389706e+00\n",
            " 1.33113309e+02 9.51859827e+01 1.76022418e+02 1.46721172e+02\n",
            " 1.70059873e+01 3.14535686e+00 2.84552484e+02 5.36614876e+02\n",
            " 2.75667808e+01 3.01368573e-01 4.94680513e+00 1.25049288e-01\n",
            " 1.45894456e+02 2.86303920e+01 2.00841001e+02 4.50962785e+01\n",
            " 1.52509866e+02 2.50911777e+01 3.87783487e+00 4.25498777e+00\n",
            " 1.25002942e-01 3.57099248e+01 1.25000987e-01 1.25013613e-01\n",
            " 1.25007493e-01 1.25002556e-01 1.30152534e+01 4.16383265e+01\n",
            " 1.25038829e-01 5.90541410e+01 3.25484722e+00 1.40270638e+00\n",
            " 1.25019625e-01 1.25125313e-01 5.81816549e+00 1.25071307e-01\n",
            " 2.44459444e+02 1.73688871e+01 4.29637305e+01 2.33479299e+01\n",
            " 1.25000001e-01 8.47821091e+00 1.03281556e+02 3.57088347e+01\n",
            " 3.28730139e+01 1.02986050e+02 1.25062671e-01 1.32450701e+02\n",
            " 1.31207890e+02 1.25139670e-01 1.25029550e-01 1.25182152e-01\n",
            " 1.25075899e-01 1.25176837e-01 1.25081417e-01 1.27618026e+01\n",
            " 4.99321281e+01 7.06862587e+00 8.30733610e+01 2.10392088e+02\n",
            " 2.99424150e+00 4.43847795e+00 2.43593076e+02 1.25177290e-01\n",
            " 4.64278476e+01 1.69041908e+02 3.96608007e+01 4.09094909e+02\n",
            " 3.90520613e+00 1.25233796e-01 1.25038543e-01 1.25037625e-01\n",
            " 1.25046200e-01 5.38962640e+01 8.43470157e+01 1.22709674e+00\n",
            " 1.30085929e+01 1.53178154e+02 3.71427474e+00 1.80580069e+02\n",
            " 5.58976454e+00 1.25005517e-01 1.25080995e-01 7.96794737e+00\n",
            " 1.69019504e+01 1.25075725e-01 1.85937324e+01 1.25680072e+02\n",
            " 8.38854865e+01 9.04485114e+01 1.19498771e+02 6.81730504e+02\n",
            " 1.52124695e+02 1.46337567e+01 4.27336285e+01 4.03563289e+01\n",
            " 3.00458237e+01 2.66030234e+01 8.53320540e+00 6.89045228e+01\n",
            " 7.74316571e+01 4.11522515e+01 1.25029346e-01 2.67320285e+00\n",
            " 1.25000523e-01 6.66410524e+00 6.19014565e-01 1.16672424e+00\n",
            " 1.40304178e-01 2.14722906e+01 2.04191714e+01 2.59257429e+01\n",
            " 8.90471833e+01 1.25020919e-01 1.73193356e+01 1.17971339e+01\n",
            " 1.87242086e+02 2.12552358e+01 4.46656131e+01 1.25826881e+02\n",
            " 2.80687403e+00 1.51629688e+01 1.25027443e-01 2.18837021e+00\n",
            " 1.25088756e-01 2.47449592e+00 3.06019375e+02 1.95829888e+02\n",
            " 6.66321682e+01 7.14996431e+01 1.25161619e-01 2.19190725e+00\n",
            " 1.01729775e+01 1.25049768e-01 2.77115590e+02 1.25064172e-01\n",
            " 9.32280766e+01 1.25194303e-01 2.08122345e+00 1.98854905e+02\n",
            " 3.70956529e+01 1.25005926e-01 1.25003597e-01 4.97459598e+01\n",
            " 1.40751534e+00 1.25001200e-01 1.15359136e+01 7.43942456e+00\n",
            " 1.58144961e+02 1.94902855e+01 3.28717607e+01 1.45994787e+02\n",
            " 1.41926765e+02 4.34508655e+00 2.10994230e+02 1.46291071e+01\n",
            " 1.41254996e+02 6.66927516e+01 2.28051915e+01 1.25195020e-01\n",
            " 6.49779039e+01 2.78252977e+00 8.95470176e+01 1.25233607e-01\n",
            " 1.50326482e+02 1.27350878e+01 9.74928027e+01 1.63643787e+02\n",
            " 1.36394691e-01 4.79847728e+01 1.95111320e+01 5.23672136e-01\n",
            " 7.16528052e-01 3.32946290e+01 1.25000000e-01 2.64702155e+00\n",
            " 7.71686372e+01 2.05553537e+01 1.67473901e+00 6.80476848e+01\n",
            " 3.16820666e+01 2.92590850e+01 1.08145429e+02 1.25000029e-01\n",
            " 6.36584923e+00 2.03729088e+00 3.35753460e+02 3.72327183e+01\n",
            " 5.63268069e+01 1.25014566e-01 1.25001127e-01 3.71392569e+01\n",
            " 1.25121876e-01 2.34363236e+01 1.56472244e+01 1.44092668e+01\n",
            " 2.13410979e+01 5.76437218e+00 5.43137714e+01 3.71465935e+01\n",
            " 4.51663544e+01 3.23097403e+02 1.25009156e-01 7.83909518e+01\n",
            " 4.50433019e+01 1.16756014e+01 2.20956384e+01 1.42580434e+02\n",
            " 2.15100070e+00 1.25004185e-01 1.25001198e-01 1.14360523e+01\n",
            " 2.89336151e+01 3.99968552e+01 1.25305124e-01 1.34956683e+00\n",
            " 1.25006543e-01 5.22786030e+01 7.84333545e+01 2.11072895e+01\n",
            " 1.25014907e-01 1.25025268e-01 2.22988506e+00 1.25006611e-01\n",
            " 1.98292836e+01 4.15066111e+01 1.15997750e+01 1.06581270e+02\n",
            " 6.17728550e+01 4.64725737e+01 9.82766561e+01 1.07877487e+01\n",
            " 3.23452763e+01 9.23436928e+00 3.45837294e+00 8.93361826e+00\n",
            " 8.78707021e+01 1.25039296e-01 1.64778818e+01 7.86512801e+00\n",
            " 3.12433944e+01 2.09557842e+01 1.59644729e+02 9.91582677e+01\n",
            " 1.27644054e-01 2.27338824e+02 1.53052350e+02 1.05910053e+02\n",
            " 1.47027513e+02 7.40262759e+01 4.41500614e+01 1.03744506e+02\n",
            " 4.98583406e+02 1.15162429e+02 1.59473308e+01 3.84738806e+01\n",
            " 1.02529601e+01 2.43191623e+01 1.05684952e+02 2.59372818e+01\n",
            " 4.19548552e+01 3.64515597e+00 2.46644264e+00 2.03428579e+01\n",
            " 1.83465474e+02 6.87366429e+01 2.44780637e+01 8.55885648e+01\n",
            " 4.20723933e+00 1.05125050e+00 2.93888018e+00 1.25081014e-01\n",
            " 4.12003330e+01 2.85835365e+01 2.45205813e+01 1.68246752e+01\n",
            " 4.66093257e+00 2.99313932e+01 7.99330558e+01 1.02810897e+02\n",
            " 1.25017550e-01 1.25015496e-01 3.53492252e+00 4.89140445e+01\n",
            " 6.25278518e+01 3.18393219e+00 2.42802600e+01 1.53109034e+02\n",
            " 3.35081908e+01 3.17463528e+01 3.94927538e+01 1.83911884e+02\n",
            " 4.09651868e+01 6.54712833e+01 5.82923511e+01 1.90740037e+01\n",
            " 4.76466229e-01 1.59679063e-01 1.77456276e+01 1.11366612e+01\n",
            " 1.25024374e-01 1.25033292e-01 3.56715460e+00 1.25043184e-01\n",
            " 3.25717030e+01 9.30398401e+00 1.25025865e-01 1.25162588e-01\n",
            " 1.22868759e+02 7.21532670e+01 1.11619383e+02 1.25014570e-01\n",
            " 8.28290080e-01 1.83424477e+01 5.06737200e+00 1.25316040e-01\n",
            " 1.25062547e-01 6.06387210e-01 7.42966046e+00 1.25103933e-01\n",
            " 5.50747183e+00 6.84943350e+01 3.85599872e+01 1.25004218e-01\n",
            " 9.93335108e+01 1.25008661e-01 1.55929432e-01 1.06658168e+01\n",
            " 1.30616682e+01 1.78050563e+00 1.13789504e+00 4.38977841e+02\n",
            " 1.25074475e-01 4.56458994e+01 1.25022839e-01 1.25004149e-01\n",
            " 4.80828404e+01 3.39830554e+02 4.74988007e+01 1.41655122e+02\n",
            " 2.50868465e+00 1.25019347e-01 1.82715420e+02 1.25012613e-01\n",
            " 3.89911872e+01 6.02058988e-01 2.65866125e+01 1.65958403e+01\n",
            " 3.11354181e+01 8.12663831e+01 1.11354538e+01 1.25348687e-01\n",
            " 4.17480723e+01 1.77356592e+02 1.16758994e+02 1.30049495e-01\n",
            " 3.19783823e+00 2.12712517e+01 9.10692465e+00 6.33965213e+02\n",
            " 1.25001611e-01 4.62116947e+00 2.28205924e+00 3.90036527e+01\n",
            " 1.30633827e+01 1.41264920e-01 1.07480908e+01 2.00535438e-01\n",
            " 2.70458815e+02 1.49232787e+02 1.25001759e-01 1.29905443e+02\n",
            " 8.24515931e+00 3.44102406e+01 7.11508982e+01 2.83125473e+01\n",
            " 2.19631928e+00 1.71742620e+01 1.17716387e+02 1.45150917e+01\n",
            " 6.20918859e+00 1.52713355e+01 3.91816236e+01 1.25028037e-01\n",
            " 7.15098072e+00 1.25196807e-01 4.96921088e+01 9.40452093e+00\n",
            " 2.33561999e+00 1.25134059e-01 3.30969620e+01 1.25037285e-01\n",
            " 1.99385540e+00 1.01418789e+02 2.38471509e+02 2.40210962e+01\n",
            " 2.36696286e+01 1.25000132e-01 3.14040801e+02 3.07134520e+00\n",
            " 3.55037953e+02 1.24856104e+02 1.11972000e+02 2.31559956e+01\n",
            " 2.94259892e+02 8.33861378e+00 1.89557671e+00 3.95111458e+00\n",
            " 3.92605197e+00 1.68142153e+00 1.77421976e+00 8.03154710e+01\n",
            " 2.97803318e+02 1.25310661e-01 1.08976767e+02 3.38301214e+01\n",
            " 2.01587869e+00 9.57178880e+00 2.83628945e+01 1.40586548e+02\n",
            " 4.45656337e+01 4.05204626e+02 1.37831069e+02 9.78339817e-01\n",
            " 5.17991561e+01 8.85322922e+00 4.85433932e+00 2.86753626e-01\n",
            " 7.54362155e+00 1.24156449e+02 1.58737220e+01 5.51657758e+00\n",
            " 8.89910001e+00 1.25181527e-01 1.25041818e-01 1.13091972e+02\n",
            " 1.14792574e+02 1.52851230e+02 1.25199564e-01 1.28275437e-01\n",
            " 8.77990475e+00 1.25006869e-01 8.47133014e-01 2.90428807e-01\n",
            " 1.08124780e+00 4.02241464e+01 1.45237128e-01 1.15162557e+00\n",
            " 1.25001844e-01 1.25001275e-01 1.32757828e-01 1.25114470e-01\n",
            " 1.26672953e-01 5.73250293e+01 4.04023257e+01 2.06145449e+02\n",
            " 1.35045203e+01 1.80125263e+01 4.55519681e+00 1.13225108e+01\n",
            " 1.93125549e+02 2.74210585e+02 3.36102671e-01 3.09131565e+02\n",
            " 1.45387011e+02 5.27527508e+01 7.01653682e+01 2.18970540e+02\n",
            " 1.66163706e+02 7.83549212e+01 2.05557905e+02 1.66892184e+00\n",
            " 3.12482101e+00 2.44254599e+00 4.34126310e+00 1.29801409e+02\n",
            " 2.28781470e+01 4.60468111e+02 7.35924291e+01 1.55585954e+02\n",
            " 1.81194404e+01 1.25217942e+01 1.25007738e-01 1.25000333e-01\n",
            " 3.99381007e+01 1.25061502e-01 1.12506522e+02 5.72459930e+01\n",
            " 3.41519051e+00 6.36329682e+00 1.25030367e-01 1.25143928e-01\n",
            " 1.20180852e+00 1.25012501e-01 2.09242647e+01 7.84820909e+00\n",
            " 1.51061535e+01 1.25060615e-01 1.32620851e+01 5.00187562e+00\n",
            " 2.24321535e+00 5.35933922e+01 7.44994047e+01 1.25049709e-01\n",
            " 1.59971117e+01 1.51379368e+01 2.33274887e+01 8.01160529e-01\n",
            " 4.50376858e+02 2.31440038e+00 2.72570574e+01 1.25003650e-01\n",
            " 1.25022766e-01 1.25092137e-01 2.03473852e+01 4.27272810e+01\n",
            " 3.16894445e+00 1.31784653e+02 1.92185747e+00 6.10120828e+01\n",
            " 3.74861056e+01 7.12791424e+01 1.25361321e-01 6.78032409e+01\n",
            " 2.32863385e+01 1.12535864e+02 6.86205435e+00 8.80033809e+00\n",
            " 1.52428787e+02 8.31370844e+01 4.54666341e+01 1.41026463e+02\n",
            " 1.01945818e+01 1.00449541e+01 5.48759543e+00 4.30801487e+00\n",
            " 8.87676198e+01 2.19595244e+00 5.02776602e+00 1.25043618e-01\n",
            " 5.79243950e+00 1.46072926e+01 9.45574787e+00 1.98248043e+01]\n",
            "edu,graphics,available,mail,ftp,software,dos,data,com,information,pub,version,windows,send,list\n",
            "[1.35689584e+00 5.21047573e+01 1.25020003e-01 2.05948920e+00\n",
            " 1.25021778e-01 1.25021968e-01 1.25017736e-01 1.21059774e+01\n",
            " 8.31705027e+00 5.88059086e-01 3.42968062e+00 1.25000003e-01\n",
            " 3.05001903e+00 1.05093779e+01 1.25222345e-01 1.59792910e-01\n",
            " 6.97697926e+00 1.72130761e+01 1.13271640e+01 1.70460782e+00\n",
            " 1.23719255e+01 3.08081983e+01 8.24119709e+00 1.00091276e+00\n",
            " 3.22489067e+00 4.22715021e+00 1.17843241e+01 2.01476046e-01\n",
            " 1.25000604e-01 2.88243863e+00 1.25000989e-01 1.50783407e-01\n",
            " 1.85581121e-01 1.28857613e-01 7.19788639e+00 1.82405648e+01\n",
            " 1.25083847e-01 1.25035918e-01 1.25073725e-01 1.25029164e-01\n",
            " 2.45114149e+00 3.42644479e-01 5.27461288e+00 1.25138593e-01\n",
            " 1.25061766e-01 3.53439938e+00 3.34275996e+00 5.34906647e+00\n",
            " 2.01049700e+00 1.82980929e+00 6.25295895e+00 2.89305687e+00\n",
            " 3.95305752e+01 1.11983851e+00 7.81122573e+01 1.09946515e+01\n",
            " 6.64522703e+01 2.71408922e+01 6.64622817e+01 6.58445112e+01\n",
            " 7.04499594e+01 7.74130909e+01 7.20445928e+01 9.10744950e+01\n",
            " 1.33368724e+01 1.27139564e+01 1.57480485e+01 2.86567637e+01\n",
            " 1.25513288e-01 1.47696602e+00 4.68596750e+01 8.68213646e+01\n",
            " 1.10498711e+01 4.66513724e+01 5.13208817e+01 6.47533556e+00\n",
            " 1.29104765e+02 1.25005905e-01 3.11159890e+00 1.25012686e-01\n",
            " 1.25004659e-01 6.36185543e+01 9.83505581e+00 1.85199928e+02\n",
            " 3.18978790e+01 1.25021852e-01 1.25001823e-01 2.11068299e+01\n",
            " 2.71069844e+01 1.05178251e+01 3.96867895e+00 1.25082546e-01\n",
            " 4.24162060e+01 9.71274376e+00 1.48913717e+00 7.71445414e+00\n",
            " 1.53988164e+01 3.83124794e+02 2.18124890e+02 1.25031612e-01\n",
            " 5.62328702e+01 4.10498936e+01 1.25039492e-01 4.38950319e+01\n",
            " 1.25035837e-01 1.25023367e-01 1.25035148e-01 5.04990712e+01\n",
            " 1.25199572e-01 8.01725336e+01 2.87542859e+01 4.93706474e+01\n",
            " 3.83642139e+01 2.43824684e+01 5.66743659e+01 4.13333413e+01\n",
            " 2.63122393e+01 1.55286055e+01 1.25552663e+01 1.34330472e-01\n",
            " 3.05578458e+01 2.58856867e+01 1.25034843e-01 1.25009449e-01\n",
            " 1.25033280e-01 2.89148357e+01 1.25018005e-01 1.25033991e-01\n",
            " 1.44188438e+01 1.25039372e-01 1.04130075e+02 3.80093706e+01\n",
            " 5.35283924e+01 1.25003181e-01 1.40702330e+01 1.02441776e+02\n",
            " 4.26242665e+01 6.10076190e+01 4.11064770e+00 7.29431938e+00\n",
            " 1.25006716e-01 1.25006461e-01 1.52828579e+01 3.55226929e+00\n",
            " 5.02032899e+00 1.79689031e+01 1.25083279e-01 1.25128100e-01\n",
            " 7.12026596e+00 1.30206944e+01 2.00142646e+01 2.48010289e+01\n",
            " 1.25077213e-01 1.25008572e-01 2.79616042e-01 2.14928427e+01\n",
            " 3.40584430e+01 3.33951511e+01 1.31044365e+01 3.50047618e+00\n",
            " 7.99703658e+00 1.25015755e-01 1.25017147e-01 3.45747780e+00\n",
            " 1.25553039e-01 1.35579979e+00 6.53303019e+01 1.74101201e+01\n",
            " 1.11249037e+01 1.25058616e-01 1.98380308e+00 3.76632227e+01\n",
            " 1.73339772e+02 6.45622564e+01 9.35625448e+00 2.33880784e+01\n",
            " 9.31371040e+01 3.38963743e+01 2.93317686e+01 5.64358196e+01\n",
            " 6.99755961e+00 4.06354568e+01 2.29394837e+01 5.18750401e+00\n",
            " 1.25205208e-01 2.34441273e+00 1.40489038e+01 4.06837801e+01\n",
            " 1.17028956e+00 3.56183715e+01 1.25082288e-01 9.40485976e+01\n",
            " 1.43509279e+01 6.33197747e+01 2.18864149e+01 1.25004708e-01\n",
            " 1.94023907e+01 1.06463111e+02 5.14112634e+01 1.18620031e+01\n",
            " 7.60165180e+01 7.69463963e+01 1.25019787e-01 1.25203845e-01\n",
            " 1.74983617e+01 1.25110877e-01 1.25076749e-01 1.25016605e-01\n",
            " 4.06066622e+00 6.44263865e+01 9.92020210e+00 1.25045301e+01\n",
            " 8.81694606e+00 2.55215945e+01 1.87504482e-01 3.06168224e+01\n",
            " 1.06037535e+02 1.49888286e+00 2.30544038e+00 1.96041847e+01\n",
            " 2.76831725e+01 1.25241356e-01 3.31654364e+00 6.67204382e+01\n",
            " 4.44441397e+01 1.09226032e+00 1.38315950e+01 3.82921604e+01\n",
            " 1.25001743e-01 7.34255531e+01 2.48599928e+00 7.13184131e+00\n",
            " 1.25194435e+00 1.75287166e+01 2.25532192e+00 9.39503793e+00\n",
            " 7.44551187e+00 1.24704217e+02 1.92883394e+02 1.00319980e+01\n",
            " 7.09262646e+01 2.81974879e+01 1.55190438e+01 1.25149426e-01\n",
            " 2.55340812e+01 1.62044015e+01 1.95222890e+01 1.25151582e-01\n",
            " 5.86105101e+00 1.25076957e-01 3.05389791e+01 3.00125618e+01\n",
            " 1.61145281e+01 1.26475311e+01 4.52833385e+01 3.62938997e+01\n",
            " 2.11897731e+00 1.25010883e-01 2.97741021e+01 3.56151700e+01\n",
            " 5.12476680e+01 1.37665186e+01 2.60293830e+01 1.56534659e+01\n",
            " 1.25034520e-01 8.67033036e+00 7.82505279e+00 2.19759458e+01\n",
            " 1.25005888e-01 2.16275539e+02 1.44620576e+01 8.66795634e+00\n",
            " 7.14177550e+00 3.45046317e+01 6.85532466e+01 1.71731734e+01\n",
            " 1.25004444e-01 1.63129036e+01 1.25002122e-01 8.21866269e+01\n",
            " 1.25004980e-01 1.25149456e-01 1.25042015e-01 1.25133543e-01\n",
            " 1.25049835e-01 2.16568990e+02 1.59098849e+00 2.48193601e+01\n",
            " 1.25079546e-01 4.53963082e+01 1.13489358e+02 1.27112972e-01\n",
            " 1.51082929e+01 1.25021645e-01 1.25001238e-01 1.25000000e-01\n",
            " 2.13704932e+00 3.20535963e+01 1.95982174e+01 7.27037608e+00\n",
            " 3.73900329e+00 2.08706477e+00 1.25279860e-01 2.97132215e+01\n",
            " 9.83546624e+00 1.17170870e+01 6.24090540e+01 1.23423215e+01\n",
            " 1.25013441e-01 1.80816337e+02 5.95661323e+01 1.71144302e+01\n",
            " 3.17347799e+00 4.84541470e+01 4.48433240e+01 1.25073321e-01\n",
            " 2.46244351e+00 1.04034328e+01 1.54005417e-01 3.27057766e+01\n",
            " 1.25051673e-01 7.96646707e+01 1.72250640e+01 3.89552495e+01\n",
            " 9.76435997e+01 2.93811048e+01 5.73418346e+01 3.34060493e+01\n",
            " 3.81371433e+01 1.73423418e+01 3.07533296e+01 7.80131199e+00\n",
            " 1.25205642e-01 1.25000471e-01 1.25092560e-01 8.91277717e+00\n",
            " 2.20064846e+01 1.90215671e+02 1.51455441e+00 4.61288866e-01\n",
            " 2.99627727e+01 1.19856600e+01 5.35655269e+00 8.83876459e+01\n",
            " 1.25119805e-01 1.25071848e-01 1.25132714e-01 1.25175970e-01\n",
            " 1.62153523e+00 7.11344523e+01 1.18281243e+01 4.36126612e+00\n",
            " 1.25072169e-01 1.25112081e-01 3.10783108e+01 1.52947392e+01\n",
            " 2.24239387e+00 7.98589983e+00 6.32639494e+01 1.25023564e-01\n",
            " 1.25009230e-01 9.53693659e+01 7.03373441e+01 3.61973134e+01\n",
            " 8.89747804e+00 8.91134235e+01 1.25063865e-01 1.25000392e-01\n",
            " 1.25102297e-01 5.64724761e+01 6.04055645e-01 1.25040468e-01\n",
            " 5.11589229e+00 1.25171056e-01 3.12464742e+01 2.11166711e+00\n",
            " 1.25067826e-01 1.12572515e+01 1.05553648e+02 2.09529158e+01\n",
            " 1.25092405e-01 1.38390556e+01 3.52617275e+01 1.25005212e-01\n",
            " 8.12298682e+01 2.14572142e+01 2.58617388e+01 1.33280904e-01\n",
            " 1.35674405e+01 4.44928987e+01 3.06877743e+00 4.44335020e+01\n",
            " 9.89503776e+00 1.78070754e+01 1.56429466e+02 1.25027178e-01\n",
            " 1.25023865e-01 4.75776201e+01 8.08840447e-01 6.43959809e+01\n",
            " 1.41796879e+01 5.05434528e+00 1.29378335e+01 1.64124221e+02\n",
            " 1.37175035e+02 3.13222127e+01 1.25216227e-01 6.28270228e+00\n",
            " 1.92024073e+01 4.01391310e+01 1.25043662e-01 9.71692714e+00\n",
            " 2.83414097e+01 2.38787055e+01 1.60955633e+01 1.68008892e+01\n",
            " 2.70172794e+01 1.25051635e-01 5.73545065e+01 5.00685106e+00\n",
            " 6.09628913e+01 7.73481911e-01 8.81464250e+00 2.79824300e+01\n",
            " 3.67524655e+00 1.25023027e-01 2.95869618e+01 6.26096861e+00\n",
            " 4.26243153e+01 1.25061625e-01 1.81292064e+01 4.87645206e+00\n",
            " 9.02345299e+01 1.25109990e-01 1.39503085e+01 1.23842598e+01\n",
            " 1.94334002e+01 1.85055114e+02 1.91001623e+02 6.42797149e+01\n",
            " 5.00175549e+00 7.30588825e-01 4.06483588e+00 1.08074663e+01\n",
            " 1.25021280e-01 1.94945966e+02 9.29056683e+01 1.25138408e-01\n",
            " 5.23360331e+01 4.79331835e+00 5.85725736e+00 1.25098217e-01\n",
            " 1.25001542e-01 1.25010064e-01 6.92951904e+00 6.28151774e+01\n",
            " 2.10468484e+01 1.40089404e+01 1.99547677e+01 6.14076650e+01\n",
            " 1.87674054e+01 1.31609845e+01 1.25070645e-01 8.36499025e+01\n",
            " 7.05203989e-01 6.53371583e+00 1.72996344e+01 1.12530126e+00\n",
            " 2.95286882e+01 2.46648758e+01 1.25005338e-01 8.90897216e+01\n",
            " 1.25090494e-01 7.63727674e+01 3.09581376e+01 8.36318289e+02\n",
            " 4.76124904e+02 1.41753602e+02 1.25035989e-01 1.60271636e-01\n",
            " 5.42569011e+02 7.51980459e+02 1.06913644e+01 2.30846772e-01\n",
            " 1.25002908e-01 2.00245601e+02 1.09605111e+01 4.54558616e+01\n",
            " 7.99091043e+01 5.83501868e+01 4.00926173e+01 1.70205650e+01\n",
            " 1.51355095e+02 2.31972156e+01 5.80229331e+01 1.69800937e+01\n",
            " 1.48961341e+00 1.69744099e+02 1.56759498e+01 3.32357620e+01\n",
            " 3.85337711e+01 2.91570917e+00 2.57602839e+02 1.25000354e-01\n",
            " 1.25000355e-01 9.48460603e+00 1.25267745e-01 3.18491645e+01\n",
            " 4.28870841e+01 8.78574299e+00 4.36557955e+01 8.90612654e+01\n",
            " 9.90940765e+00 1.25001262e-01 1.25048628e-01 4.82546404e+00\n",
            " 5.75432125e+01 7.83818358e+00 1.89966297e+02 1.15897807e+01\n",
            " 2.83312565e-01 7.91032224e+00 1.67201452e+01 3.42294404e+01\n",
            " 3.01355837e+01 7.46656789e+01 1.71423611e+01 3.01306702e+01\n",
            " 5.15853123e+01 3.62634025e+00 3.00804481e+01 9.01043888e+01\n",
            " 1.61619218e+01 4.07182968e+01 1.25872967e-01 8.38422425e-01\n",
            " 1.82026703e+00 1.26738104e-01 1.31921269e+01 3.02099730e+01\n",
            " 3.23014652e+00 1.31775285e+01 1.44656018e-01 1.25003278e-01\n",
            " 3.11788850e+00 1.25044744e-01 1.25000890e-01 4.44226704e-01\n",
            " 1.25035806e-01 2.58927453e+01 4.07095885e+01 1.36313110e+02\n",
            " 3.79739212e+01 4.17861379e+01 1.71486888e+01 1.25021538e-01\n",
            " 1.25005019e-01 7.94805997e+00 3.19245078e+01 1.25020011e-01\n",
            " 1.37684408e+01 6.70291416e+01 2.63273391e+01 6.14831921e+01\n",
            " 7.39089627e+01 5.33354348e+01 3.74881732e+01 9.27650806e+01\n",
            " 3.18697463e+00 6.49263280e+01 2.30830085e+01 1.25033506e-01\n",
            " 1.59497844e+01 5.84885171e+00 3.38589070e+01 1.25027439e-01\n",
            " 5.72187540e+01 4.30781134e-01 1.25081218e-01 1.13204073e+02\n",
            " 5.59557241e+00 4.29937260e+01 1.25029041e-01 1.25001391e-01\n",
            " 2.91362802e+00 1.43940454e+01 2.56001725e+01 2.57357746e+01\n",
            " 2.29998212e+01 4.57346413e+00 1.25006060e-01 1.25034278e-01\n",
            " 1.25004894e-01 7.62506555e+01 7.05057548e+01 1.25066451e-01\n",
            " 1.25340983e-01 9.76034707e+01 1.74218257e+02 7.10251131e+01\n",
            " 2.60235380e+01 6.29277418e+01 5.71420193e+00 3.18819815e+01\n",
            " 5.30707566e+01 1.01302806e+01 6.64323219e+00 1.53856670e+01\n",
            " 3.95014851e+00 1.11371215e+01 8.71997449e+01 4.82293863e+00\n",
            " 4.58953564e+01 6.31662196e+01 1.21670943e+01 1.25081479e-01\n",
            " 1.34407104e+02 1.30061342e+01 3.91516936e+01 1.25080014e-01\n",
            " 8.13143878e+01 4.24869703e-01 1.72140568e+01 4.82135077e+00\n",
            " 3.87450567e+01 1.34986952e+00 4.58727991e+01 1.42344924e+01\n",
            " 1.78931965e+01 1.66611260e+01 1.25000000e-01 2.59999219e+01\n",
            " 1.82647275e+01 1.25002237e-01 5.72429863e+01 6.03651499e+01\n",
            " 3.56435153e+01 1.68204533e+01 1.25004636e-01 1.25504210e-01\n",
            " 1.25020099e-01 9.97932572e+00 1.25174205e-01 1.04607761e+01\n",
            " 1.25067996e-01 1.90124871e+02 1.48124936e+02 6.20549346e+00\n",
            " 1.59690666e-01 3.17014845e+01 1.14634273e+01 6.89201980e+01\n",
            " 7.03476358e+00 5.65787898e+01 1.25025710e-01 3.09767024e+00\n",
            " 1.26272946e+02 1.25055035e-01 2.07626351e+02 5.30601075e+02\n",
            " 1.25053010e-01 8.53447562e+01 2.84944479e+01 1.25178002e-01\n",
            " 6.19989156e+00 1.25014313e-01 1.25001293e-01 1.25009455e-01\n",
            " 6.77904503e+01 2.02748715e+01 4.03842706e+00 1.25026592e-01\n",
            " 1.25033578e-01 4.11882648e+00 1.19746425e+02 7.36035479e+01\n",
            " 7.41526751e+01 1.43806744e+02 9.71468710e+01 5.91076857e+01\n",
            " 6.03773945e+01 3.86268628e+01 6.28382286e+00 8.79091625e+01\n",
            " 4.17692988e+01 6.80119425e+01 1.25003430e-01 3.96830904e+01\n",
            " 4.63930680e+01 4.96498427e+01 2.05223247e+00 1.42652938e+01\n",
            " 1.69459511e+01 1.25003364e-01 4.30719315e+01 8.08900061e+01\n",
            " 3.23111712e+01 5.46364404e+01 1.25087158e-01 1.25050650e-01\n",
            " 3.06012578e+00 1.25135602e-01 1.25018827e-01 1.25103901e-01\n",
            " 4.03947131e+00 3.30572886e+01 3.11070307e+01 4.96459090e+00\n",
            " 1.25111191e-01 1.07503959e+02 2.24972759e+01 4.42351839e+01\n",
            " 1.25117287e-01 1.48437237e+02 5.72658382e+01 4.57914597e+01\n",
            " 1.25004725e-01 1.25092784e-01 1.96268593e+00 1.12242697e+00\n",
            " 1.25006855e-01 1.02775958e+02 1.74156920e+01 5.91075764e+01\n",
            " 5.60064762e+01 6.64893665e+01 1.20717484e+01 4.13098240e+01\n",
            " 1.55192402e+01 2.04643009e+01 5.88305467e+01 1.94517254e+01\n",
            " 1.25222730e-01 2.59218466e+01 1.22257062e+01 1.25275272e-01\n",
            " 1.07802296e+02 1.61420641e+02 5.25720271e+00 4.65881073e+00\n",
            " 3.99508528e+00 6.67487763e+01 4.98701312e+01 7.85082423e+00\n",
            " 2.31590632e+00 1.10040766e+01 1.00932599e+01 1.03420865e+02\n",
            " 2.10103341e+01 1.25011509e-01 1.57627612e+01 5.05200296e+01\n",
            " 4.26556784e+01 4.54859251e+01 1.75135581e+01 6.32467277e+01\n",
            " 1.25022098e-01 1.25030330e-01 2.34923575e+02 1.95048753e+02\n",
            " 2.77248651e+00 3.71513506e-01 4.09062406e+01 2.86879324e+01\n",
            " 5.55137055e+00 3.61056471e+00 1.25089224e-01 1.25051762e-01\n",
            " 1.05740194e+02 1.25233235e-01 1.02362810e+01 7.62448837e+00\n",
            " 2.33325059e-01 1.51624363e+02 3.48857133e+01 3.87481732e+01\n",
            " 1.23319845e+01 8.59585721e+00 4.14418854e+00 1.25323147e-01\n",
            " 9.50658749e+00 3.17601310e-01 3.72844547e+01 6.47737199e-01\n",
            " 9.25241653e+01 4.43062644e+01 7.13825535e+01 2.68245298e+01\n",
            " 4.12231768e+01 2.10701877e+01 1.25035759e-01 1.25036337e-01\n",
            " 3.11279642e+00 1.25009862e-01 4.25716031e+00 4.18092918e+01\n",
            " 1.11753798e+01 1.11842751e+02 1.25021772e-01 3.72925693e+01\n",
            " 1.25006953e-01 8.75512553e+00 4.20788097e+00 1.25022057e-01\n",
            " 1.57451724e+01 1.55836390e+01 6.21839542e+01 1.25049543e-01\n",
            " 1.62412524e+01 7.74879006e+00 8.82111966e+00 8.18854004e+01\n",
            " 7.86055122e-01 3.29992305e+01 9.63918803e+01 1.25040483e-01\n",
            " 5.76862632e+01 6.76087679e+01 1.00838756e+00 1.41767003e+01\n",
            " 2.55349304e+01 1.86669813e+01 1.37760039e+00 5.83721203e+00\n",
            " 2.32382024e+01 4.77326851e+01 4.75755635e+00 6.00759418e-01\n",
            " 2.96276379e+01 7.73188741e+00 4.17569211e+01 1.25093474e-01\n",
            " 6.22310346e+00 1.25037828e-01 1.56948352e+01 3.70317860e+01\n",
            " 1.36552887e+01 1.48981371e+01 3.29080000e+02 1.00939236e+02\n",
            " 1.36560055e+02 1.05649054e+01 2.04369760e+01 5.54242308e+01\n",
            " 2.65847045e+01 1.25067724e-01 1.25397291e-01 1.25042762e-01\n",
            " 3.51645476e+01 1.40604424e-01 7.88556588e+01 3.25778390e+01\n",
            " 1.31168874e+00 1.25000959e-01 1.25036398e-01 7.73388092e+00\n",
            " 9.38115643e+01 1.45744223e+01 1.59501286e+01 3.01848631e+01\n",
            " 1.25437657e-01 1.30071759e+01 3.22097089e+01 1.12968155e+01\n",
            " 5.05302151e+01 4.35727947e+01 3.03509551e+01 1.25136189e-01\n",
            " 1.25000131e-01 1.25125792e-01 1.25191883e-01 5.57451538e+01\n",
            " 1.13407120e+02 3.93527899e+01 1.38089121e-01 2.12327514e+01\n",
            " 8.74725743e+00 4.96929474e+00 1.25027161e-01 2.42612154e+01\n",
            " 3.73631116e+01 1.98781016e+02 1.88436209e+01 2.51677585e+01\n",
            " 1.25001089e-01 1.52298836e+02 6.02345030e+01 1.46122739e+01\n",
            " 7.50852953e+01 1.94229286e+01 1.81779148e+01 1.25025388e-01\n",
            " 1.25001228e-01 1.25114602e-01 1.88320513e+01 4.40603022e+00\n",
            " 2.99084353e+01 4.74614817e+01 7.50256990e+00 1.15538923e+02\n",
            " 3.04768562e+01 6.03481198e+01 6.40233117e+01 1.52256167e+00\n",
            " 1.25070764e-01 1.25068341e-01 1.38074389e+01 1.37777779e+01\n",
            " 1.25382154e-01 7.22883410e-01 1.25151719e-01 3.25445490e+00\n",
            " 4.71325934e+01 4.02589488e+01 7.65496932e+00 7.85480488e+01\n",
            " 1.75948294e+01 1.25012290e-01 2.29372188e+01 1.06915369e+02\n",
            " 1.06596676e+02 7.11326786e+00 1.61178654e+01 1.25008626e-01\n",
            " 1.25014355e-01 3.37510112e+01 3.13056525e+01 1.25000042e-01\n",
            " 7.93270761e+00 2.18120669e+01 1.59515956e+01 2.18189689e+01\n",
            " 1.25879213e+01 1.25154031e-01 1.20020879e+00 1.25030938e-01\n",
            " 7.63807357e+01 1.25007671e-01 4.43151999e+01 5.14860551e+01\n",
            " 1.25003682e-01 1.25001956e-01 1.25080677e-01 9.52484966e+01\n",
            " 2.48009255e+01 4.93574350e+01 2.34389760e+02 1.17245613e+01\n",
            " 1.25083939e-01 5.04259917e+00 1.58905646e+02 1.43278477e+01\n",
            " 5.39631945e+01 1.91491027e-01 9.99551542e+01 5.81087762e+01\n",
            " 1.49697640e-01 1.25003079e-01 1.25004013e-01 1.39106073e-01\n",
            " 4.97433442e+01 1.25050579e-01 1.25040878e-01 1.25002234e-01\n",
            " 1.25016796e-01 1.25008480e-01 3.57319684e+01 1.25100801e-01\n",
            " 1.91290862e+01 3.27874714e+00 3.63306873e+00 1.01220401e+02\n",
            " 7.64331843e+01 5.56171036e+01 3.97190185e+00 1.43377213e+01\n",
            " 1.01510025e+01 2.59046422e+02 1.05491093e+01 8.80075763e+00\n",
            " 1.68199935e+01 2.29720937e+01 5.57802712e+01 2.36471573e+01\n",
            " 1.25000189e-01 1.25000553e-01 1.25000977e-01 1.25000003e-01\n",
            " 1.25001285e-01 1.25000857e-01 1.25004255e-01 1.25041689e-01\n",
            " 1.25001452e-01 1.00940111e+01 1.05578683e+02 2.49512045e+01\n",
            " 6.24406010e+01 4.78274988e+00 2.62612138e+01 1.25000004e-01]\n",
            "israel,jews,jewish,people,israeli,arab,state,world,law,right,war,arabs,does,did,peace\n",
            "[1.25589342e-01 1.25064786e-01 1.25000359e-01 2.44584360e+00\n",
            " 1.25001285e-01 1.25010406e-01 1.25031297e-01 6.09724670e+00\n",
            " 2.26060813e-01 1.55173945e+01 2.30916114e+01 1.25007703e-01\n",
            " 1.18758142e+01 3.89098582e+01 3.27324452e+01 1.85795394e+01\n",
            " 8.85011218e+00 1.26125317e+01 9.68842933e+00 1.25073089e-01\n",
            " 1.25094566e-01 1.62130468e-01 9.51375607e+00 1.25215787e-01\n",
            " 5.98466059e+00 2.71775334e+00 4.88543054e+00 1.19770497e+01\n",
            " 1.25004417e-01 8.60064875e+00 1.25003642e-01 1.03707807e+01\n",
            " 6.03975900e+00 1.97090905e+00 1.93126219e-01 8.73945366e-01\n",
            " 1.25002609e-01 1.25180566e-01 1.25105433e-01 1.25002336e-01\n",
            " 2.78381654e+00 1.25191627e-01 1.25072739e-01 1.25064444e-01\n",
            " 1.20675463e+00 1.25158597e-01 1.25102089e-01 1.25111715e-01\n",
            " 1.25195809e-01 1.25013934e-01 1.25180111e-01 2.90658741e+01\n",
            " 7.64786708e+01 1.25102326e-01 9.74682680e+01 4.00095818e+00\n",
            " 4.98203809e+01 3.50918402e+01 3.58451542e+01 3.40011913e+01\n",
            " 3.17602313e+01 6.81543946e+01 7.82086947e+01 4.01753942e+01\n",
            " 2.20994166e+01 5.30308852e+00 6.91836617e+00 2.44663725e+01\n",
            " 1.25010722e-01 1.19488041e+01 7.21569555e+00 1.06673219e+02\n",
            " 1.25049520e-01 2.26805259e+01 1.57511531e+01 7.63107717e+00\n",
            " 6.27442267e-01 1.25005538e-01 4.92036093e+00 1.25123366e-01\n",
            " 1.25001649e-01 1.81022302e+02 2.88266798e+01 2.49771146e-01\n",
            " 1.54044674e+01 1.30012304e+02 1.25001662e-01 2.30679969e+01\n",
            " 3.59437199e+01 3.47821437e+01 1.25132267e-01 3.14532914e+00\n",
            " 3.43688169e+01 6.04270501e+00 2.80210475e+00 4.12439880e+01\n",
            " 1.25052547e-01 1.25012526e-01 1.25012207e-01 1.25003068e-01\n",
            " 6.99740630e+00 3.67081230e+01 1.25012179e-01 8.79082051e+01\n",
            " 1.25027137e-01 1.25033329e-01 1.25052322e-01 1.25152971e-01\n",
            " 1.69072394e+01 3.85443510e+01 7.04916643e+00 1.77150461e+02\n",
            " 1.16725368e+02 7.27473785e+01 4.97167802e+00 2.26328119e+01\n",
            " 1.02863101e+01 6.00060647e+01 1.20219011e+00 1.25037110e-01\n",
            " 2.57195043e+01 1.15357593e+02 1.25028267e-01 3.21558729e+00\n",
            " 1.25002324e-01 5.75217764e+01 1.25080902e-01 1.25029526e-01\n",
            " 3.12563169e+00 1.25052080e-01 6.48238982e+01 2.01976793e+01\n",
            " 3.84062812e+01 1.25018884e-01 1.33930236e+02 5.51666755e+02\n",
            " 8.85540421e+01 8.38001602e+01 4.08342453e+02 2.02430540e+01\n",
            " 1.25007115e-01 1.25014357e-01 4.20145655e+01 1.25259186e-01\n",
            " 4.38277410e+01 5.06343630e+01 1.25214077e-01 3.88739746e+00\n",
            " 1.92535538e+02 5.16465235e+01 1.81912994e+01 1.14867104e+02\n",
            " 1.25082067e-01 1.25009430e-01 2.63402924e+01 7.33295915e+01\n",
            " 1.25058034e-01 5.97864116e+01 1.07290234e+01 5.84751422e+01\n",
            " 1.89569474e+00 6.15210397e+00 1.25072288e-01 9.40007681e-01\n",
            " 6.08759395e+00 1.25108922e-01 1.53101323e+02 1.17465328e+01\n",
            " 2.33566467e+02 1.11516043e+01 1.25113081e-01 4.48790869e+01\n",
            " 9.29726315e+01 1.87558216e+01 9.85172195e+01 6.95276848e+01\n",
            " 1.25650701e-01 2.91289160e+01 1.26087833e+02 1.08866574e+02\n",
            " 1.08598564e+01 7.31734990e+01 2.92731232e+01 9.39792140e+00\n",
            " 1.25000001e-01 9.63237081e+00 9.64348600e+01 1.99955307e+02\n",
            " 1.25009774e-01 3.27665703e+01 5.44222750e+02 4.16185573e+02\n",
            " 2.39898847e+02 3.88679100e+02 2.88841153e+02 1.25007675e-01\n",
            " 3.55351106e+01 9.54612943e+01 2.52395390e+01 9.47256131e+00\n",
            " 8.67234637e+01 5.73657030e+01 1.25004675e-01 1.25043057e-01\n",
            " 2.46767135e+01 2.09034685e+00 1.51208441e+00 1.25341992e-01\n",
            " 2.46897427e+01 3.64580695e+02 1.01346571e+02 1.10379981e+02\n",
            " 2.00906903e+01 2.10354848e+01 1.25141752e-01 4.76959927e+01\n",
            " 4.06804031e+00 1.25110745e-01 2.22510697e+00 2.62221734e+01\n",
            " 4.46738652e+01 1.25129385e-01 1.25356924e-01 5.98358039e+01\n",
            " 2.76926443e+01 8.54115112e+00 2.33347021e+00 6.67588138e+01\n",
            " 1.25002014e-01 1.24246937e+01 9.19615975e+00 2.01591751e+01\n",
            " 4.31410800e+00 7.14430805e+01 2.07039832e+00 1.08864531e+02\n",
            " 4.56139291e+00 1.25146935e-01 1.25904358e-01 2.05762176e+01\n",
            " 1.47282981e+02 2.06049435e+01 4.32006195e+01 1.25111314e-01\n",
            " 9.48454461e+00 1.25174866e-01 1.78349745e+01 1.25352593e-01\n",
            " 2.90380300e+00 1.25159891e-01 4.35002402e+01 2.18414648e+02\n",
            " 6.55970967e+01 9.45608682e+01 2.88525669e+01 2.07246379e+02\n",
            " 1.25007091e-01 1.25001505e-01 1.59712283e+01 1.56880827e+01\n",
            " 5.33152907e+01 4.69887669e+01 2.67674283e+01 1.64886413e+01\n",
            " 4.47949829e-01 1.25022792e-01 1.60375838e+00 6.26018043e+00\n",
            " 1.25012239e-01 4.75825738e+02 3.77994364e+02 1.18302047e+02\n",
            " 6.04623401e+01 4.58008699e+01 1.84951046e+02 4.10473635e+01\n",
            " 1.25016030e-01 2.90173535e+01 1.25004353e-01 8.23392747e+01\n",
            " 1.25013826e-01 1.25101652e-01 1.25003723e-01 1.25117323e-01\n",
            " 1.25011934e-01 5.06272337e+02 1.01000949e+01 1.52716726e+02\n",
            " 1.91623091e+00 1.17683360e+02 7.14285981e+02 1.49273016e+02\n",
            " 4.91419052e+01 1.27461995e+02 1.25001949e-01 1.25000000e-01\n",
            " 1.03411326e+01 8.87537158e+01 2.43611108e+00 8.67955881e+00\n",
            " 4.16383165e+00 3.65812048e-01 1.82815988e+00 2.06779748e+01\n",
            " 1.22338461e+02 9.59969229e+00 3.09252884e+00 2.34279052e+01\n",
            " 1.25064666e-01 1.25034662e-01 9.19229902e+00 3.27164238e+01\n",
            " 3.18906339e+00 9.23194681e+01 9.33574512e+00 1.25002241e-01\n",
            " 1.25068725e-01 6.33202635e+00 3.96876912e+01 6.93388748e+01\n",
            " 1.38124733e+02 1.25137745e-01 2.03192134e+01 2.48886064e+01\n",
            " 1.45703233e+02 7.56522282e+01 1.29835678e+02 1.19584953e+02\n",
            " 1.15168872e+02 8.74949254e+01 2.76472818e+01 1.01634874e+02\n",
            " 1.25003999e-01 1.25001179e-01 8.74837529e-01 6.43862232e+01\n",
            " 5.56268665e+01 2.29256303e+02 1.39539992e+01 4.04494193e+02\n",
            " 6.83913110e+01 1.00025647e+02 5.59142450e+00 1.25049137e+02\n",
            " 1.25169690e-01 1.25041642e-01 3.26264775e+02 1.25031340e-01\n",
            " 3.47148723e+00 1.45060224e+02 6.31124620e+00 3.09538633e+01\n",
            " 1.25042318e-01 1.25030513e-01 2.43130848e+01 4.21494438e+01\n",
            " 2.90186371e+01 9.15447530e+01 5.25752782e+01 1.25028276e-01\n",
            " 1.25014831e-01 1.45620741e+01 1.25069745e-01 2.71280842e+00\n",
            " 4.56333303e+01 3.44208094e+01 1.25009388e-01 1.25006306e-01\n",
            " 2.35712997e+00 1.01940147e+02 6.75335388e+01 1.25013666e-01\n",
            " 6.24559005e+00 1.25060985e-01 1.79941390e+01 1.25061674e-01\n",
            " 1.25021725e-01 9.10886873e+01 4.16546716e+01 2.42364863e+01\n",
            " 1.25154880e-01 1.34708879e+01 3.48428713e+01 1.25002977e-01\n",
            " 1.28412489e+02 4.80566292e+01 3.18663340e+01 2.00744232e+03\n",
            " 3.71641302e+01 2.31358255e+02 3.79315297e+01 2.97849443e+02\n",
            " 9.45224535e+01 1.25008669e-01 1.25058760e-01 1.17262957e+02\n",
            " 1.25020794e-01 1.23257317e+02 1.25081156e-01 1.34185809e+01\n",
            " 5.80485296e+00 8.46575809e-01 1.52704934e+01 8.43684645e+01\n",
            " 4.77688754e+01 5.02489219e+01 2.89477137e+01 9.32629969e+00\n",
            " 2.34549361e+01 1.01680692e+02 9.19627560e-01 4.01331237e+01\n",
            " 7.06034911e+01 8.59794115e+01 3.92149293e+01 3.18333709e+01\n",
            " 8.31013121e+01 1.25165471e-01 8.80194684e+01 3.77496038e+01\n",
            " 1.17387782e+02 6.18964591e+01 1.08721769e+02 1.34535770e+02\n",
            " 9.88808662e+01 1.88975055e+02 4.98447750e+01 2.43052545e+02\n",
            " 9.03501549e+01 1.05945392e+01 1.22196566e+01 1.09072608e+01\n",
            " 6.14423493e+01 9.45292101e+00 7.67752591e+01 2.03389089e+02\n",
            " 8.50363923e+01 1.94821722e-01 1.42483152e+01 8.23810532e+01\n",
            " 1.25236114e-01 1.25083768e-01 3.53906891e+00 3.44978649e+01\n",
            " 1.25015731e-01 2.06021659e+02 1.25023624e-01 1.25013817e-01\n",
            " 1.30514409e+02 4.80075698e+01 7.75601592e+00 1.05040389e+00\n",
            " 1.25000045e-01 1.25081275e-01 3.10341481e+01 9.53772280e+01\n",
            " 2.08089845e+01 1.68310558e+01 1.82160914e+01 2.93589841e+01\n",
            " 1.25404128e-01 4.13150465e+01 1.25108496e-01 1.06850284e+01\n",
            " 1.25024824e-01 1.82328702e+01 5.31305207e+01 1.25001927e-01\n",
            " 2.14153606e+01 4.54531609e+01 1.25008116e-01 1.25080924e-01\n",
            " 1.25079219e-01 4.00937949e+01 8.44483412e+01 5.80146797e+00\n",
            " 1.25009829e-01 2.92415253e+01 1.25001676e-01 6.83273464e+02\n",
            " 1.77617959e-01 4.45302632e-01 1.57585840e+01 1.44708992e+02\n",
            " 1.25001366e-01 5.57815230e+02 5.17567638e+00 7.71255740e+01\n",
            " 8.30542557e+00 2.31779071e+01 9.47302285e+01 1.13980225e+02\n",
            " 7.92991752e+02 7.53280378e+01 6.07366709e+01 8.20315901e+01\n",
            " 1.25015589e-01 9.79722556e+00 1.10948553e+02 1.96619453e+01\n",
            " 1.06789637e+02 1.53913975e+00 1.61921030e+02 1.25000982e-01\n",
            " 1.25000991e-01 2.03747927e+01 1.25003371e-01 3.14991480e+01\n",
            " 9.46229309e+01 3.29944181e+01 7.19772244e+01 2.24596438e+02\n",
            " 9.95705214e+00 1.25024364e-01 1.25108148e-01 2.28507781e+00\n",
            " 3.98451714e+02 4.65453182e+01 5.31835469e+02 2.77079210e+01\n",
            " 2.26736865e+01 1.90246250e+01 4.16726804e+00 2.24782088e+01\n",
            " 1.29979346e+02 1.17915749e+02 5.38290883e+01 9.70576052e+01\n",
            " 1.02747216e+02 2.07052425e+02 5.03133003e-01 9.05859502e+01\n",
            " 3.04565997e+01 1.39736820e+02 3.18354504e+01 5.80106719e+01\n",
            " 1.06917279e+01 2.92589008e+02 5.40472029e+01 8.48500670e+01\n",
            " 3.41090666e+00 3.42739774e+02 1.42331462e+00 1.25015014e-01\n",
            " 2.39521203e+00 1.25013432e-01 1.25007364e-01 1.39642055e+01\n",
            " 1.25031226e-01 4.38764169e+00 1.04383487e+01 2.31401344e+02\n",
            " 7.40575879e+01 5.79051674e+01 3.88425520e+02 1.25146749e-01\n",
            " 1.25006687e-01 4.15089312e+01 1.72814307e+01 1.83644201e+02\n",
            " 1.25047266e-01 1.32808685e+02 1.49729326e+02 2.37606723e+02\n",
            " 1.02919222e+02 1.39519799e+02 6.57808723e+00 1.44511114e+01\n",
            " 9.69215205e-01 1.12473608e+02 3.44304086e+01 1.26177608e-01\n",
            " 7.42516522e+01 5.52612065e+00 5.78277208e+00 1.25029164e-01\n",
            " 5.21471220e+00 3.73975543e+00 1.41576955e-01 1.25598159e-01\n",
            " 1.23431853e+00 1.53364783e+02 1.25120642e-01 1.25049726e-01\n",
            " 1.67815122e+00 4.55153207e+00 2.64671800e+01 2.09633135e+01\n",
            " 1.21725683e+01 1.74220100e+02 1.25012752e-01 3.38437789e-01\n",
            " 1.25056029e-01 1.49014996e+01 1.04324737e+01 1.25058137e-01\n",
            " 4.94407941e+00 1.25072370e-01 9.75536022e-01 1.25094784e-01\n",
            " 1.49526304e+02 1.25049900e-01 1.52829171e+01 4.50645998e+01\n",
            " 1.79175504e+02 2.42257772e+01 6.16650034e+01 1.04635251e+01\n",
            " 1.25076471e-01 9.73689766e-01 1.64049852e+02 1.25137507e-01\n",
            " 1.46764594e+01 3.48907165e+01 2.07709595e+01 3.25892653e+01\n",
            " 7.25177706e+01 2.34394443e+01 7.84418321e+01 1.25018864e-01\n",
            " 1.73124858e+01 1.00544043e+01 7.57666508e+00 1.58308345e+00\n",
            " 3.76513392e+01 3.47420657e+00 1.32325522e-01 4.07873091e+01\n",
            " 3.24262861e+01 9.22226992e+01 1.25000000e-01 6.01055790e+01\n",
            " 5.76284756e+01 1.25000536e-01 5.75470916e+01 5.77151416e+01\n",
            " 6.56767979e+00 1.18455463e+02 1.25008670e-01 1.25002612e-01\n",
            " 1.25003123e-01 7.32963140e+01 1.25253645e-01 2.12930357e-01\n",
            " 1.38685612e+00 1.25017943e-01 1.25014792e-01 1.82282512e+00\n",
            " 1.18459667e+02 6.75495256e+01 3.17424311e+01 1.81305239e+01\n",
            " 2.83964929e+01 2.56632532e+01 1.25006868e-01 7.61973546e+00\n",
            " 2.14404931e+02 1.25080962e-01 5.08546747e+01 9.84120280e+02\n",
            " 4.23094111e+00 2.60253897e+02 6.64605533e+01 6.50773519e+00\n",
            " 1.68408571e+01 1.25007477e-01 1.25001698e-01 1.25003107e-01\n",
            " 1.49313468e+02 2.50426811e+01 5.38400592e+00 1.25037297e-01\n",
            " 1.25003547e-01 8.51704593e-01 2.68827588e+02 1.31954451e+01\n",
            " 6.15736809e+00 1.25053695e-01 1.25086936e-01 1.25039357e-01\n",
            " 5.00410582e+01 8.65033289e+01 2.38509254e+01 8.39600782e+01\n",
            " 7.32504600e+00 1.99682125e+01 1.25006839e-01 4.83513318e+01\n",
            " 5.33086357e+01 1.25143802e-01 2.45759992e+01 1.38791816e+01\n",
            " 8.42476221e+00 1.25002013e-01 9.34098687e+01 1.24522835e+02\n",
            " 2.79176822e+01 1.37266386e+01 1.25191058e-01 5.04654338e+00\n",
            " 1.25063759e-01 2.00245655e-01 1.25016739e-01 4.60727994e+00\n",
            " 1.25143364e-01 2.25312206e+01 1.10442771e+01 4.50702703e-01\n",
            " 1.25027978e-01 1.07832595e+01 3.32493420e-01 4.40493597e+01\n",
            " 2.89084947e+00 3.07274112e+02 8.96371778e+01 1.31480908e+02\n",
            " 1.25000578e-01 1.26448405e-01 1.52715542e+01 1.25181848e-01\n",
            " 2.20479525e+00 2.06337182e+02 9.49662879e+01 8.35169893e+01\n",
            " 2.35496366e+02 2.23108693e+02 1.53976699e+01 2.65932985e+01\n",
            " 3.80565260e+01 2.29562714e+01 7.37585732e+00 2.73120991e+01\n",
            " 1.29913586e-01 2.30189176e+01 1.18538222e+01 1.25056776e-01\n",
            " 1.37356434e+02 5.22515059e+01 1.53099630e+02 1.25010671e-01\n",
            " 5.84867187e+01 1.25052470e-01 1.25127218e-01 7.54046977e+00\n",
            " 2.04218263e+01 1.29746247e+01 1.34124930e+01 8.90195200e+00\n",
            " 1.25218492e-01 1.25047588e-01 5.44194963e+00 4.79388735e+01\n",
            " 5.92587501e+01 4.16041295e+01 1.03777722e+01 2.85482959e+01\n",
            " 1.25068910e-01 1.25032126e-01 2.08769724e+02 1.25077438e-01\n",
            " 3.01526345e+00 7.87777564e+01 1.25186297e-01 1.17838662e+01\n",
            " 2.31948330e+00 1.62391730e+01 1.25038597e-01 1.25042237e-01\n",
            " 4.92498303e+02 1.25065723e-01 6.46755912e+01 1.04608427e+02\n",
            " 9.68486944e+01 6.49307192e+02 1.98978668e+02 3.32218516e+02\n",
            " 5.91060430e+01 4.29995148e+01 3.82172157e+00 1.62829189e+02\n",
            " 1.69380803e+01 1.25115920e-01 9.72383649e+01 1.25117436e-01\n",
            " 1.25023334e-01 7.66419124e+01 5.82668281e+01 2.57331786e+01\n",
            " 1.20923412e+02 2.89579893e+01 1.25010253e-01 1.25006434e-01\n",
            " 1.25041300e-01 1.25005915e-01 5.69618518e+00 4.97538958e+01\n",
            " 2.29291834e+00 2.06555256e+01 1.25038371e-01 1.59732828e+02\n",
            " 1.25006643e-01 1.17272072e+00 2.59815104e+01 1.83929141e+00\n",
            " 4.30995682e+01 3.30748880e+01 1.02470013e+02 3.94969693e+02\n",
            " 2.51551403e+01 1.25400553e-01 1.25032580e-01 3.80869024e+01\n",
            " 1.25242436e-01 1.93460539e+01 3.92013391e+00 1.25032724e-01\n",
            " 5.60688212e-01 1.25107504e-01 2.10471145e+02 2.16815958e+01\n",
            " 2.64558513e+01 8.77214808e+01 3.82034690e+01 3.81602901e+01\n",
            " 4.62692548e+01 9.94641129e+00 1.25054885e-01 1.14914407e+01\n",
            " 1.05309728e+02 1.29937570e+01 3.23754323e+01 1.69917471e+00\n",
            " 2.24075878e+02 3.84619531e+01 1.42159346e+01 6.73359925e+01\n",
            " 9.41835800e+01 9.14326385e+00 4.77542290e+00 9.09356626e+01\n",
            " 2.45330967e+00 4.96631819e+01 1.90081775e+00 4.55957058e+01\n",
            " 5.65499422e+01 1.27568741e+00 1.01165946e+01 1.25015007e-01\n",
            " 3.83679693e+01 2.90677859e+01 6.47292434e+01 3.53182468e+01\n",
            " 6.39074410e-01 5.27872403e+01 1.31911164e+01 1.25046235e-01\n",
            " 2.17487865e+01 1.25241153e-01 2.13672293e+00 1.44676952e+02\n",
            " 7.34323453e+00 1.58689691e+01 8.19911727e+01 2.64317058e+01\n",
            " 4.70715007e+01 7.27091049e+01 1.00426079e+02 1.25249761e-01\n",
            " 1.25030806e-01 1.25074620e-01 7.69623954e+00 1.90491634e+02\n",
            " 2.61252200e+01 5.38902835e+01 2.81191030e+01 2.19670078e+01\n",
            " 4.56539963e+01 2.55904090e+01 1.25037750e-01 1.68207448e+02\n",
            " 4.11197761e+02 6.32153179e+02 6.72269018e+01 1.88984848e+02\n",
            " 1.25003016e-01 4.64554182e+02 6.94810545e+01 5.05497200e+00\n",
            " 5.15769200e+01 1.83912603e+02 7.68990978e+01 2.05887562e+00\n",
            " 1.25010986e-01 1.98560570e-01 6.66499900e+00 3.62040913e+00\n",
            " 3.87960579e+01 1.25099895e-01 2.78252148e+01 2.58902286e+02\n",
            " 2.65161993e+02 7.82329587e+01 1.34141366e+02 1.25032527e-01\n",
            " 1.25013417e-01 1.25022151e-01 3.64970681e+01 4.20930510e+01\n",
            " 2.43865419e+00 1.89376716e+01 8.50908620e+00 1.25180595e-01\n",
            " 1.77132657e+02 7.46719314e+01 2.24735563e+01 6.62268500e+00\n",
            " 5.19951892e+00 1.25005856e-01 3.95058563e+01 1.07640370e+02\n",
            " 7.93969790e+01 9.30325781e+00 5.06665455e+00 1.25043333e-01\n",
            " 1.25029456e-01 7.60360298e+00 3.66642661e+01 1.25000990e-01\n",
            " 2.73738532e+01 1.55915909e+00 8.48883310e+00 3.15968818e+01\n",
            " 1.68900180e+02 1.01240359e+01 1.25109691e-01 1.25084189e-01\n",
            " 1.01880998e+02 1.25005578e-01 1.25097708e-01 1.25013016e-01\n",
            " 1.25002202e-01 1.25010913e-01 3.73276094e-01 2.60209606e+02\n",
            " 7.88093648e+01 5.44729169e+01 4.86749305e-01 1.00106635e+02\n",
            " 1.07941276e+01 2.87652652e+01 4.14203213e+02 5.43488153e+01\n",
            " 6.54752355e+00 1.64933911e+02 2.00583109e-01 3.43886050e+00\n",
            " 2.96537255e+01 1.25002982e-01 1.25004359e-01 9.40966441e+01\n",
            " 2.35342711e+01 1.25067798e-01 7.39344839e+00 1.25002271e-01\n",
            " 1.25176349e-01 1.25002417e-01 3.46616826e+01 1.51076253e+02\n",
            " 9.29946888e+01 5.15736142e+01 3.84585104e+00 2.63141813e+02\n",
            " 1.90321935e+02 1.39781267e+02 1.01788487e+01 2.73483639e+01\n",
            " 9.19198539e+01 1.83977704e+02 6.73209344e+01 4.73783567e+01\n",
            " 3.74779235e+01 6.05843357e+01 2.17013869e+02 7.97684690e+01\n",
            " 1.25004942e-01 1.25000599e-01 1.25001023e-01 1.25002381e-01\n",
            " 1.25000580e-01 1.25000061e-01 1.25002442e-01 1.25031786e-01\n",
            " 1.25005446e-01 1.93490860e-01 7.89272280e+01 1.63449422e-01\n",
            " 1.28128485e+02 1.25136998e-01 6.41147907e+01 1.25005474e-01]\n",
            "god,people,know,don,jesus,say,think,just,believe,christ,like,does,said,did,time\n",
            "[1.25308891e-01 4.77343130e+00 1.25368991e-01 1.25192492e-01\n",
            " 1.25091992e-01 1.25175688e-01 1.25211885e-01 3.58327000e+02\n",
            " 5.77411654e+01 1.97585757e+02 2.72608468e+02 1.25225965e-01\n",
            " 1.72518634e+02 2.04349286e+02 2.32502021e+02 1.72091845e+02\n",
            " 1.64479033e+02 1.65025173e+02 1.35375641e+02 2.73313512e+01\n",
            " 2.85374815e+01 1.10692994e+02 2.46231565e+02 1.55931433e+01\n",
            " 1.09098716e+02 1.30007419e+02 1.14825756e+02 1.14400149e+02\n",
            " 1.25010034e-01 1.49530462e+02 1.25417955e-01 1.15815687e+02\n",
            " 9.77281105e+01 1.43601976e+02 9.06911474e+01 1.28694838e+02\n",
            " 2.18205602e+01 9.34509870e+01 4.29477490e+01 1.25063206e-01\n",
            " 7.99919238e+01 4.17722060e+01 1.07078317e+02 3.51300469e+00\n",
            " 5.91702175e+01 4.58056344e+01 1.94962060e+01 4.09719165e+01\n",
            " 1.07712442e+01 2.10629314e+01 9.38271585e+01 1.13047596e+00\n",
            " 1.01547969e+01 1.88460692e+01 2.34675952e+00 1.25147079e-01\n",
            " 4.81474937e+01 1.50071731e+01 1.01872363e+01 1.09030697e+00\n",
            " 1.29580735e-01 3.18414646e+01 4.67899364e+01 1.25072566e-01\n",
            " 2.90570075e+01 3.71951682e+01 8.69499550e+00 1.25146050e-01\n",
            " 1.25053941e-01 1.25149022e-01 9.53699137e+01 1.15805494e+00\n",
            " 1.29319432e+02 4.72423213e+00 1.87705940e+01 2.11617934e-01\n",
            " 3.13823704e+01 1.25013382e-01 1.25186998e-01 1.25024005e-01\n",
            " 1.25012894e-01 2.00132757e+01 1.51108880e+01 4.35281964e+00\n",
            " 2.19569329e-01 1.25029690e-01 1.25004891e-01 2.09969298e+01\n",
            " 8.43889001e+00 1.71698062e+01 1.25244627e-01 1.25368048e-01\n",
            " 1.14633576e+01 8.49859652e+00 6.70236291e+00 1.74335500e+01\n",
            " 6.40754017e+01 1.25092917e-01 1.25035565e-01 1.25225201e-01\n",
            " 3.56991364e+01 6.87527885e+00 1.25019929e-01 2.07081631e+00\n",
            " 1.25014313e-01 1.25013000e-01 1.25005364e-01 4.64803890e-01\n",
            " 1.36782900e+01 1.02430355e+02 2.14431777e+01 1.13579068e+01\n",
            " 5.60333514e+00 1.14450821e+00 1.26138214e-01 4.17749028e+00\n",
            " 2.82394959e+01 6.43129393e+01 1.07261313e+01 1.95012194e+01\n",
            " 1.20217371e+01 3.21090050e+01 1.25007906e-01 1.25001425e-01\n",
            " 1.25003993e-01 1.30351228e+01 1.25008989e-01 1.55282139e-01\n",
            " 7.57089217e+00 1.25094488e-01 2.40913286e+01 1.48048607e+01\n",
            " 1.52999420e+01 1.53124764e+02 1.33764754e+00 2.48773327e+01\n",
            " 3.38423135e+01 3.31672820e+01 1.39215981e+01 2.22761721e+01\n",
            " 1.25060147e-01 1.25097307e-01 2.51034179e+01 2.08375007e+00\n",
            " 1.73762054e+01 1.25102918e-01 4.58160544e+01 7.66713103e+00\n",
            " 1.40154013e+01 3.18389396e+02 1.77636797e+02 2.90106700e-01\n",
            " 8.92083558e+01 7.40496480e-01 7.65448280e+00 1.28433937e+01\n",
            " 2.64579748e+01 2.91647638e+00 1.25554440e-01 2.40520988e+01\n",
            " 3.44675132e+01 1.25055319e-01 3.02518373e+00 1.70257347e+01\n",
            " 1.98894775e+01 7.75268554e+00 9.30461750e+01 1.65415723e+00\n",
            " 1.37500534e+01 2.11233696e+01 1.25076602e-01 1.04696850e+01\n",
            " 6.77612306e+01 3.63006181e+01 9.55014089e+01 4.88458246e+01\n",
            " 1.10988068e+01 1.98863911e+01 3.74866949e+01 1.16724315e+01\n",
            " 6.14974351e+00 5.50396280e+00 5.41601968e+00 1.90324589e+00\n",
            " 1.25048331e-01 5.57076733e+01 2.36759222e+00 4.97975987e+00\n",
            " 1.25200170e-01 7.10019165e+00 5.09673408e+00 5.02473673e-01\n",
            " 1.25085483e-01 1.25053590e-01 3.53647275e+02 1.79418786e+02\n",
            " 2.15565767e+01 1.79164260e+01 1.83167283e+01 7.32642958e+00\n",
            " 3.71926024e+01 1.20537080e+01 1.25023234e-01 1.25073296e-01\n",
            " 1.37150702e+01 4.48128508e+01 1.25073065e-01 1.25018067e-01\n",
            " 5.51906861e+00 4.30461436e+01 2.89623892e+01 1.89659542e+01\n",
            " 2.17006884e+01 9.87113663e+00 6.87171188e+00 6.27608091e+01\n",
            " 1.74996127e+01 3.38554716e+00 1.99645828e+01 2.61393106e+01\n",
            " 2.55877672e+01 4.48138959e+00 3.62657985e+00 1.78406751e+01\n",
            " 3.75726029e+01 4.13370687e+01 4.38748912e+00 1.25216828e-01\n",
            " 1.25013008e-01 3.23728900e+01 1.25102280e-01 2.02705737e-01\n",
            " 2.78569022e+01 2.21817377e+01 2.95968407e+01 1.26534799e-01\n",
            " 3.97761442e-01 1.25123566e-01 6.51167460e+00 5.63947050e+01\n",
            " 3.43086808e+01 1.25135792e-01 1.41655856e-01 1.84520252e+00\n",
            " 1.53618246e+02 9.86380325e+00 2.24671141e+01 2.43557598e+00\n",
            " 6.22287785e+01 1.75806666e+01 5.00596756e+01 1.40284583e+02\n",
            " 8.77882894e+01 5.14064694e+01 1.59466517e+00 1.09932259e+01\n",
            " 1.25150772e-01 1.25013865e-01 1.25127294e-01 2.57327798e+00\n",
            " 1.05535385e+00 1.04668114e+01 7.10417106e+00 5.77751903e+00\n",
            " 3.35997752e+01 2.37267770e+01 3.75049343e+01 4.57768418e+00\n",
            " 3.89448963e+01 2.35344202e+01 1.51820436e+00 1.30834688e+01\n",
            " 1.60358756e+01 3.64153818e+01 4.51642711e+01 6.61083966e+00\n",
            " 1.25254672e-01 2.57708388e+01 1.25015633e-01 1.22542861e+01\n",
            " 1.25060089e-01 2.86609303e+00 1.25076643e-01 1.55563454e+01\n",
            " 1.25077941e-01 7.90816008e+01 1.25178429e-01 2.74064355e+01\n",
            " 1.58203859e-01 2.60956831e+01 6.45058189e+01 2.24009417e-01\n",
            " 1.25081699e-01 1.49275697e+00 1.25003590e-01 1.25004296e-01\n",
            " 3.16517264e+01 6.45012410e+00 2.01110482e+01 8.92118317e+00\n",
            " 1.25256410e-01 1.12379245e+01 5.98871164e-01 8.62212559e+01\n",
            " 3.29640088e+01 8.78894549e+00 3.17867339e+01 2.58995752e+00\n",
            " 1.31026596e-01 2.95533238e+00 1.25149459e+01 1.86297742e+01\n",
            " 1.56236310e-01 8.48103357e+01 3.79999721e+00 1.25271790e-01\n",
            " 1.25086618e-01 1.25093410e-01 3.00846190e+00 2.38062500e+01\n",
            " 1.25104731e-01 1.55304286e+00 1.11198978e+01 7.97917574e+00\n",
            " 1.09874738e+00 1.21058385e+01 2.05165840e+01 1.96563729e+00\n",
            " 1.59523442e+00 1.89225714e+00 7.20333101e+00 4.85611909e-01\n",
            " 1.25041574e-01 1.25008668e-01 1.43012767e+01 1.45820450e+00\n",
            " 3.71243993e+00 4.13245900e+01 6.90485082e+00 5.55980942e+00\n",
            " 3.54433440e+00 3.79932620e+01 2.76464446e+01 3.98048740e+01\n",
            " 1.24957966e+01 1.15406271e+01 8.37752390e+00 1.25239787e-01\n",
            " 1.25164290e-01 1.19752709e+01 3.55632377e+00 3.59673615e+00\n",
            " 1.25033477e-01 1.25030389e-01 2.36707457e+01 6.86704508e+00\n",
            " 4.29284800e-01 1.25927237e+01 4.61730929e+01 1.25036583e-01\n",
            " 1.25035977e-01 8.68588456e+00 1.25095886e-01 3.36568096e+00\n",
            " 1.84163615e+00 2.21369987e+01 1.25020916e-01 1.25024109e-01\n",
            " 1.16134040e+00 1.06664124e+01 1.92276043e+00 1.25009650e-01\n",
            " 5.73570441e+00 2.61645789e+00 1.33245605e+01 3.17554446e+00\n",
            " 6.28897560e+00 1.38424101e+00 3.18210942e+01 3.99085133e+01\n",
            " 1.25021369e-01 2.30726540e+00 6.69231910e+00 1.25021931e-01\n",
            " 5.02217096e+01 1.38551768e+01 9.44416821e+00 2.74490654e+00\n",
            " 7.82374915e+01 7.64474190e+00 4.30450656e+00 1.20062470e+02\n",
            " 3.15233814e+00 1.25110270e-01 1.74022413e+00 1.45447931e+01\n",
            " 1.25060357e-01 3.53911677e+01 1.25067898e-01 1.25228819e-01\n",
            " 9.49694306e-01 5.34218353e+01 2.63369266e+02 2.16634773e+01\n",
            " 6.09065566e-01 6.84937678e+00 1.25093188e-01 1.79630486e-01\n",
            " 2.37889709e+01 1.92696107e+01 1.74434541e-01 1.37924484e+01\n",
            " 7.66286233e+00 3.26496286e+00 7.34362816e+00 9.10378893e+00\n",
            " 8.81645459e+00 1.25178841e-01 2.32451462e+00 1.31147237e-01\n",
            " 4.04879944e+00 1.62513117e+01 2.92043786e+01 1.79038920e+01\n",
            " 5.00052816e+00 1.25213649e-01 2.88997708e+01 1.25770491e-01\n",
            " 1.94988290e+01 1.35535771e-01 7.66364261e+01 1.92558478e+01\n",
            " 1.16908046e+01 2.08919377e+00 1.12699787e+01 3.60152932e+00\n",
            " 2.23758315e+01 1.25052887e-01 1.25043251e-01 1.90314157e+01\n",
            " 1.25183944e-01 7.82237518e+01 2.41420444e+01 9.12289545e+01\n",
            " 1.25276058e-01 1.35734207e+00 1.25033233e-01 1.25047056e-01\n",
            " 4.69217760e+01 9.37102901e+00 3.16846580e+01 1.25279715e-01\n",
            " 1.25030514e-01 1.25039120e-01 2.30765793e-01 3.51799709e+01\n",
            " 6.73170071e+00 1.71579966e+01 5.43924307e+00 2.14082428e+01\n",
            " 1.10702268e+01 5.51862922e+00 9.65445338e+00 2.88063586e+01\n",
            " 1.25230665e-01 4.92730981e+01 2.89396335e+01 1.25223941e-01\n",
            " 2.99970804e+01 2.90159728e+01 1.25040625e-01 1.81973662e+00\n",
            " 9.57286875e+00 5.36490719e+00 1.53536185e+01 1.25099580e-01\n",
            " 1.25028228e-01 5.52766323e+01 1.25004630e-01 4.94094544e+00\n",
            " 1.25115424e-01 1.25050845e-01 4.00401967e+01 6.98848665e+01\n",
            " 1.25001208e-01 8.69457334e+01 1.30705494e-01 2.26801301e-01\n",
            " 5.86880290e+00 1.66678309e-01 2.49566482e+01 7.27974908e+00\n",
            " 3.55954557e+01 4.63434963e+00 2.73140439e+01 1.45730937e+00\n",
            " 1.47760222e+02 1.25098298e-01 1.25173513e-01 3.73122138e+01\n",
            " 5.30453238e+01 1.25329596e-01 2.97312429e+01 1.25017241e-01\n",
            " 1.25017373e-01 6.72155524e+01 2.56707274e+01 3.22901373e+00\n",
            " 7.37916996e+00 9.39938698e+01 1.76031139e+01 2.29938451e+01\n",
            " 2.81105567e+01 1.25021371e-01 1.25056412e-01 6.09647221e-01\n",
            " 3.52344998e+01 1.08715732e+02 4.35342240e+01 2.57318629e+01\n",
            " 1.35960677e+01 2.69032313e+01 1.16461819e+01 2.50935124e+01\n",
            " 3.30775558e+01 2.82529718e+01 6.16765538e+00 2.73760826e+00\n",
            " 8.14084816e+00 2.36212723e+01 8.25020876e+01 8.47597309e+01\n",
            " 4.57464497e+01 1.31805011e+01 1.33385397e+00 8.00400470e+00\n",
            " 8.06688299e+00 6.58280893e+00 9.74902063e+00 6.85094348e+00\n",
            " 9.34758048e+00 1.06072297e+01 6.33261000e+01 1.25155765e-01\n",
            " 1.25075937e-01 1.25068760e-01 1.25042353e-01 2.12929726e+00\n",
            " 1.25047583e-01 7.73592672e+01 5.15920344e+01 7.56779755e+01\n",
            " 1.46953941e+01 9.07509199e+00 4.27801784e+01 1.25126497e-01\n",
            " 1.25147714e-01 3.15410098e+01 1.03168917e+02 5.05754119e+00\n",
            " 1.25025311e-01 2.05267592e+01 3.31436400e+00 1.66357916e+01\n",
            " 9.09835476e+00 4.50720406e+01 3.29925336e+01 4.20792743e+01\n",
            " 2.05131794e+00 1.63092995e+00 3.01387197e+01 1.25059333e-01\n",
            " 1.00069958e+01 7.92364999e+00 2.11059284e+01 1.25014261e-01\n",
            " 2.91682707e+00 4.00059416e+00 7.02152534e+00 1.25083471e-01\n",
            " 1.25237359e-01 1.59111746e+01 1.25141589e-01 1.25062213e-01\n",
            " 1.25151650e-01 1.74450171e+01 4.69859332e+01 2.15963356e+00\n",
            " 3.85396518e+00 1.25069722e-01 1.25010755e-01 1.25081920e-01\n",
            " 1.25003459e-01 4.43147180e+01 1.35300313e+01 1.25100030e-01\n",
            " 1.25159280e-01 1.25024924e-01 1.25040918e-01 3.12636481e+01\n",
            " 5.05271801e+00 1.25029497e-01 1.69629234e+01 2.79235188e+01\n",
            " 8.40759843e+01 2.16214820e+01 3.45486982e+00 5.26694591e+00\n",
            " 2.90626651e+00 1.12059119e+02 2.16769407e+02 2.76981072e+01\n",
            " 4.97828453e+01 1.25136451e-01 2.68789605e-01 9.88834002e+00\n",
            " 5.75287549e+01 3.46169664e+01 5.99124596e+01 1.25023782e-01\n",
            " 8.10214332e+01 3.44925726e+01 7.12933518e+00 1.25387645e-01\n",
            " 2.05849891e+00 1.96259170e+01 1.17665290e+01 1.34873651e+01\n",
            " 2.18770665e+00 1.14690244e+02 1.25000000e-01 4.17029946e+01\n",
            " 9.29692337e+00 1.25007196e-01 5.26348622e+00 8.76977316e+01\n",
            " 2.61681158e+01 4.44351590e+01 1.25017242e-01 1.25058737e-01\n",
            " 1.25219314e-01 4.98844969e+01 1.25101070e-01 1.01364375e+01\n",
            " 2.39864597e+01 1.25048015e-01 1.25015593e-01 4.09434354e+01\n",
            " 2.13757517e+00 1.72672193e+01 1.94393085e+01 3.89711911e-01\n",
            " 1.12549039e+01 9.56647534e+00 1.25055357e-01 1.18957687e+01\n",
            " 1.64464208e+01 1.25073792e-01 1.27317955e-01 2.86296920e+01\n",
            " 1.25120750e-01 2.50365574e+01 3.87846057e+00 7.18778710e+01\n",
            " 1.25196734e-01 1.25088998e-01 1.25144655e-01 1.25052838e-01\n",
            " 5.45818148e+01 4.01292611e+01 1.58403910e+01 1.25168838e-01\n",
            " 6.40336851e-01 1.35595337e+01 9.80508325e+01 1.03104297e+01\n",
            " 7.26304065e+00 1.25444702e-01 1.25063878e-01 1.25029553e-01\n",
            " 3.85882768e+01 7.14116881e+01 3.68918225e+01 1.49208268e+01\n",
            " 4.90088394e+01 1.25457838e+01 1.25057590e-01 2.70510091e+02\n",
            " 2.16987079e+01 1.00934427e+01 2.03692985e+01 1.47365572e+01\n",
            " 1.25224449e-01 1.25046280e-01 5.52486521e+01 9.87587750e+01\n",
            " 5.83236215e+01 1.33203651e+01 1.25060275e-01 2.97165358e-01\n",
            " 1.25102007e-01 1.25133110e-01 1.25058684e-01 1.25142940e-01\n",
            " 3.30822889e+00 2.41128829e+01 2.87982461e+00 1.36580441e+01\n",
            " 1.25608374e+00 4.26311358e+01 2.62341867e+01 2.33909230e+01\n",
            " 1.54729298e+01 3.35016915e+01 1.68459875e+01 4.73817152e+01\n",
            " 1.25033293e-01 1.87697426e+02 1.25315328e-01 3.36147245e+01\n",
            " 1.25220971e-01 8.87607328e+01 2.04072282e+01 4.11725620e+01\n",
            " 3.16282351e+01 2.80404845e+01 1.52092840e+01 1.45402049e+01\n",
            " 2.35337129e+01 3.30002615e+01 1.40898916e+01 2.43507407e+01\n",
            " 3.60394779e+01 1.20873450e+02 3.26466999e+01 1.25182495e-01\n",
            " 1.25048831e-01 1.37530500e-01 4.82399810e+01 1.25205110e-01\n",
            " 9.10410570e+00 1.51321589e+01 4.62596138e+00 4.86268322e-01\n",
            " 3.42599125e+01 6.79806148e+01 2.39269018e+01 4.24590413e+00\n",
            " 3.23955445e+00 1.25048606e-01 1.25132972e-01 1.66712478e+01\n",
            " 2.72049208e+01 5.59393739e+00 9.01827791e+00 1.09958800e+01\n",
            " 1.25049875e-01 1.25027132e-01 7.95907105e+00 1.25074942e-01\n",
            " 1.11242780e+01 1.98494482e+01 2.03863656e+01 1.59545728e+01\n",
            " 5.76026664e+01 1.25134732e-01 1.91712932e+01 1.25026187e-01\n",
            " 1.93678500e+01 6.89671776e+01 5.71302760e-01 1.25111956e-01\n",
            " 1.25489556e-01 2.14968665e+01 3.24051994e+00 1.61337504e+01\n",
            " 4.49977462e+01 4.37412870e+00 1.25055518e-01 3.64204650e+01\n",
            " 5.98403896e+00 1.18074973e+01 8.06720851e+01 3.17828387e+01\n",
            " 9.59966078e-01 4.66093224e+01 3.19759629e+01 1.31813664e-01\n",
            " 5.64259049e+00 1.49286885e+01 1.25021798e-01 1.25018899e-01\n",
            " 3.78912822e+01 1.25007379e-01 8.88745599e+01 1.24254695e+01\n",
            " 1.25104279e-01 2.87656545e+00 1.25019373e-01 4.39775046e+00\n",
            " 1.25002815e-01 1.25078011e-01 9.15466029e+01 8.58931375e+01\n",
            " 3.17490309e+01 2.20479451e+01 1.49297573e+01 1.45436050e-01\n",
            " 2.71924752e+01 1.25295311e-01 1.25049980e-01 1.31254808e+01\n",
            " 2.58493642e+01 4.12068620e+01 1.28826351e+01 1.25051848e-01\n",
            " 1.25028286e-01 2.30570753e+01 3.36027886e-01 9.61560662e+00\n",
            " 7.69875941e+00 7.27869681e+00 1.26223591e+00 1.87527125e+00\n",
            " 3.43396165e+01 8.58016452e+00 1.25024612e-01 1.25260695e-01\n",
            " 4.79252273e+00 4.56585105e+01 1.96089557e+01 2.55424424e-01\n",
            " 1.41194407e-01 1.23168326e+02 3.58469293e+01 1.95319460e+01\n",
            " 4.76037876e-01 7.23419662e+00 5.53897133e+01 3.01533167e+00\n",
            " 1.70007889e+01 5.45365501e+00 6.07498841e+00 1.28594516e-01\n",
            " 5.02922851e+01 1.25324187e-01 7.99385523e+00 1.25035384e-01\n",
            " 2.23877204e+01 2.55228294e+01 1.20138647e+02 2.37025633e+01\n",
            " 3.03317744e+00 1.25001643e-01 1.80265780e+00 7.65826641e+01\n",
            " 1.09019809e+01 2.72345771e-01 1.25387511e-01 4.86791021e+01\n",
            " 1.27253027e-01 1.25358663e-01 1.41420062e+01 1.13972554e+01\n",
            " 3.71343774e+00 2.17923136e+01 1.30341074e+01 2.20005716e+01\n",
            " 1.25005244e-01 2.12086054e+00 2.98832461e+00 7.81295267e+00\n",
            " 9.07511534e+00 9.18882452e-01 1.83573759e+01 2.96694884e+01\n",
            " 2.37469500e-01 8.53959725e-01 1.25097588e-01 2.71258395e+01\n",
            " 3.35033626e+01 3.36461070e+01 3.21986512e-01 3.63493596e+01\n",
            " 1.25032356e-01 2.00699383e+02 5.25423743e+01 4.09379998e+01\n",
            " 5.57414800e+01 5.01398325e+00 9.84963329e+00 1.25327818e-01\n",
            " 1.25014696e-01 1.30715489e+01 7.17335948e+01 2.79472572e+00\n",
            " 2.24180641e-01 1.25062748e-01 5.95769660e+00 1.86759592e+01\n",
            " 1.67949996e-01 2.42454613e+01 3.03350775e+00 1.25005216e-01\n",
            " 1.25012996e-01 1.25012625e-01 2.51199570e+01 9.39611804e+00\n",
            " 7.32445834e+01 1.98072160e+01 2.09295202e+01 5.97432643e+00\n",
            " 6.52082430e+00 8.54335928e+00 1.58282898e+01 2.01430024e+00\n",
            " 4.19446827e+01 1.25016885e-01 2.37699522e+01 1.38493225e+02\n",
            " 2.28492751e+02 7.73330386e+00 1.25074231e-01 1.25056097e-01\n",
            " 1.25021723e-01 2.08365088e+01 1.15216908e+01 1.25035746e-01\n",
            " 8.04185565e+01 1.15370705e+01 1.25419032e-01 2.41643181e+01\n",
            " 6.41650628e+01 5.90454432e+00 1.25247504e-01 1.25092938e-01\n",
            " 1.62181221e+01 1.25005625e-01 1.25097867e-01 1.25010793e-01\n",
            " 1.25042013e-01 1.00493844e+02 1.25401936e-01 5.18507229e+01\n",
            " 1.30452200e+01 3.11529729e+00 1.29578199e+00 1.25159227e-01\n",
            " 8.29590917e-01 1.45579716e+02 5.54654998e+01 4.12954312e-01\n",
            " 4.21697515e+01 7.43622291e+00 3.93305500e+01 8.97447328e+00\n",
            " 7.80951418e+01 1.25010247e-01 1.25007483e-01 2.67491627e+01\n",
            " 7.57149027e+00 2.50601686e+00 1.25029971e-01 1.25015602e-01\n",
            " 1.25014967e-01 1.86935386e+02 1.16441870e+01 1.53094478e+00\n",
            " 7.88997921e-01 1.16491754e+01 1.25552088e-01 3.21868888e+01\n",
            " 2.43542133e+01 5.19998124e+01 2.57251190e+01 1.43575798e+01\n",
            " 9.26393903e+00 1.43770627e+01 2.70677240e+00 9.88951798e-01\n",
            " 8.00200711e+00 5.64883415e+01 2.46884643e+01 9.69782230e+00\n",
            " 1.25011504e-01 1.25008515e-01 1.25017887e-01 1.25030234e-01\n",
            " 1.25047818e-01 1.25019540e-01 1.25015432e-01 1.25156282e-01\n",
            " 1.25013884e-01 1.62980029e+02 2.02261496e+02 5.94347923e+01\n",
            " 1.37953891e+01 2.78628348e+01 3.06401404e+01 1.25103393e-01]\n",
            "10,church,book,12,power,ground,20,15,used,new,14,years,time,11,radio\n",
            "[1.26937632e-01 4.76531259e+01 1.25159066e-01 1.25052192e-01\n",
            " 1.25016645e-01 1.25115440e-01 1.25095409e-01 1.10288042e+02\n",
            " 1.27411902e+02 1.51727164e+01 1.59111938e+01 3.36886061e-01\n",
            " 9.70177542e-01 1.94198341e-01 2.66055521e+01 1.70540803e+00\n",
            " 4.09048268e-01 2.80868857e+00 1.26412069e-01 4.70163108e+01\n",
            " 6.55727972e+01 2.75539933e+01 7.80789469e+01 5.21538066e+01\n",
            " 1.32468073e+01 3.42065486e+00 1.41273477e-01 2.31363514e+00\n",
            " 1.25016085e-01 1.75294337e+01 7.16885086e+00 1.84769481e-01\n",
            " 1.59153012e-01 1.75035056e-01 1.31850568e-01 5.08246834e+01\n",
            " 6.60423531e+01 1.25078615e-01 8.83158987e+00 1.25073260e-01\n",
            " 3.77370634e+01 3.43481323e+00 8.19613622e+01 1.13299018e+02\n",
            " 1.99164897e+01 4.02934236e+01 6.92916065e+00 3.91077312e+01\n",
            " 2.19417179e+01 1.73878167e+01 2.31132978e-01 6.87682679e+01\n",
            " 1.66829185e+02 2.52544193e+00 9.76496912e+00 1.51649397e+01\n",
            " 1.22635729e+01 1.65829985e+01 3.99452275e+00 2.09596641e+01\n",
            " 4.07393634e+00 1.25043543e-01 2.33933224e+02 1.25027338e-01\n",
            " 5.23491855e+01 3.84839971e+00 7.55964140e+00 4.80003196e+00\n",
            " 1.25008285e-01 3.49593545e+01 1.05476220e+02 6.29259292e+01\n",
            " 5.16074040e+01 2.42911877e+01 3.13863173e+01 1.53957574e+01\n",
            " 8.41910046e+00 1.25034943e-01 1.66539210e+01 1.25062740e-01\n",
            " 1.25025409e-01 3.31737194e+01 6.17896704e+00 1.31335617e-01\n",
            " 1.04675092e+02 1.25090312e-01 1.25036332e-01 2.49558632e+01\n",
            " 2.87895146e+01 1.66579472e+01 1.25144945e-01 1.25075414e-01\n",
            " 2.51376848e+01 3.62748155e+01 3.34792864e+01 1.25207038e-01\n",
            " 1.78851874e+01 1.25013784e-01 1.25017640e-01 1.25067528e-01\n",
            " 7.30539506e+01 9.07651605e+01 1.25005194e-01 3.92363164e+01\n",
            " 1.25015988e-01 1.25008297e-01 1.25017543e-01 1.25093900e-01\n",
            " 9.18370217e+00 2.20263521e+01 5.13099352e+00 8.41764334e+01\n",
            " 4.04506492e+01 3.07267861e+01 1.25189567e-01 1.41772107e+01\n",
            " 1.20012039e+00 1.25051952e-01 7.75778563e+00 1.86528646e+02\n",
            " 2.36965871e+01 1.32753294e+02 1.25010608e-01 1.25029282e-01\n",
            " 1.25013474e-01 2.54580596e+02 1.25021894e-01 1.47003671e+02\n",
            " 1.28368404e+02 2.67124776e+02 3.37594594e+01 1.55339206e+01\n",
            " 1.68788340e+01 1.25176577e-01 1.25023837e-01 1.43079146e+02\n",
            " 2.75984570e+02 4.71537037e+02 1.25023357e-01 2.04508718e+02\n",
            " 5.38124899e+02 1.41124817e+02 1.89742324e+02 3.40707614e+00\n",
            " 8.17605441e+01 1.25202613e-01 6.75312012e+01 3.61159696e+01\n",
            " 1.83980420e+01 2.01934797e+01 1.38154611e+01 1.25173873e-01\n",
            " 5.58004625e+01 1.27397192e+02 4.23544406e+01 4.05290866e+01\n",
            " 1.25107210e-01 1.69918679e+01 2.19370651e+01 4.02941914e+00\n",
            " 1.69364670e+01 3.60741639e+00 1.25359872e-01 1.63620432e+02\n",
            " 2.36132598e+01 2.65543458e+01 7.15119144e+01 2.06027732e+01\n",
            " 9.48638306e+01 1.43739524e+02 3.83234944e+01 5.67211974e+01\n",
            " 9.07797534e+01 1.78187128e+01 1.25015225e-01 4.68181904e+01\n",
            " 4.75382412e+01 1.25156484e-01 3.09398479e+01 1.00401508e+02\n",
            " 9.31124508e+01 7.24649290e+01 3.13825961e+01 3.43508474e+01\n",
            " 1.25000001e-01 6.49760646e+01 1.25118450e-01 1.25089060e-01\n",
            " 6.57357517e+01 3.39816941e+01 1.25004675e-01 1.25027207e-01\n",
            " 1.25013337e-01 1.25010085e-01 1.25010576e-01 6.01241460e+00\n",
            " 2.06748767e+01 2.92316132e+01 7.11751836e+00 2.67397472e+01\n",
            " 3.24842645e+01 2.48870266e+01 1.25034865e-01 1.25033862e-01\n",
            " 8.73910576e+01 6.91053720e+00 1.38095095e-01 1.72160413e-01\n",
            " 7.80148371e+01 1.56759410e+02 8.73918303e+01 6.49156264e+01\n",
            " 1.25111382e-01 2.96013627e+01 1.06344882e+01 1.49763281e+01\n",
            " 1.25092512e-01 1.25100215e-01 1.25123685e+02 2.11755624e+01\n",
            " 5.16255106e+01 3.53363941e+01 1.38184459e+00 6.29277497e+01\n",
            " 1.79087051e+01 2.67175739e+01 2.77563714e-01 7.24066668e+00\n",
            " 1.25010815e-01 3.57093939e+01 1.25072960e-01 4.88573325e-01\n",
            " 6.87071234e+01 3.67846550e+01 8.89799854e+01 4.68374199e+01\n",
            " 5.00495886e+01 1.25063223e-01 1.25170801e-01 1.39054469e+02\n",
            " 2.36342797e+02 1.10563526e+00 1.39856774e+01 3.05468883e+01\n",
            " 6.96489869e+01 2.28901373e+01 4.63009529e+01 3.70853168e+01\n",
            " 1.68796171e+01 1.01472217e+02 1.11081792e+01 1.35728144e+02\n",
            " 5.32943221e+01 3.48650154e+01 7.68224947e+01 1.25165666e-01\n",
            " 1.25072263e-01 1.25034690e-01 3.32663852e+00 4.82148946e+00\n",
            " 9.73382056e+00 7.20239821e+01 1.25115120e-01 3.49943469e+00\n",
            " 5.07034368e+01 3.44852194e+01 1.90471510e+01 1.75478320e+01\n",
            " 5.95133825e+00 3.22750719e+02 2.54071071e+02 1.25186947e-01\n",
            " 1.25122737e-01 9.97391568e+01 1.14893439e+02 4.97857861e+01\n",
            " 8.05208286e+00 1.86914266e+01 1.25031417e-01 2.58815108e+01\n",
            " 1.91806332e+01 1.63612151e-01 1.25056435e-01 2.68899397e+00\n",
            " 2.46124765e+02 3.89807930e+02 1.67714303e+01 2.92223877e+02\n",
            " 1.54255481e+02 1.53547967e+02 1.15943119e+03 2.19993945e+02\n",
            " 1.04896317e+02 1.25199277e-01 1.25019184e-01 1.25000000e-01\n",
            " 4.40525293e+01 3.82455519e+01 2.49083749e+01 2.90432991e+01\n",
            " 1.01044457e+01 1.17336972e+02 4.22571012e+01 6.05341699e+01\n",
            " 1.25231251e-01 6.65055174e+01 1.98108814e+01 1.27013609e+02\n",
            " 1.25099783e-01 1.79969283e+01 8.87544637e+01 8.63317314e+01\n",
            " 3.87918828e+01 1.61703206e+02 3.65224722e+01 1.25061150e-01\n",
            " 1.25027677e-01 3.31920453e+00 2.30785589e+01 7.82717581e+01\n",
            " 1.25096597e-01 1.25060312e-01 3.09738365e+00 2.17123616e+00\n",
            " 1.26393875e+01 7.33086620e+01 6.75048607e+01 1.50696531e+00\n",
            " 1.25079669e-01 2.64863475e-01 9.04307248e+01 7.74396821e+01\n",
            " 1.25046785e-01 1.25008869e-01 9.45595307e+01 2.47056377e+01\n",
            " 9.01449367e+01 9.56547300e+01 8.70795880e+01 1.25094507e-01\n",
            " 1.25081138e-01 1.25137894e-01 1.64991485e+00 2.21774782e+02\n",
            " 1.14674535e+02 6.60356273e+01 1.25094394e-01 1.25056494e-01\n",
            " 4.32807978e+00 8.39399074e+01 1.20081828e+02 5.41488846e+01\n",
            " 1.25149868e-01 1.25058834e-01 2.89818699e+01 5.81734284e+01\n",
            " 1.16933574e+02 2.20074072e+01 2.50638472e+01 1.25010558e-01\n",
            " 1.25019166e-01 1.39245834e+01 1.25211620e-01 1.25092982e-01\n",
            " 5.00326903e+01 2.52067336e+01 1.25027004e-01 1.25029843e-01\n",
            " 5.10244515e+01 4.55945207e+01 7.03462995e+01 1.25021005e-01\n",
            " 1.25841985e-01 1.25052457e-01 5.70816650e+01 4.72529776e+02\n",
            " 3.08054909e+02 3.33529362e+01 2.27288529e+01 4.60936854e+01\n",
            " 1.25027243e-01 1.24835535e+02 2.02204634e+02 1.25033614e-01\n",
            " 8.38325554e+01 4.85302044e+01 5.24125127e+01 1.25036948e-01\n",
            " 8.57161974e+01 4.38294185e+02 5.53336676e+01 7.98346771e+02\n",
            " 4.66404129e+02 1.25080445e-01 1.25122532e-01 1.83135228e+00\n",
            " 1.25080035e-01 1.98518069e+02 1.25006435e-01 1.25044824e-01\n",
            " 1.25061996e-01 1.25383885e-01 1.25264894e-01 3.82253987e+01\n",
            " 8.53846693e-01 1.56326066e+02 1.54698069e+02 1.29908655e+02\n",
            " 7.34460520e+01 1.23213321e+02 4.27207229e+01 3.10523059e+01\n",
            " 6.37617239e+01 7.45555554e+01 4.90393590e+01 5.14170668e+01\n",
            " 1.63545652e+02 1.93147928e+01 3.50665797e+01 9.78974596e+01\n",
            " 1.38087897e+02 9.12562664e+01 6.34741265e+01 1.40278264e+02\n",
            " 1.19404509e+01 1.25019278e-01 7.02550088e+00 5.50605237e+01\n",
            " 2.09778594e+02 5.71456644e+01 1.87473894e+02 5.93267811e+01\n",
            " 2.54688446e+01 3.15351108e+02 5.56738875e+01 1.25025286e-01\n",
            " 2.01748815e+02 1.25004563e-01 1.25005696e-01 1.16004060e+02\n",
            " 6.63652903e+00 5.38589214e+01 3.13010390e+01 1.25180821e-01\n",
            " 2.45000420e+01 1.25117148e-01 1.25008067e-01 3.33000548e+01\n",
            " 1.41637522e+02 3.25255634e+01 9.40110626e+00 1.25060983e-01\n",
            " 1.25013420e-01 1.25035327e-01 3.93469995e+01 6.44410362e+01\n",
            " 1.67194845e+01 1.41703672e-01 4.56148772e+00 1.10224890e+01\n",
            " 1.25210430e-01 3.16105667e+01 3.22484601e+01 3.17837083e+01\n",
            " 7.74100664e+00 3.29741036e+01 6.72417654e+01 1.25055098e-01\n",
            " 7.73123901e+01 8.88914899e+01 1.25088797e-01 1.25047243e-01\n",
            " 1.17023356e+01 1.97847545e+01 1.79223989e+02 1.25011500e-01\n",
            " 1.25015865e-01 5.44064577e+00 1.25001691e-01 1.25007263e-01\n",
            " 1.25020040e-01 1.25014523e-01 8.14507566e+01 6.49090200e+01\n",
            " 1.25005308e-01 1.15989247e+03 5.60678383e+01 2.01436030e+01\n",
            " 1.25163520e-01 1.25102603e-01 1.55791687e+02 2.46048192e+01\n",
            " 8.05182538e+02 2.62845114e+01 3.23609177e+01 7.34166522e+01\n",
            " 1.25036498e-01 1.25057038e-01 1.26767605e-01 7.24697328e+01\n",
            " 7.25434307e+01 1.84121649e+01 1.30824829e+00 1.25007135e-01\n",
            " 1.25007127e-01 5.87367367e+01 1.57501029e+02 5.22180183e+01\n",
            " 5.17751731e+01 9.30890355e+00 2.41556380e+02 2.21165878e+02\n",
            " 8.74853158e+01 1.25003391e-01 1.25044467e-01 1.25081938e-01\n",
            " 2.79790243e+01 8.21262431e+01 1.15037442e+03 9.14389712e+01\n",
            " 1.62999860e+01 2.00624878e+02 4.59263865e+01 6.05345619e+01\n",
            " 3.15691909e+02 7.55680737e+01 1.25267158e-01 1.25195574e-01\n",
            " 1.03500364e+00 4.49980491e+02 5.15574088e+01 2.74496877e+02\n",
            " 5.64370884e+01 2.87886506e+02 1.27251794e+02 1.98649245e+02\n",
            " 1.20625638e+02 1.25056490e-01 6.77131310e+01 3.64022229e+02\n",
            " 8.48326476e+01 2.89729773e+01 1.10357668e+02 1.57676727e+00\n",
            " 4.24464457e+01 1.41368875e+01 1.25057046e-01 3.57624234e+01\n",
            " 1.25117531e-01 8.03394042e+00 7.54507913e+01 4.37727401e+02\n",
            " 1.27213903e+02 1.22036158e+02 4.91512645e+01 4.50849246e+01\n",
            " 2.09330136e+01 6.76170964e+01 1.25023279e-01 1.25022550e-01\n",
            " 1.25020318e-01 3.73196224e+01 2.44325696e+02 1.17112836e+02\n",
            " 1.67322117e+00 6.23914944e+01 5.37305031e+00 1.25174050e-01\n",
            " 1.89503351e+01 4.06724017e+00 4.69752919e+01 1.25015391e-01\n",
            " 1.79768812e+00 3.98312622e+01 2.36056922e+01 5.63950427e-01\n",
            " 3.59840309e+01 1.37154157e+02 8.77732917e+01 1.25096500e-01\n",
            " 2.13115688e+01 7.35630107e+01 1.25040909e-01 1.25007907e-01\n",
            " 5.01313096e-01 5.41132483e+01 1.25080456e-01 1.13437747e+02\n",
            " 5.08857715e+01 1.25077137e-01 1.25027355e-01 1.39911226e+02\n",
            " 1.41748165e-01 1.25099530e-01 2.81756852e+01 2.40062145e+00\n",
            " 3.83554764e+00 1.25013913e-01 1.25021472e-01 1.28828795e+01\n",
            " 1.25171044e-01 1.25024815e-01 7.30111753e+01 1.06921685e+01\n",
            " 3.27605890e+02 5.53919733e+01 6.25647125e+01 9.02944526e+01\n",
            " 2.11201284e+00 1.25123622e-01 2.31344401e+02 5.44018844e-01\n",
            " 2.02280324e+01 1.39123915e+00 1.45460045e+02 8.55630283e+01\n",
            " 5.94742206e+01 3.04779642e+01 5.29966427e+01 1.25014436e-01\n",
            " 1.50121445e+02 1.13104373e+02 5.22835829e+00 1.25104053e-01\n",
            " 5.82174754e+01 8.81500478e+00 1.25048769e+01 1.42671653e+02\n",
            " 1.43922478e+02 1.46031225e+02 1.25000000e-01 9.01229773e+01\n",
            " 6.51738810e+01 1.25010749e-01 5.82625762e+01 6.67842635e+01\n",
            " 1.30832011e+01 5.70546159e+01 1.25207858e-01 1.25001974e-01\n",
            " 1.25114198e-01 4.84944079e-01 1.94793554e+00 6.43016805e+00\n",
            " 1.25085103e-01 1.25013405e-01 1.25009519e-01 4.31601522e+01\n",
            " 1.25163923e-01 3.43844804e+01 7.09473480e+01 1.25280981e-01\n",
            " 3.49374891e+01 8.27943535e+01 1.44382514e+01 1.27586802e+01\n",
            " 2.61592830e+00 1.82755743e+00 1.25082104e-01 2.36988097e+02\n",
            " 1.28707212e+02 3.55821109e+01 2.99725675e+01 3.33470444e+00\n",
            " 2.19206386e+01 1.43124865e+02 1.40124844e+02 1.25045771e-01\n",
            " 8.81226845e+01 9.00111211e-01 1.76422093e+02 1.88900092e+02\n",
            " 2.29609610e+02 6.21950794e+01 1.96706627e+02 7.53667791e+01\n",
            " 1.25283444e-01 1.25064635e-01 1.25017459e-01 1.25077401e-01\n",
            " 7.34531701e+01 1.06065256e+02 3.92148136e+01 1.52901956e+02\n",
            " 4.22217749e+01 2.92808447e+01 1.25049245e-01 1.32953720e+02\n",
            " 1.41117075e+01 8.21766533e-01 2.54078179e+02 3.53567545e+01\n",
            " 6.88283697e+01 1.25002296e-01 3.04621632e+02 2.10269571e+02\n",
            " 8.07510506e+01 1.11581599e+01 1.25068290e-01 2.11266380e+01\n",
            " 1.25025968e-01 1.82103647e-01 1.83005076e-01 6.19604997e-01\n",
            " 1.46147439e+01 1.79994458e+01 1.73200936e+00 1.25135839e-01\n",
            " 1.25009712e-01 1.96317368e+00 1.25117781e-01 1.95924968e+01\n",
            " 5.40309205e+01 1.25110613e+02 3.61598794e+01 1.44404001e+02\n",
            " 1.25019029e-01 1.00120538e+00 3.54946878e+01 4.30571986e+01\n",
            " 2.90613178e+00 1.02988550e+02 4.58255245e+01 1.62653919e+02\n",
            " 4.74154171e+02 8.93830638e+01 7.36734362e+01 3.42524327e+01\n",
            " 4.51088174e+00 4.38291332e+00 2.62346696e+01 4.33519309e+01\n",
            " 1.00603712e+02 6.64454550e-01 1.24106499e+01 1.78318416e+01\n",
            " 1.25029135e-01 1.25020483e-01 1.59940820e+02 1.26146698e-01\n",
            " 1.08329487e+01 2.84808101e+00 6.59573597e+00 2.75323108e+00\n",
            " 9.31054023e+00 1.20281908e+00 6.17401779e+00 3.71568588e+00\n",
            " 2.99506865e+00 1.25041456e-01 1.53107828e+00 2.80798559e+01\n",
            " 6.12059350e+01 4.05284553e+01 3.03606414e+01 1.62718294e+01\n",
            " 1.89124821e+02 1.55124808e+02 4.65802273e+02 1.25066933e-01\n",
            " 1.34593963e+02 3.59401345e+01 5.27774325e+01 2.63997852e+01\n",
            " 2.77554707e+02 1.20491845e+02 2.29976508e+02 1.25023722e-01\n",
            " 1.45168869e+02 1.69170397e-01 5.33890425e+01 8.44967783e+00\n",
            " 9.53970691e+01 3.42845398e+02 7.39249206e+01 5.67433298e+01\n",
            " 1.34301700e+01 2.57580485e-01 1.09482760e+01 1.25007727e-01\n",
            " 1.25204090e-01 1.62249762e+02 2.02313184e+02 1.14599599e+01\n",
            " 1.25109166e-01 1.95919309e+02 2.00736543e+01 1.90302977e+01\n",
            " 4.50176557e+01 1.95942339e+01 1.25009026e-01 1.25002908e-01\n",
            " 1.10228328e+02 6.21053486e-01 6.85787863e-01 4.31521861e+01\n",
            " 1.08340062e+01 1.25105967e-01 1.25113129e-01 1.25134928e-01\n",
            " 1.25074111e-01 1.35488358e-01 8.59221640e+01 1.25309991e-01\n",
            " 7.91619278e+01 5.34573176e+01 4.88474184e+01 1.25004161e-01\n",
            " 8.06252959e+01 9.89506121e-01 1.25078719e-01 5.39709948e+01\n",
            " 4.42214323e+01 9.78343768e+01 1.25089607e-01 3.45791479e+00\n",
            " 1.25032299e-01 2.17439113e+01 1.25045157e-01 5.11089049e+01\n",
            " 1.06722759e+02 1.24412823e+02 1.16364774e+02 9.19825913e+01\n",
            " 7.78611659e+00 3.27746659e-01 1.25009266e-01 2.62606076e+01\n",
            " 1.29441836e-01 3.08767060e+01 1.15579165e+01 1.92167589e+02\n",
            " 1.25022327e-01 1.25178675e-01 4.09403901e+01 1.49788443e+02\n",
            " 1.10335128e+02 6.32250647e+01 3.13596264e+01 1.80533080e-01\n",
            " 1.25210653e-01 5.23078744e+01 5.98759038e+01 1.23171830e+02\n",
            " 1.84813215e+01 1.25090486e-01 5.42877678e+01 1.25051584e-01\n",
            " 4.52768343e+01 1.79698637e+02 5.63512160e+00 2.94202267e+01\n",
            " 2.78822025e+01 1.25045887e-01 3.54529855e+00 1.74933883e+01\n",
            " 2.03064017e+01 2.24779493e+00 6.30333423e+00 3.57685676e+02\n",
            " 3.87269410e+00 1.14981973e+01 4.04831472e+01 5.60424597e+01\n",
            " 5.97144739e+01 7.19230120e+01 5.61427508e+01 5.08017282e+01\n",
            " 1.25009604e-01 3.45973917e+02 9.55620331e+00 2.11445632e+02\n",
            " 2.25512517e+01 2.52447953e+01 6.02105834e+01 3.03426360e-01\n",
            " 3.57393905e+01 1.99673393e+02 1.26402595e-01 3.36123129e+02\n",
            " 1.98611468e+02 8.23978522e+02 6.12239407e+01 1.46306748e+02\n",
            " 1.25020562e-01 6.38085514e+02 1.03210960e+02 7.53779370e+00\n",
            " 5.60572669e+01 5.84913088e+01 8.22614506e+01 1.37702389e-01\n",
            " 1.25120957e-01 2.28441944e+00 4.14930275e+01 1.25151278e-01\n",
            " 8.78746151e+01 1.25034935e-01 4.62451622e+01 8.83087148e+01\n",
            " 1.25171209e-01 1.71956691e+02 1.37625180e+02 1.25022189e-01\n",
            " 1.25006837e-01 1.25010016e-01 1.38909910e+02 4.37058162e+01\n",
            " 6.11152079e+01 6.73712028e+01 2.18680061e+01 2.70163530e+00\n",
            " 5.78095927e+01 9.26121759e+00 5.07826356e+01 1.25038356e-01\n",
            " 2.37155058e+00 1.25048854e-01 8.63993691e+01 3.11976143e+02\n",
            " 2.82688337e+02 3.07150925e+01 1.25127314e-01 1.25142971e-01\n",
            " 2.01396205e+00 2.68035590e+01 7.93771533e+01 1.25006862e-01\n",
            " 9.64549986e+01 5.00309860e+01 5.25371117e+00 1.30913453e+01\n",
            " 6.71618366e+02 9.48265802e+00 1.22761396e+01 2.11531093e+01\n",
            " 1.09250455e+01 1.25070176e-01 1.25039560e-01 1.25016437e-01\n",
            " 1.25022694e-01 1.25185836e-01 4.22975932e+00 3.93185173e+02\n",
            " 6.72336154e+01 3.64773747e+01 1.25066940e-01 9.13487914e+01\n",
            " 9.70082340e+01 1.25171320e-01 4.57655848e+02 2.07242766e+01\n",
            " 9.04620010e+01 1.14262352e+02 1.25193126e-01 1.25099171e-01\n",
            " 4.95426724e+01 1.25018815e-01 1.25030243e-01 1.25359568e-01\n",
            " 3.62026778e+01 2.19714150e+02 1.42663468e-01 1.25008112e-01\n",
            " 2.24655808e-01 1.25070781e-01 1.53869944e+01 1.25136047e-01\n",
            " 1.25146978e-01 2.26160012e+02 9.71615317e+01 1.83260314e+01\n",
            " 1.98294777e+01 3.26107016e+02 4.53050344e+01 5.85072787e+01\n",
            " 7.15140801e+01 6.87284776e+01 1.44741573e+02 1.53047171e+01\n",
            " 5.59080792e+00 7.57742196e+00 1.06514118e+02 7.18439223e+00\n",
            " 1.25017295e-01 1.25011294e-01 1.25011204e-01 2.23103988e-01\n",
            " 1.25013108e-01 1.25012542e-01 1.25015653e-01 1.25041961e-01\n",
            " 1.25018646e-01 5.89389019e+02 2.75222779e+02 4.13450311e+01\n",
            " 2.06072277e+02 3.20700897e-01 4.85606161e+01 1.78284969e+00]\n",
            "just,don,like,think,know,good,ve,time,year,bike,really,game,better,got,right\n"
          ],
          "name": "stdout"
        }
      ]
    },
    {
      "cell_type": "markdown",
      "metadata": {
        "id": "YtA8WXmDF7p5"
      },
      "source": [
        "## 문서 군집화\n",
        "- 비슷한 텍스트 구성의 문서를 군집화할 수 있음\n",
        "- 문서의 레이블이 필요 없는 비지도 학습\n",
        "1. uci 저장소에서 군집에 필요한 데이터를 저장합니다.\n",
        "-51개의 텍스트 파일로 구성되어 있으며 각 파일은 Tripadvisor(호텔), Edmunds.com(자동차), Amazon.com(전자제품) 사이트에서 가져온 리뷰 문서 \n",
        "- 각 문서는 약 100개 정도의 문장을 가지고 있습니다.\n",
        "<br>\n",
        "<br>\n",
        "<br>\n",
        "\n",
        "### 1.특정 디렉토리에 존재하는 모든 텍스트 파일읽어오기\n",
        "- os.path.join(path, '*.data') : path디렉토리에 있는 모든 .data파일의 조건을 생성합니다.\n",
        "- glob.glob() : 조건에 맞는 파일의 경로를 리스트로 가져옵니다\n"
      ]
    },
    {
      "cell_type": "code",
      "metadata": {
        "colab": {
          "base_uri": "https://localhost:8080/"
        },
        "id": "YgN0jakrIxir",
        "outputId": "db35d183-4abe-48c3-d4f8-9085ce03b575"
      },
      "source": [
        "import glob, os\n",
        "\n",
        "# 문서 디렉토리 설정\n",
        "path = '/content/drive/MyDrive/Colab Notebooks/data/OpinosisDataset1.0/topics'\n",
        "\n",
        "# 모든 파일 경로를 리스트로 저장\n",
        "all_files = glob.glob(os.path.join(path, '*.data'))\n",
        "print( all_files[:5])"
      ],
      "execution_count": null,
      "outputs": [
        {
          "output_type": "stream",
          "text": [
            "['/content/drive/MyDrive/Colab Notebooks/data/OpinosisDataset1.0/topics/speed_garmin_nuvi_255W_gps.txt.data', '/content/drive/MyDrive/Colab Notebooks/data/OpinosisDataset1.0/topics/sound_ipod_nano_8gb.txt.data', '/content/drive/MyDrive/Colab Notebooks/data/OpinosisDataset1.0/topics/seats_honda_accord_2008.txt.data', '/content/drive/MyDrive/Colab Notebooks/data/OpinosisDataset1.0/topics/screen_ipod_nano_8gb.txt.data', '/content/drive/MyDrive/Colab Notebooks/data/OpinosisDataset1.0/topics/satellite_garmin_nuvi_255W_gps.txt.data']\n"
          ],
          "name": "stdout"
        }
      ]
    },
    {
      "cell_type": "markdown",
      "metadata": {
        "id": "GSAvhOOSJnXN"
      },
      "source": [
        "### 2.파일이름과 파일의 내용을 저장"
      ]
    },
    {
      "cell_type": "code",
      "metadata": {
        "colab": {
          "base_uri": "https://localhost:8080/"
        },
        "id": "UkCJNTZtJofv",
        "outputId": "577849ce-f7d5-4ebb-e003-127a4dce0d5a"
      },
      "source": [
        "filename_list = []\n",
        "opinion_text = []\n",
        "\n",
        "# 파일들을 순회\n",
        "for file_ in all_files:\n",
        "    # 파일을 읽어서 DataFrame생성\n",
        "    df = pd.read_table(file_, index_col=None, header=0, encoding='latin1')\n",
        "\n",
        "    # 파일이름 가공 \n",
        "    # windows이면 / 대신에 \\\\을 설정\n",
        "    # /로 자르고 배열 제일 마지막에 있는 파일명을 가져옴\n",
        "    filename = file_.split('/')[-1]\n",
        "    # .data확장자 제거\n",
        "    filename = filename.split('.')[0]\n",
        "#    print(filename)\n",
        "\n",
        "    # 파일 이름과 내용 저장\n",
        "    filename_list.append(filename)\n",
        "    opinion_text.append(df.to_string())\n",
        "\n",
        "# 컬럼명 : filename, opinion_text\n",
        "document_df = pd.DataFrame({'filename':filename_list, 'opinion_text':opinion_text})\n",
        "\n",
        "print(document_df.head())\n",
        "    \n"
      ],
      "execution_count": null,
      "outputs": [
        {
          "output_type": "stream",
          "text": [
            "                         filename                                       opinion_text\n",
            "0      speed_garmin_nuvi_255W_gps                                                ...\n",
            "1             sound_ipod_nano_8gb      headphone jack i got a clear case for it a...\n",
            "2         seats_honda_accord_2008                                                ...\n",
            "3            screen_ipod_nano_8gb                                                ...\n",
            "4  satellite_garmin_nuvi_255W_gps                                                ...\n"
          ],
          "name": "stdout"
        }
      ]
    },
    {
      "cell_type": "markdown",
      "metadata": {
        "id": "CInd6WcpQ_7c"
      },
      "source": [
        "# 자연어 처리 복습\n",
        "\n",
        "## 영문에서 단어나 문장 분할\n",
        "\n",
        "## nltk.word_tokenize\n",
        "- 하나의 문장을 단어 단위로 분할 : \n",
        "\n",
        "## nltk.set_tokenize\n",
        "- 여러 줄의 텍스트를 문장 단위로 분할\n",
        "\n",
        "\n",
        "# 형태소 분석\n",
        "- 형태소 분석을 하는 이유는 단수, 복수, 과거, 현재진행형, 최상급 등의 문자에 대해 동일한 어근을 갖는 단어 단위로 분할해야 하기 때문입니다.\n",
        "\n",
        "## WordNetLemmatizer\n",
        "- 영문 형태소 분석\n",
        "\n",
        "## konlpy\n",
        "- 한글 형태소 분석\n"
      ]
    },
    {
      "cell_type": "markdown",
      "metadata": {
        "id": "TLljXxewSyk4"
      },
      "source": [
        "- 영문에서 구두점을 제거하고 형태소 분석을 해보겠습니다"
      ]
    },
    {
      "cell_type": "code",
      "metadata": {
        "colab": {
          "base_uri": "https://localhost:8080/"
        },
        "id": "U_pk-PHhT3-p",
        "outputId": "dc2d0e08-7263-4ed4-b997-f9adb73b906b"
      },
      "source": [
        "from nltk.stem import WordNetLemmatizer\n",
        "import nltk\n",
        "import string\n",
        "\n",
        "\n",
        "# 구두점 목록과 치환할 문자열을 dict로 만들기\n",
        "remove_punct_dict = dict((ord(punct), None) for punct in string.punctuation)\n",
        "print(remove_punct_dict)\n",
        "\n",
        "lemmar = WordNetLemmatizer()\n",
        "\n",
        "\n",
        "## 단어 토큰화\n",
        "## 문자열을 받아서 WordNetLemmatizer로 단어 토큰 단위로 분할해 주는 함수\n",
        "def lemTokens(tokens):\n",
        "    # lemmatize(단어, 단어 형태)\n",
        "    return [lemmar.lemmatize(token) for token in tokens]\n",
        "\n",
        "## 문자의 구두점을 제거하고 형태소 분석을 수행해주는 함수\n",
        "def lemNomalize(text):\n",
        "    return lemTokens(nltk.word_tokenize(text.lower().translate(remove_punct_dict)))"
      ],
      "execution_count": null,
      "outputs": [
        {
          "output_type": "stream",
          "text": [
            "{33: None, 34: None, 35: None, 36: None, 37: None, 38: None, 39: None, 40: None, 41: None, 42: None, 43: None, 44: None, 45: None, 46: None, 47: None, 58: None, 59: None, 60: None, 61: None, 62: None, 63: None, 64: None, 91: None, 92: None, 93: None, 94: None, 95: None, 96: None, 123: None, 124: None, 125: None, 126: None}\n"
          ],
          "name": "stdout"
        }
      ]
    },
    {
      "cell_type": "markdown",
      "metadata": {
        "id": "FWGzx9WfUMaP"
      },
      "source": [
        "## 단어의 개수 세기\n",
        "- 파일내용 속 단어의 개수를 세봅시다\n",
        "- TfidfVectorizer : 피처 벡터화"
      ]
    },
    {
      "cell_type": "code",
      "metadata": {
        "id": "WqU5fk-JUTsJ"
      },
      "source": [
        "from sklearn.feature_extraction.text import TfidfVectorizer\n",
        "tfidf_vect = TfidfVectorizer(tokenizer=lemNomalize, stop_words='english',\n",
        "                             ngram_range=(1,2), min_df=0.05, max_df=0.85)\n",
        "\n",
        "feature_vect = tfidf_vect.fit_transform(document_df['opinion_text'])\n"
      ],
      "execution_count": null,
      "outputs": []
    },
    {
      "cell_type": "markdown",
      "metadata": {
        "id": "mn78k29QUy_F"
      },
      "source": [
        "## 문서 군집\n",
        "- KMeans를 이용하여 각 파일내용의 단어들을 가지고 5개의 그룹으로 파일을 군집화 해보겠습니다."
      ]
    },
    {
      "cell_type": "code",
      "metadata": {
        "colab": {
          "base_uri": "https://localhost:8080/"
        },
        "id": "TXPdjbVFYfSG",
        "outputId": "d1a543bf-c6e6-4f42-9aea-063cb1cbb357"
      },
      "source": [
        "from sklearn.cluster import KMeans\n",
        "\n",
        "# 5개로 군집하는 모델객체 생성\n",
        "km_cluster = KMeans(n_clusters=5, max_iter=10000,random_state=42)\n",
        "km_cluster.fit(feature_vect)\n",
        "# 각 그룹의 이름\n",
        "cluster_label = km_cluster.labels_\n",
        "# 각 그룹의 중심점\n",
        "cluster_centers = km_cluster.cluster_centers_\n",
        "print(cluster_centers.shape)"
      ],
      "execution_count": null,
      "outputs": [
        {
          "output_type": "stream",
          "text": [
            "(5, 4611)\n"
          ],
          "name": "stdout"
        }
      ]
    },
    {
      "cell_type": "code",
      "metadata": {
        "colab": {
          "base_uri": "https://localhost:8080/"
        },
        "id": "ba9iGcRuY4PQ",
        "outputId": "942e0ee5-ccf4-4be0-bf8f-bb3b6463d41d"
      },
      "source": [
        "document_df['cluster_label'] = cluster_label\n",
        "print(document_df.shape)\n",
        "print(document_df.head())"
      ],
      "execution_count": null,
      "outputs": [
        {
          "output_type": "stream",
          "text": [
            "(51, 3)\n",
            "                         filename  ... cluster_label\n",
            "0      speed_garmin_nuvi_255W_gps  ...             1\n",
            "1             sound_ipod_nano_8gb  ...             1\n",
            "2         seats_honda_accord_2008  ...             0\n",
            "3            screen_ipod_nano_8gb  ...             1\n",
            "4  satellite_garmin_nuvi_255W_gps  ...             1\n",
            "\n",
            "[5 rows x 3 columns]\n"
          ],
          "name": "stdout"
        }
      ]
    },
    {
      "cell_type": "markdown",
      "metadata": {
        "id": "FyOWJCzdakSI"
      },
      "source": [
        "- 0번 클러스터에 속하는 파일명을 확인해봅니다"
      ]
    },
    {
      "cell_type": "code",
      "metadata": {
        "colab": {
          "base_uri": "https://localhost:8080/"
        },
        "id": "ELmNG1PhZqMI",
        "outputId": "cded7ca9-9415-4ae3-805e-20d68acc3109"
      },
      "source": [
        "print(document_df[document_df['cluster_label'] == 0].sort_values(by='filename'))"
      ],
      "execution_count": null,
      "outputs": [
        {
          "output_type": "stream",
          "text": [
            "                          filename  ... cluster_label\n",
            "34       comfort_honda_accord_2008  ...             0\n",
            "33       comfort_toyota_camry_2007  ...             0\n",
            "20   gas_mileage_toyota_camry_2007  ...             0\n",
            "22      interior_honda_accord_2008  ...             0\n",
            "23      interior_toyota_camry_2007  ...             0\n",
            "18       mileage_honda_accord_2008  ...             0\n",
            "17   performance_honda_accord_2008  ...             0\n",
            "9        quality_toyota_camry_2007  ...             0\n",
            "2          seats_honda_accord_2008  ...             0\n",
            "46  transmission_toyota_camry_2007  ...             0\n",
            "\n",
            "[10 rows x 3 columns]\n"
          ],
          "name": "stdout"
        }
      ]
    },
    {
      "cell_type": "markdown",
      "metadata": {
        "id": "uJ1HoSEfay5g"
      },
      "source": [
        "## 3개 클러스터로 군집화\n",
        "- 군집을 3개로 줄여보겠습니다\n",
        "- n_clusters에 3을 설정하면 됩니다."
      ]
    },
    {
      "cell_type": "code",
      "metadata": {
        "colab": {
          "base_uri": "https://localhost:8080/"
        },
        "id": "RtGN-4R_adM6",
        "outputId": "dac5f017-ea9d-4fa8-9fff-eaad9273679b"
      },
      "source": [
        "from sklearn.cluster import KMeans\n",
        "\n",
        "# 3개로 군집하는 모델객체 생성\n",
        "km_cluster = KMeans(n_clusters=3, max_iter=10000,random_state=42)\n",
        "km_cluster.fit(feature_vect)\n",
        "\n",
        "# 각 그룹의 이름\n",
        "cluster_label = km_cluster.labels_\n",
        "document_df['cluster_label'] = cluster_label\n",
        "document_df.sort_values(by='cluster_label')\n",
        "\n",
        "# 각 그룹의 중심점\n",
        "cluster_centers = km_cluster.cluster_centers_\n",
        "\n",
        "print(cluster_centers.shape)"
      ],
      "execution_count": null,
      "outputs": [
        {
          "output_type": "stream",
          "text": [
            "(3, 4611)\n"
          ],
          "name": "stdout"
        }
      ]
    },
    {
      "cell_type": "code",
      "metadata": {
        "colab": {
          "base_uri": "https://localhost:8080/"
        },
        "id": "a-nCJXzUdFjD",
        "outputId": "0d3f8e4c-ded1-4611-a9d0-95a70ce014e9"
      },
      "source": [
        "print(document_df[document_df['cluster_label'] == 0].sort_values(by='filename'))"
      ],
      "execution_count": null,
      "outputs": [
        {
          "output_type": "stream",
          "text": [
            "                          filename  ... cluster_label\n",
            "34       comfort_honda_accord_2008  ...             0\n",
            "33       comfort_toyota_camry_2007  ...             0\n",
            "20   gas_mileage_toyota_camry_2007  ...             0\n",
            "22      interior_honda_accord_2008  ...             0\n",
            "23      interior_toyota_camry_2007  ...             0\n",
            "18       mileage_honda_accord_2008  ...             0\n",
            "17   performance_honda_accord_2008  ...             0\n",
            "9        quality_toyota_camry_2007  ...             0\n",
            "2          seats_honda_accord_2008  ...             0\n",
            "46  transmission_toyota_camry_2007  ...             0\n",
            "\n",
            "[10 rows x 3 columns]\n"
          ],
          "name": "stdout"
        }
      ]
    },
    {
      "cell_type": "markdown",
      "metadata": {
        "id": "xnjpM0kMaxfl"
      },
      "source": [
        "## 문장의 유사도 측정\n",
        "- 문장의 유사도 측정은 각 문장을 벡터로 만들어서 다른 문작과 거리를 측정하는 개념을 사용합니다\n",
        "- 이때는 벡터의 크기보다는 벡터의 방향성을 가지고 수행하는 이 벡터의 사잇각을 구해서 유사한 지 수치로 나타내게 되는데 이 때 사용되는 수치를 코사인 유사도라고 합니다.\n",
        "- 챗봇은 사용자의 질의에 응답을 미리 만들어 두었다가 답변을 하게 되는데 사용자의 질의가 반드시 이전에 있던 것과 동일하지는 않기 때문에 이 경우에는 문장의 유사도를 계산해서 가장 가까운 문장을 추천해야 합니다.\n",
        "- 직접 코사인 유사도를 계산하거나 sklearn 의 metrics.pairwise.cosine_similarity함수를 이용해서 측정가능합니다.\n",
        "- 코사인 유사도를 계산하기 전에 피처 벡터화를 수행해야 합니다"
      ]
    },
    {
      "cell_type": "markdown",
      "metadata": {
        "id": "1GJOgwz9f1Ww"
      },
      "source": [
        "## 코사인 유사도를 직접계산하는 함수 만들기\n"
      ]
    },
    {
      "cell_type": "code",
      "metadata": {
        "id": "XjcDUT4Pf4Lz"
      },
      "source": [
        "# 2개의 데이터를 받아서 코사인 유사도를 측정하는 함수\n",
        "def cos_similarity(v1, v2):\n",
        "\n",
        "    # np.dot : numpy array를 곱할 때 사용합니다\n",
        "    dot_product = np.dot(v1, v2)\n",
        "    # 유클리디안 거리 구하기\n",
        "    # np.square : 제곱계산\n",
        "    # np.sqrt : 제곱근계산\n",
        "    l2_norm = (np.sqrt(sum(np.square(v1))) * np.sqrt(sum(np.square(v2))))\n",
        "\n",
        "    # 행렬의 곱을 유클리디안 거리로 나눈 값이 코사인 유사도가 된다\n",
        "    similarity = dot_product / l2_norm\n",
        "    return similarity"
      ],
      "execution_count": null,
      "outputs": []
    },
    {
      "cell_type": "markdown",
      "metadata": {
        "id": "SZhT4BSfhVX7"
      },
      "source": [
        "## 영문의 유사도 측정\n",
        "- 위에서 만든 코사인유사도 함수로 영문의 유사도를 측정해보겠습니다.\n"
      ]
    },
    {
      "cell_type": "code",
      "metadata": {
        "colab": {
          "base_uri": "https://localhost:8080/"
        },
        "id": "n03DhFP6hY7e",
        "outputId": "6522a9a6-0872-46e9-91cf-0e186e07b2b0"
      },
      "source": [
        "doc_list = ['if you take the blue pill, the story ends',\n",
        "            'if you take the red pill, you stay in Wonderland',\n",
        "            'if you take the red pill, I show you how deep the rabbit hole goes']\n",
        "\n",
        "# 피처 벡터화\n",
        "tfidf_vect_simple = TfidfVectorizer()\n",
        "feature_vect_simple = tfidf_vect_simple.fit_transform(doc_list)\n",
        "print(feature_vect_simple.shape)"
      ],
      "execution_count": null,
      "outputs": [
        {
          "output_type": "stream",
          "text": [
            "(3, 18)\n"
          ],
          "name": "stdout"
        }
      ]
    },
    {
      "cell_type": "code",
      "metadata": {
        "colab": {
          "base_uri": "https://localhost:8080/"
        },
        "id": "bBMiswlFibyR",
        "outputId": "7b46ad1b-e07c-4fb3-ae04-e6440b7a4658"
      },
      "source": [
        "# 피처 벡터화된 데이터는 희소행렬이므로 밀집행렬로 변환\n",
        "# 거리 계산할 때는 밀집행렬을 사용해야 합니다.\n",
        "feature_vect_dense = feature_vect_simple.todense()\n",
        "\n",
        "# 각 문장들을 추출\n",
        "vect1 = np.array(feature_vect_dense[0]).reshape(-1,)\n",
        "vect2 = np.array(feature_vect_dense[1]).reshape(-1,)\n",
        "vect3 = np.array(feature_vect_dense[2]).reshape(-1,)\n",
        "\n",
        "# 고사인 유사도 측정\n",
        "similarity_simple = cos_similarity(vect1, vect2)\n",
        "print('문장1과 문장2의 유사도:', similarity_simple)\n",
        "\n",
        "# 문장2와 문장3이 비교적 유사한 단어가 많아서 유사도가 높게 측정됨\n",
        "similarity_simple = cos_similarity(vect2, vect3)\n",
        "print('문장2과 문장3의 유사도:', similarity_simple)\n",
        "\n",
        "similarity_simple = cos_similarity(vect1, vect3)\n",
        "print('문장1과 문장3의 유사도:', similarity_simple)"
      ],
      "execution_count": null,
      "outputs": [
        {
          "output_type": "stream",
          "text": [
            "문장1과 문장2의 유사도: 0.40207758214950134\n",
            "문장2과 문장3의 유사도: 0.45647296026166395\n",
            "문장1과 문장3의 유사도: 0.4042504477594862\n"
          ],
          "name": "stdout"
        }
      ]
    },
    {
      "cell_type": "markdown",
      "metadata": {
        "id": "vF1kXEANk8uG"
      },
      "source": [
        "## sklearn제공 코사인유사도\n",
        "- cosine_similarity(문장1, 문장2)\n",
        "- 밀집행렬로 변환할 필요가 없어서 더 편리합니다"
      ]
    },
    {
      "cell_type": "code",
      "metadata": {
        "colab": {
          "base_uri": "https://localhost:8080/"
        },
        "id": "nVG7Fp8XmYJ3",
        "outputId": "a855b253-3f70-498a-c951-ac8af1c424df"
      },
      "source": [
        "from sklearn.metrics.pairwise import cosine_similarity\n",
        "\n",
        "# 문장1과 문장2의 유사도와 문장1과 문장3의 유사도\n",
        "result = cosine_similarity(feature_vect_simple[0],feature_vect_simple[1:])\n",
        "print(result)\n",
        "\n",
        "# 문장간의 유사도를 행렬로 출력\n",
        "result = cosine_similarity(feature_vect_simple,feature_vect_simple)\n",
        "print(result)"
      ],
      "execution_count": null,
      "outputs": [
        {
          "output_type": "stream",
          "text": [
            "[[0.40207758 0.40425045]]\n",
            "[[1.         0.40207758 0.40425045]\n",
            " [0.40207758 1.         0.45647296]\n",
            " [0.40425045 0.45647296 1.        ]]\n"
          ],
          "name": "stdout"
        }
      ]
    },
    {
      "cell_type": "markdown",
      "metadata": {
        "id": "A4KJUgcfmpaH"
      },
      "source": [
        "## 한글 문서의 유사도 측정"
      ]
    },
    {
      "cell_type": "code",
      "metadata": {
        "id": "doNQzspHnvt-"
      },
      "source": [
        "contents = ['우리 과일 먹으러 가자', '나는 고기를 먹으러 갈꺼야',\n",
        "            '난 산책을 하러 갈꺼야', '나는 공부를 하는게 나을 것 같아',\n",
        "            '나는 오침을 할꺼야']"
      ],
      "execution_count": null,
      "outputs": []
    },
    {
      "cell_type": "markdown",
      "metadata": {
        "id": "zURg0ZKFsTxC"
      },
      "source": [
        "## 형태소 분류"
      ]
    },
    {
      "cell_type": "code",
      "metadata": {
        "id": "jJWUt6B8sS9i",
        "colab": {
          "base_uri": "https://localhost:8080/"
        },
        "outputId": "2462389e-1bea-4e4f-a0bf-004e44b537dc"
      },
      "source": [
        "twitter = Twitter()\n",
        "contents_tokens = [twitter.morphs(row) for row in contents]\n",
        "print(contents_tokens)"
      ],
      "execution_count": null,
      "outputs": [
        {
          "output_type": "stream",
          "text": [
            "[['우리', '과일', '먹으러', '가자'], ['나', '는', '고기', '를', '먹으러', '갈꺼야'], ['난', '산책', '을', '하러', '갈꺼야'], ['나', '는', '공부', '를', '하는게', '나을', '것', '같아'], ['나', '는', '오침', '을', '할꺼야']]\n"
          ],
          "name": "stdout"
        }
      ]
    },
    {
      "cell_type": "markdown",
      "metadata": {
        "id": "hwIeAP6YsMX2"
      },
      "source": [
        "## 단어 단위의 문장으로 변환"
      ]
    },
    {
      "cell_type": "code",
      "metadata": {
        "colab": {
          "base_uri": "https://localhost:8080/"
        },
        "id": "D82qinVfo3Kp",
        "outputId": "bf5bd140-db5b-4c30-91af-110bdb87654d"
      },
      "source": [
        "content_for_vectorize=[]\n",
        "\n",
        "for content in contents_tokens:\n",
        "    sentence =''\n",
        "    for word in content:\n",
        "        sentence = sentence + ' ' + word\n",
        "    content_for_vectorize.append(sentence)\n",
        "print(content_for_vectorize)"
      ],
      "execution_count": null,
      "outputs": [
        {
          "output_type": "stream",
          "text": [
            "[' 우리 과일 먹으러 가자', ' 나 는 고기 를 먹으러 갈꺼야', ' 난 산책 을 하러 갈꺼야', ' 나 는 공부 를 하는게 나을 것 같아', ' 나 는 오침 을 할꺼야']\n"
          ],
          "name": "stdout"
        }
      ]
    },
    {
      "cell_type": "markdown",
      "metadata": {
        "id": "IyQpP72OtcHr"
      },
      "source": [
        "## 피처 벡터화\n",
        "- 형태소 분류된 문장을 수치화합니다.\n",
        "- TfidfVectorizer 또는 CountVectorizer 둘 중에 아무거나 사용해도 됩니다\n",
        "\n",
        "## CountVectorizer로 벡터화"
      ]
    },
    {
      "cell_type": "code",
      "metadata": {
        "colab": {
          "base_uri": "https://localhost:8080/"
        },
        "id": "yNmn5egBtkMT",
        "outputId": "7f41dc81-b407-44b4-fe51-ebd6f5710ecd"
      },
      "source": [
        "from sklearn.feature_extraction.text import CountVectorizer\n",
        "\n",
        "#min_df : 너무 낮은 빈도수를 갖는 단어를 제거하기 위해서 설정\n",
        "count_vect = CountVectorizer(min_df=1)\n",
        "count_X = count_vect.fit_transform(content_for_vectorize)\n",
        "print(count_X)"
      ],
      "execution_count": null,
      "outputs": [
        {
          "output_type": "stream",
          "text": [
            "  (0, 10)\t1\n",
            "  (0, 5)\t1\n",
            "  (0, 7)\t1\n",
            "  (0, 0)\t1\n",
            "  (1, 7)\t1\n",
            "  (1, 3)\t1\n",
            "  (1, 1)\t1\n",
            "  (2, 1)\t1\n",
            "  (2, 8)\t1\n",
            "  (2, 12)\t1\n",
            "  (3, 4)\t1\n",
            "  (3, 11)\t1\n",
            "  (3, 6)\t1\n",
            "  (3, 2)\t1\n",
            "  (4, 9)\t1\n",
            "  (4, 13)\t1\n"
          ],
          "name": "stdout"
        }
      ]
    },
    {
      "cell_type": "markdown",
      "metadata": {
        "id": "nVDqdR3yuKPg"
      },
      "source": [
        "어떤 단어가 있고 없는지 확인이 불가능하므로 feature의 이름을 출력해봅니다"
      ]
    },
    {
      "cell_type": "code",
      "metadata": {
        "colab": {
          "base_uri": "https://localhost:8080/"
        },
        "id": "YujGXJJiuQ3F",
        "outputId": "c571fb1a-a657-4eaf-d186-4f026da86498"
      },
      "source": [
        "print(count_vect.get_feature_names())\n",
        "print(count_X.toarray())"
      ],
      "execution_count": null,
      "outputs": [
        {
          "output_type": "stream",
          "text": [
            "['가자', '갈꺼야', '같아', '고기', '공부', '과일', '나을', '먹으러', '산책', '오침', '우리', '하는게', '하러', '할꺼야']\n",
            "[[1 0 0 0 0 1 0 1 0 0 1 0 0 0]\n",
            " [0 1 0 1 0 0 0 1 0 0 0 0 0 0]\n",
            " [0 1 0 0 0 0 0 0 1 0 0 0 1 0]\n",
            " [0 0 1 0 1 0 1 0 0 0 0 1 0 0]\n",
            " [0 0 0 0 0 0 0 0 0 1 0 0 0 1]]\n"
          ],
          "name": "stdout"
        }
      ]
    },
    {
      "cell_type": "markdown",
      "metadata": {
        "id": "nVfogQMRvTXg"
      },
      "source": [
        "## TfidfVectorizer로 벡터화"
      ]
    },
    {
      "cell_type": "code",
      "metadata": {
        "colab": {
          "base_uri": "https://localhost:8080/"
        },
        "id": "r8KKN1kFtRE4",
        "outputId": "94335645-479d-4ed5-993e-f119e207bda4"
      },
      "source": [
        "from sklearn.feature_extraction.text import TfidfVectorizer\n",
        "\n",
        "tfidf_vect = TfidfVectorizer(min_df=1)\n",
        "tfid_X = tfidf_vect.fit_transform(content_for_vectorize)\n",
        "print(tfid_X)\n",
        "print(tfidf_vect.get_feature_names())\n",
        "print(tfid_X.toarray())"
      ],
      "execution_count": null,
      "outputs": [
        {
          "output_type": "stream",
          "text": [
            "  (0, 0)\t0.5233582502695435\n",
            "  (0, 7)\t0.4222421409859579\n",
            "  (0, 5)\t0.5233582502695435\n",
            "  (0, 10)\t0.5233582502695435\n",
            "  (1, 1)\t0.5317722537280788\n",
            "  (1, 3)\t0.6591180018251055\n",
            "  (1, 7)\t0.5317722537280788\n",
            "  (2, 12)\t0.6141889663426562\n",
            "  (2, 8)\t0.6141889663426562\n",
            "  (2, 1)\t0.49552379079705033\n",
            "  (3, 2)\t0.5\n",
            "  (3, 6)\t0.5\n",
            "  (3, 11)\t0.5\n",
            "  (3, 4)\t0.5\n",
            "  (4, 13)\t0.7071067811865475\n",
            "  (4, 9)\t0.7071067811865475\n",
            "['가자', '갈꺼야', '같아', '고기', '공부', '과일', '나을', '먹으러', '산책', '오침', '우리', '하는게', '하러', '할꺼야']\n",
            "[[0.52335825 0.         0.         0.         0.         0.52335825\n",
            "  0.         0.42224214 0.         0.         0.52335825 0.\n",
            "  0.         0.        ]\n",
            " [0.         0.53177225 0.         0.659118   0.         0.\n",
            "  0.         0.53177225 0.         0.         0.         0.\n",
            "  0.         0.        ]\n",
            " [0.         0.49552379 0.         0.         0.         0.\n",
            "  0.         0.         0.61418897 0.         0.         0.\n",
            "  0.61418897 0.        ]\n",
            " [0.         0.         0.5        0.         0.5        0.\n",
            "  0.5        0.         0.         0.         0.         0.5\n",
            "  0.         0.        ]\n",
            " [0.         0.         0.         0.         0.         0.\n",
            "  0.         0.         0.         0.70710678 0.         0.\n",
            "  0.         0.70710678]]\n"
          ],
          "name": "stdout"
        }
      ]
    },
    {
      "cell_type": "markdown",
      "metadata": {
        "id": "bGWWbGVDtfnW"
      },
      "source": [
        "# 테스트 데이터 생성\n",
        "- 비교 가능한 형태로 만들기 : 형태소 분석 -> 단어단위의 문장 생성 -> 피처 벡터화\n",
        "\n",
        "## 형태소 분석"
      ]
    },
    {
      "cell_type": "code",
      "metadata": {
        "colab": {
          "base_uri": "https://localhost:8080/"
        },
        "id": "95pzOxubvY5H",
        "outputId": "28df391d-7303-4e7a-9541-e621616dd7b9"
      },
      "source": [
        "# 테스트할 문장\n",
        "new_post=['우리 과일 먹으로 갈까나']\n",
        "\n",
        "# 형태소분석\n",
        "new_post_tokens = [twitter.morphs(row) for row in new_post]\n",
        "\n",
        "# print(new_post_tokens)\n",
        "\n",
        "\n",
        "new_post_for_vectorize=[]\n",
        "\n",
        "for content in new_post_tokens:\n",
        "    sentence =''\n",
        "    for word in content:\n",
        "        sentence = sentence + ' ' + word\n",
        "    new_post_for_vectorize.append(sentence)\n",
        "print(new_post_for_vectorize)\n",
        "\n"
      ],
      "execution_count": null,
      "outputs": [
        {
          "output_type": "stream",
          "text": [
            "[' 우리 과일 먹으로 갈까 나']\n"
          ],
          "name": "stdout"
        }
      ]
    },
    {
      "cell_type": "code",
      "metadata": {
        "colab": {
          "base_uri": "https://localhost:8080/"
        },
        "id": "9dlCGB5axAIU",
        "outputId": "654f7701-ea3e-4bcc-cb21-7d7d76dd45a9"
      },
      "source": [
        "new_post_vec = count_vect.transform(new_post_for_vectorize)\n",
        "print(new_post_vec.toarray())\n",
        "# print(new_post_for_vectorize.get_feature_names())\n",
        "# print(count_X.toarray())"
      ],
      "execution_count": null,
      "outputs": [
        {
          "output_type": "stream",
          "text": [
            "[[0 0 0 0 0 1 0 0 0 0 1 0 0 0]]\n"
          ],
          "name": "stdout"
        }
      ]
    },
    {
      "cell_type": "markdown",
      "metadata": {
        "id": "qD4v8sFoxzII"
      },
      "source": [
        "# 유클리디안 거리 측정하는 함수\n",
        "- np.linalg.norm: L2 norm을 행렬로 확장한 것\n",
        "\n",
        "- 학습문장과 테스트문장의 거리값이 작을수록 유사도가 높습니다."
      ]
    },
    {
      "cell_type": "code",
      "metadata": {
        "id": "5PgFnvZHvYHj",
        "colab": {
          "base_uri": "https://localhost:8080/"
        },
        "outputId": "683eb10c-4ad9-4273-f429-9136590fff8e"
      },
      "source": [
        "import scipy as sp\n",
        "\n",
        "# 유클리디안 거리 측정하는 함수\n",
        "def dist_raw(v1, v2):\n",
        "    delta = v1 - v2\n",
        "\n",
        "    return np.linalg.norm(delta.toarray())\n",
        "\n",
        "\n",
        "best_doc = None\n",
        "best_dist = 65535\n",
        "best_i = None\n",
        "\n",
        "# 학습데이터의 shape\n",
        "num_samples, num_features = count_X.shape\n",
        "\n",
        "# 학습데이터와 테스트데이터의 유사도 비교\n",
        "# 학습데이터의 shape만큼 반복\n",
        "for i in range(0, num_samples):\n",
        "    \n",
        "    # 학습데이터에서 하나씩 문장을 읽는다\n",
        "    post_vec = count_X.getrow(i)\n",
        "    # 거리계산 수행\n",
        "    d = dist_raw(post_vec, new_post_vec)\n",
        "    # 거리계산 결과 출력\n",
        "    print('==%i번째 문장과의 거리:%.2f : %s' %(i,d,contents[i]))\n",
        "\n",
        "    # 거리가 최소거리보다 작으면 최소거리를 변경하고 그 때의 인덱스를 저장\n",
        "    if d < best_dist:\n",
        "        best_dist = d\n",
        "        best_i = i "
      ],
      "execution_count": null,
      "outputs": [
        {
          "output_type": "stream",
          "text": [
            "==0번째 문장과의 거리:1.41 : 우리 과일 먹으러 가자\n",
            "==1번째 문장과의 거리:2.24 : 나는 고기를 먹으러 갈꺼야\n",
            "==2번째 문장과의 거리:2.24 : 난 산책을 하러 갈꺼야\n",
            "==3번째 문장과의 거리:2.45 : 나는 공부를 하는게 나을 것 같아\n",
            "==4번째 문장과의 거리:2.00 : 나는 오침을 할꺼야\n"
          ],
          "name": "stdout"
        }
      ]
    },
    {
      "cell_type": "code",
      "metadata": {
        "colab": {
          "base_uri": "https://localhost:8080/"
        },
        "id": "kDGfOzg1tEOS",
        "outputId": "18bad850-9c27-4bcc-ea4c-febb86a50962"
      },
      "source": [
        "# 가장 거리가 가까운 데이터 출력\n",
        "print('가장 가까운 문장은 %i번째이고 거리는 %.2f' %(best_i+1, best_dist))\n",
        "print(new_post,  '문장은 ', contents[best_i],'와 가장 유사합니다')"
      ],
      "execution_count": null,
      "outputs": [
        {
          "output_type": "stream",
          "text": [
            "가장 가까운 문장은 1번째이고 거리는 1.41\n",
            "['우리 과일 먹으로 갈까나'] 문장은  우리 과일 먹으러 가자 와 가장 유사합니다\n"
          ],
          "name": "stdout"
        }
      ]
    },
    {
      "cell_type": "markdown",
      "metadata": {
        "id": "M5_fs1oG1V14"
      },
      "source": [
        "##  다른 데이터들과의 벡터값 확인\n",
        "- 같은 데이터의 개수를 세어보면 거리의 계산값을 알 수 있습니다\n",
        "- 1이면 같고 "
      ]
    },
    {
      "cell_type": "code",
      "metadata": {
        "colab": {
          "base_uri": "https://localhost:8080/"
        },
        "id": "yv6RtnZV1T83",
        "outputId": "834314a6-65e2-4cf1-d6a0-4f501d806055"
      },
      "source": [
        "print('테스트 문장')\n",
        "print(new_post_vec.toarray())\n",
        "print('======================')\n",
        "print('학습 문장')\n",
        "for i in range(0, len(contents)):\n",
        "    print(count_X.getrow(i).toarray())"
      ],
      "execution_count": null,
      "outputs": [
        {
          "output_type": "stream",
          "text": [
            "테스트 문장\n",
            "[[0 0 0 0 0 1 0 0 0 0 1 0 0 0]]\n",
            "======================\n",
            "학습 문장\n",
            "[[1 0 0 0 0 1 0 1 0 0 1 0 0 0]]\n",
            "[[0 1 0 1 0 0 0 1 0 0 0 0 0 0]]\n",
            "[[0 1 0 0 0 0 0 0 1 0 0 0 1 0]]\n",
            "[[0 0 1 0 1 0 1 0 0 0 0 1 0 0]]\n",
            "[[0 0 0 0 0 0 0 0 0 1 0 0 0 1]]\n"
          ],
          "name": "stdout"
        }
      ]
    },
    {
      "cell_type": "code",
      "metadata": {
        "colab": {
          "base_uri": "https://localhost:8080/",
          "height": 226
        },
        "id": "EHD_UW5P0yfX",
        "outputId": "f9e8b619-35b9-4ba7-c316-0249b185d4da"
      },
      "source": [
        "from sklearn.metrics.pairwise import cosine_similarity\n",
        "# 문장간의 유사도를 행렬로 출력\n",
        "result = cosine_similarity(tfidf_matrix_train, tfidf_matrix_train)\n",
        "print(result)"
      ],
      "execution_count": null,
      "outputs": [
        {
          "output_type": "error",
          "ename": "NameError",
          "evalue": "ignored",
          "traceback": [
            "\u001b[0;31m---------------------------------------------------------------------------\u001b[0m",
            "\u001b[0;31mNameError\u001b[0m                                 Traceback (most recent call last)",
            "\u001b[0;32m<ipython-input-31-d7abad248eae>\u001b[0m in \u001b[0;36m<module>\u001b[0;34m()\u001b[0m\n\u001b[1;32m      1\u001b[0m \u001b[0mnew_post\u001b[0m\u001b[0;34m\u001b[0m\u001b[0;34m\u001b[0m\u001b[0m\n\u001b[1;32m      2\u001b[0m \u001b[0;31m# 문장간의 유사도를 행렬로 출력\u001b[0m\u001b[0;34m\u001b[0m\u001b[0;34m\u001b[0m\u001b[0;34m\u001b[0m\u001b[0m\n\u001b[0;32m----> 3\u001b[0;31m \u001b[0mresult\u001b[0m \u001b[0;34m=\u001b[0m \u001b[0mcosine_similarity\u001b[0m\u001b[0;34m(\u001b[0m\u001b[0mtfidf_matrix_train\u001b[0m\u001b[0;34m,\u001b[0m \u001b[0mtfidf_matrix_train\u001b[0m\u001b[0;34m)\u001b[0m\u001b[0;34m\u001b[0m\u001b[0;34m\u001b[0m\u001b[0m\n\u001b[0m\u001b[1;32m      4\u001b[0m \u001b[0mprint\u001b[0m\u001b[0;34m(\u001b[0m\u001b[0mresult\u001b[0m\u001b[0;34m)\u001b[0m\u001b[0;34m\u001b[0m\u001b[0;34m\u001b[0m\u001b[0m\n",
            "\u001b[0;31mNameError\u001b[0m: name 'cosine_similarity' is not defined"
          ]
        }
      ]
    }
  ]
}