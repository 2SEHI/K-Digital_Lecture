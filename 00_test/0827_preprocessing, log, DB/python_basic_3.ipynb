{
  "nbformat": 4,
  "nbformat_minor": 5,
  "metadata": {
    "kernelspec": {
      "display_name": "Python 3",
      "language": "python",
      "name": "python3"
    },
    "language_info": {
      "codemirror_mode": {
        "name": "ipython",
        "version": 3
      },
      "file_extension": ".py",
      "mimetype": "text/x-python",
      "name": "python",
      "nbconvert_exporter": "python",
      "pygments_lexer": "ipython3",
      "version": "3.8.8"
    },
    "colab": {
      "name": "python_basic_3.ipynb",
      "provenance": [],
      "collapsed_sections": [],
      "toc_visible": true
    }
  },
  "cells": [
    {
      "cell_type": "markdown",
      "metadata": {
        "id": "ebc9eb14-5f07-42f9-8d28-242393a9234a"
      },
      "source": [
        "## 파일 읽기"
      ],
      "id": "ebc9eb14-5f07-42f9-8d28-242393a9234a"
    },
    {
      "cell_type": "markdown",
      "metadata": {
        "id": "16059eb3-34d9-4418-9c85-c170579282d1"
      },
      "source": [
        "### 1.access_log.txt 파일을 읽어서 행의 개수를 출력하시오."
      ],
      "id": "16059eb3-34d9-4418-9c85-c170579282d1"
    },
    {
      "cell_type": "code",
      "metadata": {
        "id": "0413c999-e900-4c6e-82fa-91cabcb18319",
        "outputId": "78a7a63c-ac26-4077-df04-201a8bf3cd27"
      },
      "source": [
        ""
      ],
      "id": "0413c999-e900-4c6e-82fa-91cabcb18319",
      "execution_count": null,
      "outputs": [
        {
          "name": "stdout",
          "output_type": "stream",
          "text": [
            "총 페이지뷰: [327]\n"
          ]
        }
      ]
    },
    {
      "cell_type": "markdown",
      "metadata": {
        "id": "go4VUYwkAHcW"
      },
      "source": [
        "#### 나의 답안"
      ],
      "id": "go4VUYwkAHcW"
    },
    {
      "cell_type": "code",
      "metadata": {
        "colab": {
          "base_uri": "https://localhost:8080/"
        },
        "id": "BjxG54s1AH8R",
        "outputId": "f95fa84f-53b7-47e1-933d-14a1a220df5c"
      },
      "source": [
        "import pandas as pd\n",
        "file_path = ('/content/drive/MyDrive/Colab Notebooks/k-digital/과제/0827_데이터수집,DB/data/access_log.txt')\n",
        "with open(file_path) as f:\n",
        "    lines = f.readlines()\n",
        "\n",
        "print(len(lines))"
      ],
      "id": "BjxG54s1AH8R",
      "execution_count": null,
      "outputs": [
        {
          "output_type": "stream",
          "text": [
            "493\n"
          ],
          "name": "stdout"
        }
      ]
    },
    {
      "cell_type": "markdown",
      "metadata": {
        "id": "pTdrZ4y9reSL"
      },
      "source": [
        "### 선생님 답안\n",
        "```\n",
        "try:\n",
        "    with open('./access_log.txt') as 별명:\n",
        "        파일이 존재할 때 수행할 내용\n",
        "except:\n",
        "    파일이 존재하지 않을 때 수행할 내용\n",
        "finally :\n",
        "    if f!=None:\n",
        "        f.close\n",
        "                \n",
        "```\n",
        "\n",
        "- read는 웬만하면 쓰지 마세요. 텍스트내용이 많으면 jupyter notebook은 읽어내지 못합니다.\n"
      ],
      "id": "pTdrZ4y9reSL"
    },
    {
      "cell_type": "code",
      "metadata": {
        "colab": {
          "base_uri": "https://localhost:8080/"
        },
        "id": "t6Tr0Su6rv6j",
        "outputId": "6ce0fc6b-d01f-48c6-bfcd-9584d8a99517"
      },
      "source": [
        "pageviews = 0\n",
        "cnt = 0\n",
        "file_path = ('/content/drive/MyDrive/Colab Notebooks/k-digital/00_test/0827_preprocessing, log, DB/data/access_log.txt')\n",
        "# with open('./access_log.txt') as f:\n",
        "with open(file_path) as f:\n",
        "    # 줄단위로 파일의 내용읽기\n",
        "    logs = f.readlines()\n",
        "    for log in logs:\n",
        "        cnt = cnt + 1\n",
        "        log_split = log.split()\n",
        "        # 뒤에서 두번째 데이터가 응답코드이므로 이 코드가 200번인 경우만 \n",
        "        if log_split[-2] == '200':\n",
        "            pageviews = pageviews + 1\n",
        "\n",
        "print('행 개수 : ', cnt)    \n",
        "print('정상 응답한 데이터 개수 : ', pageviews)"
      ],
      "id": "t6Tr0Su6rv6j",
      "execution_count": 13,
      "outputs": [
        {
          "output_type": "stream",
          "name": "stdout",
          "text": [
            "행 개수 :  493\n",
            "정상 응답한 데이터 개수 :  327\n"
          ]
        }
      ]
    },
    {
      "cell_type": "markdown",
      "metadata": {
        "id": "82adc852-cc2f-404b-a58f-22aee6183c02"
      },
      "source": [
        "### 2.로그 파일을 읽어서 접속한 컴퓨터의 대수를 구하시오.\n",
        "\n",
        "- 각 행의 첫번째 데이터는 접속한 컴퓨터의 IP 입니다.\n",
        "- 이 데이터의 중복을 제거한 데이터의 개수가 컴퓨터의 개수 입니다."
      ],
      "id": "82adc852-cc2f-404b-a58f-22aee6183c02"
    },
    {
      "cell_type": "code",
      "metadata": {
        "id": "7583a76b-e0e2-4026-85f5-33e3ef08ba50",
        "outputId": "69c6a69d-5161-4f1b-d69b-ff8377c38d6e"
      },
      "source": [
        ""
      ],
      "id": "7583a76b-e0e2-4026-85f5-33e3ef08ba50",
      "execution_count": null,
      "outputs": [
        {
          "name": "stdout",
          "output_type": "stream",
          "text": [
            "컴퓨터의 대수: [99]\n"
          ]
        }
      ]
    },
    {
      "cell_type": "markdown",
      "metadata": {
        "id": "hXqWSv4vt5Ps"
      },
      "source": [
        "### 나의 답안"
      ],
      "id": "hXqWSv4vt5Ps"
    },
    {
      "cell_type": "code",
      "metadata": {
        "colab": {
          "base_uri": "https://localhost:8080/"
        },
        "id": "UJq-DuCeB6Sc",
        "outputId": "96ae6f71-085b-46b0-969c-884dac19455b"
      },
      "source": [
        "import re\n",
        "# 앞에서부터 첫번째로 오는 빈칸 이전의 전방 부분\n",
        "p = re.compile('^.*?(?= )')\n",
        "ips = set()\n",
        "for line in lines:\n",
        "    ips.add(p.match(line).group())\n",
        "\n",
        "print('컴퓨터의 대수 : ',len(ips))"
      ],
      "id": "UJq-DuCeB6Sc",
      "execution_count": null,
      "outputs": [
        {
          "output_type": "stream",
          "text": [
            "컴퓨터의 대수 :  99\n"
          ],
          "name": "stdout"
        }
      ]
    },
    {
      "cell_type": "markdown",
      "metadata": {
        "id": "vgxQ8gTst6yj"
      },
      "source": [
        "### 선생님의 답안1"
      ],
      "id": "vgxQ8gTst6yj"
    },
    {
      "cell_type": "code",
      "metadata": {
        "colab": {
          "base_uri": "https://localhost:8080/"
        },
        "id": "yzi801KJuGNi",
        "outputId": "e70e0710-27d6-4691-931d-8d9e3d5a5938"
      },
      "source": [
        "ip_list = []\n",
        "file_path = ('/content/drive/MyDrive/Colab Notebooks/k-digital/00_test/0827_preprocessing, log, DB/data/access_log.txt')\n",
        "# with open('./access_log.txt') as f:\n",
        "with open(file_path) as f:\n",
        "    # 줄단위로 파일의 내용읽기\n",
        "    logs = f.readlines()\n",
        "    for log in logs:\n",
        "        log_split = log.split()\n",
        "        ip = log_split[0]\n",
        "        for x in ip_list:\n",
        "            if x == ip:\n",
        "                break\n",
        "        # for 다음의 else는 break를 만나지 않은 경우 수행\n",
        "        else : \n",
        "            ip_list.append(ip)\n",
        "\n",
        "print('ip개수 : ', len(ip_list))"
      ],
      "id": "yzi801KJuGNi",
      "execution_count": 22,
      "outputs": [
        {
          "output_type": "stream",
          "name": "stdout",
          "text": [
            "ip개수 :  99\n"
          ]
        }
      ]
    },
    {
      "cell_type": "markdown",
      "metadata": {
        "id": "nGDN5DMJv27z"
      },
      "source": [
        "### 선생님의 답안2\n",
        "- 이방법은 위의 방법보다 빨라지지 않습니다."
      ],
      "id": "nGDN5DMJv27z"
    },
    {
      "cell_type": "code",
      "metadata": {
        "colab": {
          "base_uri": "https://localhost:8080/"
        },
        "id": "BD0_YG4ov277",
        "outputId": "a5a870c4-2397-4979-95a7-a4bfb4e18598"
      },
      "source": [
        "ip_list = []\n",
        "file_path = ('/content/drive/MyDrive/Colab Notebooks/k-digital/00_test/0827_preprocessing, log, DB/data/access_log.txt')\n",
        "with open(file_path) as f:\n",
        "    # 줄단위로 파일의 내용읽기\n",
        "    logs = f.readlines()\n",
        "    for log in logs:\n",
        "        log_split = log.split()\n",
        "        ip = log_split[0]\n",
        "        # ip가 ip_list에 존재하지 않은 경우에만 ip를 ip_list에 삽입\n",
        "        if ip not in ip_list:\n",
        "            ip_list.append(ip)\n",
        "print('ip개수 : ', len(ip_list))"
      ],
      "id": "BD0_YG4ov277",
      "execution_count": 23,
      "outputs": [
        {
          "output_type": "stream",
          "name": "stdout",
          "text": [
            "ip개수 :  99\n"
          ]
        }
      ]
    },
    {
      "cell_type": "markdown",
      "metadata": {
        "id": "HOz-s7CawX-0"
      },
      "source": [
        "### 선생님의 답안3\n",
        "- list는 기본적으로 순차적으로 탐색하므로 중복을 허용하지 않는 set을 이용합니다.\n",
        "- list는 맨 앞에서부터 순차 검색을 하지만 set과 dict의 key는 hashing을 이용합니다.\n",
        "- 검색방법중에서 hashing보다 빠른 것은 존재하지 않습니다\n"
      ],
      "id": "HOz-s7CawX-0"
    },
    {
      "cell_type": "code",
      "metadata": {
        "colab": {
          "base_uri": "https://localhost:8080/",
          "height": 136
        },
        "id": "hwyNgESxwaQh",
        "outputId": "3aaa27fe-90ee-4b56-9072-fb1db575482d"
      },
      "source": [
        "\n",
        "ip_list = set()\n",
        "file_path = ('/content/drive/MyDrive/Colab Notebooks/k-digital/00_test/0827_preprocessing, log, DB/data/access_log.txt')\n",
        "with open(file_path) as f:\n",
        "    # 줄단위로 파일의 내용읽기\n",
        "    logs = f.readlines()\n",
        "    for log in logs:\n",
        "        log_split = log.split()\n",
        "        ip = log_split[0]\n",
        "        ip_list.add(ip)\n",
        "print('ip개수 : ', len(ip_list))"
      ],
      "id": "hwyNgESxwaQh",
      "execution_count": 24,
      "outputs": [
        {
          "output_type": "error",
          "ename": "SyntaxError",
          "evalue": "ignored",
          "traceback": [
            "\u001b[0;36m  File \u001b[0;32m\"<ipython-input-24-8c32762ed44c>\"\u001b[0;36m, line \u001b[0;32m4\u001b[0m\n\u001b[0;31m    %%timeit\u001b[0m\n\u001b[0m    ^\u001b[0m\n\u001b[0;31mSyntaxError\u001b[0m\u001b[0;31m:\u001b[0m invalid syntax\n"
          ]
        }
      ]
    },
    {
      "cell_type": "markdown",
      "metadata": {
        "id": "20b79ab0-f1fe-4820-a321-2e8054e40e35"
      },
      "source": [
        "### 3.로그 파일을 읽어서 전체 트래픽을 구하시오.\n",
        "\n",
        "- 각 행의 마지막 데이터가 트래픽\n",
        "- 단위는 Byte 인데 KB 단위로 출력하시오\n",
        "1KB 는 1024 Byte"
      ],
      "id": "20b79ab0-f1fe-4820-a321-2e8054e40e35"
    },
    {
      "cell_type": "code",
      "metadata": {
        "id": "d55348a0-00a8-4967-aa8b-e60b0c7b0aaa",
        "outputId": "e33e19bf-017a-4fd3-c6d3-c7a8e60476a8"
      },
      "source": [
        ""
      ],
      "id": "d55348a0-00a8-4967-aa8b-e60b0c7b0aaa",
      "execution_count": null,
      "outputs": [
        {
          "name": "stdout",
          "output_type": "stream",
          "text": [
            "총 서비스 용량: 29289KB\n"
          ]
        }
      ]
    },
    {
      "cell_type": "markdown",
      "metadata": {
        "id": "IMWAn1dVt-PL"
      },
      "source": [
        "### 나의 답안"
      ],
      "id": "IMWAn1dVt-PL"
    },
    {
      "cell_type": "code",
      "metadata": {
        "colab": {
          "base_uri": "https://localhost:8080/"
        },
        "id": "ITDGk2wfM1CJ",
        "outputId": "526cdf5c-f062-479a-cd3f-4e0d7d507759"
      },
      "source": [
        "import re\n",
        "# 숫자로 끝나는 부분\n",
        "p = re.compile('[0-9]+$')\n",
        "total = 0\n",
        "for line in lines:\n",
        "    if p.search(line) is not None:\n",
        "        \n",
        "        total += int(p.search(line).group())\n",
        "\n",
        "print('총 서비스 용량 : ',total,'Byte')\n",
        "print('총 서비스 용량 : ',total//1024,'KB')"
      ],
      "id": "ITDGk2wfM1CJ",
      "execution_count": null,
      "outputs": [
        {
          "output_type": "stream",
          "text": [
            "총 서비스 용량 :  29992037 Byte\n",
            "총 서비스 용량 :  29289 KB\n"
          ],
          "name": "stdout"
        }
      ]
    },
    {
      "cell_type": "markdown",
      "metadata": {
        "id": "ravCaZJbuCi6"
      },
      "source": [
        "### 선생님의 답안"
      ],
      "id": "ravCaZJbuCi6"
    },
    {
      "cell_type": "code",
      "metadata": {
        "colab": {
          "base_uri": "https://localhost:8080/"
        },
        "id": "IFkOiMMEuHMZ",
        "outputId": "fae918ff-0010-4adb-ca32-8f49a3002a5c"
      },
      "source": [
        "traffic_tot = 0\n",
        "ip_list = set()\n",
        "file_path = ('/content/drive/MyDrive/Colab Notebooks/k-digital/00_test/0827_preprocessing, log, DB/data/access_log.txt')\n",
        "with open(file_path) as f:\n",
        "    # 줄단위로 파일의 내용읽기\n",
        "    logs = f.readlines()\n",
        "    for log in logs:\n",
        "        log_split = log.split()\n",
        "        traffic = log_split[len(log_split) - 1]\n",
        "        try:\n",
        "            traffic_tot = traffic_tot + int(traffic)\n",
        "        except:\n",
        "            continue\n",
        "\n",
        "print('전체 트래픽 : ', traffic_tot)"
      ],
      "id": "IFkOiMMEuHMZ",
      "execution_count": 29,
      "outputs": [
        {
          "output_type": "stream",
          "name": "stdout",
          "text": [
            "전체 트래픽 :  29992037\n"
          ]
        }
      ]
    },
    {
      "cell_type": "markdown",
      "metadata": {
        "id": "rRQycUpBySdU"
      },
      "source": [
        "특별한 경우가 아니라면 선언부와 구현부는 분리시키는 것이 좋습니다."
      ],
      "id": "rRQycUpBySdU"
    },
    {
      "cell_type": "code",
      "metadata": {
        "colab": {
          "base_uri": "https://localhost:8080/"
        },
        "id": "jrvGZ1xvx8pr",
        "outputId": "a23d25e6-c7cd-491f-a137-e311607d07f2"
      },
      "source": [
        "traffic_tot = 0 # 트래픽 합계를 저장할 변수\n",
        "KB = 1024 # Byte를 KB로 변환하기 위해서 나누어야 할 수\n",
        "ip_list = set()\n",
        "file_path = ('/content/drive/MyDrive/Colab Notebooks/k-digital/00_test/0827_preprocessing, log, DB/data/access_log.txt')\n",
        "with open(file_path) as f:\n",
        "    # 줄단위로 파일의 내용읽기\n",
        "    logs = f.readlines()\n",
        "    for log in logs:\n",
        "        log_split = log.split()\n",
        "        traffic = log_split[len(log_split) - 1]\n",
        "        if traffic.isdigit():\n",
        "            traffic_tot = traffic_tot + int(traffic)\n",
        "\n",
        "\n",
        "print('전체 트래픽 : ', traffic_tot)\n",
        "print('총 서비스 용량 : ',traffic_tot/KB,'KB')"
      ],
      "id": "jrvGZ1xvx8pr",
      "execution_count": 30,
      "outputs": [
        {
          "output_type": "stream",
          "name": "stdout",
          "text": [
            "전체 트래픽 :  29992037\n",
            "총 서비스 용량 :  29289.0986328125 KB\n"
          ]
        }
      ]
    },
    {
      "cell_type": "markdown",
      "metadata": {
        "id": "ab6e0b9e-a30f-4582-b095-fcd60f195093"
      },
      "source": [
        "### 4.IP 별로 트래픽의 합계를 구하시오"
      ],
      "id": "ab6e0b9e-a30f-4582-b095-fcd60f195093"
    },
    {
      "cell_type": "code",
      "metadata": {
        "id": "EqVTQUw8iqSH",
        "outputId": "17c8ffaf-300d-4e51-9684-4b78598d70d7"
      },
      "source": [
        ""
      ],
      "id": "EqVTQUw8iqSH",
      "execution_count": null,
      "outputs": [
        {
          "name": "stdout",
          "output_type": "stream",
          "text": [
            "사용자IP – 서비스용량\n",
            "[223.62.67.5] – [26540048]\n",
            "[223.62.67.194] – [2062270]\n",
            "[64.79.100.43] – [444448]\n",
            "[222.186.21.90] – [149616]\n",
            "[180.76.15.144] – [34060]\n",
            "[180.76.15.145] – [27248]\n",
            "[180.76.15.6] – [20436]\n",
            "[180.76.15.15] – [20436]\n",
            "[180.76.15.149] – [20436]\n",
            "[180.76.15.151] – [20436]\n",
            "[180.76.15.158] – [20436]\n",
            "[180.76.15.25] – [17462]\n",
            "[180.76.15.16] – [17462]\n",
            "[40.77.167.61] – [14314]\n",
            "[180.76.15.10] – [13914]\n",
            "[180.76.15.5] – [13624]\n",
            "[180.76.15.24] – [13624]\n",
            "[180.76.15.34] – [13624]\n",
            "[180.76.15.7] – [13624]\n",
            "[180.76.15.152] – [13624]\n",
            "[180.76.15.146] – [13624]\n",
            "[180.76.15.161] – [13624]\n",
            "[180.76.15.28] – [13624]\n",
            "[180.76.15.142] – [13624]\n",
            "[180.76.15.136] – [13624]\n",
            "[180.76.15.12] – [13624]\n",
            "[180.76.15.141] – [13624]\n",
            "[180.76.15.29] – [13624]\n",
            "[180.76.15.9] – [13624]\n",
            "[180.76.15.30] – [13624]\n",
            "[180.76.15.156] – [13624]\n",
            "[180.76.15.17] – [13624]\n",
            "[180.76.15.11] – [13624]\n",
            "[180.76.15.147] – [13624]\n",
            "[180.76.15.18] – [13624]\n",
            "[95.213.177.122] – [11554]\n",
            "[157.55.39.218] – [11238]\n",
            "[118.46.34.94] – [8306]\n",
            "[157.55.39.130] – [7638]\n",
            "[66.249.74.48] – [7102]\n",
            "[180.76.15.140] – [7102]\n",
            "[95.213.177.126] – [6991]\n",
            "[180.76.15.143] – [6812]\n",
            "[180.76.15.134] – [6812]\n",
            "[66.249.79.123] – [6812]\n",
            "[180.76.15.163] – [6812]\n",
            "[180.76.15.22] – [6812]\n",
            "[180.76.15.33] – [6812]\n",
            "[180.76.15.19] – [6812]\n",
            "[59.38.97.177] – [6812]\n",
            "[180.76.15.154] – [6812]\n",
            "[180.76.15.23] – [6812]\n",
            "[157.55.39.245] – [6812]\n",
            "[180.76.15.138] – [6812]\n",
            "[180.76.15.137] – [6812]\n",
            "[180.76.15.27] – [6812]\n",
            "[54.215.216.163] – [6812]\n",
            "[180.76.15.159] – [6812]\n",
            "[180.76.15.135] – [6812]\n",
            "[207.46.13.142] – [6812]\n",
            "[180.76.15.13] – [6812]\n",
            "[180.76.15.20] – [6812]\n",
            "[180.97.106.161] – [6812]\n",
            "[180.76.15.162] – [6812]\n",
            "[180.76.15.21] – [6812]\n",
            "[180.76.15.8] – [6812]\n",
            "[180.76.15.139] – [6812]\n",
            "[185.25.148.240] – [6270]\n",
            "[95.213.177.125] – [6028]\n",
            "[95.213.177.124] – [4563]\n",
            "[121.185.175.231] – [4153]\n",
            "[223.33.160.85] – [4153]\n",
            "[175.116.86.22] – [4153]\n",
            "[208.100.26.232] – [4130]\n",
            "[208.100.26.231] – [4090]\n",
            "[61.160.213.55] – [2980]\n",
            "[95.213.177.123] – [2428]\n",
            "[91.196.50.33] – [2088]\n",
            "[222.186.50.24] – [2084]\n",
            "[222.186.51.205] – [2084]\n",
            "[222.121.52.157] – [2069]\n",
            "[125.130.222.50] – [2069]\n",
            "[223.62.163.24] – [2069]\n",
            "[221.152.184.9] – [2069]\n",
            "[54.214.205.186] – [2047]\n",
            "[93.174.93.218] – [2044]\n",
            "[54.183.189.102] – [2043]\n",
            "[61.160.213.32] – [894]\n",
            "[221.11.92.253] – [594]\n",
            "[141.212.122.80] – [318]\n",
            "[159.8.93.184] – [308]\n",
            "[61.160.247.231] – [289]\n",
            "[180.97.106.162] – [287]\n",
            "[52.27.124.159] – [0]\n",
            "[103.31.242.35] – [0]\n",
            "[180.76.15.160] – [0]\n",
            "[54.81.168.187] – [0]\n",
            "[203.67.9.74] – [0]\n",
            "[203.67.9.75] – [0]\n"
          ]
        }
      ]
    },
    {
      "cell_type": "markdown",
      "metadata": {
        "id": "n5DH9pRot_xS"
      },
      "source": [
        "### 나의 답안"
      ],
      "id": "n5DH9pRot_xS"
    },
    {
      "cell_type": "code",
      "metadata": {
        "colab": {
          "base_uri": "https://localhost:8080/"
        },
        "id": "-7BueudcmYAt",
        "outputId": "096444bb-037b-4a91-854e-b6cf995e2725"
      },
      "source": [
        "import re\n",
        "\n",
        "\n",
        "# 접속 컴퓨터ip를 중복되지 않게 저장\n",
        "# 앞에서부터 첫번째로 오는 빈칸 이전의 전방 부분\n",
        "ip_re = re.compile('^.*?(?= )')\n",
        "\n",
        "ips = set()\n",
        "for line in lines:\n",
        "    ips.add(ip_re.match(line).group())\n",
        "\n",
        "# ip당 트래픽 합계를 저장하는 dict\n",
        "ip_traffic = dict()\n",
        "\n",
        "# 숫자로 끝나는 부분\n",
        "traffic_re = re.compile('[0-9]+$')\n",
        "\n",
        "print('사용자IP – 서비스용량')\n",
        "\n",
        "# 컴퓨터ip를 순회하며 트래픽합계 구하기\n",
        "for ip in ips:\n",
        "    # 트래픽합계 초기화\n",
        "    traffic_total = 0\n",
        "    # 로그 순회\n",
        "    for line in lines:\n",
        "        \n",
        "        if ip == ip_re.match(line).group():\n",
        "            # 트래픽이 없는 경우를 대비하여 0으로 초기화\n",
        "            traffic = 0\n",
        "            # 트래픽이 발생한 경우 트래픽합계에 더하기\n",
        "            if traffic_re.search(line) is not None:\n",
        "                traffic = int(traffic_re.search(line).group())\n",
        "                traffic_total += traffic\n",
        "    # ip_traffic에 ip와 트래픽합계를 저장하기\n",
        "    ip_traffic.update({ip:traffic_total})\n",
        "\n",
        "# 트래픽합계가 큰 순서대로 정렬하기\n",
        "sorted_ip_traffic =  sorted(ip_traffic.items(), key=lambda x: x[1], reverse=True)\n",
        "\n",
        "# ip와 트래픽합계를 출력\n",
        "for ip, traffic_total in sorted_ip_traffic:\n",
        "    print('[{0}] - [{1}]'.format(ip, traffic_total))"
      ],
      "id": "-7BueudcmYAt",
      "execution_count": null,
      "outputs": [
        {
          "output_type": "stream",
          "text": [
            "사용자IP – 서비스용량\n",
            "[223.62.67.5] - [26540048]\n",
            "[223.62.67.194] - [2062270]\n",
            "[64.79.100.43] - [444448]\n",
            "[222.186.21.90] - [149616]\n",
            "[180.76.15.144] - [34060]\n",
            "[180.76.15.145] - [27248]\n",
            "[180.76.15.158] - [20436]\n",
            "[180.76.15.6] - [20436]\n",
            "[180.76.15.151] - [20436]\n",
            "[180.76.15.149] - [20436]\n",
            "[180.76.15.15] - [20436]\n",
            "[180.76.15.16] - [17462]\n",
            "[180.76.15.25] - [17462]\n",
            "[40.77.167.61] - [14314]\n",
            "[180.76.15.10] - [13914]\n",
            "[180.76.15.28] - [13624]\n",
            "[180.76.15.24] - [13624]\n",
            "[180.76.15.156] - [13624]\n",
            "[180.76.15.29] - [13624]\n",
            "[180.76.15.34] - [13624]\n",
            "[180.76.15.152] - [13624]\n",
            "[180.76.15.142] - [13624]\n",
            "[180.76.15.12] - [13624]\n",
            "[180.76.15.11] - [13624]\n",
            "[180.76.15.7] - [13624]\n",
            "[180.76.15.5] - [13624]\n",
            "[180.76.15.161] - [13624]\n",
            "[180.76.15.141] - [13624]\n",
            "[180.76.15.30] - [13624]\n",
            "[180.76.15.9] - [13624]\n",
            "[180.76.15.17] - [13624]\n",
            "[180.76.15.147] - [13624]\n",
            "[180.76.15.18] - [13624]\n",
            "[180.76.15.136] - [13624]\n",
            "[180.76.15.146] - [13624]\n",
            "[95.213.177.122] - [11554]\n",
            "[157.55.39.218] - [11238]\n",
            "[118.46.34.94] - [8306]\n",
            "[157.55.39.130] - [7638]\n",
            "[66.249.74.48] - [7102]\n",
            "[180.76.15.140] - [7102]\n",
            "[95.213.177.126] - [6991]\n",
            "[180.76.15.135] - [6812]\n",
            "[180.76.15.13] - [6812]\n",
            "[180.76.15.139] - [6812]\n",
            "[180.76.15.19] - [6812]\n",
            "[180.76.15.143] - [6812]\n",
            "[180.76.15.22] - [6812]\n",
            "[180.76.15.137] - [6812]\n",
            "[180.76.15.8] - [6812]\n",
            "[180.76.15.138] - [6812]\n",
            "[180.76.15.162] - [6812]\n",
            "[180.76.15.21] - [6812]\n",
            "[59.38.97.177] - [6812]\n",
            "[207.46.13.142] - [6812]\n",
            "[180.76.15.159] - [6812]\n",
            "[180.76.15.154] - [6812]\n",
            "[157.55.39.245] - [6812]\n",
            "[180.76.15.20] - [6812]\n",
            "[180.76.15.27] - [6812]\n",
            "[180.76.15.163] - [6812]\n",
            "[180.76.15.23] - [6812]\n",
            "[54.215.216.163] - [6812]\n",
            "[180.76.15.134] - [6812]\n",
            "[66.249.79.123] - [6812]\n",
            "[180.76.15.33] - [6812]\n",
            "[180.97.106.161] - [6812]\n",
            "[185.25.148.240] - [6270]\n",
            "[95.213.177.125] - [6028]\n",
            "[95.213.177.124] - [4563]\n",
            "[223.33.160.85] - [4153]\n",
            "[175.116.86.22] - [4153]\n",
            "[121.185.175.231] - [4153]\n",
            "[208.100.26.232] - [4130]\n",
            "[208.100.26.231] - [4090]\n",
            "[61.160.213.55] - [2980]\n",
            "[95.213.177.123] - [2428]\n",
            "[91.196.50.33] - [2088]\n",
            "[222.186.51.205] - [2084]\n",
            "[222.186.50.24] - [2084]\n",
            "[221.152.184.9] - [2069]\n",
            "[222.121.52.157] - [2069]\n",
            "[125.130.222.50] - [2069]\n",
            "[223.62.163.24] - [2069]\n",
            "[54.214.205.186] - [2047]\n",
            "[93.174.93.218] - [2044]\n",
            "[54.183.189.102] - [2043]\n",
            "[61.160.213.32] - [894]\n",
            "[221.11.92.253] - [594]\n",
            "[141.212.122.80] - [318]\n",
            "[159.8.93.184] - [308]\n",
            "[61.160.247.231] - [289]\n",
            "[180.97.106.162] - [287]\n",
            "[103.31.242.35] - [0]\n",
            "[203.67.9.75] - [0]\n",
            "[203.67.9.74] - [0]\n",
            "[180.76.15.160] - [0]\n",
            "[54.81.168.187] - [0]\n",
            "[52.27.124.159] - [0]\n"
          ],
          "name": "stdout"
        }
      ]
    },
    {
      "cell_type": "markdown",
      "metadata": {
        "id": "6jwC50gluD0p"
      },
      "source": [
        "### 선생님의 답안"
      ],
      "id": "6jwC50gluD0p"
    },
    {
      "cell_type": "code",
      "metadata": {
        "id": "TzSFOd7-qk7P",
        "colab": {
          "base_uri": "https://localhost:8080/"
        },
        "outputId": "b8bad60a-c83d-47ed-a128-f8750174aaa3"
      },
      "source": [
        "traffic_tot = 0 # 트래픽 합계를 저장할 변수\n",
        "KB = 1024 # Byte를 KB로 변환하기 위해서 나누어야 할 수\n",
        "ip_list = set()\n",
        "services = dict()\n",
        "file_path = ('/content/drive/MyDrive/Colab Notebooks/k-digital/00_test/0827_preprocessing, log, DB/data/access_log.txt')\n",
        "with open(file_path) as f:\n",
        "    # 줄단위로 파일의 내용읽기\n",
        "    logs = f.readlines()\n",
        "    for log in logs:\n",
        "        log_split = log.split()\n",
        "        ip = log_split[0]\n",
        "        traffic = log_split[len(log_split) - 1]\n",
        "        # 읽어온 데이터가 숫자일 때만 정수로 변경하고 \n",
        "        # 숫자가 아니면 0\n",
        "        if traffic.isdigit():\n",
        "            traffic = + int(traffic)\n",
        "        else :\n",
        "            traffic = 0\n",
        "                    \n",
        "        # dictionary에 in을 사용하면 key의 존재 여부를 리턴\n",
        "        if ip not in services:\n",
        "            services[ip] = traffic\n",
        "        else : \n",
        "            services[ip] = services[ip] + traffic\n",
        "print('ip 별 트래픽')\n",
        "# 트래픽이 많은 순으로 정렬해서 출력\n",
        "ret = sorted(services.items(), key=lambda x:x[1], reverse=True)\n",
        "for ip, traffic in ret:\n",
        "    print(ip,':' ,traffic)"
      ],
      "id": "TzSFOd7-qk7P",
      "execution_count": 44,
      "outputs": [
        {
          "output_type": "stream",
          "name": "stdout",
          "text": [
            "ip 별 트래픽\n",
            "223.62.67.5 : 26540048\n",
            "223.62.67.194 : 2062270\n",
            "64.79.100.43 : 444448\n",
            "222.186.21.90 : 149616\n",
            "180.76.15.144 : 34060\n",
            "180.76.15.145 : 27248\n",
            "180.76.15.6 : 20436\n",
            "180.76.15.15 : 20436\n",
            "180.76.15.149 : 20436\n",
            "180.76.15.151 : 20436\n",
            "180.76.15.158 : 20436\n",
            "180.76.15.25 : 17462\n",
            "180.76.15.16 : 17462\n",
            "40.77.167.61 : 14314\n",
            "180.76.15.10 : 13914\n",
            "180.76.15.5 : 13624\n",
            "180.76.15.24 : 13624\n",
            "180.76.15.34 : 13624\n",
            "180.76.15.7 : 13624\n",
            "180.76.15.152 : 13624\n",
            "180.76.15.146 : 13624\n",
            "180.76.15.161 : 13624\n",
            "180.76.15.28 : 13624\n",
            "180.76.15.142 : 13624\n",
            "180.76.15.136 : 13624\n",
            "180.76.15.12 : 13624\n",
            "180.76.15.141 : 13624\n",
            "180.76.15.29 : 13624\n",
            "180.76.15.9 : 13624\n",
            "180.76.15.30 : 13624\n",
            "180.76.15.156 : 13624\n",
            "180.76.15.17 : 13624\n",
            "180.76.15.11 : 13624\n",
            "180.76.15.147 : 13624\n",
            "180.76.15.18 : 13624\n",
            "95.213.177.122 : 11554\n",
            "157.55.39.218 : 11238\n",
            "118.46.34.94 : 8306\n",
            "157.55.39.130 : 7638\n",
            "66.249.74.48 : 7102\n",
            "180.76.15.140 : 7102\n",
            "95.213.177.126 : 6991\n",
            "180.76.15.143 : 6812\n",
            "180.76.15.134 : 6812\n",
            "66.249.79.123 : 6812\n",
            "180.76.15.163 : 6812\n",
            "180.76.15.22 : 6812\n",
            "180.76.15.33 : 6812\n",
            "180.76.15.19 : 6812\n",
            "59.38.97.177 : 6812\n",
            "180.76.15.154 : 6812\n",
            "180.76.15.23 : 6812\n",
            "157.55.39.245 : 6812\n",
            "180.76.15.138 : 6812\n",
            "180.76.15.137 : 6812\n",
            "180.76.15.27 : 6812\n",
            "54.215.216.163 : 6812\n",
            "180.76.15.159 : 6812\n",
            "180.76.15.135 : 6812\n",
            "207.46.13.142 : 6812\n",
            "180.76.15.13 : 6812\n",
            "180.76.15.20 : 6812\n",
            "180.97.106.161 : 6812\n",
            "180.76.15.162 : 6812\n",
            "180.76.15.21 : 6812\n",
            "180.76.15.8 : 6812\n",
            "180.76.15.139 : 6812\n",
            "185.25.148.240 : 6270\n",
            "95.213.177.125 : 6028\n",
            "95.213.177.124 : 4563\n",
            "121.185.175.231 : 4153\n",
            "223.33.160.85 : 4153\n",
            "175.116.86.22 : 4153\n",
            "208.100.26.232 : 4130\n",
            "208.100.26.231 : 4090\n",
            "61.160.213.55 : 2980\n",
            "95.213.177.123 : 2428\n",
            "91.196.50.33 : 2088\n",
            "222.186.50.24 : 2084\n",
            "222.186.51.205 : 2084\n",
            "222.121.52.157 : 2069\n",
            "125.130.222.50 : 2069\n",
            "223.62.163.24 : 2069\n",
            "221.152.184.9 : 2069\n",
            "54.214.205.186 : 2047\n",
            "93.174.93.218 : 2044\n",
            "54.183.189.102 : 2043\n",
            "61.160.213.32 : 894\n",
            "221.11.92.253 : 594\n",
            "141.212.122.80 : 318\n",
            "159.8.93.184 : 308\n",
            "61.160.247.231 : 289\n",
            "180.97.106.162 : 287\n",
            "52.27.124.159 : 0\n",
            "103.31.242.35 : 0\n",
            "180.76.15.160 : 0\n",
            "54.81.168.187 : 0\n",
            "203.67.9.74 : 0\n",
            "203.67.9.75 : 0\n"
          ]
        }
      ]
    },
    {
      "cell_type": "code",
      "metadata": {
        "colab": {
          "base_uri": "https://localhost:8080/"
        },
        "id": "x-arnWFsz220",
        "outputId": "c9557360-f3cd-4495-d875-36f7411ec116"
      },
      "source": [
        "ret"
      ],
      "id": "x-arnWFsz220",
      "execution_count": 43,
      "outputs": [
        {
          "output_type": "execute_result",
          "data": {
            "text/plain": [
              "[('223.62.67.5', 26540048),\n",
              " ('223.62.67.194', 2062270),\n",
              " ('64.79.100.43', 444448),\n",
              " ('222.186.21.90', 149616),\n",
              " ('180.76.15.144', 34060),\n",
              " ('180.76.15.145', 27248),\n",
              " ('180.76.15.6', 20436),\n",
              " ('180.76.15.15', 20436),\n",
              " ('180.76.15.149', 20436),\n",
              " ('180.76.15.151', 20436),\n",
              " ('180.76.15.158', 20436),\n",
              " ('180.76.15.25', 17462),\n",
              " ('180.76.15.16', 17462),\n",
              " ('40.77.167.61', 14314),\n",
              " ('180.76.15.10', 13914),\n",
              " ('180.76.15.5', 13624),\n",
              " ('180.76.15.24', 13624),\n",
              " ('180.76.15.34', 13624),\n",
              " ('180.76.15.7', 13624),\n",
              " ('180.76.15.152', 13624),\n",
              " ('180.76.15.146', 13624),\n",
              " ('180.76.15.161', 13624),\n",
              " ('180.76.15.28', 13624),\n",
              " ('180.76.15.142', 13624),\n",
              " ('180.76.15.136', 13624),\n",
              " ('180.76.15.12', 13624),\n",
              " ('180.76.15.141', 13624),\n",
              " ('180.76.15.29', 13624),\n",
              " ('180.76.15.9', 13624),\n",
              " ('180.76.15.30', 13624),\n",
              " ('180.76.15.156', 13624),\n",
              " ('180.76.15.17', 13624),\n",
              " ('180.76.15.11', 13624),\n",
              " ('180.76.15.147', 13624),\n",
              " ('180.76.15.18', 13624),\n",
              " ('95.213.177.122', 11554),\n",
              " ('157.55.39.218', 11238),\n",
              " ('118.46.34.94', 8306),\n",
              " ('157.55.39.130', 7638),\n",
              " ('66.249.74.48', 7102),\n",
              " ('180.76.15.140', 7102),\n",
              " ('95.213.177.126', 6991),\n",
              " ('180.76.15.143', 6812),\n",
              " ('180.76.15.134', 6812),\n",
              " ('66.249.79.123', 6812),\n",
              " ('180.76.15.163', 6812),\n",
              " ('180.76.15.22', 6812),\n",
              " ('180.76.15.33', 6812),\n",
              " ('180.76.15.19', 6812),\n",
              " ('59.38.97.177', 6812),\n",
              " ('180.76.15.154', 6812),\n",
              " ('180.76.15.23', 6812),\n",
              " ('157.55.39.245', 6812),\n",
              " ('180.76.15.138', 6812),\n",
              " ('180.76.15.137', 6812),\n",
              " ('180.76.15.27', 6812),\n",
              " ('54.215.216.163', 6812),\n",
              " ('180.76.15.159', 6812),\n",
              " ('180.76.15.135', 6812),\n",
              " ('207.46.13.142', 6812),\n",
              " ('180.76.15.13', 6812),\n",
              " ('180.76.15.20', 6812),\n",
              " ('180.97.106.161', 6812),\n",
              " ('180.76.15.162', 6812),\n",
              " ('180.76.15.21', 6812),\n",
              " ('180.76.15.8', 6812),\n",
              " ('180.76.15.139', 6812),\n",
              " ('185.25.148.240', 6270),\n",
              " ('95.213.177.125', 6028),\n",
              " ('95.213.177.124', 4563),\n",
              " ('121.185.175.231', 4153),\n",
              " ('223.33.160.85', 4153),\n",
              " ('175.116.86.22', 4153),\n",
              " ('208.100.26.232', 4130),\n",
              " ('208.100.26.231', 4090),\n",
              " ('61.160.213.55', 2980),\n",
              " ('95.213.177.123', 2428),\n",
              " ('91.196.50.33', 2088),\n",
              " ('222.186.50.24', 2084),\n",
              " ('222.186.51.205', 2084),\n",
              " ('222.121.52.157', 2069),\n",
              " ('125.130.222.50', 2069),\n",
              " ('223.62.163.24', 2069),\n",
              " ('221.152.184.9', 2069),\n",
              " ('54.214.205.186', 2047),\n",
              " ('93.174.93.218', 2044),\n",
              " ('54.183.189.102', 2043),\n",
              " ('61.160.213.32', 894),\n",
              " ('221.11.92.253', 594),\n",
              " ('141.212.122.80', 318),\n",
              " ('159.8.93.184', 308),\n",
              " ('61.160.247.231', 289),\n",
              " ('180.97.106.162', 287),\n",
              " ('52.27.124.159', 0),\n",
              " ('103.31.242.35', 0),\n",
              " ('180.76.15.160', 0),\n",
              " ('54.81.168.187', 0),\n",
              " ('203.67.9.74', 0),\n",
              " ('203.67.9.75', 0)]"
            ]
          },
          "metadata": {},
          "execution_count": 43
        }
      ]
    },
    {
      "cell_type": "code",
      "metadata": {
        "id": "S4faKkgMz_PA"
      },
      "source": [
        ""
      ],
      "id": "S4faKkgMz_PA",
      "execution_count": null,
      "outputs": []
    }
  ]
}