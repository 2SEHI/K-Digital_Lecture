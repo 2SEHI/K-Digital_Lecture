{
  "nbformat": 4,
  "nbformat_minor": 5,
  "metadata": {
    "kernelspec": {
      "display_name": "Python 3",
      "language": "python",
      "name": "python3"
    },
    "language_info": {
      "codemirror_mode": {
        "name": "ipython",
        "version": 3
      },
      "file_extension": ".py",
      "mimetype": "text/x-python",
      "name": "python",
      "nbconvert_exporter": "python",
      "pygments_lexer": "ipython3",
      "version": "3.8.8"
    },
    "colab": {
      "name": "python_basic_2.ipynb",
      "provenance": [],
      "collapsed_sections": [],
      "toc_visible": true,
      "include_colab_link": true
    }
  },
  "cells": [
    {
      "cell_type": "markdown",
      "metadata": {
        "id": "view-in-github",
        "colab_type": "text"
      },
      "source": [
        "<a href=\"https://colab.research.google.com/github/2SEHI/K-Digital_Lecture/blob/main/00_test/python_basic_2.ipynb\" target=\"_parent\"><img src=\"https://colab.research.google.com/assets/colab-badge.svg\" alt=\"Open In Colab\"/></a>"
      ]
    },
    {
      "cell_type": "markdown",
      "metadata": {
        "id": "ebc9eb14-5f07-42f9-8d28-242393a9234a"
      },
      "source": [
        "# 객체 지향 문법\n",
        "- 이름: 이세희\n",
        "- 제출날짜 : 2021.8.23\n"
      ],
      "id": "ebc9eb14-5f07-42f9-8d28-242393a9234a"
    },
    {
      "cell_type": "markdown",
      "metadata": {
        "id": "9a9a25b9-e38d-4969-93db-a5a3930a459e"
      },
      "source": [
        "## 1.이름 과 국어, 영어, 수학 점수를 저장할 수 있는 클래스를 생성하시오.\n",
        "- 이름 과 국어, 영어, 수학 점수를 저장할 변수를 초기화 메소드를 생성해서 기본값은 이름의 기본값은 \"noname\", 국어, 영어, 수학 점수는 0으로 설정하시오\n",
        "- 이름 및 국어, 영어, 수학 점수는 인스턴스가 직접 접근할 수 없도록 생성하시오.\n",
        "- 이름 및 국어, 영어, 수학 점수에 접근할 수 있는 getter 와 setter 메소드를 생성하시오.\n",
        "- 국어, 영어, 수학 점수의 평균을 구해서 리턴하는 메소드를 생성하시오."
      ],
      "id": "9a9a25b9-e38d-4969-93db-a5a3930a459e"
    },
    {
      "cell_type": "markdown",
      "metadata": {
        "id": "J7bdZObpM9xH"
      },
      "source": [
        "### 내 답안"
      ],
      "id": "J7bdZObpM9xH"
    },
    {
      "cell_type": "code",
      "metadata": {
        "colab": {
          "base_uri": "https://localhost:8080/"
        },
        "id": "5f438c65-04cc-4252-95d0-8e170608c29f",
        "outputId": "854e26d4-f10c-4197-a455-b106f71e0364"
      },
      "source": [
        "class Student:\n",
        "    # 초기화 메소드\n",
        "    def __init__(self):\n",
        "        self.__name = 'noname'\n",
        "        self.__kor = 0\n",
        "        self.__eng = 0\n",
        "        self.__math = 0\n",
        "\n",
        "    # 속성 setter 메소드\n",
        "    def setter_name(self, name):\n",
        "        self.__name = name\n",
        "    def setter_kor(self, kor):\n",
        "        self.__kor = int(kor)\n",
        "    def setter_eng(self, eng):\n",
        "        self.__eng = int(eng)\n",
        "    def setter_math(self, math):\n",
        "        self.__math = int(math)\n",
        "\n",
        "    # 속성 getter메소드\n",
        "    def getter_name(self):\n",
        "        return self.__name\n",
        "    def getter_kor(self):\n",
        "        return self.__kor\n",
        "    def getter_eng(self):\n",
        "        return self.__eng\n",
        "    def getter_math(self):\n",
        "        return self.__math\n",
        "\n",
        "    # 평균점수를 구하는 메소드\n",
        "    def mean_test(self):\n",
        "        m = (self.__kor+ self.__eng+ self.__math) / 3\n",
        "        return m\n",
        "\n",
        "# 인스턴스 생성\n",
        "st = Student()\n",
        "\n",
        "# 이썬,30,40,50\n",
        "stu_string = input(\"이름,국어점수,영어점수,수학점수를 입력하세요(콤마 구분) : \")\n",
        "# 이름,국어점수,영어점수,수학점수 분리하여 저장\n",
        "name, kor, eng, math = map(str,stu_string.split(','))\n",
        "\n",
        "# 이름,국어점수,영어점수,수학점수를 인스턴스에 저장\n",
        "st.setter_name(name)\n",
        "st.setter_kor(kor)\n",
        "st.setter_eng(eng)\n",
        "st.setter_math(math)\n",
        "\n",
        "# 평균점수를 구하는 함수를 호출하여 평균점수 출력\n",
        "print(f\"{st.getter_name()}의 평균 점수는 {st.mean_test()}점입니다.\")        "
      ],
      "id": "5f438c65-04cc-4252-95d0-8e170608c29f",
      "execution_count": null,
      "outputs": [
        {
          "output_type": "stream",
          "text": [
            "이름,국어점수,영어점수,수학점수를 입력하세요(콤마 구분) : 이썬,30,40,50\n",
            "이썬의 평균 점수는 40.0점입니다.\n"
          ],
          "name": "stdout"
        }
      ]
    },
    {
      "cell_type": "code",
      "metadata": {
        "colab": {
          "base_uri": "https://localhost:8080/"
        },
        "id": "BWld36mEUI6X",
        "outputId": "f8f1efd8-1f95-4527-846f-95c24ab13dd6"
      },
      "source": [
        "# 인스턴스 초기화 확인\n",
        "# 인스턴스 생성\n",
        "st = Student()\n",
        "print(f\"{st.getter_name()}의 평균 점수는 {st.mean_test()}점입니다.\")"
      ],
      "id": "BWld36mEUI6X",
      "execution_count": null,
      "outputs": [
        {
          "output_type": "stream",
          "text": [
            "noname의 평균 점수는 0.0점입니다.\n"
          ],
          "name": "stdout"
        }
      ]
    },
    {
      "cell_type": "markdown",
      "metadata": {
        "id": "iFvdUTAyNEt2"
      },
      "source": [
        "### 선생님 답안"
      ],
      "id": "iFvdUTAyNEt2"
    },
    {
      "cell_type": "code",
      "metadata": {
        "colab": {
          "base_uri": "https://localhost:8080/"
        },
        "id": "CimyUDZpK59m",
        "outputId": "49b07b8c-aff3-491b-8a51-26cbb580235b"
      },
      "source": [
        "class Person:\n",
        "    #초기화 메소드\n",
        "    def __init__(self, name = 'noname', kor=0, eng=0, mat=0):\n",
        "        #파이썬에서는 __로 시작하는 변수를 만들면 private 이 됩니다.\n",
        "        self.__name = name\n",
        "        self.__kor = kor\n",
        "        self.__eng = eng\n",
        "        self.__mat = mat\n",
        "    \n",
        "    #접근자 메소드\n",
        "    def get_name(self):\n",
        "        return self.__name\n",
        "    def set_name(self, name):\n",
        "        self.__name = name\n",
        "    \n",
        "    #getter 와 setter를 생성\n",
        "    def get_kor(self):\n",
        "        return self.__kor\n",
        "    def set_kor(self, kor):\n",
        "        self.__kor = kor\n",
        "    #프로퍼티 생성\n",
        "    #변수처럼 사용하는데 kor = 은 하게되면 setter 가 호출되고\n",
        "    #kor 하게되면 getter 가 호출됩니다.\n",
        "    kor = property(get_kor, set_kor)\n",
        "\n",
        "    def avg():\n",
        "        return (kor + eng + mat) / 3\n",
        "        \n",
        "p1 = Person()\n",
        "p2 = Person('adam', 90, 80, 98)\n",
        "print(p1.get_name())\n",
        "print(p1.kor)"
      ],
      "id": "CimyUDZpK59m",
      "execution_count": 2,
      "outputs": [
        {
          "output_type": "stream",
          "text": [
            "noname\n",
            "0\n"
          ],
          "name": "stdout"
        }
      ]
    },
    {
      "cell_type": "markdown",
      "metadata": {
        "id": "7fc7bbb5-cba8-4d58-b9c1-0a5502baf7a4"
      },
      "source": [
        "## 2.call by value 와 call by reference 에 대해서 작성하세요\n",
        "- 2개의 차이를 명확하게 구분하는 것이 중요합니다."
      ],
      "id": "7fc7bbb5-cba8-4d58-b9c1-0a5502baf7a4"
    },
    {
      "cell_type": "markdown",
      "metadata": {
        "id": "vcMyxdxYNNXm"
      },
      "source": [
        "### 내 답안"
      ],
      "id": "vcMyxdxYNNXm"
    },
    {
      "cell_type": "code",
      "metadata": {
        "id": "724b3661-63cb-42f6-a456-690917a63d42",
        "colab": {
          "base_uri": "https://localhost:8080/"
        },
        "outputId": "e4e079be-b0e8-4615-c98d-9b8ebf3def1c"
      },
      "source": [
        "# call by value : 값에 의한 호출\n",
        "# call by reference : 참조(주소)에 의한 호출\n",
        "\n",
        "# call by value의 경우는 값이 메모리에 복사되어 할당되므로 원래 값에 영향을 주지 않습니다.\n",
        "# call by reference의 경우는 변수의 주소값이 할당되어 원래 값에 영향을 줍니다.\n",
        "# 예를 들면, 파이썬의 내장함수중에서 list의 sort와 sorted가 있습니다. \n",
        "\n",
        "fruit = ['banana', 'oranage', 'apple' ]\n",
        "\n",
        "# sort는 값만 호출하여 sort하므로 원본의 fruit에 영향을 주지 않는 call by value입니다.\n",
        "print(sorted(fruit)) # 값이 정렬됨\n",
        "print(fruit) # 원본 fruit는 변경되지 않음\n",
        "\n",
        "# sort는 fruit의 주소값이 할당되어 원본의 fruit에 영향을 주는 call by reference입니다.\n",
        "list.sort(fruit) # fruit 자체가 정렬됨\n",
        "print(fruit) "
      ],
      "id": "724b3661-63cb-42f6-a456-690917a63d42",
      "execution_count": null,
      "outputs": [
        {
          "output_type": "stream",
          "text": [
            "['apple', 'banana', 'oranage']\n",
            "['banana', 'oranage', 'apple']\n",
            "['apple', 'banana', 'oranage']\n"
          ],
          "name": "stdout"
        }
      ]
    },
    {
      "cell_type": "markdown",
      "metadata": {
        "id": "P1M53yjXNKZ-"
      },
      "source": [
        "### 선생님 답안"
      ],
      "id": "P1M53yjXNKZ-"
    },
    {
      "cell_type": "code",
      "metadata": {
        "id": "Z8rHtV0NMRN2"
      },
      "source": [
        "call by value : \n",
        "    함수의 매개변수로 스칼라 데이터를 넘겨주는 것으로 함수가 매개변수의 값을 변경해도 원본 데이터에는 영향이 없는 것\n",
        "call by reference :\n",
        "    함수의 매개변수로 벡터 데이터를 넘겨주는 것으로 함수가 매개변수의 값을 변경하면 원본 데이터도 변경될 수 있음"
      ],
      "id": "Z8rHtV0NMRN2",
      "execution_count": null,
      "outputs": []
    },
    {
      "cell_type": "markdown",
      "metadata": {
        "id": "20b79ab0-f1fe-4820-a321-2e8054e40e35"
      },
      "source": [
        "## 3.str 클래스를 상속받는 클래스를 작성하세요\n",
        "- 내용은 없어도 되므로 pass 로 설정"
      ],
      "id": "20b79ab0-f1fe-4820-a321-2e8054e40e35"
    },
    {
      "cell_type": "markdown",
      "metadata": {
        "id": "xCkdfxoNNRQu"
      },
      "source": [
        "### 내 답안"
      ],
      "id": "xCkdfxoNNRQu"
    },
    {
      "cell_type": "code",
      "metadata": {
        "id": "d55348a0-00a8-4967-aa8b-e60b0c7b0aaa"
      },
      "source": [
        "class CommonStr(str):\n",
        "    pass"
      ],
      "id": "d55348a0-00a8-4967-aa8b-e60b0c7b0aaa",
      "execution_count": null,
      "outputs": []
    },
    {
      "cell_type": "markdown",
      "metadata": {
        "id": "x7BcSvXoNTJG"
      },
      "source": [
        "### 선생님 답안"
      ],
      "id": "x7BcSvXoNTJG"
    },
    {
      "cell_type": "code",
      "metadata": {
        "id": "dzCC01_5NWBV"
      },
      "source": [
        "class Sub(str):\n",
        "    pass"
      ],
      "id": "dzCC01_5NWBV",
      "execution_count": null,
      "outputs": []
    },
    {
      "cell_type": "markdown",
      "metadata": {
        "id": "cc8104b8-630d-40ef-9d4e-70c7314786d6"
      },
      "source": [
        "## 4. Overloading 과 Overriding 의 개념을 작성하시오."
      ],
      "id": "cc8104b8-630d-40ef-9d4e-70c7314786d6"
    },
    {
      "cell_type": "markdown",
      "metadata": {
        "id": "Afb4wwU2NZs3"
      },
      "source": [
        "### 내 답안"
      ],
      "id": "Afb4wwU2NZs3"
    },
    {
      "cell_type": "code",
      "metadata": {
        "id": "41a366de-0829-41db-9086-c2364c35b29b"
      },
      "source": [
        "# Overriding은 상위클래스에 정의된 메소드를 하위클래스에서 재구현하는 것을 의미합니다\n",
        "# Overloading은 한 클래스내에 같은 이름의 메소드가 각각 다른 파라미터를 설정받아 구현하는 것을 의미합니다. "
      ],
      "id": "41a366de-0829-41db-9086-c2364c35b29b",
      "execution_count": null,
      "outputs": []
    },
    {
      "cell_type": "markdown",
      "metadata": {
        "id": "EbJq9uNaNbqn"
      },
      "source": [
        "### 선생님 답안"
      ],
      "id": "EbJq9uNaNbqn"
    },
    {
      "cell_type": "code",
      "metadata": {
        "id": "zrkIHA7rNdIf"
      },
      "source": [
        "Overloading : 하나의 클래스에 매개변수의 개수나 자료형이 다르고 이름이 동일한 함수가 2개 이상 존재하는 경우\n",
        "\n",
        "Overriding : 하위 클래스에서 상위 클래스의 메소드를 다시 정의하는 것. 목적은 기능 추가"
      ],
      "id": "zrkIHA7rNdIf",
      "execution_count": null,
      "outputs": []
    },
    {
      "cell_type": "markdown",
      "metadata": {
        "id": "5461d1dd-2a67-42d4-8820-265363ca2425"
      },
      "source": [
        "## 5.추상 클래스의 개념을 작성하세요\n",
        "- 만드는 목적도 작성하세요"
      ],
      "id": "5461d1dd-2a67-42d4-8820-265363ca2425"
    },
    {
      "cell_type": "markdown",
      "metadata": {
        "id": "ehN6okTnN7DW"
      },
      "source": [
        "### 내 답안"
      ],
      "id": "ehN6okTnN7DW"
    },
    {
      "cell_type": "code",
      "metadata": {
        "id": "63b9cc21-a649-4baf-86a4-e4496ed83ae9"
      },
      "source": [
        "# 추상클래스의개념 : 추상클래스는 메소드의 목록만 가지는 클래스입니다.\n",
        "# 목적 : 반드시 구현해야 하는 메소드를 추상클래스의 추상메소드로 생성하고 이를 하위 클래스에서 상속받아 추상메서드를 구현하도록 하는 것입니다.\n",
        "# 추상클래스는 인스턴스를 생성할 수 없어서 추상메소드내에 pass를 설정하여 비어있는 메소드로 만듭니다."
      ],
      "id": "63b9cc21-a649-4baf-86a4-e4496ed83ae9",
      "execution_count": null,
      "outputs": []
    },
    {
      "cell_type": "markdown",
      "metadata": {
        "id": "jbSYg_DVOWJG"
      },
      "source": [
        "### 선생님 답안"
      ],
      "id": "jbSYg_DVOWJG"
    },
    {
      "cell_type": "code",
      "metadata": {
        "id": "HmIVLTElNqFI"
      },
      "source": [
        "추상 클래스 : 인스턴스를 생성할 수 없는 클래스\n",
        "    여러 클래스에서 동일한 용도로 사용할 메소드의 이름을 결정하는 클래스\n",
        "    템플릿의 형태로 사용하고자 하는 경우\n",
        "    "
      ],
      "id": "HmIVLTElNqFI",
      "execution_count": null,
      "outputs": []
    },
    {
      "cell_type": "markdown",
      "metadata": {
        "id": "08cb3a62-9a1c-49d2-9427-45378c89309e"
      },
      "source": [
        "## 6.1~45 사이의 서로 다른 정수 6개를 입력받아서 list에 저장하는 코드를 작성하세요\n",
        "- 정수 이외의 데이터가 들어오면 다시 입력받도록 작성하세요\n",
        "- 1 ~ 45 사이의 숫자 이외의 데이터가 들어오면 다시 입력받도록 작성하세요\n",
        "- 중복된 데이터가 들어오면 다시 입력받도록 작성하세요\n",
        "- 숫자를 오름차순 정렬해서 출력하세요"
      ],
      "id": "08cb3a62-9a1c-49d2-9427-45378c89309e"
    },
    {
      "cell_type": "markdown",
      "metadata": {
        "id": "Sh3gRn2iOAsV"
      },
      "source": [
        "### 내 답안"
      ],
      "id": "Sh3gRn2iOAsV"
    },
    {
      "cell_type": "code",
      "metadata": {
        "colab": {
          "base_uri": "https://localhost:8080/"
        },
        "id": "d9e3542e-d08c-4574-92db-11ac83cb85ab",
        "outputId": "067e23ed-6f7f-456d-9cd0-01df0576c2ca"
      },
      "source": [
        "list_int = []\n",
        "\n",
        "while len(list_int) < 6:\n",
        "    print(len(list_int))\n",
        "    n = input(\"정수 1~45 중 하나의 숫자를 입력하세요 : \")\n",
        "    try:\n",
        "        n = int(n)\n",
        "        if n < 1 or n > 45:\n",
        "            continue\n",
        "        if n in list_int:\n",
        "            continue\n",
        "        list_int.append(n)\n",
        "    except ValueError:\n",
        "        continue\n",
        "\n",
        "print(sorted(list_int))"
      ],
      "id": "d9e3542e-d08c-4574-92db-11ac83cb85ab",
      "execution_count": null,
      "outputs": [
        {
          "output_type": "stream",
          "text": [
            "0\n",
            "정수 1~45 중 하나의 숫자를 입력하세요 : 0\n",
            "0\n",
            "정수 1~45 중 하나의 숫자를 입력하세요 : 46\n",
            "0\n",
            "정수 1~45 중 하나의 숫자를 입력하세요 : 1\n",
            "1\n",
            "정수 1~45 중 하나의 숫자를 입력하세요 : 6\n",
            "2\n",
            "정수 1~45 중 하나의 숫자를 입력하세요 : 5\n",
            "3\n",
            "정수 1~45 중 하나의 숫자를 입력하세요 : 6\n",
            "3\n",
            "정수 1~45 중 하나의 숫자를 입력하세요 : 8\n",
            "4\n",
            "정수 1~45 중 하나의 숫자를 입력하세요 : 9\n",
            "5\n",
            "정수 1~45 중 하나의 숫자를 입력하세요 : 10\n",
            "[1, 5, 6, 8, 9, 10]\n"
          ],
          "name": "stdout"
        }
      ]
    },
    {
      "cell_type": "markdown",
      "metadata": {
        "id": "wLdZ3zD7OZdM"
      },
      "source": [
        "### 선생님 답안"
      ],
      "id": "wLdZ3zD7OZdM"
    },
    {
      "cell_type": "code",
      "metadata": {
        "id": "qeRq-6g0iBn7",
        "outputId": "29e85740-f25b-43a7-ed27-d9983a35c3b4"
      },
      "source": [
        "lotto = []\n",
        "i = 0\n",
        "while i < 6:\n",
        "    #예외가 발생하면 except 절로 이동해서 처리\n",
        "    try:\n",
        "        su = input('1~45 사이의 숫자를 입력:')\n",
        "        su = int(su)\n",
        "\n",
        "        #1 ~ 45 사이인지 확인\n",
        "        if su < 1 or su > 45:\n",
        "            print(\"1~45 사이의 숫자를 입력하세요\")\n",
        "            continue\n",
        "            \n",
        "        #중복 검사\n",
        "        flag = False\n",
        "        for j in range(0, i):\n",
        "            if su == lotto[j]:\n",
        "                flag = True\n",
        "                print('이미 존재하는 숫자 입니다.')\n",
        "                break\n",
        "        if flag == True:\n",
        "            continue\n",
        "            \n",
        "        lotto.append(su)\n",
        "                    \n",
        "    #try에서 예외가 발생하면 처리할 내용\n",
        "    except:\n",
        "        print(\"정수만 입력하세요!!!\")\n",
        "        continue\n",
        "    \n",
        "    i = i + 1\n",
        "\n",
        "#오름차순 정렬해서 출력 - list 의 sort 는 리턴을 하지 않고 호출한 객체의 \n",
        "#데이터를 가지고 정렬해서 수정합니다.\n",
        "lotto.sort()\n",
        "for i in lotto:\n",
        "    print(i)"
      ],
      "id": "qeRq-6g0iBn7",
      "execution_count": null,
      "outputs": [
        {
          "name": "stdout",
          "output_type": "stream",
          "text": [
            "1~45 사이의 숫자를 입력:1\n",
            "1~45 사이의 숫자를 입력:3\n",
            "1~45 사이의 숫자를 입력:2\n",
            "1~45 사이의 숫자를 입력:13\n",
            "1~45 사이의 숫자를 입력:7\n",
            "1~45 사이의 숫자를 입력:6\n",
            "1\n",
            "2\n",
            "3\n",
            "6\n",
            "7\n",
            "13\n"
          ]
        }
      ]
    },
    {
      "cell_type": "markdown",
      "metadata": {
        "id": "cfe51b40-df14-4b67-8981-6c54ce429c51"
      },
      "source": [
        "## 7. 1번에서 만든 클래스의 인스턴스를 3개 만들어서 list에 저장하세요"
      ],
      "id": "cfe51b40-df14-4b67-8981-6c54ce429c51"
    },
    {
      "cell_type": "markdown",
      "metadata": {
        "id": "bLxntauYOBUP"
      },
      "source": [
        "### 내 답안"
      ],
      "id": "bLxntauYOBUP"
    },
    {
      "cell_type": "code",
      "metadata": {
        "id": "5bdcb9ac-3233-4d52-96a7-fadcd457695d"
      },
      "source": [
        "st1 = Student()\n",
        "st2 = Student()\n",
        "st3 = Student()\n",
        "str_list=[st1, st2, st3]"
      ],
      "id": "5bdcb9ac-3233-4d52-96a7-fadcd457695d",
      "execution_count": null,
      "outputs": []
    },
    {
      "cell_type": "markdown",
      "metadata": {
        "id": "EYzSalS8OaSs"
      },
      "source": [
        "### 선생님 답안"
      ],
      "id": "EYzSalS8OaSs"
    },
    {
      "cell_type": "code",
      "metadata": {
        "id": "soDT4LwxSQLY"
      },
      "source": [
        "person1 = Person()\n",
        "person2 = Person()\n",
        "person3 = Person()\n",
        "li = [person1, person2, person3]"
      ],
      "id": "soDT4LwxSQLY",
      "execution_count": null,
      "outputs": []
    },
    {
      "cell_type": "markdown",
      "metadata": {
        "id": "777473f4-87d1-432e-93e1-9d01cfdd384f"
      },
      "source": [
        "## 8. 6번에서 만든 내용을 set을 이용하도록 변경하세요"
      ],
      "id": "777473f4-87d1-432e-93e1-9d01cfdd384f"
    },
    {
      "cell_type": "markdown",
      "metadata": {
        "id": "Kql43UtJOCJX"
      },
      "source": [
        "### 내 답안"
      ],
      "id": "Kql43UtJOCJX"
    },
    {
      "cell_type": "code",
      "metadata": {
        "colab": {
          "base_uri": "https://localhost:8080/"
        },
        "id": "9dbeb9b7-e2ea-43dd-85a7-f7c76a3efac2",
        "outputId": "4d84c694-426b-458f-fd46-1cac53594bfe"
      },
      "source": [
        "set_int = set()\n",
        "\n",
        "while len(set_int) < 6:\n",
        "    print(len(set_int))\n",
        "    n = input(\"정수 1~45 중 하나의 숫자를 입력하세요 : \")\n",
        "    try:\n",
        "        n = int(n)\n",
        "        if n < 1 or n > 45:\n",
        "            continue\n",
        "        if n in set_int:\n",
        "            continue\n",
        "        set_int.add(n)\n",
        "    except ValueError:\n",
        "        continue\n",
        "\n",
        "print(set_int)"
      ],
      "id": "9dbeb9b7-e2ea-43dd-85a7-f7c76a3efac2",
      "execution_count": null,
      "outputs": [
        {
          "output_type": "stream",
          "text": [
            "0\n",
            "정수 1~45 중 하나의 숫자를 입력하세요 : 5\n",
            "1\n",
            "정수 1~45 중 하나의 숫자를 입력하세요 : 0\n",
            "1\n",
            "정수 1~45 중 하나의 숫자를 입력하세요 : 1\n",
            "2\n",
            "정수 1~45 중 하나의 숫자를 입력하세요 : 90\n",
            "2\n",
            "정수 1~45 중 하나의 숫자를 입력하세요 : f\n",
            "2\n",
            "정수 1~45 중 하나의 숫자를 입력하세요 : 8\n",
            "3\n",
            "정수 1~45 중 하나의 숫자를 입력하세요 : 30\n",
            "4\n",
            "정수 1~45 중 하나의 숫자를 입력하세요 : 20\n",
            "5\n",
            "정수 1~45 중 하나의 숫자를 입력하세요 : 10\n",
            "{1, 5, 8, 10, 20, 30}\n"
          ],
          "name": "stdout"
        }
      ]
    },
    {
      "cell_type": "markdown",
      "metadata": {
        "id": "lG1S_r-qOa5m"
      },
      "source": [
        "### 선생님 답안"
      ],
      "id": "lG1S_r-qOa5m"
    },
    {
      "cell_type": "markdown",
      "metadata": {
        "id": "0f21f461-8d22-4473-84e0-5897443187b3"
      },
      "source": [
        "## 9. 7번의 내용을 1번에서 만든 클래스를 이용하지 않고 dict를 이용해서 작성하시요."
      ],
      "id": "0f21f461-8d22-4473-84e0-5897443187b3"
    },
    {
      "cell_type": "markdown",
      "metadata": {
        "id": "oy7sjRjrOCiP"
      },
      "source": [
        "### 내 답안"
      ],
      "id": "oy7sjRjrOCiP"
    },
    {
      "cell_type": "code",
      "metadata": {
        "id": "aHVrZU-lqjPW",
        "colab": {
          "base_uri": "https://localhost:8080/"
        },
        "outputId": "be17e381-f7ec-488e-971f-dd7f82826ac3"
      },
      "source": [
        "# dict를 이용한 경우 평균점수 mean이 name보다 앞으로 옴\n",
        "\n",
        "stu_list = []\n",
        "while len(stu_list) < 3 : \n",
        "    # 이썬,30,40,50\n",
        "    stu_string = input(\"이름,국어점수,영어점수,수학점수를 입력하세요(콤마 구분) : \")\n",
        "    # 이름,국어점수,영어점수,수학점수 분리하여 저장\n",
        "    name, kor, eng, math = map(str,stu_string.split(','))\n",
        "    try :\n",
        "        stu_dict = dict()\n",
        "        stu_dict['name'] = name\n",
        "        stu_dict['mean'] = (int(kor) + int(eng) + int(math)) / 3\n",
        "        # stu_dict = {'name':name, 'mean':(int(kor) + int(eng) + int(math)) / 3 }\n",
        "        stu_list.append(stu_dict)\n",
        "\n",
        "    except :\n",
        "        continue\n",
        "\n",
        "stu_list"
      ],
      "id": "aHVrZU-lqjPW",
      "execution_count": null,
      "outputs": [
        {
          "output_type": "stream",
          "text": [
            "이름,국어점수,영어점수,수학점수를 입력하세요(콤마 구분) : 이썬,30,40,50\n",
            "이름,국어점수,영어점수,수학점수를 입력하세요(콤마 구분) : 이썬,30,40,50\n",
            "이름,국어점수,영어점수,수학점수를 입력하세요(콤마 구분) : 이썬,30,40,50\n"
          ],
          "name": "stdout"
        },
        {
          "output_type": "execute_result",
          "data": {
            "text/plain": [
              "[{'mean': 40.0, 'name': '이썬'},\n",
              " {'mean': 40.0, 'name': '이썬'},\n",
              " {'mean': 40.0, 'name': '이썬'}]"
            ]
          },
          "metadata": {},
          "execution_count": 9
        }
      ]
    },
    {
      "cell_type": "code",
      "metadata": {
        "colab": {
          "base_uri": "https://localhost:8080/"
        },
        "id": "k2DXksEiPt-8",
        "outputId": "aa5a03e9-b377-413f-977c-24a4fbe30e34"
      },
      "source": [
        "# OrderedDcit를 이용한 경우 평균점수 mean이 name보다 앞으로 옴\n",
        "\n",
        "from collections import OrderedDict\n",
        "stu_list = []\n",
        "while len(stu_list) < 3 : \n",
        "    # 이썬,30,40,50\n",
        "    stu_string = input(\"이름,국어점수,영어점수,수학점수를 입력하세요(콤마 구분) : \")\n",
        "    # 이름,국어점수,영어점수,수학점수 분리하여 저장\n",
        "    name, kor, eng, math = map(str,stu_string.split(','))\n",
        "    try :\n",
        "      \n",
        "        stu_dict = OrderedDict()\n",
        "        stu_dict['name'] = name\n",
        "        stu_dict['mean'] = (int(kor) + int(eng) + int(math)) / 3\n",
        "        stu_list.append(stu_dict)\n",
        "\n",
        "    except :\n",
        "        continue\n",
        "\n",
        "stu_list"
      ],
      "id": "k2DXksEiPt-8",
      "execution_count": null,
      "outputs": [
        {
          "output_type": "stream",
          "text": [
            "이름,국어점수,영어점수,수학점수를 입력하세요(콤마 구분) : 이썬,30,40,50\n",
            "이름,국어점수,영어점수,수학점수를 입력하세요(콤마 구분) : 파, ㅇ, ㄴ,ㄷ\n",
            "이름,국어점수,영어점수,수학점수를 입력하세요(콤마 구분) : 이,60,40,50\n",
            "이름,국어점수,영어점수,수학점수를 입력하세요(콤마 구분) : 썬,30,40,70\n"
          ],
          "name": "stdout"
        },
        {
          "output_type": "execute_result",
          "data": {
            "text/plain": [
              "[OrderedDict([('name', '이썬'), ('mean', 40.0)]),\n",
              " OrderedDict([('name', '이'), ('mean', 50.0)]),\n",
              " OrderedDict([('name', '썬'), ('mean', 46.666666666666664)])]"
            ]
          },
          "metadata": {},
          "execution_count": 13
        }
      ]
    },
    {
      "cell_type": "markdown",
      "metadata": {
        "id": "EfuXlJSoObXu"
      },
      "source": [
        "### 선생님 답안"
      ],
      "id": "EfuXlJSoObXu"
    },
    {
      "cell_type": "code",
      "metadata": {
        "id": "be862921-3623-4962-8536-c8fa3faf8892",
        "outputId": "e82ac4a7-e117-4497-a547-9ceee20be60d"
      },
      "source": [
        "person1 = {'name':'adam', 'kor':90}\n",
        "person2 = {'name':'rusia', 'kor':87}\n",
        "person3 = {'name':'cyder', 'kor':88}\n",
        "\n",
        "li = [person1, person2, person3]\n",
        "\n",
        "print('이름\\t국어')\n",
        "for dic in li:\n",
        "    print(dic['name'],'\\t',dic['kor'])"
      ],
      "id": "be862921-3623-4962-8536-c8fa3faf8892",
      "execution_count": null,
      "outputs": [
        {
          "name": "stdout",
          "output_type": "stream",
          "text": [
            "이름\t국어\n",
            "adam \t 90\n",
            "rusia \t 87\n",
            "cyder \t 88\n"
          ]
        }
      ]
    },
    {
      "cell_type": "markdown",
      "metadata": {
        "id": "f071986a-1b7c-4680-bdd9-90eefc056432"
      },
      "source": [
        "## 10. 다음 list에 저장된 내용에서 각 단어가 등장한 횟수를 dict에 저장하는 코드를 작성하시오."
      ],
      "id": "f071986a-1b7c-4680-bdd9-90eefc056432"
    },
    {
      "cell_type": "code",
      "metadata": {
        "id": "69bd088c-ca14-4715-a327-bbf8b54c4f42"
      },
      "source": [
        "words = ['python', 'java', 'python', 'R', 'python', 'python', 'sql', 'javascript', 'javascript', 'c++', 'c++', 'c++']"
      ],
      "id": "69bd088c-ca14-4715-a327-bbf8b54c4f42",
      "execution_count": null,
      "outputs": []
    },
    {
      "cell_type": "markdown",
      "metadata": {
        "id": "1f5q9rc3OGwy"
      },
      "source": [
        "### 내 답안"
      ],
      "id": "1f5q9rc3OGwy"
    },
    {
      "cell_type": "code",
      "metadata": {
        "colab": {
          "base_uri": "https://localhost:8080/"
        },
        "id": "BEXDt_XGjmqQ",
        "outputId": "90c99808-3ba3-4934-9519-de41eaaf6ef2"
      },
      "source": [
        "word_dict = dict()\n",
        "for word in set(words):\n",
        "    word_dict.update({word:words.count(word)})\n",
        "word_dict"
      ],
      "id": "BEXDt_XGjmqQ",
      "execution_count": null,
      "outputs": [
        {
          "output_type": "execute_result",
          "data": {
            "text/plain": [
              "{'R': 1, 'c++': 3, 'java': 1, 'javascript': 2, 'python': 4, 'sql': 1}"
            ]
          },
          "metadata": {},
          "execution_count": 102
        }
      ]
    },
    {
      "cell_type": "markdown",
      "metadata": {
        "id": "FfQ3_2CbOcRM"
      },
      "source": [
        "### 선생님 답안"
      ],
      "id": "FfQ3_2CbOcRM"
    },
    {
      "cell_type": "code",
      "metadata": {
        "id": "NOwMRI09iZ6H",
        "outputId": "ec2fb152-45d2-40e8-dec5-030319fc190b"
      },
      "source": [
        "words = ['python', 'java', 'python', 'R', 'python', 'python', 'sql', 'javascript', 'javascript', 'c++', 'c++', 'c++']\n",
        "#나중에 collections 모듈의 Counter 를 알면 쉽게 해결\n",
        "\n",
        "dic = {}\n",
        "for word in words:\n",
        "    try:\n",
        "        #단어를 key로 해서 값을 가져옵니다.\n",
        "        #값이 존재하면 1을 추가\n",
        "        #값이 존재하지 않으면 예외가 발생\n",
        "        cnt = dic[word]\n",
        "        dic[word] = cnt + 1\n",
        "    #예외가 발생했을 때 word를 key로 1로 설정\n",
        "    except:\n",
        "        dic[word] = 1\n",
        "print(dic)"
      ],
      "id": "NOwMRI09iZ6H",
      "execution_count": null,
      "outputs": [
        {
          "name": "stdout",
          "output_type": "stream",
          "text": [
            "{'python': 4, 'java': 1, 'R': 1, 'sql': 1, 'javascript': 2, 'c++': 3}\n"
          ]
        }
      ]
    },
    {
      "cell_type": "markdown",
      "metadata": {
        "id": "J-_765L4U0dG"
      },
      "source": [
        "## 쿠팡문제\n",
        "\n",
        "- '-'는 0으로 생각하고 0을 바꿔서 합계를 구함\n",
        "- '10', '30', '-','40','80'\n",
        "- '-'대신 다른 문자열이 올 수도 있음"
      ],
      "id": "J-_765L4U0dG"
    },
    {
      "cell_type": "code",
      "metadata": {
        "colab": {
          "base_uri": "https://localhost:8080/"
        },
        "id": "X0Q9PpBKjjt_",
        "outputId": "f0365da8-ddb4-4e3d-8465-9c581bb547e2"
      },
      "source": [
        "# 문자열을 숫자로 바꾸는 함수 생성\n",
        "def changetoint(str):\n",
        "    try:\n",
        "        # 문자열을 숫자로 바꿔서 반환\n",
        "        return int(str)\n",
        "    except:\n",
        "        # 문자열이 숫자가 아닐 경우 0을 반환\n",
        "        return 0\n",
        "\n",
        "li = ['10','30', '-', '40', '80']\n",
        "\n",
        "sum = 0\n",
        "# 리스트를 순회하며 문자열을 숫자로 바꿔서 더하기\n",
        "for i in li :\n",
        "    sum += changetoint(i)\n",
        "\n",
        "sum"
      ],
      "id": "X0Q9PpBKjjt_",
      "execution_count": 7,
      "outputs": [
        {
          "output_type": "execute_result",
          "data": {
            "text/plain": [
              "160"
            ]
          },
          "metadata": {},
          "execution_count": 7
        }
      ]
    }
  ]
}