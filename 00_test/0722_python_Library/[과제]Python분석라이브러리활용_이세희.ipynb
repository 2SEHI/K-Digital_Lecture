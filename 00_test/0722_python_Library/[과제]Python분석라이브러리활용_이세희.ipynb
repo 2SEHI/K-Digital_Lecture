{
  "nbformat": 4,
  "nbformat_minor": 0,
  "metadata": {
    "colab": {
      "name": "[과제]Python분석라이브러리활용_이세희.ipynb",
      "provenance": [],
      "collapsed_sections": [],
      "toc_visible": true
    },
    "kernelspec": {
      "name": "python3",
      "display_name": "Python 3"
    },
    "language_info": {
      "name": "python"
    }
  },
  "cells": [
    {
      "cell_type": "markdown",
      "metadata": {
        "id": "view-in-github"
      },
      "source": [
        "<a href=\"https://colab.research.google.com/github/2SEHI/K-Digital_Lecture/blob/main/00_test/%5B%EA%B3%BC%EC%A0%9C%5DPython%EB%B6%84%EC%84%9D%EB%9D%BC%EC%9D%B4%EB%B8%8C%EB%9F%AC%EB%A6%AC%ED%99%9C%EC%9A%A9_%EC%9D%B4%EC%84%B8%ED%9D%AC.ipynb\" target=\"_parent\"><img src=\"https://colab.research.google.com/assets/colab-badge.svg\" alt=\"Open In Colab\"/></a>"
      ]
    },
    {
      "cell_type": "markdown",
      "metadata": {
        "id": "2qzpIC46-ifB"
      },
      "source": [
        "# 2021. 7. 22제출"
      ]
    },
    {
      "cell_type": "code",
      "metadata": {
        "id": "2JWbavF4Kzrg"
      },
      "source": [
        "import pandas as pd \n",
        "import numpy as np\n",
        "import seaborn as sns"
      ],
      "execution_count": null,
      "outputs": []
    },
    {
      "cell_type": "markdown",
      "metadata": {
        "id": "lDklZGojLDiU"
      },
      "source": [
        "> ## Q1. `arange()`, `reshape()` 이용 1차원 2차원 3차원 배열을 아래와 같이 생성하세요.\n",
        "\n",
        "    [0 1 2 3 4 5 6 7 8 9]\n",
        "    [[0 1 2 3 4]\n",
        "    [5 6 7 8 9]]\n",
        "    [[[0 1 2 3 4]\n",
        "    [5 6 7 8 9]]]"
      ]
    },
    {
      "cell_type": "markdown",
      "metadata": {
        "id": "59mQp2mDV_FZ"
      },
      "source": [
        "### 나의 답안"
      ]
    },
    {
      "cell_type": "code",
      "metadata": {
        "colab": {
          "base_uri": "https://localhost:8080/"
        },
        "id": "Jil0sVDnK7r9",
        "outputId": "9cbe2947-c909-4e6f-df5e-2914abd353d8"
      },
      "source": [
        "# 답\n",
        "print(np.arange(10))\n",
        "print(np.arange(10).reshape(2,5))\n",
        "print(np.arange(10).reshape(1,2,5))"
      ],
      "execution_count": null,
      "outputs": [
        {
          "output_type": "stream",
          "text": [
            "[0 1 2 3 4 5 6 7 8 9]\n",
            "[[0 1 2 3 4]\n",
            " [5 6 7 8 9]]\n",
            "[[[0 1 2 3 4]\n",
            "  [5 6 7 8 9]]]\n"
          ],
          "name": "stdout"
        }
      ]
    },
    {
      "cell_type": "markdown",
      "metadata": {
        "id": "CjcXeOWzWBl2"
      },
      "source": [
        "### 선생님 답안"
      ]
    },
    {
      "cell_type": "code",
      "metadata": {
        "colab": {
          "base_uri": "https://localhost:8080/"
        },
        "id": "O22qCqjYV3Cz",
        "outputId": "10eee366-67de-4b25-c8c1-dd0d0a7307f1"
      },
      "source": [
        "# -1이나 1 둘다 가능\n",
        "print(np.arange(10).reshape(1,2,5))\n",
        "print(np.arange(10).reshape(-1,2,5))"
      ],
      "execution_count": null,
      "outputs": [
        {
          "output_type": "stream",
          "text": [
            "[[[0 1 2 3 4]\n",
            "  [5 6 7 8 9]]]\n",
            "[[[0 1 2 3 4]\n",
            "  [5 6 7 8 9]]]\n"
          ],
          "name": "stdout"
        }
      ]
    },
    {
      "cell_type": "markdown",
      "metadata": {
        "id": "YzmITy_yLBWc"
      },
      "source": [
        "---\n",
        "\n",
        "> ## Q2. 1 ~ 100 까지 배열에서 5의 배수이면서 2의 배수인 것만을 출력하세요."
      ]
    },
    {
      "cell_type": "markdown",
      "metadata": {
        "id": "KKay8LcoWPQ4"
      },
      "source": [
        "### 나의 답안"
      ]
    },
    {
      "cell_type": "code",
      "metadata": {
        "colab": {
          "base_uri": "https://localhost:8080/"
        },
        "id": "UvJdSgYgLWcU",
        "outputId": "17b96348-b8fb-4bee-8515-add2159e0b88"
      },
      "source": [
        "# 답\n",
        "for i in range(1,101):\n",
        "    if (i % 5 == 0) & (i % 2 == 0):\n",
        "        print(i)"
      ],
      "execution_count": null,
      "outputs": [
        {
          "output_type": "stream",
          "text": [
            "10\n",
            "20\n",
            "30\n",
            "40\n",
            "50\n",
            "60\n",
            "70\n",
            "80\n",
            "90\n",
            "100\n"
          ],
          "name": "stdout"
        }
      ]
    },
    {
      "cell_type": "markdown",
      "metadata": {
        "id": "gNWNuKB6WOEI"
      },
      "source": [
        "### 선생님 답안"
      ]
    },
    {
      "cell_type": "code",
      "metadata": {
        "colab": {
          "base_uri": "https://localhost:8080/"
        },
        "id": "dTT9lbhsWetG",
        "outputId": "7cac72bd-9b44-4c18-e349-9d49d9b788a9"
      },
      "source": [
        "ar = np.arange(1, 101)\n",
        "li = []\n",
        "for i in range(len(ar)):\n",
        "    if (ar[i] % 5 == 0) & (ar[i] % 2 == 0):\n",
        "        print(ar[i])"
      ],
      "execution_count": null,
      "outputs": [
        {
          "output_type": "stream",
          "text": [
            "10\n",
            "20\n",
            "30\n",
            "40\n",
            "50\n",
            "60\n",
            "70\n",
            "80\n",
            "90\n",
            "100\n"
          ],
          "name": "stdout"
        }
      ]
    },
    {
      "cell_type": "markdown",
      "metadata": {
        "id": "qyJEF_2WLlSl"
      },
      "source": [
        "---\n",
        "\n",
        "> ## Q3. 아래 3차원 배열을 생성하여 출력한 후 1차원으로 변환하여 출력하세요.\n",
        "\n",
        "    [[[ 0 1 2 3 4]\n",
        "    [ 5 6 7 8 9]]\n",
        "    [[10 11 12 13 14]\n",
        "    [15 16 17 18 19]]\n",
        "    [[20 21 22 23 24]\n",
        "    [25 26 27 28 29]]]\n"
      ]
    },
    {
      "cell_type": "markdown",
      "metadata": {
        "id": "mvf7lDL1XPpj"
      },
      "source": [
        "### 나의 답안"
      ]
    },
    {
      "cell_type": "code",
      "metadata": {
        "colab": {
          "base_uri": "https://localhost:8080/"
        },
        "id": "ULMsTSa3Lqi0",
        "outputId": "42b494dc-698e-4acb-fa87-5307bacf3998"
      },
      "source": [
        "# 답\n",
        "arr3d = np.arange(30).reshape(3,2,5)\n",
        "print(arr3d)\n",
        "print(arr3d.flatten())"
      ],
      "execution_count": null,
      "outputs": [
        {
          "output_type": "stream",
          "text": [
            "[[[ 0  1  2  3  4]\n",
            "  [ 5  6  7  8  9]]\n",
            "\n",
            " [[10 11 12 13 14]\n",
            "  [15 16 17 18 19]]\n",
            "\n",
            " [[20 21 22 23 24]\n",
            "  [25 26 27 28 29]]]\n",
            "[ 0  1  2  3  4  5  6  7  8  9 10 11 12 13 14 15 16 17 18 19 20 21 22 23\n",
            " 24 25 26 27 28 29]\n"
          ],
          "name": "stdout"
        }
      ]
    },
    {
      "cell_type": "markdown",
      "metadata": {
        "id": "T_oZZUQoXIJK"
      },
      "source": [
        "### 선생님 답안"
      ]
    },
    {
      "cell_type": "code",
      "metadata": {
        "colab": {
          "base_uri": "https://localhost:8080/"
        },
        "id": "sJt3_0hHXJMe",
        "outputId": "d8a12d0f-af54-4975-8803-4629a824983b"
      },
      "source": [
        "# 답\n",
        "arr3d = np.arange(30).reshape(-1,2,5)\n",
        "print(arr3d)\n",
        "\n",
        "# 일차원 배열로 변환 - flatten\n",
        "print(arr3d.reshape(-1))"
      ],
      "execution_count": null,
      "outputs": [
        {
          "output_type": "stream",
          "text": [
            "[[[ 0  1  2  3  4]\n",
            "  [ 5  6  7  8  9]]\n",
            "\n",
            " [[10 11 12 13 14]\n",
            "  [15 16 17 18 19]]\n",
            "\n",
            " [[20 21 22 23 24]\n",
            "  [25 26 27 28 29]]]\n",
            "[ 0  1  2  3  4  5  6  7  8  9 10 11 12 13 14 15 16 17 18 19 20 21 22 23\n",
            " 24 25 26 27 28 29]\n"
          ],
          "name": "stdout"
        }
      ]
    },
    {
      "cell_type": "markdown",
      "metadata": {
        "id": "wk1SC41fL607"
      },
      "source": [
        "---\n",
        "> ## Q4. array2d에서 인덱스를 이용해서 값을 선택하고 리스트로 아래와 같이 출력하세요.\n",
        "\n",
        "    arr2d = np.arange(1,10).reshape(3,3)\n",
        "    [3, 6]\n",
        "    [[1, 2],\n",
        "    [4, 5]]\n",
        "    [[1, 2, 3]\n",
        "    [4, 5, 6]\n"
      ]
    },
    {
      "cell_type": "code",
      "metadata": {
        "colab": {
          "base_uri": "https://localhost:8080/"
        },
        "id": "LDGSgdusMnuM",
        "outputId": "5cdf2509-5352-45aa-f7c0-310d366b0896"
      },
      "source": [
        "arr2d = np.arange(1,10).reshape(3,3)\n",
        "arr2d"
      ],
      "execution_count": null,
      "outputs": [
        {
          "output_type": "execute_result",
          "data": {
            "text/plain": [
              "array([[1, 2, 3],\n",
              "       [4, 5, 6],\n",
              "       [7, 8, 9]])"
            ]
          },
          "metadata": {},
          "execution_count": 6
        }
      ]
    },
    {
      "cell_type": "markdown",
      "metadata": {
        "id": "DyhbMcj8YDyQ"
      },
      "source": [
        "### 나의 답안"
      ]
    },
    {
      "cell_type": "code",
      "metadata": {
        "colab": {
          "base_uri": "https://localhost:8080/"
        },
        "id": "YrnJpVi0Xz9v",
        "outputId": "0a843efe-afdb-493f-96c7-2c9f01ec81f9"
      },
      "source": [
        "# 답\n",
        "print(arr2d[:2,2])\n",
        "print(arr2d[:2,:2])\n",
        "print(arr2d[:2,:])"
      ],
      "execution_count": null,
      "outputs": [
        {
          "output_type": "stream",
          "text": [
            "[3 6]\n",
            "[[1 2]\n",
            " [4 5]]\n",
            "[[1 2 3]\n",
            " [4 5 6]]\n"
          ],
          "name": "stdout"
        }
      ]
    },
    {
      "cell_type": "markdown",
      "metadata": {
        "id": "jDRhybwwYCSO"
      },
      "source": [
        "### 선생님 답안"
      ]
    },
    {
      "cell_type": "code",
      "metadata": {
        "colab": {
          "base_uri": "https://localhost:8080/"
        },
        "id": "XPPLPKzlM0No",
        "outputId": "d35765b0-38d5-4190-c65d-ff66a6c55782"
      },
      "source": [
        "# 답\n",
        "print(arr2d[0][2], arr2d[1][2])\n",
        "print(arr2d[:2,:2])\n",
        "print(arr2d[:2,:])"
      ],
      "execution_count": null,
      "outputs": [
        {
          "output_type": "stream",
          "text": [
            "3 6\n",
            "[[1 2]\n",
            " [4 5]]\n",
            "[[1 2 3]\n",
            " [4 5 6]]\n"
          ],
          "name": "stdout"
        }
      ]
    },
    {
      "cell_type": "markdown",
      "metadata": {
        "id": "EWn71bj6NBIs"
      },
      "source": [
        "---\n",
        "\n",
        "> ## Q5. 아래 두행렬을 np.arange, reshape를 이용해서 생성 각각 a1, b1으로 저장하고 행렬 내적을 계산한 결과를 출력하세요\n",
        "\n",
        "    [[1 2 3]\n",
        "    [4 5 6]\n",
        "    [7 8 9]]\n",
        "    [[10 11]\n",
        "    [12 13]\n",
        "    [14 15]]\n"
      ]
    },
    {
      "cell_type": "markdown",
      "metadata": {
        "id": "8wALVILYYKku"
      },
      "source": [
        "### 나의 답안"
      ]
    },
    {
      "cell_type": "code",
      "metadata": {
        "colab": {
          "base_uri": "https://localhost:8080/"
        },
        "id": "wWWohKX8NV9i",
        "outputId": "812ed9de-8f0e-4a33-8ba2-b7391f463275"
      },
      "source": [
        "# 답\n",
        "a1 = np.arange(1,10).reshape(3,3)\n",
        "b1 = np.arange(10,16).reshape(3,2)\n",
        "# 내적 행렬\n",
        "a1.dot(b1)"
      ],
      "execution_count": null,
      "outputs": [
        {
          "output_type": "execute_result",
          "data": {
            "text/plain": [
              "array([[ 76,  82],\n",
              "       [184, 199],\n",
              "       [292, 316]])"
            ]
          },
          "metadata": {
            "tags": []
          },
          "execution_count": 29
        }
      ]
    },
    {
      "cell_type": "markdown",
      "metadata": {
        "id": "11YJmcuWYKku"
      },
      "source": [
        "### 선생님 답안"
      ]
    },
    {
      "cell_type": "code",
      "metadata": {
        "colab": {
          "base_uri": "https://localhost:8080/"
        },
        "id": "OS0Xvxt9YmFn",
        "outputId": "7cf190cd-89ef-4502-e20b-548efde032e3"
      },
      "source": [
        "# 답\n",
        "a1 = np.arange(1,10).reshape(3,3)\n",
        "b1 = np.arange(10,16).reshape(3,2)\n",
        "print(a1)\n",
        "print(b1)\n",
        "\n",
        "# 내적은 dot\n",
        "a1.dot(b1)"
      ],
      "execution_count": null,
      "outputs": [
        {
          "output_type": "stream",
          "text": [
            "[[1 2 3]\n",
            " [4 5 6]\n",
            " [7 8 9]]\n",
            "[[10 11]\n",
            " [12 13]\n",
            " [14 15]]\n"
          ],
          "name": "stdout"
        },
        {
          "output_type": "execute_result",
          "data": {
            "text/plain": [
              "array([[ 76,  82],\n",
              "       [184, 199],\n",
              "       [292, 316]])"
            ]
          },
          "metadata": {},
          "execution_count": 9
        }
      ]
    },
    {
      "cell_type": "markdown",
      "metadata": {
        "id": "DNpe4PWfNg1m"
      },
      "source": [
        "---\n",
        "> ## Q6. [[1,2,3],[11,12,13]] 리스트와 array([[ 1, 2, 3],[11, 12, 13]]) 배열을 대입하고 컬럼명을 'col1','col2','col3'으로 하는 데이터프레임을 작성하세요\n"
      ]
    },
    {
      "cell_type": "markdown",
      "metadata": {
        "id": "wmgxFDwrYK-w"
      },
      "source": [
        "### 나의 답안"
      ]
    },
    {
      "cell_type": "code",
      "metadata": {
        "colab": {
          "base_uri": "https://localhost:8080/",
          "height": 171
        },
        "id": "I96z_tfpN8Ds",
        "outputId": "e294dd19-075b-4b2f-b134-e8f6cb942ba0"
      },
      "source": [
        "# 답\n",
        "# 리스트\n",
        "list1 = [[1,2,3],[11,12,13]]\n",
        "array2 = np.array(list1)\n",
        "columns =['col1','col2','col3']\n",
        "newArr = pd.concat([pd.DataFrame(list1),pd.DataFrame(array2)])\n",
        "newArr.rename(columns={0:'col1',1:'col2',2:'col3'},inplace=True)\n",
        "newArr"
      ],
      "execution_count": null,
      "outputs": [
        {
          "output_type": "execute_result",
          "data": {
            "text/html": [
              "<div>\n",
              "<style scoped>\n",
              "    .dataframe tbody tr th:only-of-type {\n",
              "        vertical-align: middle;\n",
              "    }\n",
              "\n",
              "    .dataframe tbody tr th {\n",
              "        vertical-align: top;\n",
              "    }\n",
              "\n",
              "    .dataframe thead th {\n",
              "        text-align: right;\n",
              "    }\n",
              "</style>\n",
              "<table border=\"1\" class=\"dataframe\">\n",
              "  <thead>\n",
              "    <tr style=\"text-align: right;\">\n",
              "      <th></th>\n",
              "      <th>col1</th>\n",
              "      <th>col2</th>\n",
              "      <th>col3</th>\n",
              "    </tr>\n",
              "  </thead>\n",
              "  <tbody>\n",
              "    <tr>\n",
              "      <th>0</th>\n",
              "      <td>1</td>\n",
              "      <td>2</td>\n",
              "      <td>3</td>\n",
              "    </tr>\n",
              "    <tr>\n",
              "      <th>1</th>\n",
              "      <td>11</td>\n",
              "      <td>12</td>\n",
              "      <td>13</td>\n",
              "    </tr>\n",
              "    <tr>\n",
              "      <th>0</th>\n",
              "      <td>1</td>\n",
              "      <td>2</td>\n",
              "      <td>3</td>\n",
              "    </tr>\n",
              "    <tr>\n",
              "      <th>1</th>\n",
              "      <td>11</td>\n",
              "      <td>12</td>\n",
              "      <td>13</td>\n",
              "    </tr>\n",
              "  </tbody>\n",
              "</table>\n",
              "</div>"
            ],
            "text/plain": [
              "   col1  col2  col3\n",
              "0     1     2     3\n",
              "1    11    12    13\n",
              "0     1     2     3\n",
              "1    11    12    13"
            ]
          },
          "metadata": {
            "tags": []
          },
          "execution_count": 356
        }
      ]
    },
    {
      "cell_type": "markdown",
      "metadata": {
        "id": "k0Plw8fWYK-w"
      },
      "source": [
        "### 선생님 답안"
      ]
    },
    {
      "cell_type": "code",
      "metadata": {
        "colab": {
          "base_uri": "https://localhost:8080/",
          "height": 241
        },
        "id": "qZaceVw-Z0GP",
        "outputId": "b58da3dc-f495-4f25-8664-3bcae5c4c57c"
      },
      "source": [
        "# 답\n",
        "# 리스트\n",
        "list_a = [[1,2,3],[11,12,13]]\n",
        "ar = np.array(list_a)\n",
        "columns =['col1','col2','col3']\n",
        "df1 = pd.concat(list_a, columns=columns)\n",
        "df2 = pd.concat(ar, columns=columns)\n",
        "\n",
        "df2.rename(columns={0:'col1',1:'col2',2:'col3'},inplace=True)\n",
        "df2"
      ],
      "execution_count": null,
      "outputs": [
        {
          "output_type": "error",
          "ename": "TypeError",
          "evalue": "ignored",
          "traceback": [
            "\u001b[0;31m---------------------------------------------------------------------------\u001b[0m",
            "\u001b[0;31mTypeError\u001b[0m                                 Traceback (most recent call last)",
            "\u001b[0;32m<ipython-input-11-2c69e13475d3>\u001b[0m in \u001b[0;36m<module>\u001b[0;34m()\u001b[0m\n\u001b[1;32m      4\u001b[0m \u001b[0mar\u001b[0m \u001b[0;34m=\u001b[0m \u001b[0mnp\u001b[0m\u001b[0;34m.\u001b[0m\u001b[0marray\u001b[0m\u001b[0;34m(\u001b[0m\u001b[0mlist_a\u001b[0m\u001b[0;34m)\u001b[0m\u001b[0;34m\u001b[0m\u001b[0;34m\u001b[0m\u001b[0m\n\u001b[1;32m      5\u001b[0m \u001b[0mcolumns\u001b[0m \u001b[0;34m=\u001b[0m\u001b[0;34m[\u001b[0m\u001b[0;34m'col1'\u001b[0m\u001b[0;34m,\u001b[0m\u001b[0;34m'col2'\u001b[0m\u001b[0;34m,\u001b[0m\u001b[0;34m'col3'\u001b[0m\u001b[0;34m]\u001b[0m\u001b[0;34m\u001b[0m\u001b[0;34m\u001b[0m\u001b[0m\n\u001b[0;32m----> 6\u001b[0;31m \u001b[0mdf1\u001b[0m \u001b[0;34m=\u001b[0m \u001b[0mpd\u001b[0m\u001b[0;34m.\u001b[0m\u001b[0mconcat\u001b[0m\u001b[0;34m(\u001b[0m\u001b[0mlist_a\u001b[0m\u001b[0;34m,\u001b[0m \u001b[0mcolumns\u001b[0m\u001b[0;34m=\u001b[0m\u001b[0mcolumns\u001b[0m\u001b[0;34m)\u001b[0m\u001b[0;34m\u001b[0m\u001b[0;34m\u001b[0m\u001b[0m\n\u001b[0m\u001b[1;32m      7\u001b[0m \u001b[0mdf2\u001b[0m \u001b[0;34m=\u001b[0m \u001b[0mpd\u001b[0m\u001b[0;34m.\u001b[0m\u001b[0mconcat\u001b[0m\u001b[0;34m(\u001b[0m\u001b[0mar\u001b[0m\u001b[0;34m,\u001b[0m \u001b[0mcolumns\u001b[0m\u001b[0;34m=\u001b[0m\u001b[0mcolumns\u001b[0m\u001b[0;34m)\u001b[0m\u001b[0;34m\u001b[0m\u001b[0;34m\u001b[0m\u001b[0m\n\u001b[1;32m      8\u001b[0m \u001b[0;34m\u001b[0m\u001b[0m\n",
            "\u001b[0;31mTypeError\u001b[0m: concat() got an unexpected keyword argument 'columns'"
          ]
        }
      ]
    },
    {
      "cell_type": "markdown",
      "metadata": {
        "id": "mHbYEoD5ONVE"
      },
      "source": [
        "---\n",
        "> ## Q7. 10 ~ 20 사이의 정수 난수로 10행 5열 2차원 행렬을 생성하고 컬럼명이 A B C D E인 데이터프레임을 작성하세요\n"
      ]
    },
    {
      "cell_type": "markdown",
      "metadata": {
        "id": "fTApQ6M_YLVe"
      },
      "source": [
        "### 나의 답안"
      ]
    },
    {
      "cell_type": "code",
      "metadata": {
        "colab": {
          "base_uri": "https://localhost:8080/",
          "height": 355
        },
        "id": "T-v0tw85OfF4",
        "outputId": "d7040d9b-7b70-454b-d8c8-e5a766d059b5"
      },
      "source": [
        "# 답\n",
        "rArr = np.random.randint(10, 20, size=(10, 5))\n",
        "pd.DataFrame(rArr, columns=['A','B','C','D','E'])"
      ],
      "execution_count": null,
      "outputs": [
        {
          "output_type": "execute_result",
          "data": {
            "text/html": [
              "<div>\n",
              "<style scoped>\n",
              "    .dataframe tbody tr th:only-of-type {\n",
              "        vertical-align: middle;\n",
              "    }\n",
              "\n",
              "    .dataframe tbody tr th {\n",
              "        vertical-align: top;\n",
              "    }\n",
              "\n",
              "    .dataframe thead th {\n",
              "        text-align: right;\n",
              "    }\n",
              "</style>\n",
              "<table border=\"1\" class=\"dataframe\">\n",
              "  <thead>\n",
              "    <tr style=\"text-align: right;\">\n",
              "      <th></th>\n",
              "      <th>A</th>\n",
              "      <th>B</th>\n",
              "      <th>C</th>\n",
              "      <th>D</th>\n",
              "      <th>E</th>\n",
              "    </tr>\n",
              "  </thead>\n",
              "  <tbody>\n",
              "    <tr>\n",
              "      <th>0</th>\n",
              "      <td>17</td>\n",
              "      <td>11</td>\n",
              "      <td>14</td>\n",
              "      <td>10</td>\n",
              "      <td>14</td>\n",
              "    </tr>\n",
              "    <tr>\n",
              "      <th>1</th>\n",
              "      <td>16</td>\n",
              "      <td>16</td>\n",
              "      <td>17</td>\n",
              "      <td>13</td>\n",
              "      <td>16</td>\n",
              "    </tr>\n",
              "    <tr>\n",
              "      <th>2</th>\n",
              "      <td>15</td>\n",
              "      <td>10</td>\n",
              "      <td>16</td>\n",
              "      <td>10</td>\n",
              "      <td>10</td>\n",
              "    </tr>\n",
              "    <tr>\n",
              "      <th>3</th>\n",
              "      <td>13</td>\n",
              "      <td>16</td>\n",
              "      <td>12</td>\n",
              "      <td>11</td>\n",
              "      <td>17</td>\n",
              "    </tr>\n",
              "    <tr>\n",
              "      <th>4</th>\n",
              "      <td>13</td>\n",
              "      <td>15</td>\n",
              "      <td>17</td>\n",
              "      <td>17</td>\n",
              "      <td>11</td>\n",
              "    </tr>\n",
              "    <tr>\n",
              "      <th>5</th>\n",
              "      <td>18</td>\n",
              "      <td>10</td>\n",
              "      <td>12</td>\n",
              "      <td>17</td>\n",
              "      <td>14</td>\n",
              "    </tr>\n",
              "    <tr>\n",
              "      <th>6</th>\n",
              "      <td>14</td>\n",
              "      <td>13</td>\n",
              "      <td>11</td>\n",
              "      <td>14</td>\n",
              "      <td>15</td>\n",
              "    </tr>\n",
              "    <tr>\n",
              "      <th>7</th>\n",
              "      <td>14</td>\n",
              "      <td>15</td>\n",
              "      <td>11</td>\n",
              "      <td>17</td>\n",
              "      <td>18</td>\n",
              "    </tr>\n",
              "    <tr>\n",
              "      <th>8</th>\n",
              "      <td>18</td>\n",
              "      <td>10</td>\n",
              "      <td>10</td>\n",
              "      <td>12</td>\n",
              "      <td>19</td>\n",
              "    </tr>\n",
              "    <tr>\n",
              "      <th>9</th>\n",
              "      <td>18</td>\n",
              "      <td>19</td>\n",
              "      <td>19</td>\n",
              "      <td>16</td>\n",
              "      <td>14</td>\n",
              "    </tr>\n",
              "  </tbody>\n",
              "</table>\n",
              "</div>"
            ],
            "text/plain": [
              "    A   B   C   D   E\n",
              "0  17  11  14  10  14\n",
              "1  16  16  17  13  16\n",
              "2  15  10  16  10  10\n",
              "3  13  16  12  11  17\n",
              "4  13  15  17  17  11\n",
              "5  18  10  12  17  14\n",
              "6  14  13  11  14  15\n",
              "7  14  15  11  17  18\n",
              "8  18  10  10  12  19\n",
              "9  18  19  19  16  14"
            ]
          },
          "metadata": {
            "tags": []
          },
          "execution_count": 41
        }
      ]
    },
    {
      "cell_type": "markdown",
      "metadata": {
        "id": "Cot99NHsYLVf"
      },
      "source": [
        "### 선생님 답안"
      ]
    },
    {
      "cell_type": "code",
      "metadata": {
        "colab": {
          "base_uri": "https://localhost:8080/"
        },
        "id": "nwvW90ahaPfG",
        "outputId": "2b47b176-1c25-4931-f491-1716db24a065"
      },
      "source": [
        "# 답\n",
        "ar = np.random.randint(10, 20, size=(10, 5))\n",
        "print(ar)\n",
        "columns = ['A', 'B', 'C','D','E']\n",
        "df = pd.DataFrame(data=ar, columns=columns)"
      ],
      "execution_count": null,
      "outputs": [
        {
          "output_type": "stream",
          "text": [
            "[[19 14 19 16 10]\n",
            " [19 18 19 17 14]\n",
            " [15 15 16 13 12]\n",
            " [15 12 12 13 15]\n",
            " [11 10 10 12 16]\n",
            " [11 13 16 16 14]\n",
            " [16 17 17 13 10]\n",
            " [10 17 18 17 16]\n",
            " [16 17 18 12 19]\n",
            " [14 19 15 13 19]]\n"
          ],
          "name": "stdout"
        }
      ]
    },
    {
      "cell_type": "markdown",
      "metadata": {
        "id": "IIth6YVxOrg6"
      },
      "source": [
        "---\n",
        "> ## Q8. df = sns.load_dataset('titanic')로 불러와서 다음 작업을 수행한 후 출력하세요.\n",
        "- 전체 칼럼중 'survived'외에 모든 칼럼을 포함한 df_x를 산출한 후 dataset/df_x.pkl로 저장한다.\n",
        "- df_x.pkl을 데이터프레임 df_x 이름으로 불러온 후 앞 5개 행을 출력한다."
      ]
    },
    {
      "cell_type": "markdown",
      "metadata": {
        "id": "YL3LoywlYLpn"
      },
      "source": [
        "### 나의 답안"
      ]
    },
    {
      "cell_type": "code",
      "metadata": {
        "colab": {
          "base_uri": "https://localhost:8080/",
          "height": 200
        },
        "id": "oRgrGsncPZT_",
        "outputId": "b599df86-dd79-4169-f71f-80aa89e18580"
      },
      "source": [
        "df = sns.load_dataset('titanic')\n",
        "df_x = df.drop(labels='survived', axis=1)\n",
        "\n",
        "df_x.to_pickle(\"/dataset/df_x.pkl\")\n",
        "\n",
        "df_x2 = pd.read_pickle(\"/dataset/df_x.pkl\")\n",
        "df_x2.head(5)"
      ],
      "execution_count": null,
      "outputs": [
        {
          "output_type": "execute_result",
          "data": {
            "text/html": [
              "<div>\n",
              "<style scoped>\n",
              "    .dataframe tbody tr th:only-of-type {\n",
              "        vertical-align: middle;\n",
              "    }\n",
              "\n",
              "    .dataframe tbody tr th {\n",
              "        vertical-align: top;\n",
              "    }\n",
              "\n",
              "    .dataframe thead th {\n",
              "        text-align: right;\n",
              "    }\n",
              "</style>\n",
              "<table border=\"1\" class=\"dataframe\">\n",
              "  <thead>\n",
              "    <tr style=\"text-align: right;\">\n",
              "      <th></th>\n",
              "      <th>pclass</th>\n",
              "      <th>sex</th>\n",
              "      <th>age</th>\n",
              "      <th>sibsp</th>\n",
              "      <th>parch</th>\n",
              "      <th>fare</th>\n",
              "      <th>embarked</th>\n",
              "      <th>class</th>\n",
              "      <th>who</th>\n",
              "      <th>adult_male</th>\n",
              "      <th>deck</th>\n",
              "      <th>embark_town</th>\n",
              "      <th>alive</th>\n",
              "      <th>alone</th>\n",
              "    </tr>\n",
              "  </thead>\n",
              "  <tbody>\n",
              "    <tr>\n",
              "      <th>0</th>\n",
              "      <td>3</td>\n",
              "      <td>male</td>\n",
              "      <td>22.0</td>\n",
              "      <td>1</td>\n",
              "      <td>0</td>\n",
              "      <td>7.2500</td>\n",
              "      <td>S</td>\n",
              "      <td>Third</td>\n",
              "      <td>man</td>\n",
              "      <td>True</td>\n",
              "      <td>NaN</td>\n",
              "      <td>Southampton</td>\n",
              "      <td>no</td>\n",
              "      <td>False</td>\n",
              "    </tr>\n",
              "    <tr>\n",
              "      <th>1</th>\n",
              "      <td>1</td>\n",
              "      <td>female</td>\n",
              "      <td>38.0</td>\n",
              "      <td>1</td>\n",
              "      <td>0</td>\n",
              "      <td>71.2833</td>\n",
              "      <td>C</td>\n",
              "      <td>First</td>\n",
              "      <td>woman</td>\n",
              "      <td>False</td>\n",
              "      <td>C</td>\n",
              "      <td>Cherbourg</td>\n",
              "      <td>yes</td>\n",
              "      <td>False</td>\n",
              "    </tr>\n",
              "    <tr>\n",
              "      <th>2</th>\n",
              "      <td>3</td>\n",
              "      <td>female</td>\n",
              "      <td>26.0</td>\n",
              "      <td>0</td>\n",
              "      <td>0</td>\n",
              "      <td>7.9250</td>\n",
              "      <td>S</td>\n",
              "      <td>Third</td>\n",
              "      <td>woman</td>\n",
              "      <td>False</td>\n",
              "      <td>NaN</td>\n",
              "      <td>Southampton</td>\n",
              "      <td>yes</td>\n",
              "      <td>True</td>\n",
              "    </tr>\n",
              "    <tr>\n",
              "      <th>3</th>\n",
              "      <td>1</td>\n",
              "      <td>female</td>\n",
              "      <td>35.0</td>\n",
              "      <td>1</td>\n",
              "      <td>0</td>\n",
              "      <td>53.1000</td>\n",
              "      <td>S</td>\n",
              "      <td>First</td>\n",
              "      <td>woman</td>\n",
              "      <td>False</td>\n",
              "      <td>C</td>\n",
              "      <td>Southampton</td>\n",
              "      <td>yes</td>\n",
              "      <td>False</td>\n",
              "    </tr>\n",
              "    <tr>\n",
              "      <th>4</th>\n",
              "      <td>3</td>\n",
              "      <td>male</td>\n",
              "      <td>35.0</td>\n",
              "      <td>0</td>\n",
              "      <td>0</td>\n",
              "      <td>8.0500</td>\n",
              "      <td>S</td>\n",
              "      <td>Third</td>\n",
              "      <td>man</td>\n",
              "      <td>True</td>\n",
              "      <td>NaN</td>\n",
              "      <td>Southampton</td>\n",
              "      <td>no</td>\n",
              "      <td>True</td>\n",
              "    </tr>\n",
              "  </tbody>\n",
              "</table>\n",
              "</div>"
            ],
            "text/plain": [
              "   pclass     sex   age  sibsp  ...  deck  embark_town alive  alone\n",
              "0       3    male  22.0      1  ...   NaN  Southampton    no  False\n",
              "1       1  female  38.0      1  ...     C    Cherbourg   yes  False\n",
              "2       3  female  26.0      0  ...   NaN  Southampton   yes   True\n",
              "3       1  female  35.0      1  ...     C  Southampton   yes  False\n",
              "4       3    male  35.0      0  ...   NaN  Southampton    no   True\n",
              "\n",
              "[5 rows x 14 columns]"
            ]
          },
          "metadata": {
            "tags": []
          },
          "execution_count": 56
        }
      ]
    },
    {
      "cell_type": "markdown",
      "metadata": {
        "id": "vdNo4uOVYLpn"
      },
      "source": [
        "### 선생님 답안\n",
        "- pickle.으로 해도 되고 to_pickle로 해도 됩니다"
      ]
    },
    {
      "cell_type": "code",
      "metadata": {
        "colab": {
          "base_uri": "https://localhost:8080/"
        },
        "id": "QItO9QiOa53-",
        "outputId": "e7d1091a-8c07-4d91-821d-f3e60e0a4a4b"
      },
      "source": [
        "df = sns.load_dataset('titanic')\n",
        "columns_list = df.columns.to_list()\n",
        "print(columns_list)\n",
        "columns_list.remove('survived')\n",
        "df1 = pd.DataFrame(data=df, columns=columns_list)\n",
        "df1\n",
        "import pickle\n",
        "with open('df_x_plt', 'wb') as f:\n",
        "    pickle.dump(df1, f)\n",
        "\n",
        "with open('df_x_plt', 'rb') as f:\n",
        "    df_x = pickle.load(f)\n",
        "    print(df_x.head(5))\n",
        "\n"
      ],
      "execution_count": null,
      "outputs": [
        {
          "output_type": "stream",
          "text": [
            "['survived', 'pclass', 'sex', 'age', 'sibsp', 'parch', 'fare', 'embarked', 'class', 'who', 'adult_male', 'deck', 'embark_town', 'alive', 'alone']\n",
            "   pclass     sex   age  sibsp  ...  deck  embark_town alive  alone\n",
            "0       3    male  22.0      1  ...   NaN  Southampton    no  False\n",
            "1       1  female  38.0      1  ...     C    Cherbourg   yes  False\n",
            "2       3  female  26.0      0  ...   NaN  Southampton   yes   True\n",
            "3       1  female  35.0      1  ...     C  Southampton   yes  False\n",
            "4       3    male  35.0      0  ...   NaN  Southampton    no   True\n",
            "\n",
            "[5 rows x 14 columns]\n"
          ],
          "name": "stdout"
        }
      ]
    },
    {
      "cell_type": "code",
      "metadata": {
        "id": "h0-N21BEcPhw"
      },
      "source": [
        "df = sns.load_dataset('titanic')\n",
        "# 컬럼 삭제\n",
        "df_x = df.drop(labels='survived', axis=1)\n",
        "\n",
        "# dataframe파일로 저장\n",
        "df_x.to_pickle(\"/dataset/df_x.pkl\")\n",
        "# dataframe파일 불러오기\n",
        "df_x2 = pd.read_pickle(\"/dataset/df_x.pkl\")\n",
        "df_x2.head(5)"
      ],
      "execution_count": null,
      "outputs": []
    },
    {
      "cell_type": "markdown",
      "metadata": {
        "id": "GWf3AJzaPwx-"
      },
      "source": [
        "---\n",
        "> ## Q9. df = sns.load_dataset('titanic')로 불러와서 deck 열에서 NaN 갯수를 계산하세요."
      ]
    },
    {
      "cell_type": "markdown",
      "metadata": {
        "id": "_A61yycVYMBV"
      },
      "source": [
        "### 나의 답안"
      ]
    },
    {
      "cell_type": "code",
      "metadata": {
        "colab": {
          "base_uri": "https://localhost:8080/"
        },
        "id": "YmpLM5SIc_ZZ",
        "outputId": "3f6c692d-191c-4e8b-d64a-6eda494e5bd8"
      },
      "source": [
        "df = sns.load_dataset('titanic')\n",
        "df['deck'].isnull().sum()"
      ],
      "execution_count": null,
      "outputs": [
        {
          "output_type": "execute_result",
          "data": {
            "text/plain": [
              "688"
            ]
          },
          "metadata": {},
          "execution_count": 24
        }
      ]
    },
    {
      "cell_type": "markdown",
      "metadata": {
        "id": "PaFKbWlpYMBV"
      },
      "source": [
        "### 선생님 답안"
      ]
    },
    {
      "cell_type": "code",
      "metadata": {
        "colab": {
          "base_uri": "https://localhost:8080/"
        },
        "id": "FxNX7y9EP5OG",
        "outputId": "8217f8cb-db8a-4f9d-e40d-0b7edc2d099f"
      },
      "source": [
        "df = sns.load_dataset('titanic')\n",
        "df['deck'].isnull().sum()"
      ],
      "execution_count": null,
      "outputs": [
        {
          "output_type": "execute_result",
          "data": {
            "text/plain": [
              "688"
            ]
          },
          "metadata": {
            "tags": []
          },
          "execution_count": 58
        }
      ]
    },
    {
      "cell_type": "markdown",
      "metadata": {
        "id": "LDHhPoDlQ9Vj"
      },
      "source": [
        "---\n",
        "> ## Q10. Q9의 df에서 각 칼럼별 null 개수와 df 전체의 null 개수를 구하세요."
      ]
    },
    {
      "cell_type": "markdown",
      "metadata": {
        "id": "n2UUyfdAYMX9"
      },
      "source": [
        "### 나의 답안"
      ]
    },
    {
      "cell_type": "code",
      "metadata": {
        "colab": {
          "base_uri": "https://localhost:8080/"
        },
        "id": "vfI2woA9R6z2",
        "outputId": "6d054a18-e552-4ec6-9cc3-900e0818fdb1"
      },
      "source": [
        "df.isnull().sum()"
      ],
      "execution_count": null,
      "outputs": [
        {
          "output_type": "execute_result",
          "data": {
            "text/plain": [
              "survived         0\n",
              "pclass           0\n",
              "sex              0\n",
              "age            177\n",
              "sibsp            0\n",
              "parch            0\n",
              "fare             0\n",
              "embarked         2\n",
              "class            0\n",
              "who              0\n",
              "adult_male       0\n",
              "deck           688\n",
              "embark_town      2\n",
              "alive            0\n",
              "alone            0\n",
              "dtype: int64"
            ]
          },
          "metadata": {},
          "execution_count": 28
        }
      ]
    },
    {
      "cell_type": "markdown",
      "metadata": {
        "id": "Chr-kuYcYMX-"
      },
      "source": [
        "### 선생님 답안"
      ]
    },
    {
      "cell_type": "code",
      "metadata": {
        "colab": {
          "base_uri": "https://localhost:8080/"
        },
        "id": "kYk5E993dVOh",
        "outputId": "7423d453-b0e6-47da-85a2-688a44373914"
      },
      "source": [
        "print(df.isnull().sum())"
      ],
      "execution_count": null,
      "outputs": [
        {
          "output_type": "stream",
          "text": [
            "survived         0\n",
            "pclass           0\n",
            "sex              0\n",
            "age            177\n",
            "sibsp            0\n",
            "parch            0\n",
            "fare             0\n",
            "embarked         2\n",
            "class            0\n",
            "who              0\n",
            "adult_male       0\n",
            "deck           688\n",
            "embark_town      2\n",
            "alive            0\n",
            "alone            0\n",
            "dtype: int64\n"
          ],
          "name": "stdout"
        }
      ]
    },
    {
      "cell_type": "markdown",
      "metadata": {
        "id": "K1TuSKUbSA_a"
      },
      "source": [
        "> ## 아래 tdf 데이터프레임에서 Q11 ~ Q12 작업을 수행하세요."
      ]
    },
    {
      "cell_type": "code",
      "metadata": {
        "colab": {
          "base_uri": "https://localhost:8080/",
          "height": 200
        },
        "id": "D8c7ZcmqSOl6",
        "outputId": "a0734905-d281-4e9d-e8e6-a06cec5c506c"
      },
      "source": [
        "import seaborn as sns\n",
        "df = sns.load_dataset('titanic')\n",
        "tdf = df[['survived','sex','age','class']]\n",
        "tdf.head()"
      ],
      "execution_count": null,
      "outputs": [
        {
          "output_type": "execute_result",
          "data": {
            "text/html": [
              "<div>\n",
              "<style scoped>\n",
              "    .dataframe tbody tr th:only-of-type {\n",
              "        vertical-align: middle;\n",
              "    }\n",
              "\n",
              "    .dataframe tbody tr th {\n",
              "        vertical-align: top;\n",
              "    }\n",
              "\n",
              "    .dataframe thead th {\n",
              "        text-align: right;\n",
              "    }\n",
              "</style>\n",
              "<table border=\"1\" class=\"dataframe\">\n",
              "  <thead>\n",
              "    <tr style=\"text-align: right;\">\n",
              "      <th></th>\n",
              "      <th>survived</th>\n",
              "      <th>sex</th>\n",
              "      <th>age</th>\n",
              "      <th>class</th>\n",
              "    </tr>\n",
              "  </thead>\n",
              "  <tbody>\n",
              "    <tr>\n",
              "      <th>0</th>\n",
              "      <td>0</td>\n",
              "      <td>male</td>\n",
              "      <td>22.0</td>\n",
              "      <td>Third</td>\n",
              "    </tr>\n",
              "    <tr>\n",
              "      <th>1</th>\n",
              "      <td>1</td>\n",
              "      <td>female</td>\n",
              "      <td>38.0</td>\n",
              "      <td>First</td>\n",
              "    </tr>\n",
              "    <tr>\n",
              "      <th>2</th>\n",
              "      <td>1</td>\n",
              "      <td>female</td>\n",
              "      <td>26.0</td>\n",
              "      <td>Third</td>\n",
              "    </tr>\n",
              "    <tr>\n",
              "      <th>3</th>\n",
              "      <td>1</td>\n",
              "      <td>female</td>\n",
              "      <td>35.0</td>\n",
              "      <td>First</td>\n",
              "    </tr>\n",
              "    <tr>\n",
              "      <th>4</th>\n",
              "      <td>0</td>\n",
              "      <td>male</td>\n",
              "      <td>35.0</td>\n",
              "      <td>Third</td>\n",
              "    </tr>\n",
              "  </tbody>\n",
              "</table>\n",
              "</div>"
            ],
            "text/plain": [
              "   survived     sex   age  class\n",
              "0         0    male  22.0  Third\n",
              "1         1  female  38.0  First\n",
              "2         1  female  26.0  Third\n",
              "3         1  female  35.0  First\n",
              "4         0    male  35.0  Third"
            ]
          },
          "metadata": {
            "tags": []
          },
          "execution_count": 154
        }
      ]
    },
    {
      "cell_type": "markdown",
      "metadata": {
        "id": "CUrqnIz_SHgU"
      },
      "source": [
        "---\n",
        "> ## Q11. age를 7개 카테고리로 구분하는 새로운 칼럼 'cat_age'를 생성하여 출력하세요.\n",
        "단, 카테고리 구분을 수행하는 사용자 함수를 만들고 그 함수를 age 칼럼에 매핑하여 결\n",
        "과를 tdf1에 저장하고 출력하세요.\n",
        "\n",
        "    [카테고리]\n",
        "    age <= 5: cat = 'Baby'\n",
        "    age <= 12: cat = 'Child'\n",
        "    age <= 18: cat = 'Teenager'\n",
        "    age <= 25: cat = 'Student'\n",
        "    age <= 60: cat = 'Adult'\n",
        "    age > 60 : cat = 'Elderly'"
      ]
    },
    {
      "cell_type": "markdown",
      "metadata": {
        "id": "Sc35leKSYNuN"
      },
      "source": [
        "### 나의 답안"
      ]
    },
    {
      "cell_type": "code",
      "metadata": {
        "colab": {
          "base_uri": "https://localhost:8080/",
          "height": 408
        },
        "id": "hNMLmgh_SMZV",
        "outputId": "e56dbc53-1bce-4cd7-848d-a3a98cba02d4"
      },
      "source": [
        "import math\n",
        "def ageCategorical(age):\n",
        "    cat = 'Elderly'\n",
        "    if math.isnan(age):\n",
        "        cat = np.nan\n",
        "    else :         \n",
        "        age = int(age)\n",
        "        if age <= 5: \n",
        "            cat = 'Baby'\n",
        "        elif age > 5 and age <= 12: \n",
        "            cat = 'Child'\n",
        "        elif age > 12 and age <= 18:\n",
        "            cat = 'Teenager'\n",
        "        elif age > 18 and age <= 25: \n",
        "            cat = 'Student'\n",
        "        elif age > 25 and age <= 60: \n",
        "            cat = 'Adult'\n",
        "        elif age > 60:\n",
        "            cat = 'Elderly'\n",
        "    return cat\n",
        "\n",
        "tdf1= tdf.copy()\n",
        "tdf1['age_cat'] = tdf1['age'].apply(ageCategorical)\n",
        "tdf1['age_cat'] = pd.Categorical(tdf1['age_cat'], categories=bins, ordered=False)\n",
        "tdf1"
      ],
      "execution_count": null,
      "outputs": [
        {
          "output_type": "execute_result",
          "data": {
            "text/html": [
              "<div>\n",
              "<style scoped>\n",
              "    .dataframe tbody tr th:only-of-type {\n",
              "        vertical-align: middle;\n",
              "    }\n",
              "\n",
              "    .dataframe tbody tr th {\n",
              "        vertical-align: top;\n",
              "    }\n",
              "\n",
              "    .dataframe thead th {\n",
              "        text-align: right;\n",
              "    }\n",
              "</style>\n",
              "<table border=\"1\" class=\"dataframe\">\n",
              "  <thead>\n",
              "    <tr style=\"text-align: right;\">\n",
              "      <th></th>\n",
              "      <th>survived</th>\n",
              "      <th>sex</th>\n",
              "      <th>age</th>\n",
              "      <th>class</th>\n",
              "      <th>age_cat</th>\n",
              "    </tr>\n",
              "  </thead>\n",
              "  <tbody>\n",
              "    <tr>\n",
              "      <th>0</th>\n",
              "      <td>0</td>\n",
              "      <td>male</td>\n",
              "      <td>22.0</td>\n",
              "      <td>Third</td>\n",
              "      <td>Student</td>\n",
              "    </tr>\n",
              "    <tr>\n",
              "      <th>1</th>\n",
              "      <td>1</td>\n",
              "      <td>female</td>\n",
              "      <td>38.0</td>\n",
              "      <td>First</td>\n",
              "      <td>Adult</td>\n",
              "    </tr>\n",
              "    <tr>\n",
              "      <th>2</th>\n",
              "      <td>1</td>\n",
              "      <td>female</td>\n",
              "      <td>26.0</td>\n",
              "      <td>Third</td>\n",
              "      <td>Adult</td>\n",
              "    </tr>\n",
              "    <tr>\n",
              "      <th>3</th>\n",
              "      <td>1</td>\n",
              "      <td>female</td>\n",
              "      <td>35.0</td>\n",
              "      <td>First</td>\n",
              "      <td>Adult</td>\n",
              "    </tr>\n",
              "    <tr>\n",
              "      <th>4</th>\n",
              "      <td>0</td>\n",
              "      <td>male</td>\n",
              "      <td>35.0</td>\n",
              "      <td>Third</td>\n",
              "      <td>Adult</td>\n",
              "    </tr>\n",
              "    <tr>\n",
              "      <th>...</th>\n",
              "      <td>...</td>\n",
              "      <td>...</td>\n",
              "      <td>...</td>\n",
              "      <td>...</td>\n",
              "      <td>...</td>\n",
              "    </tr>\n",
              "    <tr>\n",
              "      <th>886</th>\n",
              "      <td>0</td>\n",
              "      <td>male</td>\n",
              "      <td>27.0</td>\n",
              "      <td>Second</td>\n",
              "      <td>Adult</td>\n",
              "    </tr>\n",
              "    <tr>\n",
              "      <th>887</th>\n",
              "      <td>1</td>\n",
              "      <td>female</td>\n",
              "      <td>19.0</td>\n",
              "      <td>First</td>\n",
              "      <td>Student</td>\n",
              "    </tr>\n",
              "    <tr>\n",
              "      <th>888</th>\n",
              "      <td>0</td>\n",
              "      <td>female</td>\n",
              "      <td>NaN</td>\n",
              "      <td>Third</td>\n",
              "      <td>NaN</td>\n",
              "    </tr>\n",
              "    <tr>\n",
              "      <th>889</th>\n",
              "      <td>1</td>\n",
              "      <td>male</td>\n",
              "      <td>26.0</td>\n",
              "      <td>First</td>\n",
              "      <td>Adult</td>\n",
              "    </tr>\n",
              "    <tr>\n",
              "      <th>890</th>\n",
              "      <td>0</td>\n",
              "      <td>male</td>\n",
              "      <td>32.0</td>\n",
              "      <td>Third</td>\n",
              "      <td>Adult</td>\n",
              "    </tr>\n",
              "  </tbody>\n",
              "</table>\n",
              "<p>891 rows × 5 columns</p>\n",
              "</div>"
            ],
            "text/plain": [
              "     survived     sex   age   class  age_cat\n",
              "0           0    male  22.0   Third  Student\n",
              "1           1  female  38.0   First    Adult\n",
              "2           1  female  26.0   Third    Adult\n",
              "3           1  female  35.0   First    Adult\n",
              "4           0    male  35.0   Third    Adult\n",
              "..        ...     ...   ...     ...      ...\n",
              "886         0    male  27.0  Second    Adult\n",
              "887         1  female  19.0   First  Student\n",
              "888         0  female   NaN   Third      NaN\n",
              "889         1    male  26.0   First    Adult\n",
              "890         0    male  32.0   Third    Adult\n",
              "\n",
              "[891 rows x 5 columns]"
            ]
          },
          "metadata": {
            "tags": []
          },
          "execution_count": 169
        }
      ]
    },
    {
      "cell_type": "markdown",
      "metadata": {
        "id": "VXritCmlYNuO"
      },
      "source": [
        "### 선생님 답안"
      ]
    },
    {
      "cell_type": "code",
      "metadata": {
        "id": "mDLL9Tqxe67K"
      },
      "source": [
        "import math\n",
        "def ageCategorical(age):\n",
        "    cat = 'Elderly'\n",
        "    if math.isnan(age):\n",
        "        cat = np.nan\n",
        "    else :         \n",
        "        age = int(age)\n",
        "        if age <= 5: \n",
        "            cat = 'Baby'\n",
        "        elif age > 5 and age <= 12: \n",
        "            cat = 'Child'\n",
        "        elif age > 12 and age <= 18:\n",
        "            cat = 'Teenager'\n",
        "        elif age > 18 and age <= 25: \n",
        "            cat = 'Student'\n",
        "        elif age > 25 and age <= 60: \n",
        "            cat = 'Adult'\n",
        "        elif age > 60:\n",
        "            cat = 'Elderly'\n",
        "    return cat\n",
        "\n",
        "tdf1= tdf.copy()\n",
        "tdf1['age_cat'] = tdf1['age'].apply(ageCategorical)\n",
        "print(tdf1.head())\n",
        "\n",
        "tdf1['age_cat'] = pd.Categorical(tdf1['age_cat'], categories=bins, ordered=False)\n",
        "tdf1"
      ],
      "execution_count": null,
      "outputs": []
    },
    {
      "cell_type": "markdown",
      "metadata": {
        "id": "Z2xpz_Wkrwc3"
      },
      "source": [
        "---\n",
        "> ## Q12. tdf1의 sex, class 칼럼을 '_'으로 연결한 'sc'칼럼을 추가한 후 아래와 같이 출력하세요.\n"
      ]
    },
    {
      "cell_type": "markdown",
      "metadata": {
        "id": "vWYXprMJYOt9"
      },
      "source": [
        "### 나의 답안"
      ]
    },
    {
      "cell_type": "code",
      "metadata": {
        "colab": {
          "base_uri": "https://localhost:8080/",
          "height": 408
        },
        "id": "cZflaD1CrxKW",
        "outputId": "b874a110-8829-4d51-8b6e-f2d5dcf0104d"
      },
      "source": [
        "# 출력 결과\n",
        "tdf1['sc'] = tdf1['sex'] + '_' +tdf1['class'].astype(str)\n",
        "tdf1"
      ],
      "execution_count": null,
      "outputs": [
        {
          "output_type": "execute_result",
          "data": {
            "text/html": [
              "<div>\n",
              "<style scoped>\n",
              "    .dataframe tbody tr th:only-of-type {\n",
              "        vertical-align: middle;\n",
              "    }\n",
              "\n",
              "    .dataframe tbody tr th {\n",
              "        vertical-align: top;\n",
              "    }\n",
              "\n",
              "    .dataframe thead th {\n",
              "        text-align: right;\n",
              "    }\n",
              "</style>\n",
              "<table border=\"1\" class=\"dataframe\">\n",
              "  <thead>\n",
              "    <tr style=\"text-align: right;\">\n",
              "      <th></th>\n",
              "      <th>survived</th>\n",
              "      <th>sex</th>\n",
              "      <th>age</th>\n",
              "      <th>class</th>\n",
              "      <th>age_cat</th>\n",
              "      <th>sc</th>\n",
              "    </tr>\n",
              "  </thead>\n",
              "  <tbody>\n",
              "    <tr>\n",
              "      <th>0</th>\n",
              "      <td>0</td>\n",
              "      <td>male</td>\n",
              "      <td>22.0</td>\n",
              "      <td>Third</td>\n",
              "      <td>Student</td>\n",
              "      <td>male_Third</td>\n",
              "    </tr>\n",
              "    <tr>\n",
              "      <th>1</th>\n",
              "      <td>1</td>\n",
              "      <td>female</td>\n",
              "      <td>38.0</td>\n",
              "      <td>First</td>\n",
              "      <td>Adult</td>\n",
              "      <td>female_First</td>\n",
              "    </tr>\n",
              "    <tr>\n",
              "      <th>2</th>\n",
              "      <td>1</td>\n",
              "      <td>female</td>\n",
              "      <td>26.0</td>\n",
              "      <td>Third</td>\n",
              "      <td>Adult</td>\n",
              "      <td>female_Third</td>\n",
              "    </tr>\n",
              "    <tr>\n",
              "      <th>3</th>\n",
              "      <td>1</td>\n",
              "      <td>female</td>\n",
              "      <td>35.0</td>\n",
              "      <td>First</td>\n",
              "      <td>Adult</td>\n",
              "      <td>female_First</td>\n",
              "    </tr>\n",
              "    <tr>\n",
              "      <th>4</th>\n",
              "      <td>0</td>\n",
              "      <td>male</td>\n",
              "      <td>35.0</td>\n",
              "      <td>Third</td>\n",
              "      <td>Adult</td>\n",
              "      <td>male_Third</td>\n",
              "    </tr>\n",
              "    <tr>\n",
              "      <th>...</th>\n",
              "      <td>...</td>\n",
              "      <td>...</td>\n",
              "      <td>...</td>\n",
              "      <td>...</td>\n",
              "      <td>...</td>\n",
              "      <td>...</td>\n",
              "    </tr>\n",
              "    <tr>\n",
              "      <th>886</th>\n",
              "      <td>0</td>\n",
              "      <td>male</td>\n",
              "      <td>27.0</td>\n",
              "      <td>Second</td>\n",
              "      <td>Adult</td>\n",
              "      <td>male_Second</td>\n",
              "    </tr>\n",
              "    <tr>\n",
              "      <th>887</th>\n",
              "      <td>1</td>\n",
              "      <td>female</td>\n",
              "      <td>19.0</td>\n",
              "      <td>First</td>\n",
              "      <td>Student</td>\n",
              "      <td>female_First</td>\n",
              "    </tr>\n",
              "    <tr>\n",
              "      <th>888</th>\n",
              "      <td>0</td>\n",
              "      <td>female</td>\n",
              "      <td>NaN</td>\n",
              "      <td>Third</td>\n",
              "      <td>NaN</td>\n",
              "      <td>female_Third</td>\n",
              "    </tr>\n",
              "    <tr>\n",
              "      <th>889</th>\n",
              "      <td>1</td>\n",
              "      <td>male</td>\n",
              "      <td>26.0</td>\n",
              "      <td>First</td>\n",
              "      <td>Adult</td>\n",
              "      <td>male_First</td>\n",
              "    </tr>\n",
              "    <tr>\n",
              "      <th>890</th>\n",
              "      <td>0</td>\n",
              "      <td>male</td>\n",
              "      <td>32.0</td>\n",
              "      <td>Third</td>\n",
              "      <td>Adult</td>\n",
              "      <td>male_Third</td>\n",
              "    </tr>\n",
              "  </tbody>\n",
              "</table>\n",
              "<p>891 rows × 6 columns</p>\n",
              "</div>"
            ],
            "text/plain": [
              "     survived     sex   age   class  age_cat            sc\n",
              "0           0    male  22.0   Third  Student    male_Third\n",
              "1           1  female  38.0   First    Adult  female_First\n",
              "2           1  female  26.0   Third    Adult  female_Third\n",
              "3           1  female  35.0   First    Adult  female_First\n",
              "4           0    male  35.0   Third    Adult    male_Third\n",
              "..        ...     ...   ...     ...      ...           ...\n",
              "886         0    male  27.0  Second    Adult   male_Second\n",
              "887         1  female  19.0   First  Student  female_First\n",
              "888         0  female   NaN   Third      NaN  female_Third\n",
              "889         1    male  26.0   First    Adult    male_First\n",
              "890         0    male  32.0   Third    Adult    male_Third\n",
              "\n",
              "[891 rows x 6 columns]"
            ]
          },
          "metadata": {
            "tags": []
          },
          "execution_count": 170
        }
      ]
    },
    {
      "cell_type": "markdown",
      "metadata": {
        "id": "DXLgdNdBYOt9"
      },
      "source": [
        "### 선생님 답안"
      ]
    },
    {
      "cell_type": "code",
      "metadata": {
        "id": "NaqI28wffekZ"
      },
      "source": [
        "# t2. tdf1의 sex, class컬럼을 '_'으로 조인하여 새로운 컬럼을 만듦\n",
        "tdf1['sc'] = tdf1[['sex', 'class']].agg('_'.join, axis=1)\n",
        "print(tdf1tdf1.head())"
      ],
      "execution_count": null,
      "outputs": []
    },
    {
      "cell_type": "markdown",
      "metadata": {
        "id": "cuVjH8e03FX5"
      },
      "source": [
        "## Q13.Numpy의 join함수 역할\n",
        "- 일반적으로 동일한 구조를 가지는 2개 이상의 배열을 합치는 것입니다.\n",
        "- 배열을 합치고자 할 때는 concatenate와 같은 함수를 이용"
      ]
    },
    {
      "cell_type": "markdown",
      "metadata": {
        "id": "z-cVsvHnr7-H"
      },
      "source": [
        "---\n",
        "> ## Q14. 아래 df에서 drop_duplicates() 메소드를 사용하여 c2, c3열을 기준으로 중복 행을 제거한 후 df3에 저장하고 출력하세요.\n",
        "- drop_duplicates() : 매개변수로 넘겨준 컬럼에 대해 중복된 행을 제거하는 함수"
      ]
    },
    {
      "cell_type": "code",
      "metadata": {
        "colab": {
          "base_uri": "https://localhost:8080/"
        },
        "id": "epTXcMKMsaYG",
        "outputId": "33bff6b9-973c-4919-a4e8-2e34c44bf131"
      },
      "source": [
        "# 중복 데이터를 갖는 데이터프레임 만들기\n",
        "import pandas as pd\n",
        "df = pd.DataFrame({'c1':['a', 'a', 'b', 'a', 'b'],\n",
        " 'c2':[1, 1, 1, 2, 2],\n",
        " 'c3':[1, 1, 2, 2, 2]})\n",
        "print(df)"
      ],
      "execution_count": null,
      "outputs": [
        {
          "output_type": "stream",
          "text": [
            "  c1  c2  c3\n",
            "0  a   1   1\n",
            "1  a   1   1\n",
            "2  b   1   2\n",
            "3  a   2   2\n",
            "4  b   2   2\n"
          ],
          "name": "stdout"
        }
      ]
    },
    {
      "cell_type": "markdown",
      "metadata": {
        "id": "ft_TB_7EYPCa"
      },
      "source": [
        "### 나의 답안"
      ]
    },
    {
      "cell_type": "code",
      "metadata": {
        "colab": {
          "base_uri": "https://localhost:8080/"
        },
        "id": "jrAzjtijshse",
        "outputId": "d87d7849-f282-4884-aa34-75c099385aa4"
      },
      "source": [
        "df3 = df.drop_duplicates(subset=['c2', 'c3'])\n",
        "print(df3)"
      ],
      "execution_count": null,
      "outputs": [
        {
          "output_type": "stream",
          "text": [
            "  c1  c2  c3\n",
            "0  a   1   1\n",
            "2  b   1   2\n",
            "3  a   2   2\n"
          ],
          "name": "stdout"
        }
      ]
    },
    {
      "cell_type": "markdown",
      "metadata": {
        "id": "_0tiMl8VtXg3"
      },
      "source": [
        "---\n",
        "> ## Q15. 'mpg'를 'kpl' 로 환산하여 새로운 열을 생성하고 처음 3개 행을 소수점 아래 둘째자리에서 반올림하여 출력하세요."
      ]
    },
    {
      "cell_type": "code",
      "metadata": {
        "colab": {
          "base_uri": "https://localhost:8080/"
        },
        "id": "k2G5du6pvckV",
        "outputId": "263f605c-9839-4d9a-b149-3d4a833a90f9"
      },
      "source": [
        "# read_csv() 함수로 df 생성\n",
        "import pandas as pd\n",
        "auto_df = pd.read_csv('/content/drive/MyDrive/Colab Notebooks/data/auto-mpg.csv')\n",
        "# 열 이름을 지정\n",
        "auto_df.columns = ['mpg','cylinders','displacement','horsepower','weight',\n",
        " 'acceleration','model year','origin','name'] \n",
        "print(auto_df.head(3))"
      ],
      "execution_count": null,
      "outputs": [
        {
          "output_type": "stream",
          "text": [
            "    mpg  cylinders  displacement  ... model year  origin                name\n",
            "0  15.0          8         350.0  ...         70       1   buick skylark 320\n",
            "1  18.0          8         318.0  ...         70       1  plymouth satellite\n",
            "2  16.0          8         304.0  ...         70       1       amc rebel sst\n",
            "\n",
            "[3 rows x 9 columns]\n"
          ],
          "name": "stdout"
        }
      ]
    },
    {
      "cell_type": "markdown",
      "metadata": {
        "id": "QFU1Hk_fYPbN"
      },
      "source": [
        "### 나의 답안"
      ]
    },
    {
      "cell_type": "code",
      "metadata": {
        "colab": {
          "base_uri": "https://localhost:8080/"
        },
        "id": "-McRW63ww7xI",
        "outputId": "82d44dfb-4f02-4922-a5bd-8914fb6cfea7"
      },
      "source": [
        "auto_df['kpl'] = round((auto_df['mpg'] * 1.609344)/3.785411784, 2)\n",
        "auto_df['kpl'].head(3)"
      ],
      "execution_count": null,
      "outputs": [
        {
          "output_type": "execute_result",
          "data": {
            "text/plain": [
              "0    6.38\n",
              "1    7.65\n",
              "2    6.80\n",
              "Name: kpl, dtype: float64"
            ]
          },
          "metadata": {
            "tags": []
          },
          "execution_count": 182
        }
      ]
    },
    {
      "cell_type": "markdown",
      "metadata": {
        "id": "By1M8otBYPbN"
      },
      "source": [
        "### 선생님 답안"
      ]
    },
    {
      "cell_type": "code",
      "metadata": {
        "id": "x5-ra_Yk6tWa"
      },
      "source": [
        "auto_df['kpl'] = df['mpg'] * 0.425\n",
        "auto_df['kpl'] = auto_df['kpl'].round(2)\n",
        "print(auto_df.head())"
      ],
      "execution_count": null,
      "outputs": []
    },
    {
      "cell_type": "markdown",
      "metadata": {
        "id": "bAgTs68rvmc7"
      },
      "source": [
        "---\n",
        "> ## Q16. './dataset/stock-data.csv'를 데이터프레임으로 불러와서 datetime64 자료형으로 변환한 후에 년, 월, 일로 분리하고 year를 인덱스로 셋팅하여 출력하세요."
      ]
    },
    {
      "cell_type": "markdown",
      "metadata": {
        "id": "CsHTQYmBYQAZ"
      },
      "source": [
        "### 나의 답안"
      ]
    },
    {
      "cell_type": "code",
      "metadata": {
        "colab": {
          "base_uri": "https://localhost:8080/",
          "height": 683
        },
        "id": "2rG7FUzyv-5g",
        "outputId": "62bd5e52-da86-4be3-97f8-70876a4ac472"
      },
      "source": [
        "df = pd.read_csv('/content/drive/MyDrive/Colab Notebooks/data/stock-data.csv')\n",
        "df['Date'] = pd.to_datetime(df['Date'])\n",
        "year_index = df['Date'].map(lambda x : x.year)\n",
        "df = df.set_index(year_index)\n",
        "df"
      ],
      "execution_count": null,
      "outputs": [
        {
          "output_type": "execute_result",
          "data": {
            "text/html": [
              "<div>\n",
              "<style scoped>\n",
              "    .dataframe tbody tr th:only-of-type {\n",
              "        vertical-align: middle;\n",
              "    }\n",
              "\n",
              "    .dataframe tbody tr th {\n",
              "        vertical-align: top;\n",
              "    }\n",
              "\n",
              "    .dataframe thead th {\n",
              "        text-align: right;\n",
              "    }\n",
              "</style>\n",
              "<table border=\"1\" class=\"dataframe\">\n",
              "  <thead>\n",
              "    <tr style=\"text-align: right;\">\n",
              "      <th></th>\n",
              "      <th>Date</th>\n",
              "      <th>Close</th>\n",
              "      <th>Start</th>\n",
              "      <th>High</th>\n",
              "      <th>Low</th>\n",
              "      <th>Volume</th>\n",
              "    </tr>\n",
              "    <tr>\n",
              "      <th>Date</th>\n",
              "      <th></th>\n",
              "      <th></th>\n",
              "      <th></th>\n",
              "      <th></th>\n",
              "      <th></th>\n",
              "      <th></th>\n",
              "    </tr>\n",
              "  </thead>\n",
              "  <tbody>\n",
              "    <tr>\n",
              "      <th>2018</th>\n",
              "      <td>2018-07-02</td>\n",
              "      <td>10100</td>\n",
              "      <td>10850</td>\n",
              "      <td>10900</td>\n",
              "      <td>10000</td>\n",
              "      <td>137977</td>\n",
              "    </tr>\n",
              "    <tr>\n",
              "      <th>2018</th>\n",
              "      <td>2018-06-29</td>\n",
              "      <td>10700</td>\n",
              "      <td>10550</td>\n",
              "      <td>10900</td>\n",
              "      <td>9990</td>\n",
              "      <td>170253</td>\n",
              "    </tr>\n",
              "    <tr>\n",
              "      <th>2018</th>\n",
              "      <td>2018-06-28</td>\n",
              "      <td>10400</td>\n",
              "      <td>10900</td>\n",
              "      <td>10950</td>\n",
              "      <td>10150</td>\n",
              "      <td>155769</td>\n",
              "    </tr>\n",
              "    <tr>\n",
              "      <th>2018</th>\n",
              "      <td>2018-06-27</td>\n",
              "      <td>10900</td>\n",
              "      <td>10800</td>\n",
              "      <td>11050</td>\n",
              "      <td>10500</td>\n",
              "      <td>133548</td>\n",
              "    </tr>\n",
              "    <tr>\n",
              "      <th>2018</th>\n",
              "      <td>2018-06-26</td>\n",
              "      <td>10800</td>\n",
              "      <td>10900</td>\n",
              "      <td>11000</td>\n",
              "      <td>10700</td>\n",
              "      <td>63039</td>\n",
              "    </tr>\n",
              "    <tr>\n",
              "      <th>2018</th>\n",
              "      <td>2018-06-25</td>\n",
              "      <td>11150</td>\n",
              "      <td>11400</td>\n",
              "      <td>11450</td>\n",
              "      <td>11000</td>\n",
              "      <td>55519</td>\n",
              "    </tr>\n",
              "    <tr>\n",
              "      <th>2018</th>\n",
              "      <td>2018-06-22</td>\n",
              "      <td>11300</td>\n",
              "      <td>11250</td>\n",
              "      <td>11450</td>\n",
              "      <td>10750</td>\n",
              "      <td>134805</td>\n",
              "    </tr>\n",
              "    <tr>\n",
              "      <th>2018</th>\n",
              "      <td>2018-06-21</td>\n",
              "      <td>11200</td>\n",
              "      <td>11350</td>\n",
              "      <td>11750</td>\n",
              "      <td>11200</td>\n",
              "      <td>133002</td>\n",
              "    </tr>\n",
              "    <tr>\n",
              "      <th>2018</th>\n",
              "      <td>2018-06-20</td>\n",
              "      <td>11550</td>\n",
              "      <td>11200</td>\n",
              "      <td>11600</td>\n",
              "      <td>10900</td>\n",
              "      <td>308596</td>\n",
              "    </tr>\n",
              "    <tr>\n",
              "      <th>2018</th>\n",
              "      <td>2018-06-19</td>\n",
              "      <td>11300</td>\n",
              "      <td>11850</td>\n",
              "      <td>11950</td>\n",
              "      <td>11300</td>\n",
              "      <td>180656</td>\n",
              "    </tr>\n",
              "    <tr>\n",
              "      <th>2018</th>\n",
              "      <td>2018-06-18</td>\n",
              "      <td>12000</td>\n",
              "      <td>13400</td>\n",
              "      <td>13400</td>\n",
              "      <td>12000</td>\n",
              "      <td>309787</td>\n",
              "    </tr>\n",
              "    <tr>\n",
              "      <th>2018</th>\n",
              "      <td>2018-06-15</td>\n",
              "      <td>13400</td>\n",
              "      <td>13600</td>\n",
              "      <td>13600</td>\n",
              "      <td>12900</td>\n",
              "      <td>201376</td>\n",
              "    </tr>\n",
              "    <tr>\n",
              "      <th>2018</th>\n",
              "      <td>2018-06-14</td>\n",
              "      <td>13450</td>\n",
              "      <td>13200</td>\n",
              "      <td>13700</td>\n",
              "      <td>13150</td>\n",
              "      <td>347451</td>\n",
              "    </tr>\n",
              "    <tr>\n",
              "      <th>2018</th>\n",
              "      <td>2018-06-12</td>\n",
              "      <td>13200</td>\n",
              "      <td>12200</td>\n",
              "      <td>13300</td>\n",
              "      <td>12050</td>\n",
              "      <td>558148</td>\n",
              "    </tr>\n",
              "    <tr>\n",
              "      <th>2018</th>\n",
              "      <td>2018-06-11</td>\n",
              "      <td>11950</td>\n",
              "      <td>12000</td>\n",
              "      <td>12250</td>\n",
              "      <td>11950</td>\n",
              "      <td>62293</td>\n",
              "    </tr>\n",
              "    <tr>\n",
              "      <th>2018</th>\n",
              "      <td>2018-06-08</td>\n",
              "      <td>11950</td>\n",
              "      <td>11950</td>\n",
              "      <td>12200</td>\n",
              "      <td>11800</td>\n",
              "      <td>59258</td>\n",
              "    </tr>\n",
              "    <tr>\n",
              "      <th>2018</th>\n",
              "      <td>2018-06-07</td>\n",
              "      <td>11950</td>\n",
              "      <td>12200</td>\n",
              "      <td>12300</td>\n",
              "      <td>11900</td>\n",
              "      <td>49088</td>\n",
              "    </tr>\n",
              "    <tr>\n",
              "      <th>2018</th>\n",
              "      <td>2018-06-05</td>\n",
              "      <td>12150</td>\n",
              "      <td>11800</td>\n",
              "      <td>12250</td>\n",
              "      <td>11800</td>\n",
              "      <td>42485</td>\n",
              "    </tr>\n",
              "    <tr>\n",
              "      <th>2018</th>\n",
              "      <td>2018-06-04</td>\n",
              "      <td>11900</td>\n",
              "      <td>11900</td>\n",
              "      <td>12200</td>\n",
              "      <td>11700</td>\n",
              "      <td>25171</td>\n",
              "    </tr>\n",
              "    <tr>\n",
              "      <th>2018</th>\n",
              "      <td>2018-06-01</td>\n",
              "      <td>11900</td>\n",
              "      <td>11800</td>\n",
              "      <td>12100</td>\n",
              "      <td>11750</td>\n",
              "      <td>32062</td>\n",
              "    </tr>\n",
              "  </tbody>\n",
              "</table>\n",
              "</div>"
            ],
            "text/plain": [
              "           Date  Close  Start   High    Low  Volume\n",
              "Date                                               \n",
              "2018 2018-07-02  10100  10850  10900  10000  137977\n",
              "2018 2018-06-29  10700  10550  10900   9990  170253\n",
              "2018 2018-06-28  10400  10900  10950  10150  155769\n",
              "2018 2018-06-27  10900  10800  11050  10500  133548\n",
              "2018 2018-06-26  10800  10900  11000  10700   63039\n",
              "2018 2018-06-25  11150  11400  11450  11000   55519\n",
              "2018 2018-06-22  11300  11250  11450  10750  134805\n",
              "2018 2018-06-21  11200  11350  11750  11200  133002\n",
              "2018 2018-06-20  11550  11200  11600  10900  308596\n",
              "2018 2018-06-19  11300  11850  11950  11300  180656\n",
              "2018 2018-06-18  12000  13400  13400  12000  309787\n",
              "2018 2018-06-15  13400  13600  13600  12900  201376\n",
              "2018 2018-06-14  13450  13200  13700  13150  347451\n",
              "2018 2018-06-12  13200  12200  13300  12050  558148\n",
              "2018 2018-06-11  11950  12000  12250  11950   62293\n",
              "2018 2018-06-08  11950  11950  12200  11800   59258\n",
              "2018 2018-06-07  11950  12200  12300  11900   49088\n",
              "2018 2018-06-05  12150  11800  12250  11800   42485\n",
              "2018 2018-06-04  11900  11900  12200  11700   25171\n",
              "2018 2018-06-01  11900  11800  12100  11750   32062"
            ]
          },
          "metadata": {
            "tags": []
          },
          "execution_count": 216
        }
      ]
    },
    {
      "cell_type": "markdown",
      "metadata": {
        "id": "EFxpBGxTYQAZ"
      },
      "source": [
        "### 선생님 답안"
      ]
    },
    {
      "cell_type": "code",
      "metadata": {
        "colab": {
          "base_uri": "https://localhost:8080/"
        },
        "id": "pAjz3FJP8EwG",
        "outputId": "2bf4c517-b62d-4fdc-d14b-d2677fd8eb15"
      },
      "source": [
        "import pandas as pd\n",
        "df = pd.read_csv('/content/drive/MyDrive/Colab Notebooks/data/stock-data.csv')\n",
        "print(df.head())\n",
        "df['new_date'] = pd.to_datetime(df['Date'])\n",
        "print(df.head())\n",
        "print(df.info())\n",
        "df['year'] = df['new_date'].dt.year\n",
        "df['month'] = df['new_date'].dt.month\n",
        "df['day'] = df['new_date'].dt.day\n",
        "print(df)"
      ],
      "execution_count": null,
      "outputs": [
        {
          "output_type": "stream",
          "text": [
            "         Date  Close  Start   High    Low  Volume\n",
            "0  2018-07-02  10100  10850  10900  10000  137977\n",
            "1  2018-06-29  10700  10550  10900   9990  170253\n",
            "2  2018-06-28  10400  10900  10950  10150  155769\n",
            "3  2018-06-27  10900  10800  11050  10500  133548\n",
            "4  2018-06-26  10800  10900  11000  10700   63039\n",
            "         Date  Close  Start   High    Low  Volume   new_date\n",
            "0  2018-07-02  10100  10850  10900  10000  137977 2018-07-02\n",
            "1  2018-06-29  10700  10550  10900   9990  170253 2018-06-29\n",
            "2  2018-06-28  10400  10900  10950  10150  155769 2018-06-28\n",
            "3  2018-06-27  10900  10800  11050  10500  133548 2018-06-27\n",
            "4  2018-06-26  10800  10900  11000  10700   63039 2018-06-26\n",
            "<class 'pandas.core.frame.DataFrame'>\n",
            "RangeIndex: 20 entries, 0 to 19\n",
            "Data columns (total 7 columns):\n",
            " #   Column    Non-Null Count  Dtype         \n",
            "---  ------    --------------  -----         \n",
            " 0   Date      20 non-null     object        \n",
            " 1   Close     20 non-null     int64         \n",
            " 2   Start     20 non-null     int64         \n",
            " 3   High      20 non-null     int64         \n",
            " 4   Low       20 non-null     int64         \n",
            " 5   Volume    20 non-null     int64         \n",
            " 6   new_date  20 non-null     datetime64[ns]\n",
            "dtypes: datetime64[ns](1), int64(5), object(1)\n",
            "memory usage: 1.2+ KB\n",
            "None\n",
            "          Date  Close  Start   High    Low  Volume   new_date  year  month  day\n",
            "0   2018-07-02  10100  10850  10900  10000  137977 2018-07-02  2018      7    2\n",
            "1   2018-06-29  10700  10550  10900   9990  170253 2018-06-29  2018      6   29\n",
            "2   2018-06-28  10400  10900  10950  10150  155769 2018-06-28  2018      6   28\n",
            "3   2018-06-27  10900  10800  11050  10500  133548 2018-06-27  2018      6   27\n",
            "4   2018-06-26  10800  10900  11000  10700   63039 2018-06-26  2018      6   26\n",
            "5   2018-06-25  11150  11400  11450  11000   55519 2018-06-25  2018      6   25\n",
            "6   2018-06-22  11300  11250  11450  10750  134805 2018-06-22  2018      6   22\n",
            "7   2018-06-21  11200  11350  11750  11200  133002 2018-06-21  2018      6   21\n",
            "8   2018-06-20  11550  11200  11600  10900  308596 2018-06-20  2018      6   20\n",
            "9   2018-06-19  11300  11850  11950  11300  180656 2018-06-19  2018      6   19\n",
            "10  2018-06-18  12000  13400  13400  12000  309787 2018-06-18  2018      6   18\n",
            "11  2018-06-15  13400  13600  13600  12900  201376 2018-06-15  2018      6   15\n",
            "12  2018-06-14  13450  13200  13700  13150  347451 2018-06-14  2018      6   14\n",
            "13  2018-06-12  13200  12200  13300  12050  558148 2018-06-12  2018      6   12\n",
            "14  2018-06-11  11950  12000  12250  11950   62293 2018-06-11  2018      6   11\n",
            "15  2018-06-08  11950  11950  12200  11800   59258 2018-06-08  2018      6    8\n",
            "16  2018-06-07  11950  12200  12300  11900   49088 2018-06-07  2018      6    7\n",
            "17  2018-06-05  12150  11800  12250  11800   42485 2018-06-05  2018      6    5\n",
            "18  2018-06-04  11900  11900  12200  11700   25171 2018-06-04  2018      6    4\n",
            "19  2018-06-01  11900  11800  12100  11750   32062 2018-06-01  2018      6    1\n"
          ],
          "name": "stdout"
        }
      ]
    },
    {
      "cell_type": "markdown",
      "metadata": {
        "id": "75yFTS1r6N2C"
      },
      "source": [
        "---\n",
        "> ## Q17. titanic 데이터셋에서 5개 열을 선택해서 class열을 기준으로 그룹화를 수행한 후 아래와 같이 출력하였다. 다음 사항을 출력하세요.\n",
        "- 5개 열 : ['age','sex', 'class', 'fare', 'survived']\n",
        "- 그룹별 평균 출력\n",
        "- 그룹별 최대값 출력\n"
      ]
    },
    {
      "cell_type": "markdown",
      "metadata": {
        "id": "gxi_UUgcYRQn"
      },
      "source": [
        "### 나의 답안"
      ]
    },
    {
      "cell_type": "code",
      "metadata": {
        "colab": {
          "base_uri": "https://localhost:8080/"
        },
        "id": "s5NI27u87h_T",
        "outputId": "913eb3bc-791e-4b9c-f2d6-0dbd46258e64"
      },
      "source": [
        "df = sns.load_dataset('titanic')\n",
        "columns =  ['age','sex', 'class', 'fare', 'survived']\n",
        "df1 = pd.DataFrame(df, columns=columns)\n",
        "\n",
        "print(df1.groupby('class').mean())\n",
        "print(df1.groupby('class').max())"
      ],
      "execution_count": null,
      "outputs": [
        {
          "output_type": "stream",
          "text": [
            "              age       fare  survived\n",
            "class                                 \n",
            "First   38.233441  84.154687  0.629630\n",
            "Second  29.877630  20.662183  0.472826\n",
            "Third   25.140620  13.675550  0.242363\n",
            "         age   sex      fare  survived\n",
            "class                                 \n",
            "First   80.0  male  512.3292         1\n",
            "Second  70.0  male   73.5000         1\n",
            "Third   74.0  male   69.5500         1\n"
          ],
          "name": "stdout"
        }
      ]
    },
    {
      "cell_type": "markdown",
      "metadata": {
        "id": "YHyuCxv_YRQn"
      },
      "source": [
        "### 선생님 답안"
      ]
    },
    {
      "cell_type": "code",
      "metadata": {
        "colab": {
          "base_uri": "https://localhost:8080/"
        },
        "id": "hYCoJ2Ib-Zfr",
        "outputId": "f5c5a9b7-f739-4788-b620-13d82a681d51"
      },
      "source": [
        "import seaborn as sns\n",
        "df = sns.load_dataset('titanic')\n",
        "df_five = df.loc[:, ['age','sex', 'class', 'fare', 'survived']]\n",
        "df_five.head()\n",
        "print()\n",
        "\n",
        "grouped = df_five.groupby('class')\n",
        "print(grouped.mean())\n",
        "print(grouped.max())"
      ],
      "execution_count": null,
      "outputs": [
        {
          "output_type": "stream",
          "text": [
            "\n",
            "              age       fare  survived\n",
            "class                                 \n",
            "First   38.233441  84.154687  0.629630\n",
            "Second  29.877630  20.662183  0.472826\n",
            "Third   25.140620  13.675550  0.242363\n",
            "         age   sex      fare  survived\n",
            "class                                 \n",
            "First   80.0  male  512.3292         1\n",
            "Second  70.0  male   73.5000         1\n",
            "Third   74.0  male   69.5500         1\n"
          ],
          "name": "stdout"
        }
      ]
    },
    {
      "cell_type": "markdown",
      "metadata": {
        "id": "l691UKc87Tl4"
      },
      "source": [
        "---\n",
        "> ## Q18. titanic 데이터셋에서 'Third'그룹만을 선택해서 group3 이름으로 저장하고 통계요약표를 출력하세요."
      ]
    },
    {
      "cell_type": "markdown",
      "metadata": {
        "id": "NctHd5rJYRlR"
      },
      "source": [
        "### 나의 답안"
      ]
    },
    {
      "cell_type": "code",
      "metadata": {
        "colab": {
          "base_uri": "https://localhost:8080/",
          "height": 294
        },
        "id": "iav7pkRG8FV8",
        "outputId": "de35fe6d-3db3-49a9-9833-d6faecb6d7f8"
      },
      "source": [
        "group3 = df.groupby('class').get_group('Third')\n",
        "group3.describe()"
      ],
      "execution_count": null,
      "outputs": [
        {
          "output_type": "execute_result",
          "data": {
            "text/html": [
              "<div>\n",
              "<style scoped>\n",
              "    .dataframe tbody tr th:only-of-type {\n",
              "        vertical-align: middle;\n",
              "    }\n",
              "\n",
              "    .dataframe tbody tr th {\n",
              "        vertical-align: top;\n",
              "    }\n",
              "\n",
              "    .dataframe thead th {\n",
              "        text-align: right;\n",
              "    }\n",
              "</style>\n",
              "<table border=\"1\" class=\"dataframe\">\n",
              "  <thead>\n",
              "    <tr style=\"text-align: right;\">\n",
              "      <th></th>\n",
              "      <th>survived</th>\n",
              "      <th>pclass</th>\n",
              "      <th>age</th>\n",
              "      <th>sibsp</th>\n",
              "      <th>parch</th>\n",
              "      <th>fare</th>\n",
              "    </tr>\n",
              "  </thead>\n",
              "  <tbody>\n",
              "    <tr>\n",
              "      <th>count</th>\n",
              "      <td>491.000000</td>\n",
              "      <td>491.0</td>\n",
              "      <td>355.000000</td>\n",
              "      <td>491.000000</td>\n",
              "      <td>491.000000</td>\n",
              "      <td>491.000000</td>\n",
              "    </tr>\n",
              "    <tr>\n",
              "      <th>mean</th>\n",
              "      <td>0.242363</td>\n",
              "      <td>3.0</td>\n",
              "      <td>25.140620</td>\n",
              "      <td>0.615071</td>\n",
              "      <td>0.393075</td>\n",
              "      <td>13.675550</td>\n",
              "    </tr>\n",
              "    <tr>\n",
              "      <th>std</th>\n",
              "      <td>0.428949</td>\n",
              "      <td>0.0</td>\n",
              "      <td>12.495398</td>\n",
              "      <td>1.374883</td>\n",
              "      <td>0.888861</td>\n",
              "      <td>11.778142</td>\n",
              "    </tr>\n",
              "    <tr>\n",
              "      <th>min</th>\n",
              "      <td>0.000000</td>\n",
              "      <td>3.0</td>\n",
              "      <td>0.420000</td>\n",
              "      <td>0.000000</td>\n",
              "      <td>0.000000</td>\n",
              "      <td>0.000000</td>\n",
              "    </tr>\n",
              "    <tr>\n",
              "      <th>25%</th>\n",
              "      <td>0.000000</td>\n",
              "      <td>3.0</td>\n",
              "      <td>18.000000</td>\n",
              "      <td>0.000000</td>\n",
              "      <td>0.000000</td>\n",
              "      <td>7.750000</td>\n",
              "    </tr>\n",
              "    <tr>\n",
              "      <th>50%</th>\n",
              "      <td>0.000000</td>\n",
              "      <td>3.0</td>\n",
              "      <td>24.000000</td>\n",
              "      <td>0.000000</td>\n",
              "      <td>0.000000</td>\n",
              "      <td>8.050000</td>\n",
              "    </tr>\n",
              "    <tr>\n",
              "      <th>75%</th>\n",
              "      <td>0.000000</td>\n",
              "      <td>3.0</td>\n",
              "      <td>32.000000</td>\n",
              "      <td>1.000000</td>\n",
              "      <td>0.000000</td>\n",
              "      <td>15.500000</td>\n",
              "    </tr>\n",
              "    <tr>\n",
              "      <th>max</th>\n",
              "      <td>1.000000</td>\n",
              "      <td>3.0</td>\n",
              "      <td>74.000000</td>\n",
              "      <td>8.000000</td>\n",
              "      <td>6.000000</td>\n",
              "      <td>69.550000</td>\n",
              "    </tr>\n",
              "  </tbody>\n",
              "</table>\n",
              "</div>"
            ],
            "text/plain": [
              "         survived  pclass         age       sibsp       parch        fare\n",
              "count  491.000000   491.0  355.000000  491.000000  491.000000  491.000000\n",
              "mean     0.242363     3.0   25.140620    0.615071    0.393075   13.675550\n",
              "std      0.428949     0.0   12.495398    1.374883    0.888861   11.778142\n",
              "min      0.000000     3.0    0.420000    0.000000    0.000000    0.000000\n",
              "25%      0.000000     3.0   18.000000    0.000000    0.000000    7.750000\n",
              "50%      0.000000     3.0   24.000000    0.000000    0.000000    8.050000\n",
              "75%      0.000000     3.0   32.000000    1.000000    0.000000   15.500000\n",
              "max      1.000000     3.0   74.000000    8.000000    6.000000   69.550000"
            ]
          },
          "metadata": {},
          "execution_count": 6
        }
      ]
    },
    {
      "cell_type": "markdown",
      "metadata": {
        "id": "wkatmoBXYRlR"
      },
      "source": [
        "### 선생님 답안"
      ]
    },
    {
      "cell_type": "code",
      "metadata": {
        "colab": {
          "base_uri": "https://localhost:8080/",
          "height": 294
        },
        "id": "q5amuhH9_3LD",
        "outputId": "c604a2ec-9844-4507-aa51-5d806d61cd91"
      },
      "source": [
        "group_class = df.groupby('class')\n",
        "group3 = group_class.get_group('Third')\n",
        "group3.describe()"
      ],
      "execution_count": null,
      "outputs": [
        {
          "output_type": "execute_result",
          "data": {
            "text/html": [
              "<div>\n",
              "<style scoped>\n",
              "    .dataframe tbody tr th:only-of-type {\n",
              "        vertical-align: middle;\n",
              "    }\n",
              "\n",
              "    .dataframe tbody tr th {\n",
              "        vertical-align: top;\n",
              "    }\n",
              "\n",
              "    .dataframe thead th {\n",
              "        text-align: right;\n",
              "    }\n",
              "</style>\n",
              "<table border=\"1\" class=\"dataframe\">\n",
              "  <thead>\n",
              "    <tr style=\"text-align: right;\">\n",
              "      <th></th>\n",
              "      <th>survived</th>\n",
              "      <th>pclass</th>\n",
              "      <th>age</th>\n",
              "      <th>sibsp</th>\n",
              "      <th>parch</th>\n",
              "      <th>fare</th>\n",
              "    </tr>\n",
              "  </thead>\n",
              "  <tbody>\n",
              "    <tr>\n",
              "      <th>count</th>\n",
              "      <td>491.000000</td>\n",
              "      <td>491.0</td>\n",
              "      <td>355.000000</td>\n",
              "      <td>491.000000</td>\n",
              "      <td>491.000000</td>\n",
              "      <td>491.000000</td>\n",
              "    </tr>\n",
              "    <tr>\n",
              "      <th>mean</th>\n",
              "      <td>0.242363</td>\n",
              "      <td>3.0</td>\n",
              "      <td>25.140620</td>\n",
              "      <td>0.615071</td>\n",
              "      <td>0.393075</td>\n",
              "      <td>13.675550</td>\n",
              "    </tr>\n",
              "    <tr>\n",
              "      <th>std</th>\n",
              "      <td>0.428949</td>\n",
              "      <td>0.0</td>\n",
              "      <td>12.495398</td>\n",
              "      <td>1.374883</td>\n",
              "      <td>0.888861</td>\n",
              "      <td>11.778142</td>\n",
              "    </tr>\n",
              "    <tr>\n",
              "      <th>min</th>\n",
              "      <td>0.000000</td>\n",
              "      <td>3.0</td>\n",
              "      <td>0.420000</td>\n",
              "      <td>0.000000</td>\n",
              "      <td>0.000000</td>\n",
              "      <td>0.000000</td>\n",
              "    </tr>\n",
              "    <tr>\n",
              "      <th>25%</th>\n",
              "      <td>0.000000</td>\n",
              "      <td>3.0</td>\n",
              "      <td>18.000000</td>\n",
              "      <td>0.000000</td>\n",
              "      <td>0.000000</td>\n",
              "      <td>7.750000</td>\n",
              "    </tr>\n",
              "    <tr>\n",
              "      <th>50%</th>\n",
              "      <td>0.000000</td>\n",
              "      <td>3.0</td>\n",
              "      <td>24.000000</td>\n",
              "      <td>0.000000</td>\n",
              "      <td>0.000000</td>\n",
              "      <td>8.050000</td>\n",
              "    </tr>\n",
              "    <tr>\n",
              "      <th>75%</th>\n",
              "      <td>0.000000</td>\n",
              "      <td>3.0</td>\n",
              "      <td>32.000000</td>\n",
              "      <td>1.000000</td>\n",
              "      <td>0.000000</td>\n",
              "      <td>15.500000</td>\n",
              "    </tr>\n",
              "    <tr>\n",
              "      <th>max</th>\n",
              "      <td>1.000000</td>\n",
              "      <td>3.0</td>\n",
              "      <td>74.000000</td>\n",
              "      <td>8.000000</td>\n",
              "      <td>6.000000</td>\n",
              "      <td>69.550000</td>\n",
              "    </tr>\n",
              "  </tbody>\n",
              "</table>\n",
              "</div>"
            ],
            "text/plain": [
              "         survived  pclass         age       sibsp       parch        fare\n",
              "count  491.000000   491.0  355.000000  491.000000  491.000000  491.000000\n",
              "mean     0.242363     3.0   25.140620    0.615071    0.393075   13.675550\n",
              "std      0.428949     0.0   12.495398    1.374883    0.888861   11.778142\n",
              "min      0.000000     3.0    0.420000    0.000000    0.000000    0.000000\n",
              "25%      0.000000     3.0   18.000000    0.000000    0.000000    7.750000\n",
              "50%      0.000000     3.0   24.000000    0.000000    0.000000    8.050000\n",
              "75%      0.000000     3.0   32.000000    1.000000    0.000000   15.500000\n",
              "max      1.000000     3.0   74.000000    8.000000    6.000000   69.550000"
            ]
          },
          "metadata": {},
          "execution_count": 7
        }
      ]
    },
    {
      "cell_type": "markdown",
      "metadata": {
        "id": "4NNcvmqI7cks"
      },
      "source": [
        "---\n",
        "> ## Q19. titanic 데이터셋에서 class 열, sex열 기준으로 그룹화한 후 그룹별 평균과 표준편차를 구하세요."
      ]
    },
    {
      "cell_type": "markdown",
      "metadata": {
        "id": "kDeIcvpZYR-V"
      },
      "source": [
        "### 나의 답안"
      ]
    },
    {
      "cell_type": "code",
      "metadata": {
        "colab": {
          "base_uri": "https://localhost:8080/"
        },
        "id": "mB7-Wakj89wX",
        "outputId": "c409c67d-9fd5-41d4-e52d-430561dbcc35"
      },
      "source": [
        "print(df.groupby(['class','sex']).mean())\n",
        "print(df.groupby(['class','sex']).std())"
      ],
      "execution_count": null,
      "outputs": [
        {
          "output_type": "stream",
          "text": [
            "               survived  pclass        age  ...        fare  adult_male     alone\n",
            "class  sex                                  ...                                  \n",
            "First  female  0.968085     1.0  34.611765  ...  106.125798    0.000000  0.361702\n",
            "       male    0.368852     1.0  41.281386  ...   67.226127    0.975410  0.614754\n",
            "Second female  0.921053     2.0  28.722973  ...   21.970121    0.000000  0.421053\n",
            "       male    0.157407     2.0  30.740707  ...   19.741782    0.916667  0.666667\n",
            "Third  female  0.500000     3.0  21.750000  ...   16.118810    0.000000  0.416667\n",
            "       male    0.135447     3.0  26.507589  ...   12.661633    0.919308  0.760807\n",
            "\n",
            "[6 rows x 8 columns]\n",
            "               survived  pclass        age  ...       fare  adult_male     alone\n",
            "class  sex                                  ...                                 \n",
            "First  female  0.176716     0.0  13.612052  ...  74.259988    0.000000  0.483070\n",
            "       male    0.484484     0.0  15.139570  ...  77.548021    0.155511  0.488660\n",
            "Second female  0.271448     0.0  12.872702  ...  10.891796    0.000000  0.497009\n",
            "       male    0.365882     0.0  14.793894  ...  14.922235    0.277674  0.473602\n",
            "Third  female  0.501745     0.0  12.729964  ...  11.690314    0.000000  0.494727\n",
            "       male    0.342694     0.0  12.159514  ...  11.681696    0.272754  0.427207\n",
            "\n",
            "[6 rows x 8 columns]\n"
          ],
          "name": "stdout"
        }
      ]
    },
    {
      "cell_type": "markdown",
      "metadata": {
        "id": "cyPgaE_5YR-V"
      },
      "source": [
        "### 선생님 답안"
      ]
    },
    {
      "cell_type": "code",
      "metadata": {
        "colab": {
          "base_uri": "https://localhost:8080/"
        },
        "id": "5nIAQnf-5bsm",
        "outputId": "c421baba-52d9-48c2-d493-de10f313b44d"
      },
      "source": [
        "grouped = df.groupby(['class','sex'])\n",
        "print(grouped.mean())\n",
        "print(grouped.std())"
      ],
      "execution_count": null,
      "outputs": [
        {
          "output_type": "stream",
          "text": [
            "               survived  pclass        age  ...        fare  adult_male     alone\n",
            "class  sex                                  ...                                  \n",
            "First  female  0.968085     1.0  34.611765  ...  106.125798    0.000000  0.361702\n",
            "       male    0.368852     1.0  41.281386  ...   67.226127    0.975410  0.614754\n",
            "Second female  0.921053     2.0  28.722973  ...   21.970121    0.000000  0.421053\n",
            "       male    0.157407     2.0  30.740707  ...   19.741782    0.916667  0.666667\n",
            "Third  female  0.500000     3.0  21.750000  ...   16.118810    0.000000  0.416667\n",
            "       male    0.135447     3.0  26.507589  ...   12.661633    0.919308  0.760807\n",
            "\n",
            "[6 rows x 8 columns]\n",
            "               survived  pclass        age  ...       fare  adult_male     alone\n",
            "class  sex                                  ...                                 \n",
            "First  female  0.176716     0.0  13.612052  ...  74.259988    0.000000  0.483070\n",
            "       male    0.484484     0.0  15.139570  ...  77.548021    0.155511  0.488660\n",
            "Second female  0.271448     0.0  12.872702  ...  10.891796    0.000000  0.497009\n",
            "       male    0.365882     0.0  14.793894  ...  14.922235    0.277674  0.473602\n",
            "Third  female  0.501745     0.0  12.729964  ...  11.690314    0.000000  0.494727\n",
            "       male    0.342694     0.0  12.159514  ...  11.681696    0.272754  0.427207\n",
            "\n",
            "[6 rows x 8 columns]\n"
          ],
          "name": "stdout"
        }
      ]
    },
    {
      "cell_type": "markdown",
      "metadata": {
        "id": "2HDdCXgT7eHi"
      },
      "source": [
        "---\n",
        "> ## Q20. titanic 데이터셋에서 다음 전처리를 수행하세요.\n",
        "1. df에서 중복 칼럼 6개를 삭제한 후 df1 이름으로 저장 후 5개 행을 출력하세요.\n",
        "2. df1에서 null값이 50% 이상인 칼럼을 삭제 후 df2 이름으로 저장하고 출력하세요.\n",
        "3. df2에서 결측값이 있는 age 칼럼에 대해서 평균값으로 데체 처리를 수행하세요.\n",
        "4. df2에서 결측값이 있는 embarked 칼럼에 대해서 앞행의 값으로 데체 처리를 수행하세요.\n",
        "5. df2 문자로 되어있는 칼럼들을 레이블 인코딩 수행하여 숫자로 변환 후 df2.info()를 출력하세요"
      ]
    },
    {
      "cell_type": "markdown",
      "metadata": {
        "id": "8WYLQQJQYSfJ"
      },
      "source": [
        "### 나의 답안"
      ]
    },
    {
      "cell_type": "code",
      "metadata": {
        "colab": {
          "base_uri": "https://localhost:8080/",
          "height": 202
        },
        "id": "wEWZEFeN7ggw",
        "outputId": "bdf84f7f-17a3-44d9-ed39-6da0019aaf76"
      },
      "source": [
        "# 1. df에서 중복 칼럼 6개를 삭제한 후 df1 이름으로 저장 후 5개 행을 출력하세요.\n",
        "columns = ['survived','pclass','sex','age','sibsp','parch','fare','embarked','deck']\n",
        "df1 = pd.DataFrame(df,columns=columns)\n",
        "df1.head(5)"
      ],
      "execution_count": null,
      "outputs": [
        {
          "output_type": "execute_result",
          "data": {
            "text/html": [
              "<div>\n",
              "<style scoped>\n",
              "    .dataframe tbody tr th:only-of-type {\n",
              "        vertical-align: middle;\n",
              "    }\n",
              "\n",
              "    .dataframe tbody tr th {\n",
              "        vertical-align: top;\n",
              "    }\n",
              "\n",
              "    .dataframe thead th {\n",
              "        text-align: right;\n",
              "    }\n",
              "</style>\n",
              "<table border=\"1\" class=\"dataframe\">\n",
              "  <thead>\n",
              "    <tr style=\"text-align: right;\">\n",
              "      <th></th>\n",
              "      <th>survived</th>\n",
              "      <th>pclass</th>\n",
              "      <th>sex</th>\n",
              "      <th>age</th>\n",
              "      <th>sibsp</th>\n",
              "      <th>parch</th>\n",
              "      <th>fare</th>\n",
              "      <th>embarked</th>\n",
              "      <th>deck</th>\n",
              "    </tr>\n",
              "  </thead>\n",
              "  <tbody>\n",
              "    <tr>\n",
              "      <th>0</th>\n",
              "      <td>0</td>\n",
              "      <td>3</td>\n",
              "      <td>male</td>\n",
              "      <td>22.0</td>\n",
              "      <td>1</td>\n",
              "      <td>0</td>\n",
              "      <td>7.2500</td>\n",
              "      <td>S</td>\n",
              "      <td>NaN</td>\n",
              "    </tr>\n",
              "    <tr>\n",
              "      <th>1</th>\n",
              "      <td>1</td>\n",
              "      <td>1</td>\n",
              "      <td>female</td>\n",
              "      <td>38.0</td>\n",
              "      <td>1</td>\n",
              "      <td>0</td>\n",
              "      <td>71.2833</td>\n",
              "      <td>C</td>\n",
              "      <td>C</td>\n",
              "    </tr>\n",
              "    <tr>\n",
              "      <th>2</th>\n",
              "      <td>1</td>\n",
              "      <td>3</td>\n",
              "      <td>female</td>\n",
              "      <td>26.0</td>\n",
              "      <td>0</td>\n",
              "      <td>0</td>\n",
              "      <td>7.9250</td>\n",
              "      <td>S</td>\n",
              "      <td>NaN</td>\n",
              "    </tr>\n",
              "    <tr>\n",
              "      <th>3</th>\n",
              "      <td>1</td>\n",
              "      <td>1</td>\n",
              "      <td>female</td>\n",
              "      <td>35.0</td>\n",
              "      <td>1</td>\n",
              "      <td>0</td>\n",
              "      <td>53.1000</td>\n",
              "      <td>S</td>\n",
              "      <td>C</td>\n",
              "    </tr>\n",
              "    <tr>\n",
              "      <th>4</th>\n",
              "      <td>0</td>\n",
              "      <td>3</td>\n",
              "      <td>male</td>\n",
              "      <td>35.0</td>\n",
              "      <td>0</td>\n",
              "      <td>0</td>\n",
              "      <td>8.0500</td>\n",
              "      <td>S</td>\n",
              "      <td>NaN</td>\n",
              "    </tr>\n",
              "  </tbody>\n",
              "</table>\n",
              "</div>"
            ],
            "text/plain": [
              "   survived  pclass     sex   age  sibsp  parch     fare embarked deck\n",
              "0         0       3    male  22.0      1      0   7.2500        S  NaN\n",
              "1         1       1  female  38.0      1      0  71.2833        C    C\n",
              "2         1       3  female  26.0      0      0   7.9250        S  NaN\n",
              "3         1       1  female  35.0      1      0  53.1000        S    C\n",
              "4         0       3    male  35.0      0      0   8.0500        S  NaN"
            ]
          },
          "metadata": {},
          "execution_count": 22
        }
      ]
    },
    {
      "cell_type": "code",
      "metadata": {
        "colab": {
          "base_uri": "https://localhost:8080/",
          "height": 414
        },
        "id": "onfd6djf9TZ5",
        "outputId": "d61bdf11-0152-454d-ae5d-2c2839fd9ea3"
      },
      "source": [
        "# 2. df1에서 null값이 50% 이상인 칼럼을 삭제 후 df2 이름으로 저장하고 출력하세요.\n",
        "df2 = df1.dropna(thresh=(len(df1) / 2), axis=1)\n",
        "df2"
      ],
      "execution_count": null,
      "outputs": [
        {
          "output_type": "execute_result",
          "data": {
            "text/html": [
              "<div>\n",
              "<style scoped>\n",
              "    .dataframe tbody tr th:only-of-type {\n",
              "        vertical-align: middle;\n",
              "    }\n",
              "\n",
              "    .dataframe tbody tr th {\n",
              "        vertical-align: top;\n",
              "    }\n",
              "\n",
              "    .dataframe thead th {\n",
              "        text-align: right;\n",
              "    }\n",
              "</style>\n",
              "<table border=\"1\" class=\"dataframe\">\n",
              "  <thead>\n",
              "    <tr style=\"text-align: right;\">\n",
              "      <th></th>\n",
              "      <th>survived</th>\n",
              "      <th>pclass</th>\n",
              "      <th>sex</th>\n",
              "      <th>age</th>\n",
              "      <th>sibsp</th>\n",
              "      <th>parch</th>\n",
              "      <th>fare</th>\n",
              "      <th>embarked</th>\n",
              "    </tr>\n",
              "  </thead>\n",
              "  <tbody>\n",
              "    <tr>\n",
              "      <th>0</th>\n",
              "      <td>0</td>\n",
              "      <td>3</td>\n",
              "      <td>male</td>\n",
              "      <td>22.0</td>\n",
              "      <td>1</td>\n",
              "      <td>0</td>\n",
              "      <td>7.2500</td>\n",
              "      <td>S</td>\n",
              "    </tr>\n",
              "    <tr>\n",
              "      <th>1</th>\n",
              "      <td>1</td>\n",
              "      <td>1</td>\n",
              "      <td>female</td>\n",
              "      <td>38.0</td>\n",
              "      <td>1</td>\n",
              "      <td>0</td>\n",
              "      <td>71.2833</td>\n",
              "      <td>C</td>\n",
              "    </tr>\n",
              "    <tr>\n",
              "      <th>2</th>\n",
              "      <td>1</td>\n",
              "      <td>3</td>\n",
              "      <td>female</td>\n",
              "      <td>26.0</td>\n",
              "      <td>0</td>\n",
              "      <td>0</td>\n",
              "      <td>7.9250</td>\n",
              "      <td>S</td>\n",
              "    </tr>\n",
              "    <tr>\n",
              "      <th>3</th>\n",
              "      <td>1</td>\n",
              "      <td>1</td>\n",
              "      <td>female</td>\n",
              "      <td>35.0</td>\n",
              "      <td>1</td>\n",
              "      <td>0</td>\n",
              "      <td>53.1000</td>\n",
              "      <td>S</td>\n",
              "    </tr>\n",
              "    <tr>\n",
              "      <th>4</th>\n",
              "      <td>0</td>\n",
              "      <td>3</td>\n",
              "      <td>male</td>\n",
              "      <td>35.0</td>\n",
              "      <td>0</td>\n",
              "      <td>0</td>\n",
              "      <td>8.0500</td>\n",
              "      <td>S</td>\n",
              "    </tr>\n",
              "    <tr>\n",
              "      <th>...</th>\n",
              "      <td>...</td>\n",
              "      <td>...</td>\n",
              "      <td>...</td>\n",
              "      <td>...</td>\n",
              "      <td>...</td>\n",
              "      <td>...</td>\n",
              "      <td>...</td>\n",
              "      <td>...</td>\n",
              "    </tr>\n",
              "    <tr>\n",
              "      <th>886</th>\n",
              "      <td>0</td>\n",
              "      <td>2</td>\n",
              "      <td>male</td>\n",
              "      <td>27.0</td>\n",
              "      <td>0</td>\n",
              "      <td>0</td>\n",
              "      <td>13.0000</td>\n",
              "      <td>S</td>\n",
              "    </tr>\n",
              "    <tr>\n",
              "      <th>887</th>\n",
              "      <td>1</td>\n",
              "      <td>1</td>\n",
              "      <td>female</td>\n",
              "      <td>19.0</td>\n",
              "      <td>0</td>\n",
              "      <td>0</td>\n",
              "      <td>30.0000</td>\n",
              "      <td>S</td>\n",
              "    </tr>\n",
              "    <tr>\n",
              "      <th>888</th>\n",
              "      <td>0</td>\n",
              "      <td>3</td>\n",
              "      <td>female</td>\n",
              "      <td>NaN</td>\n",
              "      <td>1</td>\n",
              "      <td>2</td>\n",
              "      <td>23.4500</td>\n",
              "      <td>S</td>\n",
              "    </tr>\n",
              "    <tr>\n",
              "      <th>889</th>\n",
              "      <td>1</td>\n",
              "      <td>1</td>\n",
              "      <td>male</td>\n",
              "      <td>26.0</td>\n",
              "      <td>0</td>\n",
              "      <td>0</td>\n",
              "      <td>30.0000</td>\n",
              "      <td>C</td>\n",
              "    </tr>\n",
              "    <tr>\n",
              "      <th>890</th>\n",
              "      <td>0</td>\n",
              "      <td>3</td>\n",
              "      <td>male</td>\n",
              "      <td>32.0</td>\n",
              "      <td>0</td>\n",
              "      <td>0</td>\n",
              "      <td>7.7500</td>\n",
              "      <td>Q</td>\n",
              "    </tr>\n",
              "  </tbody>\n",
              "</table>\n",
              "<p>891 rows × 8 columns</p>\n",
              "</div>"
            ],
            "text/plain": [
              "     survived  pclass     sex   age  sibsp  parch     fare embarked\n",
              "0           0       3    male  22.0      1      0   7.2500        S\n",
              "1           1       1  female  38.0      1      0  71.2833        C\n",
              "2           1       3  female  26.0      0      0   7.9250        S\n",
              "3           1       1  female  35.0      1      0  53.1000        S\n",
              "4           0       3    male  35.0      0      0   8.0500        S\n",
              "..        ...     ...     ...   ...    ...    ...      ...      ...\n",
              "886         0       2    male  27.0      0      0  13.0000        S\n",
              "887         1       1  female  19.0      0      0  30.0000        S\n",
              "888         0       3  female   NaN      1      2  23.4500        S\n",
              "889         1       1    male  26.0      0      0  30.0000        C\n",
              "890         0       3    male  32.0      0      0   7.7500        Q\n",
              "\n",
              "[891 rows x 8 columns]"
            ]
          },
          "metadata": {},
          "execution_count": 23
        }
      ]
    },
    {
      "cell_type": "code",
      "metadata": {
        "colab": {
          "base_uri": "https://localhost:8080/"
        },
        "id": "qQaQ1C53-WCX",
        "outputId": "e98a93cb-1638-4a29-9365-caef204001d1"
      },
      "source": [
        "# 3. df2에서 결측값이 있는 age 칼럼에 대해서 평균값으로 대체 처리를 수행하세요.\n",
        "df2['age'] = df2['age'].fillna(value=df2['age'].mean())\n",
        "print(df2)\n",
        "df2.info()"
      ],
      "execution_count": null,
      "outputs": [
        {
          "output_type": "stream",
          "text": [
            "     survived  pclass     sex        age  sibsp  parch     fare embarked\n",
            "0           0       3    male  22.000000      1      0   7.2500        S\n",
            "1           1       1  female  38.000000      1      0  71.2833        C\n",
            "2           1       3  female  26.000000      0      0   7.9250        S\n",
            "3           1       1  female  35.000000      1      0  53.1000        S\n",
            "4           0       3    male  35.000000      0      0   8.0500        S\n",
            "..        ...     ...     ...        ...    ...    ...      ...      ...\n",
            "886         0       2    male  27.000000      0      0  13.0000        S\n",
            "887         1       1  female  19.000000      0      0  30.0000        S\n",
            "888         0       3  female  29.699118      1      2  23.4500        S\n",
            "889         1       1    male  26.000000      0      0  30.0000        C\n",
            "890         0       3    male  32.000000      0      0   7.7500        Q\n",
            "\n",
            "[891 rows x 8 columns]\n",
            "<class 'pandas.core.frame.DataFrame'>\n",
            "RangeIndex: 891 entries, 0 to 890\n",
            "Data columns (total 8 columns):\n",
            " #   Column    Non-Null Count  Dtype  \n",
            "---  ------    --------------  -----  \n",
            " 0   survived  891 non-null    int64  \n",
            " 1   pclass    891 non-null    int64  \n",
            " 2   sex       891 non-null    object \n",
            " 3   age       891 non-null    float64\n",
            " 4   sibsp     891 non-null    int64  \n",
            " 5   parch     891 non-null    int64  \n",
            " 6   fare      891 non-null    float64\n",
            " 7   embarked  889 non-null    object \n",
            "dtypes: float64(2), int64(4), object(2)\n",
            "memory usage: 55.8+ KB\n"
          ],
          "name": "stdout"
        },
        {
          "output_type": "stream",
          "text": [
            "/usr/local/lib/python3.7/dist-packages/ipykernel_launcher.py:2: SettingWithCopyWarning: \n",
            "A value is trying to be set on a copy of a slice from a DataFrame.\n",
            "Try using .loc[row_indexer,col_indexer] = value instead\n",
            "\n",
            "See the caveats in the documentation: https://pandas.pydata.org/pandas-docs/stable/user_guide/indexing.html#returning-a-view-versus-a-copy\n",
            "  \n"
          ],
          "name": "stderr"
        }
      ]
    },
    {
      "cell_type": "markdown",
      "metadata": {
        "id": "Un9S5PHtO7Tr"
      },
      "source": [
        ""
      ]
    },
    {
      "cell_type": "code",
      "metadata": {
        "colab": {
          "base_uri": "https://localhost:8080/"
        },
        "id": "yoY5uf8I-awT",
        "outputId": "25ab8d59-0049-4eb9-c300-d0df740ba978"
      },
      "source": [
        "# 4. df2에서 결측값이 있는 embarked 칼럼에 대해서 앞행의 값으로 대체 처리를 수행하세요.\n",
        "df2['embarked'] = df2['embarked'].fillna(method='ffill')\n",
        "df2.info()"
      ],
      "execution_count": null,
      "outputs": [
        {
          "output_type": "stream",
          "text": [
            "<class 'pandas.core.frame.DataFrame'>\n",
            "RangeIndex: 891 entries, 0 to 890\n",
            "Data columns (total 8 columns):\n",
            " #   Column    Non-Null Count  Dtype  \n",
            "---  ------    --------------  -----  \n",
            " 0   survived  891 non-null    int64  \n",
            " 1   pclass    891 non-null    int64  \n",
            " 2   sex       891 non-null    object \n",
            " 3   age       891 non-null    float64\n",
            " 4   sibsp     891 non-null    int64  \n",
            " 5   parch     891 non-null    int64  \n",
            " 6   fare      891 non-null    float64\n",
            " 7   embarked  891 non-null    object \n",
            "dtypes: float64(2), int64(4), object(2)\n",
            "memory usage: 55.8+ KB\n"
          ],
          "name": "stdout"
        },
        {
          "output_type": "stream",
          "text": [
            "/usr/local/lib/python3.7/dist-packages/ipykernel_launcher.py:2: SettingWithCopyWarning: \n",
            "A value is trying to be set on a copy of a slice from a DataFrame.\n",
            "Try using .loc[row_indexer,col_indexer] = value instead\n",
            "\n",
            "See the caveats in the documentation: https://pandas.pydata.org/pandas-docs/stable/user_guide/indexing.html#returning-a-view-versus-a-copy\n",
            "  \n"
          ],
          "name": "stderr"
        }
      ]
    },
    {
      "cell_type": "code",
      "metadata": {
        "colab": {
          "base_uri": "https://localhost:8080/"
        },
        "id": "wvCO0OyC-dNJ",
        "outputId": "4f29c9b4-020b-4ed2-9975-1b568f60ef72"
      },
      "source": [
        "# 5. df2 문자로 되어있는 칼럼들을 레이블 인코딩 수행하여 숫자로 변환 후 df2.info()를 출력하세요\n",
        "from sklearn.preprocessing import LabelEncoder\n",
        "\n",
        "labelEcd = LabelEncoder()\n",
        "df2['sex'] = labelEcd.fit_transform(df2['sex'].values)\n",
        "df2['embarked'] = labelEcd.fit_transform(df2['embarked'].values)\n",
        "df2.info()\n",
        "print(df2.head())"
      ],
      "execution_count": null,
      "outputs": [
        {
          "output_type": "stream",
          "text": [
            "<class 'pandas.core.frame.DataFrame'>\n",
            "RangeIndex: 891 entries, 0 to 890\n",
            "Data columns (total 8 columns):\n",
            " #   Column    Non-Null Count  Dtype  \n",
            "---  ------    --------------  -----  \n",
            " 0   survived  891 non-null    int64  \n",
            " 1   pclass    891 non-null    int64  \n",
            " 2   sex       891 non-null    int64  \n",
            " 3   age       891 non-null    float64\n",
            " 4   sibsp     891 non-null    int64  \n",
            " 5   parch     891 non-null    int64  \n",
            " 6   fare      891 non-null    float64\n",
            " 7   embarked  891 non-null    int64  \n",
            "dtypes: float64(2), int64(6)\n",
            "memory usage: 55.8 KB\n",
            "   survived  pclass  sex   age  sibsp  parch     fare  embarked\n",
            "0         0       3    1  22.0      1      0   7.2500         2\n",
            "1         1       1    0  38.0      1      0  71.2833         0\n",
            "2         1       3    0  26.0      0      0   7.9250         2\n",
            "3         1       1    0  35.0      1      0  53.1000         2\n",
            "4         0       3    1  35.0      0      0   8.0500         2\n"
          ],
          "name": "stdout"
        },
        {
          "output_type": "stream",
          "text": [
            "/usr/local/lib/python3.7/dist-packages/ipykernel_launcher.py:5: SettingWithCopyWarning: \n",
            "A value is trying to be set on a copy of a slice from a DataFrame.\n",
            "Try using .loc[row_indexer,col_indexer] = value instead\n",
            "\n",
            "See the caveats in the documentation: https://pandas.pydata.org/pandas-docs/stable/user_guide/indexing.html#returning-a-view-versus-a-copy\n",
            "  \"\"\"\n",
            "/usr/local/lib/python3.7/dist-packages/ipykernel_launcher.py:6: SettingWithCopyWarning: \n",
            "A value is trying to be set on a copy of a slice from a DataFrame.\n",
            "Try using .loc[row_indexer,col_indexer] = value instead\n",
            "\n",
            "See the caveats in the documentation: https://pandas.pydata.org/pandas-docs/stable/user_guide/indexing.html#returning-a-view-versus-a-copy\n",
            "  \n"
          ],
          "name": "stderr"
        }
      ]
    },
    {
      "cell_type": "markdown",
      "metadata": {
        "id": "0itAlLSBYSfK"
      },
      "source": [
        "### 선생님 답안\n",
        "\n",
        "---\n",
        "> ## Q20. titanic 데이터셋에서 다음 전처리를 수행하세요.\n",
        "1. df에서 중복 칼럼 6개를 삭제한 후 df1 이름으로 저장 후 5개 행을 출력하세요.\n",
        "2. df1에서 null값이 50% 이상인 칼럼을 삭제 후 df2 이름으로 저장하고 출력하세요.\n",
        "3. df2에서 결측값이 있는 age 칼럼에 대해서 평균값으로 데체 처리를 수행하세요.\n",
        "4. df2에서 결측값이 있는 embarked 칼럼에 대해서 앞행의 값으로 데체 처리를 수행하세요.\n",
        "5. df2 문자로 되어있는 칼럼들을 레이블 인코딩 수행하여 숫자로 변환 후 df2.info()를 출력하세요"
      ]
    },
    {
      "cell_type": "code",
      "metadata": {
        "id": "rgyjx5qb5cJZ",
        "colab": {
          "base_uri": "https://localhost:8080/"
        },
        "outputId": "cbc1866a-7716-40dd-dcba-72720a9ac1cc"
      },
      "source": [
        "import seaborn as sns\n",
        "df = sns.load_dataset('titanic')\n",
        "df1 = df[['survived', 'pclass','sex','age','sibsp','parch','fare','embarked', 'deck']]\n",
        "print(df1.head())"
      ],
      "execution_count": null,
      "outputs": [
        {
          "output_type": "stream",
          "text": [
            "   survived  pclass     sex   age  sibsp  parch     fare embarked deck\n",
            "0         0       3    male  22.0      1      0   7.2500        S  NaN\n",
            "1         1       1  female  38.0      1      0  71.2833        C    C\n",
            "2         1       3  female  26.0      0      0   7.9250        S  NaN\n",
            "3         1       1  female  35.0      1      0  53.1000        S    C\n",
            "4         0       3    male  35.0      0      0   8.0500        S  NaN\n"
          ],
          "name": "stdout"
        }
      ]
    },
    {
      "cell_type": "code",
      "metadata": {
        "colab": {
          "base_uri": "https://localhost:8080/"
        },
        "id": "RCTiY0ScNjW8",
        "outputId": "7a7338ed-0197-48e8-f4e9-c97fe17a59ec"
      },
      "source": [
        "# 2. df1에서 null값이 50% 이상인 칼럼을 삭제 후 df2 이름으로 저장하고 출력하세요.\n",
        "print(df1.info())\n",
        "df2 = df1.drop(['deck'], axis=1)\n",
        "print(df2.info())\n"
      ],
      "execution_count": null,
      "outputs": [
        {
          "output_type": "stream",
          "text": [
            "<class 'pandas.core.frame.DataFrame'>\n",
            "RangeIndex: 891 entries, 0 to 890\n",
            "Data columns (total 9 columns):\n",
            " #   Column    Non-Null Count  Dtype   \n",
            "---  ------    --------------  -----   \n",
            " 0   survived  891 non-null    int64   \n",
            " 1   pclass    891 non-null    int64   \n",
            " 2   sex       891 non-null    object  \n",
            " 3   age       714 non-null    float64 \n",
            " 4   sibsp     891 non-null    int64   \n",
            " 5   parch     891 non-null    int64   \n",
            " 6   fare      891 non-null    float64 \n",
            " 7   embarked  889 non-null    object  \n",
            " 8   deck      203 non-null    category\n",
            "dtypes: category(1), float64(2), int64(4), object(2)\n",
            "memory usage: 57.0+ KB\n",
            "None\n",
            "<class 'pandas.core.frame.DataFrame'>\n",
            "RangeIndex: 891 entries, 0 to 890\n",
            "Data columns (total 8 columns):\n",
            " #   Column    Non-Null Count  Dtype  \n",
            "---  ------    --------------  -----  \n",
            " 0   survived  891 non-null    int64  \n",
            " 1   pclass    891 non-null    int64  \n",
            " 2   sex       891 non-null    object \n",
            " 3   age       714 non-null    float64\n",
            " 4   sibsp     891 non-null    int64  \n",
            " 5   parch     891 non-null    int64  \n",
            " 6   fare      891 non-null    float64\n",
            " 7   embarked  889 non-null    object \n",
            "dtypes: float64(2), int64(4), object(2)\n",
            "memory usage: 55.8+ KB\n",
            "None\n"
          ],
          "name": "stdout"
        }
      ]
    },
    {
      "cell_type": "code",
      "metadata": {
        "colab": {
          "base_uri": "https://localhost:8080/"
        },
        "id": "JvhlEXw0Nmm2",
        "outputId": "a5a8a2a5-4ebe-41c6-de17-53da44b5a1e4"
      },
      "source": [
        "# 3. df2에서 결측값이 있는 age 칼럼에 대해서 평균값으로 데체 처리를 수행하세요.\n",
        "df2.age.fillna(df2.age.mean(), inplace=True)\n",
        "df2.info()"
      ],
      "execution_count": null,
      "outputs": [
        {
          "output_type": "stream",
          "text": [
            "<class 'pandas.core.frame.DataFrame'>\n",
            "RangeIndex: 891 entries, 0 to 890\n",
            "Data columns (total 8 columns):\n",
            " #   Column    Non-Null Count  Dtype  \n",
            "---  ------    --------------  -----  \n",
            " 0   survived  891 non-null    int64  \n",
            " 1   pclass    891 non-null    int64  \n",
            " 2   sex       891 non-null    object \n",
            " 3   age       891 non-null    float64\n",
            " 4   sibsp     891 non-null    int64  \n",
            " 5   parch     891 non-null    int64  \n",
            " 6   fare      891 non-null    float64\n",
            " 7   embarked  889 non-null    object \n",
            "dtypes: float64(2), int64(4), object(2)\n",
            "memory usage: 55.8+ KB\n"
          ],
          "name": "stdout"
        }
      ]
    },
    {
      "cell_type": "code",
      "metadata": {
        "colab": {
          "base_uri": "https://localhost:8080/"
        },
        "id": "Lh6CwHG1OUVq",
        "outputId": "f0e05060-9bc8-4dbd-e8ca-85109f4131aa"
      },
      "source": [
        "# 4. df2에서 결측값이 있는 embarked 칼럼에 대해서 앞행의 값으로 데체 처리를 수행하세요.\n",
        "df2.embarked.fillna(method='ffill', inplace=True)\n",
        "df2.info()"
      ],
      "execution_count": null,
      "outputs": [
        {
          "output_type": "stream",
          "text": [
            "<class 'pandas.core.frame.DataFrame'>\n",
            "RangeIndex: 891 entries, 0 to 890\n",
            "Data columns (total 8 columns):\n",
            " #   Column    Non-Null Count  Dtype  \n",
            "---  ------    --------------  -----  \n",
            " 0   survived  891 non-null    int64  \n",
            " 1   pclass    891 non-null    int64  \n",
            " 2   sex       891 non-null    object \n",
            " 3   age       891 non-null    float64\n",
            " 4   sibsp     891 non-null    int64  \n",
            " 5   parch     891 non-null    int64  \n",
            " 6   fare      891 non-null    float64\n",
            " 7   embarked  891 non-null    object \n",
            "dtypes: float64(2), int64(4), object(2)\n",
            "memory usage: 55.8+ KB\n"
          ],
          "name": "stdout"
        }
      ]
    },
    {
      "cell_type": "code",
      "metadata": {
        "colab": {
          "base_uri": "https://localhost:8080/"
        },
        "id": "VJGswfYkOr59",
        "outputId": "6e3fa5f2-9360-43c9-c579-b8182d457c38"
      },
      "source": [
        "# 5. df2 문자로 되어있는 칼럼들을 레이블 인코딩 수행하여 숫자로 변환 후 df2.info()를 출력하세요\n",
        "\n",
        "from sklearn import preprocessing\n",
        "\n",
        "features = ['sex', 'embarked']\n",
        "for feature in features:\n",
        "    # 라벨 인코더\n",
        "    le = preprocessing.LabelEncoder()\n",
        "    # 인코딩된 데이터로 데이터를 변경\n",
        "    df2[feature] = le.fit_transform(df2[feature])\n",
        "df2.info()\n",
        "print(df2.head())"
      ],
      "execution_count": null,
      "outputs": [
        {
          "output_type": "stream",
          "text": [
            "<class 'pandas.core.frame.DataFrame'>\n",
            "RangeIndex: 891 entries, 0 to 890\n",
            "Data columns (total 8 columns):\n",
            " #   Column    Non-Null Count  Dtype  \n",
            "---  ------    --------------  -----  \n",
            " 0   survived  891 non-null    int64  \n",
            " 1   pclass    891 non-null    int64  \n",
            " 2   sex       891 non-null    int64  \n",
            " 3   age       891 non-null    float64\n",
            " 4   sibsp     891 non-null    int64  \n",
            " 5   parch     891 non-null    int64  \n",
            " 6   fare      891 non-null    float64\n",
            " 7   embarked  891 non-null    int64  \n",
            "dtypes: float64(2), int64(6)\n",
            "memory usage: 55.8 KB\n",
            "   survived  pclass  sex   age  sibsp  parch     fare  embarked\n",
            "0         0       3    1  22.0      1      0   7.2500         2\n",
            "1         1       1    0  38.0      1      0  71.2833         0\n",
            "2         1       3    0  26.0      0      0   7.9250         2\n",
            "3         1       1    0  35.0      1      0  53.1000         2\n",
            "4         0       3    1  35.0      0      0   8.0500         2\n"
          ],
          "name": "stdout"
        }
      ]
    }
  ]
}