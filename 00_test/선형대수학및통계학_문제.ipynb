{
  "nbformat": 4,
  "nbformat_minor": 0,
  "metadata": {
    "kernelspec": {
      "display_name": "Python 3",
      "language": "python",
      "name": "python3"
    },
    "language_info": {
      "codemirror_mode": {
        "name": "ipython",
        "version": 3
      },
      "file_extension": ".py",
      "mimetype": "text/x-python",
      "name": "python",
      "nbconvert_exporter": "python",
      "pygments_lexer": "ipython3",
      "version": "3.8.8"
    },
    "colab": {
      "name": "선형대수학및통계학_문제.ipynb",
      "provenance": [],
      "collapsed_sections": [],
      "include_colab_link": true
    }
  },
  "cells": [
    {
      "cell_type": "markdown",
      "metadata": {
        "id": "view-in-github",
        "colab_type": "text"
      },
      "source": [
        "<a href=\"https://colab.research.google.com/github/2SEHI/K-Digital_Lecture/blob/main/00_test/%EC%84%A0%ED%98%95%EB%8C%80%EC%88%98%ED%95%99%EB%B0%8F%ED%86%B5%EA%B3%84%ED%95%99_%EB%AC%B8%EC%A0%9C.ipynb\" target=\"_parent\"><img src=\"https://colab.research.google.com/assets/colab-badge.svg\" alt=\"Open In Colab\"/></a>"
      ]
    },
    {
      "cell_type": "markdown",
      "metadata": {
        "id": "Z3dsZHJu45Xy"
      },
      "source": [
        "## 빅데이터 기반 AI 응용 솔루션 개발자 전문과정\n",
        "\n",
        "### 교과목명 : 선형대수학 및 통계학\n",
        "- 평가일 : 21.05.10\n",
        "- 성명 : 이세희\n",
        "\n",
        "### ggangpae1@gmail.com 으로 제출하시오"
      ]
    },
    {
      "cell_type": "markdown",
      "metadata": {
        "id": "7AsH-Z3745X6"
      },
      "source": [
        "Q1. 평균이 10, 표준편차가 3인 정규분포의 확률밀도함수를 그래프로 표현하세요. "
      ]
    },
    {
      "cell_type": "code",
      "metadata": {
        "colab": {
          "base_uri": "https://localhost:8080/",
          "height": 265
        },
        "id": "iAfC08yU45X8",
        "outputId": "412cb297-311a-4af8-a5e5-b8d6787c3778"
      },
      "source": [
        "import matplotlib.pyplot as plt\n",
        "import numpy as np\n",
        "from scipy import stats\n",
        "\n",
        "x = np.linspace(-10, 30, 100)\n",
        "rv = stats.norm(loc=10, scale=3).pdf(x)\n",
        "\n",
        "plt.plot(x, rv)\n",
        "plt.show()"
      ],
      "execution_count": null,
      "outputs": [
        {
          "output_type": "display_data",
          "data": {
            "image/png": "[encoded data removed]",
            "text/plain": [
              "<Figure size 432x288 with 1 Axes>"
            ]
          },
          "metadata": {
            "tags": [],
            "needs_background": "light"
          }
        }
      ]
    },
    {
      "cell_type": "markdown",
      "metadata": {
        "id": "qCS0aTkB45YA"
      },
      "source": [
        "Q2. 평균이 1, 표준편차가 2인 정규분포의 누적분포함수를 그래프로 표현하세요. "
      ]
    },
    {
      "cell_type": "code",
      "metadata": {
        "colab": {
          "base_uri": "https://localhost:8080/",
          "height": 265
        },
        "id": "woJua8wr45YB",
        "outputId": "e2c8f13d-98ee-44f1-c967-65fc7e19f997"
      },
      "source": [
        "import matplotlib.pyplot as plt\n",
        "import numpy as np\n",
        "from scipy import stats\n",
        "\n",
        "x = np.linspace(-10, 10, 100)\n",
        "rv = stats.norm(loc=1, scale=2).cdf(x)\n",
        "\n",
        "plt.plot(x, rv)\n",
        "plt.show()"
      ],
      "execution_count": null,
      "outputs": [
        {
          "output_type": "display_data",
          "data": {
            "image/png": "[encoded data removed]",
            "text/plain": [
              "<Figure size 432x288 with 1 Axes>"
            ]
          },
          "metadata": {
            "tags": [],
            "needs_background": "light"
          }
        }
      ]
    },
    {
      "cell_type": "markdown",
      "metadata": {
        "id": "c3ckWdJ245YC"
      },
      "source": [
        "Q3. 피어슨 상관 계수 와 스피어만 상관 계수의 차이를 기술하시오"
      ]
    },
    {
      "cell_type": "markdown",
      "metadata": {
        "id": "bp5qcZIF45YD"
      },
      "source": [
        "## 피어슨 상관 계수\n",
        "- 두 변수가 모두 정규성을 따른다는 전제하에 연속형 자료와 연속형 자료간의 선형관계를 나타냅니다.\n",
        "- +-1에 가까울수록 두 자료사이에 선형 관계가 있다고 보며, 0에 가까울수록 선형적 상관관계가 없다고 봅니다.\n",
        "\n",
        "### 스피어만 상관 계수\n",
        "- 두 변수가 정규성을 따르지 않는 경우, 값에 순위를 매겨 그 순위에 대해 상관계수 값을 구합니다. 순위를 이용하기 때문에 연속형 변수가 아닌 순서형 변수인 경우에도 상관계수를 구할 수 있습니다."
      ]
    },
    {
      "cell_type": "markdown",
      "metadata": {
        "id": "CfaciSpv45YF"
      },
      "source": [
        "Q4. \"./data/lc_loans.csv\" 을 데이터프레임으로 불러와서 아래작업을 수행하세요.\n",
        "- 교차분석표를 만드세요(index='grade',aggfunc='lambda x: len(x)', margins= True, columns = 'status')"
      ]
    },
    {
      "cell_type": "code",
      "metadata": {
        "colab": {
          "base_uri": "https://localhost:8080/",
          "height": 331
        },
        "id": "Fyfd1bbxCgE7",
        "outputId": "336e7776-1540-4666-9bd2-3aeb0c34a98d"
      },
      "source": [
        "import pandas as pd\n",
        "# lc_loans = pd.read_csv('./lc_loans.csv')\n",
        "lc_loans = pd.read_csv('/content/drive/MyDrive/Colab Notebooks/k-digital/과제/lc_loans.csv')\n",
        "pd.pivot_table(lc_loans, index=['grade'], aggfunc=lambda x: len(x), margins= True,  columns = 'status')"
      ],
      "execution_count": null,
      "outputs": [
        {
          "output_type": "execute_result",
          "data": {
            "text/html": [
              "<div>\n",
              "<style scoped>\n",
              "    .dataframe tbody tr th:only-of-type {\n",
              "        vertical-align: middle;\n",
              "    }\n",
              "\n",
              "    .dataframe tbody tr th {\n",
              "        vertical-align: top;\n",
              "    }\n",
              "\n",
              "    .dataframe thead th {\n",
              "        text-align: right;\n",
              "    }\n",
              "</style>\n",
              "<table border=\"1\" class=\"dataframe\">\n",
              "  <thead>\n",
              "    <tr style=\"text-align: right;\">\n",
              "      <th>status</th>\n",
              "      <th>Charged Off</th>\n",
              "      <th>Current</th>\n",
              "      <th>Fully Paid</th>\n",
              "      <th>Late</th>\n",
              "      <th>All</th>\n",
              "    </tr>\n",
              "    <tr>\n",
              "      <th>grade</th>\n",
              "      <th></th>\n",
              "      <th></th>\n",
              "      <th></th>\n",
              "      <th></th>\n",
              "      <th></th>\n",
              "    </tr>\n",
              "  </thead>\n",
              "  <tbody>\n",
              "    <tr>\n",
              "      <th>A</th>\n",
              "      <td>1562</td>\n",
              "      <td>50051</td>\n",
              "      <td>20408</td>\n",
              "      <td>469</td>\n",
              "      <td>72490</td>\n",
              "    </tr>\n",
              "    <tr>\n",
              "      <th>B</th>\n",
              "      <td>5302</td>\n",
              "      <td>93852</td>\n",
              "      <td>31160</td>\n",
              "      <td>2056</td>\n",
              "      <td>132370</td>\n",
              "    </tr>\n",
              "    <tr>\n",
              "      <th>C</th>\n",
              "      <td>6023</td>\n",
              "      <td>88928</td>\n",
              "      <td>23147</td>\n",
              "      <td>2777</td>\n",
              "      <td>120875</td>\n",
              "    </tr>\n",
              "    <tr>\n",
              "      <th>D</th>\n",
              "      <td>5007</td>\n",
              "      <td>53281</td>\n",
              "      <td>13681</td>\n",
              "      <td>2308</td>\n",
              "      <td>74277</td>\n",
              "    </tr>\n",
              "    <tr>\n",
              "      <th>E</th>\n",
              "      <td>2842</td>\n",
              "      <td>24639</td>\n",
              "      <td>5949</td>\n",
              "      <td>1374</td>\n",
              "      <td>34804</td>\n",
              "    </tr>\n",
              "    <tr>\n",
              "      <th>F</th>\n",
              "      <td>1526</td>\n",
              "      <td>8444</td>\n",
              "      <td>2328</td>\n",
              "      <td>606</td>\n",
              "      <td>12904</td>\n",
              "    </tr>\n",
              "    <tr>\n",
              "      <th>G</th>\n",
              "      <td>409</td>\n",
              "      <td>1990</td>\n",
              "      <td>643</td>\n",
              "      <td>199</td>\n",
              "      <td>3241</td>\n",
              "    </tr>\n",
              "    <tr>\n",
              "      <th>All</th>\n",
              "      <td>22671</td>\n",
              "      <td>321185</td>\n",
              "      <td>97316</td>\n",
              "      <td>9789</td>\n",
              "      <td>450961</td>\n",
              "    </tr>\n",
              "  </tbody>\n",
              "</table>\n",
              "</div>"
            ],
            "text/plain": [
              "status  Charged Off  Current  Fully Paid  Late     All\n",
              "grade                                                 \n",
              "A              1562    50051       20408   469   72490\n",
              "B              5302    93852       31160  2056  132370\n",
              "C              6023    88928       23147  2777  120875\n",
              "D              5007    53281       13681  2308   74277\n",
              "E              2842    24639        5949  1374   34804\n",
              "F              1526     8444        2328   606   12904\n",
              "G               409     1990         643   199    3241\n",
              "All           22671   321185       97316  9789  450961"
            ]
          },
          "metadata": {
            "tags": []
          },
          "execution_count": 35
        }
      ]
    },
    {
      "cell_type": "markdown",
      "metadata": {
        "id": "Ogcb0vFU45YO"
      },
      "source": [
        "Q5. 다음 2개 행렬의 행렬 곱을 구하시오"
      ]
    },
    {
      "cell_type": "code",
      "metadata": {
        "id": "Zq1tQbpl45YP",
        "outputId": "9d02af13-314e-4ef6-8140-5dbf5e335f35"
      },
      "source": [
        "import numpy\n",
        "x = numpy.array([[1, 2, 3], [4, 5, 6]])\n",
        "y = numpy.array([[1, 2], [3, 4], [5, 6]])\n",
        "x.dot(y)"
      ],
      "execution_count": null,
      "outputs": [
        {
          "output_type": "stream",
          "text": [
            "[[22 28]\n",
            " [49 64]]\n"
          ],
          "name": "stdout"
        }
      ]
    },
    {
      "cell_type": "markdown",
      "metadata": {
        "id": "1hI9sv-i45YQ"
      },
      "source": [
        "Q6. 'dataset/titanic3.csv'을 불러와서 sex 칼럼을 인덱스, pclass를 칼럼으로 하고 values는 survived, 함수는 mean을 적용하여 pivot_table을 만든 후 히트맵으로 시각화를 수행"
      ]
    },
    {
      "cell_type": "code",
      "metadata": {
        "colab": {
          "base_uri": "https://localhost:8080/",
          "height": 588
        },
        "id": "D5Vi3sBQGj17",
        "outputId": "fbe91334-08c5-4bbb-c8b4-73f99d3edbf6"
      },
      "source": [
        "import numpy as np\n",
        "import pandas as pd\n",
        "\n",
        "import matplotlib.pyplot as plt\n",
        "import seaborn as sns\n",
        "# titanic = pd.read_csv('./titanic.csv')\n",
        "titanic = pd.read_csv('/content/drive/MyDrive/Colab Notebooks/k-digital/과제/titanic.csv')\n",
        "print(titanic.head(2))\n",
        "test =  pd.pivot_table(data=titanic,index='sex', columns=['pclass'],aggfunc=np.mean, values=['survived'])\n",
        "print(test)\n",
        "plt.figure(figsize=(8,6))\n",
        "sns.heatmap(test, cmap=\"YlGnBu\", annot=True, fmt='.6f')"
      ],
      "execution_count": null,
      "outputs": [
        {
          "output_type": "stream",
          "text": [
            "   Unnamed: 0  survived  pclass     sex  ...  deck  embark_town  alive  alone\n",
            "0           0         0       3    male  ...   NaN  Southampton     no  False\n",
            "1           1         1       1  female  ...     C    Cherbourg    yes  False\n",
            "\n",
            "[2 rows x 16 columns]\n",
            "        survived                    \n",
            "pclass         1         2         3\n",
            "sex                                 \n",
            "female  0.968085  0.921053  0.500000\n",
            "male    0.368852  0.157407  0.135447\n"
          ],
          "name": "stdout"
        },
        {
          "output_type": "execute_result",
          "data": {
            "text/plain": [
              "<matplotlib.axes._subplots.AxesSubplot at 0x7f3570f52490>"
            ]
          },
          "metadata": {
            "tags": []
          },
          "execution_count": 79
        },
        {
          "output_type": "display_data",
          "data": {
            "image/png": "[encoded data removed]",
            "text/plain": [
              "<Figure size 576x432 with 2 Axes>"
            ]
          },
          "metadata": {
            "tags": [],
            "needs_background": "light"
          }
        }
      ]
    },
    {
      "cell_type": "markdown",
      "metadata": {
        "id": "Vy3H8gTt45YR"
      },
      "source": [
        "Q7. 다음 행렬의 eigen value 와 eigen vector를 구하시오"
      ]
    },
    {
      "cell_type": "markdown",
      "metadata": {
        "id": "XFq6Bw6APS9c"
      },
      "source": [
        "- eigen value : 고유값\n",
        "- eigen vector : 고유 벡터"
      ]
    },
    {
      "cell_type": "code",
      "metadata": {
        "colab": {
          "base_uri": "https://localhost:8080/"
        },
        "id": "vsW2ajQPLqxV",
        "outputId": "901c0062-83b6-46a7-e635-8bbbe80f7ec1"
      },
      "source": [
        "import numpy as np\n",
        "from numpy import linalg\n",
        "\n",
        "B = np.array([[2, 1], [1, -1]])\n",
        "\n",
        "eigenVal, eigenVec = linalg.eig(B)\n",
        "print(eigenVal)\n",
        "print(eigenVec)"
      ],
      "execution_count": null,
      "outputs": [
        {
          "output_type": "stream",
          "text": [
            "[ 2.30277564 -1.30277564]\n",
            "[[ 0.95709203 -0.28978415]\n",
            " [ 0.28978415  0.95709203]]\n"
          ],
          "name": "stdout"
        }
      ]
    },
    {
      "cell_type": "markdown",
      "metadata": {
        "id": "OYNq0BG545YS"
      },
      "source": [
        "Q8. 아래 수행 결과에서 각각의 항목의 의미하는 바를 작성하시오\n",
        "## df : \n",
        "- df : 자유도. Page는 4개의 클래스를 가지므로 4-1개의 자유도를 가짐.\n",
        "\n",
        "## sum_sq :\n",
        "- sum_sq : 제곱합. 개별 관측치와 처리 평균의 차의 제곱합.\n",
        "\n",
        "## mean_sq :\n",
        "- mean_sq :제곱합을 자유도로 나눈 값\n",
        "\n",
        "## F : \n",
        "- F : F 통계량. 그룹 평균 간의 차이가 랜덤 모델에서 예상되는 것보다 벗어나는 정도를 측정하는 표준화된 통계량."
      ]
    },
    {
      "cell_type": "code",
      "metadata": {
        "id": "DB9KjOPJRk0V",
        "colab": {
          "base_uri": "https://localhost:8080/"
        },
        "outputId": "1125cf99-c5db-49f9-8e9c-fe9a4c7da0ee"
      },
      "source": [
        "from statsmodels.formula.api import ols\n",
        "import statsmodels.api as sm\n",
        "import pandas as pd\n",
        "# four_sessions = pd.read_csv('./four_sessions.csv')\n",
        "four_sessions = pd.read_csv('/content/drive/MyDrive/Colab Notebooks/k-digital/과제/four_sessions.csv')\n",
        "\n",
        "model = ols('Time ~ Page', data=four_sessions).fit()\n",
        "aov_table = sm.stats.anova_lm(model)\n",
        "print(aov_table)"
      ],
      "execution_count": null,
      "outputs": [
        {
          "output_type": "stream",
          "text": [
            "            df  sum_sq     mean_sq         F    PR(>F)\n",
            "Page       3.0   831.4  277.133333  2.739825  0.077586\n",
            "Residual  16.0  1618.4  101.150000       NaN       NaN\n"
          ],
          "name": "stdout"
        }
      ]
    },
    {
      "cell_type": "markdown",
      "metadata": {
        "id": "gmTPAnsoMCZw"
      },
      "source": [
        "### ols함수\n",
        "- ordinary least square의 약자로 **최소자승법**으로 회귀 모델을 구하는 메소드\n",
        "\n",
        "    - **최소자승법** : 잔차제곱합(RSS: Residual Sum of Squares)를 최소화하는 가중치 벡터를 구하는 방법 \n",
        "- Page가 독립변수, Time가 종속변수. Page에 따라  Time이 달라지는지 검증하는데 **aov 함수**로 분산분석을 수행.\n",
        "    - **aov 함수** : ANOVA (ANalysis Of VAriance; 분산 분석)는 2개 이상의 실험군의 모평균의 차이가 통계적으로 유의미 한지를 판단하기 위한 시험법\n",
        "\n",
        "### anova_lm 함수\n",
        "- 일원 또는 이원 분산 분석 선형 모델\n",
        "\n",
        "\n",
        "### 결과\n",
        "- 독립변수 Page에 대한 anova분산 분석 테이블\n",
        "- df : 자유도. Page는 4개의 클래스를 가지므로 4-1개의 자유도를 가짐.\n",
        "- sum_sq : 제곱합. 개별 관측치와 처리 평균의 차의 제곱합.\n",
        "- mean_sq :제곱합을 자유도로 나눈 값\n",
        "- F : F 통계량. 그룹 평균 간의 차이가 랜덤 모델에서 예상되는 것보다 벗어나는 정도를 측정하는 표준화된 통계량.\n",
        "- Pr(>F) : p-value. 이 값이 0.05보다 작으면 통계적으로 유의미한 차이가 있다고 본다. 0.077586로 0.05보다 크다. 따라서 유의미한 차이가 없다고 본다.\n",
        "- Residual : 잔차\n"
      ]
    },
    {
      "cell_type": "markdown",
      "metadata": {
        "id": "6VwXSE5245YT"
      },
      "source": [
        "Q9. 복원 추출 과 비복원 추출의 차이는?"
      ]
    },
    {
      "cell_type": "markdown",
      "metadata": {
        "id": "gxX-Orp345YT"
      },
      "source": [
        "복원추출은 모집단에서 샘플 데이터를 추출할 때 샘플데이터를 모집단에 다시 포함시켜 재추출하는 것이고 비복원 추출은 샘플데이터를 모집단에 다시 포함시키지 않는 것이다."
      ]
    },
    {
      "cell_type": "markdown",
      "metadata": {
        "id": "5yPHU65Q45YU"
      },
      "source": [
        "Q10. 다음 괄호 안에 알맞은 단어는?"
      ]
    },
    {
      "cell_type": "code",
      "metadata": {
        "id": "nlxm706p45YU"
      },
      "source": [
        "(엔트로피)라는 확률분포가 가지는 정보의 확신도 혹은 정보량을 수치로 표현한 것이다. \n",
        "확률 분포에서 특정한 값이 나올 확률이 높아지고 나머지 값의 확률은 낮아진다면 (엔트로피)가 작아 진다. \n",
        "반대로 여러 가지 값이 나올 확률이 대부분 비슷한 경우에는 (엔트로피)가 높아진다.\n",
        "(엔트로피)는 확률분포의 모양이 어떤지를 나타내는 특성값 중 하나로 볼 수도 있다. \n",
        "확률 또는 확률 밀도가 특정값에 몰려 있으면 (엔트로피)가 작다고 하고 반대로 여러 값에 골고루 퍼져 있다면 (엔트로피)가 크다고 한다."
      ],
      "execution_count": null,
      "outputs": []
    }
  ]
}