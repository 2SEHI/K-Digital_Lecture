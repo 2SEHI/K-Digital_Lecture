{
  "nbformat": 4,
  "nbformat_minor": 5,
  "metadata": {
    "kernelspec": {
      "display_name": "Python 3",
      "language": "python",
      "name": "python3"
    },
    "language_info": {
      "codemirror_mode": {
        "name": "ipython",
        "version": 3
      },
      "file_extension": ".py",
      "mimetype": "text/x-python",
      "name": "python",
      "nbconvert_exporter": "python",
      "pygments_lexer": "ipython3",
      "version": "3.8.5"
    },
    "colab": {
      "name": "python_basic_1.ipynb",
      "provenance": [],
      "collapsed_sections": [],
      "toc_visible": true,
      "include_colab_link": true
    }
  },
  "cells": [
    {
      "cell_type": "markdown",
      "metadata": {
        "id": "view-in-github",
        "colab_type": "text"
      },
      "source": [
        "<a href=\"https://colab.research.google.com/github/2SEHI/K-Digital_Lecture/blob/main/00_test/python_basic_1.ipynb\" target=\"_parent\"><img src=\"https://colab.research.google.com/assets/colab-badge.svg\" alt=\"Open In Colab\"/></a>"
      ]
    },
    {
      "cell_type": "markdown",
      "metadata": {
        "id": "-XnrxpvFXBb2"
      },
      "source": [
        "# 파이썬 기본 문법 - \t2021. 8. 16제출"
      ],
      "id": "-XnrxpvFXBb2"
    },
    {
      "cell_type": "markdown",
      "metadata": {
        "id": "h-YYJNUnXBb4"
      },
      "source": [
        "## 변수 및 연산자"
      ],
      "id": "h-YYJNUnXBb4"
    },
    {
      "cell_type": "markdown",
      "metadata": {
        "id": "mpUz4TI-XBb5"
      },
      "source": [
        "### 1.평균 구하기\n",
        "- 국어, 영어, 수학, 과학 점수가 입력받아서 평균 점수를 출력하는 프로그램을 만드세요(input 에서 안내 문자열은 과목 이름을 출력)\n",
        "- 평균 점수를 출력할 때는 소수점 이하 자리는 버림(정수로 출력)."
      ],
      "id": "mpUz4TI-XBb5"
    },
    {
      "cell_type": "code",
      "metadata": {
        "id": "-8EcGlJ_XBb6",
        "outputId": "fe1c64ee-4ab0-44f9-94dc-2e4d99363b0a"
      },
      "source": [
        "# 점수입력받아 스페이스로 분리하여 리스트저장하기\n",
        "data = list(map(int, input('국어 영어 수학 과학 점수를 입력하세요 : ').split()))\n",
        "\n",
        "# 점수의 합을 과목의 종류개수로 나누어 평균 점수 출력\n",
        "print('평균점수 : ', int(sum(data) / len(data)))"
      ],
      "id": "-8EcGlJ_XBb6",
      "execution_count": null,
      "outputs": [
        {
          "output_type": "stream",
          "text": [
            "국어 영어 수학 과학 점수를 입력하세요 :  50 60 70 80\n"
          ],
          "name": "stdin"
        },
        {
          "output_type": "stream",
          "text": [
            "평균점수 :  65\n"
          ],
          "name": "stdout"
        }
      ]
    },
    {
      "cell_type": "markdown",
      "metadata": {
        "id": "lvIO2JTsXBb7"
      },
      "source": [
        "### 2.소음이 가장 심한 층수 출력하기\n",
        "- 국립환경과학원에서는 아파트에서 소음이 가장 심한 층수를 구하는 계산식을 발표했는데  소음이 가장 심한 층은 0.2467 * 도로와의 거리(m) + 4.159\n",
        "- 도로 거리를 입력받아서 소음이 가장 심한 층수가 출력되게 만드세요.\n",
        "- 층수를 출력할 때는 소수점 이하 자리는 버림(정수로 출력)"
      ],
      "id": "lvIO2JTsXBb7"
    },
    {
      "cell_type": "code",
      "metadata": {
        "id": "cBMPF64LXBb8",
        "outputId": "660e1dc6-2d55-42db-fe77-d4640fcfb1a8"
      },
      "source": [
        "# 아파트와 도로와의 거리 입력받기\n",
        "distance = int(input('아파트와 도로와의 거리를 입력하세요(m) : '))\n",
        "\n",
        "# 소음이 가장 심한 층수를 계산하여 출력\n",
        "print(f'소음이 가장 심한 층수 : {int( 0.2467 * distance + 4.159)} 층')"
      ],
      "id": "cBMPF64LXBb8",
      "execution_count": null,
      "outputs": [
        {
          "output_type": "stream",
          "text": [
            "아파트와 도로와의 거리를 입력하세요(m) :  19\n"
          ],
          "name": "stdin"
        },
        {
          "output_type": "stream",
          "text": [
            "소음이 가장 심한 층수 : 8 층\n"
          ],
          "name": "stdout"
        }
      ]
    },
    {
      "cell_type": "markdown",
      "metadata": {
        "id": "tqQR7snNXBb8"
      },
      "source": [
        "### 3.스킬 공격력 출력\n",
        "- L이라는 게임에서 “왜곡”이라는 스킬이 AP * 0.6 + 225의 피해를 줍니다. 참고로 이 게임에서 AP(Ability Power, 주문력)는 마법 능력치를 뜻합니다. \n",
        "- AP를 입력받아서 스킬의 피해량이 출력되게 만드세요."
      ],
      "id": "tqQR7snNXBb8"
    },
    {
      "cell_type": "code",
      "metadata": {
        "id": "Y0u1DYARXBb9",
        "outputId": "18da3dc9-9e4e-4e00-8ddd-d6910b7f0122"
      },
      "source": [
        "# 마법 능력치 입력받기\n",
        "ap = int(input('AP(마법 능력치)를 입력하세요 : '))\n",
        "\n",
        "# 스킬 피해량 출력\n",
        "print(f'스킬의 피해량 : {ap * 0.6 + 225}')"
      ],
      "id": "Y0u1DYARXBb9",
      "execution_count": null,
      "outputs": [
        {
          "output_type": "stream",
          "text": [
            "AP(마법 능력치)를 입력하세요 :  50\n"
          ],
          "name": "stdin"
        },
        {
          "output_type": "stream",
          "text": [
            "스킬의 피해량 : 255.0\n"
          ],
          "name": "stdout"
        }
      ]
    },
    {
      "cell_type": "markdown",
      "metadata": {
        "id": "oraqqpALXBb-"
      },
      "source": [
        "## 제어문"
      ],
      "id": "oraqqpALXBb-"
    },
    {
      "cell_type": "markdown",
      "metadata": {
        "id": "6FHWW4a8XBb_"
      },
      "source": [
        "### 1.1부터 100까지 짝수의 합 구하기"
      ],
      "id": "6FHWW4a8XBb_"
    },
    {
      "cell_type": "code",
      "metadata": {
        "id": "VkYJk7GHXBb_",
        "outputId": "4b3ebbce-6a19-403f-e80a-25b1e15829b8"
      },
      "source": [
        "# 1부터 100까지의 짝수를 순환하여 리스트에 담고 sum함수를 이용하여 \n",
        "# 짝수의 합 구하기\n",
        "result = sum([i for i in range(2,101,2)])\n",
        "result"
      ],
      "id": "VkYJk7GHXBb_",
      "execution_count": null,
      "outputs": [
        {
          "output_type": "execute_result",
          "data": {
            "text/plain": [
              "2550"
            ]
          },
          "metadata": {
            "tags": []
          },
          "execution_count": 22
        }
      ]
    },
    {
      "cell_type": "code",
      "metadata": {
        "id": "_HoxFxMEeqde"
      },
      "source": [
        "# 제어문 사용할 경우\n",
        "sum = 0\n",
        "for i in range(1, 101):\n",
        "    if i % 2 == 0:\n",
        "        sum = sum + i\n",
        "print(sum)"
      ],
      "id": "_HoxFxMEeqde",
      "execution_count": null,
      "outputs": []
    },
    {
      "cell_type": "markdown",
      "metadata": {
        "id": "HJju4DlXXBcA"
      },
      "source": [
        "### 2.교통 카드 잔액 출력\n",
        "- 표준 입력으로 인원 수가  입력됨\n",
        "- 1인당 요금은 1,350원으로 교통카드를 사용할 때마다 요금을 차감하고 각 줄에 잔액을 출력하는 프로그램을 작성\n",
        "- 최초 금액은 10,000 원으로 설정하고 출력하지 않음\n",
        "- 잔액은 음수가 될 수 없으며 잔액이 부족하면 출력을 종료"
      ],
      "id": "HJju4DlXXBcA"
    },
    {
      "cell_type": "markdown",
      "metadata": {
        "id": "UZupUcmae1GP"
      },
      "source": [
        "#### 나의 답안"
      ],
      "id": "UZupUcmae1GP"
    },
    {
      "cell_type": "code",
      "metadata": {
        "id": "GD8zaPdtXBcA",
        "outputId": "df91eab2-d300-41b8-82fd-2d039bf8e15e"
      },
      "source": [
        "# 인원 수 입력받기\n",
        "p_num = int(input('인원 수를 입력하세요'))\n",
        "print('====================================')\n",
        "# 최초 금액 설정\n",
        "f_money = 10000\n",
        "# 1인당 요금 설정\n",
        "fee = 1350\n",
        "\n",
        "# 인원 수만큼 순환\n",
        "for i in range(1, p_num):\n",
        "    # 잔액이 1인당 요금보다 적은지 확인\n",
        "    if f_money <= 1350:\n",
        "        # 잔액이 부족할 경우 for문 종료\n",
        "        print('***잔액이 부족합니다.***')\n",
        "        break\n",
        "    # 잔액에서 1인당 요금 차감\n",
        "    f_money -= fee\n",
        "    # 요금 차감 후 잔여 금액 출력\n",
        "    print(f'{i}회 사용 후 교통카드 잔여 금액 : {f_money}')"
      ],
      "id": "GD8zaPdtXBcA",
      "execution_count": null,
      "outputs": [
        {
          "output_type": "stream",
          "text": [
            "인원 수를 입력하세요 50\n"
          ],
          "name": "stdin"
        },
        {
          "output_type": "stream",
          "text": [
            "====================================\n",
            "1회 사용 후 교통카드 잔여 금액 : 8650\n",
            "2회 사용 후 교통카드 잔여 금액 : 7300\n",
            "3회 사용 후 교통카드 잔여 금액 : 5950\n",
            "4회 사용 후 교통카드 잔여 금액 : 4600\n",
            "5회 사용 후 교통카드 잔여 금액 : 3250\n",
            "6회 사용 후 교통카드 잔여 금액 : 1900\n",
            "7회 사용 후 교통카드 잔여 금액 : 550\n",
            "***잔액이 부족합니다.***\n"
          ],
          "name": "stdout"
        }
      ]
    },
    {
      "cell_type": "markdown",
      "metadata": {
        "id": "zysSSvJae4hG"
      },
      "source": [
        "#### 선생님 답안"
      ],
      "id": "zysSSvJae4hG"
    },
    {
      "cell_type": "code",
      "metadata": {
        "colab": {
          "base_uri": "https://localhost:8080/"
        },
        "id": "kdVCJ2x7EsU1",
        "outputId": "eea10cf4-f59c-4f7f-8574-1e95aa110a77"
      },
      "source": [
        "balance = 10000\n",
        "\n",
        "while True:\n",
        "    su = int(input('인원 수를 입력하세요:'))\n",
        "    balance = balance - (su * 1350)\n",
        "    print('현재 잔액:', balance)\n",
        "    if balance < 0:\n",
        "        break"
      ],
      "id": "kdVCJ2x7EsU1",
      "execution_count": null,
      "outputs": [
        {
          "output_type": "stream",
          "text": [
            "인원 수를 입력하세요5\n",
            "현재 잔액 :  3250\n",
            "인원 수를 입력하세요3\n",
            "현재 잔액 :  -800\n",
            "현재 잔액 :  0\n"
          ],
          "name": "stdout"
        }
      ]
    },
    {
      "cell_type": "markdown",
      "metadata": {
        "id": "Mie4JIX-XBcB"
      },
      "source": [
        "### 3.2부터 1000까지 Prime(소수) 의 개수 구하기\n",
        "- Prime은 1과 자기 자신으로만 나누어지는 수\n",
        "- 2부터 자신의 절반이 되는 숫자까지 나누어 떨어지지 않으면 Prime"
      ],
      "id": "Mie4JIX-XBcB"
    },
    {
      "cell_type": "markdown",
      "metadata": {
        "id": "CNfTfTtQfNPr"
      },
      "source": [
        "#### 나의 답안"
      ],
      "id": "CNfTfTtQfNPr"
    },
    {
      "cell_type": "code",
      "metadata": {
        "scrolled": true,
        "id": "tA8gZ78aXBcB",
        "outputId": "0b78a5a6-9be3-47a6-e793-f49faed09d2d"
      },
      "source": [
        "# 프라임 저장 리스트\n",
        "# 2를 프라임 값으로 지정\n",
        "prime = [2]\n",
        "\n",
        "# 2부터 1000까지 정수값 순회\n",
        "for i in range(2, 1001):\n",
        "    # 프라임 리스트를 순회\n",
        "    for p in prime:\n",
        "        # 정수값이 소수로 나누어 질 경우 \n",
        "        # 정수는 소수가 아님 => 다음 정수로 넘어가기\n",
        "        if i % p == 0:\n",
        "            break\n",
        "    else :\n",
        "        # 소수를 저장\n",
        "        prime.append(i)\n",
        "\n",
        "print('1부터 1000까지 소수의 개수', len(prime))\n",
        "print(prime)"
      ],
      "id": "tA8gZ78aXBcB",
      "execution_count": null,
      "outputs": [
        {
          "output_type": "stream",
          "text": [
            "1부터 1000까지 소수의 개수 168\n",
            "[2, 3, 5, 7, 11, 13, 17, 19, 23, 29, 31, 37, 41, 43, 47, 53, 59, 61, 67, 71, 73, 79, 83, 89, 97, 101, 103, 107, 109, 113, 127, 131, 137, 139, 149, 151, 157, 163, 167, 173, 179, 181, 191, 193, 197, 199, 211, 223, 227, 229, 233, 239, 241, 251, 257, 263, 269, 271, 277, 281, 283, 293, 307, 311, 313, 317, 331, 337, 347, 349, 353, 359, 367, 373, 379, 383, 389, 397, 401, 409, 419, 421, 431, 433, 439, 443, 449, 457, 461, 463, 467, 479, 487, 491, 499, 503, 509, 521, 523, 541, 547, 557, 563, 569, 571, 577, 587, 593, 599, 601, 607, 613, 617, 619, 631, 641, 643, 647, 653, 659, 661, 673, 677, 683, 691, 701, 709, 719, 727, 733, 739, 743, 751, 757, 761, 769, 773, 787, 797, 809, 811, 821, 823, 827, 829, 839, 853, 857, 859, 863, 877, 881, 883, 887, 907, 911, 919, 929, 937, 941, 947, 953, 967, 971, 977, 983, 991, 997]\n"
          ],
          "name": "stdout"
        }
      ]
    },
    {
      "cell_type": "markdown",
      "metadata": {
        "id": "HUMf6mv-fQzN"
      },
      "source": [
        "#### 선생님 답안"
      ],
      "id": "HUMf6mv-fQzN"
    },
    {
      "cell_type": "markdown",
      "metadata": {
        "id": "bzMnhwZaG7UK"
      },
      "source": [
        "```\n",
        "for 반복구문 :\n",
        "    내용\n",
        "```\n",
        "- 반복구문이 true라면 내용을 수행\n",
        "- for 안에 break를 사용하면 반복문이 중단됩니다\n",
        "\n",
        "```\n",
        "for  반복구문:\n",
        "    내용\n",
        "else: \n",
        "    내용1\n",
        "```\n",
        "- for 에 있는 구문을 중간에 중단하지 않았다면 else에 있는 내용을 실행\n",
        "- for 대신에 while문에도 사용할 수도 있습니다."
      ],
      "id": "bzMnhwZaG7UK"
    },
    {
      "cell_type": "code",
      "metadata": {
        "id": "OKq5M2G2fDA_"
      },
      "source": [
        "#개수를 저장할 변수\n",
        "cnt = 0\n",
        "\n",
        "for i in range(2, 1001):\n",
        "    #특정 조건을 비교한 결과를 저장하기 위한 변수\n",
        "    flag = True\n",
        "    \n",
        "    for j in range(2, int(i/2)+1):\n",
        "        #나누어 떨어지면 False 로 변경\n",
        "        if i % j == 0:\n",
        "            flag = False\n",
        "            break\n",
        "    #한번도 나누어 떨어진 적이 없으면 소수        \n",
        "    if flag == True:\n",
        "        cnt = cnt + 1\n",
        "\n",
        "\n",
        "print('소수의 개수:', cnt)\n",
        "\n",
        "\n",
        "#개수를 저장할 변수\n",
        "cnt = 0\n",
        "\n",
        "for i in range(2, 1001):\n",
        "   \n",
        "    for j in range(2, int(i/2)+1):\n",
        "        #나누어 떨어지면 False 로 변경\n",
        "        if i % j == 0:\n",
        "            break\n",
        "    #파이썬에서 for 나 while 과 else 가 같이사용되면\n",
        "    #break를 만나지 않고 전부 반복문을 수행하면 else 구문이 수행됩니다.\n",
        "    else :\n",
        "        cnt = cnt + 1\n",
        "\n",
        "\n",
        "print('소수의 개수:', cnt)"
      ],
      "id": "OKq5M2G2fDA_",
      "execution_count": null,
      "outputs": []
    },
    {
      "cell_type": "code",
      "metadata": {
        "colab": {
          "base_uri": "https://localhost:8080/"
        },
        "id": "Khw6RxvTGUh9",
        "outputId": "9518a94c-3670-4179-95b2-b7e60248bd42"
      },
      "source": [
        "cnt = 0 \n",
        "for i in range(2, 1001):\n",
        "    for j in range(2, int(i/2) + 1):\n",
        "        # 나누어 떨어지면 False로 변경\n",
        "        if i % j == 0:\n",
        "            break\n",
        "\n",
        "    # 파이썬에서 for 나 while과else가 같이 사용되면 \n",
        "    # break를 만나지 않고 전부 반복문을 수행하면 else 구문이 수행됩니다.\n",
        "    else : \n",
        "        cnt = cnt + 1\n",
        "print('소수의 개수 : ', cnt)"
      ],
      "id": "Khw6RxvTGUh9",
      "execution_count": null,
      "outputs": [
        {
          "output_type": "stream",
          "text": [
            "소수의 개수 :  168\n"
          ],
          "name": "stdout"
        }
      ]
    },
    {
      "cell_type": "markdown",
      "metadata": {
        "id": "cw5vdEehXBcB"
      },
      "source": [
        "###4.2부터 1000까지 완전수 출력 하기\n",
        "- 완전수는 자기 자신을 제외한 약수의 합이 자기 자신과 동일한 수\n",
        "- 6 : 1 + 2 + 3"
      ],
      "id": "cw5vdEehXBcB"
    },
    {
      "cell_type": "markdown",
      "metadata": {
        "id": "70suy_q-fX4U"
      },
      "source": [
        "#### 나의 답안"
      ],
      "id": "70suy_q-fX4U"
    },
    {
      "cell_type": "code",
      "metadata": {
        "colab": {
          "base_uri": "https://localhost:8080/"
        },
        "id": "13WRPfztXBcB",
        "outputId": "2b37f5ee-a8ff-4b26-d029-29ef8658faf5"
      },
      "source": [
        "# 1부터 1000까지 순회\n",
        "for i in range(1, 1001):\n",
        "    # 약수값을 담는 리스트\n",
        "    li = []\n",
        "    # i만큼 순회\n",
        "    for j in range(1, i+1):\n",
        "        # i가 j로 나누어지면 j는 약수이므로 약수리스트에 추가\n",
        "        if i % j == 0:\n",
        "            li.append(j)\n",
        "    # 약수리스트의 합에서 자기 자신을 뺀 값이 자기 자신과 같을 경우 출력\n",
        "    if (sum(li) - i) == i:\n",
        "        print(i)"
      ],
      "id": "13WRPfztXBcB",
      "execution_count": null,
      "outputs": [
        {
          "output_type": "stream",
          "text": [
            "6\n",
            "28\n",
            "496\n"
          ],
          "name": "stdout"
        }
      ]
    },
    {
      "cell_type": "markdown",
      "metadata": {
        "id": "PdbIzMijfq4w"
      },
      "source": [
        "#### 선생님 답안"
      ],
      "id": "PdbIzMijfq4w"
    },
    {
      "cell_type": "code",
      "metadata": {
        "colab": {
          "base_uri": "https://localhost:8080/"
        },
        "id": "B5UXGkhBIS_t",
        "outputId": "e47ac6f1-7f1f-4fc4-bfc8-8784073f4d47"
      },
      "source": [
        "cnt = 0\n",
        "for i in range(2, 1001):\n",
        "    #1은 무조건 나누어떨어지므로 기본값으로 설정\n",
        "    s = 1\n",
        "    for j in range(2, int(i/2 ) + 1):\n",
        "        if i % j == 0:\n",
        "            s = s + j\n",
        "            \n",
        "    if i == s:\n",
        "        cnt = cnt + 1\n",
        "        \n",
        "print('완전수의 개수:', cnt)"
      ],
      "id": "B5UXGkhBIS_t",
      "execution_count": null,
      "outputs": [
        {
          "output_type": "stream",
          "text": [
            "완전수의 개수: 3\n"
          ],
          "name": "stdout"
        }
      ]
    },
    {
      "cell_type": "markdown",
      "metadata": {
        "id": "iJfm7heWXBcC"
      },
      "source": [
        "### 5.n번째 피보나치 수열의 값 출력하기 - 재귀를 사용하지 않고 반복문을 사용\n",
        "- 피보나치 수열은 1, 1, 2, 3, 5, 8, 13, 21, 34, 55, 89, 144 ..\n",
        "- 첫번째 와 두번째 숫자는 1\n",
        "세번째 숫자부터는 이전 2개의 항의 합\n",
        "n은 입력받아서 처리\n",
        "- 15번째 숫자를 출력해보세요"
      ],
      "id": "iJfm7heWXBcC"
    },
    {
      "cell_type": "markdown",
      "metadata": {
        "id": "xE6Vi0lif6-E"
      },
      "source": [
        "#### 나의 답안"
      ],
      "id": "xE6Vi0lif6-E"
    },
    {
      "cell_type": "markdown",
      "metadata": {
        "id": "KShmwuKfXwii"
      },
      "source": [
        "- for문 + 배열 사용"
      ],
      "id": "KShmwuKfXwii"
    },
    {
      "cell_type": "code",
      "metadata": {
        "colab": {
          "base_uri": "https://localhost:8080/"
        },
        "id": "uYBJ6nNFXJlr",
        "outputId": "7af086ca-08e3-4f70-b64a-9f6e3b961bed"
      },
      "source": [
        "# 숫자 입력받기\n",
        "num = int(input('n번째 피보나치 수열을 출력합니다 : '))\n",
        "# 피보나치 수열 리스트에 초기 값 설정\n",
        "li = [1, 1]\n",
        "# 입력받은 숫자만큼 순회\n",
        "for i in range(num):\n",
        "    # 수열 리스트에 i번째와 i+1번째합을 추가하기\n",
        "    li.append(li[i] + li[i+1])\n",
        "\n",
        "print(f'{num}번째 피보나치 수열는  {li[num-1]}입니다')"
      ],
      "id": "uYBJ6nNFXJlr",
      "execution_count": null,
      "outputs": [
        {
          "output_type": "stream",
          "text": [
            "n번째 피보나치 수열을 출력합니다 : 15\n",
            "15번째 피보나치 수열는  610입니다\n"
          ],
          "name": "stdout"
        }
      ]
    },
    {
      "cell_type": "markdown",
      "metadata": {
        "id": "zNhOts7qX7yZ"
      },
      "source": [
        "- for문 + 배열 없을 경우"
      ],
      "id": "zNhOts7qX7yZ"
    },
    {
      "cell_type": "code",
      "metadata": {
        "colab": {
          "base_uri": "https://localhost:8080/"
        },
        "id": "Wp6V-0AtTf43",
        "outputId": "e5836982-3f89-4063-d613-b2971eed23bb"
      },
      "source": [
        "# 숫자 입력받기\n",
        "num = int(input('n번째 피보나치 수열을 출력합니다 : '))\n",
        "\n",
        "l = 1 # n-2번째 항\n",
        "h = 1 # n-1번째 항\n",
        "p = 1 # n번째 항\n",
        "\n",
        "for i in range(2, num):\n",
        "    # n번째 항을 (n-2번째 항+ n-1번째 항)으로 설정\n",
        "    p = l + h\n",
        "    # n-2번째 항에 n-1번째 항을 설정\n",
        "    # n-1번째 항에 n번째 항을 설정\n",
        "    l,h = h,p\n",
        "\n",
        "# n번째 피보나치 수열 출력\n",
        "print(f'{num}번째 피보나치 수열는 {p}입니다')"
      ],
      "id": "Wp6V-0AtTf43",
      "execution_count": null,
      "outputs": [
        {
          "output_type": "stream",
          "text": [
            "n번째 피보나치 수열을 출력합니다 : 15\n",
            "15번째 피보나치 수열는 610입니다\n"
          ],
          "name": "stdout"
        }
      ]
    },
    {
      "cell_type": "markdown",
      "metadata": {
        "id": "PnYOKjtzf-L2"
      },
      "source": [
        "#### 선생님 답안"
      ],
      "id": "PnYOKjtzf-L2"
    },
    {
      "cell_type": "code",
      "metadata": {
        "id": "bUFmk1gUJASG"
      },
      "source": [
        "fibo = 1\n",
        "n1 = 1\n",
        "n2 = 1\n",
        "\n",
        "n = int(input('피보나치 수열의 숫자 입력:'))\n",
        "\n",
        "for i in range(3, n+1):\n",
        "    fibo = n1 + n2\n",
        "    n2 = n1\n",
        "    n1 = fibo\n",
        "\n",
        "print(fibo)"
      ],
      "id": "bUFmk1gUJASG",
      "execution_count": null,
      "outputs": []
    },
    {
      "cell_type": "markdown",
      "metadata": {
        "id": "EQHbOi-VXBcC"
      },
      "source": [
        "## 함수"
      ],
      "id": "EQHbOi-VXBcC"
    },
    {
      "cell_type": "markdown",
      "metadata": {
        "id": "8GI6Dk7GXBcC"
      },
      "source": [
        "### 1.n번째 피보나치 수열의 값을 출력하는 재귀 함수를 구현"
      ],
      "id": "8GI6Dk7GXBcC"
    },
    {
      "cell_type": "markdown",
      "metadata": {
        "id": "FhNac8tcYFOz"
      },
      "source": [
        "- 재귀함수 + 배열"
      ],
      "id": "FhNac8tcYFOz"
    },
    {
      "cell_type": "markdown",
      "metadata": {
        "id": "XQIdyQ5Uf75-"
      },
      "source": [
        "#### 나의 답안"
      ],
      "id": "XQIdyQ5Uf75-"
    },
    {
      "cell_type": "code",
      "metadata": {
        "colab": {
          "base_uri": "https://localhost:8080/"
        },
        "id": "32fFTLu_MYa7",
        "outputId": "678d77e5-9415-4e51-f30d-1aa81a66a657"
      },
      "source": [
        "def call_method(n):\n",
        "    i = len(p_list)\n",
        "    if i < n :\n",
        "        p_list.append(p_list[i-2] + p_list[i-1])\n",
        "        call_method(n)\n",
        "    else :\n",
        "        # n번째 피보나치 수열 출력\n",
        "        print(f'{n}번째 피보나치 수열는 {p_list[i-1]}입니다')\n",
        "\n",
        "p_list = [1, 1]\n",
        "num = int(input('n번째 피보나치 수열을 출력합니다 : '))\n",
        "call_method(num)"
      ],
      "id": "32fFTLu_MYa7",
      "execution_count": null,
      "outputs": [
        {
          "output_type": "stream",
          "text": [
            "n번째 피보나치 수열을 출력합니다 : 6\n",
            "6번째 피보나치 수열는 8입니다\n"
          ],
          "name": "stdout"
        }
      ]
    },
    {
      "cell_type": "markdown",
      "metadata": {
        "id": "2V5_ZhkRYI83"
      },
      "source": [
        "- 재귀함수 + 배열없음"
      ],
      "id": "2V5_ZhkRYI83"
    },
    {
      "cell_type": "code",
      "metadata": {
        "colab": {
          "base_uri": "https://localhost:8080/"
        },
        "id": "2YG-KwVPP_vN",
        "outputId": "e7e1106e-6cea-4f6e-e436-fe4f35c9e0d4"
      },
      "source": [
        "# 피보나치 수열을 구하는 재귀함수\n",
        "def call_method(n):\n",
        "    # 1보다 작거나 같을 경우 n반환 \n",
        "    if n <= 1:\n",
        "        return n\n",
        "        # call_method호출하여 n-2번째 항과 n-1번째 항을 더하기\n",
        "    return call_method(n-2) + call_method(n-1)\n",
        "\n",
        "num = int(input('n번째 피보나치 수열을 출력합니다 : '))\n",
        "\n",
        "print(f'{num}번째 피보나치 수열는 {call_method(num)}입니다')"
      ],
      "id": "2YG-KwVPP_vN",
      "execution_count": null,
      "outputs": [
        {
          "output_type": "stream",
          "text": [
            "n번째 피보나치 수열을 출력합니다 : 6\n",
            "6번째 피보나치 수열는 8입니다\n"
          ],
          "name": "stdout"
        }
      ]
    },
    {
      "cell_type": "markdown",
      "metadata": {
        "id": "L0Wrzb-nf_wf"
      },
      "source": [
        "#### 선생님 답안"
      ],
      "id": "L0Wrzb-nf_wf"
    },
    {
      "cell_type": "code",
      "metadata": {
        "colab": {
          "base_uri": "https://localhost:8080/"
        },
        "id": "sXF3T_3mKNC1",
        "outputId": "5a962ce1-981f-4bdb-b62c-3d731a92e269"
      },
      "source": [
        "# 피보나치 수열을 구하는 재귀함수\n",
        "def fibo(n):\n",
        "    # 1보다 작거나 같을 경우 n반환 \n",
        "    if n == 1 or n == 2:\n",
        "        return 1\n",
        "        # fibo호출하여 n-2번째 항과 n-1번째 항을 더하기\n",
        "    return fibo(n-2) + fibo(n-1)\n",
        "\n",
        "num = int(input('n번째 피보나치 수열을 출력합니다 : '))\n",
        "\n",
        "print(f'{num}번째 피보나치 수열는 {fibo(num)}입니다')"
      ],
      "id": "sXF3T_3mKNC1",
      "execution_count": null,
      "outputs": [
        {
          "output_type": "stream",
          "text": [
            "n번째 피보나치 수열을 출력합니다 : 15\n",
            "15번째 피보나치 수열는 610입니다\n"
          ],
          "name": "stdout"
        }
      ]
    }
  ]
}