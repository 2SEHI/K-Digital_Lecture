{
  "nbformat": 4,
  "nbformat_minor": 0,
  "metadata": {
    "colab": {
      "name": "pyTorch(LSTM-주가분석).ipynb",
      "provenance": [],
      "collapsed_sections": [],
      "toc_visible": true,
      "authorship_tag": "ABX9TyNVwqSRELc7I9UVB6IwyD4T",
      "include_colab_link": true
    },
    "kernelspec": {
      "name": "python3",
      "display_name": "Python 3"
    },
    "language_info": {
      "name": "python"
    }
  },
  "cells": [
    {
      "cell_type": "markdown",
      "metadata": {
        "id": "view-in-github",
        "colab_type": "text"
      },
      "source": [
        "<a href=\"https://colab.research.google.com/github/2SEHI/K-Digital_Lecture/blob/main/0820_pyTorch(LSTM%2C%20GRU%2C%20BERT)/pyTorch(LSTM_%EC%A3%BC%EA%B0%80%EB%B6%84%EC%84%9D).ipynb\" target=\"_parent\"><img src=\"https://colab.research.google.com/assets/colab-badge.svg\" alt=\"Open In Colab\"/></a>"
      ]
    },
    {
      "cell_type": "markdown",
      "metadata": {
        "id": "cLWmE9ZgYgp-"
      },
      "source": [
        "# LSTM를 이용한 주가예측\n",
        "- 과거의 데이터 패턴을 이용해서 미래의 데이터를 예측하는 것이라서 RNN을 이용하는 경우가 많습니다"
      ]
    },
    {
      "cell_type": "markdown",
      "metadata": {
        "id": "LLD-Hg5-YgnU"
      },
      "source": [
        "## 공통 처리\n"
      ]
    },
    {
      "cell_type": "markdown",
      "metadata": {
        "id": "28xh5zE_lewz"
      },
      "source": [
        "### 1) 필요한 라이브러리 import"
      ]
    },
    {
      "cell_type": "code",
      "metadata": {
        "id": "lQrNBjPOlewz"
      },
      "source": [
        "import numpy as np\n",
        "import pandas as pd\n",
        "import pandas_datareader.data as pdr\n",
        "\n",
        "import matplotlib.pyplot as plt\n",
        "import datetime\n",
        "\n",
        "import torch\n",
        "import torch.nn as nn\n",
        "import torch.optim as optim\n",
        "from torch.autograd import Variable\n",
        "from torch.utils.data import Dataset, DataLoader"
      ],
      "execution_count": null,
      "outputs": []
    },
    {
      "cell_type": "markdown",
      "metadata": {
        "id": "9sS4m4lDlauc"
      },
      "source": [
        "### 2) 데이터 가져오기\n",
        "\n",
        "```\n",
        "# 시작 날짜 설정\n",
        "start = (년, 월, 일)\n",
        "\n",
        "# *이 붙으면 collection의 데이터를 분할해서 대입\n",
        "# start의 년월일이 쪼개서 들어감\n",
        "start = datetime.datetime(*start)\n",
        "\n",
        "# 종료 날짜를 생성\n",
        "end = (년, 월, 일)\n",
        "end = datetime.datetime(*end)\n",
        "\n",
        "# 데이터 가져오기\n",
        "df = pdr.DataReader('주식 코드', 'yahoo', start, end)\n",
        "\n",
        "print(df.head())\n",
        "```"
      ]
    },
    {
      "cell_type": "markdown",
      "metadata": {
        "id": "xc_2D0RToZqV"
      },
      "source": [
        "#### ❗URL에러 날 경우 DataReader업그레이드 하기"
      ]
    },
    {
      "cell_type": "code",
      "metadata": {
        "id": "GqA6JYgLnvrO"
      },
      "source": [
        "!pip install --upgrade pandas\n",
        "!pip install --upgrade pandas-datareader"
      ],
      "execution_count": null,
      "outputs": []
    },
    {
      "cell_type": "code",
      "metadata": {
        "colab": {
          "base_uri": "https://localhost:8080/",
          "height": 411
        },
        "id": "ZSpacaqnmNJR",
        "outputId": "41c4d52b-f5c9-4df9-dbef-26620fcc0d02"
      },
      "source": [
        "year = 2000\n",
        "month = 1\n",
        "date = 1\n",
        "# 시작 날짜 설정\n",
        "start = (year, month, date)\n",
        "\n",
        "# *이 붙으면 collection의 데이터를 분할해서 대입\n",
        "# start의 년월일이 쪼개서 들어감\n",
        "start = datetime.datetime(*start)\n",
        "\n",
        "# 종료 날짜를 생성\n",
        "end = (year, month, date)\n",
        "# 오늘 날짜\n",
        "end = datetime.date.today()\n",
        "\n",
        "# 데이터 가져오기\n",
        "df = pdr.DataReader('005930.KS', 'yahoo', start, end)\n",
        "\n",
        "print(df.head())\n",
        "df.Close.plot(grid=True)"
      ],
      "execution_count": null,
      "outputs": [
        {
          "output_type": "stream",
          "text": [
            "              High     Low    Open   Close      Volume    Adj Close\n",
            "Date                                                               \n",
            "2000-01-04  6110.0  5660.0  6000.0  6110.0  74195000.0  4719.226074\n",
            "2000-01-05  6060.0  5520.0  5800.0  5580.0  74680000.0  4309.866211\n",
            "2000-01-06  5780.0  5580.0  5750.0  5620.0  54390000.0  4340.761230\n",
            "2000-01-07  5670.0  5360.0  5560.0  5540.0  40305000.0  4278.971680\n",
            "2000-01-10  5770.0  5580.0  5600.0  5770.0  46880000.0  4456.618652\n"
          ],
          "name": "stdout"
        },
        {
          "output_type": "execute_result",
          "data": {
            "text/plain": [
              "<matplotlib.axes._subplots.AxesSubplot at 0x7f6bf70abe90>"
            ]
          },
          "metadata": {},
          "execution_count": 2
        },
        {
          "output_type": "display_data",
          "data": {
            "image/png": "[encoded data removed]",
            "text/plain": [
              "<Figure size 432x288 with 1 Axes>"
            ]
          },
          "metadata": {
            "needs_background": "light"
          }
        }
      ]
    },
    {
      "cell_type": "markdown",
      "metadata": {
        "id": "7e_2OVwJqbi0"
      },
      "source": [
        "### 3) 레이블 추출\n",
        "- Volume을 타겟으로 지정"
      ]
    },
    {
      "cell_type": "code",
      "metadata": {
        "colab": {
          "base_uri": "https://localhost:8080/"
        },
        "id": "eYQL0B2UndE5",
        "outputId": "5664a406-4962-4ab1-b859-d835d01171cf"
      },
      "source": [
        "X = df.drop(columns='Volume')\n",
        "y = df.iloc[:, 3:4]\n",
        "\n",
        "print(y)\n",
        "print(type(y))"
      ],
      "execution_count": null,
      "outputs": [
        {
          "output_type": "stream",
          "text": [
            "              Close\n",
            "Date               \n",
            "2000-01-04   6110.0\n",
            "2000-01-05   5580.0\n",
            "2000-01-06   5620.0\n",
            "2000-01-07   5540.0\n",
            "2000-01-10   5770.0\n",
            "...             ...\n",
            "2021-08-13  74400.0\n",
            "2021-08-17  74200.0\n",
            "2021-08-18  73900.0\n",
            "2021-08-19  73100.0\n",
            "2021-08-20  72700.0\n",
            "\n",
            "[5433 rows x 1 columns]\n",
            "<class 'pandas.core.frame.DataFrame'>\n"
          ],
          "name": "stdout"
        }
      ]
    },
    {
      "cell_type": "markdown",
      "metadata": {
        "id": "r-7LiSiGqHpr"
      },
      "source": [
        "### 4) 데이터 정규화"
      ]
    },
    {
      "cell_type": "code",
      "metadata": {
        "colab": {
          "base_uri": "https://localhost:8080/"
        },
        "id": "JJrOybz8qtR1",
        "outputId": "818e3cf5-1f3b-4a91-e593-00e694bfd8da"
      },
      "source": [
        "from sklearn.preprocessing import StandardScaler, MinMaxScaler\n",
        "\n",
        "mm = MinMaxScaler()\n",
        "ss = StandardScaler()\n",
        "\n",
        "X_ss = ss.fit_transform(X)\n",
        "y_mm = mm.fit_transform(y)\n",
        "print(y_mm)\n",
        "print(X_ss.shape)"
      ],
      "execution_count": null,
      "outputs": [
        {
          "output_type": "stream",
          "text": [
            "[[0.03829161]\n",
            " [0.0322873 ]\n",
            " [0.03274046]\n",
            " ...\n",
            " [0.8062762 ]\n",
            " [0.7972131 ]\n",
            " [0.79268155]]\n",
            "(5433, 5)\n"
          ],
          "name": "stdout"
        }
      ]
    },
    {
      "cell_type": "markdown",
      "metadata": {
        "id": "JTEumCfc9M9N"
      },
      "source": [
        "### 5) 훈련 데이터와 테스트 데이터 분할"
      ]
    },
    {
      "cell_type": "code",
      "metadata": {
        "id": "j1omaPycrLYD"
      },
      "source": [
        "X_train = X_ss[:4500, :]\n",
        "X_test = X_ss[4500:, :]\n",
        "y_train = y_mm[:4500, :]\n",
        "y_test = y_mm[4500:, :]"
      ],
      "execution_count": null,
      "outputs": []
    },
    {
      "cell_type": "code",
      "metadata": {
        "colab": {
          "base_uri": "https://localhost:8080/"
        },
        "id": "w-odUwsqUx2u",
        "outputId": "5dfca62a-2b71-4bf8-dc8e-9431e91ec8e4"
      },
      "source": [
        "y_mm.shape"
      ],
      "execution_count": null,
      "outputs": [
        {
          "output_type": "execute_result",
          "data": {
            "text/plain": [
              "(5433, 1)"
            ]
          },
          "metadata": {},
          "execution_count": 77
        }
      ]
    },
    {
      "cell_type": "markdown",
      "metadata": {
        "id": "WeI8g2sB-d2-"
      },
      "source": [
        "### 6) 데이터를 텐서로 변경"
      ]
    },
    {
      "cell_type": "code",
      "metadata": {
        "colab": {
          "base_uri": "https://localhost:8080/"
        },
        "id": "6htIdwnn8gy2",
        "outputId": "1fe51e54-90c5-475c-deb4-dfbeea3a591f"
      },
      "source": [
        "# tensor로 변경\n",
        "X_train_tensors = Variable(torch.Tensor(X_train))\n",
        "X_test_tensors = Variable(torch.Tensor(X_test))\n",
        "\n",
        "y_train_tensors = Variable(torch.Tensor(y_train))\n",
        "y_test_tensors = Variable(torch.Tensor(y_test))\n",
        "\n",
        "# 3차원으로 변경\n",
        "X_train_tensors_final = torch.reshape(X_train_tensors,\n",
        "                                      (X_train_tensors.shape[0], 1, X_train_tensors.shape[1]))\n",
        "X_test_tensors_final = torch.reshape(X_test_tensors,\n",
        "                                      (X_test_tensors.shape[0], 1, X_test_tensors.shape[1]))\n",
        "\n",
        "print(X_train_tensors_final.shape, y_train_tensors.shape)\n",
        "print(X_test_tensors_final.shape, y_test_tensors.shape)"
      ],
      "execution_count": null,
      "outputs": [
        {
          "output_type": "stream",
          "text": [
            "torch.Size([5000, 1, 5]) torch.Size([5000, 1])\n",
            "torch.Size([433, 1, 5]) torch.Size([433, 1])\n"
          ],
          "name": "stdout"
        }
      ]
    },
    {
      "cell_type": "markdown",
      "metadata": {
        "id": "5B_2vPLA_SM4"
      },
      "source": [
        "### 7) 디바이스(GPU)설정"
      ]
    },
    {
      "cell_type": "code",
      "metadata": {
        "colab": {
          "base_uri": "https://localhost:8080/"
        },
        "id": "i18dt61qA4hN",
        "outputId": "4b050427-ebee-4219-edc4-b5cc5433f43c"
      },
      "source": [
        "if torch.cuda.is_available() :\n",
        "    DEVICE = torch.device('cuda')\n",
        "else :\n",
        "    DEVICE = torch.device('cpu')\n",
        "print('My Torch Version : ', torch.__version__, 'DEVICE : ', DEVICE)"
      ],
      "execution_count": null,
      "outputs": [
        {
          "output_type": "stream",
          "text": [
            "My Torch Version :  1.9.0+cu102 DEVICE :  cuda\n"
          ],
          "name": "stdout"
        }
      ]
    },
    {
      "cell_type": "markdown",
      "metadata": {
        "id": "Fi_JbLR6BJ6p"
      },
      "source": [
        "## LSTM모델"
      ]
    },
    {
      "cell_type": "markdown",
      "metadata": {
        "id": "moIBSt7ACEJ2"
      },
      "source": [
        "\n",
        "### 1) 모델 설계"
      ]
    },
    {
      "cell_type": "code",
      "metadata": {
        "id": "X-0QZz5HCGNy"
      },
      "source": [
        "class LSTM(nn.Module):\n",
        "    def __init__(self, num_classes, input_size, hidden_size, num_layers, seq_length):\n",
        "        super(LSTM, self).__init__()\n",
        "\n",
        "        self.num_classes = num_classes\n",
        "        self.input_size = input_size\n",
        "        self.hidden_size = hidden_size\n",
        "        self.num_layers = num_layers\n",
        "        self.seq_length = seq_length\n",
        "\n",
        "        self.lstm = nn.LSTM(input_size = input_size, hidden_size = hidden_size,\n",
        "                            num_layers=num_layers, batch_first = True)\n",
        "        \n",
        "        self.fc1 = nn.Linear(hidden_size, 128)\n",
        "        self.fc = nn.Linear(128, num_classes)\n",
        "        self.relu = nn.ReLU()\n",
        "\n",
        "    def forward(self, x):\n",
        "        # 셀 상태에 히든 상태를 초기화\n",
        "        # 0으로 채워진 tensor를 만듦(variable은 tensor) -> 초기화 함수를 만들지 않아도 됨\n",
        "        # hidden\n",
        "        h_0 = Variable(torch.zeros(self.num_layers, x.size(0), self.hidden_size)).to(DEVICE)\n",
        "        # cell상태\n",
        "        c_0 = Variable(torch.zeros(self.num_layers, x.size(0), self.hidden_size)).to(DEVICE)\n",
        "\n",
        "        # 히든 상태에 셀 상태를 0으로 만들어서 대입\n",
        "        output, (hn, cn) = self.lstm(x, (h_0, c_0))\n",
        "        hn = hn.view(-1, self.hidden_size)\n",
        "        out = self.relu(hn)\n",
        "        out = self.fc1(out)\n",
        "        out = self.relu(out)\n",
        "        out = self.fc(out)\n",
        "        return out"
      ],
      "execution_count": null,
      "outputs": []
    },
    {
      "cell_type": "markdown",
      "metadata": {
        "id": "BUqC65HFFi--"
      },
      "source": [
        "### 2) 하이퍼 파라미터 설정"
      ]
    },
    {
      "cell_type": "code",
      "metadata": {
        "id": "x97uOvdJF5TP"
      },
      "source": [
        "# 회귀이므로 더 많이 훈련\n",
        "num_epochs = 30000\n",
        "learning_rate = 0.00001\n",
        "\n",
        "input_size = 5 # time_step, 수정할 경우 output의 size와 맞춰줘야 함(X_train_tensors_final)\n",
        "hidden_size = 2 # 몇 개의 상태를 유지할 것인지 설정\n",
        "num_layers = 1 # 은닉층을 몇개 쌓을 것인지\n",
        "\n",
        "# 회귀는 결과가 무조건 1가지\n",
        "# 분류의 경우 몇가지로 분류할지 적으면 됨\n",
        "num_classes = 1 "
      ],
      "execution_count": null,
      "outputs": []
    },
    {
      "cell_type": "code",
      "metadata": {
        "colab": {
          "base_uri": "https://localhost:8080/"
        },
        "id": "cSdLgzzdQGF-",
        "outputId": "18dbf697-3763-4343-cd8e-6008622b4940"
      },
      "source": [
        "X_train_tensors_final.shape"
      ],
      "execution_count": null,
      "outputs": [
        {
          "output_type": "execute_result",
          "data": {
            "text/plain": [
              "torch.Size([5000, 1, 5])"
            ]
          },
          "metadata": {},
          "execution_count": 83
        }
      ]
    },
    {
      "cell_type": "markdown",
      "metadata": {
        "id": "OGwkaVF7GaoT"
      },
      "source": [
        "### 3) 모델 생성 및 손실 함수와 최적화 함수 생성"
      ]
    },
    {
      "cell_type": "code",
      "metadata": {
        "id": "x0Ibs5naJ0-a"
      },
      "source": [
        "lstm = LSTM(num_classes, input_size, hidden_size, num_layers,X_train_tensors_final.shape[1]).to(DEVICE)\n",
        "\n",
        "# 손실 함수\n",
        "loss_function = torch.nn.MSELoss()\n",
        "# 최적화 함수\n",
        "optimizer = torch.optim.Adam(lstm.parameters(), lr=learning_rate)"
      ],
      "execution_count": null,
      "outputs": []
    },
    {
      "cell_type": "markdown",
      "metadata": {
        "id": "_ywsDzq3KApF"
      },
      "source": [
        "### 4) 모델 훈련"
      ]
    },
    {
      "cell_type": "code",
      "metadata": {
        "colab": {
          "base_uri": "https://localhost:8080/"
        },
        "id": "GX3vIcMuKt_H",
        "outputId": "e210add8-1e4b-4aa3-a282-e0e4ed254720"
      },
      "source": [
        "for epoch in range(num_epochs):\n",
        "    outputs = lstm.forward(X_train_tensors_final.to(DEVICE))\n",
        "\n",
        "    loss = loss_function(outputs, y_train_tensors.to(DEVICE))\n",
        "\n",
        "    loss.backward()\n",
        "\n",
        "    optimizer.step()\n",
        "    if epoch % 100 == 0:\n",
        "        print(\"Epoch: %d loss %1.5f\" %(epoch, loss.item()))"
      ],
      "execution_count": null,
      "outputs": [
        {
          "output_type": "stream",
          "text": [
            "Epoch: 0 loss 0.07940\n",
            "Epoch: 100 loss 0.06853\n",
            "Epoch: 200 loss 0.05738\n",
            "Epoch: 300 loss 0.04789\n",
            "Epoch: 400 loss 0.04016\n",
            "Epoch: 500 loss 0.03411\n",
            "Epoch: 600 loss 0.02961\n",
            "Epoch: 700 loss 0.02652\n",
            "Epoch: 800 loss 0.02468\n",
            "Epoch: 900 loss 0.02392\n",
            "Epoch: 1000 loss 0.02407\n",
            "Epoch: 1100 loss 0.02493\n",
            "Epoch: 1200 loss 0.02630\n",
            "Epoch: 1300 loss 0.02799\n",
            "Epoch: 1400 loss 0.02984\n",
            "Epoch: 1500 loss 0.03167\n",
            "Epoch: 1600 loss 0.03335\n",
            "Epoch: 1700 loss 0.03476\n",
            "Epoch: 1800 loss 0.03578\n",
            "Epoch: 1900 loss 0.03630\n",
            "Epoch: 2000 loss 0.03621\n",
            "Epoch: 2100 loss 0.03542\n",
            "Epoch: 2200 loss 0.03391\n",
            "Epoch: 2300 loss 0.03172\n",
            "Epoch: 2400 loss 0.02899\n",
            "Epoch: 2500 loss 0.02594\n",
            "Epoch: 2600 loss 0.02283\n",
            "Epoch: 2700 loss 0.01990\n",
            "Epoch: 2800 loss 0.01738\n",
            "Epoch: 2900 loss 0.01540\n",
            "Epoch: 3000 loss 0.01406\n",
            "Epoch: 3100 loss 0.01334\n",
            "Epoch: 3200 loss 0.01323\n",
            "Epoch: 3300 loss 0.01362\n",
            "Epoch: 3400 loss 0.01442\n",
            "Epoch: 3500 loss 0.01549\n",
            "Epoch: 3600 loss 0.01667\n",
            "Epoch: 3700 loss 0.01782\n",
            "Epoch: 3800 loss 0.01879\n",
            "Epoch: 3900 loss 0.01942\n",
            "Epoch: 4000 loss 0.01962\n",
            "Epoch: 4100 loss 0.01930\n",
            "Epoch: 4200 loss 0.01846\n",
            "Epoch: 4300 loss 0.01713\n",
            "Epoch: 4400 loss 0.01539\n",
            "Epoch: 4500 loss 0.01341\n",
            "Epoch: 4600 loss 0.01132\n",
            "Epoch: 4700 loss 0.00932\n",
            "Epoch: 4800 loss 0.00753\n",
            "Epoch: 4900 loss 0.00608\n",
            "Epoch: 5000 loss 0.00502\n",
            "Epoch: 5100 loss 0.00438\n",
            "Epoch: 5200 loss 0.00413\n",
            "Epoch: 5300 loss 0.00423\n",
            "Epoch: 5400 loss 0.00459\n",
            "Epoch: 5500 loss 0.00512\n",
            "Epoch: 5600 loss 0.00573\n",
            "Epoch: 5700 loss 0.00632\n",
            "Epoch: 5800 loss 0.00679\n",
            "Epoch: 5900 loss 0.00708\n",
            "Epoch: 6000 loss 0.00714\n",
            "Epoch: 6100 loss 0.00696\n",
            "Epoch: 6200 loss 0.00655\n",
            "Epoch: 6300 loss 0.00594\n",
            "Epoch: 6400 loss 0.00520\n",
            "Epoch: 6500 loss 0.00444\n",
            "Epoch: 6600 loss 0.00373\n",
            "Epoch: 6700 loss 0.00317\n",
            "Epoch: 6800 loss 0.00283\n",
            "Epoch: 6900 loss 0.00273\n",
            "Epoch: 7000 loss 0.00289\n",
            "Epoch: 7100 loss 0.00330\n",
            "Epoch: 7200 loss 0.00391\n",
            "Epoch: 7300 loss 0.00465\n",
            "Epoch: 7400 loss 0.00546\n",
            "Epoch: 7500 loss 0.00625\n",
            "Epoch: 7600 loss 0.00693\n",
            "Epoch: 7700 loss 0.00745\n",
            "Epoch: 7800 loss 0.00774\n",
            "Epoch: 7900 loss 0.00779\n",
            "Epoch: 8000 loss 0.00762\n",
            "Epoch: 8100 loss 0.00729\n",
            "Epoch: 8200 loss 0.00688\n",
            "Epoch: 8300 loss 0.00648\n",
            "Epoch: 8400 loss 0.00617\n",
            "Epoch: 8500 loss 0.00600\n",
            "Epoch: 8600 loss 0.00600\n",
            "Epoch: 8700 loss 0.00615\n",
            "Epoch: 8800 loss 0.00641\n",
            "Epoch: 8900 loss 0.00673\n",
            "Epoch: 9000 loss 0.00703\n",
            "Epoch: 9100 loss 0.00725\n",
            "Epoch: 9200 loss 0.00732\n",
            "Epoch: 9300 loss 0.00721\n",
            "Epoch: 9400 loss 0.00691\n",
            "Epoch: 9500 loss 0.00645\n",
            "Epoch: 9600 loss 0.00588\n",
            "Epoch: 9700 loss 0.00527\n",
            "Epoch: 9800 loss 0.00467\n",
            "Epoch: 9900 loss 0.00413\n",
            "Epoch: 10000 loss 0.00370\n",
            "Epoch: 10100 loss 0.00338\n",
            "Epoch: 10200 loss 0.00318\n",
            "Epoch: 10300 loss 0.00308\n",
            "Epoch: 10400 loss 0.00305\n",
            "Epoch: 10500 loss 0.00304\n",
            "Epoch: 10600 loss 0.00302\n",
            "Epoch: 10700 loss 0.00294\n",
            "Epoch: 10800 loss 0.00279\n",
            "Epoch: 10900 loss 0.00254\n",
            "Epoch: 11000 loss 0.00222\n",
            "Epoch: 11100 loss 0.00185\n",
            "Epoch: 11200 loss 0.00148\n",
            "Epoch: 11300 loss 0.00115\n",
            "Epoch: 11400 loss 0.00089\n",
            "Epoch: 11500 loss 0.00073\n",
            "Epoch: 11600 loss 0.00066\n",
            "Epoch: 11700 loss 0.00066\n",
            "Epoch: 11800 loss 0.00071\n",
            "Epoch: 11900 loss 0.00078\n",
            "Epoch: 12000 loss 0.00085\n",
            "Epoch: 12100 loss 0.00089\n",
            "Epoch: 12200 loss 0.00088\n",
            "Epoch: 12300 loss 0.00083\n",
            "Epoch: 12400 loss 0.00075\n",
            "Epoch: 12500 loss 0.00065\n",
            "Epoch: 12600 loss 0.00057\n",
            "Epoch: 12700 loss 0.00052\n",
            "Epoch: 12800 loss 0.00052\n",
            "Epoch: 12900 loss 0.00058\n",
            "Epoch: 13000 loss 0.00070\n",
            "Epoch: 13100 loss 0.00086\n",
            "Epoch: 13200 loss 0.00103\n",
            "Epoch: 13300 loss 0.00120\n",
            "Epoch: 13400 loss 0.00133\n",
            "Epoch: 13500 loss 0.00143\n",
            "Epoch: 13600 loss 0.00148\n",
            "Epoch: 13700 loss 0.00150\n",
            "Epoch: 13800 loss 0.00151\n",
            "Epoch: 13900 loss 0.00154\n",
            "Epoch: 14000 loss 0.00160\n",
            "Epoch: 14100 loss 0.00170\n",
            "Epoch: 14200 loss 0.00183\n",
            "Epoch: 14300 loss 0.00198\n",
            "Epoch: 14400 loss 0.00212\n",
            "Epoch: 14500 loss 0.00225\n",
            "Epoch: 14600 loss 0.00235\n",
            "Epoch: 14700 loss 0.00240\n",
            "Epoch: 14800 loss 0.00242\n",
            "Epoch: 14900 loss 0.00241\n",
            "Epoch: 15000 loss 0.00240\n",
            "Epoch: 15100 loss 0.00239\n",
            "Epoch: 15200 loss 0.00240\n",
            "Epoch: 15300 loss 0.00242\n",
            "Epoch: 15400 loss 0.00246\n",
            "Epoch: 15500 loss 0.00249\n",
            "Epoch: 15600 loss 0.00250\n",
            "Epoch: 15700 loss 0.00248\n",
            "Epoch: 15800 loss 0.00243\n",
            "Epoch: 15900 loss 0.00235\n",
            "Epoch: 16000 loss 0.00227\n",
            "Epoch: 16100 loss 0.00218\n",
            "Epoch: 16200 loss 0.00212\n",
            "Epoch: 16300 loss 0.00206\n",
            "Epoch: 16400 loss 0.00202\n",
            "Epoch: 16500 loss 0.00199\n",
            "Epoch: 16600 loss 0.00195\n",
            "Epoch: 16700 loss 0.00191\n",
            "Epoch: 16800 loss 0.00186\n",
            "Epoch: 16900 loss 0.00181\n",
            "Epoch: 17000 loss 0.00175\n",
            "Epoch: 17100 loss 0.00169\n",
            "Epoch: 17200 loss 0.00164\n",
            "Epoch: 17300 loss 0.00161\n",
            "Epoch: 17400 loss 0.00158\n",
            "Epoch: 17500 loss 0.00156\n",
            "Epoch: 17600 loss 0.00155\n",
            "Epoch: 17700 loss 0.00153\n",
            "Epoch: 17800 loss 0.00152\n",
            "Epoch: 17900 loss 0.00149\n",
            "Epoch: 18000 loss 0.00147\n",
            "Epoch: 18100 loss 0.00144\n",
            "Epoch: 18200 loss 0.00142\n",
            "Epoch: 18300 loss 0.00140\n",
            "Epoch: 18400 loss 0.00138\n",
            "Epoch: 18500 loss 0.00136\n",
            "Epoch: 18600 loss 0.00134\n",
            "Epoch: 18700 loss 0.00131\n",
            "Epoch: 18800 loss 0.00127\n",
            "Epoch: 18900 loss 0.00123\n",
            "Epoch: 19000 loss 0.00118\n",
            "Epoch: 19100 loss 0.00112\n",
            "Epoch: 19200 loss 0.00107\n",
            "Epoch: 19300 loss 0.00101\n",
            "Epoch: 19400 loss 0.00095\n",
            "Epoch: 19500 loss 0.00089\n",
            "Epoch: 19600 loss 0.00083\n",
            "Epoch: 19700 loss 0.00077\n",
            "Epoch: 19800 loss 0.00070\n",
            "Epoch: 19900 loss 0.00064\n",
            "Epoch: 20000 loss 0.00058\n",
            "Epoch: 20100 loss 0.00052\n",
            "Epoch: 20200 loss 0.00046\n",
            "Epoch: 20300 loss 0.00041\n",
            "Epoch: 20400 loss 0.00036\n",
            "Epoch: 20500 loss 0.00031\n",
            "Epoch: 20600 loss 0.00027\n",
            "Epoch: 20700 loss 0.00023\n",
            "Epoch: 20800 loss 0.00020\n",
            "Epoch: 20900 loss 0.00016\n",
            "Epoch: 21000 loss 0.00014\n",
            "Epoch: 21100 loss 0.00012\n",
            "Epoch: 21200 loss 0.00010\n",
            "Epoch: 21300 loss 0.00009\n",
            "Epoch: 21400 loss 0.00009\n",
            "Epoch: 21500 loss 0.00009\n",
            "Epoch: 21600 loss 0.00009\n",
            "Epoch: 21700 loss 0.00009\n",
            "Epoch: 21800 loss 0.00010\n",
            "Epoch: 21900 loss 0.00011\n",
            "Epoch: 22000 loss 0.00012\n",
            "Epoch: 22100 loss 0.00014\n",
            "Epoch: 22200 loss 0.00015\n",
            "Epoch: 22300 loss 0.00017\n",
            "Epoch: 22400 loss 0.00019\n",
            "Epoch: 22500 loss 0.00021\n",
            "Epoch: 22600 loss 0.00023\n",
            "Epoch: 22700 loss 0.00025\n",
            "Epoch: 22800 loss 0.00027\n",
            "Epoch: 22900 loss 0.00029\n",
            "Epoch: 23000 loss 0.00031\n",
            "Epoch: 23100 loss 0.00033\n",
            "Epoch: 23200 loss 0.00035\n",
            "Epoch: 23300 loss 0.00036\n",
            "Epoch: 23400 loss 0.00038\n",
            "Epoch: 23500 loss 0.00039\n",
            "Epoch: 23600 loss 0.00040\n",
            "Epoch: 23700 loss 0.00042\n",
            "Epoch: 23800 loss 0.00042\n",
            "Epoch: 23900 loss 0.00043\n",
            "Epoch: 24000 loss 0.00044\n",
            "Epoch: 24100 loss 0.00044\n",
            "Epoch: 24200 loss 0.00044\n",
            "Epoch: 24300 loss 0.00044\n",
            "Epoch: 24400 loss 0.00044\n",
            "Epoch: 24500 loss 0.00044\n",
            "Epoch: 24600 loss 0.00044\n",
            "Epoch: 24700 loss 0.00043\n",
            "Epoch: 24800 loss 0.00043\n",
            "Epoch: 24900 loss 0.00042\n",
            "Epoch: 25000 loss 0.00042\n",
            "Epoch: 25100 loss 0.00041\n",
            "Epoch: 25200 loss 0.00041\n",
            "Epoch: 25300 loss 0.00040\n",
            "Epoch: 25400 loss 0.00040\n",
            "Epoch: 25500 loss 0.00039\n",
            "Epoch: 25600 loss 0.00039\n",
            "Epoch: 25700 loss 0.00038\n",
            "Epoch: 25800 loss 0.00037\n",
            "Epoch: 25900 loss 0.00036\n",
            "Epoch: 26000 loss 0.00035\n",
            "Epoch: 26100 loss 0.00034\n",
            "Epoch: 26200 loss 0.00033\n",
            "Epoch: 26300 loss 0.00031\n",
            "Epoch: 26400 loss 0.00030\n",
            "Epoch: 26500 loss 0.00028\n",
            "Epoch: 26600 loss 0.00027\n",
            "Epoch: 26700 loss 0.00026\n",
            "Epoch: 26800 loss 0.00024\n",
            "Epoch: 26900 loss 0.00023\n",
            "Epoch: 27000 loss 0.00022\n",
            "Epoch: 27100 loss 0.00020\n",
            "Epoch: 27200 loss 0.00019\n",
            "Epoch: 27300 loss 0.00018\n",
            "Epoch: 27400 loss 0.00017\n",
            "Epoch: 27500 loss 0.00016\n",
            "Epoch: 27600 loss 0.00016\n",
            "Epoch: 27700 loss 0.00015\n",
            "Epoch: 27800 loss 0.00015\n",
            "Epoch: 27900 loss 0.00015\n",
            "Epoch: 28000 loss 0.00014\n",
            "Epoch: 28100 loss 0.00014\n",
            "Epoch: 28200 loss 0.00014\n",
            "Epoch: 28300 loss 0.00014\n",
            "Epoch: 28400 loss 0.00014\n",
            "Epoch: 28500 loss 0.00014\n",
            "Epoch: 28600 loss 0.00014\n",
            "Epoch: 28700 loss 0.00014\n",
            "Epoch: 28800 loss 0.00014\n",
            "Epoch: 28900 loss 0.00014\n",
            "Epoch: 29000 loss 0.00014\n",
            "Epoch: 29100 loss 0.00015\n",
            "Epoch: 29200 loss 0.00015\n",
            "Epoch: 29300 loss 0.00015\n",
            "Epoch: 29400 loss 0.00016\n",
            "Epoch: 29500 loss 0.00016\n",
            "Epoch: 29600 loss 0.00017\n",
            "Epoch: 29700 loss 0.00017\n",
            "Epoch: 29800 loss 0.00018\n",
            "Epoch: 29900 loss 0.00018\n"
          ],
          "name": "stdout"
        }
      ]
    },
    {
      "cell_type": "markdown",
      "metadata": {
        "id": "S9Q08a3ILzan"
      },
      "source": [
        "### 5) 예측하기"
      ]
    },
    {
      "cell_type": "markdown",
      "metadata": {
        "id": "XzKpsMXpM-Pk"
      },
      "source": [
        "#### 예측에 사용할 데이터 만들기"
      ]
    },
    {
      "cell_type": "code",
      "metadata": {
        "id": "N6c3AUhqNEWz"
      },
      "source": [
        "df_X_ss = ss.fit_transform(df.drop(columns = 'Volume'))\n",
        "df_y_mm = mm.fit_transform(df.iloc[:, 5:6])\n",
        "\n",
        "df_X_ss = Variable(torch.Tensor(df_X_ss))\n",
        "df_y_mm = Variable(torch.Tensor(df_y_mm))\n",
        "\n",
        "df_X_ss = torch.reshape(df_X_ss, (df_X_ss.shape[0], 1, df_X_ss.shape[1]))"
      ],
      "execution_count": null,
      "outputs": []
    },
    {
      "cell_type": "markdown",
      "metadata": {
        "id": "rdvSANIMOA1n"
      },
      "source": [
        "#### 예측"
      ]
    },
    {
      "cell_type": "code",
      "metadata": {
        "colab": {
          "base_uri": "https://localhost:8080/",
          "height": 374
        },
        "id": "FprlYHCHOAaG",
        "outputId": "97d775fb-8051-4493-dc03-23899e61e269"
      },
      "source": [
        "# 예측\n",
        "train_predict = lstm(df_X_ss.to(DEVICE))\n",
        "# 예측한 결과가 tensor이므로 numpy로 변환\n",
        "data_predict = train_predict.data.detach().cpu().numpy()\n",
        "dataY_plot = df_y_mm.data.numpy()\n",
        "\n",
        "# 정규화된 데이터를 복원\n",
        "data_predict = mm.inverse_transform(data_predict)\n",
        "dataY_plot = mm.inverse_transform(dataY_plot)\n",
        "\n",
        "# 훈련에 사용한 데이터의 결과를 그래프로 그리기\n",
        "plt.figure(figsize=(10, 6))\n",
        "plt.axvline(x=4500, c='r', linestyle='--')\n",
        "\n",
        "plt.plot(dataY_plot, label='Actual Data')\n",
        "plt.plot(data_predict, label='Predicted Data')\n",
        "\n",
        "plt.legend()\n",
        "plt.show()"
      ],
      "execution_count": null,
      "outputs": [
        {
          "output_type": "display_data",
          "data": {
            "image/png": "[encoded data removed]",
            "text/plain": [
              "<Figure size 720x432 with 1 Axes>"
            ]
          },
          "metadata": {
            "needs_background": "light"
          }
        }
      ]
    },
    {
      "cell_type": "markdown",
      "metadata": {
        "id": "Ws7-FsmGS30j"
      },
      "source": [
        "attentionmask = 데이터가 있는 부분에만 1.0으로 하여 그부분만 학습 학습속도를 빠르게 함\n",
        "\n",
        "감성분석이기 때문에 2로 분류"
      ]
    }
  ]
}