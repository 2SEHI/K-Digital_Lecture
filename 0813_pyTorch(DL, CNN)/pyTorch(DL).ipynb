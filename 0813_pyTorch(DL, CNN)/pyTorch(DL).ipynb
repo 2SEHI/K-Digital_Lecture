{
  "nbformat": 4,
  "nbformat_minor": 0,
  "metadata": {
    "colab": {
      "name": "pyTorch(DL).ipynb",
      "provenance": [],
      "collapsed_sections": [],
      "toc_visible": true,
      "include_colab_link": true
    },
    "kernelspec": {
      "display_name": "Python 3",
      "language": "python",
      "name": "python3"
    },
    "language_info": {
      "codemirror_mode": {
        "name": "ipython",
        "version": 3
      },
      "file_extension": ".py",
      "mimetype": "text/x-python",
      "name": "python",
      "nbconvert_exporter": "python",
      "pygments_lexer": "ipython3",
      "version": "3.8.5"
    },
    "widgets": {
      "application/vnd.jupyter.widget-state+json": {
        "ea091b0e8bb149058cedac9a2256b89b": {
          "model_module": "@jupyter-widgets/controls",
          "model_name": "HBoxModel",
          "model_module_version": "1.5.0",
          "state": {
            "_view_name": "HBoxView",
            "_dom_classes": [],
            "_model_name": "HBoxModel",
            "_view_module": "@jupyter-widgets/controls",
            "_model_module_version": "1.5.0",
            "_view_count": null,
            "_view_module_version": "1.5.0",
            "box_style": "",
            "layout": "IPY_MODEL_4448004e3e514c0cb12877b88fac91ee",
            "_model_module": "@jupyter-widgets/controls",
            "children": [
              "IPY_MODEL_f02c19292a374fa3b953d0531626a562",
              "IPY_MODEL_7cfcd192de3b4377b150503f638cffa5"
            ]
          }
        },
        "4448004e3e514c0cb12877b88fac91ee": {
          "model_module": "@jupyter-widgets/base",
          "model_name": "LayoutModel",
          "model_module_version": "1.2.0",
          "state": {
            "_view_name": "LayoutView",
            "grid_template_rows": null,
            "right": null,
            "justify_content": null,
            "_view_module": "@jupyter-widgets/base",
            "overflow": null,
            "_model_module_version": "1.2.0",
            "_view_count": null,
            "flex_flow": null,
            "width": null,
            "min_width": null,
            "border": null,
            "align_items": null,
            "bottom": null,
            "_model_module": "@jupyter-widgets/base",
            "top": null,
            "grid_column": null,
            "overflow_y": null,
            "overflow_x": null,
            "grid_auto_flow": null,
            "grid_area": null,
            "grid_template_columns": null,
            "flex": null,
            "_model_name": "LayoutModel",
            "justify_items": null,
            "grid_row": null,
            "max_height": null,
            "align_content": null,
            "visibility": null,
            "align_self": null,
            "height": null,
            "min_height": null,
            "padding": null,
            "grid_auto_rows": null,
            "grid_gap": null,
            "max_width": null,
            "order": null,
            "_view_module_version": "1.2.0",
            "grid_template_areas": null,
            "object_position": null,
            "object_fit": null,
            "grid_auto_columns": null,
            "margin": null,
            "display": null,
            "left": null
          }
        },
        "f02c19292a374fa3b953d0531626a562": {
          "model_module": "@jupyter-widgets/controls",
          "model_name": "FloatProgressModel",
          "model_module_version": "1.5.0",
          "state": {
            "_view_name": "ProgressView",
            "style": "IPY_MODEL_bf94383d25b0433c84e2d3f74055527d",
            "_dom_classes": [],
            "description": "",
            "_model_name": "FloatProgressModel",
            "bar_style": "success",
            "max": 9912422,
            "_view_module": "@jupyter-widgets/controls",
            "_model_module_version": "1.5.0",
            "value": 9912422,
            "_view_count": null,
            "_view_module_version": "1.5.0",
            "orientation": "horizontal",
            "min": 0,
            "description_tooltip": null,
            "_model_module": "@jupyter-widgets/controls",
            "layout": "IPY_MODEL_ed0a664e2b334141b174dc5adbd410bd"
          }
        },
        "7cfcd192de3b4377b150503f638cffa5": {
          "model_module": "@jupyter-widgets/controls",
          "model_name": "HTMLModel",
          "model_module_version": "1.5.0",
          "state": {
            "_view_name": "HTMLView",
            "style": "IPY_MODEL_6f9cac6776f6451f9963794a398c2d0e",
            "_dom_classes": [],
            "description": "",
            "_model_name": "HTMLModel",
            "placeholder": "​",
            "_view_module": "@jupyter-widgets/controls",
            "_model_module_version": "1.5.0",
            "value": " 9913344/? [00:10&lt;00:00, 988472.42it/s]",
            "_view_count": null,
            "_view_module_version": "1.5.0",
            "description_tooltip": null,
            "_model_module": "@jupyter-widgets/controls",
            "layout": "IPY_MODEL_c493ac221b8b4c1687a887339c891d57"
          }
        },
        "bf94383d25b0433c84e2d3f74055527d": {
          "model_module": "@jupyter-widgets/controls",
          "model_name": "ProgressStyleModel",
          "model_module_version": "1.5.0",
          "state": {
            "_view_name": "StyleView",
            "_model_name": "ProgressStyleModel",
            "description_width": "initial",
            "_view_module": "@jupyter-widgets/base",
            "_model_module_version": "1.5.0",
            "_view_count": null,
            "_view_module_version": "1.2.0",
            "bar_color": null,
            "_model_module": "@jupyter-widgets/controls"
          }
        },
        "ed0a664e2b334141b174dc5adbd410bd": {
          "model_module": "@jupyter-widgets/base",
          "model_name": "LayoutModel",
          "model_module_version": "1.2.0",
          "state": {
            "_view_name": "LayoutView",
            "grid_template_rows": null,
            "right": null,
            "justify_content": null,
            "_view_module": "@jupyter-widgets/base",
            "overflow": null,
            "_model_module_version": "1.2.0",
            "_view_count": null,
            "flex_flow": null,
            "width": null,
            "min_width": null,
            "border": null,
            "align_items": null,
            "bottom": null,
            "_model_module": "@jupyter-widgets/base",
            "top": null,
            "grid_column": null,
            "overflow_y": null,
            "overflow_x": null,
            "grid_auto_flow": null,
            "grid_area": null,
            "grid_template_columns": null,
            "flex": null,
            "_model_name": "LayoutModel",
            "justify_items": null,
            "grid_row": null,
            "max_height": null,
            "align_content": null,
            "visibility": null,
            "align_self": null,
            "height": null,
            "min_height": null,
            "padding": null,
            "grid_auto_rows": null,
            "grid_gap": null,
            "max_width": null,
            "order": null,
            "_view_module_version": "1.2.0",
            "grid_template_areas": null,
            "object_position": null,
            "object_fit": null,
            "grid_auto_columns": null,
            "margin": null,
            "display": null,
            "left": null
          }
        },
        "6f9cac6776f6451f9963794a398c2d0e": {
          "model_module": "@jupyter-widgets/controls",
          "model_name": "DescriptionStyleModel",
          "model_module_version": "1.5.0",
          "state": {
            "_view_name": "StyleView",
            "_model_name": "DescriptionStyleModel",
            "description_width": "",
            "_view_module": "@jupyter-widgets/base",
            "_model_module_version": "1.5.0",
            "_view_count": null,
            "_view_module_version": "1.2.0",
            "_model_module": "@jupyter-widgets/controls"
          }
        },
        "c493ac221b8b4c1687a887339c891d57": {
          "model_module": "@jupyter-widgets/base",
          "model_name": "LayoutModel",
          "model_module_version": "1.2.0",
          "state": {
            "_view_name": "LayoutView",
            "grid_template_rows": null,
            "right": null,
            "justify_content": null,
            "_view_module": "@jupyter-widgets/base",
            "overflow": null,
            "_model_module_version": "1.2.0",
            "_view_count": null,
            "flex_flow": null,
            "width": null,
            "min_width": null,
            "border": null,
            "align_items": null,
            "bottom": null,
            "_model_module": "@jupyter-widgets/base",
            "top": null,
            "grid_column": null,
            "overflow_y": null,
            "overflow_x": null,
            "grid_auto_flow": null,
            "grid_area": null,
            "grid_template_columns": null,
            "flex": null,
            "_model_name": "LayoutModel",
            "justify_items": null,
            "grid_row": null,
            "max_height": null,
            "align_content": null,
            "visibility": null,
            "align_self": null,
            "height": null,
            "min_height": null,
            "padding": null,
            "grid_auto_rows": null,
            "grid_gap": null,
            "max_width": null,
            "order": null,
            "_view_module_version": "1.2.0",
            "grid_template_areas": null,
            "object_position": null,
            "object_fit": null,
            "grid_auto_columns": null,
            "margin": null,
            "display": null,
            "left": null
          }
        },
        "9a0c13f1b6cb40b29922591e3b3a3452": {
          "model_module": "@jupyter-widgets/controls",
          "model_name": "HBoxModel",
          "model_module_version": "1.5.0",
          "state": {
            "_view_name": "HBoxView",
            "_dom_classes": [],
            "_model_name": "HBoxModel",
            "_view_module": "@jupyter-widgets/controls",
            "_model_module_version": "1.5.0",
            "_view_count": null,
            "_view_module_version": "1.5.0",
            "box_style": "",
            "layout": "IPY_MODEL_4b6d968cb8ec449cbc0f0ec692150c9e",
            "_model_module": "@jupyter-widgets/controls",
            "children": [
              "IPY_MODEL_366e08e8abf744ddb0b29a4f82641d9b",
              "IPY_MODEL_d0aaee3104e6401ba73de291f4f2eea5"
            ]
          }
        },
        "4b6d968cb8ec449cbc0f0ec692150c9e": {
          "model_module": "@jupyter-widgets/base",
          "model_name": "LayoutModel",
          "model_module_version": "1.2.0",
          "state": {
            "_view_name": "LayoutView",
            "grid_template_rows": null,
            "right": null,
            "justify_content": null,
            "_view_module": "@jupyter-widgets/base",
            "overflow": null,
            "_model_module_version": "1.2.0",
            "_view_count": null,
            "flex_flow": null,
            "width": null,
            "min_width": null,
            "border": null,
            "align_items": null,
            "bottom": null,
            "_model_module": "@jupyter-widgets/base",
            "top": null,
            "grid_column": null,
            "overflow_y": null,
            "overflow_x": null,
            "grid_auto_flow": null,
            "grid_area": null,
            "grid_template_columns": null,
            "flex": null,
            "_model_name": "LayoutModel",
            "justify_items": null,
            "grid_row": null,
            "max_height": null,
            "align_content": null,
            "visibility": null,
            "align_self": null,
            "height": null,
            "min_height": null,
            "padding": null,
            "grid_auto_rows": null,
            "grid_gap": null,
            "max_width": null,
            "order": null,
            "_view_module_version": "1.2.0",
            "grid_template_areas": null,
            "object_position": null,
            "object_fit": null,
            "grid_auto_columns": null,
            "margin": null,
            "display": null,
            "left": null
          }
        },
        "366e08e8abf744ddb0b29a4f82641d9b": {
          "model_module": "@jupyter-widgets/controls",
          "model_name": "FloatProgressModel",
          "model_module_version": "1.5.0",
          "state": {
            "_view_name": "ProgressView",
            "style": "IPY_MODEL_15567fffbd0b4d37a46f45ad0a866fff",
            "_dom_classes": [],
            "description": "",
            "_model_name": "FloatProgressModel",
            "bar_style": "success",
            "max": 28881,
            "_view_module": "@jupyter-widgets/controls",
            "_model_module_version": "1.5.0",
            "value": 28881,
            "_view_count": null,
            "_view_module_version": "1.5.0",
            "orientation": "horizontal",
            "min": 0,
            "description_tooltip": null,
            "_model_module": "@jupyter-widgets/controls",
            "layout": "IPY_MODEL_04379bd629144e9990f597ff1d5a4021"
          }
        },
        "d0aaee3104e6401ba73de291f4f2eea5": {
          "model_module": "@jupyter-widgets/controls",
          "model_name": "HTMLModel",
          "model_module_version": "1.5.0",
          "state": {
            "_view_name": "HTMLView",
            "style": "IPY_MODEL_c6e559366838486183cfb3c13414a3d1",
            "_dom_classes": [],
            "description": "",
            "_model_name": "HTMLModel",
            "placeholder": "​",
            "_view_module": "@jupyter-widgets/controls",
            "_model_module_version": "1.5.0",
            "value": " 29696/? [00:05&lt;00:00, 5219.84it/s]",
            "_view_count": null,
            "_view_module_version": "1.5.0",
            "description_tooltip": null,
            "_model_module": "@jupyter-widgets/controls",
            "layout": "IPY_MODEL_a35096b9df034074b17e9d0a4a4176b4"
          }
        },
        "15567fffbd0b4d37a46f45ad0a866fff": {
          "model_module": "@jupyter-widgets/controls",
          "model_name": "ProgressStyleModel",
          "model_module_version": "1.5.0",
          "state": {
            "_view_name": "StyleView",
            "_model_name": "ProgressStyleModel",
            "description_width": "initial",
            "_view_module": "@jupyter-widgets/base",
            "_model_module_version": "1.5.0",
            "_view_count": null,
            "_view_module_version": "1.2.0",
            "bar_color": null,
            "_model_module": "@jupyter-widgets/controls"
          }
        },
        "04379bd629144e9990f597ff1d5a4021": {
          "model_module": "@jupyter-widgets/base",
          "model_name": "LayoutModel",
          "model_module_version": "1.2.0",
          "state": {
            "_view_name": "LayoutView",
            "grid_template_rows": null,
            "right": null,
            "justify_content": null,
            "_view_module": "@jupyter-widgets/base",
            "overflow": null,
            "_model_module_version": "1.2.0",
            "_view_count": null,
            "flex_flow": null,
            "width": null,
            "min_width": null,
            "border": null,
            "align_items": null,
            "bottom": null,
            "_model_module": "@jupyter-widgets/base",
            "top": null,
            "grid_column": null,
            "overflow_y": null,
            "overflow_x": null,
            "grid_auto_flow": null,
            "grid_area": null,
            "grid_template_columns": null,
            "flex": null,
            "_model_name": "LayoutModel",
            "justify_items": null,
            "grid_row": null,
            "max_height": null,
            "align_content": null,
            "visibility": null,
            "align_self": null,
            "height": null,
            "min_height": null,
            "padding": null,
            "grid_auto_rows": null,
            "grid_gap": null,
            "max_width": null,
            "order": null,
            "_view_module_version": "1.2.0",
            "grid_template_areas": null,
            "object_position": null,
            "object_fit": null,
            "grid_auto_columns": null,
            "margin": null,
            "display": null,
            "left": null
          }
        },
        "c6e559366838486183cfb3c13414a3d1": {
          "model_module": "@jupyter-widgets/controls",
          "model_name": "DescriptionStyleModel",
          "model_module_version": "1.5.0",
          "state": {
            "_view_name": "StyleView",
            "_model_name": "DescriptionStyleModel",
            "description_width": "",
            "_view_module": "@jupyter-widgets/base",
            "_model_module_version": "1.5.0",
            "_view_count": null,
            "_view_module_version": "1.2.0",
            "_model_module": "@jupyter-widgets/controls"
          }
        },
        "a35096b9df034074b17e9d0a4a4176b4": {
          "model_module": "@jupyter-widgets/base",
          "model_name": "LayoutModel",
          "model_module_version": "1.2.0",
          "state": {
            "_view_name": "LayoutView",
            "grid_template_rows": null,
            "right": null,
            "justify_content": null,
            "_view_module": "@jupyter-widgets/base",
            "overflow": null,
            "_model_module_version": "1.2.0",
            "_view_count": null,
            "flex_flow": null,
            "width": null,
            "min_width": null,
            "border": null,
            "align_items": null,
            "bottom": null,
            "_model_module": "@jupyter-widgets/base",
            "top": null,
            "grid_column": null,
            "overflow_y": null,
            "overflow_x": null,
            "grid_auto_flow": null,
            "grid_area": null,
            "grid_template_columns": null,
            "flex": null,
            "_model_name": "LayoutModel",
            "justify_items": null,
            "grid_row": null,
            "max_height": null,
            "align_content": null,
            "visibility": null,
            "align_self": null,
            "height": null,
            "min_height": null,
            "padding": null,
            "grid_auto_rows": null,
            "grid_gap": null,
            "max_width": null,
            "order": null,
            "_view_module_version": "1.2.0",
            "grid_template_areas": null,
            "object_position": null,
            "object_fit": null,
            "grid_auto_columns": null,
            "margin": null,
            "display": null,
            "left": null
          }
        },
        "b1dd55a4330740bd8306e75f9e126c92": {
          "model_module": "@jupyter-widgets/controls",
          "model_name": "HBoxModel",
          "model_module_version": "1.5.0",
          "state": {
            "_view_name": "HBoxView",
            "_dom_classes": [],
            "_model_name": "HBoxModel",
            "_view_module": "@jupyter-widgets/controls",
            "_model_module_version": "1.5.0",
            "_view_count": null,
            "_view_module_version": "1.5.0",
            "box_style": "",
            "layout": "IPY_MODEL_a84c1bb3eb5c45d18f22fe8026f7d2d8",
            "_model_module": "@jupyter-widgets/controls",
            "children": [
              "IPY_MODEL_aa788c5e2f1e43e9a5d9217749740f00",
              "IPY_MODEL_5aa78cfe9be947049f78da3f83d82d90"
            ]
          }
        },
        "a84c1bb3eb5c45d18f22fe8026f7d2d8": {
          "model_module": "@jupyter-widgets/base",
          "model_name": "LayoutModel",
          "model_module_version": "1.2.0",
          "state": {
            "_view_name": "LayoutView",
            "grid_template_rows": null,
            "right": null,
            "justify_content": null,
            "_view_module": "@jupyter-widgets/base",
            "overflow": null,
            "_model_module_version": "1.2.0",
            "_view_count": null,
            "flex_flow": null,
            "width": null,
            "min_width": null,
            "border": null,
            "align_items": null,
            "bottom": null,
            "_model_module": "@jupyter-widgets/base",
            "top": null,
            "grid_column": null,
            "overflow_y": null,
            "overflow_x": null,
            "grid_auto_flow": null,
            "grid_area": null,
            "grid_template_columns": null,
            "flex": null,
            "_model_name": "LayoutModel",
            "justify_items": null,
            "grid_row": null,
            "max_height": null,
            "align_content": null,
            "visibility": null,
            "align_self": null,
            "height": null,
            "min_height": null,
            "padding": null,
            "grid_auto_rows": null,
            "grid_gap": null,
            "max_width": null,
            "order": null,
            "_view_module_version": "1.2.0",
            "grid_template_areas": null,
            "object_position": null,
            "object_fit": null,
            "grid_auto_columns": null,
            "margin": null,
            "display": null,
            "left": null
          }
        },
        "aa788c5e2f1e43e9a5d9217749740f00": {
          "model_module": "@jupyter-widgets/controls",
          "model_name": "FloatProgressModel",
          "model_module_version": "1.5.0",
          "state": {
            "_view_name": "ProgressView",
            "style": "IPY_MODEL_19df797017c14eac8435b1f7102296ab",
            "_dom_classes": [],
            "description": "",
            "_model_name": "FloatProgressModel",
            "bar_style": "success",
            "max": 1648877,
            "_view_module": "@jupyter-widgets/controls",
            "_model_module_version": "1.5.0",
            "value": 1648877,
            "_view_count": null,
            "_view_module_version": "1.5.0",
            "orientation": "horizontal",
            "min": 0,
            "description_tooltip": null,
            "_model_module": "@jupyter-widgets/controls",
            "layout": "IPY_MODEL_c79c3d42c6e841ebb85b81b642c7abf3"
          }
        },
        "5aa78cfe9be947049f78da3f83d82d90": {
          "model_module": "@jupyter-widgets/controls",
          "model_name": "HTMLModel",
          "model_module_version": "1.5.0",
          "state": {
            "_view_name": "HTMLView",
            "style": "IPY_MODEL_a68618ad63df44d3853d399ae5d9151d",
            "_dom_classes": [],
            "description": "",
            "_model_name": "HTMLModel",
            "placeholder": "​",
            "_view_module": "@jupyter-widgets/controls",
            "_model_module_version": "1.5.0",
            "value": " 1649664/? [00:03&lt;00:00, 474171.32it/s]",
            "_view_count": null,
            "_view_module_version": "1.5.0",
            "description_tooltip": null,
            "_model_module": "@jupyter-widgets/controls",
            "layout": "IPY_MODEL_be73793ee00c4f03be009e4a85e23d7a"
          }
        },
        "19df797017c14eac8435b1f7102296ab": {
          "model_module": "@jupyter-widgets/controls",
          "model_name": "ProgressStyleModel",
          "model_module_version": "1.5.0",
          "state": {
            "_view_name": "StyleView",
            "_model_name": "ProgressStyleModel",
            "description_width": "initial",
            "_view_module": "@jupyter-widgets/base",
            "_model_module_version": "1.5.0",
            "_view_count": null,
            "_view_module_version": "1.2.0",
            "bar_color": null,
            "_model_module": "@jupyter-widgets/controls"
          }
        },
        "c79c3d42c6e841ebb85b81b642c7abf3": {
          "model_module": "@jupyter-widgets/base",
          "model_name": "LayoutModel",
          "model_module_version": "1.2.0",
          "state": {
            "_view_name": "LayoutView",
            "grid_template_rows": null,
            "right": null,
            "justify_content": null,
            "_view_module": "@jupyter-widgets/base",
            "overflow": null,
            "_model_module_version": "1.2.0",
            "_view_count": null,
            "flex_flow": null,
            "width": null,
            "min_width": null,
            "border": null,
            "align_items": null,
            "bottom": null,
            "_model_module": "@jupyter-widgets/base",
            "top": null,
            "grid_column": null,
            "overflow_y": null,
            "overflow_x": null,
            "grid_auto_flow": null,
            "grid_area": null,
            "grid_template_columns": null,
            "flex": null,
            "_model_name": "LayoutModel",
            "justify_items": null,
            "grid_row": null,
            "max_height": null,
            "align_content": null,
            "visibility": null,
            "align_self": null,
            "height": null,
            "min_height": null,
            "padding": null,
            "grid_auto_rows": null,
            "grid_gap": null,
            "max_width": null,
            "order": null,
            "_view_module_version": "1.2.0",
            "grid_template_areas": null,
            "object_position": null,
            "object_fit": null,
            "grid_auto_columns": null,
            "margin": null,
            "display": null,
            "left": null
          }
        },
        "a68618ad63df44d3853d399ae5d9151d": {
          "model_module": "@jupyter-widgets/controls",
          "model_name": "DescriptionStyleModel",
          "model_module_version": "1.5.0",
          "state": {
            "_view_name": "StyleView",
            "_model_name": "DescriptionStyleModel",
            "description_width": "",
            "_view_module": "@jupyter-widgets/base",
            "_model_module_version": "1.5.0",
            "_view_count": null,
            "_view_module_version": "1.2.0",
            "_model_module": "@jupyter-widgets/controls"
          }
        },
        "be73793ee00c4f03be009e4a85e23d7a": {
          "model_module": "@jupyter-widgets/base",
          "model_name": "LayoutModel",
          "model_module_version": "1.2.0",
          "state": {
            "_view_name": "LayoutView",
            "grid_template_rows": null,
            "right": null,
            "justify_content": null,
            "_view_module": "@jupyter-widgets/base",
            "overflow": null,
            "_model_module_version": "1.2.0",
            "_view_count": null,
            "flex_flow": null,
            "width": null,
            "min_width": null,
            "border": null,
            "align_items": null,
            "bottom": null,
            "_model_module": "@jupyter-widgets/base",
            "top": null,
            "grid_column": null,
            "overflow_y": null,
            "overflow_x": null,
            "grid_auto_flow": null,
            "grid_area": null,
            "grid_template_columns": null,
            "flex": null,
            "_model_name": "LayoutModel",
            "justify_items": null,
            "grid_row": null,
            "max_height": null,
            "align_content": null,
            "visibility": null,
            "align_self": null,
            "height": null,
            "min_height": null,
            "padding": null,
            "grid_auto_rows": null,
            "grid_gap": null,
            "max_width": null,
            "order": null,
            "_view_module_version": "1.2.0",
            "grid_template_areas": null,
            "object_position": null,
            "object_fit": null,
            "grid_auto_columns": null,
            "margin": null,
            "display": null,
            "left": null
          }
        },
        "f6f2b39748cf4e269d00bc2cd8e6941e": {
          "model_module": "@jupyter-widgets/controls",
          "model_name": "HBoxModel",
          "model_module_version": "1.5.0",
          "state": {
            "_view_name": "HBoxView",
            "_dom_classes": [],
            "_model_name": "HBoxModel",
            "_view_module": "@jupyter-widgets/controls",
            "_model_module_version": "1.5.0",
            "_view_count": null,
            "_view_module_version": "1.5.0",
            "box_style": "",
            "layout": "IPY_MODEL_4d3afe11ff88480a9cfdabea7a55c31e",
            "_model_module": "@jupyter-widgets/controls",
            "children": [
              "IPY_MODEL_225f197b15fd42d5806e138af511e728",
              "IPY_MODEL_66c08789dbec44feb5459c4b21b6f3bb"
            ]
          }
        },
        "4d3afe11ff88480a9cfdabea7a55c31e": {
          "model_module": "@jupyter-widgets/base",
          "model_name": "LayoutModel",
          "model_module_version": "1.2.0",
          "state": {
            "_view_name": "LayoutView",
            "grid_template_rows": null,
            "right": null,
            "justify_content": null,
            "_view_module": "@jupyter-widgets/base",
            "overflow": null,
            "_model_module_version": "1.2.0",
            "_view_count": null,
            "flex_flow": null,
            "width": null,
            "min_width": null,
            "border": null,
            "align_items": null,
            "bottom": null,
            "_model_module": "@jupyter-widgets/base",
            "top": null,
            "grid_column": null,
            "overflow_y": null,
            "overflow_x": null,
            "grid_auto_flow": null,
            "grid_area": null,
            "grid_template_columns": null,
            "flex": null,
            "_model_name": "LayoutModel",
            "justify_items": null,
            "grid_row": null,
            "max_height": null,
            "align_content": null,
            "visibility": null,
            "align_self": null,
            "height": null,
            "min_height": null,
            "padding": null,
            "grid_auto_rows": null,
            "grid_gap": null,
            "max_width": null,
            "order": null,
            "_view_module_version": "1.2.0",
            "grid_template_areas": null,
            "object_position": null,
            "object_fit": null,
            "grid_auto_columns": null,
            "margin": null,
            "display": null,
            "left": null
          }
        },
        "225f197b15fd42d5806e138af511e728": {
          "model_module": "@jupyter-widgets/controls",
          "model_name": "FloatProgressModel",
          "model_module_version": "1.5.0",
          "state": {
            "_view_name": "ProgressView",
            "style": "IPY_MODEL_2a0859b5dd8f4e71b9c180048649210e",
            "_dom_classes": [],
            "description": "",
            "_model_name": "FloatProgressModel",
            "bar_style": "success",
            "max": 4542,
            "_view_module": "@jupyter-widgets/controls",
            "_model_module_version": "1.5.0",
            "value": 4542,
            "_view_count": null,
            "_view_module_version": "1.5.0",
            "orientation": "horizontal",
            "min": 0,
            "description_tooltip": null,
            "_model_module": "@jupyter-widgets/controls",
            "layout": "IPY_MODEL_491de58824fb418b972401f46b32e590"
          }
        },
        "66c08789dbec44feb5459c4b21b6f3bb": {
          "model_module": "@jupyter-widgets/controls",
          "model_name": "HTMLModel",
          "model_module_version": "1.5.0",
          "state": {
            "_view_name": "HTMLView",
            "style": "IPY_MODEL_3608956726b94e40861ee5682010f84a",
            "_dom_classes": [],
            "description": "",
            "_model_name": "HTMLModel",
            "placeholder": "​",
            "_view_module": "@jupyter-widgets/controls",
            "_model_module_version": "1.5.0",
            "value": " 5120/? [00:00&lt;00:00, 42565.31it/s]",
            "_view_count": null,
            "_view_module_version": "1.5.0",
            "description_tooltip": null,
            "_model_module": "@jupyter-widgets/controls",
            "layout": "IPY_MODEL_141c3a56a6404843b9f51c27c9566d33"
          }
        },
        "2a0859b5dd8f4e71b9c180048649210e": {
          "model_module": "@jupyter-widgets/controls",
          "model_name": "ProgressStyleModel",
          "model_module_version": "1.5.0",
          "state": {
            "_view_name": "StyleView",
            "_model_name": "ProgressStyleModel",
            "description_width": "initial",
            "_view_module": "@jupyter-widgets/base",
            "_model_module_version": "1.5.0",
            "_view_count": null,
            "_view_module_version": "1.2.0",
            "bar_color": null,
            "_model_module": "@jupyter-widgets/controls"
          }
        },
        "491de58824fb418b972401f46b32e590": {
          "model_module": "@jupyter-widgets/base",
          "model_name": "LayoutModel",
          "model_module_version": "1.2.0",
          "state": {
            "_view_name": "LayoutView",
            "grid_template_rows": null,
            "right": null,
            "justify_content": null,
            "_view_module": "@jupyter-widgets/base",
            "overflow": null,
            "_model_module_version": "1.2.0",
            "_view_count": null,
            "flex_flow": null,
            "width": null,
            "min_width": null,
            "border": null,
            "align_items": null,
            "bottom": null,
            "_model_module": "@jupyter-widgets/base",
            "top": null,
            "grid_column": null,
            "overflow_y": null,
            "overflow_x": null,
            "grid_auto_flow": null,
            "grid_area": null,
            "grid_template_columns": null,
            "flex": null,
            "_model_name": "LayoutModel",
            "justify_items": null,
            "grid_row": null,
            "max_height": null,
            "align_content": null,
            "visibility": null,
            "align_self": null,
            "height": null,
            "min_height": null,
            "padding": null,
            "grid_auto_rows": null,
            "grid_gap": null,
            "max_width": null,
            "order": null,
            "_view_module_version": "1.2.0",
            "grid_template_areas": null,
            "object_position": null,
            "object_fit": null,
            "grid_auto_columns": null,
            "margin": null,
            "display": null,
            "left": null
          }
        },
        "3608956726b94e40861ee5682010f84a": {
          "model_module": "@jupyter-widgets/controls",
          "model_name": "DescriptionStyleModel",
          "model_module_version": "1.5.0",
          "state": {
            "_view_name": "StyleView",
            "_model_name": "DescriptionStyleModel",
            "description_width": "",
            "_view_module": "@jupyter-widgets/base",
            "_model_module_version": "1.5.0",
            "_view_count": null,
            "_view_module_version": "1.2.0",
            "_model_module": "@jupyter-widgets/controls"
          }
        },
        "141c3a56a6404843b9f51c27c9566d33": {
          "model_module": "@jupyter-widgets/base",
          "model_name": "LayoutModel",
          "model_module_version": "1.2.0",
          "state": {
            "_view_name": "LayoutView",
            "grid_template_rows": null,
            "right": null,
            "justify_content": null,
            "_view_module": "@jupyter-widgets/base",
            "overflow": null,
            "_model_module_version": "1.2.0",
            "_view_count": null,
            "flex_flow": null,
            "width": null,
            "min_width": null,
            "border": null,
            "align_items": null,
            "bottom": null,
            "_model_module": "@jupyter-widgets/base",
            "top": null,
            "grid_column": null,
            "overflow_y": null,
            "overflow_x": null,
            "grid_auto_flow": null,
            "grid_area": null,
            "grid_template_columns": null,
            "flex": null,
            "_model_name": "LayoutModel",
            "justify_items": null,
            "grid_row": null,
            "max_height": null,
            "align_content": null,
            "visibility": null,
            "align_self": null,
            "height": null,
            "min_height": null,
            "padding": null,
            "grid_auto_rows": null,
            "grid_gap": null,
            "max_width": null,
            "order": null,
            "_view_module_version": "1.2.0",
            "grid_template_areas": null,
            "object_position": null,
            "object_fit": null,
            "grid_auto_columns": null,
            "margin": null,
            "display": null,
            "left": null
          }
        }
      }
    },
    "accelerator": "GPU"
  },
  "cells": [
    {
      "cell_type": "markdown",
      "metadata": {
        "id": "view-in-github",
        "colab_type": "text"
      },
      "source": [
        "<a href=\"https://colab.research.google.com/github/2SEHI/K-Digital_Lecture/blob/main/0813_pyTorch(DL%2C%20CNN)/pyTorch(DL).ipynb\" target=\"_parent\"><img src=\"https://colab.research.google.com/assets/colab-badge.svg\" alt=\"Open In Colab\"/></a>"
      ]
    },
    {
      "cell_type": "markdown",
      "metadata": {
        "id": "SJchP6G05Cge"
      },
      "source": [
        "# PyTorch\n",
        "- facebook이 만든 python을 위한 오픈소스 머신러닝 라이브러리\n",
        "- GPU사용이 가능하기 때문에 속도가 빠릅니다.\n",
        "- TensorFlow가 먼저 나와서 현재까지 TensorFlow의 사용자가 더 많지만 비직관적인 구조와 높은 난이도로 인해 최근에는 PyTorch사용자가 늘어나고 있습니다\n",
        "- TensorFlow가 비직관적인 구조 문제를 해결하기 위해서 2.0에서 Keras를 받아들입니다\n",
        "- Microsoft의 프레임워크가 모델 전환이 가능합니다"
      ]
    },
    {
      "cell_type": "markdown",
      "metadata": {
        "id": "-vDhNs-n274-"
      },
      "source": [
        "## 1.PyTorch 설치\n",
        "``` pip3 install torch torchvision```\n",
        "\n",
        "또는 \n",
        "\n",
        "```conda install pytorch torchvision -c pytorch```\n",
        "\n"
      ]
    },
    {
      "cell_type": "markdown",
      "metadata": {
        "id": "diDyOm4z2-Sb"
      },
      "source": [
        "## 2.GPU사용하려면?\n",
        "- CUDA설치\n",
        "https://developer.nvidia.com/cuda-toolkit-archive\n",
        "- cuDNN 설치 : CUDA와 반드시 함께 설치해야 합니다."
      ]
    },
    {
      "cell_type": "markdown",
      "metadata": {
        "id": "X3bs3WWv2_pu"
      },
      "source": [
        "### 1) PyTorch가 잘 깔렸는지 확인"
      ]
    },
    {
      "cell_type": "code",
      "metadata": {
        "colab": {
          "base_uri": "https://localhost:8080/"
        },
        "id": "4kqSpGlY5Cgm",
        "outputId": "dd794b69-92ec-44ef-be45-dc2173a5bc7b"
      },
      "source": [
        "import torch\n",
        "x = torch.rand(5,3)\n",
        "print(x)"
      ],
      "execution_count": null,
      "outputs": [
        {
          "output_type": "stream",
          "text": [
            "tensor([[0.1497, 0.3180, 0.1559],\n",
            "        [0.6384, 0.5569, 0.9605],\n",
            "        [0.5396, 0.8992, 0.4168],\n",
            "        [0.7957, 0.1387, 0.6528],\n",
            "        [0.5100, 0.7092, 0.0756]])\n"
          ],
          "name": "stdout"
        }
      ]
    },
    {
      "cell_type": "markdown",
      "metadata": {
        "id": "aP_YIZUc5Cgx"
      },
      "source": [
        "## 3.Tensor\n",
        "- 데이터를 표현하는 단위입니다\n"
      ]
    },
    {
      "cell_type": "markdown",
      "metadata": {
        "id": "EV1HZC4P3aij"
      },
      "source": [
        "### 1) Scalar\n",
        "- 상숫값으로 하나의 값을 표현할 때 1개의 수치로 표현한 것"
      ]
    },
    {
      "cell_type": "code",
      "metadata": {
        "id": "TaVzBNCT5Cg1"
      },
      "source": [
        "# 스칼라는 하나의 값을 의미합니다\n",
        "scalar_data = torch.tensor([1.0])\n",
        "print(scalar_data)"
      ],
      "execution_count": null,
      "outputs": []
    },
    {
      "cell_type": "markdown",
      "metadata": {
        "id": "-ZIlaJp35Cg3"
      },
      "source": [
        "### 2) Vector\n",
        "- 원래의 의미는 데이터의 모임이지만, 프로그래밍 언어에서는 Collection이라는 표현으로 많이 사용됩니다\n",
        "- 1차원으로 모인 데이터의 집합입니다\n",
        "- Vector끼리 연산을 하면 동일한 위치의 데이터끼리 연산을 수행합니다.\n",
        "- torch에서도 numpy의 ndarray에서 사용했던 대다수의 연산을 제공합니다."
      ]
    },
    {
      "cell_type": "code",
      "metadata": {
        "colab": {
          "base_uri": "https://localhost:8080/"
        },
        "id": "dyYuxQZA5Cg4",
        "outputId": "3af98f85-4794-4427-e7cf-6263108d6560"
      },
      "source": [
        "vec1 = torch.tensor([1.0, 2.0])\n",
        "vec2 = torch.tensor([4.0, 5.0])\n",
        "\n",
        "print(vec1 + vec2)\n",
        "\n",
        "# numpy의 거의 모든 연산 함수를 torch가 제공\n",
        "# 행과 열 단위로 계산하므로 연산이 안되어야 맞지만 하나의 vector를 열로 보고 연산을 수행합니다\n",
        "print(torch.dot(vec1, vec2))"
      ],
      "execution_count": null,
      "outputs": [
        {
          "output_type": "stream",
          "text": [
            "tensor([5., 7.])\n",
            "tensor(14.)\n"
          ],
          "name": "stdout"
        }
      ]
    },
    {
      "cell_type": "markdown",
      "metadata": {
        "id": "ecgitFSv5Cg8"
      },
      "source": [
        "- 구조가 다른 두 벡터를 더할 경우 에러 발생"
      ]
    },
    {
      "cell_type": "code",
      "metadata": {
        "colab": {
          "base_uri": "https://localhost:8080/",
          "height": 208
        },
        "id": "0-TSnK585Cg_",
        "outputId": "6df3ef50-014f-45d2-cab8-8ba54319932d"
      },
      "source": [
        "## 구조가 다를 경우 에러가 발생합니다\n",
        "vec1 = torch.tensor([1.0, 2.0])\n",
        "vec2 = torch.tensor([4.0, 5.0, 6.0])\n",
        "\n",
        "print(vec1 + vec2)"
      ],
      "execution_count": null,
      "outputs": [
        {
          "output_type": "error",
          "ename": "RuntimeError",
          "evalue": "ignored",
          "traceback": [
            "\u001b[0;31m---------------------------------------------------------------------------\u001b[0m",
            "\u001b[0;31mRuntimeError\u001b[0m                              Traceback (most recent call last)",
            "\u001b[0;32m<ipython-input-50-0b1d0dd8ea46>\u001b[0m in \u001b[0;36m<module>\u001b[0;34m()\u001b[0m\n\u001b[1;32m      3\u001b[0m \u001b[0mvec2\u001b[0m \u001b[0;34m=\u001b[0m \u001b[0mtorch\u001b[0m\u001b[0;34m.\u001b[0m\u001b[0mtensor\u001b[0m\u001b[0;34m(\u001b[0m\u001b[0;34m[\u001b[0m\u001b[0;36m4.0\u001b[0m\u001b[0;34m,\u001b[0m \u001b[0;36m5.0\u001b[0m\u001b[0;34m,\u001b[0m \u001b[0;36m6.0\u001b[0m\u001b[0;34m]\u001b[0m\u001b[0;34m)\u001b[0m\u001b[0;34m\u001b[0m\u001b[0;34m\u001b[0m\u001b[0m\n\u001b[1;32m      4\u001b[0m \u001b[0;34m\u001b[0m\u001b[0m\n\u001b[0;32m----> 5\u001b[0;31m \u001b[0mprint\u001b[0m\u001b[0;34m(\u001b[0m\u001b[0mvec1\u001b[0m \u001b[0;34m+\u001b[0m \u001b[0mvec2\u001b[0m\u001b[0;34m)\u001b[0m\u001b[0;34m\u001b[0m\u001b[0;34m\u001b[0m\u001b[0m\n\u001b[0m",
            "\u001b[0;31mRuntimeError\u001b[0m: The size of tensor a (2) must match the size of tensor b (3) at non-singleton dimension 0"
          ]
        }
      ]
    },
    {
      "cell_type": "markdown",
      "metadata": {
        "id": "r0aTZQf55ChB"
      },
      "source": [
        "### 3) Matrix\n",
        "- Maxric는 행과 열의 구조를 벡터의 모임으로 우리가 보통 테이블이라고 부르는 것은 Matrix입니다\n",
        "- 행렬 곱 연산(내적)을 구하는 메소드로 matmul을 제공합니다."
      ]
    },
    {
      "cell_type": "code",
      "metadata": {
        "colab": {
          "base_uri": "https://localhost:8080/"
        },
        "id": "Z0mZFCyf5ChE",
        "outputId": "d82ab853-33eb-4ecd-b358-8d46f9548d3c"
      },
      "source": [
        "matrix1 = torch.tensor([[1, 2],\n",
        "                        [3, 4]])\n",
        "matrix2 = torch.tensor([[5, 6],\n",
        "                        [7, 8]])\n",
        "print(torch.matmul(matrix1, matrix2))"
      ],
      "execution_count": null,
      "outputs": [
        {
          "output_type": "stream",
          "text": [
            "tensor([[19, 22],\n",
            "        [43, 50]])\n"
          ],
          "name": "stdout"
        }
      ]
    },
    {
      "cell_type": "markdown",
      "metadata": {
        "id": "YK1xOYQc5ChH"
      },
      "source": [
        "### 4) Tensor\n",
        "- 통상적으로 Tensor라고 부르는 것은 3차원 이상입니다\n",
        "- Matrix의 배열입니다\n"
      ]
    },
    {
      "cell_type": "markdown",
      "metadata": {
        "id": "GOg8msX73j6f"
      },
      "source": [
        "#### Tensor의 직접 생성방법"
      ]
    },
    {
      "cell_type": "code",
      "metadata": {
        "colab": {
          "base_uri": "https://localhost:8080/"
        },
        "id": "oFKuORvF5ChI",
        "outputId": "fc51b95c-7d7a-4e43-bf4d-84587c7b3b3d"
      },
      "source": [
        "tensor1 = torch.tensor([[[1, 2], [3, 4]], [[5, 6], [7, 8]]])\n",
        "tensor1"
      ],
      "execution_count": null,
      "outputs": [
        {
          "output_type": "execute_result",
          "data": {
            "text/plain": [
              "tensor([[[1, 2],\n",
              "         [3, 4]],\n",
              "\n",
              "        [[5, 6],\n",
              "         [7, 8]]])"
            ]
          },
          "metadata": {
            "tags": []
          },
          "execution_count": 52
        }
      ]
    },
    {
      "cell_type": "markdown",
      "metadata": {
        "id": "tau3W66N5ChM"
      },
      "source": [
        "## 4.GPU사용 가능 여부 확인\n",
        "- torch.cuda.is_available()가 GPU사용이 가능한지 True / False로 반환합니다"
      ]
    },
    {
      "cell_type": "code",
      "metadata": {
        "colab": {
          "base_uri": "https://localhost:8080/"
        },
        "id": "JvZsoNvV5ChN",
        "outputId": "8b5ef293-a1bc-42c2-b6c3-2a85c3a1eb26"
      },
      "source": [
        "import torch\n",
        "if torch.cuda.is_available() :\n",
        "    DEVICE = torch.device('cuda')\n",
        "else :\n",
        "    DEVICE = torch.device('cpu')\n",
        "print('torch version : ', torch.__version__)\n",
        "print('DEVICE : ', DEVICE)"
      ],
      "execution_count": null,
      "outputs": [
        {
          "output_type": "stream",
          "text": [
            "torch version :  1.9.0+cu102\n",
            "DEVICE :  cuda\n"
          ],
          "name": "stdout"
        }
      ]
    },
    {
      "cell_type": "markdown",
      "metadata": {
        "id": "ZgBy7jwM5ChQ"
      },
      "source": [
        "## 5.Autograd\n",
        "- torch.autograd 는 신경망 학습을 지원하는 PyTorch의 자동 미분 엔진입니다.\n",
        "- 신경망이 역전파(Back Propagation)를 사용하기 때문에 파라미터를 업데이트하는 방법을 구현하기 위한 엔진입니다."
      ]
    },
    {
      "cell_type": "markdown",
      "metadata": {
        "id": "BqwhyOHn5Chb"
      },
      "source": [
        "### 4가지의 값\n",
        "#### BATCH_SIZE\n",
        "- 딥 러닝 모델에서 파라미터를 업데이트할 때 계산되는 데이터의 개수\n",
        "#### INPUT_SIZE\n",
        "#### HIDDEN_SIZE\n",
        "- 운둔 층\n",
        "#### OUPUT_SIZE\n",
        "- 최종으로 출력되는 값을 벡터의 크기라고 말합니다.\n",
        "- 예를 들어 MINIST의 output은 숫자0-9까지의 10가지 모양인데 실제로는 각 클래스(숫자 0~9까지)에 해당하는 확률을 리턴하기 때문에 10차원으로 출력해야 합니다.\n",
        "(회귀는 하나의 값을 받지만 , 분류는 0이나 1이될 확률을 받습니다.)\n",
        "- 원 핫 인코딩한 결과라고 생각해야 합니다.\n",
        "\n",
        "\n",
        "\n",
        "```\n",
        "# nput size가 (64, 1000) 인 데이터를 (1000, 100) 크기의 행렬과 행렬 곱을 계산하기 위한 수입니다\n",
        "BATCH_SIZE = 64\n",
        "INPUT_SIZE = 1000\n",
        "HIDDEN_SIZE = 100\n",
        "OUTPUT_SIZE = 10\n",
        "```"
      ]
    },
    {
      "cell_type": "markdown",
      "metadata": {
        "id": "PZCg37b55Chn"
      },
      "source": [
        "## MLP(Multi Layer Perceptron)\n",
        "- 퍼셉트론의 한계를 극복하기 위해 중간에 Hidden Layer를 추가하여 여러 Layer를 쌓아올린 모델입니다.\n",
        "- 여러 개의 Layer를 이용해서 비선형 문제를 해결하는데 Lauer가 추가되면 깊이기 깊어져 Deep Learning이라고 부릅니다.\n",
        "\n",
        "\n",
        "### 사람의 손글씨를 분류하기 위한 MLP설계\n",
        "- MNIST의 Target종류가 10가지\n",
        "\n",
        "- [1. 필요한 모듈 임포트](#1.-모듈-import)\n",
        "- [2. 장비 확인](#2.장비-설정)\n",
        "- [3. 데이터 다운로드 및 분할](#3.데이터-가져오기)\n",
        "- [4. 데이터 확인](#4.데이터-확인)\n",
        "- [5. MLP 모델 설계](#5.-MLP-모델-설계)\n",
        "- [6. Optimizer, Objectiver Function 설정](#6.-모델-객체-생성-및-Optimizer와-Loss함수-생성)\n",
        "- [7. 학습을 진행하면서 모델 성능을 확인하는 함수 정의](#7.-훈련-도중-학습을-진행하면서-모델-성능을-확인하는-함수-정의)\n",
        "- [8. 학습을 진행하면서 검증 데이터에 대한 모델의 성능을 확인하는 함수 정의](#8.-훈련-도중-학습을-진행하면서-검증-데이터에-대한-모델의-성능을-확인하는-함수-정의)\n",
        "- [9. 학습을 수행하면서 Train, Test 데이터의 Loss 및 Accuracy 확인](#9.-학습을-수행하면서-Train,-Test-데이터의-Loss-및-Accuracy-확인)\n",
        "\n",
        "#### 1. 모듈-import"
      ]
    },
    {
      "cell_type": "code",
      "metadata": {
        "id": "rE0WBP8y5Cho"
      },
      "source": [
        "import numpy as np\n",
        "import matplotlib.pyplot as plt \n",
        "\n",
        "### pytorch 기본 모듈\n",
        "import torch\n",
        "# 딥러닝 모델을 만들 때 필요한 함수의 모듈\n",
        "import torch.nn as nn\n",
        "# 자주 사용하는 함수 모듈\n",
        "import torch.nn.functional as F\n",
        "\n",
        "# 데이터 관련 모듈\n",
        "from torchvision import transforms, datasets"
      ],
      "execution_count": null,
      "outputs": []
    },
    {
      "cell_type": "markdown",
      "metadata": {
        "id": "N_m8OP-h5Chs"
      },
      "source": [
        "#### 2.장비 설정"
      ]
    },
    {
      "cell_type": "code",
      "metadata": {
        "colab": {
          "base_uri": "https://localhost:8080/"
        },
        "id": "FRjskRNY5Chs",
        "outputId": "6c942d0f-dc20-43c8-876c-ecd7dde0c417"
      },
      "source": [
        "if torch.cuda.is_available():\n",
        "    DEVICE = torch.device('cuda')\n",
        "else:\n",
        "    DEVICE = torch.device('cpu')\n",
        "print('Device : ', DEVICE)"
      ],
      "execution_count": null,
      "outputs": [
        {
          "output_type": "stream",
          "text": [
            "Device :  cuda\n"
          ],
          "name": "stdout"
        }
      ]
    },
    {
      "cell_type": "markdown",
      "metadata": {
        "id": "QL3EnTii5Chu"
      },
      "source": [
        "#### 3.데이터 가져오기\n",
        "- 데이터를 다운로드 받아서 data 디렉토리에 MNIST라는 디렉토리에 저장하고 가져옴\n",
        "- transform을 설정하면 텐서로 변경하고 0~1사이로 정규화도 해줍니다"
      ]
    },
    {
      "cell_type": "code",
      "metadata": {
        "id": "jptPvijL5Chv",
        "scrolled": true,
        "colab": {
          "base_uri": "https://localhost:8080/",
          "height": 849,
          "referenced_widgets": [
            "ea091b0e8bb149058cedac9a2256b89b",
            "4448004e3e514c0cb12877b88fac91ee",
            "f02c19292a374fa3b953d0531626a562",
            "7cfcd192de3b4377b150503f638cffa5",
            "bf94383d25b0433c84e2d3f74055527d",
            "ed0a664e2b334141b174dc5adbd410bd",
            "6f9cac6776f6451f9963794a398c2d0e",
            "c493ac221b8b4c1687a887339c891d57",
            "9a0c13f1b6cb40b29922591e3b3a3452",
            "4b6d968cb8ec449cbc0f0ec692150c9e",
            "366e08e8abf744ddb0b29a4f82641d9b",
            "d0aaee3104e6401ba73de291f4f2eea5",
            "15567fffbd0b4d37a46f45ad0a866fff",
            "04379bd629144e9990f597ff1d5a4021",
            "c6e559366838486183cfb3c13414a3d1",
            "a35096b9df034074b17e9d0a4a4176b4",
            "b1dd55a4330740bd8306e75f9e126c92",
            "a84c1bb3eb5c45d18f22fe8026f7d2d8",
            "aa788c5e2f1e43e9a5d9217749740f00",
            "5aa78cfe9be947049f78da3f83d82d90",
            "19df797017c14eac8435b1f7102296ab",
            "c79c3d42c6e841ebb85b81b642c7abf3",
            "a68618ad63df44d3853d399ae5d9151d",
            "be73793ee00c4f03be009e4a85e23d7a",
            "f6f2b39748cf4e269d00bc2cd8e6941e",
            "4d3afe11ff88480a9cfdabea7a55c31e",
            "225f197b15fd42d5806e138af511e728",
            "66c08789dbec44feb5459c4b21b6f3bb",
            "2a0859b5dd8f4e71b9c180048649210e",
            "491de58824fb418b972401f46b32e590",
            "3608956726b94e40861ee5682010f84a",
            "141c3a56a6404843b9f51c27c9566d33"
          ]
        },
        "outputId": "9e3df584-3baf-4f11-d5e7-ee81fa7b0008"
      },
      "source": [
        "# 한 번에 훈련하는 크기\n",
        "BATCH_SIZE = 32\n",
        "# 훈련 횟수\n",
        "EPOCHS = 10\n",
        "\n",
        "train_dataset = datasets.MNIST(root = '../data/MNIST', train=True, download=True,\n",
        "                              transform=transforms.ToTensor())\n",
        "\n",
        "test_dataset = datasets.MNIST(root = '../data/MNIST', train=False,\n",
        "                              transform=transforms.ToTensor())\n",
        "# Pytorch딥러닝에서 사용할 형태로 데이터를 변환\n",
        "train_loader = torch.utils.data.DataLoader(dataset=train_dataset, batch_size=BATCH_SIZE,\n",
        "                                          shuffle=True)\n",
        "test_loader = torch.utils.data.DataLoader(dataset=test_dataset, batch_size=BATCH_SIZE,\n",
        "                                          shuffle=False)"
      ],
      "execution_count": null,
      "outputs": [
        {
          "output_type": "stream",
          "text": [
            "Downloading http://yann.lecun.com/exdb/mnist/train-images-idx3-ubyte.gz\n",
            "Failed to download (trying next):\n",
            "HTTP Error 503: Service Unavailable\n",
            "\n",
            "Downloading https://ossci-datasets.s3.amazonaws.com/mnist/train-images-idx3-ubyte.gz\n",
            "Downloading https://ossci-datasets.s3.amazonaws.com/mnist/train-images-idx3-ubyte.gz to ../data/MNIST/MNIST/raw/train-images-idx3-ubyte.gz\n"
          ],
          "name": "stdout"
        },
        {
          "output_type": "display_data",
          "data": {
            "application/vnd.jupyter.widget-view+json": {
              "model_id": "ea091b0e8bb149058cedac9a2256b89b",
              "version_minor": 0,
              "version_major": 2
            },
            "text/plain": [
              "HBox(children=(FloatProgress(value=0.0, max=9912422.0), HTML(value='')))"
            ]
          },
          "metadata": {
            "tags": []
          }
        },
        {
          "output_type": "stream",
          "text": [
            "\n",
            "Extracting ../data/MNIST/MNIST/raw/train-images-idx3-ubyte.gz to ../data/MNIST/MNIST/raw\n",
            "\n",
            "Downloading http://yann.lecun.com/exdb/mnist/train-labels-idx1-ubyte.gz\n",
            "Failed to download (trying next):\n",
            "HTTP Error 503: Service Unavailable\n",
            "\n",
            "Downloading https://ossci-datasets.s3.amazonaws.com/mnist/train-labels-idx1-ubyte.gz\n",
            "Downloading https://ossci-datasets.s3.amazonaws.com/mnist/train-labels-idx1-ubyte.gz to ../data/MNIST/MNIST/raw/train-labels-idx1-ubyte.gz\n"
          ],
          "name": "stdout"
        },
        {
          "output_type": "display_data",
          "data": {
            "application/vnd.jupyter.widget-view+json": {
              "model_id": "9a0c13f1b6cb40b29922591e3b3a3452",
              "version_minor": 0,
              "version_major": 2
            },
            "text/plain": [
              "HBox(children=(FloatProgress(value=0.0, max=28881.0), HTML(value='')))"
            ]
          },
          "metadata": {
            "tags": []
          }
        },
        {
          "output_type": "stream",
          "text": [
            "\n",
            "Extracting ../data/MNIST/MNIST/raw/train-labels-idx1-ubyte.gz to ../data/MNIST/MNIST/raw\n",
            "\n",
            "Downloading http://yann.lecun.com/exdb/mnist/t10k-images-idx3-ubyte.gz\n",
            "Failed to download (trying next):\n",
            "HTTP Error 503: Service Unavailable\n",
            "\n",
            "Downloading https://ossci-datasets.s3.amazonaws.com/mnist/t10k-images-idx3-ubyte.gz\n",
            "Downloading https://ossci-datasets.s3.amazonaws.com/mnist/t10k-images-idx3-ubyte.gz to ../data/MNIST/MNIST/raw/t10k-images-idx3-ubyte.gz\n"
          ],
          "name": "stdout"
        },
        {
          "output_type": "display_data",
          "data": {
            "application/vnd.jupyter.widget-view+json": {
              "model_id": "b1dd55a4330740bd8306e75f9e126c92",
              "version_minor": 0,
              "version_major": 2
            },
            "text/plain": [
              "HBox(children=(FloatProgress(value=0.0, max=1648877.0), HTML(value='')))"
            ]
          },
          "metadata": {
            "tags": []
          }
        },
        {
          "output_type": "stream",
          "text": [
            "\n",
            "Extracting ../data/MNIST/MNIST/raw/t10k-images-idx3-ubyte.gz to ../data/MNIST/MNIST/raw\n",
            "\n",
            "Downloading http://yann.lecun.com/exdb/mnist/t10k-labels-idx1-ubyte.gz\n",
            "Failed to download (trying next):\n",
            "HTTP Error 503: Service Unavailable\n",
            "\n",
            "Downloading https://ossci-datasets.s3.amazonaws.com/mnist/t10k-labels-idx1-ubyte.gz\n",
            "Downloading https://ossci-datasets.s3.amazonaws.com/mnist/t10k-labels-idx1-ubyte.gz to ../data/MNIST/MNIST/raw/t10k-labels-idx1-ubyte.gz\n"
          ],
          "name": "stdout"
        },
        {
          "output_type": "display_data",
          "data": {
            "application/vnd.jupyter.widget-view+json": {
              "model_id": "f6f2b39748cf4e269d00bc2cd8e6941e",
              "version_minor": 0,
              "version_major": 2
            },
            "text/plain": [
              "HBox(children=(FloatProgress(value=0.0, max=4542.0), HTML(value='')))"
            ]
          },
          "metadata": {
            "tags": []
          }
        },
        {
          "output_type": "stream",
          "text": [
            "\n",
            "Extracting ../data/MNIST/MNIST/raw/t10k-labels-idx1-ubyte.gz to ../data/MNIST/MNIST/raw\n",
            "\n"
          ],
          "name": "stdout"
        },
        {
          "output_type": "stream",
          "text": [
            "/usr/local/lib/python3.7/dist-packages/torchvision/datasets/mnist.py:498: UserWarning: The given NumPy array is not writeable, and PyTorch does not support non-writeable tensors. This means you can write to the underlying (supposedly non-writeable) NumPy array using the tensor. You may want to copy the array to protect its data or make it writeable before converting it to a tensor. This type of warning will be suppressed for the rest of this program. (Triggered internally at  /pytorch/torch/csrc/utils/tensor_numpy.cpp:180.)\n",
            "  return torch.from_numpy(parsed.astype(m[2], copy=False)).view(*s)\n"
          ],
          "name": "stderr"
        }
      ]
    },
    {
      "cell_type": "markdown",
      "metadata": {
        "id": "dKO7yQNX5Chw"
      },
      "source": [
        "#### 4.데이터 확인\n",
        "- 훈련데이터는 28 * 28짜리 흑백 이미지이고 32개씩 묶여 있음\n",
        "- 훈련레이블은 32개짜리 스칼라 데이터가 묶여 있습니다"
      ]
    },
    {
      "cell_type": "code",
      "metadata": {
        "colab": {
          "base_uri": "https://localhost:8080/"
        },
        "id": "Xw9KJ92m5Chy",
        "outputId": "95646750-97f6-4bd5-f551-0e75b3124d3b"
      },
      "source": [
        "for (X_train, y_train) in train_loader:\n",
        "    print('X_train : ', X_train.size(), ' type : ', X_train.type())\n",
        "    print('y_train : ', y_train.size(), ' type : ', y_train.type())\n",
        "    break\n"
      ],
      "execution_count": null,
      "outputs": [
        {
          "output_type": "stream",
          "text": [
            "X_train :  torch.Size([32, 1, 28, 28])  type :  torch.FloatTensor\n",
            "y_train :  torch.Size([32])  type :  torch.LongTensor\n"
          ],
          "name": "stdout"
        }
      ]
    },
    {
      "cell_type": "markdown",
      "metadata": {
        "id": "E4bfWRGk5Ch0"
      },
      "source": [
        "- 첫번째 이미지 10개 출력"
      ]
    },
    {
      "cell_type": "code",
      "metadata": {
        "colab": {
          "base_uri": "https://localhost:8080/",
          "height": 94
        },
        "id": "oSHuRIrU5Ch1",
        "outputId": "62a53d69-8191-42fb-f912-57e8613d49be"
      },
      "source": [
        "pltsize = 1\n",
        "plt.figure(figsize = (10 * pltsize, pltsize))\n",
        "for i in range(10):\n",
        "    plt.subplot(1, 10, i + 1)\n",
        "    plt.axis('off')\n",
        "    plt.imshow(X_train[i, :, :, :].numpy().reshape(28, 28), cmap='gray_r')\n",
        "    plt.title('Class : ' + str(y_train[i].item()))"
      ],
      "execution_count": null,
      "outputs": [
        {
          "output_type": "display_data",
          "data": {
            "image/png": "[encoded data removed]",
            "text/plain": [
              "<Figure size 720x72 with 10 Axes>"
            ]
          },
          "metadata": {
            "tags": [],
            "needs_background": "light"
          }
        }
      ]
    },
    {
      "cell_type": "markdown",
      "metadata": {
        "id": "ormsA7v-5Ch3"
      },
      "source": [
        "#### 5. MLP 모델 설계"
      ]
    },
    {
      "cell_type": "code",
      "metadata": {
        "id": "H_eDBJtH5Ch3"
      },
      "source": [
        "class Net(nn.Module):\n",
        "    # 생성자 - 초기화 메소드\n",
        "    # 인스턴스를 만들기 위해서 호출하는 함수\n",
        "    def __init__(self):\n",
        "        # 상위 클래스의 생성자를 호출합니다.\n",
        "        super(Net, self).__init__()\n",
        "        # 인스턴스 변수 초기화 - 층을 쌓음\n",
        "        # 출력층의 설정 값 (입력, 출력)\n",
        "        self.fc1 = nn.Linear(28 * 28, 512) # +입력층\n",
        "        self.fc2 = nn.Linear(512, 256) # 은닉 층\n",
        "        self.fc3 = nn.Linear(256, 10) # 출력 층\n",
        "    \n",
        "    # Forward Propagation(순전파)을 위한 함수\n",
        "    def forward(self, x) : \n",
        "        # 입력 데이터를 만들기 위해 28* 28 의 1차원 데이터로 펼침\n",
        "        x = x.view(-1, 28 * 28)\n",
        "        x = self.fc1(x)\n",
        "        x = F.sigmoid(x)\n",
        "        \n",
        "        x = self.fc2(x)\n",
        "        x = F.sigmoid(x)\n",
        "        \n",
        "        x = self.fc3(x)\n",
        "        # 출력을 결정하기 위해서 softmax함수를 이용\n",
        "        # soft가 아니라  log_softmax를 호출한 이유는 역전파를 할 때\n",
        "        # 로그 값을 이용하면 그래프츼 기울기가 부드럽게 변하기 때문\n",
        "        # 역전화할 때 그라디언트 소실이 발생하므로 log softmax를 이용\n",
        "        x = F.log_softmax(x, dim=1)\n",
        "        return x\n",
        "        "
      ],
      "execution_count": null,
      "outputs": []
    },
    {
      "cell_type": "markdown",
      "metadata": {
        "id": "WmxeDxyW5Ch6"
      },
      "source": [
        "#### 6. 모델 객체 생성 및 Optimizer와 Loss함수 생성\n",
        "- mometum(관성) : 일종의 가속도\n",
        "- lr : 학습률"
      ]
    },
    {
      "cell_type": "code",
      "metadata": {
        "colab": {
          "base_uri": "https://localhost:8080/"
        },
        "id": "K0-LXwe85Ch7",
        "outputId": "1c187a31-a992-4b83-8032-263bfebad49f"
      },
      "source": [
        "# 모델 객체 생성\n",
        "# DEVICE 장비를 이용해 MLP 모델을 완성하기 위해서\n",
        "model = Net().to(DEVICE) \n",
        "\n",
        "# 파라미터를 업데이트할 때 반영될 Learning Rate를 0.01, Optimizer의 관성을 나타내는 momentum을 0.5로 설정 \n",
        "optimizer = torch.optim.SGD(model.parameters(), lr=0.01, momentum=0.5)\n",
        "# Optimizer\n",
        "criterion = nn.CrossEntropyLoss() # 손실 함수\n",
        "print(model)"
      ],
      "execution_count": null,
      "outputs": [
        {
          "output_type": "stream",
          "text": [
            "Net(\n",
            "  (fc1): Linear(in_features=784, out_features=512, bias=True)\n",
            "  (fc2): Linear(in_features=512, out_features=256, bias=True)\n",
            "  (fc3): Linear(in_features=256, out_features=10, bias=True)\n",
            ")\n"
          ],
          "name": "stdout"
        }
      ]
    },
    {
      "cell_type": "markdown",
      "metadata": {
        "id": "tCNDVE3w5Ch8"
      },
      "source": [
        "#### 7. 훈련 도중 학습을 진행하면서 모델 성능을 확인하는 함수 정의"
      ]
    },
    {
      "cell_type": "code",
      "metadata": {
        "id": "OnvVBpFC5Ch9"
      },
      "source": [
        "def train(model, train_loader, optimizer, log_interval):\n",
        "    # 모델 훈련 시작\n",
        "    model.train() \n",
        "    # train_loader 에는 학습에 이용되는 이미지 데이터와 레이블 데이터가 Mini Batch 단위로 묶여 저장되어 있음\n",
        "    # 훈련 데이터의 배치 번호와 이미지 및 레이블을 순회\n",
        "    for batch_idx, (image, label) in enumerate(train_loader):\n",
        "        # image와 label을 DEVICE에 할당\n",
        "        image = image.to(DEVICE)\n",
        "        label = label.to(DEVICE)\n",
        "\n",
        "        # 기존에 정의한 장비에 이미지 데이터와 레이블 데이터를 할당할 경우\n",
        "        # 과거에 이용한 Mini- Batch 내에 있는 이미지 데이터와 레이블 데이터를 \n",
        "        # 바탕으로 계산된 Loss의 Gradient 값이 optimizer에 할당돼 있으므로 \n",
        "        # optimizer의 Gradient를 초기화\n",
        "        optimizer.zero_grad()\n",
        "        # image를 가지고 예측\n",
        "        output = model(image)\n",
        "        # 손실 계산\n",
        "        loss = criterion(output, label)\n",
        "        # 손실 역전파\n",
        "        loss.backward()\n",
        "        # 파라미터 값(weight)을 업데이트\n",
        "        ## weight를 업데이트 하고 사용한 optimizer는 None으로 초기화 하는 것!\n",
        "        ## loss가 적을 때의 weight만 업데이트하고 \n",
        "        optimizer.step()\n",
        "#         print(optimizer)\n",
        "        \n",
        "        # 출력\n",
        "        if batch_idx % log_interval == 0:\n",
        "            print('Train Epoch:{}[{}/{} {:.0f}%]\\tTrain Loss:{:.6f}'.\n",
        "                  format(epoch, batch_idx*len(image), len(train_loader.dataset), 100*batch_idx/len(train_loader), loss.item()))"
      ],
      "execution_count": null,
      "outputs": []
    },
    {
      "cell_type": "markdown",
      "metadata": {
        "id": "14yb_jVG5Ch_"
      },
      "source": [
        "### 8. 훈련 도중 학습을 진행하면서 검증 데이터에 대한 모델의 성능을 확인하는 함수 정의"
      ]
    },
    {
      "cell_type": "code",
      "metadata": {
        "id": "cVMiqklG5CiC"
      },
      "source": [
        "def evaluate(model, test_loader):\n",
        "    # 모델 훈련 시작\n",
        "    model.eval()\n",
        "    \n",
        "    # loss를 누적할 변수\n",
        "    total_loss = 0\n",
        "    # 정확한 데이터의 개수를 세기 위한 변수\n",
        "    correct = 0\n",
        "    with torch.no_grad():\n",
        "        for image, label in test_loader:\n",
        "            # image와 label을 DEVICE에 할당\n",
        "            image = image.to(DEVICE)\n",
        "            label = label.to(DEVICE)\n",
        "\n",
        "            # image를 가지고 예측\n",
        "            output = model(image)\n",
        "            \n",
        "            #  손실을 계산\n",
        "            total_loss += criterion(output, label).item()\n",
        "           \n",
        "            # 정답의 개수를 계산\n",
        "            # 확률이 제일 큰것\n",
        "            prediction = output.max(1, keepdim = True)[1]\n",
        "            # 예측과 정답의 개수가 같을 때만 correct 1 증가\n",
        "            correct += prediction.eq(label.view_as(prediction)).sum().item()\n",
        "            \n",
        "    # 손실의 평균 구하기\n",
        "    total_loss /= len(test_loader.dataset)\n",
        "    # 정확도\n",
        "    test_accuracy = 100. * correct / len(test_loader.dataset)\n",
        "\n",
        "    # 평균 손실과 정확도 반환\n",
        "    return total_loss, test_accuracy\n"
      ],
      "execution_count": null,
      "outputs": []
    },
    {
      "cell_type": "markdown",
      "metadata": {
        "id": "7t7SD1T85CiE"
      },
      "source": [
        "#### 9. 학습을 수행하면서 Train, Test 데이터의 Loss 및 Accuracy 확인"
      ]
    },
    {
      "cell_type": "code",
      "metadata": {
        "id": "YCi_bFN75CiE",
        "scrolled": true
      },
      "source": [
        "for epoch in range(1, EPOCHS + 1):\n",
        "    train(model, train_loader, optimizer, log_interval = 200)\n",
        "    test_loss, test_accuracy = evaluate(model, test_loader)\n",
        "    print(\"\\n[EPOCH: {}], \\tTest Loss: {:.4f}, \\tTest Accuracy: {:.2f} % \\n\".format(\n",
        "        epoch, test_loss, test_accuracy))\n"
      ],
      "execution_count": null,
      "outputs": []
    },
    {
      "cell_type": "markdown",
      "metadata": {
        "id": "bUIzPsmO5CiN"
      },
      "source": [
        "## Dropout\n",
        "- 과적합과 경사 소실에 대한 문제 해결을 위한 알고리즘\n",
        "- Dropout은 신경망의 학습 과정 중 Layer의 노드를 랜덤하게 Drop함으로써 Generalization효과를 가져오게 하는 테크닉 입니다.\n",
        "- 실제 삭제하는 개념이 아니고 행렬에 0을 대입해서 연산을 수행하는 것입니다\n",
        "- 대다수의 머신러닝 알고리즘은 Input Data, Weight, Hidden Layer모두 행렬을 가지고 연산을 수행합니다.\n",
        "- 기본적으로 신경망을 디자인할 때 많이 사용하고 있는 테크닉입니다.\n",
        "- Dropout을 적용하면 Test시 정확도가 일반적으로 높아집니다.\n",
        "- epoch를 높게 설정해야 합니다.\n",
        "\n",
        "### Dropout를 적용한 신경망 모델 설계"
      ]
    },
    {
      "cell_type": "code",
      "metadata": {
        "id": "7yOoNH7m5CiO"
      },
      "source": [
        "class Net(nn.Module):\n",
        "    # 생성자 - 초기화 메소드\n",
        "    # 인스턴스를 만들기 위해서 호출하는 함수\n",
        "    def __init__(self):\n",
        "        # 상위 클래스의 생성자를 호출합니다.\n",
        "        super(Net, self).__init__()\n",
        "        # 인스턴스 변수 초기화 - 층을 쌓음\n",
        "        # 출력층의 설정 값 (입력, 출력)\n",
        "        self.fc1 = nn.Linear(28 * 28, 512) # +입력층\n",
        "        self.fc2 = nn.Linear(512, 256) # 은닉 층\n",
        "        self.fc3 = nn.Linear(256, 10) # 출력 층\n",
        "        # dropout설정 추가\n",
        "        self.dropout_prob = 0.5\n",
        "    \n",
        "    # Forward Propagation(순전파)을 위한 함수\n",
        "    def forward(self, x) : \n",
        "        # 입력 데이터를 만들기 위해 28* 28 의 1차원 데이터로 펼침\n",
        "        x = x.view(-1, 28 * 28)\n",
        "        x = self.fc1(x)\n",
        "        x = F.sigmoid(x)\n",
        "        \n",
        "        # dropout을 적용\n",
        "        # 각 sigmoid( ) 함수의 결괏값에 대해 Dropout을 적용하는 부분\n",
        "        x = F.dropout(x, training = self.training, p = self.dropout_prob)\n",
        "        \n",
        "        x = self.fc2(x)\n",
        "        x = F.sigmoid(x)\n",
        "        x = F.dropout(x, training = self.training, p = self.dropout_prob) # 출력층에 대해선 Dropout을 적용하지 않습니다.\n",
        "        \n",
        "        x = self.fc3(x)\n",
        "        # 출력을 결정하기 위해서 softmax함수를 이용\n",
        "        # soft가 아니라  log_softmax를 호출한 이유는 역전파를 할 때\n",
        "        # 로그 값을 이용하면 그래프츼 기울기가 부드럽게 변하기 때문\n",
        "        # 역전화할 때 그라디언트 소실이 발생하므로 log softmax를 이용\n",
        "        x = F.log_softmax(x, dim=1)\n",
        "        return x"
      ],
      "execution_count": null,
      "outputs": []
    },
    {
      "cell_type": "markdown",
      "metadata": {
        "id": "SnWeNP195CiQ"
      },
      "source": [
        "### 모델 훈련\n",
        "- dropout을 안한 것이 dropout한 것보다 정확도가 높제 나왔는데 epoch가 지금 10으로 설정되엉 있는데 더 늘리면 정확도가 올라갈 것입니다.\n",
        "![image.png](attachment:c6a4b9d9-f312-4b08-b2a0-16d3f39a03e0.png)"
      ]
    },
    {
      "cell_type": "code",
      "metadata": {
        "id": "-3RVYq495CiQ",
        "scrolled": true
      },
      "source": [
        "# 모델 객체 생성\n",
        "# DEVICE 장비를 이용해 MLP 모델을 완성하기 위해서\n",
        "model = Net().to(DEVICE) \n",
        "\n",
        "# 파라미터를 업데이트할 때 반영될 Learning Rate를 0.01, Optimizer의 관성을 나타내는 momentum을 0.5로 설정 \n",
        "optimizer = torch.optim.SGD(model.parameters(), lr=0.01, momentum=0.5)\n",
        "# Optimizer\n",
        "criterion = nn.CrossEntropyLoss() # 손실 함수\n",
        "\n",
        "for epoch in range(1, EPOCHS + 1):\n",
        "    train(model, train_loader, optimizer, log_interval = 200)\n",
        "    test_loss, test_accuracy = evaluate(model, test_loader)\n",
        "    print(\"\\n[EPOCH: {}], \\tTest Loss: {:.4f}, \\tTest Accuracy: {:.2f} % \\n\".format(\n",
        "        epoch, test_loss, test_accuracy))"
      ],
      "execution_count": null,
      "outputs": []
    },
    {
      "cell_type": "markdown",
      "metadata": {
        "id": "FjOTcEby5CiT"
      },
      "source": [
        "## 10. Activation(활성화)\n",
        "- Activation(활성화) 함수는 어떤 신호를 입력받아 이를 적절히 처리해 출력해주는 함수를 의미합니다.\n",
        "- MLP에서는 기본적으로 sigmoid를 사용합니다.\n",
        "- Back Propagation과정 중에 시그모이드를 미분한 값을 계속 곱해주면서 Gradient값을 수정합니다.\n",
        "- 계속 미분을 하기 때문에 이전 Layer로 올 수록 0으로 수렴하는 현상이 발생합니다.\n",
        "- 이러한 현상을 Gradient Vanishing(경사 소실)이라고 합니다.\n",
        "- 이렇게 되면 Hidden Layer를 여러 개 깊게 쌓아 사용하는 DNN의 장점이 의미가 없어지게 됩니다.\n",
        "\n",
        "1) ReLU(Rectified Linear Unit)\n",
        "- 시그모이드와 같은 비선형 활성 함수가 지니고 있는 문제점을 어느 정도 해결한 활성 함수\n",
        "- 입력 값이 0이상이면 그 값을 그대로 출려갛고 0이하이면 0으로 출력합니다."
      ]
    },
    {
      "cell_type": "markdown",
      "metadata": {
        "id": "tLJkt6Im5CiU"
      },
      "source": [
        "# sigmoid대신에 ReLU를 적용한 신경망 (+Dropout적용)\n",
        "\n",
        "## 모델 생성"
      ]
    },
    {
      "cell_type": "code",
      "metadata": {
        "id": "yjVp00pH5CiU"
      },
      "source": [
        "class Net(nn.Module):\n",
        "    # 생성자 - 초기화 메소드\n",
        "    # 인스턴스를 만들기 위해서 호출하는 함수\n",
        "    def __init__(self):\n",
        "        # 상위 클래스의 생성자를 호출합니다.\n",
        "        super(Net, self).__init__()\n",
        "        # 인스턴스 변수 초기화 - 층을 쌓음\n",
        "        # 출력층의 설정 값 (입력, 출력)\n",
        "        self.fc1 = nn.Linear(28 * 28, 512) # +입력층\n",
        "        self.fc2 = nn.Linear(512, 256) # 은닉 층\n",
        "        self.fc3 = nn.Linear(256, 10) # 출력 층\n",
        "        # dropout설정 추가\n",
        "        self.dropout_prob = 0.5\n",
        "    \n",
        "    # Forward Propagation(순전파)을 위한 함수\n",
        "    def forward(self, x) : \n",
        "        # 입력 데이터를 만들기 위해 28* 28 의 1차원 데이터로 펼침\n",
        "        x = x.view(-1, 28 * 28)\n",
        "        x = self.fc1(x)\n",
        "#         x = F.sigmoid(x)\n",
        "        x = F.relu(x) # sigmoid 대신에 ReLU적용\n",
        "        \n",
        "        # dropout을 적용\n",
        "        # 각 sigmoid( ) 함수의 결괏값에 대해 Dropout을 적용하는 부분\n",
        "        x = F.dropout(x, training = self.training, p = self.dropout_prob)\n",
        "        \n",
        "        x = self.fc2(x)\n",
        "#         x = F.sigmoid(x)\n",
        "        x = F.relu(x)\n",
        "        x = F.dropout(x, training = self.training, p = self.dropout_prob) # 출력층에 대해선 Dropout을 적용하지 않습니다.\n",
        "        \n",
        "        x = self.fc3(x)\n",
        "        # 출력을 결정하기 위해서 softmax함수를 이용\n",
        "        # soft가 아니라  log_softmax를 호출한 이유는 역전파를 할 때\n",
        "        # 로그 값을 이용하면 그래프츼 기울기가 부드럽게 변하기 때문\n",
        "        # 역전화할 때 그라디언트 소실이 발생하므로 log softmax를 이용\n",
        "        x = F.log_softmax(x, dim=1)\n",
        "        return x"
      ],
      "execution_count": null,
      "outputs": []
    },
    {
      "cell_type": "markdown",
      "metadata": {
        "id": "R3PLVfTv5h1a"
      },
      "source": [
        "# Dropout + Batch Normalization + ReLU"
      ]
    },
    {
      "cell_type": "markdown",
      "metadata": {
        "id": "_lDWmVow5fLU"
      },
      "source": [
        "\n",
        "## 모델 설계\n",
        "- init은 상위클래스의 init을 호출해야합니다."
      ]
    },
    {
      "cell_type": "code",
      "metadata": {
        "id": "olIv4d7O5o0Y"
      },
      "source": [
        "class Net (nn.Module) : \n",
        "    # 다른 객체 지향 언어의 생성자 역할을 수행하는 초기화 메소드\n",
        "    def __init__(self):\n",
        "        super(Net, self).__init__()\n",
        "        # 입력층 생성\n",
        "        self.fc1 = nn.Linear(28*28, 512)\n",
        "        # 은닉층 생성\n",
        "        self.fc2 = nn.Linear(512, 256)\n",
        "        # 출력층 생성\n",
        "        self.fc3 = nn.Linear(256, 10)\n",
        "\n",
        "        # 드롭아웃 비율을 선정\n",
        "        self.dropout_prob = 0.5\n",
        "\n",
        "        # 배치 정규화 층 생성\n",
        "        self.batch_norm1 = nn.BatchNorm1d(512)\n",
        "        self.batch_norm2 = nn.BatchNorm1d(256)\n",
        "\n",
        "    # 순방향 연산을 위한 함수\n",
        "    def forward(self, x):\n",
        "        # 입력 배열 펼치기\n",
        "        x = x.view(-1, 28*28)\n",
        "        # 입력층 생성\n",
        "        x = self.fc1(x)\n",
        "        x = self.batch_norm1(x)\n",
        "        # relu\n",
        "        x = F.relu(x)\n",
        "        # dropout\n",
        "        x = F.dropout(x, training=self.training, p=self.dropout_prob)\n",
        "\n",
        "        # 은닉층 생성\n",
        "        x = self.fc2(x)\n",
        "        x = self.batch_norm2(x)\n",
        "        x = F.relu(x)\n",
        "        x = F.dropout(x, training=self.training, p=self.dropout_prob)\n",
        "\n",
        "        # 출력층 생성\n",
        "        x = self.fc3(x)\n",
        "        x = F.log_softmax(x, dim=1)\n",
        "\n",
        "        return x"
      ],
      "execution_count": null,
      "outputs": []
    },
    {
      "cell_type": "markdown",
      "metadata": {
        "id": "8guVBJbg8elK"
      },
      "source": [
        "### 모델 생성"
      ]
    },
    {
      "cell_type": "code",
      "metadata": {
        "id": "aVpH5tr185zu"
      },
      "source": [
        "model = Net().to(DEVICE)\n",
        "# Optimizer와 Loss 함수 생성\n",
        "optimizer = torch.optim.SGD(model.parameters(), lr=0.01, momentum=0.5)\n",
        "criterion = nn.CrossEntropyLoss()"
      ],
      "execution_count": null,
      "outputs": []
    },
    {
      "cell_type": "markdown",
      "metadata": {
        "id": "Xumz07Rz9oQG"
      },
      "source": [
        "### 모델 훈련"
      ]
    },
    {
      "cell_type": "code",
      "metadata": {
        "id": "zUYRVMWE-PiB"
      },
      "source": [
        "for epoch in range(1, EPOCHS + 1):\n",
        "    train(model, train_loader, optimizer, log_interval=200)\n",
        "    test_loss, test_accuracy = evaluate(model, test_loader)\n",
        "    print('\\n[EPOCH:{}], \\tTest Loss:{:.4f}, \\tTest Accuracy:{:.2f}\\n'.format(epoch, test_loss, test_accuracy))"
      ],
      "execution_count": null,
      "outputs": []
    },
    {
      "cell_type": "markdown",
      "metadata": {
        "id": "40y-qSn4_U2b"
      },
      "source": [
        "### weight initialization(가중치 초기화)\n",
        "- 신경망은 처음에 weight를 랜덤하게 초기화하고 Loss가 최소화되는 부분을 찾아갑니다.\n",
        "\n",
        "가장 먼저 사용된 LeCun 초기화\n",
        "#### LeCun 초기화\n",
        "- 가우시안 분포에서 분산을 원래의 분산 정도로 보정하는 방식인데 ReLU와 같이 사용할 수 없어서 최근에는 잘 사용하지 않습니다.\n",
        "\n",
        "#### Xavier 초기화\n",
        "- 정규 분포에서 2 / (이전 Layer의 노드수 + 다음 Layer의 노드수)를 한 결과의 제곱근을 이용합니다.\n",
        "- ReLU에서 출력값이 0으로 수렴하게 되는 현상이 발견되어 안쓰게 되었습니다.\n",
        "\n",
        "#### He 초기화\n",
        "- 이전 초기화 방법들이 ReLU에 비효율적이라서 등장한 방식. 노드수만큼 \n",
        "- input개수 절반의 제곱근만큼 나누어주면 됩니다.\n",
        "- Pytorch에서는 ```torch.nn.init.kaiming_uniform_``` 이라는 함수를 이용해서 설정합니다.\n",
        "- 객체를 만들어주는 함수를 만들어서 콜백의 형태로 Model의 apply 에 함수를 설정하면 됩니다. "
      ]
    },
    {
      "cell_type": "markdown",
      "metadata": {
        "id": "iuBH-czfEHeo"
      },
      "source": [
        "### He 초기화"
      ]
    },
    {
      "cell_type": "code",
      "metadata": {
        "id": "H_la9wm-EJ9v"
      },
      "source": [
        "import torch.nn.init as init\n",
        "# He 초기화를 위한 함수 생성\n",
        "def weight_init(m):\n",
        "    if isinstance(m, nn.Linear):\n",
        "        # He 초기화\n",
        "        init.kaiming_uniform_(m.weight.data)\n",
        "\n",
        "# 모델을 생성하고 적용\n",
        "model = Net().to(DEVICE)\n",
        "model.apply(weight_init)\n",
        "\n",
        "# 모델 생성\n",
        "model = Net().to(DEVICE)\n",
        "# Optimizer와 Loss 함수 생성\n",
        "optimizer = torch.optim.SGD(model.parameters(), lr=0.01, momentum=0.5)\n",
        "criterion = nn.CrossEntropyLoss()\n",
        "\n",
        "EPOCHS = 10\n",
        "# 모델 훈련\n",
        "for epoch in range(1, EPOCHS + 1):\n",
        "    train(model, train_loader, optimizer, log_interval=200)\n",
        "    test_loss, test_accuracy = evaluate(model, test_loader)\n",
        "    print('\\n[EPOCH:{}], \\tTest Loss:{:.4f}, \\tTest Accuracy:{:.2f}\\n'.format(epoch, test_loss, test_accuracy))\n"
      ],
      "execution_count": null,
      "outputs": []
    },
    {
      "cell_type": "markdown",
      "metadata": {
        "id": "nMhFRKIiEqVc"
      },
      "source": [
        "# Optimizer\n",
        "[참고 사이트](https://onevision.tistory.com/entry/Optimizer-%EC%9D%98-%EC%A2%85%EB%A5%98%EC%99%80-%ED%8A%B9%EC%84%B1-Momentum-RMSProp-Adam)\n",
        "\n",
        "### 권장 설정\n",
        "- sigmoid나 tanh와 같은 활성화 함수를 사용할 때는 Xavier초기화를 사용\n",
        "- ReLU를 사용할 때는 He초기화를 사용하는 것을 권장합니다.\n",
        "- Deep CNN사용할 때는 He 초기화를 권장\n",
        "\n",
        "### Optimizer\n",
        "- 역전파 알고리즘에서 사용하는 함수\n",
        "- Stochastic Gradient Descent(SGD) : 일반적인 경사 하강법\n",
        "- 조금씩 Global Optinum을 찾아가는 방식인데 전체 데이터를 대상으로 하지 않고 Batch단위로 찾아가기 때문에 일직선의 형태가 아닙니다.\n",
        "\n",
        "### Momentum : \n",
        "- 방향으로 갈 때 일종의 관성을 추가하는 방식\n",
        "- 이전 이동거리와 관성계수 m에 따라 parameter를 update하도록 수식이 적용되었다.\n",
        "- 구불구불하게 가지만 보폭이 커서 지역적으로 넓은 부분은 지나갈 가능성이 높아집니다.\n",
        "\n",
        "### Nesterov Accelerated Gradient(NAG)\n",
        "- Momentum을 약간 변형한 방식\n",
        "\n",
        "### Adaptive Gradient(Adagrad)\n",
        "- 가보지 않은 곳은 많이 움직이고 가본 곳은 조금씩 움직이는 기법. 경험여부에 따라 이동치가 달라집니다.\n",
        "- 한 번도 변하지 않은 parameter는 더 큰 변화를 줘야한다는 것이 Adagrad의 개념\n",
        "\n",
        "### RMSProp\n",
        "- Adagrad의 단점은 오래 진행하면 Step Size가 작아지는 현상이 발생하는데 RMSProp은 지수이동 평균을 이용한 계산법으로 보완했습니다.\n",
        "\n",
        "### Adaptive Delta(Adadelta)\n",
        "- Adagrad의 단점인 Gradient의 양이 너무 적어지면 움직임이 멈출 수 있다는 단점을 보완했습니다.\n",
        "\n",
        "### Adaptive Moment Estimation\n",
        "- 현재 가장 많이 사용되는 방식으로 RMSProp와 Momentum방식의 특징을 결합한 방법입니다.\n",
        "\n",
        "### Rectified Adam Optimizer(RAdam)\n",
        "- 학습률의 분산을 교정해서 학습률에 상관없이 비슷한 성능을 나타내도록 하는 방식이다.\n",
        "- 학습률(보폭)은 모델의 성능에 영향을 주는데 최적의 학습률을 찾기 위해 RAdam을 사용합니다.\n",
        "\n"
      ]
    },
    {
      "cell_type": "code",
      "metadata": {
        "id": "mw-wAb7yKcYB"
      },
      "source": [
        "import torch.nn.init as init\n",
        "# He 초기화를 위한 함수 생성\n",
        "def weight_init(m):\n",
        "    if isinstance(m, nn.Linear):\n",
        "        # He 초기화\n",
        "        init.kaiming_uniform_(m.weight.data)\n",
        "\n",
        "# 모델을 생성하고 적용\n",
        "model = Net().to(DEVICE)\n",
        "model.apply(weight_init)\n",
        "\n",
        "# 모델 생성\n",
        "model = Net().to(DEVICE)\n",
        "# Optimizer와 Adam적용\n",
        "optimizer = torch.optim.Adam(model.parameters(), lr=0.01)\n",
        "criterion = nn.CrossEntropyLoss()\n",
        "\n",
        "EPOCHS = 10\n",
        "# 모델 훈련\n",
        "for epoch in range(1, EPOCHS + 1):\n",
        "    train(model, train_loader, optimizer, log_interval=200)\n",
        "    test_loss, test_accuracy = evaluate(model, test_loader)\n",
        "    print('\\n[EPOCH:{}], \\tTest Loss:{:.4f}, \\tTest Accuracy:{:.2f}\\n'.format(epoch, test_loss, test_accuracy))\n"
      ],
      "execution_count": null,
      "outputs": []
    },
    {
      "cell_type": "markdown",
      "metadata": {
        "id": "azCiFDKvLjPJ"
      },
      "source": [
        "### 만들어진 모델을 가지고 데이터를 예측"
      ]
    },
    {
      "cell_type": "code",
      "metadata": {
        "id": "iX6CkIWzCspD"
      },
      "source": [
        "model(images[0])"
      ],
      "execution_count": null,
      "outputs": []
    },
    {
      "cell_type": "code",
      "metadata": {
        "colab": {
          "base_uri": "https://localhost:8080/",
          "height": 244
        },
        "id": "YWyXwOLiP-bP",
        "outputId": "39ded4e2-a9fb-4e7e-f323-79da9c816d88"
      },
      "source": [
        "# 배치1개의 데이터를 가져오기\n",
        "batch_iterator = iter(test_loader)\n",
        "images = next(batch_iterator)\n",
        "\n",
        "# 모델을 추론 모드로 변경\n",
        "model.eval()\n",
        "\n",
        "# 추론\n",
        "# output은 10개의 확률로 tensor가 나옴. \n",
        "output = model(images[0])\n",
        "\n",
        "# \n",
        "# 추론의 결과인 tentor를 numpy로 변경\n",
        "result = output.detach().numpy()\n",
        "\n",
        "# 첫번째 데이터에서 가장 큰 인덱스 찾기\n",
        "print('예측 결과 :',np.argmax(result[0]))\n",
        "\n",
        "# 이미지 확인\n",
        "image = iamges[0].detach().numpy()\n",
        "plt.imshow(image[0], reshape(28,28), cmap='gray')"
      ],
      "execution_count": null,
      "outputs": [
        {
          "output_type": "error",
          "ename": "NameError",
          "evalue": "ignored",
          "traceback": [
            "\u001b[0;31m---------------------------------------------------------------------------\u001b[0m",
            "\u001b[0;31mNameError\u001b[0m                                 Traceback (most recent call last)",
            "\u001b[0;32m<ipython-input-2-b2edd48d8093>\u001b[0m in \u001b[0;36m<module>\u001b[0;34m()\u001b[0m\n\u001b[1;32m      1\u001b[0m \u001b[0;31m# 배치1개의 데이터를 가져오기\u001b[0m\u001b[0;34m\u001b[0m\u001b[0;34m\u001b[0m\u001b[0;34m\u001b[0m\u001b[0m\n\u001b[0;32m----> 2\u001b[0;31m \u001b[0mbatch_iterator\u001b[0m \u001b[0;34m=\u001b[0m \u001b[0miter\u001b[0m\u001b[0;34m(\u001b[0m\u001b[0mtest_loader\u001b[0m\u001b[0;34m)\u001b[0m\u001b[0;34m\u001b[0m\u001b[0;34m\u001b[0m\u001b[0m\n\u001b[0m\u001b[1;32m      3\u001b[0m \u001b[0mimages\u001b[0m \u001b[0;34m=\u001b[0m \u001b[0mnext\u001b[0m\u001b[0;34m(\u001b[0m\u001b[0mbatch_iterator\u001b[0m\u001b[0;34m)\u001b[0m\u001b[0;34m\u001b[0m\u001b[0;34m\u001b[0m\u001b[0m\n\u001b[1;32m      4\u001b[0m \u001b[0;34m\u001b[0m\u001b[0m\n\u001b[1;32m      5\u001b[0m \u001b[0;31m# 모델을 추론 모드로 변경\u001b[0m\u001b[0;34m\u001b[0m\u001b[0;34m\u001b[0m\u001b[0;34m\u001b[0m\u001b[0m\n",
            "\u001b[0;31mNameError\u001b[0m: name 'test_loader' is not defined"
          ]
        }
      ]
    },
    {
      "cell_type": "markdown",
      "metadata": {
        "id": "JDYjXXj1QZOf"
      },
      "source": [
        "## 외부 데이터 셋을 활용하는 방법\n",
        "- numpy데이터나 데이터프레임으로 많이 가져옵니다.\n",
        "\n",
        "## sklearn 의 MNIST데이터 활용\n",
        "- mnist데이터의 타입은 Bunch로 타 태 타로 데이터 구분이 되어있습니다."
      ]
    },
    {
      "cell_type": "code",
      "metadata": {
        "id": "YkjfQWzWgaAZ",
        "colab": {
          "base_uri": "https://localhost:8080/",
          "height": 394
        },
        "outputId": "182af478-f566-4c2c-ae91-9d529604f95d"
      },
      "source": [
        "import numpy as np\n",
        "import matplotlib.pyplot as plt\n",
        "from sklearn.datasets import fetch_openml\n",
        "\n",
        "import torch\n",
        "from torch.utils.data import TensorDataset, DataLoader\n",
        "from sklearn.model_selection import train_test_split\n",
        "\n",
        "mnist = fetch_openml('mnist_784', version=1, cache=True)\n",
        "\n",
        "mnist.target = mnist.target.astype(np.int8)\n",
        "\n",
        "X = mnist.data/255  # 0-255값을 [0,1] 구간으로 정규화\n",
        "y = mnist.target\n",
        "\n",
        "X_train, X_test, y_train, y_test = train_test_split(X.values, y.values, test_size=1/7, random_state=0)\n"
      ],
      "execution_count": null,
      "outputs": [
        {
          "output_type": "error",
          "ename": "KeyboardInterrupt",
          "evalue": "ignored",
          "traceback": [
            "\u001b[0;31m---------------------------------------------------------------------------\u001b[0m",
            "\u001b[0;31mKeyboardInterrupt\u001b[0m                         Traceback (most recent call last)",
            "\u001b[0;32m<ipython-input-67-30fca1459bb0>\u001b[0m in \u001b[0;36m<module>\u001b[0;34m()\u001b[0m\n\u001b[1;32m      7\u001b[0m \u001b[0;32mfrom\u001b[0m \u001b[0msklearn\u001b[0m\u001b[0;34m.\u001b[0m\u001b[0mmodel_selection\u001b[0m \u001b[0;32mimport\u001b[0m \u001b[0mtrain_test_split\u001b[0m\u001b[0;34m\u001b[0m\u001b[0;34m\u001b[0m\u001b[0m\n\u001b[1;32m      8\u001b[0m \u001b[0;34m\u001b[0m\u001b[0m\n\u001b[0;32m----> 9\u001b[0;31m \u001b[0mmnist\u001b[0m \u001b[0;34m=\u001b[0m \u001b[0mfetch_openml\u001b[0m\u001b[0;34m(\u001b[0m\u001b[0;34m'mnist_784'\u001b[0m\u001b[0;34m,\u001b[0m \u001b[0mversion\u001b[0m\u001b[0;34m=\u001b[0m\u001b[0;36m1\u001b[0m\u001b[0;34m,\u001b[0m \u001b[0mcache\u001b[0m\u001b[0;34m=\u001b[0m\u001b[0;32mTrue\u001b[0m\u001b[0;34m)\u001b[0m\u001b[0;34m\u001b[0m\u001b[0;34m\u001b[0m\u001b[0m\n\u001b[0m\u001b[1;32m     10\u001b[0m \u001b[0;34m\u001b[0m\u001b[0m\n\u001b[1;32m     11\u001b[0m \u001b[0mmnist\u001b[0m\u001b[0;34m.\u001b[0m\u001b[0mtarget\u001b[0m \u001b[0;34m=\u001b[0m \u001b[0mmnist\u001b[0m\u001b[0;34m.\u001b[0m\u001b[0mtarget\u001b[0m\u001b[0;34m.\u001b[0m\u001b[0mastype\u001b[0m\u001b[0;34m(\u001b[0m\u001b[0mnp\u001b[0m\u001b[0;34m.\u001b[0m\u001b[0mint8\u001b[0m\u001b[0;34m)\u001b[0m\u001b[0;34m\u001b[0m\u001b[0;34m\u001b[0m\u001b[0m\n",
            "\u001b[0;32m/usr/local/lib/python3.7/dist-packages/sklearn/datasets/_openml.py\u001b[0m in \u001b[0;36mfetch_openml\u001b[0;34m(name, version, data_id, data_home, target_column, cache, return_X_y, as_frame)\u001b[0m\n\u001b[1;32m    727\u001b[0m         \u001b[0;31m# The shape must include the ignored features to keep the right indexes\u001b[0m\u001b[0;34m\u001b[0m\u001b[0;34m\u001b[0m\u001b[0;34m\u001b[0m\u001b[0m\n\u001b[1;32m    728\u001b[0m         \u001b[0;31m# during the arff data conversion.\u001b[0m\u001b[0;34m\u001b[0m\u001b[0;34m\u001b[0m\u001b[0;34m\u001b[0m\u001b[0m\n\u001b[0;32m--> 729\u001b[0;31m         \u001b[0mdata_qualities\u001b[0m \u001b[0;34m=\u001b[0m \u001b[0m_get_data_qualities\u001b[0m\u001b[0;34m(\u001b[0m\u001b[0mdata_id\u001b[0m\u001b[0;34m,\u001b[0m \u001b[0mdata_home\u001b[0m\u001b[0;34m)\u001b[0m\u001b[0;34m\u001b[0m\u001b[0;34m\u001b[0m\u001b[0m\n\u001b[0m\u001b[1;32m    730\u001b[0m         \u001b[0mshape\u001b[0m \u001b[0;34m=\u001b[0m \u001b[0m_get_num_samples\u001b[0m\u001b[0;34m(\u001b[0m\u001b[0mdata_qualities\u001b[0m\u001b[0;34m)\u001b[0m\u001b[0;34m,\u001b[0m \u001b[0mlen\u001b[0m\u001b[0;34m(\u001b[0m\u001b[0mfeatures_list\u001b[0m\u001b[0;34m)\u001b[0m\u001b[0;34m\u001b[0m\u001b[0;34m\u001b[0m\u001b[0m\n\u001b[1;32m    731\u001b[0m     \u001b[0;32melse\u001b[0m\u001b[0;34m:\u001b[0m\u001b[0;34m\u001b[0m\u001b[0;34m\u001b[0m\u001b[0m\n",
            "\u001b[0;32m/usr/local/lib/python3.7/dist-packages/sklearn/datasets/_openml.py\u001b[0m in \u001b[0;36m_get_data_qualities\u001b[0;34m(data_id, data_home)\u001b[0m\n\u001b[1;32m    416\u001b[0m     \u001b[0merror_message\u001b[0m \u001b[0;34m=\u001b[0m \u001b[0;34m\"Dataset with data_id {} not found.\"\u001b[0m\u001b[0;34m.\u001b[0m\u001b[0mformat\u001b[0m\u001b[0;34m(\u001b[0m\u001b[0mdata_id\u001b[0m\u001b[0;34m)\u001b[0m\u001b[0;34m\u001b[0m\u001b[0;34m\u001b[0m\u001b[0m\n\u001b[1;32m    417\u001b[0m     json_data = _get_json_content_from_openml_api(url, error_message, True,\n\u001b[0;32m--> 418\u001b[0;31m                                                   data_home)\n\u001b[0m\u001b[1;32m    419\u001b[0m     \u001b[0;32mtry\u001b[0m\u001b[0;34m:\u001b[0m\u001b[0;34m\u001b[0m\u001b[0;34m\u001b[0m\u001b[0m\n\u001b[1;32m    420\u001b[0m         \u001b[0;32mreturn\u001b[0m \u001b[0mjson_data\u001b[0m\u001b[0;34m[\u001b[0m\u001b[0;34m'data_qualities'\u001b[0m\u001b[0;34m]\u001b[0m\u001b[0;34m[\u001b[0m\u001b[0;34m'quality'\u001b[0m\u001b[0;34m]\u001b[0m\u001b[0;34m\u001b[0m\u001b[0;34m\u001b[0m\u001b[0m\n",
            "\u001b[0;32m/usr/local/lib/python3.7/dist-packages/sklearn/datasets/_openml.py\u001b[0m in \u001b[0;36m_get_json_content_from_openml_api\u001b[0;34m(url, error_message, raise_if_error, data_home)\u001b[0m\n\u001b[1;32m    157\u001b[0m \u001b[0;34m\u001b[0m\u001b[0m\n\u001b[1;32m    158\u001b[0m     \u001b[0;32mtry\u001b[0m\u001b[0;34m:\u001b[0m\u001b[0;34m\u001b[0m\u001b[0;34m\u001b[0m\u001b[0m\n\u001b[0;32m--> 159\u001b[0;31m         \u001b[0;32mreturn\u001b[0m \u001b[0m_load_json\u001b[0m\u001b[0;34m(\u001b[0m\u001b[0;34m)\u001b[0m\u001b[0;34m\u001b[0m\u001b[0;34m\u001b[0m\u001b[0m\n\u001b[0m\u001b[1;32m    160\u001b[0m     \u001b[0;32mexcept\u001b[0m \u001b[0mHTTPError\u001b[0m \u001b[0;32mas\u001b[0m \u001b[0merror\u001b[0m\u001b[0;34m:\u001b[0m\u001b[0;34m\u001b[0m\u001b[0;34m\u001b[0m\u001b[0m\n\u001b[1;32m    161\u001b[0m         \u001b[0;31m# 412 is an OpenML specific error code, indicating a generic error\u001b[0m\u001b[0;34m\u001b[0m\u001b[0;34m\u001b[0m\u001b[0;34m\u001b[0m\u001b[0m\n",
            "\u001b[0;32m/usr/local/lib/python3.7/dist-packages/sklearn/datasets/_openml.py\u001b[0m in \u001b[0;36mwrapper\u001b[0;34m()\u001b[0m\n\u001b[1;32m     49\u001b[0m                 \u001b[0;32mreturn\u001b[0m \u001b[0mf\u001b[0m\u001b[0;34m(\u001b[0m\u001b[0;34m)\u001b[0m\u001b[0;34m\u001b[0m\u001b[0;34m\u001b[0m\u001b[0m\n\u001b[1;32m     50\u001b[0m             \u001b[0;32mtry\u001b[0m\u001b[0;34m:\u001b[0m\u001b[0;34m\u001b[0m\u001b[0;34m\u001b[0m\u001b[0m\n\u001b[0;32m---> 51\u001b[0;31m                 \u001b[0;32mreturn\u001b[0m \u001b[0mf\u001b[0m\u001b[0;34m(\u001b[0m\u001b[0;34m)\u001b[0m\u001b[0;34m\u001b[0m\u001b[0;34m\u001b[0m\u001b[0m\n\u001b[0m\u001b[1;32m     52\u001b[0m             \u001b[0;32mexcept\u001b[0m \u001b[0mHTTPError\u001b[0m\u001b[0;34m:\u001b[0m\u001b[0;34m\u001b[0m\u001b[0;34m\u001b[0m\u001b[0m\n\u001b[1;32m     53\u001b[0m                 \u001b[0;32mraise\u001b[0m\u001b[0;34m\u001b[0m\u001b[0;34m\u001b[0m\u001b[0m\n",
            "\u001b[0;32m/usr/local/lib/python3.7/dist-packages/sklearn/datasets/_openml.py\u001b[0m in \u001b[0;36m_load_json\u001b[0;34m()\u001b[0m\n\u001b[1;32m    153\u001b[0m     \u001b[0;34m@\u001b[0m\u001b[0m_retry_with_clean_cache\u001b[0m\u001b[0;34m(\u001b[0m\u001b[0murl\u001b[0m\u001b[0;34m,\u001b[0m \u001b[0mdata_home\u001b[0m\u001b[0;34m)\u001b[0m\u001b[0;34m\u001b[0m\u001b[0;34m\u001b[0m\u001b[0m\n\u001b[1;32m    154\u001b[0m     \u001b[0;32mdef\u001b[0m \u001b[0m_load_json\u001b[0m\u001b[0;34m(\u001b[0m\u001b[0;34m)\u001b[0m\u001b[0;34m:\u001b[0m\u001b[0;34m\u001b[0m\u001b[0;34m\u001b[0m\u001b[0m\n\u001b[0;32m--> 155\u001b[0;31m         \u001b[0;32mwith\u001b[0m \u001b[0mclosing\u001b[0m\u001b[0;34m(\u001b[0m\u001b[0m_open_openml_url\u001b[0m\u001b[0;34m(\u001b[0m\u001b[0murl\u001b[0m\u001b[0;34m,\u001b[0m \u001b[0mdata_home\u001b[0m\u001b[0;34m)\u001b[0m\u001b[0;34m)\u001b[0m \u001b[0;32mas\u001b[0m \u001b[0mresponse\u001b[0m\u001b[0;34m:\u001b[0m\u001b[0;34m\u001b[0m\u001b[0;34m\u001b[0m\u001b[0m\n\u001b[0m\u001b[1;32m    156\u001b[0m             \u001b[0;32mreturn\u001b[0m \u001b[0mjson\u001b[0m\u001b[0;34m.\u001b[0m\u001b[0mloads\u001b[0m\u001b[0;34m(\u001b[0m\u001b[0mresponse\u001b[0m\u001b[0;34m.\u001b[0m\u001b[0mread\u001b[0m\u001b[0;34m(\u001b[0m\u001b[0;34m)\u001b[0m\u001b[0;34m.\u001b[0m\u001b[0mdecode\u001b[0m\u001b[0;34m(\u001b[0m\u001b[0;34m\"utf-8\"\u001b[0m\u001b[0;34m)\u001b[0m\u001b[0;34m)\u001b[0m\u001b[0;34m\u001b[0m\u001b[0;34m\u001b[0m\u001b[0m\n\u001b[1;32m    157\u001b[0m \u001b[0;34m\u001b[0m\u001b[0m\n",
            "\u001b[0;32m/usr/local/lib/python3.7/dist-packages/sklearn/datasets/_openml.py\u001b[0m in \u001b[0;36m_open_openml_url\u001b[0;34m(openml_path, data_home)\u001b[0m\n\u001b[1;32m    102\u001b[0m \u001b[0;34m\u001b[0m\u001b[0m\n\u001b[1;32m    103\u001b[0m         \u001b[0;32mtry\u001b[0m\u001b[0;34m:\u001b[0m\u001b[0;34m\u001b[0m\u001b[0;34m\u001b[0m\u001b[0m\n\u001b[0;32m--> 104\u001b[0;31m             \u001b[0;32mwith\u001b[0m \u001b[0mclosing\u001b[0m\u001b[0;34m(\u001b[0m\u001b[0murlopen\u001b[0m\u001b[0;34m(\u001b[0m\u001b[0mreq\u001b[0m\u001b[0;34m)\u001b[0m\u001b[0;34m)\u001b[0m \u001b[0;32mas\u001b[0m \u001b[0mfsrc\u001b[0m\u001b[0;34m:\u001b[0m\u001b[0;34m\u001b[0m\u001b[0;34m\u001b[0m\u001b[0m\n\u001b[0m\u001b[1;32m    105\u001b[0m                 \u001b[0;32mif\u001b[0m \u001b[0mis_gzip\u001b[0m\u001b[0;34m(\u001b[0m\u001b[0mfsrc\u001b[0m\u001b[0;34m)\u001b[0m\u001b[0;34m:\u001b[0m\u001b[0;34m\u001b[0m\u001b[0;34m\u001b[0m\u001b[0m\n\u001b[1;32m    106\u001b[0m                     \u001b[0;32mwith\u001b[0m \u001b[0mopen\u001b[0m\u001b[0;34m(\u001b[0m\u001b[0mlocal_path\u001b[0m\u001b[0;34m,\u001b[0m \u001b[0;34m'wb'\u001b[0m\u001b[0;34m)\u001b[0m \u001b[0;32mas\u001b[0m \u001b[0mfdst\u001b[0m\u001b[0;34m:\u001b[0m\u001b[0;34m\u001b[0m\u001b[0;34m\u001b[0m\u001b[0m\n",
            "\u001b[0;32m/usr/lib/python3.7/urllib/request.py\u001b[0m in \u001b[0;36murlopen\u001b[0;34m(url, data, timeout, cafile, capath, cadefault, context)\u001b[0m\n\u001b[1;32m    220\u001b[0m     \u001b[0;32melse\u001b[0m\u001b[0;34m:\u001b[0m\u001b[0;34m\u001b[0m\u001b[0;34m\u001b[0m\u001b[0m\n\u001b[1;32m    221\u001b[0m         \u001b[0mopener\u001b[0m \u001b[0;34m=\u001b[0m \u001b[0m_opener\u001b[0m\u001b[0;34m\u001b[0m\u001b[0;34m\u001b[0m\u001b[0m\n\u001b[0;32m--> 222\u001b[0;31m     \u001b[0;32mreturn\u001b[0m \u001b[0mopener\u001b[0m\u001b[0;34m.\u001b[0m\u001b[0mopen\u001b[0m\u001b[0;34m(\u001b[0m\u001b[0murl\u001b[0m\u001b[0;34m,\u001b[0m \u001b[0mdata\u001b[0m\u001b[0;34m,\u001b[0m \u001b[0mtimeout\u001b[0m\u001b[0;34m)\u001b[0m\u001b[0;34m\u001b[0m\u001b[0;34m\u001b[0m\u001b[0m\n\u001b[0m\u001b[1;32m    223\u001b[0m \u001b[0;34m\u001b[0m\u001b[0m\n\u001b[1;32m    224\u001b[0m \u001b[0;32mdef\u001b[0m \u001b[0minstall_opener\u001b[0m\u001b[0;34m(\u001b[0m\u001b[0mopener\u001b[0m\u001b[0;34m)\u001b[0m\u001b[0;34m:\u001b[0m\u001b[0;34m\u001b[0m\u001b[0;34m\u001b[0m\u001b[0m\n",
            "\u001b[0;32m/usr/lib/python3.7/urllib/request.py\u001b[0m in \u001b[0;36mopen\u001b[0;34m(self, fullurl, data, timeout)\u001b[0m\n\u001b[1;32m    523\u001b[0m             \u001b[0mreq\u001b[0m \u001b[0;34m=\u001b[0m \u001b[0mmeth\u001b[0m\u001b[0;34m(\u001b[0m\u001b[0mreq\u001b[0m\u001b[0;34m)\u001b[0m\u001b[0;34m\u001b[0m\u001b[0;34m\u001b[0m\u001b[0m\n\u001b[1;32m    524\u001b[0m \u001b[0;34m\u001b[0m\u001b[0m\n\u001b[0;32m--> 525\u001b[0;31m         \u001b[0mresponse\u001b[0m \u001b[0;34m=\u001b[0m \u001b[0mself\u001b[0m\u001b[0;34m.\u001b[0m\u001b[0m_open\u001b[0m\u001b[0;34m(\u001b[0m\u001b[0mreq\u001b[0m\u001b[0;34m,\u001b[0m \u001b[0mdata\u001b[0m\u001b[0;34m)\u001b[0m\u001b[0;34m\u001b[0m\u001b[0;34m\u001b[0m\u001b[0m\n\u001b[0m\u001b[1;32m    526\u001b[0m \u001b[0;34m\u001b[0m\u001b[0m\n\u001b[1;32m    527\u001b[0m         \u001b[0;31m# post-process response\u001b[0m\u001b[0;34m\u001b[0m\u001b[0;34m\u001b[0m\u001b[0;34m\u001b[0m\u001b[0m\n",
            "\u001b[0;32m/usr/lib/python3.7/urllib/request.py\u001b[0m in \u001b[0;36m_open\u001b[0;34m(self, req, data)\u001b[0m\n\u001b[1;32m    541\u001b[0m         \u001b[0mprotocol\u001b[0m \u001b[0;34m=\u001b[0m \u001b[0mreq\u001b[0m\u001b[0;34m.\u001b[0m\u001b[0mtype\u001b[0m\u001b[0;34m\u001b[0m\u001b[0;34m\u001b[0m\u001b[0m\n\u001b[1;32m    542\u001b[0m         result = self._call_chain(self.handle_open, protocol, protocol +\n\u001b[0;32m--> 543\u001b[0;31m                                   '_open', req)\n\u001b[0m\u001b[1;32m    544\u001b[0m         \u001b[0;32mif\u001b[0m \u001b[0mresult\u001b[0m\u001b[0;34m:\u001b[0m\u001b[0;34m\u001b[0m\u001b[0;34m\u001b[0m\u001b[0m\n\u001b[1;32m    545\u001b[0m             \u001b[0;32mreturn\u001b[0m \u001b[0mresult\u001b[0m\u001b[0;34m\u001b[0m\u001b[0;34m\u001b[0m\u001b[0m\n",
            "\u001b[0;32m/usr/lib/python3.7/urllib/request.py\u001b[0m in \u001b[0;36m_call_chain\u001b[0;34m(self, chain, kind, meth_name, *args)\u001b[0m\n\u001b[1;32m    501\u001b[0m         \u001b[0;32mfor\u001b[0m \u001b[0mhandler\u001b[0m \u001b[0;32min\u001b[0m \u001b[0mhandlers\u001b[0m\u001b[0;34m:\u001b[0m\u001b[0;34m\u001b[0m\u001b[0;34m\u001b[0m\u001b[0m\n\u001b[1;32m    502\u001b[0m             \u001b[0mfunc\u001b[0m \u001b[0;34m=\u001b[0m \u001b[0mgetattr\u001b[0m\u001b[0;34m(\u001b[0m\u001b[0mhandler\u001b[0m\u001b[0;34m,\u001b[0m \u001b[0mmeth_name\u001b[0m\u001b[0;34m)\u001b[0m\u001b[0;34m\u001b[0m\u001b[0;34m\u001b[0m\u001b[0m\n\u001b[0;32m--> 503\u001b[0;31m             \u001b[0mresult\u001b[0m \u001b[0;34m=\u001b[0m \u001b[0mfunc\u001b[0m\u001b[0;34m(\u001b[0m\u001b[0;34m*\u001b[0m\u001b[0margs\u001b[0m\u001b[0;34m)\u001b[0m\u001b[0;34m\u001b[0m\u001b[0;34m\u001b[0m\u001b[0m\n\u001b[0m\u001b[1;32m    504\u001b[0m             \u001b[0;32mif\u001b[0m \u001b[0mresult\u001b[0m \u001b[0;32mis\u001b[0m \u001b[0;32mnot\u001b[0m \u001b[0;32mNone\u001b[0m\u001b[0;34m:\u001b[0m\u001b[0;34m\u001b[0m\u001b[0;34m\u001b[0m\u001b[0m\n\u001b[1;32m    505\u001b[0m                 \u001b[0;32mreturn\u001b[0m \u001b[0mresult\u001b[0m\u001b[0;34m\u001b[0m\u001b[0;34m\u001b[0m\u001b[0m\n",
            "\u001b[0;32m/usr/lib/python3.7/urllib/request.py\u001b[0m in \u001b[0;36mhttps_open\u001b[0;34m(self, req)\u001b[0m\n\u001b[1;32m   1391\u001b[0m         \u001b[0;32mdef\u001b[0m \u001b[0mhttps_open\u001b[0m\u001b[0;34m(\u001b[0m\u001b[0mself\u001b[0m\u001b[0;34m,\u001b[0m \u001b[0mreq\u001b[0m\u001b[0;34m)\u001b[0m\u001b[0;34m:\u001b[0m\u001b[0;34m\u001b[0m\u001b[0;34m\u001b[0m\u001b[0m\n\u001b[1;32m   1392\u001b[0m             return self.do_open(http.client.HTTPSConnection, req,\n\u001b[0;32m-> 1393\u001b[0;31m                 context=self._context, check_hostname=self._check_hostname)\n\u001b[0m\u001b[1;32m   1394\u001b[0m \u001b[0;34m\u001b[0m\u001b[0m\n\u001b[1;32m   1395\u001b[0m         \u001b[0mhttps_request\u001b[0m \u001b[0;34m=\u001b[0m \u001b[0mAbstractHTTPHandler\u001b[0m\u001b[0;34m.\u001b[0m\u001b[0mdo_request_\u001b[0m\u001b[0;34m\u001b[0m\u001b[0;34m\u001b[0m\u001b[0m\n",
            "\u001b[0;32m/usr/lib/python3.7/urllib/request.py\u001b[0m in \u001b[0;36mdo_open\u001b[0;34m(self, http_class, req, **http_conn_args)\u001b[0m\n\u001b[1;32m   1348\u001b[0m             \u001b[0;32mtry\u001b[0m\u001b[0;34m:\u001b[0m\u001b[0;34m\u001b[0m\u001b[0;34m\u001b[0m\u001b[0m\n\u001b[1;32m   1349\u001b[0m                 h.request(req.get_method(), req.selector, req.data, headers,\n\u001b[0;32m-> 1350\u001b[0;31m                           encode_chunked=req.has_header('Transfer-encoding'))\n\u001b[0m\u001b[1;32m   1351\u001b[0m             \u001b[0;32mexcept\u001b[0m \u001b[0mOSError\u001b[0m \u001b[0;32mas\u001b[0m \u001b[0merr\u001b[0m\u001b[0;34m:\u001b[0m \u001b[0;31m# timeout error\u001b[0m\u001b[0;34m\u001b[0m\u001b[0;34m\u001b[0m\u001b[0m\n\u001b[1;32m   1352\u001b[0m                 \u001b[0;32mraise\u001b[0m \u001b[0mURLError\u001b[0m\u001b[0;34m(\u001b[0m\u001b[0merr\u001b[0m\u001b[0;34m)\u001b[0m\u001b[0;34m\u001b[0m\u001b[0;34m\u001b[0m\u001b[0m\n",
            "\u001b[0;32m/usr/lib/python3.7/http/client.py\u001b[0m in \u001b[0;36mrequest\u001b[0;34m(self, method, url, body, headers, encode_chunked)\u001b[0m\n\u001b[1;32m   1279\u001b[0m                 encode_chunked=False):\n\u001b[1;32m   1280\u001b[0m         \u001b[0;34m\"\"\"Send a complete request to the server.\"\"\"\u001b[0m\u001b[0;34m\u001b[0m\u001b[0;34m\u001b[0m\u001b[0m\n\u001b[0;32m-> 1281\u001b[0;31m         \u001b[0mself\u001b[0m\u001b[0;34m.\u001b[0m\u001b[0m_send_request\u001b[0m\u001b[0;34m(\u001b[0m\u001b[0mmethod\u001b[0m\u001b[0;34m,\u001b[0m \u001b[0murl\u001b[0m\u001b[0;34m,\u001b[0m \u001b[0mbody\u001b[0m\u001b[0;34m,\u001b[0m \u001b[0mheaders\u001b[0m\u001b[0;34m,\u001b[0m \u001b[0mencode_chunked\u001b[0m\u001b[0;34m)\u001b[0m\u001b[0;34m\u001b[0m\u001b[0;34m\u001b[0m\u001b[0m\n\u001b[0m\u001b[1;32m   1282\u001b[0m \u001b[0;34m\u001b[0m\u001b[0m\n\u001b[1;32m   1283\u001b[0m     \u001b[0;32mdef\u001b[0m \u001b[0m_send_request\u001b[0m\u001b[0;34m(\u001b[0m\u001b[0mself\u001b[0m\u001b[0;34m,\u001b[0m \u001b[0mmethod\u001b[0m\u001b[0;34m,\u001b[0m \u001b[0murl\u001b[0m\u001b[0;34m,\u001b[0m \u001b[0mbody\u001b[0m\u001b[0;34m,\u001b[0m \u001b[0mheaders\u001b[0m\u001b[0;34m,\u001b[0m \u001b[0mencode_chunked\u001b[0m\u001b[0;34m)\u001b[0m\u001b[0;34m:\u001b[0m\u001b[0;34m\u001b[0m\u001b[0;34m\u001b[0m\u001b[0m\n",
            "\u001b[0;32m/usr/lib/python3.7/http/client.py\u001b[0m in \u001b[0;36m_send_request\u001b[0;34m(self, method, url, body, headers, encode_chunked)\u001b[0m\n\u001b[1;32m   1325\u001b[0m             \u001b[0;31m# default charset of iso-8859-1.\u001b[0m\u001b[0;34m\u001b[0m\u001b[0;34m\u001b[0m\u001b[0;34m\u001b[0m\u001b[0m\n\u001b[1;32m   1326\u001b[0m             \u001b[0mbody\u001b[0m \u001b[0;34m=\u001b[0m \u001b[0m_encode\u001b[0m\u001b[0;34m(\u001b[0m\u001b[0mbody\u001b[0m\u001b[0;34m,\u001b[0m \u001b[0;34m'body'\u001b[0m\u001b[0;34m)\u001b[0m\u001b[0;34m\u001b[0m\u001b[0;34m\u001b[0m\u001b[0m\n\u001b[0;32m-> 1327\u001b[0;31m         \u001b[0mself\u001b[0m\u001b[0;34m.\u001b[0m\u001b[0mendheaders\u001b[0m\u001b[0;34m(\u001b[0m\u001b[0mbody\u001b[0m\u001b[0;34m,\u001b[0m \u001b[0mencode_chunked\u001b[0m\u001b[0;34m=\u001b[0m\u001b[0mencode_chunked\u001b[0m\u001b[0;34m)\u001b[0m\u001b[0;34m\u001b[0m\u001b[0;34m\u001b[0m\u001b[0m\n\u001b[0m\u001b[1;32m   1328\u001b[0m \u001b[0;34m\u001b[0m\u001b[0m\n\u001b[1;32m   1329\u001b[0m     \u001b[0;32mdef\u001b[0m \u001b[0mgetresponse\u001b[0m\u001b[0;34m(\u001b[0m\u001b[0mself\u001b[0m\u001b[0;34m)\u001b[0m\u001b[0;34m:\u001b[0m\u001b[0;34m\u001b[0m\u001b[0;34m\u001b[0m\u001b[0m\n",
            "\u001b[0;32m/usr/lib/python3.7/http/client.py\u001b[0m in \u001b[0;36mendheaders\u001b[0;34m(self, message_body, encode_chunked)\u001b[0m\n\u001b[1;32m   1274\u001b[0m         \u001b[0;32melse\u001b[0m\u001b[0;34m:\u001b[0m\u001b[0;34m\u001b[0m\u001b[0;34m\u001b[0m\u001b[0m\n\u001b[1;32m   1275\u001b[0m             \u001b[0;32mraise\u001b[0m \u001b[0mCannotSendHeader\u001b[0m\u001b[0;34m(\u001b[0m\u001b[0;34m)\u001b[0m\u001b[0;34m\u001b[0m\u001b[0;34m\u001b[0m\u001b[0m\n\u001b[0;32m-> 1276\u001b[0;31m         \u001b[0mself\u001b[0m\u001b[0;34m.\u001b[0m\u001b[0m_send_output\u001b[0m\u001b[0;34m(\u001b[0m\u001b[0mmessage_body\u001b[0m\u001b[0;34m,\u001b[0m \u001b[0mencode_chunked\u001b[0m\u001b[0;34m=\u001b[0m\u001b[0mencode_chunked\u001b[0m\u001b[0;34m)\u001b[0m\u001b[0;34m\u001b[0m\u001b[0;34m\u001b[0m\u001b[0m\n\u001b[0m\u001b[1;32m   1277\u001b[0m \u001b[0;34m\u001b[0m\u001b[0m\n\u001b[1;32m   1278\u001b[0m     def request(self, method, url, body=None, headers={}, *,\n",
            "\u001b[0;32m/usr/lib/python3.7/http/client.py\u001b[0m in \u001b[0;36m_send_output\u001b[0;34m(self, message_body, encode_chunked)\u001b[0m\n\u001b[1;32m   1034\u001b[0m         \u001b[0mmsg\u001b[0m \u001b[0;34m=\u001b[0m \u001b[0;34mb\"\\r\\n\"\u001b[0m\u001b[0;34m.\u001b[0m\u001b[0mjoin\u001b[0m\u001b[0;34m(\u001b[0m\u001b[0mself\u001b[0m\u001b[0;34m.\u001b[0m\u001b[0m_buffer\u001b[0m\u001b[0;34m)\u001b[0m\u001b[0;34m\u001b[0m\u001b[0;34m\u001b[0m\u001b[0m\n\u001b[1;32m   1035\u001b[0m         \u001b[0;32mdel\u001b[0m \u001b[0mself\u001b[0m\u001b[0;34m.\u001b[0m\u001b[0m_buffer\u001b[0m\u001b[0;34m[\u001b[0m\u001b[0;34m:\u001b[0m\u001b[0;34m]\u001b[0m\u001b[0;34m\u001b[0m\u001b[0;34m\u001b[0m\u001b[0m\n\u001b[0;32m-> 1036\u001b[0;31m         \u001b[0mself\u001b[0m\u001b[0;34m.\u001b[0m\u001b[0msend\u001b[0m\u001b[0;34m(\u001b[0m\u001b[0mmsg\u001b[0m\u001b[0;34m)\u001b[0m\u001b[0;34m\u001b[0m\u001b[0;34m\u001b[0m\u001b[0m\n\u001b[0m\u001b[1;32m   1037\u001b[0m \u001b[0;34m\u001b[0m\u001b[0m\n\u001b[1;32m   1038\u001b[0m         \u001b[0;32mif\u001b[0m \u001b[0mmessage_body\u001b[0m \u001b[0;32mis\u001b[0m \u001b[0;32mnot\u001b[0m \u001b[0;32mNone\u001b[0m\u001b[0;34m:\u001b[0m\u001b[0;34m\u001b[0m\u001b[0;34m\u001b[0m\u001b[0m\n",
            "\u001b[0;32m/usr/lib/python3.7/http/client.py\u001b[0m in \u001b[0;36msend\u001b[0;34m(self, data)\u001b[0m\n\u001b[1;32m    974\u001b[0m         \u001b[0;32mif\u001b[0m \u001b[0mself\u001b[0m\u001b[0;34m.\u001b[0m\u001b[0msock\u001b[0m \u001b[0;32mis\u001b[0m \u001b[0;32mNone\u001b[0m\u001b[0;34m:\u001b[0m\u001b[0;34m\u001b[0m\u001b[0;34m\u001b[0m\u001b[0m\n\u001b[1;32m    975\u001b[0m             \u001b[0;32mif\u001b[0m \u001b[0mself\u001b[0m\u001b[0;34m.\u001b[0m\u001b[0mauto_open\u001b[0m\u001b[0;34m:\u001b[0m\u001b[0;34m\u001b[0m\u001b[0;34m\u001b[0m\u001b[0m\n\u001b[0;32m--> 976\u001b[0;31m                 \u001b[0mself\u001b[0m\u001b[0;34m.\u001b[0m\u001b[0mconnect\u001b[0m\u001b[0;34m(\u001b[0m\u001b[0;34m)\u001b[0m\u001b[0;34m\u001b[0m\u001b[0;34m\u001b[0m\u001b[0m\n\u001b[0m\u001b[1;32m    977\u001b[0m             \u001b[0;32melse\u001b[0m\u001b[0;34m:\u001b[0m\u001b[0;34m\u001b[0m\u001b[0;34m\u001b[0m\u001b[0m\n\u001b[1;32m    978\u001b[0m                 \u001b[0;32mraise\u001b[0m \u001b[0mNotConnected\u001b[0m\u001b[0;34m(\u001b[0m\u001b[0;34m)\u001b[0m\u001b[0;34m\u001b[0m\u001b[0;34m\u001b[0m\u001b[0m\n",
            "\u001b[0;32m/usr/lib/python3.7/http/client.py\u001b[0m in \u001b[0;36mconnect\u001b[0;34m(self)\u001b[0m\n\u001b[1;32m   1441\u001b[0m             \u001b[0;34m\"Connect to a host on a given (SSL) port.\"\u001b[0m\u001b[0;34m\u001b[0m\u001b[0;34m\u001b[0m\u001b[0m\n\u001b[1;32m   1442\u001b[0m \u001b[0;34m\u001b[0m\u001b[0m\n\u001b[0;32m-> 1443\u001b[0;31m             \u001b[0msuper\u001b[0m\u001b[0;34m(\u001b[0m\u001b[0;34m)\u001b[0m\u001b[0;34m.\u001b[0m\u001b[0mconnect\u001b[0m\u001b[0;34m(\u001b[0m\u001b[0;34m)\u001b[0m\u001b[0;34m\u001b[0m\u001b[0;34m\u001b[0m\u001b[0m\n\u001b[0m\u001b[1;32m   1444\u001b[0m \u001b[0;34m\u001b[0m\u001b[0m\n\u001b[1;32m   1445\u001b[0m             \u001b[0;32mif\u001b[0m \u001b[0mself\u001b[0m\u001b[0;34m.\u001b[0m\u001b[0m_tunnel_host\u001b[0m\u001b[0;34m:\u001b[0m\u001b[0;34m\u001b[0m\u001b[0;34m\u001b[0m\u001b[0m\n",
            "\u001b[0;32m/usr/lib/python3.7/http/client.py\u001b[0m in \u001b[0;36mconnect\u001b[0;34m(self)\u001b[0m\n\u001b[1;32m    946\u001b[0m         \u001b[0;34m\"\"\"Connect to the host and port specified in __init__.\"\"\"\u001b[0m\u001b[0;34m\u001b[0m\u001b[0;34m\u001b[0m\u001b[0m\n\u001b[1;32m    947\u001b[0m         self.sock = self._create_connection(\n\u001b[0;32m--> 948\u001b[0;31m             (self.host,self.port), self.timeout, self.source_address)\n\u001b[0m\u001b[1;32m    949\u001b[0m         \u001b[0mself\u001b[0m\u001b[0;34m.\u001b[0m\u001b[0msock\u001b[0m\u001b[0;34m.\u001b[0m\u001b[0msetsockopt\u001b[0m\u001b[0;34m(\u001b[0m\u001b[0msocket\u001b[0m\u001b[0;34m.\u001b[0m\u001b[0mIPPROTO_TCP\u001b[0m\u001b[0;34m,\u001b[0m \u001b[0msocket\u001b[0m\u001b[0;34m.\u001b[0m\u001b[0mTCP_NODELAY\u001b[0m\u001b[0;34m,\u001b[0m \u001b[0;36m1\u001b[0m\u001b[0;34m)\u001b[0m\u001b[0;34m\u001b[0m\u001b[0;34m\u001b[0m\u001b[0m\n\u001b[1;32m    950\u001b[0m \u001b[0;34m\u001b[0m\u001b[0m\n",
            "\u001b[0;32m/usr/lib/python3.7/socket.py\u001b[0m in \u001b[0;36mcreate_connection\u001b[0;34m(address, timeout, source_address)\u001b[0m\n\u001b[1;32m    714\u001b[0m             \u001b[0;32mif\u001b[0m \u001b[0msource_address\u001b[0m\u001b[0;34m:\u001b[0m\u001b[0;34m\u001b[0m\u001b[0;34m\u001b[0m\u001b[0m\n\u001b[1;32m    715\u001b[0m                 \u001b[0msock\u001b[0m\u001b[0;34m.\u001b[0m\u001b[0mbind\u001b[0m\u001b[0;34m(\u001b[0m\u001b[0msource_address\u001b[0m\u001b[0;34m)\u001b[0m\u001b[0;34m\u001b[0m\u001b[0;34m\u001b[0m\u001b[0m\n\u001b[0;32m--> 716\u001b[0;31m             \u001b[0msock\u001b[0m\u001b[0;34m.\u001b[0m\u001b[0mconnect\u001b[0m\u001b[0;34m(\u001b[0m\u001b[0msa\u001b[0m\u001b[0;34m)\u001b[0m\u001b[0;34m\u001b[0m\u001b[0;34m\u001b[0m\u001b[0m\n\u001b[0m\u001b[1;32m    717\u001b[0m             \u001b[0;31m# Break explicitly a reference cycle\u001b[0m\u001b[0;34m\u001b[0m\u001b[0;34m\u001b[0m\u001b[0;34m\u001b[0m\u001b[0m\n\u001b[1;32m    718\u001b[0m             \u001b[0merr\u001b[0m \u001b[0;34m=\u001b[0m \u001b[0;32mNone\u001b[0m\u001b[0;34m\u001b[0m\u001b[0;34m\u001b[0m\u001b[0m\n",
            "\u001b[0;31mKeyboardInterrupt\u001b[0m: "
          ]
        }
      ]
    },
    {
      "cell_type": "code",
      "metadata": {
        "id": "uPNeUyYGTMOr"
      },
      "source": [
        "from sklearn.datasets import fetch_openml\n",
        "from sklearn.model_selection import train_test_split\n",
        "\n",
        "# sklearn의 mnist_784 데이터 가져오기\n",
        "# \n",
        "mnist = fetch_openml('mnist_784', version=1, cache=True)\n",
        "\n",
        "print(type(mnist))\n",
        "print(type(mnist.target))\n",
        "print(type(mnist.target))\n",
        "loader_train = DataLoader(ds_train, batch_size=54, shuffle=True)\n",
        "loader_test = DataLoader(ds_test, batch_size=54, shuffle=True)\n",
        "\n",
        "EPOCHS = 10\n",
        "# 모델 훈련\n",
        "for epoch in range(1, EPOCHS + 1):\n",
        "    train(model, train_loader, optimizer, log_interval=200)\n",
        "    test_loss, test_accuracy = evaluate(model, test_loader)\n",
        "    print('\\n[EPOCH:{}], \\tTest Loss:{:.4f}, \\tTest Accuracy:{:.2f}\\n'.format(epoch, test_loss, test_accuracy))\n"
      ],
      "execution_count": null,
      "outputs": []
    },
    {
      "cell_type": "markdown",
      "metadata": {
        "id": "ZqeDo_BYUpfd"
      },
      "source": [
        "머신러닝은 pandas의 데이터프레임가, 딥러닝은  numpy의 ndarray가 자주사용됩니다."
      ]
    },
    {
      "cell_type": "code",
      "metadata": {
        "id": "W4eW6kbeTm0a"
      },
      "source": [
        "mnist.target = mnist.target.astype(np.int8)\n",
        "\n",
        "X = mnist.data/255\n",
        "y = mnist.target\n",
        "\n",
        "print(type(X.values))\n",
        "print(type(y.values))\n",
        "\n",
        "X_train, X_test, y_train, y_test = train_test_split(X.values, y.values, test_size=1/7,\n",
        "                                                    random_state=42)\n"
      ],
      "execution_count": null,
      "outputs": []
    },
    {
      "cell_type": "code",
      "metadata": {
        "id": "t2tw1BwwU8qL"
      },
      "source": [
        "X_train = torch.Tensor(X_train)\n",
        "X_test = torch.Tensor(X_test)\n",
        "y_train = torch.Tensor(y_train)\n",
        "y_test = torch.Tensor(y_test)\n",
        "                      \n",
        "print(type(X_train))"
      ],
      "execution_count": null,
      "outputs": []
    },
    {
      "cell_type": "code",
      "metadata": {
        "id": "A20jNY5bVZCP"
      },
      "source": [
        "from torch.utils.data import TensorDataset, DataLoader\n",
        "\n",
        "ds_train = TensorDataset(X_train, y_train)\n",
        "ds_test = TensorDataset(X_test, y_tain)\n",
        "\n",
        "loader_train =  "
      ],
      "execution_count": null,
      "outputs": []
    },
    {
      "cell_type": "markdown",
      "metadata": {
        "id": "PfP50k3leCCh"
      },
      "source": [
        "## 동일한 모델을 클래스를 이용해서 구현"
      ]
    },
    {
      "cell_type": "code",
      "metadata": {
        "id": "wdvZJi7deJkQ"
      },
      "source": [
        "class LinearRegressionModel(nn.Module):\n",
        "    def __init__(self):\n",
        "        super().__init__()\n",
        "        self.linear = nn.Linear(1, 1)\n",
        "\n",
        "    def forward(self, x):\n",
        "        return self.linear(x)\n",
        "\n",
        "# 회귀모델 생성\n",
        "model = LinearRegressionModel()\n",
        "optimizer = torch.optim.SGD(model.parameters(), lr=0.01)\n",
        "\n",
        "# 훈련\n",
        "for epoch in range(3001):\n",
        "    # 입력 데이터를 가지고 모델 생성\n",
        "    prediction = model(X_train)\n",
        "\n",
        "    # 손실 함수 설정 - 회귀의 손실 함수는 대부분 mse나 mae\n",
        "    cost = F.mse_loss(prediction, y_train)\n",
        "    # 이전 가중치 삭제 - 최기화\n",
        "    optimizer.zero_grad()\n",
        "    # 역전파\n",
        "    cost.backward()\n",
        "\n",
        "    # 가중치 업데이터\n",
        "    optimizer.step()\n",
        "\n",
        "    if epoch % 100 == 0:\n",
        "         # 100번마다 로그 출력 \n",
        "         print('Epoch {:4d}/{} Cost: {:.6f}'.format( epoch, nb_epochs, cost.item() ))"
      ],
      "execution_count": null,
      "outputs": []
    },
    {
      "cell_type": "markdown",
      "metadata": {
        "id": "QFumxc9GgeaA"
      },
      "source": [
        "## 선형 회귀\n",
        "- 별도의 클래스를 만들지 않고 nn.Linear만으로 가능하고 별도의 클래스를 만들어서 처리해도 됩니다.\n",
        "### 단순 선형 회귀\n",
        "- feature가 1개이고 label이 1개인 경우의 회귀"
      ]
    },
    {
      "cell_type": "code",
      "metadata": {
        "colab": {
          "base_uri": "https://localhost:8080/",
          "height": 370
        },
        "id": "1xAFC18_4IOX",
        "outputId": "82e2bf1e-a41e-49d7-a86a-d3fc4e63ccce"
      },
      "source": [
        "import torch\n",
        "import torch.nn as nn\n",
        "import torch.nn.functional as F\n",
        "import torch.optim as optim\n",
        "\n",
        "# 데이터를 생성\n",
        "# 데이터가 1차원인 경우는 거의 없습니다.\n",
        "X_train = torch.FloatTensor([1], [2], [3])\n",
        "y_train = torch.FloatTensor([2], [4], [6])\n",
        "\n",
        "# 회귀모델 생성\n",
        "# model = nn.Linear(입력의 차수, 출력의 차수)\n",
        "# 단순회귀의 경우\n",
        "model = nn.Linear(1, 1)\n",
        "\n",
        "# Optimizer생성\n",
        "optimizer = optim.SGD(model.parameters(), lr=0.01)\n",
        "\n",
        "# 훈련\n",
        "for epoch in range(3001) :\n",
        "    # 입력 데이터를 가지고 모델 생성\n",
        "    prediction = model(X_train)\n",
        "    # 손실 함수 설정 - 회귀의 손실 함수는 대부분 mse나 mae\n",
        "    cost = F.mse_loss(prediction, y_train)\n",
        "    # 이중 가중치를 삭제 - 초기화\n",
        "    optimizer.zero_grad()\n",
        "\n",
        "    # 역전파\n",
        "    cost.backward()  \n",
        "    # 가중치 업데이트\n",
        "    optimizer.step()\n",
        "\n",
        "    # 훈련 중 손실 출력\n",
        "    if epoch % 100 == 0:\n",
        "        print('횟수:', epoch, '/', 3000, '\\tCost : ', cost.item())         "
      ],
      "execution_count": null,
      "outputs": [
        {
          "output_type": "error",
          "ename": "TypeError",
          "evalue": "ignored",
          "traceback": [
            "\u001b[0;31m---------------------------------------------------------------------------\u001b[0m",
            "\u001b[0;31mTypeError\u001b[0m                                 Traceback (most recent call last)",
            "\u001b[0;32m<ipython-input-1-37066bf8e21b>\u001b[0m in \u001b[0;36m<module>\u001b[0;34m()\u001b[0m\n\u001b[1;32m      6\u001b[0m \u001b[0;31m# 데이터를 생성\u001b[0m\u001b[0;34m\u001b[0m\u001b[0;34m\u001b[0m\u001b[0;34m\u001b[0m\u001b[0m\n\u001b[1;32m      7\u001b[0m \u001b[0;31m# 데이터가 1차원인 경우는 거의 없습니다.\u001b[0m\u001b[0;34m\u001b[0m\u001b[0;34m\u001b[0m\u001b[0;34m\u001b[0m\u001b[0m\n\u001b[0;32m----> 8\u001b[0;31m \u001b[0mX_train\u001b[0m \u001b[0;34m=\u001b[0m \u001b[0mtorch\u001b[0m\u001b[0;34m.\u001b[0m\u001b[0mFloatTensor\u001b[0m\u001b[0;34m(\u001b[0m\u001b[0;34m[\u001b[0m\u001b[0;36m1\u001b[0m\u001b[0;34m]\u001b[0m\u001b[0;34m,\u001b[0m \u001b[0;34m[\u001b[0m\u001b[0;36m2\u001b[0m\u001b[0;34m]\u001b[0m\u001b[0;34m,\u001b[0m \u001b[0;34m[\u001b[0m\u001b[0;36m3\u001b[0m\u001b[0;34m]\u001b[0m\u001b[0;34m)\u001b[0m\u001b[0;34m\u001b[0m\u001b[0;34m\u001b[0m\u001b[0m\n\u001b[0m\u001b[1;32m      9\u001b[0m \u001b[0my_train\u001b[0m \u001b[0;34m=\u001b[0m \u001b[0mtorch\u001b[0m\u001b[0;34m.\u001b[0m\u001b[0mFloatTensor\u001b[0m\u001b[0;34m(\u001b[0m\u001b[0;34m[\u001b[0m\u001b[0;36m2\u001b[0m\u001b[0;34m]\u001b[0m\u001b[0;34m,\u001b[0m \u001b[0;34m[\u001b[0m\u001b[0;36m4\u001b[0m\u001b[0;34m]\u001b[0m\u001b[0;34m,\u001b[0m \u001b[0;34m[\u001b[0m\u001b[0;36m6\u001b[0m\u001b[0;34m]\u001b[0m\u001b[0;34m)\u001b[0m\u001b[0;34m\u001b[0m\u001b[0;34m\u001b[0m\u001b[0m\n\u001b[1;32m     10\u001b[0m \u001b[0;34m\u001b[0m\u001b[0m\n",
            "\u001b[0;31mTypeError\u001b[0m: new() received an invalid combination of arguments - got (list, list, list), but expected one of:\n * (*, torch.device device)\n * (torch.Storage storage)\n * (Tensor other)\n * (tuple of ints size, *, torch.device device)\n      didn't match because some of the arguments have invalid types: (!list!, !list!, !list!)\n * (object data, *, torch.device device)\n      didn't match because some of the arguments have invalid types: (!list!, !list!, !list!)\n"
          ]
        }
      ]
    },
    {
      "cell_type": "code",
      "metadata": {
        "id": "2SnOke_ihllN"
      },
      "source": [
        "import numpy as pd \n",
        "import pandas as pd\n",
        "\n",
        "import matplotlib.pyplot as plt\n",
        "\n",
        "import torch\n",
        "from torch import nn\n",
        "\n",
        "data = pd.read_csv('/content/drive/MyDrive/Colab Notebooks/data/score.csv')\n",
        "# print(data)\n",
        "\n",
        "X = torch.from_numpy(data[['iq', 'academy', 'game', 'tv']].values).unsqueeze(dim=1).float()\n",
        "y = torch.from_numpy(data['score'].values).unsqueeze(dim=1).float()\n",
        "\n",
        "class MultivariateLinearRegressionModel(nn.Module):\n",
        "    def __init__(self):\n",
        "        super().__init__()\n",
        "        self.linear = nn.Linear(4, 1)\n",
        "\n",
        "    def forward(self, x):\n",
        "        return self.linear(x)\n",
        "\n",
        "# 회귀모델 생성\n",
        "model = MultivariateLinearRegressionModel()\n",
        "optimizer = torch.optim.SGD(model.parameters(), lr=1e-5)\n",
        "\n",
        "nb_epochs = 10\n",
        "# 훈련\n",
        "for epoch in range(3001):\n",
        "    # 입력 데이터를 가지고 모델 생성\n",
        "    prediction = model(X)\n",
        "\n",
        "    # 손실 함수 설정 - 회귀의 손실 함수는 대부분 mse나 mae\n",
        "    cost = F.mse_loss(prediction, y)\n",
        "    # 이전 가중치 삭제 - 최기화\n",
        "    optimizer.zero_grad()\n",
        "    # 역전파\n",
        "    cost.backward()\n",
        "\n",
        "    # 가중치 업데이터\n",
        "    optimizer.step()\n",
        "\n",
        "    if epoch % 100 == 0:\n",
        "         # 100번마다 로그 출력 \n",
        "         print('Epoch {:4d}/{} Cost: {:.6f}'.format( epoch, nb_epochs, cost.item() ))"
      ],
      "execution_count": null,
      "outputs": []
    },
    {
      "cell_type": "markdown",
      "metadata": {
        "id": "tv5BaNfsldm0"
      },
      "source": [
        "예측값이 제대로 안나올 경우\n",
        "- 학습률 조정\n",
        "- SGD말고 다른 optimizer고려"
      ]
    },
    {
      "cell_type": "code",
      "metadata": {
        "id": "alEKjT-Chxm0"
      },
      "source": [
        "# 4개의 값을 2차원 배열로 넣습니다\n",
        "# 'iq', 'academy', 'game', 'tv'\n",
        "new_var = torch.FloatTensor([[140, 2, 1, 1]])\n",
        "pred_y = model(new_var)\n",
        "print(pred_y)\n",
        "print(list(model.parameters()))"
      ],
      "execution_count": null,
      "outputs": []
    },
    {
      "cell_type": "markdown",
      "metadata": {
        "id": "_lNdaQ1aktdV"
      },
      "source": [
        "## Convolutional Neural Network(CNN, 합성곱 신경망)\n",
        "\n",
        "### 이미지 처리\n",
        "피처가 서로 독립적(영향이 없어야)이어야 합니다.\n",
        "상관계수가 높으면 독립적이지 않을 가능성이 높습니다.피처들끼리 선형 관계를 갖는 것을 다중 공선성이라고 하는데 좋은 모델을 가지지 못합니다.\n",
        "\n",
        "- 일반적인 머신러닝에서는 Input변수가 서로 독립적이라는 가정하에서 수행되기 때문에 feature라는 말 대신에 independent variable이라고 부릅니다.\n",
        "\n",
        "- 이미지 처리는 하나의 차원으로 표현되지 않습니다. 하나의 피처가 되는 것이 아니라 하나의 피처 주위에 있는 피처들이 결합이 되어야 하나의 그림이 나오게 됩니다. 그 점이 이미지 처리와 다른 머신러닝 처리와 다른점입니다.\n",
        "- 이미지는 지역 정보(여러 개의 피처가 합쳐져서 표현)를 학습할 수 있는 신경망이 필요합니다. - CNN\n",
        "- CNN은 하나의 피처를 독립적으로 보지 않고 주위 피처와 함께 학습시키는 신경망입니다. 이를 제안한 사람은 르쿤입니다.\n",
        "- CNN의 일반적인 구조는 Region Feature를 만들어내는 Convolution Layer 그리고 Feature Dimention을 위한 Pooling Layer그리고 실제 출력을 만들어 낼 Fully Connected Layer 3부분으로 구성되는 경우가 일반적입니다.\n",
        "\n",
        "### Convolution Layer\n",
        "- Receptive Field 를 정의해서 입력층 이미지의 Feature를 추출하는 역할을 수행하는 Layer입니다.\n",
        "\n",
        "### Receptive Field\n",
        "- 이미지를 분할해서 하나의 값으로 만드는데 이 분할한 데이터의 크기를 Receptive Field라고 합니다\n",
        "\n",
        "### stride \n",
        "- 이 크기가 이미지를 순회하면서 값을 하나씩 만들어갈텐데 이동하는 단위를 stride라고 합니다.\n",
        "\n",
        "### padding\n",
        "- 가장자리 부분은 중앙의 부분보다 연산에 적게 참여하게 됩니다. 따라서 가장 자리 부분이 중요할 때는 가장 자리 외곽에 0을 추가해서 다른 셀들과 연산의 개수를 맞춰줄 수 있는데 이 때 채워넣는 0을 padding이라고 합니다.\n",
        "\n",
        "### weight sharing\n",
        "- 각 Receptive Field별로 가중치를 소유하게 되면 학습해야 할 파라미터가 너무 많아지는데 가중치를 별도로 갖는게 아니라 공유하여 파라미터 수를 줄이는 것을 말합니다.\n",
        "\n",
        "### Pooling Layer\n",
        "- Feature의 사이즈를 줄이기 위해서 여러 개의 Feature의 값을 하나로 묶어주는 것으로 평균이나 최대값을 이용합니다.\n",
        "- 일반적으로 Convolution과 Pooling을 번갈아가면서 설계합니다.\n",
        "\n",
        "### Fully Connected Layer\n",
        "- Pooling Layer에서 나온 Feaure를 Flatten시켜 MLP의 Input으로 놓고 학습을 진행합니다.\n",
        "\n",
        "## 일반적인 DNN(MLP)와 CNN의 가장 큰 차이\n",
        "- 이미지의 Feature를 어떻게 추출하느냐에 있습니다.\n",
        "- MLP는 이미지의 픽셀 값을 Input으로 바로 사용하고 CNN은 Region Feature를 Convolution Layer와 Pooling Layer를 이용해서 추출하고 그 Feature를 MLP의 Input으로 해서 사용합니다.\n",
        "\n",
        "- 딥러닝에서 입력이 중요하다\n",
        "\n",
        "## 딥러닝 실험에 많이 사용되는 이미지 데이터 셋\n",
        "- MNIST, Fashion MNIST\n",
        "\n",
        "## CNN에서 많이 사용되는 이미지 데이터 셋\n",
        "- CIFAR-10 Dataset :토론토 대학교에서 제공하는 10가지 클래스(비행기, 자동차, 새, 고양이, 사슴, 개, 개구리,말, 배, 트럭)로 구성된 60,000장의 이미지 입니다. 공부할 때 많이 이용합니다.\n",
        "\n",
        "- ImageNet : 1000가지의 이미지를 가진 데이터 셋\n",
        "- 구글의 데이터 셋, 말뭉치 데이터셋만 745기가\n",
        "\n",
        "\n",
        "## CIFAR-10 Dataset분류를 위한 MLP설계\n",
        "\n",
        "### 과정 \n",
        "1. 모듈 임포트\n",
        "2. 장비 확인\n",
        "3. 데이터 다운로드\n",
        "4. 데이터확인\n",
        "5. MLP모델 설계\n",
        "6. Optimizer, Objective Function설계\n",
        "7. 성능 확인 하는 함수 설계\n",
        "8. 검증하는 함수\n",
        "9. 학습 수행\n",
        "\n",
        "## CIFAR-10 데이터 분류를 위한 MLP\n",
        "- 모듈 import\n"
      ]
    },
    {
      "cell_type": "code",
      "metadata": {
        "colab": {
          "base_uri": "https://localhost:8080/"
        },
        "id": "ZXc-JSPzA79J",
        "outputId": "41e76a39-122c-4913-d098-aa04ea5754f6"
      },
      "source": [
        "import numpy as np\n",
        "import pandas as pd \n",
        "import torch\n",
        "import torch.nn as nn\n",
        "import torch.nn.functional as F\n",
        "import matplotlib.pyplot as plt \n",
        "from torchvision import transforms, datasets\n",
        "\n",
        "# GPU사용 가능한지 확인\n",
        "import torch\n",
        "if torch.cuda.is_available() :\n",
        "    DEVICE = torch.device('cuda')\n",
        "else :\n",
        "    DEVICE = torch.device('cpu')\n",
        "print('torch version : ', torch.__version__)\n",
        "print('DEVICE : ', DEVICE)"
      ],
      "execution_count": null,
      "outputs": [
        {
          "output_type": "stream",
          "text": [
            "torch version :  1.9.0+cu102\n",
            "DEVICE :  cuda\n"
          ],
          "name": "stdout"
        }
      ]
    },
    {
      "cell_type": "code",
      "metadata": {
        "id": "zV_QlqSmOM6r",
        "colab": {
          "base_uri": "https://localhost:8080/"
        },
        "outputId": "e7f73a9e-5114-4033-8632-e6d0cf7b7f62"
      },
      "source": [
        "from google.colab import drive\n",
        "drive.mount('/content/drive')"
      ],
      "execution_count": null,
      "outputs": [
        {
          "output_type": "stream",
          "text": [
            "Drive already mounted at /content/drive; to attempt to forcibly remount, call drive.mount(\"/content/drive\", force_remount=True).\n"
          ],
          "name": "stdout"
        }
      ]
    },
    {
      "cell_type": "code",
      "metadata": {
        "colab": {
          "base_uri": "https://localhost:8080/"
        },
        "id": "wqh03DTmGY2M",
        "outputId": "bee1c8c0-9a94-47f6-f6c0-270f9e427dc1"
      },
      "source": [
        "BATCH_SIZE = 32\n",
        "EPOCHS = 10\n",
        "train_dataset = datasets.CIFAR10(root='/content/drive/MyDrive/Colab Notebooks/data/CIFAR_10',\n",
        "                                 train=True,\n",
        "                                 download=True,\n",
        "                                 transform=transforms.ToTensor()) # 변환\n",
        "\n",
        "test_dataset = datasets.CIFAR10(root='/content/drive/MyDrive/Colab Notebooks/data/CIFAR_10',\n",
        "                                 train=False,\n",
        "                                 download=True,\n",
        "                                 transform=transforms.ToTensor()) # 변환\n",
        "\n",
        "train_loader = torch.utils.data.DataLoader(dataset = train_dataset,\n",
        "                                           batch_size = BATCH_SIZE,\n",
        "                                           shuffle = True)\n",
        "\n",
        "test_loader = torch.utils.data.DataLoader(dataset = test_dataset,\n",
        "                                           batch_size = BATCH_SIZE,\n",
        "                                           shuffle = True)"
      ],
      "execution_count": null,
      "outputs": [
        {
          "output_type": "stream",
          "text": [
            "Files already downloaded and verified\n",
            "Files already downloaded and verified\n"
          ],
          "name": "stdout"
        }
      ]
    },
    {
      "cell_type": "markdown",
      "metadata": {
        "id": "nyw512FrI834"
      },
      "source": [
        "## 데이터 확인"
      ]
    },
    {
      "cell_type": "code",
      "metadata": {
        "colab": {
          "base_uri": "https://localhost:8080/"
        },
        "id": "7kNC5nC2BvoL",
        "outputId": "961fa30d-8dde-491a-d12d-d107b62047c8"
      },
      "source": [
        "for (X_train, y_train) in train_loader:\n",
        "    print(X_train.size())\n",
        "    print(y_train.size())\n",
        "    break\n",
        "# 32(배치 사이즈), 3(채널의 수), 32(width), 32(height)"
      ],
      "execution_count": null,
      "outputs": [
        {
          "output_type": "stream",
          "text": [
            "torch.Size([32, 3, 32, 32])\n",
            "torch.Size([32])\n"
          ],
          "name": "stdout"
        }
      ]
    },
    {
      "cell_type": "markdown",
      "metadata": {
        "id": "tWf09VApJ_7N"
      },
      "source": [
        "## 위치 변환\n",
        "- transpose를 이용하여 2차원배열로 변환\n",
        "- 32(배치 사이즈), 3(채널의 수), 32(width), 32(height)"
      ]
    },
    {
      "cell_type": "code",
      "metadata": {
        "colab": {
          "base_uri": "https://localhost:8080/",
          "height": 454
        },
        "id": "3qnUFXnGDkDI",
        "outputId": "a5845be1-d184-4cc9-90aa-f67c6f2993dd"
      },
      "source": [
        "pltsize = 1\n",
        "plt.figure(figsize=(10 * pltsize, pltsize))\n",
        "\n",
        "for i in range(10):\n",
        "    plt.subplot(1, 10, i+1)\n",
        "    plt.axis('off')\n",
        "    print(X_train[i].shape)\n",
        "    print(np.transpose(X_train[i], (1, 2, 0)).shape)\n",
        "    plt.imshow(np.transpose(X_train[i], (1, 2, 0)))\n",
        "\n",
        "    plt.title('Class ' + str(y_train[i].item()))"
      ],
      "execution_count": null,
      "outputs": [
        {
          "output_type": "stream",
          "text": [
            "torch.Size([3, 32, 32])\n",
            "torch.Size([32, 32, 3])\n",
            "torch.Size([3, 32, 32])\n",
            "torch.Size([32, 32, 3])\n",
            "torch.Size([3, 32, 32])\n",
            "torch.Size([32, 32, 3])\n",
            "torch.Size([3, 32, 32])\n",
            "torch.Size([32, 32, 3])\n",
            "torch.Size([3, 32, 32])\n",
            "torch.Size([32, 32, 3])\n",
            "torch.Size([3, 32, 32])\n",
            "torch.Size([32, 32, 3])\n",
            "torch.Size([3, 32, 32])\n",
            "torch.Size([32, 32, 3])\n",
            "torch.Size([3, 32, 32])\n",
            "torch.Size([32, 32, 3])\n",
            "torch.Size([3, 32, 32])\n",
            "torch.Size([32, 32, 3])\n",
            "torch.Size([3, 32, 32])\n",
            "torch.Size([32, 32, 3])\n"
          ],
          "name": "stdout"
        },
        {
          "output_type": "display_data",
          "data": {
            "image/png": "[encoded data removed]",
            "text/plain": [
              "<Figure size 720x72 with 10 Axes>"
            ]
          },
          "metadata": {
            "tags": [],
            "needs_background": "light"
          }
        }
      ]
    },
    {
      "cell_type": "markdown",
      "metadata": {
        "id": "g3H1z6JCKQPL"
      },
      "source": [
        "## 모델 설계"
      ]
    },
    {
      "cell_type": "code",
      "metadata": {
        "id": "14JQWvuPLP-6"
      },
      "source": [
        "class Net(nn.Module):\n",
        "    def __init__(self):\n",
        "        super(Net, self).__init__()\n",
        "        self.fc1 = nn.Linear(32 * 32 *3, 512) # 이미지 픽셀, 뉴런\n",
        "        self.fc2 = nn.Linear(512, 256)\n",
        "        self.fc3 = nn.Linear(256, 10) # 클래스가 10개\n",
        "\n",
        "    def forward(self, x):\n",
        "        x = x.view(-1, 32 * 32 * 3)  # keras의 Flatten과 동일\n",
        "        x = self.fc1(x)\n",
        "        x = F.relu(x)\n",
        "        x = self.fc2(x)\n",
        "        x = F.relu(x)\n",
        "        x = self.fc3(x)\n",
        "        x = F.log_softmax(x, dim=1)\n",
        "        return x"
      ],
      "execution_count": null,
      "outputs": []
    },
    {
      "cell_type": "markdown",
      "metadata": {
        "id": "cb8p-QRLM8nz"
      },
      "source": [
        "## 모델의 성능을 확인하는 함수"
      ]
    },
    {
      "cell_type": "code",
      "metadata": {
        "id": "pBllI3kxNbUS"
      },
      "source": [
        "# 훈련과정에서 호출될 함수\n",
        "def train(model, train_loader, optimizer, log_interval):\n",
        "    # 모델 훈련 시작\n",
        "    model.train() \n",
        "    # train_loader 에는 학습에 이용되는 이미지 데이터와 레이블 데이터가 Mini Batch 단위로 묶여 저장되어 있음\n",
        "    # 훈련 데이터의 배치 번호와 이미지 및 레이블을 순회\n",
        "    for batch_idx, (image, label) in enumerate(train_loader):\n",
        "        # image와 label을 DEVICE에 할당\n",
        "        image = image.to(DEVICE)\n",
        "        label = label.to(DEVICE)\n",
        "\n",
        "        # 기존에 정의한 장비에 이미지 데이터와 레이블 데이터를 할당할 경우\n",
        "        # 과거에 이용한 Mini- Batch 내에 있는 이미지 데이터와 레이블 데이터를 \n",
        "        # 바탕으로 계산된 Loss의 Gradient 값이 optimizer에 할당돼 있으므로 \n",
        "        # optimizer의 Gradient를 초기화\n",
        "        optimizer.zero_grad()\n",
        "        # image를 가지고 예측\n",
        "        output = model(image)\n",
        "        # 손실 계산\n",
        "        loss = criterion(output, label)\n",
        "        # 손실 역전파\n",
        "        loss.backward()\n",
        "        # 파라미터 값(weight)을 업데이트\n",
        "        ## weight를 업데이트 하고 사용한 optimizer는 None으로 초기화 하는 것!\n",
        "        ## loss가 적을 때의 weight만 업데이트하고 \n",
        "        optimizer.step()\n",
        "#         print(optimizer)\n",
        "        \n",
        "        # 출력\n",
        "        if batch_idx % log_interval == 0:\n",
        "            print('Train Epoch:{}[{}/{} {:.0f}%]\\tTrain Loss:{:.6f}'.\n",
        "                  format(epoch, batch_idx*len(image), len(train_loader.dataset), 100*batch_idx/len(train_loader), loss.item()))\n",
        "            \n",
        "def evaluate(model, test_loader):\n",
        "    # 모델 훈련 시작\n",
        "    model.eval()\n",
        "    \n",
        "    # loss를 누적할 변수\n",
        "    total_loss = 0\n",
        "    # 정확한 데이터의 개수를 세기 위한 변수\n",
        "    correct = 0\n",
        "    with torch.no_grad():\n",
        "        for image, label in test_loader:\n",
        "            # image와 label을 DEVICE에 할당\n",
        "            image = image.to(DEVICE)\n",
        "            label = label.to(DEVICE)\n",
        "\n",
        "            # image를 가지고 예측\n",
        "            output = model(image)\n",
        "            \n",
        "            #  손실을 계산\n",
        "            total_loss += criterion(output, label).item()\n",
        "           \n",
        "            # 정답의 개수를 계산\n",
        "            # 확률이 제일 큰것\n",
        "            prediction = output.max(1, keepdim = True)[1]\n",
        "            # 예측과 정답의 개수가 같을 때만 correct 1 증가\n",
        "            correct += prediction.eq(label.view_as(prediction)).sum().item()\n",
        "            \n",
        "    # 손실의 평균 구하기\n",
        "    total_loss /= len(test_loader.dataset)\n",
        "    # 정확도\n",
        "    test_accuracy = 100. * correct / len(test_loader.dataset)\n",
        "\n",
        "    # 평균 손실과 정확도 반환\n",
        "    return total_loss, test_accuracy"
      ],
      "execution_count": null,
      "outputs": []
    },
    {
      "cell_type": "markdown",
      "metadata": {
        "id": "niEpZZHXMLAF"
      },
      "source": [
        "## 모델을 생성하고 Optimizer와 Object Function설정"
      ]
    },
    {
      "cell_type": "code",
      "metadata": {
        "id": "i5bKsAZ-Mxoj"
      },
      "source": [
        "model = Net().to(DEVICE)\n",
        "optimizer = torch.optim.Adam(model.parameters(), lr=0.001)\n",
        "criterion = nn.CrossEntropyLoss()\n",
        "\n",
        "for epoch in range(1, EPOCHS + 1):\n",
        "    train(model, train_loader, optimizer, log_interval = 200)\n",
        "    test_loss, test_accuracy = evaluate(model, test_loader)\n",
        "    print(\"\\n[EPOCH: {}], \\tTest Loss: {:.4f}, \\tTest Accuracy: {:.2f} % \\n\".format(\n",
        "        epoch, test_loss, test_accuracy))\n"
      ],
      "execution_count": null,
      "outputs": []
    },
    {
      "cell_type": "markdown",
      "metadata": {
        "id": "qv2Yfc6KOziC"
      },
      "source": [
        "## CNN 적용\n",
        "\n",
        "### 모델 설계\n"
      ]
    },
    {
      "cell_type": "code",
      "metadata": {
        "id": "-_zIs3VKPxy3"
      },
      "source": [
        "class CNN(nn.Module):\n",
        "    def __init__(self):\n",
        "        super(CNN, self).__init__()\n",
        "\n",
        "        # in_channels : 채널의 수\n",
        "        # out_channels : Convolution 연산 결과로 만들어지는 Feature Map의 깊이\n",
        "        # kernel_size : Filter의 크기, padding은 추가해 줄 0의 개수\n",
        "        self.conv1 = nn.Conv2d(in_channels = 3, out_channels=8,\n",
        "                               kernel_size=3, padding=1)\n",
        "        self.conv2 = nn.Conv2d(in_channels = 8, out_channels=16,\n",
        "                               kernel_size=3, padding=1)\n",
        "        \n",
        "        # 묶어서 대표값으로 설정\n",
        "        # 2 * 2단위로 묶을 것이고 간격은 2\n",
        "        # 최대값으로 표현\n",
        "        self.pool = nn.MaxPool2d(kernel_size=2, stride=2)\n",
        "        self.fc1 = nn.Linear(8 * 8 * 16, 64) # Conv2d(in_channels = 8, out_channels=16 와 연결되는 부분\n",
        "        self.fc2 = nn.Linear(64, 32)\n",
        "        self.fc3 = nn.Linear(32, 10)\n",
        "        \n",
        "    def forward(self, x):\n",
        "        x = self.conv1(x)\n",
        "        x = F.relu(x)\n",
        "        x = self.pool(x)\n",
        "\n",
        "        x = self.conv2(x)\n",
        "        x = F.relu(x)\n",
        "        x = self.pool(x)\n",
        "        \n",
        "        x = x.view(-1, 8 * 8 * 16)  # keras의 Flatten과 동일\n",
        "        x = self.fc1(x)\n",
        "        x = F.relu(x)\n",
        "\n",
        "        x = self.fc2(x)\n",
        "        x = F.relu(x)\n",
        "\n",
        "        x = self.fc3(x)\n",
        "        x = F.log_softmax(x, dim=1)\n",
        "        return x"
      ],
      "execution_count": null,
      "outputs": []
    },
    {
      "cell_type": "markdown",
      "metadata": {
        "id": "XI5CPO5QUkGc"
      },
      "source": [
        "## 모델 훈련\n",
        "CNN을 써서 분류 성능이 더 좋아졌습니다."
      ]
    },
    {
      "cell_type": "code",
      "metadata": {
        "id": "0dL5gHfhUmZx"
      },
      "source": [
        "# 모델 객체 생성\n",
        "# DEVICE 장비를 이용해 MLP 모델을 완성하기 위해서\n",
        "model = CNN().to(DEVICE)\n",
        "\n",
        "# 파라미터를 업데이트할 때 반영될 Learning Rate를 0.01, Optimizer의 관성을 나타내는 momentum을 0.5로 설정 \n",
        "optimizer = torch.optim.Adam(model.parameters(), lr = 0.001)\n",
        "# Optimizer\n",
        "criterion = nn.CrossEntropyLoss() # 손실 함수\n",
        "\n",
        "for epoch in range(1, EPOCHS + 1):\n",
        "    train(model, train_loader, optimizer, log_interval = 200)\n",
        "    test_loss, test_accuracy = evaluate(model, test_loader)\n",
        "    print(\"\\n[EPOCH: {}], \\tTest Loss: {:.4f}, \\tTest Accuracy: {:.2f} % \\n\".format(\n",
        "        epoch, test_loss, test_accuracy))\n"
      ],
      "execution_count": null,
      "outputs": []
    },
    {
      "cell_type": "markdown",
      "metadata": {
        "id": "ILakwB9PVych"
      },
      "source": [
        "## Data Augmentation\n",
        "데이터 개수가 너무 적을때 늘려줄 목적으로 사용하는데 이 방법을 사용하면 성능이 소폭 상승한다고 알려져 있습니다.\n",
        "- 이미지 데이터를 Flip, Rotation, Crop, Scaling 하는 것도 가능합니다\n",
        "- Cutout : 일정 부분을 까맣게 칠해버리는 것으로 일종의 Dropout이라고 볼 수 있습니다.\n",
        "-  CutMix : 두개의 이미지를 합쳐 놓고 Label을 학습시킬 때 각각의 이미지가 차지하는 비율을 조절해서 학습시키는 방법입니다.\n",
        "\n",
        "- 이미지 편집함수 [documentation](https://pytorch.org/vision/stable/transforms.html)"
      ]
    },
    {
      "cell_type": "code",
      "metadata": {
        "colab": {
          "base_uri": "https://localhost:8080/"
        },
        "id": "_rTxMYZBW23N",
        "outputId": "30ca8c54-3325-45bd-dfec-b7d428b5daaf"
      },
      "source": [
        "BATCH_SIZE = 32\n",
        "EPOCHS = 10\n",
        "train_dataset = datasets.CIFAR10(root='/content/drive/MyDrive/Colab Notebooks/data/CIFAR_10',\n",
        "                                 train=True,\n",
        "                                 download=True,\n",
        "                                 transform=transforms.Compose([\n",
        "                                     transforms.RandomHorizontalFlip(),\n",
        "                                     transforms.ToTensor(),\n",
        "                                     # RGB이기 때문에 앞에는 표준, 뒤에는 표준편차를 설정해줍니다\n",
        "                                     transforms.Normalize((0.5, 0.5, 0.5), (0.5, 0.5, 0.5)) \n",
        "                                 ])) # 변환\n",
        "\n",
        "test_dataset = datasets.CIFAR10(root='/content/drive/MyDrive/Colab Notebooks/data/CIFAR_10',\n",
        "                                 train=False,\n",
        "                                #  download=True,\n",
        "                                 transform=transforms.Compose([\n",
        "                                     transforms.RandomHorizontalFlip(),\n",
        "                                     transforms.ToTensor(),\n",
        "                                     # RGB이기 때문에 앞에는 표준, 뒤에는 표준편차를 설정해줍니다\n",
        "                                     transforms.Normalize((0.5, 0.5, 0.5), (0.5, 0.5, 0.5)) \n",
        "                                 ])) # 변환\n",
        "\n",
        "train_loader = torch.utils.data.DataLoader(dataset = train_dataset,\n",
        "                                           batch_size = BATCH_SIZE,\n",
        "                                           shuffle = True)\n",
        "\n",
        "test_loader = torch.utils.data.DataLoader(dataset = test_dataset,\n",
        "                                           batch_size = BATCH_SIZE,\n",
        "                                           shuffle = True)"
      ],
      "execution_count": null,
      "outputs": [
        {
          "output_type": "stream",
          "text": [
            "Files already downloaded and verified\n"
          ],
          "name": "stdout"
        }
      ]
    },
    {
      "cell_type": "code",
      "metadata": {
        "colab": {
          "base_uri": "https://localhost:8080/",
          "height": 430
        },
        "id": "NoOGXdk4aAt_",
        "outputId": "45cd382c-9908-4b66-ee06-5a832f8ddcd2"
      },
      "source": [
        "# 모델 객체 생성\n",
        "# DEVICE 장비를 이용해 MLP 모델을 완성하기 위해서\n",
        "model = CNN().to(DEVICE)\n",
        "\n",
        "# 파라미터를 업데이트할 때 반영될 Learning Rate를 0.01, Optimizer의 관성을 나타내는 momentum을 0.5로 설정 \n",
        "optimizer = torch.optim.Adam(model.parameters(), lr = 0.001)\n",
        "# Optimizer\n",
        "criterion = nn.CrossEntropyLoss() # 손실 함수\n",
        "\n",
        "for epoch in range(1, EPOCHS + 1):\n",
        "    train(model, train_loader, optimizer, log_interval = 200)\n",
        "    test_loss, test_accuracy = evaluate(model, test_loader)\n",
        "    print(\"\\n[EPOCH: {}], \\tTest Loss: {:.4f}, \\tTest Accuracy: {:.2f} % \\n\".format(\n",
        "        epoch, test_loss, test_accuracy))\n"
      ],
      "execution_count": null,
      "outputs": [
        {
          "output_type": "stream",
          "text": [
            "Train Epoch:1[0/50000 0%]\tTrain Loss:2.278571\n",
            "Train Epoch:1[6400/50000 13%]\tTrain Loss:1.929307\n"
          ],
          "name": "stdout"
        },
        {
          "output_type": "error",
          "ename": "TypeError",
          "evalue": "ignored",
          "traceback": [
            "\u001b[0;31m---------------------------------------------------------------------------\u001b[0m",
            "\u001b[0;31mTypeError\u001b[0m                                 Traceback (most recent call last)",
            "\u001b[0;32m<ipython-input-89-b416d9e3b5ac>\u001b[0m in \u001b[0;36m<module>\u001b[0;34m()\u001b[0m\n\u001b[1;32m      9\u001b[0m \u001b[0;34m\u001b[0m\u001b[0m\n\u001b[1;32m     10\u001b[0m \u001b[0;32mfor\u001b[0m \u001b[0mepoch\u001b[0m \u001b[0;32min\u001b[0m \u001b[0mrange\u001b[0m\u001b[0;34m(\u001b[0m\u001b[0;36m1\u001b[0m\u001b[0;34m,\u001b[0m \u001b[0mEPOCHS\u001b[0m \u001b[0;34m+\u001b[0m \u001b[0;36m1\u001b[0m\u001b[0;34m)\u001b[0m\u001b[0;34m:\u001b[0m\u001b[0;34m\u001b[0m\u001b[0;34m\u001b[0m\u001b[0m\n\u001b[0;32m---> 11\u001b[0;31m     \u001b[0mtrain\u001b[0m\u001b[0;34m(\u001b[0m\u001b[0mmodel\u001b[0m\u001b[0;34m,\u001b[0m \u001b[0mtrain_loader\u001b[0m\u001b[0;34m,\u001b[0m \u001b[0moptimizer\u001b[0m\u001b[0;34m,\u001b[0m \u001b[0mlog_interval\u001b[0m \u001b[0;34m=\u001b[0m \u001b[0;36m200\u001b[0m\u001b[0;34m)\u001b[0m\u001b[0;34m\u001b[0m\u001b[0;34m\u001b[0m\u001b[0m\n\u001b[0m\u001b[1;32m     12\u001b[0m     \u001b[0mtest_loss\u001b[0m\u001b[0;34m,\u001b[0m \u001b[0mtest_accuracy\u001b[0m \u001b[0;34m=\u001b[0m \u001b[0mevaluate\u001b[0m\u001b[0;34m(\u001b[0m\u001b[0mmodel\u001b[0m\u001b[0;34m,\u001b[0m \u001b[0mtest_loader\u001b[0m\u001b[0;34m)\u001b[0m\u001b[0;34m\u001b[0m\u001b[0;34m\u001b[0m\u001b[0m\n\u001b[1;32m     13\u001b[0m     print(\"\\n[EPOCH: {}], \\tTest Loss: {:.4f}, \\tTest Accuracy: {:.2f} % \\n\".format(\n",
            "\u001b[0;32m<ipython-input-74-01be01ed6712>\u001b[0m in \u001b[0;36mtrain\u001b[0;34m(model, train_loader, optimizer, log_interval)\u001b[0m\n\u001b[1;32m      5\u001b[0m     \u001b[0;31m# train_loader 에는 학습에 이용되는 이미지 데이터와 레이블 데이터가 Mini Batch 단위로 묶여 저장되어 있음\u001b[0m\u001b[0;34m\u001b[0m\u001b[0;34m\u001b[0m\u001b[0;34m\u001b[0m\u001b[0m\n\u001b[1;32m      6\u001b[0m     \u001b[0;31m# 훈련 데이터의 배치 번호와 이미지 및 레이블을 순회\u001b[0m\u001b[0;34m\u001b[0m\u001b[0;34m\u001b[0m\u001b[0;34m\u001b[0m\u001b[0m\n\u001b[0;32m----> 7\u001b[0;31m     \u001b[0;32mfor\u001b[0m \u001b[0mbatch_idx\u001b[0m\u001b[0;34m,\u001b[0m \u001b[0;34m(\u001b[0m\u001b[0mimage\u001b[0m\u001b[0;34m,\u001b[0m \u001b[0mlabel\u001b[0m\u001b[0;34m)\u001b[0m \u001b[0;32min\u001b[0m \u001b[0menumerate\u001b[0m\u001b[0;34m(\u001b[0m\u001b[0mtrain_loader\u001b[0m\u001b[0;34m)\u001b[0m\u001b[0;34m:\u001b[0m\u001b[0;34m\u001b[0m\u001b[0;34m\u001b[0m\u001b[0m\n\u001b[0m\u001b[1;32m      8\u001b[0m         \u001b[0;31m# image와 label을 DEVICE에 할당\u001b[0m\u001b[0;34m\u001b[0m\u001b[0;34m\u001b[0m\u001b[0;34m\u001b[0m\u001b[0m\n\u001b[1;32m      9\u001b[0m         \u001b[0mimage\u001b[0m \u001b[0;34m=\u001b[0m \u001b[0mimage\u001b[0m\u001b[0;34m.\u001b[0m\u001b[0mto\u001b[0m\u001b[0;34m(\u001b[0m\u001b[0mDEVICE\u001b[0m\u001b[0;34m)\u001b[0m\u001b[0;34m\u001b[0m\u001b[0;34m\u001b[0m\u001b[0m\n",
            "\u001b[0;32m/usr/local/lib/python3.7/dist-packages/torch/utils/data/dataloader.py\u001b[0m in \u001b[0;36m__next__\u001b[0;34m(self)\u001b[0m\n\u001b[1;32m    519\u001b[0m             \u001b[0;32mif\u001b[0m \u001b[0mself\u001b[0m\u001b[0;34m.\u001b[0m\u001b[0m_sampler_iter\u001b[0m \u001b[0;32mis\u001b[0m \u001b[0;32mNone\u001b[0m\u001b[0;34m:\u001b[0m\u001b[0;34m\u001b[0m\u001b[0;34m\u001b[0m\u001b[0m\n\u001b[1;32m    520\u001b[0m                 \u001b[0mself\u001b[0m\u001b[0;34m.\u001b[0m\u001b[0m_reset\u001b[0m\u001b[0;34m(\u001b[0m\u001b[0;34m)\u001b[0m\u001b[0;34m\u001b[0m\u001b[0;34m\u001b[0m\u001b[0m\n\u001b[0;32m--> 521\u001b[0;31m             \u001b[0mdata\u001b[0m \u001b[0;34m=\u001b[0m \u001b[0mself\u001b[0m\u001b[0;34m.\u001b[0m\u001b[0m_next_data\u001b[0m\u001b[0;34m(\u001b[0m\u001b[0;34m)\u001b[0m\u001b[0;34m\u001b[0m\u001b[0;34m\u001b[0m\u001b[0m\n\u001b[0m\u001b[1;32m    522\u001b[0m             \u001b[0mself\u001b[0m\u001b[0;34m.\u001b[0m\u001b[0m_num_yielded\u001b[0m \u001b[0;34m+=\u001b[0m \u001b[0;36m1\u001b[0m\u001b[0;34m\u001b[0m\u001b[0;34m\u001b[0m\u001b[0m\n\u001b[1;32m    523\u001b[0m             \u001b[0;32mif\u001b[0m \u001b[0mself\u001b[0m\u001b[0;34m.\u001b[0m\u001b[0m_dataset_kind\u001b[0m \u001b[0;34m==\u001b[0m \u001b[0m_DatasetKind\u001b[0m\u001b[0;34m.\u001b[0m\u001b[0mIterable\u001b[0m \u001b[0;32mand\u001b[0m\u001b[0;31m \u001b[0m\u001b[0;31m\\\u001b[0m\u001b[0;34m\u001b[0m\u001b[0;34m\u001b[0m\u001b[0m\n",
            "\u001b[0;32m/usr/local/lib/python3.7/dist-packages/torch/utils/data/dataloader.py\u001b[0m in \u001b[0;36m_next_data\u001b[0;34m(self)\u001b[0m\n\u001b[1;32m    559\u001b[0m     \u001b[0;32mdef\u001b[0m \u001b[0m_next_data\u001b[0m\u001b[0;34m(\u001b[0m\u001b[0mself\u001b[0m\u001b[0;34m)\u001b[0m\u001b[0;34m:\u001b[0m\u001b[0;34m\u001b[0m\u001b[0;34m\u001b[0m\u001b[0m\n\u001b[1;32m    560\u001b[0m         \u001b[0mindex\u001b[0m \u001b[0;34m=\u001b[0m \u001b[0mself\u001b[0m\u001b[0;34m.\u001b[0m\u001b[0m_next_index\u001b[0m\u001b[0;34m(\u001b[0m\u001b[0;34m)\u001b[0m  \u001b[0;31m# may raise StopIteration\u001b[0m\u001b[0;34m\u001b[0m\u001b[0;34m\u001b[0m\u001b[0m\n\u001b[0;32m--> 561\u001b[0;31m         \u001b[0mdata\u001b[0m \u001b[0;34m=\u001b[0m \u001b[0mself\u001b[0m\u001b[0;34m.\u001b[0m\u001b[0m_dataset_fetcher\u001b[0m\u001b[0;34m.\u001b[0m\u001b[0mfetch\u001b[0m\u001b[0;34m(\u001b[0m\u001b[0mindex\u001b[0m\u001b[0;34m)\u001b[0m  \u001b[0;31m# may raise StopIteration\u001b[0m\u001b[0;34m\u001b[0m\u001b[0;34m\u001b[0m\u001b[0m\n\u001b[0m\u001b[1;32m    562\u001b[0m         \u001b[0;32mif\u001b[0m \u001b[0mself\u001b[0m\u001b[0;34m.\u001b[0m\u001b[0m_pin_memory\u001b[0m\u001b[0;34m:\u001b[0m\u001b[0;34m\u001b[0m\u001b[0;34m\u001b[0m\u001b[0m\n\u001b[1;32m    563\u001b[0m             \u001b[0mdata\u001b[0m \u001b[0;34m=\u001b[0m \u001b[0m_utils\u001b[0m\u001b[0;34m.\u001b[0m\u001b[0mpin_memory\u001b[0m\u001b[0;34m.\u001b[0m\u001b[0mpin_memory\u001b[0m\u001b[0;34m(\u001b[0m\u001b[0mdata\u001b[0m\u001b[0;34m)\u001b[0m\u001b[0;34m\u001b[0m\u001b[0;34m\u001b[0m\u001b[0m\n",
            "\u001b[0;32m/usr/local/lib/python3.7/dist-packages/torch/utils/data/_utils/fetch.py\u001b[0m in \u001b[0;36mfetch\u001b[0;34m(self, possibly_batched_index)\u001b[0m\n\u001b[1;32m     42\u001b[0m     \u001b[0;32mdef\u001b[0m \u001b[0mfetch\u001b[0m\u001b[0;34m(\u001b[0m\u001b[0mself\u001b[0m\u001b[0;34m,\u001b[0m \u001b[0mpossibly_batched_index\u001b[0m\u001b[0;34m)\u001b[0m\u001b[0;34m:\u001b[0m\u001b[0;34m\u001b[0m\u001b[0;34m\u001b[0m\u001b[0m\n\u001b[1;32m     43\u001b[0m         \u001b[0;32mif\u001b[0m \u001b[0mself\u001b[0m\u001b[0;34m.\u001b[0m\u001b[0mauto_collation\u001b[0m\u001b[0;34m:\u001b[0m\u001b[0;34m\u001b[0m\u001b[0;34m\u001b[0m\u001b[0m\n\u001b[0;32m---> 44\u001b[0;31m             \u001b[0mdata\u001b[0m \u001b[0;34m=\u001b[0m \u001b[0;34m[\u001b[0m\u001b[0mself\u001b[0m\u001b[0;34m.\u001b[0m\u001b[0mdataset\u001b[0m\u001b[0;34m[\u001b[0m\u001b[0midx\u001b[0m\u001b[0;34m]\u001b[0m \u001b[0;32mfor\u001b[0m \u001b[0midx\u001b[0m \u001b[0;32min\u001b[0m \u001b[0mpossibly_batched_index\u001b[0m\u001b[0;34m]\u001b[0m\u001b[0;34m\u001b[0m\u001b[0;34m\u001b[0m\u001b[0m\n\u001b[0m\u001b[1;32m     45\u001b[0m         \u001b[0;32melse\u001b[0m\u001b[0;34m:\u001b[0m\u001b[0;34m\u001b[0m\u001b[0;34m\u001b[0m\u001b[0m\n\u001b[1;32m     46\u001b[0m             \u001b[0mdata\u001b[0m \u001b[0;34m=\u001b[0m \u001b[0mself\u001b[0m\u001b[0;34m.\u001b[0m\u001b[0mdataset\u001b[0m\u001b[0;34m[\u001b[0m\u001b[0mpossibly_batched_index\u001b[0m\u001b[0;34m]\u001b[0m\u001b[0;34m\u001b[0m\u001b[0;34m\u001b[0m\u001b[0m\n",
            "\u001b[0;32m/usr/local/lib/python3.7/dist-packages/torch/utils/data/_utils/fetch.py\u001b[0m in \u001b[0;36m<listcomp>\u001b[0;34m(.0)\u001b[0m\n\u001b[1;32m     42\u001b[0m     \u001b[0;32mdef\u001b[0m \u001b[0mfetch\u001b[0m\u001b[0;34m(\u001b[0m\u001b[0mself\u001b[0m\u001b[0;34m,\u001b[0m \u001b[0mpossibly_batched_index\u001b[0m\u001b[0;34m)\u001b[0m\u001b[0;34m:\u001b[0m\u001b[0;34m\u001b[0m\u001b[0;34m\u001b[0m\u001b[0m\n\u001b[1;32m     43\u001b[0m         \u001b[0;32mif\u001b[0m \u001b[0mself\u001b[0m\u001b[0;34m.\u001b[0m\u001b[0mauto_collation\u001b[0m\u001b[0;34m:\u001b[0m\u001b[0;34m\u001b[0m\u001b[0;34m\u001b[0m\u001b[0m\n\u001b[0;32m---> 44\u001b[0;31m             \u001b[0mdata\u001b[0m \u001b[0;34m=\u001b[0m \u001b[0;34m[\u001b[0m\u001b[0mself\u001b[0m\u001b[0;34m.\u001b[0m\u001b[0mdataset\u001b[0m\u001b[0;34m[\u001b[0m\u001b[0midx\u001b[0m\u001b[0;34m]\u001b[0m \u001b[0;32mfor\u001b[0m \u001b[0midx\u001b[0m \u001b[0;32min\u001b[0m \u001b[0mpossibly_batched_index\u001b[0m\u001b[0;34m]\u001b[0m\u001b[0;34m\u001b[0m\u001b[0;34m\u001b[0m\u001b[0m\n\u001b[0m\u001b[1;32m     45\u001b[0m         \u001b[0;32melse\u001b[0m\u001b[0;34m:\u001b[0m\u001b[0;34m\u001b[0m\u001b[0;34m\u001b[0m\u001b[0m\n\u001b[1;32m     46\u001b[0m             \u001b[0mdata\u001b[0m \u001b[0;34m=\u001b[0m \u001b[0mself\u001b[0m\u001b[0;34m.\u001b[0m\u001b[0mdataset\u001b[0m\u001b[0;34m[\u001b[0m\u001b[0mpossibly_batched_index\u001b[0m\u001b[0;34m]\u001b[0m\u001b[0;34m\u001b[0m\u001b[0;34m\u001b[0m\u001b[0m\n",
            "\u001b[0;32m/usr/local/lib/python3.7/dist-packages/torchvision/datasets/cifar.py\u001b[0m in \u001b[0;36m__getitem__\u001b[0;34m(self, index)\u001b[0m\n\u001b[1;32m    118\u001b[0m \u001b[0;34m\u001b[0m\u001b[0m\n\u001b[1;32m    119\u001b[0m         \u001b[0;32mif\u001b[0m \u001b[0mself\u001b[0m\u001b[0;34m.\u001b[0m\u001b[0mtransform\u001b[0m \u001b[0;32mis\u001b[0m \u001b[0;32mnot\u001b[0m \u001b[0;32mNone\u001b[0m\u001b[0;34m:\u001b[0m\u001b[0;34m\u001b[0m\u001b[0;34m\u001b[0m\u001b[0m\n\u001b[0;32m--> 120\u001b[0;31m             \u001b[0mimg\u001b[0m \u001b[0;34m=\u001b[0m \u001b[0mself\u001b[0m\u001b[0;34m.\u001b[0m\u001b[0mtransform\u001b[0m\u001b[0;34m(\u001b[0m\u001b[0mimg\u001b[0m\u001b[0;34m)\u001b[0m\u001b[0;34m\u001b[0m\u001b[0;34m\u001b[0m\u001b[0m\n\u001b[0m\u001b[1;32m    121\u001b[0m \u001b[0;34m\u001b[0m\u001b[0m\n\u001b[1;32m    122\u001b[0m         \u001b[0;32mif\u001b[0m \u001b[0mself\u001b[0m\u001b[0;34m.\u001b[0m\u001b[0mtarget_transform\u001b[0m \u001b[0;32mis\u001b[0m \u001b[0;32mnot\u001b[0m \u001b[0;32mNone\u001b[0m\u001b[0;34m:\u001b[0m\u001b[0;34m\u001b[0m\u001b[0;34m\u001b[0m\u001b[0m\n",
            "\u001b[0;32m/usr/local/lib/python3.7/dist-packages/torchvision/transforms/transforms.py\u001b[0m in \u001b[0;36m__call__\u001b[0;34m(self, img)\u001b[0m\n\u001b[1;32m     58\u001b[0m     \u001b[0;32mdef\u001b[0m \u001b[0m__call__\u001b[0m\u001b[0;34m(\u001b[0m\u001b[0mself\u001b[0m\u001b[0;34m,\u001b[0m \u001b[0mimg\u001b[0m\u001b[0;34m)\u001b[0m\u001b[0;34m:\u001b[0m\u001b[0;34m\u001b[0m\u001b[0;34m\u001b[0m\u001b[0m\n\u001b[1;32m     59\u001b[0m         \u001b[0;32mfor\u001b[0m \u001b[0mt\u001b[0m \u001b[0;32min\u001b[0m \u001b[0mself\u001b[0m\u001b[0;34m.\u001b[0m\u001b[0mtransforms\u001b[0m\u001b[0;34m:\u001b[0m\u001b[0;34m\u001b[0m\u001b[0;34m\u001b[0m\u001b[0m\n\u001b[0;32m---> 60\u001b[0;31m             \u001b[0mimg\u001b[0m \u001b[0;34m=\u001b[0m \u001b[0mt\u001b[0m\u001b[0;34m(\u001b[0m\u001b[0mimg\u001b[0m\u001b[0;34m)\u001b[0m\u001b[0;34m\u001b[0m\u001b[0;34m\u001b[0m\u001b[0m\n\u001b[0m\u001b[1;32m     61\u001b[0m         \u001b[0;32mreturn\u001b[0m \u001b[0mimg\u001b[0m\u001b[0;34m\u001b[0m\u001b[0;34m\u001b[0m\u001b[0m\n\u001b[1;32m     62\u001b[0m \u001b[0;34m\u001b[0m\u001b[0m\n",
            "\u001b[0;32m/usr/local/lib/python3.7/dist-packages/torchvision/transforms/transforms.py\u001b[0m in \u001b[0;36m__call__\u001b[0;34m(self, pic)\u001b[0m\n\u001b[1;32m     95\u001b[0m             \u001b[0mTensor\u001b[0m\u001b[0;34m:\u001b[0m \u001b[0mConverted\u001b[0m \u001b[0mimage\u001b[0m\u001b[0;34m.\u001b[0m\u001b[0;34m\u001b[0m\u001b[0;34m\u001b[0m\u001b[0m\n\u001b[1;32m     96\u001b[0m         \"\"\"\n\u001b[0;32m---> 97\u001b[0;31m         \u001b[0;32mreturn\u001b[0m \u001b[0mF\u001b[0m\u001b[0;34m.\u001b[0m\u001b[0mto_tensor\u001b[0m\u001b[0;34m(\u001b[0m\u001b[0mpic\u001b[0m\u001b[0;34m)\u001b[0m\u001b[0;34m\u001b[0m\u001b[0;34m\u001b[0m\u001b[0m\n\u001b[0m\u001b[1;32m     98\u001b[0m \u001b[0;34m\u001b[0m\u001b[0m\n\u001b[1;32m     99\u001b[0m     \u001b[0;32mdef\u001b[0m \u001b[0m__repr__\u001b[0m\u001b[0;34m(\u001b[0m\u001b[0mself\u001b[0m\u001b[0;34m)\u001b[0m\u001b[0;34m:\u001b[0m\u001b[0;34m\u001b[0m\u001b[0;34m\u001b[0m\u001b[0m\n",
            "\u001b[0;32m/usr/local/lib/python3.7/dist-packages/torchvision/transforms/functional.py\u001b[0m in \u001b[0;36mto_tensor\u001b[0;34m(pic)\u001b[0m\n\u001b[1;32m    127\u001b[0m     \u001b[0mmode_to_nptype\u001b[0m \u001b[0;34m=\u001b[0m \u001b[0;34m{\u001b[0m\u001b[0;34m'I'\u001b[0m\u001b[0;34m:\u001b[0m \u001b[0mnp\u001b[0m\u001b[0;34m.\u001b[0m\u001b[0mint32\u001b[0m\u001b[0;34m,\u001b[0m \u001b[0;34m'I;16'\u001b[0m\u001b[0;34m:\u001b[0m \u001b[0mnp\u001b[0m\u001b[0;34m.\u001b[0m\u001b[0mint16\u001b[0m\u001b[0;34m,\u001b[0m \u001b[0;34m'F'\u001b[0m\u001b[0;34m:\u001b[0m \u001b[0mnp\u001b[0m\u001b[0;34m.\u001b[0m\u001b[0mfloat32\u001b[0m\u001b[0;34m}\u001b[0m\u001b[0;34m\u001b[0m\u001b[0;34m\u001b[0m\u001b[0m\n\u001b[1;32m    128\u001b[0m     img = torch.from_numpy(\n\u001b[0;32m--> 129\u001b[0;31m         \u001b[0mnp\u001b[0m\u001b[0;34m.\u001b[0m\u001b[0marray\u001b[0m\u001b[0;34m(\u001b[0m\u001b[0mpic\u001b[0m\u001b[0;34m,\u001b[0m \u001b[0mmode_to_nptype\u001b[0m\u001b[0;34m.\u001b[0m\u001b[0mget\u001b[0m\u001b[0;34m(\u001b[0m\u001b[0mpic\u001b[0m\u001b[0;34m.\u001b[0m\u001b[0mmode\u001b[0m\u001b[0;34m,\u001b[0m \u001b[0mnp\u001b[0m\u001b[0;34m.\u001b[0m\u001b[0muint8\u001b[0m\u001b[0;34m)\u001b[0m\u001b[0;34m,\u001b[0m \u001b[0mcopy\u001b[0m\u001b[0;34m=\u001b[0m\u001b[0;32mTrue\u001b[0m\u001b[0;34m)\u001b[0m\u001b[0;34m\u001b[0m\u001b[0;34m\u001b[0m\u001b[0m\n\u001b[0m\u001b[1;32m    130\u001b[0m     )\n\u001b[1;32m    131\u001b[0m \u001b[0;34m\u001b[0m\u001b[0m\n",
            "\u001b[0;31mTypeError\u001b[0m: int() argument must be a string, a bytes-like object or a number, not 'Image'"
          ]
        }
      ]
    },
    {
      "cell_type": "markdown",
      "metadata": {
        "id": "hw0VLj_fau82"
      },
      "source": [
        "## Data Augmentation(DataSet 합치기)\n",
        "- Dataset의 data를 호출하면 numpy배열로 데이털를 리턴하고 targets 가 레이블을 "
      ]
    },
    {
      "cell_type": "code",
      "metadata": {
        "colab": {
          "base_uri": "https://localhost:8080/"
        },
        "id": "aILuLj4vdce5",
        "outputId": "9cf46cb4-3faf-4914-a8c7-36805b5e7d57"
      },
      "source": [
        "print(type(train_dataset))\n",
        "print(type(train_dataset.data)) # feature 데이터를 numpy배열로 리턴한 것입니다.\n",
        "print(train_dataset.data.shape)\n",
        "\n",
        "print(type(train_dataset.targets)) # label 데이터를 가져오기\n",
        "print(len(train_dataset.targets))"
      ],
      "execution_count": null,
      "outputs": [
        {
          "output_type": "stream",
          "text": [
            "<class 'torchvision.datasets.cifar.CIFAR10'>\n",
            "<class 'numpy.ndarray'>\n",
            "(50000, 32, 32, 3)\n",
            "<class 'list'>\n",
            "50000\n"
          ],
          "name": "stdout"
        }
      ]
    },
    {
      "cell_type": "markdown",
      "metadata": {
        "id": "SN2HSM4KdeWA"
      },
      "source": [
        "### numpy합치는 방법 2가지\n",
        "- 이때 주의할 점은 feature의 데이터개수를 늘리고 레이블도 늘려줘야 합니다.\n",
        "1. r_ 또는 c_사용\n",
        "- np.r_[ndarray, ndarray] : 세로로 합치기\n",
        "- np.c_[ndarray, ndarray] : 가로로 합치기\n",
        "\n",
        "3. \\+ 연산자로 연결"
      ]
    },
    {
      "cell_type": "code",
      "metadata": {
        "colab": {
          "base_uri": "https://localhost:8080/"
        },
        "id": "yeKpAmubeVx5",
        "outputId": "ac826357-c193-484a-8efe-f469e7b22a04"
      },
      "source": [
        "# numpy 배열을 세로로 합치기\n",
        "train_dataset.data = np.r_[train_dataset.data, train_dataset.data]\n",
        "print(train_dataset.data.shape)\n",
        "# numpy 배열을 가로로 합치기\n",
        "# train_dataset.data = np.c_[train_dataset.data, train_dataset.data]\n",
        "\n",
        "# 레이블 세로로 합치기\n",
        "train_dataset.targets = np.r_[train_dataset.targets, train_dataset.targets]\n",
        "# train_dataset.targets = train_dataset.targets, train_dataset.targets\n",
        "print(len(train_dataset.targets))"
      ],
      "execution_count": null,
      "outputs": [
        {
          "output_type": "stream",
          "text": [
            "(100000, 32, 32, 3)\n",
            "100000\n"
          ],
          "name": "stdout"
        }
      ]
    },
    {
      "cell_type": "markdown",
      "metadata": {
        "id": "MAign6glelBY"
      },
      "source": [
        "## 전이 학습\n",
        "### ImageNet\n",
        "- 학습 데이터가 138GB정도 되는 1400만 장의 이미지로 구성된 데이터 셋\n",
        "- 이미지를 분류하는 모델 대회를 ImageNet Large Scal Visual Recognition Challenge(ILVRC)라고 합니다.\n",
        "- 2015년부터 등장한 모델들은 인간의 성능을 뛰어 넘었고 깊이는 152층을 넘어섰습니다.\n",
        "\n",
        "### 많이 알려지고 언급되는 모델\n",
        "- LeNet :실제로 많이 사용되진 않습니다. Yann LeCun 교수가 제안한 모델로 Convolution Layer 2개, Pooling Layer 2개, Fully Connected Layer 3개를 갖는 구조\n",
        "- AlexNet : 2014년 대회의 우승 모델로 Activation함수로 ReLU를 사용했고 Dropout과 Data Augmetation을 적용\n",
        "- VGG : 2014년 대회의 2등 모델로 3X3 Convolution Layer를 중첩의 깊이에 따라 분류를 하는데 VFF16이면 16개 Layer가 있다는 뜻입니다. \n",
        "- GoogLeNet : inception을 도입. 기초적인 인셉션은 한번에 conv2D가 3개와 Maxpooling이 들어갑니다. 차원감소를 더한 인셉션 모듈도 있습니다.\n",
        "- ResNet : Residual Network의 약자로 MS에서 제안한 모델입니다. 이전 까지의 모델들은 깊이가 깊어지면 이전의 Layer의 특성을 제대로 반영하기가 어려웠습니다. 점점 줄여나가는 방식이기 때문에.\n",
        "residual Block의 개념을 도입해서 이전 Layer의 Feature Map을 다음 Layer의 Feature Map에 더해주는 개념으로 이를 Skip Connection 이라고도 합니다. 현재 가장 많이 언급된 모델중에 하나입니다.\n",
        "- DenseNet : ResNet의 확장버전입니다. ResNet은 이전 Layer와 현재 Layer의 Feature Map을 더하는 개념인데 (Dense는 밀집의 개념임) 이전 모든 Layer의 Feature Map 을 같이 학습시키는 모델입니다.\n",
        "\n",
        "### Pytorch에서 제공하는 모델\n",
        "- https://pytorch.org/vision/stable/models.html\n",
        "- pretrained:True  사전에 훈련된 모델을 사용할 것인지를 설정\n",
        "- \n",
        "\n",
        "#### ResNet34  모델을 불러와서 CIFAR10"
      ]
    },
    {
      "cell_type": "code",
      "metadata": {
        "id": "rmud82OLfHvF"
      },
      "source": [
        "import torchvision.models as models\n",
        "\n",
        "# 사전 훈련된 파라미터를 수정하지 않고 ResNet34모델을 사용\n",
        "model = models.resnet34(pretrained=False)\n",
        "num_ftrs = model.fc.in_features\n",
        "model.fc = nn.Linear(num_ftrs, 10) # 분류 개수를 써줘야 합니다.\n",
        "\n",
        "model = model.to(DEVICE)"
      ],
      "execution_count": null,
      "outputs": []
    },
    {
      "cell_type": "markdown",
      "metadata": {
        "id": "Hxg6JTWSoZgS"
      },
      "source": [
        "### 모델 훈련"
      ]
    },
    {
      "cell_type": "code",
      "metadata": {
        "colab": {
          "base_uri": "https://localhost:8080/"
        },
        "id": "Uadf0uE9onsA",
        "outputId": "b7ea142a-9c31-4eeb-a079-126893bd9450"
      },
      "source": [
        "# 파라미터를 업데이트할 때 반영될 Learning Rate를 0.01, Optimizer의 관성을 나타내는 momentum을 0.5로 설정 \n",
        "optimizer = torch.optim.Adam(model.parameters(), lr = 0.001)\n",
        "# Optimizer\n",
        "criterion = nn.CrossEntropyLoss() # 손실 함수\n",
        "\n",
        "for epoch in range(1, EPOCHS + 1):\n",
        "    train(model, train_loader, optimizer, log_interval = 200)\n",
        "    test_loss, test_accuracy = evaluate(model, test_loader)\n",
        "    print(\"\\n[EPOCH: {}], \\tTest Loss: {:.4f}, \\tTest Accuracy: {:.2f} % \\n\".format(\n",
        "        epoch, test_loss, test_accuracy))"
      ],
      "execution_count": null,
      "outputs": [
        {
          "output_type": "stream",
          "text": [
            "Train Epoch:1[0/100000 0%]\tTrain Loss:2.528140\n",
            "Train Epoch:1[6400/100000 6%]\tTrain Loss:1.502136\n",
            "Train Epoch:1[12800/100000 13%]\tTrain Loss:1.884457\n",
            "Train Epoch:1[19200/100000 19%]\tTrain Loss:1.384833\n",
            "Train Epoch:1[25600/100000 26%]\tTrain Loss:1.364012\n",
            "Train Epoch:1[32000/100000 32%]\tTrain Loss:1.646917\n",
            "Train Epoch:1[38400/100000 38%]\tTrain Loss:1.320651\n",
            "Train Epoch:1[44800/100000 45%]\tTrain Loss:0.903722\n",
            "Train Epoch:1[51200/100000 51%]\tTrain Loss:1.408465\n",
            "Train Epoch:1[57600/100000 58%]\tTrain Loss:0.880418\n",
            "Train Epoch:1[64000/100000 64%]\tTrain Loss:0.804795\n",
            "Train Epoch:1[70400/100000 70%]\tTrain Loss:0.894310\n",
            "Train Epoch:1[76800/100000 77%]\tTrain Loss:0.806516\n",
            "Train Epoch:1[83200/100000 83%]\tTrain Loss:1.140060\n",
            "Train Epoch:1[89600/100000 90%]\tTrain Loss:1.025421\n",
            "Train Epoch:1[96000/100000 96%]\tTrain Loss:0.607378\n",
            "\n",
            "[EPOCH: 1], \tTest Loss: 0.0305, \tTest Accuracy: 66.12 % \n",
            "\n",
            "Train Epoch:2[0/100000 0%]\tTrain Loss:0.715743\n",
            "Train Epoch:2[6400/100000 6%]\tTrain Loss:0.839626\n",
            "Train Epoch:2[12800/100000 13%]\tTrain Loss:0.720326\n",
            "Train Epoch:2[19200/100000 19%]\tTrain Loss:1.043961\n",
            "Train Epoch:2[25600/100000 26%]\tTrain Loss:0.888926\n",
            "Train Epoch:2[32000/100000 32%]\tTrain Loss:0.933358\n",
            "Train Epoch:2[38400/100000 38%]\tTrain Loss:0.863967\n",
            "Train Epoch:2[44800/100000 45%]\tTrain Loss:0.798376\n",
            "Train Epoch:2[51200/100000 51%]\tTrain Loss:0.907266\n",
            "Train Epoch:2[57600/100000 58%]\tTrain Loss:0.478250\n",
            "Train Epoch:2[64000/100000 64%]\tTrain Loss:1.098260\n",
            "Train Epoch:2[70400/100000 70%]\tTrain Loss:1.194929\n",
            "Train Epoch:2[76800/100000 77%]\tTrain Loss:0.755101\n",
            "Train Epoch:2[83200/100000 83%]\tTrain Loss:0.956595\n",
            "Train Epoch:2[89600/100000 90%]\tTrain Loss:0.571648\n",
            "Train Epoch:2[96000/100000 96%]\tTrain Loss:0.567184\n",
            "\n",
            "[EPOCH: 2], \tTest Loss: 0.0243, \tTest Accuracy: 73.22 % \n",
            "\n",
            "Train Epoch:3[0/100000 0%]\tTrain Loss:0.777678\n",
            "Train Epoch:3[6400/100000 6%]\tTrain Loss:0.801721\n",
            "Train Epoch:3[12800/100000 13%]\tTrain Loss:0.833988\n",
            "Train Epoch:3[19200/100000 19%]\tTrain Loss:0.815692\n",
            "Train Epoch:3[25600/100000 26%]\tTrain Loss:0.572419\n",
            "Train Epoch:3[32000/100000 32%]\tTrain Loss:0.587085\n",
            "Train Epoch:3[38400/100000 38%]\tTrain Loss:0.571384\n",
            "Train Epoch:3[44800/100000 45%]\tTrain Loss:0.626926\n",
            "Train Epoch:3[51200/100000 51%]\tTrain Loss:0.697510\n",
            "Train Epoch:3[57600/100000 58%]\tTrain Loss:0.476236\n",
            "Train Epoch:3[64000/100000 64%]\tTrain Loss:0.705189\n",
            "Train Epoch:3[70400/100000 70%]\tTrain Loss:0.904461\n",
            "Train Epoch:3[76800/100000 77%]\tTrain Loss:0.619086\n",
            "Train Epoch:3[83200/100000 83%]\tTrain Loss:0.474940\n",
            "Train Epoch:3[89600/100000 90%]\tTrain Loss:0.382102\n",
            "Train Epoch:3[96000/100000 96%]\tTrain Loss:0.541568\n",
            "\n",
            "[EPOCH: 3], \tTest Loss: 0.0220, \tTest Accuracy: 75.99 % \n",
            "\n",
            "Train Epoch:4[0/100000 0%]\tTrain Loss:0.574061\n",
            "Train Epoch:4[6400/100000 6%]\tTrain Loss:0.974216\n",
            "Train Epoch:4[12800/100000 13%]\tTrain Loss:0.843526\n",
            "Train Epoch:4[19200/100000 19%]\tTrain Loss:0.575476\n",
            "Train Epoch:4[25600/100000 26%]\tTrain Loss:0.731397\n",
            "Train Epoch:4[32000/100000 32%]\tTrain Loss:0.470388\n",
            "Train Epoch:4[38400/100000 38%]\tTrain Loss:1.012267\n",
            "Train Epoch:4[44800/100000 45%]\tTrain Loss:0.911207\n",
            "Train Epoch:4[51200/100000 51%]\tTrain Loss:0.340012\n",
            "Train Epoch:4[57600/100000 58%]\tTrain Loss:0.630138\n",
            "Train Epoch:4[64000/100000 64%]\tTrain Loss:0.340397\n",
            "Train Epoch:4[70400/100000 70%]\tTrain Loss:0.482235\n",
            "Train Epoch:4[76800/100000 77%]\tTrain Loss:0.549936\n",
            "Train Epoch:4[83200/100000 83%]\tTrain Loss:0.665436\n",
            "Train Epoch:4[89600/100000 90%]\tTrain Loss:0.741917\n",
            "Train Epoch:4[96000/100000 96%]\tTrain Loss:0.542708\n",
            "\n",
            "[EPOCH: 4], \tTest Loss: 0.0208, \tTest Accuracy: 77.23 % \n",
            "\n",
            "Train Epoch:5[0/100000 0%]\tTrain Loss:0.304826\n",
            "Train Epoch:5[6400/100000 6%]\tTrain Loss:0.782861\n",
            "Train Epoch:5[12800/100000 13%]\tTrain Loss:0.235402\n",
            "Train Epoch:5[19200/100000 19%]\tTrain Loss:0.733349\n",
            "Train Epoch:5[25600/100000 26%]\tTrain Loss:0.578449\n",
            "Train Epoch:5[32000/100000 32%]\tTrain Loss:0.511984\n",
            "Train Epoch:5[38400/100000 38%]\tTrain Loss:0.386079\n",
            "Train Epoch:5[44800/100000 45%]\tTrain Loss:0.371393\n",
            "Train Epoch:5[51200/100000 51%]\tTrain Loss:0.326786\n",
            "Train Epoch:5[57600/100000 58%]\tTrain Loss:0.790420\n",
            "Train Epoch:5[64000/100000 64%]\tTrain Loss:0.457574\n",
            "Train Epoch:5[70400/100000 70%]\tTrain Loss:0.681404\n",
            "Train Epoch:5[76800/100000 77%]\tTrain Loss:0.311583\n",
            "Train Epoch:5[83200/100000 83%]\tTrain Loss:0.725872\n",
            "Train Epoch:5[89600/100000 90%]\tTrain Loss:0.390004\n",
            "Train Epoch:5[96000/100000 96%]\tTrain Loss:0.630016\n",
            "\n",
            "[EPOCH: 5], \tTest Loss: 0.0200, \tTest Accuracy: 78.64 % \n",
            "\n",
            "Train Epoch:6[0/100000 0%]\tTrain Loss:0.378094\n",
            "Train Epoch:6[6400/100000 6%]\tTrain Loss:0.436158\n",
            "Train Epoch:6[12800/100000 13%]\tTrain Loss:0.214365\n",
            "Train Epoch:6[19200/100000 19%]\tTrain Loss:0.469744\n",
            "Train Epoch:6[25600/100000 26%]\tTrain Loss:0.298720\n",
            "Train Epoch:6[32000/100000 32%]\tTrain Loss:0.610347\n",
            "Train Epoch:6[38400/100000 38%]\tTrain Loss:0.698551\n",
            "Train Epoch:6[44800/100000 45%]\tTrain Loss:0.458660\n",
            "Train Epoch:6[51200/100000 51%]\tTrain Loss:0.423222\n",
            "Train Epoch:6[57600/100000 58%]\tTrain Loss:0.641523\n",
            "Train Epoch:6[64000/100000 64%]\tTrain Loss:0.251296\n",
            "Train Epoch:6[70400/100000 70%]\tTrain Loss:0.287358\n",
            "Train Epoch:6[76800/100000 77%]\tTrain Loss:0.263295\n",
            "Train Epoch:6[83200/100000 83%]\tTrain Loss:0.660587\n",
            "Train Epoch:6[89600/100000 90%]\tTrain Loss:0.267324\n",
            "Train Epoch:6[96000/100000 96%]\tTrain Loss:0.432450\n",
            "\n",
            "[EPOCH: 6], \tTest Loss: 0.0199, \tTest Accuracy: 79.18 % \n",
            "\n",
            "Train Epoch:7[0/100000 0%]\tTrain Loss:0.323259\n",
            "Train Epoch:7[6400/100000 6%]\tTrain Loss:0.582588\n",
            "Train Epoch:7[12800/100000 13%]\tTrain Loss:0.515417\n",
            "Train Epoch:7[19200/100000 19%]\tTrain Loss:0.100622\n",
            "Train Epoch:7[25600/100000 26%]\tTrain Loss:0.334604\n",
            "Train Epoch:7[32000/100000 32%]\tTrain Loss:0.537202\n",
            "Train Epoch:7[38400/100000 38%]\tTrain Loss:0.397743\n",
            "Train Epoch:7[44800/100000 45%]\tTrain Loss:0.376157\n",
            "Train Epoch:7[51200/100000 51%]\tTrain Loss:0.459919\n",
            "Train Epoch:7[57600/100000 58%]\tTrain Loss:0.304825\n",
            "Train Epoch:7[64000/100000 64%]\tTrain Loss:0.286850\n",
            "Train Epoch:7[70400/100000 70%]\tTrain Loss:0.199187\n",
            "Train Epoch:7[76800/100000 77%]\tTrain Loss:0.233053\n",
            "Train Epoch:7[83200/100000 83%]\tTrain Loss:0.276395\n",
            "Train Epoch:7[89600/100000 90%]\tTrain Loss:0.395672\n",
            "Train Epoch:7[96000/100000 96%]\tTrain Loss:0.419766\n",
            "\n",
            "[EPOCH: 7], \tTest Loss: 0.0198, \tTest Accuracy: 79.16 % \n",
            "\n",
            "Train Epoch:8[0/100000 0%]\tTrain Loss:0.372049\n",
            "Train Epoch:8[6400/100000 6%]\tTrain Loss:0.388360\n",
            "Train Epoch:8[12800/100000 13%]\tTrain Loss:0.059593\n",
            "Train Epoch:8[19200/100000 19%]\tTrain Loss:0.273565\n",
            "Train Epoch:8[25600/100000 26%]\tTrain Loss:0.453957\n",
            "Train Epoch:8[32000/100000 32%]\tTrain Loss:0.412590\n",
            "Train Epoch:8[38400/100000 38%]\tTrain Loss:0.367908\n",
            "Train Epoch:8[44800/100000 45%]\tTrain Loss:0.247712\n",
            "Train Epoch:8[51200/100000 51%]\tTrain Loss:0.454083\n",
            "Train Epoch:8[57600/100000 58%]\tTrain Loss:0.204653\n",
            "Train Epoch:8[64000/100000 64%]\tTrain Loss:0.267516\n",
            "Train Epoch:8[70400/100000 70%]\tTrain Loss:0.513669\n",
            "Train Epoch:8[76800/100000 77%]\tTrain Loss:0.163297\n",
            "Train Epoch:8[83200/100000 83%]\tTrain Loss:0.165627\n",
            "Train Epoch:8[89600/100000 90%]\tTrain Loss:0.056133\n",
            "Train Epoch:8[96000/100000 96%]\tTrain Loss:0.261837\n",
            "\n",
            "[EPOCH: 8], \tTest Loss: 0.0216, \tTest Accuracy: 79.35 % \n",
            "\n",
            "Train Epoch:9[0/100000 0%]\tTrain Loss:0.172751\n",
            "Train Epoch:9[6400/100000 6%]\tTrain Loss:0.362837\n",
            "Train Epoch:9[12800/100000 13%]\tTrain Loss:0.083863\n",
            "Train Epoch:9[19200/100000 19%]\tTrain Loss:0.275365\n",
            "Train Epoch:9[25600/100000 26%]\tTrain Loss:0.342442\n",
            "Train Epoch:9[32000/100000 32%]\tTrain Loss:0.293914\n",
            "Train Epoch:9[38400/100000 38%]\tTrain Loss:0.112324\n",
            "Train Epoch:9[44800/100000 45%]\tTrain Loss:0.364320\n",
            "Train Epoch:9[51200/100000 51%]\tTrain Loss:0.191450\n",
            "Train Epoch:9[57600/100000 58%]\tTrain Loss:0.218127\n",
            "Train Epoch:9[64000/100000 64%]\tTrain Loss:0.120204\n",
            "Train Epoch:9[70400/100000 70%]\tTrain Loss:0.103038\n",
            "Train Epoch:9[76800/100000 77%]\tTrain Loss:0.470402\n",
            "Train Epoch:9[83200/100000 83%]\tTrain Loss:0.093002\n",
            "Train Epoch:9[89600/100000 90%]\tTrain Loss:0.212608\n",
            "Train Epoch:9[96000/100000 96%]\tTrain Loss:0.180045\n",
            "\n",
            "[EPOCH: 9], \tTest Loss: 0.0226, \tTest Accuracy: 80.09 % \n",
            "\n",
            "Train Epoch:10[0/100000 0%]\tTrain Loss:0.252678\n",
            "Train Epoch:10[6400/100000 6%]\tTrain Loss:0.110991\n",
            "Train Epoch:10[12800/100000 13%]\tTrain Loss:0.143240\n",
            "Train Epoch:10[19200/100000 19%]\tTrain Loss:0.041545\n",
            "Train Epoch:10[25600/100000 26%]\tTrain Loss:0.131142\n",
            "Train Epoch:10[32000/100000 32%]\tTrain Loss:0.238500\n",
            "Train Epoch:10[38400/100000 38%]\tTrain Loss:0.160372\n",
            "Train Epoch:10[44800/100000 45%]\tTrain Loss:0.058683\n",
            "Train Epoch:10[51200/100000 51%]\tTrain Loss:0.100493\n",
            "Train Epoch:10[57600/100000 58%]\tTrain Loss:0.224270\n",
            "Train Epoch:10[64000/100000 64%]\tTrain Loss:0.222479\n",
            "Train Epoch:10[70400/100000 70%]\tTrain Loss:0.209462\n",
            "Train Epoch:10[76800/100000 77%]\tTrain Loss:0.183814\n",
            "Train Epoch:10[83200/100000 83%]\tTrain Loss:0.094046\n",
            "Train Epoch:10[89600/100000 90%]\tTrain Loss:0.100804\n",
            "Train Epoch:10[96000/100000 96%]\tTrain Loss:0.316001\n",
            "\n",
            "[EPOCH: 10], \tTest Loss: 0.0220, \tTest Accuracy: 81.09 % \n",
            "\n"
          ],
          "name": "stdout"
        }
      ]
    },
    {
      "cell_type": "markdown",
      "metadata": {
        "id": "7Y8d_5eTorWM"
      },
      "source": [
        "## 모델을 변경하고 훈련\n",
        "- 사전 훈련된 파라미터를 변경하도록 설정하는 것을 Fine Tuning이라고 합니다."
      ]
    },
    {
      "cell_type": "code",
      "metadata": {
        "colab": {
          "base_uri": "https://localhost:8080/"
        },
        "id": "7wHQU9y4p5-t",
        "outputId": "adbfc8b0-4f35-44cd-b315-b53698f3e771"
      },
      "source": [
        "import torchvision.models as models\n",
        "\n",
        "# 사전 훈련된 파라미터를 수정하지 않고 ResNet34모델을 사용\n",
        "model = models.resnet34(pretrained=True)\n",
        "\n",
        "for param in model.parameters():\n",
        "    param.requires_grad = False\n",
        "    \n",
        "num_ftrs = model.fc.in_features\n",
        "model.fc = nn.Linear(num_ftrs, 10) # 분류 개수를 써줘야 합니다.\n",
        "\n",
        "model = model.to(DEVICE)\n",
        "\n",
        "for epoch in range(1, EPOCHS + 1):\n",
        "    train(model, train_loader, optimizer, log_interval = 200)\n",
        "    test_loss, test_accuracy = evaluate(model, test_loader)\n",
        "    print(\"\\n[EPOCH: {}], \\tTest Loss: {:.4f}, \\tTest Accuracy: {:.2f} % \\n\".format(\n",
        "        epoch, test_loss, test_accuracy))"
      ],
      "execution_count": null,
      "outputs": [
        {
          "output_type": "stream",
          "text": [
            "Train Epoch:1[0/100000 0%]\tTrain Loss:2.729581\n"
          ],
          "name": "stdout"
        }
      ]
    },
    {
      "cell_type": "markdown",
      "metadata": {
        "id": "pCaTgBvgqBbH"
      },
      "source": [
        "## Transfer Learning(전이 학습)\n",
        "- 미리 학습해 놓은 딥 러닝 모델을 가져와 재학습하는 방법\n",
        "- Pre-Trained Model을 로드한 후 Fully Connected Layer 앞 단 네트워크의 Weight를 가져오고 Fully Connected Layer를 디자인해서 사용합니다.\n",
        "- 주의 할 점은 전이 학습을 할 떄 Fully Connected Layer부분의 Weight만 학습을 진행합니다\n",
        "- 일반적으로 소량의 보다 가 성능이 높을 가능성이 있습니다.\n",
        "- 파라미터가 워낙 많기 때문에 웬만하면 GPU환경에서 하는것이 좋습니다."
      ]
    }
  ]
}