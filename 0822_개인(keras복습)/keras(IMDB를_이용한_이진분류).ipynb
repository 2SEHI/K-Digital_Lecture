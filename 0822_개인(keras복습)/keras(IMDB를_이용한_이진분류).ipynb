{
  "nbformat": 4,
  "nbformat_minor": 0,
  "metadata": {
    "colab": {
      "name": "keras(IMDB를 이용한 이진분류).ipynb",
      "provenance": [],
      "collapsed_sections": [],
      "toc_visible": true,
      "authorship_tag": "ABX9TyOV/eZs1/PuKVUxFzqEHIDf",
      "include_colab_link": true
    },
    "kernelspec": {
      "name": "python3",
      "display_name": "Python 3"
    },
    "language_info": {
      "name": "python"
    }
  },
  "cells": [
    {
      "cell_type": "markdown",
      "metadata": {
        "id": "view-in-github",
        "colab_type": "text"
      },
      "source": [
        "<a href=\"https://colab.research.google.com/github/2SEHI/K-Digital_Lecture/blob/main/0822_keras%EB%B3%B5%EC%8A%B5/keras(IMDB%EB%A5%BC_%EC%9D%B4%EC%9A%A9%ED%95%9C_%EC%9D%B4%EC%A7%84%EB%B6%84%EB%A5%98).ipynb\" target=\"_parent\"><img src=\"https://colab.research.google.com/assets/colab-badge.svg\" alt=\"Open In Colab\"/></a>"
      ]
    },
    {
      "cell_type": "markdown",
      "metadata": {
        "id": "KcghaiZ-7D6G"
      },
      "source": [
        "# IMDB를 이용한 이진 분류"
      ]
    },
    {
      "cell_type": "code",
      "metadata": {
        "id": "2gEifWC-Pxh1"
      },
      "source": [
        "!sudo apt-get install -y fonts-nanum\n",
        "!sudo fc-cache -fv\n",
        "!rm ~/.cache/matplotlib -rf"
      ],
      "execution_count": null,
      "outputs": []
    },
    {
      "cell_type": "code",
      "metadata": {
        "id": "LL1x58wFCzl0"
      },
      "source": [
        "# 공통 모듈 임포트\n",
        "import numpy as np\n",
        "import pandas as pd\n",
        "import os\n",
        "# from scipy import stats\n",
        "# import seaborn as sns\n",
        "# 깔끔한 그래프 출력을 위해\n",
        "%matplotlib inline\n",
        "import matplotlib as mpl\n",
        "import matplotlib.pyplot as plt\n",
        "# import seaborn as sns\n",
        "# 한글 폰트 사용을 위해서 세팅\n",
        "from matplotlib import font_manager\n",
        "\n",
        "mpl.rc('axes', labelsize=14)\n",
        "mpl.rc('xtick', labelsize=12)\n",
        "mpl.rc('ytick', labelsize=12)\n",
        "mpl.rcParams['axes.unicode_minus'] = False\n",
        "\n",
        "# 그림을 저장할 위치\n",
        "# PROJECT_ROOT_DIR = \".\"\n",
        "# CHAPTER_ID = \"Display_Sensor_Anomaly_Analysis\"\n",
        "# IMAGES_PATH = os.path.join(PROJECT_ROOT_DIR, \"images\", CHAPTER_ID)\n",
        "# os.makedirs(IMAGES_PATH, exist_ok=True)\n",
        "\n",
        "# def save_fig(fig_id, tight_layout=True, fig_extension=\"png\", resolution=300):\n",
        "#     path = os.path.join(IMAGES_PATH, fig_id + \".\" + fig_extension)\n",
        "#     print(\"그림 저장:\", fig_id)\n",
        "#     if tight_layout:\n",
        "#         plt.tight_layout()\n",
        "#     plt.savefig(path, format=fig_extension, dpi=resolution)\n",
        " \n",
        "## colab용 글씨체 설정\n",
        "plt.rc('font', family='NanumBarunGothic') \n",
        "\n",
        "## local jupyter 용 글씨체 설정\n",
        "# font_path = \"C:\\Windows\\Fonts\\malgun.TTF\"\n",
        "# font = font_manager.FontProperties(fname=font_path).get_name()\n",
        "# mpl.rc('font', family=font)\n",
        "\n",
        "import warnings\n",
        "warnings.filterwarnings(action='ignore')\n",
        "\n",
        "np.random.seed(42)"
      ],
      "execution_count": 15,
      "outputs": []
    },
    {
      "cell_type": "markdown",
      "metadata": {
        "id": "arNZf8lG8sOK"
      },
      "source": [
        "## 1.데이터셋 로드\n",
        "- train_data 와 test_data : 리뷰의 목록으로 하나의 데이터는 단어 인덱스의 리스트임\n",
        "- train_labels 와 test_labels : 긍정(1)과 부정(0)을 나타내는 리스트"
      ]
    },
    {
      "cell_type": "code",
      "metadata": {
        "id": "co47WXqo7aLb"
      },
      "source": [
        "from keras.datasets import imdb\n",
        "# num_words=10000 => 자주 나타나는 단어 1만개만 사용\n",
        "(train_data, train_labels), (test_data, test_labels) = imdb.load_data(num_words=10000)\n"
      ],
      "execution_count": 2,
      "outputs": []
    },
    {
      "cell_type": "code",
      "metadata": {
        "colab": {
          "base_uri": "https://localhost:8080/"
        },
        "id": "up4Qiyuc8JSi",
        "outputId": "8e892f54-186b-42b1-d736-c637d4619534"
      },
      "source": [
        "print(train_data[0])\n",
        "print(train_labels[0])"
      ],
      "execution_count": 3,
      "outputs": [
        {
          "output_type": "stream",
          "text": [
            "[1, 14, 22, 16, 43, 530, 973, 1622, 1385, 65, 458, 4468, 66, 3941, 4, 173, 36, 256, 5, 25, 100, 43, 838, 112, 50, 670, 2, 9, 35, 480, 284, 5, 150, 4, 172, 112, 167, 2, 336, 385, 39, 4, 172, 4536, 1111, 17, 546, 38, 13, 447, 4, 192, 50, 16, 6, 147, 2025, 19, 14, 22, 4, 1920, 4613, 469, 4, 22, 71, 87, 12, 16, 43, 530, 38, 76, 15, 13, 1247, 4, 22, 17, 515, 17, 12, 16, 626, 18, 2, 5, 62, 386, 12, 8, 316, 8, 106, 5, 4, 2223, 5244, 16, 480, 66, 3785, 33, 4, 130, 12, 16, 38, 619, 5, 25, 124, 51, 36, 135, 48, 25, 1415, 33, 6, 22, 12, 215, 28, 77, 52, 5, 14, 407, 16, 82, 2, 8, 4, 107, 117, 5952, 15, 256, 4, 2, 7, 3766, 5, 723, 36, 71, 43, 530, 476, 26, 400, 317, 46, 7, 4, 2, 1029, 13, 104, 88, 4, 381, 15, 297, 98, 32, 2071, 56, 26, 141, 6, 194, 7486, 18, 4, 226, 22, 21, 134, 476, 26, 480, 5, 144, 30, 5535, 18, 51, 36, 28, 224, 92, 25, 104, 4, 226, 65, 16, 38, 1334, 88, 12, 16, 283, 5, 16, 4472, 113, 103, 32, 15, 16, 5345, 19, 178, 32]\n",
            "1\n"
          ],
          "name": "stdout"
        }
      ]
    },
    {
      "cell_type": "markdown",
      "metadata": {
        "id": "R1ZF_Zjs8WWY"
      },
      "source": [
        "###  1) 단어 인덱스를 영어단어로 바꿔보기"
      ]
    },
    {
      "cell_type": "code",
      "metadata": {
        "colab": {
          "base_uri": "https://localhost:8080/",
          "height": 125
        },
        "id": "DR0JeLRa8pcy",
        "outputId": "27d2adfa-4363-44f0-d266-8d392cde1c40"
      },
      "source": [
        "word_index = imdb.get_word_index()\n",
        "reverse_word_index = dict([(value,key) for (key, value) in word_index.items()])\n",
        "decoded_view = ' '.join([reverse_word_index.get(i-3,\"?\") for i in train_data[0]])\n",
        "decoded_view"
      ],
      "execution_count": 4,
      "outputs": [
        {
          "output_type": "execute_result",
          "data": {
            "application/vnd.google.colaboratory.intrinsic+json": {
              "type": "string"
            },
            "text/plain": [
              "\"? this film was just brilliant casting location scenery story direction everyone's really suited the part they played and you could just imagine being there robert ? is an amazing actor and now the same being director ? father came from the same scottish island as myself so i loved the fact there was a real connection with this film the witty remarks throughout the film were great it was just brilliant so much that i bought the film as soon as it was released for ? and would recommend it to everyone to watch and the fly fishing was amazing really cried at the end it was so sad and you know what they say if you cry at a film it must have been good and this definitely was also ? to the two little boy's that played the ? of norman and paul they were just brilliant children are often left out of the ? list i think because the stars that play them all grown up are such a big profile for the whole film but these children are amazing and should be praised for what they have done don't you think the whole story was so lovely because it was true and was someone's life after all that was shared with us all\""
            ]
          },
          "metadata": {},
          "execution_count": 4
        }
      ]
    },
    {
      "cell_type": "markdown",
      "metadata": {
        "id": "gV8Y1_Nq9EUY"
      },
      "source": [
        "## 2.데이터 준비\n",
        "- 신경망에는 텐서를 주입해야 하므로 리스트를 텐서로 바꿔야 합니다.\n"
      ]
    },
    {
      "cell_type": "markdown",
      "metadata": {
        "id": "ZCb2-AxtBKv1"
      },
      "source": [
        "### 1) 리스트를 텐서로 바꾸는 방법\n",
        "    1) 리스트에 패딩을 추가하고 samples, sequence_length 크기의 정수 텐서로 변환\n",
        "    2) 리스트를 원핫 인코딩하고 부동 소수 벡터 데이터를 다룰 수 있는 Dense층을 신경망의 첫번째 층으로 사용하기"
      ]
    },
    {
      "cell_type": "markdown",
      "metadata": {
        "id": "-sYoxsP4BO7t"
      },
      "source": [
        "### 2) 원핫 인코딩하기"
      ]
    },
    {
      "cell_type": "code",
      "metadata": {
        "id": "Q84kB-wyBZwl"
      },
      "source": [
        "import numpy as np\n",
        "def vectorize_sequences(sequences, dimension=10000):\n",
        "    # print(dimension)\n",
        "    # (25000, 10000) 크기의 행렬 만들기\n",
        "    results = np.zeros((len(sequences), dimension))\n",
        "    # 각 문장마다 단어부분에 1로 변환해주기\n",
        "    for i, sequence in enumerate(sequences):\n",
        "        \n",
        "        # i는 문장\n",
        "        # sequence는 단어 인덱스\n",
        "        results[i, sequence] = 1,\n",
        "    return results\n",
        "\n",
        "X_train = vectorize_sequences(train_data)\n",
        "X_test = vectorize_sequences(test_data)"
      ],
      "execution_count": 5,
      "outputs": []
    },
    {
      "cell_type": "markdown",
      "metadata": {
        "id": "CAMx_lCPFEnC"
      },
      "source": [
        "### 3) 레이블을 float으로 변환"
      ]
    },
    {
      "cell_type": "code",
      "metadata": {
        "id": "VKw9kWjlBOZd"
      },
      "source": [
        "y_train = np.asarray(train_labels).astype('float32')\n",
        "y_test = np.asarray(test_labels).astype('float32')"
      ],
      "execution_count": 6,
      "outputs": []
    },
    {
      "cell_type": "markdown",
      "metadata": {
        "id": "49PbHST882o3"
      },
      "source": [
        "## 3.신경망 모델 만들기\n",
        "- 이중분류문제에 대해서는 relu활성화 함수를 사용하여 완전 연결층으로 쌓는것이 제일 좋은 방법입니다."
      ]
    },
    {
      "cell_type": "markdown",
      "metadata": {
        "id": "bPzKOV_gGHm4"
      },
      "source": [
        "#### 1) 완전 연결층이란?\n",
        "```Dense(16, activation='relu')```\n",
        "\n",
        "- Dense층에 전달하는 16은 은닉 유닛의 개수로, 하나의 은닉 유닛은 층이 나타내는 표현 공간에서 하나의 차원이 됩니다.\n",
        "- 16개의 은닉 유닛이 있다는 것은 가중치 행렬 w의 크기가 (input_dimension, 16)이라는 뜻으로 입력 데이터와 w를 점곱하면 입력 데이터가 16차원으로 표현된 공간으로 투영되고 편향 벡터 b를 더하고 relu연산을 적용합니다.\n",
        "- 은닉 유닛을 늘리면 신경망이 더욱 복잡한 표현을 학습할 수 있지만 계산 비용이 커지고 원하지 않는 패턴을 학습할 수도 있습니다."
      ]
    },
    {
      "cell_type": "markdown",
      "metadata": {
        "id": "cUpH9AtrFrIZ"
      },
      "source": [
        "#### 2) 활성화 함수란?\n",
        "```output = relu(dot(X, input) + b)```\n",
        "- 활성화 함수는 비선형성이라고 부릅니다\n",
        "- 활성화함수가 없는 ```output = dot(X, input)+b```의 경우 선형 변환만 학습할 수 있는데 선형변환을 학습한 층의 가설 공간은 입력데이터를 16차원의 공간으로 바꾸는 가능한 모든 선평 변환의 집합입니다. 이런 가설 공간은 아무리 층을 깊게 쌓아도 선형 연산이기 때문에 층을 여러 개로 구성하는 장점이 없습니다. \n",
        "- relu는 음수를 0으로 만드는 함수입니다\n",
        "- sigmoid는 임의의 값을 [0,1]사이로 압축하여 출력 값을 확률처럼 해석할 수 있습니다.\n"
      ]
    },
    {
      "cell_type": "markdown",
      "metadata": {
        "id": "c9N8j9DbHQiE"
      },
      "source": [
        "### 3) 모델 정의"
      ]
    },
    {
      "cell_type": "code",
      "metadata": {
        "id": "03b_5JlSHU1K"
      },
      "source": [
        "from keras import models\n",
        "from keras import layers\n",
        "\n",
        "model = models.Sequential()\n",
        "model.add(layers.Dense(16, activation='relu', input_shape=(10000,)))\n",
        "model.add(layers.Dense(16, activation='relu'))\n",
        "model.add(layers.Dense(1, activation='sigmoid'))"
      ],
      "execution_count": 7,
      "outputs": []
    },
    {
      "cell_type": "markdown",
      "metadata": {
        "id": "u_VZstjAI9lA"
      },
      "source": [
        "## 4.모델 컴파일"
      ]
    },
    {
      "cell_type": "markdown",
      "metadata": {
        "id": "-ecW1jn3I_vH"
      },
      "source": [
        "### 1) 손실함수\n",
        "손실함수는 신경망의 예측과 진짜 타깃(신경망의 출력으로 기대하는 값)의 차이를 점수로 계산한 것입니다\n",
        "- binary_crossentropy : 2개의 클래스가 있는 분류문제\n",
        "- categorical_crossentropy : 여러개 클래스가 있는 분류. 두 확률 사이의 거리를 측정함.  레이블이 인코딩되어 있을것이라 기대\n",
        "- mean_squared_error(mse : 평균 제곱 오차) : 회귀문제, 예측과 타깃사이 거리의 제곱\n",
        "- mean_absolute_error(mae : 평균절대 오차) : 회귀문제. 예측과 타깃사이거리의 절댓값\n",
        "- crossengropy : 확률 분포간의 차이를 측정\n",
        "- CTC : 시퀀스 학습문제\n",
        "- sparse_categorical_crossentropy : 정수 레이블 사용\n"
      ]
    },
    {
      "cell_type": "markdown",
      "metadata": {
        "id": "9GZIBHUbJDh9"
      },
      "source": [
        "### 2) 옵티마이저와 역전파 알고리즘\n",
        "옵티마이저는 손실점수가 감소되는 방향으로 가중치 값을 조금씩 수정하는 것입니다. 이런 수정과정은 역전파 알고리즘을 구현한 옵티마이저가 담당합니다.\n",
        "\n",
        "\n",
        "초기에는 네트워크의 가중치가 랜덤한 값으로 할당되어 손실점수가 높습니다. 네트워크가 모든 샘플을 처리하면서 가중치가 올바른 방향으로 조정되고 손실점수가 감소하도록 훈련을 반복합니다. \n"
      ]
    },
    {
      "cell_type": "markdown",
      "metadata": {
        "id": "oBGwOYw7KS0I"
      },
      "source": [
        "#### 이중분류의 컴파일\n",
        "- 손실함수 : 이진분류 문제이고 신경망의 출력이 확률이므로 binary_crossentropy 를 하기에 적당. 원본 분포와 예측분포사이를 측정\n",
        "- 옵티마이저 : rmsprop\n",
        "\n",
        "\n",
        "\n"
      ]
    },
    {
      "cell_type": "code",
      "metadata": {
        "id": "kHXKHx_-JFWi"
      },
      "source": [
        "model.compile(optimizer='rmsprop',\n",
        "              loss='binary_crossentropy',\n",
        "              metrics=['acc'])"
      ],
      "execution_count": 8,
      "outputs": []
    },
    {
      "cell_type": "markdown",
      "metadata": {
        "id": "GAI3IbAJMoD-"
      },
      "source": [
        "## 5.훈련 검증"
      ]
    },
    {
      "cell_type": "markdown",
      "metadata": {
        "id": "QJShPHygM8WN"
      },
      "source": [
        "### 1) 검증데이터 준비"
      ]
    },
    {
      "cell_type": "code",
      "metadata": {
        "id": "Ec90HpxNMrzi"
      },
      "source": [
        "X_val = X_train[:10000]\n",
        "partial_X_train = X_train[10000:]\n",
        "y_val = y_train[:10000]\n",
        "partial_y_train = y_train[10000:]"
      ],
      "execution_count": 9,
      "outputs": []
    },
    {
      "cell_type": "markdown",
      "metadata": {
        "id": "lHT_49oVN_qS"
      },
      "source": [
        "### 2) 훈련 및 검증\n",
        "- history는 훈련하는 동안 발생한 모든 정보를 담고 있는 딕셔너리입니다."
      ]
    },
    {
      "cell_type": "code",
      "metadata": {
        "colab": {
          "base_uri": "https://localhost:8080/"
        },
        "id": "WwcQ4vUpM_dA",
        "outputId": "4ae6f027-adc1-4b50-ccb5-6f7cdb0bb536"
      },
      "source": [
        "history = model.fit(partial_X_train,\n",
        "                    partial_y_train,\n",
        "                    epochs=20,\n",
        "                    batch_size=512,\n",
        "                    validation_data=(X_val, y_val))"
      ],
      "execution_count": 10,
      "outputs": [
        {
          "output_type": "stream",
          "text": [
            "Epoch 1/20\n",
            "30/30 [==============================] - 2s 50ms/step - loss: 0.5364 - acc: 0.7838 - val_loss: 0.4261 - val_acc: 0.8298\n",
            "Epoch 2/20\n",
            "30/30 [==============================] - 1s 37ms/step - loss: 0.3206 - acc: 0.9001 - val_loss: 0.3483 - val_acc: 0.8624\n",
            "Epoch 3/20\n",
            "30/30 [==============================] - 1s 37ms/step - loss: 0.2324 - acc: 0.9271 - val_loss: 0.2819 - val_acc: 0.8898\n",
            "Epoch 4/20\n",
            "30/30 [==============================] - 1s 38ms/step - loss: 0.1832 - acc: 0.9393 - val_loss: 0.2861 - val_acc: 0.8853\n",
            "Epoch 5/20\n",
            "30/30 [==============================] - 1s 37ms/step - loss: 0.1475 - acc: 0.9536 - val_loss: 0.2871 - val_acc: 0.8854\n",
            "Epoch 6/20\n",
            "30/30 [==============================] - 1s 36ms/step - loss: 0.1215 - acc: 0.9629 - val_loss: 0.3051 - val_acc: 0.8833\n",
            "Epoch 7/20\n",
            "30/30 [==============================] - 1s 36ms/step - loss: 0.1002 - acc: 0.9705 - val_loss: 0.3086 - val_acc: 0.8828\n",
            "Epoch 8/20\n",
            "30/30 [==============================] - 1s 36ms/step - loss: 0.0852 - acc: 0.9758 - val_loss: 0.3272 - val_acc: 0.8817\n",
            "Epoch 9/20\n",
            "30/30 [==============================] - 1s 36ms/step - loss: 0.0674 - acc: 0.9824 - val_loss: 0.3529 - val_acc: 0.8809\n",
            "Epoch 10/20\n",
            "30/30 [==============================] - 1s 37ms/step - loss: 0.0545 - acc: 0.9865 - val_loss: 0.3859 - val_acc: 0.8801\n",
            "Epoch 11/20\n",
            "30/30 [==============================] - 1s 36ms/step - loss: 0.0436 - acc: 0.9903 - val_loss: 0.4069 - val_acc: 0.8743\n",
            "Epoch 12/20\n",
            "30/30 [==============================] - 1s 36ms/step - loss: 0.0351 - acc: 0.9919 - val_loss: 0.4626 - val_acc: 0.8661\n",
            "Epoch 13/20\n",
            "30/30 [==============================] - 1s 37ms/step - loss: 0.0257 - acc: 0.9967 - val_loss: 0.5053 - val_acc: 0.8622\n",
            "Epoch 14/20\n",
            "30/30 [==============================] - 1s 36ms/step - loss: 0.0220 - acc: 0.9967 - val_loss: 0.5056 - val_acc: 0.8736\n",
            "Epoch 15/20\n",
            "30/30 [==============================] - 1s 37ms/step - loss: 0.0169 - acc: 0.9969 - val_loss: 0.5385 - val_acc: 0.8709\n",
            "Epoch 16/20\n",
            "30/30 [==============================] - 1s 36ms/step - loss: 0.0137 - acc: 0.9978 - val_loss: 0.5862 - val_acc: 0.8700\n",
            "Epoch 17/20\n",
            "30/30 [==============================] - 1s 37ms/step - loss: 0.0118 - acc: 0.9979 - val_loss: 0.6112 - val_acc: 0.8687\n",
            "Epoch 18/20\n",
            "30/30 [==============================] - 1s 37ms/step - loss: 0.0058 - acc: 0.9996 - val_loss: 0.6467 - val_acc: 0.8686\n",
            "Epoch 19/20\n",
            "30/30 [==============================] - 1s 38ms/step - loss: 0.0085 - acc: 0.9985 - val_loss: 0.6781 - val_acc: 0.8668\n",
            "Epoch 20/20\n",
            "30/30 [==============================] - 1s 36ms/step - loss: 0.0032 - acc: 0.9998 - val_loss: 0.7092 - val_acc: 0.8665\n"
          ],
          "name": "stdout"
        }
      ]
    },
    {
      "cell_type": "markdown",
      "metadata": {
        "id": "gFmMlKvVRzUG"
      },
      "source": [
        "### 3) 모델 훈련 history확인"
      ]
    },
    {
      "cell_type": "code",
      "metadata": {
        "colab": {
          "base_uri": "https://localhost:8080/"
        },
        "id": "XpE0jUFtNxBN",
        "outputId": "b9b6d2c0-97a0-470b-80cf-77a1746789fa"
      },
      "source": [
        "history_dict =history.history\n",
        "history_dict.keys()"
      ],
      "execution_count": 11,
      "outputs": [
        {
          "output_type": "execute_result",
          "data": {
            "text/plain": [
              "dict_keys(['loss', 'acc', 'val_loss', 'val_acc'])"
            ]
          },
          "metadata": {},
          "execution_count": 11
        }
      ]
    },
    {
      "cell_type": "markdown",
      "metadata": {
        "id": "4qCXJlo_RREd"
      },
      "source": [
        "## 6.손실과 정확도 그래프그리기\n",
        "- epochs가 커질수로 과적합되어 훈련손실은 줄어들고 검증손실은 커지며, 훈련의 정확도는 커지고 검증의 정확도는 줄어듭니다"
      ]
    },
    {
      "cell_type": "markdown",
      "metadata": {
        "id": "2jN0ppCrOSmk"
      },
      "source": [
        "### 1) 훈련과 검증 손실 그래프그리기"
      ]
    },
    {
      "cell_type": "code",
      "metadata": {
        "colab": {
          "base_uri": "https://localhost:8080/",
          "height": 300
        },
        "id": "qiIelqFTOfBm",
        "outputId": "69956b4c-6ef4-4eb9-bb83-eeb06400284d"
      },
      "source": [
        "import matplotlib.pyplot as plt\n",
        "history_dict = history.history\n",
        "loss = history_dict['loss']\n",
        "val_loss = history_dict['val_loss']\n",
        "\n",
        "epochs = range(1, len(loss) + 1)\n",
        "plt.plot(epochs, loss, 'bo', label='훈련 손실')\n",
        "plt.plot(epochs, val_loss, 'ro', label='검증 손실')\n",
        "plt.title('훈련과 검증 손실 그래프')\n",
        "plt.xlabel('Epochs')\n",
        "plt.ylabel('loss')\n",
        "plt.legend()\n",
        "plt.show()\n"
      ],
      "execution_count": 17,
      "outputs": [
        {
          "output_type": "display_data",
          "data": {
            "image/png": "[encoded data removed]",
            "text/plain": [
              "<Figure size 432x288 with 1 Axes>"
            ]
          },
          "metadata": {
            "needs_background": "light"
          }
        }
      ]
    },
    {
      "cell_type": "markdown",
      "metadata": {
        "id": "Gf7rfrxMQU95"
      },
      "source": [
        "### 2) 훈련과 검증 정확도 그래프그리기"
      ]
    },
    {
      "cell_type": "code",
      "metadata": {
        "colab": {
          "base_uri": "https://localhost:8080/",
          "height": 300
        },
        "id": "OtSrY7dvPFC5",
        "outputId": "e992d15c-dee3-4ed1-92f0-2d5775fcfdb0"
      },
      "source": [
        "import matplotlib.pyplot as plt\n",
        "history_dict = history.history\n",
        "acc = history_dict['acc']\n",
        "val_acc = history_dict['val_acc']\n",
        "\n",
        "epochs = range(1, len(acc) + 1)\n",
        "plt.plot(epochs, acc, 'bo', label='훈련 정확도')\n",
        "plt.plot(epochs, val_acc, 'ro', label='검증 정확도')\n",
        "plt.title('훈련과 검증 정확도 그래프')\n",
        "plt.xlabel('Epochs')\n",
        "plt.ylabel('loss')\n",
        "plt.legend()\n",
        "plt.show()\n"
      ],
      "execution_count": 16,
      "outputs": [
        {
          "output_type": "display_data",
          "data": {
            "image/png": "[encoded data removed]",
            "text/plain": [
              "<Figure size 432x288 with 1 Axes>"
            ]
          },
          "metadata": {
            "needs_background": "light"
          }
        }
      ]
    },
    {
      "cell_type": "markdown",
      "metadata": {
        "id": "8fJ1TgpUSxvI"
      },
      "source": [
        "## 7.손실과 정확도 출력"
      ]
    },
    {
      "cell_type": "code",
      "metadata": {
        "colab": {
          "base_uri": "https://localhost:8080/"
        },
        "id": "adu4yRSqQm8I",
        "outputId": "0276cc73-5a27-40e2-ce82-ada752299668"
      },
      "source": [
        "results = model.evaluate(X_test, y_test, batch_size=128)\n",
        "print(\"test loss, test acc:\", results)"
      ],
      "execution_count": 20,
      "outputs": [
        {
          "output_type": "stream",
          "text": [
            "196/196 [==============================] - 1s 5ms/step - loss: 0.7609 - acc: 0.8500\n",
            "test loss, test acc: [0.7609128952026367, 0.8499600291252136]\n"
          ],
          "name": "stdout"
        }
      ]
    },
    {
      "cell_type": "markdown",
      "metadata": {
        "id": "9t1rCB1eStca"
      },
      "source": [
        "## 8.모델 예측\n",
        "- ```predict```함수를 이용하여 리뷰가 긍정일 **확률**을 예측할 수 있습니다."
      ]
    },
    {
      "cell_type": "code",
      "metadata": {
        "colab": {
          "base_uri": "https://localhost:8080/"
        },
        "id": "yTS30KU5RunL",
        "outputId": "a54bb2d3-d3cf-43d9-8c6c-e1541ed7508b"
      },
      "source": [
        "predictions = model.predict(X_test[:3])\n",
        "predictions"
      ],
      "execution_count": 22,
      "outputs": [
        {
          "output_type": "execute_result",
          "data": {
            "text/plain": [
              "array([[0.00679854],\n",
              "       [1.        ],\n",
              "       [0.97863984]], dtype=float32)"
            ]
          },
          "metadata": {},
          "execution_count": 22
        }
      ]
    },
    {
      "cell_type": "markdown",
      "metadata": {
        "id": "0jWJ0hDzS9fy"
      },
      "source": [
        "## 9.추가실험\n"
      ]
    },
    {
      "cell_type": "markdown",
      "metadata": {
        "id": "3b1WUwvCXakX"
      },
      "source": [
        "### 1) 은닉층이 3개일 경우 - 정확도가 증가했지만 손실도 매우 증가함"
      ]
    },
    {
      "cell_type": "code",
      "metadata": {
        "colab": {
          "base_uri": "https://localhost:8080/"
        },
        "id": "5vsHk7C2TdXP",
        "outputId": "33ac3a90-33fd-4f25-9a72-91f1770f0fd7"
      },
      "source": [
        "from keras import models\n",
        "from keras import layers\n",
        "\n",
        "# 모델 설계\n",
        "model = models.Sequential()\n",
        "model.add(layers.Dense(16, activation='relu', input_shape=(10000,)))\n",
        "model.add(layers.Dense(16, activation='relu'))\n",
        "model.add(layers.Dense(16, activation='relu'))\n",
        "model.add(layers.Dense(1, activation='sigmoid'))\n",
        "\n",
        "# 컴파일\n",
        "model.compile(optimizer='rmsprop',\n",
        "              loss='binary_crossentropy',\n",
        "              metrics=['acc'])\n",
        "\n",
        "# 훈련 검증\n",
        "model.fit(partial_X_train,\n",
        "                    partial_y_train,\n",
        "                    epochs=20,\n",
        "                    batch_size=512,\n",
        "                    validation_data=(X_val, y_val))\n",
        "\n",
        "results = model.evaluate(X_test, y_test, batch_size=128)\n",
        "print(\"test loss, test acc:\", results)"
      ],
      "execution_count": 23,
      "outputs": [
        {
          "output_type": "stream",
          "text": [
            "Epoch 1/20\n",
            "30/30 [==============================] - 2s 52ms/step - loss: 0.5389 - acc: 0.7738 - val_loss: 0.3920 - val_acc: 0.8718\n",
            "Epoch 2/20\n",
            "30/30 [==============================] - 1s 40ms/step - loss: 0.3124 - acc: 0.8995 - val_loss: 0.3027 - val_acc: 0.8869\n",
            "Epoch 3/20\n",
            "30/30 [==============================] - 1s 39ms/step - loss: 0.2219 - acc: 0.9258 - val_loss: 0.2969 - val_acc: 0.8823\n",
            "Epoch 4/20\n",
            "30/30 [==============================] - 1s 40ms/step - loss: 0.1713 - acc: 0.9439 - val_loss: 0.2747 - val_acc: 0.8898\n",
            "Epoch 5/20\n",
            "30/30 [==============================] - 1s 40ms/step - loss: 0.1356 - acc: 0.9561 - val_loss: 0.2937 - val_acc: 0.8871\n",
            "Epoch 6/20\n",
            "30/30 [==============================] - 1s 39ms/step - loss: 0.1115 - acc: 0.9649 - val_loss: 0.3034 - val_acc: 0.8843\n",
            "Epoch 7/20\n",
            "30/30 [==============================] - 1s 41ms/step - loss: 0.0871 - acc: 0.9727 - val_loss: 0.3267 - val_acc: 0.8836\n",
            "Epoch 8/20\n",
            "30/30 [==============================] - 1s 40ms/step - loss: 0.0678 - acc: 0.9809 - val_loss: 0.3668 - val_acc: 0.8779\n",
            "Epoch 9/20\n",
            "30/30 [==============================] - 1s 41ms/step - loss: 0.0569 - acc: 0.9831 - val_loss: 0.3870 - val_acc: 0.8790\n",
            "Epoch 10/20\n",
            "30/30 [==============================] - 1s 39ms/step - loss: 0.0393 - acc: 0.9905 - val_loss: 0.4392 - val_acc: 0.8707\n",
            "Epoch 11/20\n",
            "30/30 [==============================] - 1s 40ms/step - loss: 0.0349 - acc: 0.9912 - val_loss: 0.4568 - val_acc: 0.8737\n",
            "Epoch 12/20\n",
            "30/30 [==============================] - 1s 39ms/step - loss: 0.0287 - acc: 0.9926 - val_loss: 0.4851 - val_acc: 0.8736\n",
            "Epoch 13/20\n",
            "30/30 [==============================] - 1s 40ms/step - loss: 0.0125 - acc: 0.9989 - val_loss: 0.6495 - val_acc: 0.8519\n",
            "Epoch 14/20\n",
            "30/30 [==============================] - 1s 40ms/step - loss: 0.0158 - acc: 0.9963 - val_loss: 0.6495 - val_acc: 0.8582\n",
            "Epoch 15/20\n",
            "30/30 [==============================] - 1s 40ms/step - loss: 0.0075 - acc: 0.9996 - val_loss: 0.5922 - val_acc: 0.8700\n",
            "Epoch 16/20\n",
            "30/30 [==============================] - 1s 40ms/step - loss: 0.0147 - acc: 0.9960 - val_loss: 0.6229 - val_acc: 0.8688\n",
            "Epoch 17/20\n",
            "30/30 [==============================] - 1s 40ms/step - loss: 0.0032 - acc: 0.9999 - val_loss: 0.6637 - val_acc: 0.8681\n",
            "Epoch 18/20\n",
            "30/30 [==============================] - 1s 40ms/step - loss: 0.0139 - acc: 0.9963 - val_loss: 0.6998 - val_acc: 0.8709\n",
            "Epoch 19/20\n",
            "30/30 [==============================] - 1s 40ms/step - loss: 0.0017 - acc: 0.9999 - val_loss: 0.7254 - val_acc: 0.8696\n",
            "Epoch 20/20\n",
            "30/30 [==============================] - 1s 39ms/step - loss: 0.0013 - acc: 0.9999 - val_loss: 0.7994 - val_acc: 0.8641\n",
            "196/196 [==============================] - 1s 5ms/step - loss: 0.9072 - acc: 0.8476\n",
            "test loss, test acc: [0.907227098941803, 0.847599983215332]\n"
          ],
          "name": "stdout"
        }
      ]
    },
    {
      "cell_type": "markdown",
      "metadata": {
        "id": "lGM6AN_-TwVZ"
      },
      "source": [
        "### 2) 층의 유닛을 64개로 늘리기 - 정확도가 증가했지만 손실도 매우 증가함"
      ]
    },
    {
      "cell_type": "code",
      "metadata": {
        "colab": {
          "base_uri": "https://localhost:8080/"
        },
        "id": "5JPv4mElT5gh",
        "outputId": "a6bdcb61-cf5a-40e3-d959-ab838fd35b74"
      },
      "source": [
        "from keras import models\n",
        "from keras import layers\n",
        "\n",
        "# 모델 설계\n",
        "model = models.Sequential()\n",
        "model.add(layers.Dense(32, activation='relu', input_shape=(10000,)))\n",
        "model.add(layers.Dense(32, activation='relu'))\n",
        "model.add(layers.Dense(1, activation='sigmoid'))\n",
        "\n",
        "# 컴파일\n",
        "model.compile(optimizer='rmsprop',\n",
        "              loss='binary_crossentropy',\n",
        "              metrics=['acc'])\n",
        "\n",
        "# 훈련 검증\n",
        "model.fit(partial_X_train,\n",
        "                    partial_y_train,\n",
        "                    epochs=20,\n",
        "                    batch_size=512,\n",
        "                    validation_data=(X_val, y_val))\n",
        "\n",
        "results = model.evaluate(X_test, y_test, batch_size=128)\n",
        "print(\"test loss, test acc:\", results)"
      ],
      "execution_count": 25,
      "outputs": [
        {
          "output_type": "stream",
          "text": [
            "Epoch 1/20\n",
            "30/30 [==============================] - 2s 60ms/step - loss: 0.4851 - acc: 0.7849 - val_loss: 0.3512 - val_acc: 0.8648\n",
            "Epoch 2/20\n",
            "30/30 [==============================] - 1s 48ms/step - loss: 0.2702 - acc: 0.9072 - val_loss: 0.2891 - val_acc: 0.8885\n",
            "Epoch 3/20\n",
            "30/30 [==============================] - 1s 47ms/step - loss: 0.1976 - acc: 0.9303 - val_loss: 0.2834 - val_acc: 0.8870\n",
            "Epoch 4/20\n",
            "30/30 [==============================] - 1s 47ms/step - loss: 0.1588 - acc: 0.9435 - val_loss: 0.3305 - val_acc: 0.8728\n",
            "Epoch 5/20\n",
            "30/30 [==============================] - 1s 49ms/step - loss: 0.1199 - acc: 0.9615 - val_loss: 0.3231 - val_acc: 0.8787\n",
            "Epoch 6/20\n",
            "30/30 [==============================] - 1s 48ms/step - loss: 0.0955 - acc: 0.9700 - val_loss: 0.3203 - val_acc: 0.8828\n",
            "Epoch 7/20\n",
            "30/30 [==============================] - 1s 48ms/step - loss: 0.0796 - acc: 0.9746 - val_loss: 0.3468 - val_acc: 0.8814\n",
            "Epoch 8/20\n",
            "30/30 [==============================] - 1s 50ms/step - loss: 0.0605 - acc: 0.9822 - val_loss: 0.3772 - val_acc: 0.8764\n",
            "Epoch 9/20\n",
            "30/30 [==============================] - 1s 50ms/step - loss: 0.0476 - acc: 0.9865 - val_loss: 0.4128 - val_acc: 0.8774\n",
            "Epoch 10/20\n",
            "30/30 [==============================] - 1s 49ms/step - loss: 0.0375 - acc: 0.9903 - val_loss: 0.4401 - val_acc: 0.8741\n",
            "Epoch 11/20\n",
            "30/30 [==============================] - 1s 49ms/step - loss: 0.0270 - acc: 0.9943 - val_loss: 0.4919 - val_acc: 0.8669\n",
            "Epoch 12/20\n",
            "30/30 [==============================] - 1s 49ms/step - loss: 0.0274 - acc: 0.9927 - val_loss: 0.5054 - val_acc: 0.8728\n",
            "Epoch 13/20\n",
            "30/30 [==============================] - 1s 49ms/step - loss: 0.0257 - acc: 0.9931 - val_loss: 0.5385 - val_acc: 0.8706\n",
            "Epoch 14/20\n",
            "30/30 [==============================] - 1s 49ms/step - loss: 0.0074 - acc: 0.9997 - val_loss: 0.5790 - val_acc: 0.8719\n",
            "Epoch 15/20\n",
            "30/30 [==============================] - 2s 51ms/step - loss: 0.0192 - acc: 0.9945 - val_loss: 0.5970 - val_acc: 0.8709\n",
            "Epoch 16/20\n",
            "30/30 [==============================] - 1s 49ms/step - loss: 0.0042 - acc: 0.9999 - val_loss: 0.6313 - val_acc: 0.8690\n",
            "Epoch 17/20\n",
            "30/30 [==============================] - 1s 48ms/step - loss: 0.0094 - acc: 0.9974 - val_loss: 0.6647 - val_acc: 0.8675\n",
            "Epoch 18/20\n",
            "30/30 [==============================] - 1s 49ms/step - loss: 0.0023 - acc: 0.9999 - val_loss: 0.7051 - val_acc: 0.8677\n",
            "Epoch 19/20\n",
            "30/30 [==============================] - 1s 49ms/step - loss: 0.0124 - acc: 0.9959 - val_loss: 0.7447 - val_acc: 0.8663\n",
            "Epoch 20/20\n",
            "30/30 [==============================] - 1s 48ms/step - loss: 0.0012 - acc: 0.9999 - val_loss: 0.7692 - val_acc: 0.8656\n",
            "196/196 [==============================] - 1s 6ms/step - loss: 0.8499 - acc: 0.8521\n",
            "test loss, test acc: [0.8498988151550293, 0.8521199822425842]\n"
          ],
          "name": "stdout"
        }
      ]
    },
    {
      "cell_type": "markdown",
      "metadata": {
        "id": "ZBFkzSH6XjHq"
      },
      "source": [
        "### 3) loss를 mse - 정확도가 살짝 증가하고 손실이 매우 감소함"
      ]
    },
    {
      "cell_type": "code",
      "metadata": {
        "colab": {
          "base_uri": "https://localhost:8080/"
        },
        "id": "NiMBRsNQUE0w",
        "outputId": "ece46032-c3c1-4c0c-8d53-3bd20c1b3a2f"
      },
      "source": [
        "from keras import models\n",
        "from keras import layers\n",
        "\n",
        "# 모델 설계\n",
        "model = models.Sequential()\n",
        "model.add(layers.Dense(16, activation='relu', input_shape=(10000,)))\n",
        "model.add(layers.Dense(16, activation='relu'))\n",
        "model.add(layers.Dense(1, activation='sigmoid'))\n",
        "\n",
        "# 컴파일\n",
        "model.compile(optimizer='rmsprop',\n",
        "              loss='mse',\n",
        "              metrics=['acc'])\n",
        "\n",
        "# 훈련 검증\n",
        "model.fit(partial_X_train,\n",
        "                    partial_y_train,\n",
        "                    epochs=20,\n",
        "                    batch_size=512,\n",
        "                    validation_data=(X_val, y_val))\n",
        "\n",
        "results = model.evaluate(X_test, y_test, batch_size=128)\n",
        "print(\"test loss, test acc:\", results)"
      ],
      "execution_count": 26,
      "outputs": [
        {
          "output_type": "stream",
          "text": [
            "Epoch 1/20\n",
            "30/30 [==============================] - 3s 75ms/step - loss: 0.1625 - acc: 0.7824 - val_loss: 0.1077 - val_acc: 0.8711\n",
            "Epoch 2/20\n",
            "30/30 [==============================] - 1s 46ms/step - loss: 0.0814 - acc: 0.9061 - val_loss: 0.0937 - val_acc: 0.8792\n",
            "Epoch 3/20\n",
            "30/30 [==============================] - 1s 48ms/step - loss: 0.0587 - acc: 0.9315 - val_loss: 0.0874 - val_acc: 0.8849\n",
            "Epoch 4/20\n",
            "30/30 [==============================] - 1s 46ms/step - loss: 0.0451 - acc: 0.9491 - val_loss: 0.0839 - val_acc: 0.8847\n",
            "Epoch 5/20\n",
            "30/30 [==============================] - 1s 46ms/step - loss: 0.0360 - acc: 0.9593 - val_loss: 0.0905 - val_acc: 0.8765\n",
            "Epoch 6/20\n",
            "30/30 [==============================] - 1s 46ms/step - loss: 0.0273 - acc: 0.9721 - val_loss: 0.0875 - val_acc: 0.8806\n",
            "Epoch 7/20\n",
            "30/30 [==============================] - 1s 46ms/step - loss: 0.0239 - acc: 0.9749 - val_loss: 0.0947 - val_acc: 0.8744\n",
            "Epoch 8/20\n",
            "30/30 [==============================] - 2s 53ms/step - loss: 0.0185 - acc: 0.9819 - val_loss: 0.0935 - val_acc: 0.8768\n",
            "Epoch 9/20\n",
            "30/30 [==============================] - 2s 72ms/step - loss: 0.0153 - acc: 0.9848 - val_loss: 0.0953 - val_acc: 0.8753\n",
            "Epoch 10/20\n",
            "30/30 [==============================] - 2s 65ms/step - loss: 0.0121 - acc: 0.9881 - val_loss: 0.0956 - val_acc: 0.8772\n",
            "Epoch 11/20\n",
            "30/30 [==============================] - 1s 47ms/step - loss: 0.0097 - acc: 0.9904 - val_loss: 0.0972 - val_acc: 0.8760\n",
            "Epoch 12/20\n",
            "30/30 [==============================] - 1s 45ms/step - loss: 0.0100 - acc: 0.9897 - val_loss: 0.0999 - val_acc: 0.8734\n",
            "Epoch 13/20\n",
            "30/30 [==============================] - 1s 46ms/step - loss: 0.0048 - acc: 0.9964 - val_loss: 0.1023 - val_acc: 0.8731\n",
            "Epoch 14/20\n",
            "30/30 [==============================] - 1s 47ms/step - loss: 0.0078 - acc: 0.9915 - val_loss: 0.1036 - val_acc: 0.8715\n",
            "Epoch 15/20\n",
            "30/30 [==============================] - 1s 48ms/step - loss: 0.0038 - acc: 0.9968 - val_loss: 0.1272 - val_acc: 0.8479\n",
            "Epoch 16/20\n",
            "30/30 [==============================] - 1s 48ms/step - loss: 0.0052 - acc: 0.9949 - val_loss: 0.1061 - val_acc: 0.8715\n",
            "Epoch 17/20\n",
            "30/30 [==============================] - 1s 49ms/step - loss: 0.0068 - acc: 0.9921 - val_loss: 0.1080 - val_acc: 0.8688\n",
            "Epoch 18/20\n",
            "30/30 [==============================] - 1s 50ms/step - loss: 0.0028 - acc: 0.9974 - val_loss: 0.1089 - val_acc: 0.8684\n",
            "Epoch 19/20\n",
            "30/30 [==============================] - 1s 48ms/step - loss: 0.0064 - acc: 0.9925 - val_loss: 0.1111 - val_acc: 0.8660\n",
            "Epoch 20/20\n",
            "30/30 [==============================] - 1s 47ms/step - loss: 0.0024 - acc: 0.9977 - val_loss: 0.1107 - val_acc: 0.8683\n",
            "196/196 [==============================] - 1s 6ms/step - loss: 0.1215 - acc: 0.8534\n",
            "test loss, test acc: [0.1215132549405098, 0.8533599972724915]\n"
          ],
          "name": "stdout"
        }
      ]
    },
    {
      "cell_type": "markdown",
      "metadata": {
        "id": "_z3oSH2oXv42"
      },
      "source": [
        "### 4) activation을 'tanh' - 정확도가 줄고 손실이 매우 증가"
      ]
    },
    {
      "cell_type": "code",
      "metadata": {
        "colab": {
          "base_uri": "https://localhost:8080/"
        },
        "id": "5Z2VJolRW5y4",
        "outputId": "69da2505-3aea-411f-e143-3f9a0ba038c3"
      },
      "source": [
        "from keras import models\n",
        "from keras import layers\n",
        "\n",
        "# 모델 설계\n",
        "model = models.Sequential()\n",
        "model.add(layers.Dense(16, activation='tanh', input_shape=(10000,)))\n",
        "model.add(layers.Dense(16, activation='tanh'))\n",
        "model.add(layers.Dense(1, activation='sigmoid'))\n",
        "\n",
        "# 컴파일\n",
        "model.compile(optimizer='rmsprop',\n",
        "              loss='binary_crossentropy',\n",
        "              metrics=['acc'])\n",
        "\n",
        "# 훈련 검증\n",
        "model.fit(partial_X_train,\n",
        "                    partial_y_train,\n",
        "                    epochs=20,\n",
        "                    batch_size=512,\n",
        "                    validation_data=(X_val, y_val))\n",
        "\n",
        "results = model.evaluate(X_test, y_test, batch_size=128)\n",
        "print(\"test loss, test acc:\", results)"
      ],
      "execution_count": 27,
      "outputs": [
        {
          "output_type": "stream",
          "text": [
            "Epoch 1/20\n",
            "30/30 [==============================] - 3s 61ms/step - loss: 0.4849 - acc: 0.8036 - val_loss: 0.3718 - val_acc: 0.8618\n",
            "Epoch 2/20\n",
            "30/30 [==============================] - 1s 48ms/step - loss: 0.2759 - acc: 0.9098 - val_loss: 0.2868 - val_acc: 0.8876\n",
            "Epoch 3/20\n",
            "30/30 [==============================] - 1s 47ms/step - loss: 0.1973 - acc: 0.9341 - val_loss: 0.2738 - val_acc: 0.8892\n",
            "Epoch 4/20\n",
            "30/30 [==============================] - 1s 48ms/step - loss: 0.1500 - acc: 0.9477 - val_loss: 0.2783 - val_acc: 0.8881\n",
            "Epoch 5/20\n",
            "30/30 [==============================] - 1s 48ms/step - loss: 0.1128 - acc: 0.9636 - val_loss: 0.3026 - val_acc: 0.8853\n",
            "Epoch 6/20\n",
            "30/30 [==============================] - 1s 49ms/step - loss: 0.0931 - acc: 0.9698 - val_loss: 0.3328 - val_acc: 0.8811\n",
            "Epoch 7/20\n",
            "30/30 [==============================] - 1s 48ms/step - loss: 0.0713 - acc: 0.9781 - val_loss: 0.3664 - val_acc: 0.8784\n",
            "Epoch 8/20\n",
            "30/30 [==============================] - 1s 49ms/step - loss: 0.0525 - acc: 0.9851 - val_loss: 0.4150 - val_acc: 0.8729\n",
            "Epoch 9/20\n",
            "30/30 [==============================] - 1s 50ms/step - loss: 0.0441 - acc: 0.9874 - val_loss: 0.4639 - val_acc: 0.8674\n",
            "Epoch 10/20\n",
            "30/30 [==============================] - 1s 48ms/step - loss: 0.0325 - acc: 0.9916 - val_loss: 0.5118 - val_acc: 0.8654\n",
            "Epoch 11/20\n",
            "30/30 [==============================] - 1s 50ms/step - loss: 0.0310 - acc: 0.9919 - val_loss: 0.5364 - val_acc: 0.8674\n",
            "Epoch 12/20\n",
            "30/30 [==============================] - 1s 47ms/step - loss: 0.0120 - acc: 0.9984 - val_loss: 0.5831 - val_acc: 0.8666\n",
            "Epoch 13/20\n",
            "30/30 [==============================] - 1s 48ms/step - loss: 0.0203 - acc: 0.9944 - val_loss: 0.6171 - val_acc: 0.8641\n",
            "Epoch 14/20\n",
            "30/30 [==============================] - 1s 48ms/step - loss: 0.0054 - acc: 0.9995 - val_loss: 0.6630 - val_acc: 0.8661\n",
            "Epoch 15/20\n",
            "30/30 [==============================] - 1s 48ms/step - loss: 0.0167 - acc: 0.9954 - val_loss: 0.6865 - val_acc: 0.8664\n",
            "Epoch 16/20\n",
            "30/30 [==============================] - 1s 50ms/step - loss: 0.0026 - acc: 0.9997 - val_loss: 0.7270 - val_acc: 0.8638\n",
            "Epoch 17/20\n",
            "30/30 [==============================] - 1s 49ms/step - loss: 0.0181 - acc: 0.9944 - val_loss: 0.7652 - val_acc: 0.8622\n",
            "Epoch 18/20\n",
            "30/30 [==============================] - 2s 51ms/step - loss: 0.0015 - acc: 0.9999 - val_loss: 0.7764 - val_acc: 0.8614\n",
            "Epoch 19/20\n",
            "30/30 [==============================] - 1s 48ms/step - loss: 0.0011 - acc: 0.9999 - val_loss: 0.8068 - val_acc: 0.8612\n",
            "Epoch 20/20\n",
            "30/30 [==============================] - 1s 49ms/step - loss: 0.0142 - acc: 0.9968 - val_loss: 0.9805 - val_acc: 0.8451\n",
            "196/196 [==============================] - 1s 6ms/step - loss: 1.1109 - acc: 0.8238\n",
            "test loss, test acc: [1.110857367515564, 0.8237599730491638]\n"
          ],
          "name": "stdout"
        }
      ]
    },
    {
      "cell_type": "code",
      "metadata": {
        "id": "8j-skrUgXL43"
      },
      "source": [
        ""
      ],
      "execution_count": null,
      "outputs": []
    }
  ]
}