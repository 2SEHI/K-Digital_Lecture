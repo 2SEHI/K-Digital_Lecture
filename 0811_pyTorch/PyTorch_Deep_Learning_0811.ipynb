{
  "nbformat": 4,
  "nbformat_minor": 0,
  "metadata": {
    "colab": {
      "name": "PyTorch_Deep_Learning_0811.ipynb",
      "provenance": [],
      "collapsed_sections": [],
      "toc_visible": true
    },
    "kernelspec": {
      "display_name": "Python 3",
      "language": "python",
      "name": "python3"
    },
    "language_info": {
      "codemirror_mode": {
        "name": "ipython",
        "version": 3
      },
      "file_extension": ".py",
      "mimetype": "text/x-python",
      "name": "python",
      "nbconvert_exporter": "python",
      "pygments_lexer": "ipython3",
      "version": "3.8.5"
    },
    "widgets": {
      "application/vnd.jupyter.widget-state+json": {
        "7318327d405f4011a8c546af67f52b94": {
          "model_module": "@jupyter-widgets/controls",
          "model_name": "HBoxModel",
          "model_module_version": "1.5.0",
          "state": {
            "_view_name": "HBoxView",
            "_dom_classes": [],
            "_model_name": "HBoxModel",
            "_view_module": "@jupyter-widgets/controls",
            "_model_module_version": "1.5.0",
            "_view_count": null,
            "_view_module_version": "1.5.0",
            "box_style": "",
            "layout": "IPY_MODEL_0b59be78447e402196c206b56432d3e9",
            "_model_module": "@jupyter-widgets/controls",
            "children": [
              "IPY_MODEL_a62d6052dc2342deae58ddf537eb4eb9",
              "IPY_MODEL_952d3e216d1846a7aa10ac192b3e9e2b"
            ]
          }
        },
        "0b59be78447e402196c206b56432d3e9": {
          "model_module": "@jupyter-widgets/base",
          "model_name": "LayoutModel",
          "model_module_version": "1.2.0",
          "state": {
            "_view_name": "LayoutView",
            "grid_template_rows": null,
            "right": null,
            "justify_content": null,
            "_view_module": "@jupyter-widgets/base",
            "overflow": null,
            "_model_module_version": "1.2.0",
            "_view_count": null,
            "flex_flow": null,
            "width": null,
            "min_width": null,
            "border": null,
            "align_items": null,
            "bottom": null,
            "_model_module": "@jupyter-widgets/base",
            "top": null,
            "grid_column": null,
            "overflow_y": null,
            "overflow_x": null,
            "grid_auto_flow": null,
            "grid_area": null,
            "grid_template_columns": null,
            "flex": null,
            "_model_name": "LayoutModel",
            "justify_items": null,
            "grid_row": null,
            "max_height": null,
            "align_content": null,
            "visibility": null,
            "align_self": null,
            "height": null,
            "min_height": null,
            "padding": null,
            "grid_auto_rows": null,
            "grid_gap": null,
            "max_width": null,
            "order": null,
            "_view_module_version": "1.2.0",
            "grid_template_areas": null,
            "object_position": null,
            "object_fit": null,
            "grid_auto_columns": null,
            "margin": null,
            "display": null,
            "left": null
          }
        },
        "a62d6052dc2342deae58ddf537eb4eb9": {
          "model_module": "@jupyter-widgets/controls",
          "model_name": "FloatProgressModel",
          "model_module_version": "1.5.0",
          "state": {
            "_view_name": "ProgressView",
            "style": "IPY_MODEL_4cf1518878f94166ac04ff1f125c5d38",
            "_dom_classes": [],
            "description": "",
            "_model_name": "FloatProgressModel",
            "bar_style": "success",
            "max": 9912422,
            "_view_module": "@jupyter-widgets/controls",
            "_model_module_version": "1.5.0",
            "value": 9912422,
            "_view_count": null,
            "_view_module_version": "1.5.0",
            "orientation": "horizontal",
            "min": 0,
            "description_tooltip": null,
            "_model_module": "@jupyter-widgets/controls",
            "layout": "IPY_MODEL_c84cef8dc560466dae8fb9d554df2ace"
          }
        },
        "952d3e216d1846a7aa10ac192b3e9e2b": {
          "model_module": "@jupyter-widgets/controls",
          "model_name": "HTMLModel",
          "model_module_version": "1.5.0",
          "state": {
            "_view_name": "HTMLView",
            "style": "IPY_MODEL_a29606e3514d4e7bafa99cbe6b49795b",
            "_dom_classes": [],
            "description": "",
            "_model_name": "HTMLModel",
            "placeholder": "​",
            "_view_module": "@jupyter-widgets/controls",
            "_model_module_version": "1.5.0",
            "value": " 9913344/? [05:39&lt;00:00, 29211.19it/s]",
            "_view_count": null,
            "_view_module_version": "1.5.0",
            "description_tooltip": null,
            "_model_module": "@jupyter-widgets/controls",
            "layout": "IPY_MODEL_cb26a1dc12774330b3bc8f0885a04364"
          }
        },
        "4cf1518878f94166ac04ff1f125c5d38": {
          "model_module": "@jupyter-widgets/controls",
          "model_name": "ProgressStyleModel",
          "model_module_version": "1.5.0",
          "state": {
            "_view_name": "StyleView",
            "_model_name": "ProgressStyleModel",
            "description_width": "initial",
            "_view_module": "@jupyter-widgets/base",
            "_model_module_version": "1.5.0",
            "_view_count": null,
            "_view_module_version": "1.2.0",
            "bar_color": null,
            "_model_module": "@jupyter-widgets/controls"
          }
        },
        "c84cef8dc560466dae8fb9d554df2ace": {
          "model_module": "@jupyter-widgets/base",
          "model_name": "LayoutModel",
          "model_module_version": "1.2.0",
          "state": {
            "_view_name": "LayoutView",
            "grid_template_rows": null,
            "right": null,
            "justify_content": null,
            "_view_module": "@jupyter-widgets/base",
            "overflow": null,
            "_model_module_version": "1.2.0",
            "_view_count": null,
            "flex_flow": null,
            "width": null,
            "min_width": null,
            "border": null,
            "align_items": null,
            "bottom": null,
            "_model_module": "@jupyter-widgets/base",
            "top": null,
            "grid_column": null,
            "overflow_y": null,
            "overflow_x": null,
            "grid_auto_flow": null,
            "grid_area": null,
            "grid_template_columns": null,
            "flex": null,
            "_model_name": "LayoutModel",
            "justify_items": null,
            "grid_row": null,
            "max_height": null,
            "align_content": null,
            "visibility": null,
            "align_self": null,
            "height": null,
            "min_height": null,
            "padding": null,
            "grid_auto_rows": null,
            "grid_gap": null,
            "max_width": null,
            "order": null,
            "_view_module_version": "1.2.0",
            "grid_template_areas": null,
            "object_position": null,
            "object_fit": null,
            "grid_auto_columns": null,
            "margin": null,
            "display": null,
            "left": null
          }
        },
        "a29606e3514d4e7bafa99cbe6b49795b": {
          "model_module": "@jupyter-widgets/controls",
          "model_name": "DescriptionStyleModel",
          "model_module_version": "1.5.0",
          "state": {
            "_view_name": "StyleView",
            "_model_name": "DescriptionStyleModel",
            "description_width": "",
            "_view_module": "@jupyter-widgets/base",
            "_model_module_version": "1.5.0",
            "_view_count": null,
            "_view_module_version": "1.2.0",
            "_model_module": "@jupyter-widgets/controls"
          }
        },
        "cb26a1dc12774330b3bc8f0885a04364": {
          "model_module": "@jupyter-widgets/base",
          "model_name": "LayoutModel",
          "model_module_version": "1.2.0",
          "state": {
            "_view_name": "LayoutView",
            "grid_template_rows": null,
            "right": null,
            "justify_content": null,
            "_view_module": "@jupyter-widgets/base",
            "overflow": null,
            "_model_module_version": "1.2.0",
            "_view_count": null,
            "flex_flow": null,
            "width": null,
            "min_width": null,
            "border": null,
            "align_items": null,
            "bottom": null,
            "_model_module": "@jupyter-widgets/base",
            "top": null,
            "grid_column": null,
            "overflow_y": null,
            "overflow_x": null,
            "grid_auto_flow": null,
            "grid_area": null,
            "grid_template_columns": null,
            "flex": null,
            "_model_name": "LayoutModel",
            "justify_items": null,
            "grid_row": null,
            "max_height": null,
            "align_content": null,
            "visibility": null,
            "align_self": null,
            "height": null,
            "min_height": null,
            "padding": null,
            "grid_auto_rows": null,
            "grid_gap": null,
            "max_width": null,
            "order": null,
            "_view_module_version": "1.2.0",
            "grid_template_areas": null,
            "object_position": null,
            "object_fit": null,
            "grid_auto_columns": null,
            "margin": null,
            "display": null,
            "left": null
          }
        },
        "13032672a24c4570ba37ff58fcd3b6a6": {
          "model_module": "@jupyter-widgets/controls",
          "model_name": "HBoxModel",
          "model_module_version": "1.5.0",
          "state": {
            "_view_name": "HBoxView",
            "_dom_classes": [],
            "_model_name": "HBoxModel",
            "_view_module": "@jupyter-widgets/controls",
            "_model_module_version": "1.5.0",
            "_view_count": null,
            "_view_module_version": "1.5.0",
            "box_style": "",
            "layout": "IPY_MODEL_7e4ee741119243cb9354973c5bd9c2bc",
            "_model_module": "@jupyter-widgets/controls",
            "children": [
              "IPY_MODEL_d042677abd5d483fac7dccb00291dfc9",
              "IPY_MODEL_e10cfc46536849799bb13cfea6a1bd84"
            ]
          }
        },
        "7e4ee741119243cb9354973c5bd9c2bc": {
          "model_module": "@jupyter-widgets/base",
          "model_name": "LayoutModel",
          "model_module_version": "1.2.0",
          "state": {
            "_view_name": "LayoutView",
            "grid_template_rows": null,
            "right": null,
            "justify_content": null,
            "_view_module": "@jupyter-widgets/base",
            "overflow": null,
            "_model_module_version": "1.2.0",
            "_view_count": null,
            "flex_flow": null,
            "width": null,
            "min_width": null,
            "border": null,
            "align_items": null,
            "bottom": null,
            "_model_module": "@jupyter-widgets/base",
            "top": null,
            "grid_column": null,
            "overflow_y": null,
            "overflow_x": null,
            "grid_auto_flow": null,
            "grid_area": null,
            "grid_template_columns": null,
            "flex": null,
            "_model_name": "LayoutModel",
            "justify_items": null,
            "grid_row": null,
            "max_height": null,
            "align_content": null,
            "visibility": null,
            "align_self": null,
            "height": null,
            "min_height": null,
            "padding": null,
            "grid_auto_rows": null,
            "grid_gap": null,
            "max_width": null,
            "order": null,
            "_view_module_version": "1.2.0",
            "grid_template_areas": null,
            "object_position": null,
            "object_fit": null,
            "grid_auto_columns": null,
            "margin": null,
            "display": null,
            "left": null
          }
        },
        "d042677abd5d483fac7dccb00291dfc9": {
          "model_module": "@jupyter-widgets/controls",
          "model_name": "FloatProgressModel",
          "model_module_version": "1.5.0",
          "state": {
            "_view_name": "ProgressView",
            "style": "IPY_MODEL_7dee3d85d5344e9989e383eace12db57",
            "_dom_classes": [],
            "description": "",
            "_model_name": "FloatProgressModel",
            "bar_style": "success",
            "max": 28881,
            "_view_module": "@jupyter-widgets/controls",
            "_model_module_version": "1.5.0",
            "value": 28881,
            "_view_count": null,
            "_view_module_version": "1.5.0",
            "orientation": "horizontal",
            "min": 0,
            "description_tooltip": null,
            "_model_module": "@jupyter-widgets/controls",
            "layout": "IPY_MODEL_374a9bcdbb374d22a0191a13c428fdc5"
          }
        },
        "e10cfc46536849799bb13cfea6a1bd84": {
          "model_module": "@jupyter-widgets/controls",
          "model_name": "HTMLModel",
          "model_module_version": "1.5.0",
          "state": {
            "_view_name": "HTMLView",
            "style": "IPY_MODEL_42ccce11a4844d0d921267a1e3c6d599",
            "_dom_classes": [],
            "description": "",
            "_model_name": "HTMLModel",
            "placeholder": "​",
            "_view_module": "@jupyter-widgets/controls",
            "_model_module_version": "1.5.0",
            "value": " 29696/? [00:00&lt;00:00, 58623.71it/s]",
            "_view_count": null,
            "_view_module_version": "1.5.0",
            "description_tooltip": null,
            "_model_module": "@jupyter-widgets/controls",
            "layout": "IPY_MODEL_24d695b6c66c494da79564672bd6eebb"
          }
        },
        "7dee3d85d5344e9989e383eace12db57": {
          "model_module": "@jupyter-widgets/controls",
          "model_name": "ProgressStyleModel",
          "model_module_version": "1.5.0",
          "state": {
            "_view_name": "StyleView",
            "_model_name": "ProgressStyleModel",
            "description_width": "initial",
            "_view_module": "@jupyter-widgets/base",
            "_model_module_version": "1.5.0",
            "_view_count": null,
            "_view_module_version": "1.2.0",
            "bar_color": null,
            "_model_module": "@jupyter-widgets/controls"
          }
        },
        "374a9bcdbb374d22a0191a13c428fdc5": {
          "model_module": "@jupyter-widgets/base",
          "model_name": "LayoutModel",
          "model_module_version": "1.2.0",
          "state": {
            "_view_name": "LayoutView",
            "grid_template_rows": null,
            "right": null,
            "justify_content": null,
            "_view_module": "@jupyter-widgets/base",
            "overflow": null,
            "_model_module_version": "1.2.0",
            "_view_count": null,
            "flex_flow": null,
            "width": null,
            "min_width": null,
            "border": null,
            "align_items": null,
            "bottom": null,
            "_model_module": "@jupyter-widgets/base",
            "top": null,
            "grid_column": null,
            "overflow_y": null,
            "overflow_x": null,
            "grid_auto_flow": null,
            "grid_area": null,
            "grid_template_columns": null,
            "flex": null,
            "_model_name": "LayoutModel",
            "justify_items": null,
            "grid_row": null,
            "max_height": null,
            "align_content": null,
            "visibility": null,
            "align_self": null,
            "height": null,
            "min_height": null,
            "padding": null,
            "grid_auto_rows": null,
            "grid_gap": null,
            "max_width": null,
            "order": null,
            "_view_module_version": "1.2.0",
            "grid_template_areas": null,
            "object_position": null,
            "object_fit": null,
            "grid_auto_columns": null,
            "margin": null,
            "display": null,
            "left": null
          }
        },
        "42ccce11a4844d0d921267a1e3c6d599": {
          "model_module": "@jupyter-widgets/controls",
          "model_name": "DescriptionStyleModel",
          "model_module_version": "1.5.0",
          "state": {
            "_view_name": "StyleView",
            "_model_name": "DescriptionStyleModel",
            "description_width": "",
            "_view_module": "@jupyter-widgets/base",
            "_model_module_version": "1.5.0",
            "_view_count": null,
            "_view_module_version": "1.2.0",
            "_model_module": "@jupyter-widgets/controls"
          }
        },
        "24d695b6c66c494da79564672bd6eebb": {
          "model_module": "@jupyter-widgets/base",
          "model_name": "LayoutModel",
          "model_module_version": "1.2.0",
          "state": {
            "_view_name": "LayoutView",
            "grid_template_rows": null,
            "right": null,
            "justify_content": null,
            "_view_module": "@jupyter-widgets/base",
            "overflow": null,
            "_model_module_version": "1.2.0",
            "_view_count": null,
            "flex_flow": null,
            "width": null,
            "min_width": null,
            "border": null,
            "align_items": null,
            "bottom": null,
            "_model_module": "@jupyter-widgets/base",
            "top": null,
            "grid_column": null,
            "overflow_y": null,
            "overflow_x": null,
            "grid_auto_flow": null,
            "grid_area": null,
            "grid_template_columns": null,
            "flex": null,
            "_model_name": "LayoutModel",
            "justify_items": null,
            "grid_row": null,
            "max_height": null,
            "align_content": null,
            "visibility": null,
            "align_self": null,
            "height": null,
            "min_height": null,
            "padding": null,
            "grid_auto_rows": null,
            "grid_gap": null,
            "max_width": null,
            "order": null,
            "_view_module_version": "1.2.0",
            "grid_template_areas": null,
            "object_position": null,
            "object_fit": null,
            "grid_auto_columns": null,
            "margin": null,
            "display": null,
            "left": null
          }
        },
        "dfc378a094af40d2ac6a4e251cec4e13": {
          "model_module": "@jupyter-widgets/controls",
          "model_name": "HBoxModel",
          "model_module_version": "1.5.0",
          "state": {
            "_view_name": "HBoxView",
            "_dom_classes": [],
            "_model_name": "HBoxModel",
            "_view_module": "@jupyter-widgets/controls",
            "_model_module_version": "1.5.0",
            "_view_count": null,
            "_view_module_version": "1.5.0",
            "box_style": "",
            "layout": "IPY_MODEL_477cfa8ec0054a50b5faa16c0072f83b",
            "_model_module": "@jupyter-widgets/controls",
            "children": [
              "IPY_MODEL_84856fc0a5674dd8be8a34f023ccde93",
              "IPY_MODEL_ccf5a138376a4bbd894f5a5c0c9e5b5d"
            ]
          }
        },
        "477cfa8ec0054a50b5faa16c0072f83b": {
          "model_module": "@jupyter-widgets/base",
          "model_name": "LayoutModel",
          "model_module_version": "1.2.0",
          "state": {
            "_view_name": "LayoutView",
            "grid_template_rows": null,
            "right": null,
            "justify_content": null,
            "_view_module": "@jupyter-widgets/base",
            "overflow": null,
            "_model_module_version": "1.2.0",
            "_view_count": null,
            "flex_flow": null,
            "width": null,
            "min_width": null,
            "border": null,
            "align_items": null,
            "bottom": null,
            "_model_module": "@jupyter-widgets/base",
            "top": null,
            "grid_column": null,
            "overflow_y": null,
            "overflow_x": null,
            "grid_auto_flow": null,
            "grid_area": null,
            "grid_template_columns": null,
            "flex": null,
            "_model_name": "LayoutModel",
            "justify_items": null,
            "grid_row": null,
            "max_height": null,
            "align_content": null,
            "visibility": null,
            "align_self": null,
            "height": null,
            "min_height": null,
            "padding": null,
            "grid_auto_rows": null,
            "grid_gap": null,
            "max_width": null,
            "order": null,
            "_view_module_version": "1.2.0",
            "grid_template_areas": null,
            "object_position": null,
            "object_fit": null,
            "grid_auto_columns": null,
            "margin": null,
            "display": null,
            "left": null
          }
        },
        "84856fc0a5674dd8be8a34f023ccde93": {
          "model_module": "@jupyter-widgets/controls",
          "model_name": "FloatProgressModel",
          "model_module_version": "1.5.0",
          "state": {
            "_view_name": "ProgressView",
            "style": "IPY_MODEL_19a0e16d65ee4f69a737b4593237af2d",
            "_dom_classes": [],
            "description": "",
            "_model_name": "FloatProgressModel",
            "bar_style": "success",
            "max": 1648877,
            "_view_module": "@jupyter-widgets/controls",
            "_model_module_version": "1.5.0",
            "value": 1648877,
            "_view_count": null,
            "_view_module_version": "1.5.0",
            "orientation": "horizontal",
            "min": 0,
            "description_tooltip": null,
            "_model_module": "@jupyter-widgets/controls",
            "layout": "IPY_MODEL_15088e9f8adb46728d52d81a5e89265d"
          }
        },
        "ccf5a138376a4bbd894f5a5c0c9e5b5d": {
          "model_module": "@jupyter-widgets/controls",
          "model_name": "HTMLModel",
          "model_module_version": "1.5.0",
          "state": {
            "_view_name": "HTMLView",
            "style": "IPY_MODEL_64c4ae0654f945e8b72b9223595e402f",
            "_dom_classes": [],
            "description": "",
            "_model_name": "HTMLModel",
            "placeholder": "​",
            "_view_module": "@jupyter-widgets/controls",
            "_model_module_version": "1.5.0",
            "value": " 1649664/? [00:50&lt;00:00, 32743.17it/s]",
            "_view_count": null,
            "_view_module_version": "1.5.0",
            "description_tooltip": null,
            "_model_module": "@jupyter-widgets/controls",
            "layout": "IPY_MODEL_d6083048826441c49f120066f0c48fe8"
          }
        },
        "19a0e16d65ee4f69a737b4593237af2d": {
          "model_module": "@jupyter-widgets/controls",
          "model_name": "ProgressStyleModel",
          "model_module_version": "1.5.0",
          "state": {
            "_view_name": "StyleView",
            "_model_name": "ProgressStyleModel",
            "description_width": "initial",
            "_view_module": "@jupyter-widgets/base",
            "_model_module_version": "1.5.0",
            "_view_count": null,
            "_view_module_version": "1.2.0",
            "bar_color": null,
            "_model_module": "@jupyter-widgets/controls"
          }
        },
        "15088e9f8adb46728d52d81a5e89265d": {
          "model_module": "@jupyter-widgets/base",
          "model_name": "LayoutModel",
          "model_module_version": "1.2.0",
          "state": {
            "_view_name": "LayoutView",
            "grid_template_rows": null,
            "right": null,
            "justify_content": null,
            "_view_module": "@jupyter-widgets/base",
            "overflow": null,
            "_model_module_version": "1.2.0",
            "_view_count": null,
            "flex_flow": null,
            "width": null,
            "min_width": null,
            "border": null,
            "align_items": null,
            "bottom": null,
            "_model_module": "@jupyter-widgets/base",
            "top": null,
            "grid_column": null,
            "overflow_y": null,
            "overflow_x": null,
            "grid_auto_flow": null,
            "grid_area": null,
            "grid_template_columns": null,
            "flex": null,
            "_model_name": "LayoutModel",
            "justify_items": null,
            "grid_row": null,
            "max_height": null,
            "align_content": null,
            "visibility": null,
            "align_self": null,
            "height": null,
            "min_height": null,
            "padding": null,
            "grid_auto_rows": null,
            "grid_gap": null,
            "max_width": null,
            "order": null,
            "_view_module_version": "1.2.0",
            "grid_template_areas": null,
            "object_position": null,
            "object_fit": null,
            "grid_auto_columns": null,
            "margin": null,
            "display": null,
            "left": null
          }
        },
        "64c4ae0654f945e8b72b9223595e402f": {
          "model_module": "@jupyter-widgets/controls",
          "model_name": "DescriptionStyleModel",
          "model_module_version": "1.5.0",
          "state": {
            "_view_name": "StyleView",
            "_model_name": "DescriptionStyleModel",
            "description_width": "",
            "_view_module": "@jupyter-widgets/base",
            "_model_module_version": "1.5.0",
            "_view_count": null,
            "_view_module_version": "1.2.0",
            "_model_module": "@jupyter-widgets/controls"
          }
        },
        "d6083048826441c49f120066f0c48fe8": {
          "model_module": "@jupyter-widgets/base",
          "model_name": "LayoutModel",
          "model_module_version": "1.2.0",
          "state": {
            "_view_name": "LayoutView",
            "grid_template_rows": null,
            "right": null,
            "justify_content": null,
            "_view_module": "@jupyter-widgets/base",
            "overflow": null,
            "_model_module_version": "1.2.0",
            "_view_count": null,
            "flex_flow": null,
            "width": null,
            "min_width": null,
            "border": null,
            "align_items": null,
            "bottom": null,
            "_model_module": "@jupyter-widgets/base",
            "top": null,
            "grid_column": null,
            "overflow_y": null,
            "overflow_x": null,
            "grid_auto_flow": null,
            "grid_area": null,
            "grid_template_columns": null,
            "flex": null,
            "_model_name": "LayoutModel",
            "justify_items": null,
            "grid_row": null,
            "max_height": null,
            "align_content": null,
            "visibility": null,
            "align_self": null,
            "height": null,
            "min_height": null,
            "padding": null,
            "grid_auto_rows": null,
            "grid_gap": null,
            "max_width": null,
            "order": null,
            "_view_module_version": "1.2.0",
            "grid_template_areas": null,
            "object_position": null,
            "object_fit": null,
            "grid_auto_columns": null,
            "margin": null,
            "display": null,
            "left": null
          }
        },
        "591bca5499f64296913c47e52ddf910a": {
          "model_module": "@jupyter-widgets/controls",
          "model_name": "HBoxModel",
          "model_module_version": "1.5.0",
          "state": {
            "_view_name": "HBoxView",
            "_dom_classes": [],
            "_model_name": "HBoxModel",
            "_view_module": "@jupyter-widgets/controls",
            "_model_module_version": "1.5.0",
            "_view_count": null,
            "_view_module_version": "1.5.0",
            "box_style": "",
            "layout": "IPY_MODEL_aceb6a0b96664b00b752752f23d2424e",
            "_model_module": "@jupyter-widgets/controls",
            "children": [
              "IPY_MODEL_9406c08326e349e1be81234a9813c84d",
              "IPY_MODEL_6875171f1dea4ed794c207114e29af3d"
            ]
          }
        },
        "aceb6a0b96664b00b752752f23d2424e": {
          "model_module": "@jupyter-widgets/base",
          "model_name": "LayoutModel",
          "model_module_version": "1.2.0",
          "state": {
            "_view_name": "LayoutView",
            "grid_template_rows": null,
            "right": null,
            "justify_content": null,
            "_view_module": "@jupyter-widgets/base",
            "overflow": null,
            "_model_module_version": "1.2.0",
            "_view_count": null,
            "flex_flow": null,
            "width": null,
            "min_width": null,
            "border": null,
            "align_items": null,
            "bottom": null,
            "_model_module": "@jupyter-widgets/base",
            "top": null,
            "grid_column": null,
            "overflow_y": null,
            "overflow_x": null,
            "grid_auto_flow": null,
            "grid_area": null,
            "grid_template_columns": null,
            "flex": null,
            "_model_name": "LayoutModel",
            "justify_items": null,
            "grid_row": null,
            "max_height": null,
            "align_content": null,
            "visibility": null,
            "align_self": null,
            "height": null,
            "min_height": null,
            "padding": null,
            "grid_auto_rows": null,
            "grid_gap": null,
            "max_width": null,
            "order": null,
            "_view_module_version": "1.2.0",
            "grid_template_areas": null,
            "object_position": null,
            "object_fit": null,
            "grid_auto_columns": null,
            "margin": null,
            "display": null,
            "left": null
          }
        },
        "9406c08326e349e1be81234a9813c84d": {
          "model_module": "@jupyter-widgets/controls",
          "model_name": "FloatProgressModel",
          "model_module_version": "1.5.0",
          "state": {
            "_view_name": "ProgressView",
            "style": "IPY_MODEL_9cbb2c02c1284756b880cb4cd0098650",
            "_dom_classes": [],
            "description": "",
            "_model_name": "FloatProgressModel",
            "bar_style": "success",
            "max": 4542,
            "_view_module": "@jupyter-widgets/controls",
            "_model_module_version": "1.5.0",
            "value": 4542,
            "_view_count": null,
            "_view_module_version": "1.5.0",
            "orientation": "horizontal",
            "min": 0,
            "description_tooltip": null,
            "_model_module": "@jupyter-widgets/controls",
            "layout": "IPY_MODEL_64d611ccc45a4e55a747ad318be0d2e2"
          }
        },
        "6875171f1dea4ed794c207114e29af3d": {
          "model_module": "@jupyter-widgets/controls",
          "model_name": "HTMLModel",
          "model_module_version": "1.5.0",
          "state": {
            "_view_name": "HTMLView",
            "style": "IPY_MODEL_4174c6305ed14d95a7aaf563a91d28ff",
            "_dom_classes": [],
            "description": "",
            "_model_name": "HTMLModel",
            "placeholder": "​",
            "_view_module": "@jupyter-widgets/controls",
            "_model_module_version": "1.5.0",
            "value": " 5120/? [00:00&lt;00:00, 44483.55it/s]",
            "_view_count": null,
            "_view_module_version": "1.5.0",
            "description_tooltip": null,
            "_model_module": "@jupyter-widgets/controls",
            "layout": "IPY_MODEL_358c0d6c9edb410bb7daf1558d94e9f4"
          }
        },
        "9cbb2c02c1284756b880cb4cd0098650": {
          "model_module": "@jupyter-widgets/controls",
          "model_name": "ProgressStyleModel",
          "model_module_version": "1.5.0",
          "state": {
            "_view_name": "StyleView",
            "_model_name": "ProgressStyleModel",
            "description_width": "initial",
            "_view_module": "@jupyter-widgets/base",
            "_model_module_version": "1.5.0",
            "_view_count": null,
            "_view_module_version": "1.2.0",
            "bar_color": null,
            "_model_module": "@jupyter-widgets/controls"
          }
        },
        "64d611ccc45a4e55a747ad318be0d2e2": {
          "model_module": "@jupyter-widgets/base",
          "model_name": "LayoutModel",
          "model_module_version": "1.2.0",
          "state": {
            "_view_name": "LayoutView",
            "grid_template_rows": null,
            "right": null,
            "justify_content": null,
            "_view_module": "@jupyter-widgets/base",
            "overflow": null,
            "_model_module_version": "1.2.0",
            "_view_count": null,
            "flex_flow": null,
            "width": null,
            "min_width": null,
            "border": null,
            "align_items": null,
            "bottom": null,
            "_model_module": "@jupyter-widgets/base",
            "top": null,
            "grid_column": null,
            "overflow_y": null,
            "overflow_x": null,
            "grid_auto_flow": null,
            "grid_area": null,
            "grid_template_columns": null,
            "flex": null,
            "_model_name": "LayoutModel",
            "justify_items": null,
            "grid_row": null,
            "max_height": null,
            "align_content": null,
            "visibility": null,
            "align_self": null,
            "height": null,
            "min_height": null,
            "padding": null,
            "grid_auto_rows": null,
            "grid_gap": null,
            "max_width": null,
            "order": null,
            "_view_module_version": "1.2.0",
            "grid_template_areas": null,
            "object_position": null,
            "object_fit": null,
            "grid_auto_columns": null,
            "margin": null,
            "display": null,
            "left": null
          }
        },
        "4174c6305ed14d95a7aaf563a91d28ff": {
          "model_module": "@jupyter-widgets/controls",
          "model_name": "DescriptionStyleModel",
          "model_module_version": "1.5.0",
          "state": {
            "_view_name": "StyleView",
            "_model_name": "DescriptionStyleModel",
            "description_width": "",
            "_view_module": "@jupyter-widgets/base",
            "_model_module_version": "1.5.0",
            "_view_count": null,
            "_view_module_version": "1.2.0",
            "_model_module": "@jupyter-widgets/controls"
          }
        },
        "358c0d6c9edb410bb7daf1558d94e9f4": {
          "model_module": "@jupyter-widgets/base",
          "model_name": "LayoutModel",
          "model_module_version": "1.2.0",
          "state": {
            "_view_name": "LayoutView",
            "grid_template_rows": null,
            "right": null,
            "justify_content": null,
            "_view_module": "@jupyter-widgets/base",
            "overflow": null,
            "_model_module_version": "1.2.0",
            "_view_count": null,
            "flex_flow": null,
            "width": null,
            "min_width": null,
            "border": null,
            "align_items": null,
            "bottom": null,
            "_model_module": "@jupyter-widgets/base",
            "top": null,
            "grid_column": null,
            "overflow_y": null,
            "overflow_x": null,
            "grid_auto_flow": null,
            "grid_area": null,
            "grid_template_columns": null,
            "flex": null,
            "_model_name": "LayoutModel",
            "justify_items": null,
            "grid_row": null,
            "max_height": null,
            "align_content": null,
            "visibility": null,
            "align_self": null,
            "height": null,
            "min_height": null,
            "padding": null,
            "grid_auto_rows": null,
            "grid_gap": null,
            "max_width": null,
            "order": null,
            "_view_module_version": "1.2.0",
            "grid_template_areas": null,
            "object_position": null,
            "object_fit": null,
            "grid_auto_columns": null,
            "margin": null,
            "display": null,
            "left": null
          }
        },
        "9a821c270d0946c0a1dc98b33444dc47": {
          "model_module": "@jupyter-widgets/controls",
          "model_name": "HBoxModel",
          "model_module_version": "1.5.0",
          "state": {
            "_view_name": "HBoxView",
            "_dom_classes": [],
            "_model_name": "HBoxModel",
            "_view_module": "@jupyter-widgets/controls",
            "_model_module_version": "1.5.0",
            "_view_count": null,
            "_view_module_version": "1.5.0",
            "box_style": "",
            "layout": "IPY_MODEL_57692698264a421bac69f132622e09f3",
            "_model_module": "@jupyter-widgets/controls",
            "children": [
              "IPY_MODEL_5a1fca3b08464abbab434e1e66a8d7e4",
              "IPY_MODEL_e99d3ac559484958b4305967a79ec823"
            ]
          }
        },
        "57692698264a421bac69f132622e09f3": {
          "model_module": "@jupyter-widgets/base",
          "model_name": "LayoutModel",
          "model_module_version": "1.2.0",
          "state": {
            "_view_name": "LayoutView",
            "grid_template_rows": null,
            "right": null,
            "justify_content": null,
            "_view_module": "@jupyter-widgets/base",
            "overflow": null,
            "_model_module_version": "1.2.0",
            "_view_count": null,
            "flex_flow": null,
            "width": null,
            "min_width": null,
            "border": null,
            "align_items": null,
            "bottom": null,
            "_model_module": "@jupyter-widgets/base",
            "top": null,
            "grid_column": null,
            "overflow_y": null,
            "overflow_x": null,
            "grid_auto_flow": null,
            "grid_area": null,
            "grid_template_columns": null,
            "flex": null,
            "_model_name": "LayoutModel",
            "justify_items": null,
            "grid_row": null,
            "max_height": null,
            "align_content": null,
            "visibility": null,
            "align_self": null,
            "height": null,
            "min_height": null,
            "padding": null,
            "grid_auto_rows": null,
            "grid_gap": null,
            "max_width": null,
            "order": null,
            "_view_module_version": "1.2.0",
            "grid_template_areas": null,
            "object_position": null,
            "object_fit": null,
            "grid_auto_columns": null,
            "margin": null,
            "display": null,
            "left": null
          }
        },
        "5a1fca3b08464abbab434e1e66a8d7e4": {
          "model_module": "@jupyter-widgets/controls",
          "model_name": "FloatProgressModel",
          "model_module_version": "1.5.0",
          "state": {
            "_view_name": "ProgressView",
            "style": "IPY_MODEL_116021f2719741be867f575301a6123f",
            "_dom_classes": [],
            "description": "",
            "_model_name": "FloatProgressModel",
            "bar_style": "success",
            "max": 170498071,
            "_view_module": "@jupyter-widgets/controls",
            "_model_module_version": "1.5.0",
            "value": 170498071,
            "_view_count": null,
            "_view_module_version": "1.5.0",
            "orientation": "horizontal",
            "min": 0,
            "description_tooltip": null,
            "_model_module": "@jupyter-widgets/controls",
            "layout": "IPY_MODEL_3e1a98c1f94848f8aeb6dcda33bbf6fb"
          }
        },
        "e99d3ac559484958b4305967a79ec823": {
          "model_module": "@jupyter-widgets/controls",
          "model_name": "HTMLModel",
          "model_module_version": "1.5.0",
          "state": {
            "_view_name": "HTMLView",
            "style": "IPY_MODEL_e065b4a8c1d14f0eac9dd93d85999382",
            "_dom_classes": [],
            "description": "",
            "_model_name": "HTMLModel",
            "placeholder": "​",
            "_view_module": "@jupyter-widgets/controls",
            "_model_module_version": "1.5.0",
            "value": " 170499072/? [00:50&lt;00:00, 3368729.92it/s]",
            "_view_count": null,
            "_view_module_version": "1.5.0",
            "description_tooltip": null,
            "_model_module": "@jupyter-widgets/controls",
            "layout": "IPY_MODEL_8844e753a14c41fea80934fc2fe5702c"
          }
        },
        "116021f2719741be867f575301a6123f": {
          "model_module": "@jupyter-widgets/controls",
          "model_name": "ProgressStyleModel",
          "model_module_version": "1.5.0",
          "state": {
            "_view_name": "StyleView",
            "_model_name": "ProgressStyleModel",
            "description_width": "initial",
            "_view_module": "@jupyter-widgets/base",
            "_model_module_version": "1.5.0",
            "_view_count": null,
            "_view_module_version": "1.2.0",
            "bar_color": null,
            "_model_module": "@jupyter-widgets/controls"
          }
        },
        "3e1a98c1f94848f8aeb6dcda33bbf6fb": {
          "model_module": "@jupyter-widgets/base",
          "model_name": "LayoutModel",
          "model_module_version": "1.2.0",
          "state": {
            "_view_name": "LayoutView",
            "grid_template_rows": null,
            "right": null,
            "justify_content": null,
            "_view_module": "@jupyter-widgets/base",
            "overflow": null,
            "_model_module_version": "1.2.0",
            "_view_count": null,
            "flex_flow": null,
            "width": null,
            "min_width": null,
            "border": null,
            "align_items": null,
            "bottom": null,
            "_model_module": "@jupyter-widgets/base",
            "top": null,
            "grid_column": null,
            "overflow_y": null,
            "overflow_x": null,
            "grid_auto_flow": null,
            "grid_area": null,
            "grid_template_columns": null,
            "flex": null,
            "_model_name": "LayoutModel",
            "justify_items": null,
            "grid_row": null,
            "max_height": null,
            "align_content": null,
            "visibility": null,
            "align_self": null,
            "height": null,
            "min_height": null,
            "padding": null,
            "grid_auto_rows": null,
            "grid_gap": null,
            "max_width": null,
            "order": null,
            "_view_module_version": "1.2.0",
            "grid_template_areas": null,
            "object_position": null,
            "object_fit": null,
            "grid_auto_columns": null,
            "margin": null,
            "display": null,
            "left": null
          }
        },
        "e065b4a8c1d14f0eac9dd93d85999382": {
          "model_module": "@jupyter-widgets/controls",
          "model_name": "DescriptionStyleModel",
          "model_module_version": "1.5.0",
          "state": {
            "_view_name": "StyleView",
            "_model_name": "DescriptionStyleModel",
            "description_width": "",
            "_view_module": "@jupyter-widgets/base",
            "_model_module_version": "1.5.0",
            "_view_count": null,
            "_view_module_version": "1.2.0",
            "_model_module": "@jupyter-widgets/controls"
          }
        },
        "8844e753a14c41fea80934fc2fe5702c": {
          "model_module": "@jupyter-widgets/base",
          "model_name": "LayoutModel",
          "model_module_version": "1.2.0",
          "state": {
            "_view_name": "LayoutView",
            "grid_template_rows": null,
            "right": null,
            "justify_content": null,
            "_view_module": "@jupyter-widgets/base",
            "overflow": null,
            "_model_module_version": "1.2.0",
            "_view_count": null,
            "flex_flow": null,
            "width": null,
            "min_width": null,
            "border": null,
            "align_items": null,
            "bottom": null,
            "_model_module": "@jupyter-widgets/base",
            "top": null,
            "grid_column": null,
            "overflow_y": null,
            "overflow_x": null,
            "grid_auto_flow": null,
            "grid_area": null,
            "grid_template_columns": null,
            "flex": null,
            "_model_name": "LayoutModel",
            "justify_items": null,
            "grid_row": null,
            "max_height": null,
            "align_content": null,
            "visibility": null,
            "align_self": null,
            "height": null,
            "min_height": null,
            "padding": null,
            "grid_auto_rows": null,
            "grid_gap": null,
            "max_width": null,
            "order": null,
            "_view_module_version": "1.2.0",
            "grid_template_areas": null,
            "object_position": null,
            "object_fit": null,
            "grid_auto_columns": null,
            "margin": null,
            "display": null,
            "left": null
          }
        }
      }
    }
  },
  "cells": [
    {
      "cell_type": "markdown",
      "metadata": {
        "id": "SJchP6G05Cge"
      },
      "source": [
        "# PyTorch\n",
        "- facebook이 만든 python을 위한 오픈소스 머신러닝 라이브러리\n",
        "- GPU사용이 가능하기 때문에 속도가 빠릅니다.\n",
        "- TensorFlow가 먼저 나와서 현재까지 TensorFlow의 사용자가 더 많지만 비직관적인 구조와 높은 난이도로 인해 최근에는 PyTorch사용자가 늘어나고 있습니다\n",
        "- TensorFlow가 비직관적인 구조 문제를 해결하기 위해서 2.0에서 Keras를 받아들입니다\n",
        "- Microsoft의 프레임워크가 모델 전환이 가능합니다\n",
        "\n",
        "## 1. PyTorch 설치\n",
        "- pip3 install torch torchvision\n",
        "또는 \n",
        "- conda install pytorch torchvision -c pytorch\n",
        "\n",
        "## 2. GPU사용하려면?\n",
        "- CUDA설치\n",
        "https://developer.nvidia.com/cuda-toolkit-archive\n",
        "- cuDNN 설치 : CUDA와 반드시 함께 설치해야 합니다."
      ]
    },
    {
      "cell_type": "code",
      "metadata": {
        "colab": {
          "base_uri": "https://localhost:8080/"
        },
        "id": "4kqSpGlY5Cgm",
        "outputId": "c54c307a-7bfa-4782-f2f0-de2ed5e5d816"
      },
      "source": [
        "import torch\n",
        "x = torch.rand(5,3)\n",
        "print(x)"
      ],
      "execution_count": null,
      "outputs": [
        {
          "output_type": "stream",
          "text": [
            "tensor([[0.1464, 0.2896, 0.2896],\n",
            "        [0.9665, 0.9377, 0.1421],\n",
            "        [0.8131, 0.2588, 0.2090],\n",
            "        [0.9637, 0.0132, 0.6654],\n",
            "        [0.5492, 0.1162, 0.5590]])\n"
          ],
          "name": "stdout"
        }
      ]
    },
    {
      "cell_type": "markdown",
      "metadata": {
        "id": "aP_YIZUc5Cgx"
      },
      "source": [
        "## 3. Tensor\n",
        "- 데이터를 표현하는 단위입니다\n",
        "\n",
        "### 1) Scalar\n",
        "- 상숫값으로 하나의 값을 표현할 때 1개의 수치로 표현한 것"
      ]
    },
    {
      "cell_type": "code",
      "metadata": {
        "colab": {
          "base_uri": "https://localhost:8080/"
        },
        "id": "TaVzBNCT5Cg1",
        "outputId": "0530cc9f-9e82-49df-dce3-cd55354f329d"
      },
      "source": [
        "# 스칼라는 하나의 값을 의미합니다\n",
        "scalar_data = torch.tensor([1.0])\n",
        "print(scalar_data)"
      ],
      "execution_count": null,
      "outputs": [
        {
          "output_type": "stream",
          "text": [
            "tensor([1.])\n"
          ],
          "name": "stdout"
        }
      ]
    },
    {
      "cell_type": "markdown",
      "metadata": {
        "id": "-ZIlaJp35Cg3"
      },
      "source": [
        "### 2) Vector\n",
        "- 원래의 의미는 데이터의 모임이지만, 프로그래밍 언어에서는 Collection이라는 표현으로 많이 사용됩니다\n",
        "- 1차원으로 모인 데이터의 집합입니다\n",
        "- Vector끼리 연산을 하면 동일한 위치의 데이터끼리 연산을 수행합니다.\n",
        "- torch에서도 numpy의 ndarray에서 사용했던 대다수의 연산을 제공합니다."
      ]
    },
    {
      "cell_type": "code",
      "metadata": {
        "colab": {
          "base_uri": "https://localhost:8080/"
        },
        "id": "dyYuxQZA5Cg4",
        "outputId": "64f40433-028f-4d2f-efcb-7fd10c4aa023"
      },
      "source": [
        "vec1 = torch.tensor([1.0, 2.0])\n",
        "vec2 = torch.tensor([4.0, 5.0])\n",
        "\n",
        "print(vec1 + vec2)\n",
        "\n",
        "# numpy의 거의 모든 연산 함수를 torch가 제공\n",
        "# 행과 열 단위로 계산하므로 연산이 안되어야 맞지만 하나의 vector를 열로 보고 연산을 수행합니다\n",
        "print(torch.dot(vec1, vec2))"
      ],
      "execution_count": null,
      "outputs": [
        {
          "output_type": "stream",
          "text": [
            "tensor([5., 7.])\n",
            "tensor(14.)\n"
          ],
          "name": "stdout"
        }
      ]
    },
    {
      "cell_type": "markdown",
      "metadata": {
        "id": "ecgitFSv5Cg8"
      },
      "source": [
        "- 구조가 다른 두 벡터를 더할 경우 에러 발생"
      ]
    },
    {
      "cell_type": "code",
      "metadata": {
        "colab": {
          "base_uri": "https://localhost:8080/",
          "height": 227
        },
        "id": "0-TSnK585Cg_",
        "outputId": "7a7d72f1-e430-46e9-f171-ba8622360a46"
      },
      "source": [
        "## 구조가 다를 경우 에러가 발생합니다\n",
        "vec1 = torch.tensor([1.0, 2.0])\n",
        "vec2 = torch.tensor([4.0, 5.0, 6.0])\n",
        "\n",
        "print(vec1 + vec2)"
      ],
      "execution_count": null,
      "outputs": [
        {
          "output_type": "error",
          "ename": "RuntimeError",
          "evalue": "ignored",
          "traceback": [
            "\u001b[0;31m---------------------------------------------------------------------------\u001b[0m",
            "\u001b[0;31mRuntimeError\u001b[0m                              Traceback (most recent call last)",
            "\u001b[0;32m<ipython-input-4-0b1d0dd8ea46>\u001b[0m in \u001b[0;36m<module>\u001b[0;34m()\u001b[0m\n\u001b[1;32m      3\u001b[0m \u001b[0mvec2\u001b[0m \u001b[0;34m=\u001b[0m \u001b[0mtorch\u001b[0m\u001b[0;34m.\u001b[0m\u001b[0mtensor\u001b[0m\u001b[0;34m(\u001b[0m\u001b[0;34m[\u001b[0m\u001b[0;36m4.0\u001b[0m\u001b[0;34m,\u001b[0m \u001b[0;36m5.0\u001b[0m\u001b[0;34m,\u001b[0m \u001b[0;36m6.0\u001b[0m\u001b[0;34m]\u001b[0m\u001b[0;34m)\u001b[0m\u001b[0;34m\u001b[0m\u001b[0;34m\u001b[0m\u001b[0m\n\u001b[1;32m      4\u001b[0m \u001b[0;34m\u001b[0m\u001b[0m\n\u001b[0;32m----> 5\u001b[0;31m \u001b[0mprint\u001b[0m\u001b[0;34m(\u001b[0m\u001b[0mvec1\u001b[0m \u001b[0;34m+\u001b[0m \u001b[0mvec2\u001b[0m\u001b[0;34m)\u001b[0m\u001b[0;34m\u001b[0m\u001b[0;34m\u001b[0m\u001b[0m\n\u001b[0m",
            "\u001b[0;31mRuntimeError\u001b[0m: The size of tensor a (2) must match the size of tensor b (3) at non-singleton dimension 0"
          ]
        }
      ]
    },
    {
      "cell_type": "markdown",
      "metadata": {
        "id": "r0aTZQf55ChB"
      },
      "source": [
        "### 3) Matrix\n",
        "- Maxric는 행과 열의 구조를 벡터의 모임으로 우리가 보통 테이블이라고 부르는 것은 Matrix입니다\n",
        "- 행렬 곱 연산(내적)을 구하는 메소드로 matmul을 제공합니다."
      ]
    },
    {
      "cell_type": "code",
      "metadata": {
        "colab": {
          "base_uri": "https://localhost:8080/"
        },
        "id": "Z0mZFCyf5ChE",
        "outputId": "7888dc4f-3248-4464-e53d-e6f50fc2eb70"
      },
      "source": [
        "matrix1 = torch.tensor([[1, 2],\n",
        "                        [3, 4]])\n",
        "matrix2 = torch.tensor([[5, 6],\n",
        "                        [7, 8]])\n",
        "print(torch.matmul(matrix1, matrix2))"
      ],
      "execution_count": null,
      "outputs": [
        {
          "output_type": "stream",
          "text": [
            "tensor([[19, 22],\n",
            "        [43, 50]])\n"
          ],
          "name": "stdout"
        }
      ]
    },
    {
      "cell_type": "markdown",
      "metadata": {
        "id": "YK1xOYQc5ChH"
      },
      "source": [
        "### 4) Tensor\n",
        "- 통상적으로 Tensor라고 부르는 것은 3차원 이상입니다\n",
        "- Matrix의 배열입니다\n",
        "\n",
        "#### Tensor의 생성방법\n",
        "#### 직접 생성"
      ]
    },
    {
      "cell_type": "code",
      "metadata": {
        "colab": {
          "base_uri": "https://localhost:8080/"
        },
        "id": "oFKuORvF5ChI",
        "outputId": "5fda5d82-46d3-48fe-c178-52d100e744e3"
      },
      "source": [
        "tensor1 = torch.tensor([[[1, 2], [3, 4]], [[5, 6], [7, 8]]])\n",
        "tensor1"
      ],
      "execution_count": null,
      "outputs": [
        {
          "output_type": "execute_result",
          "data": {
            "text/plain": [
              "tensor([[[1, 2],\n",
              "         [3, 4]],\n",
              "\n",
              "        [[5, 6],\n",
              "         [7, 8]]])"
            ]
          },
          "metadata": {
            "tags": []
          },
          "execution_count": 6
        }
      ]
    },
    {
      "cell_type": "markdown",
      "metadata": {
        "id": "tau3W66N5ChM"
      },
      "source": [
        "## 4. GPU사용 가능 여부 확인\n",
        "- torch.cuda.is_available()가 GPU사용이 가능한지 True / False로 반환합니다"
      ]
    },
    {
      "cell_type": "code",
      "metadata": {
        "colab": {
          "base_uri": "https://localhost:8080/"
        },
        "id": "JvZsoNvV5ChN",
        "outputId": "53f1055a-25f7-4109-bda2-aa2146eec34b"
      },
      "source": [
        "import torch\n",
        "if torch.cuda.is_available() :\n",
        "    DEVICE = torch.device('cuda')\n",
        "else :\n",
        "    DEVICE = torch.device('cpu')\n",
        "print('torch version : ', torch.__version__)\n",
        "print('DEVICE : ', DEVICE)"
      ],
      "execution_count": null,
      "outputs": [
        {
          "output_type": "stream",
          "text": [
            "torch version :  1.9.0+cu102\n",
            "DEVICE :  cuda\n"
          ],
          "name": "stdout"
        }
      ]
    },
    {
      "cell_type": "markdown",
      "metadata": {
        "id": "ZgBy7jwM5ChQ"
      },
      "source": [
        "## 5. Autograd\n",
        "- PyTorch의 자동 미분 엔진\n",
        "- 신경망이 역전파(Back Propagation)를 사용하기 때문에 파라미터를 업데이트하는 방법을 구현하기 위한 엔진입니다."
      ]
    },
    {
      "cell_type": "markdown",
      "metadata": {
        "id": "BqwhyOHn5Chb"
      },
      "source": [
        "### 4가지의 값\n",
        "#### BATCH_SIZE\n",
        "- 딥 러닝 모델에서 파라미터를 업데이트할 때 계산되는 데이터의 개수\n",
        "#### INPUT_SIZE\n",
        "#### HIDDEN_SIZE\n",
        "- 운둔 층\n",
        "#### OUPUT_SIZE\n",
        "- 최종으로 출력되는 값을 벡터의 크기라고 말합니다.\n",
        "- 예를 들어 MINIST의 output은 숫자0-9까지의 10가지 모양인데 실제로는 각 클래스(숫자 0~9까지)에 해당하는 확률을 리턴하기 때문에 10차원으로 출력해야 합니다.\n",
        "(회귀는 하나의 값을 받지만 , 분류는 0이나 1이될 확률을 받습니다.)\n",
        "- 원 핫 인코딩한 결과라고 생각해야 합니다.\n",
        "\n",
        "\n",
        "\n",
        "```\n",
        "# nput size가 (64, 1000) 인 데이터를 (1000, 100) 크기의 행렬과 행렬 곱을 계산하기 위한 수입니다\n",
        "BATCH_SIZE = 64\n",
        "INPUT_SIZE = 1000\n",
        "HIDDEN_SIZE = 100\n",
        "OUTPUT_SIZE = 10\n",
        "```"
      ]
    },
    {
      "cell_type": "markdown",
      "metadata": {
        "id": "PZCg37b55Chn"
      },
      "source": [
        "## MLP(Multi Layer Perceptron)\n",
        "- 퍼셉트론의 한계를 극복하기 위해 중간에 Hidden Layer를 추가하여 여러 Layer를 쌓아올린 모델입니다.\n",
        "- 여러 개의 Layer를 이용해서 비선형 문제를 해결하는데 Lauer가 추가되면 깊이기 깊어져 Deep Learning이라고 부릅니다.\n",
        "\n",
        "\n",
        "### 사람의 손글씨를 분류하기 위한 MLP설계\n",
        "- MNIST의 Target종류가 10가지\n",
        "\n",
        "- [1. 필요한 모듈 임포트](#1.-모듈-import)\n",
        "- [2. 장비 확인](#2.장비-설정)\n",
        "- [3. 데이터 다운로드 및 분할](#3.데이터-가져오기)\n",
        "- [4. 데이터 확인](#4.데이터-확인)\n",
        "- [5. MLP 모델 설계](#5.-MLP-모델-설계)\n",
        "- [6. Optimizer, Objectiver Function 설정](#6.-모델-객체-생성-및-Optimizer와-Loss함수-생성)\n",
        "- [7. 학습을 진행하면서 모델 성능을 확인하는 함수 정의](#7.-훈련-도중-학습을-진행하면서-모델-성능을-확인하는-함수-정의)\n",
        "- [8. 학습을 진행하면서 검증 데이터에 대한 모델의 성능을 확인하는 함수 정의](#8.-훈련-도중-학습을-진행하면서-검증-데이터에-대한-모델의-성능을-확인하는-함수-정의)\n",
        "- [9. 학습을 수행하면서 Train, Test 데이터의 Loss 및 Accuracy 확인](#9.-학습을-수행하면서-Train,-Test-데이터의-Loss-및-Accuracy-확인)\n",
        "\n",
        "#### 1. 모듈-import"
      ]
    },
    {
      "cell_type": "code",
      "metadata": {
        "id": "rE0WBP8y5Cho"
      },
      "source": [
        "import numpy as np\n",
        "import matplotlib.pyplot as plt \n",
        "\n",
        "### pytorch 기본 모듈\n",
        "import torch\n",
        "# 딥러닝 모델을 만들 때 필요한 함수의 모듈\n",
        "import torch.nn as nn\n",
        "# 자주 사용하는 함수 모듈\n",
        "import torch.nn.functional as F\n",
        "\n",
        "# 데이터 관련 모듈\n",
        "from torchvision import transforms, datasets"
      ],
      "execution_count": null,
      "outputs": []
    },
    {
      "cell_type": "markdown",
      "metadata": {
        "id": "N_m8OP-h5Chs"
      },
      "source": [
        "#### 2.장비 설정"
      ]
    },
    {
      "cell_type": "code",
      "metadata": {
        "colab": {
          "base_uri": "https://localhost:8080/"
        },
        "id": "FRjskRNY5Chs",
        "outputId": "a6047502-ae2c-4f1e-f5e1-309902960b41"
      },
      "source": [
        "if torch.cuda.is_available():\n",
        "    DEVICE = torch.device('cuda')\n",
        "else:\n",
        "    DEVICE = torch.device('cpu')\n",
        "print('Device : ', DEVICE)"
      ],
      "execution_count": null,
      "outputs": [
        {
          "output_type": "stream",
          "text": [
            "Device :  cuda\n"
          ],
          "name": "stdout"
        }
      ]
    },
    {
      "cell_type": "markdown",
      "metadata": {
        "id": "QL3EnTii5Chu"
      },
      "source": [
        "#### 3.데이터 가져오기\n",
        "- 데이터를 다운로드 받아서 data 디렉토리에 MNIST라는 디렉토리에 저장하고 가져옴\n",
        "- transform을 설정하면 텐서로 변경하고 0~1사이로 정규화도 해줍니다"
      ]
    },
    {
      "cell_type": "code",
      "metadata": {
        "id": "jptPvijL5Chv",
        "scrolled": true,
        "colab": {
          "base_uri": "https://localhost:8080/",
          "height": 565,
          "referenced_widgets": [
            "7318327d405f4011a8c546af67f52b94",
            "0b59be78447e402196c206b56432d3e9",
            "a62d6052dc2342deae58ddf537eb4eb9",
            "952d3e216d1846a7aa10ac192b3e9e2b",
            "4cf1518878f94166ac04ff1f125c5d38",
            "c84cef8dc560466dae8fb9d554df2ace",
            "a29606e3514d4e7bafa99cbe6b49795b",
            "cb26a1dc12774330b3bc8f0885a04364",
            "13032672a24c4570ba37ff58fcd3b6a6",
            "7e4ee741119243cb9354973c5bd9c2bc",
            "d042677abd5d483fac7dccb00291dfc9",
            "e10cfc46536849799bb13cfea6a1bd84",
            "7dee3d85d5344e9989e383eace12db57",
            "374a9bcdbb374d22a0191a13c428fdc5",
            "42ccce11a4844d0d921267a1e3c6d599",
            "24d695b6c66c494da79564672bd6eebb",
            "dfc378a094af40d2ac6a4e251cec4e13",
            "477cfa8ec0054a50b5faa16c0072f83b",
            "84856fc0a5674dd8be8a34f023ccde93",
            "ccf5a138376a4bbd894f5a5c0c9e5b5d",
            "19a0e16d65ee4f69a737b4593237af2d",
            "15088e9f8adb46728d52d81a5e89265d",
            "64c4ae0654f945e8b72b9223595e402f",
            "d6083048826441c49f120066f0c48fe8",
            "591bca5499f64296913c47e52ddf910a",
            "aceb6a0b96664b00b752752f23d2424e",
            "9406c08326e349e1be81234a9813c84d",
            "6875171f1dea4ed794c207114e29af3d",
            "9cbb2c02c1284756b880cb4cd0098650",
            "64d611ccc45a4e55a747ad318be0d2e2",
            "4174c6305ed14d95a7aaf563a91d28ff",
            "358c0d6c9edb410bb7daf1558d94e9f4"
          ]
        },
        "outputId": "45a7f221-3bb5-480e-e215-76420cb5c91e"
      },
      "source": [
        "# 한 번에 훈련하는 크기\n",
        "BATCH_SIZE = 32\n",
        "# 훈련 횟수\n",
        "EPOCHS = 10\n",
        "\n",
        "train_dataset = datasets.MNIST(root = '../data/MNIST', train=True, download=True,\n",
        "                              transform=transforms.ToTensor())\n",
        "\n",
        "test_dataset = datasets.MNIST(root = '../data/MNIST', train=False,\n",
        "                              transform=transforms.ToTensor())\n",
        "# Pytorch딥러닝에서 사용할 형태로 데이터를 변환\n",
        "train_loader = torch.utils.data.DataLoader(dataset=train_dataset, batch_size=BATCH_SIZE,\n",
        "                                          shuffle=True)\n",
        "test_loader = torch.utils.data.DataLoader(dataset=test_dataset, batch_size=BATCH_SIZE,\n",
        "                                          shuffle=False)"
      ],
      "execution_count": null,
      "outputs": [
        {
          "output_type": "stream",
          "text": [
            "Downloading http://yann.lecun.com/exdb/mnist/train-images-idx3-ubyte.gz\n",
            "Downloading http://yann.lecun.com/exdb/mnist/train-images-idx3-ubyte.gz to ../data/MNIST/MNIST/raw/train-images-idx3-ubyte.gz\n"
          ],
          "name": "stdout"
        },
        {
          "output_type": "display_data",
          "data": {
            "application/vnd.jupyter.widget-view+json": {
              "model_id": "7318327d405f4011a8c546af67f52b94",
              "version_minor": 0,
              "version_major": 2
            },
            "text/plain": [
              "HBox(children=(FloatProgress(value=0.0, max=9912422.0), HTML(value='')))"
            ]
          },
          "metadata": {
            "tags": []
          }
        },
        {
          "output_type": "stream",
          "text": [
            "\n",
            "Extracting ../data/MNIST/MNIST/raw/train-images-idx3-ubyte.gz to ../data/MNIST/MNIST/raw\n",
            "\n",
            "Downloading http://yann.lecun.com/exdb/mnist/train-labels-idx1-ubyte.gz\n",
            "Downloading http://yann.lecun.com/exdb/mnist/train-labels-idx1-ubyte.gz to ../data/MNIST/MNIST/raw/train-labels-idx1-ubyte.gz\n"
          ],
          "name": "stdout"
        },
        {
          "output_type": "display_data",
          "data": {
            "application/vnd.jupyter.widget-view+json": {
              "model_id": "13032672a24c4570ba37ff58fcd3b6a6",
              "version_minor": 0,
              "version_major": 2
            },
            "text/plain": [
              "HBox(children=(FloatProgress(value=0.0, max=28881.0), HTML(value='')))"
            ]
          },
          "metadata": {
            "tags": []
          }
        },
        {
          "output_type": "stream",
          "text": [
            "\n",
            "Extracting ../data/MNIST/MNIST/raw/train-labels-idx1-ubyte.gz to ../data/MNIST/MNIST/raw\n",
            "\n",
            "Downloading http://yann.lecun.com/exdb/mnist/t10k-images-idx3-ubyte.gz\n",
            "Downloading http://yann.lecun.com/exdb/mnist/t10k-images-idx3-ubyte.gz to ../data/MNIST/MNIST/raw/t10k-images-idx3-ubyte.gz\n"
          ],
          "name": "stdout"
        },
        {
          "output_type": "display_data",
          "data": {
            "application/vnd.jupyter.widget-view+json": {
              "model_id": "dfc378a094af40d2ac6a4e251cec4e13",
              "version_minor": 0,
              "version_major": 2
            },
            "text/plain": [
              "HBox(children=(FloatProgress(value=0.0, max=1648877.0), HTML(value='')))"
            ]
          },
          "metadata": {
            "tags": []
          }
        },
        {
          "output_type": "stream",
          "text": [
            "\n",
            "Extracting ../data/MNIST/MNIST/raw/t10k-images-idx3-ubyte.gz to ../data/MNIST/MNIST/raw\n",
            "\n",
            "Downloading http://yann.lecun.com/exdb/mnist/t10k-labels-idx1-ubyte.gz\n",
            "Downloading http://yann.lecun.com/exdb/mnist/t10k-labels-idx1-ubyte.gz to ../data/MNIST/MNIST/raw/t10k-labels-idx1-ubyte.gz\n"
          ],
          "name": "stdout"
        },
        {
          "output_type": "display_data",
          "data": {
            "application/vnd.jupyter.widget-view+json": {
              "model_id": "591bca5499f64296913c47e52ddf910a",
              "version_minor": 0,
              "version_major": 2
            },
            "text/plain": [
              "HBox(children=(FloatProgress(value=0.0, max=4542.0), HTML(value='')))"
            ]
          },
          "metadata": {
            "tags": []
          }
        },
        {
          "output_type": "stream",
          "text": [
            "\n",
            "Extracting ../data/MNIST/MNIST/raw/t10k-labels-idx1-ubyte.gz to ../data/MNIST/MNIST/raw\n",
            "\n"
          ],
          "name": "stdout"
        },
        {
          "output_type": "stream",
          "text": [
            "/usr/local/lib/python3.7/dist-packages/torchvision/datasets/mnist.py:498: UserWarning: The given NumPy array is not writeable, and PyTorch does not support non-writeable tensors. This means you can write to the underlying (supposedly non-writeable) NumPy array using the tensor. You may want to copy the array to protect its data or make it writeable before converting it to a tensor. This type of warning will be suppressed for the rest of this program. (Triggered internally at  /pytorch/torch/csrc/utils/tensor_numpy.cpp:180.)\n",
            "  return torch.from_numpy(parsed.astype(m[2], copy=False)).view(*s)\n"
          ],
          "name": "stderr"
        }
      ]
    },
    {
      "cell_type": "markdown",
      "metadata": {
        "id": "dKO7yQNX5Chw"
      },
      "source": [
        "#### 4.데이터 확인\n",
        "- 훈련데이터는 28 * 28짜리 흑백 이미지이고 32개씩 묶여 있음\n",
        "- 훈련레이블은 32개짜리 스칼라 데이터가 묶여 있습니다"
      ]
    },
    {
      "cell_type": "code",
      "metadata": {
        "colab": {
          "base_uri": "https://localhost:8080/"
        },
        "id": "Xw9KJ92m5Chy",
        "outputId": "5bcf7d6f-0860-414f-b414-829cdf1abbbb"
      },
      "source": [
        "for (X_train, y_train) in train_loader:\n",
        "    print('X_train : ', X_train.size(), ' type : ', X_train.type())\n",
        "    print('y_train : ', y_train.size(), ' type : ', y_train.type())\n",
        "    break\n"
      ],
      "execution_count": null,
      "outputs": [
        {
          "output_type": "stream",
          "text": [
            "X_train :  torch.Size([32, 1, 28, 28])  type :  torch.FloatTensor\n",
            "y_train :  torch.Size([32])  type :  torch.LongTensor\n"
          ],
          "name": "stdout"
        }
      ]
    },
    {
      "cell_type": "markdown",
      "metadata": {
        "id": "E4bfWRGk5Ch0"
      },
      "source": [
        "- 첫번째 이미지 10개 출력"
      ]
    },
    {
      "cell_type": "code",
      "metadata": {
        "colab": {
          "base_uri": "https://localhost:8080/",
          "height": 94
        },
        "id": "oSHuRIrU5Ch1",
        "outputId": "c915bc5a-0a20-4589-9e5d-7845a762e5d2"
      },
      "source": [
        "pltsize = 1\n",
        "plt.figure(figsize = (10 * pltsize, pltsize))\n",
        "for i in range(10):\n",
        "    plt.subplot(1, 10, i + 1)\n",
        "    plt.axis('off')\n",
        "    plt.imshow(X_train[i, :, :, :].numpy().reshape(28, 28), cmap='gray_r')\n",
        "    plt.title('Class : ' + str(y_train[i].item()))"
      ],
      "execution_count": null,
      "outputs": [
        {
          "output_type": "display_data",
          "data": {
            "image/png": "[encoded data removed]",
            "text/plain": [
              "<Figure size 720x72 with 10 Axes>"
            ]
          },
          "metadata": {
            "tags": [],
            "needs_background": "light"
          }
        }
      ]
    },
    {
      "cell_type": "markdown",
      "metadata": {
        "id": "ormsA7v-5Ch3"
      },
      "source": [
        "#### 5. MLP 모델 설계"
      ]
    },
    {
      "cell_type": "code",
      "metadata": {
        "id": "H_eDBJtH5Ch3"
      },
      "source": [
        "class Net(nn.Module):\n",
        "    # 생성자 - 초기화 메소드\n",
        "    # 인스턴스를 만들기 위해서 호출하는 함수\n",
        "    def __init__(self):\n",
        "        # 상위 클래스의 생성자를 호출합니다.\n",
        "        super(Net, self).__init__()\n",
        "        # 인스턴스 변수 초기화 - 층을 쌓음\n",
        "        # 출력층의 설정 값 (입력, 출력)\n",
        "        self.fc1 = nn.Linear(28 * 28, 512) # +입력층\n",
        "        self.fc2 = nn.Linear(512, 256) # 은닉 층\n",
        "        self.fc3 = nn.Linear(256, 10) # 출력 층\n",
        "    \n",
        "    # Forward Propagation(순전파)을 위한 함수\n",
        "    def forward(self, x) : \n",
        "        # 입력 데이터를 만들기 위해 28* 28 의 1차원 데이터로 펼침\n",
        "        x = x.view(-1, 28 * 28)\n",
        "        x = self.fc1(x)\n",
        "        x = F.sigmoid(x)\n",
        "        \n",
        "        x = self.fc2(x)\n",
        "        x = F.sigmoid(x)\n",
        "        \n",
        "        x = self.fc3(x)\n",
        "        # 출력을 결정하기 위해서 softmax함수를 이용\n",
        "        # soft가 아니라  log_softmax를 호출한 이유는 역전파를 할 때\n",
        "        # 로그 값을 이용하면 그래프츼 기울기가 부드럽게 변하기 때문\n",
        "        # 역전화할 때 그라디언트 소실이 발생하므로 log softmax를 이용\n",
        "        x = F.log_softmax(x, dim=1)\n",
        "        return x\n",
        "        "
      ],
      "execution_count": null,
      "outputs": []
    },
    {
      "cell_type": "markdown",
      "metadata": {
        "id": "WmxeDxyW5Ch6"
      },
      "source": [
        "#### 6. 모델 객체 생성 및 Optimizer와 Loss함수 생성\n",
        "- mometum(관성) : 일종의 가속도\n",
        "- lr : 학습률"
      ]
    },
    {
      "cell_type": "code",
      "metadata": {
        "colab": {
          "base_uri": "https://localhost:8080/"
        },
        "id": "K0-LXwe85Ch7",
        "outputId": "8fd9309c-b836-457e-a033-be493f36b9aa"
      },
      "source": [
        "# 모델 객체 생성\n",
        "# DEVICE 장비를 이용해 MLP 모델을 완성하기 위해서\n",
        "model = Net().to(DEVICE) \n",
        "\n",
        "# 파라미터를 업데이트할 때 반영될 Learning Rate를 0.01, Optimizer의 관성을 나타내는 momentum을 0.5로 설정 \n",
        "optimizer = torch.optim.SGD(model.parameters(), lr=0.01, momentum=0.5)\n",
        "# Optimizer\n",
        "criterion = nn.CrossEntropyLoss() # 손실 함수\n",
        "print(model)"
      ],
      "execution_count": null,
      "outputs": [
        {
          "output_type": "stream",
          "text": [
            "Net(\n",
            "  (fc1): Linear(in_features=784, out_features=512, bias=True)\n",
            "  (fc2): Linear(in_features=512, out_features=256, bias=True)\n",
            "  (fc3): Linear(in_features=256, out_features=10, bias=True)\n",
            ")\n"
          ],
          "name": "stdout"
        }
      ]
    },
    {
      "cell_type": "markdown",
      "metadata": {
        "id": "tCNDVE3w5Ch8"
      },
      "source": [
        "#### 7. 훈련 도중 학습을 진행하면서 모델 성능을 확인하는 함수 정의"
      ]
    },
    {
      "cell_type": "code",
      "metadata": {
        "id": "OnvVBpFC5Ch9"
      },
      "source": [
        "def train(model, train_loader, optimizer, log_interval):\n",
        "    # 모델 훈련 시작\n",
        "    model.train() \n",
        "    # train_loader 에는 학습에 이용되는 이미지 데이터와 레이블 데이터가 Mini Batch 단위로 묶여 저장되어 있음\n",
        "    # 훈련 데이터의 배치 번호와 이미지 및 레이블을 순회\n",
        "    for batch_idx, (image, label) in enumerate(train_loader):\n",
        "        # image와 label을 DEVICE에 할당\n",
        "        image = image.to(DEVICE)\n",
        "        label = label.to(DEVICE)\n",
        "\n",
        "        # 기존에 정의한 장비에 이미지 데이터와 레이블 데이터를 할당할 경우\n",
        "        # 과거에 이용한 Mini- Batch 내에 있는 이미지 데이터와 레이블 데이터를 \n",
        "        # 바탕으로 계산된 Loss의 Gradient 값이 optimizer에 할당돼 있으므로 \n",
        "        # optimizer의 Gradient를 초기화\n",
        "        optimizer.zero_grad()\n",
        "        # image를 가지고 예측\n",
        "        output = model(image)\n",
        "        # 손실 계산\n",
        "        loss = criterion(output, label)\n",
        "        # 손실 역전파\n",
        "        loss.backward()\n",
        "        # 파라미터 값(weight)을 업데이트\n",
        "        ## weight를 업데이트 하고 사용한 optimizer는 None으로 초기화 하는 것!\n",
        "        ## loss가 적을 때의 weight만 업데이트하고 \n",
        "        optimizer.step()\n",
        "#         print(optimizer)\n",
        "        \n",
        "        # 출력\n",
        "        if batch_idx % log_interval == 0:\n",
        "            print('Train Epoch:{}[{}/{} {:.0f}%]\\tTrain Loss:{:.6f}'.\n",
        "                  format(epoch, batch_idx*len(image), len(train_loader.dataset), 100*batch_idx/len(train_loader), loss.item()))"
      ],
      "execution_count": null,
      "outputs": []
    },
    {
      "cell_type": "markdown",
      "metadata": {
        "id": "14yb_jVG5Ch_"
      },
      "source": [
        "### 8. 훈련 도중 학습을 진행하면서 검증 데이터에 대한 모델의 성능을 확인하는 함수 정의"
      ]
    },
    {
      "cell_type": "code",
      "metadata": {
        "id": "cVMiqklG5CiC"
      },
      "source": [
        "def evaluate(model, test_loader):\n",
        "    # 모델 훈련 시작\n",
        "    model.eval()\n",
        "    \n",
        "    # loss를 누적할 변수\n",
        "    total_loss = 0\n",
        "    # 정확한 데이터의 개수를 세기 위한 변수\n",
        "    correct = 0\n",
        "    with torch.no_grad():\n",
        "        for image, label in test_loader:\n",
        "            # image와 label을 DEVICE에 할당\n",
        "            image = image.to(DEVICE)\n",
        "            label = label.to(DEVICE)\n",
        "\n",
        "            # image를 가지고 예측\n",
        "            output = model(image)\n",
        "            \n",
        "            #  손실을 계산\n",
        "            total_loss += criterion(output, label).item()\n",
        "           \n",
        "            # 정답의 개수를 계산\n",
        "            # 확률이 제일 큰것\n",
        "            prediction = output.max(1, keepdim = True)[1]\n",
        "            # 예측과 정답의 개수가 같을 때만 correct 1 증가\n",
        "            correct += prediction.eq(label.view_as(prediction)).sum().item()\n",
        "            \n",
        "    # 손실의 평균 구하기\n",
        "    total_loss /= len(test_loader.dataset)\n",
        "    # 정확도\n",
        "    test_accuracy = 100. * correct / len(test_loader.dataset)\n",
        "\n",
        "    # 평균 손실과 정확도 반환\n",
        "    return total_loss, test_accuracy\n"
      ],
      "execution_count": null,
      "outputs": []
    },
    {
      "cell_type": "markdown",
      "metadata": {
        "id": "7t7SD1T85CiE"
      },
      "source": [
        "#### 9. 학습을 수행하면서 Train, Test 데이터의 Loss 및 Accuracy 확인"
      ]
    },
    {
      "cell_type": "code",
      "metadata": {
        "colab": {
          "base_uri": "https://localhost:8080/"
        },
        "id": "YCi_bFN75CiE",
        "scrolled": true,
        "outputId": "5642273e-997a-4724-f786-bb53f8f55196"
      },
      "source": [
        "for epoch in range(1, EPOCHS + 1):\n",
        "    train(model, train_loader, optimizer, log_interval = 200)\n",
        "    test_loss, test_accuracy = evaluate(model, test_loader)\n",
        "    print(\"\\n[EPOCH: {}], \\tTest Loss: {:.4f}, \\tTest Accuracy: {:.2f} % \\n\".format(\n",
        "        epoch, test_loss, test_accuracy))\n"
      ],
      "execution_count": null,
      "outputs": [
        {
          "output_type": "stream",
          "text": [
            "Train Epoch:1[0/60000 0%]\tTrain Loss:2.356563\n"
          ],
          "name": "stdout"
        },
        {
          "output_type": "stream",
          "text": [
            "/usr/local/lib/python3.7/dist-packages/torch/nn/functional.py:1805: UserWarning: nn.functional.sigmoid is deprecated. Use torch.sigmoid instead.\n",
            "  warnings.warn(\"nn.functional.sigmoid is deprecated. Use torch.sigmoid instead.\")\n"
          ],
          "name": "stderr"
        },
        {
          "output_type": "stream",
          "text": [
            "Train Epoch:1[6400/60000 11%]\tTrain Loss:2.287899\n",
            "Train Epoch:1[12800/60000 21%]\tTrain Loss:2.353886\n",
            "Train Epoch:1[19200/60000 32%]\tTrain Loss:2.347659\n",
            "Train Epoch:1[25600/60000 43%]\tTrain Loss:2.299842\n",
            "Train Epoch:1[32000/60000 53%]\tTrain Loss:2.308368\n",
            "Train Epoch:1[38400/60000 64%]\tTrain Loss:2.274658\n",
            "Train Epoch:1[44800/60000 75%]\tTrain Loss:2.268342\n",
            "Train Epoch:1[51200/60000 85%]\tTrain Loss:2.286700\n",
            "Train Epoch:1[57600/60000 96%]\tTrain Loss:2.213916\n",
            "\n",
            "[EPOCH: 1], \tTest Loss: 0.0700, \tTest Accuracy: 11.57 % \n",
            "\n",
            "Train Epoch:2[0/60000 0%]\tTrain Loss:2.179025\n",
            "Train Epoch:2[6400/60000 11%]\tTrain Loss:2.155056\n",
            "Train Epoch:2[12800/60000 21%]\tTrain Loss:2.195235\n",
            "Train Epoch:2[19200/60000 32%]\tTrain Loss:2.073952\n",
            "Train Epoch:2[25600/60000 43%]\tTrain Loss:2.010473\n",
            "Train Epoch:2[32000/60000 53%]\tTrain Loss:1.908692\n",
            "Train Epoch:2[38400/60000 64%]\tTrain Loss:1.713514\n",
            "Train Epoch:2[44800/60000 75%]\tTrain Loss:1.663683\n",
            "Train Epoch:2[51200/60000 85%]\tTrain Loss:1.376444\n",
            "Train Epoch:2[57600/60000 96%]\tTrain Loss:1.168843\n",
            "\n",
            "[EPOCH: 2], \tTest Loss: 0.0393, \tTest Accuracy: 62.74 % \n",
            "\n",
            "Train Epoch:3[0/60000 0%]\tTrain Loss:1.188033\n",
            "Train Epoch:3[6400/60000 11%]\tTrain Loss:1.074332\n",
            "Train Epoch:3[12800/60000 21%]\tTrain Loss:1.336648\n",
            "Train Epoch:3[19200/60000 32%]\tTrain Loss:0.957408\n",
            "Train Epoch:3[25600/60000 43%]\tTrain Loss:0.821199\n",
            "Train Epoch:3[32000/60000 53%]\tTrain Loss:0.946241\n",
            "Train Epoch:3[38400/60000 64%]\tTrain Loss:0.824719\n",
            "Train Epoch:3[44800/60000 75%]\tTrain Loss:0.756972\n",
            "Train Epoch:3[51200/60000 85%]\tTrain Loss:0.712704\n",
            "Train Epoch:3[57600/60000 96%]\tTrain Loss:0.583083\n",
            "\n",
            "[EPOCH: 3], \tTest Loss: 0.0235, \tTest Accuracy: 77.56 % \n",
            "\n",
            "Train Epoch:4[0/60000 0%]\tTrain Loss:0.823233\n",
            "Train Epoch:4[6400/60000 11%]\tTrain Loss:0.537131\n",
            "Train Epoch:4[12800/60000 21%]\tTrain Loss:0.650873\n",
            "Train Epoch:4[19200/60000 32%]\tTrain Loss:0.635087\n",
            "Train Epoch:4[25600/60000 43%]\tTrain Loss:0.867866\n",
            "Train Epoch:4[32000/60000 53%]\tTrain Loss:0.570972\n",
            "Train Epoch:4[38400/60000 64%]\tTrain Loss:0.615706\n",
            "Train Epoch:4[44800/60000 75%]\tTrain Loss:0.777761\n",
            "Train Epoch:4[51200/60000 85%]\tTrain Loss:0.567803\n",
            "Train Epoch:4[57600/60000 96%]\tTrain Loss:0.533314\n",
            "\n",
            "[EPOCH: 4], \tTest Loss: 0.0176, \tTest Accuracy: 83.10 % \n",
            "\n",
            "Train Epoch:5[0/60000 0%]\tTrain Loss:0.539905\n",
            "Train Epoch:5[6400/60000 11%]\tTrain Loss:0.380679\n",
            "Train Epoch:5[12800/60000 21%]\tTrain Loss:0.510503\n",
            "Train Epoch:5[19200/60000 32%]\tTrain Loss:0.415573\n",
            "Train Epoch:5[25600/60000 43%]\tTrain Loss:0.435882\n",
            "Train Epoch:5[32000/60000 53%]\tTrain Loss:0.509806\n",
            "Train Epoch:5[38400/60000 64%]\tTrain Loss:0.454679\n",
            "Train Epoch:5[44800/60000 75%]\tTrain Loss:0.572073\n",
            "Train Epoch:5[51200/60000 85%]\tTrain Loss:0.730959\n",
            "Train Epoch:5[57600/60000 96%]\tTrain Loss:0.451743\n",
            "\n",
            "[EPOCH: 5], \tTest Loss: 0.0147, \tTest Accuracy: 86.43 % \n",
            "\n",
            "Train Epoch:6[0/60000 0%]\tTrain Loss:0.420635\n",
            "Train Epoch:6[6400/60000 11%]\tTrain Loss:0.447042\n",
            "Train Epoch:6[12800/60000 21%]\tTrain Loss:0.496558\n",
            "Train Epoch:6[19200/60000 32%]\tTrain Loss:0.512399\n",
            "Train Epoch:6[25600/60000 43%]\tTrain Loss:0.540058\n",
            "Train Epoch:6[32000/60000 53%]\tTrain Loss:0.339701\n",
            "Train Epoch:6[38400/60000 64%]\tTrain Loss:0.238904\n",
            "Train Epoch:6[44800/60000 75%]\tTrain Loss:0.472907\n",
            "Train Epoch:6[51200/60000 85%]\tTrain Loss:0.505369\n",
            "Train Epoch:6[57600/60000 96%]\tTrain Loss:0.322159\n",
            "\n",
            "[EPOCH: 6], \tTest Loss: 0.0129, \tTest Accuracy: 88.06 % \n",
            "\n",
            "Train Epoch:7[0/60000 0%]\tTrain Loss:0.475117\n",
            "Train Epoch:7[6400/60000 11%]\tTrain Loss:0.311738\n",
            "Train Epoch:7[12800/60000 21%]\tTrain Loss:0.274057\n",
            "Train Epoch:7[19200/60000 32%]\tTrain Loss:0.446276\n",
            "Train Epoch:7[25600/60000 43%]\tTrain Loss:0.486772\n",
            "Train Epoch:7[32000/60000 53%]\tTrain Loss:0.414085\n",
            "Train Epoch:7[38400/60000 64%]\tTrain Loss:0.457636\n",
            "Train Epoch:7[44800/60000 75%]\tTrain Loss:0.282266\n",
            "Train Epoch:7[51200/60000 85%]\tTrain Loss:0.473810\n",
            "Train Epoch:7[57600/60000 96%]\tTrain Loss:0.264927\n",
            "\n",
            "[EPOCH: 7], \tTest Loss: 0.0121, \tTest Accuracy: 88.65 % \n",
            "\n",
            "Train Epoch:8[0/60000 0%]\tTrain Loss:0.331404\n",
            "Train Epoch:8[6400/60000 11%]\tTrain Loss:0.297939\n",
            "Train Epoch:8[12800/60000 21%]\tTrain Loss:0.537841\n",
            "Train Epoch:8[19200/60000 32%]\tTrain Loss:0.181666\n",
            "Train Epoch:8[25600/60000 43%]\tTrain Loss:0.157611\n",
            "Train Epoch:8[32000/60000 53%]\tTrain Loss:0.423838\n",
            "Train Epoch:8[38400/60000 64%]\tTrain Loss:0.465870\n",
            "Train Epoch:8[44800/60000 75%]\tTrain Loss:0.487202\n",
            "Train Epoch:8[51200/60000 85%]\tTrain Loss:0.241434\n",
            "Train Epoch:8[57600/60000 96%]\tTrain Loss:0.369283\n",
            "\n",
            "[EPOCH: 8], \tTest Loss: 0.0113, \tTest Accuracy: 89.61 % \n",
            "\n",
            "Train Epoch:9[0/60000 0%]\tTrain Loss:0.451885\n",
            "Train Epoch:9[6400/60000 11%]\tTrain Loss:0.432096\n",
            "Train Epoch:9[12800/60000 21%]\tTrain Loss:0.371125\n",
            "Train Epoch:9[19200/60000 32%]\tTrain Loss:0.323825\n",
            "Train Epoch:9[25600/60000 43%]\tTrain Loss:0.276385\n",
            "Train Epoch:9[32000/60000 53%]\tTrain Loss:0.294979\n",
            "Train Epoch:9[38400/60000 64%]\tTrain Loss:0.373817\n",
            "Train Epoch:9[44800/60000 75%]\tTrain Loss:0.371390\n",
            "Train Epoch:9[51200/60000 85%]\tTrain Loss:0.187586\n",
            "Train Epoch:9[57600/60000 96%]\tTrain Loss:0.672587\n",
            "\n",
            "[EPOCH: 9], \tTest Loss: 0.0109, \tTest Accuracy: 89.98 % \n",
            "\n",
            "Train Epoch:10[0/60000 0%]\tTrain Loss:0.565328\n",
            "Train Epoch:10[6400/60000 11%]\tTrain Loss:0.292467\n",
            "Train Epoch:10[12800/60000 21%]\tTrain Loss:0.078309\n",
            "Train Epoch:10[19200/60000 32%]\tTrain Loss:0.522529\n",
            "Train Epoch:10[25600/60000 43%]\tTrain Loss:0.323569\n",
            "Train Epoch:10[32000/60000 53%]\tTrain Loss:0.460223\n",
            "Train Epoch:10[38400/60000 64%]\tTrain Loss:0.261101\n",
            "Train Epoch:10[44800/60000 75%]\tTrain Loss:0.387322\n",
            "Train Epoch:10[51200/60000 85%]\tTrain Loss:0.475317\n",
            "Train Epoch:10[57600/60000 96%]\tTrain Loss:0.287232\n",
            "\n",
            "[EPOCH: 10], \tTest Loss: 0.0105, \tTest Accuracy: 90.32 % \n",
            "\n"
          ],
          "name": "stdout"
        }
      ]
    },
    {
      "cell_type": "markdown",
      "metadata": {
        "id": "bUIzPsmO5CiN"
      },
      "source": [
        "## Dropout\n",
        "- 과적합과 경사 소실에 대한 문제 해결을 위한 알고리즘\n",
        "- Dropout은 신경망의 학습 과정 중 Layer의 노드를 랜덤하게 Drop함으로써 Generalization효과를 가져오게 하는 테크닉 입니다.\n",
        "- 실제 삭제하는 개념이 아니고 행렬에 0을 대입해서 연산을 수행하는 것입니다\n",
        "- 대다수의 머신러닝 알고리즘은 Input Data, Weight, Hidden Layer모두 행렬을 가지고 연산을 수행합니다.\n",
        "- 기본적으로 신경망을 디자인할 때 많이 사용하고 있는 테크닉입니다.\n",
        "- Dropout을 적용하면 Test시 정확도가 일반적으로 높아집니다.\n",
        "- epoch를 높게 설정해야 합니다.\n",
        "\n",
        "### Dropout를 적용한 신경망 모델 설계"
      ]
    },
    {
      "cell_type": "code",
      "metadata": {
        "id": "7yOoNH7m5CiO"
      },
      "source": [
        "class Net(nn.Module):\n",
        "    # 생성자 - 초기화 메소드\n",
        "    # 인스턴스를 만들기 위해서 호출하는 함수\n",
        "    def __init__(self):\n",
        "        # 상위 클래스의 생성자를 호출합니다.\n",
        "        super(Net, self).__init__()\n",
        "        # 인스턴스 변수 초기화 - 층을 쌓음\n",
        "        # 출력층의 설정 값 (입력, 출력)\n",
        "        self.fc1 = nn.Linear(28 * 28, 512) # +입력층\n",
        "        self.fc2 = nn.Linear(512, 256) # 은닉 층\n",
        "        self.fc3 = nn.Linear(256, 10) # 출력 층\n",
        "        # dropout설정 추가\n",
        "        self.dropout_prob = 0.5\n",
        "    \n",
        "    # Forward Propagation(순전파)을 위한 함수\n",
        "    def forward(self, x) : \n",
        "        # 입력 데이터를 만들기 위해 28* 28 의 1차원 데이터로 펼침\n",
        "        x = x.view(-1, 28 * 28)\n",
        "        x = self.fc1(x)\n",
        "        x = F.sigmoid(x)\n",
        "        \n",
        "        # dropout을 적용\n",
        "        # 각 sigmoid( ) 함수의 결괏값에 대해 Dropout을 적용하는 부분\n",
        "        x = F.dropout(x, training = self.training, p = self.dropout_prob)\n",
        "        \n",
        "        x = self.fc2(x)\n",
        "        x = F.sigmoid(x)\n",
        "        x = F.dropout(x, training = self.training, p = self.dropout_prob) # 출력층에 대해선 Dropout을 적용하지 않습니다.\n",
        "        \n",
        "        x = self.fc3(x)\n",
        "        # 출력을 결정하기 위해서 softmax함수를 이용\n",
        "        # soft가 아니라  log_softmax를 호출한 이유는 역전파를 할 때\n",
        "        # 로그 값을 이용하면 그래프츼 기울기가 부드럽게 변하기 때문\n",
        "        # 역전화할 때 그라디언트 소실이 발생하므로 log softmax를 이용\n",
        "        x = F.log_softmax(x, dim=1)\n",
        "        return x"
      ],
      "execution_count": null,
      "outputs": []
    },
    {
      "cell_type": "markdown",
      "metadata": {
        "id": "SnWeNP195CiQ"
      },
      "source": [
        "### 모델 훈련\n",
        "- dropout을 안한 것이 dropout한 것보다 정확도가 높게 나왔는데 epoch가 지금 10으로 설정되어 있는데 더 늘리면 정확도가 올라갈 것입니다."
      ]
    },
    {
      "cell_type": "code",
      "metadata": {
        "id": "-3RVYq495CiQ",
        "scrolled": true,
        "colab": {
          "base_uri": "https://localhost:8080/"
        },
        "outputId": "85d03975-7ce8-407a-f5a0-e2590734a051"
      },
      "source": [
        "# 모델 객체 생성\n",
        "# DEVICE 장비를 이용해 MLP 모델을 완성하기 위해서\n",
        "model = Net().to(DEVICE) \n",
        "\n",
        "# 파라미터를 업데이트할 때 반영될 Learning Rate를 0.01, Optimizer의 관성을 나타내는 momentum을 0.5로 설정 \n",
        "optimizer = torch.optim.SGD(model.parameters(), lr=0.01, momentum=0.5)\n",
        "# Optimizer\n",
        "criterion = nn.CrossEntropyLoss() # 손실 함수\n",
        "\n",
        "for epoch in range(1, EPOCHS + 1):\n",
        "    train(model, train_loader, optimizer, log_interval = 200)\n",
        "    test_loss, test_accuracy = evaluate(model, test_loader)\n",
        "    print(\"\\n[EPOCH: {}], \\tTest Loss: {:.4f}, \\tTest Accuracy: {:.2f} % \\n\".format(\n",
        "        epoch, test_loss, test_accuracy))"
      ],
      "execution_count": null,
      "outputs": [
        {
          "output_type": "stream",
          "text": [
            "Train Epoch:1[0/60000 0%]\tTrain Loss:2.389960\n"
          ],
          "name": "stdout"
        },
        {
          "output_type": "stream",
          "text": [
            "/usr/local/lib/python3.7/dist-packages/torch/nn/functional.py:1805: UserWarning: nn.functional.sigmoid is deprecated. Use torch.sigmoid instead.\n",
            "  warnings.warn(\"nn.functional.sigmoid is deprecated. Use torch.sigmoid instead.\")\n"
          ],
          "name": "stderr"
        },
        {
          "output_type": "stream",
          "text": [
            "Train Epoch:1[6400/60000 11%]\tTrain Loss:2.361072\n",
            "Train Epoch:1[12800/60000 21%]\tTrain Loss:2.215209\n",
            "Train Epoch:1[19200/60000 32%]\tTrain Loss:2.351646\n",
            "Train Epoch:1[25600/60000 43%]\tTrain Loss:2.393757\n",
            "Train Epoch:1[32000/60000 53%]\tTrain Loss:2.264348\n",
            "Train Epoch:1[38400/60000 64%]\tTrain Loss:2.273967\n",
            "Train Epoch:1[44800/60000 75%]\tTrain Loss:2.353053\n",
            "Train Epoch:1[51200/60000 85%]\tTrain Loss:2.295109\n",
            "Train Epoch:1[57600/60000 96%]\tTrain Loss:2.382057\n",
            "\n",
            "[EPOCH: 1], \tTest Loss: 0.0713, \tTest Accuracy: 11.35 % \n",
            "\n",
            "Train Epoch:2[0/60000 0%]\tTrain Loss:2.287314\n",
            "Train Epoch:2[6400/60000 11%]\tTrain Loss:2.210031\n",
            "Train Epoch:2[12800/60000 21%]\tTrain Loss:2.315013\n",
            "Train Epoch:2[19200/60000 32%]\tTrain Loss:2.277717\n",
            "Train Epoch:2[25600/60000 43%]\tTrain Loss:2.248052\n",
            "Train Epoch:2[32000/60000 53%]\tTrain Loss:2.280923\n",
            "Train Epoch:2[38400/60000 64%]\tTrain Loss:2.226707\n",
            "Train Epoch:2[44800/60000 75%]\tTrain Loss:2.190344\n",
            "Train Epoch:2[51200/60000 85%]\tTrain Loss:2.116979\n",
            "Train Epoch:2[57600/60000 96%]\tTrain Loss:2.043551\n",
            "\n",
            "[EPOCH: 2], \tTest Loss: 0.0630, \tTest Accuracy: 40.68 % \n",
            "\n",
            "Train Epoch:3[0/60000 0%]\tTrain Loss:1.941920\n",
            "Train Epoch:3[6400/60000 11%]\tTrain Loss:1.896131\n",
            "Train Epoch:3[12800/60000 21%]\tTrain Loss:1.888037\n",
            "Train Epoch:3[19200/60000 32%]\tTrain Loss:1.861276\n",
            "Train Epoch:3[25600/60000 43%]\tTrain Loss:1.871451\n",
            "Train Epoch:3[32000/60000 53%]\tTrain Loss:1.842194\n",
            "Train Epoch:3[38400/60000 64%]\tTrain Loss:1.551315\n",
            "Train Epoch:3[44800/60000 75%]\tTrain Loss:1.501376\n",
            "Train Epoch:3[51200/60000 85%]\tTrain Loss:1.455765\n",
            "Train Epoch:3[57600/60000 96%]\tTrain Loss:1.305862\n",
            "\n",
            "[EPOCH: 3], \tTest Loss: 0.0372, \tTest Accuracy: 63.66 % \n",
            "\n",
            "Train Epoch:4[0/60000 0%]\tTrain Loss:1.112694\n",
            "Train Epoch:4[6400/60000 11%]\tTrain Loss:1.182793\n",
            "Train Epoch:4[12800/60000 21%]\tTrain Loss:1.207939\n",
            "Train Epoch:4[19200/60000 32%]\tTrain Loss:1.207723\n",
            "Train Epoch:4[25600/60000 43%]\tTrain Loss:0.930232\n",
            "Train Epoch:4[32000/60000 53%]\tTrain Loss:1.118535\n",
            "Train Epoch:4[38400/60000 64%]\tTrain Loss:0.885101\n",
            "Train Epoch:4[44800/60000 75%]\tTrain Loss:1.282659\n",
            "Train Epoch:4[51200/60000 85%]\tTrain Loss:1.211230\n",
            "Train Epoch:4[57600/60000 96%]\tTrain Loss:0.912019\n",
            "\n",
            "[EPOCH: 4], \tTest Loss: 0.0273, \tTest Accuracy: 71.40 % \n",
            "\n",
            "Train Epoch:5[0/60000 0%]\tTrain Loss:1.124059\n",
            "Train Epoch:5[6400/60000 11%]\tTrain Loss:0.802152\n",
            "Train Epoch:5[12800/60000 21%]\tTrain Loss:1.226909\n",
            "Train Epoch:5[19200/60000 32%]\tTrain Loss:0.992461\n",
            "Train Epoch:5[25600/60000 43%]\tTrain Loss:1.269587\n",
            "Train Epoch:5[32000/60000 53%]\tTrain Loss:0.697802\n",
            "Train Epoch:5[38400/60000 64%]\tTrain Loss:0.687956\n",
            "Train Epoch:5[44800/60000 75%]\tTrain Loss:0.709819\n",
            "Train Epoch:5[51200/60000 85%]\tTrain Loss:1.049728\n",
            "Train Epoch:5[57600/60000 96%]\tTrain Loss:1.060345\n",
            "\n",
            "[EPOCH: 5], \tTest Loss: 0.0233, \tTest Accuracy: 76.21 % \n",
            "\n",
            "Train Epoch:6[0/60000 0%]\tTrain Loss:0.771812\n",
            "Train Epoch:6[6400/60000 11%]\tTrain Loss:0.957230\n",
            "Train Epoch:6[12800/60000 21%]\tTrain Loss:0.729190\n",
            "Train Epoch:6[19200/60000 32%]\tTrain Loss:0.917190\n",
            "Train Epoch:6[25600/60000 43%]\tTrain Loss:0.728571\n",
            "Train Epoch:6[32000/60000 53%]\tTrain Loss:0.626312\n",
            "Train Epoch:6[38400/60000 64%]\tTrain Loss:0.575023\n",
            "Train Epoch:6[44800/60000 75%]\tTrain Loss:1.010026\n",
            "Train Epoch:6[51200/60000 85%]\tTrain Loss:0.828190\n",
            "Train Epoch:6[57600/60000 96%]\tTrain Loss:0.959075\n",
            "\n",
            "[EPOCH: 6], \tTest Loss: 0.0202, \tTest Accuracy: 80.39 % \n",
            "\n",
            "Train Epoch:7[0/60000 0%]\tTrain Loss:0.849010\n",
            "Train Epoch:7[6400/60000 11%]\tTrain Loss:0.639149\n",
            "Train Epoch:7[12800/60000 21%]\tTrain Loss:1.015547\n",
            "Train Epoch:7[19200/60000 32%]\tTrain Loss:0.483473\n",
            "Train Epoch:7[25600/60000 43%]\tTrain Loss:1.008423\n",
            "Train Epoch:7[32000/60000 53%]\tTrain Loss:0.866701\n",
            "Train Epoch:7[38400/60000 64%]\tTrain Loss:0.554960\n",
            "Train Epoch:7[44800/60000 75%]\tTrain Loss:0.836686\n",
            "Train Epoch:7[51200/60000 85%]\tTrain Loss:0.786697\n",
            "Train Epoch:7[57600/60000 96%]\tTrain Loss:0.731242\n",
            "\n",
            "[EPOCH: 7], \tTest Loss: 0.0178, \tTest Accuracy: 83.19 % \n",
            "\n",
            "Train Epoch:8[0/60000 0%]\tTrain Loss:0.899083\n",
            "Train Epoch:8[6400/60000 11%]\tTrain Loss:0.576334\n",
            "Train Epoch:8[12800/60000 21%]\tTrain Loss:0.523869\n",
            "Train Epoch:8[19200/60000 32%]\tTrain Loss:0.526047\n",
            "Train Epoch:8[25600/60000 43%]\tTrain Loss:0.389586\n",
            "Train Epoch:8[32000/60000 53%]\tTrain Loss:0.645447\n",
            "Train Epoch:8[38400/60000 64%]\tTrain Loss:0.623707\n",
            "Train Epoch:8[44800/60000 75%]\tTrain Loss:0.536246\n",
            "Train Epoch:8[51200/60000 85%]\tTrain Loss:0.516455\n",
            "Train Epoch:8[57600/60000 96%]\tTrain Loss:0.583688\n",
            "\n",
            "[EPOCH: 8], \tTest Loss: 0.0158, \tTest Accuracy: 85.13 % \n",
            "\n",
            "Train Epoch:9[0/60000 0%]\tTrain Loss:0.421350\n",
            "Train Epoch:9[6400/60000 11%]\tTrain Loss:0.624942\n",
            "Train Epoch:9[12800/60000 21%]\tTrain Loss:0.492408\n",
            "Train Epoch:9[19200/60000 32%]\tTrain Loss:0.736035\n",
            "Train Epoch:9[25600/60000 43%]\tTrain Loss:0.459492\n",
            "Train Epoch:9[32000/60000 53%]\tTrain Loss:0.695901\n",
            "Train Epoch:9[38400/60000 64%]\tTrain Loss:0.921598\n",
            "Train Epoch:9[44800/60000 75%]\tTrain Loss:0.529975\n",
            "Train Epoch:9[51200/60000 85%]\tTrain Loss:0.631857\n",
            "Train Epoch:9[57600/60000 96%]\tTrain Loss:0.729802\n",
            "\n",
            "[EPOCH: 9], \tTest Loss: 0.0147, \tTest Accuracy: 85.94 % \n",
            "\n",
            "Train Epoch:10[0/60000 0%]\tTrain Loss:0.545955\n",
            "Train Epoch:10[6400/60000 11%]\tTrain Loss:0.708840\n",
            "Train Epoch:10[12800/60000 21%]\tTrain Loss:0.733847\n",
            "Train Epoch:10[19200/60000 32%]\tTrain Loss:0.544218\n",
            "Train Epoch:10[25600/60000 43%]\tTrain Loss:0.353107\n",
            "Train Epoch:10[32000/60000 53%]\tTrain Loss:0.604282\n",
            "Train Epoch:10[38400/60000 64%]\tTrain Loss:0.294760\n",
            "Train Epoch:10[44800/60000 75%]\tTrain Loss:0.511006\n",
            "Train Epoch:10[51200/60000 85%]\tTrain Loss:0.717989\n",
            "Train Epoch:10[57600/60000 96%]\tTrain Loss:0.793442\n",
            "\n",
            "[EPOCH: 10], \tTest Loss: 0.0138, \tTest Accuracy: 86.83 % \n",
            "\n"
          ],
          "name": "stdout"
        }
      ]
    },
    {
      "cell_type": "markdown",
      "metadata": {
        "id": "FjOTcEby5CiT"
      },
      "source": [
        "## 10. Activation(활성화)\n",
        "- Activation(활성화) 함수는 어떤 신호를 입력받아 이를 적절히 처리해 출력해주는 함수를 의미합니다.\n",
        "- MLP에서는 기본적으로 sigmoid를 사용합니다.\n",
        "- Back Propagation과정 중에 시그모이드를 미분한 값을 계속 곱해주면서 Gradient값을 수정합니다.\n",
        "- 계속 미분을 하기 때문에 이전 Layer로 올 수록 0으로 수렴하는 현상이 발생합니다.\n",
        "- 이러한 현상을 Gradient Vanishing(경사 소실)이라고 합니다.\n",
        "- 이렇게 되면 Hidden Layer를 여러 개 깊게 쌓아 사용하는 DNN의 장점이 의미가 없어지게 됩니다.\n",
        "\n",
        "1) ReLU(Rectified Linear Unit)\n",
        "- 시그모이드와 같은 비선형 활성 함수가 지니고 있는 문제점을 어느 정도 해결한 활성 함수\n",
        "- 입력 값이 0이상이면 그 값을 그대로 출려갛고 0이하이면 0으로 출력합니다."
      ]
    },
    {
      "cell_type": "markdown",
      "metadata": {
        "id": "tLJkt6Im5CiU"
      },
      "source": [
        "# sigmoid대신에 ReLU를 적용한 신경망 (+Dropout적용)\n",
        "\n",
        "## 모델 생성"
      ]
    },
    {
      "cell_type": "code",
      "metadata": {
        "id": "yjVp00pH5CiU"
      },
      "source": [
        "class Net(nn.Module):\n",
        "    # 생성자 - 초기화 메소드\n",
        "    # 인스턴스를 만들기 위해서 호출하는 함수\n",
        "    def __init__(self):\n",
        "        # 상위 클래스의 생성자를 호출합니다.\n",
        "        super(Net, self).__init__()\n",
        "        # 인스턴스 변수 초기화 - 층을 쌓음\n",
        "        # 출력층의 설정 값 (입력, 출력)\n",
        "        self.fc1 = nn.Linear(28 * 28, 512) # +입력층\n",
        "        self.fc2 = nn.Linear(512, 256) # 은닉 층\n",
        "        self.fc3 = nn.Linear(256, 10) # 출력 층\n",
        "        # dropout설정 추가\n",
        "        self.dropout_prob = 0.5\n",
        "    \n",
        "    # Forward Propagation(순전파)을 위한 함수\n",
        "    def forward(self, x) : \n",
        "        # 입력 데이터를 만들기 위해 28* 28 의 1차원 데이터로 펼침\n",
        "        x = x.view(-1, 28 * 28)\n",
        "        x = self.fc1(x)\n",
        "#         x = F.sigmoid(x)\n",
        "        x = F.relu(x) # sigmoid 대신에 ReLU적용\n",
        "        \n",
        "        # dropout을 적용\n",
        "        # 각 sigmoid( ) 함수의 결괏값에 대해 Dropout을 적용하는 부분\n",
        "        x = F.dropout(x, training = self.training, p = self.dropout_prob)\n",
        "        \n",
        "        x = self.fc2(x)\n",
        "#         x = F.sigmoid(x)\n",
        "        x = F.relu(x)\n",
        "        x = F.dropout(x, training = self.training, p = self.dropout_prob) # 출력층에 대해선 Dropout을 적용하지 않습니다.\n",
        "        \n",
        "        x = self.fc3(x)\n",
        "        # 출력을 결정하기 위해서 softmax함수를 이용\n",
        "        # soft가 아니라  log_softmax를 호출한 이유는 역전파를 할 때\n",
        "        # 로그 값을 이용하면 그래프츼 기울기가 부드럽게 변하기 때문\n",
        "        # 역전화할 때 그라디언트 소실이 발생하므로 log softmax를 이용\n",
        "        x = F.log_softmax(x, dim=1)\n",
        "        return x"
      ],
      "execution_count": null,
      "outputs": []
    },
    {
      "cell_type": "markdown",
      "metadata": {
        "id": "R3PLVfTv5h1a"
      },
      "source": [
        "# Dropout + Batch Normalization + ReLU"
      ]
    },
    {
      "cell_type": "markdown",
      "metadata": {
        "id": "_lDWmVow5fLU"
      },
      "source": [
        "\n",
        "## 모델 설계\n",
        "- init은 상위클래스의 init을 호출해야합니다."
      ]
    },
    {
      "cell_type": "code",
      "metadata": {
        "id": "olIv4d7O5o0Y"
      },
      "source": [
        "class Net (nn.Module) : \n",
        "    # 다른 객체 지향 언어의 생성자 역할을 수행하는 초기화 메소드\n",
        "    def __init__(self):\n",
        "        super(Net, self).__init__()\n",
        "        # 입력층 생성\n",
        "        self.fc1 = nn.Linear(28*28, 512)\n",
        "        # 은닉층 생성\n",
        "        self.fc2 = nn.Linear(512, 256)\n",
        "        # 출력층 생성\n",
        "        self.fc3 = nn.Linear(256, 10)\n",
        "\n",
        "        # 드롭아웃 비율을 선정\n",
        "        self.dropout_prob = 0.5\n",
        "\n",
        "        # 배치 정규화 층 생성\n",
        "        self.batch_norm1 = nn.BatchNorm1d(512)\n",
        "        self.batch_norm2 = nn.BatchNorm1d(256)\n",
        "\n",
        "    # 순방향 연산을 위한 함수\n",
        "    def forward(self, x):\n",
        "        # 입력 배열 펼치기\n",
        "        x = x.view(-1, 28*28)\n",
        "        # 입력층 생성\n",
        "        x = self.fc1(x)\n",
        "        x = self.batch_norm1(x)\n",
        "        # relu\n",
        "        x = F.relu(x)\n",
        "        # dropout\n",
        "        x = F.dropout(x, training=self.training, p=self.dropout_prob)\n",
        "\n",
        "        # 은닉층 생성\n",
        "        x = self.fc2(x)\n",
        "        x = self.batch_norm2(x)\n",
        "        x = F.relu(x)\n",
        "        x = F.dropout(x, training=self.training, p=self.dropout_prob)\n",
        "\n",
        "        # 출력층 생성\n",
        "        x = self.fc3(x)\n",
        "        x = F.log_softmax(x, dim=1)\n",
        "\n",
        "        return x"
      ],
      "execution_count": null,
      "outputs": []
    },
    {
      "cell_type": "markdown",
      "metadata": {
        "id": "8guVBJbg8elK"
      },
      "source": [
        "### 모델 생성"
      ]
    },
    {
      "cell_type": "code",
      "metadata": {
        "id": "aVpH5tr185zu"
      },
      "source": [
        "model = Net().to(DEVICE)\n",
        "# Optimizer와 Loss 함수 생성\n",
        "optimizer = torch.optim.SGD(model.parameters(), lr=0.01, momentum=0.5)\n",
        "criterion = nn.CrossEntropyLoss()"
      ],
      "execution_count": null,
      "outputs": []
    },
    {
      "cell_type": "markdown",
      "metadata": {
        "id": "Xumz07Rz9oQG"
      },
      "source": [
        "### 모델 훈련"
      ]
    },
    {
      "cell_type": "code",
      "metadata": {
        "colab": {
          "base_uri": "https://localhost:8080/"
        },
        "id": "zUYRVMWE-PiB",
        "outputId": "ef758c83-2c02-4145-88bf-1c70a609ab30"
      },
      "source": [
        "for epoch in range(1, EPOCHS + 1):\n",
        "    train(model, train_loader, optimizer, log_interval=200)\n",
        "    test_loss, test_accuracy = evaluate(model, test_loader)\n",
        "    print('\\n[EPOCH:{}], \\tTest Loss:{:.4f}, \\tTest Accuracy:{:.2f}\\n'.format(epoch, test_loss, test_accuracy))"
      ],
      "execution_count": null,
      "outputs": [
        {
          "output_type": "stream",
          "text": [
            "Train Epoch:1[0/60000 0%]\tTrain Loss:2.432544\n",
            "Train Epoch:1[6400/60000 11%]\tTrain Loss:0.610212\n",
            "Train Epoch:1[12800/60000 21%]\tTrain Loss:0.473675\n",
            "Train Epoch:1[19200/60000 32%]\tTrain Loss:0.665728\n",
            "Train Epoch:1[25600/60000 43%]\tTrain Loss:0.377604\n",
            "Train Epoch:1[32000/60000 53%]\tTrain Loss:0.596077\n",
            "Train Epoch:1[38400/60000 64%]\tTrain Loss:0.106203\n",
            "Train Epoch:1[44800/60000 75%]\tTrain Loss:0.192735\n",
            "Train Epoch:1[51200/60000 85%]\tTrain Loss:0.219187\n",
            "Train Epoch:1[57600/60000 96%]\tTrain Loss:0.102345\n",
            "\n",
            "[EPOCH:1], \tTest Loss:0.0050, \tTest Accuracy:95.22\n",
            "\n",
            "Train Epoch:2[0/60000 0%]\tTrain Loss:0.119467\n",
            "Train Epoch:2[6400/60000 11%]\tTrain Loss:0.996294\n",
            "Train Epoch:2[12800/60000 21%]\tTrain Loss:0.196166\n",
            "Train Epoch:2[19200/60000 32%]\tTrain Loss:0.324685\n",
            "Train Epoch:2[25600/60000 43%]\tTrain Loss:0.284277\n",
            "Train Epoch:2[32000/60000 53%]\tTrain Loss:0.470808\n",
            "Train Epoch:2[38400/60000 64%]\tTrain Loss:0.232345\n",
            "Train Epoch:2[44800/60000 75%]\tTrain Loss:0.236941\n",
            "Train Epoch:2[51200/60000 85%]\tTrain Loss:0.145603\n",
            "Train Epoch:2[57600/60000 96%]\tTrain Loss:0.167614\n",
            "\n",
            "[EPOCH:2], \tTest Loss:0.0037, \tTest Accuracy:96.48\n",
            "\n",
            "Train Epoch:3[0/60000 0%]\tTrain Loss:0.157615\n",
            "Train Epoch:3[6400/60000 11%]\tTrain Loss:0.100194\n",
            "Train Epoch:3[12800/60000 21%]\tTrain Loss:0.345129\n",
            "Train Epoch:3[19200/60000 32%]\tTrain Loss:0.241080\n",
            "Train Epoch:3[25600/60000 43%]\tTrain Loss:0.125410\n",
            "Train Epoch:3[32000/60000 53%]\tTrain Loss:0.273241\n",
            "Train Epoch:3[38400/60000 64%]\tTrain Loss:0.219165\n",
            "Train Epoch:3[44800/60000 75%]\tTrain Loss:0.344189\n",
            "Train Epoch:3[51200/60000 85%]\tTrain Loss:0.359361\n",
            "Train Epoch:3[57600/60000 96%]\tTrain Loss:0.137647\n",
            "\n",
            "[EPOCH:3], \tTest Loss:0.0032, \tTest Accuracy:96.78\n",
            "\n",
            "Train Epoch:4[0/60000 0%]\tTrain Loss:0.591532\n",
            "Train Epoch:4[6400/60000 11%]\tTrain Loss:0.598259\n",
            "Train Epoch:4[12800/60000 21%]\tTrain Loss:0.186138\n",
            "Train Epoch:4[19200/60000 32%]\tTrain Loss:0.343921\n",
            "Train Epoch:4[25600/60000 43%]\tTrain Loss:0.223534\n",
            "Train Epoch:4[32000/60000 53%]\tTrain Loss:0.088193\n",
            "Train Epoch:4[38400/60000 64%]\tTrain Loss:0.132262\n",
            "Train Epoch:4[44800/60000 75%]\tTrain Loss:0.205914\n",
            "Train Epoch:4[51200/60000 85%]\tTrain Loss:0.029247\n",
            "Train Epoch:4[57600/60000 96%]\tTrain Loss:0.277497\n",
            "\n",
            "[EPOCH:4], \tTest Loss:0.0029, \tTest Accuracy:97.31\n",
            "\n",
            "Train Epoch:5[0/60000 0%]\tTrain Loss:0.356562\n",
            "Train Epoch:5[6400/60000 11%]\tTrain Loss:0.108214\n",
            "Train Epoch:5[12800/60000 21%]\tTrain Loss:0.308304\n",
            "Train Epoch:5[19200/60000 32%]\tTrain Loss:0.054434\n",
            "Train Epoch:5[25600/60000 43%]\tTrain Loss:0.163789\n",
            "Train Epoch:5[32000/60000 53%]\tTrain Loss:0.137442\n",
            "Train Epoch:5[38400/60000 64%]\tTrain Loss:0.205506\n",
            "Train Epoch:5[44800/60000 75%]\tTrain Loss:0.074595\n",
            "Train Epoch:5[51200/60000 85%]\tTrain Loss:0.060653\n",
            "Train Epoch:5[57600/60000 96%]\tTrain Loss:0.301344\n",
            "\n",
            "[EPOCH:5], \tTest Loss:0.0026, \tTest Accuracy:97.55\n",
            "\n",
            "Train Epoch:6[0/60000 0%]\tTrain Loss:0.037078\n",
            "Train Epoch:6[6400/60000 11%]\tTrain Loss:0.214016\n",
            "Train Epoch:6[12800/60000 21%]\tTrain Loss:0.032581\n",
            "Train Epoch:6[19200/60000 32%]\tTrain Loss:0.412539\n",
            "Train Epoch:6[25600/60000 43%]\tTrain Loss:0.334304\n",
            "Train Epoch:6[32000/60000 53%]\tTrain Loss:0.150959\n",
            "Train Epoch:6[38400/60000 64%]\tTrain Loss:0.053722\n",
            "Train Epoch:6[44800/60000 75%]\tTrain Loss:0.215507\n",
            "Train Epoch:6[51200/60000 85%]\tTrain Loss:0.125850\n",
            "Train Epoch:6[57600/60000 96%]\tTrain Loss:0.374132\n",
            "\n",
            "[EPOCH:6], \tTest Loss:0.0024, \tTest Accuracy:97.72\n",
            "\n",
            "Train Epoch:7[0/60000 0%]\tTrain Loss:0.307841\n",
            "Train Epoch:7[6400/60000 11%]\tTrain Loss:0.012967\n",
            "Train Epoch:7[12800/60000 21%]\tTrain Loss:0.075701\n",
            "Train Epoch:7[19200/60000 32%]\tTrain Loss:0.157156\n",
            "Train Epoch:7[25600/60000 43%]\tTrain Loss:0.064539\n",
            "Train Epoch:7[32000/60000 53%]\tTrain Loss:0.109522\n",
            "Train Epoch:7[38400/60000 64%]\tTrain Loss:0.085268\n",
            "Train Epoch:7[44800/60000 75%]\tTrain Loss:0.093899\n",
            "Train Epoch:7[51200/60000 85%]\tTrain Loss:0.167362\n",
            "Train Epoch:7[57600/60000 96%]\tTrain Loss:0.570689\n",
            "\n",
            "[EPOCH:7], \tTest Loss:0.0022, \tTest Accuracy:97.82\n",
            "\n",
            "Train Epoch:8[0/60000 0%]\tTrain Loss:0.033697\n",
            "Train Epoch:8[6400/60000 11%]\tTrain Loss:0.175522\n",
            "Train Epoch:8[12800/60000 21%]\tTrain Loss:0.133945\n",
            "Train Epoch:8[19200/60000 32%]\tTrain Loss:0.200650\n",
            "Train Epoch:8[25600/60000 43%]\tTrain Loss:0.141051\n",
            "Train Epoch:8[32000/60000 53%]\tTrain Loss:0.092624\n",
            "Train Epoch:8[38400/60000 64%]\tTrain Loss:0.058980\n",
            "Train Epoch:8[44800/60000 75%]\tTrain Loss:0.161203\n",
            "Train Epoch:8[51200/60000 85%]\tTrain Loss:0.206212\n",
            "Train Epoch:8[57600/60000 96%]\tTrain Loss:0.038378\n",
            "\n",
            "[EPOCH:8], \tTest Loss:0.0022, \tTest Accuracy:97.85\n",
            "\n",
            "Train Epoch:9[0/60000 0%]\tTrain Loss:0.098274\n",
            "Train Epoch:9[6400/60000 11%]\tTrain Loss:0.144440\n",
            "Train Epoch:9[12800/60000 21%]\tTrain Loss:0.129688\n",
            "Train Epoch:9[19200/60000 32%]\tTrain Loss:0.331952\n",
            "Train Epoch:9[25600/60000 43%]\tTrain Loss:0.006011\n",
            "Train Epoch:9[32000/60000 53%]\tTrain Loss:0.017155\n",
            "Train Epoch:9[38400/60000 64%]\tTrain Loss:0.169605\n",
            "Train Epoch:9[44800/60000 75%]\tTrain Loss:0.038717\n",
            "Train Epoch:9[51200/60000 85%]\tTrain Loss:0.107762\n",
            "Train Epoch:9[57600/60000 96%]\tTrain Loss:0.058262\n",
            "\n",
            "[EPOCH:9], \tTest Loss:0.0021, \tTest Accuracy:97.94\n",
            "\n",
            "Train Epoch:10[0/60000 0%]\tTrain Loss:0.115851\n",
            "Train Epoch:10[6400/60000 11%]\tTrain Loss:0.182598\n",
            "Train Epoch:10[12800/60000 21%]\tTrain Loss:0.160723\n",
            "Train Epoch:10[19200/60000 32%]\tTrain Loss:0.030124\n",
            "Train Epoch:10[25600/60000 43%]\tTrain Loss:0.184326\n",
            "Train Epoch:10[32000/60000 53%]\tTrain Loss:0.072927\n",
            "Train Epoch:10[38400/60000 64%]\tTrain Loss:0.159001\n",
            "Train Epoch:10[44800/60000 75%]\tTrain Loss:0.279405\n",
            "Train Epoch:10[51200/60000 85%]\tTrain Loss:0.127514\n",
            "Train Epoch:10[57600/60000 96%]\tTrain Loss:0.095503\n",
            "\n",
            "[EPOCH:10], \tTest Loss:0.0021, \tTest Accuracy:97.99\n",
            "\n"
          ],
          "name": "stdout"
        }
      ]
    },
    {
      "cell_type": "markdown",
      "metadata": {
        "id": "40y-qSn4_U2b"
      },
      "source": [
        "### weight initialization(가중치 초기화)\n",
        "- 신경망은 처음에 weight를 랜덤하게 초기화하고 Loss가 최소화되는 부분을 찾아갑니다.\n",
        "\n",
        "가장 먼저 사용된 LeCun 초기화\n",
        "#### LeCun 초기화\n",
        "- 가우시안 분포에서 분산을 원래의 분산 정도로 보정하는 방식인데 ReLU와 같이 사용할 수 없어서 최근에는 잘 사용하지 않습니다.\n",
        "\n",
        "#### Xavier 초기화\n",
        "- 정규 분포에서 2 / (이전 Layer의 노드수 + 다음 Layer의 노드수)를 한 결과의 제곱근을 이용합니다.\n",
        "- ReLU에서 출력값이 0으로 수렴하게 되는 현상이 발견되어 안쓰게 되었습니다.\n",
        "\n",
        "#### He 초기화\n",
        "- 이전 초기화 방법들이 ReLU에 비효율적이라서 등장한 방식. 노드수만큼 \n",
        "- input개수 절반의 제곱근만큼 나누어주면 됩니다.\n",
        "- Pytorch에서는 ```torch.nn.init.kaiming_uniform_``` 이라는 함수를 이용해서 설정합니다.\n",
        "- 객체를 만들어주는 함수를 만들어서 콜백의 형태로 Model의 apply 에 함수를 설정하면 됩니다. "
      ]
    },
    {
      "cell_type": "markdown",
      "metadata": {
        "id": "iuBH-czfEHeo"
      },
      "source": [
        "### He 초기화"
      ]
    },
    {
      "cell_type": "code",
      "metadata": {
        "colab": {
          "base_uri": "https://localhost:8080/"
        },
        "id": "H_la9wm-EJ9v",
        "outputId": "da3e6ab6-0bce-4849-de0a-dd03cb5435ac"
      },
      "source": [
        "import torch.nn.init as init\n",
        "# He 초기화를 위한 함수 생성\n",
        "def weight_init(m):\n",
        "    if isinstance(m, nn.Linear):\n",
        "        # He 초기화\n",
        "        init.kaiming_uniform_(m.weight.data)\n",
        "\n",
        "# 모델을 생성하고 적용\n",
        "model = Net().to(DEVICE)\n",
        "model.apply(weight_init)\n",
        "\n",
        "# 모델 생성\n",
        "model = Net().to(DEVICE)\n",
        "# Optimizer와 Loss 함수 생성\n",
        "optimizer = torch.optim.SGD(model.parameters(), lr=0.01, momentum=0.5)\n",
        "criterion = nn.CrossEntropyLoss()\n",
        "\n",
        "EPOCHS = 10\n",
        "# 모델 훈련\n",
        "for epoch in range(1, EPOCHS + 1):\n",
        "    train(model, train_loader, optimizer, log_interval=200)\n",
        "    test_loss, test_accuracy = evaluate(model, test_loader)\n",
        "    print('\\n[EPOCH:{}], \\tTest Loss:{:.4f}, \\tTest Accuracy:{:.2f}\\n'.format(epoch, test_loss, test_accuracy))\n"
      ],
      "execution_count": null,
      "outputs": [
        {
          "output_type": "stream",
          "text": [
            "Train Epoch:1[0/60000 0%]\tTrain Loss:2.455976\n",
            "Train Epoch:1[6400/60000 11%]\tTrain Loss:0.623028\n",
            "Train Epoch:1[12800/60000 21%]\tTrain Loss:0.289785\n",
            "Train Epoch:1[19200/60000 32%]\tTrain Loss:0.572076\n",
            "Train Epoch:1[25600/60000 43%]\tTrain Loss:0.258081\n",
            "Train Epoch:1[32000/60000 53%]\tTrain Loss:0.063520\n",
            "Train Epoch:1[38400/60000 64%]\tTrain Loss:0.312828\n",
            "Train Epoch:1[44800/60000 75%]\tTrain Loss:0.304456\n",
            "Train Epoch:1[51200/60000 85%]\tTrain Loss:0.188473\n",
            "Train Epoch:1[57600/60000 96%]\tTrain Loss:0.320275\n",
            "\n",
            "[EPOCH:1], \tTest Loss:0.0049, \tTest Accuracy:95.27\n",
            "\n",
            "Train Epoch:2[0/60000 0%]\tTrain Loss:0.295689\n",
            "Train Epoch:2[6400/60000 11%]\tTrain Loss:0.272941\n",
            "Train Epoch:2[12800/60000 21%]\tTrain Loss:0.235058\n",
            "Train Epoch:2[19200/60000 32%]\tTrain Loss:0.338248\n",
            "Train Epoch:2[25600/60000 43%]\tTrain Loss:0.211068\n",
            "Train Epoch:2[32000/60000 53%]\tTrain Loss:0.175157\n",
            "Train Epoch:2[38400/60000 64%]\tTrain Loss:0.067890\n",
            "Train Epoch:2[44800/60000 75%]\tTrain Loss:0.153294\n",
            "Train Epoch:2[51200/60000 85%]\tTrain Loss:0.251383\n",
            "Train Epoch:2[57600/60000 96%]\tTrain Loss:0.125918\n",
            "\n",
            "[EPOCH:2], \tTest Loss:0.0036, \tTest Accuracy:96.43\n",
            "\n",
            "Train Epoch:3[0/60000 0%]\tTrain Loss:0.225754\n",
            "Train Epoch:3[6400/60000 11%]\tTrain Loss:0.270248\n",
            "Train Epoch:3[12800/60000 21%]\tTrain Loss:0.393635\n",
            "Train Epoch:3[19200/60000 32%]\tTrain Loss:0.286620\n",
            "Train Epoch:3[25600/60000 43%]\tTrain Loss:0.095158\n",
            "Train Epoch:3[32000/60000 53%]\tTrain Loss:0.209874\n",
            "Train Epoch:3[38400/60000 64%]\tTrain Loss:0.309712\n",
            "Train Epoch:3[44800/60000 75%]\tTrain Loss:0.136585\n",
            "Train Epoch:3[51200/60000 85%]\tTrain Loss:0.168377\n",
            "Train Epoch:3[57600/60000 96%]\tTrain Loss:0.216852\n",
            "\n",
            "[EPOCH:3], \tTest Loss:0.0030, \tTest Accuracy:97.06\n",
            "\n",
            "Train Epoch:4[0/60000 0%]\tTrain Loss:0.218886\n",
            "Train Epoch:4[6400/60000 11%]\tTrain Loss:0.268998\n",
            "Train Epoch:4[12800/60000 21%]\tTrain Loss:0.053132\n",
            "Train Epoch:4[19200/60000 32%]\tTrain Loss:0.084165\n",
            "Train Epoch:4[25600/60000 43%]\tTrain Loss:0.221495\n",
            "Train Epoch:4[32000/60000 53%]\tTrain Loss:0.401524\n",
            "Train Epoch:4[38400/60000 64%]\tTrain Loss:0.158942\n",
            "Train Epoch:4[44800/60000 75%]\tTrain Loss:0.056935\n",
            "Train Epoch:4[51200/60000 85%]\tTrain Loss:0.197761\n",
            "Train Epoch:4[57600/60000 96%]\tTrain Loss:0.190340\n",
            "\n",
            "[EPOCH:4], \tTest Loss:0.0028, \tTest Accuracy:97.22\n",
            "\n",
            "Train Epoch:5[0/60000 0%]\tTrain Loss:0.099036\n",
            "Train Epoch:5[6400/60000 11%]\tTrain Loss:0.327388\n",
            "Train Epoch:5[12800/60000 21%]\tTrain Loss:0.111358\n",
            "Train Epoch:5[19200/60000 32%]\tTrain Loss:0.097765\n",
            "Train Epoch:5[25600/60000 43%]\tTrain Loss:0.087342\n",
            "Train Epoch:5[32000/60000 53%]\tTrain Loss:0.076353\n",
            "Train Epoch:5[38400/60000 64%]\tTrain Loss:0.480933\n",
            "Train Epoch:5[44800/60000 75%]\tTrain Loss:0.279310\n",
            "Train Epoch:5[51200/60000 85%]\tTrain Loss:0.111965\n",
            "Train Epoch:5[57600/60000 96%]\tTrain Loss:0.342424\n",
            "\n",
            "[EPOCH:5], \tTest Loss:0.0025, \tTest Accuracy:97.41\n",
            "\n",
            "Train Epoch:6[0/60000 0%]\tTrain Loss:0.040659\n",
            "Train Epoch:6[6400/60000 11%]\tTrain Loss:0.204064\n",
            "Train Epoch:6[12800/60000 21%]\tTrain Loss:0.372202\n",
            "Train Epoch:6[19200/60000 32%]\tTrain Loss:0.197189\n",
            "Train Epoch:6[25600/60000 43%]\tTrain Loss:0.044954\n",
            "Train Epoch:6[32000/60000 53%]\tTrain Loss:0.152642\n",
            "Train Epoch:6[38400/60000 64%]\tTrain Loss:0.047231\n",
            "Train Epoch:6[44800/60000 75%]\tTrain Loss:0.150488\n",
            "Train Epoch:6[51200/60000 85%]\tTrain Loss:0.296051\n",
            "Train Epoch:6[57600/60000 96%]\tTrain Loss:0.121582\n",
            "\n",
            "[EPOCH:6], \tTest Loss:0.0023, \tTest Accuracy:97.65\n",
            "\n",
            "Train Epoch:7[0/60000 0%]\tTrain Loss:0.171281\n",
            "Train Epoch:7[6400/60000 11%]\tTrain Loss:0.388474\n",
            "Train Epoch:7[12800/60000 21%]\tTrain Loss:0.029841\n",
            "Train Epoch:7[19200/60000 32%]\tTrain Loss:0.035915\n",
            "Train Epoch:7[25600/60000 43%]\tTrain Loss:0.097463\n",
            "Train Epoch:7[32000/60000 53%]\tTrain Loss:0.149438\n",
            "Train Epoch:7[38400/60000 64%]\tTrain Loss:0.007408\n",
            "Train Epoch:7[44800/60000 75%]\tTrain Loss:0.119778\n",
            "Train Epoch:7[51200/60000 85%]\tTrain Loss:0.025012\n",
            "Train Epoch:7[57600/60000 96%]\tTrain Loss:0.020278\n",
            "\n",
            "[EPOCH:7], \tTest Loss:0.0022, \tTest Accuracy:97.73\n",
            "\n",
            "Train Epoch:8[0/60000 0%]\tTrain Loss:0.091722\n",
            "Train Epoch:8[6400/60000 11%]\tTrain Loss:0.276986\n",
            "Train Epoch:8[12800/60000 21%]\tTrain Loss:0.100676\n",
            "Train Epoch:8[19200/60000 32%]\tTrain Loss:0.311590\n",
            "Train Epoch:8[25600/60000 43%]\tTrain Loss:0.091567\n",
            "Train Epoch:8[32000/60000 53%]\tTrain Loss:0.104344\n",
            "Train Epoch:8[38400/60000 64%]\tTrain Loss:0.195752\n",
            "Train Epoch:8[44800/60000 75%]\tTrain Loss:0.331324\n",
            "Train Epoch:8[51200/60000 85%]\tTrain Loss:0.177732\n",
            "Train Epoch:8[57600/60000 96%]\tTrain Loss:0.113625\n",
            "\n",
            "[EPOCH:8], \tTest Loss:0.0022, \tTest Accuracy:97.74\n",
            "\n",
            "Train Epoch:9[0/60000 0%]\tTrain Loss:0.080555\n",
            "Train Epoch:9[6400/60000 11%]\tTrain Loss:0.096107\n",
            "Train Epoch:9[12800/60000 21%]\tTrain Loss:0.169618\n",
            "Train Epoch:9[19200/60000 32%]\tTrain Loss:0.702564\n",
            "Train Epoch:9[25600/60000 43%]\tTrain Loss:0.067173\n",
            "Train Epoch:9[32000/60000 53%]\tTrain Loss:0.115516\n",
            "Train Epoch:9[38400/60000 64%]\tTrain Loss:0.060516\n",
            "Train Epoch:9[44800/60000 75%]\tTrain Loss:0.072823\n",
            "Train Epoch:9[51200/60000 85%]\tTrain Loss:0.032607\n",
            "Train Epoch:9[57600/60000 96%]\tTrain Loss:0.087890\n",
            "\n",
            "[EPOCH:9], \tTest Loss:0.0020, \tTest Accuracy:98.03\n",
            "\n",
            "Train Epoch:10[0/60000 0%]\tTrain Loss:0.059340\n",
            "Train Epoch:10[6400/60000 11%]\tTrain Loss:0.122178\n",
            "Train Epoch:10[12800/60000 21%]\tTrain Loss:0.211820\n",
            "Train Epoch:10[19200/60000 32%]\tTrain Loss:0.055486\n",
            "Train Epoch:10[25600/60000 43%]\tTrain Loss:0.059286\n",
            "Train Epoch:10[32000/60000 53%]\tTrain Loss:0.225702\n",
            "Train Epoch:10[38400/60000 64%]\tTrain Loss:0.018428\n",
            "Train Epoch:10[44800/60000 75%]\tTrain Loss:0.037112\n",
            "Train Epoch:10[51200/60000 85%]\tTrain Loss:0.028038\n",
            "Train Epoch:10[57600/60000 96%]\tTrain Loss:0.118157\n",
            "\n",
            "[EPOCH:10], \tTest Loss:0.0020, \tTest Accuracy:97.87\n",
            "\n"
          ],
          "name": "stdout"
        }
      ]
    },
    {
      "cell_type": "markdown",
      "metadata": {
        "id": "nMhFRKIiEqVc"
      },
      "source": [
        "# Optimizer\n",
        "[참고 사이트](https://onevision.tistory.com/entry/Optimizer-%EC%9D%98-%EC%A2%85%EB%A5%98%EC%99%80-%ED%8A%B9%EC%84%B1-Momentum-RMSProp-Adam)\n",
        "\n",
        "### 권장 설정\n",
        "- sigmoid나 tanh와 같은 활성화 함수를 사용할 때는 Xavier초기화를 사용\n",
        "- ReLU를 사용할 때는 He초기화를 사용하는 것을 권장합니다.\n",
        "- Deep CNN사용할 때는 He 초기화를 권장\n",
        "\n",
        "### Optimizer\n",
        "- 역전파 알고리즘에서 사용하는 함수\n",
        "- Stochastic Gradient Descent(SGD) : 일반적인 경사 하강법\n",
        "- 조금씩 Global Optinum을 찾아가는 방식인데 전체 데이터를 대상으로 하지 않고 Batch단위로 찾아가기 때문에 일직선의 형태가 아닙니다.\n",
        "\n",
        "### Momentum : \n",
        "- 방향으로 갈 때 일종의 관성을 추가하는 방식\n",
        "- 이전 이동거리와 관성계수 m에 따라 parameter를 update하도록 수식이 적용되었다.\n",
        "- 구불구불하게 가지만 보폭이 커서 지역적으로 넓은 부분은 지나갈 가능성이 높아집니다.\n",
        "\n",
        "### Nesterov Accelerated Gradient(NAG)\n",
        "- Momentum을 약간 변형한 방식\n",
        "\n",
        "### Adaptive Gradient(Adagrad)\n",
        "- 가보지 않은 곳은 많이 움직이고 가본 곳은 조금씩 움직이는 기법. 경험여부에 따라 이동치가 달라집니다.\n",
        "- 한 번도 변하지 않은 parameter는 더 큰 변화를 줘야한다는 것이 Adagrad의 개념\n",
        "\n",
        "### RMSProp\n",
        "- Adagrad의 단점은 오래 진행하면 Step Size가 작아지는 현상이 발생하는데 RMSProp은 지수이동 평균을 이용한 계산법으로 보완했습니다.\n",
        "\n",
        "### Adaptive Delta(Adadelta)\n",
        "- Adagrad의 단점인 Gradient의 양이 너무 적어지면 움직임이 멈출 수 있다는 단점을 보완했습니다.\n",
        "\n",
        "### Adaptive Moment Estimation\n",
        "- 현재 가장 많이 사용되는 방식으로 RMSProp와 Momentum방식의 특징을 결합한 방법입니다.\n",
        "\n",
        "### Rectified Adam Optimizer(RAdam)\n",
        "- 학습률의 분산을 교정해서 학습률에 상관없이 비슷한 성능을 나타내도록 하는 방식이다.\n",
        "- 학습률(보폭)은 모델의 성능에 영향을 주는데 최적의 학습률을 찾기 위해 RAdam을 사용합니다.\n",
        "\n"
      ]
    },
    {
      "cell_type": "code",
      "metadata": {
        "colab": {
          "base_uri": "https://localhost:8080/"
        },
        "id": "mw-wAb7yKcYB",
        "outputId": "376f518f-1924-4abd-b54d-b37f5161f18b"
      },
      "source": [
        "import torch.nn.init as init\n",
        "# He 초기화를 위한 함수 생성\n",
        "def weight_init(m):\n",
        "    if isinstance(m, nn.Linear):\n",
        "        # He 초기화\n",
        "        init.kaiming_uniform_(m.weight.data)\n",
        "\n",
        "# 모델을 생성하고 적용\n",
        "model = Net().to(DEVICE)\n",
        "model.apply(weight_init)\n",
        "\n",
        "# 모델 생성\n",
        "model = Net().to(DEVICE)\n",
        "# Optimizer와 Adam적용\n",
        "optimizer = torch.optim.Adam(model.parameters(), lr=0.01)\n",
        "criterion = nn.CrossEntropyLoss()\n",
        "\n",
        "EPOCHS = 10\n",
        "# 모델 훈련\n",
        "for epoch in range(1, EPOCHS + 1):\n",
        "    train(model, train_loader, optimizer, log_interval=200)\n",
        "    test_loss, test_accuracy = evaluate(model, test_loader)\n",
        "    print('\\n[EPOCH:{}], \\tTest Loss:{:.4f}, \\tTest Accuracy:{:.2f}\\n'.format(epoch, test_loss, test_accuracy))\n"
      ],
      "execution_count": null,
      "outputs": [
        {
          "output_type": "stream",
          "text": [
            "Train Epoch:1[0/60000 0%]\tTrain Loss:2.377080\n",
            "Train Epoch:1[6400/60000 11%]\tTrain Loss:0.580386\n",
            "Train Epoch:1[12800/60000 21%]\tTrain Loss:0.341733\n",
            "Train Epoch:1[19200/60000 32%]\tTrain Loss:0.301127\n",
            "Train Epoch:1[25600/60000 43%]\tTrain Loss:0.566521\n",
            "Train Epoch:1[32000/60000 53%]\tTrain Loss:0.590969\n",
            "Train Epoch:1[38400/60000 64%]\tTrain Loss:0.386755\n",
            "Train Epoch:1[44800/60000 75%]\tTrain Loss:0.420648\n",
            "Train Epoch:1[51200/60000 85%]\tTrain Loss:0.182383\n",
            "Train Epoch:1[57600/60000 96%]\tTrain Loss:0.202321\n",
            "\n",
            "[EPOCH:1], \tTest Loss:0.0039, \tTest Accuracy:96.24\n",
            "\n",
            "Train Epoch:2[0/60000 0%]\tTrain Loss:0.082140\n",
            "Train Epoch:2[6400/60000 11%]\tTrain Loss:0.443022\n",
            "Train Epoch:2[12800/60000 21%]\tTrain Loss:0.199679\n",
            "Train Epoch:2[19200/60000 32%]\tTrain Loss:0.385842\n",
            "Train Epoch:2[25600/60000 43%]\tTrain Loss:0.108138\n",
            "Train Epoch:2[32000/60000 53%]\tTrain Loss:0.089299\n",
            "Train Epoch:2[38400/60000 64%]\tTrain Loss:0.726919\n",
            "Train Epoch:2[44800/60000 75%]\tTrain Loss:0.360960\n",
            "Train Epoch:2[51200/60000 85%]\tTrain Loss:0.207495\n",
            "Train Epoch:2[57600/60000 96%]\tTrain Loss:0.168463\n",
            "\n",
            "[EPOCH:2], \tTest Loss:0.0033, \tTest Accuracy:96.58\n",
            "\n",
            "Train Epoch:3[0/60000 0%]\tTrain Loss:0.400899\n",
            "Train Epoch:3[6400/60000 11%]\tTrain Loss:0.397717\n",
            "Train Epoch:3[12800/60000 21%]\tTrain Loss:0.508006\n",
            "Train Epoch:3[19200/60000 32%]\tTrain Loss:0.172709\n",
            "Train Epoch:3[25600/60000 43%]\tTrain Loss:0.194125\n",
            "Train Epoch:3[32000/60000 53%]\tTrain Loss:0.099223\n",
            "Train Epoch:3[38400/60000 64%]\tTrain Loss:0.137595\n",
            "Train Epoch:3[44800/60000 75%]\tTrain Loss:0.258950\n",
            "Train Epoch:3[51200/60000 85%]\tTrain Loss:0.114872\n",
            "Train Epoch:3[57600/60000 96%]\tTrain Loss:0.072755\n",
            "\n",
            "[EPOCH:3], \tTest Loss:0.0030, \tTest Accuracy:96.72\n",
            "\n",
            "Train Epoch:4[0/60000 0%]\tTrain Loss:0.180133\n",
            "Train Epoch:4[6400/60000 11%]\tTrain Loss:0.053699\n",
            "Train Epoch:4[12800/60000 21%]\tTrain Loss:0.245271\n",
            "Train Epoch:4[19200/60000 32%]\tTrain Loss:0.076119\n",
            "Train Epoch:4[25600/60000 43%]\tTrain Loss:0.586434\n",
            "Train Epoch:4[32000/60000 53%]\tTrain Loss:0.193642\n",
            "Train Epoch:4[38400/60000 64%]\tTrain Loss:0.451615\n",
            "Train Epoch:4[44800/60000 75%]\tTrain Loss:0.132136\n",
            "Train Epoch:4[51200/60000 85%]\tTrain Loss:0.222574\n",
            "Train Epoch:4[57600/60000 96%]\tTrain Loss:0.203702\n",
            "\n",
            "[EPOCH:4], \tTest Loss:0.0026, \tTest Accuracy:97.47\n",
            "\n",
            "Train Epoch:5[0/60000 0%]\tTrain Loss:0.595828\n",
            "Train Epoch:5[6400/60000 11%]\tTrain Loss:0.014121\n",
            "Train Epoch:5[12800/60000 21%]\tTrain Loss:0.130615\n",
            "Train Epoch:5[19200/60000 32%]\tTrain Loss:0.337049\n",
            "Train Epoch:5[25600/60000 43%]\tTrain Loss:0.279111\n",
            "Train Epoch:5[32000/60000 53%]\tTrain Loss:0.125921\n",
            "Train Epoch:5[38400/60000 64%]\tTrain Loss:0.676044\n",
            "Train Epoch:5[44800/60000 75%]\tTrain Loss:0.048728\n",
            "Train Epoch:5[51200/60000 85%]\tTrain Loss:0.145069\n",
            "Train Epoch:5[57600/60000 96%]\tTrain Loss:0.083897\n",
            "\n",
            "[EPOCH:5], \tTest Loss:0.0026, \tTest Accuracy:97.38\n",
            "\n",
            "Train Epoch:6[0/60000 0%]\tTrain Loss:0.286210\n",
            "Train Epoch:6[6400/60000 11%]\tTrain Loss:0.303328\n",
            "Train Epoch:6[12800/60000 21%]\tTrain Loss:0.221622\n",
            "Train Epoch:6[19200/60000 32%]\tTrain Loss:0.042959\n",
            "Train Epoch:6[25600/60000 43%]\tTrain Loss:0.063350\n",
            "Train Epoch:6[32000/60000 53%]\tTrain Loss:1.609120\n",
            "Train Epoch:6[38400/60000 64%]\tTrain Loss:0.213855\n",
            "Train Epoch:6[44800/60000 75%]\tTrain Loss:0.082090\n",
            "Train Epoch:6[51200/60000 85%]\tTrain Loss:0.267721\n",
            "Train Epoch:6[57600/60000 96%]\tTrain Loss:0.029533\n",
            "\n",
            "[EPOCH:6], \tTest Loss:0.0023, \tTest Accuracy:97.81\n",
            "\n",
            "Train Epoch:7[0/60000 0%]\tTrain Loss:0.023791\n",
            "Train Epoch:7[6400/60000 11%]\tTrain Loss:0.401116\n",
            "Train Epoch:7[12800/60000 21%]\tTrain Loss:0.136419\n",
            "Train Epoch:7[19200/60000 32%]\tTrain Loss:0.100950\n",
            "Train Epoch:7[25600/60000 43%]\tTrain Loss:0.131622\n",
            "Train Epoch:7[32000/60000 53%]\tTrain Loss:0.092278\n",
            "Train Epoch:7[38400/60000 64%]\tTrain Loss:0.135776\n",
            "Train Epoch:7[44800/60000 75%]\tTrain Loss:0.182796\n",
            "Train Epoch:7[51200/60000 85%]\tTrain Loss:0.240703\n",
            "Train Epoch:7[57600/60000 96%]\tTrain Loss:0.139684\n",
            "\n",
            "[EPOCH:7], \tTest Loss:0.0022, \tTest Accuracy:97.90\n",
            "\n",
            "Train Epoch:8[0/60000 0%]\tTrain Loss:0.068647\n",
            "Train Epoch:8[6400/60000 11%]\tTrain Loss:0.012378\n",
            "Train Epoch:8[12800/60000 21%]\tTrain Loss:0.094310\n",
            "Train Epoch:8[19200/60000 32%]\tTrain Loss:0.143324\n",
            "Train Epoch:8[25600/60000 43%]\tTrain Loss:0.048790\n",
            "Train Epoch:8[32000/60000 53%]\tTrain Loss:0.251472\n",
            "Train Epoch:8[38400/60000 64%]\tTrain Loss:0.011852\n",
            "Train Epoch:8[44800/60000 75%]\tTrain Loss:0.222816\n",
            "Train Epoch:8[51200/60000 85%]\tTrain Loss:0.690792\n",
            "Train Epoch:8[57600/60000 96%]\tTrain Loss:0.089081\n",
            "\n",
            "[EPOCH:8], \tTest Loss:0.0022, \tTest Accuracy:97.67\n",
            "\n",
            "Train Epoch:9[0/60000 0%]\tTrain Loss:0.372617\n",
            "Train Epoch:9[6400/60000 11%]\tTrain Loss:0.185661\n",
            "Train Epoch:9[12800/60000 21%]\tTrain Loss:0.040183\n",
            "Train Epoch:9[19200/60000 32%]\tTrain Loss:0.230438\n",
            "Train Epoch:9[25600/60000 43%]\tTrain Loss:0.019803\n",
            "Train Epoch:9[32000/60000 53%]\tTrain Loss:0.047170\n",
            "Train Epoch:9[38400/60000 64%]\tTrain Loss:0.114778\n",
            "Train Epoch:9[44800/60000 75%]\tTrain Loss:0.142814\n",
            "Train Epoch:9[51200/60000 85%]\tTrain Loss:0.182463\n",
            "Train Epoch:9[57600/60000 96%]\tTrain Loss:0.036501\n",
            "\n",
            "[EPOCH:9], \tTest Loss:0.0022, \tTest Accuracy:97.84\n",
            "\n",
            "Train Epoch:10[0/60000 0%]\tTrain Loss:0.019228\n",
            "Train Epoch:10[6400/60000 11%]\tTrain Loss:0.059595\n",
            "Train Epoch:10[12800/60000 21%]\tTrain Loss:0.045605\n",
            "Train Epoch:10[19200/60000 32%]\tTrain Loss:0.252368\n",
            "Train Epoch:10[25600/60000 43%]\tTrain Loss:0.037839\n",
            "Train Epoch:10[32000/60000 53%]\tTrain Loss:0.073358\n",
            "Train Epoch:10[38400/60000 64%]\tTrain Loss:0.096545\n",
            "Train Epoch:10[44800/60000 75%]\tTrain Loss:0.204515\n",
            "Train Epoch:10[51200/60000 85%]\tTrain Loss:0.077124\n",
            "Train Epoch:10[57600/60000 96%]\tTrain Loss:0.020801\n",
            "\n",
            "[EPOCH:10], \tTest Loss:0.0021, \tTest Accuracy:98.06\n",
            "\n"
          ],
          "name": "stdout"
        }
      ]
    },
    {
      "cell_type": "markdown",
      "metadata": {
        "id": "azCiFDKvLjPJ"
      },
      "source": [
        "### 만들어진 모델을 가지고 데이터를 예측"
      ]
    },
    {
      "cell_type": "code",
      "metadata": {
        "id": "iX6CkIWzCspD"
      },
      "source": [
        "model(images[0])"
      ],
      "execution_count": null,
      "outputs": []
    },
    {
      "cell_type": "code",
      "metadata": {
        "colab": {
          "base_uri": "https://localhost:8080/",
          "height": 415
        },
        "id": "YWyXwOLiP-bP",
        "outputId": "c60cf01c-bb7f-4b73-9b04-be0f7f460579"
      },
      "source": [
        "# 배치1개의 데이터를 가져오기\n",
        "batch_iterator = iter(test_loader)\n",
        "images = next(batch_iterator)\n",
        "\n",
        "# 모델을 추론 모드로 변경\n",
        "model.eval()\n",
        "\n",
        "# 추론\n",
        "# output은 10개의 확률로 tensor가 나옴. \n",
        "output = model(images[0])\n",
        "\n",
        "# \n",
        "# 추론의 결과인 tentor를 numpy로 변경\n",
        "result = output.detach().numpy()\n",
        "\n",
        "# 첫번째 데이터에서 가장 큰 인덱스 찾기\n",
        "print('예측 결과 :',np.argmax(result[0]))\n",
        "\n",
        "# 이미지 확인\n",
        "image = iamges[0].detach().numpy()\n",
        "plt.imshow(image[0], reshape(28,28), cmap='gray')"
      ],
      "execution_count": null,
      "outputs": [
        {
          "output_type": "error",
          "ename": "RuntimeError",
          "evalue": "ignored",
          "traceback": [
            "\u001b[0;31m---------------------------------------------------------------------------\u001b[0m",
            "\u001b[0;31mRuntimeError\u001b[0m                              Traceback (most recent call last)",
            "\u001b[0;32m<ipython-input-38-b2edd48d8093>\u001b[0m in \u001b[0;36m<module>\u001b[0;34m()\u001b[0m\n\u001b[1;32m      8\u001b[0m \u001b[0;31m# 추론\u001b[0m\u001b[0;34m\u001b[0m\u001b[0;34m\u001b[0m\u001b[0;34m\u001b[0m\u001b[0m\n\u001b[1;32m      9\u001b[0m \u001b[0;31m# output은 10개의 확률로 tensor가 나옴.\u001b[0m\u001b[0;34m\u001b[0m\u001b[0;34m\u001b[0m\u001b[0;34m\u001b[0m\u001b[0m\n\u001b[0;32m---> 10\u001b[0;31m \u001b[0moutput\u001b[0m \u001b[0;34m=\u001b[0m \u001b[0mmodel\u001b[0m\u001b[0;34m(\u001b[0m\u001b[0mimages\u001b[0m\u001b[0;34m[\u001b[0m\u001b[0;36m0\u001b[0m\u001b[0;34m]\u001b[0m\u001b[0;34m)\u001b[0m\u001b[0;34m\u001b[0m\u001b[0;34m\u001b[0m\u001b[0m\n\u001b[0m\u001b[1;32m     11\u001b[0m \u001b[0;34m\u001b[0m\u001b[0m\n\u001b[1;32m     12\u001b[0m \u001b[0;31m#\u001b[0m\u001b[0;34m\u001b[0m\u001b[0;34m\u001b[0m\u001b[0;34m\u001b[0m\u001b[0m\n",
            "\u001b[0;32m/usr/local/lib/python3.7/dist-packages/torch/nn/modules/module.py\u001b[0m in \u001b[0;36m_call_impl\u001b[0;34m(self, *input, **kwargs)\u001b[0m\n\u001b[1;32m   1049\u001b[0m         if not (self._backward_hooks or self._forward_hooks or self._forward_pre_hooks or _global_backward_hooks\n\u001b[1;32m   1050\u001b[0m                 or _global_forward_hooks or _global_forward_pre_hooks):\n\u001b[0;32m-> 1051\u001b[0;31m             \u001b[0;32mreturn\u001b[0m \u001b[0mforward_call\u001b[0m\u001b[0;34m(\u001b[0m\u001b[0;34m*\u001b[0m\u001b[0minput\u001b[0m\u001b[0;34m,\u001b[0m \u001b[0;34m**\u001b[0m\u001b[0mkwargs\u001b[0m\u001b[0;34m)\u001b[0m\u001b[0;34m\u001b[0m\u001b[0;34m\u001b[0m\u001b[0m\n\u001b[0m\u001b[1;32m   1052\u001b[0m         \u001b[0;31m# Do not call functions when jit is used\u001b[0m\u001b[0;34m\u001b[0m\u001b[0;34m\u001b[0m\u001b[0;34m\u001b[0m\u001b[0m\n\u001b[1;32m   1053\u001b[0m         \u001b[0mfull_backward_hooks\u001b[0m\u001b[0;34m,\u001b[0m \u001b[0mnon_full_backward_hooks\u001b[0m \u001b[0;34m=\u001b[0m \u001b[0;34m[\u001b[0m\u001b[0;34m]\u001b[0m\u001b[0;34m,\u001b[0m \u001b[0;34m[\u001b[0m\u001b[0;34m]\u001b[0m\u001b[0;34m\u001b[0m\u001b[0;34m\u001b[0m\u001b[0m\n",
            "\u001b[0;32m<ipython-input-21-f6940aec1eaf>\u001b[0m in \u001b[0;36mforward\u001b[0;34m(self, x)\u001b[0m\n\u001b[1;32m     22\u001b[0m         \u001b[0mx\u001b[0m \u001b[0;34m=\u001b[0m \u001b[0mx\u001b[0m\u001b[0;34m.\u001b[0m\u001b[0mview\u001b[0m\u001b[0;34m(\u001b[0m\u001b[0;34m-\u001b[0m\u001b[0;36m1\u001b[0m\u001b[0;34m,\u001b[0m \u001b[0;36m28\u001b[0m\u001b[0;34m*\u001b[0m\u001b[0;36m28\u001b[0m\u001b[0;34m)\u001b[0m\u001b[0;34m\u001b[0m\u001b[0;34m\u001b[0m\u001b[0m\n\u001b[1;32m     23\u001b[0m         \u001b[0;31m# 입력층 생성\u001b[0m\u001b[0;34m\u001b[0m\u001b[0;34m\u001b[0m\u001b[0;34m\u001b[0m\u001b[0m\n\u001b[0;32m---> 24\u001b[0;31m         \u001b[0mx\u001b[0m \u001b[0;34m=\u001b[0m \u001b[0mself\u001b[0m\u001b[0;34m.\u001b[0m\u001b[0mfc1\u001b[0m\u001b[0;34m(\u001b[0m\u001b[0mx\u001b[0m\u001b[0;34m)\u001b[0m\u001b[0;34m\u001b[0m\u001b[0;34m\u001b[0m\u001b[0m\n\u001b[0m\u001b[1;32m     25\u001b[0m         \u001b[0mx\u001b[0m \u001b[0;34m=\u001b[0m \u001b[0mself\u001b[0m\u001b[0;34m.\u001b[0m\u001b[0mbatch_norm1\u001b[0m\u001b[0;34m(\u001b[0m\u001b[0mx\u001b[0m\u001b[0;34m)\u001b[0m\u001b[0;34m\u001b[0m\u001b[0;34m\u001b[0m\u001b[0m\n\u001b[1;32m     26\u001b[0m         \u001b[0;31m# relu\u001b[0m\u001b[0;34m\u001b[0m\u001b[0;34m\u001b[0m\u001b[0;34m\u001b[0m\u001b[0m\n",
            "\u001b[0;32m/usr/local/lib/python3.7/dist-packages/torch/nn/modules/module.py\u001b[0m in \u001b[0;36m_call_impl\u001b[0;34m(self, *input, **kwargs)\u001b[0m\n\u001b[1;32m   1049\u001b[0m         if not (self._backward_hooks or self._forward_hooks or self._forward_pre_hooks or _global_backward_hooks\n\u001b[1;32m   1050\u001b[0m                 or _global_forward_hooks or _global_forward_pre_hooks):\n\u001b[0;32m-> 1051\u001b[0;31m             \u001b[0;32mreturn\u001b[0m \u001b[0mforward_call\u001b[0m\u001b[0;34m(\u001b[0m\u001b[0;34m*\u001b[0m\u001b[0minput\u001b[0m\u001b[0;34m,\u001b[0m \u001b[0;34m**\u001b[0m\u001b[0mkwargs\u001b[0m\u001b[0;34m)\u001b[0m\u001b[0;34m\u001b[0m\u001b[0;34m\u001b[0m\u001b[0m\n\u001b[0m\u001b[1;32m   1052\u001b[0m         \u001b[0;31m# Do not call functions when jit is used\u001b[0m\u001b[0;34m\u001b[0m\u001b[0;34m\u001b[0m\u001b[0;34m\u001b[0m\u001b[0m\n\u001b[1;32m   1053\u001b[0m         \u001b[0mfull_backward_hooks\u001b[0m\u001b[0;34m,\u001b[0m \u001b[0mnon_full_backward_hooks\u001b[0m \u001b[0;34m=\u001b[0m \u001b[0;34m[\u001b[0m\u001b[0;34m]\u001b[0m\u001b[0;34m,\u001b[0m \u001b[0;34m[\u001b[0m\u001b[0;34m]\u001b[0m\u001b[0;34m\u001b[0m\u001b[0;34m\u001b[0m\u001b[0m\n",
            "\u001b[0;32m/usr/local/lib/python3.7/dist-packages/torch/nn/modules/linear.py\u001b[0m in \u001b[0;36mforward\u001b[0;34m(self, input)\u001b[0m\n\u001b[1;32m     94\u001b[0m \u001b[0;34m\u001b[0m\u001b[0m\n\u001b[1;32m     95\u001b[0m     \u001b[0;32mdef\u001b[0m \u001b[0mforward\u001b[0m\u001b[0;34m(\u001b[0m\u001b[0mself\u001b[0m\u001b[0;34m,\u001b[0m \u001b[0minput\u001b[0m\u001b[0;34m:\u001b[0m \u001b[0mTensor\u001b[0m\u001b[0;34m)\u001b[0m \u001b[0;34m->\u001b[0m \u001b[0mTensor\u001b[0m\u001b[0;34m:\u001b[0m\u001b[0;34m\u001b[0m\u001b[0;34m\u001b[0m\u001b[0m\n\u001b[0;32m---> 96\u001b[0;31m         \u001b[0;32mreturn\u001b[0m \u001b[0mF\u001b[0m\u001b[0;34m.\u001b[0m\u001b[0mlinear\u001b[0m\u001b[0;34m(\u001b[0m\u001b[0minput\u001b[0m\u001b[0;34m,\u001b[0m \u001b[0mself\u001b[0m\u001b[0;34m.\u001b[0m\u001b[0mweight\u001b[0m\u001b[0;34m,\u001b[0m \u001b[0mself\u001b[0m\u001b[0;34m.\u001b[0m\u001b[0mbias\u001b[0m\u001b[0;34m)\u001b[0m\u001b[0;34m\u001b[0m\u001b[0;34m\u001b[0m\u001b[0m\n\u001b[0m\u001b[1;32m     97\u001b[0m \u001b[0;34m\u001b[0m\u001b[0m\n\u001b[1;32m     98\u001b[0m     \u001b[0;32mdef\u001b[0m \u001b[0mextra_repr\u001b[0m\u001b[0;34m(\u001b[0m\u001b[0mself\u001b[0m\u001b[0;34m)\u001b[0m \u001b[0;34m->\u001b[0m \u001b[0mstr\u001b[0m\u001b[0;34m:\u001b[0m\u001b[0;34m\u001b[0m\u001b[0;34m\u001b[0m\u001b[0m\n",
            "\u001b[0;32m/usr/local/lib/python3.7/dist-packages/torch/nn/functional.py\u001b[0m in \u001b[0;36mlinear\u001b[0;34m(input, weight, bias)\u001b[0m\n\u001b[1;32m   1845\u001b[0m     \u001b[0;32mif\u001b[0m \u001b[0mhas_torch_function_variadic\u001b[0m\u001b[0;34m(\u001b[0m\u001b[0minput\u001b[0m\u001b[0;34m,\u001b[0m \u001b[0mweight\u001b[0m\u001b[0;34m)\u001b[0m\u001b[0;34m:\u001b[0m\u001b[0;34m\u001b[0m\u001b[0;34m\u001b[0m\u001b[0m\n\u001b[1;32m   1846\u001b[0m         \u001b[0;32mreturn\u001b[0m \u001b[0mhandle_torch_function\u001b[0m\u001b[0;34m(\u001b[0m\u001b[0mlinear\u001b[0m\u001b[0;34m,\u001b[0m \u001b[0;34m(\u001b[0m\u001b[0minput\u001b[0m\u001b[0;34m,\u001b[0m \u001b[0mweight\u001b[0m\u001b[0;34m)\u001b[0m\u001b[0;34m,\u001b[0m \u001b[0minput\u001b[0m\u001b[0;34m,\u001b[0m \u001b[0mweight\u001b[0m\u001b[0;34m,\u001b[0m \u001b[0mbias\u001b[0m\u001b[0;34m=\u001b[0m\u001b[0mbias\u001b[0m\u001b[0;34m)\u001b[0m\u001b[0;34m\u001b[0m\u001b[0;34m\u001b[0m\u001b[0m\n\u001b[0;32m-> 1847\u001b[0;31m     \u001b[0;32mreturn\u001b[0m \u001b[0mtorch\u001b[0m\u001b[0;34m.\u001b[0m\u001b[0m_C\u001b[0m\u001b[0;34m.\u001b[0m\u001b[0m_nn\u001b[0m\u001b[0;34m.\u001b[0m\u001b[0mlinear\u001b[0m\u001b[0;34m(\u001b[0m\u001b[0minput\u001b[0m\u001b[0;34m,\u001b[0m \u001b[0mweight\u001b[0m\u001b[0;34m,\u001b[0m \u001b[0mbias\u001b[0m\u001b[0;34m)\u001b[0m\u001b[0;34m\u001b[0m\u001b[0;34m\u001b[0m\u001b[0m\n\u001b[0m\u001b[1;32m   1848\u001b[0m \u001b[0;34m\u001b[0m\u001b[0m\n\u001b[1;32m   1849\u001b[0m \u001b[0;34m\u001b[0m\u001b[0m\n",
            "\u001b[0;31mRuntimeError\u001b[0m: Expected all tensors to be on the same device, but found at least two devices, cuda:0 and cpu! (when checking arugment for argument mat1 in method wrapper_addmm)"
          ]
        }
      ]
    },
    {
      "cell_type": "markdown",
      "metadata": {
        "id": "JDYjXXj1QZOf"
      },
      "source": [
        "## 외부 데이터 셋을 활용하는 방법\n",
        "- numpy데이터나 데이터프레임으로 많이 가져옵니다.\n",
        "\n",
        "## sklearn 의 MNIST데이터 활용\n",
        "- mnist데이터의 타입은 Bunch로 타 태 타로 데이터 구분이 되어있습니다."
      ]
    },
    {
      "cell_type": "code",
      "metadata": {
        "id": "YkjfQWzWgaAZ"
      },
      "source": [
        "import numpy as np\n",
        "import matplotlib.pyplot as plt\n",
        "from sklearn.datasets import fetch_openml\n",
        "\n",
        "import torch\n",
        "from torch.utils.data import TensorDataset, DataLoader\n",
        "from sklearn.model_selection import train_test_split\n",
        "\n",
        "mnist = fetch_openml('mnist_784', version=1, cache=True)\n",
        "\n",
        "mnist.target = mnist.target.astype(np.int8)\n",
        "\n",
        "X = mnist.data/255  # 0-255값을 [0,1] 구간으로 정규화\n",
        "y = mnist.target\n",
        "\n",
        "X_train, X_test, y_train, y_test = train_test_split(X.values, y.values, test_size=1/7, random_state=0)\n"
      ],
      "execution_count": null,
      "outputs": []
    },
    {
      "cell_type": "code",
      "metadata": {
        "id": "uPNeUyYGTMOr"
      },
      "source": [
        "from sklearn.datasets import fetch_openml\n",
        "from sklearn.model_selection import train_test_split\n",
        "\n",
        "# sklearn의 mnist_784 데이터 가져오기\n",
        "# \n",
        "mnist = fetch_openml('mnist_784', version=1, cache=True)\n",
        "\n",
        "print(type(mnist))\n",
        "print(type(mnist.target))\n",
        "print(type(mnist.target))\n",
        "loader_train = DataLoader(ds_train, batch_size=54, shuffle=True)\n",
        "loader_test = DataLoader(ds_test, batch_size=54, shuffle=True)\n",
        "\n",
        "EPOCHS = 10\n",
        "# 모델 훈련\n",
        "for epoch in range(1, EPOCHS + 1):\n",
        "    train(model, train_loader, optimizer, log_interval=200)\n",
        "    test_loss, test_accuracy = evaluate(model, test_loader)\n",
        "    print('\\n[EPOCH:{}], \\tTest Loss:{:.4f}, \\tTest Accuracy:{:.2f}\\n'.format(epoch, test_loss, test_accuracy))\n"
      ],
      "execution_count": null,
      "outputs": []
    },
    {
      "cell_type": "markdown",
      "metadata": {
        "id": "ZqeDo_BYUpfd"
      },
      "source": [
        "머신러닝은 pandas의 데이터프레임가, 딥러닝은  numpy의 ndarray가 자주사용됩니다."
      ]
    },
    {
      "cell_type": "code",
      "metadata": {
        "id": "W4eW6kbeTm0a"
      },
      "source": [
        "mnist.target = mnist.target.astype(np.int8)\n",
        "\n",
        "X = mnist.data/255\n",
        "y = mnist.target\n",
        "\n",
        "print(type(X.values))\n",
        "print(type(y.values))\n",
        "\n",
        "X_train, X_test, y_train, y_test = train_test_split(X.values, y.values, test_size=1/7,\n",
        "                                                    random_state=42)\n"
      ],
      "execution_count": null,
      "outputs": []
    },
    {
      "cell_type": "code",
      "metadata": {
        "id": "t2tw1BwwU8qL"
      },
      "source": [
        "X_train = torch.Tensor(X_train)\n",
        "X_test = torch.Tensor(X_test)\n",
        "y_train = torch.Tensor(y_train)\n",
        "y_test = torch.Tensor(y_test)\n",
        "                      \n",
        "print(type(X_train))"
      ],
      "execution_count": null,
      "outputs": []
    },
    {
      "cell_type": "code",
      "metadata": {
        "id": "A20jNY5bVZCP"
      },
      "source": [
        "from torch.utils.data import TensorDataset, DataLoader\n",
        "\n",
        "ds_train = TensorDataset(X_train, y_train)\n",
        "ds_test = TensorDataset(X_test, y_tain)\n",
        "\n",
        "loader_train =  "
      ],
      "execution_count": null,
      "outputs": []
    },
    {
      "cell_type": "markdown",
      "metadata": {
        "id": "5g3UsmXeeAkD"
      },
      "source": [
        "여기부터------------------------------------------"
      ]
    },
    {
      "cell_type": "markdown",
      "metadata": {
        "id": "PfP50k3leCCh"
      },
      "source": [
        "## 동일한 모델을 클래스를 이용해서 구현"
      ]
    },
    {
      "cell_type": "code",
      "metadata": {
        "id": "wdvZJi7deJkQ"
      },
      "source": [
        "class LinearRegressionModel(nn.Module):\n",
        "    def __init__(self):\n",
        "        super().__init__()\n",
        "        self.linear = nn.Linear(1, 1)\n",
        "\n",
        "    def forward(self, x):\n",
        "        return self.linear(x)\n",
        "\n",
        "# 회귀모델 생성\n",
        "model = LinearRegressionModel()\n",
        "optimizer = torch.optim.SGD(model.parameters(), lr=0.01)\n",
        "\n",
        "# 훈련\n",
        "for epoch in range(3001):\n",
        "    # 입력 데이터를 가지고 모델 생성\n",
        "    prediction = model(X_train)\n",
        "\n",
        "    # 손실 함수 설정 - 회귀의 손실 함수는 대부분 mse나 mae\n",
        "    cost = F.mse_loss(prediction, y_train)\n",
        "    # 이전 가중치 삭제 - 최기화\n",
        "    optimizer.zero_grad()\n",
        "    # 역전파\n",
        "    cost.backward()\n",
        "\n",
        "    # 가중치 업데이터\n",
        "    optimizer.step()\n",
        "\n",
        "    if epoch % 100 == 0:\n",
        "         # 100번마다 로그 출력 \n",
        "         print('Epoch {:4d}/{} Cost: {:.6f}'.format( epoch, nb_epochs, cost.item() ))"
      ],
      "execution_count": null,
      "outputs": []
    },
    {
      "cell_type": "markdown",
      "metadata": {
        "id": "QFumxc9GgeaA"
      },
      "source": [
        "### 다중 선형 회귀\n",
        "- "
      ]
    },
    {
      "cell_type": "code",
      "metadata": {
        "id": "2SnOke_ihllN"
      },
      "source": [
        "import numpy as pd \n",
        "import pandas as pd\n",
        "\n",
        "import matplotlib.pyplot as plt\n",
        "\n",
        "import torch\n",
        "from torch import nn\n",
        "\n",
        "data = pd.read_csv('/content/drive/MyDrive/Colab Notebooks/data/score.csv')\n",
        "# print(data)\n",
        "\n",
        "X = torch.from_numpy(data[['iq', 'academy', 'game', 'tv']].values).unsqueeze(dim=1).float()\n",
        "y = torch.from_numpy(data['score'].values).unsqueeze(dim=1).float()\n",
        "\n",
        "class MultivariateLinearRegressionModel(nn.Module):\n",
        "    def __init__(self):\n",
        "        super().__init__()\n",
        "        self.linear = nn.Linear(4, 1)\n",
        "\n",
        "    def forward(self, x):\n",
        "        return self.linear(x)\n",
        "\n",
        "# 회귀모델 생성\n",
        "model = MultivariateLinearRegressionModel()\n",
        "optimizer = torch.optim.SGD(model.parameters(), lr=1e-5)\n",
        "\n",
        "nb_epochs = 10\n",
        "# 훈련\n",
        "for epoch in range(3001):\n",
        "    # 입력 데이터를 가지고 모델 생성\n",
        "    prediction = model(X)\n",
        "\n",
        "    # 손실 함수 설정 - 회귀의 손실 함수는 대부분 mse나 mae\n",
        "    cost = F.mse_loss(prediction, y)\n",
        "    # 이전 가중치 삭제 - 최기화\n",
        "    optimizer.zero_grad()\n",
        "    # 역전파\n",
        "    cost.backward()\n",
        "\n",
        "    # 가중치 업데이터\n",
        "    optimizer.step()\n",
        "\n",
        "    if epoch % 100 == 0:\n",
        "         # 100번마다 로그 출력 \n",
        "         print('Epoch {:4d}/{} Cost: {:.6f}'.format( epoch, nb_epochs, cost.item() ))"
      ],
      "execution_count": null,
      "outputs": []
    },
    {
      "cell_type": "markdown",
      "metadata": {
        "id": "tv5BaNfsldm0"
      },
      "source": [
        "예측값이 제대로 안나올 경우\n",
        "- 학습률 조정\n",
        "- SGD말고 다른 optimizer고려"
      ]
    },
    {
      "cell_type": "code",
      "metadata": {
        "id": "alEKjT-Chxm0"
      },
      "source": [
        "# 4개의 값을 2차원 배열로 넣습니다\n",
        "# 'iq', 'academy', 'game', 'tv'\n",
        "new_var = torch.FloatTensor([[140, 2, 1, 1]])\n",
        "pred_y = model(new_var)\n",
        "print(pred_y)\n",
        "print(list(model.parameters()))"
      ],
      "execution_count": null,
      "outputs": []
    },
    {
      "cell_type": "markdown",
      "metadata": {
        "id": "_lNdaQ1aktdV"
      },
      "source": [
        "## Convolutional Neural Network(CNN, 합성곱 신경망)\n",
        "\n",
        "### 이미지 처리\n",
        "피처가 서로 독립적(영향이 없어야)이어야 합니다.\n",
        "상관계수가 높으면 독립적이지 않을 가능성이 높습니다.피처들끼리 선형 관계를 갖는 것을 다중 공선성이라고 하는데 좋은 모델을 가지지 못합니다.\n",
        "\n",
        "- 일반적인 머신러닝에서는 Input변수가 서로 독립적이라는 가정하에서 수행되기 때문에 feature라는 말 대신에 independent variable이라고 부릅니다.\n",
        "\n",
        "- 이미지 처리는 하나의 차원으로 표현되지 않습니다. 하나의 피처가 되는 것이 아니라 하나의 피처 주위에 있는 피처들이 결합이 되어야 하나의 그림이 나오게 됩니다. 그 점이 이미지 처리와 다른 머신러닝 처리와 다른점입니다.\n",
        "- 이미지는 지역 정보(여러 개의 피처가 합쳐져서 표현)를 학습할 수 있는 신경망이 필요합니다. - CNN\n",
        "- CNN은 하나의 피처를 독립적으로 보지 않고 주위 피처와 함께 학습시키는 신경망입니다. 이를 제안한 사람은 르쿤입니다.\n",
        "- CNN의 일반적인 구조는 Region Feature를 만들어내는 Convolution Layer 그리고 Feature Dimention을 위한 Pooling Layer그리고 실제 출력을 만들어 낼 Fully Connected Layer 3부분으로 구성되는 경우가 일반적입니다.\n",
        "\n",
        "### Convolution Layer\n",
        "- Receptive Field 를 정의해서 입력층 이미지의 Feature를 추출하는 역할을 수행하는 Layer입니다.\n",
        "\n",
        "### Receptive Field\n",
        "- 이미지를 분할해서 하나의 값으로 만드는데 이 분할한 데이터의 크기를 Receptive Field라고 합니다\n",
        "\n",
        "### stride \n",
        "- 이 크기가 이미지를 순회하면서 값을 하나씩 만들어갈텐데 이동하는 단위를 stride라고 합니다.\n",
        "\n",
        "### padding\n",
        "- 가장자리 부분은 중앙의 부분보다 연산에 적게 참여하게 됩니다. 따라서 가장 자리 부분이 중요할 때는 가장 자리 외곽에 0을 추가해서 다른 셀들과 연산의 개수를 맞춰줄 수 있는데 이 때 채워넣는 0을 padding이라고 합니다.\n",
        "\n",
        "### weight sharing\n",
        "- 각 Receptive Field별로 가중치를 소유하게 되면 학습해야 할 파라미터가 너무 많아지는데 가중치를 별도로 갖는게 아니라 공유하여 파라미터 수를 줄이는 것을 말합니다.\n",
        "\n",
        "### Pooling Layer\n",
        "- Feature의 사이즈를 줄이기 위해서 여러 개의 Feature의 값을 하나로 묶어주는 것으로 평균이나 최대값을 이용합니다.\n",
        "- 일반적으로 Convolution과 Pooling을 번갈아가면서 설계합니다.\n",
        "\n",
        "### Fully Connected Layer\n",
        "- Pooling Layer에서 나온 Feaure를 Flatten시켜 MLP의 Input으로 놓고 학습을 진행합니다.\n",
        "\n",
        "## 일반적인 DNN(MLP)와 CNN의 가장 큰 차이\n",
        "- 이미지의 Feature를 어떻게 추출하느냐에 있습니다.\n",
        "- MLP는 이미지의 픽셀 값을 Input으로 바로 사용하고 CNN은 Region Feature를 Convolution Layer와 Pooling Layer를 이용해서 추출하고 그 Feature를 MLP의 Input으로 해서 사용합니다.\n",
        "\n",
        "- 딥러닝에서 입력이 중요하다\n",
        "\n",
        "## 딥러닝 실험에 많이 사용되는 이미지 데이터 셋\n",
        "- MNIST, Fashion MNIST\n",
        "\n",
        "## CNN에서 많이 사용되는 이미지 데이터 셋\n",
        "- CIFAR-10 Dataset :토론토 대학교에서 제공하는 10가지 클래스(비행기, 자동차, 새, 고양이, 사슴, 개, 개구리,말, 배, 트럭)로 구성된 60,000장의 이미지 입니다. 공부할 때 많이 이용합니다.\n",
        "\n",
        "- ImageNet : 1000가지의 이미지를 가진 데이터 셋\n",
        "- 구글의 데이터 셋, 말뭉치 데이터셋만 745기가\n",
        "\n",
        "\n",
        "## CIFAR-10 Dataset분류를 위한 MLP설계\n",
        "\n",
        "### 과정 \n",
        "1. 모듈 임포트\n",
        "2. 장비 확인\n",
        "3. 데이터 다운로드\n",
        "4. 데이터확인\n",
        "5. MLP모델 설계\n",
        "6. Optimizer, Objective Function설계\n",
        "7. 성능 확인 하는 함수 설계\n",
        "8. 검증하는 함수\n",
        "9. 학습 수행\n",
        "\n",
        "## CIFAR-10 데이터 분류를 위한 MLP\n",
        "- 모듈 import\n"
      ]
    },
    {
      "cell_type": "code",
      "metadata": {
        "colab": {
          "base_uri": "https://localhost:8080/"
        },
        "id": "ZXc-JSPzA79J",
        "outputId": "59efac17-3162-4c39-93f9-571d1d65a847"
      },
      "source": [
        "import numpy as np\n",
        "import pandas as pd \n",
        "import torch\n",
        "import torch.nn as nn\n",
        "import torch.nn.functional as F\n",
        "import matplotlib.pyplot as plt \n",
        "from torchvision import transforms, datasets\n",
        "\n",
        "# GPU사용 가능한지 확인\n",
        "import torch\n",
        "if torch.cuda.is_available() :\n",
        "    DEVICE = torch.device('cuda')\n",
        "else :\n",
        "    DEVICE = torch.device('cpu')\n",
        "print('torch version : ', torch.__version__)\n",
        "print('DEVICE : ', DEVICE)"
      ],
      "execution_count": null,
      "outputs": [
        {
          "output_type": "stream",
          "text": [
            "torch version :  1.9.0+cu102\n",
            "DEVICE :  cpu\n"
          ],
          "name": "stdout"
        }
      ]
    },
    {
      "cell_type": "code",
      "metadata": {
        "id": "zV_QlqSmOM6r"
      },
      "source": [
        "from google.colab import drive\n",
        "drive.mount('/content/drive')"
      ],
      "execution_count": null,
      "outputs": []
    },
    {
      "cell_type": "code",
      "metadata": {
        "colab": {
          "base_uri": "https://localhost:8080/",
          "height": 142,
          "referenced_widgets": [
            "9a821c270d0946c0a1dc98b33444dc47",
            "57692698264a421bac69f132622e09f3",
            "5a1fca3b08464abbab434e1e66a8d7e4",
            "e99d3ac559484958b4305967a79ec823",
            "116021f2719741be867f575301a6123f",
            "3e1a98c1f94848f8aeb6dcda33bbf6fb",
            "e065b4a8c1d14f0eac9dd93d85999382",
            "8844e753a14c41fea80934fc2fe5702c"
          ]
        },
        "id": "wqh03DTmGY2M",
        "outputId": "efc9bba1-b398-439a-e320-f5ee29a24145"
      },
      "source": [
        "BATCH_SIZE = 32\n",
        "EPOCHS = 10\n",
        "train_dataset = datasets.CIFAR10(root='/content/drive/MyDrive/Colab Notebooks/data/CIFAR_10',\n",
        "                                 train=True,\n",
        "                                 download=True,\n",
        "                                 transform=transforms.ToTensor()) # 변환\n",
        "\n",
        "test_dataset = datasets.CIFAR10(root='/content/drive/MyDrive/Colab Notebooks/data/CIFAR_10',\n",
        "                                 train=False,\n",
        "                                 download=True,\n",
        "                                 transform=transforms.ToTensor()) # 변환\n",
        "\n",
        "train_loader = torch.utils.data.DataLoader(dataset = train_dataset,\n",
        "                                           batch_size = BATCH_SIZE,\n",
        "                                           shuffle = True)\n",
        "\n",
        "test_loader = torch.utils.data.DataLoader(dataset = test_dataset,\n",
        "                                           batch_size = BATCH_SIZE,\n",
        "                                           shuffle = True)"
      ],
      "execution_count": null,
      "outputs": [
        {
          "output_type": "stream",
          "text": [
            "Downloading https://www.cs.toronto.edu/~kriz/cifar-10-python.tar.gz to /content/drive/MyDrive/Colab Notebooks/data/CIFAR_10/cifar-10-python.tar.gz\n"
          ],
          "name": "stdout"
        },
        {
          "output_type": "display_data",
          "data": {
            "application/vnd.jupyter.widget-view+json": {
              "model_id": "9a821c270d0946c0a1dc98b33444dc47",
              "version_minor": 0,
              "version_major": 2
            },
            "text/plain": [
              "HBox(children=(FloatProgress(value=0.0, max=170498071.0), HTML(value='')))"
            ]
          },
          "metadata": {
            "tags": []
          }
        },
        {
          "output_type": "stream",
          "text": [
            "\n",
            "Extracting /content/drive/MyDrive/Colab Notebooks/data/CIFAR_10/cifar-10-python.tar.gz to /content/drive/MyDrive/Colab Notebooks/data/CIFAR_10\n",
            "Files already downloaded and verified\n"
          ],
          "name": "stdout"
        }
      ]
    },
    {
      "cell_type": "markdown",
      "metadata": {
        "id": "nyw512FrI834"
      },
      "source": [
        "## 데이터 확인"
      ]
    },
    {
      "cell_type": "code",
      "metadata": {
        "colab": {
          "base_uri": "https://localhost:8080/"
        },
        "id": "7kNC5nC2BvoL",
        "outputId": "ed7f42a1-1a62-4e54-bc10-1b0f97af05b2"
      },
      "source": [
        "for (X_train, y_train) in train_loader:\n",
        "    print(X_train.size())\n",
        "    print(y_train.size())\n",
        "    break\n",
        "# 32(배치 사이즈), 3(채널의 수), 32(width), 32(height)"
      ],
      "execution_count": null,
      "outputs": [
        {
          "output_type": "stream",
          "text": [
            "torch.Size([32, 3, 32, 32])\n",
            "torch.Size([32])\n"
          ],
          "name": "stdout"
        }
      ]
    },
    {
      "cell_type": "markdown",
      "metadata": {
        "id": "tWf09VApJ_7N"
      },
      "source": [
        "## 위치 변환\n",
        "- transpose를 이용하여 2차원배열로 변환\n",
        "- 32(배치 사이즈), 3(채널의 수), 32(width), 32(height)"
      ]
    },
    {
      "cell_type": "code",
      "metadata": {
        "colab": {
          "base_uri": "https://localhost:8080/",
          "height": 457
        },
        "id": "3qnUFXnGDkDI",
        "outputId": "e609a50a-ffef-4930-d611-ca0d39cd4cb7"
      },
      "source": [
        "pltsize = 1\n",
        "plt.figure(figsize=(10 * pltsize, pltsize))\n",
        "\n",
        "for i in range(10):\n",
        "    plt.subplot(1, 10, i+1)\n",
        "    plt.axis('off')\n",
        "    print(X_train[i].shape)\n",
        "    print(np.transpose(X_train[i], (1, 2, 0)).shape)\n",
        "    plt.imshow(np.transpose(X_train[i], (1, 2, 0)))\n",
        "\n",
        "    plt.title('Class ' + str(y_train[i].item()))"
      ],
      "execution_count": null,
      "outputs": [
        {
          "output_type": "stream",
          "text": [
            "torch.Size([3, 32, 32])\n",
            "torch.Size([32, 32, 3])\n",
            "torch.Size([3, 32, 32])\n",
            "torch.Size([32, 32, 3])\n",
            "torch.Size([3, 32, 32])\n",
            "torch.Size([32, 32, 3])\n",
            "torch.Size([3, 32, 32])\n",
            "torch.Size([32, 32, 3])\n",
            "torch.Size([3, 32, 32])\n",
            "torch.Size([32, 32, 3])\n",
            "torch.Size([3, 32, 32])\n",
            "torch.Size([32, 32, 3])\n",
            "torch.Size([3, 32, 32])\n",
            "torch.Size([32, 32, 3])\n",
            "torch.Size([3, 32, 32])\n",
            "torch.Size([32, 32, 3])\n",
            "torch.Size([3, 32, 32])\n",
            "torch.Size([32, 32, 3])\n",
            "torch.Size([3, 32, 32])\n",
            "torch.Size([32, 32, 3])\n"
          ],
          "name": "stdout"
        },
        {
          "output_type": "display_data",
          "data": {
            "image/png": "[encoded data removed]",
            "text/plain": [
              "<Figure size 720x72 with 10 Axes>"
            ]
          },
          "metadata": {
            "tags": [],
            "needs_background": "light"
          }
        }
      ]
    },
    {
      "cell_type": "markdown",
      "metadata": {
        "id": "g3H1z6JCKQPL"
      },
      "source": [
        "## 모델 설계"
      ]
    },
    {
      "cell_type": "code",
      "metadata": {
        "id": "14JQWvuPLP-6"
      },
      "source": [
        "class Net(nn.Module):\n",
        "    def __init__(self):\n",
        "        super(Net, self).__init__()\n",
        "        self.fc1 = nn.Linear(32 * 32 *3, 512) # 이미지 픽셀, 뉴런\n",
        "        self.fc2 = nn.Linear(512, 256)\n",
        "        self.fc3 = nn.Linear(256, 10) # 클래스가 10개\n",
        "\n",
        "    def forward(self, x):\n",
        "        x = x.view(-1, 32 * 32 * 3)  # keras의 Flatten과 동일\n",
        "        x = self.fc1(x)\n",
        "        x = F.relu(x)\n",
        "        x = self.fc2(x)\n",
        "        x = F.relu(x)\n",
        "        x = self.fc3(x)\n",
        "        x = F.log_softmax(x, dim=1)\n",
        "        return x"
      ],
      "execution_count": null,
      "outputs": []
    },
    {
      "cell_type": "markdown",
      "metadata": {
        "id": "niEpZZHXMLAF"
      },
      "source": [
        "## 모델을 생성하고 Optimizer와 Object Function설정"
      ]
    },
    {
      "cell_type": "code",
      "metadata": {
        "id": "i5bKsAZ-Mxoj"
      },
      "source": [
        "model = Net().to(DEVICE)\n",
        "optimizer = torch.optim.Adam(model.parameters(), lr=0.001)\n",
        "criterion = nn.CrossEntropyLoss()"
      ],
      "execution_count": null,
      "outputs": []
    },
    {
      "cell_type": "markdown",
      "metadata": {
        "id": "cb8p-QRLM8nz"
      },
      "source": [
        "## 모델의 성능을 확인하는 함수"
      ]
    },
    {
      "cell_type": "code",
      "metadata": {
        "id": "pBllI3kxNbUS"
      },
      "source": [
        "# 훈련과정에서 호출될 함수\n",
        "def train(model, train_loader, optimizer, log_interval):\n",
        "    # 모델 훈련 시작\n",
        "    model.train() \n",
        "    # train_loader 에는 학습에 이용되는 이미지 데이터와 레이블 데이터가 Mini Batch 단위로 묶여 저장되어 있음\n",
        "    # 훈련 데이터의 배치 번호와 이미지 및 레이블을 순회\n",
        "    for batch_idx, (image, label) in enumerate(train_loader):\n",
        "        # image와 label을 DEVICE에 할당\n",
        "        image = image.to(DEVICE)\n",
        "        label = label.to(DEVICE)\n",
        "\n",
        "        # 기존에 정의한 장비에 이미지 데이터와 레이블 데이터를 할당할 경우\n",
        "        # 과거에 이용한 Mini- Batch 내에 있는 이미지 데이터와 레이블 데이터를 \n",
        "        # 바탕으로 계산된 Loss의 Gradient 값이 optimizer에 할당돼 있으므로 \n",
        "        # optimizer의 Gradient를 초기화\n",
        "        optimizer.zero_grad()\n",
        "        # image를 가지고 예측\n",
        "        output = model(image)\n",
        "        # 손실 계산\n",
        "        loss = criterion(output, label)\n",
        "        # 손실 역전파\n",
        "        loss.backward()\n",
        "        # 파라미터 값(weight)을 업데이트\n",
        "        ## weight를 업데이트 하고 사용한 optimizer는 None으로 초기화 하는 것!\n",
        "        ## loss가 적을 때의 weight만 업데이트하고 \n",
        "        optimizer.step()\n",
        "#         print(optimizer)\n",
        "        \n",
        "        # 출력\n",
        "        if batch_idx % log_interval == 0:\n",
        "            print('Train Epoch:{}[{}/{} {:.0f}%]\\tTrain Loss:{:.6f}'.\n",
        "                  format(epoch, batch_idx*len(image), len(train_loader.dataset), 100*batch_idx/len(train_loader), loss.item()))"
      ],
      "execution_count": null,
      "outputs": []
    },
    {
      "cell_type": "code",
      "metadata": {
        "colab": {
          "base_uri": "https://localhost:8080/"
        },
        "id": "AUHfvKqCOxvU",
        "outputId": "62d8199d-b17b-4c51-feea-3554a4c76418"
      },
      "source": [
        "EPOCHS"
      ],
      "execution_count": null,
      "outputs": [
        {
          "output_type": "execute_result",
          "data": {
            "text/plain": [
              "10"
            ]
          },
          "metadata": {
            "tags": []
          },
          "execution_count": 11
        }
      ]
    },
    {
      "cell_type": "code",
      "metadata": {
        "colab": {
          "base_uri": "https://localhost:8080/",
          "height": 415
        },
        "id": "Mld56Z1nOJbZ",
        "outputId": "a51634f9-b5e0-47e9-d9b7-03b4efcc018c"
      },
      "source": [
        "for epoch in range(1, EPOCHS + 1):\n",
        "    train(model, train_loader, optimizer, log_interval = 2000)\n",
        "    test_loss, test_accuracy = evaluate(model, test_loader)\n",
        "    print('\\n EPOCH : ', epoch, '\\nTest Loss : ', test_loss,\n",
        "          '\\n')"
      ],
      "execution_count": null,
      "outputs": [
        {
          "output_type": "stream",
          "text": [
            "Train Epoch:1[0/50000 0%]\tTrain Loss:2.316306\n"
          ],
          "name": "stdout"
        },
        {
          "output_type": "error",
          "ename": "KeyboardInterrupt",
          "evalue": "ignored",
          "traceback": [
            "\u001b[0;31m---------------------------------------------------------------------------\u001b[0m",
            "\u001b[0;31mKeyboardInterrupt\u001b[0m                         Traceback (most recent call last)",
            "\u001b[0;32m<ipython-input-12-70810f3429a0>\u001b[0m in \u001b[0;36m<module>\u001b[0;34m()\u001b[0m\n\u001b[1;32m      1\u001b[0m \u001b[0;32mfor\u001b[0m \u001b[0mepoch\u001b[0m \u001b[0;32min\u001b[0m \u001b[0mrange\u001b[0m\u001b[0;34m(\u001b[0m\u001b[0;36m1\u001b[0m\u001b[0;34m,\u001b[0m \u001b[0mEPOCHS\u001b[0m \u001b[0;34m+\u001b[0m \u001b[0;36m1\u001b[0m\u001b[0;34m)\u001b[0m\u001b[0;34m:\u001b[0m\u001b[0;34m\u001b[0m\u001b[0;34m\u001b[0m\u001b[0m\n\u001b[0;32m----> 2\u001b[0;31m     \u001b[0mtrain\u001b[0m\u001b[0;34m(\u001b[0m\u001b[0mmodel\u001b[0m\u001b[0;34m,\u001b[0m \u001b[0mtrain_loader\u001b[0m\u001b[0;34m,\u001b[0m \u001b[0moptimizer\u001b[0m\u001b[0;34m,\u001b[0m \u001b[0mlog_interval\u001b[0m \u001b[0;34m=\u001b[0m \u001b[0;36m2000\u001b[0m\u001b[0;34m)\u001b[0m\u001b[0;34m\u001b[0m\u001b[0;34m\u001b[0m\u001b[0m\n\u001b[0m\u001b[1;32m      3\u001b[0m     \u001b[0mtest_loss\u001b[0m\u001b[0;34m,\u001b[0m \u001b[0mtest_accuracy\u001b[0m \u001b[0;34m=\u001b[0m \u001b[0mevaluate\u001b[0m\u001b[0;34m(\u001b[0m\u001b[0mmodel\u001b[0m\u001b[0;34m,\u001b[0m \u001b[0mtest_loader\u001b[0m\u001b[0;34m)\u001b[0m\u001b[0;34m\u001b[0m\u001b[0;34m\u001b[0m\u001b[0m\n\u001b[1;32m      4\u001b[0m     print('\\n EPOCH : ', epoch, '\\nTest Loss : ', test_loss,\n\u001b[1;32m      5\u001b[0m           '\\n')\n",
            "\u001b[0;32m<ipython-input-10-c567cae8890a>\u001b[0m in \u001b[0;36mtrain\u001b[0;34m(model, train_loader, optimizer, log_interval)\u001b[0m\n\u001b[1;32m      5\u001b[0m     \u001b[0;31m# train_loader 에는 학습에 이용되는 이미지 데이터와 레이블 데이터가 Mini Batch 단위로 묶여 저장되어 있음\u001b[0m\u001b[0;34m\u001b[0m\u001b[0;34m\u001b[0m\u001b[0;34m\u001b[0m\u001b[0m\n\u001b[1;32m      6\u001b[0m     \u001b[0;31m# 훈련 데이터의 배치 번호와 이미지 및 레이블을 순회\u001b[0m\u001b[0;34m\u001b[0m\u001b[0;34m\u001b[0m\u001b[0;34m\u001b[0m\u001b[0m\n\u001b[0;32m----> 7\u001b[0;31m     \u001b[0;32mfor\u001b[0m \u001b[0mbatch_idx\u001b[0m\u001b[0;34m,\u001b[0m \u001b[0;34m(\u001b[0m\u001b[0mimage\u001b[0m\u001b[0;34m,\u001b[0m \u001b[0mlabel\u001b[0m\u001b[0;34m)\u001b[0m \u001b[0;32min\u001b[0m \u001b[0menumerate\u001b[0m\u001b[0;34m(\u001b[0m\u001b[0mtrain_loader\u001b[0m\u001b[0;34m)\u001b[0m\u001b[0;34m:\u001b[0m\u001b[0;34m\u001b[0m\u001b[0;34m\u001b[0m\u001b[0m\n\u001b[0m\u001b[1;32m      8\u001b[0m         \u001b[0;31m# image와 label을 DEVICE에 할당\u001b[0m\u001b[0;34m\u001b[0m\u001b[0;34m\u001b[0m\u001b[0;34m\u001b[0m\u001b[0m\n\u001b[1;32m      9\u001b[0m         \u001b[0mimage\u001b[0m \u001b[0;34m=\u001b[0m \u001b[0mimage\u001b[0m\u001b[0;34m.\u001b[0m\u001b[0mto\u001b[0m\u001b[0;34m(\u001b[0m\u001b[0mDEVICE\u001b[0m\u001b[0;34m)\u001b[0m\u001b[0;34m\u001b[0m\u001b[0;34m\u001b[0m\u001b[0m\n",
            "\u001b[0;32m/usr/local/lib/python3.7/dist-packages/torch/utils/data/dataloader.py\u001b[0m in \u001b[0;36m__next__\u001b[0;34m(self)\u001b[0m\n\u001b[1;32m    519\u001b[0m             \u001b[0;32mif\u001b[0m \u001b[0mself\u001b[0m\u001b[0;34m.\u001b[0m\u001b[0m_sampler_iter\u001b[0m \u001b[0;32mis\u001b[0m \u001b[0;32mNone\u001b[0m\u001b[0;34m:\u001b[0m\u001b[0;34m\u001b[0m\u001b[0;34m\u001b[0m\u001b[0m\n\u001b[1;32m    520\u001b[0m                 \u001b[0mself\u001b[0m\u001b[0;34m.\u001b[0m\u001b[0m_reset\u001b[0m\u001b[0;34m(\u001b[0m\u001b[0;34m)\u001b[0m\u001b[0;34m\u001b[0m\u001b[0;34m\u001b[0m\u001b[0m\n\u001b[0;32m--> 521\u001b[0;31m             \u001b[0mdata\u001b[0m \u001b[0;34m=\u001b[0m \u001b[0mself\u001b[0m\u001b[0;34m.\u001b[0m\u001b[0m_next_data\u001b[0m\u001b[0;34m(\u001b[0m\u001b[0;34m)\u001b[0m\u001b[0;34m\u001b[0m\u001b[0;34m\u001b[0m\u001b[0m\n\u001b[0m\u001b[1;32m    522\u001b[0m             \u001b[0mself\u001b[0m\u001b[0;34m.\u001b[0m\u001b[0m_num_yielded\u001b[0m \u001b[0;34m+=\u001b[0m \u001b[0;36m1\u001b[0m\u001b[0;34m\u001b[0m\u001b[0;34m\u001b[0m\u001b[0m\n\u001b[1;32m    523\u001b[0m             \u001b[0;32mif\u001b[0m \u001b[0mself\u001b[0m\u001b[0;34m.\u001b[0m\u001b[0m_dataset_kind\u001b[0m \u001b[0;34m==\u001b[0m \u001b[0m_DatasetKind\u001b[0m\u001b[0;34m.\u001b[0m\u001b[0mIterable\u001b[0m \u001b[0;32mand\u001b[0m\u001b[0;31m \u001b[0m\u001b[0;31m\\\u001b[0m\u001b[0;34m\u001b[0m\u001b[0;34m\u001b[0m\u001b[0m\n",
            "\u001b[0;32m/usr/local/lib/python3.7/dist-packages/torch/utils/data/dataloader.py\u001b[0m in \u001b[0;36m_next_data\u001b[0;34m(self)\u001b[0m\n\u001b[1;32m    559\u001b[0m     \u001b[0;32mdef\u001b[0m \u001b[0m_next_data\u001b[0m\u001b[0;34m(\u001b[0m\u001b[0mself\u001b[0m\u001b[0;34m)\u001b[0m\u001b[0;34m:\u001b[0m\u001b[0;34m\u001b[0m\u001b[0;34m\u001b[0m\u001b[0m\n\u001b[1;32m    560\u001b[0m         \u001b[0mindex\u001b[0m \u001b[0;34m=\u001b[0m \u001b[0mself\u001b[0m\u001b[0;34m.\u001b[0m\u001b[0m_next_index\u001b[0m\u001b[0;34m(\u001b[0m\u001b[0;34m)\u001b[0m  \u001b[0;31m# may raise StopIteration\u001b[0m\u001b[0;34m\u001b[0m\u001b[0;34m\u001b[0m\u001b[0m\n\u001b[0;32m--> 561\u001b[0;31m         \u001b[0mdata\u001b[0m \u001b[0;34m=\u001b[0m \u001b[0mself\u001b[0m\u001b[0;34m.\u001b[0m\u001b[0m_dataset_fetcher\u001b[0m\u001b[0;34m.\u001b[0m\u001b[0mfetch\u001b[0m\u001b[0;34m(\u001b[0m\u001b[0mindex\u001b[0m\u001b[0;34m)\u001b[0m  \u001b[0;31m# may raise StopIteration\u001b[0m\u001b[0;34m\u001b[0m\u001b[0;34m\u001b[0m\u001b[0m\n\u001b[0m\u001b[1;32m    562\u001b[0m         \u001b[0;32mif\u001b[0m \u001b[0mself\u001b[0m\u001b[0;34m.\u001b[0m\u001b[0m_pin_memory\u001b[0m\u001b[0;34m:\u001b[0m\u001b[0;34m\u001b[0m\u001b[0;34m\u001b[0m\u001b[0m\n\u001b[1;32m    563\u001b[0m             \u001b[0mdata\u001b[0m \u001b[0;34m=\u001b[0m \u001b[0m_utils\u001b[0m\u001b[0;34m.\u001b[0m\u001b[0mpin_memory\u001b[0m\u001b[0;34m.\u001b[0m\u001b[0mpin_memory\u001b[0m\u001b[0;34m(\u001b[0m\u001b[0mdata\u001b[0m\u001b[0;34m)\u001b[0m\u001b[0;34m\u001b[0m\u001b[0;34m\u001b[0m\u001b[0m\n",
            "\u001b[0;32m/usr/local/lib/python3.7/dist-packages/torch/utils/data/_utils/fetch.py\u001b[0m in \u001b[0;36mfetch\u001b[0;34m(self, possibly_batched_index)\u001b[0m\n\u001b[1;32m     42\u001b[0m     \u001b[0;32mdef\u001b[0m \u001b[0mfetch\u001b[0m\u001b[0;34m(\u001b[0m\u001b[0mself\u001b[0m\u001b[0;34m,\u001b[0m \u001b[0mpossibly_batched_index\u001b[0m\u001b[0;34m)\u001b[0m\u001b[0;34m:\u001b[0m\u001b[0;34m\u001b[0m\u001b[0;34m\u001b[0m\u001b[0m\n\u001b[1;32m     43\u001b[0m         \u001b[0;32mif\u001b[0m \u001b[0mself\u001b[0m\u001b[0;34m.\u001b[0m\u001b[0mauto_collation\u001b[0m\u001b[0;34m:\u001b[0m\u001b[0;34m\u001b[0m\u001b[0;34m\u001b[0m\u001b[0m\n\u001b[0;32m---> 44\u001b[0;31m             \u001b[0mdata\u001b[0m \u001b[0;34m=\u001b[0m \u001b[0;34m[\u001b[0m\u001b[0mself\u001b[0m\u001b[0;34m.\u001b[0m\u001b[0mdataset\u001b[0m\u001b[0;34m[\u001b[0m\u001b[0midx\u001b[0m\u001b[0;34m]\u001b[0m \u001b[0;32mfor\u001b[0m \u001b[0midx\u001b[0m \u001b[0;32min\u001b[0m \u001b[0mpossibly_batched_index\u001b[0m\u001b[0;34m]\u001b[0m\u001b[0;34m\u001b[0m\u001b[0;34m\u001b[0m\u001b[0m\n\u001b[0m\u001b[1;32m     45\u001b[0m         \u001b[0;32melse\u001b[0m\u001b[0;34m:\u001b[0m\u001b[0;34m\u001b[0m\u001b[0;34m\u001b[0m\u001b[0m\n\u001b[1;32m     46\u001b[0m             \u001b[0mdata\u001b[0m \u001b[0;34m=\u001b[0m \u001b[0mself\u001b[0m\u001b[0;34m.\u001b[0m\u001b[0mdataset\u001b[0m\u001b[0;34m[\u001b[0m\u001b[0mpossibly_batched_index\u001b[0m\u001b[0;34m]\u001b[0m\u001b[0;34m\u001b[0m\u001b[0;34m\u001b[0m\u001b[0m\n",
            "\u001b[0;32m/usr/local/lib/python3.7/dist-packages/torch/utils/data/_utils/fetch.py\u001b[0m in \u001b[0;36m<listcomp>\u001b[0;34m(.0)\u001b[0m\n\u001b[1;32m     42\u001b[0m     \u001b[0;32mdef\u001b[0m \u001b[0mfetch\u001b[0m\u001b[0;34m(\u001b[0m\u001b[0mself\u001b[0m\u001b[0;34m,\u001b[0m \u001b[0mpossibly_batched_index\u001b[0m\u001b[0;34m)\u001b[0m\u001b[0;34m:\u001b[0m\u001b[0;34m\u001b[0m\u001b[0;34m\u001b[0m\u001b[0m\n\u001b[1;32m     43\u001b[0m         \u001b[0;32mif\u001b[0m \u001b[0mself\u001b[0m\u001b[0;34m.\u001b[0m\u001b[0mauto_collation\u001b[0m\u001b[0;34m:\u001b[0m\u001b[0;34m\u001b[0m\u001b[0;34m\u001b[0m\u001b[0m\n\u001b[0;32m---> 44\u001b[0;31m             \u001b[0mdata\u001b[0m \u001b[0;34m=\u001b[0m \u001b[0;34m[\u001b[0m\u001b[0mself\u001b[0m\u001b[0;34m.\u001b[0m\u001b[0mdataset\u001b[0m\u001b[0;34m[\u001b[0m\u001b[0midx\u001b[0m\u001b[0;34m]\u001b[0m \u001b[0;32mfor\u001b[0m \u001b[0midx\u001b[0m \u001b[0;32min\u001b[0m \u001b[0mpossibly_batched_index\u001b[0m\u001b[0;34m]\u001b[0m\u001b[0;34m\u001b[0m\u001b[0;34m\u001b[0m\u001b[0m\n\u001b[0m\u001b[1;32m     45\u001b[0m         \u001b[0;32melse\u001b[0m\u001b[0;34m:\u001b[0m\u001b[0;34m\u001b[0m\u001b[0;34m\u001b[0m\u001b[0m\n\u001b[1;32m     46\u001b[0m             \u001b[0mdata\u001b[0m \u001b[0;34m=\u001b[0m \u001b[0mself\u001b[0m\u001b[0;34m.\u001b[0m\u001b[0mdataset\u001b[0m\u001b[0;34m[\u001b[0m\u001b[0mpossibly_batched_index\u001b[0m\u001b[0;34m]\u001b[0m\u001b[0;34m\u001b[0m\u001b[0;34m\u001b[0m\u001b[0m\n",
            "\u001b[0;32m/usr/local/lib/python3.7/dist-packages/torchvision/datasets/cifar.py\u001b[0m in \u001b[0;36m__getitem__\u001b[0;34m(self, index)\u001b[0m\n\u001b[1;32m    118\u001b[0m \u001b[0;34m\u001b[0m\u001b[0m\n\u001b[1;32m    119\u001b[0m         \u001b[0;32mif\u001b[0m \u001b[0mself\u001b[0m\u001b[0;34m.\u001b[0m\u001b[0mtransform\u001b[0m \u001b[0;32mis\u001b[0m \u001b[0;32mnot\u001b[0m \u001b[0;32mNone\u001b[0m\u001b[0;34m:\u001b[0m\u001b[0;34m\u001b[0m\u001b[0;34m\u001b[0m\u001b[0m\n\u001b[0;32m--> 120\u001b[0;31m             \u001b[0mimg\u001b[0m \u001b[0;34m=\u001b[0m \u001b[0mself\u001b[0m\u001b[0;34m.\u001b[0m\u001b[0mtransform\u001b[0m\u001b[0;34m(\u001b[0m\u001b[0mimg\u001b[0m\u001b[0;34m)\u001b[0m\u001b[0;34m\u001b[0m\u001b[0;34m\u001b[0m\u001b[0m\n\u001b[0m\u001b[1;32m    121\u001b[0m \u001b[0;34m\u001b[0m\u001b[0m\n\u001b[1;32m    122\u001b[0m         \u001b[0;32mif\u001b[0m \u001b[0mself\u001b[0m\u001b[0;34m.\u001b[0m\u001b[0mtarget_transform\u001b[0m \u001b[0;32mis\u001b[0m \u001b[0;32mnot\u001b[0m \u001b[0;32mNone\u001b[0m\u001b[0;34m:\u001b[0m\u001b[0;34m\u001b[0m\u001b[0;34m\u001b[0m\u001b[0m\n",
            "\u001b[0;32m/usr/local/lib/python3.7/dist-packages/torchvision/transforms/transforms.py\u001b[0m in \u001b[0;36m__call__\u001b[0;34m(self, pic)\u001b[0m\n\u001b[1;32m     95\u001b[0m             \u001b[0mTensor\u001b[0m\u001b[0;34m:\u001b[0m \u001b[0mConverted\u001b[0m \u001b[0mimage\u001b[0m\u001b[0;34m.\u001b[0m\u001b[0;34m\u001b[0m\u001b[0;34m\u001b[0m\u001b[0m\n\u001b[1;32m     96\u001b[0m         \"\"\"\n\u001b[0;32m---> 97\u001b[0;31m         \u001b[0;32mreturn\u001b[0m \u001b[0mF\u001b[0m\u001b[0;34m.\u001b[0m\u001b[0mto_tensor\u001b[0m\u001b[0;34m(\u001b[0m\u001b[0mpic\u001b[0m\u001b[0;34m)\u001b[0m\u001b[0;34m\u001b[0m\u001b[0;34m\u001b[0m\u001b[0m\n\u001b[0m\u001b[1;32m     98\u001b[0m \u001b[0;34m\u001b[0m\u001b[0m\n\u001b[1;32m     99\u001b[0m     \u001b[0;32mdef\u001b[0m \u001b[0m__repr__\u001b[0m\u001b[0;34m(\u001b[0m\u001b[0mself\u001b[0m\u001b[0;34m)\u001b[0m\u001b[0;34m:\u001b[0m\u001b[0;34m\u001b[0m\u001b[0;34m\u001b[0m\u001b[0m\n",
            "\u001b[0;32m/usr/local/lib/python3.7/dist-packages/torchvision/transforms/functional.py\u001b[0m in \u001b[0;36mto_tensor\u001b[0;34m(pic)\u001b[0m\n\u001b[1;32m    136\u001b[0m     \u001b[0mimg\u001b[0m \u001b[0;34m=\u001b[0m \u001b[0mimg\u001b[0m\u001b[0;34m.\u001b[0m\u001b[0mpermute\u001b[0m\u001b[0;34m(\u001b[0m\u001b[0;34m(\u001b[0m\u001b[0;36m2\u001b[0m\u001b[0;34m,\u001b[0m \u001b[0;36m0\u001b[0m\u001b[0;34m,\u001b[0m \u001b[0;36m1\u001b[0m\u001b[0;34m)\u001b[0m\u001b[0;34m)\u001b[0m\u001b[0;34m.\u001b[0m\u001b[0mcontiguous\u001b[0m\u001b[0;34m(\u001b[0m\u001b[0;34m)\u001b[0m\u001b[0;34m\u001b[0m\u001b[0;34m\u001b[0m\u001b[0m\n\u001b[1;32m    137\u001b[0m     \u001b[0;32mif\u001b[0m \u001b[0misinstance\u001b[0m\u001b[0;34m(\u001b[0m\u001b[0mimg\u001b[0m\u001b[0;34m,\u001b[0m \u001b[0mtorch\u001b[0m\u001b[0;34m.\u001b[0m\u001b[0mByteTensor\u001b[0m\u001b[0;34m)\u001b[0m\u001b[0;34m:\u001b[0m\u001b[0;34m\u001b[0m\u001b[0;34m\u001b[0m\u001b[0m\n\u001b[0;32m--> 138\u001b[0;31m         \u001b[0;32mreturn\u001b[0m \u001b[0mimg\u001b[0m\u001b[0;34m.\u001b[0m\u001b[0mto\u001b[0m\u001b[0;34m(\u001b[0m\u001b[0mdtype\u001b[0m\u001b[0;34m=\u001b[0m\u001b[0mdefault_float_dtype\u001b[0m\u001b[0;34m)\u001b[0m\u001b[0;34m.\u001b[0m\u001b[0mdiv\u001b[0m\u001b[0;34m(\u001b[0m\u001b[0;36m255\u001b[0m\u001b[0;34m)\u001b[0m\u001b[0;34m\u001b[0m\u001b[0;34m\u001b[0m\u001b[0m\n\u001b[0m\u001b[1;32m    139\u001b[0m     \u001b[0;32melse\u001b[0m\u001b[0;34m:\u001b[0m\u001b[0;34m\u001b[0m\u001b[0;34m\u001b[0m\u001b[0m\n\u001b[1;32m    140\u001b[0m         \u001b[0;32mreturn\u001b[0m \u001b[0mimg\u001b[0m\u001b[0;34m\u001b[0m\u001b[0;34m\u001b[0m\u001b[0m\n",
            "\u001b[0;31mKeyboardInterrupt\u001b[0m: "
          ]
        }
      ]
    },
    {
      "cell_type": "code",
      "metadata": {
        "id": "qv2Yfc6KOziC"
      },
      "source": [
        ""
      ],
      "execution_count": null,
      "outputs": []
    }
  ]
}