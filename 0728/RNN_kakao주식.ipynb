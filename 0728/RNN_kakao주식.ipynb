{
  "nbformat": 4,
  "nbformat_minor": 0,
  "metadata": {
    "colab": {
      "name": "RNN-kakao주식.ipynb",
      "provenance": [],
      "collapsed_sections": [],
      "toc_visible": true,
      "mount_file_id": "183oPp4XpvrdVRJV397XeeQOrMqRDvdT3",
      "authorship_tag": "ABX9TyNrZNog8ZTgUjPtvCqG1ikb",
      "include_colab_link": true
    },
    "kernelspec": {
      "name": "python3",
      "display_name": "Python 3"
    },
    "language_info": {
      "name": "python"
    }
  },
  "cells": [
    {
      "cell_type": "markdown",
      "metadata": {
        "id": "view-in-github",
        "colab_type": "text"
      },
      "source": [
        "<a href=\"https://colab.research.google.com/github/2SEHI/K-Digital_Lecture/blob/main/0728/RNN_kakao%EC%A3%BC%EC%8B%9D.ipynb\" target=\"_parent\"><img src=\"https://colab.research.google.com/assets/colab-badge.svg\" alt=\"Open In Colab\"/></a>"
      ]
    },
    {
      "cell_type": "markdown",
      "metadata": {
        "id": "DWR7aK84MX97"
      },
      "source": [
        "# RNN Layer(최상위 클래스 = RNN)\n",
        "- RNN Layer를 만들고자 할 때 공통된 부분을 RNN에 만들어 놓고 상속을 받아서 쓰는 것\n",
        "\n",
        "## SimpleRNN \n",
        "- RNN을 공부할 때 사용하며, 잘 쓰이지 않습니다.\n",
        "\n",
        "## LSTM\n",
        "- 오랫동안 기억\n",
        "- 처음에 중요한 정보가 있는 경우 SimpleRNN은 진행하면 오래된 정보를 잊어버리기 때문에 성능이 저하될 수 밖에 없어서 이전 상태도 저장하기 위해서 사용합니다.\n"
      ]
    },
    {
      "cell_type": "markdown",
      "metadata": {
        "id": "qRcHltYZdx5_"
      },
      "source": [
        "## kakao주식 분석\n",
        "- 데이터\n",
        "https://finance.yahoo.com/quote/035720.KS/history?p=035720.KS\n",
        "\n",
        "- 타겟은 여러개가 될 수 있다. 다만 Bert를 사용할 때는 질문에 대한 응답이 한 개가 나오며 여러개의 출력층을 만들면 질의와 추천 두가지의 결과를 만들 수 있습니다.\n"
      ]
    },
    {
      "cell_type": "code",
      "metadata": {
        "colab": {
          "base_uri": "https://localhost:8080/",
          "height": 414
        },
        "id": "FItah3-_d1Bk",
        "outputId": "a8b82961-dd17-4d5e-81c2-d022da433765"
      },
      "source": [
        "import numpy as np\n",
        "import pandas as pd \n",
        "from pandas.io.parsers import read_csv\n",
        "\n",
        "from tensorflow.keras.models import Sequential\n",
        "from tensorflow.keras.layers import Dense, Activation, Dropout, LSTM\n",
        "\n",
        "items = pd.read_csv('/content/drive/MyDrive/Colab Notebooks/data/kakao-inv.KS.csv')\n",
        "items"
      ],
      "execution_count": null,
      "outputs": [
        {
          "output_type": "execute_result",
          "data": {
            "text/html": [
              "<div>\n",
              "<style scoped>\n",
              "    .dataframe tbody tr th:only-of-type {\n",
              "        vertical-align: middle;\n",
              "    }\n",
              "\n",
              "    .dataframe tbody tr th {\n",
              "        vertical-align: top;\n",
              "    }\n",
              "\n",
              "    .dataframe thead th {\n",
              "        text-align: right;\n",
              "    }\n",
              "</style>\n",
              "<table border=\"1\" class=\"dataframe\">\n",
              "  <thead>\n",
              "    <tr style=\"text-align: right;\">\n",
              "      <th></th>\n",
              "      <th>Date</th>\n",
              "      <th>Open</th>\n",
              "      <th>High</th>\n",
              "      <th>Low</th>\n",
              "      <th>Close</th>\n",
              "      <th>Adj Close</th>\n",
              "      <th>Volume</th>\n",
              "    </tr>\n",
              "  </thead>\n",
              "  <tbody>\n",
              "    <tr>\n",
              "      <th>0</th>\n",
              "      <td>2016-07-28</td>\n",
              "      <td>18280.0</td>\n",
              "      <td>18400.0</td>\n",
              "      <td>18140.0</td>\n",
              "      <td>18320.0</td>\n",
              "      <td>18215.750000</td>\n",
              "      <td>1102880.0</td>\n",
              "    </tr>\n",
              "    <tr>\n",
              "      <th>1</th>\n",
              "      <td>2016-07-29</td>\n",
              "      <td>18300.0</td>\n",
              "      <td>18320.0</td>\n",
              "      <td>18180.0</td>\n",
              "      <td>18180.0</td>\n",
              "      <td>18076.544922</td>\n",
              "      <td>1180655.0</td>\n",
              "    </tr>\n",
              "    <tr>\n",
              "      <th>2</th>\n",
              "      <td>2016-08-01</td>\n",
              "      <td>18300.0</td>\n",
              "      <td>18320.0</td>\n",
              "      <td>18120.0</td>\n",
              "      <td>18200.0</td>\n",
              "      <td>18096.427734</td>\n",
              "      <td>1174915.0</td>\n",
              "    </tr>\n",
              "    <tr>\n",
              "      <th>3</th>\n",
              "      <td>2016-08-02</td>\n",
              "      <td>18200.0</td>\n",
              "      <td>18260.0</td>\n",
              "      <td>18160.0</td>\n",
              "      <td>18200.0</td>\n",
              "      <td>18096.427734</td>\n",
              "      <td>614470.0</td>\n",
              "    </tr>\n",
              "    <tr>\n",
              "      <th>4</th>\n",
              "      <td>2016-08-03</td>\n",
              "      <td>18140.0</td>\n",
              "      <td>18840.0</td>\n",
              "      <td>18120.0</td>\n",
              "      <td>18780.0</td>\n",
              "      <td>18673.130859</td>\n",
              "      <td>2082885.0</td>\n",
              "    </tr>\n",
              "    <tr>\n",
              "      <th>...</th>\n",
              "      <td>...</td>\n",
              "      <td>...</td>\n",
              "      <td>...</td>\n",
              "      <td>...</td>\n",
              "      <td>...</td>\n",
              "      <td>...</td>\n",
              "      <td>...</td>\n",
              "    </tr>\n",
              "    <tr>\n",
              "      <th>1223</th>\n",
              "      <td>2021-07-22</td>\n",
              "      <td>144500.0</td>\n",
              "      <td>148000.0</td>\n",
              "      <td>142500.0</td>\n",
              "      <td>147500.0</td>\n",
              "      <td>147500.000000</td>\n",
              "      <td>5759268.0</td>\n",
              "    </tr>\n",
              "    <tr>\n",
              "      <th>1224</th>\n",
              "      <td>2021-07-23</td>\n",
              "      <td>148500.0</td>\n",
              "      <td>153500.0</td>\n",
              "      <td>147500.0</td>\n",
              "      <td>149500.0</td>\n",
              "      <td>149500.000000</td>\n",
              "      <td>5249906.0</td>\n",
              "    </tr>\n",
              "    <tr>\n",
              "      <th>1225</th>\n",
              "      <td>2021-07-26</td>\n",
              "      <td>151500.0</td>\n",
              "      <td>153000.0</td>\n",
              "      <td>146500.0</td>\n",
              "      <td>147500.0</td>\n",
              "      <td>147500.000000</td>\n",
              "      <td>4071898.0</td>\n",
              "    </tr>\n",
              "    <tr>\n",
              "      <th>1226</th>\n",
              "      <td>2021-07-27</td>\n",
              "      <td>147500.0</td>\n",
              "      <td>149000.0</td>\n",
              "      <td>145500.0</td>\n",
              "      <td>148000.0</td>\n",
              "      <td>148000.000000</td>\n",
              "      <td>3357695.0</td>\n",
              "    </tr>\n",
              "    <tr>\n",
              "      <th>1227</th>\n",
              "      <td>2021-07-28</td>\n",
              "      <td>147000.0</td>\n",
              "      <td>149500.0</td>\n",
              "      <td>146500.0</td>\n",
              "      <td>148000.0</td>\n",
              "      <td>148000.000000</td>\n",
              "      <td>1296252.0</td>\n",
              "    </tr>\n",
              "  </tbody>\n",
              "</table>\n",
              "<p>1228 rows × 7 columns</p>\n",
              "</div>"
            ],
            "text/plain": [
              "            Date      Open      High  ...     Close      Adj Close     Volume\n",
              "0     2016-07-28   18280.0   18400.0  ...   18320.0   18215.750000  1102880.0\n",
              "1     2016-07-29   18300.0   18320.0  ...   18180.0   18076.544922  1180655.0\n",
              "2     2016-08-01   18300.0   18320.0  ...   18200.0   18096.427734  1174915.0\n",
              "3     2016-08-02   18200.0   18260.0  ...   18200.0   18096.427734   614470.0\n",
              "4     2016-08-03   18140.0   18840.0  ...   18780.0   18673.130859  2082885.0\n",
              "...          ...       ...       ...  ...       ...            ...        ...\n",
              "1223  2021-07-22  144500.0  148000.0  ...  147500.0  147500.000000  5759268.0\n",
              "1224  2021-07-23  148500.0  153500.0  ...  149500.0  149500.000000  5249906.0\n",
              "1225  2021-07-26  151500.0  153000.0  ...  147500.0  147500.000000  4071898.0\n",
              "1226  2021-07-27  147500.0  149000.0  ...  148000.0  148000.000000  3357695.0\n",
              "1227  2021-07-28  147000.0  149500.0  ...  148000.0  148000.000000  1296252.0\n",
              "\n",
              "[1228 rows x 7 columns]"
            ]
          },
          "metadata": {
            "tags": []
          },
          "execution_count": 110
        }
      ]
    },
    {
      "cell_type": "code",
      "metadata": {
        "id": "3m5bDjsmfsha"
      },
      "source": [
        "items.isnull().sum()\n",
        "items.dropna(how='any', inplace=True)"
      ],
      "execution_count": null,
      "outputs": []
    },
    {
      "cell_type": "markdown",
      "metadata": {
        "id": "LdWaewH8eiqN"
      },
      "source": [
        "## 레이블 생성 - high와 low의 평균\n"
      ]
    },
    {
      "cell_type": "code",
      "metadata": {
        "id": "6hgpSMDmiqSR"
      },
      "source": [
        "high_price = items['High'].values\n",
        "low_price = items['Low'].values\n",
        "mid_price = (high_price + low_price) / 2"
      ],
      "execution_count": null,
      "outputs": []
    },
    {
      "cell_type": "markdown",
      "metadata": {
        "id": "uZcZlNqsjE8M"
      },
      "source": [
        "## 분할\n",
        "- RNN을 이용해서 시계열 예측을 하기 위해서 데이터를 적당한 단위로 분할해야 합니다.\n",
        "- 50개 단위로 분할을 한다면, 1부터 50까지로 51을 예상, 2부터 51까지로 52를 예상, 3부터 52까지로 353를 예상... 이런식으로 예측한 후 실제 데이터와의 loss를 계산합니다.\n",
        "\n",
        " "
      ]
    },
    {
      "cell_type": "code",
      "metadata": {
        "colab": {
          "base_uri": "https://localhost:8080/"
        },
        "id": "AFwWflZPjuwD",
        "outputId": "612c2dcc-6a69-4dd7-fc67-af96c662146c"
      },
      "source": [
        "day_divded = 50\n",
        "day_length = day_divded +1\n",
        "day_result = []\n",
        "for i in range(len(mid_price) - day_length):\n",
        "    day_result.append(mid_price[i:i + day_length])\n",
        "\n",
        "print(day_result[0], day_result[1])"
      ],
      "execution_count": null,
      "outputs": [
        {
          "output_type": "stream",
          "text": [
            "[18270. 18250. 18220. 18210. 18480. 18610. 18560. 18390. 18460. 18600.\n",
            " 18550. 18070. 17840. 17730. 17510. 17130. 16740. 16410. 16380. 16400.\n",
            " 16200. 16020. 16020. 16100. 16300. 16290. 16310. 16300. 16030. 16190.\n",
            " 16180. 15970. 16050. 16050. 16410. 16370. 16710. 16780. 16560. 16600.\n",
            " 16600. 16490. 16590. 16390. 16730. 17040. 16870. 16620. 16440. 16050.\n",
            " 15980.] [18250. 18220. 18210. 18480. 18610. 18560. 18390. 18460. 18600. 18550.\n",
            " 18070. 17840. 17730. 17510. 17130. 16740. 16410. 16380. 16400. 16200.\n",
            " 16020. 16020. 16100. 16300. 16290. 16310. 16300. 16030. 16190. 16180.\n",
            " 15970. 16050. 16050. 16410. 16370. 16710. 16780. 16560. 16600. 16600.\n",
            " 16490. 16590. 16390. 16730. 17040. 16870. 16620. 16440. 16050. 15980.\n",
            " 15880.]\n"
          ],
          "name": "stdout"
        }
      ]
    },
    {
      "cell_type": "markdown",
      "metadata": {
        "id": "7q-DFcN9kHqX"
      },
      "source": [
        "## 시계열 데이터의 데이터 정규화\n",
        "- 일반적인 정규화 방법에는 MinMaxScalear, StandardScaler, Log 변환 등의 방법이 있습니다\n",
        "- 시계열 데이터에서는 이러한 방법을 사용하지 않는 경우가 있습니다. 왜냐하면 MinMaxScalear, StandardScaler의 경우 기준점이 있는데 시계열 예측은 현재 값을 가지고 미래 값을 예측하는 것입니다. 그런데 일반적인 정규화를 하게되면 현재 값이 음수가 될 수 있습니다. 주식의 경우 개장시의 주식은 전날 주식보다 떨어지지도 오르지도 않았기때문에 음수가 될 수 없습니다. 시계열 데이터에서는 첫번째 데이터가 기준점이 되서 0으로 놓고 나머지 데이터들이 첫번째 데이터를 기준으로 떨어졌나 높아졌나를 확인하는 첫번째 데이터와의 비율 형태로 정규화를 해야 합니다."
      ]
    },
    {
      "cell_type": "code",
      "metadata": {
        "colab": {
          "base_uri": "https://localhost:8080/"
        },
        "id": "GQQA1mB3kH22",
        "outputId": "e2fcbf79-a18b-4850-ae82-97ffb7e7bfd0"
      },
      "source": [
        "norm_result = []\n",
        "# 전체 데이터를 순회하면서 첫번째 데이터로 나눈 값에서 1을 빼서 저장\n",
        "for section in day_result :\n",
        "    norm_section = [((float(p) / float(section[0])) - 1)  for p in section]\n",
        "    norm_result.append(norm_section)\n",
        "\n",
        "day_result = np.array(norm_result)\n",
        "\n",
        "print(day_result)"
      ],
      "execution_count": null,
      "outputs": [
        {
          "output_type": "stream",
          "text": [
            "[[ 0.         -0.00109469 -0.00273673 ... -0.1001642  -0.12151067\n",
            "  -0.12534209]\n",
            " [ 0.         -0.00164384 -0.00219178 ... -0.12054795 -0.12438356\n",
            "  -0.12986301]\n",
            " [ 0.         -0.00054885  0.01427003 ... -0.12294182 -0.1284303\n",
            "  -0.11909989]\n",
            " ...\n",
            " [ 0.          0.00228311  0.00456621 ...  0.36986301  0.32648402\n",
            "   0.37442922]\n",
            " [ 0.          0.0022779   0.02733485 ...  0.32346241  0.37129841\n",
            "   0.36446469]\n",
            " [ 0.          0.025       0.03409091 ...  0.36818182  0.36136364\n",
            "   0.33863636]]\n"
          ],
          "name": "stdout"
        }
      ]
    },
    {
      "cell_type": "markdown",
      "metadata": {
        "id": "vmOZeLGopWV0"
      },
      "source": [
        "## 훈련데이터와 테스트데이터의 분리\n",
        "- "
      ]
    },
    {
      "cell_type": "code",
      "metadata": {
        "colab": {
          "base_uri": "https://localhost:8080/"
        },
        "id": "VKKG3l3xqNLX",
        "outputId": "a4b4acc2-555d-49d9-93f5-09ee2ced1f1b"
      },
      "source": [
        "train_data_rate = 0.9\n",
        "boundary = round(day_result.shape[0] * train_data_rate)\n",
        "\n",
        "# 177, 51\n",
        "train_data = day_result[:boundary, :]\n",
        "# 20, 51\n",
        "test_data = day_result[boundary:, :]\n",
        "\n",
        "# (177, 50, 1)\n",
        "x_train = train_data[:, :-1]\n",
        "# 3차원으로 변경 (177, 50, 1)\n",
        "x_train = np.reshape(x_train, (x_train.shape[0],x_train.shape[1], 1))\n",
        "# (177,)\n",
        "y_train = train_data[:, -1]\n",
        "\n",
        "# (20, 50)\n",
        "x_test = test_data[:, :-1]\n",
        "# 3차원으로 변경  (20, 50, 1)\n",
        "x_test = np.reshape(x_test, (x_test.shape[0], x_test.shape[1], 1))\n",
        "# (20,)\n",
        "y_test = test_data[:, -1]\n",
        "\n",
        "print(x_train.shape)\n",
        "print(x_test.shape)\n",
        "\n",
        "print(y_train.shape)\n",
        "print(y_test.shape)\n"
      ],
      "execution_count": null,
      "outputs": [
        {
          "output_type": "stream",
          "text": [
            "(1055, 50, 1)\n",
            "(117, 50, 1)\n",
            "(1055,)\n",
            "(117,)\n"
          ],
          "name": "stdout"
        }
      ]
    },
    {
      "cell_type": "markdown",
      "metadata": {
        "id": "WXqZ56CJqhp_"
      },
      "source": [
        "## 모델 생성\n",
        "- relu :  이 함수는 쉽게 말해 0보다 작은 값이 나온 경우 0을 반환하고, 0보다 큰 값이 나온 경우 그 값을 그대로 반환하는 함수다. 0보다 큰 값일 경우 1을 반환하는 sigmoid와 다르다. 따라서 내부 hidden layer에는 ReLU를 적용하고, 마지막 output layer에서만 sigmoid 함수를 적용하면 이전에 비해 정확도가 훨씬 올라가게 된다.\n",
        "- 활성화 함수(Activation Function)에는 Sigmoid, Leaky RelU, tanh, maxout, ReLU, ELU 가 있다."
      ]
    },
    {
      "cell_type": "code",
      "metadata": {
        "colab": {
          "base_uri": "https://localhost:8080/"
        },
        "id": "l0gi0nzStKuJ",
        "outputId": "c8e64132-c488-4470-cc0b-22dbb5622c45"
      },
      "source": [
        "model = Sequential()\n",
        "\n",
        "# 입력층 추가\n",
        "# 입력 데이터의 shape를 설정해야 하고 다음에 RNN층이 온다면\n",
        "# return_sequence를 True로 설정해야 합니다.\n",
        "model.add(LSTM(50, return_sequences=True, input_shape=(50, 1)))\n",
        "# 마지막 RNN층은 다음 층으로 출력을 전달할 필요가 없습니다.\n",
        "model.add(LSTM(64, return_sequences=False))\n",
        "model.add(Dense(1, activation='relu'))\n",
        "model.compile(loss='mse', optimizer='sgd')\n",
        "model.summary()"
      ],
      "execution_count": null,
      "outputs": [
        {
          "output_type": "stream",
          "text": [
            "Model: \"sequential_11\"\n",
            "_________________________________________________________________\n",
            "Layer (type)                 Output Shape              Param #   \n",
            "=================================================================\n",
            "lstm_20 (LSTM)               (None, 50, 50)            10400     \n",
            "_________________________________________________________________\n",
            "lstm_21 (LSTM)               (None, 64)                29440     \n",
            "_________________________________________________________________\n",
            "dense_8 (Dense)              (None, 1)                 65        \n",
            "=================================================================\n",
            "Total params: 39,905\n",
            "Trainable params: 39,905\n",
            "Non-trainable params: 0\n",
            "_________________________________________________________________\n"
          ],
          "name": "stdout"
        }
      ]
    },
    {
      "cell_type": "markdown",
      "metadata": {
        "id": "19BZGmy4tucm"
      },
      "source": [
        "## 훈련\n"
      ]
    },
    {
      "cell_type": "code",
      "metadata": {
        "colab": {
          "base_uri": "https://localhost:8080/"
        },
        "id": "93bCMbp_viHh",
        "outputId": "06be9655-8769-4822-aab7-c147711fee4f"
      },
      "source": [
        "history = model.fit(x_train, y_train, validation_data=(x_test, y_test), \n",
        "                    batch_size=10, \n",
        "                    epochs=15)"
      ],
      "execution_count": null,
      "outputs": [
        {
          "output_type": "stream",
          "text": [
            "Epoch 1/15\n",
            "106/106 [==============================] - 9s 55ms/step - loss: 0.0464 - val_loss: 0.0836\n",
            "Epoch 2/15\n",
            "106/106 [==============================] - 5s 47ms/step - loss: 0.0463 - val_loss: 0.0836\n",
            "Epoch 3/15\n",
            "106/106 [==============================] - 5s 46ms/step - loss: 0.0463 - val_loss: 0.0836\n",
            "Epoch 4/15\n",
            "106/106 [==============================] - 5s 45ms/step - loss: 0.0463 - val_loss: 0.0836\n",
            "Epoch 5/15\n",
            "106/106 [==============================] - 5s 47ms/step - loss: 0.0463 - val_loss: 0.0836\n",
            "Epoch 6/15\n",
            "106/106 [==============================] - 5s 45ms/step - loss: 0.0463 - val_loss: 0.0836\n",
            "Epoch 7/15\n",
            "106/106 [==============================] - 5s 45ms/step - loss: 0.0463 - val_loss: 0.0836\n",
            "Epoch 8/15\n",
            "106/106 [==============================] - 5s 45ms/step - loss: 0.0463 - val_loss: 0.0836\n",
            "Epoch 9/15\n",
            "106/106 [==============================] - 5s 46ms/step - loss: 0.0463 - val_loss: 0.0836\n",
            "Epoch 10/15\n",
            "106/106 [==============================] - 5s 46ms/step - loss: 0.0463 - val_loss: 0.0836\n",
            "Epoch 11/15\n",
            "106/106 [==============================] - 5s 46ms/step - loss: 0.0463 - val_loss: 0.0836\n",
            "Epoch 12/15\n",
            "106/106 [==============================] - 5s 48ms/step - loss: 0.0463 - val_loss: 0.0836\n",
            "Epoch 13/15\n",
            "106/106 [==============================] - 5s 46ms/step - loss: 0.0463 - val_loss: 0.0836\n",
            "Epoch 14/15\n",
            "106/106 [==============================] - 5s 45ms/step - loss: 0.0463 - val_loss: 0.0836\n",
            "Epoch 15/15\n",
            "106/106 [==============================] - 5s 45ms/step - loss: 0.0463 - val_loss: 0.0836\n"
          ],
          "name": "stdout"
        }
      ]
    },
    {
      "cell_type": "code",
      "metadata": {
        "colab": {
          "base_uri": "https://localhost:8080/"
        },
        "id": "B2o0xkSivrKG",
        "outputId": "43c0f30b-541b-4c38-ba5b-06e5ca3970ce"
      },
      "source": [
        "pred=model.predict(x_test)\n",
        "\n",
        "import matplotlib.pyplot as plt\n",
        "\n",
        "plot_figure = plt.figure(figsize=(30,10))\n",
        "plot_rst = plot_figure.add_subplot(111)\n",
        "plot_rst.plot(y_test, label='Real')\n",
        "plot_rst.plot(pred, label='Predict')\n",
        "plot_rst.legend()\n",
        "plt.show()"
      ],
      "execution_count": null,
      "outputs": [
        {
          "output_type": "display_data",
          "data": {
            "image/png": "[encoded data removed]",
            "text/plain": [
              "<Figure size 2160x720 with 1 Axes>"
            ]
          },
          "metadata": {
            "tags": [],
            "needs_background": "light"
          }
        }
      ]
    }
  ]
}