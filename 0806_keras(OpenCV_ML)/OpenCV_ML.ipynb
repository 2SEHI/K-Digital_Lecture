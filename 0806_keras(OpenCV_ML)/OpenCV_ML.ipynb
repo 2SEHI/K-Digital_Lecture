{
  "nbformat": 4,
  "nbformat_minor": 5,
  "metadata": {
    "kernelspec": {
      "display_name": "Python 3",
      "language": "python",
      "name": "python3"
    },
    "language_info": {
      "codemirror_mode": {
        "name": "ipython",
        "version": 3
      },
      "file_extension": ".py",
      "mimetype": "text/x-python",
      "name": "python",
      "nbconvert_exporter": "python",
      "pygments_lexer": "ipython3",
      "version": "3.8.8"
    },
    "colab": {
      "name": "OpenCV_ML.ipynb",
      "provenance": [],
      "collapsed_sections": [],
      "toc_visible": true,
      "include_colab_link": true
    }
  },
  "cells": [
    {
      "cell_type": "markdown",
      "metadata": {
        "id": "view-in-github",
        "colab_type": "text"
      },
      "source": [
        "<a href=\"https://colab.research.google.com/github/2SEHI/K-Digital_Lecture/blob/main/0806_keras(OpenCV_ML)/OpenCV_ML.ipynb\" target=\"_parent\"><img src=\"https://colab.research.google.com/assets/colab-badge.svg\" alt=\"Open In Colab\"/></a>"
      ]
    },
    {
      "cell_type": "markdown",
      "metadata": {
        "id": "dce51a0a-fb98-40aa-a230-d6177b75430f"
      },
      "source": [
        "# OpenCV와 머신러닝\n",
        "- OpenCV와 연계해서 머신러닝을 하는 방법은 2가지가 있는데 하나는 OpenCV를 이용해서 이미지를 전처리하고 머신러닝 알고리즘을 별도로 적용하는 것이며 다른 하나는 OpenCV에 내장된 머신러닝 모듈을 이용하는 방식입니다.\n",
        "- 최근의 OpenCV라이브러리에는 머신러닝 모듈이 탑재되었습니다.\n",
        "\n",
        "## 1.OpenCV ML\n",
        "- Boosting, EM, KNN, NormalBayesClassifier, LogisticRegression, RTrees, SimulatedAnnealing, SolverSystem, SVM, SVMSGD, ANN_MLP 등의 모듈이 제공됨\n",
        "- 머신러닝을 공부할때는 앙상블을 기억해두어야 하는데 여러가지 알고리즘을 적용하는 방식입니다.\n",
        "- cv2.ml이라는 패키지에 존재하고 create()함수를 이용해서 객체를 생성합니다. \n",
        "- 최근의 머신 러닝에서는 하나의 알고리즘만 사용하는 경우가 드물고 이전에 존재하던 알고리즘들로 새로운 모델을 만들어서 배포하는 경우가 많기 때문에 대부분의 경우는 학습된 모델을 읽어서 순방향 계산의 추론 단계만 수행하여 사용할 수 있는 형태로 가고 있습니다."
      ],
      "id": "dce51a0a-fb98-40aa-a230-d6177b75430f"
    },
    {
      "cell_type": "markdown",
      "metadata": {
        "id": "034ad6d2-433a-4f25-9982-a77a4098cb2b"
      },
      "source": [
        "- gzip모듈 : 압축된 파일들을 풀어서 사용할 수 있도록 해주는 파이썬 기본 모듈\n",
        "- 2층 신경망 랜덤 샘플링 미니 배치(Batch - 일괄로 번역, 모아서 처리한다는 의미) 개수가 너무 적으면 안됩니다.\n",
        "\n",
        "\n",
        "- 가장 기본적인 신경망을 만드는 방법"
      ],
      "id": "034ad6d2-433a-4f25-9982-a77a4098cb2b"
    },
    {
      "cell_type": "code",
      "metadata": {
        "id": "ccbc92f7-34e9-4bae-b60c-e06c92747a97"
      },
      "source": [
        "#1\n",
        "def extract_data(filename, num_images):\n",
        "  '''Extract the images into a 4D tensor [image index, y, x, channels].\n",
        "     Values are rescaled from [0, 255] down to [0, 1].\n",
        "  '''\n",
        "##  print('Extracting', filename)\n",
        "  with gzip.open(filename) as bytestream:\n",
        "    bytestream.read(16)\n",
        "    buf = bytestream.read(IMAGE_SIZE * IMAGE_SIZE * num_images)\n",
        "    data = np.frombuffer(buf, dtype=np.uint8).astype(np.float32)\n",
        "##    data = data/PIXEL_DEPTH\n",
        "    data = data.reshape(num_images, IMAGE_SIZE, IMAGE_SIZE)\n",
        "    return data\n",
        "\n",
        "def extract_labels(filename, num_images):\n",
        "  '''Extract the labels into a vector of int64 label IDs.'''\n",
        "##  print('Extracting', filename)\n",
        "  with gzip.open(filename) as bytestream:\n",
        "    bytestream.read(8)\n",
        "    buf = bytestream.read(1 * num_images)\n",
        "    labels = np.frombuffer(buf, dtype=np.uint8).astype(np.int32)\n",
        "  return labels\n",
        "def ont_hot_encoding(y): # assume that y is 1-D array\n",
        "    t = np.zeros((y.size, 10), dtype=np.float32)\n",
        "    for i, row in enumerate(t):\n",
        "        row[y[i]] = 1      \n",
        "    return t\n",
        "  \n",
        "# Extract it into np arrays.\n",
        "def load_MINIST(flatten=True, one_hot=True):\n",
        "  x_train=extract_data('./data/train-images-idx3-ubyte.gz',  60000)\n",
        "  y_train=extract_labels('./data/train-labels-idx1-ubyte.gz',60000)\n",
        "  x_test =extract_data('./data/t10k-images-idx3-ubyte.gz',   10000)\n",
        "  y_test =extract_labels('./data/t10k-labels-idx1-ubyte.gz', 10000)\n",
        "\n",
        "  if flatten:\n",
        "    x_train= x_train.reshape(-1, IMAGE_SIZE*IMAGE_SIZE) # (60000, 784)\n",
        "    x_test = x_test.reshape(-1, IMAGE_SIZE*IMAGE_SIZE)  # (10000, 784)\n",
        "  if one_hot:\n",
        "    y_train = ont_hot_encoding(y_train)\n",
        "    y_test = ont_hot_encoding(y_test)    \n",
        "  return (x_train, y_train), (x_test, y_test)\n",
        "\n",
        "(x_train, y_train), (x_test, y_test) = load_MINIST()\n",
        "\n",
        "#2 – 인공 신경망 생성\n",
        "# Sequential로 입력을 생성하던 부분에 해당합니다\n",
        "Ann = cv2.ml.ANN_MLP_create()\n",
        "# 입력 부분\n",
        "ann.setLayerSizes(np.array([784, 100, 10]))\n",
        "ann.setTrainMethod(cv2.ml.ANN_MLP_BACKPROP)\n",
        "ann.setActivationFunction(cv2.ml.ANN_MLP_SIGMOID_SYM)\n",
        "ann.setTermCriteria((cv2.TERM_CRITERIA_EPS+cv2.TERM_CRITERIA_COUNT,1,1e-5))\n",
        "\n",
        "trainData = cv2.ml.TrainData_create(samples=x_train,\n",
        "                                    layout=cv2.ml.ROW_SAMPLE,\n",
        "                                    responses=y_train)\n",
        "ret = ann.train(trainData)\n",
        "\n",
        "#3\n",
        "train_loss_list     = []\n",
        "train_accuracy_list = []\n",
        "test_loss_list      = []\n",
        "test_accuracy_list  = []\n",
        "\n",
        "batch_size = 1000\n",
        "train_size = 60000\n",
        "\n",
        "# 반복 횟수\n",
        "iters_num  = 10000\n",
        "iter_per_epoch = train_size//batch_size\n",
        "\n",
        "for i in range(iters_num):\n",
        "#3-1\n",
        "  batch_mask = np.random.choice(train_size, batch_size)\n",
        "  x_batch = x_train[batch_mask]\n",
        "  y_batch = y_train[batch_mask]\n",
        "  \n",
        "  trainData = cv2.ml.TrainData_create(samples=x_batch,\n",
        "                                      layout=cv2.ml.ROW_SAMPLE,\n",
        "                                      responses=y_batch)    \n",
        "  ret = ann.train(trainData, flags=cv2.ml.ANN_MLP_UPDATE_WEIGHTS)\n",
        "\n",
        "#3-2\n",
        "  if i % iter_per_epoch == 0:    \n",
        "    y_target = np.argmax(y_train, axis=1)\n",
        "    ret, res_train = ann.predict(x_train)\n",
        "    y_predict = np.argmax(res_train, axis = 1)\n",
        "    train_accuracy = np.sum(y_target==y_predict)/len(y_target)\n",
        "    train_loss = np.sum((y_train-res_train)**2)\n",
        "    train_loss /= x_train.shape[0] # 60000\n",
        "    train_accuracy_list.append(train_accuracy)\n",
        "    train_loss_list.append(train_loss)\n",
        "\n",
        "    y_target = np.argmax(y_test, axis=1)\n",
        "    ret, res_test = ann.predict(x_test)\n",
        "    y_predict = np.argmax(res_test, axis = 1)\n",
        "    test_accuracy = np.sum(y_target==y_predict)/len(y_target)\n",
        "    test_loss = np.sum((y_test-res_test)**2)\n",
        "    test_loss /= x_test.shape[0] # 10000\n",
        "    test_accuracy_list.append(test_accuracy)\n",
        "    test_loss_list.append(test_loss)\n",
        "    \n",
        "    print('train_accuracy[{}]={}, '.format(i, train_accuracy), end='')\n",
        "    print('train_loss={}'.format(train_loss))\n",
        "\n",
        "    #4\n",
        "ann.save('./data/ann-minist_2layer_BP.train')\n",
        "\n",
        "x = list(range(len(train_loss_list)))\n",
        "plt.plot(x, train_loss_list, label='train_loss')\n",
        "plt.plot(x, test_loss_list, label='test_loss')\n",
        "\n",
        "plt.legend(loc='best')\n",
        "plt.show()\n",
        "\n",
        "plt.plot(x, train_accuracy_list, label='train_accuracy')\n",
        "plt.plot(x, test_accuracy_list, label='test_accuracy')\n",
        "plt.legend(loc='best')\n",
        "plt.show()\n"
      ],
      "id": "ccbc92f7-34e9-4bae-b60c-e06c92747a97",
      "execution_count": null,
      "outputs": []
    },
    {
      "cell_type": "markdown",
      "metadata": {
        "id": "d373a639-02d7-48aa-ad84-635c7bda0933"
      },
      "source": [
        "### 미님배치를 사용하지 않고 50번 훈련 - 시간이 오래걸림\n",
        "- 제약을 제거하고 미니배치가 없습니다."
      ],
      "id": "d373a639-02d7-48aa-ad84-635c7bda0933"
    },
    {
      "cell_type": "code",
      "metadata": {
        "id": "c6ea88d1-595a-4eb8-9ee6-126c7894a386"
      },
      "source": [
        "''' ref1: http://yann.lecun.com/exdb/mnist/\n",
        "    ref2: https://gist.github.com/ischlag/41d15424e7989b936c1609b53edd1390\n",
        "'''\n",
        "import gzip\n",
        "import cv2\n",
        "import numpy as np\n",
        "import matplotlib.pyplot as plt\n",
        "\n",
        "IMAGE_SIZE  = 28\n",
        "PIXEL_DEPTH = 255\n",
        "NUM_LABELS  = 10\n",
        "#1\n",
        "def extract_data(filename, num_images):\n",
        "  '''Extract the images into a 4D tensor [image index, y, x, channels].\n",
        "     Values are rescaled from [0, 255] down to [0, 1].\n",
        "  '''\n",
        "##  print('Extracting', filename)\n",
        "  with gzip.open(filename) as bytestream:\n",
        "    bytestream.read(16)\n",
        "    buf = bytestream.read(IMAGE_SIZE * IMAGE_SIZE * num_images)\n",
        "    data = np.frombuffer(buf, dtype=np.uint8).astype(np.float32)\n",
        "##    data = data/PIXEL_DEPTH\n",
        "    data = data.reshape(num_images, IMAGE_SIZE, IMAGE_SIZE)\n",
        "    return data\n",
        "\n",
        "def extract_labels(filename, num_images):\n",
        "  '''Extract the labels into a vector of int64 label IDs.'''\n",
        "##  print('Extracting', filename)\n",
        "  with gzip.open(filename) as bytestream:\n",
        "    bytestream.read(8)\n",
        "    buf = bytestream.read(1 * num_images)\n",
        "    labels = np.frombuffer(buf, dtype=np.uint8).astype(np.int32)\n",
        "  return labels\n",
        "def ont_hot_encoding(y): # assume that y is 1-D array\n",
        "    t = np.zeros((y.size, 10), dtype=np.float32)\n",
        "    for i, row in enumerate(t):\n",
        "        row[y[i]] = 1      \n",
        "    return t\n",
        "  \n",
        "# Extract it into np arrays.\n",
        "def load_MINIST(flatten=True, one_hot=True):\n",
        "  x_train=extract_data('./data/train-images-idx3-ubyte.gz',60000)\n",
        "  y_train=extract_labels('./data/train-labels-idx1-ubyte.gz',60000)\n",
        "  x_test=extract_data('./data/t10k-images-idx3-ubyte.gz',10000)\n",
        "  y_test=extract_labels('./data/t10k-labels-idx1-ubyte.gz',10000)\n",
        "\n",
        "  if flatten:\n",
        "    x_train= x_train.reshape(-1, IMAGE_SIZE*IMAGE_SIZE) # (60000, 784)\n",
        "    x_test = x_test.reshape(-1, IMAGE_SIZE*IMAGE_SIZE)  # (10000, 784)\n",
        "  if one_hot:\n",
        "    y_train = ont_hot_encoding(y_train)\n",
        "    y_test = ont_hot_encoding(y_test)    \n",
        "  return (x_train, y_train), (x_test, y_test)\n",
        "\n",
        "(x_train, y_train), (x_test, y_test) = load_MINIST()\n",
        "\n",
        "#2\n",
        "ann = cv2.ml.ANN_MLP_create()\n",
        "ann.setLayerSizes(np.array([784, 100, 10]))\n",
        "##ann.setLayerSizes(np.array([784, 50, 50, 10]))\n",
        "\n",
        "# 제약을 제거하고 미니배치가 없습니다.\n",
        "##ann.setTrainMethod(cv2.ml.ANN_MLP_RPROP)\n",
        "ann.setActivationFunction(cv2.ml.ANN_MLP_SIGMOID_SYM)\n",
        "ann.setTermCriteria((cv2.TERM_CRITERIA_EPS+cv2.TERM_CRITERIA_COUNT,20,1e-5))\n",
        "\n",
        "trainData = cv2.ml.TrainData_create(samples=x_train,\n",
        "                                    layout=cv2.ml.ROW_SAMPLE,\n",
        "                                    responses=y_train)\n",
        "ret = ann.train(trainData)\n",
        "\n",
        "#3\n",
        "train_loss_list     = []\n",
        "train_accuracy_list = []\n",
        "test_loss_list      = []\n",
        "test_accuracy_list  = []\n",
        "\n",
        "train_size = 60000\n",
        "iters_num  = 100\n",
        "\n",
        "for i in range(iters_num):\n",
        "  ret = ann.train(trainData, flags=cv2.ml.ANN_MLP_UPDATE_WEIGHTS)\n",
        "\n",
        "  y_target = np.argmax(y_train, axis=1)\n",
        "  ret, res_train = ann.predict(x_train)\n",
        "  y_predict = np.argmax(res_train, axis = 1)\n",
        "  train_accuracy = np.sum(y_target==y_predict)/len(y_target)\n",
        "  train_loss = np.sum((y_train-res_train)**2)\n",
        "  train_loss /= x_train.shape[0] # 60000\n",
        "  train_accuracy_list.append(train_accuracy)\n",
        "  train_loss_list.append(train_loss)\n",
        "\n",
        "y_target = np.argmax(y_test, axis=1)\n",
        "  ret, res_test = ann.predict(x_test)\n",
        "  y_predict = np.argmax(res_test, axis = 1)\n",
        "  test_accuracy = np.sum(y_target==y_predict)/len(y_target)\n",
        "  test_loss = np.sum((y_test-res_test)**2)\n",
        "  test_loss /= x_test.shape[0] # 10000\n",
        "  test_accuracy_list.append(test_accuracy)\n",
        "  test_loss_list.append(test_loss)\n",
        "    \n",
        "  print('train_accuracy[{}]={}, '.format(i, train_accuracy), end='')\n",
        "  print('test_accuracy={}'.format(test_accuracy))\n",
        "  \n",
        "print('train_loss={}, '.format(train_loss), end='')\n",
        "print('test_loss={}'.format(test_loss))\n",
        "  \n",
        "\n",
        "#4\n",
        "ann.save('./data/ann-minist_2layer_100RPROP.train')\n",
        "##ann.save('./data/ann-minist_3layer_50RPROP.train')\n",
        "\n",
        "x = list(range(len(train_loss_list)))\n",
        "plt.plot(x, train_loss_list, label='train_loss')\n",
        "plt.plot(x, test_loss_list, label='test_loss')\n",
        "\n",
        "plt.legend(loc='best')\n",
        "plt.show()\n",
        "\n",
        "plt.plot(x, train_accuracy_list, label='train_accuracy')\n",
        "plt.plot(x, test_accuracy_list, label='test_accuracy')\n",
        "plt.legend(loc='best')\n",
        "plt.show()\n"
      ],
      "id": "c6ea88d1-595a-4eb8-9ee6-126c7894a386",
      "execution_count": null,
      "outputs": []
    },
    {
      "cell_type": "markdown",
      "metadata": {
        "id": "efa92ee3-3062-4a81-9a76-18237f08bf73"
      },
      "source": [
        "# 이벤트 전처리 \n",
        "- 프로그래밍을 할 때 이벤트 전처리를 해야할 일이 생기면 이벤트를 처리하는 것이 객체인지 함수가 처리하는 것인지 확인을 잘 해야 합니다. 객체가 처리하는 경우는 대부분 메소드 이름과 모양이 결정되어 있습니다. 오버라이딩으로 처리합니다. 함수가 처리하는 경우는 이름은 자유롭게 만들 수 있지만 매개변수는 룰을 지켜야 하고 대부분 부가 정보를 넘겨주는 방법을 제공합니다. 파이썬에서 이 부가 정보의 자료형은 특별한 경우가 아니면 dict입니다.\n",
        "\n",
        "- 이벤트를 처리해야 하는 객체에 앞에서 만든 객체나 함수를 이벤트와 연결하면 됩니다.마우스 조정은 좌표가 중요\n",
        "- 마우스 이벤트 : 함수이름(이벤트 객체, x좌표, y좌표, 플래그, 부가정보)로 마우스 이벤트 처리\n",
        "    - 이벤트 객체는 누구에거 어떤 이벤트가 발생했는지에 대한 정보를 전달합니다\n",
        "    - 플래그는 같이 누른 조합키에 대한 정보가 전달 됩니다.\n",
        "\n",
        "# 실습\n",
        "- 앞의 훈련 모델을 파일로 가지고와서 마우스로 숫자를 그리면 판별할 수 있습니다."
      ],
      "id": "efa92ee3-3062-4a81-9a76-18237f08bf73"
    },
    {
      "cell_type": "code",
      "metadata": {
        "id": "98bb2268-7a9e-46e7-9380-069e22e20a36",
        "outputId": "4be533bb-70e3-4f12-dec1-b1e2a1f5a5f0"
      },
      "source": [
        "import cv2\n",
        "import numpy as np\n",
        "\n",
        "#1\n",
        "ann = cv2.ml_ANN_MLP.load('../data/ann-minist_2layer_BP.train')\n",
        "\n",
        "#2\n",
        "def onMouse(event, x, y, flags, param):\n",
        "    if event == cv2.EVENT_MOUSEMOVE:\n",
        "        if flags & cv2.EVENT_FLAG_LBUTTON:\n",
        "            cv2.circle(dst, (x, y), 10, (255, 255, 255), -1)\n",
        "    cv2.imshow('dst', dst)\n",
        "    \n",
        "dst  = np.zeros(shape=(512, 512, 3), dtype=np.uint8)\n",
        "cv2.imshow('dst',dst)\n",
        "cv2.setMouseCallback('dst', onMouse)\n",
        "    \n",
        "mode   = cv2.RETR_EXTERNAL\n",
        "method = cv2.CHAIN_APPROX_SIMPLE\n",
        "font = cv2.FONT_HERSHEY_SIMPLEX  \n",
        "x_img = np.zeros(shape=(28, 28), dtype=np.uint8)\n",
        "\n",
        "#3\n",
        "while True:\n",
        "    key = cv2.waitKey(25)    \n",
        "    if key == 27: \n",
        "        break;\n",
        "    elif key == ord('r'):\n",
        "        dst[:,:] = 0\n",
        "        cv2.imshow('dst',dst)\n",
        "    elif key == ord(' '):\n",
        "        gray = cv2.cvtColor(dst, cv2.COLOR_BGR2GRAY)\n",
        "        contours, _ = cv2.findContours(gray, mode, method)\n",
        "        for i, cnt in enumerate(contours):\n",
        "#3-1\n",
        "            x, y, width, height = cv2.boundingRect(cnt)\n",
        "            cv2.rectangle(dst, (x, y), (x+width, y+height), (0,0,255), 2)\n",
        "            cx, cy = x + width/2, y + height/2\n",
        "            if width > height:\n",
        "                r = width/2\n",
        "            else:\n",
        "                r = height/2            \n",
        "##            (cx,cy),r = cv2.minEnclosingCircle(cnt)\n",
        "            cx, cy, r= int(cx), int(cy), int(r)\n",
        "            img = gray[cy-r:cy+r, cx-r:cx+r]\n",
        "            img = cv2.resize(img, dsize=(20, 20),interpolation=cv2.INTER_AREA)            \n",
        "            x_img[:,:] = 0\n",
        "            x_img[4:24, 4:24] = img\n",
        "            x_img = cv2.dilate(x_img, None, 2)\n",
        "            x_img = cv2.erode(x_img, None, 4)\n",
        "            cv2.imshow('x_img', x_img)\n",
        "#3-2\n",
        "            x_test = np.float32(x_img.flatten())\n",
        "            _, res = ann.predict(x_test.reshape(-1, 784))\n",
        "##            print('res=', res)\n",
        "            y_predict = np.argmax(res, axis = 1)\n",
        "            print('y_predict=', y_predict)\n",
        "            digit = int(y_predict[0])\n",
        "            cv2.putText(dst, str(digit), (x, y), font, 3, (255,0,0), 5)\n",
        "        \n",
        "        cv2.imshow('dst',dst)\n",
        "cv2.destroyAllWindows()\n"
      ],
      "id": "98bb2268-7a9e-46e7-9380-069e22e20a36",
      "execution_count": null,
      "outputs": [
        {
          "name": "stdout",
          "output_type": "stream",
          "text": [
            "y_predict= [0]\n",
            "y_predict= [1]\n"
          ]
        }
      ]
    },
    {
      "cell_type": "markdown",
      "metadata": {
        "id": "22c7eacb-8be6-4b61-8a3a-c3fe5a9e6afc"
      },
      "source": [
        "- 마우스로 입력한 숫자의 두께와 종횡비 등이 글자 인식에 영향을 미치므로 모멘트나 HOG등의 특징을 사용하여 인식기를 구현하거나 후처리를 통해 인식률을 높일 수 있고 DNN(심층 신경망 - 층을 여러개 쌓음)이나 CNN을 이용하면 인식률은 더 높아집니다\n",
        "\n",
        "\n",
        "## Average Hash를 이용한 유사 이미지 검출\n",
        "1) Average Hash\n",
        "- 이미지를 비교 가능한 해시 값으로 나타낸 것\n",
        "- MD5, SHA256 같은 암호화 알고리즘을 이요해서 데이터 값을 간단한 해시 값으로 변환할 수 있습니다.\n",
        "- 패스워드는 암호화한 뒤 원본으로 복호화가 불가능하게 만들어야 합니다.\n",
        "- 반면, 이미지 처리에서는 이런 알고리즘을 직접 사용하지는 않는데 이미지는 대부분 압축이 되어 있고 포맷에 따라 형식이 다르기 때문입니다.\n",
        "- 일반적인 알고리즘 대신에 사용할 수 있는 방식 중의 하나가 Average Hash입니다.\n",
        "- 이미지를  8 X 8로 축소\n",
        "- 색을 흑백으로 변환\n",
        "- 이미지의 각 픽셀의 평균을 계산합니다.\n",
        "- 각 픽셀의 어두운 정도가 평균보다 크면 1, 평균보다 작으면 0으로 입력합니다. 이를 통해 이미지 명암을 해결할 수 있습니다.\n",
        "\n",
        "2) Pillow 패키지\n",
        "- OpenCV처럼 이미지를 다루기 위한 패키지\n",
        "\n",
        "3) 샘플 이미지 가져오기\n",
        "- 캘리포니아 공과 대학에서 제공하는 이미지 - 많이 사용\n",
        " - http://www.vision.caltech.edu/Image_Datasets/Caltech101/#Download 에서 다운로드\n",
        "\n",
        "\n",
        "### 기본 설정"
      ],
      "id": "22c7eacb-8be6-4b61-8a3a-c3fe5a9e6afc"
    },
    {
      "cell_type": "code",
      "metadata": {
        "id": "dbca4298-3b41-4770-a32f-b322f9b570d3"
      },
      "source": [
        "from PIL import Image\n",
        "import numpy as np\n",
        "import os, re\n",
        "\n",
        "# 이미지 파일 디렉토리 설정\n",
        "search_dir = '../data/101_ObjectCategories'\n",
        "# 이미지 캐싱 디렉토리\n",
        "cache_dir = '../data/101_ObjectCategories/cache_avhash'\n",
        "\n",
        "if not os.path.exists(cache_dir):\n",
        "    os.mkdir(cache_dir)"
      ],
      "id": "dbca4298-3b41-4770-a32f-b322f9b570d3",
      "execution_count": null,
      "outputs": []
    },
    {
      "cell_type": "code",
      "metadata": {
        "id": "8e9cffc8-c29c-40d4-8362-f5b37becdfdb"
      },
      "source": [
        "def average_hash(fname, size=16):\n",
        "    fname2 = fname[len(search_dir):]\n",
        "\n",
        "    cache_file = cache_dir + '/' + fname2.replace('\\\\', '_') + '.csv'\n",
        "    if '/' in fname2:\n",
        "        cache_file = cache_dir + '/' + fname2.replace('/', '_') + '.csv'  \n",
        "   \n",
        "    if not os.path.exists(cache_file):\n",
        "        # 이미지 열기\n",
        "        img = Image.open(fname)\n",
        "#         print(img)\n",
        "        img = img.convert('L').resize((size, size), Image.ANTIALIAS)\n",
        "        # numpy 자료형으로 변경\n",
        "        pixels = np.array(img.getdata()).reshape((size, size))\n",
        "        # 평균\n",
        "        avg = pixels.mean()\n",
        "        # 평균보다 크면 1, 그렇지 않으면 0\n",
        "        px = 1 * (pixels > avg)\n",
        "        np.savetxt(cache_file, px, fmt='%.0f', delimiter=',')\n",
        "    else :\n",
        "        px = np.loadtxt(cache_file, delimiter=',')\n",
        "    return px"
      ],
      "id": "8e9cffc8-c29c-40d4-8362-f5b37becdfdb",
      "execution_count": null,
      "outputs": []
    },
    {
      "cell_type": "markdown",
      "metadata": {
        "id": "bf535e62-63bc-4920-9eff-9167f0237b37"
      },
      "source": [
        "# 해밍 거리 (Hamming Distance)를 계산해주는 함수\n",
        "- 해밍 거리는 유사도 분석을 위해서 거리를 측정하거나 에러 검출을 위한 코드\n",
        "- 해밍 거리는 에러 검출만 가능한게 아니라 수정도 가능합니다.\n"
      ],
      "id": "bf535e62-63bc-4920-9eff-9167f0237b37"
    },
    {
      "cell_type": "code",
      "metadata": {
        "id": "0acde6c3-c85d-4eb0-84e1-6b3f1209c154",
        "outputId": "7de7c60b-f029-4056-8667-221c89fbba33"
      },
      "source": [
        "def hamming_dist(a, b):\n",
        "    aa = a.reshape(1, -1)\n",
        "    ab = b.reshape(1, -1)\n",
        "    \n",
        "    dist = (aa != ab).sum()\n",
        "    return dist\n",
        "\n",
        "\n",
        "a_list = np.array(['A','b','C'])\n",
        "b_list = np.array(['c','q','C'])\n",
        "hamming_dist(a_list, b_list)"
      ],
      "id": "0acde6c3-c85d-4eb0-84e1-6b3f1209c154",
      "execution_count": null,
      "outputs": [
        {
          "data": {
            "text/plain": [
              "2"
            ]
          },
          "execution_count": 3,
          "metadata": {},
          "output_type": "execute_result"
        }
      ]
    },
    {
      "cell_type": "markdown",
      "metadata": {
        "id": "707006ed-097c-4b10-b5ce-a0971f58033e"
      },
      "source": [
        "## 모든 디렉토리에 처리를 적용하는 함수"
      ],
      "id": "707006ed-097c-4b10-b5ce-a0971f58033e"
    },
    {
      "cell_type": "code",
      "metadata": {
        "id": "f61809fd-4892-4b1e-80c3-96f61a628847"
      },
      "source": [
        "def enum_all_files(path):\n",
        "    for root, dirs, files in os.walk(path):\n",
        "        for f in files:\n",
        "            fname = os.path.join(root, f)\n",
        "            if re.search(r'\\.(jpg|jpeg|png)$', fname):\n",
        "                yield fname"
      ],
      "id": "f61809fd-4892-4b1e-80c3-96f61a628847",
      "execution_count": null,
      "outputs": []
    },
    {
      "cell_type": "markdown",
      "metadata": {
        "id": "0a8ac433-ccef-4a59-850b-1ba968e2e894"
      },
      "source": [
        "### 유사 이미지 검출해주는 함수"
      ],
      "id": "0a8ac433-ccef-4a59-850b-1ba968e2e894"
    },
    {
      "cell_type": "code",
      "metadata": {
        "id": "1036e00a-f090-4f30-a69d-3ac62b56b3e1"
      },
      "source": [
        "def find_image(fname, rate):\n",
        "    \n",
        "    src = average_hash(fname)\n",
        "    for fname in enum_all_files(search_dir) :\n",
        "        dst = average_hash(fname)\n",
        "        diff_r = hamming_dist(src, dst) / 256\n",
        "        if diff_r < rate :\n",
        "            yield(diff_r, fname)"
      ],
      "id": "1036e00a-f090-4f30-a69d-3ac62b56b3e1",
      "execution_count": null,
      "outputs": []
    },
    {
      "cell_type": "markdown",
      "metadata": {
        "id": "7da6604b-b8cf-41b3-a05f-d221b29d31c4"
      },
      "source": [
        "### 유사 이미지 검출\n"
      ],
      "id": "7da6604b-b8cf-41b3-a05f-d221b29d31c4"
    },
    {
      "cell_type": "code",
      "metadata": {
        "scrolled": true,
        "tags": [],
        "id": "0b3eab05-5f7c-4606-86e4-7b3e7f2bb4c3",
        "outputId": "77decb12-4a9a-4f3b-92a9-ccbd829071f1"
      },
      "source": [
        "srcfile = search_dir + '/camera/image_0001.jpg'\n",
        "\n",
        "html = \"\"\n",
        "\n",
        "sim = list(find_image(srcfile, 0.25))\n",
        "\n",
        "sim = sorted(sim, key=lambda x:x[0])\n",
        "for r, f in sim :\n",
        "    print(r, \">\", f)\n",
        "    s = '<div style=\"float:left;\"> <h3>[차이:]' + str(r) + '-' + os.path.basename(f) + ']</h3>' + '<p><a href=\"\"' + f + '\"><img src=\"' + f + '\"width=400>\"' + '</a></p></div>'\n",
        "    html += s\n",
        "html = \"\"\"\n",
        "<html>\n",
        "<head><meta charset=\"utf-8\"></head>\n",
        "<body><h3>원래 이미지</h3>\n",
        "<p><img src='{0} width=400'></p>{1}\n",
        "</body>\n",
        "</html>\n",
        "\"\"\".format(srcfile, html)\n",
        "\n",
        "with open(\"./avhash-sear-output.html\", \"w\", encoding=\"utf-8\") as f :\n",
        "    f.write(html)\n",
        "    \n",
        "print(\"성공\")"
      ],
      "id": "0b3eab05-5f7c-4606-86e4-7b3e7f2bb4c3",
      "execution_count": null,
      "outputs": [
        {
          "name": "stdout",
          "output_type": "stream",
          "text": [
            "0.0 > ../data/101_ObjectCategories\\camera\\image_0001.jpg\n",
            "0.1015625 > ../data/101_ObjectCategories\\umbrella\\image_0064.jpg\n",
            "0.1328125 > ../data/101_ObjectCategories\\umbrella\\image_0031.jpg\n",
            "0.13671875 > ../data/101_ObjectCategories\\umbrella\\image_0009.jpg\n",
            "0.13671875 > ../data/101_ObjectCategories\\umbrella\\image_0063.jpg\n",
            "0.1484375 > ../data/101_ObjectCategories\\grand_piano\\image_0052.jpg\n",
            "0.1484375 > ../data/101_ObjectCategories\\Motorbikes\\image_0586.jpg\n",
            "0.15234375 > ../data/101_ObjectCategories\\car_side\\image_0038.jpg\n",
            "0.15234375 > ../data/101_ObjectCategories\\Motorbikes\\image_0589.jpg\n",
            "0.15234375 > ../data/101_ObjectCategories\\stapler\\image_0038.jpg\n",
            "0.15625 > ../data/101_ObjectCategories\\laptop\\image_0077.jpg\n",
            "0.16015625 > ../data/101_ObjectCategories\\Motorbikes\\image_0537.jpg\n",
            "0.16015625 > ../data/101_ObjectCategories\\umbrella\\image_0002.jpg\n",
            "0.16015625 > ../data/101_ObjectCategories\\umbrella\\image_0068.jpg\n",
            "0.1640625 > ../data/101_ObjectCategories\\Motorbikes\\image_0565.jpg\n",
            "0.16796875 > ../data/101_ObjectCategories\\chair\\image_0035.jpg\n",
            "0.16796875 > ../data/101_ObjectCategories\\ferry\\image_0049.jpg\n",
            "0.171875 > ../data/101_ObjectCategories\\BACKGROUND_Google\\image_0312.jpg\n",
            "0.171875 > ../data/101_ObjectCategories\\brain\\image_0022.jpg\n",
            "0.171875 > ../data/101_ObjectCategories\\hawksbill\\image_0030.jpg\n",
            "0.171875 > ../data/101_ObjectCategories\\hedgehog\\image_0030.jpg\n",
            "0.171875 > ../data/101_ObjectCategories\\Motorbikes\\image_0228.jpg\n",
            "0.171875 > ../data/101_ObjectCategories\\Motorbikes\\image_0297.jpg\n",
            "0.171875 > ../data/101_ObjectCategories\\umbrella\\image_0007.jpg\n",
            "0.17578125 > ../data/101_ObjectCategories\\airplanes\\image_0043.jpg\n",
            "0.17578125 > ../data/101_ObjectCategories\\butterfly\\image_0075.jpg\n",
            "0.17578125 > ../data/101_ObjectCategories\\camera\\image_0049.jpg\n",
            "0.17578125 > ../data/101_ObjectCategories\\car_side\\image_0051.jpg\n",
            "0.17578125 > ../data/101_ObjectCategories\\grand_piano\\image_0070.jpg\n",
            "0.17578125 > ../data/101_ObjectCategories\\Motorbikes\\image_0525.jpg\n",
            "0.17578125 > ../data/101_ObjectCategories\\umbrella\\image_0022.jpg\n",
            "0.17578125 > ../data/101_ObjectCategories\\umbrella\\image_0060.jpg\n",
            "0.1796875 > ../data/101_ObjectCategories\\bass\\image_0033.jpg\n",
            "0.1796875 > ../data/101_ObjectCategories\\menorah\\image_0070.jpg\n",
            "0.1796875 > ../data/101_ObjectCategories\\stapler\\image_0018.jpg\n",
            "0.1796875 > ../data/101_ObjectCategories\\windsor_chair\\image_0052.jpg\n",
            "0.18359375 > ../data/101_ObjectCategories\\menorah\\image_0052.jpg\n",
            "0.18359375 > ../data/101_ObjectCategories\\Motorbikes\\image_0114.jpg\n",
            "0.18359375 > ../data/101_ObjectCategories\\Motorbikes\\image_0319.jpg\n",
            "0.18359375 > ../data/101_ObjectCategories\\Motorbikes\\image_0501.jpg\n",
            "0.18359375 > ../data/101_ObjectCategories\\Motorbikes\\image_0634.jpg\n",
            "0.18359375 > ../data/101_ObjectCategories\\Motorbikes\\image_0756.jpg\n",
            "0.18359375 > ../data/101_ObjectCategories\\platypus\\image_0033.jpg\n",
            "0.1875 > ../data/101_ObjectCategories\\chair\\image_0019.jpg\n",
            "0.1875 > ../data/101_ObjectCategories\\menorah\\image_0026.jpg\n",
            "0.1875 > ../data/101_ObjectCategories\\Motorbikes\\image_0746.jpg\n",
            "0.1875 > ../data/101_ObjectCategories\\strawberry\\image_0015.jpg\n",
            "0.1875 > ../data/101_ObjectCategories\\umbrella\\image_0029.jpg\n",
            "0.1875 > ../data/101_ObjectCategories\\watch\\image_0225.jpg\n",
            "0.19140625 > ../data/101_ObjectCategories\\BACKGROUND_Google\\image_0232.jpg\n",
            "0.19140625 > ../data/101_ObjectCategories\\brain\\image_0060.jpg\n",
            "0.19140625 > ../data/101_ObjectCategories\\brain\\image_0084.jpg\n",
            "0.19140625 > ../data/101_ObjectCategories\\crayfish\\image_0049.jpg\n",
            "0.19140625 > ../data/101_ObjectCategories\\grand_piano\\image_0020.jpg\n",
            "0.19140625 > ../data/101_ObjectCategories\\hedgehog\\image_0053.jpg\n",
            "0.19140625 > ../data/101_ObjectCategories\\Motorbikes\\image_0152.jpg\n",
            "0.19140625 > ../data/101_ObjectCategories\\umbrella\\image_0016.jpg\n",
            "0.19140625 > ../data/101_ObjectCategories\\wrench\\image_0024.jpg\n",
            "0.1953125 > ../data/101_ObjectCategories\\BACKGROUND_Google\\image_0035.jpg\n",
            "0.1953125 > ../data/101_ObjectCategories\\BACKGROUND_Google\\image_0313.jpg\n",
            "0.1953125 > ../data/101_ObjectCategories\\brain\\image_0062.jpg\n",
            "0.1953125 > ../data/101_ObjectCategories\\crab\\image_0066.jpg\n",
            "0.1953125 > ../data/101_ObjectCategories\\grand_piano\\image_0015.jpg\n",
            "0.1953125 > ../data/101_ObjectCategories\\Motorbikes\\image_0298.jpg\n",
            "0.1953125 > ../data/101_ObjectCategories\\stapler\\image_0004.jpg\n",
            "0.1953125 > ../data/101_ObjectCategories\\stop_sign\\image_0024.jpg\n",
            "0.1953125 > ../data/101_ObjectCategories\\watch\\image_0234.jpg\n",
            "0.19921875 > ../data/101_ObjectCategories\\ant\\image_0013.jpg\n",
            "0.19921875 > ../data/101_ObjectCategories\\crab\\image_0007.jpg\n",
            "0.19921875 > ../data/101_ObjectCategories\\crayfish\\image_0016.jpg\n",
            "0.19921875 > ../data/101_ObjectCategories\\laptop\\image_0013.jpg\n",
            "0.19921875 > ../data/101_ObjectCategories\\laptop\\image_0064.jpg\n",
            "0.19921875 > ../data/101_ObjectCategories\\menorah\\image_0019.jpg\n",
            "0.19921875 > ../data/101_ObjectCategories\\Motorbikes\\image_0088.jpg\n",
            "0.19921875 > ../data/101_ObjectCategories\\Motorbikes\\image_0528.jpg\n",
            "0.19921875 > ../data/101_ObjectCategories\\umbrella\\image_0037.jpg\n",
            "0.19921875 > ../data/101_ObjectCategories\\umbrella\\image_0057.jpg\n",
            "0.203125 > ../data/101_ObjectCategories\\airplanes\\image_0116.jpg\n",
            "0.203125 > ../data/101_ObjectCategories\\airplanes\\image_0207.jpg\n",
            "0.203125 > ../data/101_ObjectCategories\\BACKGROUND_Google\\image_0196.jpg\n",
            "0.203125 > ../data/101_ObjectCategories\\barrel\\image_0023.jpg\n",
            "0.203125 > ../data/101_ObjectCategories\\grand_piano\\image_0027.jpg\n",
            "0.203125 > ../data/101_ObjectCategories\\grand_piano\\image_0067.jpg\n",
            "0.203125 > ../data/101_ObjectCategories\\Motorbikes\\image_0366.jpg\n",
            "0.203125 > ../data/101_ObjectCategories\\Motorbikes\\image_0505.jpg\n",
            "0.203125 > ../data/101_ObjectCategories\\Motorbikes\\image_0540.jpg\n",
            "0.203125 > ../data/101_ObjectCategories\\Motorbikes\\image_0641.jpg\n",
            "0.203125 > ../data/101_ObjectCategories\\Motorbikes\\image_0644.jpg\n",
            "0.203125 > ../data/101_ObjectCategories\\revolver\\image_0071.jpg\n",
            "0.203125 > ../data/101_ObjectCategories\\wrench\\image_0017.jpg\n",
            "0.20703125 > ../data/101_ObjectCategories\\BACKGROUND_Google\\image_0419.jpg\n",
            "0.20703125 > ../data/101_ObjectCategories\\camera\\image_0040.jpg\n",
            "0.20703125 > ../data/101_ObjectCategories\\euphonium\\image_0042.jpg\n",
            "0.20703125 > ../data/101_ObjectCategories\\grand_piano\\image_0064.jpg\n",
            "0.20703125 > ../data/101_ObjectCategories\\Motorbikes\\image_0541.jpg\n",
            "0.20703125 > ../data/101_ObjectCategories\\Motorbikes\\image_0642.jpg\n",
            "0.20703125 > ../data/101_ObjectCategories\\Motorbikes\\image_0726.jpg\n",
            "0.20703125 > ../data/101_ObjectCategories\\watch\\image_0001.jpg\n",
            "0.20703125 > ../data/101_ObjectCategories\\watch\\image_0005.jpg\n",
            "0.2109375 > ../data/101_ObjectCategories\\brain\\image_0002.jpg\n",
            "0.2109375 > ../data/101_ObjectCategories\\car_side\\image_0019.jpg\n",
            "0.2109375 > ../data/101_ObjectCategories\\cougar_body\\image_0046.jpg\n",
            "0.2109375 > ../data/101_ObjectCategories\\euphonium\\image_0047.jpg\n",
            "0.2109375 > ../data/101_ObjectCategories\\grand_piano\\image_0063.jpg\n",
            "0.2109375 > ../data/101_ObjectCategories\\grand_piano\\image_0099.jpg\n",
            "0.2109375 > ../data/101_ObjectCategories\\Motorbikes\\image_0194.jpg\n",
            "0.2109375 > ../data/101_ObjectCategories\\Motorbikes\\image_0513.jpg\n",
            "0.2109375 > ../data/101_ObjectCategories\\Motorbikes\\image_0587.jpg\n",
            "0.2109375 > ../data/101_ObjectCategories\\Motorbikes\\image_0629.jpg\n",
            "0.2109375 > ../data/101_ObjectCategories\\Motorbikes\\image_0677.jpg\n",
            "0.2109375 > ../data/101_ObjectCategories\\Motorbikes\\image_0788.jpg\n",
            "0.2109375 > ../data/101_ObjectCategories\\tick\\image_0047.jpg\n",
            "0.2109375 > ../data/101_ObjectCategories\\watch\\image_0095.jpg\n",
            "0.2109375 > ../data/101_ObjectCategories\\wild_cat\\image_0015.jpg\n",
            "0.21484375 > ../data/101_ObjectCategories\\bonsai\\image_0031.jpg\n",
            "0.21484375 > ../data/101_ObjectCategories\\grand_piano\\image_0021.jpg\n",
            "0.21484375 > ../data/101_ObjectCategories\\grand_piano\\image_0044.jpg\n",
            "0.21484375 > ../data/101_ObjectCategories\\menorah\\image_0005.jpg\n",
            "0.21484375 > ../data/101_ObjectCategories\\Motorbikes\\image_0293.jpg\n",
            "0.21484375 > ../data/101_ObjectCategories\\Motorbikes\\image_0383.jpg\n",
            "0.21484375 > ../data/101_ObjectCategories\\Motorbikes\\image_0384.jpg\n",
            "0.21484375 > ../data/101_ObjectCategories\\Motorbikes\\image_0735.jpg\n",
            "0.21484375 > ../data/101_ObjectCategories\\rhino\\image_0041.jpg\n",
            "0.21484375 > ../data/101_ObjectCategories\\watch\\image_0098.jpg\n",
            "0.21875 > ../data/101_ObjectCategories\\airplanes\\image_0129.jpg\n",
            "0.21875 > ../data/101_ObjectCategories\\BACKGROUND_Google\\image_0222.jpg\n",
            "0.21875 > ../data/101_ObjectCategories\\beaver\\image_0036.jpg\n",
            "0.21875 > ../data/101_ObjectCategories\\euphonium\\image_0014.jpg\n",
            "0.21875 > ../data/101_ObjectCategories\\euphonium\\image_0057.jpg\n",
            "0.21875 > ../data/101_ObjectCategories\\grand_piano\\image_0013.jpg\n",
            "0.21875 > ../data/101_ObjectCategories\\hawksbill\\image_0029.jpg\n",
            "0.21875 > ../data/101_ObjectCategories\\lamp\\image_0052.jpg\n",
            "0.21875 > ../data/101_ObjectCategories\\lobster\\image_0008.jpg\n",
            "0.21875 > ../data/101_ObjectCategories\\Motorbikes\\image_0113.jpg\n",
            "0.21875 > ../data/101_ObjectCategories\\Motorbikes\\image_0191.jpg\n",
            "0.21875 > ../data/101_ObjectCategories\\Motorbikes\\image_0360.jpg\n",
            "0.21875 > ../data/101_ObjectCategories\\Motorbikes\\image_0377.jpg\n",
            "0.21875 > ../data/101_ObjectCategories\\Motorbikes\\image_0593.jpg\n",
            "0.21875 > ../data/101_ObjectCategories\\Motorbikes\\image_0640.jpg\n",
            "0.21875 > ../data/101_ObjectCategories\\Motorbikes\\image_0681.jpg\n",
            "0.21875 > ../data/101_ObjectCategories\\pizza\\image_0019.jpg\n",
            "0.21875 > ../data/101_ObjectCategories\\rooster\\image_0005.jpg\n",
            "0.21875 > ../data/101_ObjectCategories\\umbrella\\image_0050.jpg\n",
            "0.22265625 > ../data/101_ObjectCategories\\airplanes\\image_0112.jpg\n",
            "0.22265625 > ../data/101_ObjectCategories\\BACKGROUND_Google\\image_0453.jpg\n",
            "0.22265625 > ../data/101_ObjectCategories\\barrel\\image_0019.jpg\n",
            "0.22265625 > ../data/101_ObjectCategories\\beaver\\image_0038.jpg\n",
            "0.22265625 > ../data/101_ObjectCategories\\bonsai\\image_0029.jpg\n",
            "0.22265625 > ../data/101_ObjectCategories\\brain\\image_0010.jpg\n",
            "0.22265625 > ../data/101_ObjectCategories\\dollar_bill\\image_0036.jpg\n",
            "0.22265625 > ../data/101_ObjectCategories\\dolphin\\image_0019.jpg\n",
            "0.22265625 > ../data/101_ObjectCategories\\emu\\image_0030.jpg\n",
            "0.22265625 > ../data/101_ObjectCategories\\Motorbikes\\image_0195.jpg\n",
            "0.22265625 > ../data/101_ObjectCategories\\Motorbikes\\image_0520.jpg\n",
            "0.22265625 > ../data/101_ObjectCategories\\Motorbikes\\image_0559.jpg\n",
            "0.22265625 > ../data/101_ObjectCategories\\Motorbikes\\image_0613.jpg\n",
            "0.22265625 > ../data/101_ObjectCategories\\umbrella\\image_0004.jpg\n",
            "0.22265625 > ../data/101_ObjectCategories\\watch\\image_0220.jpg\n",
            "0.22265625 > ../data/101_ObjectCategories\\yin_yang\\image_0040.jpg\n",
            "0.2265625 > ../data/101_ObjectCategories\\airplanes\\image_0100.jpg\n",
            "0.2265625 > ../data/101_ObjectCategories\\brain\\image_0064.jpg\n",
            "0.2265625 > ../data/101_ObjectCategories\\brain\\image_0081.jpg\n",
            "0.2265625 > ../data/101_ObjectCategories\\euphonium\\image_0007.jpg\n",
            "0.2265625 > ../data/101_ObjectCategories\\grand_piano\\image_0034.jpg\n",
            "0.2265625 > ../data/101_ObjectCategories\\grand_piano\\image_0035.jpg\n",
            "0.2265625 > ../data/101_ObjectCategories\\grand_piano\\image_0037.jpg\n",
            "0.2265625 > ../data/101_ObjectCategories\\grand_piano\\image_0084.jpg\n",
            "0.2265625 > ../data/101_ObjectCategories\\grand_piano\\image_0095.jpg\n",
            "0.2265625 > ../data/101_ObjectCategories\\hawksbill\\image_0086.jpg\n",
            "0.2265625 > ../data/101_ObjectCategories\\hedgehog\\image_0004.jpg\n",
            "0.2265625 > ../data/101_ObjectCategories\\rooster\\image_0047.jpg\n",
            "0.2265625 > ../data/101_ObjectCategories\\stapler\\image_0001.jpg\n",
            "0.2265625 > ../data/101_ObjectCategories\\sunflower\\image_0046.jpg\n",
            "0.23046875 > ../data/101_ObjectCategories\\ant\\image_0031.jpg\n",
            "0.23046875 > ../data/101_ObjectCategories\\cougar_face\\image_0021.jpg\n",
            "0.23046875 > ../data/101_ObjectCategories\\dolphin\\image_0053.jpg\n",
            "0.23046875 > ../data/101_ObjectCategories\\grand_piano\\image_0073.jpg\n",
            "0.23046875 > ../data/101_ObjectCategories\\hawksbill\\image_0054.jpg\n",
            "0.23046875 > ../data/101_ObjectCategories\\joshua_tree\\image_0040.jpg\n",
            "0.23046875 > ../data/101_ObjectCategories\\menorah\\image_0031.jpg\n",
            "0.23046875 > ../data/101_ObjectCategories\\Motorbikes\\image_0192.jpg\n",
            "0.23046875 > ../data/101_ObjectCategories\\Motorbikes\\image_0652.jpg\n",
            "0.23046875 > ../data/101_ObjectCategories\\Motorbikes\\image_0705.jpg\n",
            "0.23046875 > ../data/101_ObjectCategories\\okapi\\image_0025.jpg\n",
            "0.23046875 > ../data/101_ObjectCategories\\revolver\\image_0028.jpg\n",
            "0.23046875 > ../data/101_ObjectCategories\\stapler\\image_0020.jpg\n",
            "0.23046875 > ../data/101_ObjectCategories\\starfish\\image_0050.jpg\n",
            "0.23046875 > ../data/101_ObjectCategories\\stegosaurus\\image_0040.jpg\n",
            "0.23046875 > ../data/101_ObjectCategories\\strawberry\\image_0032.jpg\n",
            "0.23046875 > ../data/101_ObjectCategories\\sunflower\\image_0077.jpg\n",
            "0.23046875 > ../data/101_ObjectCategories\\watch\\image_0231.jpg\n",
            "0.23046875 > ../data/101_ObjectCategories\\windsor_chair\\image_0042.jpg\n",
            "0.234375 > ../data/101_ObjectCategories\\airplanes\\image_0124.jpg\n",
            "0.234375 > ../data/101_ObjectCategories\\BACKGROUND_Google\\image_0402.jpg\n",
            "0.234375 > ../data/101_ObjectCategories\\bass\\image_0023.jpg\n",
            "0.234375 > ../data/101_ObjectCategories\\brain\\image_0025.jpg\n",
            "0.234375 > ../data/101_ObjectCategories\\ceiling_fan\\image_0012.jpg\n",
            "0.234375 > ../data/101_ObjectCategories\\chandelier\\image_0049.jpg\n",
            "0.234375 > ../data/101_ObjectCategories\\emu\\image_0043.jpg\n",
            "0.234375 > ../data/101_ObjectCategories\\Motorbikes\\image_0074.jpg\n",
            "0.234375 > ../data/101_ObjectCategories\\Motorbikes\\image_0115.jpg\n",
            "0.234375 > ../data/101_ObjectCategories\\Motorbikes\\image_0132.jpg\n",
            "0.234375 > ../data/101_ObjectCategories\\Motorbikes\\image_0157.jpg\n",
            "0.234375 > ../data/101_ObjectCategories\\Motorbikes\\image_0169.jpg\n",
            "0.234375 > ../data/101_ObjectCategories\\Motorbikes\\image_0176.jpg\n",
            "0.234375 > ../data/101_ObjectCategories\\Motorbikes\\image_0584.jpg\n",
            "0.234375 > ../data/101_ObjectCategories\\revolver\\image_0023.jpg\n",
            "0.234375 > ../data/101_ObjectCategories\\revolver\\image_0031.jpg\n",
            "0.234375 > ../data/101_ObjectCategories\\revolver\\image_0072.jpg\n",
            "0.234375 > ../data/101_ObjectCategories\\umbrella\\image_0044.jpg\n",
            "0.234375 > ../data/101_ObjectCategories\\watch\\image_0034.jpg\n",
            "0.23828125 > ../data/101_ObjectCategories\\butterfly\\image_0035.jpg\n",
            "0.23828125 > ../data/101_ObjectCategories\\cougar_face\\image_0069.jpg\n",
            "0.23828125 > ../data/101_ObjectCategories\\crab\\image_0051.jpg\n",
            "0.23828125 > ../data/101_ObjectCategories\\Faces_easy\\image_0164.jpg\n",
            "0.23828125 > ../data/101_ObjectCategories\\Faces_easy\\image_0420.jpg\n",
            "0.23828125 > ../data/101_ObjectCategories\\hawksbill\\image_0020.jpg\n",
            "0.23828125 > ../data/101_ObjectCategories\\lamp\\image_0013.jpg\n",
            "0.23828125 > ../data/101_ObjectCategories\\lamp\\image_0049.jpg\n",
            "0.23828125 > ../data/101_ObjectCategories\\mayfly\\image_0040.jpg\n",
            "0.23828125 > ../data/101_ObjectCategories\\Motorbikes\\image_0116.jpg\n",
            "0.23828125 > ../data/101_ObjectCategories\\Motorbikes\\image_0371.jpg\n",
            "0.23828125 > ../data/101_ObjectCategories\\Motorbikes\\image_0637.jpg\n",
            "0.23828125 > ../data/101_ObjectCategories\\Motorbikes\\image_0646.jpg\n",
            "0.23828125 > ../data/101_ObjectCategories\\Motorbikes\\image_0693.jpg\n",
            "0.23828125 > ../data/101_ObjectCategories\\starfish\\image_0060.jpg\n",
            "0.23828125 > ../data/101_ObjectCategories\\stegosaurus\\image_0021.jpg\n",
            "0.23828125 > ../data/101_ObjectCategories\\strawberry\\image_0031.jpg\n",
            "0.23828125 > ../data/101_ObjectCategories\\umbrella\\image_0021.jpg\n",
            "0.23828125 > ../data/101_ObjectCategories\\umbrella\\image_0025.jpg\n",
            "0.23828125 > ../data/101_ObjectCategories\\umbrella\\image_0056.jpg\n",
            "0.2421875 > ../data/101_ObjectCategories\\airplanes\\image_0055.jpg\n",
            "0.2421875 > ../data/101_ObjectCategories\\butterfly\\image_0009.jpg\n",
            "0.2421875 > ../data/101_ObjectCategories\\chair\\image_0061.jpg\n",
            "0.2421875 > ../data/101_ObjectCategories\\cougar_face\\image_0059.jpg\n",
            "0.2421875 > ../data/101_ObjectCategories\\crayfish\\image_0048.jpg\n",
            "0.2421875 > ../data/101_ObjectCategories\\dolphin\\image_0018.jpg\n",
            "0.2421875 > ../data/101_ObjectCategories\\euphonium\\image_0005.jpg\n",
            "0.2421875 > ../data/101_ObjectCategories\\grand_piano\\image_0058.jpg\n",
            "0.2421875 > ../data/101_ObjectCategories\\menorah\\image_0011.jpg\n",
            "0.2421875 > ../data/101_ObjectCategories\\Motorbikes\\image_0133.jpg\n",
            "0.2421875 > ../data/101_ObjectCategories\\Motorbikes\\image_0200.jpg\n",
            "0.2421875 > ../data/101_ObjectCategories\\Motorbikes\\image_0273.jpg\n",
            "0.2421875 > ../data/101_ObjectCategories\\Motorbikes\\image_0322.jpg\n",
            "0.2421875 > ../data/101_ObjectCategories\\Motorbikes\\image_0636.jpg\n",
            "0.2421875 > ../data/101_ObjectCategories\\Motorbikes\\image_0691.jpg\n",
            "0.2421875 > ../data/101_ObjectCategories\\octopus\\image_0032.jpg\n",
            "0.2421875 > ../data/101_ObjectCategories\\pizza\\image_0026.jpg\n",
            "0.2421875 > ../data/101_ObjectCategories\\revolver\\image_0018.jpg\n",
            "0.2421875 > ../data/101_ObjectCategories\\rhino\\image_0035.jpg\n",
            "0.2421875 > ../data/101_ObjectCategories\\rooster\\image_0039.jpg\n",
            "0.2421875 > ../data/101_ObjectCategories\\stapler\\image_0016.jpg\n",
            "0.2421875 > ../data/101_ObjectCategories\\stapler\\image_0024.jpg\n",
            "0.2421875 > ../data/101_ObjectCategories\\starfish\\image_0011.jpg\n",
            "0.2421875 > ../data/101_ObjectCategories\\umbrella\\image_0034.jpg\n",
            "0.2421875 > ../data/101_ObjectCategories\\umbrella\\image_0036.jpg\n",
            "0.2421875 > ../data/101_ObjectCategories\\wheelchair\\image_0011.jpg\n",
            "0.24609375 > ../data/101_ObjectCategories\\binocular\\image_0011.jpg\n",
            "0.24609375 > ../data/101_ObjectCategories\\bonsai\\image_0098.jpg\n",
            "0.24609375 > ../data/101_ObjectCategories\\camera\\image_0032.jpg\n",
            "0.24609375 > ../data/101_ObjectCategories\\cougar_body\\image_0012.jpg\n",
            "0.24609375 > ../data/101_ObjectCategories\\cougar_face\\image_0020.jpg\n",
            "0.24609375 > ../data/101_ObjectCategories\\Faces_easy\\image_0423.jpg\n",
            "0.24609375 > ../data/101_ObjectCategories\\Faces_easy\\image_0424.jpg\n",
            "0.24609375 > ../data/101_ObjectCategories\\grand_piano\\image_0098.jpg\n",
            "0.24609375 > ../data/101_ObjectCategories\\kangaroo\\image_0033.jpg\n",
            "0.24609375 > ../data/101_ObjectCategories\\lobster\\image_0018.jpg\n",
            "0.24609375 > ../data/101_ObjectCategories\\menorah\\image_0035.jpg\n",
            "0.24609375 > ../data/101_ObjectCategories\\Motorbikes\\image_0073.jpg\n",
            "0.24609375 > ../data/101_ObjectCategories\\Motorbikes\\image_0085.jpg\n",
            "0.24609375 > ../data/101_ObjectCategories\\Motorbikes\\image_0522.jpg\n",
            "0.24609375 > ../data/101_ObjectCategories\\Motorbikes\\image_0612.jpg\n",
            "0.24609375 > ../data/101_ObjectCategories\\Motorbikes\\image_0688.jpg\n",
            "0.24609375 > ../data/101_ObjectCategories\\nautilus\\image_0017.jpg\n",
            "0.24609375 > ../data/101_ObjectCategories\\pizza\\image_0031.jpg\n",
            "0.24609375 > ../data/101_ObjectCategories\\stapler\\image_0027.jpg\n",
            "0.24609375 > ../data/101_ObjectCategories\\stegosaurus\\image_0016.jpg\n",
            "0.24609375 > ../data/101_ObjectCategories\\stop_sign\\image_0053.jpg\n",
            "0.24609375 > ../data/101_ObjectCategories\\umbrella\\image_0024.jpg\n",
            "0.24609375 > ../data/101_ObjectCategories\\umbrella\\image_0071.jpg\n",
            "0.24609375 > ../data/101_ObjectCategories\\wheelchair\\image_0029.jpg\n",
            "0.24609375 > ../data/101_ObjectCategories\\wild_cat\\image_0029.jpg\n",
            "성공\n"
          ]
        }
      ]
    },
    {
      "cell_type": "markdown",
      "metadata": {
        "id": "00a38e6e-1175-4c59-ae8b-9b35286f00bb"
      },
      "source": [
        "## CNN을 이용한 분류\n",
        "- 머신러닝에 이미지를 사용할 때 대부분의 경우는 동일한 사이즈로 조정해야 합니다.\n",
        "- 실제 수집된 이미지는 동일한 크기가 아닐 가능성이 높으므로 머신러닝을 하기 전에 동일한 크기로 변경을 해야 합니다.\n",
        "- 여러 번 사용할 데이터라면 전처리를 한 후 numpy배열로 저장해두면 학습기에 넣고 바로 활용할 수 있습니다.\n",
        "```numpy.save('파일 경로', 저장할 데이터)```\n",
        "\n",
        "```읽을 때는 numpy.load('파일 경로', allow_pickle=True)```\n",
        "- numpy버전에 따라서 allow_pickle=True는 생략해도 되는 경우가 있습니다.\n",
        "- pickle(다른 곳에선 Serialization - 직렬화) : 객체 단위로 전송이 가능하도록 하는 것 파일이나 네트워크게서는 바이트와 문자 단위로만 전송이 가능한데 직렬화를 하게 되면 사용자 정의 자료형의 데이터를 전송할 수 있습니다. 직렬화를 이용해서 저장된 데이터는 사용자 정의 자료형을 알지 못하면 읽을 수 없습니다.\n",
        "\n",
        "- 이미지 관련된 머신러닝은 일반적으로 CNN(합성곱 신경망)이 가장 잘 처리합니다.\n"
      ],
      "id": "00a38e6e-1175-4c59-ae8b-9b35286f00bb"
    },
    {
      "cell_type": "markdown",
      "metadata": {
        "id": "AOfjPCy1p6Pp"
      },
      "source": [
        "\n",
        "# 딥러닝 구조\n",
        "- Dense - 환전 연결 층\n",
        "- Convolution2D\n",
        "- MaxPooling2D, AveragePooling - 과정합 방지를 위한 층\n",
        "- Activation - 활성화 층\n",
        "- Dropout - 일정 부분 탈락 시키고 전달, 과적합 방지가 목적\n",
        "- Flatten - 입력을 직렬화하는 레이어, 입력 텐서와 첫번째 은닉층 간의 매핑이 가능하도록 해줍니다.\n"
      ],
      "id": "AOfjPCy1p6Pp"
    },
    {
      "cell_type": "markdown",
      "metadata": {
        "id": "kBRJMwoyp8LK"
      },
      "source": [
        "\n",
        "## 기본 코드를 작성\n",
        "/로 시작하면 root\n",
        "./는 현재 directory\n",
        "\n",
        "### CNN을 이용한 이미지 분류"
      ],
      "id": "kBRJMwoyp8LK"
    },
    {
      "cell_type": "code",
      "metadata": {
        "id": "7f788fc0-7f95-4c80-84d7-1e175aeab01d"
      },
      "source": [
        "from PIL import Image\n",
        "import os, glob\n",
        "import numpy as np\n",
        "from sklearn.model_selection import train_test_split\n",
        "\n",
        "# 분류 대상 카테고리 선택하기 --- (※1)\n",
        "caltech_dir = \"../data/image\"\n",
        "categories = [\"chair\",\"camera\",\"butterfly\",\"elephant\",\"flamingo\"]\n",
        "nb_classes = len(categories)\n",
        "\n",
        "# 이미지 크기 지정 --- (※2)\n",
        "image_w = 64 \n",
        "image_h = 64\n",
        "pixels = image_w * image_h * 3\n",
        "# 이미지 데이터 읽어 들이기 --- (※3)\n",
        "X = []\n",
        "Y = []\n",
        "for idx, cat in enumerate(categories):\n",
        "    # 레이블 지정 --- (※4)\n",
        "    label = [0 for i in range(nb_classes)]\n",
        "    label[idx] = 1\n",
        "    # 이미지 --- (※5)\n",
        "    image_dir = caltech_dir + \"/\" + cat\n",
        "    files = glob.glob(image_dir+\"/*.jpg\")\n",
        "    for i, f in enumerate(files):\n",
        "        img = Image.open(f) # --- (※6)\n",
        "        img = img.convert(\"RGB\")\n",
        "        img = img.resize((image_w, image_h))\n",
        "        data = np.asarray(img)\n",
        "        X.append(data)\n",
        "        Y.append(label)\n",
        "        if i % 10 == 0:\n",
        "            print(i, \"\\n\", data)\n",
        "X = np.array(X)\n",
        "Y = np.array(Y)\n",
        "X_train, X_test, y_train, y_test = train_test_split(X, Y)\n",
        "xy = (X_train, X_test, y_train, y_test)\n",
        "np.save(\"../data/image/5obj.npy\", xy)\n",
        "print(\"ok,\", len(Y))\n"
      ],
      "id": "7f788fc0-7f95-4c80-84d7-1e175aeab01d",
      "execution_count": null,
      "outputs": []
    },
    {
      "cell_type": "markdown",
      "metadata": {
        "id": "1a323500-b2ff-406f-b6cc-2858160bd36c"
      },
      "source": [
        "## 정규화"
      ],
      "id": "1a323500-b2ff-406f-b6cc-2858160bd36c"
    },
    {
      "cell_type": "code",
      "metadata": {
        "id": "f744cc4f-f405-41eb-93dc-7194caf671e0"
      },
      "source": [
        "X_train = X_train.astype('float') / 256\n",
        "X_test = X_test.astype('float') / 256"
      ],
      "id": "f744cc4f-f405-41eb-93dc-7194caf671e0",
      "execution_count": null,
      "outputs": []
    },
    {
      "cell_type": "markdown",
      "metadata": {
        "id": "a5266692-3db4-4e63-a939-5da9df7bd0ab"
      },
      "source": [
        "## 분류 모델 만들기"
      ],
      "id": "a5266692-3db4-4e63-a939-5da9df7bd0ab"
    },
    {
      "cell_type": "code",
      "metadata": {
        "id": "18f78fd7-a29f-4900-88a5-11b9f11b4c68"
      },
      "source": [
        "from keras.models import Sequential\n",
        "\n",
        "from keras.layers import Dense, Convolution2D\n",
        "from keras.layers import MaxPooling2D, Activation, Dropout, Flatten\n",
        "\n",
        "model = Sequential()\n",
        "model.add(Convolution2D(32, kernel_size=3, padding='same', input_shape = (64, 64, 3)))\n",
        "model.add(Activation('relu'))\n",
        "model.add(MaxPooling2D(2))\n",
        "model.add(Dropout(0, 25))\n",
        "\n",
        "model.add(Convolution2D(64, kernel_size=3, padding='same'))\n",
        "model.add(Activation('relu'))\n",
        "\n",
        "model.add(Convolution2D(128, 3, 3))\n",
        "model.add(MaxPooling2D(2))\n",
        "model.add(Dropout(0, 25))\n",
        "\n",
        "# 출력층 생성\n",
        "model.add(Flatten())\n",
        "model.add(Dense(512))\n",
        "model.add(Activation('relu'))\n",
        "model.add(Dropout(0, 5))\n",
        "#클래스의 수\n",
        "nb_classes = len(categories)\n",
        "\n",
        "# 출력\n",
        "model.add(Dense(nb_classes))\n",
        "model.add(Activation('softmax'))\n",
        "\n",
        "model.compile(loss='categorical_crossentropy', optimizer='rmsprop', \n",
        "             metrics=['accuracy'])"
      ],
      "id": "18f78fd7-a29f-4900-88a5-11b9f11b4c68",
      "execution_count": null,
      "outputs": []
    },
    {
      "cell_type": "code",
      "metadata": {
        "id": "5b738c93-797a-40a4-b5c8-6a367cacc569"
      },
      "source": [
        "model.compile(loss='binary_crossentropy',\n",
        "    optimizer='rmsprop',\n",
        "    metrics=['accuracy'])\n",
        "\n",
        "# 모델 훈련하기 --- (※4)\n",
        "hdf5_file = \"./data/image/5obj-model.hdf5\"\n",
        "if os.path.exists(hdf5_file):\n",
        "    model.load_weights(hdf5_file)\n",
        "else:\n",
        "    model.fit(X_train, y_train, batch_size=32, epochs=50)\n",
        "    model.save_weights(hdf5_file)\n",
        "    \n",
        "# 모델 평가하기--- (※5)\n",
        "score = model.evaluate(X_test, y_test)\n",
        "print('loss=', score[0])\n",
        "print('accuracy=', score[1])\n"
      ],
      "id": "5b738c93-797a-40a4-b5c8-6a367cacc569",
      "execution_count": null,
      "outputs": []
    },
    {
      "cell_type": "code",
      "metadata": {
        "id": "ad847228-7b7a-4432-b3d2-2caec14d35a1"
      },
      "source": [
        "import numpy as np\n",
        "import cv2\n",
        "\n",
        "faceCascade = cv2.CascadeClassifier(\n",
        "    '../data/haarcascades/haarcascade_frontalface_default.xml')\n",
        "\n",
        "eyeCascade = cv2.CascadeClassifier(\n",
        "    '../data/haarcascades/haarcascade_eye.xml')\n",
        "src = cv2.imread('../data/images/photo1.jpg')\n",
        "gray = cv2.cvtColor(src, cv2.COLOR_BGR2GRAY)\n",
        "\n",
        "# 얼굴 검출\n",
        "# 두번째 매개변수는 이미지 피라미드 스케일 축소 크기입니다.\n",
        "# 검출하면 1/scaledFactor크기로 피라미트를 생성\n",
        "\n",
        "# 3은 이웃의 개수로 이 값이 크면 잘못 검출될 가능성이 줄어듭니다.\n",
        "faces = faceCascade.detectMultiScale(gray, 1.1, 3)\n",
        "\n",
        "for (x, y, w, h) in faces:\n",
        "    cv2.rectangle(src, (x,y),(x+w, y+h),(255,0,0), 2)\n",
        "    # 눈 검출하기\n",
        "    roi_gray  = gray[y:y+h, x:x+w]\n",
        "    roi_color = src[y:y+h, x:x+w]\n",
        "    \n",
        "    eyes = eyeCascade.detectMultiScale(roi_gray)\n",
        "    for (ex, ey, ew, eh) in eyes:\n",
        "        cv2.rectangle(roi_color, (ex, ey),(ex+ew, ey+eh),(0,255,0),2)\n",
        "\n",
        "cv2.imshow('src', src)\n",
        "cv2.waitKey()\n",
        "cv2.destroyAllWindows()"
      ],
      "id": "ad847228-7b7a-4432-b3d2-2caec14d35a1",
      "execution_count": null,
      "outputs": []
    },
    {
      "cell_type": "markdown",
      "metadata": {
        "id": "85b82ab7-5579-432a-bd25-188e244ffa52"
      },
      "source": [
        "## 유튜브 동영상에서 얼굴 검출하기\n",
        "- 유튜브 동영상을 이용하고자 하는 경우는 youtube_dl과 pafy를 설치해야 합니다\n",
        "- 이와 같은 원리로 얼굴 모자이크도 가능합니다."
      ],
      "id": "85b82ab7-5579-432a-bd25-188e244ffa52"
    },
    {
      "cell_type": "code",
      "metadata": {
        "id": "ed12c312-e3fa-4e73-b228-627a5cf65bc3",
        "outputId": "59eddd47-7304-47fe-a914-b66f84765020"
      },
      "source": [
        "import numpy as np\n",
        "import cv2\n",
        "import pafy\n",
        "\n",
        "faceCascade = cv2.CascadeClassifier(\n",
        "    '../data/haarcascades/haarcascade_frontalface_default.xml')\n",
        "\n",
        "url = 'https://www.youtube.com/watch?v=ZSXk6FzeWwo'\n",
        "\n",
        "video = pafy.new(url)\n",
        "# 제목 출력\n",
        "print('title : ', video.title)\n",
        "\n",
        "# 1280 X 720이 적당\n",
        "best = video.getbest(preftype='mp4')\n",
        "print('best.resolution : ', best.resolution)\n",
        "cap = cv2.VideoCapture(best.url)\n",
        "\n",
        "while True:\n",
        "    retval, frame = cap.read()\n",
        "    if not retval : \n",
        "        break\n",
        "    gray = cv2.cvtColor(frame, cv2.COLOR_BGR2GRAY)\n",
        "    faces = faceCascade.detectMultiScale(gray)\n",
        "    \n",
        "    for (x, y, w, h) in faces:\n",
        "        cv2.rectangle(frame, (x, y), (x+w, y+h), (255, 0, 0), 2)\n",
        "    cv2.imshow('frame', frame)\n",
        " \n",
        "    key = cv2.waitKey(25)\n",
        "    if key == 27: # Esc\n",
        "        break\n",
        "cv2.destroyAllWindows()\n"
      ],
      "id": "ed12c312-e3fa-4e73-b228-627a5cf65bc3",
      "execution_count": null,
      "outputs": [
        {
          "name": "stdout",
          "output_type": "stream",
          "text": [
            "title :  Cell Block Tango (Cover) - CHICAGO\n",
            "best.resolution :  1280x720\n"
          ]
        }
      ]
    },
    {
      "cell_type": "markdown",
      "metadata": {
        "id": "9c4b2777-6aee-4f58-b3ee-326de6313c65"
      },
      "source": [
        "## Auto Encoder & GAN\n",
        "- Auto Encoder는 어떤 지도 없이도 잠재 표현 또는 coding이라 부르는 입력 데이터의 밀집 표현을 학습 할 수 있는 인공 신경망 \n",
        "- 원본 입력 데이터보다 훨씬 낮은 차원을 가지므로 오토 인코더가 차원 축소 특히 시각화에 유용하게 사요되며 강력한 특성 추출기처럼 작동하므로 심층 신경망의 비지도 사전 훈련에 사용될 수 있습니다\n",
        "- Auto Encoder는 훈련 데이터와 매우 유사한 데이터를 생성할 수 있는데 이를 generative model이라고 합니다.\n",
        "- 얼굴 사진으로 오토 인코더를 훈련하며 \n",
        "- & GAN\n",
        "- GAN으로는 초해상도 이미지를 생성한다던가 흑백 이미지를 컬러로 변경하기, 강력한 이미지 편집(원하지 않는 배경을 제거), 동영상에 다음 프레임을 예측하기, \n",
        "- Auto Encoder와 GAN은 둘 다 비지도 학습이라는 것과 밀집 표현을 학습하고 생성 모델로 사용한다는 것은 같은데 작동 방식은 다릅니다.\n",
        "- 오토 인코더는 단순히 입력을 출력으로 복사하는 방법을 학습하고 제약을 가해서 작업을 어렵게 만들어내는 방식입니다.\n",
        "- GAN은 신경망 두 개로 구성이 되는데 생성자와 판별자라는 것을 만들어서 경쟁을 해나가는 방식입니다.\n",
        "- 생성자는 진짜 데이터를 가지고 유사한 가짜 데이터를 만들고 판별자는 이를 가지고 구별하는 작업을 수행합니다.\n",
        "- 생성자 : 위조를 만든 자, 판별자 : 위조를 판별하는 자로 생성자는 판별자가 위조를 구별하지 못할 때까지 계속해서 위조 데이터를 만듭니다.\n",
        "\n",
        "# AutoEncoder\n",
        "## 효율적인 데이터 표현 \n",
        "- 패턴을 인식하는 것으로 다음 두 배열의 숫자 중에서 기억하기 쉬운 패턴은 아래에 10씩 증가하는 데이터일 것입니다.\n",
        "<br>\n",
        "\n",
        "```40, 20, 30, 50, 26, 76, 41``` \n",
        "\n",
        "<br>\n",
        "\n",
        "```10,  20,  30,  40,  50,  60,  70,  80,  90, 100, 110, 120, 130, 140```\n",
        "\n",
        "- 데이터를 기억할 때 무작정 데이터를 기억하는 것보다는 데이터의 패턴을 인식해서 기억하는 것이 효율적입니다.\n",
        "- 여러 이미지가 있을 때 이미지를 전부 기억하는 것은 구별할 때 낭비가 될 수 있습니다.\n"
      ],
      "id": "9c4b2777-6aee-4f58-b3ee-326de6313c65"
    },
    {
      "cell_type": "code",
      "metadata": {
        "id": "a69de25f-d261-4650-825b-d22a34b96ba4",
        "outputId": "857c4c90-c0c8-42ba-964c-9ceed407c3f2"
      },
      "source": [
        "np.arange(10,150,10)"
      ],
      "id": "a69de25f-d261-4650-825b-d22a34b96ba4",
      "execution_count": null,
      "outputs": [
        {
          "data": {
            "text/plain": [
              "array([ 10,  20,  30,  40,  50,  60,  70,  80,  90, 100, 110, 120, 130,\n",
              "       140])"
            ]
          },
          "execution_count": 35,
          "metadata": {},
          "output_type": "execute_result"
        }
      ]
    },
    {
      "cell_type": "markdown",
      "metadata": {
        "id": "c2bf8738-8b04-4d24-b018-ebc90cfdfd1e"
      },
      "source": [
        "## 과소 완전 선형 인코더로 PCA수행\n",
        "- 오토 인코더가 선형 활성화 함수만 사용하고 비용함수가 평균제곱 오차(MSE)이면 주성분 분석을 수행하는 것과 거의 동일"
      ],
      "id": "c2bf8738-8b04-4d24-b018-ebc90cfdfd1e"
    },
    {
      "cell_type": "markdown",
      "metadata": {
        "id": "8b561723-b1c8-4e85-8ac8-f297156abfd4"
      },
      "source": [
        "### 샘플 데이터를 생성해주는 함수"
      ],
      "id": "8b561723-b1c8-4e85-8ac8-f297156abfd4"
    },
    {
      "cell_type": "code",
      "metadata": {
        "id": "732c9f96-e5fd-43b6-8718-3b81e9d10e9d"
      },
      "source": [
        "np.random.seed(42)\n",
        "\n",
        "def generate_3d_data(m, w1=0.1, w2=0.3, noise=0.1):\n",
        "    angles = np.random.rand(m) * 3 * np.pi / 2 - 0.5\n",
        "    data = np.empty((m, 3))\n",
        "    \n",
        "    data[:, 0] = np.cos(angles) + np.sin(angles) / 2 + noise * np.random.random(m)/2\n",
        "    data[:, 1] = np.sign(angles) + 0.7 + noise * np.random.random(m) /2\n",
        "    data[:, 2] = data[:, 0] * w1 + data[:, 1] * w2 + noise * np.random.randn(m)\n",
        "    return data\n",
        "    "
      ],
      "id": "732c9f96-e5fd-43b6-8718-3b81e9d10e9d",
      "execution_count": null,
      "outputs": []
    },
    {
      "cell_type": "markdown",
      "metadata": {
        "id": "97838a3d-d704-4271-8027-b09f8f23e6a3"
      },
      "source": [
        "## 데이터 생성\n"
      ],
      "id": "97838a3d-d704-4271-8027-b09f8f23e6a3"
    },
    {
      "cell_type": "code",
      "metadata": {
        "scrolled": true,
        "tags": [],
        "id": "351a8f08-7a5f-47c9-ab80-087b1b9684b0",
        "outputId": "91ecbdd0-95e0-45f2-ad04-3872e9ad0493"
      },
      "source": [
        "X_train = generate_3d_data(60)\n",
        "X_train = X_train - X_train.mean(axis=0, keepdims=0)\n",
        "print(X_train)"
      ],
      "id": "351a8f08-7a5f-47c9-ab80-087b1b9684b0",
      "execution_count": null,
      "outputs": [
        {
          "name": "stdout",
          "output_type": "stream",
          "text": [
            "[[ 6.11899895e-01  2.83932419e-01  6.15409743e-02]\n",
            " [-1.21222201e+00  2.88364976e-01 -7.34222711e-02]\n",
            " [-1.03007994e+00  2.59460585e-01  4.96784913e-02]\n",
            " [-4.83702289e-01  2.49063007e-01 -1.03241170e-01]\n",
            " [ 9.17630952e-01  2.54957169e-01  1.84492828e-01]\n",
            " [ 9.30690247e-01  2.64915800e-01  2.96754629e-01]\n",
            " [ 6.83964237e-01 -1.71553885e+00 -6.13516967e-01]\n",
            " [-1.26302339e+00  2.86596940e-01 -2.83632829e-02]\n",
            " [-5.10205288e-01  2.43908017e-01  4.16367443e-02]\n",
            " [-9.39857333e-01  2.69097776e-01  5.84224751e-02]\n",
            " [ 5.77005312e-01 -1.73556904e+00 -5.93168663e-01]\n",
            " [-1.17461791e+00  2.54665801e-01 -1.79611124e-01]\n",
            " [-1.28460901e+00  2.49553679e-01 -7.90405263e-03]\n",
            " [ 9.72635344e-01  2.60441169e-01  1.98590941e-01]\n",
            " [ 9.61597065e-01  2.90705896e-01  2.01917349e-01]\n",
            " [ 9.63560999e-01  2.59720557e-01  2.02413677e-01]\n",
            " [ 8.49929226e-01  2.69499942e-01  9.13370215e-02]\n",
            " [-1.12891824e-01  2.78711359e-01  8.90461834e-02]\n",
            " [ 3.67500320e-01  2.61741891e-01  1.38076435e-01]\n",
            " [ 8.46320119e-01  2.92149515e-01  9.43383130e-02]\n",
            " [-5.24410300e-01  2.91682776e-01  2.15137842e-01]\n",
            " [ 9.11753975e-01  2.56149526e-01  2.08900136e-01]\n",
            " [ 8.55144937e-01  2.68422836e-01  4.04075833e-02]\n",
            " [ 6.26008164e-01  2.58604326e-01  1.99334064e-01]\n",
            " [ 2.50303866e-01  2.57802436e-01 -1.60046127e-03]\n",
            " [-1.19665419e+00  2.45404758e-01  2.61610575e-02]\n",
            " [ 9.68818610e-01  2.74038628e-01  2.88449596e-01]\n",
            " [-2.94922383e-02  2.68694362e-01 -1.09125586e-02]\n",
            " [-4.25492742e-01  2.46134348e-01  1.21125232e-01]\n",
            " [ 6.60242077e-01 -1.74250727e+00 -4.21953291e-01]\n",
            " [-5.40178180e-01  2.88973705e-01  1.08376898e-01]\n",
            " [ 9.53995674e-01  2.55538505e-01  3.55237006e-01]\n",
            " [ 7.37854691e-01 -1.74919485e+00 -4.82015208e-01]\n",
            " [-1.20121505e+00  2.68033049e-01 -1.21588618e-01]\n",
            " [-1.15591537e+00  2.92842934e-01 -1.23193511e-01]\n",
            " [-1.23020846e+00  2.55663174e-01 -1.34406334e-01]\n",
            " [ 8.36614226e-01  2.77167188e-01  1.52597997e-01]\n",
            " [ 8.15320136e-01 -1.71835861e+00 -4.06363783e-01]\n",
            " [-8.95744833e-01  2.55442288e-01  8.22387148e-03]\n",
            " [ 3.16610833e-01  2.79971228e-01  1.91867365e-01]\n",
            " [ 8.50856483e-01  2.61949567e-01  1.58467296e-01]\n",
            " [ 6.96033495e-02  2.75175702e-01  2.28363042e-01]\n",
            " [ 6.07971471e-01 -1.72476310e+00 -4.89600879e-01]\n",
            " [-1.25998339e+00  2.70349145e-01  2.20619909e-01]\n",
            " [ 9.41618470e-01  2.48074899e-01  2.24647640e-01]\n",
            " [-7.92759421e-01  2.85325536e-01 -8.58974487e-02]\n",
            " [ 8.13447859e-01  2.59599414e-01  4.56319487e-02]\n",
            " [-5.41807201e-02  2.52886336e-01  1.12191659e-01]\n",
            " [-2.20763238e-01  2.45599168e-01  2.27537365e-02]\n",
            " [ 9.31691552e-01  2.73105058e-01  2.39997310e-01]\n",
            " [-1.17083386e+00  2.77438629e-01  6.96855402e-03]\n",
            " [-1.18285166e+00  2.44389802e-01 -5.87545277e-02]\n",
            " [-1.19947889e+00  2.69165064e-01 -1.30381153e-01]\n",
            " [-1.25608853e+00  2.54885200e-01 -2.07131427e-01]\n",
            " [-4.66034568e-01  2.75819050e-01 -1.50126485e-02]\n",
            " [-1.22809124e+00  2.52278732e-01  3.20109633e-02]\n",
            " [ 8.09887695e-01 -1.72189270e+00 -4.20673078e-01]\n",
            " [ 9.41056237e-01  2.62897178e-01  4.18974877e-02]\n",
            " [ 6.76877848e-01 -1.70960309e+00 -4.34378461e-01]\n",
            " [ 7.83174007e-01  2.50436458e-01  1.85476665e-01]]\n"
          ]
        }
      ]
    },
    {
      "cell_type": "code",
      "metadata": {
        "id": "b39bc8be-8128-496b-a160-0aa9b1517aae",
        "outputId": "751c7c2f-b22d-4b38-ea2a-590a487e5a35"
      },
      "source": [
        "import tensorflow as tf\n",
        "from tensorflow import keras\n",
        "\n",
        "np.random.seed(42)\n",
        "tf.random.set_seed(42)\n",
        "\n",
        "# 3개의 차원을 받아 2개로 만듦\n",
        "encoder = keras.models.Sequential([keras.layers.Dense(2, input_shape=[3])])\n",
        "decoder = keras.models.Sequential([keras.layers.Dense(2, input_shape=[2])])\n",
        "autoencoder = keras.models.Sequential([encoder, decoder])\n",
        "\n",
        "# 무조건 mse로 해야됨\n",
        "autoencoder.compile(loss='mse', optimizer=keras.optimizers.SGD(lr=1.5))"
      ],
      "id": "b39bc8be-8128-496b-a160-0aa9b1517aae",
      "execution_count": null,
      "outputs": [
        {
          "name": "stderr",
          "output_type": "stream",
          "text": [
            "C:\\Users\\krseh\\Anaconda3\\lib\\site-packages\\tensorflow\\python\\keras\\optimizer_v2\\optimizer_v2.py:374: UserWarning: The `lr` argument is deprecated, use `learning_rate` instead.\n",
            "  warnings.warn(\n"
          ]
        }
      ]
    },
    {
      "cell_type": "markdown",
      "metadata": {
        "id": "a5317ebc-4ce4-4e38-84f6-c61649a44f74"
      },
      "source": [
        "# 오토 인코더 모델 훈련\n",
        "- 입력 데이터와 출력데이터에 X_train을 동일하게 설정"
      ],
      "id": "a5317ebc-4ce4-4e38-84f6-c61649a44f74"
    },
    {
      "cell_type": "code",
      "metadata": {
        "id": "add97ef0-89e6-43ad-a22a-5c45022534cb"
      },
      "source": [
        "history = autoencoder.fit(X_train, X_train, epochs=20)\n",
        "codings = encoder.predict(X_train)\n",
        "# 그래프 출력\n",
        "fig = plt.figure(figsize=(4,3))\n",
        "plt.plot(codings[:,0], codings[:, 1], \"b.\")\n",
        "plt.xlabel(\"$z_1$\", fontsize=18)\n",
        "plt.ylabel(\"$z_2$\", fontsize=18, rotation=0)\n",
        "plt.grid(True)\n",
        "save_fig(\"linear_autoencoder_pca_plot\")\n",
        "plt.show()"
      ],
      "id": "add97ef0-89e6-43ad-a22a-5c45022534cb",
      "execution_count": null,
      "outputs": []
    },
    {
      "cell_type": "markdown",
      "metadata": {
        "id": "be479d67-84a4-4edc-afb9-ba6934e70a14"
      },
      "source": [
        "# 적층 오토 인코더(stacked auto encoder)\n",
        "- 다른 신경망과 마찬가지로 은닉층을 여러개 가질 수 있는데 이런 경우를 적층 오토 인코더 또는 심층(deep) 오토 인코더라고 합니다.\n",
        "- 은닉층들은 대칭적인 구조를 가져야 합니다.\n",
        "- MNIST데이터를 가지고 적층 오토 인코더를 구현하면 입력은 784개(24x24)이고 다음 은닉층이 100개의 뉴런으로 구성되고 다음 은닉층이 30개의 뉴런으로 구성되면 출력층은 784개의 뉴런을 가져야 하고 그 바로 위의 은닉층은 100개의 뉴런을 가져야 합니다. 입력의 다음층과 출력 이전층은 뉴런의 개수가 같아야 합니다.\n",
        "- 적층 오토 인코더는 잘만들어졌는지 확인하기 위한것입니다.\n",
        "\n",
        "\n",
        "## 패션 MNIST데이터를 가지고 적층 오토 인코더 만들기\n",
        "\n",
        "#### 데이터 생성\n",
        "- Fasion MNIST 데이터를 이용해서 적층 오토 인코더 생성\n"
      ],
      "id": "be479d67-84a4-4edc-afb9-ba6934e70a14"
    },
    {
      "cell_type": "code",
      "metadata": {
        "id": "81aebb30-c7f2-4fd1-8b70-c6ca1111c871",
        "outputId": "4fe9e598-a157-4ac5-ece1-485f35037c8e"
      },
      "source": [
        "(X_train_full, y_train_full), (X_test, y_test) = keras.datasets.fashion_mnist.load_data()\n",
        "\n",
        "X_train_full = X_train_full.astype(np.float32) / 255\n",
        "X_test = X_test.astype(np.float32) / 255\n",
        "X_train, X_valid = X_train_full[:-5000], X_train_full[-5000:]\n",
        "y_train, y_valid = y_train_full[:-5000], y_train_full[-5000:]\n"
      ],
      "id": "81aebb30-c7f2-4fd1-8b70-c6ca1111c871",
      "execution_count": null,
      "outputs": [
        {
          "name": "stdout",
          "output_type": "stream",
          "text": [
            "Downloading data from https://storage.googleapis.com/tensorflow/tf-keras-datasets/train-labels-idx1-ubyte.gz\n",
            "32768/29515 [=================================] - 0s 0us/step\n",
            "Downloading data from https://storage.googleapis.com/tensorflow/tf-keras-datasets/train-images-idx3-ubyte.gz\n",
            "26427392/26421880 [==============================] - 1s 0us/step\n",
            "Downloading data from https://storage.googleapis.com/tensorflow/tf-keras-datasets/t10k-labels-idx1-ubyte.gz\n",
            "8192/5148 [===============================================] - 0s 0us/step\n",
            "Downloading data from https://storage.googleapis.com/tensorflow/tf-keras-datasets/t10k-images-idx3-ubyte.gz\n",
            "4423680/4422102 [==============================] - 0s 0us/step\n"
          ]
        }
      ]
    },
    {
      "cell_type": "code",
      "metadata": {
        "id": "c9eb40ca-5ccc-41f0-9dd9-4be54fed377c"
      },
      "source": [
        "def rounded_accuracy(y_true, y_pred):\n",
        "    return keras.metrics.binary_accuracy(tf.round(y_true), tf.round(y_pred))"
      ],
      "id": "c9eb40ca-5ccc-41f0-9dd9-4be54fed377c",
      "execution_count": null,
      "outputs": []
    },
    {
      "cell_type": "code",
      "metadata": {
        "scrolled": true,
        "tags": [],
        "id": "6d6843d7-5856-4166-9a55-f2b118fb0837",
        "outputId": "ace347da-708c-48cc-9e16-93301e179fc1"
      },
      "source": [
        "import tensorflow as tf\n",
        "from tensorflow import keras\n",
        "\n",
        "np.random.seed(42)\n",
        "tf.random.set_seed(42)\n",
        "\n",
        "# 3개의 차원을 받아 2개로 만듦\n",
        "encoder = keras.models.Sequential(\n",
        "    [keras.layers.Flatten(input_shape = [28, 28]),\n",
        "     # 층을 많이 만들수록 성능은 좋아집니다.\n",
        "     keras.layers.Dense(100, activation='selu'),\n",
        "     keras.layers.Dense(30, activation='selu')])\n",
        "\n",
        "decoder = keras.models.Sequential(\n",
        "    [keras.layers.Dense(100, activation='selu', input_shape=[30]),\n",
        "    keras.layers.Dense(28 * 28, activation='sigmoid'),\n",
        "     keras.layers.Reshape([28, 28])])\n",
        "\n",
        "autoencoder = keras.models.Sequential([encoder, decoder])\n",
        "\n",
        "# PCA의 경우는 mse이지만 이번엔 binary_crossentroypy입니다.\n",
        "autoencoder.compile(loss='binary_crossentropy', optimizer=keras.optimizers.SGD(lr=1.5),\n",
        "                   metrics=[rounded_accuracy])\n",
        "\n",
        "history = autoencoder.fit(X_train, X_train, epochs=20, validation_data=(X_valid, X_valid))"
      ],
      "id": "6d6843d7-5856-4166-9a55-f2b118fb0837",
      "execution_count": null,
      "outputs": [
        {
          "name": "stdout",
          "output_type": "stream",
          "text": [
            "Epoch 1/20\n",
            "1719/1719 [==============================] - 10s 5ms/step - loss: 0.3381 - rounded_accuracy: 0.8870 - val_loss: 0.3166 - val_rounded_accuracy: 0.9002\n",
            "Epoch 2/20\n",
            "1719/1719 [==============================] - 10s 6ms/step - loss: 0.3056 - rounded_accuracy: 0.9152 - val_loss: 0.3021 - val_rounded_accuracy: 0.9198\n",
            "Epoch 3/20\n",
            "1719/1719 [==============================] - 8s 5ms/step - loss: 0.2986 - rounded_accuracy: 0.9216 - val_loss: 0.2986 - val_rounded_accuracy: 0.9198\n",
            "Epoch 4/20\n",
            "1719/1719 [==============================] - 10s 6ms/step - loss: 0.2948 - rounded_accuracy: 0.9249 - val_loss: 0.2938 - val_rounded_accuracy: 0.9286\n",
            "Epoch 5/20\n",
            "1719/1719 [==============================] - 8s 5ms/step - loss: 0.2923 - rounded_accuracy: 0.9272 - val_loss: 0.2919 - val_rounded_accuracy: 0.9286\n",
            "Epoch 6/20\n",
            "1719/1719 [==============================] - 8s 5ms/step - loss: 0.2904 - rounded_accuracy: 0.9289 - val_loss: 0.2915 - val_rounded_accuracy: 0.9305\n",
            "Epoch 7/20\n",
            "1719/1719 [==============================] - 9s 5ms/step - loss: 0.2890 - rounded_accuracy: 0.9301 - val_loss: 0.2907 - val_rounded_accuracy: 0.9279\n",
            "Epoch 8/20\n",
            "1719/1719 [==============================] - 9s 5ms/step - loss: 0.2877 - rounded_accuracy: 0.9313 - val_loss: 0.2966 - val_rounded_accuracy: 0.9278\n",
            "Epoch 9/20\n",
            "1719/1719 [==============================] - 9s 5ms/step - loss: 0.2869 - rounded_accuracy: 0.9321 - val_loss: 0.2906 - val_rounded_accuracy: 0.9257\n",
            "Epoch 10/20\n",
            "1719/1719 [==============================] - 8s 5ms/step - loss: 0.2859 - rounded_accuracy: 0.9330 - val_loss: 0.2877 - val_rounded_accuracy: 0.9309\n",
            "Epoch 11/20\n",
            "1719/1719 [==============================] - 8s 5ms/step - loss: 0.2851 - rounded_accuracy: 0.9337 - val_loss: 0.2866 - val_rounded_accuracy: 0.9347\n",
            "Epoch 12/20\n",
            "1719/1719 [==============================] - 8s 5ms/step - loss: 0.2845 - rounded_accuracy: 0.9341 - val_loss: 0.2856 - val_rounded_accuracy: 0.9356\n",
            "Epoch 13/20\n",
            "1719/1719 [==============================] - 8s 5ms/step - loss: 0.2839 - rounded_accuracy: 0.9346 - val_loss: 0.2847 - val_rounded_accuracy: 0.9354\n",
            "Epoch 14/20\n",
            "1719/1719 [==============================] - 9s 5ms/step - loss: 0.2835 - rounded_accuracy: 0.9350 - val_loss: 0.2845 - val_rounded_accuracy: 0.9365\n",
            "Epoch 15/20\n",
            "1719/1719 [==============================] - 7s 4ms/step - loss: 0.2830 - rounded_accuracy: 0.9355 - val_loss: 0.2841 - val_rounded_accuracy: 0.9354\n",
            "Epoch 16/20\n",
            "1719/1719 [==============================] - 10s 6ms/step - loss: 0.2826 - rounded_accuracy: 0.9358 - val_loss: 0.2845 - val_rounded_accuracy: 0.9355\n",
            "Epoch 17/20\n",
            "1719/1719 [==============================] - 8s 4ms/step - loss: 0.2823 - rounded_accuracy: 0.9360 - val_loss: 0.2835 - val_rounded_accuracy: 0.9363\n",
            "Epoch 18/20\n",
            "1719/1719 [==============================] - 7s 4ms/step - loss: 0.2819 - rounded_accuracy: 0.9363 - val_loss: 0.2831 - val_rounded_accuracy: 0.9364\n",
            "Epoch 19/20\n",
            "1719/1719 [==============================] - 6s 4ms/step - loss: 0.2816 - rounded_accuracy: 0.9365 - val_loss: 0.2827 - val_rounded_accuracy: 0.9374\n",
            "Epoch 20/20\n",
            "1719/1719 [==============================] - 7s 4ms/step - loss: 0.2813 - rounded_accuracy: 0.9367 - val_loss: 0.2840 - val_rounded_accuracy: 0.9367\n"
          ]
        }
      ]
    },
    {
      "cell_type": "markdown",
      "metadata": {
        "id": "3a3c7a96-4f41-4003-997d-9d047108041b"
      },
      "source": [
        "## Auto Encdoer가 만든 데이터 시각화"
      ],
      "id": "3a3c7a96-4f41-4003-997d-9d047108041b"
    },
    {
      "cell_type": "code",
      "metadata": {
        "id": "c2ccfb4b-c880-4d78-9fba-9ddec2fa44bf",
        "outputId": "153de40b-45ac-4f80-fce7-e5363653f9c3"
      },
      "source": [
        "import matplotlib.pyplot as plt\n",
        "\n",
        "def plot_image(image):\n",
        "    plt.imshow(image, cmap='binary')\n",
        "    plt.axis('off')\n",
        "\n",
        "def show_reconstructions(model, images=X_valid, n_images=5):\n",
        "    # 재구성된 이미지 데이터\n",
        "    recounstructions = model.predict(images[:n_images])\n",
        "    flg = plt.figure(figsize=(n_images * 1.5, 3))\n",
        "    for image_index in range(n_images):\n",
        "        plt.subplot(2, n_images, 1+image_index)\n",
        "        plot_image(images[image_index])\n",
        "        \n",
        "        plt.subplot(2, n_images, 1+n_images + image_index)\n",
        "        plot_image(images[image_index])\n",
        "        \n",
        "show_reconstructions(autoencoder)"
      ],
      "id": "c2ccfb4b-c880-4d78-9fba-9ddec2fa44bf",
      "execution_count": null,
      "outputs": [
        {
          "data": {
            "image/png": "[encoded data removed]",
            "text/plain": [
              "<Figure size 540x216 with 10 Axes>"
            ]
          },
          "metadata": {
            "needs_background": "light"
          },
          "output_type": "display_data"
        }
      ]
    },
    {
      "cell_type": "markdown",
      "metadata": {
        "id": "1f43172e-f880-484b-8534-288394d351ee"
      },
      "source": [
        "- 차원 축소의 결과를 출력할 때 auto encoder를 이용하면 훨씬 보기 좋은 형태를 만들 수 있습니다.\n",
        "- auto encoder가 분류모델을 잘 설명할 수 있으므로 PCA를 할 때 이용해보면 됩니다. "
      ],
      "id": "1f43172e-f880-484b-8534-288394d351ee"
    },
    {
      "cell_type": "code",
      "metadata": {
        "id": "6f6a00a8-1e1e-45a8-99ed-b3fc3f3e890d"
      },
      "source": [
        ""
      ],
      "id": "6f6a00a8-1e1e-45a8-99ed-b3fc3f3e890d",
      "execution_count": null,
      "outputs": []
    }
  ]
}